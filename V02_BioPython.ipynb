{
 "cells": [
  {
   "cell_type": "markdown",
   "id": "decent-dealer",
   "metadata": {},
   "source": [
    "# Setup "
   ]
  },
  {
   "cell_type": "markdown",
   "id": "written-teacher",
   "metadata": {},
   "source": [
    "## Import packages "
   ]
  },
  {
   "cell_type": "code",
   "execution_count": 63,
   "id": "outstanding-venture",
   "metadata": {
    "execution": {
     "iopub.execute_input": "2021-04-30T05:25:38.208820Z",
     "iopub.status.busy": "2021-04-30T05:25:38.208622Z",
     "iopub.status.idle": "2021-04-30T05:25:38.211749Z",
     "shell.execute_reply": "2021-04-30T05:25:38.211190Z",
     "shell.execute_reply.started": "2021-04-30T05:25:38.208801Z"
    },
    "tags": []
   },
   "outputs": [],
   "source": [
    "# General \n",
    "import os \n",
    "import numpy as np\n",
    "# For running bash scripts from inside python ... \n",
    "import subprocess\n",
    "# For manipulating string objects \n",
    "import re\n",
    "# for generating any necessary directories\n",
    "import pathlib "
   ]
  },
  {
   "cell_type": "code",
   "execution_count": 2,
   "id": "dental-scanner",
   "metadata": {
    "execution": {
     "iopub.execute_input": "2021-04-30T03:16:47.994996Z",
     "iopub.status.busy": "2021-04-30T03:16:47.994773Z",
     "iopub.status.idle": "2021-04-30T03:16:48.030143Z",
     "shell.execute_reply": "2021-04-30T03:16:48.029403Z",
     "shell.execute_reply.started": "2021-04-30T03:16:47.994975Z"
    },
    "tags": []
   },
   "outputs": [],
   "source": [
    "# For working with sequence objects \n",
    "from Bio.Seq import Seq"
   ]
  },
  {
   "cell_type": "code",
   "execution_count": 3,
   "id": "clinical-hospital",
   "metadata": {
    "execution": {
     "iopub.execute_input": "2021-04-30T03:16:48.031456Z",
     "iopub.status.busy": "2021-04-30T03:16:48.031266Z",
     "iopub.status.idle": "2021-04-30T03:16:48.053459Z",
     "shell.execute_reply": "2021-04-30T03:16:48.052874Z",
     "shell.execute_reply.started": "2021-04-30T03:16:48.031438Z"
    }
   },
   "outputs": [],
   "source": [
    "# For fetching sequences from Entrez \n",
    "from Bio import Entrez\n",
    "from Bio import SeqIO"
   ]
  },
  {
   "cell_type": "code",
   "execution_count": 4,
   "id": "serial-riding",
   "metadata": {
    "execution": {
     "iopub.execute_input": "2021-04-30T03:16:48.054681Z",
     "iopub.status.busy": "2021-04-30T03:16:48.054479Z",
     "iopub.status.idle": "2021-04-30T03:16:48.057665Z",
     "shell.execute_reply": "2021-04-30T03:16:48.057053Z",
     "shell.execute_reply.started": "2021-04-30T03:16:48.054662Z"
    },
    "tags": []
   },
   "outputs": [],
   "source": [
    "# For extracting features \n",
    "from Bio.SeqFeature import SeqFeature, FeatureLocation\n",
    "# For creating SeqRecord objects \n",
    "from Bio.SeqRecord import SeqRecord"
   ]
  },
  {
   "cell_type": "markdown",
   "id": "advised-montgomery",
   "metadata": {},
   "source": [
    "## Misc"
   ]
  },
  {
   "cell_type": "code",
   "execution_count": 5,
   "id": "resistant-smith",
   "metadata": {
    "execution": {
     "iopub.execute_input": "2021-04-30T03:16:48.058701Z",
     "iopub.status.busy": "2021-04-30T03:16:48.058512Z",
     "iopub.status.idle": "2021-04-30T03:16:48.072406Z",
     "shell.execute_reply": "2021-04-30T03:16:48.071710Z",
     "shell.execute_reply.started": "2021-04-30T03:16:48.058684Z"
    }
   },
   "outputs": [],
   "source": [
    "Entrez.email = \"kehaliwoldemichael@gmail.com\"  # Always tell NCBI who you are"
   ]
  },
  {
   "cell_type": "markdown",
   "id": "virgin-vulnerability",
   "metadata": {},
   "source": [
    "# Functions "
   ]
  },
  {
   "cell_type": "markdown",
   "id": "rotary-sense",
   "metadata": {},
   "source": [
    "## Sequence"
   ]
  },
  {
   "cell_type": "code",
   "execution_count": 6,
   "id": "annoying-peoples",
   "metadata": {
    "execution": {
     "iopub.execute_input": "2021-04-30T03:16:48.073307Z",
     "iopub.status.busy": "2021-04-30T03:16:48.073124Z",
     "iopub.status.idle": "2021-04-30T03:16:48.091438Z",
     "shell.execute_reply": "2021-04-30T03:16:48.090966Z",
     "shell.execute_reply.started": "2021-04-30T03:16:48.073285Z"
    },
    "tags": []
   },
   "outputs": [],
   "source": [
    "def seq_returnEntrez(sequenceID, retType):\n",
    "    with Entrez.efetch(\n",
    "        db=\"nucleotide\", rettype=retType, retmode=\"text\", id=sequenceID\n",
    "    ) as handle:\n",
    "        seqRecord = SeqIO.read(handle, \"gb\")  # using \"gb\" as an alias for \"genbank\"\n",
    "        \n",
    "    handle = Entrez.efetch(db=\"nucleotide\", id=sequenceID, rettype=retType, retmode=\"text\")\n",
    "    \n",
    "    return seqRecord, handle "
   ]
  },
  {
   "cell_type": "markdown",
   "id": "productive-highway",
   "metadata": {},
   "source": [
    "## Metrics "
   ]
  },
  {
   "cell_type": "code",
   "execution_count": 7,
   "id": "single-african",
   "metadata": {
    "execution": {
     "iopub.execute_input": "2021-04-30T03:16:48.092234Z",
     "iopub.status.busy": "2021-04-30T03:16:48.092073Z",
     "iopub.status.idle": "2021-04-30T03:16:48.117051Z",
     "shell.execute_reply": "2021-04-30T03:16:48.116608Z",
     "shell.execute_reply.started": "2021-04-30T03:16:48.092217Z"
    },
    "tags": []
   },
   "outputs": [],
   "source": [
    "# Returns GC content \n",
    "def metric_gcContent(sequence):\n",
    "    return (sequence.count(\"G\") + sequence.count(\"C\"))/(len(sequence))"
   ]
  },
  {
   "cell_type": "code",
   "execution_count": null,
   "id": "voluntary-opening",
   "metadata": {},
   "outputs": [],
   "source": []
  },
  {
   "cell_type": "markdown",
   "id": "proper-budget",
   "metadata": {},
   "source": [
    "# Sequence"
   ]
  },
  {
   "cell_type": "markdown",
   "id": "dramatic-kidney",
   "metadata": {},
   "source": [
    "## Loading sequences "
   ]
  },
  {
   "cell_type": "code",
   "execution_count": 8,
   "id": "favorite-labor",
   "metadata": {
    "execution": {
     "iopub.execute_input": "2021-04-30T03:16:48.118450Z",
     "iopub.status.busy": "2021-04-30T03:16:48.118289Z",
     "iopub.status.idle": "2021-04-30T03:16:48.139475Z",
     "shell.execute_reply": "2021-04-30T03:16:48.138740Z",
     "shell.execute_reply.started": "2021-04-30T03:16:48.118432Z"
    },
    "tags": []
   },
   "outputs": [
    {
     "data": {
      "text/plain": [
       "'/home/user1/Dropbox/Research/Neurobiology_PhD/Rotations/Huang/Projects/CellReadR/Code/Output/biomaRt/Reverse_Fezf2.fasta'"
      ]
     },
     "execution_count": 8,
     "metadata": {},
     "output_type": "execute_result"
    }
   ],
   "source": [
    "geneName = 'Fezf2'\n",
    "fileName = os.getcwd() + '/Output/biomaRt/Reverse_' + geneName + '.fasta'\n",
    "fileName"
   ]
  },
  {
   "cell_type": "code",
   "execution_count": 9,
   "id": "solved-rendering",
   "metadata": {
    "execution": {
     "iopub.execute_input": "2021-04-30T03:16:48.141520Z",
     "iopub.status.busy": "2021-04-30T03:16:48.141197Z",
     "iopub.status.idle": "2021-04-30T03:16:48.158968Z",
     "shell.execute_reply": "2021-04-30T03:16:48.158279Z",
     "shell.execute_reply.started": "2021-04-30T03:16:48.141490Z"
    },
    "tags": []
   },
   "outputs": [
    {
     "data": {
      "text/plain": [
       "[SeqRecord(seq=Seq('TAGTGGTTCTGTTTATTGAGTCATATATGTGTAATATTCCGTGTTCGCTTGTAC...TCC'), id='Fezf2', name='Fezf2', description='Fezf2', dbxrefs=[]),\n",
       " SeqRecord(seq=Seq('CTTTTTCCCCCACCGCCAAGGAGATGCGTTCCGAGCCATGCAGCGTGTCTCTTC...CTA'), id='Fezf2', name='Fezf2', description='Fezf2', dbxrefs=[]),\n",
       " SeqRecord(seq=Seq('CTTGCCGCACACTTCGCAGGTGAAGTTTTTGGGTTTGCTGTCAGTAGAGCCCCC...AGT'), id='Fezf2', name='Fezf2', description='Fezf2', dbxrefs=[])]"
      ]
     },
     "execution_count": 9,
     "metadata": {},
     "output_type": "execute_result"
    }
   ],
   "source": [
    "# Loading sequences for gene exons \n",
    "exon_records = list(SeqIO.parse(fileName, \"fasta\"))\n",
    "exon_records  "
   ]
  },
  {
   "cell_type": "code",
   "execution_count": 10,
   "id": "saving-priority",
   "metadata": {
    "execution": {
     "iopub.execute_input": "2021-04-30T03:16:48.160083Z",
     "iopub.status.busy": "2021-04-30T03:16:48.159816Z",
     "iopub.status.idle": "2021-04-30T03:16:48.170753Z",
     "shell.execute_reply": "2021-04-30T03:16:48.170002Z",
     "shell.execute_reply.started": "2021-04-30T03:16:48.160057Z"
    },
    "tags": []
   },
   "outputs": [
    {
     "data": {
      "text/plain": [
       "890"
      ]
     },
     "execution_count": 10,
     "metadata": {},
     "output_type": "execute_result"
    }
   ],
   "source": [
    "len(exon_records[2].seq)"
   ]
  },
  {
   "cell_type": "code",
   "execution_count": 11,
   "id": "sacred-discrimination",
   "metadata": {
    "execution": {
     "iopub.execute_input": "2021-04-30T03:16:48.172339Z",
     "iopub.status.busy": "2021-04-30T03:16:48.172003Z",
     "iopub.status.idle": "2021-04-30T03:16:48.191840Z",
     "shell.execute_reply": "2021-04-30T03:16:48.191241Z",
     "shell.execute_reply.started": "2021-04-30T03:16:48.172302Z"
    },
    "tags": []
   },
   "outputs": [],
   "source": [
    "seq_record = exon_records[2]"
   ]
  },
  {
   "cell_type": "code",
   "execution_count": 12,
   "id": "separated-diving",
   "metadata": {
    "execution": {
     "iopub.execute_input": "2021-04-30T03:16:48.192667Z",
     "iopub.status.busy": "2021-04-30T03:16:48.192509Z",
     "iopub.status.idle": "2021-04-30T03:16:48.212682Z",
     "shell.execute_reply": "2021-04-30T03:16:48.211929Z",
     "shell.execute_reply.started": "2021-04-30T03:16:48.192651Z"
    },
    "tags": []
   },
   "outputs": [
    {
     "data": {
      "text/plain": [
       "0.6348314606741573"
      ]
     },
     "execution_count": 12,
     "metadata": {},
     "output_type": "execute_result"
    }
   ],
   "source": [
    "metric_gcContent(seq_record.seq)"
   ]
  },
  {
   "cell_type": "markdown",
   "id": "lonely-webmaster",
   "metadata": {},
   "source": [
    "## Selecting sensor "
   ]
  },
  {
   "cell_type": "code",
   "execution_count": 13,
   "id": "passing-heart",
   "metadata": {
    "execution": {
     "iopub.execute_input": "2021-04-30T03:16:48.213985Z",
     "iopub.status.busy": "2021-04-30T03:16:48.213714Z",
     "iopub.status.idle": "2021-04-30T03:16:48.237905Z",
     "shell.execute_reply": "2021-04-30T03:16:48.237234Z",
     "shell.execute_reply.started": "2021-04-30T03:16:48.213954Z"
    },
    "tags": []
   },
   "outputs": [
    {
     "data": {
      "text/plain": [
       "SeqRecord(seq=Seq('CTTGCCGCACACTTCGCAGGTGAAGTTTTTGGGTTTGCTGTCAGTAGAGCCCCC...AGT'), id='Fezf2', name='Fezf2', description='Fezf2', dbxrefs=[])"
      ]
     },
     "execution_count": 13,
     "metadata": {},
     "output_type": "execute_result"
    }
   ],
   "source": [
    "seq_record"
   ]
  },
  {
   "cell_type": "code",
   "execution_count": 14,
   "id": "exclusive-intranet",
   "metadata": {
    "execution": {
     "iopub.execute_input": "2021-04-30T03:16:48.238819Z",
     "iopub.status.busy": "2021-04-30T03:16:48.238638Z",
     "iopub.status.idle": "2021-04-30T03:16:48.257117Z",
     "shell.execute_reply": "2021-04-30T03:16:48.256539Z",
     "shell.execute_reply.started": "2021-04-30T03:16:48.238800Z"
    },
    "tags": []
   },
   "outputs": [
    {
     "data": {
      "text/plain": [
       "890"
      ]
     },
     "execution_count": 14,
     "metadata": {},
     "output_type": "execute_result"
    }
   ],
   "source": [
    "seq = seq_record.seq\n",
    "len(seq)"
   ]
  },
  {
   "cell_type": "code",
   "execution_count": 82,
   "id": "european-november",
   "metadata": {
    "execution": {
     "iopub.execute_input": "2021-04-30T08:29:00.598037Z",
     "iopub.status.busy": "2021-04-30T08:29:00.597785Z",
     "iopub.status.idle": "2021-04-30T08:29:00.605425Z",
     "shell.execute_reply": "2021-04-30T08:29:00.604644Z",
     "shell.execute_reply.started": "2021-04-30T08:29:00.598016Z"
    },
    "tags": []
   },
   "outputs": [],
   "source": [
    "def check_sesRNA(sequence, length):\n",
    "    start = 0\n",
    "    center = length/2\n",
    "    \n",
    "    global numPass, total, numTGG  \n",
    "    numPass = 0 \n",
    "    total = 0 \n",
    "    numTGG = []\n",
    "    \n",
    "    sesSeq = []\n",
    "    \n",
    "    while(start <= (len(seq) - length)):\n",
    "        # Defining current sub-sequence to process \n",
    "        subsequence = seq[start:(start+length)]\n",
    "        \n",
    "        # Genrating index of any stop codons \n",
    "        stopCodons = ['TAG', 'TAA', 'TGA']\n",
    "        indiciesStop = []\n",
    "        for codons in stopCodons:\n",
    "            indiciesStop.extend([m.start() for m in re.finditer(codons, str(subsequence))])\n",
    "        \n",
    "        # GC content \n",
    "        gcContent = metric_gcContent(subsequence)*100\n",
    "        # Index of last ATG and TGG \n",
    "        lastATG = 0 \n",
    "        if(subsequence.count('ATG') != 0):\n",
    "            lastATG = [m.start() for m in re.finditer('ATG', str(subsequence))][-1]\n",
    "        lastTGG = [m.start() for m in re.finditer('TGG', str(subsequence))][-1]\n",
    "        # Getting indicies of TGG \n",
    "        indiciesTGG = [m.start() for m in re.finditer('TGG', str(subsequence))]\n",
    "        # Generating arrays indicies for TGGs and stop codons \n",
    "        arrayStop = np.array(indiciesStop)\n",
    "        arrayIndicies = np.array(indiciesTGG) \n",
    "        centralTGGs = arrayIndicies[abs(arrayIndicies - center) < 10]\n",
    "        \n",
    "        numATG = subsequence.count('ATG')\n",
    "        \n",
    "        # Only proceed if passed \n",
    "        cond1 = len(indiciesStop) < 4 \n",
    "        cond2 = gcContent > 40\n",
    "        cond3 = gcContent < 65\n",
    "        \n",
    "        \n",
    "        cond4 = lastATG < lastTGG \n",
    "        # cond4 = numATG == 0\n",
    "        # Checking if TGG near center of subsequence \n",
    "        cond5 = any(abs(x - center) < 10 for x in indiciesTGG)\n",
    "        # Checking if any central array is more than 10 by away from stop  \n",
    "        cond6 = any((min(abs(arrayStop - i)) >= 20) for i in centralTGGs)\n",
    "        \n",
    "        if(cond1 & cond2 & cond3 & cond4 & cond5 & cond6):\n",
    "            numPass += 1\n",
    "            numTGG.append(subsequence.count('TGG'))\n",
    "            sesSeq.append(subsequence)\n",
    "            \n",
    "        total += 1 \n",
    "        # Updating start index \n",
    "        start += 1 \n",
    "    \n",
    "    return sesSeq"
   ]
  },
  {
   "cell_type": "code",
   "execution_count": 83,
   "id": "random-appeal",
   "metadata": {
    "execution": {
     "iopub.execute_input": "2021-04-30T08:29:01.073071Z",
     "iopub.status.busy": "2021-04-30T08:29:01.072312Z",
     "iopub.status.idle": "2021-04-30T08:29:01.082949Z",
     "shell.execute_reply": "2021-04-30T08:29:01.081394Z",
     "shell.execute_reply.started": "2021-04-30T08:29:01.072997Z"
    },
    "tags": []
   },
   "outputs": [
    {
     "data": {
      "text/plain": [
       "11"
      ]
     },
     "execution_count": 83,
     "metadata": {},
     "output_type": "execute_result"
    }
   ],
   "source": [
    "seq.count('ATG')"
   ]
  },
  {
   "cell_type": "code",
   "execution_count": 84,
   "id": "caroline-russian",
   "metadata": {
    "execution": {
     "iopub.execute_input": "2021-04-30T08:29:01.464626Z",
     "iopub.status.busy": "2021-04-30T08:29:01.464387Z",
     "iopub.status.idle": "2021-04-30T08:29:01.490814Z",
     "shell.execute_reply": "2021-04-30T08:29:01.490183Z",
     "shell.execute_reply.started": "2021-04-30T08:29:01.464607Z"
    },
    "tags": []
   },
   "outputs": [],
   "source": [
    "sesRNAs = check_sesRNA(seq, 204)"
   ]
  },
  {
   "cell_type": "code",
   "execution_count": 85,
   "id": "canadian-disabled",
   "metadata": {
    "execution": {
     "iopub.execute_input": "2021-04-30T08:29:01.948832Z",
     "iopub.status.busy": "2021-04-30T08:29:01.948442Z",
     "iopub.status.idle": "2021-04-30T08:29:01.960398Z",
     "shell.execute_reply": "2021-04-30T08:29:01.958346Z",
     "shell.execute_reply.started": "2021-04-30T08:29:01.948794Z"
    },
    "tags": []
   },
   "outputs": [
    {
     "data": {
      "text/plain": [
       "27"
      ]
     },
     "execution_count": 85,
     "metadata": {},
     "output_type": "execute_result"
    }
   ],
   "source": [
    "len(sesRNAs)"
   ]
  },
  {
   "cell_type": "code",
   "execution_count": 18,
   "id": "verbal-england",
   "metadata": {
    "execution": {
     "iopub.execute_input": "2021-04-30T03:16:48.357774Z",
     "iopub.status.busy": "2021-04-30T03:16:48.357496Z",
     "iopub.status.idle": "2021-04-30T03:16:48.374406Z",
     "shell.execute_reply": "2021-04-30T03:16:48.373626Z",
     "shell.execute_reply.started": "2021-04-30T03:16:48.357750Z"
    },
    "scrolled": true,
    "tags": []
   },
   "outputs": [
    {
     "data": {
      "text/plain": [
       "[8,\n",
       " 8,\n",
       " 9,\n",
       " 9,\n",
       " 9,\n",
       " 9,\n",
       " 9,\n",
       " 9,\n",
       " 9,\n",
       " 9,\n",
       " 9,\n",
       " 9,\n",
       " 9,\n",
       " 9,\n",
       " 9,\n",
       " 9,\n",
       " 9,\n",
       " 9,\n",
       " 9,\n",
       " 9,\n",
       " 9,\n",
       " 10,\n",
       " 10,\n",
       " 10,\n",
       " 11,\n",
       " 11,\n",
       " 11]"
      ]
     },
     "execution_count": 18,
     "metadata": {},
     "output_type": "execute_result"
    }
   ],
   "source": [
    "numTGG"
   ]
  },
  {
   "cell_type": "code",
   "execution_count": 19,
   "id": "exciting-twenty",
   "metadata": {
    "execution": {
     "iopub.execute_input": "2021-04-30T03:16:48.376295Z",
     "iopub.status.busy": "2021-04-30T03:16:48.376015Z",
     "iopub.status.idle": "2021-04-30T03:16:48.393644Z",
     "shell.execute_reply": "2021-04-30T03:16:48.392989Z",
     "shell.execute_reply.started": "2021-04-30T03:16:48.376271Z"
    },
    "tags": []
   },
   "outputs": [
    {
     "data": {
      "text/plain": [
       "687"
      ]
     },
     "execution_count": 19,
     "metadata": {},
     "output_type": "execute_result"
    }
   ],
   "source": [
    "total "
   ]
  },
  {
   "cell_type": "code",
   "execution_count": 20,
   "id": "based-bloom",
   "metadata": {
    "execution": {
     "iopub.execute_input": "2021-04-30T03:16:48.394867Z",
     "iopub.status.busy": "2021-04-30T03:16:48.394582Z",
     "iopub.status.idle": "2021-04-30T03:16:48.413830Z",
     "shell.execute_reply": "2021-04-30T03:16:48.413154Z",
     "shell.execute_reply.started": "2021-04-30T03:16:48.394839Z"
    },
    "tags": []
   },
   "outputs": [
    {
     "data": {
      "text/plain": [
       "'CTCGTTCAGCGGTCAAGGCCGAGTTCTCCTTCAGCACCTGCTCCAGCGGCGCATGCAAGCGCTCCTTATGGGGATAGGAAGCTGGGTGGGGGAACTTGTCCGCAGTCAGGCTGGCCAGTTTGGCATTCTCCAGCAGAAAAAGCTTGGGGTGAGCAGCCAGGGAAGTGGGGGCCTGTGCGTTGAGGAGGCCAGATGGGAAAAGGT'"
      ]
     },
     "execution_count": 20,
     "metadata": {},
     "output_type": "execute_result"
    }
   ],
   "source": [
    "str(sesRNAs[0])"
   ]
  },
  {
   "cell_type": "code",
   "execution_count": 21,
   "id": "affiliated-minimum",
   "metadata": {
    "execution": {
     "iopub.execute_input": "2021-04-30T03:16:48.415187Z",
     "iopub.status.busy": "2021-04-30T03:16:48.414877Z",
     "iopub.status.idle": "2021-04-30T03:16:48.441306Z",
     "shell.execute_reply": "2021-04-30T03:16:48.438657Z",
     "shell.execute_reply.started": "2021-04-30T03:16:48.415158Z"
    },
    "scrolled": true,
    "tags": []
   },
   "outputs": [
    {
     "name": "stdout",
     "output_type": "stream",
     "text": [
      "201\n",
      "204\n",
      "207\n",
      "210\n",
      "213\n",
      "216\n",
      "219\n",
      "222\n",
      "225\n",
      "228\n",
      "231\n",
      "234\n",
      "237\n",
      "240\n",
      "243\n",
      "246\n",
      "249\n",
      "252\n",
      "255\n",
      "258\n",
      "261\n",
      "264\n",
      "267\n",
      "270\n",
      "273\n",
      "276\n",
      "279\n",
      "282\n",
      "285\n",
      "288\n",
      "291\n",
      "294\n",
      "297\n"
     ]
    }
   ],
   "source": [
    "for i in range(200, 300):\n",
    "    if(i%3 == 0):\n",
    "        print(i)"
   ]
  },
  {
   "cell_type": "code",
   "execution_count": null,
   "id": "tropical-concord",
   "metadata": {},
   "outputs": [],
   "source": []
  },
  {
   "cell_type": "code",
   "execution_count": null,
   "id": "yellow-organic",
   "metadata": {},
   "outputs": [],
   "source": []
  },
  {
   "cell_type": "markdown",
   "id": "breeding-court",
   "metadata": {},
   "source": [
    "## Outputing sesRNA"
   ]
  },
  {
   "cell_type": "code",
   "execution_count": 22,
   "id": "pending-ecology",
   "metadata": {
    "execution": {
     "iopub.execute_input": "2021-04-30T03:16:48.442442Z",
     "iopub.status.busy": "2021-04-30T03:16:48.442179Z",
     "iopub.status.idle": "2021-04-30T03:16:48.460873Z",
     "shell.execute_reply": "2021-04-30T03:16:48.460258Z",
     "shell.execute_reply.started": "2021-04-30T03:16:48.442414Z"
    },
    "tags": []
   },
   "outputs": [],
   "source": [
    "# Generating BioPython directory if does not exist \n",
    "pathlib.Path('Output/BioPython').mkdir(parents=True, exist_ok=True)\n",
    "\n",
    "# Generate SeqRecord object for each sequence and append to list \n",
    "outputID = geneName + '_sesRNA'\n",
    "outputDescription = \"sesRNA for Fezf2\"\n",
    "outputSeqMulti = []\n",
    "for i in sesRNAs:\n",
    "    outputSeqMulti.append(SeqRecord(i, id = outputID, description = outputDescription))\n",
    "    \n",
    "# Write output fasta files \n",
    "outputName = \"Output/BioPython/Fezf2_sesRNA_V3.fasta\"\n",
    "with open(outputName, \"w\") as output_handle:\n",
    "    SeqIO.write(outputSeqMulti, output_handle, \"fasta\")"
   ]
  },
  {
   "cell_type": "code",
   "execution_count": 23,
   "id": "protecting-hunter",
   "metadata": {
    "execution": {
     "iopub.execute_input": "2021-04-30T03:16:48.462753Z",
     "iopub.status.busy": "2021-04-30T03:16:48.462526Z",
     "iopub.status.idle": "2021-04-30T03:16:48.500797Z",
     "shell.execute_reply": "2021-04-30T03:16:48.500238Z",
     "shell.execute_reply.started": "2021-04-30T03:16:48.462729Z"
    },
    "tags": []
   },
   "outputs": [
    {
     "data": {
      "text/plain": [
       "27"
      ]
     },
     "execution_count": 23,
     "metadata": {},
     "output_type": "execute_result"
    }
   ],
   "source": [
    "len(sesRNAs)"
   ]
  },
  {
   "cell_type": "code",
   "execution_count": 26,
   "id": "moral-rubber",
   "metadata": {
    "execution": {
     "iopub.execute_input": "2021-04-30T04:52:49.728664Z",
     "iopub.status.busy": "2021-04-30T04:52:49.728435Z",
     "iopub.status.idle": "2021-04-30T04:52:49.732067Z",
     "shell.execute_reply": "2021-04-30T04:52:49.731368Z",
     "shell.execute_reply.started": "2021-04-30T04:52:49.728632Z"
    }
   },
   "outputs": [],
   "source": [
    "# Write output fasta files \n",
    "outputName = \"Output/sesRNA_test.fasta\"\n",
    "with open(outputName, \"w\") as output_handle:\n",
    "    SeqIO.write(outputSeqMulti[0], output_handle, \"fasta\")"
   ]
  },
  {
   "cell_type": "code",
   "execution_count": 27,
   "id": "opposite-fraction",
   "metadata": {
    "execution": {
     "iopub.execute_input": "2021-04-30T04:53:57.240050Z",
     "iopub.status.busy": "2021-04-30T04:53:57.239289Z",
     "iopub.status.idle": "2021-04-30T04:53:57.252032Z",
     "shell.execute_reply": "2021-04-30T04:53:57.250620Z",
     "shell.execute_reply.started": "2021-04-30T04:53:57.239975Z"
    },
    "tags": []
   },
   "outputs": [
    {
     "data": {
      "text/plain": [
       "'CTCGTTCAGCGGTCAAGGCCGAGTTCTCCTTCAGCACCTGCTCCAGCGGCGCATGCAAGCGCTCCTTATGGGGATAGGAAGCTGGGTGGGGGAACTTGTCCGCAGTCAGGCTGGCCAGTTTGGCATTCTCCAGCAGAAAAAGCTTGGGGTGAGCAGCCAGGGAAGTGGGGGCCTGTGCGTTGAGGAGGCCAGATGGGAAAAGGT'"
      ]
     },
     "execution_count": 27,
     "metadata": {},
     "output_type": "execute_result"
    }
   ],
   "source": [
    "str(outputSeqMulti[0].seq)"
   ]
  },
  {
   "cell_type": "code",
   "execution_count": 28,
   "id": "stunning-physiology",
   "metadata": {
    "execution": {
     "iopub.execute_input": "2021-04-30T05:12:27.666092Z",
     "iopub.status.busy": "2021-04-30T05:12:27.665881Z",
     "iopub.status.idle": "2021-04-30T05:12:27.669644Z",
     "shell.execute_reply": "2021-04-30T05:12:27.669207Z",
     "shell.execute_reply.started": "2021-04-30T05:12:27.666075Z"
    }
   },
   "outputs": [
    {
     "data": {
      "text/plain": [
       "'/home/user1/Dropbox/Research/Neurobiology_PhD/Rotations/Huang/Projects/CellReadR/Code'"
      ]
     },
     "execution_count": 28,
     "metadata": {},
     "output_type": "execute_result"
    }
   ],
   "source": [
    "os.getcwd()"
   ]
  },
  {
   "cell_type": "code",
   "execution_count": 34,
   "id": "architectural-cursor",
   "metadata": {
    "execution": {
     "iopub.execute_input": "2021-04-30T05:15:35.938325Z",
     "iopub.status.busy": "2021-04-30T05:15:35.937949Z",
     "iopub.status.idle": "2021-04-30T05:15:35.953977Z",
     "shell.execute_reply": "2021-04-30T05:15:35.953045Z",
     "shell.execute_reply.started": "2021-04-30T05:15:35.938292Z"
    },
    "tags": []
   },
   "outputs": [
    {
     "data": {
      "text/plain": [
       "<Popen: returncode: None args: ['bash', 'c', '. rnaFold_prob.sh']>"
      ]
     },
     "execution_count": 34,
     "metadata": {},
     "output_type": "execute_result"
    }
   ],
   "source": [
    "subprocess.Popen(['bash', 'c', '. rnaFold_prob.sh'])"
   ]
  },
  {
   "cell_type": "code",
   "execution_count": null,
   "id": "talented-flush",
   "metadata": {},
   "outputs": [],
   "source": []
  },
  {
   "cell_type": "markdown",
   "id": "artistic-european",
   "metadata": {},
   "source": [
    "# Secondary structure "
   ]
  },
  {
   "cell_type": "code",
   "execution_count": 61,
   "id": "compound-shopper",
   "metadata": {
    "execution": {
     "iopub.execute_input": "2021-04-30T05:24:44.772408Z",
     "iopub.status.busy": "2021-04-30T05:24:44.772153Z",
     "iopub.status.idle": "2021-04-30T05:24:44.787111Z",
     "shell.execute_reply": "2021-04-30T05:24:44.786210Z",
     "shell.execute_reply.started": "2021-04-30T05:24:44.772390Z"
    },
    "tags": []
   },
   "outputs": [],
   "source": [
    "process = subprocess.Popen(\"./rnaFold_prob.sh\", shell=True, stdout=subprocess.PIPE)\n",
    "subprocess_return = process.stdout.read()"
   ]
  },
  {
   "cell_type": "code",
   "execution_count": 62,
   "id": "fabulous-skill",
   "metadata": {
    "execution": {
     "iopub.execute_input": "2021-04-30T05:24:45.392395Z",
     "iopub.status.busy": "2021-04-30T05:24:45.392010Z",
     "iopub.status.idle": "2021-04-30T05:24:45.397545Z",
     "shell.execute_reply": "2021-04-30T05:24:45.397010Z",
     "shell.execute_reply.started": "2021-04-30T05:24:45.392364Z"
    },
    "tags": []
   },
   "outputs": [
    {
     "data": {
      "text/plain": [
       "0.00195248"
      ]
     },
     "execution_count": 62,
     "metadata": {},
     "output_type": "execute_result"
    }
   ],
   "source": [
    "float(subprocess_return)"
   ]
  },
  {
   "cell_type": "code",
   "execution_count": 64,
   "id": "southern-style",
   "metadata": {
    "execution": {
     "iopub.execute_input": "2021-04-30T06:00:22.298333Z",
     "iopub.status.busy": "2021-04-30T06:00:22.298061Z",
     "iopub.status.idle": "2021-04-30T06:00:22.351165Z",
     "shell.execute_reply": "2021-04-30T06:00:22.350652Z",
     "shell.execute_reply.started": "2021-04-30T06:00:22.298306Z"
    }
   },
   "outputs": [],
   "source": [
    "from seqfold import dg, dg_cache, fold"
   ]
  },
  {
   "cell_type": "code",
   "execution_count": 67,
   "id": "criminal-handling",
   "metadata": {
    "execution": {
     "iopub.execute_input": "2021-04-30T06:00:27.442129Z",
     "iopub.status.busy": "2021-04-30T06:00:27.441882Z",
     "iopub.status.idle": "2021-04-30T06:00:27.562498Z",
     "shell.execute_reply": "2021-04-30T06:00:27.561955Z",
     "shell.execute_reply.started": "2021-04-30T06:00:27.442096Z"
    },
    "tags": []
   },
   "outputs": [
    {
     "data": {
      "text/plain": [
       "-13.4"
      ]
     },
     "execution_count": 67,
     "metadata": {},
     "output_type": "execute_result"
    }
   ],
   "source": [
    "# just returns minimum free energy\n",
    "dg(\"GGGAGGTCGTTACATCTGGGTAACACCGGTACTGATCCGGTGACCTCCC\", temp = 37.0)  # -12.94"
   ]
  },
  {
   "cell_type": "code",
   "execution_count": null,
   "id": "downtown-satin",
   "metadata": {},
   "outputs": [],
   "source": []
  },
  {
   "cell_type": "code",
   "execution_count": null,
   "id": "stretch-genre",
   "metadata": {},
   "outputs": [],
   "source": []
  },
  {
   "cell_type": "code",
   "execution_count": null,
   "id": "current-kelly",
   "metadata": {},
   "outputs": [],
   "source": []
  },
  {
   "cell_type": "markdown",
   "id": "existing-civilian",
   "metadata": {},
   "source": [
    "# Misc"
   ]
  },
  {
   "cell_type": "code",
   "execution_count": null,
   "id": "vulnerable-sweden",
   "metadata": {
    "tags": []
   },
   "outputs": [],
   "source": [
    "# For returning index of findings \n",
    "searchCodon = 'TAG'\n",
    "[m.start() for m in re.finditer(searchCodon, str(seq))]"
   ]
  },
  {
   "cell_type": "code",
   "execution_count": null,
   "id": "maritime-stomach",
   "metadata": {
    "tags": []
   },
   "outputs": [],
   "source": [
    "testSeq = sesRNAs[0]\n",
    "testSeq"
   ]
  },
  {
   "cell_type": "code",
   "execution_count": null,
   "id": "smaller-windows",
   "metadata": {
    "tags": []
   },
   "outputs": [],
   "source": [
    "lastATG = [m.start() for m in re.finditer('ATG', str(testSeq))][-1]\n",
    "lastTGG = [m.start() for m in re.finditer('TGG', str(testSeq))][-1]"
   ]
  },
  {
   "cell_type": "code",
   "execution_count": null,
   "id": "governing-sauce",
   "metadata": {
    "tags": []
   },
   "outputs": [],
   "source": [
    "lastTGG"
   ]
  },
  {
   "cell_type": "code",
   "execution_count": null,
   "id": "heated-belle",
   "metadata": {
    "tags": []
   },
   "outputs": [],
   "source": [
    "lastATG"
   ]
  },
  {
   "cell_type": "code",
   "execution_count": null,
   "id": "baking-piece",
   "metadata": {},
   "outputs": [],
   "source": [
    "lastATG < lastTGG"
   ]
  },
  {
   "cell_type": "code",
   "execution_count": null,
   "id": "painful-discovery",
   "metadata": {
    "tags": []
   },
   "outputs": [],
   "source": [
    "searchCodon = 'ATG'\n",
    "[m.start() for m in re.finditer(searchCodon, str(testSeq))][-1]"
   ]
  },
  {
   "cell_type": "code",
   "execution_count": null,
   "id": "average-intervention",
   "metadata": {
    "tags": []
   },
   "outputs": [],
   "source": [
    "seq.count('TAG') < 4"
   ]
  },
  {
   "cell_type": "code",
   "execution_count": null,
   "id": "sexual-veteran",
   "metadata": {
    "tags": []
   },
   "outputs": [],
   "source": [
    "seq[0:100].count('TAG')"
   ]
  },
  {
   "cell_type": "code",
   "execution_count": null,
   "id": "designed-selling",
   "metadata": {},
   "outputs": [],
   "source": []
  },
  {
   "cell_type": "code",
   "execution_count": null,
   "id": "beginning-frost",
   "metadata": {},
   "outputs": [],
   "source": [
    "stopCodons = ['TAG', 'TAA', 'TGA']\n",
    "stopCodons "
   ]
  },
  {
   "cell_type": "code",
   "execution_count": null,
   "id": "strange-jurisdiction",
   "metadata": {},
   "outputs": [],
   "source": [
    "indiciesTGG"
   ]
  },
  {
   "cell_type": "code",
   "execution_count": null,
   "id": "parental-stress",
   "metadata": {
    "tags": []
   },
   "outputs": [],
   "source": [
    "indiciesStop"
   ]
  },
  {
   "cell_type": "code",
   "execution_count": null,
   "id": "former-palace",
   "metadata": {
    "tags": []
   },
   "outputs": [],
   "source": [
    "length = 200 \n",
    "center = length/2"
   ]
  },
  {
   "cell_type": "code",
   "execution_count": null,
   "id": "rotary-denmark",
   "metadata": {
    "tags": []
   },
   "outputs": [],
   "source": [
    "arrayStop = np.array(indiciesStop)\n",
    "arrayIndicies = np.array(indiciesTGG) \n",
    "centralTGGs = arrayIndicies[abs(arrayIndicies - center) < 10]"
   ]
  },
  {
   "cell_type": "code",
   "execution_count": null,
   "id": "interstate-network",
   "metadata": {
    "tags": []
   },
   "outputs": [],
   "source": [
    "centralTGGs"
   ]
  },
  {
   "cell_type": "code",
   "execution_count": null,
   "id": "canadian-survival",
   "metadata": {
    "tags": []
   },
   "outputs": [],
   "source": [
    "np.in1d(centralTGGs,arrayStop)"
   ]
  },
  {
   "cell_type": "code",
   "execution_count": null,
   "id": "arbitrary-survivor",
   "metadata": {
    "tags": []
   },
   "outputs": [],
   "source": [
    "# Check if array contains values that are within range of values in another array \n",
    "any((min(abs(arrayStop - i)) > 10) for i in centralTGGs)"
   ]
  },
  {
   "cell_type": "code",
   "execution_count": null,
   "id": "adapted-penalty",
   "metadata": {},
   "outputs": [],
   "source": [
    "centralTGGs"
   ]
  },
  {
   "cell_type": "code",
   "execution_count": null,
   "id": "funded-worker",
   "metadata": {
    "tags": []
   },
   "outputs": [],
   "source": [
    "indiciesStop"
   ]
  },
  {
   "cell_type": "code",
   "execution_count": null,
   "id": "coastal-schema",
   "metadata": {},
   "outputs": [],
   "source": [
    "testStop = [90, 16, 174]"
   ]
  },
  {
   "cell_type": "code",
   "execution_count": null,
   "id": "established-customer",
   "metadata": {},
   "outputs": [],
   "source": []
  },
  {
   "cell_type": "code",
   "execution_count": null,
   "id": "specialized-nickel",
   "metadata": {},
   "outputs": [],
   "source": []
  },
  {
   "cell_type": "code",
   "execution_count": null,
   "id": "productive-album",
   "metadata": {
    "tags": []
   },
   "outputs": [],
   "source": [
    "(min(abs(arrayStop - centralTGGs[0])) > 10)"
   ]
  },
  {
   "cell_type": "code",
   "execution_count": null,
   "id": "historical-attribute",
   "metadata": {
    "tags": []
   },
   "outputs": [],
   "source": [
    "min(abs(arrayStop - centralTGGs[0])) > 10"
   ]
  },
  {
   "cell_type": "code",
   "execution_count": null,
   "id": "peaceful-charger",
   "metadata": {},
   "outputs": [],
   "source": []
  },
  {
   "cell_type": "code",
   "execution_count": null,
   "id": "dressed-recorder",
   "metadata": {
    "tags": []
   },
   "outputs": [],
   "source": [
    "centeralTGGs = offset.min()\n",
    "centeralTGGs"
   ]
  },
  {
   "cell_type": "code",
   "execution_count": null,
   "id": "inner-hebrew",
   "metadata": {},
   "outputs": [],
   "source": [
    "centralTGGs = np.all(offset == offset.min())\n",
    "centralTGGs"
   ]
  },
  {
   "cell_type": "code",
   "execution_count": null,
   "id": "grateful-prospect",
   "metadata": {
    "tags": []
   },
   "outputs": [],
   "source": [
    "centeralTGGs = np.where(offset == offset.min())\n",
    "centeralTGG"
   ]
  },
  {
   "cell_type": "code",
   "execution_count": null,
   "id": "mechanical-mixture",
   "metadata": {
    "tags": []
   },
   "outputs": [],
   "source": [
    "offset = abs(arrayIndicies - center) \n",
    "centerTGG = indiciesTGG[np.argmin(offset)]"
   ]
  },
  {
   "cell_type": "code",
   "execution_count": null,
   "id": "detailed-float",
   "metadata": {
    "tags": []
   },
   "outputs": [],
   "source": [
    "any(abs(x - centerTGG) < 10 for x in indiciesStop)"
   ]
  },
  {
   "cell_type": "code",
   "execution_count": null,
   "id": "broad-garage",
   "metadata": {},
   "outputs": [],
   "source": []
  },
  {
   "cell_type": "code",
   "execution_count": null,
   "id": "horizontal-simon",
   "metadata": {
    "tags": []
   },
   "outputs": [],
   "source": [
    "indiciesStop = []\n",
    "for codons in stopCodons:\n",
    "    indiciesStop.extend([m.start() for m in re.finditer(codons, str(testSeq))])"
   ]
  },
  {
   "cell_type": "code",
   "execution_count": null,
   "id": "ambient-supervisor",
   "metadata": {
    "tags": []
   },
   "outputs": [],
   "source": [
    "len(indiciesStop)"
   ]
  },
  {
   "cell_type": "code",
   "execution_count": null,
   "id": "assumed-grain",
   "metadata": {
    "tags": []
   },
   "outputs": [],
   "source": [
    "[m.start() for m in re.finditer('TGA', str(testSeq))]"
   ]
  },
  {
   "cell_type": "code",
   "execution_count": null,
   "id": "latin-navigator",
   "metadata": {
    "tags": []
   },
   "outputs": [],
   "source": [
    "[m.start() for m in re.finditer('TAA', str(testSeq))]"
   ]
  },
  {
   "cell_type": "code",
   "execution_count": null,
   "id": "fitted-miller",
   "metadata": {},
   "outputs": [],
   "source": [
    "[m.start() for m in re.finditer('TAG', str(testSeq))]"
   ]
  },
  {
   "cell_type": "code",
   "execution_count": null,
   "id": "domestic-elements",
   "metadata": {
    "tags": []
   },
   "outputs": [],
   "source": [
    "testSeq.count(stopCodons)"
   ]
  },
  {
   "cell_type": "code",
   "execution_count": null,
   "id": "moving-lesbian",
   "metadata": {},
   "outputs": [],
   "source": [
    "indiciesTGG"
   ]
  },
  {
   "cell_type": "code",
   "execution_count": null,
   "id": "suspected-radiation",
   "metadata": {
    "tags": []
   },
   "outputs": [],
   "source": [
    "len(indiciesTGG)"
   ]
  },
  {
   "cell_type": "code",
   "execution_count": null,
   "id": "automatic-subcommittee",
   "metadata": {},
   "outputs": [],
   "source": []
  },
  {
   "cell_type": "code",
   "execution_count": null,
   "id": "micro-sandwich",
   "metadata": {},
   "outputs": [],
   "source": []
  },
  {
   "cell_type": "code",
   "execution_count": null,
   "id": "protective-authority",
   "metadata": {
    "tags": []
   },
   "outputs": [],
   "source": [
    "testSeq = sesRNAs[0]"
   ]
  },
  {
   "cell_type": "code",
   "execution_count": null,
   "id": "valuable-watts",
   "metadata": {
    "tags": []
   },
   "outputs": [],
   "source": [
    "lastTGG = [m.start() for m in re.finditer('TGG', str(testSeq))][-1]"
   ]
  },
  {
   "cell_type": "code",
   "execution_count": null,
   "id": "electrical-proof",
   "metadata": {},
   "outputs": [],
   "source": [
    "testSeq"
   ]
  },
  {
   "cell_type": "code",
   "execution_count": null,
   "id": "handmade-tongue",
   "metadata": {
    "tags": []
   },
   "outputs": [],
   "source": [
    "indiciesTGG = [m.start() for m in re.finditer('TGG', str(testSeq))]"
   ]
  },
  {
   "cell_type": "code",
   "execution_count": null,
   "id": "framed-lecture",
   "metadata": {
    "tags": []
   },
   "outputs": [],
   "source": [
    "start = 0 \n",
    "stop = 200"
   ]
  },
  {
   "cell_type": "code",
   "execution_count": null,
   "id": "proprietary-thermal",
   "metadata": {
    "tags": []
   },
   "outputs": [],
   "source": [
    "middle = (start + stop) / 2"
   ]
  },
  {
   "cell_type": "code",
   "execution_count": null,
   "id": "heated-beads",
   "metadata": {
    "tags": []
   },
   "outputs": [],
   "source": [
    "abs(middle - indiciesTGG[0])"
   ]
  },
  {
   "cell_type": "code",
   "execution_count": null,
   "id": "loaded-contractor",
   "metadata": {},
   "outputs": [],
   "source": [
    "type(indiciesTGG)"
   ]
  },
  {
   "cell_type": "code",
   "execution_count": null,
   "id": "biblical-tonight",
   "metadata": {},
   "outputs": [],
   "source": [
    "indiciesTGG"
   ]
  },
  {
   "cell_type": "code",
   "execution_count": null,
   "id": "victorian-berlin",
   "metadata": {},
   "outputs": [],
   "source": [
    "any(indiciesTGG) > 2"
   ]
  },
  {
   "cell_type": "code",
   "execution_count": null,
   "id": "palestinian-individual",
   "metadata": {},
   "outputs": [],
   "source": [
    "length = 200 "
   ]
  },
  {
   "cell_type": "code",
   "execution_count": null,
   "id": "infinite-fruit",
   "metadata": {
    "tags": []
   },
   "outputs": [],
   "source": [
    "any(abs(x - (length/2)) < 20 for x in indiciesTGG)"
   ]
  },
  {
   "cell_type": "code",
   "execution_count": null,
   "id": "incident-practice",
   "metadata": {
    "tags": []
   },
   "outputs": [],
   "source": [
    "testList = [50, 60, 170, 200]"
   ]
  },
  {
   "cell_type": "code",
   "execution_count": null,
   "id": "brief-transmission",
   "metadata": {
    "tags": []
   },
   "outputs": [],
   "source": [
    "any(abs(x - (length/2)) < 10 for x in testList)"
   ]
  },
  {
   "cell_type": "code",
   "execution_count": null,
   "id": "beneficial-specific",
   "metadata": {},
   "outputs": [],
   "source": []
  },
  {
   "cell_type": "code",
   "execution_count": null,
   "id": "bizarre-small",
   "metadata": {},
   "outputs": [],
   "source": [
    "testSeq"
   ]
  },
  {
   "cell_type": "code",
   "execution_count": null,
   "id": "charitable-employer",
   "metadata": {
    "tags": []
   },
   "outputs": [],
   "source": [
    "os.path.isdir('Output/BioPython')"
   ]
  },
  {
   "cell_type": "code",
   "execution_count": null,
   "id": "distributed-relations",
   "metadata": {
    "tags": []
   },
   "outputs": [],
   "source": []
  },
  {
   "cell_type": "code",
   "execution_count": null,
   "id": "indian-cable",
   "metadata": {},
   "outputs": [],
   "source": [
    "outputFileName = os.getcwd() + ''"
   ]
  },
  {
   "cell_type": "code",
   "execution_count": null,
   "id": "reported-salon",
   "metadata": {},
   "outputs": [],
   "source": [
    "testSeq"
   ]
  },
  {
   "cell_type": "code",
   "execution_count": null,
   "id": "editorial-arcade",
   "metadata": {},
   "outputs": [],
   "source": []
  },
  {
   "cell_type": "code",
   "execution_count": null,
   "id": "parliamentary-round",
   "metadata": {},
   "outputs": [],
   "source": []
  }
 ],
 "metadata": {
  "kernelspec": {
   "display_name": "huang_CellReadR",
   "language": "python",
   "name": "huang_cellreadr"
  },
  "language_info": {
   "codemirror_mode": {
    "name": "ipython",
    "version": 3
   },
   "file_extension": ".py",
   "mimetype": "text/x-python",
   "name": "python",
   "nbconvert_exporter": "python",
   "pygments_lexer": "ipython3",
   "version": "3.9.1"
  }
 },
 "nbformat": 4,
 "nbformat_minor": 5
}
