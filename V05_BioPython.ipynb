{
 "cells": [
  {
   "cell_type": "markdown",
   "id": "right-sheffield",
   "metadata": {},
   "source": [
    "# Setup "
   ]
  },
  {
   "cell_type": "markdown",
   "id": "amino-silence",
   "metadata": {},
   "source": [
    "## Import packages "
   ]
  },
  {
   "cell_type": "code",
   "execution_count": 1,
   "id": "rolled-columbia",
   "metadata": {
    "execution": {
     "iopub.execute_input": "2021-05-03T19:23:17.852336Z",
     "iopub.status.busy": "2021-05-03T19:23:17.851794Z",
     "iopub.status.idle": "2021-05-03T19:23:18.142740Z",
     "shell.execute_reply": "2021-05-03T19:23:18.142168Z",
     "shell.execute_reply.started": "2021-05-03T19:23:17.852261Z"
    },
    "tags": []
   },
   "outputs": [],
   "source": [
    "# General \n",
    "import os \n",
    "import sys\n",
    "import numpy as np\n",
    "import pandas as pd \n",
    "# For running bash scripts from inside python ... \n",
    "import subprocess\n",
    "# For manipulating string objects \n",
    "import re\n",
    "# for generating any necessary directories\n",
    "import pathlib \n",
    "# For manipulating list objects \n",
    "import itertools "
   ]
  },
  {
   "cell_type": "code",
   "execution_count": 2,
   "id": "false-allah",
   "metadata": {
    "execution": {
     "iopub.execute_input": "2021-05-03T19:23:18.143599Z",
     "iopub.status.busy": "2021-05-03T19:23:18.143440Z",
     "iopub.status.idle": "2021-05-03T19:23:18.176086Z",
     "shell.execute_reply": "2021-05-03T19:23:18.175451Z",
     "shell.execute_reply.started": "2021-05-03T19:23:18.143582Z"
    },
    "tags": []
   },
   "outputs": [],
   "source": [
    "# For working with sequence objects \n",
    "from Bio.Seq import Seq"
   ]
  },
  {
   "cell_type": "code",
   "execution_count": 3,
   "id": "greenhouse-dryer",
   "metadata": {
    "execution": {
     "iopub.execute_input": "2021-05-03T19:23:18.177351Z",
     "iopub.status.busy": "2021-05-03T19:23:18.177122Z",
     "iopub.status.idle": "2021-05-03T19:23:18.196783Z",
     "shell.execute_reply": "2021-05-03T19:23:18.196243Z",
     "shell.execute_reply.started": "2021-05-03T19:23:18.177330Z"
    }
   },
   "outputs": [],
   "source": [
    "# For fetching sequences from Entrez \n",
    "from Bio import Entrez\n",
    "from Bio import SeqIO"
   ]
  },
  {
   "cell_type": "code",
   "execution_count": 4,
   "id": "positive-coordination",
   "metadata": {
    "execution": {
     "iopub.execute_input": "2021-05-03T19:23:18.197873Z",
     "iopub.status.busy": "2021-05-03T19:23:18.197654Z",
     "iopub.status.idle": "2021-05-03T19:23:18.203496Z",
     "shell.execute_reply": "2021-05-03T19:23:18.202941Z",
     "shell.execute_reply.started": "2021-05-03T19:23:18.197853Z"
    },
    "tags": []
   },
   "outputs": [],
   "source": [
    "# For extracting features \n",
    "from Bio.SeqFeature import SeqFeature, FeatureLocation\n",
    "# For creating SeqRecord objects \n",
    "from Bio.SeqRecord import SeqRecord"
   ]
  },
  {
   "cell_type": "markdown",
   "id": "neutral-andorra",
   "metadata": {},
   "source": [
    "## Misc"
   ]
  },
  {
   "cell_type": "code",
   "execution_count": 5,
   "id": "wound-yesterday",
   "metadata": {
    "execution": {
     "iopub.execute_input": "2021-05-03T19:23:18.204537Z",
     "iopub.status.busy": "2021-05-03T19:23:18.204311Z",
     "iopub.status.idle": "2021-05-03T19:23:18.227325Z",
     "shell.execute_reply": "2021-05-03T19:23:18.226687Z",
     "shell.execute_reply.started": "2021-05-03T19:23:18.204514Z"
    }
   },
   "outputs": [],
   "source": [
    "Entrez.email = \"kehaliwoldemichael@gmail.com\"  # Always tell NCBI who you are"
   ]
  },
  {
   "cell_type": "markdown",
   "id": "metric-color",
   "metadata": {},
   "source": [
    "# Functions "
   ]
  },
  {
   "cell_type": "markdown",
   "id": "municipal-absorption",
   "metadata": {},
   "source": [
    "## Sequence"
   ]
  },
  {
   "cell_type": "code",
   "execution_count": 6,
   "id": "fatal-poison",
   "metadata": {
    "execution": {
     "iopub.execute_input": "2021-05-03T19:23:18.228161Z",
     "iopub.status.busy": "2021-05-03T19:23:18.228003Z",
     "iopub.status.idle": "2021-05-03T19:23:18.249085Z",
     "shell.execute_reply": "2021-05-03T19:23:18.248646Z",
     "shell.execute_reply.started": "2021-05-03T19:23:18.228144Z"
    },
    "tags": []
   },
   "outputs": [],
   "source": [
    "def seq_returnEntrez(sequenceID, retType):\n",
    "    with Entrez.efetch(\n",
    "        db=\"nucleotide\", rettype=retType, retmode=\"text\", id=sequenceID\n",
    "    ) as handle:\n",
    "        seqRecord = SeqIO.read(handle, \"gb\")  # using \"gb\" as an alias for \"genbank\"\n",
    "        \n",
    "    handle = Entrez.efetch(db=\"nucleotide\", id=sequenceID, rettype=retType, retmode=\"text\")\n",
    "    \n",
    "    return seqRecord, handle "
   ]
  },
  {
   "cell_type": "code",
   "execution_count": 7,
   "id": "0f5d334c-17f1-4812-85af-03c1ef855433",
   "metadata": {
    "execution": {
     "iopub.execute_input": "2021-05-03T19:23:18.250072Z",
     "iopub.status.busy": "2021-05-03T19:23:18.249843Z",
     "iopub.status.idle": "2021-05-03T19:23:18.273826Z",
     "shell.execute_reply": "2021-05-03T19:23:18.270603Z",
     "shell.execute_reply.started": "2021-05-03T19:23:18.250055Z"
    },
    "tags": []
   },
   "outputs": [],
   "source": [
    "# Checks if continuous open reading frame by translating to stop ... \n",
    "def check_cORF(sequence):\n",
    "    return len(sequence.translate(to_stop=True)) == len(sequence)/3"
   ]
  },
  {
   "cell_type": "code",
   "execution_count": 8,
   "id": "f5245018-f2ac-4a3e-a737-41c6ebdb0af0",
   "metadata": {
    "execution": {
     "iopub.execute_input": "2021-05-03T19:23:18.282491Z",
     "iopub.status.busy": "2021-05-03T19:23:18.281397Z",
     "iopub.status.idle": "2021-05-03T19:23:18.296126Z",
     "shell.execute_reply": "2021-05-03T19:23:18.294910Z",
     "shell.execute_reply.started": "2021-05-03T19:23:18.282376Z"
    },
    "tags": []
   },
   "outputs": [],
   "source": [
    "# Return sesRNAs that are in CDS \n",
    "def check_inCDS(sequence, searchSequence, isoForm, typeSes): \n",
    "    if typeSes == 'Reverse':\n",
    "        return 0 != searchSequence[isoForm].seq.count(sequence.reverse_complement())\n",
    "    elif typeSes == 'Complement':\n",
    "        return 0 != searchSequence[isoForm].seq.count(sequence.complement())"
   ]
  },
  {
   "cell_type": "code",
   "execution_count": 9,
   "id": "689ee27c-05ec-4797-b2bb-7834132f40e5",
   "metadata": {
    "execution": {
     "iopub.execute_input": "2021-05-03T19:23:18.298464Z",
     "iopub.status.busy": "2021-05-03T19:23:18.297981Z",
     "iopub.status.idle": "2021-05-03T19:23:18.317554Z",
     "shell.execute_reply": "2021-05-03T19:23:18.316904Z",
     "shell.execute_reply.started": "2021-05-03T19:23:18.298425Z"
    },
    "tags": []
   },
   "outputs": [],
   "source": [
    "# Checking for in frame TGG and ATG (both number and indices of occurances)\n",
    "def return_inFrame(sequence, choice):\n",
    "    # Definnig stop codons \n",
    "    stopCodons = ['TAG', 'TAA', 'TGA']\n",
    "    \n",
    "    # Generating list of codons in sequence \n",
    "    strSeq = str(sequence)\n",
    "    codons = [strSeq for strSeq in re.split(r'(\\w{3})', strSeq) if strSeq]\n",
    "    \n",
    "    # Number of in frame TGG and ATG \n",
    "    num_inF_TGG = codons.count('TGG')\n",
    "    num_inF_ATG = codons.count('ATG')\n",
    "    num_inF_Stop = codons.count(stopCodons[0]) + codons.count(stopCodons[1]) + codons.count(stopCodons[2])\n",
    "    \n",
    "    # Indices of TGG, ATG, and defined stop codons \n",
    "    indicesTGG = np.array([key for key, val in enumerate(codons) if val == 'TGG'])*3\n",
    "    indicesATG = np.array([key for key, val in enumerate(codons) if val == 'ATG'])*3\n",
    "    indiciesStop = np.array([key for key, val in enumerate(codons) if val in stopCodons])*3\n",
    "    \n",
    "    if choice == 'all': return num_inF_TGG, num_inF_ATG, num_inF_Stop, indicesTGG, indicesATG, indiciesStop \n",
    "    if choice == 'numTGG': return num_inF_TGG"
   ]
  },
  {
   "cell_type": "code",
   "execution_count": 10,
   "id": "9dddb7ad-fe7d-46e3-98c4-37686a924bee",
   "metadata": {
    "execution": {
     "iopub.execute_input": "2021-05-03T19:23:18.318343Z",
     "iopub.status.busy": "2021-05-03T19:23:18.318170Z",
     "iopub.status.idle": "2021-05-03T19:23:18.338307Z",
     "shell.execute_reply": "2021-05-03T19:23:18.337818Z",
     "shell.execute_reply.started": "2021-05-03T19:23:18.318324Z"
    },
    "tags": []
   },
   "outputs": [],
   "source": [
    "# Return sesRNAs that are in CDS \n",
    "def return_inCDS(sesRNAs, CDS, isoForm, typeSes): \n",
    "    temp_cds_sesRNAs = []\n",
    "    \n",
    "    for sesRNA in sesRNAs: \n",
    "        if typeSes == 'Reverse':\n",
    "            if 0 != CDS[isoForm].seq.count(sesRNA.reverse_complement()):\n",
    "                temp_cds_sesRNAs.append(sesRNA)\n",
    "        elif typeSes == 'Complement':\n",
    "            if 0 != CDS[isoForm].seq.count(sesRNA.complement()):\n",
    "                temp_cds_sesRNAs.append(sesRNA)\n",
    "    \n",
    "    return temp_cds_sesRNAs"
   ]
  },
  {
   "cell_type": "markdown",
   "id": "geological-oklahoma",
   "metadata": {},
   "source": [
    "## Metrics "
   ]
  },
  {
   "cell_type": "code",
   "execution_count": 11,
   "id": "radio-commission",
   "metadata": {
    "execution": {
     "iopub.execute_input": "2021-05-03T19:23:18.339123Z",
     "iopub.status.busy": "2021-05-03T19:23:18.338970Z",
     "iopub.status.idle": "2021-05-03T19:23:18.364106Z",
     "shell.execute_reply": "2021-05-03T19:23:18.363568Z",
     "shell.execute_reply.started": "2021-05-03T19:23:18.339106Z"
    },
    "tags": []
   },
   "outputs": [],
   "source": [
    "# Returns GC content \n",
    "def metric_gcContent(sequence):\n",
    "    return (sequence.count(\"G\") + sequence.count(\"C\"))/(len(sequence))"
   ]
  },
  {
   "cell_type": "code",
   "execution_count": null,
   "id": "irish-deficit",
   "metadata": {},
   "outputs": [],
   "source": []
  },
  {
   "cell_type": "markdown",
   "id": "liquid-conditions",
   "metadata": {},
   "source": [
    "# Sequence"
   ]
  },
  {
   "cell_type": "markdown",
   "id": "offensive-organizer",
   "metadata": {},
   "source": [
    "## Loading sequences "
   ]
  },
  {
   "cell_type": "code",
   "execution_count": 12,
   "id": "continuing-sample",
   "metadata": {
    "execution": {
     "iopub.execute_input": "2021-05-03T19:23:18.364971Z",
     "iopub.status.busy": "2021-05-03T19:23:18.364774Z",
     "iopub.status.idle": "2021-05-03T19:23:18.387061Z",
     "shell.execute_reply": "2021-05-03T19:23:18.386605Z",
     "shell.execute_reply.started": "2021-05-03T19:23:18.364952Z"
    },
    "tags": []
   },
   "outputs": [],
   "source": [
    "geneName = 'Tle4'\n",
    "species = 'Rat'\n",
    "\n",
    "martBasePath = os.getcwd() + '/Output/biomaRt/' + species "
   ]
  },
  {
   "cell_type": "code",
   "execution_count": 13,
   "id": "prescription-monitor",
   "metadata": {
    "execution": {
     "iopub.execute_input": "2021-05-03T19:23:18.387905Z",
     "iopub.status.busy": "2021-05-03T19:23:18.387686Z",
     "iopub.status.idle": "2021-05-03T19:23:18.411735Z",
     "shell.execute_reply": "2021-05-03T19:23:18.411161Z",
     "shell.execute_reply.started": "2021-05-03T19:23:18.387887Z"
    },
    "tags": []
   },
   "outputs": [
    {
     "data": {
      "text/plain": [
       "[SeqRecord(seq=Seq('GACGTGGGGCTATGGAAGGGGATTAAACTCCACAACTGCAATGAGTATTGGAAA...GGA'), id='Tle4', name='Tle4', description='Tle4', dbxrefs=[]),\n",
       " SeqRecord(seq=Seq('CTCTTTGGTGATCATTGTCATGGTGCTTTTTCTCATCCTTAATTGGGAGGTGAG...CTG'), id='Tle4', name='Tle4', description='Tle4', dbxrefs=[]),\n",
       " SeqRecord(seq=Seq('CAGACAGTCCAGCTGAGAGACTGGGCTTTTGTTGCCAGGATGGCTGATGTCCCA...GCT'), id='Tle4', name='Tle4', description='Tle4', dbxrefs=[]),\n",
       " SeqRecord(seq=Seq('CTCACCAGAGTCTGGTTGTGCAGATCCCACACTGCGATGTTGCCATCACTGCAG...GTT'), id='Tle4', name='Tle4', description='Tle4', dbxrefs=[]),\n",
       " SeqRecord(seq=Seq('CTCTTTGGTGATCATTGTCATGGTGCTTTTTCTCATCCTTAATTGGGAGGTGAG...TTG'), id='Tle4', name='Tle4', description='Tle4', dbxrefs=[]),\n",
       " SeqRecord(seq=Seq('CGGGTGGCGCGTCTGCGGGTACATCTTGCTCAGGTCGCGAATCATCCACGCCGC...GCG'), id='Tle4', name='Tle4', description='Tle4', dbxrefs=[]),\n",
       " SeqRecord(seq=Seq('AGAAGTTATTTATGTTTAATGCTTAAAAGTCTGAATGCACAAACAATCTACCAT...GGA'), id='Tle4', name='Tle4', description='Tle4', dbxrefs=[]),\n",
       " SeqRecord(seq=Seq('GTACATCTTGCTCAGGTCGCGAATCATCCACGCCGCTTTAGTTGGCTGCGCCAG...GCG'), id='Tle4', name='Tle4', description='Tle4', dbxrefs=[]),\n",
       " SeqRecord(seq=Seq('CACCGAGATAAGCATGCTCCTATAAGCCCCATACTGGGGAAGGGATAAGCTCTC...TGC'), id='Tle4', name='Tle4', description='Tle4', dbxrefs=[])]"
      ]
     },
     "execution_count": 13,
     "metadata": {},
     "output_type": "execute_result"
    }
   ],
   "source": [
    "# Loading sequences for reverse complement gene exons \n",
    "rC_fileName = martBasePath + '/Reverse_' + geneName + '.fasta'\n",
    "rC_exon_records = list(SeqIO.parse(rC_fileName, \"fasta\"))\n",
    "rC_exon_records  "
   ]
  },
  {
   "cell_type": "code",
   "execution_count": 14,
   "id": "2b169541-6843-40ff-813f-a84f6b62ec9b",
   "metadata": {
    "execution": {
     "iopub.execute_input": "2021-05-03T19:23:18.412572Z",
     "iopub.status.busy": "2021-05-03T19:23:18.412395Z",
     "iopub.status.idle": "2021-05-03T19:23:18.423122Z",
     "shell.execute_reply": "2021-05-03T19:23:18.422567Z",
     "shell.execute_reply.started": "2021-05-03T19:23:18.412555Z"
    },
    "tags": []
   },
   "outputs": [
    {
     "data": {
      "text/plain": [
       "[SeqRecord(seq=Seq('AGGTTTCTTAGGAGTAGCCACGAATCGACACTGTAGAGACACCTACTGTTCATG...CAG'), id='Tle4', name='Tle4', description='Tle4', dbxrefs=[]),\n",
       " SeqRecord(seq=Seq('GTCGTTGTTGAGGTTCGAGTCGTAAATAGTGTACCTGTACCAGACGGACACGGA...CTC'), id='Tle4', name='Tle4', description='Tle4', dbxrefs=[]),\n",
       " SeqRecord(seq=Seq('TCGTATGAGGAAAGTGCAATCACGGCTACCAGTCTACGTCGGCCAGGGGAAAGG...GAC'), id='Tle4', name='Tle4', description='Tle4', dbxrefs=[]),\n",
       " SeqRecord(seq=Seq('TTGTCCCTATTGATGTAGGCGAGGACGTCTAACGAGGGACTACCGGCGTGGAAT...CTC'), id='Tle4', name='Tle4', description='Tle4', dbxrefs=[]),\n",
       " SeqRecord(seq=Seq('GTTGTTGAGGTTCGAGTCGTAAATAGTGTACCTGTACCAGACGGACACGGAGAC...CTC'), id='Tle4', name='Tle4', description='Tle4', dbxrefs=[]),\n",
       " SeqRecord(seq=Seq('GCGGCGGGAGTCACTGCGGGCGCCCCTTACGCCTCGGCCGGCGGGCGCGAGTCG...GGC'), id='Tle4', name='Tle4', description='Tle4', dbxrefs=[]),\n",
       " SeqRecord(seq=Seq('AGGTTTCTTAGGAGTAGCCACGAATCGACACTGTAGAGACACCTACTGTTCATG...AGA'), id='Tle4', name='Tle4', description='Tle4', dbxrefs=[]),\n",
       " SeqRecord(seq=Seq('GCGGCGGGAGTCACTGCGGGCGCCCCTTACGCCTCGGCCGGCGGGCGCGAGTCG...ATG'), id='Tle4', name='Tle4', description='Tle4', dbxrefs=[]),\n",
       " SeqRecord(seq=Seq('CGTTTACCAAACATTCGTGACCTTTCCTGTTGGAAGACTTACGAACCTCCTGTG...CAC'), id='Tle4', name='Tle4', description='Tle4', dbxrefs=[])]"
      ]
     },
     "execution_count": 14,
     "metadata": {},
     "output_type": "execute_result"
    }
   ],
   "source": [
    "# Loading sequences for complement gene exons \n",
    "C_fileName = martBasePath + '/Complement_' + geneName + '.fasta'\n",
    "C_exon_records = list(SeqIO.parse(C_fileName, \"fasta\"))\n",
    "C_exon_records  "
   ]
  },
  {
   "cell_type": "code",
   "execution_count": 15,
   "id": "05a2528e-bef3-4da5-9ee2-93f0ce6bde8d",
   "metadata": {
    "execution": {
     "iopub.execute_input": "2021-05-03T19:23:18.424311Z",
     "iopub.status.busy": "2021-05-03T19:23:18.423983Z",
     "iopub.status.idle": "2021-05-03T19:23:18.439881Z",
     "shell.execute_reply": "2021-05-03T19:23:18.439425Z",
     "shell.execute_reply.started": "2021-05-03T19:23:18.424290Z"
    },
    "tags": []
   },
   "outputs": [
    {
     "data": {
      "text/plain": [
       "[SeqRecord(seq=Seq('ATGTACCGCAGACGCCACCCGGCACCGCATCAGCCTGCTCAACCCTTCAAATTT...TAA'), id='Tle4', name='Tle4', description='Tle4', dbxrefs=[]),\n",
       " SeqRecord(seq=Seq('ATGATTCGCGACCTGAGCAAGATGTACCCGCAGACGCGCCACCCGGCACCGCAT...TAA'), id='Tle4', name='Tle4', description='Tle4', dbxrefs=[]),\n",
       " SeqRecord(seq=Seq('ATGATTCGCGACCTGAGCAAGATGTACCCGCAGACGCGCCACCCGGCACCGCAT...TGA'), id='Tle4', name='Tle4', description='Tle4', dbxrefs=[])]"
      ]
     },
     "execution_count": 15,
     "metadata": {},
     "output_type": "execute_result"
    }
   ],
   "source": [
    "# Loading sequences for gene CDS \n",
    "CDS_fileName = martBasePath + '/CDS_' + geneName + '.fasta'\n",
    "CDS = list(SeqIO.parse(CDS_fileName, \"fasta\"))\n",
    "CDS  "
   ]
  },
  {
   "cell_type": "code",
   "execution_count": 16,
   "id": "034bc6cc-489b-44b0-90b9-853afe790bf9",
   "metadata": {
    "execution": {
     "iopub.execute_input": "2021-05-03T19:23:18.440757Z",
     "iopub.status.busy": "2021-05-03T19:23:18.440598Z",
     "iopub.status.idle": "2021-05-03T19:23:18.462486Z",
     "shell.execute_reply": "2021-05-03T19:23:18.461934Z",
     "shell.execute_reply.started": "2021-05-03T19:23:18.440739Z"
    },
    "tags": []
   },
   "outputs": [
    {
     "data": {
      "text/plain": [
       "2220"
      ]
     },
     "execution_count": 16,
     "metadata": {},
     "output_type": "execute_result"
    }
   ],
   "source": [
    "len(CDS[0].seq)"
   ]
  },
  {
   "cell_type": "code",
   "execution_count": 17,
   "id": "maritime-gibraltar",
   "metadata": {
    "execution": {
     "iopub.execute_input": "2021-05-03T19:23:18.463319Z",
     "iopub.status.busy": "2021-05-03T19:23:18.463159Z",
     "iopub.status.idle": "2021-05-03T19:23:18.479896Z",
     "shell.execute_reply": "2021-05-03T19:23:18.479205Z",
     "shell.execute_reply.started": "2021-05-03T19:23:18.463302Z"
    },
    "tags": []
   },
   "outputs": [
    {
     "data": {
      "text/plain": [
       "250"
      ]
     },
     "execution_count": 17,
     "metadata": {},
     "output_type": "execute_result"
    }
   ],
   "source": [
    "len(rC_exon_records[2].seq)"
   ]
  },
  {
   "cell_type": "code",
   "execution_count": 18,
   "id": "surrounded-peoples",
   "metadata": {
    "execution": {
     "iopub.execute_input": "2021-05-03T19:23:18.481203Z",
     "iopub.status.busy": "2021-05-03T19:23:18.480855Z",
     "iopub.status.idle": "2021-05-03T19:23:18.513998Z",
     "shell.execute_reply": "2021-05-03T19:23:18.513338Z",
     "shell.execute_reply.started": "2021-05-03T19:23:18.481174Z"
    },
    "tags": []
   },
   "outputs": [],
   "source": [
    "seq_record = rC_exon_records[1]"
   ]
  },
  {
   "cell_type": "code",
   "execution_count": 19,
   "id": "polished-alexander",
   "metadata": {
    "execution": {
     "iopub.execute_input": "2021-05-03T19:23:18.515457Z",
     "iopub.status.busy": "2021-05-03T19:23:18.515123Z",
     "iopub.status.idle": "2021-05-03T19:23:18.534251Z",
     "shell.execute_reply": "2021-05-03T19:23:18.533811Z",
     "shell.execute_reply.started": "2021-05-03T19:23:18.515423Z"
    },
    "tags": []
   },
   "outputs": [
    {
     "data": {
      "text/plain": [
       "0.5463414634146342"
      ]
     },
     "execution_count": 19,
     "metadata": {},
     "output_type": "execute_result"
    }
   ],
   "source": [
    "metric_gcContent(seq_record.seq)"
   ]
  },
  {
   "cell_type": "markdown",
   "id": "after-beatles",
   "metadata": {},
   "source": [
    "## Selecting sensor "
   ]
  },
  {
   "cell_type": "code",
   "execution_count": 20,
   "id": "rapid-north",
   "metadata": {
    "execution": {
     "iopub.execute_input": "2021-05-03T19:23:18.534984Z",
     "iopub.status.busy": "2021-05-03T19:23:18.534831Z",
     "iopub.status.idle": "2021-05-03T19:23:18.554587Z",
     "shell.execute_reply": "2021-05-03T19:23:18.554021Z",
     "shell.execute_reply.started": "2021-05-03T19:23:18.534967Z"
    },
    "tags": []
   },
   "outputs": [
    {
     "data": {
      "text/plain": [
       "SeqRecord(seq=Seq('CTCTTTGGTGATCATTGTCATGGTGCTTTTTCTCATCCTTAATTGGGAGGTGAG...CTG'), id='Tle4', name='Tle4', description='Tle4', dbxrefs=[])"
      ]
     },
     "execution_count": 20,
     "metadata": {},
     "output_type": "execute_result"
    }
   ],
   "source": [
    "seq_record"
   ]
  },
  {
   "cell_type": "code",
   "execution_count": 21,
   "id": "latin-malaysia",
   "metadata": {
    "execution": {
     "iopub.execute_input": "2021-05-03T19:23:18.555604Z",
     "iopub.status.busy": "2021-05-03T19:23:18.555371Z",
     "iopub.status.idle": "2021-05-03T19:23:18.575678Z",
     "shell.execute_reply": "2021-05-03T19:23:18.575187Z",
     "shell.execute_reply.started": "2021-05-03T19:23:18.555586Z"
    },
    "tags": []
   },
   "outputs": [
    {
     "data": {
      "text/plain": [
       "205"
      ]
     },
     "execution_count": 21,
     "metadata": {},
     "output_type": "execute_result"
    }
   ],
   "source": [
    "seq = seq_record.seq\n",
    "len(seq)"
   ]
  },
  {
   "cell_type": "code",
   "execution_count": 22,
   "id": "mineral-bouquet",
   "metadata": {
    "execution": {
     "iopub.execute_input": "2021-05-03T19:23:18.576401Z",
     "iopub.status.busy": "2021-05-03T19:23:18.576245Z",
     "iopub.status.idle": "2021-05-03T19:23:18.589427Z",
     "shell.execute_reply": "2021-05-03T19:23:18.588894Z",
     "shell.execute_reply.started": "2021-05-03T19:23:18.576383Z"
    },
    "tags": []
   },
   "outputs": [],
   "source": [
    "def generate_sesRNA(sequence, length, searchSequence, isoForm, typeSes):\n",
    "    start = 0\n",
    "    center = length/2\n",
    "    \n",
    "    global numPass, total, numTGG  \n",
    "    numPass = 0 \n",
    "    total = 0 \n",
    "    numTGG = []\n",
    "    \n",
    "    sesSeq = []\n",
    "    startSeq = []\n",
    "    stopSeq = []\n",
    "    gcContents = []\n",
    "    firstTGG = []\n",
    "    \n",
    "    most_centralTGGs = []\n",
    "    second_centralTGGs = []\n",
    "    \n",
    "    # For storing number of in frame TGG, ATG, and Stop codons \n",
    "    num_inF_TGGs = []\n",
    "    num_inF_ATGs = []\n",
    "    num_inF_Stops = []\n",
    "    \n",
    "    while(start <= (len(sequence) - length)):\n",
    "        # Defining current sub-sequence to process \n",
    "        subsequence = sequence[start:(start+length)]\n",
    "        \n",
    "        # Genrating index of any stop codons \n",
    "        stopCodons = ['TAG', 'TAA', 'TGA']\n",
    "        indiciesStop = []\n",
    "        for codons in stopCodons:\n",
    "            indiciesStop.extend([m.start() for m in re.finditer(codons, str(subsequence))])\n",
    "        \n",
    "        # GC content \n",
    "        gcContent = metric_gcContent(subsequence)*100\n",
    "        # Index of last ATG and TGG \n",
    "        lastATG = 0 \n",
    "        if(subsequence.count('ATG') != 0):\n",
    "            lastATG = [m.start() for m in re.finditer('ATG', str(subsequence))][-1]\n",
    "        if(subsequence.count('TGG') != 0):\n",
    "            lastTGG = [m.start() for m in re.finditer('TGG', str(subsequence))][-1]\n",
    "        # Getting indicies of TGG \n",
    "        indiciesTGG = [m.start() for m in re.finditer('TGG', str(subsequence))]\n",
    "        # Generating arrays indicies for TGGs and stop codons \n",
    "        arrayStop = np.array(indiciesStop)\n",
    "        arrayIndicies = np.array(indiciesTGG) \n",
    "        centralTGGs = arrayIndicies[abs(arrayIndicies - center) < 10]\n",
    "        \n",
    "        num_inF_TGG, num_inF_ATG, num_inF_Stop, indices_inF_TGG, indices_inF_ATG, indices_inF_Stop = return_inFrame(subsequence, 'all')\n",
    "        numATG = subsequence.count('ATG')\n",
    "        \n",
    "        # Only proceed if passed \n",
    "        # cond1 = len(indiciesStop) < 4 \n",
    "#         cond1 = check_cORF(subsequence)\n",
    "        cond1 = num_inF_Stop <= 0\n",
    "        \n",
    "        cond2 = num_inF_TGG >= 2\n",
    "        \n",
    "        cond3 = num_inF_ATG == 0 \n",
    "#         if num_inF_TGG != 0 and num_inF_ATG != 0:\n",
    "#             cond3 = (min(indices_inF_TGG) > max(indices_inF_ATG)) # just making sure that all in frame ATG's upstream of all in frame TGG's \n",
    "#         else:\n",
    "#             cond3 = num_inF_ATG == 0 \n",
    "        \n",
    "        cond4 = gcContent > 40\n",
    "        cond5 = gcContent < 65\n",
    "        \n",
    "        # cond4 = lastATG < lastTGG \n",
    "        # Checking if TGG near center of subsequence \n",
    "        cond6 = any(abs(x - center) < 10 for x in indices_inF_TGG)\n",
    "        \n",
    "        # Checking if any central array is more than 10 by away from an in frame stop\n",
    "#         cond7 = any((min(abs(arrayStop - i)) >= 20) for i in centralTGGs) # Original ... broken condition ... just as a check \n",
    "        if num_inF_Stop != 0:\n",
    "            cond7 = any((min(abs(indices_inF_Stop - i)) >= 20) for i in centralTGGs)\n",
    "        else:\n",
    "            cond7 = True\n",
    "        \n",
    "        \n",
    "        if(cond1 & cond2 & cond3 & cond4 & cond5 & cond6 & cond7):\n",
    "            # Only include if in region of gene (currently in CDS) \n",
    "            if check_inCDS(subsequence, searchSequence, isoForm, typeSes):\n",
    "                numPass += 1\n",
    "                    \n",
    "                numTGG.append(subsequence.count('TGG'))\n",
    "                \n",
    "                # Appending passesed subsequences \n",
    "                sesSeq.append(subsequence)\n",
    "                # Appending indices of start for sesnsor (relative to start of exon)\n",
    "                startSeq.append(start)\n",
    "                stopSeq.append(start+length)\n",
    "                gcContents.append(gcContent)\n",
    "                \n",
    "                firstTGG.append(indices_inF_TGG[0])\n",
    "                \n",
    "                sorted_TGGs = list((np.array(sorted(indices_inF_TGG - length/2, key = abs)) + (length/2)))\n",
    "                most_centralTGGs.append(int(sorted_TGGs[0]))\n",
    "                second_centralTGGs.append(int(sorted_TGGs[1]))\n",
    "                \n",
    "                # Appending number of in frame TGGs, ATGs, and Stop codons \n",
    "                num_inF_TGGs.append(num_inF_TGG)\n",
    "                num_inF_ATGs.append(num_inF_ATG)\n",
    "                num_inF_Stops.append(num_inF_Stop)\n",
    "            \n",
    "        total += 1 \n",
    "        # Updating start index \n",
    "        start += 1 \n",
    "    \n",
    "    return sesSeq, startSeq, stopSeq, firstTGG, most_centralTGGs, second_centralTGGs, num_inF_TGGs, num_inF_ATGs, num_inF_Stops, gcContents "
   ]
  },
  {
   "cell_type": "code",
   "execution_count": null,
   "id": "e082aef3-2894-498d-8776-9a4cf83bacc4",
   "metadata": {},
   "outputs": [],
   "source": []
  },
  {
   "cell_type": "code",
   "execution_count": null,
   "id": "dff34f43-9645-4cd7-b65a-01bb3704a300",
   "metadata": {},
   "outputs": [],
   "source": []
  },
  {
   "cell_type": "code",
   "execution_count": 23,
   "id": "pharmaceutical-advice",
   "metadata": {
    "execution": {
     "iopub.execute_input": "2021-05-03T19:23:18.591291Z",
     "iopub.status.busy": "2021-05-03T19:23:18.591116Z",
     "iopub.status.idle": "2021-05-03T19:23:18.614613Z",
     "shell.execute_reply": "2021-05-03T19:23:18.614144Z",
     "shell.execute_reply.started": "2021-05-03T19:23:18.591272Z"
    },
    "scrolled": true,
    "tags": []
   },
   "outputs": [
    {
     "data": {
      "text/plain": [
       "([], [], [], [], [], [], [], [], [], [])"
      ]
     },
     "execution_count": 23,
     "metadata": {},
     "output_type": "execute_result"
    }
   ],
   "source": [
    "sesRNAs = generate_sesRNA(seq, 204, CDS, 0, 'Reverse')\n",
    "sesRNAs"
   ]
  },
  {
   "cell_type": "code",
   "execution_count": 24,
   "id": "alike-binary",
   "metadata": {
    "execution": {
     "iopub.execute_input": "2021-05-03T19:23:18.615593Z",
     "iopub.status.busy": "2021-05-03T19:23:18.615417Z",
     "iopub.status.idle": "2021-05-03T19:23:18.627978Z",
     "shell.execute_reply": "2021-05-03T19:23:18.627546Z",
     "shell.execute_reply.started": "2021-05-03T19:23:18.615573Z"
    },
    "tags": []
   },
   "outputs": [
    {
     "data": {
      "text/plain": [
       "10"
      ]
     },
     "execution_count": 24,
     "metadata": {},
     "output_type": "execute_result"
    }
   ],
   "source": [
    "len(sesRNAs)"
   ]
  },
  {
   "cell_type": "code",
   "execution_count": 25,
   "id": "f2b0b962-28f8-46c6-8c3e-621767e6451d",
   "metadata": {
    "execution": {
     "iopub.execute_input": "2021-05-03T19:23:18.628827Z",
     "iopub.status.busy": "2021-05-03T19:23:18.628656Z",
     "iopub.status.idle": "2021-05-03T19:23:18.648729Z",
     "shell.execute_reply": "2021-05-03T19:23:18.647849Z",
     "shell.execute_reply.started": "2021-05-03T19:23:18.628808Z"
    },
    "tags": []
   },
   "outputs": [],
   "source": [
    "# Returns sesRNAs for each exon\n",
    "def generate_sesRNAs_multiExon(exon_records, length, searchSequence, isoForm, typeSes):\n",
    "    tempAll_sesRNAs = []\n",
    "    tempAll_startSeq = []\n",
    "    tempAll_stopSeq = []\n",
    "    temp_num_inF_TGGs = []\n",
    "    temp_all_firstTGG = []\n",
    "    temp_all_centralTGG = []\n",
    "    temp_all_second_central_TGG = []\n",
    "    temp_num_inF_ATGs = []\n",
    "    temp_num_inF_Stops = []\n",
    "    temp_all_gcContents = []\n",
    "    \n",
    "    current = 1\n",
    "    exon_number = []\n",
    "    for record in exon_records:\n",
    "        tempSeq = record.seq \n",
    "        temp_sesRNAs, temp_startSeq, temp_stopSeq, single_firstTGG, single_centralTGG, single_second_centralTGG, single_num_inF_TGGs, single_num_inF_ATGs, single_num_inF_Stops, temp_gcContents = generate_sesRNA(tempSeq, length, searchSequence, isoForm, typeSes)\n",
    "        \n",
    "        tempAll_sesRNAs.extend(temp_sesRNAs)\n",
    "        \n",
    "        tempAll_startSeq.extend(temp_startSeq)\n",
    "        tempAll_stopSeq.extend(temp_stopSeq)\n",
    "        \n",
    "        temp_all_firstTGG.extend(single_firstTGG)\n",
    "        temp_all_centralTGG.extend(single_centralTGG)\n",
    "        temp_all_second_central_TGG.extend(single_second_centralTGG)\n",
    "        \n",
    "        \n",
    "        temp_num_inF_TGGs.extend(single_num_inF_TGGs)\n",
    "        temp_num_inF_ATGs.extend(single_num_inF_ATGs)\n",
    "        temp_num_inF_Stops.extend(single_num_inF_Stops)\n",
    "        \n",
    "        exon_number.extend(np.full(len(temp_sesRNAs), current))\n",
    "        temp_all_gcContents.extend(temp_gcContents)\n",
    "        \n",
    "        current += 1\n",
    "        # Printing number of passed sequences for current exon \n",
    "        print(len(temp_sesRNAs))\n",
    "        \n",
    "    allMetrics = {'Exon':exon_number, 'StartSeq':tempAll_startSeq, 'StopSeq':tempAll_stopSeq, \n",
    "                  'firstTGG': temp_all_firstTGG, 'centralTGG': temp_all_centralTGG, 'second_cTGG': temp_all_second_central_TGG,\n",
    "                  'numTGG':temp_num_inF_TGGs, 'numATG':temp_num_inF_ATGs, \n",
    "                  'numStop':temp_num_inF_Stops, 'gcContent':temp_all_gcContents}\n",
    "    sequenceMetrics = pd.DataFrame(allMetrics)\n",
    "    \n",
    "    return tempAll_sesRNAs, sequenceMetrics "
   ]
  },
  {
   "cell_type": "code",
   "execution_count": null,
   "id": "035df4c1-1837-40be-af40-168bffad45ed",
   "metadata": {},
   "outputs": [],
   "source": []
  },
  {
   "cell_type": "code",
   "execution_count": 30,
   "id": "e231e787-f186-4e76-a6b3-b4fc2a334bbb",
   "metadata": {
    "execution": {
     "iopub.execute_input": "2021-05-03T19:25:01.841223Z",
     "iopub.status.busy": "2021-05-03T19:25:01.840996Z",
     "iopub.status.idle": "2021-05-03T19:25:01.845238Z",
     "shell.execute_reply": "2021-05-03T19:25:01.844545Z",
     "shell.execute_reply.started": "2021-05-03T19:25:01.841206Z"
    }
   },
   "outputs": [
    {
     "data": {
      "text/plain": [
       "[SeqRecord(seq=Seq('ATGTACCGCAGACGCCACCCGGCACCGCATCAGCCTGCTCAACCCTTCAAATTT...TAA'), id='Tle4', name='Tle4', description='Tle4', dbxrefs=[]),\n",
       " SeqRecord(seq=Seq('ATGATTCGCGACCTGAGCAAGATGTACCCGCAGACGCGCCACCCGGCACCGCAT...TAA'), id='Tle4', name='Tle4', description='Tle4', dbxrefs=[]),\n",
       " SeqRecord(seq=Seq('ATGATTCGCGACCTGAGCAAGATGTACCCGCAGACGCGCCACCCGGCACCGCAT...TGA'), id='Tle4', name='Tle4', description='Tle4', dbxrefs=[])]"
      ]
     },
     "execution_count": 30,
     "metadata": {},
     "output_type": "execute_result"
    }
   ],
   "source": [
    "CDS"
   ]
  },
  {
   "cell_type": "code",
   "execution_count": 34,
   "id": "compressed-anderson",
   "metadata": {
    "execution": {
     "iopub.execute_input": "2021-05-03T19:25:34.917004Z",
     "iopub.status.busy": "2021-05-03T19:25:34.916805Z",
     "iopub.status.idle": "2021-05-03T19:25:35.453483Z",
     "shell.execute_reply": "2021-05-03T19:25:35.452721Z",
     "shell.execute_reply.started": "2021-05-03T19:25:34.916986Z"
    },
    "tags": []
   },
   "outputs": [
    {
     "name": "stdout",
     "output_type": "stream",
     "text": [
      "0\n",
      "0\n",
      "0\n",
      "0\n",
      "0\n",
      "0\n",
      "0\n",
      "0\n",
      "0\n"
     ]
    }
   ],
   "source": [
    "rC_multiExon_sesRNAs, sequenceMetrics = generate_sesRNAs_multiExon(rC_exon_records, 228, CDS, 0, 'Reverse')"
   ]
  },
  {
   "cell_type": "code",
   "execution_count": 27,
   "id": "2f75defe-e6c6-41b8-b978-53900e4a3932",
   "metadata": {
    "execution": {
     "iopub.execute_input": "2021-05-03T19:23:19.201123Z",
     "iopub.status.busy": "2021-05-03T19:23:19.200954Z",
     "iopub.status.idle": "2021-05-03T19:23:19.208845Z",
     "shell.execute_reply": "2021-05-03T19:23:19.208199Z",
     "shell.execute_reply.started": "2021-05-03T19:23:19.201105Z"
    },
    "tags": []
   },
   "outputs": [
    {
     "data": {
      "text/html": [
       "<div>\n",
       "<style scoped>\n",
       "    .dataframe tbody tr th:only-of-type {\n",
       "        vertical-align: middle;\n",
       "    }\n",
       "\n",
       "    .dataframe tbody tr th {\n",
       "        vertical-align: top;\n",
       "    }\n",
       "\n",
       "    .dataframe thead th {\n",
       "        text-align: right;\n",
       "    }\n",
       "</style>\n",
       "<table border=\"1\" class=\"dataframe\">\n",
       "  <thead>\n",
       "    <tr style=\"text-align: right;\">\n",
       "      <th></th>\n",
       "      <th>Exon</th>\n",
       "      <th>StartSeq</th>\n",
       "      <th>StopSeq</th>\n",
       "      <th>firstTGG</th>\n",
       "      <th>centralTGG</th>\n",
       "      <th>second_cTGG</th>\n",
       "      <th>numTGG</th>\n",
       "      <th>numATG</th>\n",
       "      <th>numStop</th>\n",
       "      <th>gcContent</th>\n",
       "    </tr>\n",
       "  </thead>\n",
       "  <tbody>\n",
       "  </tbody>\n",
       "</table>\n",
       "</div>"
      ],
      "text/plain": [
       "Empty DataFrame\n",
       "Columns: [Exon, StartSeq, StopSeq, firstTGG, centralTGG, second_cTGG, numTGG, numATG, numStop, gcContent]\n",
       "Index: []"
      ]
     },
     "execution_count": 27,
     "metadata": {},
     "output_type": "execute_result"
    }
   ],
   "source": [
    "sequenceMetrics"
   ]
  },
  {
   "cell_type": "code",
   "execution_count": 28,
   "id": "43cee5fa-a303-475c-bc46-085ace27df4d",
   "metadata": {
    "execution": {
     "iopub.execute_input": "2021-05-03T19:23:19.209675Z",
     "iopub.status.busy": "2021-05-03T19:23:19.209507Z",
     "iopub.status.idle": "2021-05-03T19:23:19.228560Z",
     "shell.execute_reply": "2021-05-03T19:23:19.227989Z",
     "shell.execute_reply.started": "2021-05-03T19:23:19.209657Z"
    },
    "tags": []
   },
   "outputs": [],
   "source": [
    "all_indices_inF_TGG = []\n",
    "all_indices_inF_ATG = []\n",
    "\n",
    "for sequence in rC_multiExon_sesRNAs:\n",
    "    num_inF_TGG, num_inF_ATG, num_inF_Stops, indicesTGG, indicesATG, indicesStops = return_inFrame(sequence, 'all')\n",
    "    all_indices_inF_TGG.append(indicesTGG)\n",
    "    all_indices_inF_ATG.append(indicesATG)\n",
    "    print(indicesTGG)\n",
    "    # print(num_inF_TGG)"
   ]
  },
  {
   "cell_type": "code",
   "execution_count": 29,
   "id": "df5eba92-2f07-49eb-ab53-a95c043ecb2c",
   "metadata": {
    "execution": {
     "iopub.execute_input": "2021-05-03T19:23:19.229363Z",
     "iopub.status.busy": "2021-05-03T19:23:19.229207Z",
     "iopub.status.idle": "2021-05-03T19:23:19.355184Z",
     "shell.execute_reply": "2021-05-03T19:23:19.354530Z",
     "shell.execute_reply.started": "2021-05-03T19:23:19.229345Z"
    },
    "tags": []
   },
   "outputs": [
    {
     "ename": "ValueError",
     "evalue": "max() arg is an empty sequence",
     "output_type": "error",
     "traceback": [
      "\u001b[0;31m---------------------------------------------------------------------------\u001b[0m",
      "\u001b[0;31mValueError\u001b[0m                                Traceback (most recent call last)",
      "\u001b[0;32m<ipython-input-29-412dd89596c9>\u001b[0m in \u001b[0;36m<module>\u001b[0;34m\u001b[0m\n\u001b[0;32m----> 1\u001b[0;31m \u001b[0mmax\u001b[0m\u001b[0;34m(\u001b[0m\u001b[0msequenceMetrics\u001b[0m\u001b[0;34m[\u001b[0m\u001b[0;34m'StartSeq'\u001b[0m\u001b[0;34m]\u001b[0m\u001b[0;34m)\u001b[0m\u001b[0;34m\u001b[0m\u001b[0;34m\u001b[0m\u001b[0m\n\u001b[0m",
      "\u001b[0;31mValueError\u001b[0m: max() arg is an empty sequence"
     ]
    }
   ],
   "source": [
    "max(sequenceMetrics['StartSeq'])"
   ]
  },
  {
   "cell_type": "code",
   "execution_count": null,
   "id": "55383cd9-7839-4670-8cac-1d3a6a5ac8d9",
   "metadata": {
    "execution": {
     "iopub.status.busy": "2021-05-03T19:23:19.355759Z",
     "iopub.status.idle": "2021-05-03T19:23:19.355997Z",
     "shell.execute_reply": "2021-05-03T19:23:19.355879Z"
    },
    "tags": []
   },
   "outputs": [],
   "source": [
    "# Just looking at 'window' in which sesRNAs are being produced \n",
    "max(sequenceMetrics['StopSeq']) - min(sequenceMetrics['StartSeq'])"
   ]
  },
  {
   "cell_type": "code",
   "execution_count": null,
   "id": "6ca67c2e-2f73-444f-9544-65b390941e59",
   "metadata": {
    "execution": {
     "iopub.status.busy": "2021-05-03T19:23:19.356468Z",
     "iopub.status.idle": "2021-05-03T19:23:19.356767Z",
     "shell.execute_reply": "2021-05-03T19:23:19.356648Z"
    },
    "tags": []
   },
   "outputs": [],
   "source": [
    "# Checking GC content of sesRNAs \n",
    "for sequence in rC_multiExon_sesRNAs:\n",
    "    print(metric_gcContent(sequence))"
   ]
  },
  {
   "cell_type": "code",
   "execution_count": null,
   "id": "d4b7480a-689f-4855-9491-5db72d415ed8",
   "metadata": {},
   "outputs": [],
   "source": []
  },
  {
   "cell_type": "code",
   "execution_count": null,
   "id": "7fa4cc73-453b-4ac9-bf4d-38f6bdfac993",
   "metadata": {},
   "outputs": [],
   "source": []
  },
  {
   "cell_type": "code",
   "execution_count": null,
   "id": "aad318dc-1a4f-4423-b1ef-6ab4d3f10a0f",
   "metadata": {},
   "outputs": [],
   "source": []
  },
  {
   "cell_type": "code",
   "execution_count": null,
   "id": "26f3c5c1-e7bd-4af4-bd00-89709d02d366",
   "metadata": {},
   "outputs": [],
   "source": []
  },
  {
   "cell_type": "code",
   "execution_count": null,
   "id": "cf2c017f-8535-45b5-81e8-b563cc94ba34",
   "metadata": {
    "tags": []
   },
   "outputs": [],
   "source": [
    "C_multiExon_sesRNAs, C_multi_startSeq, C_num_inF_TGGs, C_num_inF_ATGs, C_num_inF_Stops = generate_sesRNAs_multiExon(C_exon_records, 204, CDS, 0, 'Complement')"
   ]
  },
  {
   "cell_type": "code",
   "execution_count": null,
   "id": "5788828e-b698-4d53-ad34-05ecab65cd80",
   "metadata": {
    "tags": []
   },
   "outputs": [],
   "source": [
    "C_multiExon_sesRNAs"
   ]
  },
  {
   "cell_type": "code",
   "execution_count": null,
   "id": "960a34cf-5983-43eb-9e0d-109c4e4a825e",
   "metadata": {},
   "outputs": [],
   "source": []
  },
  {
   "cell_type": "code",
   "execution_count": null,
   "id": "2e23b72a-6f70-4096-8508-b587b09158cb",
   "metadata": {},
   "outputs": [],
   "source": []
  },
  {
   "cell_type": "code",
   "execution_count": null,
   "id": "ad5adf43-a71f-4581-aeab-1e69231db81a",
   "metadata": {},
   "outputs": [],
   "source": []
  },
  {
   "cell_type": "code",
   "execution_count": null,
   "id": "hungarian-empire",
   "metadata": {
    "tags": []
   },
   "outputs": [],
   "source": [
    "# Just additional check if in CDS \n",
    "cds_sesRNAs = return_inCDS(rC_multiExon_sesRNAs, CDS, 0, 'Reverse')\n",
    "cds_sesRNAs"
   ]
  },
  {
   "cell_type": "code",
   "execution_count": null,
   "id": "346b7ab3-f478-4fe9-9941-af8e6fbcc96e",
   "metadata": {},
   "outputs": [],
   "source": []
  },
  {
   "cell_type": "code",
   "execution_count": null,
   "id": "addressed-disney",
   "metadata": {},
   "outputs": [],
   "source": []
  },
  {
   "cell_type": "code",
   "execution_count": null,
   "id": "wireless-affiliation",
   "metadata": {},
   "outputs": [],
   "source": []
  },
  {
   "cell_type": "code",
   "execution_count": null,
   "id": "permanent-poison",
   "metadata": {
    "scrolled": true,
    "tags": []
   },
   "outputs": [],
   "source": [
    "for i in range(200, 300):\n",
    "    if(i%3 == 0):\n",
    "        print(i)"
   ]
  },
  {
   "cell_type": "code",
   "execution_count": null,
   "id": "naked-desktop",
   "metadata": {},
   "outputs": [],
   "source": []
  },
  {
   "cell_type": "code",
   "execution_count": null,
   "id": "saved-cambodia",
   "metadata": {},
   "outputs": [],
   "source": []
  },
  {
   "cell_type": "code",
   "execution_count": null,
   "id": "virgin-muslim",
   "metadata": {
    "tags": []
   },
   "outputs": [],
   "source": [
    "testSeq = sesRNAs[0]\n",
    "testSeq"
   ]
  },
  {
   "cell_type": "code",
   "execution_count": null,
   "id": "attractive-frank",
   "metadata": {
    "tags": []
   },
   "outputs": [],
   "source": [
    "str(testSeq)"
   ]
  },
  {
   "cell_type": "code",
   "execution_count": null,
   "id": "opponent-robinson",
   "metadata": {
    "tags": []
   },
   "outputs": [],
   "source": [
    "?split()"
   ]
  },
  {
   "cell_type": "code",
   "execution_count": null,
   "id": "crazy-delhi",
   "metadata": {
    "tags": []
   },
   "outputs": [],
   "source": [
    "subsequence = str(testSeq)\n",
    "codons = [subsequence for subsequence in re.split(r'(\\w{3})', subsequence) if subsequence]"
   ]
  },
  {
   "cell_type": "code",
   "execution_count": null,
   "id": "comparable-ottawa",
   "metadata": {
    "tags": []
   },
   "outputs": [],
   "source": []
  },
  {
   "cell_type": "code",
   "execution_count": null,
   "id": "generic-government",
   "metadata": {
    "tags": []
   },
   "outputs": [],
   "source": [
    "tempSeq = Seq('GTTCTCCTTCAGCACCTGCTCCAGCGGCGCATGCAAGCGCTCCTTATGGGGATAGGAAGCTGGGTGGGGGAACTTGTCCGCAGTCAGGCTGGCCAGTTTGGCATTCTCCAGCAGAAAAAGCTTGGGGTGAGCAGCCAGGGAAGTGGGGGCCTGTGCGTTGAGGAGGCCAGATGGGAAAAGGTGGCCTCCGAGGAGCTCCGATGG')"
   ]
  },
  {
   "cell_type": "code",
   "execution_count": null,
   "id": "liable-exemption",
   "metadata": {
    "tags": []
   },
   "outputs": [],
   "source": [
    "check_cORF(tempSeq)"
   ]
  },
  {
   "cell_type": "code",
   "execution_count": null,
   "id": "guilty-russell",
   "metadata": {
    "tags": []
   },
   "outputs": [],
   "source": [
    "coding_dna = Seq(\"ATGGCCATTGTAATGGGCCGCTGAAAGGGTGCCCGATAG\")"
   ]
  },
  {
   "cell_type": "code",
   "execution_count": null,
   "id": "light-nutrition",
   "metadata": {
    "tags": []
   },
   "outputs": [],
   "source": [
    "check_cORF(coding_dna)"
   ]
  },
  {
   "cell_type": "code",
   "execution_count": null,
   "id": "rising-proceeding",
   "metadata": {},
   "outputs": [],
   "source": []
  },
  {
   "cell_type": "markdown",
   "id": "extreme-commissioner",
   "metadata": {},
   "source": [
    "# Outputing sesRNA"
   ]
  },
  {
   "cell_type": "code",
   "execution_count": null,
   "id": "9e2d21f9-3937-4c5a-a30d-11754beb9a34",
   "metadata": {
    "tags": []
   },
   "outputs": [],
   "source": [
    "# Generating BioPython directory if does not exist \n",
    "pathlib.Path('Output/BioPython').mkdir(parents=True, exist_ok=True)\n",
    "\n",
    "# Generate SeqRecord object for each sequence and append to list \n",
    "outputID = geneName + '_sesRNA'\n",
    "outputDescription = \"sesRNA for \" + geneName\n",
    "\n",
    "# Generating sequence record objects (for seperate storage)\n",
    "outputSeqMulti_DNA = []\n",
    "outputSeqMulti_RNA = []\n",
    "for i in rC_multiExon_sesRNAs:\n",
    "    outputSeqMulti.append(SeqRecord(i, id = outputID, description = outputDescription))\n",
    "    \n",
    "# Write output fasta files \n",
    "version = \"V6\"\n",
    "outputName = \"Output/BioPython/\" + geneName + \"_sesRNA_\" + version + \".fasta\" \n",
    "with open(outputName, \"w\") as output_handle:\n",
    "    SeqIO.write(outputSeqMulti, output_handle, \"fasta\")"
   ]
  },
  {
   "cell_type": "code",
   "execution_count": null,
   "id": "167c3ea8-17d5-4514-9a5f-0104b3f9e8a7",
   "metadata": {},
   "outputs": [],
   "source": []
  },
  {
   "cell_type": "code",
   "execution_count": null,
   "id": "c693bab4-f20e-4c6e-a534-68e3034bf5a6",
   "metadata": {},
   "outputs": [],
   "source": []
  },
  {
   "cell_type": "code",
   "execution_count": null,
   "id": "9f9f5568-5659-438b-9b7a-908e50b8def4",
   "metadata": {},
   "outputs": [],
   "source": []
  },
  {
   "cell_type": "code",
   "execution_count": null,
   "id": "f47875ae-27ec-433f-aec4-e23bf7aca36f",
   "metadata": {
    "tags": []
   },
   "outputs": [],
   "source": []
  },
  {
   "cell_type": "code",
   "execution_count": null,
   "id": "7f8c9e2b-a4f1-4b45-91df-78cb737f5171",
   "metadata": {
    "tags": []
   },
   "outputs": [],
   "source": [
    "# Given sequence ... converts to in frame TGGs to TAGs and in frame stops so that first 'T' becomes 'G'\n",
    "# Had to be careful to only work with in frame codons ... initally had made the mistake to just use string.replace ... this would change out of frame codons as well \n",
    "def convert_DNA(sequence, numberConvert):\n",
    "    # Converting to string object for manipulation \n",
    "    strSeq = str(sequence)\n",
    "    # Generating in frame object variables \n",
    "    num_inF_TGG, num_inF_ATG, num_inF_Stop, indicesTGG, indicesATG, indicesStop = return_inFrame(Seq(strSeq), 'all')\n",
    "    print(num_inF_TGG)\n",
    "    # print(num_inF_Stop)\n",
    "\n",
    "    # Replacing in frame stop codons in sequence \n",
    "    for stop in indicesStop: \n",
    "        stopPairs = [(\"TAG\", \"GAG\"), (\"TAA\", \"GAA\"), (\"TGA\", \"GGA\")]\n",
    "        stopSeq = strSeq[stop:stop+3]\n",
    "        [stopSeq := stopSeq.replace(a, b) for a, b in stopPairs]\n",
    "        strSeq = strSeq[:stop] + stopSeq + strSeq[stop+3:]\n",
    "    \n",
    "    # Setting number convert to all if 'All' selected as number of TGG to convert \n",
    "    if numberConvert == 'All': numberConvert = num_inF_TGG\n",
    "    # Converting TGG's ... up to number set ... and in order from starting with most central \n",
    "    # Sorts indicees by distance from center \n",
    "    sorted_indices_centralTGG = np.array(sorted(indicesTGG - (len(strSeq)/2), key = abs)) + (len(strSeq)/2)\n",
    "    # Converts in frame TGG's ... starting from most central TGG ... up to limit set by numberConvert \n",
    "    for i in range(numberConvert):\n",
    "        currentIndex = int(sorted_indices_centralTGG[i])\n",
    "        strSeq = strSeq[:currentIndex] + 'TAG' + strSeq[currentIndex+3:]\n",
    "    # Returns RNA \n",
    "    return Seq(strSeq).transcribe()"
   ]
  },
  {
   "cell_type": "code",
   "execution_count": null,
   "id": "6af0e1ef-cb15-4fa0-a3f6-9b9f52d03398",
   "metadata": {
    "tags": []
   },
   "outputs": [],
   "source": [
    "testSeq = Seq('TGGGAGTAGTGGTGGTAATGA')\n",
    "testStr = str(testSeq)"
   ]
  },
  {
   "cell_type": "code",
   "execution_count": null,
   "id": "2e4f7175-2aef-483b-8f96-831dde95fa64",
   "metadata": {
    "tags": []
   },
   "outputs": [],
   "source": [
    "convert_DNA(testSeq, 1)"
   ]
  },
  {
   "cell_type": "code",
   "execution_count": null,
   "id": "a1cf653e-5b1a-45eb-9eb1-35be5f21d605",
   "metadata": {
    "tags": []
   },
   "outputs": [],
   "source": [
    "# Test that all and numbering is working \n",
    "convert_DNA(testSeq, 3) == convert_DNA(testSeq, 'All')"
   ]
  },
  {
   "cell_type": "code",
   "execution_count": null,
   "id": "023548a3-3307-403b-be4e-f6ca37d91bad",
   "metadata": {
    "tags": []
   },
   "outputs": [],
   "source": [
    "convert_DNA(rC_multiExon_sesRNAs[0], 'All')"
   ]
  },
  {
   "cell_type": "code",
   "execution_count": null,
   "id": "90ae4ae5-4c10-4f54-a1c8-d126e2da8a9d",
   "metadata": {
    "tags": []
   },
   "outputs": [],
   "source": [
    "# Testing that continious reading frame being produced if number set to 0 \n",
    "len(convert_DNA(rC_multiExon_sesRNAs[0], 0).translate(to_stop = True)) == len(rC_multiExon_sesRNAs[0])/3"
   ]
  },
  {
   "cell_type": "code",
   "execution_count": null,
   "id": "4d8d7111-a889-4047-802c-602d090da378",
   "metadata": {
    "tags": []
   },
   "outputs": [],
   "source": [
    "# Checking that right number of TGG being converted \n",
    "return_inFrame(convert_DNA(rC_multiExon_sesRNAs[0], 'All').back_transcribe(), 'numTGG')"
   ]
  },
  {
   "cell_type": "code",
   "execution_count": null,
   "id": "1bae4831-23e7-408e-bc9e-9a7aebc136f6",
   "metadata": {},
   "outputs": [],
   "source": []
  },
  {
   "cell_type": "code",
   "execution_count": null,
   "id": "d40fa6fd-c67b-4253-ac72-5e8d27697653",
   "metadata": {},
   "outputs": [],
   "source": []
  },
  {
   "cell_type": "code",
   "execution_count": null,
   "id": "bcc692ef-2b86-49e5-a910-053cf06538db",
   "metadata": {
    "tags": []
   },
   "outputs": [],
   "source": [
    "convert_DNA(testSeq, 1) - (len(testSeq)/2)"
   ]
  },
  {
   "cell_type": "code",
   "execution_count": null,
   "id": "f9570a65-2d19-48da-9328-0a348cdf8b39",
   "metadata": {
    "tags": []
   },
   "outputs": [],
   "source": [
    "abs(convert_DNA(testSeq, 1) - (len(testSeq)/2))"
   ]
  },
  {
   "cell_type": "code",
   "execution_count": null,
   "id": "038c46e2-2379-483e-885b-a74aaa59c52a",
   "metadata": {
    "tags": []
   },
   "outputs": [],
   "source": [
    "np.sort(abs(convert_DNA(testSeq, 1) - (len(testSeq)/2))) + (len(testSeq)/2)"
   ]
  },
  {
   "cell_type": "code",
   "execution_count": null,
   "id": "5a05d474-d9f5-4c6e-bb0d-a04ab3df21c9",
   "metadata": {
    "tags": []
   },
   "outputs": [],
   "source": [
    "np.array(sorted(convert_DNA(testSeq, 1) - (len(testSeq)/2), key = abs)) + (len(testSeq)/2)"
   ]
  },
  {
   "cell_type": "code",
   "execution_count": null,
   "id": "7ee4c058-fcca-469f-90a3-32fd868e95c5",
   "metadata": {},
   "outputs": [],
   "source": []
  },
  {
   "cell_type": "code",
   "execution_count": null,
   "id": "54abcd1d-689a-479a-a0ec-72f227fc50ec",
   "metadata": {},
   "outputs": [],
   "source": []
  },
  {
   "cell_type": "code",
   "execution_count": null,
   "id": "31a227db-5c8c-4bdf-9e5b-e458f6e0449e",
   "metadata": {},
   "outputs": [],
   "source": []
  },
  {
   "cell_type": "code",
   "execution_count": null,
   "id": "a1a573ef-21bc-43ea-825f-40cbd31013c6",
   "metadata": {},
   "outputs": [],
   "source": []
  },
  {
   "cell_type": "code",
   "execution_count": null,
   "id": "8a03757a-e498-4b7b-9419-4466b6620944",
   "metadata": {},
   "outputs": [],
   "source": []
  },
  {
   "cell_type": "code",
   "execution_count": null,
   "id": "cfb99393-f012-4853-bdd6-f6ab77206b39",
   "metadata": {},
   "outputs": [],
   "source": []
  },
  {
   "cell_type": "code",
   "execution_count": null,
   "id": "c3fd9adf-493b-446a-a533-7b622c7bf697",
   "metadata": {
    "tags": []
   },
   "outputs": [],
   "source": [
    "# Function for saving both original template DNA sequence and the converted RNA given list of sesRNAs Seq objects\n",
    "# Could change later to make for separate output files ... have not decided yet whether to just put them together into one labeled fasta file \n",
    "def save_sesRNAs(sequences_sesRNAs, geneName, version, numConvertTGG):\n",
    "    # Generating BioPython directory if does not exist \n",
    "    pathlib.Path('Output/BioPython').mkdir(parents=True, exist_ok=True)\n",
    "    \n",
    "    # Defining save name and description for outputs (original DNA and converted RNA)\n",
    "    DNA_outputID = geneName + '_sesRNA'\n",
    "    DNA_outputDescription = \"sesRNA DNA original for \" + geneName\n",
    "    convertedRNA_outputID = geneName + '_sesRNA'\n",
    "    convertedRNA_outputDescription = \"sesRNA converted RNA for \" + geneName\n",
    "    \n",
    "    # Creating empty list for storing sequences \n",
    "    outputSeqMulti_DNA = []\n",
    "    outputSeqMulti_convertedRNA= []\n",
    "    \n",
    "    # Generating SeqRecord objects in preparation for writing FASTA files ... edited description to include number of sequence\n",
    "    i = 1\n",
    "    for sequence in sequences_sesRNAs:\n",
    "        outputSeqMulti_DNA.append(SeqRecord(sequence, id = DNA_outputID+str(i), description = DNA_outputDescription))\n",
    "        outputSeqMulti_convertedRNA.append(SeqRecord(convert_DNA(sequence, numberConvertTGG), id = convertedRNA_outputID+str(i), description = convertedRNA_outputDescription))\n",
    "        i += 1\n",
    "        \n",
    "    # Write output fasta files \n",
    "    DNA_outputName = \"Output/BioPython/\" + geneName + \"_sesRNA_\" + version + \".fasta\" \n",
    "    convertedRNA_outputName = \"Output/BioPython/\" + geneName + \"_sesRNA_convertedRNA_\" + version + \".fasta\" \n",
    "    \n",
    "    with open(outputName, \"w\") as output_handle:\n",
    "        # Writing original template DNA files \n",
    "        SeqIO.write(outputSeqMulti_DNA, output_handle, \"fasta\")\n",
    "        # Writing orginal template RNA files \n",
    "        SeqIO.write(outputSeqMulti_convertedRNA, output_handle, \"fasta\")"
   ]
  },
  {
   "cell_type": "code",
   "execution_count": null,
   "id": "b468b5c8-ff7c-487e-9e68-1e8218717ca1",
   "metadata": {},
   "outputs": [],
   "source": []
  },
  {
   "cell_type": "code",
   "execution_count": null,
   "id": "5d563e57-b0c3-44df-98d7-9c6553d80147",
   "metadata": {},
   "outputs": [],
   "source": []
  },
  {
   "cell_type": "markdown",
   "id": "southern-injection",
   "metadata": {},
   "source": [
    "# Secondary structure "
   ]
  },
  {
   "cell_type": "markdown",
   "id": "3157c7ea-67bb-4049-9598-ba1a32b3f207",
   "metadata": {},
   "source": [
    "## Working "
   ]
  },
  {
   "cell_type": "code",
   "execution_count": null,
   "id": "167c7893-0407-4170-9b43-d52d5010460c",
   "metadata": {
    "tags": []
   },
   "outputs": [],
   "source": [
    "# Leading RNAfold as RNA \n",
    "sys.path.append(\"/home/user1/Dropbox/Research/Neurobiology_PhD/Rotations/Huang/Projects/CellReadR/Packages/ViennaRNA_Python3/usr/lib/python3.9/site-packages/RNA\")\n",
    "import _RNA as RNA"
   ]
  },
  {
   "cell_type": "code",
   "execution_count": null,
   "id": "32d4bf75-9493-4485-8f2f-261a4d8fea22",
   "metadata": {
    "tags": []
   },
   "outputs": [],
   "source": [
    "# Generating Temp \n",
    "pathlib.Path('Output/BioPython/Temp').mkdir(parents=True, exist_ok=True)"
   ]
  },
  {
   "cell_type": "code",
   "execution_count": null,
   "id": "b86b3a92-0ece-4baa-a6a2-c7be95af17ed",
   "metadata": {
    "tags": []
   },
   "outputs": [],
   "source": [
    "# Converting to RNA for calculating secondary structure \n",
    "sesRNAs_RNA = []\n",
    "for i in range(len(rC_multiExon_sesRNAs)):\n",
    "    sesRNAs_RNA.append(rC_multiExon_sesRNAs[i].transcribe())"
   ]
  },
  {
   "cell_type": "code",
   "execution_count": null,
   "id": "54ac5699-8fe6-4c70-a70d-219e764f2ffb",
   "metadata": {
    "tags": []
   },
   "outputs": [],
   "source": [
    "sesRNAs_RNA"
   ]
  },
  {
   "cell_type": "code",
   "execution_count": null,
   "id": "caab443c-bcd7-4bb4-be22-8249fe9e296f",
   "metadata": {},
   "outputs": [],
   "source": [
    "str(sesRNAs_RNA[0])"
   ]
  },
  {
   "cell_type": "code",
   "execution_count": null,
   "id": "5ea6bd0d-91e3-45c0-80ed-f0d3ed8f912d",
   "metadata": {
    "tags": []
   },
   "outputs": [],
   "source": [
    "# Just making sure to clear Temp folder before starting \n",
    "os.system('rm -rf Output/BioPython/Temp/*')"
   ]
  },
  {
   "cell_type": "code",
   "execution_count": null,
   "id": "bc6f170c-1a7f-41c8-a546-c0802ddd2ca8",
   "metadata": {
    "tags": []
   },
   "outputs": [],
   "source": [
    "# Writing sequences as seperate fasta files \n",
    "i = 1\n",
    "all_mfe = []\n",
    "\n",
    "for sesRNA in sesRNAs_RNA:\n",
    "    (ss, mfe) = RNA.fold(str(sesRNAs_RNA[i-1]))\n",
    "    all_mfe.append(mfe)\n",
    "    \n",
    "    # Making sure that single digit number stast with 0 so that files processed in order \n",
    "    if i < 10: numSes = '0' + str(i)\n",
    "    else: numSes = str(i)\n",
    "        \n",
    "    # Defining output name \n",
    "    outputName = geneName + '_' + numSes\n",
    "    outputDescription = \"sesRNA #\" + numSes\n",
    "    i += 1\n",
    "    \n",
    "    outputRecord = SeqRecord(sesRNA, id = outputName, description = outputDescription)\n",
    "    outputFull = 'Output/BioPython/Temp/' + outputName + '.fasta'\n",
    "    \n",
    "    with open(outputFull, \"w\") as output_handle:\n",
    "        SeqIO.write(outputRecord, output_handle, \"fasta\")"
   ]
  },
  {
   "cell_type": "code",
   "execution_count": null,
   "id": "d78797f4-ffe1-48a5-82a5-df0727772d59",
   "metadata": {},
   "outputs": [],
   "source": [
    "all_mfe"
   ]
  },
  {
   "cell_type": "code",
   "execution_count": null,
   "id": "78f2b53e-893b-4aa9-ac4e-b919704d4de4",
   "metadata": {
    "tags": []
   },
   "outputs": [],
   "source": [
    "# Add as column in sequence metrics dataframe \n",
    "sequenceMetrics['mfe'] = all_mfe\n",
    "sequenceMetrics"
   ]
  },
  {
   "cell_type": "code",
   "execution_count": null,
   "id": "88263f96-0d0d-4713-ae4d-9a72ad9151b1",
   "metadata": {
    "tags": []
   },
   "outputs": [],
   "source": [
    "len(rC_multiExon_sesRNAs)"
   ]
  },
  {
   "cell_type": "code",
   "execution_count": null,
   "id": "978048b2-1325-41bb-90ce-05280b342fbf",
   "metadata": {
    "tags": []
   },
   "outputs": [],
   "source": [
    "# Call RNAfold on each sequence of output \n",
    "rnaFold_prob = []\n",
    "\n",
    "intarna_columns = ['E', 'start', 'end1', 'start2', 'end2']\n",
    "all_sorted_intarna = []\n",
    "useful_intarna =  pd.Dataframe(columns = intarna_columns)\n",
    "\n",
    "pathTemp = '/home/user1/Dropbox/Research/Neurobiology_PhD/Rotations/Huang/Projects/CellReadR/Code/Output/BioPython/Temp'\n",
    "pathOutTempFold = pathTemp + '/temp.out'\n",
    "pathOutTempIntaRNA = pathTemp + '/temp.csv'\n",
    "\n",
    "# sorting files in output of scandir \n",
    "for entry in sorted(os.scandir(pathTemp), key=lambda e: e.name):\n",
    "    # For checking which file currently working on (not in order for some reason) \n",
    "    print(entry.path)\n",
    "    \n",
    "    # Defining command for RNAfold \n",
    "    commandFold = 'RNAfold -p -d2 --noLP < ' + entry.path + ' > ' + pathOutTempFold    \n",
    "    # Generating RNAfold predictions \n",
    "    generateProb = subprocess.run(commandFold, shell=True, stdout=subprocess.PIPE)\n",
    "    \n",
    "    # Defining command for IntaRNA\n",
    "    numThreads = 10\n",
    "    commandInta = 'IntaRNA -t ' + CDS_fileName + ' -q ' + entry.path + ' --threads ' + str(numThreads) + ' --outMode=C > ' + pathOutTempIntaRNA\n",
    "    # Generating IntaRNA predictions \n",
    "    os.system(commandInta)\n",
    "\n",
    "    # Moving to Temp directory to work on fasta files \n",
    "    currentWD = os.getcwd()\n",
    "    os.chdir('Output/BioPython/Temp')\n",
    "    \n",
    "    # Running script for getting probabilities from RNAfold output file (added to ArchBin btw)\n",
    "    readProb = subprocess.Popen(\"rnaFold_prob.sh\", shell=True, stdout=subprocess.PIPE)\n",
    "    returnedProb = readProb.stdout.read()\n",
    "    # Waiting for last command to finish before storing value in temp.out file \n",
    "    readProb.wait()\n",
    "    # Append frequences ... convert to percentage \n",
    "    rnaFold_prob.append(float(returnedProb)*100)\n",
    "    \n",
    "    # Reading in csv file with information \n",
    "    intarnaOutput = pd.read_csv(outputPath, sep = ';')\n",
    "    # Saving pd output as list of lists ... would be a pain to compute multiple times if desired \n",
    "    sorted_intarna = intarnaOutput.sort_values('E', ascending=True)\n",
    "    # Concatinating select columuns of dataframe for inclusion into sequence metrics \n",
    "    all_sorted_intarna.append(sorted_intarna)i\n",
    "    pd.concat([useful_intarna, sorted_intarna[intarna_columns]])\n",
    "    \n",
    "    # Removing temp.out after finishing each run \n",
    "    os.system('rm -rf temp.out')\n",
    "    os.system('rm -rf temp.csv')\n",
    "    # Return to initial working directory \n",
    "    os.chdir(currentWD)\n",
    "    # Removing files generated by RNAfold \n",
    "    os.system('rm -rf *ss.ps')\n",
    "    os.system('rm -rf *dp.ps')"
   ]
  },
  {
   "cell_type": "code",
   "execution_count": null,
   "id": "de0f27c0-ba6d-4375-958d-5659a4794b2a",
   "metadata": {},
   "outputs": [],
   "source": []
  },
  {
   "cell_type": "code",
   "execution_count": null,
   "id": "310468e1-7d2c-4a18-b765-23a1210e50dc",
   "metadata": {
    "tags": []
   },
   "outputs": [],
   "source": [
    "outputPath = os.getcwd() + '/' + outputFile"
   ]
  },
  {
   "cell_type": "code",
   "execution_count": null,
   "id": "f369b229-fa6c-4e39-9fac-4fe4fd45136f",
   "metadata": {},
   "outputs": [],
   "source": [
    "outputPath"
   ]
  },
  {
   "cell_type": "code",
   "execution_count": null,
   "id": "e49fe4ff-9b37-4e0c-87ba-630da4b73af1",
   "metadata": {
    "tags": []
   },
   "outputs": [],
   "source": [
    "intarnaOutput = pd.read_csv(outputPath, sep = ';')"
   ]
  },
  {
   "cell_type": "code",
   "execution_count": null,
   "id": "53a9e75e-b23f-459e-b998-3e407c3494c4",
   "metadata": {
    "tags": []
   },
   "outputs": [],
   "source": [
    "intarnaOutput"
   ]
  },
  {
   "cell_type": "code",
   "execution_count": null,
   "id": "97c20156-ab9f-4aed-9607-c5891466d37e",
   "metadata": {},
   "outputs": [],
   "source": []
  },
  {
   "cell_type": "code",
   "execution_count": null,
   "id": "33e1a205-21b3-4900-851d-d1f665cbe5b9",
   "metadata": {},
   "outputs": [],
   "source": []
  },
  {
   "cell_type": "code",
   "execution_count": null,
   "id": "e802c146-217a-42b9-8b86-7f541f8e4ef0",
   "metadata": {
    "tags": []
   },
   "outputs": [],
   "source": [
    "rnaFold_prob"
   ]
  },
  {
   "cell_type": "code",
   "execution_count": null,
   "id": "812fd9f3-c4fe-464c-89e4-e21eb28cbf44",
   "metadata": {
    "tags": []
   },
   "outputs": [],
   "source": [
    "# Add as column in sequence metrics dataframe \n",
    "sequenceMetrics['rnaFoldProb'] = rnaFold_prob\n",
    "# Concatenate IntaRNA output as additional columns \n",
    "pd.concat(sequenceMetrics, useful_intarna, axis = 1)\n",
    "sequenceMetrics"
   ]
  },
  {
   "cell_type": "code",
   "execution_count": null,
   "id": "f04d0948-8144-4c6a-a6e5-f8f70197c098",
   "metadata": {
    "tags": []
   },
   "outputs": [],
   "source": [
    "temp_metrics.sort_values('rnaFoldProb', ascending=True).iloc[0]"
   ]
  },
  {
   "cell_type": "code",
   "execution_count": null,
   "id": "9883a0e9-ab5a-4fc5-997d-832afa60412f",
   "metadata": {
    "tags": []
   },
   "outputs": [],
   "source": [
    "sortedMetrics.loc[10, :]"
   ]
  },
  {
   "cell_type": "code",
   "execution_count": null,
   "id": "650117a8-dee0-45ba-be33-e3cd93f6f12f",
   "metadata": {},
   "outputs": [],
   "source": [
    "sortedMetrics"
   ]
  },
  {
   "cell_type": "code",
   "execution_count": null,
   "id": "22c069f0-9a21-4ced-ab29-79b9651d7930",
   "metadata": {},
   "outputs": [],
   "source": [
    "sortedMetrics[['Exon', 'numTGG']]"
   ]
  },
  {
   "cell_type": "code",
   "execution_count": null,
   "id": "d86f8abe-f395-4d61-a3b0-3447c8876d1f",
   "metadata": {},
   "outputs": [],
   "source": []
  },
  {
   "cell_type": "code",
   "execution_count": null,
   "id": "c0b9406d-0a2b-49a6-b86b-b1eb0f47d479",
   "metadata": {},
   "outputs": [],
   "source": []
  },
  {
   "cell_type": "code",
   "execution_count": null,
   "id": "5eedea12-3610-4ef1-af32-0cb13fd41e43",
   "metadata": {},
   "outputs": [],
   "source": []
  },
  {
   "cell_type": "code",
   "execution_count": null,
   "id": "ec53c24d-347b-457a-bbd3-00be85d33ad8",
   "metadata": {},
   "outputs": [],
   "source": []
  },
  {
   "cell_type": "markdown",
   "id": "58b5b203-4d30-404d-a901-d6acb1a7d5a2",
   "metadata": {},
   "source": [
    "## Not working or not being used "
   ]
  },
  {
   "cell_type": "code",
   "execution_count": null,
   "id": "efda45da-50ae-4e1a-816b-11cff6264bb0",
   "metadata": {
    "tags": []
   },
   "outputs": [],
   "source": [
    "sys.path.append(\"/usr/share/ViennaRNA\")"
   ]
  },
  {
   "cell_type": "code",
   "execution_count": null,
   "id": "12dbed80-8247-4145-8aa4-59661db25282",
   "metadata": {},
   "outputs": [],
   "source": []
  },
  {
   "cell_type": "code",
   "execution_count": null,
   "id": "cbff71cb-5a0d-4a5a-9449-ad55183a9f7c",
   "metadata": {
    "tags": []
   },
   "outputs": [],
   "source": [
    "# Leading RNAfold as RNA \n",
    "import sys\n",
    "sys.path.append(\"/usr/lib/python3.9/site-packages/RNA\")\n",
    "import _RNA as RNA"
   ]
  },
  {
   "cell_type": "code",
   "execution_count": null,
   "id": "42a1ca35-5d61-41cb-a591-9f50d6f60641",
   "metadata": {},
   "outputs": [],
   "source": [
    "import pyseqlib"
   ]
  },
  {
   "cell_type": "code",
   "execution_count": null,
   "id": "d370774a-62a0-4be0-9ba9-0f701d2826b0",
   "metadata": {},
   "outputs": [],
   "source": [
    "from pyseqlib import pyRNAfold"
   ]
  },
  {
   "cell_type": "code",
   "execution_count": null,
   "id": "43d65dc2-2ed1-4a9b-840f-88b800e652fd",
   "metadata": {},
   "outputs": [],
   "source": []
  },
  {
   "cell_type": "code",
   "execution_count": null,
   "id": "c8ea1feb-f3a0-47f7-985a-9c3efced12b9",
   "metadata": {},
   "outputs": [],
   "source": [
    "pyRNAfold i"
   ]
  },
  {
   "cell_type": "code",
   "execution_count": null,
   "id": "6e7157da-fbc5-403e-b035-7c53ee1599d6",
   "metadata": {},
   "outputs": [],
   "source": [
    "pyseqlib.fold_compound(sequence)"
   ]
  },
  {
   "cell_type": "code",
   "execution_count": null,
   "id": "5dbf73a8-500e-4269-ad5f-c4c7d4e0cf9c",
   "metadata": {},
   "outputs": [],
   "source": []
  },
  {
   "cell_type": "code",
   "execution_count": null,
   "id": "e70277c0-f44c-442e-98d2-f09149a99bdb",
   "metadata": {},
   "outputs": [],
   "source": [
    "RNA.fold_compound(sequence)"
   ]
  },
  {
   "cell_type": "code",
   "execution_count": null,
   "id": "ba5f1bdb-1a69-436c-aa5b-796cbb6253d7",
   "metadata": {},
   "outputs": [],
   "source": [
    "sys.path.append(\"/home/user1/Dropbox/Research/Neurobiology_PhD/Rotations/Huang/Projects/CellReadR/Packages/RNA\")\n",
    "import _RNA as RNA"
   ]
  },
  {
   "cell_type": "code",
   "execution_count": null,
   "id": "1f5a4e18-c65c-4719-8e2c-37c39d000939",
   "metadata": {},
   "outputs": [],
   "source": []
  },
  {
   "cell_type": "code",
   "execution_count": null,
   "id": "a2bad740-1144-4da6-9894-30c39822990a",
   "metadata": {},
   "outputs": [],
   "source": []
  },
  {
   "cell_type": "code",
   "execution_count": null,
   "id": "39b3fe1c-4a59-4c07-a19d-3d8f32c55fb4",
   "metadata": {
    "tags": []
   },
   "outputs": [],
   "source": [
    "sys.path.append(\"/home/user1/Dropbox/Research/Neurobiology_PhD/Rotations/Huang/Projects/CellReadR/Code/Functions\")\n",
    "import RNA_Fold"
   ]
  },
  {
   "cell_type": "code",
   "execution_count": null,
   "id": "5150f26a-3612-44b3-a6e6-ab594844a5a0",
   "metadata": {},
   "outputs": [],
   "source": [
    "md = RNA.md()"
   ]
  },
  {
   "cell_type": "code",
   "execution_count": null,
   "id": "8d4ce5e2-9d46-4daf-8a95-3d56da14de84",
   "metadata": {},
   "outputs": [],
   "source": [
    "import example"
   ]
  },
  {
   "cell_type": "code",
   "execution_count": null,
   "id": "92a361b3-4c02-4ece-a37b-23fcd41d9c8d",
   "metadata": {
    "tags": []
   },
   "outputs": [],
   "source": [
    "sequence = \"CGCAGGGAUACCCGCG\"\n",
    " \n",
    "# create new fold_compound object\n",
    "fc = RNA.fold_compound(sequence)\n",
    " \n",
    "# compute minimum free energy (mfe) and corresponding structure\n",
    "(ss, mfe) = fc.mfe()\n",
    " "
   ]
  },
  {
   "cell_type": "code",
   "execution_count": null,
   "id": "ec84efc7-c0e9-4687-b6d0-64252c206805",
   "metadata": {},
   "outputs": [],
   "source": []
  },
  {
   "cell_type": "code",
   "execution_count": null,
   "id": "c3c2c214-6be3-4084-9f68-1620dcaac196",
   "metadata": {},
   "outputs": [],
   "source": []
  },
  {
   "cell_type": "code",
   "execution_count": null,
   "id": "215b7384-fe9e-47d7-90a1-69b70ac88674",
   "metadata": {},
   "outputs": [],
   "source": []
  },
  {
   "cell_type": "code",
   "execution_count": null,
   "id": "dec0e796-a5f9-48f3-a745-93d3ecf84fbc",
   "metadata": {
    "tags": []
   },
   "outputs": [],
   "source": [
    "# The RNA sequence\n",
    "seq = \"GAGUAGUGGAACCAGGCUAUGUUUGUGACUCGCAGACUAACA\"\n",
    " \n",
    "# compute minimum free energy (MFE) and corresponding structure\n",
    "(ss, mfe) = RNA.fold(seq)"
   ]
  },
  {
   "cell_type": "code",
   "execution_count": null,
   "id": "8b3d57f5-0912-4573-bab8-7d8e4c57305c",
   "metadata": {},
   "outputs": [],
   "source": [
    "import pickle "
   ]
  },
  {
   "cell_type": "code",
   "execution_count": null,
   "id": "4d5f1883-20cf-4fbd-aaaa-111a84e39322",
   "metadata": {},
   "outputs": [],
   "source": [
    "mfe"
   ]
  },
  {
   "cell_type": "code",
   "execution_count": null,
   "id": "865753f3-945c-402e-a1fc-f6627073c7eb",
   "metadata": {},
   "outputs": [],
   "source": []
  },
  {
   "cell_type": "code",
   "execution_count": null,
   "id": "c6859c6a-b13c-46f1-a7fa-37581dedd0ef",
   "metadata": {},
   "outputs": [],
   "source": []
  },
  {
   "cell_type": "code",
   "execution_count": null,
   "id": "008151d9-60c5-4bb2-80e3-a4a834752f59",
   "metadata": {
    "tags": []
   },
   "outputs": [],
   "source": [
    "pathOuput = \"/home/user1/Dropbox/Research/Neurobiology_PhD/Rotations/Huang/Projects/CellReadR/Code/Functions/seqObject.p\"\n",
    "pickle.dump(testSeq, open(pathOuput, 'wb'))"
   ]
  },
  {
   "cell_type": "code",
   "execution_count": null,
   "id": "d5626803-11f0-4c60-a8dc-0614fcd69ddb",
   "metadata": {
    "tags": []
   },
   "outputs": [],
   "source": [
    "# Running script for getting probabilities from RNAfold output file (added to ArchBin btw)\n",
    "pathFuncPython = '/home/user1/Dropbox/Research/Neurobiology_PhD/Rotations/Huang/Projects/CellReadR/Code/Functions/'\n",
    "# command = 'python ' + '/home/user1/Dropbox/Research/Neurobiology_PhD/Rotations/Huang/Projects/CellReadR/Code/Functions/RNA_Fold.py'\n",
    "# command = 'cd ' + pathFuncPython + ' | ./RNA_Fold.py'\n",
    "# command = 'cd ' + pathFuncPython + ' | ls -a'\n",
    "\n",
    "command = 'ls -a'\n",
    "readProb = subprocess.Popen(command, shell=True, stdout=subprocess.PIPE)\n",
    "returnedProb = readProb.stdout.read()"
   ]
  },
  {
   "cell_type": "code",
   "execution_count": null,
   "id": "4d15723e-205c-46be-8774-a7832f07c16b",
   "metadata": {
    "tags": []
   },
   "outputs": [],
   "source": [
    "returnedProb"
   ]
  },
  {
   "cell_type": "code",
   "execution_count": null,
   "id": "369e3b34-90bb-4ffe-94bd-3536fff04a43",
   "metadata": {},
   "outputs": [],
   "source": [
    "command "
   ]
  },
  {
   "cell_type": "code",
   "execution_count": null,
   "id": "702f0340-65cf-4f6a-9370-0fea5c4142f8",
   "metadata": {},
   "outputs": [],
   "source": []
  },
  {
   "cell_type": "code",
   "execution_count": null,
   "id": "b7f49c08-c085-4780-9d9d-9876f86f86a6",
   "metadata": {},
   "outputs": [],
   "source": []
  },
  {
   "cell_type": "code",
   "execution_count": null,
   "id": "df9776d2-32d8-42ed-ae78-11a152e464f4",
   "metadata": {},
   "outputs": [],
   "source": [
    "str(rC_multiExon_sesRNAs[0])"
   ]
  },
  {
   "cell_type": "code",
   "execution_count": null,
   "id": "085834fe-d3bf-441f-a3e3-cd2957cbde27",
   "metadata": {
    "tags": []
   },
   "outputs": [],
   "source": [
    "testSeq = str(rC_multiExon_sesRNAs[0])\n",
    "testSeq"
   ]
  },
  {
   "cell_type": "code",
   "execution_count": null,
   "id": "23f116db-7ee8-42bb-b693-180e054adf50",
   "metadata": {
    "tags": []
   },
   "outputs": [],
   "source": [
    "RNA.fold(testSeq)"
   ]
  },
  {
   "cell_type": "code",
   "execution_count": null,
   "id": "17244f24-5962-4204-be1e-6ccb6114bea8",
   "metadata": {},
   "outputs": [],
   "source": []
  },
  {
   "cell_type": "code",
   "execution_count": null,
   "id": "bb28caef-065f-414b-8e52-a6c58268b3ef",
   "metadata": {
    "tags": []
   },
   "outputs": [],
   "source": [
    "def compute_mfeFreq(sequence):\n",
    "    # create a fold_compound object for the current sequence\n",
    "    fc = RNA.fold_compound(sequence)\n",
    "\n",
    "    # compute the MFE and corresponding structure\n",
    "    (mfe_struct, mfe) = fc.mfe()\n",
    "\n",
    "\n",
    "    # compute partition function\n",
    "    (bp_propensity, dG) = fc.pf()\n",
    "\n",
    "    # compute frequency of MFE structure (the 'hard' way)\n",
    "    kT = RNA.exp_param().kT / 1000.\n",
    "\n",
    "    prob_mfe = math.exp((dG - mfe) / kT)\n",
    "    \n",
    "    return prob_mfe"
   ]
  },
  {
   "cell_type": "code",
   "execution_count": null,
   "id": "19aa6422-1553-48df-a937-09b3c8573bff",
   "metadata": {},
   "outputs": [],
   "source": []
  },
  {
   "cell_type": "code",
   "execution_count": null,
   "id": "d0340ab0-6477-4743-ad7e-dc3c490111ca",
   "metadata": {},
   "outputs": [],
   "source": []
  },
  {
   "cell_type": "code",
   "execution_count": null,
   "id": "damaged-pressure",
   "metadata": {},
   "outputs": [],
   "source": [
    "rC_multi_startSeq"
   ]
  },
  {
   "cell_type": "code",
   "execution_count": null,
   "id": "charged-congress",
   "metadata": {
    "tags": []
   },
   "outputs": [],
   "source": [
    "rC_multiExon_sesRNAs"
   ]
  },
  {
   "cell_type": "code",
   "execution_count": null,
   "id": "elementary-jersey",
   "metadata": {
    "tags": []
   },
   "outputs": [],
   "source": [
    "str(rC_multiExon_sesRNAs[8])"
   ]
  },
  {
   "cell_type": "code",
   "execution_count": null,
   "id": "mediterranean-savage",
   "metadata": {
    "tags": []
   },
   "outputs": [],
   "source": [
    "str(rC_multiExon_sesRNAs[18])"
   ]
  },
  {
   "cell_type": "code",
   "execution_count": null,
   "id": "interracial-bottom",
   "metadata": {},
   "outputs": [],
   "source": []
  },
  {
   "cell_type": "code",
   "execution_count": null,
   "id": "solar-patrick",
   "metadata": {},
   "outputs": [],
   "source": [
    "from seqfold import dg, dg_cache, fold"
   ]
  },
  {
   "cell_type": "code",
   "execution_count": null,
   "id": "acknowledged-director",
   "metadata": {
    "tags": []
   },
   "outputs": [],
   "source": [
    "# just returns minimum free energy\n",
    "dg(\"GGGAGGTCGTTACATCTGGGTAACACCGGTACTGATCCGGTGACCTCCC\", temp = 37.0)  # -12.94"
   ]
  },
  {
   "cell_type": "code",
   "execution_count": null,
   "id": "9d425009-33b2-446f-9faf-7895b89e4951",
   "metadata": {},
   "outputs": [],
   "source": []
  },
  {
   "cell_type": "code",
   "execution_count": null,
   "id": "3f0c25cd-144f-44f8-8237-3a30feca85c9",
   "metadata": {},
   "outputs": [],
   "source": []
  },
  {
   "cell_type": "markdown",
   "id": "2448a30b-85ac-49df-b0a4-77266bef87c0",
   "metadata": {},
   "source": [
    "# Test Intarna (test strength of binding, off-target, ...)  "
   ]
  },
  {
   "cell_type": "code",
   "execution_count": null,
   "id": "71a7a71b-636d-4306-9293-928340bd2c84",
   "metadata": {
    "tags": []
   },
   "outputs": [],
   "source": [
    "import intarnapvalue"
   ]
  },
  {
   "cell_type": "code",
   "execution_count": null,
   "id": "a3b8a086-570c-4ce2-b379-2d6fa514e5f1",
   "metadata": {
    "tags": []
   },
   "outputs": [],
   "source": [
    "testSeq = str(rC_multiExon_sesRNAs[0])\n",
    "testSeq"
   ]
  },
  {
   "cell_type": "code",
   "execution_count": null,
   "id": "2d965c68-7f64-4f5b-894a-9194e0767a16",
   "metadata": {
    "tags": []
   },
   "outputs": [],
   "source": [
    "target = str(CDS[0].seq)\n",
    "target "
   ]
  },
  {
   "cell_type": "code",
   "execution_count": null,
   "id": "9592a4f3-8751-4f2a-ba84-49d73a47e1f0",
   "metadata": {
    "tags": []
   },
   "outputs": [],
   "source": [
    "from intarnapvalue.intarna_pvalue import IntaRNApvalue"
   ]
  },
  {
   "cell_type": "code",
   "execution_count": null,
   "id": "06385d0f-6d8a-4731-8519-8acde1f45040",
   "metadata": {
    "tags": []
   },
   "outputs": [],
   "source": [
    "?IntaRNApvalue"
   ]
  },
  {
   "cell_type": "code",
   "execution_count": null,
   "id": "bbfe4d76-3fcf-4826-b93c-00a9f21ee2fb",
   "metadata": {
    "tags": []
   },
   "outputs": [],
   "source": [
    "?intarna_pvalue"
   ]
  },
  {
   "cell_type": "code",
   "execution_count": null,
   "id": "eb0ff577-4f6c-4163-a826-371709f260ec",
   "metadata": {
    "tags": []
   },
   "outputs": [],
   "source": [
    "IntaRNApvalue(['--query', testSeq, '--target', target])"
   ]
  },
  {
   "cell_type": "code",
   "execution_count": null,
   "id": "44b6edfa-0076-48fe-ae39-cbc2d58ce978",
   "metadata": {
    "tags": []
   },
   "outputs": [],
   "source": [
    "IntaRNApvalue['-q', 'AGGAUG', '-t', 'UUUAUCGUU', '-s', '10', '-m', 'b', '-d', 'gauss', '--threads', '3']"
   ]
  },
  {
   "cell_type": "code",
   "execution_count": null,
   "id": "67996c75-f119-4851-9a4e-a1cf44a63620",
   "metadata": {
    "tags": []
   },
   "outputs": [],
   "source": [
    "command = 'python -m intarnapvalue --query GCUGAAAAACAUAACCCAUAAAAUGCUAGCUGUACCAGGAACCA --target GGUUUCUUCGCCUCUGCGUUCACCAAAGUGUUCACCC -s 10 --shuffle-mode b --threads 0' "
   ]
  },
  {
   "cell_type": "code",
   "execution_count": null,
   "id": "97ebce19-6fcf-442c-ab8f-d80538378416",
   "metadata": {
    "tags": []
   },
   "outputs": [],
   "source": [
    "readProb = subprocess.Popen(command, shell=True, stdout=subprocess.PIPE)\n",
    "readProb.wait()\n",
    "returnedProb = readProb.stdout.read()\n",
    "returnedProb"
   ]
  },
  {
   "cell_type": "code",
   "execution_count": null,
   "id": "6c5a3cac-bc79-4845-983d-dc0fbcf7191a",
   "metadata": {},
   "outputs": [],
   "source": []
  },
  {
   "cell_type": "code",
   "execution_count": null,
   "id": "1da5e107-afe0-4713-bbed-089bd27f569f",
   "metadata": {},
   "outputs": [],
   "source": []
  },
  {
   "cell_type": "code",
   "execution_count": null,
   "id": "18522fa3-de4b-43f5-963d-7d507e5f365a",
   "metadata": {},
   "outputs": [],
   "source": []
  },
  {
   "cell_type": "code",
   "execution_count": null,
   "id": "be4dc3b2-5726-43d9-bbd8-9f908f0e0f64",
   "metadata": {},
   "outputs": [],
   "source": []
  },
  {
   "cell_type": "code",
   "execution_count": null,
   "id": "82638ba5-6f97-47f0-a0e3-69e71588f4c1",
   "metadata": {},
   "outputs": [],
   "source": []
  },
  {
   "cell_type": "code",
   "execution_count": null,
   "id": "68a44ad1-c37c-4c60-8d2a-51bfc136c87d",
   "metadata": {},
   "outputs": [],
   "source": []
  },
  {
   "cell_type": "code",
   "execution_count": null,
   "id": "a104a3b7-dba6-4031-9eca-69fd3cdab621",
   "metadata": {},
   "outputs": [],
   "source": []
  },
  {
   "cell_type": "code",
   "execution_count": null,
   "id": "844c4bef-bdb0-4cef-9bd2-6571e58a2b55",
   "metadata": {},
   "outputs": [],
   "source": []
  },
  {
   "cell_type": "code",
   "execution_count": null,
   "id": "85632729-fee0-4df2-b4bf-cf5d6acdedb5",
   "metadata": {
    "tags": []
   },
   "outputs": [],
   "source": [
    "# Running script for getting probabilities from RNAfold output file (added to ArchBin btw)\n",
    "readProb = subprocess.Popen(command, shell=True, stdout=subprocess.PIPE)\n",
    "returnedProb = readProb.stdout.read()\n",
    "# Waiting for last command to finish before storing value in temp.out file \n",
    "readProb.wait()"
   ]
  },
  {
   "cell_type": "code",
   "execution_count": null,
   "id": "4538e5f3-b566-4e9e-acf8-1a4df404d0ca",
   "metadata": {
    "tags": []
   },
   "outputs": [],
   "source": [
    "pd.read_csv('/home/user1/Dropbox/Research/Neurobiology_PhD/Rotations/Huang/Projects/CellReadR/Code/Functions/output.csv', sep = ';')"
   ]
  },
  {
   "cell_type": "code",
   "execution_count": null,
   "id": "a193e3d7-6c52-4fcf-8aa6-e44ba3ef53e0",
   "metadata": {
    "tags": []
   },
   "outputs": [],
   "source": [
    "pd.read_csv('/home/user1/Dropbox/Research/Neurobiology_PhD/Rotations/Huang/Projects/CellReadR/Code/Functions/output.csv', sep = ';')"
   ]
  },
  {
   "cell_type": "code",
   "execution_count": null,
   "id": "106bc078-bf3f-4d97-bf36-fcfc8f088901",
   "metadata": {
    "tags": []
   },
   "outputs": [],
   "source": [
    "pd.read_csv('/home/user1/Dropbox/Research/Neurobiology_PhD/Rotations/Huang/Projects/CellReadR/Code/Functions/output.csv', sep = ';')"
   ]
  },
  {
   "cell_type": "code",
   "execution_count": null,
   "id": "eece9f23-3c40-4314-a2b2-16c5b6a77f50",
   "metadata": {},
   "outputs": [],
   "source": []
  },
  {
   "cell_type": "code",
   "execution_count": null,
   "id": "35b27c3d-22e7-4526-9dd7-6a92a57bf560",
   "metadata": {},
   "outputs": [],
   "source": []
  },
  {
   "cell_type": "code",
   "execution_count": null,
   "id": "2f33582c-ca5c-4be6-87f0-1345516f727f",
   "metadata": {},
   "outputs": [],
   "source": []
  },
  {
   "cell_type": "code",
   "execution_count": null,
   "id": "85955b3f-038e-40c2-9cb7-691bacac3f67",
   "metadata": {},
   "outputs": [],
   "source": []
  },
  {
   "cell_type": "code",
   "execution_count": null,
   "id": "9730cf60-da21-42ef-ae6f-1ba1624bc0d9",
   "metadata": {
    "tags": []
   },
   "outputs": [],
   "source": [
    "# Trying to load entire transcripome ... obviously failed ... \n",
    "allRat_fileName = '/home/user1/Dropbox/Research/Neurobiology_PhD/Rotations/Huang/Projects/CellReadR/Data/Sequences/Reference/Ensembl/All/Rattus_norvegicus.Rnor_6.0.cdna.all.fa'\n",
    "allRat = list(SeqIO.parse(allRat_fileName, \"fasta\"))"
   ]
  },
  {
   "cell_type": "code",
   "execution_count": null,
   "id": "a3a4bdd4-fc6c-42fe-902b-78babec7a547",
   "metadata": {},
   "outputs": [],
   "source": []
  },
  {
   "cell_type": "code",
   "execution_count": null,
   "id": "ecc21e03-8038-4ebc-afb1-92fd70b50ff5",
   "metadata": {},
   "outputs": [],
   "source": []
  },
  {
   "cell_type": "code",
   "execution_count": null,
   "id": "a6f7c3fc-5d93-46a1-841d-37abfd8a1af2",
   "metadata": {},
   "outputs": [],
   "source": []
  },
  {
   "cell_type": "code",
   "execution_count": null,
   "id": "af8382d1-bbfb-4787-9e9a-93a321f635de",
   "metadata": {},
   "outputs": [],
   "source": []
  },
  {
   "cell_type": "code",
   "execution_count": null,
   "id": "54749854-f897-466a-a4b2-3d351598d34f",
   "metadata": {},
   "outputs": [],
   "source": []
  },
  {
   "cell_type": "code",
   "execution_count": null,
   "id": "042fb2ef-5cc4-4134-ac95-b6be29b6a702",
   "metadata": {},
   "outputs": [],
   "source": [
    "python -m intarnapvalue --query GCUGAAAAACAUAACCCAUAAAAUGCUAGCUGUACCAGGAACCA --target GGUUUCUUCGCCUCUGCGUUCACCAAAGUGUUCACCC --scores 10000 --shuffle-mode b --threads 0"
   ]
  },
  {
   "cell_type": "code",
   "execution_count": null,
   "id": "6f66470e-8de1-4e89-b4ca-0183f7a4bc5a",
   "metadata": {},
   "outputs": [],
   "source": [
    "intarnapvalue --query GCUGAAAAACAUAACCCAUAAAAUGCUAGCUGUACCAGGAACCA --target GGUUUCUUCGCCUCUGCGUUCACCAAAGUGUUCACCC --scores 10000 --shuffle-mode b --threads 0"
   ]
  },
  {
   "cell_type": "code",
   "execution_count": null,
   "id": "2a5b397c-e523-4551-9e1e-b8e10df7e6de",
   "metadata": {},
   "outputs": [],
   "source": []
  },
  {
   "cell_type": "code",
   "execution_count": null,
   "id": "015609d6-742c-40d2-821b-1a5049e2550c",
   "metadata": {},
   "outputs": [],
   "source": []
  },
  {
   "cell_type": "markdown",
   "id": "approved-notion",
   "metadata": {},
   "source": [
    "# Misc"
   ]
  },
  {
   "cell_type": "code",
   "execution_count": null,
   "id": "italian-front",
   "metadata": {
    "tags": []
   },
   "outputs": [],
   "source": [
    "# For returning index of findings \n",
    "searchCodon = 'TAG'\n",
    "[m.start() for m in re.finditer(searchCodon, str(seq))]"
   ]
  },
  {
   "cell_type": "code",
   "execution_count": null,
   "id": "elder-buddy",
   "metadata": {
    "tags": []
   },
   "outputs": [],
   "source": [
    "testSeq = sesRNAs[0]\n",
    "testSeq"
   ]
  },
  {
   "cell_type": "code",
   "execution_count": null,
   "id": "powered-action",
   "metadata": {
    "tags": []
   },
   "outputs": [],
   "source": [
    "lastATG = [m.start() for m in re.finditer('ATG', str(testSeq))][-1]\n",
    "lastTGG = [m.start() for m in re.finditer('TGG', str(testSeq))][-1]"
   ]
  },
  {
   "cell_type": "code",
   "execution_count": null,
   "id": "wooden-standard",
   "metadata": {
    "tags": []
   },
   "outputs": [],
   "source": [
    "lastTGG"
   ]
  },
  {
   "cell_type": "code",
   "execution_count": null,
   "id": "proud-insured",
   "metadata": {
    "tags": []
   },
   "outputs": [],
   "source": [
    "lastATG"
   ]
  },
  {
   "cell_type": "code",
   "execution_count": null,
   "id": "alive-japan",
   "metadata": {},
   "outputs": [],
   "source": [
    "lastATG < lastTGG"
   ]
  },
  {
   "cell_type": "code",
   "execution_count": null,
   "id": "gentle-spelling",
   "metadata": {
    "tags": []
   },
   "outputs": [],
   "source": [
    "searchCodon = 'ATG'\n",
    "[m.start() for m in re.finditer(searchCodon, str(testSeq))][-1]"
   ]
  },
  {
   "cell_type": "code",
   "execution_count": null,
   "id": "otherwise-series",
   "metadata": {
    "tags": []
   },
   "outputs": [],
   "source": [
    "seq.count('TAG') < 4"
   ]
  },
  {
   "cell_type": "code",
   "execution_count": null,
   "id": "suspected-hollywood",
   "metadata": {
    "tags": []
   },
   "outputs": [],
   "source": [
    "seq[0:100].count('TAG')"
   ]
  },
  {
   "cell_type": "code",
   "execution_count": null,
   "id": "manufactured-luxembourg",
   "metadata": {},
   "outputs": [],
   "source": []
  },
  {
   "cell_type": "code",
   "execution_count": null,
   "id": "cubic-orientation",
   "metadata": {},
   "outputs": [],
   "source": [
    "stopCodons = ['TAG', 'TAA', 'TGA']\n",
    "stopCodons "
   ]
  },
  {
   "cell_type": "code",
   "execution_count": null,
   "id": "about-theater",
   "metadata": {},
   "outputs": [],
   "source": [
    "indiciesTGG"
   ]
  },
  {
   "cell_type": "code",
   "execution_count": null,
   "id": "aquatic-ancient",
   "metadata": {
    "tags": []
   },
   "outputs": [],
   "source": [
    "indiciesStop"
   ]
  },
  {
   "cell_type": "code",
   "execution_count": null,
   "id": "through-combat",
   "metadata": {
    "tags": []
   },
   "outputs": [],
   "source": [
    "length = 200 \n",
    "center = length/2"
   ]
  },
  {
   "cell_type": "code",
   "execution_count": null,
   "id": "authorized-piece",
   "metadata": {
    "tags": []
   },
   "outputs": [],
   "source": [
    "arrayStop = np.array(indiciesStop)\n",
    "arrayIndicies = np.array(indiciesTGG) \n",
    "centralTGGs = arrayIndicies[abs(arrayIndicies - center) < 10]"
   ]
  },
  {
   "cell_type": "code",
   "execution_count": null,
   "id": "verbal-alabama",
   "metadata": {
    "tags": []
   },
   "outputs": [],
   "source": [
    "centralTGGs"
   ]
  },
  {
   "cell_type": "code",
   "execution_count": null,
   "id": "devoted-superior",
   "metadata": {
    "tags": []
   },
   "outputs": [],
   "source": [
    "np.in1d(centralTGGs,arrayStop)"
   ]
  },
  {
   "cell_type": "code",
   "execution_count": null,
   "id": "soviet-methodology",
   "metadata": {
    "tags": []
   },
   "outputs": [],
   "source": [
    "# Check if array contains values that are within range of values in another array \n",
    "any((min(abs(arrayStop - i)) > 10) for i in centralTGGs)"
   ]
  },
  {
   "cell_type": "code",
   "execution_count": null,
   "id": "pregnant-backing",
   "metadata": {},
   "outputs": [],
   "source": [
    "centralTGGs"
   ]
  },
  {
   "cell_type": "code",
   "execution_count": null,
   "id": "recreational-reward",
   "metadata": {
    "tags": []
   },
   "outputs": [],
   "source": [
    "indiciesStop"
   ]
  },
  {
   "cell_type": "code",
   "execution_count": null,
   "id": "equivalent-puppy",
   "metadata": {},
   "outputs": [],
   "source": [
    "testStop = [90, 16, 174]"
   ]
  },
  {
   "cell_type": "code",
   "execution_count": null,
   "id": "suspected-rates",
   "metadata": {},
   "outputs": [],
   "source": []
  },
  {
   "cell_type": "code",
   "execution_count": null,
   "id": "interested-cameroon",
   "metadata": {},
   "outputs": [],
   "source": []
  },
  {
   "cell_type": "code",
   "execution_count": null,
   "id": "progressive-producer",
   "metadata": {
    "tags": []
   },
   "outputs": [],
   "source": [
    "(min(abs(arrayStop - centralTGGs[0])) > 10)"
   ]
  },
  {
   "cell_type": "code",
   "execution_count": null,
   "id": "frank-hepatitis",
   "metadata": {
    "tags": []
   },
   "outputs": [],
   "source": [
    "min(abs(arrayStop - centralTGGs[0])) > 10"
   ]
  },
  {
   "cell_type": "code",
   "execution_count": null,
   "id": "muslim-version",
   "metadata": {},
   "outputs": [],
   "source": []
  },
  {
   "cell_type": "code",
   "execution_count": null,
   "id": "complicated-southeast",
   "metadata": {
    "tags": []
   },
   "outputs": [],
   "source": [
    "centeralTGGs = offset.min()\n",
    "centeralTGGs"
   ]
  },
  {
   "cell_type": "code",
   "execution_count": null,
   "id": "fantastic-intellectual",
   "metadata": {},
   "outputs": [],
   "source": [
    "centralTGGs = np.all(offset == offset.min())\n",
    "centralTGGs"
   ]
  },
  {
   "cell_type": "code",
   "execution_count": null,
   "id": "advisory-survey",
   "metadata": {
    "tags": []
   },
   "outputs": [],
   "source": [
    "centeralTGGs = np.where(offset == offset.min())\n",
    "centeralTGG"
   ]
  },
  {
   "cell_type": "code",
   "execution_count": null,
   "id": "mounted-appraisal",
   "metadata": {
    "tags": []
   },
   "outputs": [],
   "source": [
    "offset = abs(arrayIndicies - center) \n",
    "centerTGG = indiciesTGG[np.argmin(offset)]"
   ]
  },
  {
   "cell_type": "code",
   "execution_count": null,
   "id": "hazardous-office",
   "metadata": {
    "tags": []
   },
   "outputs": [],
   "source": [
    "any(abs(x - centerTGG) < 10 for x in indiciesStop)"
   ]
  },
  {
   "cell_type": "code",
   "execution_count": null,
   "id": "narrative-midnight",
   "metadata": {},
   "outputs": [],
   "source": []
  },
  {
   "cell_type": "code",
   "execution_count": null,
   "id": "political-positive",
   "metadata": {
    "tags": []
   },
   "outputs": [],
   "source": [
    "indiciesStop = []\n",
    "for codons in stopCodons:\n",
    "    indiciesStop.extend([m.start() for m in re.finditer(codons, str(testSeq))])"
   ]
  },
  {
   "cell_type": "code",
   "execution_count": null,
   "id": "intended-rotation",
   "metadata": {
    "tags": []
   },
   "outputs": [],
   "source": [
    "len(indiciesStop)"
   ]
  },
  {
   "cell_type": "code",
   "execution_count": null,
   "id": "computational-incidence",
   "metadata": {
    "tags": []
   },
   "outputs": [],
   "source": [
    "[m.start() for m in re.finditer('TGA', str(testSeq))]"
   ]
  },
  {
   "cell_type": "code",
   "execution_count": null,
   "id": "adjustable-appointment",
   "metadata": {
    "tags": []
   },
   "outputs": [],
   "source": [
    "[m.start() for m in re.finditer('TAA', str(testSeq))]"
   ]
  },
  {
   "cell_type": "code",
   "execution_count": null,
   "id": "nervous-retention",
   "metadata": {},
   "outputs": [],
   "source": [
    "[m.start() for m in re.finditer('TAG', str(testSeq))]"
   ]
  },
  {
   "cell_type": "code",
   "execution_count": null,
   "id": "circular-letter",
   "metadata": {
    "tags": []
   },
   "outputs": [],
   "source": [
    "testSeq.count(stopCodons)"
   ]
  },
  {
   "cell_type": "code",
   "execution_count": null,
   "id": "standing-gregory",
   "metadata": {},
   "outputs": [],
   "source": [
    "indiciesTGG"
   ]
  },
  {
   "cell_type": "code",
   "execution_count": null,
   "id": "forbidden-money",
   "metadata": {
    "tags": []
   },
   "outputs": [],
   "source": [
    "len(indiciesTGG)"
   ]
  },
  {
   "cell_type": "code",
   "execution_count": null,
   "id": "equal-shame",
   "metadata": {},
   "outputs": [],
   "source": []
  },
  {
   "cell_type": "code",
   "execution_count": null,
   "id": "hydraulic-security",
   "metadata": {},
   "outputs": [],
   "source": []
  },
  {
   "cell_type": "code",
   "execution_count": null,
   "id": "sorted-sleep",
   "metadata": {
    "tags": []
   },
   "outputs": [],
   "source": [
    "testSeq = sesRNAs[0]"
   ]
  },
  {
   "cell_type": "code",
   "execution_count": null,
   "id": "continuous-comparative",
   "metadata": {
    "tags": []
   },
   "outputs": [],
   "source": [
    "lastTGG = [m.start() for m in re.finditer('TGG', str(testSeq))][-1]"
   ]
  },
  {
   "cell_type": "code",
   "execution_count": null,
   "id": "challenging-hopkins",
   "metadata": {},
   "outputs": [],
   "source": [
    "testSeq"
   ]
  },
  {
   "cell_type": "code",
   "execution_count": null,
   "id": "completed-grenada",
   "metadata": {
    "tags": []
   },
   "outputs": [],
   "source": [
    "indiciesTGG = [m.start() for m in re.finditer('TGG', str(testSeq))]"
   ]
  },
  {
   "cell_type": "code",
   "execution_count": null,
   "id": "adjusted-trustee",
   "metadata": {
    "tags": []
   },
   "outputs": [],
   "source": [
    "start = 0 \n",
    "stop = 200"
   ]
  },
  {
   "cell_type": "code",
   "execution_count": null,
   "id": "capable-complement",
   "metadata": {
    "tags": []
   },
   "outputs": [],
   "source": [
    "middle = (start + stop) / 2"
   ]
  },
  {
   "cell_type": "code",
   "execution_count": null,
   "id": "olympic-present",
   "metadata": {
    "tags": []
   },
   "outputs": [],
   "source": [
    "abs(middle - indiciesTGG[0])"
   ]
  },
  {
   "cell_type": "code",
   "execution_count": null,
   "id": "champion-eleven",
   "metadata": {},
   "outputs": [],
   "source": [
    "type(indiciesTGG)"
   ]
  },
  {
   "cell_type": "code",
   "execution_count": null,
   "id": "spectacular-touch",
   "metadata": {},
   "outputs": [],
   "source": [
    "indiciesTGG"
   ]
  },
  {
   "cell_type": "code",
   "execution_count": null,
   "id": "cooked-music",
   "metadata": {},
   "outputs": [],
   "source": [
    "any(indiciesTGG) > 2"
   ]
  },
  {
   "cell_type": "code",
   "execution_count": null,
   "id": "appropriate-ministry",
   "metadata": {},
   "outputs": [],
   "source": [
    "length = 200 "
   ]
  },
  {
   "cell_type": "code",
   "execution_count": null,
   "id": "ruled-times",
   "metadata": {
    "tags": []
   },
   "outputs": [],
   "source": [
    "any(abs(x - (length/2)) < 20 for x in indiciesTGG)"
   ]
  },
  {
   "cell_type": "code",
   "execution_count": null,
   "id": "developing-origin",
   "metadata": {
    "tags": []
   },
   "outputs": [],
   "source": [
    "testList = [50, 60, 170, 200]"
   ]
  },
  {
   "cell_type": "code",
   "execution_count": null,
   "id": "accomplished-recording",
   "metadata": {
    "tags": []
   },
   "outputs": [],
   "source": [
    "any(abs(x - (length/2)) < 10 for x in testList)"
   ]
  },
  {
   "cell_type": "code",
   "execution_count": null,
   "id": "killing-fetish",
   "metadata": {},
   "outputs": [],
   "source": []
  },
  {
   "cell_type": "code",
   "execution_count": null,
   "id": "concrete-mississippi",
   "metadata": {},
   "outputs": [],
   "source": [
    "testSeq"
   ]
  },
  {
   "cell_type": "code",
   "execution_count": null,
   "id": "comfortable-green",
   "metadata": {
    "tags": []
   },
   "outputs": [],
   "source": [
    "os.path.isdir('Output/BioPython')"
   ]
  },
  {
   "cell_type": "code",
   "execution_count": null,
   "id": "selective-quality",
   "metadata": {
    "tags": []
   },
   "outputs": [],
   "source": []
  },
  {
   "cell_type": "code",
   "execution_count": null,
   "id": "fewer-strain",
   "metadata": {},
   "outputs": [],
   "source": [
    "outputFileName = os.getcwd() + ''"
   ]
  },
  {
   "cell_type": "code",
   "execution_count": null,
   "id": "facial-sodium",
   "metadata": {},
   "outputs": [],
   "source": [
    "testSeq"
   ]
  },
  {
   "cell_type": "code",
   "execution_count": null,
   "id": "624fb6a0-4572-4319-b60d-573b7ab225f1",
   "metadata": {},
   "outputs": [],
   "source": []
  },
  {
   "cell_type": "code",
   "execution_count": null,
   "id": "b7dca5f2-075c-4bf9-9f86-7defe8042a17",
   "metadata": {},
   "outputs": [],
   "source": []
  },
  {
   "cell_type": "code",
   "execution_count": null,
   "id": "6eded10b-badd-4eb0-b3b8-49fb236d067b",
   "metadata": {},
   "outputs": [],
   "source": []
  },
  {
   "cell_type": "code",
   "execution_count": null,
   "id": "af561b1c-991a-4d98-af4c-15606fbcdee3",
   "metadata": {},
   "outputs": [],
   "source": []
  },
  {
   "cell_type": "code",
   "execution_count": null,
   "id": "a5e327bb-c221-4578-b0a0-7dfac34c1625",
   "metadata": {},
   "outputs": [],
   "source": []
  },
  {
   "cell_type": "code",
   "execution_count": null,
   "id": "ce80dfd1-76b4-412b-ae5f-109174384a95",
   "metadata": {},
   "outputs": [],
   "source": []
  },
  {
   "cell_type": "code",
   "execution_count": null,
   "id": "violent-toolbox",
   "metadata": {},
   "outputs": [],
   "source": []
  },
  {
   "cell_type": "code",
   "execution_count": null,
   "id": "2ff254b6-8d79-4c8a-8302-8fbb0503e88e",
   "metadata": {},
   "outputs": [],
   "source": []
  }
 ],
 "metadata": {
  "kernelspec": {
   "display_name": "huang_CellReadR",
   "language": "python",
   "name": "huang_cellreadr"
  },
  "language_info": {
   "codemirror_mode": {
    "name": "ipython",
    "version": 3
   },
   "file_extension": ".py",
   "mimetype": "text/x-python",
   "name": "python",
   "nbconvert_exporter": "python",
   "pygments_lexer": "ipython3",
   "version": "3.9.1"
  }
 },
 "nbformat": 4,
 "nbformat_minor": 5
}
