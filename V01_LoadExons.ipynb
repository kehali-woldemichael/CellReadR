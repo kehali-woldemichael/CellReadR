{
 "cells": [
  {
   "cell_type": "code",
   "execution_count": 2,
   "id": "editorial-completion",
   "metadata": {
    "execution": {
     "iopub.execute_input": "2021-04-28T21:42:24.955973Z",
     "iopub.status.busy": "2021-04-28T21:42:24.955386Z",
     "iopub.status.idle": "2021-04-28T21:42:24.961705Z",
     "shell.execute_reply": "2021-04-28T21:42:24.960356Z",
     "shell.execute_reply.started": "2021-04-28T21:42:24.955917Z"
    }
   },
   "outputs": [],
   "source": [
    "from pyensembl import EnsemblRelease"
   ]
  },
  {
   "cell_type": "code",
   "execution_count": 3,
   "id": "light-ebony",
   "metadata": {
    "execution": {
     "iopub.execute_input": "2021-04-28T21:42:24.963969Z",
     "iopub.status.busy": "2021-04-28T21:42:24.963506Z",
     "iopub.status.idle": "2021-04-28T21:42:24.973529Z",
     "shell.execute_reply": "2021-04-28T21:42:24.972718Z",
     "shell.execute_reply.started": "2021-04-28T21:42:24.963935Z"
    }
   },
   "outputs": [],
   "source": [
    "data = EnsemblRelease(77, species = 'rat')\n",
    "data.download()"
   ]
  },
  {
   "cell_type": "code",
   "execution_count": 4,
   "id": "special-tamil",
   "metadata": {
    "execution": {
     "iopub.execute_input": "2021-04-28T21:42:24.974852Z",
     "iopub.status.busy": "2021-04-28T21:42:24.974632Z",
     "iopub.status.idle": "2021-04-28T21:42:24.989536Z",
     "shell.execute_reply": "2021-04-28T21:42:24.989089Z",
     "shell.execute_reply.started": "2021-04-28T21:42:24.974829Z"
    }
   },
   "outputs": [
    {
     "data": {
      "text/plain": [
       "<bound method Genome.index of EnsemblRelease(release=77, species='rattus_norvegicus')>"
      ]
     },
     "execution_count": 4,
     "metadata": {},
     "output_type": "execute_result"
    }
   ],
   "source": [
    "data.index"
   ]
  },
  {
   "cell_type": "code",
   "execution_count": 6,
   "id": "sharp-substance",
   "metadata": {
    "execution": {
     "iopub.execute_input": "2021-04-28T21:42:53.431573Z",
     "iopub.status.busy": "2021-04-28T21:42:53.431354Z",
     "iopub.status.idle": "2021-04-28T21:42:53.434941Z",
     "shell.execute_reply": "2021-04-28T21:42:53.434482Z",
     "shell.execute_reply.started": "2021-04-28T21:42:53.431555Z"
    },
    "tags": []
   },
   "outputs": [
    {
     "data": {
      "text/plain": [
       "['ENSRNOE00000433687',\n",
       " 'ENSRNOE00000086637',\n",
       " 'ENSRNOE00000086900',\n",
       " 'ENSRNOE00000087167',\n",
       " 'ENSRNOE00000229690']"
      ]
     },
     "execution_count": 6,
     "metadata": {},
     "output_type": "execute_result"
    }
   ],
   "source": [
    "# get all exons associated with gene name \n",
    "exon_ids  = data.exon_ids_of_gene_name('Fezf2')\n",
    "exon_ids"
   ]
  },
  {
   "cell_type": "code",
   "execution_count": 7,
   "id": "lightweight-region",
   "metadata": {
    "execution": {
     "iopub.execute_input": "2021-04-28T21:43:03.646587Z",
     "iopub.status.busy": "2021-04-28T21:43:03.646393Z",
     "iopub.status.idle": "2021-04-28T21:43:03.650989Z",
     "shell.execute_reply": "2021-04-28T21:43:03.650350Z",
     "shell.execute_reply.started": "2021-04-28T21:43:03.646568Z"
    }
   },
   "outputs": [
    {
     "data": {
      "text/plain": [
       "Exon(exon_id='ENSRNOE00000433687', gene_id='ENSRNOG00000009206', gene_name='Fezf2', contig='15', start=16854926, end=16855168, strand='+')"
      ]
     },
     "execution_count": 7,
     "metadata": {},
     "output_type": "execute_result"
    }
   ],
   "source": [
    "exon_id = 'ENSRNOE00000433687'\n",
    "exonObj = data.exon_by_id(exon_id)\n",
    "exonObj"
   ]
  },
  {
   "cell_type": "code",
   "execution_count": 8,
   "id": "recovered-scanner",
   "metadata": {
    "execution": {
     "iopub.execute_input": "2021-04-28T21:46:11.816815Z",
     "iopub.status.busy": "2021-04-28T21:46:11.816611Z",
     "iopub.status.idle": "2021-04-28T21:46:11.820659Z",
     "shell.execute_reply": "2021-04-28T21:46:11.819773Z",
     "shell.execute_reply.started": "2021-04-28T21:46:11.816796Z"
    }
   },
   "outputs": [],
   "source": [
    "import pyfastx\n",
    "path_to_fasta = '/home/user1/.cache/pyensembl/Rnor_5.0/ensembl77/Rattus_norvegicus.Rnor_5.0.cdna.all.fa.gz'"
   ]
  },
  {
   "cell_type": "code",
   "execution_count": 9,
   "id": "informal-toolbox",
   "metadata": {
    "execution": {
     "iopub.execute_input": "2021-04-28T21:46:24.091116Z",
     "iopub.status.busy": "2021-04-28T21:46:24.090877Z",
     "iopub.status.idle": "2021-04-28T21:46:24.699109Z",
     "shell.execute_reply": "2021-04-28T21:46:24.698577Z",
     "shell.execute_reply.started": "2021-04-28T21:46:24.091083Z"
    }
   },
   "outputs": [],
   "source": [
    "fa = pyfastx.Fasta(path_to_fasta)"
   ]
  },
  {
   "cell_type": "code",
   "execution_count": 10,
   "id": "cosmetic-potter",
   "metadata": {
    "execution": {
     "iopub.execute_input": "2021-04-28T21:46:29.050004Z",
     "iopub.status.busy": "2021-04-28T21:46:29.049704Z",
     "iopub.status.idle": "2021-04-28T21:46:29.054239Z",
     "shell.execute_reply": "2021-04-28T21:46:29.053497Z",
     "shell.execute_reply.started": "2021-04-28T21:46:29.049976Z"
    }
   },
   "outputs": [
    {
     "data": {
      "text/plain": [
       "<Fasta> /home/user1/.cache/pyensembl/Rnor_5.0/ensembl77/Rattus_norvegicus.Rnor_5.0.cdna.all.fa.gz contains 28420 sequences"
      ]
     },
     "execution_count": 10,
     "metadata": {},
     "output_type": "execute_result"
    }
   ],
   "source": [
    "fa"
   ]
  },
  {
   "cell_type": "code",
   "execution_count": 14,
   "id": "editorial-seeking",
   "metadata": {
    "execution": {
     "iopub.execute_input": "2021-04-28T21:47:17.131460Z",
     "iopub.status.busy": "2021-04-28T21:47:17.131193Z",
     "iopub.status.idle": "2021-04-28T21:47:17.136578Z",
     "shell.execute_reply": "2021-04-28T21:47:17.135780Z",
     "shell.execute_reply.started": "2021-04-28T21:47:17.131442Z"
    },
    "tags": []
   },
   "outputs": [
    {
     "data": {
      "text/plain": [
       "'CGGCGGCGGGCGGAAGATGGCGGCGGCAGCGTCTGTGGAGAGGCGCTGCTGAGGGGGCGCGAGGGGGACGGAGGCCGGAGCCGCGGGAGAACCTGACAGCAGTCATGGCAAGCGGCAGCGGGGACAGTGTCACCCGCCGGAGTGTGGCATCACAGTTTTTCACACAAGAAGAAGGGCCAGGCATTGATGGCATGACCACTTCTGAAAGGGTGGTAGATCTCCTGAACCAGGCTGCGCTGATCACCAATGACTCAAAGATCACAGTGCTCAAACAGGTCCAAGAGCTGATCATCAACAAGGACCCCACCCTGCTTGACAACTTCCTGGACGAGATCATCGCTTTCCAAGCAGACAAGTCCACTGAAGTGCGCAAGTTTGTCATTGGCTTCATCGAGGAGGCATGCAAGCGGGACATTGAGCTGCTGCTAAAACTGATCGCCAACCTCAACATGCTATTGCGGGATGAAAACGTGAATGTGGTAAAGAAGGCCATCCTCACCATGACCCAGCTCTACAAGGTGGCCCTGCAGTGGATGGTGAAGTCTCGGGTCATCAGCGACCTCCAGGAGGCCTGCTGGGACATGGTGTCCTCCATGGCTGCAGAAATCATACTGCTCTTGGATTCTGACAATGATGGCATCCGTACACATGCCATTAAGTTTGTGGAGGGCCTCATTGTCACTCTGTCACCCCGAATGGCTGACTCAGAGGTCCCCCGACGCCAGGAGCATGACATCAGTCTGGACCGCATCCCTCGAGATCACCCCTACATCCAGTACAATGTCCTATGGGAAGAAGGCAAGGCAGCTCTGGAGCAGCTTCTCAAGTTCATGGTGCACCCCGCCATCTCCTCCATCAACCTGACCACAGCGCTCGGCTCCCTTGCCAACATCGCCCGCCAGAGACCCATGTTCATGTCTGAGGTGATCCAGGCCTATGAGACTCTGCATGCCAACCTGCCCCCAACACTGGCCAAGTCCCAGGTGAGCAGCGTGCGTAAGAACCTCAAGCTGCACTTGCTGAGCGTGCTCAAGCACCCTGCCTCCTTGGAGTTCCAGGCCCAGATCACCACCCTGCTGGTGGACCTGGGCACGCCCCAGGCCGAGATTGCCCGTAACATGCCTAGCAGCAAGGACTCCCGCAAGCGGCCCCGGGACGATACAGAATCCACGCTCAAGAAGATGAAGCTGGAGCCCAACCTGGGAGAAGATGATGAGGACAAAGACTTGGAGCCTGGCCCATCGGGGACATCAAAGGCCTCAGCCCAGATCTCAGGCCAGTCAGACACAGACATCACTGCTGAGTTCTTGCAGCCTCTGCTGACACCTGACAATGTGGCCAATCTGGTCCTCATCAGCATGGTGTACCTGCCCGAGACCATGCCTGCCTCCTTCCAAGCCATTTACACCCCCGTGGAGTCAGCAGGCACAGAAGCCCAGATCAAGCACCTGGCACGGCTCATGGCCACACAGATGACAGCTGCGGGACTGGGTCCTGGTGTGGAACAGACGAAACAGTGCAAGGAGGAGCCCAAGGAGGAGAAGGTGGTAAAGCCGGAGAGCGTCCTGATCAAACGGCGCCTGTCAGTGCAGGGCCAGGCCATCTCTGTGGTGGGCTCTCAGAGCACCATGTCCCCCTTGGAGGAGGAAGTACCCCAGGCCAAGAGGAGGCCAGAACCCATCATTCCTGTCACACAGCCACGGCTGGCAGGCGCTGGTGGGCGCAAGAAGATCTTCCGTCTGAGCGATGTGCTGAAGCCCCTGACAGATGCCCAGGTGGAAGCCATGAAGCTGGGAGCTGTGAAGCGGATCCTGAGGGCTGAGAAGGCTGTAGCCTGCAGTGGGGCGGCCCAGGTGCGCATCAAGATCCTGGCCAGCCTCGTGACACAGTTCGACTCCGGATTCAAGGCAGAGGTGCTGTCCTTTATCCTGGAAGACGTCCGGGCCCGTCTGGACCTGGCTTTTGCCTGGCTCTACCAGGAGTACAATGCCTACCTGGCAGCGGGGCCCTCTGGCACTCTGGACAAGTATGAAGACTGCCTTATCTGCCTGCTCTCTGGACTTCAAGAGAAACCAGACCAGAAAGATGGGATCTTTACCAAGGTGGTTTTGGAGGCCCCGCTGATCACTGAGAGTGCTTTGGAGGTGATACGGAAGTACTGTGAGGATGAGAGTCGCGCCTACCTGGGCATGTCGACACTTGGAGACCTGATCTTCAAGCGCCCTTCTCGCCAATTCCAGTATCTGCACGTTCTCCTCGACCTCAGCTCTCACGAGAAGGACAGGGTGCGCTCCCAGGCCCTGCTCTTCATTAAGCGCATGTATGAGAAGGAGCAGCTTCGAGAATATGTGGAGAAATTTGCCCTCAACTACCTGCAGCTCCTGGTCCACCCCAACCCACCCTCAGTGCTGTTTGGAGCTGACAAGGACACAGAGGTGGCTGCGCCCTGGACAGAGGAAACAGTGAAGCAGTGTTTGTACCTATATCTGGCTCTCCTGCCTCAGAACCACAAGCTGATCCATGAGCTGGCAGCAGTGTACACGGAGGCCATCGCCGACATCAAGCGGACAGTGCTGAGAGTCATTGAGCAACCGATCCGAGGGATGGGCATGAACTCACCAGAGTTGCTGCTGCTGGTGGAAAACTGTCCCAAGGGGGCAGAGACGCTGGTCACCCGCTGCCTGCACAGCCTCACTGACAAAGTGCCACCATCCCCAGAACTGGTGAAGCGGGTCCGGGACCTGTACCACAAGCGGCTGCCTGACGTGCGCTTCCTCATCCCTGTGCTCAACGGCTTGGAGAAGAAAGAGGTGATCCAGGCCCTGCCTAAGCTCATCAAACTCAACCCCATTGTGGTGAAGGAGGTCTTCAACCGCCTGCTAGGCACCCAGCATGGGCCCTGTGTGGTAGAGGTAGAGAAGCTTGGGGAGTGGGGTTCCCACTTAATGAGGGACATCCAGGCAGAGAGAGGACAGGCCACTCTCCGCCTCCTCACAGCCACCAACCTGTGTTTTGCGGAGCGGAATGTGTACACATCGGAAGTGCTGGCTGTGGTGATGCAGCAGCTGATGGAGCAAAGCCCTCTGCCCATGCTGCTCATGCGGACCGTCATCCAGTCCCTGACCATGTACCCCCGCCTGGGGGGCTTCGTCATGAACATCCTGGCCCGGCTCATCATGAAGCAGGTATGGAAGTACCCCAAGGTATGGGAGGGCTTCATCAAGTGCTGCCAGCGCACCAAGCCCCAGAGTTTCCAGGTCATCCTGCAGCTACCTCCACAGCAGCTTGGCGCAGTCTTTGACAAGTGCCCTGAGCTCCGGGAGCCACTGTTGGCCCATGTGCGCTCCTTCACCCCCCACCAGCAAGCACACATCCCCAACTCCATCATGACAATCCTGGAGGCCAGTGGCAAGCAGGAGCCGGAAGTCAAGGAAGCACCTTCAGGGTCCCTGGAAGAGGATGACCTGGAGCCCTTGGCTCTGGCCTTGGCCCCGGCTTTGGCCCCGGCCCCTGCCCCACGGCCCCCTCAGGACCTCATCGGCCTTCGATTGGCTCAGGAGAAGGCCTTGAAGCGGCAGCTCGAAGAAGAACAGAAGCAGAAGCCCACAGGCGTCGGAGCGCCCACTTCCTCAGTGTCCTCGACACCCTTGGTGGGGCCAGCAGCCCGAGCTGGTCCCACCCCGGCTGAGGAGGTTATGGAATACCGGGAGGAAGGTCCTGAATGCGAGACCCCGGCCATCTTCATCAGCATGGACGACGACTCAGGGCTGGCCGAAACCACACTTCTGGACTCTAGTCTCGAGGGACCCCTGCCTAAGGAGGCAGCAGCAGTCGGACCGAGCTCCAAGGACGAGCGGAGCCCCCAGAACCTCAGCCATGCTGTGGAAGAAGCCTTGAAGACCTCCAGCCCAGAGGCCAGGGAACCCGAGAGCAAGGGGAACAGCTGACAACTGCGGGAGTTTGGGGGGAGGGGCGGGATGGGGCCTCCTAGAGCTTTGCCTTAACACAAATAAAGGAGGTGGCGCTCAGGG'"
      ]
     },
     "execution_count": 14,
     "metadata": {},
     "output_type": "execute_result"
    }
   ],
   "source": [
    "fa[0].seq"
   ]
  },
  {
   "cell_type": "code",
   "execution_count": 15,
   "id": "reported-newark",
   "metadata": {
    "execution": {
     "iopub.execute_input": "2021-04-28T22:05:14.701490Z",
     "iopub.status.busy": "2021-04-28T22:05:14.701198Z",
     "iopub.status.idle": "2021-04-28T22:05:14.706855Z",
     "shell.execute_reply": "2021-04-28T22:05:14.706001Z",
     "shell.execute_reply.started": "2021-04-28T22:05:14.701462Z"
    }
   },
   "outputs": [
    {
     "data": {
      "text/plain": [
       "<FastaKeys> contains 28420 keys"
      ]
     },
     "execution_count": 15,
     "metadata": {},
     "output_type": "execute_result"
    }
   ],
   "source": [
    "fa.keys()"
   ]
  },
  {
   "cell_type": "code",
   "execution_count": null,
   "id": "grave-explorer",
   "metadata": {},
   "outputs": [],
   "source": []
  },
  {
   "cell_type": "code",
   "execution_count": null,
   "id": "broadband-heading",
   "metadata": {},
   "outputs": [],
   "source": []
  },
  {
   "cell_type": "code",
   "execution_count": null,
   "id": "opponent-visibility",
   "metadata": {},
   "outputs": [],
   "source": []
  },
  {
   "cell_type": "code",
   "execution_count": null,
   "id": "junior-investigation",
   "metadata": {},
   "outputs": [],
   "source": []
  },
  {
   "cell_type": "code",
   "execution_count": null,
   "id": "returning-fraction",
   "metadata": {},
   "outputs": [],
   "source": []
  },
  {
   "cell_type": "code",
   "execution_count": null,
   "id": "latin-employment",
   "metadata": {},
   "outputs": [],
   "source": []
  },
  {
   "cell_type": "code",
   "execution_count": null,
   "id": "piano-seafood",
   "metadata": {},
   "outputs": [],
   "source": []
  },
  {
   "cell_type": "code",
   "execution_count": null,
   "id": "afraid-retrieval",
   "metadata": {},
   "outputs": [],
   "source": []
  },
  {
   "cell_type": "code",
   "execution_count": null,
   "id": "cross-relative",
   "metadata": {},
   "outputs": [],
   "source": []
  },
  {
   "cell_type": "code",
   "execution_count": null,
   "id": "julian-outline",
   "metadata": {},
   "outputs": [],
   "source": []
  },
  {
   "cell_type": "code",
   "execution_count": null,
   "id": "round-title",
   "metadata": {},
   "outputs": [],
   "source": []
  },
  {
   "cell_type": "code",
   "execution_count": null,
   "id": "familiar-contemporary",
   "metadata": {},
   "outputs": [],
   "source": []
  },
  {
   "cell_type": "code",
   "execution_count": null,
   "id": "pleasant-evaluation",
   "metadata": {},
   "outputs": [],
   "source": []
  },
  {
   "cell_type": "code",
   "execution_count": null,
   "id": "forbidden-immigration",
   "metadata": {},
   "outputs": [],
   "source": []
  },
  {
   "cell_type": "code",
   "execution_count": null,
   "id": "ongoing-introduction",
   "metadata": {},
   "outputs": [],
   "source": []
  },
  {
   "cell_type": "code",
   "execution_count": null,
   "id": "pharmaceutical-kidney",
   "metadata": {},
   "outputs": [],
   "source": []
  },
  {
   "cell_type": "code",
   "execution_count": null,
   "id": "ignored-shoulder",
   "metadata": {},
   "outputs": [],
   "source": []
  },
  {
   "cell_type": "code",
   "execution_count": null,
   "id": "bound-withdrawal",
   "metadata": {},
   "outputs": [],
   "source": []
  },
  {
   "cell_type": "code",
   "execution_count": null,
   "id": "proper-calcium",
   "metadata": {},
   "outputs": [],
   "source": []
  },
  {
   "cell_type": "code",
   "execution_count": null,
   "id": "structured-guess",
   "metadata": {},
   "outputs": [],
   "source": []
  },
  {
   "cell_type": "code",
   "execution_count": null,
   "id": "cathedral-aviation",
   "metadata": {},
   "outputs": [],
   "source": []
  },
  {
   "cell_type": "code",
   "execution_count": null,
   "id": "floral-administration",
   "metadata": {},
   "outputs": [],
   "source": []
  },
  {
   "cell_type": "code",
   "execution_count": null,
   "id": "global-botswana",
   "metadata": {},
   "outputs": [],
   "source": []
  }
 ],
 "metadata": {
  "kernelspec": {
   "display_name": "huang_CellReadR",
   "language": "python",
   "name": "huang_cellreadr"
  },
  "language_info": {
   "codemirror_mode": {
    "name": "ipython",
    "version": 3
   },
   "file_extension": ".py",
   "mimetype": "text/x-python",
   "name": "python",
   "nbconvert_exporter": "python",
   "pygments_lexer": "ipython3",
   "version": "3.9.1"
  }
 },
 "nbformat": 4,
 "nbformat_minor": 5
}
