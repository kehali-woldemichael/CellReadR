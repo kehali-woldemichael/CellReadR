{
 "cells": [
  {
   "cell_type": "markdown",
   "id": "right-sheffield",
   "metadata": {},
   "source": [
    "# Setup "
   ]
  },
  {
   "cell_type": "markdown",
   "id": "amino-silence",
   "metadata": {},
   "source": [
    "## Import packages "
   ]
  },
  {
   "cell_type": "code",
   "execution_count": 1,
   "id": "rolled-columbia",
   "metadata": {
    "execution": {
     "iopub.execute_input": "2021-05-02T13:11:14.482012Z",
     "iopub.status.busy": "2021-05-02T13:11:14.481496Z",
     "iopub.status.idle": "2021-05-02T13:11:14.731321Z",
     "shell.execute_reply": "2021-05-02T13:11:14.727620Z",
     "shell.execute_reply.started": "2021-05-02T13:11:14.481928Z"
    },
    "tags": []
   },
   "outputs": [],
   "source": [
    "# General \n",
    "import os \n",
    "import numpy as np\n",
    "# For running bash scripts from inside python ... \n",
    "import subprocess\n",
    "# For manipulating string objects \n",
    "import re\n",
    "# for generating any necessary directories\n",
    "import pathlib \n",
    "# For manipulating list objects \n",
    "import itertools "
   ]
  },
  {
   "cell_type": "code",
   "execution_count": 2,
   "id": "false-allah",
   "metadata": {
    "execution": {
     "iopub.execute_input": "2021-05-02T13:11:14.735838Z",
     "iopub.status.busy": "2021-05-02T13:11:14.735349Z",
     "iopub.status.idle": "2021-05-02T13:11:14.824817Z",
     "shell.execute_reply": "2021-05-02T13:11:14.823726Z",
     "shell.execute_reply.started": "2021-05-02T13:11:14.735806Z"
    },
    "tags": []
   },
   "outputs": [],
   "source": [
    "# For working with sequence objects \n",
    "from Bio.Seq import Seq"
   ]
  },
  {
   "cell_type": "code",
   "execution_count": 3,
   "id": "greenhouse-dryer",
   "metadata": {
    "execution": {
     "iopub.execute_input": "2021-05-02T13:11:14.832194Z",
     "iopub.status.busy": "2021-05-02T13:11:14.829604Z",
     "iopub.status.idle": "2021-05-02T13:11:14.871106Z",
     "shell.execute_reply": "2021-05-02T13:11:14.870309Z",
     "shell.execute_reply.started": "2021-05-02T13:11:14.832148Z"
    }
   },
   "outputs": [],
   "source": [
    "# For fetching sequences from Entrez \n",
    "from Bio import Entrez\n",
    "from Bio import SeqIO"
   ]
  },
  {
   "cell_type": "code",
   "execution_count": 4,
   "id": "positive-coordination",
   "metadata": {
    "execution": {
     "iopub.execute_input": "2021-05-02T13:11:14.877191Z",
     "iopub.status.busy": "2021-05-02T13:11:14.875213Z",
     "iopub.status.idle": "2021-05-02T13:11:14.882969Z",
     "shell.execute_reply": "2021-05-02T13:11:14.882039Z",
     "shell.execute_reply.started": "2021-05-02T13:11:14.877145Z"
    },
    "tags": []
   },
   "outputs": [],
   "source": [
    "# For extracting features \n",
    "from Bio.SeqFeature import SeqFeature, FeatureLocation\n",
    "# For creating SeqRecord objects \n",
    "from Bio.SeqRecord import SeqRecord"
   ]
  },
  {
   "cell_type": "markdown",
   "id": "neutral-andorra",
   "metadata": {},
   "source": [
    "## Misc"
   ]
  },
  {
   "cell_type": "code",
   "execution_count": 5,
   "id": "wound-yesterday",
   "metadata": {
    "execution": {
     "iopub.execute_input": "2021-05-02T13:11:14.884501Z",
     "iopub.status.busy": "2021-05-02T13:11:14.884145Z",
     "iopub.status.idle": "2021-05-02T13:11:14.893886Z",
     "shell.execute_reply": "2021-05-02T13:11:14.893125Z",
     "shell.execute_reply.started": "2021-05-02T13:11:14.884466Z"
    }
   },
   "outputs": [],
   "source": [
    "Entrez.email = \"kehaliwoldemichael@gmail.com\"  # Always tell NCBI who you are"
   ]
  },
  {
   "cell_type": "markdown",
   "id": "metric-color",
   "metadata": {},
   "source": [
    "# Functions "
   ]
  },
  {
   "cell_type": "markdown",
   "id": "municipal-absorption",
   "metadata": {},
   "source": [
    "## Sequence"
   ]
  },
  {
   "cell_type": "code",
   "execution_count": 6,
   "id": "fatal-poison",
   "metadata": {
    "execution": {
     "iopub.execute_input": "2021-05-02T13:11:14.895426Z",
     "iopub.status.busy": "2021-05-02T13:11:14.895143Z",
     "iopub.status.idle": "2021-05-02T13:11:14.906544Z",
     "shell.execute_reply": "2021-05-02T13:11:14.905847Z",
     "shell.execute_reply.started": "2021-05-02T13:11:14.895397Z"
    },
    "tags": []
   },
   "outputs": [],
   "source": [
    "def seq_returnEntrez(sequenceID, retType):\n",
    "    with Entrez.efetch(\n",
    "        db=\"nucleotide\", rettype=retType, retmode=\"text\", id=sequenceID\n",
    "    ) as handle:\n",
    "        seqRecord = SeqIO.read(handle, \"gb\")  # using \"gb\" as an alias for \"genbank\"\n",
    "        \n",
    "    handle = Entrez.efetch(db=\"nucleotide\", id=sequenceID, rettype=retType, retmode=\"text\")\n",
    "    \n",
    "    return seqRecord, handle "
   ]
  },
  {
   "cell_type": "code",
   "execution_count": 7,
   "id": "0f5d334c-17f1-4812-85af-03c1ef855433",
   "metadata": {
    "execution": {
     "iopub.execute_input": "2021-05-02T13:11:14.908127Z",
     "iopub.status.busy": "2021-05-02T13:11:14.907789Z",
     "iopub.status.idle": "2021-05-02T13:11:14.920858Z",
     "shell.execute_reply": "2021-05-02T13:11:14.919897Z",
     "shell.execute_reply.started": "2021-05-02T13:11:14.908096Z"
    },
    "tags": []
   },
   "outputs": [],
   "source": [
    "# Checks if continuous open reading frame by translating to stop ... \n",
    "def check_cORF(sequence):\n",
    "    return len(sequence.translate(to_stop=True)) == len(sequence)/3"
   ]
  },
  {
   "cell_type": "code",
   "execution_count": 8,
   "id": "f5245018-f2ac-4a3e-a737-41c6ebdb0af0",
   "metadata": {
    "execution": {
     "iopub.execute_input": "2021-05-02T13:11:14.925631Z",
     "iopub.status.busy": "2021-05-02T13:11:14.925096Z",
     "iopub.status.idle": "2021-05-02T13:11:14.932924Z",
     "shell.execute_reply": "2021-05-02T13:11:14.932143Z",
     "shell.execute_reply.started": "2021-05-02T13:11:14.925595Z"
    },
    "tags": []
   },
   "outputs": [],
   "source": [
    "# Return sesRNAs that are in CDS \n",
    "def check_inCDS(sequence, searchSequence, isoForm, typeSes): \n",
    "    if typeSes == 'Reverse':\n",
    "        return 0 != searchSequence[isoForm].seq.count(sequence.reverse_complement())\n",
    "    elif typeSes == 'Complement':\n",
    "        return 0 != searchSequence[isoForm].seq.count(sequence.complement())"
   ]
  },
  {
   "cell_type": "code",
   "execution_count": 9,
   "id": "689ee27c-05ec-4797-b2bb-7834132f40e5",
   "metadata": {
    "execution": {
     "iopub.execute_input": "2021-05-02T13:11:14.938061Z",
     "iopub.status.busy": "2021-05-02T13:11:14.934831Z",
     "iopub.status.idle": "2021-05-02T13:11:14.958015Z",
     "shell.execute_reply": "2021-05-02T13:11:14.955927Z",
     "shell.execute_reply.started": "2021-05-02T13:11:14.938021Z"
    },
    "tags": []
   },
   "outputs": [],
   "source": [
    "# Checking for in frame TGG and ATG (both number and indices of occurances)\n",
    "def return_inFrame(sequence, choice):\n",
    "    # Definnig stop codons \n",
    "    stopCodons = ['TAG', 'TAA', 'TGA']\n",
    "    \n",
    "    # Generating list of codons in sequence \n",
    "    strSeq = str(sequence)\n",
    "    codons = [strSeq for strSeq in re.split(r'(\\w{3})', strSeq) if strSeq]\n",
    "    \n",
    "    # Number of in frame TGG and ATG \n",
    "    num_inF_TGG = codons.count('TGG')\n",
    "    num_inF_ATG = codons.count('ATG')\n",
    "    num_inF_Stop = codons.count(stopCodons[0]) + codons.count(stopCodons[1]) + codons.count(stopCodons[2])\n",
    "    \n",
    "    # Indices of TGG, ATG, and defined stop codons \n",
    "    indicesTGG = np.array([key for key, val in enumerate(codons) if val == 'TGG'])*3\n",
    "    indicesATG = np.array([key for key, val in enumerate(codons) if val == 'ATG'])*3\n",
    "    indiciesStop = np.array([key for key, val in enumerate(codons) if val in stopCodons])*3\n",
    "    \n",
    "    if choice == 'all': return num_inF_TGG, num_inF_ATG, num_inF_Stop, indicesTGG, indicesATG, indiciesStop \n",
    "    if choice == 'numTGG': return num_inF_TGG"
   ]
  },
  {
   "cell_type": "code",
   "execution_count": 10,
   "id": "9dddb7ad-fe7d-46e3-98c4-37686a924bee",
   "metadata": {
    "execution": {
     "iopub.execute_input": "2021-05-02T13:11:14.963001Z",
     "iopub.status.busy": "2021-05-02T13:11:14.962068Z",
     "iopub.status.idle": "2021-05-02T13:11:14.977768Z",
     "shell.execute_reply": "2021-05-02T13:11:14.975958Z",
     "shell.execute_reply.started": "2021-05-02T13:11:14.962918Z"
    },
    "tags": []
   },
   "outputs": [],
   "source": [
    "# Return sesRNAs that are in CDS \n",
    "def return_inCDS(sesRNAs, CDS, isoForm, typeSes): \n",
    "    temp_cds_sesRNAs = []\n",
    "    \n",
    "    for sesRNA in sesRNAs: \n",
    "        if typeSes == 'Reverse':\n",
    "            if 0 != CDS[isoForm].seq.count(sesRNA.reverse_complement()):\n",
    "                temp_cds_sesRNAs.append(sesRNA)\n",
    "        elif typeSes == 'Complement':\n",
    "            if 0 != CDS[isoForm].seq.count(sesRNA.complement()):\n",
    "                temp_cds_sesRNAs.append(sesRNA)\n",
    "    \n",
    "    return temp_cds_sesRNAs"
   ]
  },
  {
   "cell_type": "markdown",
   "id": "geological-oklahoma",
   "metadata": {},
   "source": [
    "## Metrics "
   ]
  },
  {
   "cell_type": "code",
   "execution_count": 11,
   "id": "radio-commission",
   "metadata": {
    "execution": {
     "iopub.execute_input": "2021-05-02T13:11:14.980666Z",
     "iopub.status.busy": "2021-05-02T13:11:14.980089Z",
     "iopub.status.idle": "2021-05-02T13:11:14.991052Z",
     "shell.execute_reply": "2021-05-02T13:11:14.990005Z",
     "shell.execute_reply.started": "2021-05-02T13:11:14.980629Z"
    },
    "tags": []
   },
   "outputs": [],
   "source": [
    "# Returns GC content \n",
    "def metric_gcContent(sequence):\n",
    "    return (sequence.count(\"G\") + sequence.count(\"C\"))/(len(sequence))"
   ]
  },
  {
   "cell_type": "code",
   "execution_count": null,
   "id": "irish-deficit",
   "metadata": {},
   "outputs": [],
   "source": []
  },
  {
   "cell_type": "markdown",
   "id": "liquid-conditions",
   "metadata": {},
   "source": [
    "# Sequence"
   ]
  },
  {
   "cell_type": "markdown",
   "id": "offensive-organizer",
   "metadata": {},
   "source": [
    "## Loading sequences "
   ]
  },
  {
   "cell_type": "code",
   "execution_count": 12,
   "id": "continuing-sample",
   "metadata": {
    "execution": {
     "iopub.execute_input": "2021-05-02T13:11:14.992795Z",
     "iopub.status.busy": "2021-05-02T13:11:14.992441Z",
     "iopub.status.idle": "2021-05-02T13:11:15.004151Z",
     "shell.execute_reply": "2021-05-02T13:11:15.003179Z",
     "shell.execute_reply.started": "2021-05-02T13:11:14.992762Z"
    },
    "tags": []
   },
   "outputs": [],
   "source": [
    "geneName = 'Fezf2'"
   ]
  },
  {
   "cell_type": "code",
   "execution_count": 13,
   "id": "prescription-monitor",
   "metadata": {
    "execution": {
     "iopub.execute_input": "2021-05-02T13:11:15.005894Z",
     "iopub.status.busy": "2021-05-02T13:11:15.005611Z",
     "iopub.status.idle": "2021-05-02T13:11:15.035097Z",
     "shell.execute_reply": "2021-05-02T13:11:15.034183Z",
     "shell.execute_reply.started": "2021-05-02T13:11:15.005864Z"
    },
    "tags": []
   },
   "outputs": [
    {
     "data": {
      "text/plain": [
       "[SeqRecord(seq=Seq('TAGTGGTTCTGTTTATTGAGTCATATATGTGTAATATTCCGTGTTCGCTTGTAC...TCC'), id='Fezf2', name='Fezf2', description='Fezf2', dbxrefs=[]),\n",
       " SeqRecord(seq=Seq('CTTTTTCCCCCACCGCCAAGGAGATGCGTTCCGAGCCATGCAGCGTGTCTCTTC...CTA'), id='Fezf2', name='Fezf2', description='Fezf2', dbxrefs=[]),\n",
       " SeqRecord(seq=Seq('CTTGCCGCACACTTCGCAGGTGAAGTTTTTGGGTTTGCTGTCAGTAGAGCCCCC...AGT'), id='Fezf2', name='Fezf2', description='Fezf2', dbxrefs=[])]"
      ]
     },
     "execution_count": 13,
     "metadata": {},
     "output_type": "execute_result"
    }
   ],
   "source": [
    "# Loading sequences for reverse complement gene exons \n",
    "rC_fileName = os.getcwd() + '/Output/biomaRt/Reverse_' + geneName + '.fasta'\n",
    "rC_exon_records = list(SeqIO.parse(rC_fileName, \"fasta\"))\n",
    "rC_exon_records  "
   ]
  },
  {
   "cell_type": "code",
   "execution_count": 14,
   "id": "2b169541-6843-40ff-813f-a84f6b62ec9b",
   "metadata": {
    "execution": {
     "iopub.execute_input": "2021-05-02T13:11:15.036685Z",
     "iopub.status.busy": "2021-05-02T13:11:15.036428Z",
     "iopub.status.idle": "2021-05-02T13:11:15.054751Z",
     "shell.execute_reply": "2021-05-02T13:11:15.053628Z",
     "shell.execute_reply.started": "2021-05-02T13:11:15.036659Z"
    },
    "tags": []
   },
   "outputs": [
    {
     "data": {
      "text/plain": [
       "[SeqRecord(seq=Seq('CCTTGATGTTCTTGGTGTTCGAGTGTGTGTCGCCGCTCTTCGTCATGTTTACGT...GAT'), id='Fezf2', name='Fezf2', description='Fezf2', dbxrefs=[]),\n",
       " SeqRecord(seq=Seq('ATCAACGGAGGAAATTTCAAACTCCCCGCCACCGCCGCCGGCCGTCCGCGCCCC...TTC'), id='Fezf2', name='Fezf2', description='Fezf2', dbxrefs=[]),\n",
       " SeqRecord(seq=Seq('TGAATCTCCTCTCTCCGACACGGGACCGGGTCGGACCGAGTCGAACCGCGCGGT...TTC'), id='Fezf2', name='Fezf2', description='Fezf2', dbxrefs=[])]"
      ]
     },
     "execution_count": 14,
     "metadata": {},
     "output_type": "execute_result"
    }
   ],
   "source": [
    "# Loading sequences for complement gene exons \n",
    "C_fileName = os.getcwd() + '/Output/biomaRt/Complement_' + geneName + '.fasta'\n",
    "C_exon_records = list(SeqIO.parse(C_fileName, \"fasta\"))\n",
    "C_exon_records  "
   ]
  },
  {
   "cell_type": "code",
   "execution_count": 15,
   "id": "05a2528e-bef3-4da5-9ee2-93f0ce6bde8d",
   "metadata": {
    "execution": {
     "iopub.execute_input": "2021-05-02T13:11:15.057325Z",
     "iopub.status.busy": "2021-05-02T13:11:15.056578Z",
     "iopub.status.idle": "2021-05-02T13:11:15.067637Z",
     "shell.execute_reply": "2021-05-02T13:11:15.064941Z",
     "shell.execute_reply.started": "2021-05-02T13:11:15.057273Z"
    },
    "tags": []
   },
   "outputs": [
    {
     "data": {
      "text/plain": [
       "[SeqRecord(seq=Seq('ATGGCCAGCTCAGCTTCCCTGGAGACCATGGTGCCCCCGGCCTGCCCGCGCGCT...TGA'), id='Fezf2', name='Fezf2', description='Fezf2', dbxrefs=[])]"
      ]
     },
     "execution_count": 15,
     "metadata": {},
     "output_type": "execute_result"
    }
   ],
   "source": [
    "# Loading sequences for gene CDS \n",
    "CDS_fileName = os.getcwd() + '/Output/biomaRt/CDS_' + geneName + '.fasta'\n",
    "CDS = list(SeqIO.parse(CDS_fileName, \"fasta\"))\n",
    "CDS  "
   ]
  },
  {
   "cell_type": "code",
   "execution_count": 16,
   "id": "034bc6cc-489b-44b0-90b9-853afe790bf9",
   "metadata": {
    "execution": {
     "iopub.execute_input": "2021-05-02T13:11:15.077651Z",
     "iopub.status.busy": "2021-05-02T13:11:15.075546Z",
     "iopub.status.idle": "2021-05-02T13:11:15.088796Z",
     "shell.execute_reply": "2021-05-02T13:11:15.088022Z",
     "shell.execute_reply.started": "2021-05-02T13:11:15.077609Z"
    },
    "tags": []
   },
   "outputs": [
    {
     "data": {
      "text/plain": [
       "1368"
      ]
     },
     "execution_count": 16,
     "metadata": {},
     "output_type": "execute_result"
    }
   ],
   "source": [
    "len(CDS[0].seq)"
   ]
  },
  {
   "cell_type": "code",
   "execution_count": 17,
   "id": "maritime-gibraltar",
   "metadata": {
    "execution": {
     "iopub.execute_input": "2021-05-02T13:11:15.091081Z",
     "iopub.status.busy": "2021-05-02T13:11:15.090380Z",
     "iopub.status.idle": "2021-05-02T13:11:15.098801Z",
     "shell.execute_reply": "2021-05-02T13:11:15.097678Z",
     "shell.execute_reply.started": "2021-05-02T13:11:15.091039Z"
    },
    "tags": []
   },
   "outputs": [
    {
     "data": {
      "text/plain": [
       "890"
      ]
     },
     "execution_count": 17,
     "metadata": {},
     "output_type": "execute_result"
    }
   ],
   "source": [
    "len(rC_exon_records[2].seq)"
   ]
  },
  {
   "cell_type": "code",
   "execution_count": 18,
   "id": "surrounded-peoples",
   "metadata": {
    "execution": {
     "iopub.execute_input": "2021-05-02T13:11:15.100911Z",
     "iopub.status.busy": "2021-05-02T13:11:15.100288Z",
     "iopub.status.idle": "2021-05-02T13:11:15.111114Z",
     "shell.execute_reply": "2021-05-02T13:11:15.110160Z",
     "shell.execute_reply.started": "2021-05-02T13:11:15.100866Z"
    },
    "tags": []
   },
   "outputs": [],
   "source": [
    "seq_record = rC_exon_records[1]"
   ]
  },
  {
   "cell_type": "code",
   "execution_count": 19,
   "id": "polished-alexander",
   "metadata": {
    "execution": {
     "iopub.execute_input": "2021-05-02T13:11:15.113135Z",
     "iopub.status.busy": "2021-05-02T13:11:15.112552Z",
     "iopub.status.idle": "2021-05-02T13:11:15.126256Z",
     "shell.execute_reply": "2021-05-02T13:11:15.125438Z",
     "shell.execute_reply.started": "2021-05-02T13:11:15.113089Z"
    },
    "tags": []
   },
   "outputs": [
    {
     "data": {
      "text/plain": [
       "0.5761316872427984"
      ]
     },
     "execution_count": 19,
     "metadata": {},
     "output_type": "execute_result"
    }
   ],
   "source": [
    "metric_gcContent(seq_record.seq)"
   ]
  },
  {
   "cell_type": "markdown",
   "id": "after-beatles",
   "metadata": {},
   "source": [
    "## Selecting sensor "
   ]
  },
  {
   "cell_type": "code",
   "execution_count": 20,
   "id": "rapid-north",
   "metadata": {
    "execution": {
     "iopub.execute_input": "2021-05-02T13:11:15.128064Z",
     "iopub.status.busy": "2021-05-02T13:11:15.127446Z",
     "iopub.status.idle": "2021-05-02T13:11:15.139705Z",
     "shell.execute_reply": "2021-05-02T13:11:15.138359Z",
     "shell.execute_reply.started": "2021-05-02T13:11:15.128029Z"
    },
    "tags": []
   },
   "outputs": [
    {
     "data": {
      "text/plain": [
       "SeqRecord(seq=Seq('CTTTTTCCCCCACCGCCAAGGAGATGCGTTCCGAGCCATGCAGCGTGTCTCTTC...CTA'), id='Fezf2', name='Fezf2', description='Fezf2', dbxrefs=[])"
      ]
     },
     "execution_count": 20,
     "metadata": {},
     "output_type": "execute_result"
    }
   ],
   "source": [
    "seq_record"
   ]
  },
  {
   "cell_type": "code",
   "execution_count": 21,
   "id": "latin-malaysia",
   "metadata": {
    "execution": {
     "iopub.execute_input": "2021-05-02T13:11:15.142292Z",
     "iopub.status.busy": "2021-05-02T13:11:15.141597Z",
     "iopub.status.idle": "2021-05-02T13:11:15.153516Z",
     "shell.execute_reply": "2021-05-02T13:11:15.152627Z",
     "shell.execute_reply.started": "2021-05-02T13:11:15.142246Z"
    },
    "tags": []
   },
   "outputs": [
    {
     "data": {
      "text/plain": [
       "243"
      ]
     },
     "execution_count": 21,
     "metadata": {},
     "output_type": "execute_result"
    }
   ],
   "source": [
    "seq = seq_record.seq\n",
    "len(seq)"
   ]
  },
  {
   "cell_type": "code",
   "execution_count": 22,
   "id": "mineral-bouquet",
   "metadata": {
    "execution": {
     "iopub.execute_input": "2021-05-02T13:11:15.155487Z",
     "iopub.status.busy": "2021-05-02T13:11:15.154951Z",
     "iopub.status.idle": "2021-05-02T13:11:15.185872Z",
     "shell.execute_reply": "2021-05-02T13:11:15.184620Z",
     "shell.execute_reply.started": "2021-05-02T13:11:15.155453Z"
    },
    "tags": []
   },
   "outputs": [],
   "source": [
    "def generate_sesRNA(sequence, length, searchSequence, isoForm, typeSes):\n",
    "    start = 0\n",
    "    center = length/2\n",
    "    \n",
    "    global numPass, total, numTGG  \n",
    "    numPass = 0 \n",
    "    total = 0 \n",
    "    numTGG = []\n",
    "    \n",
    "    sesSeq = []\n",
    "    startSeq = []\n",
    "    stopSeq = []\n",
    "    \n",
    "    # For storing number of in frame TGG, ATG, and Stop codons \n",
    "    num_inF_TGGs = []\n",
    "    num_inF_ATGs = []\n",
    "    num_inF_Stops = []\n",
    "    \n",
    "    while(start <= (len(sequence) - length)):\n",
    "        # Defining current sub-sequence to process \n",
    "        subsequence = sequence[start:(start+length)]\n",
    "        \n",
    "        # Genrating index of any stop codons \n",
    "        stopCodons = ['TAG', 'TAA', 'TGA']\n",
    "        indiciesStop = []\n",
    "        for codons in stopCodons:\n",
    "            indiciesStop.extend([m.start() for m in re.finditer(codons, str(subsequence))])\n",
    "        \n",
    "        # GC content \n",
    "        gcContent = metric_gcContent(subsequence)*100\n",
    "        # Index of last ATG and TGG \n",
    "        lastATG = 0 \n",
    "        if(subsequence.count('ATG') != 0):\n",
    "            lastATG = [m.start() for m in re.finditer('ATG', str(subsequence))][-1]\n",
    "        if(subsequence.count('TGG') != 0):\n",
    "            lastTGG = [m.start() for m in re.finditer('TGG', str(subsequence))][-1]\n",
    "        # Getting indicies of TGG \n",
    "        indiciesTGG = [m.start() for m in re.finditer('TGG', str(subsequence))]\n",
    "        # Generating arrays indicies for TGGs and stop codons \n",
    "        arrayStop = np.array(indiciesStop)\n",
    "        arrayIndicies = np.array(indiciesTGG) \n",
    "        centralTGGs = arrayIndicies[abs(arrayIndicies - center) < 10]\n",
    "        \n",
    "        num_inF_TGG, num_inF_ATG, num_inF_Stop, indices_inF_TGG, indices_inF_ATG, indices_inF_Stop = return_inFrame(subsequence, 'all')\n",
    "        numATG = subsequence.count('ATG')\n",
    "        \n",
    "        # Only proceed if passed \n",
    "        # cond1 = len(indiciesStop) < 4 \n",
    "#         cond1 = check_cORF(subsequence)\n",
    "        cond1 = num_inF_Stop <= 0\n",
    "        \n",
    "        cond2 = num_inF_TGG >= 2\n",
    "        \n",
    "        cond3 = num_inF_ATG == 0 \n",
    "#         if num_inF_TGG != 0 and num_inF_ATG != 0:\n",
    "#             cond3 = (min(indices_inF_TGG) > max(indices_inF_ATG)) # just making sure that all in frame ATG's upstream of all in frame TGG's \n",
    "#         else:\n",
    "#             cond3 = num_inF_ATG == 0 \n",
    "        \n",
    "        cond4 = gcContent > 40\n",
    "        cond5 = gcContent < 65\n",
    "        \n",
    "        # cond4 = lastATG < lastTGG \n",
    "        # Checking if TGG near center of subsequence \n",
    "        cond6 = any(abs(x - center) < 10 for x in indices_inF_TGG)\n",
    "        \n",
    "        # Checking if any central array is more than 10 by away from an in frame stop\n",
    "#         cond7 = any((min(abs(arrayStop - i)) >= 20) for i in centralTGGs) # Original ... broken condition ... just as a check \n",
    "        if num_inF_Stop != 0:\n",
    "            cond7 = any((min(abs(indices_inF_Stop - i)) >= 20) for i in centralTGGs)\n",
    "        else:\n",
    "            cond7 = True\n",
    "        \n",
    "        \n",
    "        if(cond1 & cond2 & cond3 & cond4 & cond5 & cond6 & cond7):\n",
    "            # Only include if in region of gene (currently in CDS) \n",
    "            if check_inCDS(subsequence, searchSequence, isoForm, typeSes):\n",
    "                numPass += 1\n",
    "                    \n",
    "                numTGG.append(subsequence.count('TGG'))\n",
    "                \n",
    "                # Appending passesed subsequences \n",
    "                sesSeq.append(subsequence)\n",
    "                # Appending indices of start for sesnsor (relative to start of exon)\n",
    "                startSeq.append(start)\n",
    "                stopSeq.append(start+length)\n",
    "                \n",
    "                # Appending number of in frame TGGs, ATGs, and Stop codons \n",
    "                num_inF_TGGs.append(num_inF_TGG)\n",
    "                num_inF_ATGs.append(num_inF_ATG)\n",
    "                num_inF_Stops.append(num_inF_Stop)\n",
    "            \n",
    "        total += 1 \n",
    "        # Updating start index \n",
    "        start += 1 \n",
    "    \n",
    "    return sesSeq, startSeq, stopSeq, num_inF_TGGs, num_inF_ATGs, num_inF_Stops "
   ]
  },
  {
   "cell_type": "code",
   "execution_count": null,
   "id": "e082aef3-2894-498d-8776-9a4cf83bacc4",
   "metadata": {},
   "outputs": [],
   "source": []
  },
  {
   "cell_type": "code",
   "execution_count": 23,
   "id": "pharmaceutical-advice",
   "metadata": {
    "execution": {
     "iopub.execute_input": "2021-05-02T13:11:15.190459Z",
     "iopub.status.busy": "2021-05-02T13:11:15.189800Z",
     "iopub.status.idle": "2021-05-02T13:11:15.212060Z",
     "shell.execute_reply": "2021-05-02T13:11:15.211111Z",
     "shell.execute_reply.started": "2021-05-02T13:11:15.190411Z"
    },
    "scrolled": true,
    "tags": []
   },
   "outputs": [
    {
     "data": {
      "text/plain": [
       "([], [], [], [], [], [])"
      ]
     },
     "execution_count": 23,
     "metadata": {},
     "output_type": "execute_result"
    }
   ],
   "source": [
    "sesRNAs = generate_sesRNA(seq, 204, CDS, 0, 'Reverse')\n",
    "sesRNAs"
   ]
  },
  {
   "cell_type": "code",
   "execution_count": 24,
   "id": "alike-binary",
   "metadata": {
    "execution": {
     "iopub.execute_input": "2021-05-02T13:11:15.214564Z",
     "iopub.status.busy": "2021-05-02T13:11:15.213939Z",
     "iopub.status.idle": "2021-05-02T13:11:15.225309Z",
     "shell.execute_reply": "2021-05-02T13:11:15.224486Z",
     "shell.execute_reply.started": "2021-05-02T13:11:15.214523Z"
    },
    "tags": []
   },
   "outputs": [
    {
     "data": {
      "text/plain": [
       "6"
      ]
     },
     "execution_count": 24,
     "metadata": {},
     "output_type": "execute_result"
    }
   ],
   "source": [
    "len(sesRNAs)"
   ]
  },
  {
   "cell_type": "code",
   "execution_count": 25,
   "id": "f2b0b962-28f8-46c6-8c3e-621767e6451d",
   "metadata": {
    "execution": {
     "iopub.execute_input": "2021-05-02T13:11:15.226815Z",
     "iopub.status.busy": "2021-05-02T13:11:15.226383Z",
     "iopub.status.idle": "2021-05-02T13:11:15.237874Z",
     "shell.execute_reply": "2021-05-02T13:11:15.237189Z",
     "shell.execute_reply.started": "2021-05-02T13:11:15.226784Z"
    },
    "tags": []
   },
   "outputs": [],
   "source": [
    "# Returns sesRNAs for each exon\n",
    "def generate_sesRNAs_multiExon(exon_records, length, searchSequence, isoForm, typeSes):\n",
    "    tempAll_sesRNAs = []\n",
    "    tempAll_startSeq = []\n",
    "    tempAll_stopSeq = []\n",
    "    temp_num_inF_TGGs = []\n",
    "    temp_num_inF_ATGs = []\n",
    "    temp_num_inF_Stops = []\n",
    "    \n",
    "    for record in exon_records:\n",
    "        tempSeq = record.seq \n",
    "        temp_sesRNAs, temp_startSeq, temp_stopSeq, single_num_inF_TGGs, single_num_inF_ATGs, single_num_inF_Stops = generate_sesRNA(tempSeq, length, searchSequence, isoForm, typeSes)\n",
    "        \n",
    "        tempAll_sesRNAs.extend(temp_sesRNAs)\n",
    "        tempAll_startSeq.append(temp_startSeq)\n",
    "        tempAll_stopSeq.append(temp_stopSeq)\n",
    "        \n",
    "        temp_num_inF_TGGs.append(single_num_inF_TGGs)\n",
    "        temp_num_inF_ATGs.append(single_num_inF_ATGs)\n",
    "        temp_num_inF_Stops.append(single_num_inF_Stops)\n",
    "        \n",
    "        # Printing number of passed sequences for current exon \n",
    "        print(len(temp_sesRNAs))\n",
    "        \n",
    "    return tempAll_sesRNAs, tempAll_startSeq, tempAll_stopSeq, temp_num_inF_TGGs, temp_num_inF_ATGs, temp_num_inF_Stops"
   ]
  },
  {
   "cell_type": "code",
   "execution_count": 26,
   "id": "compressed-anderson",
   "metadata": {
    "execution": {
     "iopub.execute_input": "2021-05-02T13:11:15.239600Z",
     "iopub.status.busy": "2021-05-02T13:11:15.239208Z",
     "iopub.status.idle": "2021-05-02T13:11:15.482012Z",
     "shell.execute_reply": "2021-05-02T13:11:15.481100Z",
     "shell.execute_reply.started": "2021-05-02T13:11:15.239573Z"
    },
    "tags": []
   },
   "outputs": [
    {
     "name": "stdout",
     "output_type": "stream",
     "text": [
      "0\n",
      "0\n",
      "15\n"
     ]
    }
   ],
   "source": [
    "rC_multiExon_sesRNAs, rC_multi_startSeq, rC_multi_stopSeq, rC_num_inF_TGGs, rC_num_inF_ATGs, rC_num_inF_Stops = generate_sesRNAs_multiExon(rC_exon_records, 228, CDS, 0, 'Reverse')"
   ]
  },
  {
   "cell_type": "code",
   "execution_count": 27,
   "id": "9fa94484-732e-4fe7-80d4-5cdf051f4e3a",
   "metadata": {
    "execution": {
     "iopub.execute_input": "2021-05-02T13:11:15.483895Z",
     "iopub.status.busy": "2021-05-02T13:11:15.483241Z",
     "iopub.status.idle": "2021-05-02T13:11:15.490333Z",
     "shell.execute_reply": "2021-05-02T13:11:15.489475Z",
     "shell.execute_reply.started": "2021-05-02T13:11:15.483850Z"
    },
    "tags": []
   },
   "outputs": [
    {
     "data": {
      "text/plain": [
       "[[],\n",
       " [],\n",
       " [153, 156, 159, 162, 165, 168, 171, 183, 186, 189, 192, 195, 198, 201, 204]]"
      ]
     },
     "execution_count": 27,
     "metadata": {},
     "output_type": "execute_result"
    }
   ],
   "source": [
    "rC_multi_startSeq"
   ]
  },
  {
   "cell_type": "code",
   "execution_count": 28,
   "id": "e889641a-333d-48ab-b09f-36469ed8a22f",
   "metadata": {
    "execution": {
     "iopub.execute_input": "2021-05-02T13:11:15.491996Z",
     "iopub.status.busy": "2021-05-02T13:11:15.491511Z",
     "iopub.status.idle": "2021-05-02T13:11:15.504066Z",
     "shell.execute_reply": "2021-05-02T13:11:15.503232Z",
     "shell.execute_reply.started": "2021-05-02T13:11:15.491956Z"
    },
    "tags": []
   },
   "outputs": [
    {
     "data": {
      "text/plain": [
       "[[],\n",
       " [],\n",
       " [381, 384, 387, 390, 393, 396, 399, 411, 414, 417, 420, 423, 426, 429, 432]]"
      ]
     },
     "execution_count": 28,
     "metadata": {},
     "output_type": "execute_result"
    }
   ],
   "source": [
    "rC_multi_stopSeq"
   ]
  },
  {
   "cell_type": "code",
   "execution_count": 29,
   "id": "55383cd9-7839-4670-8cac-1d3a6a5ac8d9",
   "metadata": {
    "execution": {
     "iopub.execute_input": "2021-05-02T13:11:15.505609Z",
     "iopub.status.busy": "2021-05-02T13:11:15.505314Z",
     "iopub.status.idle": "2021-05-02T13:11:15.518131Z",
     "shell.execute_reply": "2021-05-02T13:11:15.517033Z",
     "shell.execute_reply.started": "2021-05-02T13:11:15.505578Z"
    },
    "tags": []
   },
   "outputs": [
    {
     "data": {
      "text/plain": [
       "279"
      ]
     },
     "execution_count": 29,
     "metadata": {},
     "output_type": "execute_result"
    }
   ],
   "source": [
    "# Just looking at 'window' in which sesRNAs are being produced \n",
    "max(rC_multi_stopSeq[2]) - min(rC_multi_startSeq[2])"
   ]
  },
  {
   "cell_type": "code",
   "execution_count": 30,
   "id": "b95bf425-3a99-4889-89a6-3c06227df8c4",
   "metadata": {
    "execution": {
     "iopub.execute_input": "2021-05-02T13:11:15.519689Z",
     "iopub.status.busy": "2021-05-02T13:11:15.519418Z",
     "iopub.status.idle": "2021-05-02T13:11:15.534376Z",
     "shell.execute_reply": "2021-05-02T13:11:15.533404Z",
     "shell.execute_reply.started": "2021-05-02T13:11:15.519659Z"
    },
    "tags": []
   },
   "outputs": [
    {
     "data": {
      "text/plain": [
       "[[], [], [4, 4, 4, 4, 4, 3, 3, 3, 3, 3, 3, 3, 3, 3, 3]]"
      ]
     },
     "execution_count": 30,
     "metadata": {},
     "output_type": "execute_result"
    }
   ],
   "source": [
    "rC_num_inF_TGGs"
   ]
  },
  {
   "cell_type": "code",
   "execution_count": 31,
   "id": "ae0eaf41-6af0-4fb8-8375-7a51823cef34",
   "metadata": {
    "execution": {
     "iopub.execute_input": "2021-05-02T13:11:15.535859Z",
     "iopub.status.busy": "2021-05-02T13:11:15.535575Z",
     "iopub.status.idle": "2021-05-02T13:11:15.553451Z",
     "shell.execute_reply": "2021-05-02T13:11:15.552295Z",
     "shell.execute_reply.started": "2021-05-02T13:11:15.535830Z"
    },
    "tags": []
   },
   "outputs": [
    {
     "data": {
      "text/plain": [
       "[[], [], [0, 0, 0, 0, 0, 0, 0, 0, 0, 0, 0, 0, 0, 0, 0]]"
      ]
     },
     "execution_count": 31,
     "metadata": {},
     "output_type": "execute_result"
    }
   ],
   "source": [
    "rC_num_inF_ATGs"
   ]
  },
  {
   "cell_type": "code",
   "execution_count": 32,
   "id": "85a76c2d-8746-4960-9681-10e2926a23b8",
   "metadata": {
    "execution": {
     "iopub.execute_input": "2021-05-02T13:11:15.554814Z",
     "iopub.status.busy": "2021-05-02T13:11:15.554562Z",
     "iopub.status.idle": "2021-05-02T13:11:15.566358Z",
     "shell.execute_reply": "2021-05-02T13:11:15.565550Z",
     "shell.execute_reply.started": "2021-05-02T13:11:15.554788Z"
    },
    "tags": []
   },
   "outputs": [
    {
     "data": {
      "text/plain": [
       "[[], [], [0, 0, 0, 0, 0, 0, 0, 0, 0, 0, 0, 0, 0, 0, 0]]"
      ]
     },
     "execution_count": 32,
     "metadata": {},
     "output_type": "execute_result"
    }
   ],
   "source": [
    "rC_num_inF_Stops"
   ]
  },
  {
   "cell_type": "code",
   "execution_count": 33,
   "id": "6ca67c2e-2f73-444f-9544-65b390941e59",
   "metadata": {
    "execution": {
     "iopub.execute_input": "2021-05-02T13:11:15.568096Z",
     "iopub.status.busy": "2021-05-02T13:11:15.567571Z",
     "iopub.status.idle": "2021-05-02T13:11:15.581262Z",
     "shell.execute_reply": "2021-05-02T13:11:15.580317Z",
     "shell.execute_reply.started": "2021-05-02T13:11:15.568061Z"
    },
    "tags": []
   },
   "outputs": [
    {
     "name": "stdout",
     "output_type": "stream",
     "text": [
      "0.6096491228070176\n",
      "0.6008771929824561\n",
      "0.6096491228070176\n",
      "0.6096491228070176\n",
      "0.6140350877192983\n",
      "0.6096491228070176\n",
      "0.6052631578947368\n",
      "0.618421052631579\n",
      "0.618421052631579\n",
      "0.6228070175438597\n",
      "0.6271929824561403\n",
      "0.6228070175438597\n",
      "0.618421052631579\n",
      "0.6228070175438597\n",
      "0.6271929824561403\n"
     ]
    }
   ],
   "source": [
    "# Checking GC content of sesRNAs \n",
    "for sequence in rC_multiExon_sesRNAs:\n",
    "    print(metric_gcContent(sequence))"
   ]
  },
  {
   "cell_type": "code",
   "execution_count": 34,
   "id": "ca3ae922-2b97-48ef-bf00-3c9da8b9ed15",
   "metadata": {
    "execution": {
     "iopub.execute_input": "2021-05-02T13:11:15.583122Z",
     "iopub.status.busy": "2021-05-02T13:11:15.582657Z",
     "iopub.status.idle": "2021-05-02T13:11:15.601903Z",
     "shell.execute_reply": "2021-05-02T13:11:15.601079Z",
     "shell.execute_reply.started": "2021-05-02T13:11:15.583090Z"
    },
    "tags": []
   },
   "outputs": [
    {
     "name": "stdout",
     "output_type": "stream",
     "text": [
      "[ 12 123 153 156]\n",
      "[  9 120 150 153]\n",
      "[  6 117 147 150]\n",
      "[  3 114 144 147]\n",
      "[  0 111 141 144]\n",
      "[108 138 141]\n",
      "[105 135 138]\n",
      "[ 93 123 126]\n",
      "[ 90 120 123]\n",
      "[ 87 117 120]\n",
      "[ 84 114 117]\n",
      "[ 81 111 114]\n",
      "[ 78 108 111]\n",
      "[ 75 105 108]\n",
      "[ 72 102 105]\n"
     ]
    }
   ],
   "source": [
    "all_indices_inF_TGG = []\n",
    "all_indices_inF_ATG = []\n",
    "\n",
    "for sequence in rC_multiExon_sesRNAs:\n",
    "    num_inF_TGG, num_inF_ATG, num_inF_Stops, indicesTGG, indicesATG, indicesStops = return_inFrame(sequence, 'all')\n",
    "    all_indices_inF_TGG.append(indicesTGG)\n",
    "    all_indices_inF_ATG.append(indicesATG)\n",
    "    print(indicesTGG)\n",
    "    # print(num_inF_TGG)"
   ]
  },
  {
   "cell_type": "code",
   "execution_count": null,
   "id": "aad318dc-1a4f-4423-b1ef-6ab4d3f10a0f",
   "metadata": {},
   "outputs": [],
   "source": []
  },
  {
   "cell_type": "code",
   "execution_count": null,
   "id": "ac1d71cb-bda4-4cc1-aeaa-b91b44756d18",
   "metadata": {},
   "outputs": [],
   "source": []
  },
  {
   "cell_type": "code",
   "execution_count": null,
   "id": "26f3c5c1-e7bd-4af4-bd00-89709d02d366",
   "metadata": {},
   "outputs": [],
   "source": []
  },
  {
   "cell_type": "code",
   "execution_count": null,
   "id": "cf2c017f-8535-45b5-81e8-b563cc94ba34",
   "metadata": {
    "tags": []
   },
   "outputs": [],
   "source": [
    "C_multiExon_sesRNAs, C_multi_startSeq, C_num_inF_TGGs, C_num_inF_ATGs, C_num_inF_Stops = generate_sesRNAs_multiExon(C_exon_records, 204, CDS, 0, 'Complement')"
   ]
  },
  {
   "cell_type": "code",
   "execution_count": null,
   "id": "5788828e-b698-4d53-ad34-05ecab65cd80",
   "metadata": {
    "tags": []
   },
   "outputs": [],
   "source": [
    "C_multiExon_sesRNAs"
   ]
  },
  {
   "cell_type": "code",
   "execution_count": null,
   "id": "960a34cf-5983-43eb-9e0d-109c4e4a825e",
   "metadata": {},
   "outputs": [],
   "source": []
  },
  {
   "cell_type": "code",
   "execution_count": null,
   "id": "2e23b72a-6f70-4096-8508-b587b09158cb",
   "metadata": {},
   "outputs": [],
   "source": []
  },
  {
   "cell_type": "code",
   "execution_count": null,
   "id": "ad5adf43-a71f-4581-aeab-1e69231db81a",
   "metadata": {},
   "outputs": [],
   "source": []
  },
  {
   "cell_type": "code",
   "execution_count": null,
   "id": "hungarian-empire",
   "metadata": {
    "tags": []
   },
   "outputs": [],
   "source": [
    "# Just additional check if in CDS \n",
    "cds_sesRNAs = return_inCDS(rC_multiExon_sesRNAs, CDS, 0, 'Reverse')\n",
    "cds_sesRNAs"
   ]
  },
  {
   "cell_type": "code",
   "execution_count": null,
   "id": "346b7ab3-f478-4fe9-9941-af8e6fbcc96e",
   "metadata": {},
   "outputs": [],
   "source": []
  },
  {
   "cell_type": "code",
   "execution_count": null,
   "id": "addressed-disney",
   "metadata": {},
   "outputs": [],
   "source": []
  },
  {
   "cell_type": "code",
   "execution_count": null,
   "id": "wireless-affiliation",
   "metadata": {},
   "outputs": [],
   "source": []
  },
  {
   "cell_type": "code",
   "execution_count": null,
   "id": "permanent-poison",
   "metadata": {
    "scrolled": true,
    "tags": []
   },
   "outputs": [],
   "source": [
    "for i in range(200, 300):\n",
    "    if(i%3 == 0):\n",
    "        print(i)"
   ]
  },
  {
   "cell_type": "code",
   "execution_count": null,
   "id": "naked-desktop",
   "metadata": {},
   "outputs": [],
   "source": []
  },
  {
   "cell_type": "code",
   "execution_count": null,
   "id": "saved-cambodia",
   "metadata": {},
   "outputs": [],
   "source": []
  },
  {
   "cell_type": "code",
   "execution_count": null,
   "id": "virgin-muslim",
   "metadata": {
    "tags": []
   },
   "outputs": [],
   "source": [
    "testSeq = sesRNAs[0]\n",
    "testSeq"
   ]
  },
  {
   "cell_type": "code",
   "execution_count": null,
   "id": "attractive-frank",
   "metadata": {
    "tags": []
   },
   "outputs": [],
   "source": [
    "str(testSeq)"
   ]
  },
  {
   "cell_type": "code",
   "execution_count": null,
   "id": "opponent-robinson",
   "metadata": {
    "tags": []
   },
   "outputs": [],
   "source": [
    "?split()"
   ]
  },
  {
   "cell_type": "code",
   "execution_count": null,
   "id": "crazy-delhi",
   "metadata": {
    "tags": []
   },
   "outputs": [],
   "source": [
    "subsequence = str(testSeq)\n",
    "codons = [subsequence for subsequence in re.split(r'(\\w{3})', subsequence) if subsequence]"
   ]
  },
  {
   "cell_type": "code",
   "execution_count": null,
   "id": "comparable-ottawa",
   "metadata": {
    "tags": []
   },
   "outputs": [],
   "source": []
  },
  {
   "cell_type": "code",
   "execution_count": null,
   "id": "generic-government",
   "metadata": {
    "tags": []
   },
   "outputs": [],
   "source": [
    "tempSeq = Seq('GTTCTCCTTCAGCACCTGCTCCAGCGGCGCATGCAAGCGCTCCTTATGGGGATAGGAAGCTGGGTGGGGGAACTTGTCCGCAGTCAGGCTGGCCAGTTTGGCATTCTCCAGCAGAAAAAGCTTGGGGTGAGCAGCCAGGGAAGTGGGGGCCTGTGCGTTGAGGAGGCCAGATGGGAAAAGGTGGCCTCCGAGGAGCTCCGATGG')"
   ]
  },
  {
   "cell_type": "code",
   "execution_count": null,
   "id": "liable-exemption",
   "metadata": {
    "tags": []
   },
   "outputs": [],
   "source": [
    "check_cORF(tempSeq)"
   ]
  },
  {
   "cell_type": "code",
   "execution_count": null,
   "id": "guilty-russell",
   "metadata": {
    "tags": []
   },
   "outputs": [],
   "source": [
    "coding_dna = Seq(\"ATGGCCATTGTAATGGGCCGCTGAAAGGGTGCCCGATAG\")"
   ]
  },
  {
   "cell_type": "code",
   "execution_count": null,
   "id": "light-nutrition",
   "metadata": {
    "tags": []
   },
   "outputs": [],
   "source": [
    "check_cORF(coding_dna)"
   ]
  },
  {
   "cell_type": "code",
   "execution_count": null,
   "id": "rising-proceeding",
   "metadata": {},
   "outputs": [],
   "source": []
  },
  {
   "cell_type": "markdown",
   "id": "extreme-commissioner",
   "metadata": {},
   "source": [
    "# Outputing sesRNA"
   ]
  },
  {
   "cell_type": "code",
   "execution_count": null,
   "id": "9e2d21f9-3937-4c5a-a30d-11754beb9a34",
   "metadata": {
    "tags": []
   },
   "outputs": [],
   "source": [
    "# Generating BioPython directory if does not exist \n",
    "pathlib.Path('Output/BioPython').mkdir(parents=True, exist_ok=True)\n",
    "\n",
    "# Generate SeqRecord object for each sequence and append to list \n",
    "outputID = geneName + '_sesRNA'\n",
    "outputDescription = \"sesRNA for \" + geneName\n",
    "\n",
    "# Generating sequence record objects (for seperate storage)\n",
    "outputSeqMulti_DNA = []\n",
    "outputSeqMulti_RNA = []\n",
    "for i in rC_multiExon_sesRNAs:\n",
    "    outputSeqMulti.append(SeqRecord(i, id = outputID, description = outputDescription))\n",
    "    \n",
    "# Write output fasta files \n",
    "version = \"V6\"\n",
    "outputName = \"Output/BioPython/\" + geneName + \"_sesRNA_\" + version + \".fasta\" \n",
    "with open(outputName, \"w\") as output_handle:\n",
    "    SeqIO.write(outputSeqMulti, output_handle, \"fasta\")"
   ]
  },
  {
   "cell_type": "code",
   "execution_count": null,
   "id": "167c3ea8-17d5-4514-9a5f-0104b3f9e8a7",
   "metadata": {},
   "outputs": [],
   "source": []
  },
  {
   "cell_type": "code",
   "execution_count": null,
   "id": "c693bab4-f20e-4c6e-a534-68e3034bf5a6",
   "metadata": {},
   "outputs": [],
   "source": []
  },
  {
   "cell_type": "code",
   "execution_count": null,
   "id": "9f9f5568-5659-438b-9b7a-908e50b8def4",
   "metadata": {},
   "outputs": [],
   "source": []
  },
  {
   "cell_type": "code",
   "execution_count": null,
   "id": "f47875ae-27ec-433f-aec4-e23bf7aca36f",
   "metadata": {
    "tags": []
   },
   "outputs": [],
   "source": []
  },
  {
   "cell_type": "code",
   "execution_count": null,
   "id": "7f8c9e2b-a4f1-4b45-91df-78cb737f5171",
   "metadata": {
    "tags": []
   },
   "outputs": [],
   "source": [
    "# Given sequence ... converts to in frame TGGs to TAGs and in frame stops so that first 'T' becomes 'G'\n",
    "# Had to be careful to only work with in frame codons ... initally had made the mistake to just use string.replace ... this would change out of frame codons as well \n",
    "def convert_DNA(sequence, numberConvert):\n",
    "    # Converting to string object for manipulation \n",
    "    strSeq = str(sequence)\n",
    "    # Generating in frame object variables \n",
    "    num_inF_TGG, num_inF_ATG, num_inF_Stop, indicesTGG, indicesATG, indicesStop = return_inFrame(Seq(strSeq), 'all')\n",
    "    print(num_inF_TGG)\n",
    "    # print(num_inF_Stop)\n",
    "\n",
    "    # Replacing in frame stop codons in sequence \n",
    "    for stop in indicesStop: \n",
    "        stopPairs = [(\"TAG\", \"GAG\"), (\"TAA\", \"GAA\"), (\"TGA\", \"GGA\")]\n",
    "        stopSeq = strSeq[stop:stop+3]\n",
    "        [stopSeq := stopSeq.replace(a, b) for a, b in stopPairs]\n",
    "        strSeq = strSeq[:stop] + stopSeq + strSeq[stop+3:]\n",
    "    \n",
    "    # Setting number convert to all if 'All' selected as number of TGG to convert \n",
    "    if numberConvert == 'All': numberConvert = num_inF_TGG\n",
    "    # Converting TGG's ... up to number set ... and in order from starting with most central \n",
    "    # Sorts indicees by distance from center \n",
    "    sorted_indices_centralTGG = np.array(sorted(indicesTGG - (len(strSeq)/2), key = abs)) + (len(strSeq)/2)\n",
    "    # Converts in frame TGG's ... starting from most central TGG ... up to limit set by numberConvert \n",
    "    for i in range(numberConvert):\n",
    "        currentIndex = int(sorted_indices_centralTGG[i])\n",
    "        strSeq = strSeq[:currentIndex] + 'TAG' + strSeq[currentIndex+3:]\n",
    "    # Returns RNA \n",
    "    return Seq(strSeq).transcribe()"
   ]
  },
  {
   "cell_type": "code",
   "execution_count": null,
   "id": "6af0e1ef-cb15-4fa0-a3f6-9b9f52d03398",
   "metadata": {
    "tags": []
   },
   "outputs": [],
   "source": [
    "testSeq = Seq('TGGGAGTAGTGGTGGTAATGA')\n",
    "testStr = str(testSeq)"
   ]
  },
  {
   "cell_type": "code",
   "execution_count": null,
   "id": "2e4f7175-2aef-483b-8f96-831dde95fa64",
   "metadata": {
    "tags": []
   },
   "outputs": [],
   "source": [
    "convert_DNA(testSeq, 1)"
   ]
  },
  {
   "cell_type": "code",
   "execution_count": null,
   "id": "a1cf653e-5b1a-45eb-9eb1-35be5f21d605",
   "metadata": {
    "tags": []
   },
   "outputs": [],
   "source": [
    "# Test that all and numbering is working \n",
    "convert_DNA(testSeq, 3) == convert_DNA(testSeq, 'All')"
   ]
  },
  {
   "cell_type": "code",
   "execution_count": null,
   "id": "023548a3-3307-403b-be4e-f6ca37d91bad",
   "metadata": {
    "tags": []
   },
   "outputs": [],
   "source": [
    "convert_DNA(rC_multiExon_sesRNAs[0], 'All')"
   ]
  },
  {
   "cell_type": "code",
   "execution_count": null,
   "id": "90ae4ae5-4c10-4f54-a1c8-d126e2da8a9d",
   "metadata": {
    "tags": []
   },
   "outputs": [],
   "source": [
    "# Testing that continious reading frame being produced if number set to 0 \n",
    "len(convert_DNA(rC_multiExon_sesRNAs[0], 0).translate(to_stop = True)) == len(rC_multiExon_sesRNAs[0])/3"
   ]
  },
  {
   "cell_type": "code",
   "execution_count": null,
   "id": "4d8d7111-a889-4047-802c-602d090da378",
   "metadata": {
    "tags": []
   },
   "outputs": [],
   "source": [
    "# Checking that right number of TGG being converted \n",
    "return_inFrame(convert_DNA(rC_multiExon_sesRNAs[0], 'All').back_transcribe(), 'numTGG')"
   ]
  },
  {
   "cell_type": "code",
   "execution_count": null,
   "id": "1bae4831-23e7-408e-bc9e-9a7aebc136f6",
   "metadata": {},
   "outputs": [],
   "source": []
  },
  {
   "cell_type": "code",
   "execution_count": null,
   "id": "d40fa6fd-c67b-4253-ac72-5e8d27697653",
   "metadata": {},
   "outputs": [],
   "source": []
  },
  {
   "cell_type": "code",
   "execution_count": null,
   "id": "bcc692ef-2b86-49e5-a910-053cf06538db",
   "metadata": {
    "tags": []
   },
   "outputs": [],
   "source": [
    "convert_DNA(testSeq, 1) - (len(testSeq)/2)"
   ]
  },
  {
   "cell_type": "code",
   "execution_count": null,
   "id": "f9570a65-2d19-48da-9328-0a348cdf8b39",
   "metadata": {
    "tags": []
   },
   "outputs": [],
   "source": [
    "abs(convert_DNA(testSeq, 1) - (len(testSeq)/2))"
   ]
  },
  {
   "cell_type": "code",
   "execution_count": null,
   "id": "038c46e2-2379-483e-885b-a74aaa59c52a",
   "metadata": {
    "tags": []
   },
   "outputs": [],
   "source": [
    "np.sort(abs(convert_DNA(testSeq, 1) - (len(testSeq)/2))) + (len(testSeq)/2)"
   ]
  },
  {
   "cell_type": "code",
   "execution_count": null,
   "id": "5a05d474-d9f5-4c6e-bb0d-a04ab3df21c9",
   "metadata": {
    "tags": []
   },
   "outputs": [],
   "source": [
    "np.array(sorted(convert_DNA(testSeq, 1) - (len(testSeq)/2), key = abs)) + (len(testSeq)/2)"
   ]
  },
  {
   "cell_type": "code",
   "execution_count": null,
   "id": "7ee4c058-fcca-469f-90a3-32fd868e95c5",
   "metadata": {},
   "outputs": [],
   "source": []
  },
  {
   "cell_type": "code",
   "execution_count": null,
   "id": "54abcd1d-689a-479a-a0ec-72f227fc50ec",
   "metadata": {},
   "outputs": [],
   "source": []
  },
  {
   "cell_type": "code",
   "execution_count": null,
   "id": "31a227db-5c8c-4bdf-9e5b-e458f6e0449e",
   "metadata": {},
   "outputs": [],
   "source": []
  },
  {
   "cell_type": "code",
   "execution_count": null,
   "id": "a1a573ef-21bc-43ea-825f-40cbd31013c6",
   "metadata": {},
   "outputs": [],
   "source": []
  },
  {
   "cell_type": "code",
   "execution_count": null,
   "id": "8a03757a-e498-4b7b-9419-4466b6620944",
   "metadata": {},
   "outputs": [],
   "source": []
  },
  {
   "cell_type": "code",
   "execution_count": null,
   "id": "cfb99393-f012-4853-bdd6-f6ab77206b39",
   "metadata": {},
   "outputs": [],
   "source": []
  },
  {
   "cell_type": "code",
   "execution_count": null,
   "id": "c3fd9adf-493b-446a-a533-7b622c7bf697",
   "metadata": {
    "tags": []
   },
   "outputs": [],
   "source": [
    "# Function for saving both original template DNA sequence and the converted RNA given list of sesRNAs Seq objects\n",
    "# Could change later to make for separate output files ... have not decided yet whether to just put them together into one labeled fasta file \n",
    "def save_sesRNAs(sequences_sesRNAs, geneName, version, numConvertTGG):\n",
    "    # Generating BioPython directory if does not exist \n",
    "    pathlib.Path('Output/BioPython').mkdir(parents=True, exist_ok=True)\n",
    "    \n",
    "    # Defining save name and description for outputs (original DNA and converted RNA)\n",
    "    DNA_outputID = geneName + '_sesRNA'\n",
    "    DNA_outputDescription = \"sesRNA DNA original for \" + geneName\n",
    "    convertedRNA_outputID = geneName + '_sesRNA'\n",
    "    convertedRNA_outputDescription = \"sesRNA converted RNA for \" + geneName\n",
    "    \n",
    "    # Creating empty list for storing sequences \n",
    "    outputSeqMulti_DNA = []\n",
    "    outputSeqMulti_convertedRNA= []\n",
    "    \n",
    "    # Generating SeqRecord objects in preparation for writing FASTA files ... edited description to include number of sequence\n",
    "    i = 1\n",
    "    for sequence in sequences_sesRNAs:\n",
    "        outputSeqMulti_DNA.append(SeqRecord(sequence, id = DNA_outputID+str(i), description = DNA_outputDescription))\n",
    "        outputSeqMulti_convertedRNA.append(SeqRecord(convert_DNA(sequence, numberConvertTGG), id = convertedRNA_outputID+str(i), description = convertedRNA_outputDescription))\n",
    "        i += 1\n",
    "        \n",
    "    # Write output fasta files \n",
    "    DNA_outputName = \"Output/BioPython/\" + geneName + \"_sesRNA_\" + version + \".fasta\" \n",
    "    convertedRNA_outputName = \"Output/BioPython/\" + geneName + \"_sesRNA_convertedRNA_\" + version + \".fasta\" \n",
    "    \n",
    "    with open(outputName, \"w\") as output_handle:\n",
    "        # Writing original template DNA files \n",
    "        SeqIO.write(outputSeqMulti_DNA, output_handle, \"fasta\")\n",
    "        # Writing orginal template RNA files \n",
    "        SeqIO.write(outputSeqMulti_convertedRNA, output_handle, \"fasta\")"
   ]
  },
  {
   "cell_type": "code",
   "execution_count": null,
   "id": "b468b5c8-ff7c-487e-9e68-1e8218717ca1",
   "metadata": {},
   "outputs": [],
   "source": []
  },
  {
   "cell_type": "code",
   "execution_count": null,
   "id": "640b3b8e-8878-4c54-973d-d52846c19e45",
   "metadata": {},
   "outputs": [],
   "source": []
  },
  {
   "cell_type": "code",
   "execution_count": null,
   "id": "97663c27-5654-4ca8-acab-a178f4d17e29",
   "metadata": {
    "tags": []
   },
   "outputs": [],
   "source": [
    "testSeq = rC_multiExon_sesRNAs[0]"
   ]
  },
  {
   "cell_type": "code",
   "execution_count": null,
   "id": "a19b73af-bf15-4368-860a-1f2dec194673",
   "metadata": {
    "tags": []
   },
   "outputs": [],
   "source": [
    "testSeq_str = str(testSeq)\n",
    "testSeq_str"
   ]
  },
  {
   "cell_type": "code",
   "execution_count": null,
   "id": "b7638e7a-8acb-4a83-a035-2320fe1a5db9",
   "metadata": {
    "tags": []
   },
   "outputs": [],
   "source": [
    "testStr = 'TGGTGGTAG'"
   ]
  },
  {
   "cell_type": "code",
   "execution_count": null,
   "id": "254d0090-d319-4a22-b6aa-8da585a67322",
   "metadata": {
    "tags": []
   },
   "outputs": [],
   "source": [
    "testStr.replace('TGG', 'TAG', 1)"
   ]
  },
  {
   "cell_type": "code",
   "execution_count": null,
   "id": "fa7301ff-d019-4444-8022-b4fbf9d9835d",
   "metadata": {
    "tags": []
   },
   "outputs": [],
   "source": [
    "?str.replace"
   ]
  },
  {
   "cell_type": "code",
   "execution_count": null,
   "id": "63be56e2-060b-4293-b20e-9dcd4b67238c",
   "metadata": {},
   "outputs": [],
   "source": []
  },
  {
   "cell_type": "code",
   "execution_count": null,
   "id": "6ff15638-3a6c-4990-a79a-0b01cf042a13",
   "metadata": {},
   "outputs": [],
   "source": [
    "replacedSeq = testSeq_str('TGG', 'TAG', c)"
   ]
  },
  {
   "cell_type": "code",
   "execution_count": null,
   "id": "f954093f-e949-4a2f-ac36-f7b4008e1497",
   "metadata": {},
   "outputs": [],
   "source": []
  },
  {
   "cell_type": "code",
   "execution_count": null,
   "id": "upper-economics",
   "metadata": {
    "tags": []
   },
   "outputs": [],
   "source": [
    "len(rC_multiExon_sesRNAs)"
   ]
  },
  {
   "cell_type": "code",
   "execution_count": null,
   "id": "outstanding-reasoning",
   "metadata": {},
   "outputs": [],
   "source": []
  },
  {
   "cell_type": "markdown",
   "id": "southern-injection",
   "metadata": {},
   "source": [
    "# Secondary structure "
   ]
  },
  {
   "cell_type": "code",
   "execution_count": null,
   "id": "a6564f41-6d6f-4d8b-a948-9b65c1a8bd25",
   "metadata": {
    "tags": []
   },
   "outputs": [],
   "source": [
    "# Leading RNAfold as RNA \n",
    "sys.path.append(\"/home/user1/Dropbox/Research/Neurobiology_PhD/Rotations/Huang/Projects/CellReadR/Packages/ViennaRNA_Python3/usr/lib/python3.9/site-packages/RNA\")\n",
    "import _RNA as RNAfold "
   ]
  },
  {
   "cell_type": "code",
   "execution_count": 35,
   "id": "unlike-looking",
   "metadata": {
    "execution": {
     "iopub.execute_input": "2021-05-02T13:11:25.482007Z",
     "iopub.status.busy": "2021-05-02T13:11:25.481485Z",
     "iopub.status.idle": "2021-05-02T13:11:25.485584Z",
     "shell.execute_reply": "2021-05-02T13:11:25.484891Z",
     "shell.execute_reply.started": "2021-05-02T13:11:25.481974Z"
    },
    "tags": []
   },
   "outputs": [],
   "source": [
    "# Generating Temp \n",
    "pathlib.Path('Output/BioPython/Temp').mkdir(parents=True, exist_ok=True)"
   ]
  },
  {
   "cell_type": "code",
   "execution_count": 36,
   "id": "saving-usage",
   "metadata": {
    "execution": {
     "iopub.execute_input": "2021-05-02T13:11:26.378286Z",
     "iopub.status.busy": "2021-05-02T13:11:26.377707Z",
     "iopub.status.idle": "2021-05-02T13:11:26.385128Z",
     "shell.execute_reply": "2021-05-02T13:11:26.384360Z",
     "shell.execute_reply.started": "2021-05-02T13:11:26.378250Z"
    },
    "tags": []
   },
   "outputs": [],
   "source": [
    "# Converting to RNA for calculating secondary structure \n",
    "sesRNAs_RNA = []\n",
    "for i in range(len(rC_multiExon_sesRNAs)):\n",
    "    sesRNAs_RNA.append(rC_multiExon_sesRNAs[i].transcribe())"
   ]
  },
  {
   "cell_type": "code",
   "execution_count": 37,
   "id": "associate-trainer",
   "metadata": {
    "execution": {
     "iopub.execute_input": "2021-05-02T13:11:26.981691Z",
     "iopub.status.busy": "2021-05-02T13:11:26.981114Z",
     "iopub.status.idle": "2021-05-02T13:11:26.991391Z",
     "shell.execute_reply": "2021-05-02T13:11:26.990424Z",
     "shell.execute_reply.started": "2021-05-02T13:11:26.981655Z"
    },
    "tags": []
   },
   "outputs": [
    {
     "data": {
      "text/plain": [
       "[Seq('GGGAUAGGAAGCUGGGUGGGGGAACUUGUCCGCAGUCAGGCUGGCCAGUUUGGC...GUU'),\n",
       " Seq('AUAGGAAGCUGGGUGGGGGAACUUGUCCGCAGUCAGGCUGGCCAGUUUGGCAUU...GAU'),\n",
       " Seq('GGAAGCUGGGUGGGGGAACUUGUCCGCAGUCAGGCUGGCCAGUUUGGCAUUCUC...GAC'),\n",
       " Seq('AGCUGGGUGGGGGAACUUGUCCGCAGUCAGGCUGGCCAGUUUGGCAUUCUCCAG...CUG'),\n",
       " Seq('UGGGUGGGGGAACUUGUCCGCAGUCAGGCUGGCCAGUUUGGCAUUCUCCAGCAG...CGG'),\n",
       " Seq('GUGGGGGAACUUGUCCGCAGUCAGGCUGGCCAGUUUGGCAUUCUCCAGCAGAAA...CUU'),\n",
       " Seq('GGGGAACUUGUCCGCAGUCAGGCUGGCCAGUUUGGCAUUCUCCAGCAGAAAAAG...GAU'),\n",
       " Seq('CGCAGUCAGGCUGGCCAGUUUGGCAUUCUCCAGCAGAAAAAGCUUGGGGUGAGC...GGC'),\n",
       " Seq('AGUCAGGCUGGCCAGUUUGGCAUUCUCCAGCAGAAAAAGCUUGGGGUGAGCAGC...GGG'),\n",
       " Seq('CAGGCUGGCCAGUUUGGCAUUCUCCAGCAGAAAAAGCUUGGGGUGAGCAGCCAG...CAG'),\n",
       " Seq('GCUGGCCAGUUUGGCAUUCUCCAGCAGAAAAAGCUUGGGGUGAGCAGCCAGGGA...CGC'),\n",
       " Seq('GGCCAGUUUGGCAUUCUCCAGCAGAAAAAGCUUGGGGUGAGCAGCCAGGGAAGU...AGA'),\n",
       " Seq('CAGUUUGGCAUUCUCCAGCAGAAAAAGCUUGGGGUGAGCAGCCAGGGAAGUGGG...AGG'),\n",
       " Seq('UUUGGCAUUCUCCAGCAGAAAAAGCUUGGGGUGAGCAGCCAGGGAAGUGGGGGC...CGC'),\n",
       " Seq('GGCAUUCUCCAGCAGAAAAAGCUUGGGGUGAGCAGCCAGGGAAGUGGGGGCCUG...AAG')]"
      ]
     },
     "execution_count": 37,
     "metadata": {},
     "output_type": "execute_result"
    }
   ],
   "source": [
    "sesRNAs_RNA"
   ]
  },
  {
   "cell_type": "code",
   "execution_count": 38,
   "id": "clear-israeli",
   "metadata": {
    "execution": {
     "iopub.execute_input": "2021-05-02T13:11:27.597381Z",
     "iopub.status.busy": "2021-05-02T13:11:27.596849Z",
     "iopub.status.idle": "2021-05-02T13:11:27.603317Z",
     "shell.execute_reply": "2021-05-02T13:11:27.602588Z",
     "shell.execute_reply.started": "2021-05-02T13:11:27.597353Z"
    }
   },
   "outputs": [
    {
     "data": {
      "text/plain": [
       "'GGGAUAGGAAGCUGGGUGGGGGAACUUGUCCGCAGUCAGGCUGGCCAGUUUGGCAUUCUCCAGCAGAAAAAGCUUGGGGUGAGCAGCCAGGGAAGUGGGGGCCUGUGCGUUGAGGAGGCCAGAUGGGAAAAGGUGGCCUCCGAGGAGCUCCGAUGGUGGGUAAGUGGUGGAGUCCAGGUAGUUGAAGUAGUAGAGAGAGCCGCUGGCCGGCAGCCCCACAGCCUGGUU'"
      ]
     },
     "execution_count": 38,
     "metadata": {},
     "output_type": "execute_result"
    }
   ],
   "source": [
    "str(sesRNAs_RNA[0])"
   ]
  },
  {
   "cell_type": "code",
   "execution_count": 39,
   "id": "saving-boxing",
   "metadata": {
    "execution": {
     "iopub.execute_input": "2021-05-02T13:11:28.110353Z",
     "iopub.status.busy": "2021-05-02T13:11:28.109775Z",
     "iopub.status.idle": "2021-05-02T13:11:28.125269Z",
     "shell.execute_reply": "2021-05-02T13:11:28.124487Z",
     "shell.execute_reply.started": "2021-05-02T13:11:28.110312Z"
    },
    "tags": []
   },
   "outputs": [
    {
     "data": {
      "text/plain": [
       "0"
      ]
     },
     "execution_count": 39,
     "metadata": {},
     "output_type": "execute_result"
    }
   ],
   "source": [
    "# Just making sure to clear Temp folder before starting \n",
    "os.system('rm -rf Output/BioPython/Temp/*')"
   ]
  },
  {
   "cell_type": "code",
   "execution_count": 40,
   "id": "bearing-measure",
   "metadata": {
    "execution": {
     "iopub.execute_input": "2021-05-02T13:11:30.227068Z",
     "iopub.status.busy": "2021-05-02T13:11:30.226569Z",
     "iopub.status.idle": "2021-05-02T13:11:30.233558Z",
     "shell.execute_reply": "2021-05-02T13:11:30.232842Z",
     "shell.execute_reply.started": "2021-05-02T13:11:30.227031Z"
    },
    "tags": []
   },
   "outputs": [],
   "source": [
    "# Writing sequences as seperate fasta files \n",
    "i = 1\n",
    "for sesRNA in sesRNAs_RNA:\n",
    "    outputName = geneName + '_' + str(i)\n",
    "    outputDescription = \"sesRNA #\" + str(i)\n",
    "    i += 1\n",
    "    \n",
    "    outputRecord = SeqRecord(sesRNA, id = outputName, description = outputDescription)\n",
    "    outputFull = 'Output/BioPython/Temp/' + outputName + '.fasta'\n",
    "    \n",
    "    with open(outputFull, \"w\") as output_handle:\n",
    "        SeqIO.write(outputRecord, output_handle, \"fasta\")"
   ]
  },
  {
   "cell_type": "code",
   "execution_count": null,
   "id": "still-canal",
   "metadata": {
    "tags": []
   },
   "outputs": [],
   "source": []
  },
  {
   "cell_type": "code",
   "execution_count": 41,
   "id": "mental-liquid",
   "metadata": {
    "execution": {
     "iopub.execute_input": "2021-05-02T13:11:30.864540Z",
     "iopub.status.busy": "2021-05-02T13:11:30.864040Z",
     "iopub.status.idle": "2021-05-02T13:11:30.873144Z",
     "shell.execute_reply": "2021-05-02T13:11:30.872421Z",
     "shell.execute_reply.started": "2021-05-02T13:11:30.864508Z"
    }
   },
   "outputs": [
    {
     "data": {
      "text/plain": [
       "15"
      ]
     },
     "execution_count": 41,
     "metadata": {},
     "output_type": "execute_result"
    }
   ],
   "source": [
    "len(rC_multiExon_sesRNAs)"
   ]
  },
  {
   "cell_type": "code",
   "execution_count": 42,
   "id": "wrapped-visitor",
   "metadata": {
    "execution": {
     "iopub.execute_input": "2021-05-02T13:11:32.852841Z",
     "iopub.status.busy": "2021-05-02T13:11:32.852483Z",
     "iopub.status.idle": "2021-05-02T13:11:32.858485Z",
     "shell.execute_reply": "2021-05-02T13:11:32.857755Z",
     "shell.execute_reply.started": "2021-05-02T13:11:32.852808Z"
    },
    "tags": []
   },
   "outputs": [
    {
     "data": {
      "text/plain": [
       "array([[0.00e+000, 1.83e-322],\n",
       "       [2.32e-322, 2.37e-322]])"
      ]
     },
     "execution_count": 42,
     "metadata": {},
     "output_type": "execute_result"
    }
   ],
   "source": [
    "np.empty([2, 2])"
   ]
  },
  {
   "cell_type": "code",
   "execution_count": 43,
   "id": "intimate-throw",
   "metadata": {
    "execution": {
     "iopub.execute_input": "2021-05-02T13:11:34.843272Z",
     "iopub.status.busy": "2021-05-02T13:11:34.842749Z",
     "iopub.status.idle": "2021-05-02T13:11:35.228176Z",
     "shell.execute_reply": "2021-05-02T13:11:35.226807Z",
     "shell.execute_reply.started": "2021-05-02T13:11:34.843239Z"
    },
    "tags": []
   },
   "outputs": [
    {
     "ename": "AttributeError",
     "evalue": "'numpy.ndarray' object has no attribute 'append'",
     "output_type": "error",
     "traceback": [
      "\u001b[0;31m---------------------------------------------------------------------------\u001b[0m",
      "\u001b[0;31mAttributeError\u001b[0m                            Traceback (most recent call last)",
      "\u001b[0;32m<ipython-input-43-a860929eaff0>\u001b[0m in \u001b[0;36m<module>\u001b[0;34m\u001b[0m\n\u001b[1;32m     18\u001b[0m     \u001b[0;31m# Waiting for last command to finish before storing value in temp.out file\u001b[0m\u001b[0;34m\u001b[0m\u001b[0;34m\u001b[0m\u001b[0;34m\u001b[0m\u001b[0m\n\u001b[1;32m     19\u001b[0m     \u001b[0mreadProb\u001b[0m\u001b[0;34m.\u001b[0m\u001b[0mwait\u001b[0m\u001b[0;34m(\u001b[0m\u001b[0;34m)\u001b[0m\u001b[0;34m\u001b[0m\u001b[0;34m\u001b[0m\u001b[0m\n\u001b[0;32m---> 20\u001b[0;31m     \u001b[0mrnaFold_prob\u001b[0m\u001b[0;34m.\u001b[0m\u001b[0mappend\u001b[0m\u001b[0;34m(\u001b[0m\u001b[0mfloat\u001b[0m\u001b[0;34m(\u001b[0m\u001b[0mreturnedProb\u001b[0m\u001b[0;34m)\u001b[0m\u001b[0;34m)\u001b[0m\u001b[0;34m\u001b[0m\u001b[0;34m\u001b[0m\u001b[0m\n\u001b[0m\u001b[1;32m     21\u001b[0m \u001b[0;34m\u001b[0m\u001b[0m\n\u001b[1;32m     22\u001b[0m     \u001b[0;31m# For checking which file currently working on (not in order for some reason)\u001b[0m\u001b[0;34m\u001b[0m\u001b[0;34m\u001b[0m\u001b[0;34m\u001b[0m\u001b[0m\n",
      "\u001b[0;31mAttributeError\u001b[0m: 'numpy.ndarray' object has no attribute 'append'"
     ]
    }
   ],
   "source": [
    "# Call RNAfold on each sequence of output \n",
    "rnaFold_prob = np.empty([len(rC_multiExon_sesRNAs), 0])\n",
    "pathTemp = '/home/user1/Dropbox/Research/Neurobiology_PhD/Rotations/Huang/Projects/CellReadR/Code/Output/BioPython/Temp'\n",
    "pathOutTemp = pathTemp + '/temp.out'\n",
    "\n",
    "# sorting files in output of scandir \n",
    "for entry in sorted(os.scandir(pathTemp), key=lambda e: e.name):\n",
    "    command = 'RNAfold -p -d2 --noLP < ' + entry.path + ' > ' + pathOutTemp    \n",
    "    generateProb = subprocess.run(command, shell=True, stdout=subprocess.PIPE)\n",
    "\n",
    "    # Moving to Temp directory to work on fasta files \n",
    "    currentWD = os.getcwd()\n",
    "    os.chdir('Output/BioPython/Temp')\n",
    "    \n",
    "    # Running script for getting probabilities from RNAfold output file (added to ArchBin btw)\n",
    "    readProb = subprocess.Popen(\"rnaFold_prob.sh\", shell=True, stdout=subprocess.PIPE)\n",
    "    returnedProb = readProb.stdout.read()\n",
    "    # Waiting for last command to finish before storing value in temp.out file \n",
    "    readProb.wait()\n",
    "    rnaFold_prob.append(float(returnedProb))\n",
    "    \n",
    "    # For checking which file currently working on (not in order for some reason) \n",
    "    print(entry.path)\n",
    "    \n",
    "    # Removing temp.out after finishing each run \n",
    "    os.system('rm -rf temp.out')\n",
    "    # Return to initial working directory \n",
    "    os.chdir(currentWD)"
   ]
  },
  {
   "cell_type": "code",
   "execution_count": null,
   "id": "irish-cambridge",
   "metadata": {
    "tags": []
   },
   "outputs": [],
   "source": [
    "# Displaying ensemble frequency for secondary structures \n",
    "array_rnaFold_prob = np.array(rnaFold_prob)*100\n",
    "array_rnaFold_prob"
   ]
  },
  {
   "cell_type": "code",
   "execution_count": null,
   "id": "welsh-battery",
   "metadata": {},
   "outputs": [],
   "source": [
    "array_rnaFold_prob[1:11]"
   ]
  },
  {
   "cell_type": "code",
   "execution_count": null,
   "id": "damaged-pressure",
   "metadata": {},
   "outputs": [],
   "source": [
    "rC_multi_startSeq"
   ]
  },
  {
   "cell_type": "code",
   "execution_count": null,
   "id": "charged-congress",
   "metadata": {
    "tags": []
   },
   "outputs": [],
   "source": [
    "rC_multiExon_sesRNAs"
   ]
  },
  {
   "cell_type": "code",
   "execution_count": null,
   "id": "elementary-jersey",
   "metadata": {
    "tags": []
   },
   "outputs": [],
   "source": [
    "str(rC_multiExon_sesRNAs[8])"
   ]
  },
  {
   "cell_type": "code",
   "execution_count": null,
   "id": "mediterranean-savage",
   "metadata": {
    "tags": []
   },
   "outputs": [],
   "source": [
    "str(rC_multiExon_sesRNAs[18])"
   ]
  },
  {
   "cell_type": "code",
   "execution_count": null,
   "id": "interracial-bottom",
   "metadata": {},
   "outputs": [],
   "source": []
  },
  {
   "cell_type": "code",
   "execution_count": null,
   "id": "solar-patrick",
   "metadata": {},
   "outputs": [],
   "source": [
    "from seqfold import dg, dg_cache, fold"
   ]
  },
  {
   "cell_type": "code",
   "execution_count": null,
   "id": "acknowledged-director",
   "metadata": {
    "tags": []
   },
   "outputs": [],
   "source": [
    "# just returns minimum free energy\n",
    "dg(\"GGGAGGTCGTTACATCTGGGTAACACCGGTACTGATCCGGTGACCTCCC\", temp = 37.0)  # -12.94"
   ]
  },
  {
   "cell_type": "code",
   "execution_count": null,
   "id": "9d425009-33b2-446f-9faf-7895b89e4951",
   "metadata": {},
   "outputs": [],
   "source": []
  },
  {
   "cell_type": "code",
   "execution_count": null,
   "id": "3f0c25cd-144f-44f8-8237-3a30feca85c9",
   "metadata": {},
   "outputs": [],
   "source": []
  },
  {
   "cell_type": "markdown",
   "id": "2448a30b-85ac-49df-b0a4-77266bef87c0",
   "metadata": {},
   "source": [
    "# Test Intarna (test strength of binding, off-target, ...)  "
   ]
  },
  {
   "cell_type": "code",
   "execution_count": null,
   "id": "71a7a71b-636d-4306-9293-928340bd2c84",
   "metadata": {
    "tags": []
   },
   "outputs": [],
   "source": [
    "import intarnapvalue\n",
    "import sys"
   ]
  },
  {
   "cell_type": "code",
   "execution_count": null,
   "id": "a3b8a086-570c-4ce2-b379-2d6fa514e5f1",
   "metadata": {},
   "outputs": [],
   "source": []
  },
  {
   "cell_type": "code",
   "execution_count": null,
   "id": "e4012237-0142-46c4-bf9a-88d6619c9d07",
   "metadata": {},
   "outputs": [],
   "source": []
  },
  {
   "cell_type": "code",
   "execution_count": null,
   "id": "2d965c68-7f64-4f5b-894a-9194e0767a16",
   "metadata": {},
   "outputs": [],
   "source": []
  },
  {
   "cell_type": "code",
   "execution_count": null,
   "id": "6f66470e-8de1-4e89-b4ca-0183f7a4bc5a",
   "metadata": {},
   "outputs": [],
   "source": []
  },
  {
   "cell_type": "code",
   "execution_count": null,
   "id": "2a5b397c-e523-4551-9e1e-b8e10df7e6de",
   "metadata": {},
   "outputs": [],
   "source": []
  },
  {
   "cell_type": "code",
   "execution_count": null,
   "id": "015609d6-742c-40d2-821b-1a5049e2550c",
   "metadata": {},
   "outputs": [],
   "source": []
  },
  {
   "cell_type": "markdown",
   "id": "approved-notion",
   "metadata": {},
   "source": [
    "# Misc"
   ]
  },
  {
   "cell_type": "code",
   "execution_count": null,
   "id": "italian-front",
   "metadata": {
    "tags": []
   },
   "outputs": [],
   "source": [
    "# For returning index of findings \n",
    "searchCodon = 'TAG'\n",
    "[m.start() for m in re.finditer(searchCodon, str(seq))]"
   ]
  },
  {
   "cell_type": "code",
   "execution_count": null,
   "id": "elder-buddy",
   "metadata": {
    "tags": []
   },
   "outputs": [],
   "source": [
    "testSeq = sesRNAs[0]\n",
    "testSeq"
   ]
  },
  {
   "cell_type": "code",
   "execution_count": null,
   "id": "powered-action",
   "metadata": {
    "tags": []
   },
   "outputs": [],
   "source": [
    "lastATG = [m.start() for m in re.finditer('ATG', str(testSeq))][-1]\n",
    "lastTGG = [m.start() for m in re.finditer('TGG', str(testSeq))][-1]"
   ]
  },
  {
   "cell_type": "code",
   "execution_count": null,
   "id": "wooden-standard",
   "metadata": {
    "tags": []
   },
   "outputs": [],
   "source": [
    "lastTGG"
   ]
  },
  {
   "cell_type": "code",
   "execution_count": null,
   "id": "proud-insured",
   "metadata": {
    "tags": []
   },
   "outputs": [],
   "source": [
    "lastATG"
   ]
  },
  {
   "cell_type": "code",
   "execution_count": null,
   "id": "alive-japan",
   "metadata": {},
   "outputs": [],
   "source": [
    "lastATG < lastTGG"
   ]
  },
  {
   "cell_type": "code",
   "execution_count": null,
   "id": "gentle-spelling",
   "metadata": {
    "tags": []
   },
   "outputs": [],
   "source": [
    "searchCodon = 'ATG'\n",
    "[m.start() for m in re.finditer(searchCodon, str(testSeq))][-1]"
   ]
  },
  {
   "cell_type": "code",
   "execution_count": null,
   "id": "otherwise-series",
   "metadata": {
    "tags": []
   },
   "outputs": [],
   "source": [
    "seq.count('TAG') < 4"
   ]
  },
  {
   "cell_type": "code",
   "execution_count": null,
   "id": "suspected-hollywood",
   "metadata": {
    "tags": []
   },
   "outputs": [],
   "source": [
    "seq[0:100].count('TAG')"
   ]
  },
  {
   "cell_type": "code",
   "execution_count": null,
   "id": "manufactured-luxembourg",
   "metadata": {},
   "outputs": [],
   "source": []
  },
  {
   "cell_type": "code",
   "execution_count": null,
   "id": "cubic-orientation",
   "metadata": {},
   "outputs": [],
   "source": [
    "stopCodons = ['TAG', 'TAA', 'TGA']\n",
    "stopCodons "
   ]
  },
  {
   "cell_type": "code",
   "execution_count": null,
   "id": "about-theater",
   "metadata": {},
   "outputs": [],
   "source": [
    "indiciesTGG"
   ]
  },
  {
   "cell_type": "code",
   "execution_count": null,
   "id": "aquatic-ancient",
   "metadata": {
    "tags": []
   },
   "outputs": [],
   "source": [
    "indiciesStop"
   ]
  },
  {
   "cell_type": "code",
   "execution_count": null,
   "id": "through-combat",
   "metadata": {
    "tags": []
   },
   "outputs": [],
   "source": [
    "length = 200 \n",
    "center = length/2"
   ]
  },
  {
   "cell_type": "code",
   "execution_count": null,
   "id": "authorized-piece",
   "metadata": {
    "tags": []
   },
   "outputs": [],
   "source": [
    "arrayStop = np.array(indiciesStop)\n",
    "arrayIndicies = np.array(indiciesTGG) \n",
    "centralTGGs = arrayIndicies[abs(arrayIndicies - center) < 10]"
   ]
  },
  {
   "cell_type": "code",
   "execution_count": null,
   "id": "verbal-alabama",
   "metadata": {
    "tags": []
   },
   "outputs": [],
   "source": [
    "centralTGGs"
   ]
  },
  {
   "cell_type": "code",
   "execution_count": null,
   "id": "devoted-superior",
   "metadata": {
    "tags": []
   },
   "outputs": [],
   "source": [
    "np.in1d(centralTGGs,arrayStop)"
   ]
  },
  {
   "cell_type": "code",
   "execution_count": null,
   "id": "soviet-methodology",
   "metadata": {
    "tags": []
   },
   "outputs": [],
   "source": [
    "# Check if array contains values that are within range of values in another array \n",
    "any((min(abs(arrayStop - i)) > 10) for i in centralTGGs)"
   ]
  },
  {
   "cell_type": "code",
   "execution_count": null,
   "id": "pregnant-backing",
   "metadata": {},
   "outputs": [],
   "source": [
    "centralTGGs"
   ]
  },
  {
   "cell_type": "code",
   "execution_count": null,
   "id": "recreational-reward",
   "metadata": {
    "tags": []
   },
   "outputs": [],
   "source": [
    "indiciesStop"
   ]
  },
  {
   "cell_type": "code",
   "execution_count": null,
   "id": "equivalent-puppy",
   "metadata": {},
   "outputs": [],
   "source": [
    "testStop = [90, 16, 174]"
   ]
  },
  {
   "cell_type": "code",
   "execution_count": null,
   "id": "suspected-rates",
   "metadata": {},
   "outputs": [],
   "source": []
  },
  {
   "cell_type": "code",
   "execution_count": null,
   "id": "interested-cameroon",
   "metadata": {},
   "outputs": [],
   "source": []
  },
  {
   "cell_type": "code",
   "execution_count": null,
   "id": "progressive-producer",
   "metadata": {
    "tags": []
   },
   "outputs": [],
   "source": [
    "(min(abs(arrayStop - centralTGGs[0])) > 10)"
   ]
  },
  {
   "cell_type": "code",
   "execution_count": null,
   "id": "frank-hepatitis",
   "metadata": {
    "tags": []
   },
   "outputs": [],
   "source": [
    "min(abs(arrayStop - centralTGGs[0])) > 10"
   ]
  },
  {
   "cell_type": "code",
   "execution_count": null,
   "id": "muslim-version",
   "metadata": {},
   "outputs": [],
   "source": []
  },
  {
   "cell_type": "code",
   "execution_count": null,
   "id": "complicated-southeast",
   "metadata": {
    "tags": []
   },
   "outputs": [],
   "source": [
    "centeralTGGs = offset.min()\n",
    "centeralTGGs"
   ]
  },
  {
   "cell_type": "code",
   "execution_count": null,
   "id": "fantastic-intellectual",
   "metadata": {},
   "outputs": [],
   "source": [
    "centralTGGs = np.all(offset == offset.min())\n",
    "centralTGGs"
   ]
  },
  {
   "cell_type": "code",
   "execution_count": null,
   "id": "advisory-survey",
   "metadata": {
    "tags": []
   },
   "outputs": [],
   "source": [
    "centeralTGGs = np.where(offset == offset.min())\n",
    "centeralTGG"
   ]
  },
  {
   "cell_type": "code",
   "execution_count": null,
   "id": "mounted-appraisal",
   "metadata": {
    "tags": []
   },
   "outputs": [],
   "source": [
    "offset = abs(arrayIndicies - center) \n",
    "centerTGG = indiciesTGG[np.argmin(offset)]"
   ]
  },
  {
   "cell_type": "code",
   "execution_count": null,
   "id": "hazardous-office",
   "metadata": {
    "tags": []
   },
   "outputs": [],
   "source": [
    "any(abs(x - centerTGG) < 10 for x in indiciesStop)"
   ]
  },
  {
   "cell_type": "code",
   "execution_count": null,
   "id": "narrative-midnight",
   "metadata": {},
   "outputs": [],
   "source": []
  },
  {
   "cell_type": "code",
   "execution_count": null,
   "id": "political-positive",
   "metadata": {
    "tags": []
   },
   "outputs": [],
   "source": [
    "indiciesStop = []\n",
    "for codons in stopCodons:\n",
    "    indiciesStop.extend([m.start() for m in re.finditer(codons, str(testSeq))])"
   ]
  },
  {
   "cell_type": "code",
   "execution_count": null,
   "id": "intended-rotation",
   "metadata": {
    "tags": []
   },
   "outputs": [],
   "source": [
    "len(indiciesStop)"
   ]
  },
  {
   "cell_type": "code",
   "execution_count": null,
   "id": "computational-incidence",
   "metadata": {
    "tags": []
   },
   "outputs": [],
   "source": [
    "[m.start() for m in re.finditer('TGA', str(testSeq))]"
   ]
  },
  {
   "cell_type": "code",
   "execution_count": null,
   "id": "adjustable-appointment",
   "metadata": {
    "tags": []
   },
   "outputs": [],
   "source": [
    "[m.start() for m in re.finditer('TAA', str(testSeq))]"
   ]
  },
  {
   "cell_type": "code",
   "execution_count": null,
   "id": "nervous-retention",
   "metadata": {},
   "outputs": [],
   "source": [
    "[m.start() for m in re.finditer('TAG', str(testSeq))]"
   ]
  },
  {
   "cell_type": "code",
   "execution_count": null,
   "id": "circular-letter",
   "metadata": {
    "tags": []
   },
   "outputs": [],
   "source": [
    "testSeq.count(stopCodons)"
   ]
  },
  {
   "cell_type": "code",
   "execution_count": null,
   "id": "standing-gregory",
   "metadata": {},
   "outputs": [],
   "source": [
    "indiciesTGG"
   ]
  },
  {
   "cell_type": "code",
   "execution_count": null,
   "id": "forbidden-money",
   "metadata": {
    "tags": []
   },
   "outputs": [],
   "source": [
    "len(indiciesTGG)"
   ]
  },
  {
   "cell_type": "code",
   "execution_count": null,
   "id": "equal-shame",
   "metadata": {},
   "outputs": [],
   "source": []
  },
  {
   "cell_type": "code",
   "execution_count": null,
   "id": "hydraulic-security",
   "metadata": {},
   "outputs": [],
   "source": []
  },
  {
   "cell_type": "code",
   "execution_count": null,
   "id": "sorted-sleep",
   "metadata": {
    "tags": []
   },
   "outputs": [],
   "source": [
    "testSeq = sesRNAs[0]"
   ]
  },
  {
   "cell_type": "code",
   "execution_count": null,
   "id": "continuous-comparative",
   "metadata": {
    "tags": []
   },
   "outputs": [],
   "source": [
    "lastTGG = [m.start() for m in re.finditer('TGG', str(testSeq))][-1]"
   ]
  },
  {
   "cell_type": "code",
   "execution_count": null,
   "id": "challenging-hopkins",
   "metadata": {},
   "outputs": [],
   "source": [
    "testSeq"
   ]
  },
  {
   "cell_type": "code",
   "execution_count": null,
   "id": "completed-grenada",
   "metadata": {
    "tags": []
   },
   "outputs": [],
   "source": [
    "indiciesTGG = [m.start() for m in re.finditer('TGG', str(testSeq))]"
   ]
  },
  {
   "cell_type": "code",
   "execution_count": null,
   "id": "adjusted-trustee",
   "metadata": {
    "tags": []
   },
   "outputs": [],
   "source": [
    "start = 0 \n",
    "stop = 200"
   ]
  },
  {
   "cell_type": "code",
   "execution_count": null,
   "id": "capable-complement",
   "metadata": {
    "tags": []
   },
   "outputs": [],
   "source": [
    "middle = (start + stop) / 2"
   ]
  },
  {
   "cell_type": "code",
   "execution_count": null,
   "id": "olympic-present",
   "metadata": {
    "tags": []
   },
   "outputs": [],
   "source": [
    "abs(middle - indiciesTGG[0])"
   ]
  },
  {
   "cell_type": "code",
   "execution_count": null,
   "id": "champion-eleven",
   "metadata": {},
   "outputs": [],
   "source": [
    "type(indiciesTGG)"
   ]
  },
  {
   "cell_type": "code",
   "execution_count": null,
   "id": "spectacular-touch",
   "metadata": {},
   "outputs": [],
   "source": [
    "indiciesTGG"
   ]
  },
  {
   "cell_type": "code",
   "execution_count": null,
   "id": "cooked-music",
   "metadata": {},
   "outputs": [],
   "source": [
    "any(indiciesTGG) > 2"
   ]
  },
  {
   "cell_type": "code",
   "execution_count": null,
   "id": "appropriate-ministry",
   "metadata": {},
   "outputs": [],
   "source": [
    "length = 200 "
   ]
  },
  {
   "cell_type": "code",
   "execution_count": null,
   "id": "ruled-times",
   "metadata": {
    "tags": []
   },
   "outputs": [],
   "source": [
    "any(abs(x - (length/2)) < 20 for x in indiciesTGG)"
   ]
  },
  {
   "cell_type": "code",
   "execution_count": null,
   "id": "developing-origin",
   "metadata": {
    "tags": []
   },
   "outputs": [],
   "source": [
    "testList = [50, 60, 170, 200]"
   ]
  },
  {
   "cell_type": "code",
   "execution_count": null,
   "id": "accomplished-recording",
   "metadata": {
    "tags": []
   },
   "outputs": [],
   "source": [
    "any(abs(x - (length/2)) < 10 for x in testList)"
   ]
  },
  {
   "cell_type": "code",
   "execution_count": null,
   "id": "killing-fetish",
   "metadata": {},
   "outputs": [],
   "source": []
  },
  {
   "cell_type": "code",
   "execution_count": null,
   "id": "concrete-mississippi",
   "metadata": {},
   "outputs": [],
   "source": [
    "testSeq"
   ]
  },
  {
   "cell_type": "code",
   "execution_count": null,
   "id": "comfortable-green",
   "metadata": {
    "tags": []
   },
   "outputs": [],
   "source": [
    "os.path.isdir('Output/BioPython')"
   ]
  },
  {
   "cell_type": "code",
   "execution_count": null,
   "id": "selective-quality",
   "metadata": {
    "tags": []
   },
   "outputs": [],
   "source": []
  },
  {
   "cell_type": "code",
   "execution_count": null,
   "id": "fewer-strain",
   "metadata": {},
   "outputs": [],
   "source": [
    "outputFileName = os.getcwd() + ''"
   ]
  },
  {
   "cell_type": "code",
   "execution_count": null,
   "id": "facial-sodium",
   "metadata": {},
   "outputs": [],
   "source": [
    "testSeq"
   ]
  },
  {
   "cell_type": "code",
   "execution_count": null,
   "id": "violent-toolbox",
   "metadata": {},
   "outputs": [],
   "source": []
  },
  {
   "cell_type": "code",
   "execution_count": null,
   "id": "parallel-omaha",
   "metadata": {},
   "outputs": [],
   "source": []
  }
 ],
 "metadata": {
  "kernelspec": {
   "display_name": "huang_CellReadR",
   "language": "python",
   "name": "huang_cellreadr"
  },
  "language_info": {
   "codemirror_mode": {
    "name": "ipython",
    "version": 3
   },
   "file_extension": ".py",
   "mimetype": "text/x-python",
   "name": "python",
   "nbconvert_exporter": "python",
   "pygments_lexer": "ipython3",
   "version": "3.9.1"
  }
 },
 "nbformat": 4,
 "nbformat_minor": 5
}
