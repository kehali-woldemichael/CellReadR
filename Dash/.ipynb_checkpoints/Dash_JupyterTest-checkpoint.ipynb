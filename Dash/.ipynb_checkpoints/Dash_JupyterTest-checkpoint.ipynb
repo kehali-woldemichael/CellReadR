{
 "cells": [
  {
   "cell_type": "code",
   "execution_count": null,
   "id": "f36173f8-fcc4-4f3a-a785-3f307743e2ad",
   "metadata": {
    "tags": []
   },
   "outputs": [],
   "source": [
    "import jupyterlab_dash"
   ]
  },
  {
   "cell_type": "code",
   "execution_count": null,
   "id": "d43f5769-5156-4b91-8c0b-f26c51298deb",
   "metadata": {},
   "outputs": [],
   "source": [
    "import dash\n",
    "#from dash import Dash\n",
    "import dash_core_components as dcc\n",
    "import dash_html_components as html\n",
    "from dash.dependencies import Input, Output, State"
   ]
  },
  {
   "cell_type": "code",
   "execution_count": null,
   "id": "fe321e90-d9e3-4ab2-acb2-958506c7459d",
   "metadata": {
    "tags": []
   },
   "outputs": [],
   "source": [
    "import sys\n",
    "# Adding directory to python interpreter search path \n",
    "sys.path.append('/home/user1/Dropbox/Research/Neurobiology_PhD/Rotations/Huang/Projects/CellReadR/Code/')\n",
    "# Importing personal functios \n",
    "from kCellReadR import *"
   ]
  },
  {
   "cell_type": "code",
   "execution_count": null,
   "id": "3547bf12-99e3-4fe8-84be-6311f83484ab",
   "metadata": {},
   "outputs": [],
   "source": []
  },
  {
   "cell_type": "code",
   "execution_count": null,
   "id": "e5a6afba-c44b-4c78-b078-7c26b9423661",
   "metadata": {},
   "outputs": [],
   "source": []
  },
  {
   "cell_type": "code",
   "execution_count": null,
   "id": "45c813aa-210d-45e6-9d16-9380caa72bee",
   "metadata": {
    "tags": []
   },
   "outputs": [],
   "source": [
    "viewer = jupyterlab_dash.AppViewer()\n",
    "\n",
    "app = dash.Dash(__name__)\n",
    "\n",
    "app.layout = html.Div('Test 2')\n",
    "\n",
    "viewer.show(app)"
   ]
  },
  {
   "cell_type": "code",
   "execution_count": null,
   "id": "a3b8c3e5-dff1-4a88-ab01-756ae448fb5f",
   "metadata": {
    "tags": []
   },
   "outputs": [],
   "source": [
    "app.run_server()"
   ]
  },
  {
   "cell_type": "code",
   "execution_count": null,
   "id": "b76966b4-df8f-4d1b-af9a-6aeafde5afa6",
   "metadata": {},
   "outputs": [],
   "source": []
  },
  {
   "cell_type": "code",
   "execution_count": null,
   "id": "06626298-a875-425c-b460-188d1c7fdf59",
   "metadata": {},
   "outputs": [],
   "source": []
  }
 ],
 "metadata": {
  "kernelspec": {
   "display_name": "huang_CellReadR",
   "language": "python",
   "name": "huang_cellreadr"
  },
  "language_info": {
   "codemirror_mode": {
    "name": "ipython",
    "version": 3
   },
   "file_extension": ".py",
   "mimetype": "text/x-python",
   "name": "python",
   "nbconvert_exporter": "python",
   "pygments_lexer": "ipython3",
   "version": "3.9.1"
  }
 },
 "nbformat": 4,
 "nbformat_minor": 5
}
