{
 "cells": [
  {
   "cell_type": "code",
   "execution_count": 1,
   "id": "e2911613-2253-4ccc-aaec-17dfc66a8091",
   "metadata": {
    "execution": {
     "iopub.execute_input": "2021-05-24T19:00:51.291071Z",
     "iopub.status.busy": "2021-05-24T19:00:51.290698Z",
     "iopub.status.idle": "2021-05-24T19:00:51.737574Z",
     "shell.execute_reply": "2021-05-24T19:00:51.736986Z",
     "shell.execute_reply.started": "2021-05-24T19:00:51.291003Z"
    },
    "tags": []
   },
   "outputs": [],
   "source": [
    "import sys\n",
    "# Importing module of personal functions \n",
    "sys.path.append('/home/user1/Dropbox/Research/Neurobiology_PhD/Rotations/Huang/Projects/CellReadR/Code')\n",
    "from kCellReadR import * "
   ]
  },
  {
   "cell_type": "code",
   "execution_count": 2,
   "id": "168178f7-8995-41ba-8096-f35f52d68664",
   "metadata": {
    "execution": {
     "iopub.execute_input": "2021-05-24T19:00:51.738470Z",
     "iopub.status.busy": "2021-05-24T19:00:51.738313Z",
     "iopub.status.idle": "2021-05-24T19:00:51.741055Z",
     "shell.execute_reply": "2021-05-24T19:00:51.740445Z",
     "shell.execute_reply.started": "2021-05-24T19:00:51.738453Z"
    }
   },
   "outputs": [],
   "source": [
    "import mygene\n",
    "import requests, sys\n",
    "import re\n",
    "import os\n",
    "import pathlib \n",
    "import pandas as pd"
   ]
  },
  {
   "cell_type": "code",
   "execution_count": null,
   "id": "cfce8ef8-c0b9-4cc4-b14f-8fea895b9581",
   "metadata": {},
   "outputs": [],
   "source": []
  },
  {
   "cell_type": "code",
   "execution_count": 33,
   "id": "29cddffe-cd6f-4b76-95fa-894491b41677",
   "metadata": {
    "execution": {
     "iopub.execute_input": "2021-05-24T21:14:46.197516Z",
     "iopub.status.busy": "2021-05-24T21:14:46.197305Z",
     "iopub.status.idle": "2021-05-24T21:14:46.200032Z",
     "shell.execute_reply": "2021-05-24T21:14:46.199551Z",
     "shell.execute_reply.started": "2021-05-24T21:14:46.197497Z"
    },
    "tags": []
   },
   "outputs": [],
   "source": [
    "geneName = 'Tle4'\n",
    "speciesName = 'Zebra finch'"
   ]
  },
  {
   "cell_type": "code",
   "execution_count": 4,
   "id": "379bf54d-6b3e-4ac7-a51e-b76d24c1d582",
   "metadata": {
    "execution": {
     "iopub.execute_input": "2021-05-24T19:00:51.786268Z",
     "iopub.status.busy": "2021-05-24T19:00:51.786015Z",
     "iopub.status.idle": "2021-05-24T19:00:52.267585Z",
     "shell.execute_reply": "2021-05-24T19:00:52.267024Z",
     "shell.execute_reply.started": "2021-05-24T19:00:51.786248Z"
    },
    "tags": []
   },
   "outputs": [
    {
     "data": {
      "text/plain": [
       "'ENSRNOT00000012452'"
      ]
     },
     "execution_count": 4,
     "metadata": {},
     "output_type": "execute_result"
    }
   ],
   "source": [
    "ensembl_transcriptIDs = return_ensemblTranscriptIDs(speciesName, geneName)\n",
    "ensembl_transcriptIDs"
   ]
  },
  {
   "cell_type": "code",
   "execution_count": null,
   "id": "79b94e1c-7e70-46f8-b278-449179735611",
   "metadata": {},
   "outputs": [],
   "source": []
  },
  {
   "cell_type": "code",
   "execution_count": null,
   "id": "f12a2a31-c190-40de-afe8-4ca5d000f055",
   "metadata": {},
   "outputs": [],
   "source": []
  },
  {
   "cell_type": "code",
   "execution_count": null,
   "id": "42325734-6bab-40a4-a5c8-e98b1bacb088",
   "metadata": {},
   "outputs": [],
   "source": []
  },
  {
   "cell_type": "code",
   "execution_count": null,
   "id": "9eeba279-df23-4956-9e60-ae299c30cb73",
   "metadata": {},
   "outputs": [],
   "source": []
  },
  {
   "cell_type": "code",
   "execution_count": null,
   "id": "8f9060eb-3026-4641-a5d6-a49a165b97bb",
   "metadata": {},
   "outputs": [],
   "source": []
  },
  {
   "cell_type": "code",
   "execution_count": null,
   "id": "29ab5781-7ff3-4e9f-bfb7-0cc945bdd4ea",
   "metadata": {},
   "outputs": [],
   "source": []
  },
  {
   "cell_type": "code",
   "execution_count": null,
   "id": "c1a8a3a1-9522-4fa5-a0e9-c1e038e2b68f",
   "metadata": {},
   "outputs": [],
   "source": []
  },
  {
   "cell_type": "code",
   "execution_count": null,
   "id": "d5883983-41d7-4e2b-9f2f-f3ef0b22e4a6",
   "metadata": {},
   "outputs": [],
   "source": []
  },
  {
   "cell_type": "code",
   "execution_count": null,
   "id": "ce36280f-34d4-4973-bafe-7d8ee8517075",
   "metadata": {},
   "outputs": [],
   "source": []
  },
  {
   "cell_type": "code",
   "execution_count": null,
   "id": "f0fcb6e8-df12-4ba6-b90f-865de0812274",
   "metadata": {},
   "outputs": [],
   "source": []
  },
  {
   "cell_type": "code",
   "execution_count": null,
   "id": "7750afdd-d691-488f-822c-3a5b4b5c3d39",
   "metadata": {},
   "outputs": [],
   "source": []
  },
  {
   "cell_type": "code",
   "execution_count": null,
   "id": "5e90a9e0-cd90-412f-b8d9-bf0530fd501e",
   "metadata": {},
   "outputs": [],
   "source": []
  },
  {
   "cell_type": "code",
   "execution_count": 6,
   "id": "b5ef9c81-a580-4406-9cd3-c09bd30ea028",
   "metadata": {
    "execution": {
     "iopub.execute_input": "2021-05-24T19:00:52.273800Z",
     "iopub.status.busy": "2021-05-24T19:00:52.273455Z",
     "iopub.status.idle": "2021-05-24T19:00:52.287446Z",
     "shell.execute_reply": "2021-05-24T19:00:52.286695Z",
     "shell.execute_reply.started": "2021-05-24T19:00:52.273768Z"
    },
    "tags": []
   },
   "outputs": [],
   "source": [
    "species = 'Rat'\n",
    "geneName = 'Tle4'\n",
    "spliceVariant = '1'"
   ]
  },
  {
   "cell_type": "code",
   "execution_count": null,
   "id": "b04e0f6c-1436-40a2-9a24-38cdcb690c7c",
   "metadata": {
    "tags": []
   },
   "outputs": [],
   "source": [
    "df = table_transcripsInfo(ensembl_transcriptIDs)\n",
    "df"
   ]
  },
  {
   "cell_type": "code",
   "execution_count": 12,
   "id": "e7b7bd88-e846-46b4-9a28-84ddeab09a63",
   "metadata": {
    "execution": {
     "iopub.execute_input": "2021-05-24T19:36:02.388185Z",
     "iopub.status.busy": "2021-05-24T19:36:02.387981Z",
     "iopub.status.idle": "2021-05-24T19:36:02.392081Z",
     "shell.execute_reply": "2021-05-24T19:36:02.391393Z",
     "shell.execute_reply.started": "2021-05-24T19:36:02.388166Z"
    }
   },
   "outputs": [],
   "source": [
    "import json "
   ]
  },
  {
   "cell_type": "code",
   "execution_count": null,
   "id": "e7112b49-a6ee-4756-b452-7dbdf4e852d1",
   "metadata": {
    "tags": []
   },
   "outputs": [],
   "source": [
    "df_json = df.to_json(orient=\"values\")\n",
    "parsed = json.loads(df_json)\n",
    "parsed"
   ]
  },
  {
   "cell_type": "code",
   "execution_count": null,
   "id": "7fc44122-770f-42d8-841c-ac0c2abc43fb",
   "metadata": {
    "tags": []
   },
   "outputs": [],
   "source": [
    "df_json = df.to_json(orient=\"split\")\n",
    "parsed = json.loads(df_json)\n",
    "parsed"
   ]
  },
  {
   "cell_type": "code",
   "execution_count": null,
   "id": "bc96e4e2-bdb8-4b97-866b-cd8615e14083",
   "metadata": {
    "tags": []
   },
   "outputs": [],
   "source": [
    "transcriptID = ensembl_transcriptIDs[1]"
   ]
  },
  {
   "cell_type": "code",
   "execution_count": 13,
   "id": "156ae22f-ca04-4a94-b21b-885fa1483087",
   "metadata": {
    "execution": {
     "iopub.execute_input": "2021-05-24T19:36:14.739537Z",
     "iopub.status.busy": "2021-05-24T19:36:14.739197Z",
     "iopub.status.idle": "2021-05-24T19:36:14.750220Z",
     "shell.execute_reply": "2021-05-24T19:36:14.749233Z",
     "shell.execute_reply.started": "2021-05-24T19:36:14.739507Z"
    },
    "tags": []
   },
   "outputs": [
    {
     "ename": "NameError",
     "evalue": "name 'transcriptID' is not defined",
     "output_type": "error",
     "traceback": [
      "\u001b[0;31m---------------------------------------------------------------------------\u001b[0m",
      "\u001b[0;31mNameError\u001b[0m                                 Traceback (most recent call last)",
      "\u001b[0;32m<ipython-input-13-18d56aadf842>\u001b[0m in \u001b[0;36m<module>\u001b[0;34m\u001b[0m\n\u001b[1;32m      1\u001b[0m \u001b[0mserver\u001b[0m \u001b[0;34m=\u001b[0m \u001b[0;34m\"https://rest.ensembl.org\"\u001b[0m\u001b[0;34m\u001b[0m\u001b[0;34m\u001b[0m\u001b[0m\n\u001b[0;32m----> 2\u001b[0;31m \u001b[0mext\u001b[0m \u001b[0;34m=\u001b[0m \u001b[0;34m\"/lookup/id/\"\u001b[0m \u001b[0;34m+\u001b[0m \u001b[0mtranscriptID\u001b[0m \u001b[0;34m+\u001b[0m \u001b[0;34m\"?expand=1\"\u001b[0m\u001b[0;34m\u001b[0m\u001b[0;34m\u001b[0m\u001b[0m\n\u001b[0m\u001b[1;32m      3\u001b[0m \u001b[0;34m\u001b[0m\u001b[0m\n\u001b[1;32m      4\u001b[0m \u001b[0mr\u001b[0m \u001b[0;34m=\u001b[0m \u001b[0mrequests\u001b[0m\u001b[0;34m.\u001b[0m\u001b[0mget\u001b[0m\u001b[0;34m(\u001b[0m\u001b[0mserver\u001b[0m\u001b[0;34m+\u001b[0m\u001b[0mext\u001b[0m\u001b[0;34m,\u001b[0m \u001b[0mheaders\u001b[0m\u001b[0;34m=\u001b[0m\u001b[0;34m{\u001b[0m \u001b[0;34m\"Content-Type\"\u001b[0m \u001b[0;34m:\u001b[0m \u001b[0;34m\"application/json\"\u001b[0m\u001b[0;34m}\u001b[0m\u001b[0;34m)\u001b[0m\u001b[0;34m\u001b[0m\u001b[0;34m\u001b[0m\u001b[0m\n\u001b[1;32m      5\u001b[0m \u001b[0;34m\u001b[0m\u001b[0m\n",
      "\u001b[0;31mNameError\u001b[0m: name 'transcriptID' is not defined"
     ]
    }
   ],
   "source": [
    "server = \"https://rest.ensembl.org\"\n",
    "ext = \"/lookup/id/\" + transcriptID + \"?expand=1\"\n",
    "\n",
    "r = requests.get(server+ext, headers={ \"Content-Type\" : \"application/json\"})\n",
    "\n",
    "if not r.ok:\n",
    "    r.raise_for_status()\n",
    "    sys.exit()\n",
    "    \n",
    "\n",
    "r.json()"
   ]
  },
  {
   "cell_type": "code",
   "execution_count": null,
   "id": "16b9007d-5ea0-4921-ae72-6c6061ddd352",
   "metadata": {},
   "outputs": [],
   "source": []
  },
  {
   "cell_type": "code",
   "execution_count": null,
   "id": "b9cbf1e6-0b97-4b36-a4af-23432f22e5e6",
   "metadata": {},
   "outputs": [],
   "source": []
  },
  {
   "cell_type": "code",
   "execution_count": null,
   "id": "fe7e0722-d7f5-4fd1-96cb-9a52c059c316",
   "metadata": {
    "tags": []
   },
   "outputs": [],
   "source": [
    "server = \"https://rest.ensembl.org\"\n",
    "ext = \"/lookup/id/\" + transcriptID + \"?expand=1\"\n",
    "\n",
    "r = requests.get(server+ext, headers={ \"Content-Type\" : \"application/json\"})\n",
    "\n",
    "if not r.ok:\n",
    "    r.raise_for_status()\n",
    "    sys.exit()\n",
    "    \n",
    "\n",
    "r.json()"
   ]
  },
  {
   "cell_type": "code",
   "execution_count": null,
   "id": "e2054670-79cb-4d6e-9f9f-fc25ec3de6bd",
   "metadata": {},
   "outputs": [],
   "source": []
  },
  {
   "cell_type": "code",
   "execution_count": null,
   "id": "1ed0ae1f-de1f-46a8-aa9a-c17266f86f3d",
   "metadata": {},
   "outputs": [],
   "source": []
  },
  {
   "cell_type": "code",
   "execution_count": null,
   "id": "0cfd7ec0-fea1-44ad-8867-9bc084b0c5be",
   "metadata": {},
   "outputs": [],
   "source": []
  },
  {
   "cell_type": "markdown",
   "id": "078ac028-8687-4e65-ba6a-7173038ca275",
   "metadata": {},
   "source": [
    "## pyensembl "
   ]
  },
  {
   "cell_type": "code",
   "execution_count": null,
   "id": "6926c2e7-642e-4e01-b798-141b0b559ff3",
   "metadata": {
    "tags": []
   },
   "outputs": [],
   "source": [
    "from pyensembl import EnsemblRelease"
   ]
  },
  {
   "cell_type": "code",
   "execution_count": null,
   "id": "fb3db24f-f17a-4631-af13-3eebde043f69",
   "metadata": {},
   "outputs": [],
   "source": [
    "scientificSpeciesName"
   ]
  },
  {
   "cell_type": "code",
   "execution_count": null,
   "id": "f6b62abe-5fec-4bed-b74d-85681ab393c3",
   "metadata": {
    "tags": []
   },
   "outputs": [],
   "source": [
    "data = EnsemblRelease(98, species = 'taeniopygia guttata')\n",
    "data.download()"
   ]
  },
  {
   "cell_type": "code",
   "execution_count": null,
   "id": "9eba3d3c-8f9b-406e-83fe-8a6fbed336a0",
   "metadata": {
    "scrolled": true,
    "tags": []
   },
   "outputs": [],
   "source": [
    "data.index()"
   ]
  },
  {
   "cell_type": "code",
   "execution_count": null,
   "id": "28c91258-2922-4c42-bd82-f402bcbaa145",
   "metadata": {
    "tags": []
   },
   "outputs": [],
   "source": [
    "# get all exons associated with gene name \n",
    "exon_ids  = data.exon_ids_of_gene_name('Fezf2')"
   ]
  },
  {
   "cell_type": "code",
   "execution_count": null,
   "id": "2edb69e6-b34c-48be-88bb-b20b13bec0be",
   "metadata": {
    "tags": []
   },
   "outputs": [],
   "source": [
    "exon_ids"
   ]
  },
  {
   "cell_type": "code",
   "execution_count": null,
   "id": "8f8293d7-8d7c-46ba-8c3a-dcb67367527d",
   "metadata": {},
   "outputs": [],
   "source": []
  },
  {
   "cell_type": "code",
   "execution_count": null,
   "id": "a6f02791-bfee-4ebd-a42e-00d8031808e4",
   "metadata": {},
   "outputs": [],
   "source": []
  },
  {
   "cell_type": "code",
   "execution_count": null,
   "id": "6e602869-cce6-48ec-a6f4-7731d3fba086",
   "metadata": {},
   "outputs": [],
   "source": []
  },
  {
   "cell_type": "code",
   "execution_count": null,
   "id": "b1e1168f-f577-4329-b6ab-b5e73ece7328",
   "metadata": {},
   "outputs": [],
   "source": []
  },
  {
   "cell_type": "code",
   "execution_count": null,
   "id": "9efea592-ff71-4e38-b8fa-48f61d047155",
   "metadata": {},
   "outputs": [],
   "source": []
  },
  {
   "cell_type": "code",
   "execution_count": null,
   "id": "3f438c0e-42e7-4c7b-a041-89636253a8ec",
   "metadata": {},
   "outputs": [],
   "source": [
    "import pandas as pd\n",
    "import numpy as np\n",
    "import jsons"
   ]
  },
  {
   "cell_type": "code",
   "execution_count": null,
   "id": "c72a4bfc-4630-474b-823c-7a4890a6eadc",
   "metadata": {},
   "outputs": [],
   "source": [
    "df = pd.DataFrame(np.random.randint(0,100,size=(15, 4)), columns=list('ABCD'))\n",
    "df"
   ]
  },
  {
   "cell_type": "code",
   "execution_count": null,
   "id": "a52a3387-6632-479b-b8d5-7471f4d0205c",
   "metadata": {
    "tags": []
   },
   "outputs": [],
   "source": [
    "df.index.name = 'ID'\n",
    "df.reset_index(inplace=True)\n",
    "df"
   ]
  },
  {
   "cell_type": "code",
   "execution_count": null,
   "id": "5d401f04-8394-445d-a452-eef0a672d9b0",
   "metadata": {},
   "outputs": [],
   "source": [
    "df_json = df.to_json(orient=\"split\")\n",
    "parsed = jsons.loads(df_json)\n",
    "jsons.dumps(parsed, indent=4)"
   ]
  },
  {
   "cell_type": "code",
   "execution_count": null,
   "id": "af6f4f08-5fe5-4090-bf56-d155c3135723",
   "metadata": {},
   "outputs": [],
   "source": []
  },
  {
   "cell_type": "code",
   "execution_count": null,
   "id": "e9755766-e567-4fe3-b145-6d011150eb5b",
   "metadata": {},
   "outputs": [],
   "source": []
  }
 ],
 "metadata": {
  "kernelspec": {
   "display_name": "huang_CellReadR",
   "language": "python",
   "name": "huang_cellreadr"
  },
  "language_info": {
   "codemirror_mode": {
    "name": "ipython",
    "version": 3
   },
   "file_extension": ".py",
   "mimetype": "text/x-python",
   "name": "python",
   "nbconvert_exporter": "python",
   "pygments_lexer": "ipython3",
   "version": "3.9.1"
  }
 },
 "nbformat": 4,
 "nbformat_minor": 5
}
