{
 "cells": [
  {
   "cell_type": "markdown",
   "id": "right-sheffield",
   "metadata": {},
   "source": [
    "# Setup "
   ]
  },
  {
   "cell_type": "markdown",
   "id": "amino-silence",
   "metadata": {},
   "source": [
    "## Import packages "
   ]
  },
  {
   "cell_type": "code",
   "execution_count": 1,
   "id": "rolled-columbia",
   "metadata": {
    "execution": {
     "iopub.execute_input": "2021-08-30T14:40:01.700463Z",
     "iopub.status.busy": "2021-08-30T14:40:01.700237Z",
     "iopub.status.idle": "2021-08-30T14:40:02.070868Z",
     "shell.execute_reply": "2021-08-30T14:40:02.070278Z",
     "shell.execute_reply.started": "2021-08-30T14:40:01.700413Z"
    },
    "tags": []
   },
   "outputs": [],
   "source": [
    "# General \n",
    "import os \n",
    "import numpy as np\n",
    "import pandas as pd \n",
    "# For running bash scripts from inside python ... \n",
    "import subprocess\n",
    "# For manipulating string objects \n",
    "import re\n",
    "# for generating any necessary directories\n",
    "import pathlib \n",
    "# For manipulating list objects \n",
    "import itertools "
   ]
  },
  {
   "cell_type": "code",
   "execution_count": 2,
   "id": "74f8c35b-2409-413f-9d78-ac87547d297c",
   "metadata": {
    "execution": {
     "iopub.execute_input": "2021-08-30T14:40:02.071988Z",
     "iopub.status.busy": "2021-08-30T14:40:02.071804Z",
     "iopub.status.idle": "2021-08-30T14:40:02.074988Z",
     "shell.execute_reply": "2021-08-30T14:40:02.074269Z",
     "shell.execute_reply.started": "2021-08-30T14:40:02.071971Z"
    },
    "tags": []
   },
   "outputs": [],
   "source": [
    "pd.set_option('display.max_rows', None)"
   ]
  },
  {
   "cell_type": "code",
   "execution_count": 3,
   "id": "6ca2e5dd-833c-44de-bd01-3781ced3cf30",
   "metadata": {
    "execution": {
     "iopub.execute_input": "2021-08-30T14:40:02.076178Z",
     "iopub.status.busy": "2021-08-30T14:40:02.076003Z",
     "iopub.status.idle": "2021-08-30T14:40:02.107904Z",
     "shell.execute_reply": "2021-08-30T14:40:02.107268Z",
     "shell.execute_reply.started": "2021-08-30T14:40:02.076160Z"
    },
    "tags": []
   },
   "outputs": [],
   "source": [
    "pd.set_option('display.max_columns', None)"
   ]
  },
  {
   "cell_type": "code",
   "execution_count": 4,
   "id": "false-allah",
   "metadata": {
    "execution": {
     "iopub.execute_input": "2021-08-30T14:40:02.109102Z",
     "iopub.status.busy": "2021-08-30T14:40:02.108859Z",
     "iopub.status.idle": "2021-08-30T14:40:02.182677Z",
     "shell.execute_reply": "2021-08-30T14:40:02.181968Z",
     "shell.execute_reply.started": "2021-08-30T14:40:02.109080Z"
    },
    "tags": []
   },
   "outputs": [],
   "source": [
    "# For working with sequence objects \n",
    "from Bio.Seq import Seq"
   ]
  },
  {
   "cell_type": "code",
   "execution_count": 5,
   "id": "greenhouse-dryer",
   "metadata": {
    "execution": {
     "iopub.execute_input": "2021-08-30T14:40:02.183697Z",
     "iopub.status.busy": "2021-08-30T14:40:02.183467Z",
     "iopub.status.idle": "2021-08-30T14:40:02.215117Z",
     "shell.execute_reply": "2021-08-30T14:40:02.214356Z",
     "shell.execute_reply.started": "2021-08-30T14:40:02.183677Z"
    },
    "tags": []
   },
   "outputs": [],
   "source": [
    "# For fetching sequences from Entrez \n",
    "from Bio import Entrez\n",
    "from Bio import SeqIO"
   ]
  },
  {
   "cell_type": "code",
   "execution_count": 6,
   "id": "positive-coordination",
   "metadata": {
    "execution": {
     "iopub.execute_input": "2021-08-30T14:40:02.216419Z",
     "iopub.status.busy": "2021-08-30T14:40:02.216134Z",
     "iopub.status.idle": "2021-08-30T14:40:02.232216Z",
     "shell.execute_reply": "2021-08-30T14:40:02.231408Z",
     "shell.execute_reply.started": "2021-08-30T14:40:02.216389Z"
    },
    "tags": []
   },
   "outputs": [],
   "source": [
    "# For extracting features \n",
    "from Bio.SeqFeature import SeqFeature, FeatureLocation\n",
    "# For creating SeqRecord objects \n",
    "from Bio.SeqRecord import SeqRecord"
   ]
  },
  {
   "cell_type": "code",
   "execution_count": 7,
   "id": "94f6963c-c46d-4ff1-a40b-11b353df1ca6",
   "metadata": {
    "execution": {
     "iopub.execute_input": "2021-08-30T14:40:02.233490Z",
     "iopub.status.busy": "2021-08-30T14:40:02.233199Z",
     "iopub.status.idle": "2021-08-30T14:40:02.962196Z",
     "shell.execute_reply": "2021-08-30T14:40:02.961517Z",
     "shell.execute_reply.started": "2021-08-30T14:40:02.233462Z"
    },
    "tags": []
   },
   "outputs": [],
   "source": [
    "# For running R cells \n",
    "%load_ext rpy2.ipython"
   ]
  },
  {
   "cell_type": "markdown",
   "id": "metric-color",
   "metadata": {},
   "source": [
    "# Functions "
   ]
  },
  {
   "cell_type": "code",
   "execution_count": 8,
   "id": "679724e8-dd9f-4d70-aa65-c55c1ea60a0c",
   "metadata": {
    "execution": {
     "iopub.execute_input": "2021-08-30T14:40:02.963764Z",
     "iopub.status.busy": "2021-08-30T14:40:02.963533Z",
     "iopub.status.idle": "2021-08-30T14:40:03.068162Z",
     "shell.execute_reply": "2021-08-30T14:40:03.067528Z",
     "shell.execute_reply.started": "2021-08-30T14:40:02.963746Z"
    },
    "tags": []
   },
   "outputs": [],
   "source": [
    "import sys\n",
    "# Importing module of personal functions \n",
    "sys.path.append('/home/user1/Dropbox/Research/Neurobiology_PhD/Huang/Projects/CellReadR/Code')\n",
    "from kCellReadR import * "
   ]
  },
  {
   "cell_type": "markdown",
   "id": "bc4d4e6f-48bf-4e45-bcf0-9ad20a20d8d4",
   "metadata": {},
   "source": [
    "## Misc"
   ]
  },
  {
   "cell_type": "code",
   "execution_count": 101,
   "id": "2c729aa8-093a-4b08-85c5-5babeae37548",
   "metadata": {
    "execution": {
     "iopub.execute_input": "2021-08-30T16:22:06.539442Z",
     "iopub.status.busy": "2021-08-30T16:22:06.539241Z",
     "iopub.status.idle": "2021-08-30T16:22:06.542541Z",
     "shell.execute_reply": "2021-08-30T16:22:06.541582Z",
     "shell.execute_reply.started": "2021-08-30T16:22:06.539424Z"
    },
    "tags": []
   },
   "outputs": [],
   "source": [
    "speciesName = 'Mouse'\n",
    "geneName = 'Fosb'\n",
    "\n",
    "Entrez.email = \"kehaliwoldemichael@gmail.com\"  # Always tell NCBI who you are"
   ]
  },
  {
   "cell_type": "markdown",
   "id": "liquid-conditions",
   "metadata": {},
   "source": [
    "# Sequence"
   ]
  },
  {
   "cell_type": "markdown",
   "id": "offensive-organizer",
   "metadata": {},
   "source": [
    "## Loading sequences "
   ]
  },
  {
   "cell_type": "code",
   "execution_count": 102,
   "id": "3e72b65e-3449-4ebe-b587-4f1ae05f683b",
   "metadata": {
    "execution": {
     "iopub.execute_input": "2021-08-30T16:22:07.020493Z",
     "iopub.status.busy": "2021-08-30T16:22:07.020218Z",
     "iopub.status.idle": "2021-08-30T16:22:07.510722Z",
     "shell.execute_reply": "2021-08-30T16:22:07.510203Z",
     "shell.execute_reply.started": "2021-08-30T16:22:07.020460Z"
    },
    "tags": []
   },
   "outputs": [
    {
     "data": {
      "text/plain": [
       "['ENSMUST00000003640',\n",
       " 'ENSMUST00000207334',\n",
       " 'ENSMUST00000207716',\n",
       " 'ENSMUST00000208230',\n",
       " 'ENSMUST00000208326',\n",
       " 'ENSMUST00000208446',\n",
       " 'ENSMUST00000208505']"
      ]
     },
     "execution_count": 102,
     "metadata": {},
     "output_type": "execute_result"
    }
   ],
   "source": [
    "ensembl_transcriptIDs = return_ensemblTranscriptIDs(speciesName, geneName)\n",
    "ensembl_transcriptIDs"
   ]
  },
  {
   "cell_type": "code",
   "execution_count": 103,
   "id": "2bce1b6c-540a-4c87-a4d8-5a363a49dd03",
   "metadata": {
    "execution": {
     "iopub.execute_input": "2021-08-30T16:22:07.511715Z",
     "iopub.status.busy": "2021-08-30T16:22:07.511505Z",
     "iopub.status.idle": "2021-08-30T16:22:13.347137Z",
     "shell.execute_reply": "2021-08-30T16:22:13.346677Z",
     "shell.execute_reply.started": "2021-08-30T16:22:07.511698Z"
    },
    "tags": []
   },
   "outputs": [
    {
     "data": {
      "text/html": [
       "<div>\n",
       "<style scoped>\n",
       "    .dataframe tbody tr th:only-of-type {\n",
       "        vertical-align: middle;\n",
       "    }\n",
       "\n",
       "    .dataframe tbody tr th {\n",
       "        vertical-align: top;\n",
       "    }\n",
       "\n",
       "    .dataframe thead th {\n",
       "        text-align: right;\n",
       "    }\n",
       "</style>\n",
       "<table border=\"1\" class=\"dataframe\">\n",
       "  <thead>\n",
       "    <tr style=\"text-align: right;\">\n",
       "      <th></th>\n",
       "      <th>TranscriptNum</th>\n",
       "      <th>TranscriptID</th>\n",
       "      <th>TranscriptName</th>\n",
       "      <th>Assembly</th>\n",
       "      <th>Type</th>\n",
       "      <th>AA_Length</th>\n",
       "      <th>Is_Canonical</th>\n",
       "    </tr>\n",
       "  </thead>\n",
       "  <tbody>\n",
       "    <tr>\n",
       "      <th>0</th>\n",
       "      <td>1</td>\n",
       "      <td>ENSMUST00000003640</td>\n",
       "      <td>Fosb-201</td>\n",
       "      <td>GRCm39</td>\n",
       "      <td>protein_coding</td>\n",
       "      <td>338</td>\n",
       "      <td>True</td>\n",
       "    </tr>\n",
       "    <tr>\n",
       "      <th>1</th>\n",
       "      <td>2</td>\n",
       "      <td>ENSMUST00000207334</td>\n",
       "      <td>Fosb-202</td>\n",
       "      <td>GRCm39</td>\n",
       "      <td>protein_coding</td>\n",
       "      <td>302</td>\n",
       "      <td>False</td>\n",
       "    </tr>\n",
       "    <tr>\n",
       "      <th>2</th>\n",
       "      <td>3</td>\n",
       "      <td>ENSMUST00000207716</td>\n",
       "      <td>Fosb-203</td>\n",
       "      <td>GRCm39</td>\n",
       "      <td>protein_coding</td>\n",
       "      <td>263</td>\n",
       "      <td>False</td>\n",
       "    </tr>\n",
       "    <tr>\n",
       "      <th>3</th>\n",
       "      <td>4</td>\n",
       "      <td>ENSMUST00000208230</td>\n",
       "      <td>Fosb-204</td>\n",
       "      <td>GRCm39</td>\n",
       "      <td>retained_intron</td>\n",
       "      <td>no protein</td>\n",
       "      <td>False</td>\n",
       "    </tr>\n",
       "    <tr>\n",
       "      <th>4</th>\n",
       "      <td>5</td>\n",
       "      <td>ENSMUST00000208326</td>\n",
       "      <td>Fosb-205</td>\n",
       "      <td>GRCm39</td>\n",
       "      <td>protein_coding</td>\n",
       "      <td>299</td>\n",
       "      <td>False</td>\n",
       "    </tr>\n",
       "    <tr>\n",
       "      <th>5</th>\n",
       "      <td>6</td>\n",
       "      <td>ENSMUST00000208446</td>\n",
       "      <td>Fosb-206</td>\n",
       "      <td>GRCm39</td>\n",
       "      <td>protein_coding</td>\n",
       "      <td>237</td>\n",
       "      <td>False</td>\n",
       "    </tr>\n",
       "    <tr>\n",
       "      <th>6</th>\n",
       "      <td>7</td>\n",
       "      <td>ENSMUST00000208505</td>\n",
       "      <td>Fosb-207</td>\n",
       "      <td>GRCm39</td>\n",
       "      <td>protein_coding</td>\n",
       "      <td>201</td>\n",
       "      <td>False</td>\n",
       "    </tr>\n",
       "  </tbody>\n",
       "</table>\n",
       "</div>"
      ],
      "text/plain": [
       "   TranscriptNum        TranscriptID TranscriptName Assembly             Type  \\\n",
       "0              1  ENSMUST00000003640       Fosb-201   GRCm39   protein_coding   \n",
       "1              2  ENSMUST00000207334       Fosb-202   GRCm39   protein_coding   \n",
       "2              3  ENSMUST00000207716       Fosb-203   GRCm39   protein_coding   \n",
       "3              4  ENSMUST00000208230       Fosb-204   GRCm39  retained_intron   \n",
       "4              5  ENSMUST00000208326       Fosb-205   GRCm39   protein_coding   \n",
       "5              6  ENSMUST00000208446       Fosb-206   GRCm39   protein_coding   \n",
       "6              7  ENSMUST00000208505       Fosb-207   GRCm39   protein_coding   \n",
       "\n",
       "    AA_Length Is_Canonical  \n",
       "0         338         True  \n",
       "1         302        False  \n",
       "2         263        False  \n",
       "3  no protein        False  \n",
       "4         299        False  \n",
       "5         237        False  \n",
       "6         201        False  "
      ]
     },
     "execution_count": 103,
     "metadata": {},
     "output_type": "execute_result"
    }
   ],
   "source": [
    "variantTable = table_transcriptsInfo(ensembl_transcriptIDs)\n",
    "variantTable"
   ]
  },
  {
   "cell_type": "code",
   "execution_count": 104,
   "id": "f28434e0-dd4c-44aa-9137-f3c62651df60",
   "metadata": {
    "execution": {
     "iopub.execute_input": "2021-08-30T16:22:13.348165Z",
     "iopub.status.busy": "2021-08-30T16:22:13.348009Z",
     "iopub.status.idle": "2021-08-30T16:22:13.353205Z",
     "shell.execute_reply": "2021-08-30T16:22:13.352536Z",
     "shell.execute_reply.started": "2021-08-30T16:22:13.348148Z"
    },
    "tags": []
   },
   "outputs": [
    {
     "data": {
      "text/plain": [
       "1"
      ]
     },
     "execution_count": 104,
     "metadata": {},
     "output_type": "execute_result"
    }
   ],
   "source": [
    "# Chooses canonical transcript\n",
    "spliceVariant = int(variantTable[variantTable['Is_Canonical'] == 'True']['TranscriptNum'])\n",
    "spliceVariant"
   ]
  },
  {
   "cell_type": "code",
   "execution_count": 105,
   "id": "1724fdde-835a-4026-a75b-3a378b4a7848",
   "metadata": {
    "execution": {
     "iopub.execute_input": "2021-08-30T16:22:13.354614Z",
     "iopub.status.busy": "2021-08-30T16:22:13.354438Z",
     "iopub.status.idle": "2021-08-30T16:22:13.375344Z",
     "shell.execute_reply": "2021-08-30T16:22:13.374432Z",
     "shell.execute_reply.started": "2021-08-30T16:22:13.354596Z"
    },
    "tags": []
   },
   "outputs": [
    {
     "data": {
      "text/plain": [
       "'Fosb'"
      ]
     },
     "execution_count": 105,
     "metadata": {},
     "output_type": "execute_result"
    }
   ],
   "source": [
    "geneName"
   ]
  },
  {
   "cell_type": "code",
   "execution_count": 106,
   "id": "8fb727b2-5aa3-4d2f-aefe-e60647be9bfa",
   "metadata": {
    "execution": {
     "iopub.execute_input": "2021-08-30T16:22:13.376811Z",
     "iopub.status.busy": "2021-08-30T16:22:13.376474Z",
     "iopub.status.idle": "2021-08-30T16:22:13.392094Z",
     "shell.execute_reply": "2021-08-30T16:22:13.391080Z",
     "shell.execute_reply.started": "2021-08-30T16:22:13.376786Z"
    },
    "tags": []
   },
   "outputs": [
    {
     "data": {
      "text/plain": [
       "'Mouse'"
      ]
     },
     "execution_count": 106,
     "metadata": {},
     "output_type": "execute_result"
    }
   ],
   "source": [
    "speciesName"
   ]
  },
  {
   "cell_type": "code",
   "execution_count": 107,
   "id": "continuing-sample",
   "metadata": {
    "execution": {
     "iopub.execute_input": "2021-08-30T16:22:13.393221Z",
     "iopub.status.busy": "2021-08-30T16:22:13.392962Z",
     "iopub.status.idle": "2021-08-30T16:22:29.564224Z",
     "shell.execute_reply": "2021-08-30T16:22:29.563680Z",
     "shell.execute_reply.started": "2021-08-30T16:22:13.393194Z"
    },
    "tags": []
   },
   "outputs": [],
   "source": [
    "rC_exon_records, C_exon_records, CDS, cDNA, genomic = load_referenceSequences(speciesName, geneName, spliceVariant)"
   ]
  },
  {
   "cell_type": "markdown",
   "id": "after-beatles",
   "metadata": {},
   "source": [
    "## Selecting sensor "
   ]
  },
  {
   "cell_type": "code",
   "execution_count": 108,
   "id": "e885434a-3152-434d-a909-4e2372682706",
   "metadata": {
    "execution": {
     "iopub.execute_input": "2021-08-30T16:22:29.565209Z",
     "iopub.status.busy": "2021-08-30T16:22:29.565044Z",
     "iopub.status.idle": "2021-08-30T16:22:29.569184Z",
     "shell.execute_reply": "2021-08-30T16:22:29.568510Z",
     "shell.execute_reply.started": "2021-08-30T16:22:29.565191Z"
    },
    "tags": []
   },
   "outputs": [
    {
     "data": {
      "text/plain": [
       "7356"
      ]
     },
     "execution_count": 108,
     "metadata": {},
     "output_type": "execute_result"
    }
   ],
   "source": [
    "len(genomic[0])"
   ]
  },
  {
   "cell_type": "code",
   "execution_count": 109,
   "id": "0e331ca6-c8b3-4f8a-94df-48b621c50cc4",
   "metadata": {
    "execution": {
     "iopub.execute_input": "2021-08-30T16:22:29.571036Z",
     "iopub.status.busy": "2021-08-30T16:22:29.570830Z",
     "iopub.status.idle": "2021-08-30T16:22:29.594028Z",
     "shell.execute_reply": "2021-08-30T16:22:29.593351Z",
     "shell.execute_reply.started": "2021-08-30T16:22:29.571017Z"
    },
    "tags": []
   },
   "outputs": [
    {
     "data": {
      "text/plain": [
       "1017"
      ]
     },
     "execution_count": 109,
     "metadata": {},
     "output_type": "execute_result"
    }
   ],
   "source": [
    "len(CDS[0])"
   ]
  },
  {
   "cell_type": "code",
   "execution_count": 110,
   "id": "7420f114-a9cd-4295-a19a-9a1d926a7b81",
   "metadata": {
    "execution": {
     "iopub.execute_input": "2021-08-30T16:22:29.595282Z",
     "iopub.status.busy": "2021-08-30T16:22:29.595075Z",
     "iopub.status.idle": "2021-08-30T16:22:29.615225Z",
     "shell.execute_reply": "2021-08-30T16:22:29.614568Z",
     "shell.execute_reply.started": "2021-08-30T16:22:29.595263Z"
    },
    "tags": []
   },
   "outputs": [
    {
     "name": "stdout",
     "output_type": "stream",
     "text": [
      "746\n",
      "321\n",
      "108\n",
      "2607\n"
     ]
    }
   ],
   "source": [
    "# Print lenth exons \n",
    "for exon in rC_exon_records:\n",
    "    print(len(str(exon.seq)))"
   ]
  },
  {
   "cell_type": "code",
   "execution_count": 111,
   "id": "e673326a-d31c-47fb-be6e-414f194e4769",
   "metadata": {
    "execution": {
     "iopub.execute_input": "2021-08-30T16:22:29.616434Z",
     "iopub.status.busy": "2021-08-30T16:22:29.616195Z",
     "iopub.status.idle": "2021-08-30T16:22:29.635944Z",
     "shell.execute_reply": "2021-08-30T16:22:29.635218Z",
     "shell.execute_reply.started": "2021-08-30T16:22:29.616412Z"
    },
    "tags": []
   },
   "outputs": [
    {
     "data": {
      "text/plain": [
       "4"
      ]
     },
     "execution_count": 111,
     "metadata": {},
     "output_type": "execute_result"
    }
   ],
   "source": [
    "len(rC_exon_records)"
   ]
  },
  {
   "cell_type": "code",
   "execution_count": 112,
   "id": "c68b5ba2-31f6-4ad9-96a2-208987d609ef",
   "metadata": {
    "execution": {
     "iopub.execute_input": "2021-08-30T16:22:29.637274Z",
     "iopub.status.busy": "2021-08-30T16:22:29.636978Z",
     "iopub.status.idle": "2021-08-30T16:22:29.657548Z",
     "shell.execute_reply": "2021-08-30T16:22:29.656615Z",
     "shell.execute_reply.started": "2021-08-30T16:22:29.637247Z"
    },
    "scrolled": true,
    "tags": []
   },
   "outputs": [
    {
     "name": "stdout",
     "output_type": "stream",
     "text": [
      "192\n",
      "195\n",
      "198\n",
      "201\n",
      "204\n",
      "207\n",
      "210\n",
      "213\n",
      "216\n",
      "219\n",
      "222\n",
      "225\n",
      "228\n",
      "231\n",
      "234\n",
      "237\n",
      "240\n",
      "243\n",
      "246\n",
      "249\n",
      "252\n",
      "255\n",
      "258\n",
      "261\n",
      "264\n",
      "267\n",
      "270\n",
      "273\n",
      "276\n",
      "279\n",
      "282\n",
      "285\n",
      "288\n",
      "291\n",
      "294\n",
      "297\n"
     ]
    }
   ],
   "source": [
    "##### Initial if want to check variable length sesRNAs \n",
    "for i in range(192, 300):\n",
    "    if(i%3 == 0):\n",
    "        print(i)"
   ]
  },
  {
   "cell_type": "code",
   "execution_count": 113,
   "id": "a43e69c2-68a9-4f66-9117-ac367981b306",
   "metadata": {
    "execution": {
     "iopub.execute_input": "2021-08-30T16:22:29.659700Z",
     "iopub.status.busy": "2021-08-30T16:22:29.659390Z",
     "iopub.status.idle": "2021-08-30T16:22:29.674995Z",
     "shell.execute_reply": "2021-08-30T16:22:29.674211Z",
     "shell.execute_reply.started": "2021-08-30T16:22:29.659672Z"
    },
    "tags": []
   },
   "outputs": [],
   "source": [
    "# Longer the sesRNA ... the better it binds ... but the higher likelihood to introduce stop codons and ATGs \n",
    "# Want around 60 bp distance between multiple TAGs ... \n",
    "sesRNA_length = 192\n",
    "parameters = parameters_sesRNA(speciesName, geneName,  spliceVariant, 'Reverse', sesRNA_length, 1, 1, 'None', 40, 70, 40, 10)"
   ]
  },
  {
   "cell_type": "code",
   "execution_count": 114,
   "id": "02895fb4-5293-4a3c-b754-efe5b2b00996",
   "metadata": {
    "execution": {
     "iopub.execute_input": "2021-08-30T16:22:29.676414Z",
     "iopub.status.busy": "2021-08-30T16:22:29.676098Z",
     "iopub.status.idle": "2021-08-30T16:22:29.699143Z",
     "shell.execute_reply": "2021-08-30T16:22:29.696956Z",
     "shell.execute_reply.started": "2021-08-30T16:22:29.676384Z"
    },
    "tags": []
   },
   "outputs": [
    {
     "name": "stdout",
     "output_type": "stream",
     "text": [
      "[instance attributes]\n",
      "species = Mouse\n",
      "gene = Fosb\n",
      "spliceVariant = 1\n",
      "seqDirection = Reverse\n",
      "length = 192\n",
      "num_inF_TGG = 1\n",
      "num_inF_Stop = 1\n",
      "inF_ATG = None\n",
      "minGC = 40\n",
      "maxGC = 70\n",
      "nearCenter = 40\n",
      "fromStop = 10\n"
     ]
    }
   ],
   "source": [
    "parameters.print_parameters()"
   ]
  },
  {
   "cell_type": "code",
   "execution_count": 115,
   "id": "cd0a59a9-47dd-4640-905a-b8c9f3add621",
   "metadata": {
    "execution": {
     "iopub.execute_input": "2021-08-30T16:22:29.700322Z",
     "iopub.status.busy": "2021-08-30T16:22:29.700067Z",
     "iopub.status.idle": "2021-08-30T16:22:29.713127Z",
     "shell.execute_reply": "2021-08-30T16:22:29.712412Z",
     "shell.execute_reply.started": "2021-08-30T16:22:29.700297Z"
    },
    "tags": []
   },
   "outputs": [],
   "source": [
    "rC_CDS = [CDS[0].reverse_complement()]\n",
    "rC_genomic = [genomic[0].reverse_complement()]"
   ]
  },
  {
   "cell_type": "code",
   "execution_count": 116,
   "id": "ba64385b-2fdc-43bb-b78d-ce6acaf82bf2",
   "metadata": {
    "execution": {
     "iopub.execute_input": "2021-08-30T16:22:29.714546Z",
     "iopub.status.busy": "2021-08-30T16:22:29.714257Z",
     "iopub.status.idle": "2021-08-30T16:22:29.731742Z",
     "shell.execute_reply": "2021-08-30T16:22:29.730995Z",
     "shell.execute_reply.started": "2021-08-30T16:22:29.714519Z"
    },
    "tags": []
   },
   "outputs": [
    {
     "data": {
      "text/plain": [
       "96.0"
      ]
     },
     "execution_count": 116,
     "metadata": {},
     "output_type": "execute_result"
    }
   ],
   "source": [
    "sesRNA_length/2"
   ]
  },
  {
   "cell_type": "code",
   "execution_count": 117,
   "id": "34ff46d1-409f-45ae-82e4-64c86df15518",
   "metadata": {
    "execution": {
     "iopub.execute_input": "2021-08-30T16:22:29.733057Z",
     "iopub.status.busy": "2021-08-30T16:22:29.732783Z",
     "iopub.status.idle": "2021-08-30T16:22:30.289310Z",
     "shell.execute_reply": "2021-08-30T16:22:30.288605Z",
     "shell.execute_reply.started": "2021-08-30T16:22:29.733030Z"
    },
    "tags": []
   },
   "outputs": [
    {
     "name": "stdout",
     "output_type": "stream",
     "text": [
      "1\n",
      "2\n",
      "4\n"
     ]
    },
    {
     "data": {
      "text/html": [
       "<div>\n",
       "<style scoped>\n",
       "    .dataframe tbody tr th:only-of-type {\n",
       "        vertical-align: middle;\n",
       "    }\n",
       "\n",
       "    .dataframe tbody tr th {\n",
       "        vertical-align: top;\n",
       "    }\n",
       "\n",
       "    .dataframe thead th {\n",
       "        text-align: right;\n",
       "    }\n",
       "</style>\n",
       "<table border=\"1\" class=\"dataframe\">\n",
       "  <thead>\n",
       "    <tr style=\"text-align: right;\">\n",
       "      <th></th>\n",
       "      <th>sesNum</th>\n",
       "      <th>TypeSeq</th>\n",
       "      <th>SeqNum</th>\n",
       "      <th>ExonFrac</th>\n",
       "      <th>ExonProtFrac</th>\n",
       "      <th>CDSFrac</th>\n",
       "      <th>CDNAFrac</th>\n",
       "      <th>StartSeq</th>\n",
       "      <th>StopSeq</th>\n",
       "      <th>firstTGG</th>\n",
       "      <th>centralTGG</th>\n",
       "      <th>second_cTGG</th>\n",
       "      <th>numTGG</th>\n",
       "      <th>numTTGG</th>\n",
       "      <th>numTGGA</th>\n",
       "      <th>numTTGGA</th>\n",
       "      <th>numATG</th>\n",
       "      <th>numStop</th>\n",
       "      <th>gcCont</th>\n",
       "    </tr>\n",
       "  </thead>\n",
       "  <tbody>\n",
       "    <tr>\n",
       "      <th>0</th>\n",
       "      <td>1</td>\n",
       "      <td>Reverse</td>\n",
       "      <td>2</td>\n",
       "      <td>7/7</td>\n",
       "      <td>6/6</td>\n",
       "      <td>6/6</td>\n",
       "      <td>7/7</td>\n",
       "      <td>2.0</td>\n",
       "      <td>194.0</td>\n",
       "      <td>24.0</td>\n",
       "      <td>69.0</td>\n",
       "      <td>60.0</td>\n",
       "      <td>6.0</td>\n",
       "      <td>0.0</td>\n",
       "      <td>0.0</td>\n",
       "      <td>0.0</td>\n",
       "      <td>0.0</td>\n",
       "      <td>1.0</td>\n",
       "      <td>62.0</td>\n",
       "    </tr>\n",
       "    <tr>\n",
       "      <th>1</th>\n",
       "      <td>2</td>\n",
       "      <td>Reverse</td>\n",
       "      <td>2</td>\n",
       "      <td>7/7</td>\n",
       "      <td>6/6</td>\n",
       "      <td>6/6</td>\n",
       "      <td>7/7</td>\n",
       "      <td>5.0</td>\n",
       "      <td>197.0</td>\n",
       "      <td>21.0</td>\n",
       "      <td>66.0</td>\n",
       "      <td>57.0</td>\n",
       "      <td>6.0</td>\n",
       "      <td>0.0</td>\n",
       "      <td>0.0</td>\n",
       "      <td>0.0</td>\n",
       "      <td>0.0</td>\n",
       "      <td>1.0</td>\n",
       "      <td>63.0</td>\n",
       "    </tr>\n",
       "    <tr>\n",
       "      <th>2</th>\n",
       "      <td>3</td>\n",
       "      <td>Reverse</td>\n",
       "      <td>2</td>\n",
       "      <td>7/7</td>\n",
       "      <td>6/6</td>\n",
       "      <td>6/6</td>\n",
       "      <td>7/7</td>\n",
       "      <td>8.0</td>\n",
       "      <td>200.0</td>\n",
       "      <td>18.0</td>\n",
       "      <td>63.0</td>\n",
       "      <td>132.0</td>\n",
       "      <td>6.0</td>\n",
       "      <td>0.0</td>\n",
       "      <td>0.0</td>\n",
       "      <td>0.0</td>\n",
       "      <td>0.0</td>\n",
       "      <td>1.0</td>\n",
       "      <td>63.5</td>\n",
       "    </tr>\n",
       "    <tr>\n",
       "      <th>3</th>\n",
       "      <td>4</td>\n",
       "      <td>Reverse</td>\n",
       "      <td>2</td>\n",
       "      <td>7/7</td>\n",
       "      <td>6/6</td>\n",
       "      <td>6/6</td>\n",
       "      <td>7/7</td>\n",
       "      <td>11.0</td>\n",
       "      <td>203.0</td>\n",
       "      <td>15.0</td>\n",
       "      <td>129.0</td>\n",
       "      <td>60.0</td>\n",
       "      <td>6.0</td>\n",
       "      <td>0.0</td>\n",
       "      <td>0.0</td>\n",
       "      <td>0.0</td>\n",
       "      <td>0.0</td>\n",
       "      <td>1.0</td>\n",
       "      <td>64.1</td>\n",
       "    </tr>\n",
       "    <tr>\n",
       "      <th>4</th>\n",
       "      <td>5</td>\n",
       "      <td>Reverse</td>\n",
       "      <td>2</td>\n",
       "      <td>5/7</td>\n",
       "      <td>4/6</td>\n",
       "      <td>6/6</td>\n",
       "      <td>7/7</td>\n",
       "      <td>14.0</td>\n",
       "      <td>206.0</td>\n",
       "      <td>12.0</td>\n",
       "      <td>126.0</td>\n",
       "      <td>57.0</td>\n",
       "      <td>6.0</td>\n",
       "      <td>0.0</td>\n",
       "      <td>0.0</td>\n",
       "      <td>0.0</td>\n",
       "      <td>0.0</td>\n",
       "      <td>1.0</td>\n",
       "      <td>63.0</td>\n",
       "    </tr>\n",
       "    <tr>\n",
       "      <th>5</th>\n",
       "      <td>6</td>\n",
       "      <td>Reverse</td>\n",
       "      <td>2</td>\n",
       "      <td>5/7</td>\n",
       "      <td>4/6</td>\n",
       "      <td>6/6</td>\n",
       "      <td>7/7</td>\n",
       "      <td>17.0</td>\n",
       "      <td>209.0</td>\n",
       "      <td>9.0</td>\n",
       "      <td>123.0</td>\n",
       "      <td>54.0</td>\n",
       "      <td>6.0</td>\n",
       "      <td>0.0</td>\n",
       "      <td>0.0</td>\n",
       "      <td>0.0</td>\n",
       "      <td>0.0</td>\n",
       "      <td>1.0</td>\n",
       "      <td>63.5</td>\n",
       "    </tr>\n",
       "    <tr>\n",
       "      <th>6</th>\n",
       "      <td>7</td>\n",
       "      <td>Reverse</td>\n",
       "      <td>2</td>\n",
       "      <td>5/7</td>\n",
       "      <td>4/6</td>\n",
       "      <td>4/6</td>\n",
       "      <td>5/7</td>\n",
       "      <td>20.0</td>\n",
       "      <td>212.0</td>\n",
       "      <td>6.0</td>\n",
       "      <td>120.0</td>\n",
       "      <td>51.0</td>\n",
       "      <td>6.0</td>\n",
       "      <td>0.0</td>\n",
       "      <td>0.0</td>\n",
       "      <td>0.0</td>\n",
       "      <td>0.0</td>\n",
       "      <td>1.0</td>\n",
       "      <td>64.1</td>\n",
       "    </tr>\n",
       "    <tr>\n",
       "      <th>7</th>\n",
       "      <td>8</td>\n",
       "      <td>Reverse</td>\n",
       "      <td>2</td>\n",
       "      <td>5/7</td>\n",
       "      <td>4/6</td>\n",
       "      <td>4/6</td>\n",
       "      <td>5/7</td>\n",
       "      <td>23.0</td>\n",
       "      <td>215.0</td>\n",
       "      <td>3.0</td>\n",
       "      <td>117.0</td>\n",
       "      <td>48.0</td>\n",
       "      <td>7.0</td>\n",
       "      <td>0.0</td>\n",
       "      <td>0.0</td>\n",
       "      <td>0.0</td>\n",
       "      <td>0.0</td>\n",
       "      <td>0.0</td>\n",
       "      <td>64.6</td>\n",
       "    </tr>\n",
       "    <tr>\n",
       "      <th>8</th>\n",
       "      <td>9</td>\n",
       "      <td>Reverse</td>\n",
       "      <td>2</td>\n",
       "      <td>5/7</td>\n",
       "      <td>4/6</td>\n",
       "      <td>4/6</td>\n",
       "      <td>5/7</td>\n",
       "      <td>26.0</td>\n",
       "      <td>218.0</td>\n",
       "      <td>0.0</td>\n",
       "      <td>114.0</td>\n",
       "      <td>45.0</td>\n",
       "      <td>7.0</td>\n",
       "      <td>0.0</td>\n",
       "      <td>1.0</td>\n",
       "      <td>0.0</td>\n",
       "      <td>0.0</td>\n",
       "      <td>0.0</td>\n",
       "      <td>63.5</td>\n",
       "    </tr>\n",
       "    <tr>\n",
       "      <th>9</th>\n",
       "      <td>10</td>\n",
       "      <td>Reverse</td>\n",
       "      <td>2</td>\n",
       "      <td>5/7</td>\n",
       "      <td>4/6</td>\n",
       "      <td>4/6</td>\n",
       "      <td>5/7</td>\n",
       "      <td>29.0</td>\n",
       "      <td>221.0</td>\n",
       "      <td>3.0</td>\n",
       "      <td>111.0</td>\n",
       "      <td>42.0</td>\n",
       "      <td>6.0</td>\n",
       "      <td>0.0</td>\n",
       "      <td>1.0</td>\n",
       "      <td>0.0</td>\n",
       "      <td>0.0</td>\n",
       "      <td>0.0</td>\n",
       "      <td>63.0</td>\n",
       "    </tr>\n",
       "    <tr>\n",
       "      <th>10</th>\n",
       "      <td>11</td>\n",
       "      <td>Reverse</td>\n",
       "      <td>2</td>\n",
       "      <td>5/7</td>\n",
       "      <td>4/6</td>\n",
       "      <td>4/6</td>\n",
       "      <td>5/7</td>\n",
       "      <td>32.0</td>\n",
       "      <td>224.0</td>\n",
       "      <td>0.0</td>\n",
       "      <td>108.0</td>\n",
       "      <td>39.0</td>\n",
       "      <td>6.0</td>\n",
       "      <td>0.0</td>\n",
       "      <td>1.0</td>\n",
       "      <td>0.0</td>\n",
       "      <td>0.0</td>\n",
       "      <td>1.0</td>\n",
       "      <td>62.5</td>\n",
       "    </tr>\n",
       "    <tr>\n",
       "      <th>11</th>\n",
       "      <td>12</td>\n",
       "      <td>Reverse</td>\n",
       "      <td>2</td>\n",
       "      <td>5/7</td>\n",
       "      <td>4/6</td>\n",
       "      <td>4/6</td>\n",
       "      <td>5/7</td>\n",
       "      <td>35.0</td>\n",
       "      <td>227.0</td>\n",
       "      <td>24.0</td>\n",
       "      <td>105.0</td>\n",
       "      <td>36.0</td>\n",
       "      <td>5.0</td>\n",
       "      <td>0.0</td>\n",
       "      <td>1.0</td>\n",
       "      <td>0.0</td>\n",
       "      <td>0.0</td>\n",
       "      <td>1.0</td>\n",
       "      <td>63.0</td>\n",
       "    </tr>\n",
       "    <tr>\n",
       "      <th>12</th>\n",
       "      <td>13</td>\n",
       "      <td>Reverse</td>\n",
       "      <td>2</td>\n",
       "      <td>5/7</td>\n",
       "      <td>4/6</td>\n",
       "      <td>4/6</td>\n",
       "      <td>5/7</td>\n",
       "      <td>38.0</td>\n",
       "      <td>230.0</td>\n",
       "      <td>21.0</td>\n",
       "      <td>102.0</td>\n",
       "      <td>33.0</td>\n",
       "      <td>6.0</td>\n",
       "      <td>0.0</td>\n",
       "      <td>1.0</td>\n",
       "      <td>0.0</td>\n",
       "      <td>0.0</td>\n",
       "      <td>1.0</td>\n",
       "      <td>63.0</td>\n",
       "    </tr>\n",
       "    <tr>\n",
       "      <th>13</th>\n",
       "      <td>14</td>\n",
       "      <td>Reverse</td>\n",
       "      <td>2</td>\n",
       "      <td>5/7</td>\n",
       "      <td>4/6</td>\n",
       "      <td>4/6</td>\n",
       "      <td>5/7</td>\n",
       "      <td>41.0</td>\n",
       "      <td>233.0</td>\n",
       "      <td>18.0</td>\n",
       "      <td>99.0</td>\n",
       "      <td>30.0</td>\n",
       "      <td>6.0</td>\n",
       "      <td>0.0</td>\n",
       "      <td>1.0</td>\n",
       "      <td>0.0</td>\n",
       "      <td>0.0</td>\n",
       "      <td>1.0</td>\n",
       "      <td>62.5</td>\n",
       "    </tr>\n",
       "    <tr>\n",
       "      <th>14</th>\n",
       "      <td>15</td>\n",
       "      <td>Reverse</td>\n",
       "      <td>2</td>\n",
       "      <td>5/7</td>\n",
       "      <td>4/6</td>\n",
       "      <td>4/6</td>\n",
       "      <td>5/7</td>\n",
       "      <td>44.0</td>\n",
       "      <td>236.0</td>\n",
       "      <td>15.0</td>\n",
       "      <td>96.0</td>\n",
       "      <td>27.0</td>\n",
       "      <td>6.0</td>\n",
       "      <td>0.0</td>\n",
       "      <td>1.0</td>\n",
       "      <td>0.0</td>\n",
       "      <td>0.0</td>\n",
       "      <td>1.0</td>\n",
       "      <td>62.0</td>\n",
       "    </tr>\n",
       "    <tr>\n",
       "      <th>15</th>\n",
       "      <td>16</td>\n",
       "      <td>Reverse</td>\n",
       "      <td>2</td>\n",
       "      <td>5/7</td>\n",
       "      <td>4/6</td>\n",
       "      <td>4/6</td>\n",
       "      <td>5/7</td>\n",
       "      <td>47.0</td>\n",
       "      <td>239.0</td>\n",
       "      <td>12.0</td>\n",
       "      <td>93.0</td>\n",
       "      <td>165.0</td>\n",
       "      <td>6.0</td>\n",
       "      <td>0.0</td>\n",
       "      <td>1.0</td>\n",
       "      <td>0.0</td>\n",
       "      <td>0.0</td>\n",
       "      <td>1.0</td>\n",
       "      <td>62.0</td>\n",
       "    </tr>\n",
       "    <tr>\n",
       "      <th>16</th>\n",
       "      <td>17</td>\n",
       "      <td>Reverse</td>\n",
       "      <td>2</td>\n",
       "      <td>5/7</td>\n",
       "      <td>4/6</td>\n",
       "      <td>4/6</td>\n",
       "      <td>5/7</td>\n",
       "      <td>50.0</td>\n",
       "      <td>242.0</td>\n",
       "      <td>9.0</td>\n",
       "      <td>90.0</td>\n",
       "      <td>162.0</td>\n",
       "      <td>6.0</td>\n",
       "      <td>0.0</td>\n",
       "      <td>1.0</td>\n",
       "      <td>0.0</td>\n",
       "      <td>0.0</td>\n",
       "      <td>1.0</td>\n",
       "      <td>63.0</td>\n",
       "    </tr>\n",
       "    <tr>\n",
       "      <th>17</th>\n",
       "      <td>18</td>\n",
       "      <td>Reverse</td>\n",
       "      <td>2</td>\n",
       "      <td>5/7</td>\n",
       "      <td>4/6</td>\n",
       "      <td>4/6</td>\n",
       "      <td>5/7</td>\n",
       "      <td>53.0</td>\n",
       "      <td>245.0</td>\n",
       "      <td>6.0</td>\n",
       "      <td>87.0</td>\n",
       "      <td>159.0</td>\n",
       "      <td>6.0</td>\n",
       "      <td>0.0</td>\n",
       "      <td>1.0</td>\n",
       "      <td>0.0</td>\n",
       "      <td>0.0</td>\n",
       "      <td>1.0</td>\n",
       "      <td>62.5</td>\n",
       "    </tr>\n",
       "    <tr>\n",
       "      <th>18</th>\n",
       "      <td>19</td>\n",
       "      <td>Reverse</td>\n",
       "      <td>2</td>\n",
       "      <td>5/7</td>\n",
       "      <td>4/6</td>\n",
       "      <td>4/6</td>\n",
       "      <td>5/7</td>\n",
       "      <td>56.0</td>\n",
       "      <td>248.0</td>\n",
       "      <td>3.0</td>\n",
       "      <td>84.0</td>\n",
       "      <td>156.0</td>\n",
       "      <td>6.0</td>\n",
       "      <td>0.0</td>\n",
       "      <td>1.0</td>\n",
       "      <td>0.0</td>\n",
       "      <td>0.0</td>\n",
       "      <td>1.0</td>\n",
       "      <td>62.0</td>\n",
       "    </tr>\n",
       "    <tr>\n",
       "      <th>19</th>\n",
       "      <td>20</td>\n",
       "      <td>Reverse</td>\n",
       "      <td>2</td>\n",
       "      <td>5/7</td>\n",
       "      <td>4/6</td>\n",
       "      <td>4/6</td>\n",
       "      <td>5/7</td>\n",
       "      <td>59.0</td>\n",
       "      <td>251.0</td>\n",
       "      <td>0.0</td>\n",
       "      <td>81.0</td>\n",
       "      <td>153.0</td>\n",
       "      <td>6.0</td>\n",
       "      <td>0.0</td>\n",
       "      <td>1.0</td>\n",
       "      <td>0.0</td>\n",
       "      <td>0.0</td>\n",
       "      <td>1.0</td>\n",
       "      <td>61.5</td>\n",
       "    </tr>\n",
       "    <tr>\n",
       "      <th>20</th>\n",
       "      <td>21</td>\n",
       "      <td>Reverse</td>\n",
       "      <td>2</td>\n",
       "      <td>5/7</td>\n",
       "      <td>4/6</td>\n",
       "      <td>4/6</td>\n",
       "      <td>5/7</td>\n",
       "      <td>62.0</td>\n",
       "      <td>254.0</td>\n",
       "      <td>0.0</td>\n",
       "      <td>78.0</td>\n",
       "      <td>150.0</td>\n",
       "      <td>5.0</td>\n",
       "      <td>0.0</td>\n",
       "      <td>1.0</td>\n",
       "      <td>0.0</td>\n",
       "      <td>0.0</td>\n",
       "      <td>1.0</td>\n",
       "      <td>61.5</td>\n",
       "    </tr>\n",
       "    <tr>\n",
       "      <th>21</th>\n",
       "      <td>22</td>\n",
       "      <td>Reverse</td>\n",
       "      <td>2</td>\n",
       "      <td>5/7</td>\n",
       "      <td>4/6</td>\n",
       "      <td>4/6</td>\n",
       "      <td>5/7</td>\n",
       "      <td>65.0</td>\n",
       "      <td>257.0</td>\n",
       "      <td>6.0</td>\n",
       "      <td>75.0</td>\n",
       "      <td>147.0</td>\n",
       "      <td>4.0</td>\n",
       "      <td>0.0</td>\n",
       "      <td>1.0</td>\n",
       "      <td>0.0</td>\n",
       "      <td>0.0</td>\n",
       "      <td>1.0</td>\n",
       "      <td>62.0</td>\n",
       "    </tr>\n",
       "    <tr>\n",
       "      <th>22</th>\n",
       "      <td>23</td>\n",
       "      <td>Reverse</td>\n",
       "      <td>2</td>\n",
       "      <td>5/7</td>\n",
       "      <td>4/6</td>\n",
       "      <td>4/6</td>\n",
       "      <td>5/7</td>\n",
       "      <td>68.0</td>\n",
       "      <td>260.0</td>\n",
       "      <td>3.0</td>\n",
       "      <td>72.0</td>\n",
       "      <td>144.0</td>\n",
       "      <td>5.0</td>\n",
       "      <td>0.0</td>\n",
       "      <td>1.0</td>\n",
       "      <td>0.0</td>\n",
       "      <td>0.0</td>\n",
       "      <td>1.0</td>\n",
       "      <td>62.5</td>\n",
       "    </tr>\n",
       "    <tr>\n",
       "      <th>23</th>\n",
       "      <td>24</td>\n",
       "      <td>Reverse</td>\n",
       "      <td>2</td>\n",
       "      <td>5/7</td>\n",
       "      <td>4/6</td>\n",
       "      <td>4/6</td>\n",
       "      <td>5/7</td>\n",
       "      <td>71.0</td>\n",
       "      <td>263.0</td>\n",
       "      <td>0.0</td>\n",
       "      <td>69.0</td>\n",
       "      <td>141.0</td>\n",
       "      <td>5.0</td>\n",
       "      <td>0.0</td>\n",
       "      <td>1.0</td>\n",
       "      <td>0.0</td>\n",
       "      <td>0.0</td>\n",
       "      <td>1.0</td>\n",
       "      <td>62.0</td>\n",
       "    </tr>\n",
       "    <tr>\n",
       "      <th>24</th>\n",
       "      <td>25</td>\n",
       "      <td>Reverse</td>\n",
       "      <td>2</td>\n",
       "      <td>5/7</td>\n",
       "      <td>4/6</td>\n",
       "      <td>4/6</td>\n",
       "      <td>5/7</td>\n",
       "      <td>78.0</td>\n",
       "      <td>270.0</td>\n",
       "      <td>48.0</td>\n",
       "      <td>93.0</td>\n",
       "      <td>111.0</td>\n",
       "      <td>4.0</td>\n",
       "      <td>0.0</td>\n",
       "      <td>1.0</td>\n",
       "      <td>0.0</td>\n",
       "      <td>0.0</td>\n",
       "      <td>1.0</td>\n",
       "      <td>62.0</td>\n",
       "    </tr>\n",
       "    <tr>\n",
       "      <th>25</th>\n",
       "      <td>26</td>\n",
       "      <td>Reverse</td>\n",
       "      <td>2</td>\n",
       "      <td>5/7</td>\n",
       "      <td>4/6</td>\n",
       "      <td>4/6</td>\n",
       "      <td>5/7</td>\n",
       "      <td>81.0</td>\n",
       "      <td>273.0</td>\n",
       "      <td>45.0</td>\n",
       "      <td>90.0</td>\n",
       "      <td>108.0</td>\n",
       "      <td>4.0</td>\n",
       "      <td>0.0</td>\n",
       "      <td>1.0</td>\n",
       "      <td>0.0</td>\n",
       "      <td>0.0</td>\n",
       "      <td>1.0</td>\n",
       "      <td>62.0</td>\n",
       "    </tr>\n",
       "    <tr>\n",
       "      <th>26</th>\n",
       "      <td>27</td>\n",
       "      <td>Reverse</td>\n",
       "      <td>2</td>\n",
       "      <td>5/7</td>\n",
       "      <td>4/6</td>\n",
       "      <td>4/6</td>\n",
       "      <td>5/7</td>\n",
       "      <td>84.0</td>\n",
       "      <td>276.0</td>\n",
       "      <td>42.0</td>\n",
       "      <td>87.0</td>\n",
       "      <td>105.0</td>\n",
       "      <td>4.0</td>\n",
       "      <td>0.0</td>\n",
       "      <td>1.0</td>\n",
       "      <td>0.0</td>\n",
       "      <td>0.0</td>\n",
       "      <td>1.0</td>\n",
       "      <td>61.5</td>\n",
       "    </tr>\n",
       "    <tr>\n",
       "      <th>27</th>\n",
       "      <td>28</td>\n",
       "      <td>Reverse</td>\n",
       "      <td>2</td>\n",
       "      <td>5/7</td>\n",
       "      <td>4/6</td>\n",
       "      <td>4/6</td>\n",
       "      <td>5/7</td>\n",
       "      <td>87.0</td>\n",
       "      <td>279.0</td>\n",
       "      <td>39.0</td>\n",
       "      <td>102.0</td>\n",
       "      <td>84.0</td>\n",
       "      <td>4.0</td>\n",
       "      <td>0.0</td>\n",
       "      <td>1.0</td>\n",
       "      <td>0.0</td>\n",
       "      <td>0.0</td>\n",
       "      <td>1.0</td>\n",
       "      <td>61.5</td>\n",
       "    </tr>\n",
       "    <tr>\n",
       "      <th>28</th>\n",
       "      <td>29</td>\n",
       "      <td>Reverse</td>\n",
       "      <td>2</td>\n",
       "      <td>5/7</td>\n",
       "      <td>4/6</td>\n",
       "      <td>4/6</td>\n",
       "      <td>5/7</td>\n",
       "      <td>90.0</td>\n",
       "      <td>282.0</td>\n",
       "      <td>36.0</td>\n",
       "      <td>99.0</td>\n",
       "      <td>81.0</td>\n",
       "      <td>5.0</td>\n",
       "      <td>1.0</td>\n",
       "      <td>1.0</td>\n",
       "      <td>0.0</td>\n",
       "      <td>0.0</td>\n",
       "      <td>1.0</td>\n",
       "      <td>62.0</td>\n",
       "    </tr>\n",
       "    <tr>\n",
       "      <th>29</th>\n",
       "      <td>30</td>\n",
       "      <td>Reverse</td>\n",
       "      <td>2</td>\n",
       "      <td>5/7</td>\n",
       "      <td>4/6</td>\n",
       "      <td>4/6</td>\n",
       "      <td>5/7</td>\n",
       "      <td>93.0</td>\n",
       "      <td>285.0</td>\n",
       "      <td>33.0</td>\n",
       "      <td>96.0</td>\n",
       "      <td>78.0</td>\n",
       "      <td>5.0</td>\n",
       "      <td>1.0</td>\n",
       "      <td>1.0</td>\n",
       "      <td>0.0</td>\n",
       "      <td>0.0</td>\n",
       "      <td>1.0</td>\n",
       "      <td>62.0</td>\n",
       "    </tr>\n",
       "    <tr>\n",
       "      <th>30</th>\n",
       "      <td>31</td>\n",
       "      <td>Reverse</td>\n",
       "      <td>2</td>\n",
       "      <td>5/7</td>\n",
       "      <td>4/6</td>\n",
       "      <td>4/6</td>\n",
       "      <td>5/7</td>\n",
       "      <td>96.0</td>\n",
       "      <td>288.0</td>\n",
       "      <td>30.0</td>\n",
       "      <td>93.0</td>\n",
       "      <td>75.0</td>\n",
       "      <td>5.0</td>\n",
       "      <td>1.0</td>\n",
       "      <td>1.0</td>\n",
       "      <td>0.0</td>\n",
       "      <td>0.0</td>\n",
       "      <td>1.0</td>\n",
       "      <td>61.5</td>\n",
       "    </tr>\n",
       "    <tr>\n",
       "      <th>31</th>\n",
       "      <td>32</td>\n",
       "      <td>Reverse</td>\n",
       "      <td>2</td>\n",
       "      <td>5/7</td>\n",
       "      <td>4/6</td>\n",
       "      <td>4/6</td>\n",
       "      <td>5/7</td>\n",
       "      <td>99.0</td>\n",
       "      <td>291.0</td>\n",
       "      <td>27.0</td>\n",
       "      <td>90.0</td>\n",
       "      <td>72.0</td>\n",
       "      <td>5.0</td>\n",
       "      <td>1.0</td>\n",
       "      <td>1.0</td>\n",
       "      <td>0.0</td>\n",
       "      <td>0.0</td>\n",
       "      <td>1.0</td>\n",
       "      <td>61.5</td>\n",
       "    </tr>\n",
       "    <tr>\n",
       "      <th>32</th>\n",
       "      <td>33</td>\n",
       "      <td>Reverse</td>\n",
       "      <td>2</td>\n",
       "      <td>5/7</td>\n",
       "      <td>4/6</td>\n",
       "      <td>4/6</td>\n",
       "      <td>5/7</td>\n",
       "      <td>102.0</td>\n",
       "      <td>294.0</td>\n",
       "      <td>24.0</td>\n",
       "      <td>87.0</td>\n",
       "      <td>69.0</td>\n",
       "      <td>5.0</td>\n",
       "      <td>1.0</td>\n",
       "      <td>1.0</td>\n",
       "      <td>0.0</td>\n",
       "      <td>0.0</td>\n",
       "      <td>1.0</td>\n",
       "      <td>61.5</td>\n",
       "    </tr>\n",
       "    <tr>\n",
       "      <th>33</th>\n",
       "      <td>34</td>\n",
       "      <td>Reverse</td>\n",
       "      <td>2</td>\n",
       "      <td>5/7</td>\n",
       "      <td>4/6</td>\n",
       "      <td>4/6</td>\n",
       "      <td>5/7</td>\n",
       "      <td>105.0</td>\n",
       "      <td>297.0</td>\n",
       "      <td>21.0</td>\n",
       "      <td>84.0</td>\n",
       "      <td>66.0</td>\n",
       "      <td>5.0</td>\n",
       "      <td>1.0</td>\n",
       "      <td>1.0</td>\n",
       "      <td>0.0</td>\n",
       "      <td>0.0</td>\n",
       "      <td>1.0</td>\n",
       "      <td>61.5</td>\n",
       "    </tr>\n",
       "    <tr>\n",
       "      <th>34</th>\n",
       "      <td>35</td>\n",
       "      <td>Reverse</td>\n",
       "      <td>2</td>\n",
       "      <td>5/7</td>\n",
       "      <td>4/6</td>\n",
       "      <td>4/6</td>\n",
       "      <td>5/7</td>\n",
       "      <td>108.0</td>\n",
       "      <td>300.0</td>\n",
       "      <td>18.0</td>\n",
       "      <td>81.0</td>\n",
       "      <td>63.0</td>\n",
       "      <td>5.0</td>\n",
       "      <td>1.0</td>\n",
       "      <td>1.0</td>\n",
       "      <td>0.0</td>\n",
       "      <td>0.0</td>\n",
       "      <td>1.0</td>\n",
       "      <td>61.5</td>\n",
       "    </tr>\n",
       "    <tr>\n",
       "      <th>35</th>\n",
       "      <td>36</td>\n",
       "      <td>Reverse</td>\n",
       "      <td>2</td>\n",
       "      <td>5/7</td>\n",
       "      <td>4/6</td>\n",
       "      <td>4/6</td>\n",
       "      <td>5/7</td>\n",
       "      <td>111.0</td>\n",
       "      <td>303.0</td>\n",
       "      <td>15.0</td>\n",
       "      <td>78.0</td>\n",
       "      <td>60.0</td>\n",
       "      <td>5.0</td>\n",
       "      <td>1.0</td>\n",
       "      <td>1.0</td>\n",
       "      <td>0.0</td>\n",
       "      <td>0.0</td>\n",
       "      <td>1.0</td>\n",
       "      <td>60.9</td>\n",
       "    </tr>\n",
       "    <tr>\n",
       "      <th>36</th>\n",
       "      <td>37</td>\n",
       "      <td>Reverse</td>\n",
       "      <td>2</td>\n",
       "      <td>5/7</td>\n",
       "      <td>4/6</td>\n",
       "      <td>4/6</td>\n",
       "      <td>5/7</td>\n",
       "      <td>114.0</td>\n",
       "      <td>306.0</td>\n",
       "      <td>12.0</td>\n",
       "      <td>75.0</td>\n",
       "      <td>57.0</td>\n",
       "      <td>5.0</td>\n",
       "      <td>1.0</td>\n",
       "      <td>1.0</td>\n",
       "      <td>0.0</td>\n",
       "      <td>0.0</td>\n",
       "      <td>1.0</td>\n",
       "      <td>62.0</td>\n",
       "    </tr>\n",
       "    <tr>\n",
       "      <th>37</th>\n",
       "      <td>38</td>\n",
       "      <td>Reverse</td>\n",
       "      <td>2</td>\n",
       "      <td>5/7</td>\n",
       "      <td>4/6</td>\n",
       "      <td>4/6</td>\n",
       "      <td>5/7</td>\n",
       "      <td>117.0</td>\n",
       "      <td>309.0</td>\n",
       "      <td>9.0</td>\n",
       "      <td>72.0</td>\n",
       "      <td>54.0</td>\n",
       "      <td>5.0</td>\n",
       "      <td>1.0</td>\n",
       "      <td>1.0</td>\n",
       "      <td>0.0</td>\n",
       "      <td>0.0</td>\n",
       "      <td>1.0</td>\n",
       "      <td>61.5</td>\n",
       "    </tr>\n",
       "    <tr>\n",
       "      <th>38</th>\n",
       "      <td>39</td>\n",
       "      <td>Reverse</td>\n",
       "      <td>2</td>\n",
       "      <td>5/7</td>\n",
       "      <td>4/6</td>\n",
       "      <td>4/6</td>\n",
       "      <td>5/7</td>\n",
       "      <td>120.0</td>\n",
       "      <td>312.0</td>\n",
       "      <td>6.0</td>\n",
       "      <td>69.0</td>\n",
       "      <td>51.0</td>\n",
       "      <td>5.0</td>\n",
       "      <td>1.0</td>\n",
       "      <td>1.0</td>\n",
       "      <td>0.0</td>\n",
       "      <td>0.0</td>\n",
       "      <td>1.0</td>\n",
       "      <td>62.0</td>\n",
       "    </tr>\n",
       "    <tr>\n",
       "      <th>39</th>\n",
       "      <td>40</td>\n",
       "      <td>Reverse</td>\n",
       "      <td>2</td>\n",
       "      <td>5/7</td>\n",
       "      <td>4/6</td>\n",
       "      <td>4/6</td>\n",
       "      <td>5/7</td>\n",
       "      <td>123.0</td>\n",
       "      <td>315.0</td>\n",
       "      <td>3.0</td>\n",
       "      <td>66.0</td>\n",
       "      <td>48.0</td>\n",
       "      <td>5.0</td>\n",
       "      <td>1.0</td>\n",
       "      <td>1.0</td>\n",
       "      <td>0.0</td>\n",
       "      <td>0.0</td>\n",
       "      <td>1.0</td>\n",
       "      <td>62.5</td>\n",
       "    </tr>\n",
       "    <tr>\n",
       "      <th>40</th>\n",
       "      <td>41</td>\n",
       "      <td>Reverse</td>\n",
       "      <td>2</td>\n",
       "      <td>5/7</td>\n",
       "      <td>4/6</td>\n",
       "      <td>4/6</td>\n",
       "      <td>5/7</td>\n",
       "      <td>126.0</td>\n",
       "      <td>318.0</td>\n",
       "      <td>0.0</td>\n",
       "      <td>63.0</td>\n",
       "      <td>45.0</td>\n",
       "      <td>5.0</td>\n",
       "      <td>1.0</td>\n",
       "      <td>1.0</td>\n",
       "      <td>0.0</td>\n",
       "      <td>0.0</td>\n",
       "      <td>1.0</td>\n",
       "      <td>62.0</td>\n",
       "    </tr>\n",
       "    <tr>\n",
       "      <th>41</th>\n",
       "      <td>42</td>\n",
       "      <td>Reverse</td>\n",
       "      <td>2</td>\n",
       "      <td>5/7</td>\n",
       "      <td>4/6</td>\n",
       "      <td>4/6</td>\n",
       "      <td>5/7</td>\n",
       "      <td>129.0</td>\n",
       "      <td>321.0</td>\n",
       "      <td>18.0</td>\n",
       "      <td>60.0</td>\n",
       "      <td>42.0</td>\n",
       "      <td>4.0</td>\n",
       "      <td>1.0</td>\n",
       "      <td>1.0</td>\n",
       "      <td>0.0</td>\n",
       "      <td>0.0</td>\n",
       "      <td>1.0</td>\n",
       "      <td>62.0</td>\n",
       "    </tr>\n",
       "    <tr>\n",
       "      <th>0</th>\n",
       "      <td>43</td>\n",
       "      <td>Reverse</td>\n",
       "      <td>4</td>\n",
       "      <td>4/7</td>\n",
       "      <td>4/6</td>\n",
       "      <td>4/6</td>\n",
       "      <td>4/7</td>\n",
       "      <td>2146.0</td>\n",
       "      <td>2338.0</td>\n",
       "      <td>63.0</td>\n",
       "      <td>63.0</td>\n",
       "      <td>NA</td>\n",
       "      <td>1.0</td>\n",
       "      <td>1.0</td>\n",
       "      <td>0.0</td>\n",
       "      <td>0.0</td>\n",
       "      <td>0.0</td>\n",
       "      <td>1.0</td>\n",
       "      <td>62.5</td>\n",
       "    </tr>\n",
       "    <tr>\n",
       "      <th>1</th>\n",
       "      <td>44</td>\n",
       "      <td>Reverse</td>\n",
       "      <td>4</td>\n",
       "      <td>4/7</td>\n",
       "      <td>4/6</td>\n",
       "      <td>4/6</td>\n",
       "      <td>4/7</td>\n",
       "      <td>2149.0</td>\n",
       "      <td>2341.0</td>\n",
       "      <td>60.0</td>\n",
       "      <td>60.0</td>\n",
       "      <td>NA</td>\n",
       "      <td>1.0</td>\n",
       "      <td>1.0</td>\n",
       "      <td>0.0</td>\n",
       "      <td>0.0</td>\n",
       "      <td>0.0</td>\n",
       "      <td>1.0</td>\n",
       "      <td>62.5</td>\n",
       "    </tr>\n",
       "    <tr>\n",
       "      <th>2</th>\n",
       "      <td>45</td>\n",
       "      <td>Reverse</td>\n",
       "      <td>4</td>\n",
       "      <td>4/7</td>\n",
       "      <td>4/6</td>\n",
       "      <td>4/6</td>\n",
       "      <td>4/7</td>\n",
       "      <td>2152.0</td>\n",
       "      <td>2344.0</td>\n",
       "      <td>57.0</td>\n",
       "      <td>57.0</td>\n",
       "      <td>NA</td>\n",
       "      <td>1.0</td>\n",
       "      <td>1.0</td>\n",
       "      <td>0.0</td>\n",
       "      <td>0.0</td>\n",
       "      <td>0.0</td>\n",
       "      <td>1.0</td>\n",
       "      <td>63.5</td>\n",
       "    </tr>\n",
       "    <tr>\n",
       "      <th>3</th>\n",
       "      <td>46</td>\n",
       "      <td>Reverse</td>\n",
       "      <td>4</td>\n",
       "      <td>4/7</td>\n",
       "      <td>4/6</td>\n",
       "      <td>4/6</td>\n",
       "      <td>4/7</td>\n",
       "      <td>2227.0</td>\n",
       "      <td>2419.0</td>\n",
       "      <td>135.0</td>\n",
       "      <td>135.0</td>\n",
       "      <td>NA</td>\n",
       "      <td>1.0</td>\n",
       "      <td>0.0</td>\n",
       "      <td>1.0</td>\n",
       "      <td>0.0</td>\n",
       "      <td>0.0</td>\n",
       "      <td>1.0</td>\n",
       "      <td>63.5</td>\n",
       "    </tr>\n",
       "    <tr>\n",
       "      <th>4</th>\n",
       "      <td>47</td>\n",
       "      <td>Reverse</td>\n",
       "      <td>4</td>\n",
       "      <td>4/7</td>\n",
       "      <td>4/6</td>\n",
       "      <td>4/6</td>\n",
       "      <td>4/7</td>\n",
       "      <td>2230.0</td>\n",
       "      <td>2422.0</td>\n",
       "      <td>132.0</td>\n",
       "      <td>132.0</td>\n",
       "      <td>NA</td>\n",
       "      <td>1.0</td>\n",
       "      <td>0.0</td>\n",
       "      <td>1.0</td>\n",
       "      <td>0.0</td>\n",
       "      <td>0.0</td>\n",
       "      <td>1.0</td>\n",
       "      <td>62.5</td>\n",
       "    </tr>\n",
       "    <tr>\n",
       "      <th>5</th>\n",
       "      <td>48</td>\n",
       "      <td>Reverse</td>\n",
       "      <td>4</td>\n",
       "      <td>4/7</td>\n",
       "      <td>4/6</td>\n",
       "      <td>4/6</td>\n",
       "      <td>4/7</td>\n",
       "      <td>2233.0</td>\n",
       "      <td>2425.0</td>\n",
       "      <td>129.0</td>\n",
       "      <td>129.0</td>\n",
       "      <td>NA</td>\n",
       "      <td>1.0</td>\n",
       "      <td>0.0</td>\n",
       "      <td>1.0</td>\n",
       "      <td>0.0</td>\n",
       "      <td>0.0</td>\n",
       "      <td>1.0</td>\n",
       "      <td>63.0</td>\n",
       "    </tr>\n",
       "    <tr>\n",
       "      <th>6</th>\n",
       "      <td>49</td>\n",
       "      <td>Reverse</td>\n",
       "      <td>4</td>\n",
       "      <td>4/7</td>\n",
       "      <td>4/6</td>\n",
       "      <td>4/6</td>\n",
       "      <td>4/7</td>\n",
       "      <td>2236.0</td>\n",
       "      <td>2428.0</td>\n",
       "      <td>126.0</td>\n",
       "      <td>126.0</td>\n",
       "      <td>NA</td>\n",
       "      <td>1.0</td>\n",
       "      <td>0.0</td>\n",
       "      <td>1.0</td>\n",
       "      <td>0.0</td>\n",
       "      <td>0.0</td>\n",
       "      <td>1.0</td>\n",
       "      <td>62.5</td>\n",
       "    </tr>\n",
       "    <tr>\n",
       "      <th>7</th>\n",
       "      <td>50</td>\n",
       "      <td>Reverse</td>\n",
       "      <td>4</td>\n",
       "      <td>4/7</td>\n",
       "      <td>4/6</td>\n",
       "      <td>4/6</td>\n",
       "      <td>4/7</td>\n",
       "      <td>2239.0</td>\n",
       "      <td>2431.0</td>\n",
       "      <td>123.0</td>\n",
       "      <td>123.0</td>\n",
       "      <td>NA</td>\n",
       "      <td>1.0</td>\n",
       "      <td>0.0</td>\n",
       "      <td>1.0</td>\n",
       "      <td>0.0</td>\n",
       "      <td>0.0</td>\n",
       "      <td>1.0</td>\n",
       "      <td>61.5</td>\n",
       "    </tr>\n",
       "    <tr>\n",
       "      <th>8</th>\n",
       "      <td>51</td>\n",
       "      <td>Reverse</td>\n",
       "      <td>4</td>\n",
       "      <td>4/7</td>\n",
       "      <td>4/6</td>\n",
       "      <td>4/6</td>\n",
       "      <td>4/7</td>\n",
       "      <td>2242.0</td>\n",
       "      <td>2434.0</td>\n",
       "      <td>120.0</td>\n",
       "      <td>120.0</td>\n",
       "      <td>NA</td>\n",
       "      <td>1.0</td>\n",
       "      <td>0.0</td>\n",
       "      <td>1.0</td>\n",
       "      <td>0.0</td>\n",
       "      <td>0.0</td>\n",
       "      <td>1.0</td>\n",
       "      <td>61.5</td>\n",
       "    </tr>\n",
       "    <tr>\n",
       "      <th>9</th>\n",
       "      <td>52</td>\n",
       "      <td>Reverse</td>\n",
       "      <td>4</td>\n",
       "      <td>4/7</td>\n",
       "      <td>4/6</td>\n",
       "      <td>4/6</td>\n",
       "      <td>4/7</td>\n",
       "      <td>2244.0</td>\n",
       "      <td>2436.0</td>\n",
       "      <td>135.0</td>\n",
       "      <td>135.0</td>\n",
       "      <td>138</td>\n",
       "      <td>2.0</td>\n",
       "      <td>0.0</td>\n",
       "      <td>1.0</td>\n",
       "      <td>0.0</td>\n",
       "      <td>0.0</td>\n",
       "      <td>1.0</td>\n",
       "      <td>62.0</td>\n",
       "    </tr>\n",
       "    <tr>\n",
       "      <th>10</th>\n",
       "      <td>53</td>\n",
       "      <td>Reverse</td>\n",
       "      <td>4</td>\n",
       "      <td>4/7</td>\n",
       "      <td>4/6</td>\n",
       "      <td>4/6</td>\n",
       "      <td>4/7</td>\n",
       "      <td>2245.0</td>\n",
       "      <td>2437.0</td>\n",
       "      <td>117.0</td>\n",
       "      <td>117.0</td>\n",
       "      <td>NA</td>\n",
       "      <td>1.0</td>\n",
       "      <td>0.0</td>\n",
       "      <td>1.0</td>\n",
       "      <td>0.0</td>\n",
       "      <td>0.0</td>\n",
       "      <td>1.0</td>\n",
       "      <td>61.5</td>\n",
       "    </tr>\n",
       "    <tr>\n",
       "      <th>11</th>\n",
       "      <td>54</td>\n",
       "      <td>Reverse</td>\n",
       "      <td>4</td>\n",
       "      <td>4/7</td>\n",
       "      <td>4/6</td>\n",
       "      <td>4/6</td>\n",
       "      <td>4/7</td>\n",
       "      <td>2247.0</td>\n",
       "      <td>2439.0</td>\n",
       "      <td>132.0</td>\n",
       "      <td>132.0</td>\n",
       "      <td>135</td>\n",
       "      <td>3.0</td>\n",
       "      <td>0.0</td>\n",
       "      <td>1.0</td>\n",
       "      <td>0.0</td>\n",
       "      <td>0.0</td>\n",
       "      <td>1.0</td>\n",
       "      <td>62.0</td>\n",
       "    </tr>\n",
       "    <tr>\n",
       "      <th>12</th>\n",
       "      <td>55</td>\n",
       "      <td>Reverse</td>\n",
       "      <td>4</td>\n",
       "      <td>4/7</td>\n",
       "      <td>4/6</td>\n",
       "      <td>4/6</td>\n",
       "      <td>4/7</td>\n",
       "      <td>2248.0</td>\n",
       "      <td>2440.0</td>\n",
       "      <td>114.0</td>\n",
       "      <td>114.0</td>\n",
       "      <td>NA</td>\n",
       "      <td>1.0</td>\n",
       "      <td>0.0</td>\n",
       "      <td>1.0</td>\n",
       "      <td>0.0</td>\n",
       "      <td>0.0</td>\n",
       "      <td>1.0</td>\n",
       "      <td>62.0</td>\n",
       "    </tr>\n",
       "    <tr>\n",
       "      <th>13</th>\n",
       "      <td>56</td>\n",
       "      <td>Reverse</td>\n",
       "      <td>4</td>\n",
       "      <td>4/7</td>\n",
       "      <td>4/6</td>\n",
       "      <td>4/6</td>\n",
       "      <td>4/7</td>\n",
       "      <td>2250.0</td>\n",
       "      <td>2442.0</td>\n",
       "      <td>129.0</td>\n",
       "      <td>129.0</td>\n",
       "      <td>132</td>\n",
       "      <td>3.0</td>\n",
       "      <td>0.0</td>\n",
       "      <td>1.0</td>\n",
       "      <td>0.0</td>\n",
       "      <td>0.0</td>\n",
       "      <td>1.0</td>\n",
       "      <td>61.5</td>\n",
       "    </tr>\n",
       "    <tr>\n",
       "      <th>14</th>\n",
       "      <td>57</td>\n",
       "      <td>Reverse</td>\n",
       "      <td>4</td>\n",
       "      <td>4/7</td>\n",
       "      <td>4/6</td>\n",
       "      <td>4/6</td>\n",
       "      <td>4/7</td>\n",
       "      <td>2251.0</td>\n",
       "      <td>2443.0</td>\n",
       "      <td>111.0</td>\n",
       "      <td>111.0</td>\n",
       "      <td>NA</td>\n",
       "      <td>1.0</td>\n",
       "      <td>0.0</td>\n",
       "      <td>1.0</td>\n",
       "      <td>0.0</td>\n",
       "      <td>0.0</td>\n",
       "      <td>1.0</td>\n",
       "      <td>61.5</td>\n",
       "    </tr>\n",
       "    <tr>\n",
       "      <th>15</th>\n",
       "      <td>58</td>\n",
       "      <td>Reverse</td>\n",
       "      <td>4</td>\n",
       "      <td>4/7</td>\n",
       "      <td>4/6</td>\n",
       "      <td>4/6</td>\n",
       "      <td>4/7</td>\n",
       "      <td>2253.0</td>\n",
       "      <td>2445.0</td>\n",
       "      <td>126.0</td>\n",
       "      <td>126.0</td>\n",
       "      <td>129</td>\n",
       "      <td>3.0</td>\n",
       "      <td>0.0</td>\n",
       "      <td>1.0</td>\n",
       "      <td>0.0</td>\n",
       "      <td>0.0</td>\n",
       "      <td>1.0</td>\n",
       "      <td>62.0</td>\n",
       "    </tr>\n",
       "    <tr>\n",
       "      <th>16</th>\n",
       "      <td>59</td>\n",
       "      <td>Reverse</td>\n",
       "      <td>4</td>\n",
       "      <td>4/7</td>\n",
       "      <td>4/6</td>\n",
       "      <td>4/6</td>\n",
       "      <td>4/7</td>\n",
       "      <td>2254.0</td>\n",
       "      <td>2446.0</td>\n",
       "      <td>108.0</td>\n",
       "      <td>108.0</td>\n",
       "      <td>NA</td>\n",
       "      <td>1.0</td>\n",
       "      <td>0.0</td>\n",
       "      <td>1.0</td>\n",
       "      <td>0.0</td>\n",
       "      <td>0.0</td>\n",
       "      <td>1.0</td>\n",
       "      <td>61.5</td>\n",
       "    </tr>\n",
       "    <tr>\n",
       "      <th>17</th>\n",
       "      <td>60</td>\n",
       "      <td>Reverse</td>\n",
       "      <td>4</td>\n",
       "      <td>4/7</td>\n",
       "      <td>4/6</td>\n",
       "      <td>4/6</td>\n",
       "      <td>4/7</td>\n",
       "      <td>2256.0</td>\n",
       "      <td>2448.0</td>\n",
       "      <td>123.0</td>\n",
       "      <td>123.0</td>\n",
       "      <td>126</td>\n",
       "      <td>3.0</td>\n",
       "      <td>0.0</td>\n",
       "      <td>1.0</td>\n",
       "      <td>0.0</td>\n",
       "      <td>0.0</td>\n",
       "      <td>1.0</td>\n",
       "      <td>61.5</td>\n",
       "    </tr>\n",
       "    <tr>\n",
       "      <th>18</th>\n",
       "      <td>61</td>\n",
       "      <td>Reverse</td>\n",
       "      <td>4</td>\n",
       "      <td>4/7</td>\n",
       "      <td>4/6</td>\n",
       "      <td>4/6</td>\n",
       "      <td>4/7</td>\n",
       "      <td>2257.0</td>\n",
       "      <td>2449.0</td>\n",
       "      <td>105.0</td>\n",
       "      <td>105.0</td>\n",
       "      <td>NA</td>\n",
       "      <td>1.0</td>\n",
       "      <td>0.0</td>\n",
       "      <td>1.0</td>\n",
       "      <td>0.0</td>\n",
       "      <td>0.0</td>\n",
       "      <td>1.0</td>\n",
       "      <td>61.5</td>\n",
       "    </tr>\n",
       "    <tr>\n",
       "      <th>19</th>\n",
       "      <td>62</td>\n",
       "      <td>Reverse</td>\n",
       "      <td>4</td>\n",
       "      <td>4/7</td>\n",
       "      <td>4/6</td>\n",
       "      <td>4/6</td>\n",
       "      <td>4/7</td>\n",
       "      <td>2259.0</td>\n",
       "      <td>2451.0</td>\n",
       "      <td>120.0</td>\n",
       "      <td>120.0</td>\n",
       "      <td>123</td>\n",
       "      <td>3.0</td>\n",
       "      <td>0.0</td>\n",
       "      <td>1.0</td>\n",
       "      <td>0.0</td>\n",
       "      <td>0.0</td>\n",
       "      <td>1.0</td>\n",
       "      <td>61.5</td>\n",
       "    </tr>\n",
       "    <tr>\n",
       "      <th>20</th>\n",
       "      <td>63</td>\n",
       "      <td>Reverse</td>\n",
       "      <td>4</td>\n",
       "      <td>4/7</td>\n",
       "      <td>4/6</td>\n",
       "      <td>4/6</td>\n",
       "      <td>4/7</td>\n",
       "      <td>2260.0</td>\n",
       "      <td>2452.0</td>\n",
       "      <td>102.0</td>\n",
       "      <td>102.0</td>\n",
       "      <td>NA</td>\n",
       "      <td>1.0</td>\n",
       "      <td>0.0</td>\n",
       "      <td>1.0</td>\n",
       "      <td>0.0</td>\n",
       "      <td>0.0</td>\n",
       "      <td>1.0</td>\n",
       "      <td>62.0</td>\n",
       "    </tr>\n",
       "    <tr>\n",
       "      <th>21</th>\n",
       "      <td>64</td>\n",
       "      <td>Reverse</td>\n",
       "      <td>4</td>\n",
       "      <td>4/7</td>\n",
       "      <td>4/6</td>\n",
       "      <td>4/6</td>\n",
       "      <td>4/7</td>\n",
       "      <td>2262.0</td>\n",
       "      <td>2454.0</td>\n",
       "      <td>117.0</td>\n",
       "      <td>117.0</td>\n",
       "      <td>120</td>\n",
       "      <td>3.0</td>\n",
       "      <td>0.0</td>\n",
       "      <td>1.0</td>\n",
       "      <td>0.0</td>\n",
       "      <td>0.0</td>\n",
       "      <td>1.0</td>\n",
       "      <td>62.0</td>\n",
       "    </tr>\n",
       "    <tr>\n",
       "      <th>22</th>\n",
       "      <td>65</td>\n",
       "      <td>Reverse</td>\n",
       "      <td>4</td>\n",
       "      <td>4/7</td>\n",
       "      <td>4/6</td>\n",
       "      <td>4/6</td>\n",
       "      <td>4/7</td>\n",
       "      <td>2263.0</td>\n",
       "      <td>2455.0</td>\n",
       "      <td>99.0</td>\n",
       "      <td>99.0</td>\n",
       "      <td>NA</td>\n",
       "      <td>1.0</td>\n",
       "      <td>0.0</td>\n",
       "      <td>1.0</td>\n",
       "      <td>0.0</td>\n",
       "      <td>0.0</td>\n",
       "      <td>1.0</td>\n",
       "      <td>62.0</td>\n",
       "    </tr>\n",
       "    <tr>\n",
       "      <th>23</th>\n",
       "      <td>66</td>\n",
       "      <td>Reverse</td>\n",
       "      <td>4</td>\n",
       "      <td>4/7</td>\n",
       "      <td>4/6</td>\n",
       "      <td>4/6</td>\n",
       "      <td>4/7</td>\n",
       "      <td>2265.0</td>\n",
       "      <td>2457.0</td>\n",
       "      <td>114.0</td>\n",
       "      <td>114.0</td>\n",
       "      <td>117</td>\n",
       "      <td>3.0</td>\n",
       "      <td>0.0</td>\n",
       "      <td>1.0</td>\n",
       "      <td>0.0</td>\n",
       "      <td>0.0</td>\n",
       "      <td>1.0</td>\n",
       "      <td>63.0</td>\n",
       "    </tr>\n",
       "    <tr>\n",
       "      <th>24</th>\n",
       "      <td>67</td>\n",
       "      <td>Reverse</td>\n",
       "      <td>4</td>\n",
       "      <td>4/7</td>\n",
       "      <td>4/6</td>\n",
       "      <td>4/6</td>\n",
       "      <td>4/7</td>\n",
       "      <td>2266.0</td>\n",
       "      <td>2458.0</td>\n",
       "      <td>96.0</td>\n",
       "      <td>96.0</td>\n",
       "      <td>NA</td>\n",
       "      <td>1.0</td>\n",
       "      <td>0.0</td>\n",
       "      <td>1.0</td>\n",
       "      <td>0.0</td>\n",
       "      <td>0.0</td>\n",
       "      <td>1.0</td>\n",
       "      <td>63.0</td>\n",
       "    </tr>\n",
       "    <tr>\n",
       "      <th>25</th>\n",
       "      <td>68</td>\n",
       "      <td>Reverse</td>\n",
       "      <td>4</td>\n",
       "      <td>4/7</td>\n",
       "      <td>4/6</td>\n",
       "      <td>4/6</td>\n",
       "      <td>4/7</td>\n",
       "      <td>2268.0</td>\n",
       "      <td>2460.0</td>\n",
       "      <td>111.0</td>\n",
       "      <td>111.0</td>\n",
       "      <td>114</td>\n",
       "      <td>3.0</td>\n",
       "      <td>0.0</td>\n",
       "      <td>1.0</td>\n",
       "      <td>0.0</td>\n",
       "      <td>0.0</td>\n",
       "      <td>1.0</td>\n",
       "      <td>63.0</td>\n",
       "    </tr>\n",
       "    <tr>\n",
       "      <th>26</th>\n",
       "      <td>69</td>\n",
       "      <td>Reverse</td>\n",
       "      <td>4</td>\n",
       "      <td>4/7</td>\n",
       "      <td>4/6</td>\n",
       "      <td>4/6</td>\n",
       "      <td>4/7</td>\n",
       "      <td>2269.0</td>\n",
       "      <td>2461.0</td>\n",
       "      <td>93.0</td>\n",
       "      <td>93.0</td>\n",
       "      <td>NA</td>\n",
       "      <td>1.0</td>\n",
       "      <td>0.0</td>\n",
       "      <td>1.0</td>\n",
       "      <td>0.0</td>\n",
       "      <td>0.0</td>\n",
       "      <td>1.0</td>\n",
       "      <td>63.5</td>\n",
       "    </tr>\n",
       "    <tr>\n",
       "      <th>27</th>\n",
       "      <td>70</td>\n",
       "      <td>Reverse</td>\n",
       "      <td>4</td>\n",
       "      <td>4/7</td>\n",
       "      <td>4/6</td>\n",
       "      <td>4/6</td>\n",
       "      <td>4/7</td>\n",
       "      <td>2271.0</td>\n",
       "      <td>2463.0</td>\n",
       "      <td>108.0</td>\n",
       "      <td>108.0</td>\n",
       "      <td>111</td>\n",
       "      <td>3.0</td>\n",
       "      <td>0.0</td>\n",
       "      <td>1.0</td>\n",
       "      <td>0.0</td>\n",
       "      <td>0.0</td>\n",
       "      <td>1.0</td>\n",
       "      <td>63.5</td>\n",
       "    </tr>\n",
       "    <tr>\n",
       "      <th>28</th>\n",
       "      <td>71</td>\n",
       "      <td>Reverse</td>\n",
       "      <td>4</td>\n",
       "      <td>4/7</td>\n",
       "      <td>4/6</td>\n",
       "      <td>4/6</td>\n",
       "      <td>4/7</td>\n",
       "      <td>2272.0</td>\n",
       "      <td>2464.0</td>\n",
       "      <td>90.0</td>\n",
       "      <td>90.0</td>\n",
       "      <td>NA</td>\n",
       "      <td>1.0</td>\n",
       "      <td>0.0</td>\n",
       "      <td>1.0</td>\n",
       "      <td>0.0</td>\n",
       "      <td>0.0</td>\n",
       "      <td>1.0</td>\n",
       "      <td>63.5</td>\n",
       "    </tr>\n",
       "    <tr>\n",
       "      <th>29</th>\n",
       "      <td>72</td>\n",
       "      <td>Reverse</td>\n",
       "      <td>4</td>\n",
       "      <td>4/7</td>\n",
       "      <td>4/6</td>\n",
       "      <td>4/6</td>\n",
       "      <td>4/7</td>\n",
       "      <td>2274.0</td>\n",
       "      <td>2466.0</td>\n",
       "      <td>105.0</td>\n",
       "      <td>105.0</td>\n",
       "      <td>108</td>\n",
       "      <td>3.0</td>\n",
       "      <td>0.0</td>\n",
       "      <td>1.0</td>\n",
       "      <td>0.0</td>\n",
       "      <td>0.0</td>\n",
       "      <td>1.0</td>\n",
       "      <td>64.1</td>\n",
       "    </tr>\n",
       "    <tr>\n",
       "      <th>30</th>\n",
       "      <td>73</td>\n",
       "      <td>Reverse</td>\n",
       "      <td>4</td>\n",
       "      <td>4/7</td>\n",
       "      <td>4/6</td>\n",
       "      <td>4/6</td>\n",
       "      <td>4/7</td>\n",
       "      <td>2275.0</td>\n",
       "      <td>2467.0</td>\n",
       "      <td>87.0</td>\n",
       "      <td>87.0</td>\n",
       "      <td>NA</td>\n",
       "      <td>1.0</td>\n",
       "      <td>0.0</td>\n",
       "      <td>1.0</td>\n",
       "      <td>0.0</td>\n",
       "      <td>0.0</td>\n",
       "      <td>1.0</td>\n",
       "      <td>64.1</td>\n",
       "    </tr>\n",
       "    <tr>\n",
       "      <th>31</th>\n",
       "      <td>74</td>\n",
       "      <td>Reverse</td>\n",
       "      <td>4</td>\n",
       "      <td>4/7</td>\n",
       "      <td>4/6</td>\n",
       "      <td>4/6</td>\n",
       "      <td>4/7</td>\n",
       "      <td>2277.0</td>\n",
       "      <td>2469.0</td>\n",
       "      <td>102.0</td>\n",
       "      <td>102.0</td>\n",
       "      <td>105</td>\n",
       "      <td>4.0</td>\n",
       "      <td>0.0</td>\n",
       "      <td>1.0</td>\n",
       "      <td>0.0</td>\n",
       "      <td>0.0</td>\n",
       "      <td>1.0</td>\n",
       "      <td>64.6</td>\n",
       "    </tr>\n",
       "    <tr>\n",
       "      <th>32</th>\n",
       "      <td>75</td>\n",
       "      <td>Reverse</td>\n",
       "      <td>4</td>\n",
       "      <td>4/7</td>\n",
       "      <td>4/6</td>\n",
       "      <td>4/6</td>\n",
       "      <td>4/7</td>\n",
       "      <td>2278.0</td>\n",
       "      <td>2470.0</td>\n",
       "      <td>84.0</td>\n",
       "      <td>84.0</td>\n",
       "      <td>NA</td>\n",
       "      <td>1.0</td>\n",
       "      <td>0.0</td>\n",
       "      <td>1.0</td>\n",
       "      <td>0.0</td>\n",
       "      <td>0.0</td>\n",
       "      <td>1.0</td>\n",
       "      <td>65.1</td>\n",
       "    </tr>\n",
       "    <tr>\n",
       "      <th>33</th>\n",
       "      <td>76</td>\n",
       "      <td>Reverse</td>\n",
       "      <td>4</td>\n",
       "      <td>4/7</td>\n",
       "      <td>4/6</td>\n",
       "      <td>4/6</td>\n",
       "      <td>4/7</td>\n",
       "      <td>2280.0</td>\n",
       "      <td>2472.0</td>\n",
       "      <td>99.0</td>\n",
       "      <td>99.0</td>\n",
       "      <td>102</td>\n",
       "      <td>4.0</td>\n",
       "      <td>0.0</td>\n",
       "      <td>1.0</td>\n",
       "      <td>0.0</td>\n",
       "      <td>0.0</td>\n",
       "      <td>1.0</td>\n",
       "      <td>65.6</td>\n",
       "    </tr>\n",
       "    <tr>\n",
       "      <th>34</th>\n",
       "      <td>77</td>\n",
       "      <td>Reverse</td>\n",
       "      <td>4</td>\n",
       "      <td>4/7</td>\n",
       "      <td>4/6</td>\n",
       "      <td>4/6</td>\n",
       "      <td>4/7</td>\n",
       "      <td>2281.0</td>\n",
       "      <td>2473.0</td>\n",
       "      <td>81.0</td>\n",
       "      <td>81.0</td>\n",
       "      <td>NA</td>\n",
       "      <td>1.0</td>\n",
       "      <td>0.0</td>\n",
       "      <td>1.0</td>\n",
       "      <td>0.0</td>\n",
       "      <td>0.0</td>\n",
       "      <td>1.0</td>\n",
       "      <td>65.6</td>\n",
       "    </tr>\n",
       "    <tr>\n",
       "      <th>35</th>\n",
       "      <td>78</td>\n",
       "      <td>Reverse</td>\n",
       "      <td>4</td>\n",
       "      <td>4/7</td>\n",
       "      <td>4/6</td>\n",
       "      <td>4/6</td>\n",
       "      <td>4/7</td>\n",
       "      <td>2283.0</td>\n",
       "      <td>2475.0</td>\n",
       "      <td>96.0</td>\n",
       "      <td>96.0</td>\n",
       "      <td>99</td>\n",
       "      <td>4.0</td>\n",
       "      <td>0.0</td>\n",
       "      <td>1.0</td>\n",
       "      <td>0.0</td>\n",
       "      <td>0.0</td>\n",
       "      <td>1.0</td>\n",
       "      <td>65.6</td>\n",
       "    </tr>\n",
       "    <tr>\n",
       "      <th>36</th>\n",
       "      <td>79</td>\n",
       "      <td>Reverse</td>\n",
       "      <td>4</td>\n",
       "      <td>4/7</td>\n",
       "      <td>4/6</td>\n",
       "      <td>4/6</td>\n",
       "      <td>4/7</td>\n",
       "      <td>2284.0</td>\n",
       "      <td>2476.0</td>\n",
       "      <td>78.0</td>\n",
       "      <td>78.0</td>\n",
       "      <td>NA</td>\n",
       "      <td>1.0</td>\n",
       "      <td>0.0</td>\n",
       "      <td>1.0</td>\n",
       "      <td>0.0</td>\n",
       "      <td>0.0</td>\n",
       "      <td>1.0</td>\n",
       "      <td>65.6</td>\n",
       "    </tr>\n",
       "    <tr>\n",
       "      <th>37</th>\n",
       "      <td>80</td>\n",
       "      <td>Reverse</td>\n",
       "      <td>4</td>\n",
       "      <td>4/7</td>\n",
       "      <td>4/6</td>\n",
       "      <td>4/6</td>\n",
       "      <td>4/7</td>\n",
       "      <td>2286.0</td>\n",
       "      <td>2478.0</td>\n",
       "      <td>93.0</td>\n",
       "      <td>96.0</td>\n",
       "      <td>93</td>\n",
       "      <td>4.0</td>\n",
       "      <td>0.0</td>\n",
       "      <td>1.0</td>\n",
       "      <td>0.0</td>\n",
       "      <td>0.0</td>\n",
       "      <td>1.0</td>\n",
       "      <td>66.7</td>\n",
       "    </tr>\n",
       "    <tr>\n",
       "      <th>38</th>\n",
       "      <td>81</td>\n",
       "      <td>Reverse</td>\n",
       "      <td>4</td>\n",
       "      <td>4/7</td>\n",
       "      <td>4/6</td>\n",
       "      <td>4/6</td>\n",
       "      <td>4/7</td>\n",
       "      <td>2287.0</td>\n",
       "      <td>2479.0</td>\n",
       "      <td>75.0</td>\n",
       "      <td>75.0</td>\n",
       "      <td>NA</td>\n",
       "      <td>1.0</td>\n",
       "      <td>0.0</td>\n",
       "      <td>1.0</td>\n",
       "      <td>0.0</td>\n",
       "      <td>0.0</td>\n",
       "      <td>1.0</td>\n",
       "      <td>66.7</td>\n",
       "    </tr>\n",
       "    <tr>\n",
       "      <th>39</th>\n",
       "      <td>82</td>\n",
       "      <td>Reverse</td>\n",
       "      <td>4</td>\n",
       "      <td>4/7</td>\n",
       "      <td>4/6</td>\n",
       "      <td>4/6</td>\n",
       "      <td>4/7</td>\n",
       "      <td>2289.0</td>\n",
       "      <td>2481.0</td>\n",
       "      <td>90.0</td>\n",
       "      <td>93.0</td>\n",
       "      <td>90</td>\n",
       "      <td>4.0</td>\n",
       "      <td>0.0</td>\n",
       "      <td>1.0</td>\n",
       "      <td>0.0</td>\n",
       "      <td>0.0</td>\n",
       "      <td>1.0</td>\n",
       "      <td>66.1</td>\n",
       "    </tr>\n",
       "    <tr>\n",
       "      <th>40</th>\n",
       "      <td>83</td>\n",
       "      <td>Reverse</td>\n",
       "      <td>4</td>\n",
       "      <td>4/7</td>\n",
       "      <td>4/6</td>\n",
       "      <td>4/6</td>\n",
       "      <td>4/7</td>\n",
       "      <td>2290.0</td>\n",
       "      <td>2482.0</td>\n",
       "      <td>72.0</td>\n",
       "      <td>72.0</td>\n",
       "      <td>NA</td>\n",
       "      <td>1.0</td>\n",
       "      <td>0.0</td>\n",
       "      <td>1.0</td>\n",
       "      <td>0.0</td>\n",
       "      <td>0.0</td>\n",
       "      <td>1.0</td>\n",
       "      <td>65.6</td>\n",
       "    </tr>\n",
       "    <tr>\n",
       "      <th>41</th>\n",
       "      <td>84</td>\n",
       "      <td>Reverse</td>\n",
       "      <td>4</td>\n",
       "      <td>4/7</td>\n",
       "      <td>4/6</td>\n",
       "      <td>4/6</td>\n",
       "      <td>4/7</td>\n",
       "      <td>2292.0</td>\n",
       "      <td>2484.0</td>\n",
       "      <td>87.0</td>\n",
       "      <td>90.0</td>\n",
       "      <td>87</td>\n",
       "      <td>4.0</td>\n",
       "      <td>0.0</td>\n",
       "      <td>1.0</td>\n",
       "      <td>0.0</td>\n",
       "      <td>0.0</td>\n",
       "      <td>1.0</td>\n",
       "      <td>65.6</td>\n",
       "    </tr>\n",
       "    <tr>\n",
       "      <th>42</th>\n",
       "      <td>85</td>\n",
       "      <td>Reverse</td>\n",
       "      <td>4</td>\n",
       "      <td>4/7</td>\n",
       "      <td>4/6</td>\n",
       "      <td>4/6</td>\n",
       "      <td>4/7</td>\n",
       "      <td>2293.0</td>\n",
       "      <td>2485.0</td>\n",
       "      <td>69.0</td>\n",
       "      <td>69.0</td>\n",
       "      <td>NA</td>\n",
       "      <td>1.0</td>\n",
       "      <td>0.0</td>\n",
       "      <td>1.0</td>\n",
       "      <td>0.0</td>\n",
       "      <td>0.0</td>\n",
       "      <td>1.0</td>\n",
       "      <td>65.6</td>\n",
       "    </tr>\n",
       "    <tr>\n",
       "      <th>43</th>\n",
       "      <td>86</td>\n",
       "      <td>Reverse</td>\n",
       "      <td>4</td>\n",
       "      <td>4/7</td>\n",
       "      <td>4/6</td>\n",
       "      <td>4/6</td>\n",
       "      <td>4/7</td>\n",
       "      <td>2295.0</td>\n",
       "      <td>2487.0</td>\n",
       "      <td>84.0</td>\n",
       "      <td>87.0</td>\n",
       "      <td>84</td>\n",
       "      <td>4.0</td>\n",
       "      <td>0.0</td>\n",
       "      <td>1.0</td>\n",
       "      <td>0.0</td>\n",
       "      <td>0.0</td>\n",
       "      <td>1.0</td>\n",
       "      <td>64.6</td>\n",
       "    </tr>\n",
       "    <tr>\n",
       "      <th>44</th>\n",
       "      <td>87</td>\n",
       "      <td>Reverse</td>\n",
       "      <td>4</td>\n",
       "      <td>4/7</td>\n",
       "      <td>4/6</td>\n",
       "      <td>4/6</td>\n",
       "      <td>4/7</td>\n",
       "      <td>2298.0</td>\n",
       "      <td>2490.0</td>\n",
       "      <td>81.0</td>\n",
       "      <td>84.0</td>\n",
       "      <td>81</td>\n",
       "      <td>4.0</td>\n",
       "      <td>0.0</td>\n",
       "      <td>1.0</td>\n",
       "      <td>0.0</td>\n",
       "      <td>0.0</td>\n",
       "      <td>1.0</td>\n",
       "      <td>65.1</td>\n",
       "    </tr>\n",
       "    <tr>\n",
       "      <th>45</th>\n",
       "      <td>88</td>\n",
       "      <td>Reverse</td>\n",
       "      <td>4</td>\n",
       "      <td>4/7</td>\n",
       "      <td>4/6</td>\n",
       "      <td>4/6</td>\n",
       "      <td>4/7</td>\n",
       "      <td>2301.0</td>\n",
       "      <td>2493.0</td>\n",
       "      <td>78.0</td>\n",
       "      <td>81.0</td>\n",
       "      <td>78</td>\n",
       "      <td>4.0</td>\n",
       "      <td>0.0</td>\n",
       "      <td>1.0</td>\n",
       "      <td>0.0</td>\n",
       "      <td>0.0</td>\n",
       "      <td>1.0</td>\n",
       "      <td>64.6</td>\n",
       "    </tr>\n",
       "    <tr>\n",
       "      <th>46</th>\n",
       "      <td>89</td>\n",
       "      <td>Reverse</td>\n",
       "      <td>4</td>\n",
       "      <td>4/7</td>\n",
       "      <td>4/6</td>\n",
       "      <td>4/6</td>\n",
       "      <td>4/7</td>\n",
       "      <td>2304.0</td>\n",
       "      <td>2496.0</td>\n",
       "      <td>75.0</td>\n",
       "      <td>78.0</td>\n",
       "      <td>75</td>\n",
       "      <td>4.0</td>\n",
       "      <td>0.0</td>\n",
       "      <td>1.0</td>\n",
       "      <td>0.0</td>\n",
       "      <td>0.0</td>\n",
       "      <td>1.0</td>\n",
       "      <td>64.6</td>\n",
       "    </tr>\n",
       "    <tr>\n",
       "      <th>47</th>\n",
       "      <td>90</td>\n",
       "      <td>Reverse</td>\n",
       "      <td>4</td>\n",
       "      <td>4/7</td>\n",
       "      <td>4/6</td>\n",
       "      <td>4/6</td>\n",
       "      <td>4/7</td>\n",
       "      <td>2305.0</td>\n",
       "      <td>2497.0</td>\n",
       "      <td>57.0</td>\n",
       "      <td>57.0</td>\n",
       "      <td>NA</td>\n",
       "      <td>1.0</td>\n",
       "      <td>0.0</td>\n",
       "      <td>1.0</td>\n",
       "      <td>0.0</td>\n",
       "      <td>0.0</td>\n",
       "      <td>1.0</td>\n",
       "      <td>65.1</td>\n",
       "    </tr>\n",
       "    <tr>\n",
       "      <th>48</th>\n",
       "      <td>91</td>\n",
       "      <td>Reverse</td>\n",
       "      <td>4</td>\n",
       "      <td>4/7</td>\n",
       "      <td>4/6</td>\n",
       "      <td>4/6</td>\n",
       "      <td>4/7</td>\n",
       "      <td>2307.0</td>\n",
       "      <td>2499.0</td>\n",
       "      <td>72.0</td>\n",
       "      <td>75.0</td>\n",
       "      <td>72</td>\n",
       "      <td>4.0</td>\n",
       "      <td>0.0</td>\n",
       "      <td>1.0</td>\n",
       "      <td>0.0</td>\n",
       "      <td>0.0</td>\n",
       "      <td>1.0</td>\n",
       "      <td>65.1</td>\n",
       "    </tr>\n",
       "    <tr>\n",
       "      <th>49</th>\n",
       "      <td>92</td>\n",
       "      <td>Reverse</td>\n",
       "      <td>4</td>\n",
       "      <td>4/7</td>\n",
       "      <td>4/6</td>\n",
       "      <td>4/6</td>\n",
       "      <td>4/7</td>\n",
       "      <td>2310.0</td>\n",
       "      <td>2502.0</td>\n",
       "      <td>69.0</td>\n",
       "      <td>72.0</td>\n",
       "      <td>69</td>\n",
       "      <td>4.0</td>\n",
       "      <td>0.0</td>\n",
       "      <td>1.0</td>\n",
       "      <td>0.0</td>\n",
       "      <td>0.0</td>\n",
       "      <td>1.0</td>\n",
       "      <td>66.1</td>\n",
       "    </tr>\n",
       "    <tr>\n",
       "      <th>50</th>\n",
       "      <td>93</td>\n",
       "      <td>Reverse</td>\n",
       "      <td>4</td>\n",
       "      <td>4/7</td>\n",
       "      <td>4/6</td>\n",
       "      <td>4/6</td>\n",
       "      <td>4/7</td>\n",
       "      <td>2313.0</td>\n",
       "      <td>2505.0</td>\n",
       "      <td>66.0</td>\n",
       "      <td>69.0</td>\n",
       "      <td>123</td>\n",
       "      <td>4.0</td>\n",
       "      <td>0.0</td>\n",
       "      <td>1.0</td>\n",
       "      <td>0.0</td>\n",
       "      <td>0.0</td>\n",
       "      <td>1.0</td>\n",
       "      <td>67.2</td>\n",
       "    </tr>\n",
       "    <tr>\n",
       "      <th>51</th>\n",
       "      <td>94</td>\n",
       "      <td>Reverse</td>\n",
       "      <td>4</td>\n",
       "      <td>4/7</td>\n",
       "      <td>4/6</td>\n",
       "      <td>4/6</td>\n",
       "      <td>4/7</td>\n",
       "      <td>2358.0</td>\n",
       "      <td>2550.0</td>\n",
       "      <td>21.0</td>\n",
       "      <td>108.0</td>\n",
       "      <td>78</td>\n",
       "      <td>4.0</td>\n",
       "      <td>0.0</td>\n",
       "      <td>1.0</td>\n",
       "      <td>0.0</td>\n",
       "      <td>0.0</td>\n",
       "      <td>1.0</td>\n",
       "      <td>65.1</td>\n",
       "    </tr>\n",
       "    <tr>\n",
       "      <th>52</th>\n",
       "      <td>95</td>\n",
       "      <td>Reverse</td>\n",
       "      <td>4</td>\n",
       "      <td>4/7</td>\n",
       "      <td>4/6</td>\n",
       "      <td>4/6</td>\n",
       "      <td>4/7</td>\n",
       "      <td>2361.0</td>\n",
       "      <td>2553.0</td>\n",
       "      <td>18.0</td>\n",
       "      <td>105.0</td>\n",
       "      <td>75</td>\n",
       "      <td>4.0</td>\n",
       "      <td>0.0</td>\n",
       "      <td>1.0</td>\n",
       "      <td>0.0</td>\n",
       "      <td>0.0</td>\n",
       "      <td>1.0</td>\n",
       "      <td>65.1</td>\n",
       "    </tr>\n",
       "    <tr>\n",
       "      <th>53</th>\n",
       "      <td>96</td>\n",
       "      <td>Reverse</td>\n",
       "      <td>4</td>\n",
       "      <td>4/7</td>\n",
       "      <td>4/6</td>\n",
       "      <td>4/6</td>\n",
       "      <td>4/7</td>\n",
       "      <td>2364.0</td>\n",
       "      <td>2556.0</td>\n",
       "      <td>15.0</td>\n",
       "      <td>102.0</td>\n",
       "      <td>72</td>\n",
       "      <td>4.0</td>\n",
       "      <td>0.0</td>\n",
       "      <td>1.0</td>\n",
       "      <td>0.0</td>\n",
       "      <td>0.0</td>\n",
       "      <td>1.0</td>\n",
       "      <td>65.1</td>\n",
       "    </tr>\n",
       "    <tr>\n",
       "      <th>54</th>\n",
       "      <td>97</td>\n",
       "      <td>Reverse</td>\n",
       "      <td>4</td>\n",
       "      <td>4/7</td>\n",
       "      <td>4/6</td>\n",
       "      <td>4/6</td>\n",
       "      <td>4/7</td>\n",
       "      <td>2367.0</td>\n",
       "      <td>2559.0</td>\n",
       "      <td>12.0</td>\n",
       "      <td>99.0</td>\n",
       "      <td>69</td>\n",
       "      <td>4.0</td>\n",
       "      <td>0.0</td>\n",
       "      <td>1.0</td>\n",
       "      <td>0.0</td>\n",
       "      <td>0.0</td>\n",
       "      <td>1.0</td>\n",
       "      <td>66.1</td>\n",
       "    </tr>\n",
       "    <tr>\n",
       "      <th>55</th>\n",
       "      <td>98</td>\n",
       "      <td>Reverse</td>\n",
       "      <td>4</td>\n",
       "      <td>4/7</td>\n",
       "      <td>4/6</td>\n",
       "      <td>4/6</td>\n",
       "      <td>4/7</td>\n",
       "      <td>2370.0</td>\n",
       "      <td>2562.0</td>\n",
       "      <td>9.0</td>\n",
       "      <td>96.0</td>\n",
       "      <td>66</td>\n",
       "      <td>4.0</td>\n",
       "      <td>0.0</td>\n",
       "      <td>1.0</td>\n",
       "      <td>0.0</td>\n",
       "      <td>0.0</td>\n",
       "      <td>1.0</td>\n",
       "      <td>65.1</td>\n",
       "    </tr>\n",
       "    <tr>\n",
       "      <th>56</th>\n",
       "      <td>99</td>\n",
       "      <td>Reverse</td>\n",
       "      <td>4</td>\n",
       "      <td>4/7</td>\n",
       "      <td>4/6</td>\n",
       "      <td>4/6</td>\n",
       "      <td>4/7</td>\n",
       "      <td>2373.0</td>\n",
       "      <td>2565.0</td>\n",
       "      <td>6.0</td>\n",
       "      <td>93.0</td>\n",
       "      <td>63</td>\n",
       "      <td>4.0</td>\n",
       "      <td>0.0</td>\n",
       "      <td>1.0</td>\n",
       "      <td>0.0</td>\n",
       "      <td>0.0</td>\n",
       "      <td>1.0</td>\n",
       "      <td>65.1</td>\n",
       "    </tr>\n",
       "    <tr>\n",
       "      <th>57</th>\n",
       "      <td>100</td>\n",
       "      <td>Reverse</td>\n",
       "      <td>4</td>\n",
       "      <td>4/7</td>\n",
       "      <td>4/6</td>\n",
       "      <td>4/6</td>\n",
       "      <td>4/7</td>\n",
       "      <td>2374.0</td>\n",
       "      <td>2566.0</td>\n",
       "      <td>135.0</td>\n",
       "      <td>135.0</td>\n",
       "      <td>NA</td>\n",
       "      <td>1.0</td>\n",
       "      <td>0.0</td>\n",
       "      <td>0.0</td>\n",
       "      <td>0.0</td>\n",
       "      <td>0.0</td>\n",
       "      <td>1.0</td>\n",
       "      <td>65.1</td>\n",
       "    </tr>\n",
       "    <tr>\n",
       "      <th>58</th>\n",
       "      <td>101</td>\n",
       "      <td>Reverse</td>\n",
       "      <td>4</td>\n",
       "      <td>4/7</td>\n",
       "      <td>4/6</td>\n",
       "      <td>4/6</td>\n",
       "      <td>4/7</td>\n",
       "      <td>2376.0</td>\n",
       "      <td>2568.0</td>\n",
       "      <td>3.0</td>\n",
       "      <td>90.0</td>\n",
       "      <td>60</td>\n",
       "      <td>4.0</td>\n",
       "      <td>0.0</td>\n",
       "      <td>1.0</td>\n",
       "      <td>0.0</td>\n",
       "      <td>0.0</td>\n",
       "      <td>1.0</td>\n",
       "      <td>64.6</td>\n",
       "    </tr>\n",
       "    <tr>\n",
       "      <th>59</th>\n",
       "      <td>102</td>\n",
       "      <td>Reverse</td>\n",
       "      <td>4</td>\n",
       "      <td>4/7</td>\n",
       "      <td>4/6</td>\n",
       "      <td>4/6</td>\n",
       "      <td>4/7</td>\n",
       "      <td>2377.0</td>\n",
       "      <td>2569.0</td>\n",
       "      <td>132.0</td>\n",
       "      <td>132.0</td>\n",
       "      <td>NA</td>\n",
       "      <td>1.0</td>\n",
       "      <td>0.0</td>\n",
       "      <td>0.0</td>\n",
       "      <td>0.0</td>\n",
       "      <td>0.0</td>\n",
       "      <td>1.0</td>\n",
       "      <td>64.6</td>\n",
       "    </tr>\n",
       "    <tr>\n",
       "      <th>60</th>\n",
       "      <td>103</td>\n",
       "      <td>Reverse</td>\n",
       "      <td>4</td>\n",
       "      <td>4/7</td>\n",
       "      <td>4/6</td>\n",
       "      <td>4/6</td>\n",
       "      <td>4/7</td>\n",
       "      <td>2379.0</td>\n",
       "      <td>2571.0</td>\n",
       "      <td>0.0</td>\n",
       "      <td>87.0</td>\n",
       "      <td>57</td>\n",
       "      <td>4.0</td>\n",
       "      <td>0.0</td>\n",
       "      <td>1.0</td>\n",
       "      <td>0.0</td>\n",
       "      <td>0.0</td>\n",
       "      <td>1.0</td>\n",
       "      <td>64.1</td>\n",
       "    </tr>\n",
       "    <tr>\n",
       "      <th>61</th>\n",
       "      <td>104</td>\n",
       "      <td>Reverse</td>\n",
       "      <td>4</td>\n",
       "      <td>4/7</td>\n",
       "      <td>4/6</td>\n",
       "      <td>4/6</td>\n",
       "      <td>4/7</td>\n",
       "      <td>2380.0</td>\n",
       "      <td>2572.0</td>\n",
       "      <td>129.0</td>\n",
       "      <td>129.0</td>\n",
       "      <td>NA</td>\n",
       "      <td>1.0</td>\n",
       "      <td>0.0</td>\n",
       "      <td>0.0</td>\n",
       "      <td>0.0</td>\n",
       "      <td>0.0</td>\n",
       "      <td>1.0</td>\n",
       "      <td>64.6</td>\n",
       "    </tr>\n",
       "    <tr>\n",
       "      <th>62</th>\n",
       "      <td>105</td>\n",
       "      <td>Reverse</td>\n",
       "      <td>4</td>\n",
       "      <td>4/7</td>\n",
       "      <td>4/6</td>\n",
       "      <td>4/6</td>\n",
       "      <td>4/7</td>\n",
       "      <td>2382.0</td>\n",
       "      <td>2574.0</td>\n",
       "      <td>0.0</td>\n",
       "      <td>84.0</td>\n",
       "      <td>54</td>\n",
       "      <td>3.0</td>\n",
       "      <td>0.0</td>\n",
       "      <td>1.0</td>\n",
       "      <td>0.0</td>\n",
       "      <td>0.0</td>\n",
       "      <td>1.0</td>\n",
       "      <td>64.1</td>\n",
       "    </tr>\n",
       "    <tr>\n",
       "      <th>63</th>\n",
       "      <td>106</td>\n",
       "      <td>Reverse</td>\n",
       "      <td>4</td>\n",
       "      <td>4/7</td>\n",
       "      <td>4/6</td>\n",
       "      <td>4/6</td>\n",
       "      <td>4/7</td>\n",
       "      <td>2383.0</td>\n",
       "      <td>2575.0</td>\n",
       "      <td>126.0</td>\n",
       "      <td>126.0</td>\n",
       "      <td>NA</td>\n",
       "      <td>1.0</td>\n",
       "      <td>0.0</td>\n",
       "      <td>0.0</td>\n",
       "      <td>0.0</td>\n",
       "      <td>0.0</td>\n",
       "      <td>1.0</td>\n",
       "      <td>64.6</td>\n",
       "    </tr>\n",
       "    <tr>\n",
       "      <th>64</th>\n",
       "      <td>107</td>\n",
       "      <td>Reverse</td>\n",
       "      <td>4</td>\n",
       "      <td>4/7</td>\n",
       "      <td>4/6</td>\n",
       "      <td>4/6</td>\n",
       "      <td>4/7</td>\n",
       "      <td>2385.0</td>\n",
       "      <td>2577.0</td>\n",
       "      <td>51.0</td>\n",
       "      <td>81.0</td>\n",
       "      <td>51</td>\n",
       "      <td>2.0</td>\n",
       "      <td>0.0</td>\n",
       "      <td>0.0</td>\n",
       "      <td>0.0</td>\n",
       "      <td>0.0</td>\n",
       "      <td>1.0</td>\n",
       "      <td>64.1</td>\n",
       "    </tr>\n",
       "    <tr>\n",
       "      <th>65</th>\n",
       "      <td>108</td>\n",
       "      <td>Reverse</td>\n",
       "      <td>4</td>\n",
       "      <td>4/7</td>\n",
       "      <td>4/6</td>\n",
       "      <td>4/6</td>\n",
       "      <td>4/7</td>\n",
       "      <td>2386.0</td>\n",
       "      <td>2578.0</td>\n",
       "      <td>123.0</td>\n",
       "      <td>123.0</td>\n",
       "      <td>NA</td>\n",
       "      <td>1.0</td>\n",
       "      <td>0.0</td>\n",
       "      <td>0.0</td>\n",
       "      <td>0.0</td>\n",
       "      <td>0.0</td>\n",
       "      <td>1.0</td>\n",
       "      <td>64.1</td>\n",
       "    </tr>\n",
       "    <tr>\n",
       "      <th>66</th>\n",
       "      <td>109</td>\n",
       "      <td>Reverse</td>\n",
       "      <td>4</td>\n",
       "      <td>4/7</td>\n",
       "      <td>4/6</td>\n",
       "      <td>4/6</td>\n",
       "      <td>4/7</td>\n",
       "      <td>2388.0</td>\n",
       "      <td>2580.0</td>\n",
       "      <td>48.0</td>\n",
       "      <td>78.0</td>\n",
       "      <td>48</td>\n",
       "      <td>2.0</td>\n",
       "      <td>0.0</td>\n",
       "      <td>0.0</td>\n",
       "      <td>0.0</td>\n",
       "      <td>0.0</td>\n",
       "      <td>1.0</td>\n",
       "      <td>64.1</td>\n",
       "    </tr>\n",
       "    <tr>\n",
       "      <th>67</th>\n",
       "      <td>110</td>\n",
       "      <td>Reverse</td>\n",
       "      <td>4</td>\n",
       "      <td>4/7</td>\n",
       "      <td>4/6</td>\n",
       "      <td>4/6</td>\n",
       "      <td>4/7</td>\n",
       "      <td>2389.0</td>\n",
       "      <td>2581.0</td>\n",
       "      <td>120.0</td>\n",
       "      <td>120.0</td>\n",
       "      <td>NA</td>\n",
       "      <td>1.0</td>\n",
       "      <td>0.0</td>\n",
       "      <td>0.0</td>\n",
       "      <td>0.0</td>\n",
       "      <td>0.0</td>\n",
       "      <td>1.0</td>\n",
       "      <td>64.1</td>\n",
       "    </tr>\n",
       "    <tr>\n",
       "      <th>68</th>\n",
       "      <td>111</td>\n",
       "      <td>Reverse</td>\n",
       "      <td>4</td>\n",
       "      <td>4/7</td>\n",
       "      <td>4/6</td>\n",
       "      <td>4/6</td>\n",
       "      <td>4/7</td>\n",
       "      <td>2391.0</td>\n",
       "      <td>2583.0</td>\n",
       "      <td>45.0</td>\n",
       "      <td>75.0</td>\n",
       "      <td>45</td>\n",
       "      <td>2.0</td>\n",
       "      <td>0.0</td>\n",
       "      <td>0.0</td>\n",
       "      <td>0.0</td>\n",
       "      <td>0.0</td>\n",
       "      <td>1.0</td>\n",
       "      <td>63.0</td>\n",
       "    </tr>\n",
       "    <tr>\n",
       "      <th>69</th>\n",
       "      <td>112</td>\n",
       "      <td>Reverse</td>\n",
       "      <td>4</td>\n",
       "      <td>4/7</td>\n",
       "      <td>4/6</td>\n",
       "      <td>4/6</td>\n",
       "      <td>4/7</td>\n",
       "      <td>2392.0</td>\n",
       "      <td>2584.0</td>\n",
       "      <td>117.0</td>\n",
       "      <td>117.0</td>\n",
       "      <td>NA</td>\n",
       "      <td>1.0</td>\n",
       "      <td>0.0</td>\n",
       "      <td>0.0</td>\n",
       "      <td>0.0</td>\n",
       "      <td>0.0</td>\n",
       "      <td>1.0</td>\n",
       "      <td>62.5</td>\n",
       "    </tr>\n",
       "    <tr>\n",
       "      <th>70</th>\n",
       "      <td>113</td>\n",
       "      <td>Reverse</td>\n",
       "      <td>4</td>\n",
       "      <td>4/7</td>\n",
       "      <td>4/6</td>\n",
       "      <td>4/6</td>\n",
       "      <td>4/7</td>\n",
       "      <td>2394.0</td>\n",
       "      <td>2586.0</td>\n",
       "      <td>42.0</td>\n",
       "      <td>72.0</td>\n",
       "      <td>42</td>\n",
       "      <td>2.0</td>\n",
       "      <td>0.0</td>\n",
       "      <td>0.0</td>\n",
       "      <td>0.0</td>\n",
       "      <td>0.0</td>\n",
       "      <td>1.0</td>\n",
       "      <td>62.0</td>\n",
       "    </tr>\n",
       "    <tr>\n",
       "      <th>71</th>\n",
       "      <td>114</td>\n",
       "      <td>Reverse</td>\n",
       "      <td>4</td>\n",
       "      <td>4/7</td>\n",
       "      <td>4/6</td>\n",
       "      <td>4/6</td>\n",
       "      <td>4/7</td>\n",
       "      <td>2395.0</td>\n",
       "      <td>2587.0</td>\n",
       "      <td>114.0</td>\n",
       "      <td>114.0</td>\n",
       "      <td>NA</td>\n",
       "      <td>1.0</td>\n",
       "      <td>0.0</td>\n",
       "      <td>0.0</td>\n",
       "      <td>0.0</td>\n",
       "      <td>0.0</td>\n",
       "      <td>1.0</td>\n",
       "      <td>62.0</td>\n",
       "    </tr>\n",
       "    <tr>\n",
       "      <th>72</th>\n",
       "      <td>115</td>\n",
       "      <td>Reverse</td>\n",
       "      <td>4</td>\n",
       "      <td>4/7</td>\n",
       "      <td>4/6</td>\n",
       "      <td>4/6</td>\n",
       "      <td>4/7</td>\n",
       "      <td>2397.0</td>\n",
       "      <td>2589.0</td>\n",
       "      <td>39.0</td>\n",
       "      <td>69.0</td>\n",
       "      <td>39</td>\n",
       "      <td>2.0</td>\n",
       "      <td>0.0</td>\n",
       "      <td>0.0</td>\n",
       "      <td>0.0</td>\n",
       "      <td>0.0</td>\n",
       "      <td>1.0</td>\n",
       "      <td>62.0</td>\n",
       "    </tr>\n",
       "    <tr>\n",
       "      <th>73</th>\n",
       "      <td>116</td>\n",
       "      <td>Reverse</td>\n",
       "      <td>4</td>\n",
       "      <td>4/7</td>\n",
       "      <td>4/6</td>\n",
       "      <td>4/6</td>\n",
       "      <td>4/7</td>\n",
       "      <td>2398.0</td>\n",
       "      <td>2590.0</td>\n",
       "      <td>111.0</td>\n",
       "      <td>111.0</td>\n",
       "      <td>NA</td>\n",
       "      <td>1.0</td>\n",
       "      <td>0.0</td>\n",
       "      <td>0.0</td>\n",
       "      <td>0.0</td>\n",
       "      <td>0.0</td>\n",
       "      <td>1.0</td>\n",
       "      <td>61.5</td>\n",
       "    </tr>\n",
       "    <tr>\n",
       "      <th>74</th>\n",
       "      <td>117</td>\n",
       "      <td>Reverse</td>\n",
       "      <td>4</td>\n",
       "      <td>4/7</td>\n",
       "      <td>4/6</td>\n",
       "      <td>4/6</td>\n",
       "      <td>4/7</td>\n",
       "      <td>2400.0</td>\n",
       "      <td>2592.0</td>\n",
       "      <td>36.0</td>\n",
       "      <td>66.0</td>\n",
       "      <td>36</td>\n",
       "      <td>2.0</td>\n",
       "      <td>0.0</td>\n",
       "      <td>0.0</td>\n",
       "      <td>0.0</td>\n",
       "      <td>0.0</td>\n",
       "      <td>1.0</td>\n",
       "      <td>61.5</td>\n",
       "    </tr>\n",
       "    <tr>\n",
       "      <th>75</th>\n",
       "      <td>118</td>\n",
       "      <td>Reverse</td>\n",
       "      <td>4</td>\n",
       "      <td>4/7</td>\n",
       "      <td>4/6</td>\n",
       "      <td>4/6</td>\n",
       "      <td>4/7</td>\n",
       "      <td>2401.0</td>\n",
       "      <td>2593.0</td>\n",
       "      <td>108.0</td>\n",
       "      <td>108.0</td>\n",
       "      <td>NA</td>\n",
       "      <td>1.0</td>\n",
       "      <td>0.0</td>\n",
       "      <td>0.0</td>\n",
       "      <td>0.0</td>\n",
       "      <td>0.0</td>\n",
       "      <td>1.0</td>\n",
       "      <td>60.9</td>\n",
       "    </tr>\n",
       "    <tr>\n",
       "      <th>76</th>\n",
       "      <td>119</td>\n",
       "      <td>Reverse</td>\n",
       "      <td>4</td>\n",
       "      <td>4/7</td>\n",
       "      <td>4/6</td>\n",
       "      <td>4/6</td>\n",
       "      <td>4/7</td>\n",
       "      <td>2403.0</td>\n",
       "      <td>2595.0</td>\n",
       "      <td>33.0</td>\n",
       "      <td>63.0</td>\n",
       "      <td>33</td>\n",
       "      <td>2.0</td>\n",
       "      <td>0.0</td>\n",
       "      <td>0.0</td>\n",
       "      <td>0.0</td>\n",
       "      <td>0.0</td>\n",
       "      <td>1.0</td>\n",
       "      <td>60.9</td>\n",
       "    </tr>\n",
       "    <tr>\n",
       "      <th>77</th>\n",
       "      <td>120</td>\n",
       "      <td>Reverse</td>\n",
       "      <td>4</td>\n",
       "      <td>4/7</td>\n",
       "      <td>4/6</td>\n",
       "      <td>4/6</td>\n",
       "      <td>4/7</td>\n",
       "      <td>2404.0</td>\n",
       "      <td>2596.0</td>\n",
       "      <td>105.0</td>\n",
       "      <td>105.0</td>\n",
       "      <td>NA</td>\n",
       "      <td>1.0</td>\n",
       "      <td>0.0</td>\n",
       "      <td>0.0</td>\n",
       "      <td>0.0</td>\n",
       "      <td>0.0</td>\n",
       "      <td>1.0</td>\n",
       "      <td>60.9</td>\n",
       "    </tr>\n",
       "    <tr>\n",
       "      <th>78</th>\n",
       "      <td>121</td>\n",
       "      <td>Reverse</td>\n",
       "      <td>4</td>\n",
       "      <td>4/7</td>\n",
       "      <td>4/6</td>\n",
       "      <td>4/6</td>\n",
       "      <td>4/7</td>\n",
       "      <td>2406.0</td>\n",
       "      <td>2598.0</td>\n",
       "      <td>30.0</td>\n",
       "      <td>60.0</td>\n",
       "      <td>30</td>\n",
       "      <td>2.0</td>\n",
       "      <td>0.0</td>\n",
       "      <td>0.0</td>\n",
       "      <td>0.0</td>\n",
       "      <td>0.0</td>\n",
       "      <td>1.0</td>\n",
       "      <td>60.4</td>\n",
       "    </tr>\n",
       "    <tr>\n",
       "      <th>79</th>\n",
       "      <td>122</td>\n",
       "      <td>Reverse</td>\n",
       "      <td>4</td>\n",
       "      <td>4/7</td>\n",
       "      <td>4/6</td>\n",
       "      <td>4/6</td>\n",
       "      <td>4/7</td>\n",
       "      <td>2409.0</td>\n",
       "      <td>2601.0</td>\n",
       "      <td>27.0</td>\n",
       "      <td>57.0</td>\n",
       "      <td>27</td>\n",
       "      <td>2.0</td>\n",
       "      <td>0.0</td>\n",
       "      <td>0.0</td>\n",
       "      <td>0.0</td>\n",
       "      <td>0.0</td>\n",
       "      <td>1.0</td>\n",
       "      <td>60.4</td>\n",
       "    </tr>\n",
       "  </tbody>\n",
       "</table>\n",
       "</div>"
      ],
      "text/plain": [
       "    sesNum  TypeSeq  SeqNum ExonFrac ExonProtFrac CDSFrac CDNAFrac  StartSeq  \\\n",
       "0        1  Reverse       2      7/7          6/6     6/6      7/7       2.0   \n",
       "1        2  Reverse       2      7/7          6/6     6/6      7/7       5.0   \n",
       "2        3  Reverse       2      7/7          6/6     6/6      7/7       8.0   \n",
       "3        4  Reverse       2      7/7          6/6     6/6      7/7      11.0   \n",
       "4        5  Reverse       2      5/7          4/6     6/6      7/7      14.0   \n",
       "5        6  Reverse       2      5/7          4/6     6/6      7/7      17.0   \n",
       "6        7  Reverse       2      5/7          4/6     4/6      5/7      20.0   \n",
       "7        8  Reverse       2      5/7          4/6     4/6      5/7      23.0   \n",
       "8        9  Reverse       2      5/7          4/6     4/6      5/7      26.0   \n",
       "9       10  Reverse       2      5/7          4/6     4/6      5/7      29.0   \n",
       "10      11  Reverse       2      5/7          4/6     4/6      5/7      32.0   \n",
       "11      12  Reverse       2      5/7          4/6     4/6      5/7      35.0   \n",
       "12      13  Reverse       2      5/7          4/6     4/6      5/7      38.0   \n",
       "13      14  Reverse       2      5/7          4/6     4/6      5/7      41.0   \n",
       "14      15  Reverse       2      5/7          4/6     4/6      5/7      44.0   \n",
       "15      16  Reverse       2      5/7          4/6     4/6      5/7      47.0   \n",
       "16      17  Reverse       2      5/7          4/6     4/6      5/7      50.0   \n",
       "17      18  Reverse       2      5/7          4/6     4/6      5/7      53.0   \n",
       "18      19  Reverse       2      5/7          4/6     4/6      5/7      56.0   \n",
       "19      20  Reverse       2      5/7          4/6     4/6      5/7      59.0   \n",
       "20      21  Reverse       2      5/7          4/6     4/6      5/7      62.0   \n",
       "21      22  Reverse       2      5/7          4/6     4/6      5/7      65.0   \n",
       "22      23  Reverse       2      5/7          4/6     4/6      5/7      68.0   \n",
       "23      24  Reverse       2      5/7          4/6     4/6      5/7      71.0   \n",
       "24      25  Reverse       2      5/7          4/6     4/6      5/7      78.0   \n",
       "25      26  Reverse       2      5/7          4/6     4/6      5/7      81.0   \n",
       "26      27  Reverse       2      5/7          4/6     4/6      5/7      84.0   \n",
       "27      28  Reverse       2      5/7          4/6     4/6      5/7      87.0   \n",
       "28      29  Reverse       2      5/7          4/6     4/6      5/7      90.0   \n",
       "29      30  Reverse       2      5/7          4/6     4/6      5/7      93.0   \n",
       "30      31  Reverse       2      5/7          4/6     4/6      5/7      96.0   \n",
       "31      32  Reverse       2      5/7          4/6     4/6      5/7      99.0   \n",
       "32      33  Reverse       2      5/7          4/6     4/6      5/7     102.0   \n",
       "33      34  Reverse       2      5/7          4/6     4/6      5/7     105.0   \n",
       "34      35  Reverse       2      5/7          4/6     4/6      5/7     108.0   \n",
       "35      36  Reverse       2      5/7          4/6     4/6      5/7     111.0   \n",
       "36      37  Reverse       2      5/7          4/6     4/6      5/7     114.0   \n",
       "37      38  Reverse       2      5/7          4/6     4/6      5/7     117.0   \n",
       "38      39  Reverse       2      5/7          4/6     4/6      5/7     120.0   \n",
       "39      40  Reverse       2      5/7          4/6     4/6      5/7     123.0   \n",
       "40      41  Reverse       2      5/7          4/6     4/6      5/7     126.0   \n",
       "41      42  Reverse       2      5/7          4/6     4/6      5/7     129.0   \n",
       "0       43  Reverse       4      4/7          4/6     4/6      4/7    2146.0   \n",
       "1       44  Reverse       4      4/7          4/6     4/6      4/7    2149.0   \n",
       "2       45  Reverse       4      4/7          4/6     4/6      4/7    2152.0   \n",
       "3       46  Reverse       4      4/7          4/6     4/6      4/7    2227.0   \n",
       "4       47  Reverse       4      4/7          4/6     4/6      4/7    2230.0   \n",
       "5       48  Reverse       4      4/7          4/6     4/6      4/7    2233.0   \n",
       "6       49  Reverse       4      4/7          4/6     4/6      4/7    2236.0   \n",
       "7       50  Reverse       4      4/7          4/6     4/6      4/7    2239.0   \n",
       "8       51  Reverse       4      4/7          4/6     4/6      4/7    2242.0   \n",
       "9       52  Reverse       4      4/7          4/6     4/6      4/7    2244.0   \n",
       "10      53  Reverse       4      4/7          4/6     4/6      4/7    2245.0   \n",
       "11      54  Reverse       4      4/7          4/6     4/6      4/7    2247.0   \n",
       "12      55  Reverse       4      4/7          4/6     4/6      4/7    2248.0   \n",
       "13      56  Reverse       4      4/7          4/6     4/6      4/7    2250.0   \n",
       "14      57  Reverse       4      4/7          4/6     4/6      4/7    2251.0   \n",
       "15      58  Reverse       4      4/7          4/6     4/6      4/7    2253.0   \n",
       "16      59  Reverse       4      4/7          4/6     4/6      4/7    2254.0   \n",
       "17      60  Reverse       4      4/7          4/6     4/6      4/7    2256.0   \n",
       "18      61  Reverse       4      4/7          4/6     4/6      4/7    2257.0   \n",
       "19      62  Reverse       4      4/7          4/6     4/6      4/7    2259.0   \n",
       "20      63  Reverse       4      4/7          4/6     4/6      4/7    2260.0   \n",
       "21      64  Reverse       4      4/7          4/6     4/6      4/7    2262.0   \n",
       "22      65  Reverse       4      4/7          4/6     4/6      4/7    2263.0   \n",
       "23      66  Reverse       4      4/7          4/6     4/6      4/7    2265.0   \n",
       "24      67  Reverse       4      4/7          4/6     4/6      4/7    2266.0   \n",
       "25      68  Reverse       4      4/7          4/6     4/6      4/7    2268.0   \n",
       "26      69  Reverse       4      4/7          4/6     4/6      4/7    2269.0   \n",
       "27      70  Reverse       4      4/7          4/6     4/6      4/7    2271.0   \n",
       "28      71  Reverse       4      4/7          4/6     4/6      4/7    2272.0   \n",
       "29      72  Reverse       4      4/7          4/6     4/6      4/7    2274.0   \n",
       "30      73  Reverse       4      4/7          4/6     4/6      4/7    2275.0   \n",
       "31      74  Reverse       4      4/7          4/6     4/6      4/7    2277.0   \n",
       "32      75  Reverse       4      4/7          4/6     4/6      4/7    2278.0   \n",
       "33      76  Reverse       4      4/7          4/6     4/6      4/7    2280.0   \n",
       "34      77  Reverse       4      4/7          4/6     4/6      4/7    2281.0   \n",
       "35      78  Reverse       4      4/7          4/6     4/6      4/7    2283.0   \n",
       "36      79  Reverse       4      4/7          4/6     4/6      4/7    2284.0   \n",
       "37      80  Reverse       4      4/7          4/6     4/6      4/7    2286.0   \n",
       "38      81  Reverse       4      4/7          4/6     4/6      4/7    2287.0   \n",
       "39      82  Reverse       4      4/7          4/6     4/6      4/7    2289.0   \n",
       "40      83  Reverse       4      4/7          4/6     4/6      4/7    2290.0   \n",
       "41      84  Reverse       4      4/7          4/6     4/6      4/7    2292.0   \n",
       "42      85  Reverse       4      4/7          4/6     4/6      4/7    2293.0   \n",
       "43      86  Reverse       4      4/7          4/6     4/6      4/7    2295.0   \n",
       "44      87  Reverse       4      4/7          4/6     4/6      4/7    2298.0   \n",
       "45      88  Reverse       4      4/7          4/6     4/6      4/7    2301.0   \n",
       "46      89  Reverse       4      4/7          4/6     4/6      4/7    2304.0   \n",
       "47      90  Reverse       4      4/7          4/6     4/6      4/7    2305.0   \n",
       "48      91  Reverse       4      4/7          4/6     4/6      4/7    2307.0   \n",
       "49      92  Reverse       4      4/7          4/6     4/6      4/7    2310.0   \n",
       "50      93  Reverse       4      4/7          4/6     4/6      4/7    2313.0   \n",
       "51      94  Reverse       4      4/7          4/6     4/6      4/7    2358.0   \n",
       "52      95  Reverse       4      4/7          4/6     4/6      4/7    2361.0   \n",
       "53      96  Reverse       4      4/7          4/6     4/6      4/7    2364.0   \n",
       "54      97  Reverse       4      4/7          4/6     4/6      4/7    2367.0   \n",
       "55      98  Reverse       4      4/7          4/6     4/6      4/7    2370.0   \n",
       "56      99  Reverse       4      4/7          4/6     4/6      4/7    2373.0   \n",
       "57     100  Reverse       4      4/7          4/6     4/6      4/7    2374.0   \n",
       "58     101  Reverse       4      4/7          4/6     4/6      4/7    2376.0   \n",
       "59     102  Reverse       4      4/7          4/6     4/6      4/7    2377.0   \n",
       "60     103  Reverse       4      4/7          4/6     4/6      4/7    2379.0   \n",
       "61     104  Reverse       4      4/7          4/6     4/6      4/7    2380.0   \n",
       "62     105  Reverse       4      4/7          4/6     4/6      4/7    2382.0   \n",
       "63     106  Reverse       4      4/7          4/6     4/6      4/7    2383.0   \n",
       "64     107  Reverse       4      4/7          4/6     4/6      4/7    2385.0   \n",
       "65     108  Reverse       4      4/7          4/6     4/6      4/7    2386.0   \n",
       "66     109  Reverse       4      4/7          4/6     4/6      4/7    2388.0   \n",
       "67     110  Reverse       4      4/7          4/6     4/6      4/7    2389.0   \n",
       "68     111  Reverse       4      4/7          4/6     4/6      4/7    2391.0   \n",
       "69     112  Reverse       4      4/7          4/6     4/6      4/7    2392.0   \n",
       "70     113  Reverse       4      4/7          4/6     4/6      4/7    2394.0   \n",
       "71     114  Reverse       4      4/7          4/6     4/6      4/7    2395.0   \n",
       "72     115  Reverse       4      4/7          4/6     4/6      4/7    2397.0   \n",
       "73     116  Reverse       4      4/7          4/6     4/6      4/7    2398.0   \n",
       "74     117  Reverse       4      4/7          4/6     4/6      4/7    2400.0   \n",
       "75     118  Reverse       4      4/7          4/6     4/6      4/7    2401.0   \n",
       "76     119  Reverse       4      4/7          4/6     4/6      4/7    2403.0   \n",
       "77     120  Reverse       4      4/7          4/6     4/6      4/7    2404.0   \n",
       "78     121  Reverse       4      4/7          4/6     4/6      4/7    2406.0   \n",
       "79     122  Reverse       4      4/7          4/6     4/6      4/7    2409.0   \n",
       "\n",
       "    StopSeq  firstTGG  centralTGG second_cTGG  numTGG  numTTGG  numTGGA  \\\n",
       "0     194.0      24.0        69.0        60.0     6.0      0.0      0.0   \n",
       "1     197.0      21.0        66.0        57.0     6.0      0.0      0.0   \n",
       "2     200.0      18.0        63.0       132.0     6.0      0.0      0.0   \n",
       "3     203.0      15.0       129.0        60.0     6.0      0.0      0.0   \n",
       "4     206.0      12.0       126.0        57.0     6.0      0.0      0.0   \n",
       "5     209.0       9.0       123.0        54.0     6.0      0.0      0.0   \n",
       "6     212.0       6.0       120.0        51.0     6.0      0.0      0.0   \n",
       "7     215.0       3.0       117.0        48.0     7.0      0.0      0.0   \n",
       "8     218.0       0.0       114.0        45.0     7.0      0.0      1.0   \n",
       "9     221.0       3.0       111.0        42.0     6.0      0.0      1.0   \n",
       "10    224.0       0.0       108.0        39.0     6.0      0.0      1.0   \n",
       "11    227.0      24.0       105.0        36.0     5.0      0.0      1.0   \n",
       "12    230.0      21.0       102.0        33.0     6.0      0.0      1.0   \n",
       "13    233.0      18.0        99.0        30.0     6.0      0.0      1.0   \n",
       "14    236.0      15.0        96.0        27.0     6.0      0.0      1.0   \n",
       "15    239.0      12.0        93.0       165.0     6.0      0.0      1.0   \n",
       "16    242.0       9.0        90.0       162.0     6.0      0.0      1.0   \n",
       "17    245.0       6.0        87.0       159.0     6.0      0.0      1.0   \n",
       "18    248.0       3.0        84.0       156.0     6.0      0.0      1.0   \n",
       "19    251.0       0.0        81.0       153.0     6.0      0.0      1.0   \n",
       "20    254.0       0.0        78.0       150.0     5.0      0.0      1.0   \n",
       "21    257.0       6.0        75.0       147.0     4.0      0.0      1.0   \n",
       "22    260.0       3.0        72.0       144.0     5.0      0.0      1.0   \n",
       "23    263.0       0.0        69.0       141.0     5.0      0.0      1.0   \n",
       "24    270.0      48.0        93.0       111.0     4.0      0.0      1.0   \n",
       "25    273.0      45.0        90.0       108.0     4.0      0.0      1.0   \n",
       "26    276.0      42.0        87.0       105.0     4.0      0.0      1.0   \n",
       "27    279.0      39.0       102.0        84.0     4.0      0.0      1.0   \n",
       "28    282.0      36.0        99.0        81.0     5.0      1.0      1.0   \n",
       "29    285.0      33.0        96.0        78.0     5.0      1.0      1.0   \n",
       "30    288.0      30.0        93.0        75.0     5.0      1.0      1.0   \n",
       "31    291.0      27.0        90.0        72.0     5.0      1.0      1.0   \n",
       "32    294.0      24.0        87.0        69.0     5.0      1.0      1.0   \n",
       "33    297.0      21.0        84.0        66.0     5.0      1.0      1.0   \n",
       "34    300.0      18.0        81.0        63.0     5.0      1.0      1.0   \n",
       "35    303.0      15.0        78.0        60.0     5.0      1.0      1.0   \n",
       "36    306.0      12.0        75.0        57.0     5.0      1.0      1.0   \n",
       "37    309.0       9.0        72.0        54.0     5.0      1.0      1.0   \n",
       "38    312.0       6.0        69.0        51.0     5.0      1.0      1.0   \n",
       "39    315.0       3.0        66.0        48.0     5.0      1.0      1.0   \n",
       "40    318.0       0.0        63.0        45.0     5.0      1.0      1.0   \n",
       "41    321.0      18.0        60.0        42.0     4.0      1.0      1.0   \n",
       "0    2338.0      63.0        63.0          NA     1.0      1.0      0.0   \n",
       "1    2341.0      60.0        60.0          NA     1.0      1.0      0.0   \n",
       "2    2344.0      57.0        57.0          NA     1.0      1.0      0.0   \n",
       "3    2419.0     135.0       135.0          NA     1.0      0.0      1.0   \n",
       "4    2422.0     132.0       132.0          NA     1.0      0.0      1.0   \n",
       "5    2425.0     129.0       129.0          NA     1.0      0.0      1.0   \n",
       "6    2428.0     126.0       126.0          NA     1.0      0.0      1.0   \n",
       "7    2431.0     123.0       123.0          NA     1.0      0.0      1.0   \n",
       "8    2434.0     120.0       120.0          NA     1.0      0.0      1.0   \n",
       "9    2436.0     135.0       135.0         138     2.0      0.0      1.0   \n",
       "10   2437.0     117.0       117.0          NA     1.0      0.0      1.0   \n",
       "11   2439.0     132.0       132.0         135     3.0      0.0      1.0   \n",
       "12   2440.0     114.0       114.0          NA     1.0      0.0      1.0   \n",
       "13   2442.0     129.0       129.0         132     3.0      0.0      1.0   \n",
       "14   2443.0     111.0       111.0          NA     1.0      0.0      1.0   \n",
       "15   2445.0     126.0       126.0         129     3.0      0.0      1.0   \n",
       "16   2446.0     108.0       108.0          NA     1.0      0.0      1.0   \n",
       "17   2448.0     123.0       123.0         126     3.0      0.0      1.0   \n",
       "18   2449.0     105.0       105.0          NA     1.0      0.0      1.0   \n",
       "19   2451.0     120.0       120.0         123     3.0      0.0      1.0   \n",
       "20   2452.0     102.0       102.0          NA     1.0      0.0      1.0   \n",
       "21   2454.0     117.0       117.0         120     3.0      0.0      1.0   \n",
       "22   2455.0      99.0        99.0          NA     1.0      0.0      1.0   \n",
       "23   2457.0     114.0       114.0         117     3.0      0.0      1.0   \n",
       "24   2458.0      96.0        96.0          NA     1.0      0.0      1.0   \n",
       "25   2460.0     111.0       111.0         114     3.0      0.0      1.0   \n",
       "26   2461.0      93.0        93.0          NA     1.0      0.0      1.0   \n",
       "27   2463.0     108.0       108.0         111     3.0      0.0      1.0   \n",
       "28   2464.0      90.0        90.0          NA     1.0      0.0      1.0   \n",
       "29   2466.0     105.0       105.0         108     3.0      0.0      1.0   \n",
       "30   2467.0      87.0        87.0          NA     1.0      0.0      1.0   \n",
       "31   2469.0     102.0       102.0         105     4.0      0.0      1.0   \n",
       "32   2470.0      84.0        84.0          NA     1.0      0.0      1.0   \n",
       "33   2472.0      99.0        99.0         102     4.0      0.0      1.0   \n",
       "34   2473.0      81.0        81.0          NA     1.0      0.0      1.0   \n",
       "35   2475.0      96.0        96.0          99     4.0      0.0      1.0   \n",
       "36   2476.0      78.0        78.0          NA     1.0      0.0      1.0   \n",
       "37   2478.0      93.0        96.0          93     4.0      0.0      1.0   \n",
       "38   2479.0      75.0        75.0          NA     1.0      0.0      1.0   \n",
       "39   2481.0      90.0        93.0          90     4.0      0.0      1.0   \n",
       "40   2482.0      72.0        72.0          NA     1.0      0.0      1.0   \n",
       "41   2484.0      87.0        90.0          87     4.0      0.0      1.0   \n",
       "42   2485.0      69.0        69.0          NA     1.0      0.0      1.0   \n",
       "43   2487.0      84.0        87.0          84     4.0      0.0      1.0   \n",
       "44   2490.0      81.0        84.0          81     4.0      0.0      1.0   \n",
       "45   2493.0      78.0        81.0          78     4.0      0.0      1.0   \n",
       "46   2496.0      75.0        78.0          75     4.0      0.0      1.0   \n",
       "47   2497.0      57.0        57.0          NA     1.0      0.0      1.0   \n",
       "48   2499.0      72.0        75.0          72     4.0      0.0      1.0   \n",
       "49   2502.0      69.0        72.0          69     4.0      0.0      1.0   \n",
       "50   2505.0      66.0        69.0         123     4.0      0.0      1.0   \n",
       "51   2550.0      21.0       108.0          78     4.0      0.0      1.0   \n",
       "52   2553.0      18.0       105.0          75     4.0      0.0      1.0   \n",
       "53   2556.0      15.0       102.0          72     4.0      0.0      1.0   \n",
       "54   2559.0      12.0        99.0          69     4.0      0.0      1.0   \n",
       "55   2562.0       9.0        96.0          66     4.0      0.0      1.0   \n",
       "56   2565.0       6.0        93.0          63     4.0      0.0      1.0   \n",
       "57   2566.0     135.0       135.0          NA     1.0      0.0      0.0   \n",
       "58   2568.0       3.0        90.0          60     4.0      0.0      1.0   \n",
       "59   2569.0     132.0       132.0          NA     1.0      0.0      0.0   \n",
       "60   2571.0       0.0        87.0          57     4.0      0.0      1.0   \n",
       "61   2572.0     129.0       129.0          NA     1.0      0.0      0.0   \n",
       "62   2574.0       0.0        84.0          54     3.0      0.0      1.0   \n",
       "63   2575.0     126.0       126.0          NA     1.0      0.0      0.0   \n",
       "64   2577.0      51.0        81.0          51     2.0      0.0      0.0   \n",
       "65   2578.0     123.0       123.0          NA     1.0      0.0      0.0   \n",
       "66   2580.0      48.0        78.0          48     2.0      0.0      0.0   \n",
       "67   2581.0     120.0       120.0          NA     1.0      0.0      0.0   \n",
       "68   2583.0      45.0        75.0          45     2.0      0.0      0.0   \n",
       "69   2584.0     117.0       117.0          NA     1.0      0.0      0.0   \n",
       "70   2586.0      42.0        72.0          42     2.0      0.0      0.0   \n",
       "71   2587.0     114.0       114.0          NA     1.0      0.0      0.0   \n",
       "72   2589.0      39.0        69.0          39     2.0      0.0      0.0   \n",
       "73   2590.0     111.0       111.0          NA     1.0      0.0      0.0   \n",
       "74   2592.0      36.0        66.0          36     2.0      0.0      0.0   \n",
       "75   2593.0     108.0       108.0          NA     1.0      0.0      0.0   \n",
       "76   2595.0      33.0        63.0          33     2.0      0.0      0.0   \n",
       "77   2596.0     105.0       105.0          NA     1.0      0.0      0.0   \n",
       "78   2598.0      30.0        60.0          30     2.0      0.0      0.0   \n",
       "79   2601.0      27.0        57.0          27     2.0      0.0      0.0   \n",
       "\n",
       "    numTTGGA  numATG  numStop  gcCont  \n",
       "0        0.0     0.0      1.0    62.0  \n",
       "1        0.0     0.0      1.0    63.0  \n",
       "2        0.0     0.0      1.0    63.5  \n",
       "3        0.0     0.0      1.0    64.1  \n",
       "4        0.0     0.0      1.0    63.0  \n",
       "5        0.0     0.0      1.0    63.5  \n",
       "6        0.0     0.0      1.0    64.1  \n",
       "7        0.0     0.0      0.0    64.6  \n",
       "8        0.0     0.0      0.0    63.5  \n",
       "9        0.0     0.0      0.0    63.0  \n",
       "10       0.0     0.0      1.0    62.5  \n",
       "11       0.0     0.0      1.0    63.0  \n",
       "12       0.0     0.0      1.0    63.0  \n",
       "13       0.0     0.0      1.0    62.5  \n",
       "14       0.0     0.0      1.0    62.0  \n",
       "15       0.0     0.0      1.0    62.0  \n",
       "16       0.0     0.0      1.0    63.0  \n",
       "17       0.0     0.0      1.0    62.5  \n",
       "18       0.0     0.0      1.0    62.0  \n",
       "19       0.0     0.0      1.0    61.5  \n",
       "20       0.0     0.0      1.0    61.5  \n",
       "21       0.0     0.0      1.0    62.0  \n",
       "22       0.0     0.0      1.0    62.5  \n",
       "23       0.0     0.0      1.0    62.0  \n",
       "24       0.0     0.0      1.0    62.0  \n",
       "25       0.0     0.0      1.0    62.0  \n",
       "26       0.0     0.0      1.0    61.5  \n",
       "27       0.0     0.0      1.0    61.5  \n",
       "28       0.0     0.0      1.0    62.0  \n",
       "29       0.0     0.0      1.0    62.0  \n",
       "30       0.0     0.0      1.0    61.5  \n",
       "31       0.0     0.0      1.0    61.5  \n",
       "32       0.0     0.0      1.0    61.5  \n",
       "33       0.0     0.0      1.0    61.5  \n",
       "34       0.0     0.0      1.0    61.5  \n",
       "35       0.0     0.0      1.0    60.9  \n",
       "36       0.0     0.0      1.0    62.0  \n",
       "37       0.0     0.0      1.0    61.5  \n",
       "38       0.0     0.0      1.0    62.0  \n",
       "39       0.0     0.0      1.0    62.5  \n",
       "40       0.0     0.0      1.0    62.0  \n",
       "41       0.0     0.0      1.0    62.0  \n",
       "0        0.0     0.0      1.0    62.5  \n",
       "1        0.0     0.0      1.0    62.5  \n",
       "2        0.0     0.0      1.0    63.5  \n",
       "3        0.0     0.0      1.0    63.5  \n",
       "4        0.0     0.0      1.0    62.5  \n",
       "5        0.0     0.0      1.0    63.0  \n",
       "6        0.0     0.0      1.0    62.5  \n",
       "7        0.0     0.0      1.0    61.5  \n",
       "8        0.0     0.0      1.0    61.5  \n",
       "9        0.0     0.0      1.0    62.0  \n",
       "10       0.0     0.0      1.0    61.5  \n",
       "11       0.0     0.0      1.0    62.0  \n",
       "12       0.0     0.0      1.0    62.0  \n",
       "13       0.0     0.0      1.0    61.5  \n",
       "14       0.0     0.0      1.0    61.5  \n",
       "15       0.0     0.0      1.0    62.0  \n",
       "16       0.0     0.0      1.0    61.5  \n",
       "17       0.0     0.0      1.0    61.5  \n",
       "18       0.0     0.0      1.0    61.5  \n",
       "19       0.0     0.0      1.0    61.5  \n",
       "20       0.0     0.0      1.0    62.0  \n",
       "21       0.0     0.0      1.0    62.0  \n",
       "22       0.0     0.0      1.0    62.0  \n",
       "23       0.0     0.0      1.0    63.0  \n",
       "24       0.0     0.0      1.0    63.0  \n",
       "25       0.0     0.0      1.0    63.0  \n",
       "26       0.0     0.0      1.0    63.5  \n",
       "27       0.0     0.0      1.0    63.5  \n",
       "28       0.0     0.0      1.0    63.5  \n",
       "29       0.0     0.0      1.0    64.1  \n",
       "30       0.0     0.0      1.0    64.1  \n",
       "31       0.0     0.0      1.0    64.6  \n",
       "32       0.0     0.0      1.0    65.1  \n",
       "33       0.0     0.0      1.0    65.6  \n",
       "34       0.0     0.0      1.0    65.6  \n",
       "35       0.0     0.0      1.0    65.6  \n",
       "36       0.0     0.0      1.0    65.6  \n",
       "37       0.0     0.0      1.0    66.7  \n",
       "38       0.0     0.0      1.0    66.7  \n",
       "39       0.0     0.0      1.0    66.1  \n",
       "40       0.0     0.0      1.0    65.6  \n",
       "41       0.0     0.0      1.0    65.6  \n",
       "42       0.0     0.0      1.0    65.6  \n",
       "43       0.0     0.0      1.0    64.6  \n",
       "44       0.0     0.0      1.0    65.1  \n",
       "45       0.0     0.0      1.0    64.6  \n",
       "46       0.0     0.0      1.0    64.6  \n",
       "47       0.0     0.0      1.0    65.1  \n",
       "48       0.0     0.0      1.0    65.1  \n",
       "49       0.0     0.0      1.0    66.1  \n",
       "50       0.0     0.0      1.0    67.2  \n",
       "51       0.0     0.0      1.0    65.1  \n",
       "52       0.0     0.0      1.0    65.1  \n",
       "53       0.0     0.0      1.0    65.1  \n",
       "54       0.0     0.0      1.0    66.1  \n",
       "55       0.0     0.0      1.0    65.1  \n",
       "56       0.0     0.0      1.0    65.1  \n",
       "57       0.0     0.0      1.0    65.1  \n",
       "58       0.0     0.0      1.0    64.6  \n",
       "59       0.0     0.0      1.0    64.6  \n",
       "60       0.0     0.0      1.0    64.1  \n",
       "61       0.0     0.0      1.0    64.6  \n",
       "62       0.0     0.0      1.0    64.1  \n",
       "63       0.0     0.0      1.0    64.6  \n",
       "64       0.0     0.0      1.0    64.1  \n",
       "65       0.0     0.0      1.0    64.1  \n",
       "66       0.0     0.0      1.0    64.1  \n",
       "67       0.0     0.0      1.0    64.1  \n",
       "68       0.0     0.0      1.0    63.0  \n",
       "69       0.0     0.0      1.0    62.5  \n",
       "70       0.0     0.0      1.0    62.0  \n",
       "71       0.0     0.0      1.0    62.0  \n",
       "72       0.0     0.0      1.0    62.0  \n",
       "73       0.0     0.0      1.0    61.5  \n",
       "74       0.0     0.0      1.0    61.5  \n",
       "75       0.0     0.0      1.0    60.9  \n",
       "76       0.0     0.0      1.0    60.9  \n",
       "77       0.0     0.0      1.0    60.9  \n",
       "78       0.0     0.0      1.0    60.4  \n",
       "79       0.0     0.0      1.0    60.4  "
      ]
     },
     "execution_count": 117,
     "metadata": {},
     "output_type": "execute_result"
    }
   ],
   "source": [
    "all_sesRNAs, all_sequenceMetrics, all_sesRNA_objs = generate_all_sesRNAs(rC_exon_records, C_exon_records, CDS, parameters, variantTable['Type'])\n",
    "all_sequenceMetrics"
   ]
  },
  {
   "cell_type": "code",
   "execution_count": null,
   "id": "a895af19-78a1-465a-911a-746828856516",
   "metadata": {},
   "outputs": [],
   "source": []
  },
  {
   "cell_type": "code",
   "execution_count": null,
   "id": "de778336-e9d6-4378-a688-4e179f6469c1",
   "metadata": {},
   "outputs": [],
   "source": []
  },
  {
   "cell_type": "code",
   "execution_count": null,
   "id": "ef42dd2e-bf6f-4cbd-8e74-aa08ce3d82b9",
   "metadata": {},
   "outputs": [],
   "source": []
  },
  {
   "cell_type": "code",
   "execution_count": null,
   "id": "3625defd-51b7-4fb8-b7dd-7d0e838b8f3f",
   "metadata": {},
   "outputs": [],
   "source": []
  },
  {
   "cell_type": "code",
   "execution_count": null,
   "id": "1743f1a8-4581-460b-b5e9-d990443c8d7e",
   "metadata": {},
   "outputs": [],
   "source": []
  },
  {
   "cell_type": "markdown",
   "id": "de55e562-ad5a-49b7-873e-2fd59d473e04",
   "metadata": {},
   "source": [
    "# Secondary structure "
   ]
  },
  {
   "cell_type": "markdown",
   "id": "40364920-4c4a-408f-82e2-e15f943024e7",
   "metadata": {},
   "source": [
    "## Working "
   ]
  },
  {
   "cell_type": "code",
   "execution_count": null,
   "id": "10d1c1a4-fe89-496d-9eea-6d79cf096a13",
   "metadata": {
    "tags": []
   },
   "outputs": [],
   "source": [
    "generate_RNApred(all_sesRNAs, all_sequenceMetrics, geneName, 1)"
   ]
  },
  {
   "cell_type": "code",
   "execution_count": null,
   "id": "1ffdce5a-f43f-467f-bc80-f1648f30fe64",
   "metadata": {
    "tags": []
   },
   "outputs": [],
   "source": [
    "def generate_mfeProb(sequenceMetrics, species, spliceVariant): \n",
    "    rnaFold_prob = []\n",
    "\n",
    "    spliceVariant = str(spliceVariant)\n",
    "    save_speciesName = species.replace(\" \", \"_\")\n",
    "    gene_BasePath = ensembl_BasePath + '/' + save_speciesName + '/' + geneName \n",
    "    CDS_fileName = gene_BasePath + '_cds_' + spliceVariant + '_' + save_speciesName + '.fasta'\n",
    "    \n",
    "    pathTemp = '/home/user1/Dropbox/Research/Neurobiology_PhD/Huang/Projects/CellReadR/Code/Output/BioPython/Temp'\n",
    "    pathOutTempFold = pathTemp + '/temp.out'\n",
    "\n",
    "    # sorting files in output of scandir \n",
    "    for entry in sorted(os.scandir(pathTemp), key=lambda e: e.name):\n",
    "        # Defining command for RNAfold \n",
    "        commandFold = 'RNAfold -p -d2 --noLP < ' + entry.path + ' > ' + pathOutTempFold    \n",
    "        # Generating RNAfold predictions \n",
    "        generateProb = subprocess.run(commandFold, shell=True, stdout=subprocess.PIPE)\n",
    "        \n",
    "        # Moving to Temp directory to work on fasta files \n",
    "        currentWD = os.getcwd()\n",
    "        os.chdir('/home/user1/Dropbox/Research/Neurobiology_PhD/Huang/Projects/CellReadR/Code/Output/BioPython/Temp')\n",
    "\n",
    "        # Running script for getting probabilities from RNAfold output file (added to ArchBin btw)\n",
    "        readProb = subprocess.Popen(\"rnaFold_prob.sh\", shell=True, stdout=subprocess.PIPE)\n",
    "        returnedProb = readProb.stdout.read()\n",
    "        # Waiting for last command to finish before storing value in temp.out file \n",
    "        readProb.wait()\n",
    "        # Append frequences ... convert to percentage \n",
    "        rnaFold_prob.append(round(float(returnedProb)*100, 3))\n",
    "        \n",
    "        # Removing temp.out after finishing each run \n",
    "        os.system('rm -rf temp.out')\n",
    "        os.system('rm -rf temp.csv')\n",
    "        # Return to initial working directory \n",
    "        os.chdir(currentWD)\n",
    "\n",
    "    # Removing files generated by RNAfold \n",
    "    os.system('rm -rf *ss.ps')\n",
    "    os.system('rm -rf *dp.ps')\n",
    "    \n",
    "    # Adding RNA fold mfe ensemble frequency to sequenceMetrics \n",
    "    sequenceMetrics['mfeFreq'] = rnaFold_prob\n",
    "    \n",
    "    return sequenceMetrics  "
   ]
  },
  {
   "cell_type": "code",
   "execution_count": null,
   "id": "33993eff-2698-4408-97ec-19a003437ce3",
   "metadata": {
    "tags": []
   },
   "outputs": [],
   "source": [
    "fold_sequenceMetrics = generate_mfeProb(all_sequenceMetrics, speciesName, spliceVariant)\n",
    "fold_sequenceMetrics "
   ]
  },
  {
   "cell_type": "code",
   "execution_count": null,
   "id": "3448af12-43fe-44d3-87bb-ed03c8467b98",
   "metadata": {},
   "outputs": [],
   "source": []
  },
  {
   "cell_type": "code",
   "execution_count": null,
   "id": "fb96d7a5-8d1d-4dcb-bf3b-21b5f3fcc34e",
   "metadata": {},
   "outputs": [],
   "source": []
  },
  {
   "cell_type": "code",
   "execution_count": null,
   "id": "bd38ef79-e62a-4431-8747-a54cb693421d",
   "metadata": {},
   "outputs": [],
   "source": []
  },
  {
   "cell_type": "code",
   "execution_count": null,
   "id": "b75c8939-8b0a-41a7-8912-f6edbe830dac",
   "metadata": {
    "tags": []
   },
   "outputs": [],
   "source": [
    "def output_RIblast(sequenceMetrics, geneName, testSpecies, spliceVariant, targetName):\n",
    "    spliceVariant = str(spliceVariant)\n",
    "    save_test_speciesName = testSpecies.replace(\" \", \"_\")\n",
    "    gene_BasePath = ensembl_BasePath + '/' + save_test_speciesName + '/' + geneName \n",
    "    \n",
    "    if targetName == 'CDS':\n",
    "        target_fileName = gene_BasePath + '_cds_' + spliceVariant + '_' + save_test_speciesName + '.fasta'\n",
    "    elif targetName == 'cDNA':\n",
    "        target_fileName = gene_BasePath + '_cdna_' + spliceVariant + '_' + save_test_speciesName + '.fasta'\n",
    "    elif targetName == 'genomic':\n",
    "        target_fileName = gene_BasePath + '_genomic_' + spliceVariant + '_' + save_test_speciesName + '.fasta'\n",
    "    print(target_fileName)\n",
    "    \n",
    "    # Path to tempRIblast folder \n",
    "    path_tempRIblast = '/home/user1/Dropbox/Research/Neurobiology_PhD/Huang/Projects/CellReadR/Code/Output/RIblast/'\n",
    "    query_Name = path_tempRIblast + geneName + '_db'\n",
    "    \n",
    "    # Generating query database \n",
    "    commandQuery = 'RIblast db -i ' + target_fileName + ' -o ' + query_Name\n",
    "    os.system(commandQuery)\n",
    "\n",
    "    # Path and file name for output CSV \n",
    "    outputName = path_tempRIblast + geneName + '.csv'\n",
    "    # Path to directory sesRNA files \n",
    "    path_sesRNAs = '/home/user1/Dropbox/Research/Neurobiology_PhD/Huang/Projects/CellReadR/Code/Output/BioPython/Temp'\n",
    "    \n",
    "    \n",
    "    # Generating pd.DataFrame for storing calculated values \n",
    "    columns_RIblast = [' Accessibility Energy', ' Hybridization Energy', ' Interaction Energy', ' BasePair', \n",
    "                       ' Accessibility Energy', ' Hybridization Energy', ' Interaction Energy', ' BasePair']\n",
    "    useful_RIblast =  pd.DataFrame(columns = columns_RIblast)\n",
    "    \n",
    "    # Iteratively generating calculations for sesRNA-target interaction \n",
    "    # Made sure to go through sesRNA files in order \n",
    "    for entry in sorted(os.scandir(path_sesRNAs), key=lambda e: e.name):\n",
    "        # Running RIblast calculations \n",
    "        commandSearch = 'RIblast ris -i ' + entry.path + ' -o ' + outputName + ' -d ' + query_Name\n",
    "        os.system(commandSearch)\n",
    "        print(entry.path)\n",
    "        \n",
    "        # Remove first two lines from CVS to allow for parsing into pandas.Dataframe \n",
    "        commandRemoveLines = 'sed -i 1,2d ' + outputName \n",
    "        os.system(commandRemoveLines)\n",
    "\n",
    "        outputCSV =  pd.read_csv(outputName, skiprows=[1])\n",
    "        # Sorting by hybirzation energy ... have to have extra white space before column name \n",
    "        sorted_outputCSV = outputCSV.sort_values(' Hybridization Energy')\n",
    "\n",
    "        topHybridizationE = sorted_outputCSV[[' Accessibility Energy', ' Hybridization Energy', ' Interaction Energy', ' BasePair']].iloc[0:1]\n",
    "        secondHybridizationE = sorted_outputCSV[[' Accessibility Energy', ' Hybridization Energy', ' Interaction Energy', ' BasePair']].iloc[1:2]\n",
    "        temp_RIblast_ouput = pd.concat([topHybridizationE.reset_index(drop=True), secondHybridizationE.reset_index(drop=True)], axis = 1)\n",
    "\n",
    "        # Appending calculations for current sesRNA values \n",
    "        useful_RIblast = useful_RIblast.append(temp_RIblast_ouput)\n",
    "        \n",
    "        # Clearing csv \n",
    "        command_clearCSV = 'rm -rf ' + outputName\n",
    "        os.system(command_clearCSV)\n",
    "        # Clear BioPython temp fasta file for sesRNA \n",
    "        os.system('rm -rf ' + entry.path)\n",
    "    \n",
    "    # Clear RIblast Temp directory \n",
    "    os.system(\"rm -rf \" + path_tempRIblast + \"*\")\n",
    "    \n",
    "    return useful_RIblast"
   ]
  },
  {
   "cell_type": "code",
   "execution_count": null,
   "id": "0f85a5da-ecfc-4161-9703-c89ff77e7a7f",
   "metadata": {},
   "outputs": [],
   "source": []
  },
  {
   "cell_type": "code",
   "execution_count": null,
   "id": "5ef2309f-a0fe-41de-a8f2-69bb22ebac24",
   "metadata": {
    "tags": []
   },
   "outputs": [],
   "source": [
    "#test_speciesName = 'Crab-eating macaque'\n",
    "test_speciesName = speciesName"
   ]
  },
  {
   "cell_type": "code",
   "execution_count": null,
   "id": "b27028a4-176a-4a5f-aa42-7f2fafdc5795",
   "metadata": {
    "tags": []
   },
   "outputs": [],
   "source": [
    "# Downloading species name if test species is not same as initial species \n",
    "if test_speciesName != speciesName:\n",
    "    test_ensembl_transcriptIDs = return_ensemblTranscriptIDs(test_speciesName, geneName)\n",
    "    test_variantTable = table_transcriptsInfo(test_ensembl_transcriptIDs)\n",
    "    # Chooses canonical transcript\n",
    "    test_spliceVariant = int(test_variantTable[test_variantTable['Is_Canonical'] == 'True']['TranscriptNum'])\n",
    "    test_rC_exon_records, test_C_exon_records, test_CDS, test_cDNA, test_genomic = load_referenceSequences(test_speciesName, geneName, test_spliceVariant)"
   ]
  },
  {
   "cell_type": "code",
   "execution_count": null,
   "id": "1902f4e0-ee79-4551-b85c-9ef48799b887",
   "metadata": {
    "tags": []
   },
   "outputs": [],
   "source": []
  },
  {
   "cell_type": "code",
   "execution_count": null,
   "id": "f4d3974a-2907-4c23-9f6c-6f00f9b9f0b5",
   "metadata": {},
   "outputs": [],
   "source": []
  },
  {
   "cell_type": "code",
   "execution_count": null,
   "id": "a97ad4dd-3db3-4c70-9ad6-c8f0b2aefe3b",
   "metadata": {
    "tags": []
   },
   "outputs": [],
   "source": [
    "outputRIblast = output_RIblast(fold_sequenceMetrics, geneName, test_speciesName, spliceVariant, 'cDNA')\n",
    "outputRIblast"
   ]
  },
  {
   "cell_type": "code",
   "execution_count": null,
   "id": "b6f26594-d7f8-4760-8baa-74298c7b81e0",
   "metadata": {
    "tags": []
   },
   "outputs": [],
   "source": [
    "metricsTable_higherOrder = pd.concat([fold_sequenceMetrics.reset_index(drop=True), outputRIblast.reset_index(drop=True).iloc[:, 0:4]], axis = 1)"
   ]
  },
  {
   "cell_type": "code",
   "execution_count": null,
   "id": "e2318902-eeff-4ec3-bfae-bfba815deefa",
   "metadata": {
    "tags": []
   },
   "outputs": [],
   "source": [
    "sesRNA_length/2"
   ]
  },
  {
   "cell_type": "code",
   "execution_count": null,
   "id": "b4ef418a-0d79-46ed-a730-5474d1129c9f",
   "metadata": {
    "tags": []
   },
   "outputs": [],
   "source": [
    "metricsTable_higherOrder"
   ]
  },
  {
   "cell_type": "code",
   "execution_count": null,
   "id": "667f892a-3f73-48a6-8ca0-7d81d76e6f4e",
   "metadata": {},
   "outputs": [],
   "source": []
  },
  {
   "cell_type": "code",
   "execution_count": null,
   "id": "48905245-3c00-462f-ae92-6dcecd014bc2",
   "metadata": {},
   "outputs": [],
   "source": []
  },
  {
   "cell_type": "code",
   "execution_count": null,
   "id": "d529cf6a-eedf-4e5d-8ffc-6364144e6359",
   "metadata": {},
   "outputs": [],
   "source": []
  },
  {
   "cell_type": "code",
   "execution_count": null,
   "id": "bdf379c4-65f2-40c7-8365-b43897c09665",
   "metadata": {
    "tags": []
   },
   "outputs": [],
   "source": [
    "sesChoice = 20\n",
    "chosenSequence = all_sesRNAs[sesChoice - 1]"
   ]
  },
  {
   "cell_type": "code",
   "execution_count": null,
   "id": "d48994f1-cd0e-4e52-81ee-2c24bfde8d63",
   "metadata": {
    "tags": []
   },
   "outputs": [],
   "source": [
    "str(chosenSequence)"
   ]
  },
  {
   "cell_type": "code",
   "execution_count": null,
   "id": "eee9a4d3-5e4e-4417-8392-5ecef3de54d2",
   "metadata": {
    "tags": []
   },
   "outputs": [],
   "source": [
    "return_inFrame(chosenSequence, 'all')"
   ]
  },
  {
   "cell_type": "code",
   "execution_count": null,
   "id": "13889092-b273-45a3-92d7-3a77320a0f57",
   "metadata": {
    "tags": []
   },
   "outputs": [],
   "source": [
    "from Bio.Restriction import *"
   ]
  },
  {
   "cell_type": "code",
   "execution_count": null,
   "id": "56cdfbcb-20aa-49de-8d7d-196e90c8a075",
   "metadata": {
    "tags": []
   },
   "outputs": [],
   "source": [
    "len(EcoRI.search(chosenSequence)) == 0"
   ]
  },
  {
   "cell_type": "code",
   "execution_count": null,
   "id": "2a377421-2e4c-4c2f-a1d0-e29e2d5ee33f",
   "metadata": {
    "tags": []
   },
   "outputs": [],
   "source": [
    "len(AscI.search(chosenSequence)) == 0"
   ]
  },
  {
   "cell_type": "code",
   "execution_count": null,
   "id": "93fe04ba-4d50-4466-b563-7cd2e64c26dc",
   "metadata": {
    "tags": []
   },
   "outputs": [],
   "source": [
    "len(HindIII.search(chosenSequence)) == 0"
   ]
  },
  {
   "cell_type": "code",
   "execution_count": null,
   "id": "7181de11-9bfe-421b-936f-d65a0d4ef54d",
   "metadata": {},
   "outputs": [],
   "source": []
  },
  {
   "cell_type": "code",
   "execution_count": null,
   "id": "506ad0ba-4688-4a92-85d2-574577098f76",
   "metadata": {},
   "outputs": [],
   "source": []
  },
  {
   "cell_type": "code",
   "execution_count": null,
   "id": "d2ed767b-506c-453a-9bef-92564637138a",
   "metadata": {},
   "outputs": [],
   "source": [
    "testSeq = 'CCTCCTCGCTGCCCTCGGACTTGAGGATGTCCATCTGCAGCCCTTGCCGATGCTCCATGTCCAGGTCGTCGCAGTGGGCGAAGCCCACCGCCTCCTCGTCGGTGGCCGCCTGGAAGCCCATCCTGGCGAACATGCCGCTCATCTTCGCCTGGGATTTGTGCGACACCGAGGTGGCCACGTTGGAGAGCTTGCTGCGGAGGAGGG'"
   ]
  },
  {
   "cell_type": "code",
   "execution_count": null,
   "id": "1debc189-e6c6-4dc5-870b-8603a7bc68ef",
   "metadata": {
    "tags": []
   },
   "outputs": [],
   "source": [
    "testSeq = 'CCTCCTCGCTGCCCTCGGACTTGAGGATGTCCATCTGCAGCCCTTGCCGATGCTCCATGTCCAGGTCGTCGCAGTGGGCGAAGCCCACCGCCTCCTCGTCGGTGGCCGCCTGGAAGCCCATCCTGGCGAACATGCCGCTCATCTTCGCCTGGGATTTGTGCGACACCGAGGTGGCCACGTTGGAGAGCTTGCTGCGGAGGAGGG'"
   ]
  },
  {
   "cell_type": "code",
   "execution_count": null,
   "id": "cbc1ba24-afc5-448e-ace0-2e9be0400e82",
   "metadata": {
    "tags": []
   },
   "outputs": [],
   "source": [
    "return_inFrame(Seq(testSeq), 'all')"
   ]
  },
  {
   "cell_type": "code",
   "execution_count": null,
   "id": "47efb93a-8b57-4f5d-abd3-afd13483d35f",
   "metadata": {},
   "outputs": [],
   "source": []
  },
  {
   "cell_type": "code",
   "execution_count": null,
   "id": "219e0cbe-3357-4a54-8099-7be3f8aaa9a8",
   "metadata": {},
   "outputs": [],
   "source": []
  },
  {
   "cell_type": "code",
   "execution_count": null,
   "id": "020a8ae4-f9fc-4a31-985f-9d309e6fce42",
   "metadata": {},
   "outputs": [],
   "source": [
    "save_all_sesRNAs_DNA(all_sesRNAs, speciesName, geneName)"
   ]
  },
  {
   "cell_type": "code",
   "execution_count": null,
   "id": "3c39e45a-1f84-4b70-ab06-23ee451749cb",
   "metadata": {},
   "outputs": [],
   "source": []
  },
  {
   "cell_type": "code",
   "execution_count": null,
   "id": "a068c379-c859-4bd8-988c-d7ad31656c02",
   "metadata": {},
   "outputs": [],
   "source": []
  },
  {
   "cell_type": "code",
   "execution_count": null,
   "id": "4861b92d-9e17-4751-9c36-5afb602c52cc",
   "metadata": {},
   "outputs": [],
   "source": []
  },
  {
   "cell_type": "code",
   "execution_count": null,
   "id": "acbcf049-e0bd-43bc-8637-00f3a1128947",
   "metadata": {},
   "outputs": [],
   "source": [
    "AscI.site"
   ]
  },
  {
   "cell_type": "code",
   "execution_count": null,
   "id": "10834279-bcf3-44ff-a0be-d4521d9ce375",
   "metadata": {},
   "outputs": [],
   "source": [
    "testSeq = 'GGTAGCTCGACTGGCTTCTACCTTTCGGGTACCTTCACGGGCTTTTCTTTCGGGGCGACACGCTGACGTGGACGAAGCCCGACGGGGCCGCCATATAGTAGCGGTAGTACTCGCCTGACCCTAAGACGTAAAGGAAGCCGTAGGCTACATTGGACCCTCACCGGTAGCACCTATACCAGTTATTGTCGTGGT'"
   ]
  },
  {
   "cell_type": "code",
   "execution_count": null,
   "id": "17c6bbc8-f992-40e1-8a0e-d9efbc28f112",
   "metadata": {},
   "outputs": [],
   "source": [
    "testSeq[::-1]"
   ]
  },
  {
   "cell_type": "code",
   "execution_count": null,
   "id": "9cc1c9e8-5a8c-4f3d-a0b2-e3b938574258",
   "metadata": {},
   "outputs": [],
   "source": []
  },
  {
   "cell_type": "code",
   "execution_count": null,
   "id": "eebaba27-43fd-490e-933e-a06ceff01822",
   "metadata": {},
   "outputs": [],
   "source": []
  },
  {
   "cell_type": "code",
   "execution_count": null,
   "id": "99224ed0-8487-4ebd-bae4-c394f69dad4e",
   "metadata": {
    "tags": []
   },
   "outputs": [],
   "source": [
    "check_inSearchSeq(all_sesRNAs[0], CDS, 'Complement')"
   ]
  },
  {
   "cell_type": "code",
   "execution_count": null,
   "id": "ff538f45-b11c-463f-a31e-bd97be7d7378",
   "metadata": {},
   "outputs": [],
   "source": []
  },
  {
   "cell_type": "code",
   "execution_count": null,
   "id": "094bebc3-1462-4dc8-b16a-47a5bc4b3f07",
   "metadata": {},
   "outputs": [],
   "source": []
  },
  {
   "cell_type": "code",
   "execution_count": null,
   "id": "dba0508f-81a5-4bb1-8d7f-ab968aee0c13",
   "metadata": {},
   "outputs": [],
   "source": []
  },
  {
   "cell_type": "code",
   "execution_count": null,
   "id": "748894a7-eb6d-4b71-a00e-2fc70a7d35ad",
   "metadata": {},
   "outputs": [],
   "source": []
  },
  {
   "cell_type": "code",
   "execution_count": null,
   "id": "290eb1d8-3721-4914-88d7-94d146c91d97",
   "metadata": {},
   "outputs": [],
   "source": []
  },
  {
   "cell_type": "code",
   "execution_count": null,
   "id": "576ed6cc-caa8-46fb-a683-d1cea9465d0f",
   "metadata": {},
   "outputs": [],
   "source": []
  },
  {
   "cell_type": "code",
   "execution_count": null,
   "id": "b002e8d2-b54f-49a8-952e-d556bddb7f75",
   "metadata": {
    "tags": []
   },
   "outputs": [],
   "source": [
    "def output_intaRNA(sequenceMetrics):\n",
    "    # Call RNAfold on each sequence of output \n",
    "    top_intarnaE = []\n",
    "\n",
    "    intarna_columns = ['E', 'start1', 'end1', 'start2', 'end2']\n",
    "    all_sorted_intarna = []\n",
    "    useful_intarna =  pd.DataFrame(columns = intarna_columns)\n",
    "\n",
    "    martBase = '/home/user1/Dropbox/Research/Neurobiology_PhD/Rotations/Huang/Projects/CellReadR/Code/Output/biomaRt/'\n",
    "    martBasePath = martBase + species\n",
    "    # Loading sequences for gene CDS\n",
    "    CDS_fileName = martBasePath + '/CDS_' + geneName + '.fasta'\n",
    "    \n",
    "    pathTemp = '/home/user1/Dropbox/Research/Neurobiology_PhD/Rotations/Huang/Projects/CellReadR/Code/Output/BioPython/Temp'\n",
    "    pathOutTempIntaRNA = pathTemp + '/temp.csv'\n",
    "\n",
    "    # sorting files in output of scandir \n",
    "    for entry in sorted(os.scandir(pathTemp), key=lambda e: e.name):\n",
    "        # For checking which file currently working on (not in order for some reason) \n",
    "        print(entry.path)\n",
    "\n",
    "        # Defining command for IntaRNA\n",
    "        numThreads = 10\n",
    "        commandInta = 'IntaRNA -t ' + CDS_fileName + ' -q ' + entry.path + ' --threads ' + str(numThreads) + ' --outMode=C > ' + pathOutTempIntaRNA\n",
    "        # Generating IntaRNA predictions \n",
    "        os.system(commandInta)\n",
    "        # Reading in csv file with information \n",
    "        intarnaOutput = pd.read_csv(pathOutTempIntaRNA, sep = ';')\n",
    "        # Saving pd output as list of lists ... would be a pain to compute multiple times if desired \n",
    "        sorted_intarna = intarnaOutput.sort_values('E', ascending=True)\n",
    "        # Concatinating select columuns of dataframe for inclusion into sequence metrics \n",
    "        all_sorted_intarna.append(sorted_intarna)\n",
    "        print(sorted_intarna)\n",
    "        # Getting first row ... with highest energy values ... and appending to DataFrame \n",
    "        useful_intarna = useful_intarna.append(sorted_intarna[intarna_columns].iloc[0:1])\n",
    "        \n",
    "        # Moving to Temp directory to work on fasta files \n",
    "        currentWD = os.getcwd()\n",
    "        os.chdir('/home/user1/Dropbox/Research/Neurobiology_PhD/Rotations/Huang/Projects/CellReadR/Code/Output/BioPython/Temp')\n",
    "\n",
    "        # Removing temp.out after finishing each run \n",
    "        os.system('rm -rf temp.out')\n",
    "        os.system('rm -rf temp.csv')\n",
    "        # Return to initial working directory \n",
    "        os.chdir(currentWD)\n",
    "\n",
    "    # Removing files generated by RNAfold \n",
    "    os.system('rm -rf *ss.ps')\n",
    "    os.system('rm -rf *dp.ps')\n",
    "    # Removing temp fasta files \n",
    "#     resetCommand = 'cd ' + pathTemp + ' && rm -rf *'\n",
    "#     os.system(resetCommand)\n",
    "    \n",
    "    # Have to reset index since useful_intarna is slice of many pd.DataFrames \n",
    "    out_sequenceMetrics = pd.concat([sequenceMetrics.reset_index(), useful_intarna.reset_index()], axis = 1)\n",
    "    \n",
    "    return out_sequenceMetrics "
   ]
  },
  {
   "cell_type": "code",
   "execution_count": null,
   "id": "b4065dfd-6ba8-4186-a019-b2f6adc008ef",
   "metadata": {},
   "outputs": [],
   "source": [
    "intarna_sequenceMetrics = output_intaRNA(fold_sequenceMetrics)\n",
    "intarna_sequenceMetrics"
   ]
  },
  {
   "cell_type": "code",
   "execution_count": null,
   "id": "b6eef22b-89be-40f5-93fb-477daa134d49",
   "metadata": {},
   "outputs": [],
   "source": []
  },
  {
   "cell_type": "code",
   "execution_count": null,
   "id": "0436b4a2-1f6e-4ce9-bc0b-4cde8c2ad950",
   "metadata": {},
   "outputs": [],
   "source": []
  },
  {
   "cell_type": "code",
   "execution_count": null,
   "id": "7d08a463-3d7d-4928-b8b1-90d8217468a9",
   "metadata": {
    "tags": []
   },
   "outputs": [],
   "source": [
    "def output_RNApred(sequenceMetrics):\n",
    "    # Call RNAfold on each sequence of output \n",
    "    rnaFold_prob = []\n",
    "    top_intarnaE = []\n",
    "\n",
    "    intarna_columns = ['E', 'start1', 'end1', 'start2', 'end2']\n",
    "    all_sorted_intarna = []\n",
    "    useful_intarna =  pd.DataFrame(columns = intarna_columns)\n",
    "\n",
    "    martBase = '/home/user1/Dropbox/Research/Neurobiology_PhD/Rotations/Huang/Projects/CellReadR/Code/Output/biomaRt/'\n",
    "    martBasePath = martBase + species\n",
    "    # Loading sequences for gene CDS\n",
    "    CDS_fileName = martBasePath + '/CDS_' + geneName + '.fasta'\n",
    "    \n",
    "    pathTemp = '/home/user1/Dropbox/Research/Neurobiology_PhD/Rotations/Huang/Projects/CellReadR/Code/Output/BioPython/Temp'\n",
    "    pathOutTempFold = pathTemp + '/temp.out'\n",
    "    pathOutTempIntaRNA = pathTemp + '/temp.csv'\n",
    "\n",
    "    # sorting files in output of scandir \n",
    "    for entry in sorted(os.scandir(pathTemp), key=lambda e: e.name):\n",
    "        # For checking which file currently working on (not in order for some reason) \n",
    "        print(entry.path)\n",
    "\n",
    "        # Defining command for RNAfold \n",
    "        commandFold = 'RNAfold -p -d2 --noLP < ' + entry.path + ' > ' + pathOutTempFold    \n",
    "        # Generating RNAfold predictions \n",
    "        generateProb = subprocess.run(commandFold, shell=True, stdout=subprocess.PIPE)\n",
    "\n",
    "        # Defining command for IntaRNA\n",
    "        numThreads = 10\n",
    "        commandInta = 'IntaRNA -t ' + CDS_fileName + ' -q ' + entry.path + ' --threads ' + str(numThreads) + ' --outMode=C > ' + pathOutTempIntaRNA\n",
    "        # Generating IntaRNA predictions \n",
    "        os.system(commandInta)\n",
    "        # Reading in csv file with information \n",
    "        intarnaOutput = pd.read_csv(pathOutTempIntaRNA, sep = ';')\n",
    "        # Saving pd output as list of lists ... would be a pain to compute multiple times if desired \n",
    "        sorted_intarna = intarnaOutput.sort_values('E', ascending=True)\n",
    "        # Concatinating select columuns of dataframe for inclusion into sequence metrics \n",
    "        all_sorted_intarna.append(sorted_intarna)\n",
    "        # Getting first row ... with highest energy values ... and appending to DataFrame \n",
    "        useful_intarna = useful_intarna.append(sorted_intarna[intarna_columns].iloc[0:1])\n",
    "        \n",
    "        # Moving to Temp directory to work on fasta files \n",
    "        currentWD = os.getcwd()\n",
    "        os.chdir('/home/user1/Dropbox/Research/Neurobiology_PhD/Rotations/Huang/Projects/CellReadR/Code/Output/BioPython/Temp')\n",
    "\n",
    "        # Running script for getting probabilities from RNAfold output file (added to ArchBin btw)\n",
    "        readProb = subprocess.Popen(\"rnaFold_prob.sh\", shell=True, stdout=subprocess.PIPE)\n",
    "        returnedProb = readProb.stdout.read()\n",
    "        # Waiting for last command to finish before storing value in temp.out file \n",
    "        readProb.wait()\n",
    "        # Append frequences ... convert to percentage \n",
    "        rnaFold_prob.append(float(returnedProb)*100)\n",
    "\n",
    "        \n",
    "        # Removing temp.out after finishing each run \n",
    "        os.system('rm -rf temp.out')\n",
    "        os.system('rm -rf temp.csv')\n",
    "        # Return to initial working directory \n",
    "        os.chdir(currentWD)\n",
    "\n",
    "    # Removing files generated by RNAfold \n",
    "    os.system('rm -rf *ss.ps')\n",
    "    os.system('rm -rf *dp.ps')\n",
    "    # Removing temp fasta files \n",
    "    resetCommand = 'cd ' + pathTemp + ' && rm -rf *'\n",
    "    os.system(resetCommand)\n",
    "    \n",
    "    # Adding RNA fold mfe ensemble frequency to sequenceMetrics \n",
    "    sequenceMetrics['mfeFreq'] = rnaFold_prob\n",
    "    # Have to reset index since useful_intarna is slice of many pd.DataFrames \n",
    "    out_sequenceMetrics = pd.concat([sequenceMetrics.reset_index(), useful_intarna.reset_index()], axis = 1)\n",
    "    \n",
    "    return out_sequenceMetrics "
   ]
  },
  {
   "cell_type": "code",
   "execution_count": null,
   "id": "ffd2ea08-e1d1-49c3-a1bf-3f53638a1f4e",
   "metadata": {},
   "outputs": [],
   "source": []
  },
  {
   "cell_type": "code",
   "execution_count": null,
   "id": "e4551ef2-74ff-454e-907b-bec74bd69932",
   "metadata": {},
   "outputs": [],
   "source": []
  },
  {
   "cell_type": "code",
   "execution_count": null,
   "id": "4307bcf0-7aea-4f1b-8034-1e2f1cd829bc",
   "metadata": {},
   "outputs": [],
   "source": []
  },
  {
   "cell_type": "code",
   "execution_count": null,
   "id": "f6f776c4-b28e-4706-a59f-cb467f615371",
   "metadata": {
    "tags": []
   },
   "outputs": [],
   "source": [
    "higherSequenceMetrics = output_RNApred(all_sequenceMetrics)\n",
    "higherSequenceMetrics"
   ]
  },
  {
   "cell_type": "code",
   "execution_count": null,
   "id": "a6d74ad4-0a72-4237-9891-bd6a511eaf14",
   "metadata": {},
   "outputs": [],
   "source": []
  },
  {
   "cell_type": "code",
   "execution_count": null,
   "id": "378d1531-dfed-421d-9d84-6fa85d60ff8c",
   "metadata": {},
   "outputs": [],
   "source": []
  },
  {
   "cell_type": "code",
   "execution_count": null,
   "id": "d9937546-8b46-4d65-84f3-4d87b072d4ce",
   "metadata": {
    "tags": []
   },
   "outputs": [],
   "source": [
    "\n",
    "\n"
   ]
  },
  {
   "cell_type": "code",
   "execution_count": null,
   "id": "26aa1cf2-5ffd-4927-86e7-1ec61091509c",
   "metadata": {
    "tags": []
   },
   "outputs": [],
   "source": []
  },
  {
   "cell_type": "code",
   "execution_count": null,
   "id": "34077794-d754-4bde-a3a2-115fcba583de",
   "metadata": {},
   "outputs": [],
   "source": []
  },
  {
   "cell_type": "code",
   "execution_count": null,
   "id": "1d03f1ba-0d66-46ee-8d7b-b9366b607424",
   "metadata": {},
   "outputs": [],
   "source": []
  },
  {
   "cell_type": "code",
   "execution_count": null,
   "id": "8d34412e-6d66-472b-a294-81b56fed1ecd",
   "metadata": {},
   "outputs": [],
   "source": []
  },
  {
   "cell_type": "code",
   "execution_count": null,
   "id": "448ea762-c405-41d0-8e27-df0c00091af8",
   "metadata": {},
   "outputs": [],
   "source": []
  },
  {
   "cell_type": "code",
   "execution_count": null,
   "id": "700d487a-075a-41b3-8612-90c88178be9a",
   "metadata": {},
   "outputs": [],
   "source": []
  },
  {
   "cell_type": "markdown",
   "id": "extreme-commissioner",
   "metadata": {},
   "source": [
    "# Outputing sesRNA"
   ]
  },
  {
   "cell_type": "code",
   "execution_count": null,
   "id": "b1b8e880-185b-4298-9977-e397d7ad8785",
   "metadata": {},
   "outputs": [],
   "source": []
  },
  {
   "cell_type": "code",
   "execution_count": null,
   "id": "00027008-a795-48d2-a983-1a735bdb608a",
   "metadata": {},
   "outputs": [],
   "source": []
  },
  {
   "cell_type": "code",
   "execution_count": null,
   "id": "f47875ae-27ec-433f-aec4-e23bf7aca36f",
   "metadata": {
    "tags": []
   },
   "outputs": [],
   "source": []
  },
  {
   "cell_type": "code",
   "execution_count": null,
   "id": "7f8c9e2b-a4f1-4b45-91df-78cb737f5171",
   "metadata": {
    "tags": []
   },
   "outputs": [],
   "source": []
  },
  {
   "cell_type": "code",
   "execution_count": null,
   "id": "6af0e1ef-cb15-4fa0-a3f6-9b9f52d03398",
   "metadata": {
    "tags": []
   },
   "outputs": [],
   "source": [
    "testSeq = Seq('TGGGAGTAGTGGTGGTAATGA')\n",
    "testStr = str(testSeq)"
   ]
  },
  {
   "cell_type": "code",
   "execution_count": null,
   "id": "d71a086f-7e67-4bba-b570-c6b86abc6228",
   "metadata": {},
   "outputs": [],
   "source": [
    "testStr"
   ]
  },
  {
   "cell_type": "code",
   "execution_count": null,
   "id": "2e4f7175-2aef-483b-8f96-831dde95fa64",
   "metadata": {
    "tags": []
   },
   "outputs": [],
   "source": [
    "convert_DNA(testSeq, 1)"
   ]
  },
  {
   "cell_type": "code",
   "execution_count": null,
   "id": "a1acf9c1-c6fa-49e1-99f0-1f920e9aa917",
   "metadata": {},
   "outputs": [],
   "source": []
  },
  {
   "cell_type": "code",
   "execution_count": null,
   "id": "82c811c2-60bc-498b-9c9b-94ab9125b81f",
   "metadata": {},
   "outputs": [],
   "source": []
  },
  {
   "cell_type": "code",
   "execution_count": null,
   "id": "c0fb3c59-4c51-45c6-8f85-392421bd6cf9",
   "metadata": {},
   "outputs": [],
   "source": []
  },
  {
   "cell_type": "code",
   "execution_count": null,
   "id": "a1cf653e-5b1a-45eb-9eb1-35be5f21d605",
   "metadata": {
    "tags": []
   },
   "outputs": [],
   "source": [
    "# Test that all and numbering is working \n",
    "convert_DNA(testSeq, 3) == convert_DNA(testSeq, 'All')"
   ]
  },
  {
   "cell_type": "code",
   "execution_count": null,
   "id": "023548a3-3307-403b-be4e-f6ca37d91bad",
   "metadata": {
    "tags": []
   },
   "outputs": [],
   "source": [
    "convert_DNA(rC_multiExon_sesRNAs[0], 'All')"
   ]
  },
  {
   "cell_type": "code",
   "execution_count": null,
   "id": "90ae4ae5-4c10-4f54-a1c8-d126e2da8a9d",
   "metadata": {
    "tags": []
   },
   "outputs": [],
   "source": [
    "# Testing that continious reading frame being produced if number set to 0 \n",
    "len(convert_DNA(rC_multiExon_sesRNAs[0], 0).translate(to_stop = True)) == len(rC_multiExon_sesRNAs[0])/3"
   ]
  },
  {
   "cell_type": "code",
   "execution_count": null,
   "id": "4d8d7111-a889-4047-802c-602d090da378",
   "metadata": {
    "tags": []
   },
   "outputs": [],
   "source": [
    "# Checking that right number of TGG being converted \n",
    "return_inFrame(convert_DNA(rC_multiExon_sesRNAs[0], 'All').back_transcribe(), 'numTGG')"
   ]
  },
  {
   "cell_type": "code",
   "execution_count": null,
   "id": "1bae4831-23e7-408e-bc9e-9a7aebc136f6",
   "metadata": {},
   "outputs": [],
   "source": []
  },
  {
   "cell_type": "code",
   "execution_count": null,
   "id": "d40fa6fd-c67b-4253-ac72-5e8d27697653",
   "metadata": {},
   "outputs": [],
   "source": []
  },
  {
   "cell_type": "code",
   "execution_count": null,
   "id": "bcc692ef-2b86-49e5-a910-053cf06538db",
   "metadata": {
    "tags": []
   },
   "outputs": [],
   "source": [
    "convert_DNA(testSeq, 1) - (len(testSeq)/2)"
   ]
  },
  {
   "cell_type": "code",
   "execution_count": null,
   "id": "f9570a65-2d19-48da-9328-0a348cdf8b39",
   "metadata": {
    "tags": []
   },
   "outputs": [],
   "source": [
    "abs(convert_DNA(testSeq, 1) - (len(testSeq)/2))"
   ]
  },
  {
   "cell_type": "code",
   "execution_count": null,
   "id": "038c46e2-2379-483e-885b-a74aaa59c52a",
   "metadata": {
    "tags": []
   },
   "outputs": [],
   "source": [
    "np.sort(abs(convert_DNA(testSeq, 1) - (len(testSeq)/2))) + (len(testSeq)/2)"
   ]
  },
  {
   "cell_type": "code",
   "execution_count": null,
   "id": "5a05d474-d9f5-4c6e-bb0d-a04ab3df21c9",
   "metadata": {
    "tags": []
   },
   "outputs": [],
   "source": [
    "np.array(sorted(convert_DNA(testSeq, 1) - (len(testSeq)/2), key = abs)) + (len(testSeq)/2)"
   ]
  },
  {
   "cell_type": "code",
   "execution_count": null,
   "id": "7ee4c058-fcca-469f-90a3-32fd868e95c5",
   "metadata": {},
   "outputs": [],
   "source": []
  },
  {
   "cell_type": "code",
   "execution_count": null,
   "id": "54abcd1d-689a-479a-a0ec-72f227fc50ec",
   "metadata": {},
   "outputs": [],
   "source": []
  },
  {
   "cell_type": "code",
   "execution_count": null,
   "id": "31a227db-5c8c-4bdf-9e5b-e458f6e0449e",
   "metadata": {},
   "outputs": [],
   "source": []
  },
  {
   "cell_type": "code",
   "execution_count": null,
   "id": "a1a573ef-21bc-43ea-825f-40cbd31013c6",
   "metadata": {},
   "outputs": [],
   "source": []
  },
  {
   "cell_type": "code",
   "execution_count": null,
   "id": "8a03757a-e498-4b7b-9419-4466b6620944",
   "metadata": {},
   "outputs": [],
   "source": []
  },
  {
   "cell_type": "code",
   "execution_count": null,
   "id": "cfb99393-f012-4853-bdd6-f6ab77206b39",
   "metadata": {},
   "outputs": [],
   "source": []
  },
  {
   "cell_type": "code",
   "execution_count": null,
   "id": "c3fd9adf-493b-446a-a533-7b622c7bf697",
   "metadata": {
    "tags": []
   },
   "outputs": [],
   "source": [
    "# Function for saving both original template DNA sequence and the converted RNA given list of sesRNAs Seq objects\n",
    "# Could change later to make for separate output files ... have not decided yet whether to just put them together into one labeled fasta file \n",
    "def save_sesRNAs(sequences_sesRNAs, geneName, version, numConvertTGG):\n",
    "    # Generating BioPython directory if does not exist \n",
    "    pathlib.Path('Output/BioPython').mkdir(parents=True, exist_ok=True)\n",
    "    \n",
    "    # Defining save name and description for outputs (original DNA and converted RNA)\n",
    "    DNA_outputID = geneName + '_sesRNA'\n",
    "    DNA_outputDescription = \"sesRNA DNA original for \" + geneName\n",
    "    convertedRNA_outputID = geneName + '_sesRNA'\n",
    "    convertedRNA_outputDescription = \"sesRNA converted RNA for \" + geneName\n",
    "    \n",
    "    # Creating empty list for storing sequences \n",
    "    outputSeqMulti_DNA = []\n",
    "    outputSeqMulti_convertedRNA= []\n",
    "    \n",
    "    # Generating SeqRecord objects in preparation for writing FASTA files ... edited description to include number of sequence\n",
    "    i = 1\n",
    "    for sequence in sequences_sesRNAs:\n",
    "        outputSeqMulti_DNA.append(SeqRecord(sequence, id = DNA_outputID+str(i), description = DNA_outputDescription))\n",
    "        outputSeqMulti_convertedRNA.append(SeqRecord(convert_DNA(sequence, numberConvertTGG), id = convertedRNA_outputID+str(i), description = convertedRNA_outputDescription))\n",
    "        i += 1\n",
    "        \n",
    "    # Write output fasta files \n",
    "    DNA_outputName = \"Output/BioPython/\" + geneName + \"_sesRNA_\" + version + \".fasta\" \n",
    "    convertedRNA_outputName = \"Output/BioPython/\" + geneName + \"_sesRNA_convertedRNA_\" + version + \".fasta\" \n",
    "    \n",
    "    with open(outputName, \"w\") as output_handle:\n",
    "        # Writing original template DNA files \n",
    "        SeqIO.write(outputSeqMulti_DNA, output_handle, \"fasta\")\n",
    "        # Writing orginal template RNA files \n",
    "        SeqIO.write(outputSeqMulti_convertedRNA, output_handle, \"fasta\")"
   ]
  },
  {
   "cell_type": "code",
   "execution_count": null,
   "id": "b468b5c8-ff7c-487e-9e68-1e8218717ca1",
   "metadata": {},
   "outputs": [],
   "source": []
  },
  {
   "cell_type": "code",
   "execution_count": null,
   "id": "5d563e57-b0c3-44df-98d7-9c6553d80147",
   "metadata": {},
   "outputs": [],
   "source": []
  },
  {
   "cell_type": "markdown",
   "id": "58b5b203-4d30-404d-a901-d6acb1a7d5a2",
   "metadata": {},
   "source": [
    "# Not working or not being used "
   ]
  },
  {
   "cell_type": "code",
   "execution_count": null,
   "id": "9fe52443-b3be-4e9a-8944-addb52ca5b2e",
   "metadata": {
    "tags": []
   },
   "outputs": [],
   "source": [
    "seqTdT = 'ttacttgtacagctcgtccatgccgtacaggaacaggtggtggcggccctcggagcgctcgtactgttccacgatggtgtagtcctcgttgtgggaggtgatgtccagcttggtgtccacgtagtagtagccgggcagttgcacgggcttcttggccatgtagatggtcttgaactccaccaggtagtggccgccgtccttcagcttcagggcctggtggatctcgcccttcagcacgccgtcgcgggggtacaggcgctcggtggaggcctcccagcccatggtcttcttctgcattacggggccgtcgggggggaagttggtgccgcgcatcttcaccttgtagatcagcgtgccgtcctgcagggaggagtcctgggtcacggtcaccagaccgccgtcctcgaagttcatcacgcgctcccacttgaagccctcggggaaggacagcttcttgtaatcggggatgtcggcggggtgcttcacgtacgccttggagccgtacatgaactggggggacaggatgtcccaggcgaagggcagggggccgcccttggtcaccttcagcttggcggtctgggtgccctcgtaggggcggccctcgccctcgccctcgatctcgaactcgtggccgttcatggagccctccatgcgcaccttgaagcgcatgaactctttgatgacggccatgttgttgtcctcggaggaggcggtgccggagctgccgctgccggtgctgccggtgccatgccccaggaacaggtggtggcggccctcggagcgctcgtactgttccacgatggtgtagtcctcgttgtgggaggtgatgtccagcttggtgtccacgtagtagtagccgggcagttgcacgggcttcttggccatgtagatggtcttgaactccaccaggtagtggccgccgtccttcagcttcagggcctggtggatctcgcccttcagcacgccgtcgcgggggtacaggcgctcggtggaggcctcccagcccatggtcttcttctgcattacggggccgtcgggggggaagttggtgccgcgcatcttcaccttgtagatcagcgtgccgtcctgcagggaggagtcctgggtcacggtcaccagaccgccgtcctcgaagttcatcacgcgctcccacttgaagccctcggggaaggacagcttcttgtaatcggggatgtcggcggggtgcttcacgtacgccttggagccgtacatgaactggggggacaggatgtcccaggcgaagggcagggggccgcccttggtcaccttcagcttggcggtctgggtgccctcgtaggggcggccctcgccctcgccctcgatctcgaactcgtggccgttcatggagccctccatgcgcaccttgaagcgcatgaactctttgatgacctcctcgcccttgctcaccat'\n",
    "seqTdT = seqTdT.upper()\n",
    "seqTdT"
   ]
  },
  {
   "cell_type": "code",
   "execution_count": null,
   "id": "ae87b3ae-aba2-41a1-8d0e-7157a65c99c4",
   "metadata": {
    "tags": []
   },
   "outputs": [],
   "source": [
    "len(Seq(seqTdT).translate()) == len(seqTdT)/3"
   ]
  },
  {
   "cell_type": "code",
   "execution_count": null,
   "id": "c1c20446-eb6f-4cbf-ab1e-de35f1e2803f",
   "metadata": {
    "tags": []
   },
   "outputs": [],
   "source": [
    "num_inF_TGG, num_inF_TTGG, num_inF_TGGA, num_inF_TTGGA, num_inF_ATG, num_inF_Stop, indices_inF_TGG, \\\n",
    "    indices_inF_ATG, indices_inF_Stop = \\\n",
    "    return_inFrame(Seq(seqTdT).reverse_complement(), 'all')"
   ]
  },
  {
   "cell_type": "code",
   "execution_count": null,
   "id": "ee8e6c2e-109c-4c0d-bd82-9154f5f764f8",
   "metadata": {
    "tags": []
   },
   "outputs": [],
   "source": [
    "num_inF_TGG"
   ]
  },
  {
   "cell_type": "code",
   "execution_count": null,
   "id": "ef7c9951-2ec9-4501-8813-87f826dd2cdc",
   "metadata": {
    "tags": []
   },
   "outputs": [],
   "source": [
    "num_inF_TTGG"
   ]
  },
  {
   "cell_type": "code",
   "execution_count": null,
   "id": "b268f8ca-fd26-4c75-8062-9600113e1355",
   "metadata": {
    "tags": []
   },
   "outputs": [],
   "source": [
    "num_inF_TGGA"
   ]
  },
  {
   "cell_type": "code",
   "execution_count": null,
   "id": "eb60ca8c-c106-48b5-93aa-40460e3559aa",
   "metadata": {
    "tags": []
   },
   "outputs": [],
   "source": [
    "num_inF_TTGGA"
   ]
  },
  {
   "cell_type": "code",
   "execution_count": null,
   "id": "895b9a5f-2a92-40ca-bb6b-937263a337e6",
   "metadata": {},
   "outputs": [],
   "source": []
  },
  {
   "cell_type": "code",
   "execution_count": null,
   "id": "dd94d9c9-f98d-4231-97f6-53c780682915",
   "metadata": {
    "tags": []
   },
   "outputs": [],
   "source": [
    "# Generating pd.Dataframe\n",
    "df = pd.DataFrame(all_sequenceMetrics)\n",
    "# Converting DataFrame to json and dumping it to std.out\n",
    "df_json = df.reset_index().to_json(orient=\"values\")\n"
   ]
  },
  {
   "cell_type": "code",
   "execution_count": null,
   "id": "e10b196c-610d-480d-b39f-e87962b0fa2b",
   "metadata": {
    "tags": []
   },
   "outputs": [],
   "source": [
    "df_json"
   ]
  },
  {
   "cell_type": "code",
   "execution_count": null,
   "id": "5077d370-2a3e-4314-a552-05e04205166f",
   "metadata": {},
   "outputs": [],
   "source": []
  },
  {
   "cell_type": "code",
   "execution_count": null,
   "id": "dff01014-0c1f-4406-babf-c0d713b8acf4",
   "metadata": {},
   "outputs": [],
   "source": []
  },
  {
   "cell_type": "code",
   "execution_count": null,
   "id": "1e1876c1-b8b5-4df1-920a-ab760354c0b7",
   "metadata": {
    "scrolled": true,
    "tags": []
   },
   "outputs": [],
   "source": [
    "# Initial if want to check variable length sesRNAs \n",
    "for i in range(200, 300):\n",
    "    if(i%3 == 0):\n",
    "        print(i)"
   ]
  },
  {
   "cell_type": "code",
   "execution_count": null,
   "id": "02d16e22-e1cd-4e1e-b0dc-bccf1138f9dd",
   "metadata": {},
   "outputs": [],
   "source": []
  },
  {
   "cell_type": "code",
   "execution_count": null,
   "id": "23975286-ce08-45bc-8819-58ff73368737",
   "metadata": {
    "tags": []
   },
   "outputs": [],
   "source": [
    "additional_sesRNA = 'gagaggaagggcagaggcaccaacccgggcggaggaggaggcgcggcggcggcggcggctcagaccccctccccggcccgcatctgtgcagctttccgggcgatgccagaatagatgccggggcaatgtcccgccgcaaacagggcaacccgcagcacttgtcccagagggaactcatcacgcgtaagtgtctgccgcacgcgcgaagggccggcggctggggctccgggcgcccggggctgg'"
   ]
  },
  {
   "cell_type": "code",
   "execution_count": null,
   "id": "3a06ad04-dd03-4dbe-ba58-425a176a5ef7",
   "metadata": {
    "tags": []
   },
   "outputs": [],
   "source": [
    "len(additional_sesRNA)"
   ]
  },
  {
   "cell_type": "code",
   "execution_count": null,
   "id": "116d79d1-a1ed-4675-992a-e22613c3700a",
   "metadata": {
    "tags": []
   },
   "outputs": [],
   "source": [
    "all_sequenceMetrics = all_sequenceMetrics.append(all_sequenceMetrics.iloc[11, :])"
   ]
  },
  {
   "cell_type": "code",
   "execution_count": null,
   "id": "b2c54401-3cfd-4a53-bf1f-eb9fdb6b5dcd",
   "metadata": {},
   "outputs": [],
   "source": [
    "all_sequenceMetrics"
   ]
  },
  {
   "cell_type": "code",
   "execution_count": null,
   "id": "67c0174a-6645-49be-910a-6428beb94221",
   "metadata": {},
   "outputs": [],
   "source": [
    "len(all_sesRNAs)"
   ]
  },
  {
   "cell_type": "code",
   "execution_count": null,
   "id": "11efb236-01f2-4c5e-9f59-49394331697d",
   "metadata": {
    "tags": []
   },
   "outputs": [],
   "source": [
    "all_sesRNAs.append(Seq(additional_sesRNA.upper()))"
   ]
  },
  {
   "cell_type": "code",
   "execution_count": null,
   "id": "d2986762-bffa-4899-9b78-bf481c5e86d0",
   "metadata": {
    "tags": []
   },
   "outputs": [],
   "source": [
    "len(all_sesRNAs)"
   ]
  },
  {
   "cell_type": "code",
   "execution_count": null,
   "id": "e1e9d589-fafe-4f02-bc3c-079955351afa",
   "metadata": {
    "tags": []
   },
   "outputs": [],
   "source": [
    "all_sesRNAs"
   ]
  },
  {
   "cell_type": "code",
   "execution_count": null,
   "id": "efda45da-50ae-4e1a-816b-11cff6264bb0",
   "metadata": {
    "tags": []
   },
   "outputs": [],
   "source": [
    "sys.path.append(\"/usr/share/ViennaRNA\")"
   ]
  },
  {
   "cell_type": "code",
   "execution_count": null,
   "id": "12dbed80-8247-4145-8aa4-59661db25282",
   "metadata": {},
   "outputs": [],
   "source": []
  },
  {
   "cell_type": "code",
   "execution_count": null,
   "id": "cbff71cb-5a0d-4a5a-9449-ad55183a9f7c",
   "metadata": {
    "tags": []
   },
   "outputs": [],
   "source": [
    "# Leading RNAfold as RNA \n",
    "import sys\n",
    "sys.path.append(\"/usr/lib/python3.9/site-packages/RNA\")\n",
    "import _RNA as RNA"
   ]
  },
  {
   "cell_type": "code",
   "execution_count": null,
   "id": "42a1ca35-5d61-41cb-a591-9f50d6f60641",
   "metadata": {},
   "outputs": [],
   "source": [
    "import pyseqlib"
   ]
  },
  {
   "cell_type": "code",
   "execution_count": null,
   "id": "d370774a-62a0-4be0-9ba9-0f701d2826b0",
   "metadata": {},
   "outputs": [],
   "source": [
    "from pyseqlib import pyRNAfold"
   ]
  },
  {
   "cell_type": "code",
   "execution_count": null,
   "id": "43d65dc2-2ed1-4a9b-840f-88b800e652fd",
   "metadata": {},
   "outputs": [],
   "source": []
  },
  {
   "cell_type": "code",
   "execution_count": null,
   "id": "c8ea1feb-f3a0-47f7-985a-9c3efced12b9",
   "metadata": {},
   "outputs": [],
   "source": [
    "pyRNAfold i"
   ]
  },
  {
   "cell_type": "code",
   "execution_count": null,
   "id": "6e7157da-fbc5-403e-b035-7c53ee1599d6",
   "metadata": {},
   "outputs": [],
   "source": [
    "pyseqlib.fold_compound(sequence)"
   ]
  },
  {
   "cell_type": "code",
   "execution_count": null,
   "id": "5dbf73a8-500e-4269-ad5f-c4c7d4e0cf9c",
   "metadata": {},
   "outputs": [],
   "source": []
  },
  {
   "cell_type": "code",
   "execution_count": null,
   "id": "e70277c0-f44c-442e-98d2-f09149a99bdb",
   "metadata": {},
   "outputs": [],
   "source": [
    "RNA.fold_compound(sequence)"
   ]
  },
  {
   "cell_type": "code",
   "execution_count": null,
   "id": "ba5f1bdb-1a69-436c-aa5b-796cbb6253d7",
   "metadata": {},
   "outputs": [],
   "source": [
    "sys.path.append(\"/home/user1/Dropbox/Research/Neurobiology_PhD/Rotations/Huang/Projects/CellReadR/Packages/RNA\")\n",
    "import _RNA as RNA"
   ]
  },
  {
   "cell_type": "code",
   "execution_count": null,
   "id": "1f5a4e18-c65c-4719-8e2c-37c39d000939",
   "metadata": {},
   "outputs": [],
   "source": []
  },
  {
   "cell_type": "code",
   "execution_count": null,
   "id": "a2bad740-1144-4da6-9894-30c39822990a",
   "metadata": {},
   "outputs": [],
   "source": []
  },
  {
   "cell_type": "code",
   "execution_count": null,
   "id": "39b3fe1c-4a59-4c07-a19d-3d8f32c55fb4",
   "metadata": {
    "tags": []
   },
   "outputs": [],
   "source": [
    "sys.path.append(\"/home/user1/Dropbox/Research/Neurobiology_PhD/Rotations/Huang/Projects/CellReadR/Code/Functions\")\n",
    "import RNA_Fold"
   ]
  },
  {
   "cell_type": "code",
   "execution_count": null,
   "id": "5150f26a-3612-44b3-a6e6-ab594844a5a0",
   "metadata": {},
   "outputs": [],
   "source": [
    "md = RNA.md()"
   ]
  },
  {
   "cell_type": "code",
   "execution_count": null,
   "id": "8d4ce5e2-9d46-4daf-8a95-3d56da14de84",
   "metadata": {},
   "outputs": [],
   "source": [
    "import example"
   ]
  },
  {
   "cell_type": "code",
   "execution_count": null,
   "id": "92a361b3-4c02-4ece-a37b-23fcd41d9c8d",
   "metadata": {
    "tags": []
   },
   "outputs": [],
   "source": [
    "sequence = \"CGCAGGGAUACCCGCG\"\n",
    " \n",
    "# create new fold_compound object\n",
    "fc = RNA.fold_compound(sequence)\n",
    " \n",
    "# compute minimum free energy (mfe) and corresponding structure\n",
    "(ss, mfe) = fc.mfe()\n",
    " "
   ]
  },
  {
   "cell_type": "code",
   "execution_count": null,
   "id": "ec84efc7-c0e9-4687-b6d0-64252c206805",
   "metadata": {},
   "outputs": [],
   "source": []
  },
  {
   "cell_type": "code",
   "execution_count": null,
   "id": "c3c2c214-6be3-4084-9f68-1620dcaac196",
   "metadata": {},
   "outputs": [],
   "source": []
  },
  {
   "cell_type": "code",
   "execution_count": null,
   "id": "215b7384-fe9e-47d7-90a1-69b70ac88674",
   "metadata": {},
   "outputs": [],
   "source": []
  },
  {
   "cell_type": "code",
   "execution_count": null,
   "id": "dec0e796-a5f9-48f3-a745-93d3ecf84fbc",
   "metadata": {
    "tags": []
   },
   "outputs": [],
   "source": [
    "# The RNA sequence\n",
    "seq = \"GAGUAGUGGAACCAGGCUAUGUUUGUGACUCGCAGACUAACA\"\n",
    " \n",
    "# compute minimum free energy (MFE) and corresponding structure\n",
    "(ss, mfe) = RNA.fold(seq)"
   ]
  },
  {
   "cell_type": "code",
   "execution_count": null,
   "id": "8b3d57f5-0912-4573-bab8-7d8e4c57305c",
   "metadata": {},
   "outputs": [],
   "source": [
    "import pickle "
   ]
  },
  {
   "cell_type": "code",
   "execution_count": null,
   "id": "4d5f1883-20cf-4fbd-aaaa-111a84e39322",
   "metadata": {},
   "outputs": [],
   "source": [
    "mfe"
   ]
  },
  {
   "cell_type": "code",
   "execution_count": null,
   "id": "865753f3-945c-402e-a1fc-f6627073c7eb",
   "metadata": {},
   "outputs": [],
   "source": []
  },
  {
   "cell_type": "code",
   "execution_count": null,
   "id": "c6859c6a-b13c-46f1-a7fa-37581dedd0ef",
   "metadata": {},
   "outputs": [],
   "source": []
  },
  {
   "cell_type": "code",
   "execution_count": null,
   "id": "008151d9-60c5-4bb2-80e3-a4a834752f59",
   "metadata": {
    "tags": []
   },
   "outputs": [],
   "source": [
    "pathOuput = \"/home/user1/Dropbox/Research/Neurobiology_PhD/Rotations/Huang/Projects/CellReadR/Code/Functions/seqObject.p\"\n",
    "pickle.dump(testSeq, open(pathOuput, 'wb'))"
   ]
  },
  {
   "cell_type": "code",
   "execution_count": null,
   "id": "d5626803-11f0-4c60-a8dc-0614fcd69ddb",
   "metadata": {
    "tags": []
   },
   "outputs": [],
   "source": [
    "# Running script for getting probabilities from RNAfold output file (added to ArchBin btw)\n",
    "pathFuncPython = '/home/user1/Dropbox/Research/Neurobiology_PhD/Rotations/Huang/Projects/CellReadR/Code/Functions/'\n",
    "# command = 'python ' + '/home/user1/Dropbox/Research/Neurobiology_PhD/Rotations/Huang/Projects/CellReadR/Code/Functions/RNA_Fold.py'\n",
    "# command = 'cd ' + pathFuncPython + ' | ./RNA_Fold.py'\n",
    "# command = 'cd ' + pathFuncPython + ' | ls -a'\n",
    "\n",
    "command = 'ls -a'\n",
    "readProb = subprocess.Popen(command, shell=True, stdout=subprocess.PIPE)\n",
    "returnedProb = readProb.stdout.read()"
   ]
  },
  {
   "cell_type": "code",
   "execution_count": null,
   "id": "4d15723e-205c-46be-8774-a7832f07c16b",
   "metadata": {
    "tags": []
   },
   "outputs": [],
   "source": [
    "returnedProb"
   ]
  },
  {
   "cell_type": "code",
   "execution_count": null,
   "id": "369e3b34-90bb-4ffe-94bd-3536fff04a43",
   "metadata": {},
   "outputs": [],
   "source": [
    "command "
   ]
  },
  {
   "cell_type": "code",
   "execution_count": null,
   "id": "702f0340-65cf-4f6a-9370-0fea5c4142f8",
   "metadata": {},
   "outputs": [],
   "source": []
  },
  {
   "cell_type": "code",
   "execution_count": null,
   "id": "b7f49c08-c085-4780-9d9d-9876f86f86a6",
   "metadata": {},
   "outputs": [],
   "source": []
  },
  {
   "cell_type": "code",
   "execution_count": null,
   "id": "df9776d2-32d8-42ed-ae78-11a152e464f4",
   "metadata": {},
   "outputs": [],
   "source": [
    "str(rC_multiExon_sesRNAs[0])"
   ]
  },
  {
   "cell_type": "code",
   "execution_count": null,
   "id": "085834fe-d3bf-441f-a3e3-cd2957cbde27",
   "metadata": {
    "tags": []
   },
   "outputs": [],
   "source": [
    "testSeq = str(rC_multiExon_sesRNAs[0])\n",
    "testSeq"
   ]
  },
  {
   "cell_type": "code",
   "execution_count": null,
   "id": "23f116db-7ee8-42bb-b693-180e054adf50",
   "metadata": {
    "tags": []
   },
   "outputs": [],
   "source": [
    "RNA.fold(testSeq)"
   ]
  },
  {
   "cell_type": "code",
   "execution_count": null,
   "id": "17244f24-5962-4204-be1e-6ccb6114bea8",
   "metadata": {},
   "outputs": [],
   "source": []
  },
  {
   "cell_type": "code",
   "execution_count": null,
   "id": "bb28caef-065f-414b-8e52-a6c58268b3ef",
   "metadata": {
    "tags": []
   },
   "outputs": [],
   "source": [
    "def compute_mfeFreq(sequence):\n",
    "    # create a fold_compound object for the current sequence\n",
    "    fc = RNA.fold_compound(sequence)\n",
    "\n",
    "    # compute the MFE and corresponding structure\n",
    "    (mfe_struct, mfe) = fc.mfe()\n",
    "\n",
    "\n",
    "    # compute partition function\n",
    "    (bp_propensity, dG) = fc.pf()\n",
    "\n",
    "    # compute frequency of MFE structure (the 'hard' way)\n",
    "    kT = RNA.exp_param().kT / 1000.\n",
    "\n",
    "    prob_mfe = math.exp((dG - mfe) / kT)\n",
    "    \n",
    "    return prob_mfe"
   ]
  },
  {
   "cell_type": "code",
   "execution_count": null,
   "id": "19aa6422-1553-48df-a937-09b3c8573bff",
   "metadata": {},
   "outputs": [],
   "source": []
  },
  {
   "cell_type": "code",
   "execution_count": null,
   "id": "d0340ab0-6477-4743-ad7e-dc3c490111ca",
   "metadata": {},
   "outputs": [],
   "source": []
  },
  {
   "cell_type": "code",
   "execution_count": null,
   "id": "damaged-pressure",
   "metadata": {},
   "outputs": [],
   "source": [
    "rC_multi_startSeq"
   ]
  },
  {
   "cell_type": "code",
   "execution_count": null,
   "id": "charged-congress",
   "metadata": {
    "tags": []
   },
   "outputs": [],
   "source": [
    "rC_multiExon_sesRNAs"
   ]
  },
  {
   "cell_type": "code",
   "execution_count": null,
   "id": "elementary-jersey",
   "metadata": {
    "tags": []
   },
   "outputs": [],
   "source": [
    "str(rC_multiExon_sesRNAs[8])"
   ]
  },
  {
   "cell_type": "code",
   "execution_count": null,
   "id": "mediterranean-savage",
   "metadata": {
    "tags": []
   },
   "outputs": [],
   "source": [
    "str(rC_multiExon_sesRNAs[18])"
   ]
  },
  {
   "cell_type": "code",
   "execution_count": null,
   "id": "interracial-bottom",
   "metadata": {},
   "outputs": [],
   "source": []
  },
  {
   "cell_type": "code",
   "execution_count": null,
   "id": "solar-patrick",
   "metadata": {},
   "outputs": [],
   "source": [
    "from seqfold import dg, dg_cache, fold"
   ]
  },
  {
   "cell_type": "code",
   "execution_count": null,
   "id": "acknowledged-director",
   "metadata": {
    "tags": []
   },
   "outputs": [],
   "source": [
    "# just returns minimum free energy\n",
    "dg(\"GGGAGGTCGTTACATCTGGGTAACACCGGTACTGATCCGGTGACCTCCC\", temp = 37.0)  # -12.94"
   ]
  },
  {
   "cell_type": "code",
   "execution_count": null,
   "id": "9d425009-33b2-446f-9faf-7895b89e4951",
   "metadata": {},
   "outputs": [],
   "source": []
  },
  {
   "cell_type": "code",
   "execution_count": null,
   "id": "45584007-d5a4-4694-a076-355652010a95",
   "metadata": {},
   "outputs": [],
   "source": []
  },
  {
   "cell_type": "code",
   "execution_count": null,
   "id": "a1494e6f-2314-4da4-9683-10e92cedf5d6",
   "metadata": {},
   "outputs": [],
   "source": []
  },
  {
   "cell_type": "code",
   "execution_count": null,
   "id": "bf8827a8-e642-4dac-96b1-ea1b75b4db86",
   "metadata": {},
   "outputs": [],
   "source": []
  },
  {
   "cell_type": "code",
   "execution_count": null,
   "id": "8806ba01-b021-47b0-b6ca-47f750b881fa",
   "metadata": {},
   "outputs": [],
   "source": []
  },
  {
   "cell_type": "code",
   "execution_count": null,
   "id": "7b9a6752-b38f-4ccb-bb2d-ca59ee4e45da",
   "metadata": {},
   "outputs": [],
   "source": []
  },
  {
   "cell_type": "code",
   "execution_count": null,
   "id": "63c5e207-4c59-4ccf-9a62-6324986e0ab4",
   "metadata": {},
   "outputs": [],
   "source": []
  },
  {
   "cell_type": "code",
   "execution_count": null,
   "id": "1750f7a8-c286-41bb-b895-8f1ffbb8c91b",
   "metadata": {},
   "outputs": [],
   "source": []
  },
  {
   "cell_type": "code",
   "execution_count": null,
   "id": "3f0c25cd-144f-44f8-8237-3a30feca85c9",
   "metadata": {},
   "outputs": [],
   "source": []
  },
  {
   "cell_type": "markdown",
   "id": "2448a30b-85ac-49df-b0a4-77266bef87c0",
   "metadata": {},
   "source": [
    "# Test Intarna (test strength of binding, off-target, ...)  "
   ]
  },
  {
   "cell_type": "code",
   "execution_count": null,
   "id": "71a7a71b-636d-4306-9293-928340bd2c84",
   "metadata": {
    "tags": []
   },
   "outputs": [],
   "source": [
    "import intarnapvalue"
   ]
  },
  {
   "cell_type": "code",
   "execution_count": null,
   "id": "a3b8a086-570c-4ce2-b379-2d6fa514e5f1",
   "metadata": {
    "tags": []
   },
   "outputs": [],
   "source": [
    "testSeq = str(rC_multiExon_sesRNAs[0])\n",
    "testSeq"
   ]
  },
  {
   "cell_type": "code",
   "execution_count": null,
   "id": "2d965c68-7f64-4f5b-894a-9194e0767a16",
   "metadata": {
    "tags": []
   },
   "outputs": [],
   "source": [
    "target = str(CDS[0].seq)\n",
    "target "
   ]
  },
  {
   "cell_type": "code",
   "execution_count": null,
   "id": "9592a4f3-8751-4f2a-ba84-49d73a47e1f0",
   "metadata": {
    "tags": []
   },
   "outputs": [],
   "source": [
    "from intarnapvalue.intarna_pvalue import IntaRNApvalue"
   ]
  },
  {
   "cell_type": "code",
   "execution_count": null,
   "id": "06385d0f-6d8a-4731-8519-8acde1f45040",
   "metadata": {
    "tags": []
   },
   "outputs": [],
   "source": [
    "?IntaRNApvalue"
   ]
  },
  {
   "cell_type": "code",
   "execution_count": null,
   "id": "bbfe4d76-3fcf-4826-b93c-00a9f21ee2fb",
   "metadata": {
    "tags": []
   },
   "outputs": [],
   "source": [
    "?intarna_pvalue"
   ]
  },
  {
   "cell_type": "code",
   "execution_count": null,
   "id": "eb0ff577-4f6c-4163-a826-371709f260ec",
   "metadata": {
    "tags": []
   },
   "outputs": [],
   "source": [
    "IntaRNApvalue(['--query', testSeq, '--target', target])"
   ]
  },
  {
   "cell_type": "code",
   "execution_count": null,
   "id": "44b6edfa-0076-48fe-ae39-cbc2d58ce978",
   "metadata": {
    "tags": []
   },
   "outputs": [],
   "source": [
    "IntaRNApvalue['-q', 'AGGAUG', '-t', 'UUUAUCGUU', '-s', '10', '-m', 'b', '-d', 'gauss', '--threads', '3']"
   ]
  },
  {
   "cell_type": "code",
   "execution_count": null,
   "id": "67996c75-f119-4851-9a4e-a1cf44a63620",
   "metadata": {
    "tags": []
   },
   "outputs": [],
   "source": [
    "command = 'python -m intarnapvalue --query GCUGAAAAACAUAACCCAUAAAAUGCUAGCUGUACCAGGAACCA --target GGUUUCUUCGCCUCUGCGUUCACCAAAGUGUUCACCC -s 10 --shuffle-mode b --threads 0' "
   ]
  },
  {
   "cell_type": "code",
   "execution_count": null,
   "id": "97ebce19-6fcf-442c-ab8f-d80538378416",
   "metadata": {
    "tags": []
   },
   "outputs": [],
   "source": [
    "readProb = subprocess.Popen(command, shell=True, stdout=subprocess.PIPE)\n",
    "readProb.wait()\n",
    "returnedProb = readProb.stdout.read()\n",
    "returnedProb"
   ]
  },
  {
   "cell_type": "code",
   "execution_count": null,
   "id": "6c5a3cac-bc79-4845-983d-dc0fbcf7191a",
   "metadata": {},
   "outputs": [],
   "source": []
  },
  {
   "cell_type": "code",
   "execution_count": null,
   "id": "1da5e107-afe0-4713-bbed-089bd27f569f",
   "metadata": {},
   "outputs": [],
   "source": []
  },
  {
   "cell_type": "code",
   "execution_count": null,
   "id": "18522fa3-de4b-43f5-963d-7d507e5f365a",
   "metadata": {},
   "outputs": [],
   "source": []
  },
  {
   "cell_type": "code",
   "execution_count": null,
   "id": "be4dc3b2-5726-43d9-bbd8-9f908f0e0f64",
   "metadata": {},
   "outputs": [],
   "source": []
  },
  {
   "cell_type": "code",
   "execution_count": null,
   "id": "82638ba5-6f97-47f0-a0e3-69e71588f4c1",
   "metadata": {},
   "outputs": [],
   "source": []
  },
  {
   "cell_type": "code",
   "execution_count": null,
   "id": "68a44ad1-c37c-4c60-8d2a-51bfc136c87d",
   "metadata": {},
   "outputs": [],
   "source": []
  },
  {
   "cell_type": "code",
   "execution_count": null,
   "id": "a104a3b7-dba6-4031-9eca-69fd3cdab621",
   "metadata": {},
   "outputs": [],
   "source": []
  },
  {
   "cell_type": "code",
   "execution_count": null,
   "id": "844c4bef-bdb0-4cef-9bd2-6571e58a2b55",
   "metadata": {},
   "outputs": [],
   "source": []
  },
  {
   "cell_type": "code",
   "execution_count": null,
   "id": "85632729-fee0-4df2-b4bf-cf5d6acdedb5",
   "metadata": {
    "tags": []
   },
   "outputs": [],
   "source": [
    "# Running script for getting probabilities from RNAfold output file (added to ArchBin btw)\n",
    "readProb = subprocess.Popen(command, shell=True, stdout=subprocess.PIPE)\n",
    "returnedProb = readProb.stdout.read()\n",
    "# Waiting for last command to finish before storing value in temp.out file \n",
    "readProb.wait()"
   ]
  },
  {
   "cell_type": "code",
   "execution_count": null,
   "id": "4538e5f3-b566-4e9e-acf8-1a4df404d0ca",
   "metadata": {
    "tags": []
   },
   "outputs": [],
   "source": [
    "pd.read_csv('/home/user1/Dropbox/Research/Neurobiology_PhD/Rotations/Huang/Projects/CellReadR/Code/Functions/output.csv', sep = ';')"
   ]
  },
  {
   "cell_type": "code",
   "execution_count": null,
   "id": "a193e3d7-6c52-4fcf-8aa6-e44ba3ef53e0",
   "metadata": {
    "tags": []
   },
   "outputs": [],
   "source": [
    "pd.read_csv('/home/user1/Dropbox/Research/Neurobiology_PhD/Rotations/Huang/Projects/CellReadR/Code/Functions/output.csv', sep = ';')"
   ]
  },
  {
   "cell_type": "code",
   "execution_count": null,
   "id": "106bc078-bf3f-4d97-bf36-fcfc8f088901",
   "metadata": {
    "tags": []
   },
   "outputs": [],
   "source": [
    "pd.read_csv('/home/user1/Dropbox/Research/Neurobiology_PhD/Rotations/Huang/Projects/CellReadR/Code/Functions/output.csv', sep = ';')"
   ]
  },
  {
   "cell_type": "code",
   "execution_count": null,
   "id": "eece9f23-3c40-4314-a2b2-16c5b6a77f50",
   "metadata": {},
   "outputs": [],
   "source": []
  },
  {
   "cell_type": "code",
   "execution_count": null,
   "id": "35b27c3d-22e7-4526-9dd7-6a92a57bf560",
   "metadata": {},
   "outputs": [],
   "source": []
  },
  {
   "cell_type": "code",
   "execution_count": null,
   "id": "2f33582c-ca5c-4be6-87f0-1345516f727f",
   "metadata": {},
   "outputs": [],
   "source": []
  },
  {
   "cell_type": "code",
   "execution_count": null,
   "id": "85955b3f-038e-40c2-9cb7-691bacac3f67",
   "metadata": {},
   "outputs": [],
   "source": []
  },
  {
   "cell_type": "code",
   "execution_count": null,
   "id": "9730cf60-da21-42ef-ae6f-1ba1624bc0d9",
   "metadata": {
    "tags": []
   },
   "outputs": [],
   "source": [
    "# Trying to load entire transcripome ... obviously failed ... \n",
    "allRat_fileName = '/home/user1/Dropbox/Research/Neurobiology_PhD/Rotations/Huang/Projects/CellReadR/Data/Sequences/Reference/Ensembl/All/Rattus_norvegicus.Rnor_6.0.cdna.all.fa'\n",
    "allRat = list(SeqIO.parse(allRat_fileName, \"fasta\"))"
   ]
  },
  {
   "cell_type": "code",
   "execution_count": null,
   "id": "a3a4bdd4-fc6c-42fe-902b-78babec7a547",
   "metadata": {},
   "outputs": [],
   "source": []
  },
  {
   "cell_type": "code",
   "execution_count": null,
   "id": "ecc21e03-8038-4ebc-afb1-92fd70b50ff5",
   "metadata": {},
   "outputs": [],
   "source": []
  },
  {
   "cell_type": "code",
   "execution_count": null,
   "id": "a6f7c3fc-5d93-46a1-841d-37abfd8a1af2",
   "metadata": {},
   "outputs": [],
   "source": []
  },
  {
   "cell_type": "code",
   "execution_count": null,
   "id": "af8382d1-bbfb-4787-9e9a-93a321f635de",
   "metadata": {},
   "outputs": [],
   "source": []
  },
  {
   "cell_type": "code",
   "execution_count": null,
   "id": "54749854-f897-466a-a4b2-3d351598d34f",
   "metadata": {},
   "outputs": [],
   "source": []
  },
  {
   "cell_type": "code",
   "execution_count": null,
   "id": "042fb2ef-5cc4-4134-ac95-b6be29b6a702",
   "metadata": {},
   "outputs": [],
   "source": [
    "python -m intarnapvalue --query GCUGAAAAACAUAACCCAUAAAAUGCUAGCUGUACCAGGAACCA --target GGUUUCUUCGCCUCUGCGUUCACCAAAGUGUUCACCC --scores 10000 --shuffle-mode b --threads 0"
   ]
  },
  {
   "cell_type": "code",
   "execution_count": null,
   "id": "6f66470e-8de1-4e89-b4ca-0183f7a4bc5a",
   "metadata": {},
   "outputs": [],
   "source": [
    "intarnapvalue --query GCUGAAAAACAUAACCCAUAAAAUGCUAGCUGUACCAGGAACCA --target GGUUUCUUCGCCUCUGCGUUCACCAAAGUGUUCACCC --scores 10000 --shuffle-mode b --threads 0"
   ]
  },
  {
   "cell_type": "code",
   "execution_count": null,
   "id": "2a5b397c-e523-4551-9e1e-b8e10df7e6de",
   "metadata": {},
   "outputs": [],
   "source": []
  },
  {
   "cell_type": "code",
   "execution_count": null,
   "id": "015609d6-742c-40d2-821b-1a5049e2550c",
   "metadata": {},
   "outputs": [],
   "source": []
  },
  {
   "cell_type": "markdown",
   "id": "approved-notion",
   "metadata": {},
   "source": [
    "# Misc"
   ]
  },
  {
   "cell_type": "code",
   "execution_count": null,
   "id": "italian-front",
   "metadata": {
    "tags": []
   },
   "outputs": [],
   "source": [
    "# For returning index of findings \n",
    "searchCodon = 'TAG'\n",
    "[m.start() for m in re.finditer(searchCodon, str(seq))]"
   ]
  },
  {
   "cell_type": "code",
   "execution_count": null,
   "id": "elder-buddy",
   "metadata": {
    "tags": []
   },
   "outputs": [],
   "source": [
    "testSeq = sesRNAs[0]\n",
    "testSeq"
   ]
  },
  {
   "cell_type": "code",
   "execution_count": null,
   "id": "powered-action",
   "metadata": {
    "tags": []
   },
   "outputs": [],
   "source": [
    "lastATG = [m.start() for m in re.finditer('ATG', str(testSeq))][-1]\n",
    "lastTGG = [m.start() for m in re.finditer('TGG', str(testSeq))][-1]"
   ]
  },
  {
   "cell_type": "code",
   "execution_count": null,
   "id": "wooden-standard",
   "metadata": {
    "tags": []
   },
   "outputs": [],
   "source": [
    "lastTGG"
   ]
  },
  {
   "cell_type": "code",
   "execution_count": null,
   "id": "proud-insured",
   "metadata": {
    "tags": []
   },
   "outputs": [],
   "source": [
    "lastATG"
   ]
  },
  {
   "cell_type": "code",
   "execution_count": null,
   "id": "alive-japan",
   "metadata": {},
   "outputs": [],
   "source": [
    "lastATG < lastTGG"
   ]
  },
  {
   "cell_type": "code",
   "execution_count": null,
   "id": "gentle-spelling",
   "metadata": {
    "tags": []
   },
   "outputs": [],
   "source": [
    "searchCodon = 'ATG'\n",
    "[m.start() for m in re.finditer(searchCodon, str(testSeq))][-1]"
   ]
  },
  {
   "cell_type": "code",
   "execution_count": null,
   "id": "otherwise-series",
   "metadata": {
    "tags": []
   },
   "outputs": [],
   "source": [
    "seq.count('TAG') < 4"
   ]
  },
  {
   "cell_type": "code",
   "execution_count": null,
   "id": "suspected-hollywood",
   "metadata": {
    "tags": []
   },
   "outputs": [],
   "source": [
    "seq[0:100].count('TAG')"
   ]
  },
  {
   "cell_type": "code",
   "execution_count": null,
   "id": "manufactured-luxembourg",
   "metadata": {},
   "outputs": [],
   "source": []
  },
  {
   "cell_type": "code",
   "execution_count": null,
   "id": "cubic-orientation",
   "metadata": {},
   "outputs": [],
   "source": [
    "stopCodons = ['TAG', 'TAA', 'TGA']\n",
    "stopCodons "
   ]
  },
  {
   "cell_type": "code",
   "execution_count": null,
   "id": "about-theater",
   "metadata": {},
   "outputs": [],
   "source": [
    "indiciesTGG"
   ]
  },
  {
   "cell_type": "code",
   "execution_count": null,
   "id": "aquatic-ancient",
   "metadata": {
    "tags": []
   },
   "outputs": [],
   "source": [
    "indiciesStop"
   ]
  },
  {
   "cell_type": "code",
   "execution_count": null,
   "id": "through-combat",
   "metadata": {
    "tags": []
   },
   "outputs": [],
   "source": [
    "length = 200 \n",
    "center = length/2"
   ]
  },
  {
   "cell_type": "code",
   "execution_count": null,
   "id": "authorized-piece",
   "metadata": {
    "tags": []
   },
   "outputs": [],
   "source": [
    "arrayStop = np.array(indiciesStop)\n",
    "arrayIndicies = np.array(indiciesTGG) \n",
    "centralTGGs = arrayIndicies[abs(arrayIndicies - center) < 10]"
   ]
  },
  {
   "cell_type": "code",
   "execution_count": null,
   "id": "verbal-alabama",
   "metadata": {
    "tags": []
   },
   "outputs": [],
   "source": [
    "centralTGGs"
   ]
  },
  {
   "cell_type": "code",
   "execution_count": null,
   "id": "devoted-superior",
   "metadata": {
    "tags": []
   },
   "outputs": [],
   "source": [
    "np.in1d(centralTGGs,arrayStop)"
   ]
  },
  {
   "cell_type": "code",
   "execution_count": null,
   "id": "soviet-methodology",
   "metadata": {
    "tags": []
   },
   "outputs": [],
   "source": [
    "# Check if array contains values that are within range of values in another array \n",
    "any((min(abs(arrayStop - i)) > 10) for i in centralTGGs)"
   ]
  },
  {
   "cell_type": "code",
   "execution_count": null,
   "id": "pregnant-backing",
   "metadata": {},
   "outputs": [],
   "source": [
    "centralTGGs"
   ]
  },
  {
   "cell_type": "code",
   "execution_count": null,
   "id": "recreational-reward",
   "metadata": {
    "tags": []
   },
   "outputs": [],
   "source": [
    "indiciesStop"
   ]
  },
  {
   "cell_type": "code",
   "execution_count": null,
   "id": "equivalent-puppy",
   "metadata": {},
   "outputs": [],
   "source": [
    "testStop = [90, 16, 174]"
   ]
  },
  {
   "cell_type": "code",
   "execution_count": null,
   "id": "suspected-rates",
   "metadata": {},
   "outputs": [],
   "source": []
  },
  {
   "cell_type": "code",
   "execution_count": null,
   "id": "interested-cameroon",
   "metadata": {},
   "outputs": [],
   "source": []
  },
  {
   "cell_type": "code",
   "execution_count": null,
   "id": "progressive-producer",
   "metadata": {
    "tags": []
   },
   "outputs": [],
   "source": [
    "(min(abs(arrayStop - centralTGGs[0])) > 10)"
   ]
  },
  {
   "cell_type": "code",
   "execution_count": null,
   "id": "frank-hepatitis",
   "metadata": {
    "tags": []
   },
   "outputs": [],
   "source": [
    "min(abs(arrayStop - centralTGGs[0])) > 10"
   ]
  },
  {
   "cell_type": "code",
   "execution_count": null,
   "id": "muslim-version",
   "metadata": {},
   "outputs": [],
   "source": []
  },
  {
   "cell_type": "code",
   "execution_count": null,
   "id": "complicated-southeast",
   "metadata": {
    "tags": []
   },
   "outputs": [],
   "source": [
    "centeralTGGs = offset.min()\n",
    "centeralTGGs"
   ]
  },
  {
   "cell_type": "code",
   "execution_count": null,
   "id": "fantastic-intellectual",
   "metadata": {},
   "outputs": [],
   "source": [
    "centralTGGs = np.all(offset == offset.min())\n",
    "centralTGGs"
   ]
  },
  {
   "cell_type": "code",
   "execution_count": null,
   "id": "advisory-survey",
   "metadata": {
    "tags": []
   },
   "outputs": [],
   "source": [
    "centeralTGGs = np.where(offset == offset.min())\n",
    "centeralTGG"
   ]
  },
  {
   "cell_type": "code",
   "execution_count": null,
   "id": "mounted-appraisal",
   "metadata": {
    "tags": []
   },
   "outputs": [],
   "source": [
    "offset = abs(arrayIndicies - center) \n",
    "centerTGG = indiciesTGG[np.argmin(offset)]"
   ]
  },
  {
   "cell_type": "code",
   "execution_count": null,
   "id": "hazardous-office",
   "metadata": {
    "tags": []
   },
   "outputs": [],
   "source": [
    "any(abs(x - centerTGG) < 10 for x in indiciesStop)"
   ]
  },
  {
   "cell_type": "code",
   "execution_count": null,
   "id": "narrative-midnight",
   "metadata": {},
   "outputs": [],
   "source": []
  },
  {
   "cell_type": "code",
   "execution_count": null,
   "id": "political-positive",
   "metadata": {
    "tags": []
   },
   "outputs": [],
   "source": [
    "indiciesStop = []\n",
    "for codons in stopCodons:\n",
    "    indiciesStop.extend([m.start() for m in re.finditer(codons, str(testSeq))])"
   ]
  },
  {
   "cell_type": "code",
   "execution_count": null,
   "id": "intended-rotation",
   "metadata": {
    "tags": []
   },
   "outputs": [],
   "source": [
    "len(indiciesStop)"
   ]
  },
  {
   "cell_type": "code",
   "execution_count": null,
   "id": "computational-incidence",
   "metadata": {
    "tags": []
   },
   "outputs": [],
   "source": [
    "[m.start() for m in re.finditer('TGA', str(testSeq))]"
   ]
  },
  {
   "cell_type": "code",
   "execution_count": null,
   "id": "adjustable-appointment",
   "metadata": {
    "tags": []
   },
   "outputs": [],
   "source": [
    "[m.start() for m in re.finditer('TAA', str(testSeq))]"
   ]
  },
  {
   "cell_type": "code",
   "execution_count": null,
   "id": "nervous-retention",
   "metadata": {},
   "outputs": [],
   "source": [
    "[m.start() for m in re.finditer('TAG', str(testSeq))]"
   ]
  },
  {
   "cell_type": "code",
   "execution_count": null,
   "id": "circular-letter",
   "metadata": {
    "tags": []
   },
   "outputs": [],
   "source": [
    "testSeq.count(stopCodons)"
   ]
  },
  {
   "cell_type": "code",
   "execution_count": null,
   "id": "standing-gregory",
   "metadata": {},
   "outputs": [],
   "source": [
    "indiciesTGG"
   ]
  },
  {
   "cell_type": "code",
   "execution_count": null,
   "id": "forbidden-money",
   "metadata": {
    "tags": []
   },
   "outputs": [],
   "source": [
    "len(indiciesTGG)"
   ]
  },
  {
   "cell_type": "code",
   "execution_count": null,
   "id": "equal-shame",
   "metadata": {},
   "outputs": [],
   "source": []
  },
  {
   "cell_type": "code",
   "execution_count": null,
   "id": "hydraulic-security",
   "metadata": {},
   "outputs": [],
   "source": []
  },
  {
   "cell_type": "code",
   "execution_count": null,
   "id": "sorted-sleep",
   "metadata": {
    "tags": []
   },
   "outputs": [],
   "source": [
    "testSeq = sesRNAs[0]"
   ]
  },
  {
   "cell_type": "code",
   "execution_count": null,
   "id": "continuous-comparative",
   "metadata": {
    "tags": []
   },
   "outputs": [],
   "source": [
    "lastTGG = [m.start() for m in re.finditer('TGG', str(testSeq))][-1]"
   ]
  },
  {
   "cell_type": "code",
   "execution_count": null,
   "id": "challenging-hopkins",
   "metadata": {},
   "outputs": [],
   "source": [
    "testSeq"
   ]
  },
  {
   "cell_type": "code",
   "execution_count": null,
   "id": "completed-grenada",
   "metadata": {
    "tags": []
   },
   "outputs": [],
   "source": [
    "indiciesTGG = [m.start() for m in re.finditer('TGG', str(testSeq))]"
   ]
  },
  {
   "cell_type": "code",
   "execution_count": null,
   "id": "adjusted-trustee",
   "metadata": {
    "tags": []
   },
   "outputs": [],
   "source": [
    "start = 0 \n",
    "stop = 200"
   ]
  },
  {
   "cell_type": "code",
   "execution_count": null,
   "id": "capable-complement",
   "metadata": {
    "tags": []
   },
   "outputs": [],
   "source": [
    "middle = (start + stop) / 2"
   ]
  },
  {
   "cell_type": "code",
   "execution_count": null,
   "id": "olympic-present",
   "metadata": {
    "tags": []
   },
   "outputs": [],
   "source": [
    "abs(middle - indiciesTGG[0])"
   ]
  },
  {
   "cell_type": "code",
   "execution_count": null,
   "id": "champion-eleven",
   "metadata": {},
   "outputs": [],
   "source": [
    "type(indiciesTGG)"
   ]
  },
  {
   "cell_type": "code",
   "execution_count": null,
   "id": "spectacular-touch",
   "metadata": {},
   "outputs": [],
   "source": [
    "indiciesTGG"
   ]
  },
  {
   "cell_type": "code",
   "execution_count": null,
   "id": "cooked-music",
   "metadata": {},
   "outputs": [],
   "source": [
    "any(indiciesTGG) > 2"
   ]
  },
  {
   "cell_type": "code",
   "execution_count": null,
   "id": "appropriate-ministry",
   "metadata": {},
   "outputs": [],
   "source": [
    "length = 200 "
   ]
  },
  {
   "cell_type": "code",
   "execution_count": null,
   "id": "ruled-times",
   "metadata": {
    "tags": []
   },
   "outputs": [],
   "source": [
    "any(abs(x - (length/2)) < 20 for x in indiciesTGG)"
   ]
  },
  {
   "cell_type": "code",
   "execution_count": null,
   "id": "developing-origin",
   "metadata": {
    "tags": []
   },
   "outputs": [],
   "source": [
    "testList = [50, 60, 170, 200]"
   ]
  },
  {
   "cell_type": "code",
   "execution_count": null,
   "id": "accomplished-recording",
   "metadata": {
    "tags": []
   },
   "outputs": [],
   "source": [
    "any(abs(x - (length/2)) < 10 for x in testList)"
   ]
  },
  {
   "cell_type": "code",
   "execution_count": null,
   "id": "killing-fetish",
   "metadata": {},
   "outputs": [],
   "source": []
  },
  {
   "cell_type": "code",
   "execution_count": null,
   "id": "concrete-mississippi",
   "metadata": {},
   "outputs": [],
   "source": [
    "testSeq"
   ]
  },
  {
   "cell_type": "code",
   "execution_count": null,
   "id": "comfortable-green",
   "metadata": {
    "tags": []
   },
   "outputs": [],
   "source": [
    "os.path.isdir('Output/BioPython')"
   ]
  },
  {
   "cell_type": "code",
   "execution_count": null,
   "id": "selective-quality",
   "metadata": {
    "tags": []
   },
   "outputs": [],
   "source": []
  },
  {
   "cell_type": "code",
   "execution_count": null,
   "id": "fewer-strain",
   "metadata": {},
   "outputs": [],
   "source": [
    "outputFileName = os.getcwd() + ''"
   ]
  },
  {
   "cell_type": "code",
   "execution_count": null,
   "id": "facial-sodium",
   "metadata": {},
   "outputs": [],
   "source": [
    "testSeq"
   ]
  },
  {
   "cell_type": "code",
   "execution_count": null,
   "id": "624fb6a0-4572-4319-b60d-573b7ab225f1",
   "metadata": {},
   "outputs": [],
   "source": []
  },
  {
   "cell_type": "code",
   "execution_count": null,
   "id": "b7dca5f2-075c-4bf9-9f86-7defe8042a17",
   "metadata": {},
   "outputs": [],
   "source": []
  },
  {
   "cell_type": "code",
   "execution_count": null,
   "id": "6eded10b-badd-4eb0-b3b8-49fb236d067b",
   "metadata": {},
   "outputs": [],
   "source": []
  },
  {
   "cell_type": "code",
   "execution_count": null,
   "id": "af561b1c-991a-4d98-af4c-15606fbcdee3",
   "metadata": {},
   "outputs": [],
   "source": []
  },
  {
   "cell_type": "code",
   "execution_count": null,
   "id": "a5e327bb-c221-4578-b0a0-7dfac34c1625",
   "metadata": {},
   "outputs": [],
   "source": []
  },
  {
   "cell_type": "code",
   "execution_count": null,
   "id": "ce80dfd1-76b4-412b-ae5f-109174384a95",
   "metadata": {},
   "outputs": [],
   "source": []
  },
  {
   "cell_type": "code",
   "execution_count": null,
   "id": "violent-toolbox",
   "metadata": {},
   "outputs": [],
   "source": []
  },
  {
   "cell_type": "code",
   "execution_count": null,
   "id": "2ff254b6-8d79-4c8a-8302-8fbb0503e88e",
   "metadata": {},
   "outputs": [],
   "source": []
  }
 ],
 "metadata": {
  "kernelspec": {
   "display_name": "huang_CellReadR",
   "language": "python",
   "name": "huang_cellreadr"
  },
  "language_info": {
   "codemirror_mode": {
    "name": "ipython",
    "version": 3
   },
   "file_extension": ".py",
   "mimetype": "text/x-python",
   "name": "python",
   "nbconvert_exporter": "python",
   "pygments_lexer": "ipython3",
   "version": "3.9.1"
  },
  "toc-showtags": false
 },
 "nbformat": 4,
 "nbformat_minor": 5
}
