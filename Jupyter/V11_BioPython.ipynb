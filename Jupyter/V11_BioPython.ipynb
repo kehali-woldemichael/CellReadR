{
 "cells": [
  {
   "cell_type": "markdown",
   "id": "right-sheffield",
   "metadata": {},
   "source": [
    "# Setup "
   ]
  },
  {
   "cell_type": "markdown",
   "id": "amino-silence",
   "metadata": {},
   "source": [
    "## Import packages "
   ]
  },
  {
   "cell_type": "code",
   "execution_count": 1,
   "id": "rolled-columbia",
   "metadata": {
    "execution": {
     "iopub.execute_input": "2021-06-01T19:35:22.676075Z",
     "iopub.status.busy": "2021-06-01T19:35:22.675732Z",
     "iopub.status.idle": "2021-06-01T19:35:22.975297Z",
     "shell.execute_reply": "2021-06-01T19:35:22.974694Z",
     "shell.execute_reply.started": "2021-06-01T19:35:22.676023Z"
    },
    "tags": []
   },
   "outputs": [],
   "source": [
    "# General \n",
    "import os \n",
    "import numpy as np\n",
    "import pandas as pd \n",
    "# For running bash scripts from inside python ... \n",
    "import subprocess\n",
    "# For manipulating string objects \n",
    "import re\n",
    "# for generating any necessary directories\n",
    "import pathlib \n",
    "# For manipulating list objects \n",
    "import itertools "
   ]
  },
  {
   "cell_type": "code",
   "execution_count": 2,
   "id": "false-allah",
   "metadata": {
    "execution": {
     "iopub.execute_input": "2021-06-01T19:35:22.976279Z",
     "iopub.status.busy": "2021-06-01T19:35:22.976083Z",
     "iopub.status.idle": "2021-06-01T19:35:23.010263Z",
     "shell.execute_reply": "2021-06-01T19:35:23.009636Z",
     "shell.execute_reply.started": "2021-06-01T19:35:22.976262Z"
    },
    "tags": []
   },
   "outputs": [],
   "source": [
    "# For working with sequence objects \n",
    "from Bio.Seq import Seq"
   ]
  },
  {
   "cell_type": "code",
   "execution_count": 3,
   "id": "greenhouse-dryer",
   "metadata": {
    "execution": {
     "iopub.execute_input": "2021-06-01T19:35:23.011614Z",
     "iopub.status.busy": "2021-06-01T19:35:23.011424Z",
     "iopub.status.idle": "2021-06-01T19:35:23.047013Z",
     "shell.execute_reply": "2021-06-01T19:35:23.046391Z",
     "shell.execute_reply.started": "2021-06-01T19:35:23.011594Z"
    }
   },
   "outputs": [],
   "source": [
    "# For fetching sequences from Entrez \n",
    "from Bio import Entrez\n",
    "from Bio import SeqIO"
   ]
  },
  {
   "cell_type": "code",
   "execution_count": 4,
   "id": "positive-coordination",
   "metadata": {
    "execution": {
     "iopub.execute_input": "2021-06-01T19:35:23.048524Z",
     "iopub.status.busy": "2021-06-01T19:35:23.048222Z",
     "iopub.status.idle": "2021-06-01T19:35:23.051637Z",
     "shell.execute_reply": "2021-06-01T19:35:23.051009Z",
     "shell.execute_reply.started": "2021-06-01T19:35:23.048495Z"
    },
    "tags": []
   },
   "outputs": [],
   "source": [
    "# For extracting features \n",
    "from Bio.SeqFeature import SeqFeature, FeatureLocation\n",
    "# For creating SeqRecord objects \n",
    "from Bio.SeqRecord import SeqRecord"
   ]
  },
  {
   "cell_type": "code",
   "execution_count": 5,
   "id": "94f6963c-c46d-4ff1-a40b-11b353df1ca6",
   "metadata": {
    "execution": {
     "iopub.execute_input": "2021-06-01T19:35:23.052583Z",
     "iopub.status.busy": "2021-06-01T19:35:23.052398Z",
     "iopub.status.idle": "2021-06-01T19:35:23.489663Z",
     "shell.execute_reply": "2021-06-01T19:35:23.488995Z",
     "shell.execute_reply.started": "2021-06-01T19:35:23.052565Z"
    },
    "tags": []
   },
   "outputs": [],
   "source": [
    "# For running R cells \n",
    "%load_ext rpy2.ipython"
   ]
  },
  {
   "cell_type": "markdown",
   "id": "metric-color",
   "metadata": {},
   "source": [
    "# Functions "
   ]
  },
  {
   "cell_type": "code",
   "execution_count": 6,
   "id": "679724e8-dd9f-4d70-aa65-c55c1ea60a0c",
   "metadata": {
    "execution": {
     "iopub.execute_input": "2021-06-01T19:35:23.490579Z",
     "iopub.status.busy": "2021-06-01T19:35:23.490421Z",
     "iopub.status.idle": "2021-06-01T19:35:23.583944Z",
     "shell.execute_reply": "2021-06-01T19:35:23.583396Z",
     "shell.execute_reply.started": "2021-06-01T19:35:23.490562Z"
    },
    "tags": []
   },
   "outputs": [],
   "source": [
    "import sys\n",
    "# Importing module of personal functions \n",
    "sys.path.append('/home/user1/Dropbox/Research/Neurobiology_PhD/Huang/Projects/CellReadR/Code')\n",
    "from kCellReadR import * "
   ]
  },
  {
   "cell_type": "markdown",
   "id": "bc4d4e6f-48bf-4e45-bcf0-9ad20a20d8d4",
   "metadata": {},
   "source": [
    "## Misc"
   ]
  },
  {
   "cell_type": "code",
   "execution_count": 7,
   "id": "2c729aa8-093a-4b08-85c5-5babeae37548",
   "metadata": {
    "execution": {
     "iopub.execute_input": "2021-06-01T19:35:23.584786Z",
     "iopub.status.busy": "2021-06-01T19:35:23.584613Z",
     "iopub.status.idle": "2021-06-01T19:35:23.588057Z",
     "shell.execute_reply": "2021-06-01T19:35:23.587137Z",
     "shell.execute_reply.started": "2021-06-01T19:35:23.584770Z"
    },
    "tags": []
   },
   "outputs": [],
   "source": [
    "speciesName = 'Zebra finch'\n",
    "geneName = 'Slc17a6'\n",
    "\n",
    "Entrez.email = \"kehaliwoldemichael@gmail.com\"  # Always tell NCBI who you are"
   ]
  },
  {
   "cell_type": "markdown",
   "id": "liquid-conditions",
   "metadata": {},
   "source": [
    "# Sequence"
   ]
  },
  {
   "cell_type": "markdown",
   "id": "offensive-organizer",
   "metadata": {},
   "source": [
    "## Loading sequences "
   ]
  },
  {
   "cell_type": "code",
   "execution_count": 8,
   "id": "3e72b65e-3449-4ebe-b587-4f1ae05f683b",
   "metadata": {
    "execution": {
     "iopub.execute_input": "2021-06-01T19:35:23.591102Z",
     "iopub.status.busy": "2021-06-01T19:35:23.590758Z",
     "iopub.status.idle": "2021-06-01T19:35:24.072694Z",
     "shell.execute_reply": "2021-06-01T19:35:24.072191Z",
     "shell.execute_reply.started": "2021-06-01T19:35:23.591067Z"
    },
    "tags": []
   },
   "outputs": [
    {
     "data": {
      "text/plain": [
       "['ENSTGUT00000004776', 'ENSTGUT00000023529', 'ENSTGUT00000029320']"
      ]
     },
     "execution_count": 8,
     "metadata": {},
     "output_type": "execute_result"
    }
   ],
   "source": [
    "ensembl_transcriptIDs = return_ensemblTranscriptIDs(speciesName, geneName)\n",
    "ensembl_transcriptIDs"
   ]
  },
  {
   "cell_type": "code",
   "execution_count": 9,
   "id": "2bce1b6c-540a-4c87-a4d8-5a363a49dd03",
   "metadata": {
    "execution": {
     "iopub.execute_input": "2021-06-01T19:35:24.073798Z",
     "iopub.status.busy": "2021-06-01T19:35:24.073611Z",
     "iopub.status.idle": "2021-06-01T19:35:28.984451Z",
     "shell.execute_reply": "2021-06-01T19:35:28.983680Z",
     "shell.execute_reply.started": "2021-06-01T19:35:24.073779Z"
    },
    "tags": []
   },
   "outputs": [
    {
     "data": {
      "text/html": [
       "<div>\n",
       "<style scoped>\n",
       "    .dataframe tbody tr th:only-of-type {\n",
       "        vertical-align: middle;\n",
       "    }\n",
       "\n",
       "    .dataframe tbody tr th {\n",
       "        vertical-align: top;\n",
       "    }\n",
       "\n",
       "    .dataframe thead th {\n",
       "        text-align: right;\n",
       "    }\n",
       "</style>\n",
       "<table border=\"1\" class=\"dataframe\">\n",
       "  <thead>\n",
       "    <tr style=\"text-align: right;\">\n",
       "      <th></th>\n",
       "      <th>TranscriptNum</th>\n",
       "      <th>TranscriptID</th>\n",
       "      <th>TranscriptName</th>\n",
       "      <th>Assembly</th>\n",
       "      <th>Type</th>\n",
       "      <th>AA_Length</th>\n",
       "      <th>Is_Canonical</th>\n",
       "    </tr>\n",
       "  </thead>\n",
       "  <tbody>\n",
       "    <tr>\n",
       "      <th>0</th>\n",
       "      <td>1</td>\n",
       "      <td>ENSTGUT00000004776</td>\n",
       "      <td>SLC17A6-201</td>\n",
       "      <td>bTaeGut1_v1.p</td>\n",
       "      <td>protein_coding</td>\n",
       "      <td>581</td>\n",
       "      <td>True</td>\n",
       "    </tr>\n",
       "    <tr>\n",
       "      <th>1</th>\n",
       "      <td>2</td>\n",
       "      <td>ENSTGUT00000023529</td>\n",
       "      <td>SLC17A6-203</td>\n",
       "      <td>bTaeGut1_v1.p</td>\n",
       "      <td>protein_coding</td>\n",
       "      <td>551</td>\n",
       "      <td>False</td>\n",
       "    </tr>\n",
       "    <tr>\n",
       "      <th>2</th>\n",
       "      <td>3</td>\n",
       "      <td>ENSTGUT00000029320</td>\n",
       "      <td>SLC17A6-202</td>\n",
       "      <td>bTaeGut1_v1.p</td>\n",
       "      <td>protein_coding</td>\n",
       "      <td>541</td>\n",
       "      <td>False</td>\n",
       "    </tr>\n",
       "  </tbody>\n",
       "</table>\n",
       "</div>"
      ],
      "text/plain": [
       "   TranscriptNum        TranscriptID TranscriptName       Assembly  \\\n",
       "0              1  ENSTGUT00000004776    SLC17A6-201  bTaeGut1_v1.p   \n",
       "1              2  ENSTGUT00000023529    SLC17A6-203  bTaeGut1_v1.p   \n",
       "2              3  ENSTGUT00000029320    SLC17A6-202  bTaeGut1_v1.p   \n",
       "\n",
       "             Type  AA_Length Is_Canonical  \n",
       "0  protein_coding        581         True  \n",
       "1  protein_coding        551        False  \n",
       "2  protein_coding        541        False  "
      ]
     },
     "execution_count": 9,
     "metadata": {},
     "output_type": "execute_result"
    }
   ],
   "source": [
    "variantTable = table_transcriptsInfo(ensembl_transcriptIDs)\n",
    "variantTable"
   ]
  },
  {
   "cell_type": "code",
   "execution_count": 10,
   "id": "f28434e0-dd4c-44aa-9137-f3c62651df60",
   "metadata": {
    "execution": {
     "iopub.execute_input": "2021-06-01T19:35:28.985961Z",
     "iopub.status.busy": "2021-06-01T19:35:28.985646Z",
     "iopub.status.idle": "2021-06-01T19:35:28.989140Z",
     "shell.execute_reply": "2021-06-01T19:35:28.988405Z",
     "shell.execute_reply.started": "2021-06-01T19:35:28.985933Z"
    },
    "tags": []
   },
   "outputs": [],
   "source": [
    "spliceVariant = 1"
   ]
  },
  {
   "cell_type": "code",
   "execution_count": 11,
   "id": "1724fdde-835a-4026-a75b-3a378b4a7848",
   "metadata": {
    "execution": {
     "iopub.execute_input": "2021-06-01T19:35:28.990517Z",
     "iopub.status.busy": "2021-06-01T19:35:28.990308Z",
     "iopub.status.idle": "2021-06-01T19:35:29.022562Z",
     "shell.execute_reply": "2021-06-01T19:35:29.022041Z",
     "shell.execute_reply.started": "2021-06-01T19:35:28.990496Z"
    },
    "tags": []
   },
   "outputs": [
    {
     "data": {
      "text/plain": [
       "'Slc17a6'"
      ]
     },
     "execution_count": 11,
     "metadata": {},
     "output_type": "execute_result"
    }
   ],
   "source": [
    "geneName"
   ]
  },
  {
   "cell_type": "code",
   "execution_count": 12,
   "id": "8fb727b2-5aa3-4d2f-aefe-e60647be9bfa",
   "metadata": {
    "execution": {
     "iopub.execute_input": "2021-06-01T19:35:29.023423Z",
     "iopub.status.busy": "2021-06-01T19:35:29.023263Z",
     "iopub.status.idle": "2021-06-01T19:35:29.048096Z",
     "shell.execute_reply": "2021-06-01T19:35:29.047479Z",
     "shell.execute_reply.started": "2021-06-01T19:35:29.023406Z"
    },
    "tags": []
   },
   "outputs": [
    {
     "data": {
      "text/plain": [
       "'Zebra finch'"
      ]
     },
     "execution_count": 12,
     "metadata": {},
     "output_type": "execute_result"
    }
   ],
   "source": [
    "speciesName"
   ]
  },
  {
   "cell_type": "code",
   "execution_count": 13,
   "id": "continuing-sample",
   "metadata": {
    "execution": {
     "iopub.execute_input": "2021-06-01T19:35:29.049157Z",
     "iopub.status.busy": "2021-06-01T19:35:29.048911Z",
     "iopub.status.idle": "2021-06-01T19:35:29.090972Z",
     "shell.execute_reply": "2021-06-01T19:35:29.090375Z",
     "shell.execute_reply.started": "2021-06-01T19:35:29.049137Z"
    },
    "tags": []
   },
   "outputs": [],
   "source": [
    "rC_exon_records, C_exon_records, CDS, cDNA = load_referenceSequences(speciesName, geneName, spliceVariant)"
   ]
  },
  {
   "cell_type": "markdown",
   "id": "after-beatles",
   "metadata": {},
   "source": [
    "## Selecting sensor "
   ]
  },
  {
   "cell_type": "code",
   "execution_count": 14,
   "id": "7420f114-a9cd-4295-a19a-9a1d926a7b81",
   "metadata": {
    "execution": {
     "iopub.execute_input": "2021-06-01T19:35:29.092152Z",
     "iopub.status.busy": "2021-06-01T19:35:29.091877Z",
     "iopub.status.idle": "2021-06-01T19:35:29.113096Z",
     "shell.execute_reply": "2021-06-01T19:35:29.112115Z",
     "shell.execute_reply.started": "2021-06-01T19:35:29.092123Z"
    },
    "tags": []
   },
   "outputs": [
    {
     "name": "stdout",
     "output_type": "stream",
     "text": [
      "213\n",
      "253\n",
      "2113\n"
     ]
    }
   ],
   "source": [
    "for exon in rC_exon_records:\n",
    "    print(len(str(exon.seq)))"
   ]
  },
  {
   "cell_type": "code",
   "execution_count": 15,
   "id": "a43e69c2-68a9-4f66-9117-ac367981b306",
   "metadata": {
    "execution": {
     "iopub.execute_input": "2021-06-01T19:35:29.114292Z",
     "iopub.status.busy": "2021-06-01T19:35:29.114066Z",
     "iopub.status.idle": "2021-06-01T19:35:29.150187Z",
     "shell.execute_reply": "2021-06-01T19:35:29.149514Z",
     "shell.execute_reply.started": "2021-06-01T19:35:29.114268Z"
    },
    "tags": []
   },
   "outputs": [],
   "source": [
    "parameters = parameters_sesRNA(speciesName, geneName,  spliceVariant, 'Both', 192, 1, 3, 'None', 30, 75, 60, 10)"
   ]
  },
  {
   "cell_type": "code",
   "execution_count": 16,
   "id": "02895fb4-5293-4a3c-b754-efe5b2b00996",
   "metadata": {
    "execution": {
     "iopub.execute_input": "2021-06-01T19:35:29.151076Z",
     "iopub.status.busy": "2021-06-01T19:35:29.150895Z",
     "iopub.status.idle": "2021-06-01T19:35:29.170836Z",
     "shell.execute_reply": "2021-06-01T19:35:29.169610Z",
     "shell.execute_reply.started": "2021-06-01T19:35:29.151059Z"
    },
    "tags": []
   },
   "outputs": [
    {
     "name": "stdout",
     "output_type": "stream",
     "text": [
      "[instance attributes]\n",
      "species = Zebra finch\n",
      "gene = Slc17a6\n",
      "spliceVariant = 1\n",
      "seqDirection = Both\n",
      "length = 192\n",
      "num_inF_TGG = 1\n",
      "num_inF_Stop = 3\n",
      "inF_ATG = None\n",
      "minGC = 30\n",
      "maxGC = 75\n",
      "nearCenter = 60\n",
      "fromStop = 10\n"
     ]
    }
   ],
   "source": [
    "parameters.print_parameters()"
   ]
  },
  {
   "cell_type": "code",
   "execution_count": 17,
   "id": "34ff46d1-409f-45ae-82e4-64c86df15518",
   "metadata": {
    "execution": {
     "iopub.execute_input": "2021-06-01T19:35:29.173496Z",
     "iopub.status.busy": "2021-06-01T19:35:29.172711Z",
     "iopub.status.idle": "2021-06-01T19:35:29.519541Z",
     "shell.execute_reply": "2021-06-01T19:35:29.518890Z",
     "shell.execute_reply.started": "2021-06-01T19:35:29.173431Z"
    },
    "tags": []
   },
   "outputs": [],
   "source": [
    "all_sesRNAs, all_sequenceMetrics, all_sesRNA_objs = generate_all_sesRNAs(rC_exon_records, C_exon_records, CDS, parameters, variantTable)"
   ]
  },
  {
   "cell_type": "code",
   "execution_count": 18,
   "id": "33520669-a7b8-49ec-82be-911b3d118b0a",
   "metadata": {
    "execution": {
     "iopub.execute_input": "2021-06-01T19:35:29.520345Z",
     "iopub.status.busy": "2021-06-01T19:35:29.520191Z",
     "iopub.status.idle": "2021-06-01T19:35:29.543791Z",
     "shell.execute_reply": "2021-06-01T19:35:29.543061Z",
     "shell.execute_reply.started": "2021-06-01T19:35:29.520329Z"
    },
    "tags": []
   },
   "outputs": [
    {
     "data": {
      "text/html": [
       "<div>\n",
       "<style scoped>\n",
       "    .dataframe tbody tr th:only-of-type {\n",
       "        vertical-align: middle;\n",
       "    }\n",
       "\n",
       "    .dataframe tbody tr th {\n",
       "        vertical-align: top;\n",
       "    }\n",
       "\n",
       "    .dataframe thead th {\n",
       "        text-align: right;\n",
       "    }\n",
       "</style>\n",
       "<table border=\"1\" class=\"dataframe\">\n",
       "  <thead>\n",
       "    <tr style=\"text-align: right;\">\n",
       "      <th></th>\n",
       "      <th>SeqNumber</th>\n",
       "      <th>TypeSeq</th>\n",
       "      <th>Exon</th>\n",
       "      <th>ExonFraction</th>\n",
       "      <th>ExonProteinFrac</th>\n",
       "      <th>StartSeq</th>\n",
       "      <th>StopSeq</th>\n",
       "      <th>firstTGG</th>\n",
       "      <th>centralTGG</th>\n",
       "      <th>second_cTGG</th>\n",
       "      <th>numTGG</th>\n",
       "      <th>numATG</th>\n",
       "      <th>numStop</th>\n",
       "      <th>gcContent</th>\n",
       "    </tr>\n",
       "  </thead>\n",
       "  <tbody>\n",
       "    <tr>\n",
       "      <th>0</th>\n",
       "      <td>1</td>\n",
       "      <td>Reverse</td>\n",
       "      <td>2</td>\n",
       "      <td>3/3</td>\n",
       "      <td>3/3</td>\n",
       "      <td>59.0</td>\n",
       "      <td>251.0</td>\n",
       "      <td>57.0</td>\n",
       "      <td>132.0</td>\n",
       "      <td>57.0</td>\n",
       "      <td>3.0</td>\n",
       "      <td>0.0</td>\n",
       "      <td>2.0</td>\n",
       "      <td>59.4</td>\n",
       "    </tr>\n",
       "    <tr>\n",
       "      <th>0</th>\n",
       "      <td>1</td>\n",
       "      <td>Complement</td>\n",
       "      <td>2</td>\n",
       "      <td>3/3</td>\n",
       "      <td>3/3</td>\n",
       "      <td>29.0</td>\n",
       "      <td>221.0</td>\n",
       "      <td>153.0</td>\n",
       "      <td>153.0</td>\n",
       "      <td>NA</td>\n",
       "      <td>1.0</td>\n",
       "      <td>0.0</td>\n",
       "      <td>1.0</td>\n",
       "      <td>56.2</td>\n",
       "    </tr>\n",
       "    <tr>\n",
       "      <th>1</th>\n",
       "      <td>2</td>\n",
       "      <td>Complement</td>\n",
       "      <td>2</td>\n",
       "      <td>3/3</td>\n",
       "      <td>3/3</td>\n",
       "      <td>32.0</td>\n",
       "      <td>224.0</td>\n",
       "      <td>150.0</td>\n",
       "      <td>150.0</td>\n",
       "      <td>NA</td>\n",
       "      <td>1.0</td>\n",
       "      <td>0.0</td>\n",
       "      <td>1.0</td>\n",
       "      <td>56.8</td>\n",
       "    </tr>\n",
       "    <tr>\n",
       "      <th>0</th>\n",
       "      <td>3</td>\n",
       "      <td>Complement</td>\n",
       "      <td>3</td>\n",
       "      <td>2/3</td>\n",
       "      <td>2/3</td>\n",
       "      <td>1.0</td>\n",
       "      <td>193.0</td>\n",
       "      <td>105.0</td>\n",
       "      <td>105.0</td>\n",
       "      <td>NA</td>\n",
       "      <td>1.0</td>\n",
       "      <td>0.0</td>\n",
       "      <td>2.0</td>\n",
       "      <td>44.8</td>\n",
       "    </tr>\n",
       "    <tr>\n",
       "      <th>1</th>\n",
       "      <td>4</td>\n",
       "      <td>Complement</td>\n",
       "      <td>3</td>\n",
       "      <td>2/3</td>\n",
       "      <td>2/3</td>\n",
       "      <td>4.0</td>\n",
       "      <td>196.0</td>\n",
       "      <td>102.0</td>\n",
       "      <td>102.0</td>\n",
       "      <td>NA</td>\n",
       "      <td>1.0</td>\n",
       "      <td>0.0</td>\n",
       "      <td>2.0</td>\n",
       "      <td>43.8</td>\n",
       "    </tr>\n",
       "    <tr>\n",
       "      <th>2</th>\n",
       "      <td>5</td>\n",
       "      <td>Complement</td>\n",
       "      <td>3</td>\n",
       "      <td>2/3</td>\n",
       "      <td>2/3</td>\n",
       "      <td>7.0</td>\n",
       "      <td>199.0</td>\n",
       "      <td>99.0</td>\n",
       "      <td>99.0</td>\n",
       "      <td>NA</td>\n",
       "      <td>1.0</td>\n",
       "      <td>0.0</td>\n",
       "      <td>3.0</td>\n",
       "      <td>42.7</td>\n",
       "    </tr>\n",
       "    <tr>\n",
       "      <th>3</th>\n",
       "      <td>6</td>\n",
       "      <td>Complement</td>\n",
       "      <td>3</td>\n",
       "      <td>2/3</td>\n",
       "      <td>2/3</td>\n",
       "      <td>10.0</td>\n",
       "      <td>202.0</td>\n",
       "      <td>96.0</td>\n",
       "      <td>96.0</td>\n",
       "      <td>NA</td>\n",
       "      <td>1.0</td>\n",
       "      <td>0.0</td>\n",
       "      <td>3.0</td>\n",
       "      <td>42.7</td>\n",
       "    </tr>\n",
       "    <tr>\n",
       "      <th>4</th>\n",
       "      <td>7</td>\n",
       "      <td>Complement</td>\n",
       "      <td>3</td>\n",
       "      <td>2/3</td>\n",
       "      <td>2/3</td>\n",
       "      <td>13.0</td>\n",
       "      <td>205.0</td>\n",
       "      <td>93.0</td>\n",
       "      <td>93.0</td>\n",
       "      <td>NA</td>\n",
       "      <td>1.0</td>\n",
       "      <td>0.0</td>\n",
       "      <td>3.0</td>\n",
       "      <td>43.2</td>\n",
       "    </tr>\n",
       "    <tr>\n",
       "      <th>5</th>\n",
       "      <td>8</td>\n",
       "      <td>Complement</td>\n",
       "      <td>3</td>\n",
       "      <td>2/3</td>\n",
       "      <td>2/3</td>\n",
       "      <td>16.0</td>\n",
       "      <td>208.0</td>\n",
       "      <td>90.0</td>\n",
       "      <td>90.0</td>\n",
       "      <td>NA</td>\n",
       "      <td>1.0</td>\n",
       "      <td>0.0</td>\n",
       "      <td>3.0</td>\n",
       "      <td>42.7</td>\n",
       "    </tr>\n",
       "    <tr>\n",
       "      <th>6</th>\n",
       "      <td>9</td>\n",
       "      <td>Complement</td>\n",
       "      <td>3</td>\n",
       "      <td>2/3</td>\n",
       "      <td>2/3</td>\n",
       "      <td>19.0</td>\n",
       "      <td>211.0</td>\n",
       "      <td>87.0</td>\n",
       "      <td>87.0</td>\n",
       "      <td>NA</td>\n",
       "      <td>1.0</td>\n",
       "      <td>0.0</td>\n",
       "      <td>3.0</td>\n",
       "      <td>43.2</td>\n",
       "    </tr>\n",
       "    <tr>\n",
       "      <th>7</th>\n",
       "      <td>10</td>\n",
       "      <td>Complement</td>\n",
       "      <td>3</td>\n",
       "      <td>2/3</td>\n",
       "      <td>2/3</td>\n",
       "      <td>22.0</td>\n",
       "      <td>214.0</td>\n",
       "      <td>84.0</td>\n",
       "      <td>84.0</td>\n",
       "      <td>NA</td>\n",
       "      <td>1.0</td>\n",
       "      <td>0.0</td>\n",
       "      <td>3.0</td>\n",
       "      <td>43.2</td>\n",
       "    </tr>\n",
       "    <tr>\n",
       "      <th>8</th>\n",
       "      <td>11</td>\n",
       "      <td>Complement</td>\n",
       "      <td>3</td>\n",
       "      <td>2/3</td>\n",
       "      <td>2/3</td>\n",
       "      <td>25.0</td>\n",
       "      <td>217.0</td>\n",
       "      <td>81.0</td>\n",
       "      <td>81.0</td>\n",
       "      <td>NA</td>\n",
       "      <td>1.0</td>\n",
       "      <td>0.0</td>\n",
       "      <td>3.0</td>\n",
       "      <td>43.2</td>\n",
       "    </tr>\n",
       "    <tr>\n",
       "      <th>9</th>\n",
       "      <td>12</td>\n",
       "      <td>Complement</td>\n",
       "      <td>3</td>\n",
       "      <td>2/3</td>\n",
       "      <td>2/3</td>\n",
       "      <td>28.0</td>\n",
       "      <td>220.0</td>\n",
       "      <td>78.0</td>\n",
       "      <td>78.0</td>\n",
       "      <td>NA</td>\n",
       "      <td>1.0</td>\n",
       "      <td>0.0</td>\n",
       "      <td>3.0</td>\n",
       "      <td>43.2</td>\n",
       "    </tr>\n",
       "    <tr>\n",
       "      <th>10</th>\n",
       "      <td>13</td>\n",
       "      <td>Complement</td>\n",
       "      <td>3</td>\n",
       "      <td>2/3</td>\n",
       "      <td>2/3</td>\n",
       "      <td>31.0</td>\n",
       "      <td>223.0</td>\n",
       "      <td>75.0</td>\n",
       "      <td>75.0</td>\n",
       "      <td>NA</td>\n",
       "      <td>1.0</td>\n",
       "      <td>0.0</td>\n",
       "      <td>3.0</td>\n",
       "      <td>43.8</td>\n",
       "    </tr>\n",
       "    <tr>\n",
       "      <th>11</th>\n",
       "      <td>14</td>\n",
       "      <td>Complement</td>\n",
       "      <td>3</td>\n",
       "      <td>2/3</td>\n",
       "      <td>2/3</td>\n",
       "      <td>34.0</td>\n",
       "      <td>226.0</td>\n",
       "      <td>72.0</td>\n",
       "      <td>72.0</td>\n",
       "      <td>NA</td>\n",
       "      <td>1.0</td>\n",
       "      <td>0.0</td>\n",
       "      <td>3.0</td>\n",
       "      <td>43.8</td>\n",
       "    </tr>\n",
       "    <tr>\n",
       "      <th>12</th>\n",
       "      <td>15</td>\n",
       "      <td>Complement</td>\n",
       "      <td>3</td>\n",
       "      <td>2/3</td>\n",
       "      <td>2/3</td>\n",
       "      <td>37.0</td>\n",
       "      <td>229.0</td>\n",
       "      <td>69.0</td>\n",
       "      <td>69.0</td>\n",
       "      <td>NA</td>\n",
       "      <td>1.0</td>\n",
       "      <td>0.0</td>\n",
       "      <td>3.0</td>\n",
       "      <td>43.2</td>\n",
       "    </tr>\n",
       "    <tr>\n",
       "      <th>13</th>\n",
       "      <td>16</td>\n",
       "      <td>Complement</td>\n",
       "      <td>3</td>\n",
       "      <td>2/3</td>\n",
       "      <td>2/3</td>\n",
       "      <td>40.0</td>\n",
       "      <td>232.0</td>\n",
       "      <td>66.0</td>\n",
       "      <td>66.0</td>\n",
       "      <td>NA</td>\n",
       "      <td>1.0</td>\n",
       "      <td>0.0</td>\n",
       "      <td>3.0</td>\n",
       "      <td>44.3</td>\n",
       "    </tr>\n",
       "    <tr>\n",
       "      <th>14</th>\n",
       "      <td>17</td>\n",
       "      <td>Complement</td>\n",
       "      <td>3</td>\n",
       "      <td>2/3</td>\n",
       "      <td>2/3</td>\n",
       "      <td>43.0</td>\n",
       "      <td>235.0</td>\n",
       "      <td>63.0</td>\n",
       "      <td>63.0</td>\n",
       "      <td>NA</td>\n",
       "      <td>1.0</td>\n",
       "      <td>0.0</td>\n",
       "      <td>3.0</td>\n",
       "      <td>44.8</td>\n",
       "    </tr>\n",
       "    <tr>\n",
       "      <th>15</th>\n",
       "      <td>18</td>\n",
       "      <td>Complement</td>\n",
       "      <td>3</td>\n",
       "      <td>2/3</td>\n",
       "      <td>2/3</td>\n",
       "      <td>46.0</td>\n",
       "      <td>238.0</td>\n",
       "      <td>60.0</td>\n",
       "      <td>60.0</td>\n",
       "      <td>NA</td>\n",
       "      <td>1.0</td>\n",
       "      <td>0.0</td>\n",
       "      <td>3.0</td>\n",
       "      <td>44.3</td>\n",
       "    </tr>\n",
       "    <tr>\n",
       "      <th>16</th>\n",
       "      <td>19</td>\n",
       "      <td>Complement</td>\n",
       "      <td>3</td>\n",
       "      <td>2/3</td>\n",
       "      <td>2/3</td>\n",
       "      <td>49.0</td>\n",
       "      <td>241.0</td>\n",
       "      <td>57.0</td>\n",
       "      <td>57.0</td>\n",
       "      <td>NA</td>\n",
       "      <td>1.0</td>\n",
       "      <td>0.0</td>\n",
       "      <td>2.0</td>\n",
       "      <td>44.8</td>\n",
       "    </tr>\n",
       "    <tr>\n",
       "      <th>17</th>\n",
       "      <td>20</td>\n",
       "      <td>Complement</td>\n",
       "      <td>3</td>\n",
       "      <td>2/3</td>\n",
       "      <td>2/3</td>\n",
       "      <td>52.0</td>\n",
       "      <td>244.0</td>\n",
       "      <td>54.0</td>\n",
       "      <td>54.0</td>\n",
       "      <td>NA</td>\n",
       "      <td>1.0</td>\n",
       "      <td>0.0</td>\n",
       "      <td>2.0</td>\n",
       "      <td>45.3</td>\n",
       "    </tr>\n",
       "    <tr>\n",
       "      <th>18</th>\n",
       "      <td>21</td>\n",
       "      <td>Complement</td>\n",
       "      <td>3</td>\n",
       "      <td>2/3</td>\n",
       "      <td>2/3</td>\n",
       "      <td>55.0</td>\n",
       "      <td>247.0</td>\n",
       "      <td>51.0</td>\n",
       "      <td>51.0</td>\n",
       "      <td>NA</td>\n",
       "      <td>1.0</td>\n",
       "      <td>0.0</td>\n",
       "      <td>2.0</td>\n",
       "      <td>45.3</td>\n",
       "    </tr>\n",
       "    <tr>\n",
       "      <th>19</th>\n",
       "      <td>22</td>\n",
       "      <td>Complement</td>\n",
       "      <td>3</td>\n",
       "      <td>2/3</td>\n",
       "      <td>2/3</td>\n",
       "      <td>58.0</td>\n",
       "      <td>250.0</td>\n",
       "      <td>48.0</td>\n",
       "      <td>48.0</td>\n",
       "      <td>NA</td>\n",
       "      <td>1.0</td>\n",
       "      <td>0.0</td>\n",
       "      <td>2.0</td>\n",
       "      <td>45.8</td>\n",
       "    </tr>\n",
       "    <tr>\n",
       "      <th>20</th>\n",
       "      <td>23</td>\n",
       "      <td>Complement</td>\n",
       "      <td>3</td>\n",
       "      <td>2/3</td>\n",
       "      <td>2/3</td>\n",
       "      <td>61.0</td>\n",
       "      <td>253.0</td>\n",
       "      <td>45.0</td>\n",
       "      <td>45.0</td>\n",
       "      <td>NA</td>\n",
       "      <td>1.0</td>\n",
       "      <td>0.0</td>\n",
       "      <td>2.0</td>\n",
       "      <td>45.8</td>\n",
       "    </tr>\n",
       "    <tr>\n",
       "      <th>21</th>\n",
       "      <td>24</td>\n",
       "      <td>Complement</td>\n",
       "      <td>3</td>\n",
       "      <td>2/3</td>\n",
       "      <td>2/3</td>\n",
       "      <td>64.0</td>\n",
       "      <td>256.0</td>\n",
       "      <td>42.0</td>\n",
       "      <td>42.0</td>\n",
       "      <td>NA</td>\n",
       "      <td>1.0</td>\n",
       "      <td>0.0</td>\n",
       "      <td>2.0</td>\n",
       "      <td>45.8</td>\n",
       "    </tr>\n",
       "    <tr>\n",
       "      <th>22</th>\n",
       "      <td>25</td>\n",
       "      <td>Complement</td>\n",
       "      <td>3</td>\n",
       "      <td>2/3</td>\n",
       "      <td>2/3</td>\n",
       "      <td>67.0</td>\n",
       "      <td>259.0</td>\n",
       "      <td>39.0</td>\n",
       "      <td>39.0</td>\n",
       "      <td>NA</td>\n",
       "      <td>1.0</td>\n",
       "      <td>0.0</td>\n",
       "      <td>2.0</td>\n",
       "      <td>46.4</td>\n",
       "    </tr>\n",
       "  </tbody>\n",
       "</table>\n",
       "</div>"
      ],
      "text/plain": [
       "    SeqNumber     TypeSeq  Exon ExonFraction ExonProteinFrac  StartSeq  \\\n",
       "0           1     Reverse     2          3/3             3/3      59.0   \n",
       "0           1  Complement     2          3/3             3/3      29.0   \n",
       "1           2  Complement     2          3/3             3/3      32.0   \n",
       "0           3  Complement     3          2/3             2/3       1.0   \n",
       "1           4  Complement     3          2/3             2/3       4.0   \n",
       "2           5  Complement     3          2/3             2/3       7.0   \n",
       "3           6  Complement     3          2/3             2/3      10.0   \n",
       "4           7  Complement     3          2/3             2/3      13.0   \n",
       "5           8  Complement     3          2/3             2/3      16.0   \n",
       "6           9  Complement     3          2/3             2/3      19.0   \n",
       "7          10  Complement     3          2/3             2/3      22.0   \n",
       "8          11  Complement     3          2/3             2/3      25.0   \n",
       "9          12  Complement     3          2/3             2/3      28.0   \n",
       "10         13  Complement     3          2/3             2/3      31.0   \n",
       "11         14  Complement     3          2/3             2/3      34.0   \n",
       "12         15  Complement     3          2/3             2/3      37.0   \n",
       "13         16  Complement     3          2/3             2/3      40.0   \n",
       "14         17  Complement     3          2/3             2/3      43.0   \n",
       "15         18  Complement     3          2/3             2/3      46.0   \n",
       "16         19  Complement     3          2/3             2/3      49.0   \n",
       "17         20  Complement     3          2/3             2/3      52.0   \n",
       "18         21  Complement     3          2/3             2/3      55.0   \n",
       "19         22  Complement     3          2/3             2/3      58.0   \n",
       "20         23  Complement     3          2/3             2/3      61.0   \n",
       "21         24  Complement     3          2/3             2/3      64.0   \n",
       "22         25  Complement     3          2/3             2/3      67.0   \n",
       "\n",
       "    StopSeq  firstTGG  centralTGG second_cTGG  numTGG  numATG  numStop  \\\n",
       "0     251.0      57.0       132.0        57.0     3.0     0.0      2.0   \n",
       "0     221.0     153.0       153.0          NA     1.0     0.0      1.0   \n",
       "1     224.0     150.0       150.0          NA     1.0     0.0      1.0   \n",
       "0     193.0     105.0       105.0          NA     1.0     0.0      2.0   \n",
       "1     196.0     102.0       102.0          NA     1.0     0.0      2.0   \n",
       "2     199.0      99.0        99.0          NA     1.0     0.0      3.0   \n",
       "3     202.0      96.0        96.0          NA     1.0     0.0      3.0   \n",
       "4     205.0      93.0        93.0          NA     1.0     0.0      3.0   \n",
       "5     208.0      90.0        90.0          NA     1.0     0.0      3.0   \n",
       "6     211.0      87.0        87.0          NA     1.0     0.0      3.0   \n",
       "7     214.0      84.0        84.0          NA     1.0     0.0      3.0   \n",
       "8     217.0      81.0        81.0          NA     1.0     0.0      3.0   \n",
       "9     220.0      78.0        78.0          NA     1.0     0.0      3.0   \n",
       "10    223.0      75.0        75.0          NA     1.0     0.0      3.0   \n",
       "11    226.0      72.0        72.0          NA     1.0     0.0      3.0   \n",
       "12    229.0      69.0        69.0          NA     1.0     0.0      3.0   \n",
       "13    232.0      66.0        66.0          NA     1.0     0.0      3.0   \n",
       "14    235.0      63.0        63.0          NA     1.0     0.0      3.0   \n",
       "15    238.0      60.0        60.0          NA     1.0     0.0      3.0   \n",
       "16    241.0      57.0        57.0          NA     1.0     0.0      2.0   \n",
       "17    244.0      54.0        54.0          NA     1.0     0.0      2.0   \n",
       "18    247.0      51.0        51.0          NA     1.0     0.0      2.0   \n",
       "19    250.0      48.0        48.0          NA     1.0     0.0      2.0   \n",
       "20    253.0      45.0        45.0          NA     1.0     0.0      2.0   \n",
       "21    256.0      42.0        42.0          NA     1.0     0.0      2.0   \n",
       "22    259.0      39.0        39.0          NA     1.0     0.0      2.0   \n",
       "\n",
       "    gcContent  \n",
       "0        59.4  \n",
       "0        56.2  \n",
       "1        56.8  \n",
       "0        44.8  \n",
       "1        43.8  \n",
       "2        42.7  \n",
       "3        42.7  \n",
       "4        43.2  \n",
       "5        42.7  \n",
       "6        43.2  \n",
       "7        43.2  \n",
       "8        43.2  \n",
       "9        43.2  \n",
       "10       43.8  \n",
       "11       43.8  \n",
       "12       43.2  \n",
       "13       44.3  \n",
       "14       44.8  \n",
       "15       44.3  \n",
       "16       44.8  \n",
       "17       45.3  \n",
       "18       45.3  \n",
       "19       45.8  \n",
       "20       45.8  \n",
       "21       45.8  \n",
       "22       46.4  "
      ]
     },
     "execution_count": 18,
     "metadata": {},
     "output_type": "execute_result"
    }
   ],
   "source": [
    "all_sequenceMetrics"
   ]
  },
  {
   "cell_type": "code",
   "execution_count": 19,
   "id": "8a42a3d9-cc67-4c78-b97f-1bb91f5e93ea",
   "metadata": {
    "execution": {
     "iopub.execute_input": "2021-06-01T19:35:29.544864Z",
     "iopub.status.busy": "2021-06-01T19:35:29.544647Z",
     "iopub.status.idle": "2021-06-01T19:35:29.569632Z",
     "shell.execute_reply": "2021-06-01T19:35:29.569044Z",
     "shell.execute_reply.started": "2021-06-01T19:35:29.544832Z"
    },
    "tags": []
   },
   "outputs": [
    {
     "data": {
      "text/plain": [
       "(1, 0, 1, array([153]), array([], dtype=float64), array([66]))"
      ]
     },
     "execution_count": 19,
     "metadata": {},
     "output_type": "execute_result"
    }
   ],
   "source": [
    "return_inFrame(all_sesRNAs[1], 'all')"
   ]
  },
  {
   "cell_type": "code",
   "execution_count": null,
   "id": "526c9d68-0f71-4e68-8084-e7aac149acc9",
   "metadata": {},
   "outputs": [],
   "source": []
  },
  {
   "cell_type": "code",
   "execution_count": null,
   "id": "97ed7e35-250d-427d-bad6-3c1c8bd959c0",
   "metadata": {},
   "outputs": [],
   "source": []
  },
  {
   "cell_type": "code",
   "execution_count": null,
   "id": "0ac597b3-d901-41db-855c-c8361fe36284",
   "metadata": {},
   "outputs": [],
   "source": []
  },
  {
   "cell_type": "code",
   "execution_count": 20,
   "id": "3a3f0732-93a9-4a6f-b028-790e248e81cf",
   "metadata": {
    "execution": {
     "iopub.execute_input": "2021-06-01T19:35:29.570586Z",
     "iopub.status.busy": "2021-06-01T19:35:29.570359Z",
     "iopub.status.idle": "2021-06-01T19:35:29.602801Z",
     "shell.execute_reply": "2021-06-01T19:35:29.601886Z",
     "shell.execute_reply.started": "2021-06-01T19:35:29.570568Z"
    }
   },
   "outputs": [],
   "source": [
    "# Generating pd.Dataframe\n",
    "df = pd.DataFrame(all_sequenceMetrics)\n",
    "# Converting DataFrame to json and dumping it to std.out\n",
    "df_json = df.reset_index().to_json(orient=\"values\")\n"
   ]
  },
  {
   "cell_type": "code",
   "execution_count": 21,
   "id": "2df9eeb2-d212-460c-9fd8-c3aeeed9f398",
   "metadata": {
    "execution": {
     "iopub.execute_input": "2021-06-01T19:35:29.604146Z",
     "iopub.status.busy": "2021-06-01T19:35:29.603897Z",
     "iopub.status.idle": "2021-06-01T19:35:29.633148Z",
     "shell.execute_reply": "2021-06-01T19:35:29.632486Z",
     "shell.execute_reply.started": "2021-06-01T19:35:29.604121Z"
    }
   },
   "outputs": [
    {
     "data": {
      "text/plain": [
       "'[[0,1,\"Reverse\",2,\"3\\\\/3\",\"3\\\\/3\",59.0,251.0,57.0,132.0,57.0,3.0,0.0,2.0,59.4],[0,1,\"Complement\",2,\"3\\\\/3\",\"3\\\\/3\",29.0,221.0,153.0,153.0,\"NA\",1.0,0.0,1.0,56.2],[1,2,\"Complement\",2,\"3\\\\/3\",\"3\\\\/3\",32.0,224.0,150.0,150.0,\"NA\",1.0,0.0,1.0,56.8],[0,3,\"Complement\",3,\"2\\\\/3\",\"2\\\\/3\",1.0,193.0,105.0,105.0,\"NA\",1.0,0.0,2.0,44.8],[1,4,\"Complement\",3,\"2\\\\/3\",\"2\\\\/3\",4.0,196.0,102.0,102.0,\"NA\",1.0,0.0,2.0,43.8],[2,5,\"Complement\",3,\"2\\\\/3\",\"2\\\\/3\",7.0,199.0,99.0,99.0,\"NA\",1.0,0.0,3.0,42.7],[3,6,\"Complement\",3,\"2\\\\/3\",\"2\\\\/3\",10.0,202.0,96.0,96.0,\"NA\",1.0,0.0,3.0,42.7],[4,7,\"Complement\",3,\"2\\\\/3\",\"2\\\\/3\",13.0,205.0,93.0,93.0,\"NA\",1.0,0.0,3.0,43.2],[5,8,\"Complement\",3,\"2\\\\/3\",\"2\\\\/3\",16.0,208.0,90.0,90.0,\"NA\",1.0,0.0,3.0,42.7],[6,9,\"Complement\",3,\"2\\\\/3\",\"2\\\\/3\",19.0,211.0,87.0,87.0,\"NA\",1.0,0.0,3.0,43.2],[7,10,\"Complement\",3,\"2\\\\/3\",\"2\\\\/3\",22.0,214.0,84.0,84.0,\"NA\",1.0,0.0,3.0,43.2],[8,11,\"Complement\",3,\"2\\\\/3\",\"2\\\\/3\",25.0,217.0,81.0,81.0,\"NA\",1.0,0.0,3.0,43.2],[9,12,\"Complement\",3,\"2\\\\/3\",\"2\\\\/3\",28.0,220.0,78.0,78.0,\"NA\",1.0,0.0,3.0,43.2],[10,13,\"Complement\",3,\"2\\\\/3\",\"2\\\\/3\",31.0,223.0,75.0,75.0,\"NA\",1.0,0.0,3.0,43.8],[11,14,\"Complement\",3,\"2\\\\/3\",\"2\\\\/3\",34.0,226.0,72.0,72.0,\"NA\",1.0,0.0,3.0,43.8],[12,15,\"Complement\",3,\"2\\\\/3\",\"2\\\\/3\",37.0,229.0,69.0,69.0,\"NA\",1.0,0.0,3.0,43.2],[13,16,\"Complement\",3,\"2\\\\/3\",\"2\\\\/3\",40.0,232.0,66.0,66.0,\"NA\",1.0,0.0,3.0,44.3],[14,17,\"Complement\",3,\"2\\\\/3\",\"2\\\\/3\",43.0,235.0,63.0,63.0,\"NA\",1.0,0.0,3.0,44.8],[15,18,\"Complement\",3,\"2\\\\/3\",\"2\\\\/3\",46.0,238.0,60.0,60.0,\"NA\",1.0,0.0,3.0,44.3],[16,19,\"Complement\",3,\"2\\\\/3\",\"2\\\\/3\",49.0,241.0,57.0,57.0,\"NA\",1.0,0.0,2.0,44.8],[17,20,\"Complement\",3,\"2\\\\/3\",\"2\\\\/3\",52.0,244.0,54.0,54.0,\"NA\",1.0,0.0,2.0,45.3],[18,21,\"Complement\",3,\"2\\\\/3\",\"2\\\\/3\",55.0,247.0,51.0,51.0,\"NA\",1.0,0.0,2.0,45.3],[19,22,\"Complement\",3,\"2\\\\/3\",\"2\\\\/3\",58.0,250.0,48.0,48.0,\"NA\",1.0,0.0,2.0,45.8],[20,23,\"Complement\",3,\"2\\\\/3\",\"2\\\\/3\",61.0,253.0,45.0,45.0,\"NA\",1.0,0.0,2.0,45.8],[21,24,\"Complement\",3,\"2\\\\/3\",\"2\\\\/3\",64.0,256.0,42.0,42.0,\"NA\",1.0,0.0,2.0,45.8],[22,25,\"Complement\",3,\"2\\\\/3\",\"2\\\\/3\",67.0,259.0,39.0,39.0,\"NA\",1.0,0.0,2.0,46.4]]'"
      ]
     },
     "execution_count": 21,
     "metadata": {},
     "output_type": "execute_result"
    }
   ],
   "source": [
    "df_json"
   ]
  },
  {
   "cell_type": "code",
   "execution_count": null,
   "id": "d9783f4a-5c59-4e2b-9570-3bae42a1338c",
   "metadata": {},
   "outputs": [],
   "source": []
  },
  {
   "cell_type": "code",
   "execution_count": null,
   "id": "2838f9dc-0b2d-4410-818d-f47cb91a9d7a",
   "metadata": {},
   "outputs": [],
   "source": []
  },
  {
   "cell_type": "code",
   "execution_count": null,
   "id": "a109dc66-f53d-4ca1-a9ef-f224756fb7b8",
   "metadata": {},
   "outputs": [],
   "source": []
  },
  {
   "cell_type": "code",
   "execution_count": 22,
   "id": "permanent-poison",
   "metadata": {
    "execution": {
     "iopub.execute_input": "2021-06-01T19:35:29.634576Z",
     "iopub.status.busy": "2021-06-01T19:35:29.634229Z",
     "iopub.status.idle": "2021-06-01T19:35:29.663238Z",
     "shell.execute_reply": "2021-06-01T19:35:29.661797Z",
     "shell.execute_reply.started": "2021-06-01T19:35:29.634541Z"
    },
    "scrolled": true,
    "tags": []
   },
   "outputs": [
    {
     "name": "stdout",
     "output_type": "stream",
     "text": [
      "201\n",
      "204\n",
      "207\n",
      "210\n",
      "213\n",
      "216\n",
      "219\n",
      "222\n",
      "225\n",
      "228\n",
      "231\n",
      "234\n",
      "237\n",
      "240\n",
      "243\n",
      "246\n",
      "249\n",
      "252\n",
      "255\n",
      "258\n",
      "261\n",
      "264\n",
      "267\n",
      "270\n",
      "273\n",
      "276\n",
      "279\n",
      "282\n",
      "285\n",
      "288\n",
      "291\n",
      "294\n",
      "297\n"
     ]
    }
   ],
   "source": [
    "# Initial if want to check variable length sesRNAs \n",
    "for i in range(200, 300):\n",
    "    if(i%3 == 0):\n",
    "        print(i)"
   ]
  },
  {
   "cell_type": "code",
   "execution_count": null,
   "id": "naked-desktop",
   "metadata": {},
   "outputs": [],
   "source": []
  },
  {
   "cell_type": "code",
   "execution_count": null,
   "id": "c6e42aec-ad08-4f08-82b2-62fe2bb7d955",
   "metadata": {},
   "outputs": [],
   "source": []
  },
  {
   "cell_type": "code",
   "execution_count": null,
   "id": "63bf6ef3-2004-41a5-bc66-772cb36bac54",
   "metadata": {},
   "outputs": [],
   "source": []
  },
  {
   "cell_type": "code",
   "execution_count": null,
   "id": "3f691292-bc19-47f6-8079-5a9d77d796cb",
   "metadata": {},
   "outputs": [],
   "source": []
  },
  {
   "cell_type": "markdown",
   "id": "de55e562-ad5a-49b7-873e-2fd59d473e04",
   "metadata": {},
   "source": [
    "# Secondary structure "
   ]
  },
  {
   "cell_type": "markdown",
   "id": "40364920-4c4a-408f-82e2-e15f943024e7",
   "metadata": {},
   "source": [
    "## Working "
   ]
  },
  {
   "cell_type": "code",
   "execution_count": 23,
   "id": "10d1c1a4-fe89-496d-9eea-6d79cf096a13",
   "metadata": {
    "execution": {
     "iopub.execute_input": "2021-06-01T19:35:29.666962Z",
     "iopub.status.busy": "2021-06-01T19:35:29.666741Z",
     "iopub.status.idle": "2021-06-01T19:35:30.374816Z",
     "shell.execute_reply": "2021-06-01T19:35:30.374278Z",
     "shell.execute_reply.started": "2021-06-01T19:35:29.666940Z"
    },
    "tags": []
   },
   "outputs": [
    {
     "name": "stdout",
     "output_type": "stream",
     "text": [
      "3\n",
      "1\n",
      "1\n",
      "1\n",
      "1\n",
      "1\n",
      "1\n",
      "1\n",
      "1\n",
      "1\n",
      "1\n",
      "1\n",
      "1\n",
      "1\n",
      "1\n",
      "1\n",
      "1\n",
      "1\n",
      "1\n",
      "1\n",
      "1\n",
      "1\n",
      "1\n",
      "1\n",
      "1\n",
      "1\n"
     ]
    },
    {
     "data": {
      "text/html": [
       "<div>\n",
       "<style scoped>\n",
       "    .dataframe tbody tr th:only-of-type {\n",
       "        vertical-align: middle;\n",
       "    }\n",
       "\n",
       "    .dataframe tbody tr th {\n",
       "        vertical-align: top;\n",
       "    }\n",
       "\n",
       "    .dataframe thead th {\n",
       "        text-align: right;\n",
       "    }\n",
       "</style>\n",
       "<table border=\"1\" class=\"dataframe\">\n",
       "  <thead>\n",
       "    <tr style=\"text-align: right;\">\n",
       "      <th></th>\n",
       "      <th>SeqNumber</th>\n",
       "      <th>TypeSeq</th>\n",
       "      <th>Exon</th>\n",
       "      <th>ExonFraction</th>\n",
       "      <th>ExonProteinFrac</th>\n",
       "      <th>StartSeq</th>\n",
       "      <th>StopSeq</th>\n",
       "      <th>firstTGG</th>\n",
       "      <th>centralTGG</th>\n",
       "      <th>second_cTGG</th>\n",
       "      <th>numTGG</th>\n",
       "      <th>numATG</th>\n",
       "      <th>numStop</th>\n",
       "      <th>gcContent</th>\n",
       "      <th>mfe</th>\n",
       "    </tr>\n",
       "  </thead>\n",
       "  <tbody>\n",
       "    <tr>\n",
       "      <th>0</th>\n",
       "      <td>1</td>\n",
       "      <td>Reverse</td>\n",
       "      <td>2</td>\n",
       "      <td>3/3</td>\n",
       "      <td>3/3</td>\n",
       "      <td>59.0</td>\n",
       "      <td>251.0</td>\n",
       "      <td>57.0</td>\n",
       "      <td>132.0</td>\n",
       "      <td>57.0</td>\n",
       "      <td>3.0</td>\n",
       "      <td>0.0</td>\n",
       "      <td>2.0</td>\n",
       "      <td>59.4</td>\n",
       "      <td>-68.5</td>\n",
       "    </tr>\n",
       "    <tr>\n",
       "      <th>0</th>\n",
       "      <td>1</td>\n",
       "      <td>Complement</td>\n",
       "      <td>2</td>\n",
       "      <td>3/3</td>\n",
       "      <td>3/3</td>\n",
       "      <td>29.0</td>\n",
       "      <td>221.0</td>\n",
       "      <td>153.0</td>\n",
       "      <td>153.0</td>\n",
       "      <td>NA</td>\n",
       "      <td>1.0</td>\n",
       "      <td>0.0</td>\n",
       "      <td>1.0</td>\n",
       "      <td>56.2</td>\n",
       "      <td>-59.4</td>\n",
       "    </tr>\n",
       "    <tr>\n",
       "      <th>1</th>\n",
       "      <td>2</td>\n",
       "      <td>Complement</td>\n",
       "      <td>2</td>\n",
       "      <td>3/3</td>\n",
       "      <td>3/3</td>\n",
       "      <td>32.0</td>\n",
       "      <td>224.0</td>\n",
       "      <td>150.0</td>\n",
       "      <td>150.0</td>\n",
       "      <td>NA</td>\n",
       "      <td>1.0</td>\n",
       "      <td>0.0</td>\n",
       "      <td>1.0</td>\n",
       "      <td>56.8</td>\n",
       "      <td>-59.4</td>\n",
       "    </tr>\n",
       "    <tr>\n",
       "      <th>0</th>\n",
       "      <td>3</td>\n",
       "      <td>Complement</td>\n",
       "      <td>3</td>\n",
       "      <td>2/3</td>\n",
       "      <td>2/3</td>\n",
       "      <td>1.0</td>\n",
       "      <td>193.0</td>\n",
       "      <td>105.0</td>\n",
       "      <td>105.0</td>\n",
       "      <td>NA</td>\n",
       "      <td>1.0</td>\n",
       "      <td>0.0</td>\n",
       "      <td>2.0</td>\n",
       "      <td>44.8</td>\n",
       "      <td>-38.7</td>\n",
       "    </tr>\n",
       "    <tr>\n",
       "      <th>1</th>\n",
       "      <td>4</td>\n",
       "      <td>Complement</td>\n",
       "      <td>3</td>\n",
       "      <td>2/3</td>\n",
       "      <td>2/3</td>\n",
       "      <td>4.0</td>\n",
       "      <td>196.0</td>\n",
       "      <td>102.0</td>\n",
       "      <td>102.0</td>\n",
       "      <td>NA</td>\n",
       "      <td>1.0</td>\n",
       "      <td>0.0</td>\n",
       "      <td>2.0</td>\n",
       "      <td>43.8</td>\n",
       "      <td>-38.7</td>\n",
       "    </tr>\n",
       "    <tr>\n",
       "      <th>2</th>\n",
       "      <td>5</td>\n",
       "      <td>Complement</td>\n",
       "      <td>3</td>\n",
       "      <td>2/3</td>\n",
       "      <td>2/3</td>\n",
       "      <td>7.0</td>\n",
       "      <td>199.0</td>\n",
       "      <td>99.0</td>\n",
       "      <td>99.0</td>\n",
       "      <td>NA</td>\n",
       "      <td>1.0</td>\n",
       "      <td>0.0</td>\n",
       "      <td>3.0</td>\n",
       "      <td>42.7</td>\n",
       "      <td>-37.9</td>\n",
       "    </tr>\n",
       "    <tr>\n",
       "      <th>3</th>\n",
       "      <td>6</td>\n",
       "      <td>Complement</td>\n",
       "      <td>3</td>\n",
       "      <td>2/3</td>\n",
       "      <td>2/3</td>\n",
       "      <td>10.0</td>\n",
       "      <td>202.0</td>\n",
       "      <td>96.0</td>\n",
       "      <td>96.0</td>\n",
       "      <td>NA</td>\n",
       "      <td>1.0</td>\n",
       "      <td>0.0</td>\n",
       "      <td>3.0</td>\n",
       "      <td>42.7</td>\n",
       "      <td>-37.4</td>\n",
       "    </tr>\n",
       "    <tr>\n",
       "      <th>4</th>\n",
       "      <td>7</td>\n",
       "      <td>Complement</td>\n",
       "      <td>3</td>\n",
       "      <td>2/3</td>\n",
       "      <td>2/3</td>\n",
       "      <td>13.0</td>\n",
       "      <td>205.0</td>\n",
       "      <td>93.0</td>\n",
       "      <td>93.0</td>\n",
       "      <td>NA</td>\n",
       "      <td>1.0</td>\n",
       "      <td>0.0</td>\n",
       "      <td>3.0</td>\n",
       "      <td>43.2</td>\n",
       "      <td>-37.4</td>\n",
       "    </tr>\n",
       "    <tr>\n",
       "      <th>5</th>\n",
       "      <td>8</td>\n",
       "      <td>Complement</td>\n",
       "      <td>3</td>\n",
       "      <td>2/3</td>\n",
       "      <td>2/3</td>\n",
       "      <td>16.0</td>\n",
       "      <td>208.0</td>\n",
       "      <td>90.0</td>\n",
       "      <td>90.0</td>\n",
       "      <td>NA</td>\n",
       "      <td>1.0</td>\n",
       "      <td>0.0</td>\n",
       "      <td>3.0</td>\n",
       "      <td>42.7</td>\n",
       "      <td>-36.8</td>\n",
       "    </tr>\n",
       "    <tr>\n",
       "      <th>6</th>\n",
       "      <td>9</td>\n",
       "      <td>Complement</td>\n",
       "      <td>3</td>\n",
       "      <td>2/3</td>\n",
       "      <td>2/3</td>\n",
       "      <td>19.0</td>\n",
       "      <td>211.0</td>\n",
       "      <td>87.0</td>\n",
       "      <td>87.0</td>\n",
       "      <td>NA</td>\n",
       "      <td>1.0</td>\n",
       "      <td>0.0</td>\n",
       "      <td>3.0</td>\n",
       "      <td>43.2</td>\n",
       "      <td>-38.0</td>\n",
       "    </tr>\n",
       "    <tr>\n",
       "      <th>7</th>\n",
       "      <td>10</td>\n",
       "      <td>Complement</td>\n",
       "      <td>3</td>\n",
       "      <td>2/3</td>\n",
       "      <td>2/3</td>\n",
       "      <td>22.0</td>\n",
       "      <td>214.0</td>\n",
       "      <td>84.0</td>\n",
       "      <td>84.0</td>\n",
       "      <td>NA</td>\n",
       "      <td>1.0</td>\n",
       "      <td>0.0</td>\n",
       "      <td>3.0</td>\n",
       "      <td>43.2</td>\n",
       "      <td>-37.9</td>\n",
       "    </tr>\n",
       "    <tr>\n",
       "      <th>8</th>\n",
       "      <td>11</td>\n",
       "      <td>Complement</td>\n",
       "      <td>3</td>\n",
       "      <td>2/3</td>\n",
       "      <td>2/3</td>\n",
       "      <td>25.0</td>\n",
       "      <td>217.0</td>\n",
       "      <td>81.0</td>\n",
       "      <td>81.0</td>\n",
       "      <td>NA</td>\n",
       "      <td>1.0</td>\n",
       "      <td>0.0</td>\n",
       "      <td>3.0</td>\n",
       "      <td>43.2</td>\n",
       "      <td>-41.0</td>\n",
       "    </tr>\n",
       "    <tr>\n",
       "      <th>9</th>\n",
       "      <td>12</td>\n",
       "      <td>Complement</td>\n",
       "      <td>3</td>\n",
       "      <td>2/3</td>\n",
       "      <td>2/3</td>\n",
       "      <td>28.0</td>\n",
       "      <td>220.0</td>\n",
       "      <td>78.0</td>\n",
       "      <td>78.0</td>\n",
       "      <td>NA</td>\n",
       "      <td>1.0</td>\n",
       "      <td>0.0</td>\n",
       "      <td>3.0</td>\n",
       "      <td>43.2</td>\n",
       "      <td>-39.1</td>\n",
       "    </tr>\n",
       "    <tr>\n",
       "      <th>10</th>\n",
       "      <td>13</td>\n",
       "      <td>Complement</td>\n",
       "      <td>3</td>\n",
       "      <td>2/3</td>\n",
       "      <td>2/3</td>\n",
       "      <td>31.0</td>\n",
       "      <td>223.0</td>\n",
       "      <td>75.0</td>\n",
       "      <td>75.0</td>\n",
       "      <td>NA</td>\n",
       "      <td>1.0</td>\n",
       "      <td>0.0</td>\n",
       "      <td>3.0</td>\n",
       "      <td>43.8</td>\n",
       "      <td>-37.8</td>\n",
       "    </tr>\n",
       "    <tr>\n",
       "      <th>11</th>\n",
       "      <td>14</td>\n",
       "      <td>Complement</td>\n",
       "      <td>3</td>\n",
       "      <td>2/3</td>\n",
       "      <td>2/3</td>\n",
       "      <td>34.0</td>\n",
       "      <td>226.0</td>\n",
       "      <td>72.0</td>\n",
       "      <td>72.0</td>\n",
       "      <td>NA</td>\n",
       "      <td>1.0</td>\n",
       "      <td>0.0</td>\n",
       "      <td>3.0</td>\n",
       "      <td>43.8</td>\n",
       "      <td>-39.9</td>\n",
       "    </tr>\n",
       "    <tr>\n",
       "      <th>12</th>\n",
       "      <td>15</td>\n",
       "      <td>Complement</td>\n",
       "      <td>3</td>\n",
       "      <td>2/3</td>\n",
       "      <td>2/3</td>\n",
       "      <td>37.0</td>\n",
       "      <td>229.0</td>\n",
       "      <td>69.0</td>\n",
       "      <td>69.0</td>\n",
       "      <td>NA</td>\n",
       "      <td>1.0</td>\n",
       "      <td>0.0</td>\n",
       "      <td>3.0</td>\n",
       "      <td>43.2</td>\n",
       "      <td>-39.1</td>\n",
       "    </tr>\n",
       "    <tr>\n",
       "      <th>13</th>\n",
       "      <td>16</td>\n",
       "      <td>Complement</td>\n",
       "      <td>3</td>\n",
       "      <td>2/3</td>\n",
       "      <td>2/3</td>\n",
       "      <td>40.0</td>\n",
       "      <td>232.0</td>\n",
       "      <td>66.0</td>\n",
       "      <td>66.0</td>\n",
       "      <td>NA</td>\n",
       "      <td>1.0</td>\n",
       "      <td>0.0</td>\n",
       "      <td>3.0</td>\n",
       "      <td>44.3</td>\n",
       "      <td>-40.5</td>\n",
       "    </tr>\n",
       "    <tr>\n",
       "      <th>14</th>\n",
       "      <td>17</td>\n",
       "      <td>Complement</td>\n",
       "      <td>3</td>\n",
       "      <td>2/3</td>\n",
       "      <td>2/3</td>\n",
       "      <td>43.0</td>\n",
       "      <td>235.0</td>\n",
       "      <td>63.0</td>\n",
       "      <td>63.0</td>\n",
       "      <td>NA</td>\n",
       "      <td>1.0</td>\n",
       "      <td>0.0</td>\n",
       "      <td>3.0</td>\n",
       "      <td>44.8</td>\n",
       "      <td>-43.0</td>\n",
       "    </tr>\n",
       "    <tr>\n",
       "      <th>15</th>\n",
       "      <td>18</td>\n",
       "      <td>Complement</td>\n",
       "      <td>3</td>\n",
       "      <td>2/3</td>\n",
       "      <td>2/3</td>\n",
       "      <td>46.0</td>\n",
       "      <td>238.0</td>\n",
       "      <td>60.0</td>\n",
       "      <td>60.0</td>\n",
       "      <td>NA</td>\n",
       "      <td>1.0</td>\n",
       "      <td>0.0</td>\n",
       "      <td>3.0</td>\n",
       "      <td>44.3</td>\n",
       "      <td>-42.1</td>\n",
       "    </tr>\n",
       "    <tr>\n",
       "      <th>16</th>\n",
       "      <td>19</td>\n",
       "      <td>Complement</td>\n",
       "      <td>3</td>\n",
       "      <td>2/3</td>\n",
       "      <td>2/3</td>\n",
       "      <td>49.0</td>\n",
       "      <td>241.0</td>\n",
       "      <td>57.0</td>\n",
       "      <td>57.0</td>\n",
       "      <td>NA</td>\n",
       "      <td>1.0</td>\n",
       "      <td>0.0</td>\n",
       "      <td>2.0</td>\n",
       "      <td>44.8</td>\n",
       "      <td>-42.1</td>\n",
       "    </tr>\n",
       "    <tr>\n",
       "      <th>17</th>\n",
       "      <td>20</td>\n",
       "      <td>Complement</td>\n",
       "      <td>3</td>\n",
       "      <td>2/3</td>\n",
       "      <td>2/3</td>\n",
       "      <td>52.0</td>\n",
       "      <td>244.0</td>\n",
       "      <td>54.0</td>\n",
       "      <td>54.0</td>\n",
       "      <td>NA</td>\n",
       "      <td>1.0</td>\n",
       "      <td>0.0</td>\n",
       "      <td>2.0</td>\n",
       "      <td>45.3</td>\n",
       "      <td>-42.1</td>\n",
       "    </tr>\n",
       "    <tr>\n",
       "      <th>18</th>\n",
       "      <td>21</td>\n",
       "      <td>Complement</td>\n",
       "      <td>3</td>\n",
       "      <td>2/3</td>\n",
       "      <td>2/3</td>\n",
       "      <td>55.0</td>\n",
       "      <td>247.0</td>\n",
       "      <td>51.0</td>\n",
       "      <td>51.0</td>\n",
       "      <td>NA</td>\n",
       "      <td>1.0</td>\n",
       "      <td>0.0</td>\n",
       "      <td>2.0</td>\n",
       "      <td>45.3</td>\n",
       "      <td>-41.9</td>\n",
       "    </tr>\n",
       "    <tr>\n",
       "      <th>19</th>\n",
       "      <td>22</td>\n",
       "      <td>Complement</td>\n",
       "      <td>3</td>\n",
       "      <td>2/3</td>\n",
       "      <td>2/3</td>\n",
       "      <td>58.0</td>\n",
       "      <td>250.0</td>\n",
       "      <td>48.0</td>\n",
       "      <td>48.0</td>\n",
       "      <td>NA</td>\n",
       "      <td>1.0</td>\n",
       "      <td>0.0</td>\n",
       "      <td>2.0</td>\n",
       "      <td>45.8</td>\n",
       "      <td>-44.9</td>\n",
       "    </tr>\n",
       "    <tr>\n",
       "      <th>20</th>\n",
       "      <td>23</td>\n",
       "      <td>Complement</td>\n",
       "      <td>3</td>\n",
       "      <td>2/3</td>\n",
       "      <td>2/3</td>\n",
       "      <td>61.0</td>\n",
       "      <td>253.0</td>\n",
       "      <td>45.0</td>\n",
       "      <td>45.0</td>\n",
       "      <td>NA</td>\n",
       "      <td>1.0</td>\n",
       "      <td>0.0</td>\n",
       "      <td>2.0</td>\n",
       "      <td>45.8</td>\n",
       "      <td>-44.8</td>\n",
       "    </tr>\n",
       "    <tr>\n",
       "      <th>21</th>\n",
       "      <td>24</td>\n",
       "      <td>Complement</td>\n",
       "      <td>3</td>\n",
       "      <td>2/3</td>\n",
       "      <td>2/3</td>\n",
       "      <td>64.0</td>\n",
       "      <td>256.0</td>\n",
       "      <td>42.0</td>\n",
       "      <td>42.0</td>\n",
       "      <td>NA</td>\n",
       "      <td>1.0</td>\n",
       "      <td>0.0</td>\n",
       "      <td>2.0</td>\n",
       "      <td>45.8</td>\n",
       "      <td>-43.6</td>\n",
       "    </tr>\n",
       "    <tr>\n",
       "      <th>22</th>\n",
       "      <td>25</td>\n",
       "      <td>Complement</td>\n",
       "      <td>3</td>\n",
       "      <td>2/3</td>\n",
       "      <td>2/3</td>\n",
       "      <td>67.0</td>\n",
       "      <td>259.0</td>\n",
       "      <td>39.0</td>\n",
       "      <td>39.0</td>\n",
       "      <td>NA</td>\n",
       "      <td>1.0</td>\n",
       "      <td>0.0</td>\n",
       "      <td>2.0</td>\n",
       "      <td>46.4</td>\n",
       "      <td>-43.5</td>\n",
       "    </tr>\n",
       "  </tbody>\n",
       "</table>\n",
       "</div>"
      ],
      "text/plain": [
       "    SeqNumber     TypeSeq  Exon ExonFraction ExonProteinFrac  StartSeq  \\\n",
       "0           1     Reverse     2          3/3             3/3      59.0   \n",
       "0           1  Complement     2          3/3             3/3      29.0   \n",
       "1           2  Complement     2          3/3             3/3      32.0   \n",
       "0           3  Complement     3          2/3             2/3       1.0   \n",
       "1           4  Complement     3          2/3             2/3       4.0   \n",
       "2           5  Complement     3          2/3             2/3       7.0   \n",
       "3           6  Complement     3          2/3             2/3      10.0   \n",
       "4           7  Complement     3          2/3             2/3      13.0   \n",
       "5           8  Complement     3          2/3             2/3      16.0   \n",
       "6           9  Complement     3          2/3             2/3      19.0   \n",
       "7          10  Complement     3          2/3             2/3      22.0   \n",
       "8          11  Complement     3          2/3             2/3      25.0   \n",
       "9          12  Complement     3          2/3             2/3      28.0   \n",
       "10         13  Complement     3          2/3             2/3      31.0   \n",
       "11         14  Complement     3          2/3             2/3      34.0   \n",
       "12         15  Complement     3          2/3             2/3      37.0   \n",
       "13         16  Complement     3          2/3             2/3      40.0   \n",
       "14         17  Complement     3          2/3             2/3      43.0   \n",
       "15         18  Complement     3          2/3             2/3      46.0   \n",
       "16         19  Complement     3          2/3             2/3      49.0   \n",
       "17         20  Complement     3          2/3             2/3      52.0   \n",
       "18         21  Complement     3          2/3             2/3      55.0   \n",
       "19         22  Complement     3          2/3             2/3      58.0   \n",
       "20         23  Complement     3          2/3             2/3      61.0   \n",
       "21         24  Complement     3          2/3             2/3      64.0   \n",
       "22         25  Complement     3          2/3             2/3      67.0   \n",
       "\n",
       "    StopSeq  firstTGG  centralTGG second_cTGG  numTGG  numATG  numStop  \\\n",
       "0     251.0      57.0       132.0        57.0     3.0     0.0      2.0   \n",
       "0     221.0     153.0       153.0          NA     1.0     0.0      1.0   \n",
       "1     224.0     150.0       150.0          NA     1.0     0.0      1.0   \n",
       "0     193.0     105.0       105.0          NA     1.0     0.0      2.0   \n",
       "1     196.0     102.0       102.0          NA     1.0     0.0      2.0   \n",
       "2     199.0      99.0        99.0          NA     1.0     0.0      3.0   \n",
       "3     202.0      96.0        96.0          NA     1.0     0.0      3.0   \n",
       "4     205.0      93.0        93.0          NA     1.0     0.0      3.0   \n",
       "5     208.0      90.0        90.0          NA     1.0     0.0      3.0   \n",
       "6     211.0      87.0        87.0          NA     1.0     0.0      3.0   \n",
       "7     214.0      84.0        84.0          NA     1.0     0.0      3.0   \n",
       "8     217.0      81.0        81.0          NA     1.0     0.0      3.0   \n",
       "9     220.0      78.0        78.0          NA     1.0     0.0      3.0   \n",
       "10    223.0      75.0        75.0          NA     1.0     0.0      3.0   \n",
       "11    226.0      72.0        72.0          NA     1.0     0.0      3.0   \n",
       "12    229.0      69.0        69.0          NA     1.0     0.0      3.0   \n",
       "13    232.0      66.0        66.0          NA     1.0     0.0      3.0   \n",
       "14    235.0      63.0        63.0          NA     1.0     0.0      3.0   \n",
       "15    238.0      60.0        60.0          NA     1.0     0.0      3.0   \n",
       "16    241.0      57.0        57.0          NA     1.0     0.0      2.0   \n",
       "17    244.0      54.0        54.0          NA     1.0     0.0      2.0   \n",
       "18    247.0      51.0        51.0          NA     1.0     0.0      2.0   \n",
       "19    250.0      48.0        48.0          NA     1.0     0.0      2.0   \n",
       "20    253.0      45.0        45.0          NA     1.0     0.0      2.0   \n",
       "21    256.0      42.0        42.0          NA     1.0     0.0      2.0   \n",
       "22    259.0      39.0        39.0          NA     1.0     0.0      2.0   \n",
       "\n",
       "    gcContent   mfe  \n",
       "0        59.4 -68.5  \n",
       "0        56.2 -59.4  \n",
       "1        56.8 -59.4  \n",
       "0        44.8 -38.7  \n",
       "1        43.8 -38.7  \n",
       "2        42.7 -37.9  \n",
       "3        42.7 -37.4  \n",
       "4        43.2 -37.4  \n",
       "5        42.7 -36.8  \n",
       "6        43.2 -38.0  \n",
       "7        43.2 -37.9  \n",
       "8        43.2 -41.0  \n",
       "9        43.2 -39.1  \n",
       "10       43.8 -37.8  \n",
       "11       43.8 -39.9  \n",
       "12       43.2 -39.1  \n",
       "13       44.3 -40.5  \n",
       "14       44.8 -43.0  \n",
       "15       44.3 -42.1  \n",
       "16       44.8 -42.1  \n",
       "17       45.3 -42.1  \n",
       "18       45.3 -41.9  \n",
       "19       45.8 -44.9  \n",
       "20       45.8 -44.8  \n",
       "21       45.8 -43.6  \n",
       "22       46.4 -43.5  "
      ]
     },
     "execution_count": 23,
     "metadata": {},
     "output_type": "execute_result"
    }
   ],
   "source": [
    "generate_RNApred(all_sesRNAs, all_sequenceMetrics, geneName, 1)"
   ]
  },
  {
   "cell_type": "code",
   "execution_count": 24,
   "id": "1ffdce5a-f43f-467f-bc80-f1648f30fe64",
   "metadata": {
    "execution": {
     "iopub.execute_input": "2021-06-01T19:35:30.375883Z",
     "iopub.status.busy": "2021-06-01T19:35:30.375692Z",
     "iopub.status.idle": "2021-06-01T19:35:30.382330Z",
     "shell.execute_reply": "2021-06-01T19:35:30.381214Z",
     "shell.execute_reply.started": "2021-06-01T19:35:30.375865Z"
    },
    "tags": []
   },
   "outputs": [],
   "source": [
    "def generate_mfeProb(sequenceMetrics, species, spliceVariant): \n",
    "    rnaFold_prob = []\n",
    "\n",
    "    spliceVariant = str(spliceVariant)\n",
    "    save_speciesName = species.replace(\" \", \"_\")\n",
    "    gene_BasePath = ensembl_BasePath + '/' + save_speciesName + '/' + geneName \n",
    "    CDS_fileName = gene_BasePath + '_cds_' + spliceVariant + '_' + save_speciesName + '.fasta'\n",
    "    \n",
    "    pathTemp = '/home/user1/Dropbox/Research/Neurobiology_PhD/Huang/Projects/CellReadR/Code/Output/BioPython/Temp'\n",
    "    pathOutTempFold = pathTemp + '/temp.out'\n",
    "\n",
    "    # sorting files in output of scandir \n",
    "    for entry in sorted(os.scandir(pathTemp), key=lambda e: e.name):\n",
    "        # Defining command for RNAfold \n",
    "        commandFold = 'RNAfold -p -d2 --noLP < ' + entry.path + ' > ' + pathOutTempFold    \n",
    "        # Generating RNAfold predictions \n",
    "        generateProb = subprocess.run(commandFold, shell=True, stdout=subprocess.PIPE)\n",
    "        \n",
    "        # Moving to Temp directory to work on fasta files \n",
    "        currentWD = os.getcwd()\n",
    "        os.chdir('/home/user1/Dropbox/Research/Neurobiology_PhD/Huang/Projects/CellReadR/Code/Output/BioPython/Temp')\n",
    "\n",
    "        # Running script for getting probabilities from RNAfold output file (added to ArchBin btw)\n",
    "        readProb = subprocess.Popen(\"rnaFold_prob.sh\", shell=True, stdout=subprocess.PIPE)\n",
    "        returnedProb = readProb.stdout.read()\n",
    "        # Waiting for last command to finish before storing value in temp.out file \n",
    "        readProb.wait()\n",
    "        # Append frequences ... convert to percentage \n",
    "        rnaFold_prob.append(round(float(returnedProb)*100, 3))\n",
    "        \n",
    "        # Removing temp.out after finishing each run \n",
    "        os.system('rm -rf temp.out')\n",
    "        os.system('rm -rf temp.csv')\n",
    "        # Return to initial working directory \n",
    "        os.chdir(currentWD)\n",
    "\n",
    "    # Removing files generated by RNAfold \n",
    "    os.system('rm -rf *ss.ps')\n",
    "    os.system('rm -rf *dp.ps')\n",
    "    \n",
    "    # Adding RNA fold mfe ensemble frequency to sequenceMetrics \n",
    "    sequenceMetrics['mfeFreq'] = rnaFold_prob\n",
    "    \n",
    "    return sequenceMetrics  "
   ]
  },
  {
   "cell_type": "code",
   "execution_count": 25,
   "id": "33993eff-2698-4408-97ec-19a003437ce3",
   "metadata": {
    "execution": {
     "iopub.execute_input": "2021-06-01T19:35:30.383631Z",
     "iopub.status.busy": "2021-06-01T19:35:30.383355Z",
     "iopub.status.idle": "2021-06-01T19:35:32.313023Z",
     "shell.execute_reply": "2021-06-01T19:35:32.312274Z",
     "shell.execute_reply.started": "2021-06-01T19:35:30.383601Z"
    },
    "tags": []
   },
   "outputs": [
    {
     "data": {
      "text/html": [
       "<div>\n",
       "<style scoped>\n",
       "    .dataframe tbody tr th:only-of-type {\n",
       "        vertical-align: middle;\n",
       "    }\n",
       "\n",
       "    .dataframe tbody tr th {\n",
       "        vertical-align: top;\n",
       "    }\n",
       "\n",
       "    .dataframe thead th {\n",
       "        text-align: right;\n",
       "    }\n",
       "</style>\n",
       "<table border=\"1\" class=\"dataframe\">\n",
       "  <thead>\n",
       "    <tr style=\"text-align: right;\">\n",
       "      <th></th>\n",
       "      <th>SeqNumber</th>\n",
       "      <th>TypeSeq</th>\n",
       "      <th>Exon</th>\n",
       "      <th>ExonFraction</th>\n",
       "      <th>ExonProteinFrac</th>\n",
       "      <th>StartSeq</th>\n",
       "      <th>StopSeq</th>\n",
       "      <th>firstTGG</th>\n",
       "      <th>centralTGG</th>\n",
       "      <th>second_cTGG</th>\n",
       "      <th>numTGG</th>\n",
       "      <th>numATG</th>\n",
       "      <th>numStop</th>\n",
       "      <th>gcContent</th>\n",
       "      <th>mfe</th>\n",
       "      <th>mfeFreq</th>\n",
       "    </tr>\n",
       "  </thead>\n",
       "  <tbody>\n",
       "    <tr>\n",
       "      <th>0</th>\n",
       "      <td>1</td>\n",
       "      <td>Reverse</td>\n",
       "      <td>2</td>\n",
       "      <td>3/3</td>\n",
       "      <td>3/3</td>\n",
       "      <td>59.0</td>\n",
       "      <td>251.0</td>\n",
       "      <td>57.0</td>\n",
       "      <td>132.0</td>\n",
       "      <td>57.0</td>\n",
       "      <td>3.0</td>\n",
       "      <td>0.0</td>\n",
       "      <td>2.0</td>\n",
       "      <td>59.4</td>\n",
       "      <td>-68.5</td>\n",
       "      <td>1.921</td>\n",
       "    </tr>\n",
       "    <tr>\n",
       "      <th>0</th>\n",
       "      <td>1</td>\n",
       "      <td>Complement</td>\n",
       "      <td>2</td>\n",
       "      <td>3/3</td>\n",
       "      <td>3/3</td>\n",
       "      <td>29.0</td>\n",
       "      <td>221.0</td>\n",
       "      <td>153.0</td>\n",
       "      <td>153.0</td>\n",
       "      <td>NA</td>\n",
       "      <td>1.0</td>\n",
       "      <td>0.0</td>\n",
       "      <td>1.0</td>\n",
       "      <td>56.2</td>\n",
       "      <td>-59.4</td>\n",
       "      <td>0.197</td>\n",
       "    </tr>\n",
       "    <tr>\n",
       "      <th>1</th>\n",
       "      <td>2</td>\n",
       "      <td>Complement</td>\n",
       "      <td>2</td>\n",
       "      <td>3/3</td>\n",
       "      <td>3/3</td>\n",
       "      <td>32.0</td>\n",
       "      <td>224.0</td>\n",
       "      <td>150.0</td>\n",
       "      <td>150.0</td>\n",
       "      <td>NA</td>\n",
       "      <td>1.0</td>\n",
       "      <td>0.0</td>\n",
       "      <td>1.0</td>\n",
       "      <td>56.8</td>\n",
       "      <td>-59.4</td>\n",
       "      <td>0.374</td>\n",
       "    </tr>\n",
       "    <tr>\n",
       "      <th>0</th>\n",
       "      <td>3</td>\n",
       "      <td>Complement</td>\n",
       "      <td>3</td>\n",
       "      <td>2/3</td>\n",
       "      <td>2/3</td>\n",
       "      <td>1.0</td>\n",
       "      <td>193.0</td>\n",
       "      <td>105.0</td>\n",
       "      <td>105.0</td>\n",
       "      <td>NA</td>\n",
       "      <td>1.0</td>\n",
       "      <td>0.0</td>\n",
       "      <td>2.0</td>\n",
       "      <td>44.8</td>\n",
       "      <td>-38.7</td>\n",
       "      <td>0.281</td>\n",
       "    </tr>\n",
       "    <tr>\n",
       "      <th>1</th>\n",
       "      <td>4</td>\n",
       "      <td>Complement</td>\n",
       "      <td>3</td>\n",
       "      <td>2/3</td>\n",
       "      <td>2/3</td>\n",
       "      <td>4.0</td>\n",
       "      <td>196.0</td>\n",
       "      <td>102.0</td>\n",
       "      <td>102.0</td>\n",
       "      <td>NA</td>\n",
       "      <td>1.0</td>\n",
       "      <td>0.0</td>\n",
       "      <td>2.0</td>\n",
       "      <td>43.8</td>\n",
       "      <td>-38.7</td>\n",
       "      <td>0.322</td>\n",
       "    </tr>\n",
       "    <tr>\n",
       "      <th>2</th>\n",
       "      <td>5</td>\n",
       "      <td>Complement</td>\n",
       "      <td>3</td>\n",
       "      <td>2/3</td>\n",
       "      <td>2/3</td>\n",
       "      <td>7.0</td>\n",
       "      <td>199.0</td>\n",
       "      <td>99.0</td>\n",
       "      <td>99.0</td>\n",
       "      <td>NA</td>\n",
       "      <td>1.0</td>\n",
       "      <td>0.0</td>\n",
       "      <td>3.0</td>\n",
       "      <td>42.7</td>\n",
       "      <td>-37.9</td>\n",
       "      <td>0.350</td>\n",
       "    </tr>\n",
       "    <tr>\n",
       "      <th>3</th>\n",
       "      <td>6</td>\n",
       "      <td>Complement</td>\n",
       "      <td>3</td>\n",
       "      <td>2/3</td>\n",
       "      <td>2/3</td>\n",
       "      <td>10.0</td>\n",
       "      <td>202.0</td>\n",
       "      <td>96.0</td>\n",
       "      <td>96.0</td>\n",
       "      <td>NA</td>\n",
       "      <td>1.0</td>\n",
       "      <td>0.0</td>\n",
       "      <td>3.0</td>\n",
       "      <td>42.7</td>\n",
       "      <td>-37.4</td>\n",
       "      <td>0.406</td>\n",
       "    </tr>\n",
       "    <tr>\n",
       "      <th>4</th>\n",
       "      <td>7</td>\n",
       "      <td>Complement</td>\n",
       "      <td>3</td>\n",
       "      <td>2/3</td>\n",
       "      <td>2/3</td>\n",
       "      <td>13.0</td>\n",
       "      <td>205.0</td>\n",
       "      <td>93.0</td>\n",
       "      <td>93.0</td>\n",
       "      <td>NA</td>\n",
       "      <td>1.0</td>\n",
       "      <td>0.0</td>\n",
       "      <td>3.0</td>\n",
       "      <td>43.2</td>\n",
       "      <td>-37.4</td>\n",
       "      <td>0.479</td>\n",
       "    </tr>\n",
       "    <tr>\n",
       "      <th>5</th>\n",
       "      <td>8</td>\n",
       "      <td>Complement</td>\n",
       "      <td>3</td>\n",
       "      <td>2/3</td>\n",
       "      <td>2/3</td>\n",
       "      <td>16.0</td>\n",
       "      <td>208.0</td>\n",
       "      <td>90.0</td>\n",
       "      <td>90.0</td>\n",
       "      <td>NA</td>\n",
       "      <td>1.0</td>\n",
       "      <td>0.0</td>\n",
       "      <td>3.0</td>\n",
       "      <td>42.7</td>\n",
       "      <td>-36.8</td>\n",
       "      <td>0.100</td>\n",
       "    </tr>\n",
       "    <tr>\n",
       "      <th>6</th>\n",
       "      <td>9</td>\n",
       "      <td>Complement</td>\n",
       "      <td>3</td>\n",
       "      <td>2/3</td>\n",
       "      <td>2/3</td>\n",
       "      <td>19.0</td>\n",
       "      <td>211.0</td>\n",
       "      <td>87.0</td>\n",
       "      <td>87.0</td>\n",
       "      <td>NA</td>\n",
       "      <td>1.0</td>\n",
       "      <td>0.0</td>\n",
       "      <td>3.0</td>\n",
       "      <td>43.2</td>\n",
       "      <td>-38.0</td>\n",
       "      <td>0.186</td>\n",
       "    </tr>\n",
       "    <tr>\n",
       "      <th>7</th>\n",
       "      <td>10</td>\n",
       "      <td>Complement</td>\n",
       "      <td>3</td>\n",
       "      <td>2/3</td>\n",
       "      <td>2/3</td>\n",
       "      <td>22.0</td>\n",
       "      <td>214.0</td>\n",
       "      <td>84.0</td>\n",
       "      <td>84.0</td>\n",
       "      <td>NA</td>\n",
       "      <td>1.0</td>\n",
       "      <td>0.0</td>\n",
       "      <td>3.0</td>\n",
       "      <td>43.2</td>\n",
       "      <td>-37.9</td>\n",
       "      <td>0.177</td>\n",
       "    </tr>\n",
       "    <tr>\n",
       "      <th>8</th>\n",
       "      <td>11</td>\n",
       "      <td>Complement</td>\n",
       "      <td>3</td>\n",
       "      <td>2/3</td>\n",
       "      <td>2/3</td>\n",
       "      <td>25.0</td>\n",
       "      <td>217.0</td>\n",
       "      <td>81.0</td>\n",
       "      <td>81.0</td>\n",
       "      <td>NA</td>\n",
       "      <td>1.0</td>\n",
       "      <td>0.0</td>\n",
       "      <td>3.0</td>\n",
       "      <td>43.2</td>\n",
       "      <td>-41.0</td>\n",
       "      <td>0.224</td>\n",
       "    </tr>\n",
       "    <tr>\n",
       "      <th>9</th>\n",
       "      <td>12</td>\n",
       "      <td>Complement</td>\n",
       "      <td>3</td>\n",
       "      <td>2/3</td>\n",
       "      <td>2/3</td>\n",
       "      <td>28.0</td>\n",
       "      <td>220.0</td>\n",
       "      <td>78.0</td>\n",
       "      <td>78.0</td>\n",
       "      <td>NA</td>\n",
       "      <td>1.0</td>\n",
       "      <td>0.0</td>\n",
       "      <td>3.0</td>\n",
       "      <td>43.2</td>\n",
       "      <td>-39.1</td>\n",
       "      <td>0.606</td>\n",
       "    </tr>\n",
       "    <tr>\n",
       "      <th>10</th>\n",
       "      <td>13</td>\n",
       "      <td>Complement</td>\n",
       "      <td>3</td>\n",
       "      <td>2/3</td>\n",
       "      <td>2/3</td>\n",
       "      <td>31.0</td>\n",
       "      <td>223.0</td>\n",
       "      <td>75.0</td>\n",
       "      <td>75.0</td>\n",
       "      <td>NA</td>\n",
       "      <td>1.0</td>\n",
       "      <td>0.0</td>\n",
       "      <td>3.0</td>\n",
       "      <td>43.8</td>\n",
       "      <td>-37.8</td>\n",
       "      <td>0.415</td>\n",
       "    </tr>\n",
       "    <tr>\n",
       "      <th>11</th>\n",
       "      <td>14</td>\n",
       "      <td>Complement</td>\n",
       "      <td>3</td>\n",
       "      <td>2/3</td>\n",
       "      <td>2/3</td>\n",
       "      <td>34.0</td>\n",
       "      <td>226.0</td>\n",
       "      <td>72.0</td>\n",
       "      <td>72.0</td>\n",
       "      <td>NA</td>\n",
       "      <td>1.0</td>\n",
       "      <td>0.0</td>\n",
       "      <td>3.0</td>\n",
       "      <td>43.8</td>\n",
       "      <td>-39.9</td>\n",
       "      <td>0.447</td>\n",
       "    </tr>\n",
       "    <tr>\n",
       "      <th>12</th>\n",
       "      <td>15</td>\n",
       "      <td>Complement</td>\n",
       "      <td>3</td>\n",
       "      <td>2/3</td>\n",
       "      <td>2/3</td>\n",
       "      <td>37.0</td>\n",
       "      <td>229.0</td>\n",
       "      <td>69.0</td>\n",
       "      <td>69.0</td>\n",
       "      <td>NA</td>\n",
       "      <td>1.0</td>\n",
       "      <td>0.0</td>\n",
       "      <td>3.0</td>\n",
       "      <td>43.2</td>\n",
       "      <td>-39.1</td>\n",
       "      <td>1.466</td>\n",
       "    </tr>\n",
       "    <tr>\n",
       "      <th>13</th>\n",
       "      <td>16</td>\n",
       "      <td>Complement</td>\n",
       "      <td>3</td>\n",
       "      <td>2/3</td>\n",
       "      <td>2/3</td>\n",
       "      <td>40.0</td>\n",
       "      <td>232.0</td>\n",
       "      <td>66.0</td>\n",
       "      <td>66.0</td>\n",
       "      <td>NA</td>\n",
       "      <td>1.0</td>\n",
       "      <td>0.0</td>\n",
       "      <td>3.0</td>\n",
       "      <td>44.3</td>\n",
       "      <td>-40.5</td>\n",
       "      <td>0.644</td>\n",
       "    </tr>\n",
       "    <tr>\n",
       "      <th>14</th>\n",
       "      <td>17</td>\n",
       "      <td>Complement</td>\n",
       "      <td>3</td>\n",
       "      <td>2/3</td>\n",
       "      <td>2/3</td>\n",
       "      <td>43.0</td>\n",
       "      <td>235.0</td>\n",
       "      <td>63.0</td>\n",
       "      <td>63.0</td>\n",
       "      <td>NA</td>\n",
       "      <td>1.0</td>\n",
       "      <td>0.0</td>\n",
       "      <td>3.0</td>\n",
       "      <td>44.8</td>\n",
       "      <td>-43.0</td>\n",
       "      <td>1.247</td>\n",
       "    </tr>\n",
       "    <tr>\n",
       "      <th>15</th>\n",
       "      <td>18</td>\n",
       "      <td>Complement</td>\n",
       "      <td>3</td>\n",
       "      <td>2/3</td>\n",
       "      <td>2/3</td>\n",
       "      <td>46.0</td>\n",
       "      <td>238.0</td>\n",
       "      <td>60.0</td>\n",
       "      <td>60.0</td>\n",
       "      <td>NA</td>\n",
       "      <td>1.0</td>\n",
       "      <td>0.0</td>\n",
       "      <td>3.0</td>\n",
       "      <td>44.3</td>\n",
       "      <td>-42.1</td>\n",
       "      <td>3.334</td>\n",
       "    </tr>\n",
       "    <tr>\n",
       "      <th>16</th>\n",
       "      <td>19</td>\n",
       "      <td>Complement</td>\n",
       "      <td>3</td>\n",
       "      <td>2/3</td>\n",
       "      <td>2/3</td>\n",
       "      <td>49.0</td>\n",
       "      <td>241.0</td>\n",
       "      <td>57.0</td>\n",
       "      <td>57.0</td>\n",
       "      <td>NA</td>\n",
       "      <td>1.0</td>\n",
       "      <td>0.0</td>\n",
       "      <td>2.0</td>\n",
       "      <td>44.8</td>\n",
       "      <td>-42.1</td>\n",
       "      <td>3.352</td>\n",
       "    </tr>\n",
       "    <tr>\n",
       "      <th>17</th>\n",
       "      <td>20</td>\n",
       "      <td>Complement</td>\n",
       "      <td>3</td>\n",
       "      <td>2/3</td>\n",
       "      <td>2/3</td>\n",
       "      <td>52.0</td>\n",
       "      <td>244.0</td>\n",
       "      <td>54.0</td>\n",
       "      <td>54.0</td>\n",
       "      <td>NA</td>\n",
       "      <td>1.0</td>\n",
       "      <td>0.0</td>\n",
       "      <td>2.0</td>\n",
       "      <td>45.3</td>\n",
       "      <td>-42.1</td>\n",
       "      <td>3.423</td>\n",
       "    </tr>\n",
       "    <tr>\n",
       "      <th>18</th>\n",
       "      <td>21</td>\n",
       "      <td>Complement</td>\n",
       "      <td>3</td>\n",
       "      <td>2/3</td>\n",
       "      <td>2/3</td>\n",
       "      <td>55.0</td>\n",
       "      <td>247.0</td>\n",
       "      <td>51.0</td>\n",
       "      <td>51.0</td>\n",
       "      <td>NA</td>\n",
       "      <td>1.0</td>\n",
       "      <td>0.0</td>\n",
       "      <td>2.0</td>\n",
       "      <td>45.3</td>\n",
       "      <td>-41.9</td>\n",
       "      <td>1.663</td>\n",
       "    </tr>\n",
       "    <tr>\n",
       "      <th>19</th>\n",
       "      <td>22</td>\n",
       "      <td>Complement</td>\n",
       "      <td>3</td>\n",
       "      <td>2/3</td>\n",
       "      <td>2/3</td>\n",
       "      <td>58.0</td>\n",
       "      <td>250.0</td>\n",
       "      <td>48.0</td>\n",
       "      <td>48.0</td>\n",
       "      <td>NA</td>\n",
       "      <td>1.0</td>\n",
       "      <td>0.0</td>\n",
       "      <td>2.0</td>\n",
       "      <td>45.8</td>\n",
       "      <td>-44.9</td>\n",
       "      <td>3.831</td>\n",
       "    </tr>\n",
       "    <tr>\n",
       "      <th>20</th>\n",
       "      <td>23</td>\n",
       "      <td>Complement</td>\n",
       "      <td>3</td>\n",
       "      <td>2/3</td>\n",
       "      <td>2/3</td>\n",
       "      <td>61.0</td>\n",
       "      <td>253.0</td>\n",
       "      <td>45.0</td>\n",
       "      <td>45.0</td>\n",
       "      <td>NA</td>\n",
       "      <td>1.0</td>\n",
       "      <td>0.0</td>\n",
       "      <td>2.0</td>\n",
       "      <td>45.8</td>\n",
       "      <td>-44.8</td>\n",
       "      <td>1.300</td>\n",
       "    </tr>\n",
       "    <tr>\n",
       "      <th>21</th>\n",
       "      <td>24</td>\n",
       "      <td>Complement</td>\n",
       "      <td>3</td>\n",
       "      <td>2/3</td>\n",
       "      <td>2/3</td>\n",
       "      <td>64.0</td>\n",
       "      <td>256.0</td>\n",
       "      <td>42.0</td>\n",
       "      <td>42.0</td>\n",
       "      <td>NA</td>\n",
       "      <td>1.0</td>\n",
       "      <td>0.0</td>\n",
       "      <td>2.0</td>\n",
       "      <td>45.8</td>\n",
       "      <td>-43.6</td>\n",
       "      <td>1.546</td>\n",
       "    </tr>\n",
       "    <tr>\n",
       "      <th>22</th>\n",
       "      <td>25</td>\n",
       "      <td>Complement</td>\n",
       "      <td>3</td>\n",
       "      <td>2/3</td>\n",
       "      <td>2/3</td>\n",
       "      <td>67.0</td>\n",
       "      <td>259.0</td>\n",
       "      <td>39.0</td>\n",
       "      <td>39.0</td>\n",
       "      <td>NA</td>\n",
       "      <td>1.0</td>\n",
       "      <td>0.0</td>\n",
       "      <td>2.0</td>\n",
       "      <td>46.4</td>\n",
       "      <td>-43.5</td>\n",
       "      <td>1.358</td>\n",
       "    </tr>\n",
       "  </tbody>\n",
       "</table>\n",
       "</div>"
      ],
      "text/plain": [
       "    SeqNumber     TypeSeq  Exon ExonFraction ExonProteinFrac  StartSeq  \\\n",
       "0           1     Reverse     2          3/3             3/3      59.0   \n",
       "0           1  Complement     2          3/3             3/3      29.0   \n",
       "1           2  Complement     2          3/3             3/3      32.0   \n",
       "0           3  Complement     3          2/3             2/3       1.0   \n",
       "1           4  Complement     3          2/3             2/3       4.0   \n",
       "2           5  Complement     3          2/3             2/3       7.0   \n",
       "3           6  Complement     3          2/3             2/3      10.0   \n",
       "4           7  Complement     3          2/3             2/3      13.0   \n",
       "5           8  Complement     3          2/3             2/3      16.0   \n",
       "6           9  Complement     3          2/3             2/3      19.0   \n",
       "7          10  Complement     3          2/3             2/3      22.0   \n",
       "8          11  Complement     3          2/3             2/3      25.0   \n",
       "9          12  Complement     3          2/3             2/3      28.0   \n",
       "10         13  Complement     3          2/3             2/3      31.0   \n",
       "11         14  Complement     3          2/3             2/3      34.0   \n",
       "12         15  Complement     3          2/3             2/3      37.0   \n",
       "13         16  Complement     3          2/3             2/3      40.0   \n",
       "14         17  Complement     3          2/3             2/3      43.0   \n",
       "15         18  Complement     3          2/3             2/3      46.0   \n",
       "16         19  Complement     3          2/3             2/3      49.0   \n",
       "17         20  Complement     3          2/3             2/3      52.0   \n",
       "18         21  Complement     3          2/3             2/3      55.0   \n",
       "19         22  Complement     3          2/3             2/3      58.0   \n",
       "20         23  Complement     3          2/3             2/3      61.0   \n",
       "21         24  Complement     3          2/3             2/3      64.0   \n",
       "22         25  Complement     3          2/3             2/3      67.0   \n",
       "\n",
       "    StopSeq  firstTGG  centralTGG second_cTGG  numTGG  numATG  numStop  \\\n",
       "0     251.0      57.0       132.0        57.0     3.0     0.0      2.0   \n",
       "0     221.0     153.0       153.0          NA     1.0     0.0      1.0   \n",
       "1     224.0     150.0       150.0          NA     1.0     0.0      1.0   \n",
       "0     193.0     105.0       105.0          NA     1.0     0.0      2.0   \n",
       "1     196.0     102.0       102.0          NA     1.0     0.0      2.0   \n",
       "2     199.0      99.0        99.0          NA     1.0     0.0      3.0   \n",
       "3     202.0      96.0        96.0          NA     1.0     0.0      3.0   \n",
       "4     205.0      93.0        93.0          NA     1.0     0.0      3.0   \n",
       "5     208.0      90.0        90.0          NA     1.0     0.0      3.0   \n",
       "6     211.0      87.0        87.0          NA     1.0     0.0      3.0   \n",
       "7     214.0      84.0        84.0          NA     1.0     0.0      3.0   \n",
       "8     217.0      81.0        81.0          NA     1.0     0.0      3.0   \n",
       "9     220.0      78.0        78.0          NA     1.0     0.0      3.0   \n",
       "10    223.0      75.0        75.0          NA     1.0     0.0      3.0   \n",
       "11    226.0      72.0        72.0          NA     1.0     0.0      3.0   \n",
       "12    229.0      69.0        69.0          NA     1.0     0.0      3.0   \n",
       "13    232.0      66.0        66.0          NA     1.0     0.0      3.0   \n",
       "14    235.0      63.0        63.0          NA     1.0     0.0      3.0   \n",
       "15    238.0      60.0        60.0          NA     1.0     0.0      3.0   \n",
       "16    241.0      57.0        57.0          NA     1.0     0.0      2.0   \n",
       "17    244.0      54.0        54.0          NA     1.0     0.0      2.0   \n",
       "18    247.0      51.0        51.0          NA     1.0     0.0      2.0   \n",
       "19    250.0      48.0        48.0          NA     1.0     0.0      2.0   \n",
       "20    253.0      45.0        45.0          NA     1.0     0.0      2.0   \n",
       "21    256.0      42.0        42.0          NA     1.0     0.0      2.0   \n",
       "22    259.0      39.0        39.0          NA     1.0     0.0      2.0   \n",
       "\n",
       "    gcContent   mfe  mfeFreq  \n",
       "0        59.4 -68.5    1.921  \n",
       "0        56.2 -59.4    0.197  \n",
       "1        56.8 -59.4    0.374  \n",
       "0        44.8 -38.7    0.281  \n",
       "1        43.8 -38.7    0.322  \n",
       "2        42.7 -37.9    0.350  \n",
       "3        42.7 -37.4    0.406  \n",
       "4        43.2 -37.4    0.479  \n",
       "5        42.7 -36.8    0.100  \n",
       "6        43.2 -38.0    0.186  \n",
       "7        43.2 -37.9    0.177  \n",
       "8        43.2 -41.0    0.224  \n",
       "9        43.2 -39.1    0.606  \n",
       "10       43.8 -37.8    0.415  \n",
       "11       43.8 -39.9    0.447  \n",
       "12       43.2 -39.1    1.466  \n",
       "13       44.3 -40.5    0.644  \n",
       "14       44.8 -43.0    1.247  \n",
       "15       44.3 -42.1    3.334  \n",
       "16       44.8 -42.1    3.352  \n",
       "17       45.3 -42.1    3.423  \n",
       "18       45.3 -41.9    1.663  \n",
       "19       45.8 -44.9    3.831  \n",
       "20       45.8 -44.8    1.300  \n",
       "21       45.8 -43.6    1.546  \n",
       "22       46.4 -43.5    1.358  "
      ]
     },
     "execution_count": 25,
     "metadata": {},
     "output_type": "execute_result"
    }
   ],
   "source": [
    "fold_sequenceMetrics = generate_mfeProb(all_sequenceMetrics, speciesName, spliceVariant)\n",
    "fold_sequenceMetrics "
   ]
  },
  {
   "cell_type": "code",
   "execution_count": null,
   "id": "3448af12-43fe-44d3-87bb-ed03c8467b98",
   "metadata": {},
   "outputs": [],
   "source": []
  },
  {
   "cell_type": "code",
   "execution_count": null,
   "id": "fb96d7a5-8d1d-4dcb-bf3b-21b5f3fcc34e",
   "metadata": {},
   "outputs": [],
   "source": []
  },
  {
   "cell_type": "code",
   "execution_count": null,
   "id": "bd38ef79-e62a-4431-8747-a54cb693421d",
   "metadata": {},
   "outputs": [],
   "source": []
  },
  {
   "cell_type": "code",
   "execution_count": 26,
   "id": "b75c8939-8b0a-41a7-8912-f6edbe830dac",
   "metadata": {
    "execution": {
     "iopub.execute_input": "2021-06-01T19:35:32.314821Z",
     "iopub.status.busy": "2021-06-01T19:35:32.314523Z",
     "iopub.status.idle": "2021-06-01T19:35:32.323118Z",
     "shell.execute_reply": "2021-06-01T19:35:32.322486Z",
     "shell.execute_reply.started": "2021-06-01T19:35:32.314786Z"
    },
    "tags": []
   },
   "outputs": [],
   "source": [
    "def output_RIblast(sequenceMetrics, geneName, species, spliceVariant):\n",
    "    spliceVariant = str(spliceVariant)\n",
    "    save_speciesName = species.replace(\" \", \"_\")\n",
    "    gene_BasePath = ensembl_BasePath + '/' + save_speciesName + '/' + geneName \n",
    "    CDS_fileName = gene_BasePath + '_cds_' + spliceVariant + '_' + save_speciesName + '.fasta'\n",
    "    print(CDS_fileName)\n",
    "    \n",
    "    # Path to tempRIblast folder \n",
    "    path_tempRIblast = '/home/user1/Dropbox/Research/Neurobiology_PhD/Huang/Projects/CellReadR/Code/Output/RIblast/'\n",
    "    query_Name = path_tempRIblast + geneName + '_db'\n",
    "    \n",
    "    # Generating query database \n",
    "    commandQuery = 'RIblast db -i ' + CDS_fileName + ' -o ' + query_Name\n",
    "    os.system(commandQuery)\n",
    "\n",
    "    # Path and file name for output CSV \n",
    "    outputName = path_tempRIblast + geneName + '.csv'\n",
    "    # Path to directory sesRNA files \n",
    "    path_sesRNAs = '/home/user1/Dropbox/Research/Neurobiology_PhD/Huang/Projects/CellReadR/Code/Output/BioPython/Temp'\n",
    "    \n",
    "    \n",
    "    # Generating pd.DataFrame for storing calculated values \n",
    "    columns_RIblast = [' Accessibility Energy', ' Hybridization Energy', ' Interaction Energy', ' BasePair', \n",
    "                       ' Accessibility Energy', ' Hybridization Energy', ' Interaction Energy', ' BasePair']\n",
    "    useful_RIblast =  pd.DataFrame(columns = columns_RIblast)\n",
    "    \n",
    "    # Iteratively generating calculations for sesRNA-target interaction \n",
    "    # Made sure to go through sesRNA files in order \n",
    "    for entry in sorted(os.scandir(path_sesRNAs), key=lambda e: e.name):\n",
    "        # Running RIblast calculations \n",
    "        commandSearch = 'RIblast ris -i ' + entry.path + ' -o ' + outputName + ' -d ' + query_Name\n",
    "        os.system(commandSearch)\n",
    "        print(entry.path)\n",
    "        \n",
    "        # Remove first two lines from CVS to allow for parsing into pandas.Dataframe \n",
    "        commandRemoveLines = 'sed -i 1,2d ' + outputName \n",
    "        os.system(commandRemoveLines)\n",
    "\n",
    "        outputCSV =  pd.read_csv(outputName, skiprows=[1])\n",
    "        # Sorting by hybirzation energy ... have to have extra white space before column name \n",
    "        sorted_outputCSV = outputCSV.sort_values(' Hybridization Energy')\n",
    "\n",
    "        topHybridizationE = sorted_outputCSV[[' Accessibility Energy', ' Hybridization Energy', ' Interaction Energy', ' BasePair']].iloc[0:1]\n",
    "        secondHybridizationE = sorted_outputCSV[[' Accessibility Energy', ' Hybridization Energy', ' Interaction Energy', ' BasePair']].iloc[1:2]\n",
    "        temp_RIblast_ouput = pd.concat([topHybridizationE.reset_index(drop=True), secondHybridizationE.reset_index(drop=True)], axis = 1)\n",
    "\n",
    "        # Appending calculations for current sesRNA values \n",
    "        useful_RIblast = useful_RIblast.append(temp_RIblast_ouput)\n",
    "        \n",
    "        # Clearing csv \n",
    "        command_clearCSV = 'rm -rf ' + outputName\n",
    "        os.system(command_clearCSV)\n",
    "        # Clear BioPython temp fasta file for sesRNA \n",
    "        os.system('rm -rf ' + entry.path)\n",
    "    \n",
    "    # Clear RIblast Temp directory \n",
    "    os.system(\"rm -rf \" + path_tempRIblast + \"*\")\n",
    "    \n",
    "    return useful_RIblast"
   ]
  },
  {
   "cell_type": "code",
   "execution_count": 27,
   "id": "a97ad4dd-3db3-4c70-9ad6-c8f0b2aefe3b",
   "metadata": {
    "execution": {
     "iopub.execute_input": "2021-06-01T19:35:32.324092Z",
     "iopub.status.busy": "2021-06-01T19:35:32.323898Z",
     "iopub.status.idle": "2021-06-01T19:35:36.237138Z",
     "shell.execute_reply": "2021-06-01T19:35:36.236374Z",
     "shell.execute_reply.started": "2021-06-01T19:35:32.324070Z"
    },
    "tags": []
   },
   "outputs": [
    {
     "name": "stdout",
     "output_type": "stream",
     "text": [
      "/home/user1/Dropbox/Research/Neurobiology_PhD/Huang/Projects/CellReadR/Code/Output/EnsemblSeq/Zebra_finch/Slc17a6_cds_1_Zebra_finch.fasta\n",
      "/home/user1/Dropbox/Research/Neurobiology_PhD/Huang/Projects/CellReadR/Code/Output/BioPython/Temp/Slc17a6_01.fasta\n",
      "/home/user1/Dropbox/Research/Neurobiology_PhD/Huang/Projects/CellReadR/Code/Output/BioPython/Temp/Slc17a6_02.fasta\n",
      "/home/user1/Dropbox/Research/Neurobiology_PhD/Huang/Projects/CellReadR/Code/Output/BioPython/Temp/Slc17a6_03.fasta\n",
      "/home/user1/Dropbox/Research/Neurobiology_PhD/Huang/Projects/CellReadR/Code/Output/BioPython/Temp/Slc17a6_04.fasta\n",
      "/home/user1/Dropbox/Research/Neurobiology_PhD/Huang/Projects/CellReadR/Code/Output/BioPython/Temp/Slc17a6_05.fasta\n",
      "/home/user1/Dropbox/Research/Neurobiology_PhD/Huang/Projects/CellReadR/Code/Output/BioPython/Temp/Slc17a6_06.fasta\n",
      "/home/user1/Dropbox/Research/Neurobiology_PhD/Huang/Projects/CellReadR/Code/Output/BioPython/Temp/Slc17a6_07.fasta\n",
      "/home/user1/Dropbox/Research/Neurobiology_PhD/Huang/Projects/CellReadR/Code/Output/BioPython/Temp/Slc17a6_08.fasta\n",
      "/home/user1/Dropbox/Research/Neurobiology_PhD/Huang/Projects/CellReadR/Code/Output/BioPython/Temp/Slc17a6_09.fasta\n",
      "/home/user1/Dropbox/Research/Neurobiology_PhD/Huang/Projects/CellReadR/Code/Output/BioPython/Temp/Slc17a6_10.fasta\n",
      "/home/user1/Dropbox/Research/Neurobiology_PhD/Huang/Projects/CellReadR/Code/Output/BioPython/Temp/Slc17a6_11.fasta\n",
      "/home/user1/Dropbox/Research/Neurobiology_PhD/Huang/Projects/CellReadR/Code/Output/BioPython/Temp/Slc17a6_12.fasta\n",
      "/home/user1/Dropbox/Research/Neurobiology_PhD/Huang/Projects/CellReadR/Code/Output/BioPython/Temp/Slc17a6_13.fasta\n",
      "/home/user1/Dropbox/Research/Neurobiology_PhD/Huang/Projects/CellReadR/Code/Output/BioPython/Temp/Slc17a6_14.fasta\n",
      "/home/user1/Dropbox/Research/Neurobiology_PhD/Huang/Projects/CellReadR/Code/Output/BioPython/Temp/Slc17a6_15.fasta\n",
      "/home/user1/Dropbox/Research/Neurobiology_PhD/Huang/Projects/CellReadR/Code/Output/BioPython/Temp/Slc17a6_16.fasta\n",
      "/home/user1/Dropbox/Research/Neurobiology_PhD/Huang/Projects/CellReadR/Code/Output/BioPython/Temp/Slc17a6_17.fasta\n",
      "/home/user1/Dropbox/Research/Neurobiology_PhD/Huang/Projects/CellReadR/Code/Output/BioPython/Temp/Slc17a6_18.fasta\n",
      "/home/user1/Dropbox/Research/Neurobiology_PhD/Huang/Projects/CellReadR/Code/Output/BioPython/Temp/Slc17a6_19.fasta\n",
      "/home/user1/Dropbox/Research/Neurobiology_PhD/Huang/Projects/CellReadR/Code/Output/BioPython/Temp/Slc17a6_20.fasta\n",
      "/home/user1/Dropbox/Research/Neurobiology_PhD/Huang/Projects/CellReadR/Code/Output/BioPython/Temp/Slc17a6_21.fasta\n",
      "/home/user1/Dropbox/Research/Neurobiology_PhD/Huang/Projects/CellReadR/Code/Output/BioPython/Temp/Slc17a6_22.fasta\n",
      "/home/user1/Dropbox/Research/Neurobiology_PhD/Huang/Projects/CellReadR/Code/Output/BioPython/Temp/Slc17a6_23.fasta\n",
      "/home/user1/Dropbox/Research/Neurobiology_PhD/Huang/Projects/CellReadR/Code/Output/BioPython/Temp/Slc17a6_24.fasta\n",
      "/home/user1/Dropbox/Research/Neurobiology_PhD/Huang/Projects/CellReadR/Code/Output/BioPython/Temp/Slc17a6_25.fasta\n",
      "/home/user1/Dropbox/Research/Neurobiology_PhD/Huang/Projects/CellReadR/Code/Output/BioPython/Temp/Slc17a6_26.fasta\n"
     ]
    },
    {
     "data": {
      "text/html": [
       "<div>\n",
       "<style scoped>\n",
       "    .dataframe tbody tr th:only-of-type {\n",
       "        vertical-align: middle;\n",
       "    }\n",
       "\n",
       "    .dataframe tbody tr th {\n",
       "        vertical-align: top;\n",
       "    }\n",
       "\n",
       "    .dataframe thead th {\n",
       "        text-align: right;\n",
       "    }\n",
       "</style>\n",
       "<table border=\"1\" class=\"dataframe\">\n",
       "  <thead>\n",
       "    <tr style=\"text-align: right;\">\n",
       "      <th></th>\n",
       "      <th>Accessibility Energy</th>\n",
       "      <th>Hybridization Energy</th>\n",
       "      <th>Interaction Energy</th>\n",
       "      <th>BasePair</th>\n",
       "      <th>Accessibility Energy</th>\n",
       "      <th>Hybridization Energy</th>\n",
       "      <th>Interaction Energy</th>\n",
       "      <th>BasePair</th>\n",
       "    </tr>\n",
       "  </thead>\n",
       "  <tbody>\n",
       "    <tr>\n",
       "      <th>0</th>\n",
       "      <td>103.85600</td>\n",
       "      <td>-262.09</td>\n",
       "      <td>-158.23400</td>\n",
       "      <td>(0-191:279-88)</td>\n",
       "      <td>4.58138</td>\n",
       "      <td>-15.56</td>\n",
       "      <td>-10.97860</td>\n",
       "      <td>(35-46:707-696)</td>\n",
       "    </tr>\n",
       "    <tr>\n",
       "      <th>0</th>\n",
       "      <td>101.70500</td>\n",
       "      <td>-259.42</td>\n",
       "      <td>-157.71500</td>\n",
       "      <td>(0-191:306-115)</td>\n",
       "      <td>NaN</td>\n",
       "      <td>NaN</td>\n",
       "      <td>NaN</td>\n",
       "      <td>NaN</td>\n",
       "    </tr>\n",
       "    <tr>\n",
       "      <th>0</th>\n",
       "      <td>99.54590</td>\n",
       "      <td>-260.05</td>\n",
       "      <td>-160.50400</td>\n",
       "      <td>(0-191:309-118)</td>\n",
       "      <td>NaN</td>\n",
       "      <td>NaN</td>\n",
       "      <td>NaN</td>\n",
       "      <td>NaN</td>\n",
       "    </tr>\n",
       "    <tr>\n",
       "      <th>0</th>\n",
       "      <td>6.17254</td>\n",
       "      <td>-15.38</td>\n",
       "      <td>-9.20746</td>\n",
       "      <td>(55-77:1428-1411)</td>\n",
       "      <td>6.15803</td>\n",
       "      <td>-14.17</td>\n",
       "      <td>-8.01197</td>\n",
       "      <td>(63-82:239-226)</td>\n",
       "    </tr>\n",
       "    <tr>\n",
       "      <th>0</th>\n",
       "      <td>6.13761</td>\n",
       "      <td>-15.38</td>\n",
       "      <td>-9.24239</td>\n",
       "      <td>(58-80:1428-1411)</td>\n",
       "      <td>4.65368</td>\n",
       "      <td>-13.28</td>\n",
       "      <td>-8.62632</td>\n",
       "      <td>(151-164:996-981)</td>\n",
       "    </tr>\n",
       "    <tr>\n",
       "      <th>0</th>\n",
       "      <td>6.07758</td>\n",
       "      <td>-15.38</td>\n",
       "      <td>-9.30242</td>\n",
       "      <td>(61-83:1428-1411)</td>\n",
       "      <td>6.02282</td>\n",
       "      <td>-14.17</td>\n",
       "      <td>-8.14718</td>\n",
       "      <td>(69-88:239-226)</td>\n",
       "    </tr>\n",
       "    <tr>\n",
       "      <th>0</th>\n",
       "      <td>6.04332</td>\n",
       "      <td>-15.38</td>\n",
       "      <td>-9.33668</td>\n",
       "      <td>(64-86:1428-1411)</td>\n",
       "      <td>5.98332</td>\n",
       "      <td>-14.17</td>\n",
       "      <td>-8.18668</td>\n",
       "      <td>(72-91:239-226)</td>\n",
       "    </tr>\n",
       "    <tr>\n",
       "      <th>0</th>\n",
       "      <td>6.03696</td>\n",
       "      <td>-15.38</td>\n",
       "      <td>-9.34304</td>\n",
       "      <td>(67-89:1428-1411)</td>\n",
       "      <td>5.96485</td>\n",
       "      <td>-14.17</td>\n",
       "      <td>-8.20515</td>\n",
       "      <td>(75-94:239-226)</td>\n",
       "    </tr>\n",
       "    <tr>\n",
       "      <th>0</th>\n",
       "      <td>6.06425</td>\n",
       "      <td>-15.38</td>\n",
       "      <td>-9.31575</td>\n",
       "      <td>(70-92:1428-1411)</td>\n",
       "      <td>6.04653</td>\n",
       "      <td>-14.17</td>\n",
       "      <td>-8.12347</td>\n",
       "      <td>(78-97:239-226)</td>\n",
       "    </tr>\n",
       "    <tr>\n",
       "      <th>0</th>\n",
       "      <td>6.06502</td>\n",
       "      <td>-15.38</td>\n",
       "      <td>-9.31498</td>\n",
       "      <td>(73-95:1428-1411)</td>\n",
       "      <td>6.03254</td>\n",
       "      <td>-14.17</td>\n",
       "      <td>-8.13746</td>\n",
       "      <td>(81-100:239-226)</td>\n",
       "    </tr>\n",
       "    <tr>\n",
       "      <th>0</th>\n",
       "      <td>5.98667</td>\n",
       "      <td>-15.38</td>\n",
       "      <td>-9.39333</td>\n",
       "      <td>(76-98:1428-1411)</td>\n",
       "      <td>5.97824</td>\n",
       "      <td>-14.17</td>\n",
       "      <td>-8.19176</td>\n",
       "      <td>(84-103:239-226)</td>\n",
       "    </tr>\n",
       "    <tr>\n",
       "      <th>0</th>\n",
       "      <td>6.21803</td>\n",
       "      <td>-15.38</td>\n",
       "      <td>-9.16197</td>\n",
       "      <td>(79-101:1428-1411)</td>\n",
       "      <td>6.08643</td>\n",
       "      <td>-14.17</td>\n",
       "      <td>-8.08357</td>\n",
       "      <td>(87-106:239-226)</td>\n",
       "    </tr>\n",
       "    <tr>\n",
       "      <th>0</th>\n",
       "      <td>6.18705</td>\n",
       "      <td>-15.38</td>\n",
       "      <td>-9.19295</td>\n",
       "      <td>(82-104:1428-1411)</td>\n",
       "      <td>4.61157</td>\n",
       "      <td>-13.28</td>\n",
       "      <td>-8.66843</td>\n",
       "      <td>(175-188:996-981)</td>\n",
       "    </tr>\n",
       "    <tr>\n",
       "      <th>0</th>\n",
       "      <td>6.14213</td>\n",
       "      <td>-15.38</td>\n",
       "      <td>-9.23787</td>\n",
       "      <td>(85-107:1428-1411)</td>\n",
       "      <td>4.55176</td>\n",
       "      <td>-13.21</td>\n",
       "      <td>-8.65824</td>\n",
       "      <td>(178-191:996-981)</td>\n",
       "    </tr>\n",
       "    <tr>\n",
       "      <th>0</th>\n",
       "      <td>75.78380</td>\n",
       "      <td>-217.64</td>\n",
       "      <td>-141.85600</td>\n",
       "      <td>(7-191:1631-1447)</td>\n",
       "      <td>6.03649</td>\n",
       "      <td>-15.38</td>\n",
       "      <td>-9.34351</td>\n",
       "      <td>(88-110:1428-1411)</td>\n",
       "    </tr>\n",
       "    <tr>\n",
       "      <th>0</th>\n",
       "      <td>6.06064</td>\n",
       "      <td>-15.38</td>\n",
       "      <td>-9.31936</td>\n",
       "      <td>(91-113:1428-1411)</td>\n",
       "      <td>5.94508</td>\n",
       "      <td>-14.17</td>\n",
       "      <td>-8.22492</td>\n",
       "      <td>(99-118:239-226)</td>\n",
       "    </tr>\n",
       "    <tr>\n",
       "      <th>0</th>\n",
       "      <td>6.06539</td>\n",
       "      <td>-15.38</td>\n",
       "      <td>-9.31461</td>\n",
       "      <td>(94-116:1428-1411)</td>\n",
       "      <td>5.95960</td>\n",
       "      <td>-14.17</td>\n",
       "      <td>-8.21040</td>\n",
       "      <td>(102-121:239-226)</td>\n",
       "    </tr>\n",
       "    <tr>\n",
       "      <th>0</th>\n",
       "      <td>6.08382</td>\n",
       "      <td>-15.38</td>\n",
       "      <td>-9.29618</td>\n",
       "      <td>(97-119:1428-1411)</td>\n",
       "      <td>5.95932</td>\n",
       "      <td>-14.17</td>\n",
       "      <td>-8.21068</td>\n",
       "      <td>(105-124:239-226)</td>\n",
       "    </tr>\n",
       "    <tr>\n",
       "      <th>0</th>\n",
       "      <td>6.04425</td>\n",
       "      <td>-15.38</td>\n",
       "      <td>-9.33575</td>\n",
       "      <td>(100-122:1428-1411)</td>\n",
       "      <td>5.96898</td>\n",
       "      <td>-14.17</td>\n",
       "      <td>-8.20102</td>\n",
       "      <td>(108-127:239-226)</td>\n",
       "    </tr>\n",
       "    <tr>\n",
       "      <th>0</th>\n",
       "      <td>6.04396</td>\n",
       "      <td>-15.38</td>\n",
       "      <td>-9.33604</td>\n",
       "      <td>(103-125:1428-1411)</td>\n",
       "      <td>5.93013</td>\n",
       "      <td>-14.17</td>\n",
       "      <td>-8.23987</td>\n",
       "      <td>(111-130:239-226)</td>\n",
       "    </tr>\n",
       "    <tr>\n",
       "      <th>0</th>\n",
       "      <td>6.04482</td>\n",
       "      <td>-15.38</td>\n",
       "      <td>-9.33518</td>\n",
       "      <td>(106-128:1428-1411)</td>\n",
       "      <td>5.90397</td>\n",
       "      <td>-14.17</td>\n",
       "      <td>-8.26603</td>\n",
       "      <td>(114-133:239-226)</td>\n",
       "    </tr>\n",
       "    <tr>\n",
       "      <th>0</th>\n",
       "      <td>6.08309</td>\n",
       "      <td>-15.38</td>\n",
       "      <td>-9.29691</td>\n",
       "      <td>(109-131:1428-1411)</td>\n",
       "      <td>5.89782</td>\n",
       "      <td>-14.17</td>\n",
       "      <td>-8.27218</td>\n",
       "      <td>(117-136:239-226)</td>\n",
       "    </tr>\n",
       "    <tr>\n",
       "      <th>0</th>\n",
       "      <td>6.16742</td>\n",
       "      <td>-15.38</td>\n",
       "      <td>-9.21258</td>\n",
       "      <td>(112-134:1428-1411)</td>\n",
       "      <td>6.05870</td>\n",
       "      <td>-14.17</td>\n",
       "      <td>-8.11130</td>\n",
       "      <td>(120-139:239-226)</td>\n",
       "    </tr>\n",
       "    <tr>\n",
       "      <th>0</th>\n",
       "      <td>6.50991</td>\n",
       "      <td>-15.38</td>\n",
       "      <td>-8.87009</td>\n",
       "      <td>(115-137:1428-1411)</td>\n",
       "      <td>NaN</td>\n",
       "      <td>NaN</td>\n",
       "      <td>NaN</td>\n",
       "      <td>NaN</td>\n",
       "    </tr>\n",
       "    <tr>\n",
       "      <th>0</th>\n",
       "      <td>6.13821</td>\n",
       "      <td>-15.38</td>\n",
       "      <td>-9.24179</td>\n",
       "      <td>(118-140:1428-1411)</td>\n",
       "      <td>NaN</td>\n",
       "      <td>NaN</td>\n",
       "      <td>NaN</td>\n",
       "      <td>NaN</td>\n",
       "    </tr>\n",
       "    <tr>\n",
       "      <th>0</th>\n",
       "      <td>6.00892</td>\n",
       "      <td>-15.38</td>\n",
       "      <td>-9.37108</td>\n",
       "      <td>(121-143:1428-1411)</td>\n",
       "      <td>NaN</td>\n",
       "      <td>NaN</td>\n",
       "      <td>NaN</td>\n",
       "      <td>NaN</td>\n",
       "    </tr>\n",
       "  </tbody>\n",
       "</table>\n",
       "</div>"
      ],
      "text/plain": [
       "    Accessibility Energy   Hybridization Energy   Interaction Energy  \\\n",
       "0              103.85600                -262.09           -158.23400   \n",
       "0              101.70500                -259.42           -157.71500   \n",
       "0               99.54590                -260.05           -160.50400   \n",
       "0                6.17254                 -15.38             -9.20746   \n",
       "0                6.13761                 -15.38             -9.24239   \n",
       "0                6.07758                 -15.38             -9.30242   \n",
       "0                6.04332                 -15.38             -9.33668   \n",
       "0                6.03696                 -15.38             -9.34304   \n",
       "0                6.06425                 -15.38             -9.31575   \n",
       "0                6.06502                 -15.38             -9.31498   \n",
       "0                5.98667                 -15.38             -9.39333   \n",
       "0                6.21803                 -15.38             -9.16197   \n",
       "0                6.18705                 -15.38             -9.19295   \n",
       "0                6.14213                 -15.38             -9.23787   \n",
       "0               75.78380                -217.64           -141.85600   \n",
       "0                6.06064                 -15.38             -9.31936   \n",
       "0                6.06539                 -15.38             -9.31461   \n",
       "0                6.08382                 -15.38             -9.29618   \n",
       "0                6.04425                 -15.38             -9.33575   \n",
       "0                6.04396                 -15.38             -9.33604   \n",
       "0                6.04482                 -15.38             -9.33518   \n",
       "0                6.08309                 -15.38             -9.29691   \n",
       "0                6.16742                 -15.38             -9.21258   \n",
       "0                6.50991                 -15.38             -8.87009   \n",
       "0                6.13821                 -15.38             -9.24179   \n",
       "0                6.00892                 -15.38             -9.37108   \n",
       "\n",
       "               BasePair   Accessibility Energy   Hybridization Energy  \\\n",
       "0       (0-191:279-88)                 4.58138                 -15.56   \n",
       "0      (0-191:306-115)                     NaN                    NaN   \n",
       "0      (0-191:309-118)                     NaN                    NaN   \n",
       "0    (55-77:1428-1411)                 6.15803                 -14.17   \n",
       "0    (58-80:1428-1411)                 4.65368                 -13.28   \n",
       "0    (61-83:1428-1411)                 6.02282                 -14.17   \n",
       "0    (64-86:1428-1411)                 5.98332                 -14.17   \n",
       "0    (67-89:1428-1411)                 5.96485                 -14.17   \n",
       "0    (70-92:1428-1411)                 6.04653                 -14.17   \n",
       "0    (73-95:1428-1411)                 6.03254                 -14.17   \n",
       "0    (76-98:1428-1411)                 5.97824                 -14.17   \n",
       "0   (79-101:1428-1411)                 6.08643                 -14.17   \n",
       "0   (82-104:1428-1411)                 4.61157                 -13.28   \n",
       "0   (85-107:1428-1411)                 4.55176                 -13.21   \n",
       "0    (7-191:1631-1447)                 6.03649                 -15.38   \n",
       "0   (91-113:1428-1411)                 5.94508                 -14.17   \n",
       "0   (94-116:1428-1411)                 5.95960                 -14.17   \n",
       "0   (97-119:1428-1411)                 5.95932                 -14.17   \n",
       "0  (100-122:1428-1411)                 5.96898                 -14.17   \n",
       "0  (103-125:1428-1411)                 5.93013                 -14.17   \n",
       "0  (106-128:1428-1411)                 5.90397                 -14.17   \n",
       "0  (109-131:1428-1411)                 5.89782                 -14.17   \n",
       "0  (112-134:1428-1411)                 6.05870                 -14.17   \n",
       "0  (115-137:1428-1411)                     NaN                    NaN   \n",
       "0  (118-140:1428-1411)                     NaN                    NaN   \n",
       "0  (121-143:1428-1411)                     NaN                    NaN   \n",
       "\n",
       "    Interaction Energy             BasePair  \n",
       "0            -10.97860     (35-46:707-696)   \n",
       "0                  NaN                  NaN  \n",
       "0                  NaN                  NaN  \n",
       "0             -8.01197     (63-82:239-226)   \n",
       "0             -8.62632   (151-164:996-981)   \n",
       "0             -8.14718     (69-88:239-226)   \n",
       "0             -8.18668     (72-91:239-226)   \n",
       "0             -8.20515     (75-94:239-226)   \n",
       "0             -8.12347     (78-97:239-226)   \n",
       "0             -8.13746    (81-100:239-226)   \n",
       "0             -8.19176    (84-103:239-226)   \n",
       "0             -8.08357    (87-106:239-226)   \n",
       "0             -8.66843   (175-188:996-981)   \n",
       "0             -8.65824   (178-191:996-981)   \n",
       "0             -9.34351  (88-110:1428-1411)   \n",
       "0             -8.22492    (99-118:239-226)   \n",
       "0             -8.21040   (102-121:239-226)   \n",
       "0             -8.21068   (105-124:239-226)   \n",
       "0             -8.20102   (108-127:239-226)   \n",
       "0             -8.23987   (111-130:239-226)   \n",
       "0             -8.26603   (114-133:239-226)   \n",
       "0             -8.27218   (117-136:239-226)   \n",
       "0             -8.11130   (120-139:239-226)   \n",
       "0                  NaN                  NaN  \n",
       "0                  NaN                  NaN  \n",
       "0                  NaN                  NaN  "
      ]
     },
     "execution_count": 27,
     "metadata": {},
     "output_type": "execute_result"
    }
   ],
   "source": [
    "outputRIblast = output_RIblast(fold_sequenceMetrics, geneName, speciesName, spliceVariant)\n",
    "outputRIblast"
   ]
  },
  {
   "cell_type": "code",
   "execution_count": 28,
   "id": "b6f26594-d7f8-4760-8baa-74298c7b81e0",
   "metadata": {
    "execution": {
     "iopub.execute_input": "2021-06-01T19:35:36.238242Z",
     "iopub.status.busy": "2021-06-01T19:35:36.237967Z",
     "iopub.status.idle": "2021-06-01T19:35:36.245589Z",
     "shell.execute_reply": "2021-06-01T19:35:36.244884Z",
     "shell.execute_reply.started": "2021-06-01T19:35:36.238218Z"
    },
    "tags": []
   },
   "outputs": [],
   "source": [
    "metricsTable_higherOrder = pd.concat([fold_sequenceMetrics.reset_index(drop=True), outputRIblast.reset_index(drop=True).iloc[:, 0:4]], axis = 1)"
   ]
  },
  {
   "cell_type": "code",
   "execution_count": 29,
   "id": "b4ef418a-0d79-46ed-a730-5474d1129c9f",
   "metadata": {
    "execution": {
     "iopub.execute_input": "2021-06-01T19:35:36.246582Z",
     "iopub.status.busy": "2021-06-01T19:35:36.246361Z",
     "iopub.status.idle": "2021-06-01T19:35:36.324273Z",
     "shell.execute_reply": "2021-06-01T19:35:36.323474Z",
     "shell.execute_reply.started": "2021-06-01T19:35:36.246559Z"
    }
   },
   "outputs": [
    {
     "data": {
      "text/html": [
       "<div>\n",
       "<style scoped>\n",
       "    .dataframe tbody tr th:only-of-type {\n",
       "        vertical-align: middle;\n",
       "    }\n",
       "\n",
       "    .dataframe tbody tr th {\n",
       "        vertical-align: top;\n",
       "    }\n",
       "\n",
       "    .dataframe thead th {\n",
       "        text-align: right;\n",
       "    }\n",
       "</style>\n",
       "<table border=\"1\" class=\"dataframe\">\n",
       "  <thead>\n",
       "    <tr style=\"text-align: right;\">\n",
       "      <th></th>\n",
       "      <th>SeqNumber</th>\n",
       "      <th>TypeSeq</th>\n",
       "      <th>Exon</th>\n",
       "      <th>ExonFraction</th>\n",
       "      <th>ExonProteinFrac</th>\n",
       "      <th>StartSeq</th>\n",
       "      <th>StopSeq</th>\n",
       "      <th>firstTGG</th>\n",
       "      <th>centralTGG</th>\n",
       "      <th>second_cTGG</th>\n",
       "      <th>numTGG</th>\n",
       "      <th>numATG</th>\n",
       "      <th>numStop</th>\n",
       "      <th>gcContent</th>\n",
       "      <th>mfe</th>\n",
       "      <th>mfeFreq</th>\n",
       "      <th>Accessibility Energy</th>\n",
       "      <th>Hybridization Energy</th>\n",
       "      <th>Interaction Energy</th>\n",
       "      <th>BasePair</th>\n",
       "    </tr>\n",
       "  </thead>\n",
       "  <tbody>\n",
       "    <tr>\n",
       "      <th>0</th>\n",
       "      <td>1</td>\n",
       "      <td>Reverse</td>\n",
       "      <td>2</td>\n",
       "      <td>3/3</td>\n",
       "      <td>3/3</td>\n",
       "      <td>59.0</td>\n",
       "      <td>251.0</td>\n",
       "      <td>57.0</td>\n",
       "      <td>132.0</td>\n",
       "      <td>57.0</td>\n",
       "      <td>3.0</td>\n",
       "      <td>0.0</td>\n",
       "      <td>2.0</td>\n",
       "      <td>59.4</td>\n",
       "      <td>-68.5</td>\n",
       "      <td>1.921</td>\n",
       "      <td>103.85600</td>\n",
       "      <td>-262.09</td>\n",
       "      <td>-158.23400</td>\n",
       "      <td>(0-191:279-88)</td>\n",
       "    </tr>\n",
       "    <tr>\n",
       "      <th>1</th>\n",
       "      <td>1</td>\n",
       "      <td>Complement</td>\n",
       "      <td>2</td>\n",
       "      <td>3/3</td>\n",
       "      <td>3/3</td>\n",
       "      <td>29.0</td>\n",
       "      <td>221.0</td>\n",
       "      <td>153.0</td>\n",
       "      <td>153.0</td>\n",
       "      <td>NA</td>\n",
       "      <td>1.0</td>\n",
       "      <td>0.0</td>\n",
       "      <td>1.0</td>\n",
       "      <td>56.2</td>\n",
       "      <td>-59.4</td>\n",
       "      <td>0.197</td>\n",
       "      <td>101.70500</td>\n",
       "      <td>-259.42</td>\n",
       "      <td>-157.71500</td>\n",
       "      <td>(0-191:306-115)</td>\n",
       "    </tr>\n",
       "    <tr>\n",
       "      <th>2</th>\n",
       "      <td>2</td>\n",
       "      <td>Complement</td>\n",
       "      <td>2</td>\n",
       "      <td>3/3</td>\n",
       "      <td>3/3</td>\n",
       "      <td>32.0</td>\n",
       "      <td>224.0</td>\n",
       "      <td>150.0</td>\n",
       "      <td>150.0</td>\n",
       "      <td>NA</td>\n",
       "      <td>1.0</td>\n",
       "      <td>0.0</td>\n",
       "      <td>1.0</td>\n",
       "      <td>56.8</td>\n",
       "      <td>-59.4</td>\n",
       "      <td>0.374</td>\n",
       "      <td>99.54590</td>\n",
       "      <td>-260.05</td>\n",
       "      <td>-160.50400</td>\n",
       "      <td>(0-191:309-118)</td>\n",
       "    </tr>\n",
       "    <tr>\n",
       "      <th>3</th>\n",
       "      <td>3</td>\n",
       "      <td>Complement</td>\n",
       "      <td>3</td>\n",
       "      <td>2/3</td>\n",
       "      <td>2/3</td>\n",
       "      <td>1.0</td>\n",
       "      <td>193.0</td>\n",
       "      <td>105.0</td>\n",
       "      <td>105.0</td>\n",
       "      <td>NA</td>\n",
       "      <td>1.0</td>\n",
       "      <td>0.0</td>\n",
       "      <td>2.0</td>\n",
       "      <td>44.8</td>\n",
       "      <td>-38.7</td>\n",
       "      <td>0.281</td>\n",
       "      <td>6.17254</td>\n",
       "      <td>-15.38</td>\n",
       "      <td>-9.20746</td>\n",
       "      <td>(55-77:1428-1411)</td>\n",
       "    </tr>\n",
       "    <tr>\n",
       "      <th>4</th>\n",
       "      <td>4</td>\n",
       "      <td>Complement</td>\n",
       "      <td>3</td>\n",
       "      <td>2/3</td>\n",
       "      <td>2/3</td>\n",
       "      <td>4.0</td>\n",
       "      <td>196.0</td>\n",
       "      <td>102.0</td>\n",
       "      <td>102.0</td>\n",
       "      <td>NA</td>\n",
       "      <td>1.0</td>\n",
       "      <td>0.0</td>\n",
       "      <td>2.0</td>\n",
       "      <td>43.8</td>\n",
       "      <td>-38.7</td>\n",
       "      <td>0.322</td>\n",
       "      <td>6.13761</td>\n",
       "      <td>-15.38</td>\n",
       "      <td>-9.24239</td>\n",
       "      <td>(58-80:1428-1411)</td>\n",
       "    </tr>\n",
       "    <tr>\n",
       "      <th>5</th>\n",
       "      <td>5</td>\n",
       "      <td>Complement</td>\n",
       "      <td>3</td>\n",
       "      <td>2/3</td>\n",
       "      <td>2/3</td>\n",
       "      <td>7.0</td>\n",
       "      <td>199.0</td>\n",
       "      <td>99.0</td>\n",
       "      <td>99.0</td>\n",
       "      <td>NA</td>\n",
       "      <td>1.0</td>\n",
       "      <td>0.0</td>\n",
       "      <td>3.0</td>\n",
       "      <td>42.7</td>\n",
       "      <td>-37.9</td>\n",
       "      <td>0.350</td>\n",
       "      <td>6.07758</td>\n",
       "      <td>-15.38</td>\n",
       "      <td>-9.30242</td>\n",
       "      <td>(61-83:1428-1411)</td>\n",
       "    </tr>\n",
       "    <tr>\n",
       "      <th>6</th>\n",
       "      <td>6</td>\n",
       "      <td>Complement</td>\n",
       "      <td>3</td>\n",
       "      <td>2/3</td>\n",
       "      <td>2/3</td>\n",
       "      <td>10.0</td>\n",
       "      <td>202.0</td>\n",
       "      <td>96.0</td>\n",
       "      <td>96.0</td>\n",
       "      <td>NA</td>\n",
       "      <td>1.0</td>\n",
       "      <td>0.0</td>\n",
       "      <td>3.0</td>\n",
       "      <td>42.7</td>\n",
       "      <td>-37.4</td>\n",
       "      <td>0.406</td>\n",
       "      <td>6.04332</td>\n",
       "      <td>-15.38</td>\n",
       "      <td>-9.33668</td>\n",
       "      <td>(64-86:1428-1411)</td>\n",
       "    </tr>\n",
       "    <tr>\n",
       "      <th>7</th>\n",
       "      <td>7</td>\n",
       "      <td>Complement</td>\n",
       "      <td>3</td>\n",
       "      <td>2/3</td>\n",
       "      <td>2/3</td>\n",
       "      <td>13.0</td>\n",
       "      <td>205.0</td>\n",
       "      <td>93.0</td>\n",
       "      <td>93.0</td>\n",
       "      <td>NA</td>\n",
       "      <td>1.0</td>\n",
       "      <td>0.0</td>\n",
       "      <td>3.0</td>\n",
       "      <td>43.2</td>\n",
       "      <td>-37.4</td>\n",
       "      <td>0.479</td>\n",
       "      <td>6.03696</td>\n",
       "      <td>-15.38</td>\n",
       "      <td>-9.34304</td>\n",
       "      <td>(67-89:1428-1411)</td>\n",
       "    </tr>\n",
       "    <tr>\n",
       "      <th>8</th>\n",
       "      <td>8</td>\n",
       "      <td>Complement</td>\n",
       "      <td>3</td>\n",
       "      <td>2/3</td>\n",
       "      <td>2/3</td>\n",
       "      <td>16.0</td>\n",
       "      <td>208.0</td>\n",
       "      <td>90.0</td>\n",
       "      <td>90.0</td>\n",
       "      <td>NA</td>\n",
       "      <td>1.0</td>\n",
       "      <td>0.0</td>\n",
       "      <td>3.0</td>\n",
       "      <td>42.7</td>\n",
       "      <td>-36.8</td>\n",
       "      <td>0.100</td>\n",
       "      <td>6.06425</td>\n",
       "      <td>-15.38</td>\n",
       "      <td>-9.31575</td>\n",
       "      <td>(70-92:1428-1411)</td>\n",
       "    </tr>\n",
       "    <tr>\n",
       "      <th>9</th>\n",
       "      <td>9</td>\n",
       "      <td>Complement</td>\n",
       "      <td>3</td>\n",
       "      <td>2/3</td>\n",
       "      <td>2/3</td>\n",
       "      <td>19.0</td>\n",
       "      <td>211.0</td>\n",
       "      <td>87.0</td>\n",
       "      <td>87.0</td>\n",
       "      <td>NA</td>\n",
       "      <td>1.0</td>\n",
       "      <td>0.0</td>\n",
       "      <td>3.0</td>\n",
       "      <td>43.2</td>\n",
       "      <td>-38.0</td>\n",
       "      <td>0.186</td>\n",
       "      <td>6.06502</td>\n",
       "      <td>-15.38</td>\n",
       "      <td>-9.31498</td>\n",
       "      <td>(73-95:1428-1411)</td>\n",
       "    </tr>\n",
       "    <tr>\n",
       "      <th>10</th>\n",
       "      <td>10</td>\n",
       "      <td>Complement</td>\n",
       "      <td>3</td>\n",
       "      <td>2/3</td>\n",
       "      <td>2/3</td>\n",
       "      <td>22.0</td>\n",
       "      <td>214.0</td>\n",
       "      <td>84.0</td>\n",
       "      <td>84.0</td>\n",
       "      <td>NA</td>\n",
       "      <td>1.0</td>\n",
       "      <td>0.0</td>\n",
       "      <td>3.0</td>\n",
       "      <td>43.2</td>\n",
       "      <td>-37.9</td>\n",
       "      <td>0.177</td>\n",
       "      <td>5.98667</td>\n",
       "      <td>-15.38</td>\n",
       "      <td>-9.39333</td>\n",
       "      <td>(76-98:1428-1411)</td>\n",
       "    </tr>\n",
       "    <tr>\n",
       "      <th>11</th>\n",
       "      <td>11</td>\n",
       "      <td>Complement</td>\n",
       "      <td>3</td>\n",
       "      <td>2/3</td>\n",
       "      <td>2/3</td>\n",
       "      <td>25.0</td>\n",
       "      <td>217.0</td>\n",
       "      <td>81.0</td>\n",
       "      <td>81.0</td>\n",
       "      <td>NA</td>\n",
       "      <td>1.0</td>\n",
       "      <td>0.0</td>\n",
       "      <td>3.0</td>\n",
       "      <td>43.2</td>\n",
       "      <td>-41.0</td>\n",
       "      <td>0.224</td>\n",
       "      <td>6.21803</td>\n",
       "      <td>-15.38</td>\n",
       "      <td>-9.16197</td>\n",
       "      <td>(79-101:1428-1411)</td>\n",
       "    </tr>\n",
       "    <tr>\n",
       "      <th>12</th>\n",
       "      <td>12</td>\n",
       "      <td>Complement</td>\n",
       "      <td>3</td>\n",
       "      <td>2/3</td>\n",
       "      <td>2/3</td>\n",
       "      <td>28.0</td>\n",
       "      <td>220.0</td>\n",
       "      <td>78.0</td>\n",
       "      <td>78.0</td>\n",
       "      <td>NA</td>\n",
       "      <td>1.0</td>\n",
       "      <td>0.0</td>\n",
       "      <td>3.0</td>\n",
       "      <td>43.2</td>\n",
       "      <td>-39.1</td>\n",
       "      <td>0.606</td>\n",
       "      <td>6.18705</td>\n",
       "      <td>-15.38</td>\n",
       "      <td>-9.19295</td>\n",
       "      <td>(82-104:1428-1411)</td>\n",
       "    </tr>\n",
       "    <tr>\n",
       "      <th>13</th>\n",
       "      <td>13</td>\n",
       "      <td>Complement</td>\n",
       "      <td>3</td>\n",
       "      <td>2/3</td>\n",
       "      <td>2/3</td>\n",
       "      <td>31.0</td>\n",
       "      <td>223.0</td>\n",
       "      <td>75.0</td>\n",
       "      <td>75.0</td>\n",
       "      <td>NA</td>\n",
       "      <td>1.0</td>\n",
       "      <td>0.0</td>\n",
       "      <td>3.0</td>\n",
       "      <td>43.8</td>\n",
       "      <td>-37.8</td>\n",
       "      <td>0.415</td>\n",
       "      <td>6.14213</td>\n",
       "      <td>-15.38</td>\n",
       "      <td>-9.23787</td>\n",
       "      <td>(85-107:1428-1411)</td>\n",
       "    </tr>\n",
       "    <tr>\n",
       "      <th>14</th>\n",
       "      <td>14</td>\n",
       "      <td>Complement</td>\n",
       "      <td>3</td>\n",
       "      <td>2/3</td>\n",
       "      <td>2/3</td>\n",
       "      <td>34.0</td>\n",
       "      <td>226.0</td>\n",
       "      <td>72.0</td>\n",
       "      <td>72.0</td>\n",
       "      <td>NA</td>\n",
       "      <td>1.0</td>\n",
       "      <td>0.0</td>\n",
       "      <td>3.0</td>\n",
       "      <td>43.8</td>\n",
       "      <td>-39.9</td>\n",
       "      <td>0.447</td>\n",
       "      <td>75.78380</td>\n",
       "      <td>-217.64</td>\n",
       "      <td>-141.85600</td>\n",
       "      <td>(7-191:1631-1447)</td>\n",
       "    </tr>\n",
       "    <tr>\n",
       "      <th>15</th>\n",
       "      <td>15</td>\n",
       "      <td>Complement</td>\n",
       "      <td>3</td>\n",
       "      <td>2/3</td>\n",
       "      <td>2/3</td>\n",
       "      <td>37.0</td>\n",
       "      <td>229.0</td>\n",
       "      <td>69.0</td>\n",
       "      <td>69.0</td>\n",
       "      <td>NA</td>\n",
       "      <td>1.0</td>\n",
       "      <td>0.0</td>\n",
       "      <td>3.0</td>\n",
       "      <td>43.2</td>\n",
       "      <td>-39.1</td>\n",
       "      <td>1.466</td>\n",
       "      <td>6.06064</td>\n",
       "      <td>-15.38</td>\n",
       "      <td>-9.31936</td>\n",
       "      <td>(91-113:1428-1411)</td>\n",
       "    </tr>\n",
       "    <tr>\n",
       "      <th>16</th>\n",
       "      <td>16</td>\n",
       "      <td>Complement</td>\n",
       "      <td>3</td>\n",
       "      <td>2/3</td>\n",
       "      <td>2/3</td>\n",
       "      <td>40.0</td>\n",
       "      <td>232.0</td>\n",
       "      <td>66.0</td>\n",
       "      <td>66.0</td>\n",
       "      <td>NA</td>\n",
       "      <td>1.0</td>\n",
       "      <td>0.0</td>\n",
       "      <td>3.0</td>\n",
       "      <td>44.3</td>\n",
       "      <td>-40.5</td>\n",
       "      <td>0.644</td>\n",
       "      <td>6.06539</td>\n",
       "      <td>-15.38</td>\n",
       "      <td>-9.31461</td>\n",
       "      <td>(94-116:1428-1411)</td>\n",
       "    </tr>\n",
       "    <tr>\n",
       "      <th>17</th>\n",
       "      <td>17</td>\n",
       "      <td>Complement</td>\n",
       "      <td>3</td>\n",
       "      <td>2/3</td>\n",
       "      <td>2/3</td>\n",
       "      <td>43.0</td>\n",
       "      <td>235.0</td>\n",
       "      <td>63.0</td>\n",
       "      <td>63.0</td>\n",
       "      <td>NA</td>\n",
       "      <td>1.0</td>\n",
       "      <td>0.0</td>\n",
       "      <td>3.0</td>\n",
       "      <td>44.8</td>\n",
       "      <td>-43.0</td>\n",
       "      <td>1.247</td>\n",
       "      <td>6.08382</td>\n",
       "      <td>-15.38</td>\n",
       "      <td>-9.29618</td>\n",
       "      <td>(97-119:1428-1411)</td>\n",
       "    </tr>\n",
       "    <tr>\n",
       "      <th>18</th>\n",
       "      <td>18</td>\n",
       "      <td>Complement</td>\n",
       "      <td>3</td>\n",
       "      <td>2/3</td>\n",
       "      <td>2/3</td>\n",
       "      <td>46.0</td>\n",
       "      <td>238.0</td>\n",
       "      <td>60.0</td>\n",
       "      <td>60.0</td>\n",
       "      <td>NA</td>\n",
       "      <td>1.0</td>\n",
       "      <td>0.0</td>\n",
       "      <td>3.0</td>\n",
       "      <td>44.3</td>\n",
       "      <td>-42.1</td>\n",
       "      <td>3.334</td>\n",
       "      <td>6.04425</td>\n",
       "      <td>-15.38</td>\n",
       "      <td>-9.33575</td>\n",
       "      <td>(100-122:1428-1411)</td>\n",
       "    </tr>\n",
       "    <tr>\n",
       "      <th>19</th>\n",
       "      <td>19</td>\n",
       "      <td>Complement</td>\n",
       "      <td>3</td>\n",
       "      <td>2/3</td>\n",
       "      <td>2/3</td>\n",
       "      <td>49.0</td>\n",
       "      <td>241.0</td>\n",
       "      <td>57.0</td>\n",
       "      <td>57.0</td>\n",
       "      <td>NA</td>\n",
       "      <td>1.0</td>\n",
       "      <td>0.0</td>\n",
       "      <td>2.0</td>\n",
       "      <td>44.8</td>\n",
       "      <td>-42.1</td>\n",
       "      <td>3.352</td>\n",
       "      <td>6.04396</td>\n",
       "      <td>-15.38</td>\n",
       "      <td>-9.33604</td>\n",
       "      <td>(103-125:1428-1411)</td>\n",
       "    </tr>\n",
       "    <tr>\n",
       "      <th>20</th>\n",
       "      <td>20</td>\n",
       "      <td>Complement</td>\n",
       "      <td>3</td>\n",
       "      <td>2/3</td>\n",
       "      <td>2/3</td>\n",
       "      <td>52.0</td>\n",
       "      <td>244.0</td>\n",
       "      <td>54.0</td>\n",
       "      <td>54.0</td>\n",
       "      <td>NA</td>\n",
       "      <td>1.0</td>\n",
       "      <td>0.0</td>\n",
       "      <td>2.0</td>\n",
       "      <td>45.3</td>\n",
       "      <td>-42.1</td>\n",
       "      <td>3.423</td>\n",
       "      <td>6.04482</td>\n",
       "      <td>-15.38</td>\n",
       "      <td>-9.33518</td>\n",
       "      <td>(106-128:1428-1411)</td>\n",
       "    </tr>\n",
       "    <tr>\n",
       "      <th>21</th>\n",
       "      <td>21</td>\n",
       "      <td>Complement</td>\n",
       "      <td>3</td>\n",
       "      <td>2/3</td>\n",
       "      <td>2/3</td>\n",
       "      <td>55.0</td>\n",
       "      <td>247.0</td>\n",
       "      <td>51.0</td>\n",
       "      <td>51.0</td>\n",
       "      <td>NA</td>\n",
       "      <td>1.0</td>\n",
       "      <td>0.0</td>\n",
       "      <td>2.0</td>\n",
       "      <td>45.3</td>\n",
       "      <td>-41.9</td>\n",
       "      <td>1.663</td>\n",
       "      <td>6.08309</td>\n",
       "      <td>-15.38</td>\n",
       "      <td>-9.29691</td>\n",
       "      <td>(109-131:1428-1411)</td>\n",
       "    </tr>\n",
       "    <tr>\n",
       "      <th>22</th>\n",
       "      <td>22</td>\n",
       "      <td>Complement</td>\n",
       "      <td>3</td>\n",
       "      <td>2/3</td>\n",
       "      <td>2/3</td>\n",
       "      <td>58.0</td>\n",
       "      <td>250.0</td>\n",
       "      <td>48.0</td>\n",
       "      <td>48.0</td>\n",
       "      <td>NA</td>\n",
       "      <td>1.0</td>\n",
       "      <td>0.0</td>\n",
       "      <td>2.0</td>\n",
       "      <td>45.8</td>\n",
       "      <td>-44.9</td>\n",
       "      <td>3.831</td>\n",
       "      <td>6.16742</td>\n",
       "      <td>-15.38</td>\n",
       "      <td>-9.21258</td>\n",
       "      <td>(112-134:1428-1411)</td>\n",
       "    </tr>\n",
       "    <tr>\n",
       "      <th>23</th>\n",
       "      <td>23</td>\n",
       "      <td>Complement</td>\n",
       "      <td>3</td>\n",
       "      <td>2/3</td>\n",
       "      <td>2/3</td>\n",
       "      <td>61.0</td>\n",
       "      <td>253.0</td>\n",
       "      <td>45.0</td>\n",
       "      <td>45.0</td>\n",
       "      <td>NA</td>\n",
       "      <td>1.0</td>\n",
       "      <td>0.0</td>\n",
       "      <td>2.0</td>\n",
       "      <td>45.8</td>\n",
       "      <td>-44.8</td>\n",
       "      <td>1.300</td>\n",
       "      <td>6.50991</td>\n",
       "      <td>-15.38</td>\n",
       "      <td>-8.87009</td>\n",
       "      <td>(115-137:1428-1411)</td>\n",
       "    </tr>\n",
       "    <tr>\n",
       "      <th>24</th>\n",
       "      <td>24</td>\n",
       "      <td>Complement</td>\n",
       "      <td>3</td>\n",
       "      <td>2/3</td>\n",
       "      <td>2/3</td>\n",
       "      <td>64.0</td>\n",
       "      <td>256.0</td>\n",
       "      <td>42.0</td>\n",
       "      <td>42.0</td>\n",
       "      <td>NA</td>\n",
       "      <td>1.0</td>\n",
       "      <td>0.0</td>\n",
       "      <td>2.0</td>\n",
       "      <td>45.8</td>\n",
       "      <td>-43.6</td>\n",
       "      <td>1.546</td>\n",
       "      <td>6.13821</td>\n",
       "      <td>-15.38</td>\n",
       "      <td>-9.24179</td>\n",
       "      <td>(118-140:1428-1411)</td>\n",
       "    </tr>\n",
       "    <tr>\n",
       "      <th>25</th>\n",
       "      <td>25</td>\n",
       "      <td>Complement</td>\n",
       "      <td>3</td>\n",
       "      <td>2/3</td>\n",
       "      <td>2/3</td>\n",
       "      <td>67.0</td>\n",
       "      <td>259.0</td>\n",
       "      <td>39.0</td>\n",
       "      <td>39.0</td>\n",
       "      <td>NA</td>\n",
       "      <td>1.0</td>\n",
       "      <td>0.0</td>\n",
       "      <td>2.0</td>\n",
       "      <td>46.4</td>\n",
       "      <td>-43.5</td>\n",
       "      <td>1.358</td>\n",
       "      <td>6.00892</td>\n",
       "      <td>-15.38</td>\n",
       "      <td>-9.37108</td>\n",
       "      <td>(121-143:1428-1411)</td>\n",
       "    </tr>\n",
       "  </tbody>\n",
       "</table>\n",
       "</div>"
      ],
      "text/plain": [
       "    SeqNumber     TypeSeq  Exon ExonFraction ExonProteinFrac  StartSeq  \\\n",
       "0           1     Reverse     2          3/3             3/3      59.0   \n",
       "1           1  Complement     2          3/3             3/3      29.0   \n",
       "2           2  Complement     2          3/3             3/3      32.0   \n",
       "3           3  Complement     3          2/3             2/3       1.0   \n",
       "4           4  Complement     3          2/3             2/3       4.0   \n",
       "5           5  Complement     3          2/3             2/3       7.0   \n",
       "6           6  Complement     3          2/3             2/3      10.0   \n",
       "7           7  Complement     3          2/3             2/3      13.0   \n",
       "8           8  Complement     3          2/3             2/3      16.0   \n",
       "9           9  Complement     3          2/3             2/3      19.0   \n",
       "10         10  Complement     3          2/3             2/3      22.0   \n",
       "11         11  Complement     3          2/3             2/3      25.0   \n",
       "12         12  Complement     3          2/3             2/3      28.0   \n",
       "13         13  Complement     3          2/3             2/3      31.0   \n",
       "14         14  Complement     3          2/3             2/3      34.0   \n",
       "15         15  Complement     3          2/3             2/3      37.0   \n",
       "16         16  Complement     3          2/3             2/3      40.0   \n",
       "17         17  Complement     3          2/3             2/3      43.0   \n",
       "18         18  Complement     3          2/3             2/3      46.0   \n",
       "19         19  Complement     3          2/3             2/3      49.0   \n",
       "20         20  Complement     3          2/3             2/3      52.0   \n",
       "21         21  Complement     3          2/3             2/3      55.0   \n",
       "22         22  Complement     3          2/3             2/3      58.0   \n",
       "23         23  Complement     3          2/3             2/3      61.0   \n",
       "24         24  Complement     3          2/3             2/3      64.0   \n",
       "25         25  Complement     3          2/3             2/3      67.0   \n",
       "\n",
       "    StopSeq  firstTGG  centralTGG second_cTGG  numTGG  numATG  numStop  \\\n",
       "0     251.0      57.0       132.0        57.0     3.0     0.0      2.0   \n",
       "1     221.0     153.0       153.0          NA     1.0     0.0      1.0   \n",
       "2     224.0     150.0       150.0          NA     1.0     0.0      1.0   \n",
       "3     193.0     105.0       105.0          NA     1.0     0.0      2.0   \n",
       "4     196.0     102.0       102.0          NA     1.0     0.0      2.0   \n",
       "5     199.0      99.0        99.0          NA     1.0     0.0      3.0   \n",
       "6     202.0      96.0        96.0          NA     1.0     0.0      3.0   \n",
       "7     205.0      93.0        93.0          NA     1.0     0.0      3.0   \n",
       "8     208.0      90.0        90.0          NA     1.0     0.0      3.0   \n",
       "9     211.0      87.0        87.0          NA     1.0     0.0      3.0   \n",
       "10    214.0      84.0        84.0          NA     1.0     0.0      3.0   \n",
       "11    217.0      81.0        81.0          NA     1.0     0.0      3.0   \n",
       "12    220.0      78.0        78.0          NA     1.0     0.0      3.0   \n",
       "13    223.0      75.0        75.0          NA     1.0     0.0      3.0   \n",
       "14    226.0      72.0        72.0          NA     1.0     0.0      3.0   \n",
       "15    229.0      69.0        69.0          NA     1.0     0.0      3.0   \n",
       "16    232.0      66.0        66.0          NA     1.0     0.0      3.0   \n",
       "17    235.0      63.0        63.0          NA     1.0     0.0      3.0   \n",
       "18    238.0      60.0        60.0          NA     1.0     0.0      3.0   \n",
       "19    241.0      57.0        57.0          NA     1.0     0.0      2.0   \n",
       "20    244.0      54.0        54.0          NA     1.0     0.0      2.0   \n",
       "21    247.0      51.0        51.0          NA     1.0     0.0      2.0   \n",
       "22    250.0      48.0        48.0          NA     1.0     0.0      2.0   \n",
       "23    253.0      45.0        45.0          NA     1.0     0.0      2.0   \n",
       "24    256.0      42.0        42.0          NA     1.0     0.0      2.0   \n",
       "25    259.0      39.0        39.0          NA     1.0     0.0      2.0   \n",
       "\n",
       "    gcContent   mfe  mfeFreq   Accessibility Energy   Hybridization Energy  \\\n",
       "0        59.4 -68.5    1.921              103.85600                -262.09   \n",
       "1        56.2 -59.4    0.197              101.70500                -259.42   \n",
       "2        56.8 -59.4    0.374               99.54590                -260.05   \n",
       "3        44.8 -38.7    0.281                6.17254                 -15.38   \n",
       "4        43.8 -38.7    0.322                6.13761                 -15.38   \n",
       "5        42.7 -37.9    0.350                6.07758                 -15.38   \n",
       "6        42.7 -37.4    0.406                6.04332                 -15.38   \n",
       "7        43.2 -37.4    0.479                6.03696                 -15.38   \n",
       "8        42.7 -36.8    0.100                6.06425                 -15.38   \n",
       "9        43.2 -38.0    0.186                6.06502                 -15.38   \n",
       "10       43.2 -37.9    0.177                5.98667                 -15.38   \n",
       "11       43.2 -41.0    0.224                6.21803                 -15.38   \n",
       "12       43.2 -39.1    0.606                6.18705                 -15.38   \n",
       "13       43.8 -37.8    0.415                6.14213                 -15.38   \n",
       "14       43.8 -39.9    0.447               75.78380                -217.64   \n",
       "15       43.2 -39.1    1.466                6.06064                 -15.38   \n",
       "16       44.3 -40.5    0.644                6.06539                 -15.38   \n",
       "17       44.8 -43.0    1.247                6.08382                 -15.38   \n",
       "18       44.3 -42.1    3.334                6.04425                 -15.38   \n",
       "19       44.8 -42.1    3.352                6.04396                 -15.38   \n",
       "20       45.3 -42.1    3.423                6.04482                 -15.38   \n",
       "21       45.3 -41.9    1.663                6.08309                 -15.38   \n",
       "22       45.8 -44.9    3.831                6.16742                 -15.38   \n",
       "23       45.8 -44.8    1.300                6.50991                 -15.38   \n",
       "24       45.8 -43.6    1.546                6.13821                 -15.38   \n",
       "25       46.4 -43.5    1.358                6.00892                 -15.38   \n",
       "\n",
       "     Interaction Energy              BasePair  \n",
       "0            -158.23400       (0-191:279-88)   \n",
       "1            -157.71500      (0-191:306-115)   \n",
       "2            -160.50400      (0-191:309-118)   \n",
       "3              -9.20746    (55-77:1428-1411)   \n",
       "4              -9.24239    (58-80:1428-1411)   \n",
       "5              -9.30242    (61-83:1428-1411)   \n",
       "6              -9.33668    (64-86:1428-1411)   \n",
       "7              -9.34304    (67-89:1428-1411)   \n",
       "8              -9.31575    (70-92:1428-1411)   \n",
       "9              -9.31498    (73-95:1428-1411)   \n",
       "10             -9.39333    (76-98:1428-1411)   \n",
       "11             -9.16197   (79-101:1428-1411)   \n",
       "12             -9.19295   (82-104:1428-1411)   \n",
       "13             -9.23787   (85-107:1428-1411)   \n",
       "14           -141.85600    (7-191:1631-1447)   \n",
       "15             -9.31936   (91-113:1428-1411)   \n",
       "16             -9.31461   (94-116:1428-1411)   \n",
       "17             -9.29618   (97-119:1428-1411)   \n",
       "18             -9.33575  (100-122:1428-1411)   \n",
       "19             -9.33604  (103-125:1428-1411)   \n",
       "20             -9.33518  (106-128:1428-1411)   \n",
       "21             -9.29691  (109-131:1428-1411)   \n",
       "22             -9.21258  (112-134:1428-1411)   \n",
       "23             -8.87009  (115-137:1428-1411)   \n",
       "24             -9.24179  (118-140:1428-1411)   \n",
       "25             -9.37108  (121-143:1428-1411)   "
      ]
     },
     "execution_count": 29,
     "metadata": {},
     "output_type": "execute_result"
    }
   ],
   "source": [
    "metricsTable_higherOrder"
   ]
  },
  {
   "cell_type": "code",
   "execution_count": 30,
   "id": "bdf379c4-65f2-40c7-8365-b43897c09665",
   "metadata": {
    "execution": {
     "iopub.execute_input": "2021-06-01T19:35:36.325457Z",
     "iopub.status.busy": "2021-06-01T19:35:36.325182Z",
     "iopub.status.idle": "2021-06-01T19:35:36.334310Z",
     "shell.execute_reply": "2021-06-01T19:35:36.333641Z",
     "shell.execute_reply.started": "2021-06-01T19:35:36.325429Z"
    },
    "tags": []
   },
   "outputs": [],
   "source": [
    "sesChoice = 2"
   ]
  },
  {
   "cell_type": "code",
   "execution_count": 31,
   "id": "9cf4ce63-4506-427e-8c7b-603823502321",
   "metadata": {
    "execution": {
     "iopub.execute_input": "2021-06-01T19:35:36.335564Z",
     "iopub.status.busy": "2021-06-01T19:35:36.335297Z",
     "iopub.status.idle": "2021-06-01T19:35:36.352640Z",
     "shell.execute_reply": "2021-06-01T19:35:36.352085Z",
     "shell.execute_reply.started": "2021-06-01T19:35:36.335536Z"
    },
    "tags": []
   },
   "outputs": [
    {
     "data": {
      "text/plain": [
       "'TGTGGTAGCTCGACTGGCTTCTACCTTTCGGGTACCTTCACGGGCTTTTCTTTCGGGGCGACACGCTGACGTGGACGAAGCCCGACGGGGCCGCCATATAGTAGCGGTAGTACTCGCCTGACCCTAAGACGTAAAGGAAGCCGTAGGCTACATTGGACCCTCACCGGTAGCACCTATACCAGTTATTGTCGT'"
      ]
     },
     "execution_count": 31,
     "metadata": {},
     "output_type": "execute_result"
    }
   ],
   "source": [
    "str(all_sesRNAs[sesChoice - 1])"
   ]
  },
  {
   "cell_type": "code",
   "execution_count": 32,
   "id": "eab27c3c-dfe3-4ca3-9e92-c66ea75c4e5d",
   "metadata": {
    "execution": {
     "iopub.execute_input": "2021-06-01T19:35:36.353897Z",
     "iopub.status.busy": "2021-06-01T19:35:36.353619Z",
     "iopub.status.idle": "2021-06-01T19:35:36.381439Z",
     "shell.execute_reply": "2021-06-01T19:35:36.380675Z",
     "shell.execute_reply.started": "2021-06-01T19:35:36.353868Z"
    },
    "tags": []
   },
   "outputs": [
    {
     "data": {
      "text/plain": [
       "'TGCTGTTATTGACCATATCCACGATGGCCACTCCCAGGTTACATCGGATGCCGAAGGAAATGCAGAATCCCAGTCCGCTCATGATGGCGATGATATACCGCCGGGGCAGCCCGAAGCAGGTGCAGTCGCACAGCGGGGCTTTCTTTTCGGGCACTTCCATGGGCTTTCCATCTTCGGTCAGCTCGATGGTGT'"
      ]
     },
     "execution_count": 32,
     "metadata": {},
     "output_type": "execute_result"
    }
   ],
   "source": [
    "str(all_sesRNAs[sesChoice - 1])[::-1]"
   ]
  },
  {
   "cell_type": "code",
   "execution_count": null,
   "id": "0f01a56b-905f-40f3-bdc6-e70312a8cae2",
   "metadata": {},
   "outputs": [],
   "source": []
  },
  {
   "cell_type": "code",
   "execution_count": null,
   "id": "219e0cbe-3357-4a54-8099-7be3f8aaa9a8",
   "metadata": {},
   "outputs": [],
   "source": []
  },
  {
   "cell_type": "code",
   "execution_count": null,
   "id": "020a8ae4-f9fc-4a31-985f-9d309e6fce42",
   "metadata": {},
   "outputs": [],
   "source": [
    "save_all_sesRNAs_DNA(all_sesRNAs, speciesName, geneName)"
   ]
  },
  {
   "cell_type": "code",
   "execution_count": null,
   "id": "3c39e45a-1f84-4b70-ab06-23ee451749cb",
   "metadata": {},
   "outputs": [],
   "source": []
  },
  {
   "cell_type": "code",
   "execution_count": null,
   "id": "a068c379-c859-4bd8-988c-d7ad31656c02",
   "metadata": {},
   "outputs": [],
   "source": []
  },
  {
   "cell_type": "code",
   "execution_count": null,
   "id": "4861b92d-9e17-4751-9c36-5afb602c52cc",
   "metadata": {},
   "outputs": [],
   "source": []
  },
  {
   "cell_type": "code",
   "execution_count": null,
   "id": "a8493813-7552-4950-becc-271199676bdc",
   "metadata": {},
   "outputs": [],
   "source": [
    "from Bio.Restriction import *"
   ]
  },
  {
   "cell_type": "code",
   "execution_count": null,
   "id": "5864b08f-d80c-4129-aea2-74122bf2eeb8",
   "metadata": {
    "tags": []
   },
   "outputs": [],
   "source": [
    "len(EcoRI.search(all_sesRNAs[6])) == 0"
   ]
  },
  {
   "cell_type": "code",
   "execution_count": null,
   "id": "4f86f878-0b37-43f3-b682-2d7a2ddc89b2",
   "metadata": {
    "tags": []
   },
   "outputs": [],
   "source": [
    "len(AscI.search(all_sesRNAs[6])) == 0"
   ]
  },
  {
   "cell_type": "code",
   "execution_count": null,
   "id": "acbcf049-e0bd-43bc-8637-00f3a1128947",
   "metadata": {},
   "outputs": [],
   "source": []
  },
  {
   "cell_type": "code",
   "execution_count": null,
   "id": "eebaba27-43fd-490e-933e-a06ceff01822",
   "metadata": {},
   "outputs": [],
   "source": []
  },
  {
   "cell_type": "code",
   "execution_count": null,
   "id": "99224ed0-8487-4ebd-bae4-c394f69dad4e",
   "metadata": {
    "tags": []
   },
   "outputs": [],
   "source": [
    "check_inSearchSeq(all_sesRNAs[0], CDS, 'Complement')"
   ]
  },
  {
   "cell_type": "code",
   "execution_count": null,
   "id": "ff538f45-b11c-463f-a31e-bd97be7d7378",
   "metadata": {},
   "outputs": [],
   "source": []
  },
  {
   "cell_type": "code",
   "execution_count": null,
   "id": "094bebc3-1462-4dc8-b16a-47a5bc4b3f07",
   "metadata": {},
   "outputs": [],
   "source": []
  },
  {
   "cell_type": "code",
   "execution_count": null,
   "id": "9c80701d-4eb8-4a15-9618-da95509a5948",
   "metadata": {},
   "outputs": [],
   "source": []
  },
  {
   "cell_type": "code",
   "execution_count": null,
   "id": "1bf4db9d-4c42-4e0c-85e4-92987f346463",
   "metadata": {},
   "outputs": [],
   "source": []
  },
  {
   "cell_type": "code",
   "execution_count": null,
   "id": "290eb1d8-3721-4914-88d7-94d146c91d97",
   "metadata": {},
   "outputs": [],
   "source": []
  },
  {
   "cell_type": "code",
   "execution_count": null,
   "id": "576ed6cc-caa8-46fb-a683-d1cea9465d0f",
   "metadata": {},
   "outputs": [],
   "source": []
  },
  {
   "cell_type": "code",
   "execution_count": null,
   "id": "b002e8d2-b54f-49a8-952e-d556bddb7f75",
   "metadata": {
    "tags": []
   },
   "outputs": [],
   "source": [
    "def output_intaRNA(sequenceMetrics):\n",
    "    # Call RNAfold on each sequence of output \n",
    "    top_intarnaE = []\n",
    "\n",
    "    intarna_columns = ['E', 'start1', 'end1', 'start2', 'end2']\n",
    "    all_sorted_intarna = []\n",
    "    useful_intarna =  pd.DataFrame(columns = intarna_columns)\n",
    "\n",
    "    martBase = '/home/user1/Dropbox/Research/Neurobiology_PhD/Rotations/Huang/Projects/CellReadR/Code/Output/biomaRt/'\n",
    "    martBasePath = martBase + species\n",
    "    # Loading sequences for gene CDS\n",
    "    CDS_fileName = martBasePath + '/CDS_' + geneName + '.fasta'\n",
    "    \n",
    "    pathTemp = '/home/user1/Dropbox/Research/Neurobiology_PhD/Rotations/Huang/Projects/CellReadR/Code/Output/BioPython/Temp'\n",
    "    pathOutTempIntaRNA = pathTemp + '/temp.csv'\n",
    "\n",
    "    # sorting files in output of scandir \n",
    "    for entry in sorted(os.scandir(pathTemp), key=lambda e: e.name):\n",
    "        # For checking which file currently working on (not in order for some reason) \n",
    "        print(entry.path)\n",
    "\n",
    "        # Defining command for IntaRNA\n",
    "        numThreads = 10\n",
    "        commandInta = 'IntaRNA -t ' + CDS_fileName + ' -q ' + entry.path + ' --threads ' + str(numThreads) + ' --outMode=C > ' + pathOutTempIntaRNA\n",
    "        # Generating IntaRNA predictions \n",
    "        os.system(commandInta)\n",
    "        # Reading in csv file with information \n",
    "        intarnaOutput = pd.read_csv(pathOutTempIntaRNA, sep = ';')\n",
    "        # Saving pd output as list of lists ... would be a pain to compute multiple times if desired \n",
    "        sorted_intarna = intarnaOutput.sort_values('E', ascending=True)\n",
    "        # Concatinating select columuns of dataframe for inclusion into sequence metrics \n",
    "        all_sorted_intarna.append(sorted_intarna)\n",
    "        print(sorted_intarna)\n",
    "        # Getting first row ... with highest energy values ... and appending to DataFrame \n",
    "        useful_intarna = useful_intarna.append(sorted_intarna[intarna_columns].iloc[0:1])\n",
    "        \n",
    "        # Moving to Temp directory to work on fasta files \n",
    "        currentWD = os.getcwd()\n",
    "        os.chdir('/home/user1/Dropbox/Research/Neurobiology_PhD/Rotations/Huang/Projects/CellReadR/Code/Output/BioPython/Temp')\n",
    "\n",
    "        # Removing temp.out after finishing each run \n",
    "        os.system('rm -rf temp.out')\n",
    "        os.system('rm -rf temp.csv')\n",
    "        # Return to initial working directory \n",
    "        os.chdir(currentWD)\n",
    "\n",
    "    # Removing files generated by RNAfold \n",
    "    os.system('rm -rf *ss.ps')\n",
    "    os.system('rm -rf *dp.ps')\n",
    "    # Removing temp fasta files \n",
    "#     resetCommand = 'cd ' + pathTemp + ' && rm -rf *'\n",
    "#     os.system(resetCommand)\n",
    "    \n",
    "    # Have to reset index since useful_intarna is slice of many pd.DataFrames \n",
    "    out_sequenceMetrics = pd.concat([sequenceMetrics.reset_index(), useful_intarna.reset_index()], axis = 1)\n",
    "    \n",
    "    return out_sequenceMetrics "
   ]
  },
  {
   "cell_type": "code",
   "execution_count": null,
   "id": "b4065dfd-6ba8-4186-a019-b2f6adc008ef",
   "metadata": {},
   "outputs": [],
   "source": [
    "intarna_sequenceMetrics = output_intaRNA(fold_sequenceMetrics)\n",
    "intarna_sequenceMetrics"
   ]
  },
  {
   "cell_type": "code",
   "execution_count": null,
   "id": "b6eef22b-89be-40f5-93fb-477daa134d49",
   "metadata": {},
   "outputs": [],
   "source": []
  },
  {
   "cell_type": "code",
   "execution_count": null,
   "id": "0436b4a2-1f6e-4ce9-bc0b-4cde8c2ad950",
   "metadata": {},
   "outputs": [],
   "source": []
  },
  {
   "cell_type": "code",
   "execution_count": null,
   "id": "7d08a463-3d7d-4928-b8b1-90d8217468a9",
   "metadata": {
    "tags": []
   },
   "outputs": [],
   "source": [
    "def output_RNApred(sequenceMetrics):\n",
    "    # Call RNAfold on each sequence of output \n",
    "    rnaFold_prob = []\n",
    "    top_intarnaE = []\n",
    "\n",
    "    intarna_columns = ['E', 'start1', 'end1', 'start2', 'end2']\n",
    "    all_sorted_intarna = []\n",
    "    useful_intarna =  pd.DataFrame(columns = intarna_columns)\n",
    "\n",
    "    martBase = '/home/user1/Dropbox/Research/Neurobiology_PhD/Rotations/Huang/Projects/CellReadR/Code/Output/biomaRt/'\n",
    "    martBasePath = martBase + species\n",
    "    # Loading sequences for gene CDS\n",
    "    CDS_fileName = martBasePath + '/CDS_' + geneName + '.fasta'\n",
    "    \n",
    "    pathTemp = '/home/user1/Dropbox/Research/Neurobiology_PhD/Rotations/Huang/Projects/CellReadR/Code/Output/BioPython/Temp'\n",
    "    pathOutTempFold = pathTemp + '/temp.out'\n",
    "    pathOutTempIntaRNA = pathTemp + '/temp.csv'\n",
    "\n",
    "    # sorting files in output of scandir \n",
    "    for entry in sorted(os.scandir(pathTemp), key=lambda e: e.name):\n",
    "        # For checking which file currently working on (not in order for some reason) \n",
    "        print(entry.path)\n",
    "\n",
    "        # Defining command for RNAfold \n",
    "        commandFold = 'RNAfold -p -d2 --noLP < ' + entry.path + ' > ' + pathOutTempFold    \n",
    "        # Generating RNAfold predictions \n",
    "        generateProb = subprocess.run(commandFold, shell=True, stdout=subprocess.PIPE)\n",
    "\n",
    "        # Defining command for IntaRNA\n",
    "        numThreads = 10\n",
    "        commandInta = 'IntaRNA -t ' + CDS_fileName + ' -q ' + entry.path + ' --threads ' + str(numThreads) + ' --outMode=C > ' + pathOutTempIntaRNA\n",
    "        # Generating IntaRNA predictions \n",
    "        os.system(commandInta)\n",
    "        # Reading in csv file with information \n",
    "        intarnaOutput = pd.read_csv(pathOutTempIntaRNA, sep = ';')\n",
    "        # Saving pd output as list of lists ... would be a pain to compute multiple times if desired \n",
    "        sorted_intarna = intarnaOutput.sort_values('E', ascending=True)\n",
    "        # Concatinating select columuns of dataframe for inclusion into sequence metrics \n",
    "        all_sorted_intarna.append(sorted_intarna)\n",
    "        # Getting first row ... with highest energy values ... and appending to DataFrame \n",
    "        useful_intarna = useful_intarna.append(sorted_intarna[intarna_columns].iloc[0:1])\n",
    "        \n",
    "        # Moving to Temp directory to work on fasta files \n",
    "        currentWD = os.getcwd()\n",
    "        os.chdir('/home/user1/Dropbox/Research/Neurobiology_PhD/Rotations/Huang/Projects/CellReadR/Code/Output/BioPython/Temp')\n",
    "\n",
    "        # Running script for getting probabilities from RNAfold output file (added to ArchBin btw)\n",
    "        readProb = subprocess.Popen(\"rnaFold_prob.sh\", shell=True, stdout=subprocess.PIPE)\n",
    "        returnedProb = readProb.stdout.read()\n",
    "        # Waiting for last command to finish before storing value in temp.out file \n",
    "        readProb.wait()\n",
    "        # Append frequences ... convert to percentage \n",
    "        rnaFold_prob.append(float(returnedProb)*100)\n",
    "\n",
    "        \n",
    "        # Removing temp.out after finishing each run \n",
    "        os.system('rm -rf temp.out')\n",
    "        os.system('rm -rf temp.csv')\n",
    "        # Return to initial working directory \n",
    "        os.chdir(currentWD)\n",
    "\n",
    "    # Removing files generated by RNAfold \n",
    "    os.system('rm -rf *ss.ps')\n",
    "    os.system('rm -rf *dp.ps')\n",
    "    # Removing temp fasta files \n",
    "    resetCommand = 'cd ' + pathTemp + ' && rm -rf *'\n",
    "    os.system(resetCommand)\n",
    "    \n",
    "    # Adding RNA fold mfe ensemble frequency to sequenceMetrics \n",
    "    sequenceMetrics['mfeFreq'] = rnaFold_prob\n",
    "    # Have to reset index since useful_intarna is slice of many pd.DataFrames \n",
    "    out_sequenceMetrics = pd.concat([sequenceMetrics.reset_index(), useful_intarna.reset_index()], axis = 1)\n",
    "    \n",
    "    return out_sequenceMetrics "
   ]
  },
  {
   "cell_type": "code",
   "execution_count": null,
   "id": "ffd2ea08-e1d1-49c3-a1bf-3f53638a1f4e",
   "metadata": {},
   "outputs": [],
   "source": []
  },
  {
   "cell_type": "code",
   "execution_count": null,
   "id": "e4551ef2-74ff-454e-907b-bec74bd69932",
   "metadata": {},
   "outputs": [],
   "source": []
  },
  {
   "cell_type": "code",
   "execution_count": null,
   "id": "4307bcf0-7aea-4f1b-8034-1e2f1cd829bc",
   "metadata": {},
   "outputs": [],
   "source": []
  },
  {
   "cell_type": "code",
   "execution_count": null,
   "id": "f6f776c4-b28e-4706-a59f-cb467f615371",
   "metadata": {
    "tags": []
   },
   "outputs": [],
   "source": [
    "higherSequenceMetrics = output_RNApred(all_sequenceMetrics)\n",
    "higherSequenceMetrics"
   ]
  },
  {
   "cell_type": "code",
   "execution_count": null,
   "id": "a6d74ad4-0a72-4237-9891-bd6a511eaf14",
   "metadata": {},
   "outputs": [],
   "source": []
  },
  {
   "cell_type": "code",
   "execution_count": null,
   "id": "378d1531-dfed-421d-9d84-6fa85d60ff8c",
   "metadata": {},
   "outputs": [],
   "source": []
  },
  {
   "cell_type": "code",
   "execution_count": null,
   "id": "d9937546-8b46-4d65-84f3-4d87b072d4ce",
   "metadata": {
    "tags": []
   },
   "outputs": [],
   "source": [
    "\n",
    "\n"
   ]
  },
  {
   "cell_type": "code",
   "execution_count": null,
   "id": "26aa1cf2-5ffd-4927-86e7-1ec61091509c",
   "metadata": {
    "tags": []
   },
   "outputs": [],
   "source": []
  },
  {
   "cell_type": "code",
   "execution_count": null,
   "id": "34077794-d754-4bde-a3a2-115fcba583de",
   "metadata": {},
   "outputs": [],
   "source": []
  },
  {
   "cell_type": "code",
   "execution_count": null,
   "id": "1d03f1ba-0d66-46ee-8d7b-b9366b607424",
   "metadata": {},
   "outputs": [],
   "source": []
  },
  {
   "cell_type": "code",
   "execution_count": null,
   "id": "8d34412e-6d66-472b-a294-81b56fed1ecd",
   "metadata": {},
   "outputs": [],
   "source": []
  },
  {
   "cell_type": "code",
   "execution_count": null,
   "id": "448ea762-c405-41d0-8e27-df0c00091af8",
   "metadata": {},
   "outputs": [],
   "source": []
  },
  {
   "cell_type": "code",
   "execution_count": null,
   "id": "700d487a-075a-41b3-8612-90c88178be9a",
   "metadata": {},
   "outputs": [],
   "source": []
  },
  {
   "cell_type": "markdown",
   "id": "extreme-commissioner",
   "metadata": {},
   "source": [
    "# Outputing sesRNA"
   ]
  },
  {
   "cell_type": "code",
   "execution_count": null,
   "id": "b1b8e880-185b-4298-9977-e397d7ad8785",
   "metadata": {},
   "outputs": [],
   "source": []
  },
  {
   "cell_type": "code",
   "execution_count": null,
   "id": "00027008-a795-48d2-a983-1a735bdb608a",
   "metadata": {},
   "outputs": [],
   "source": []
  },
  {
   "cell_type": "code",
   "execution_count": null,
   "id": "f47875ae-27ec-433f-aec4-e23bf7aca36f",
   "metadata": {
    "tags": []
   },
   "outputs": [],
   "source": []
  },
  {
   "cell_type": "code",
   "execution_count": null,
   "id": "7f8c9e2b-a4f1-4b45-91df-78cb737f5171",
   "metadata": {
    "tags": []
   },
   "outputs": [],
   "source": []
  },
  {
   "cell_type": "code",
   "execution_count": null,
   "id": "6af0e1ef-cb15-4fa0-a3f6-9b9f52d03398",
   "metadata": {
    "tags": []
   },
   "outputs": [],
   "source": [
    "testSeq = Seq('TGGGAGTAGTGGTGGTAATGA')\n",
    "testStr = str(testSeq)"
   ]
  },
  {
   "cell_type": "code",
   "execution_count": null,
   "id": "d71a086f-7e67-4bba-b570-c6b86abc6228",
   "metadata": {},
   "outputs": [],
   "source": [
    "testStr"
   ]
  },
  {
   "cell_type": "code",
   "execution_count": null,
   "id": "2e4f7175-2aef-483b-8f96-831dde95fa64",
   "metadata": {
    "tags": []
   },
   "outputs": [],
   "source": [
    "convert_DNA(testSeq, 1)"
   ]
  },
  {
   "cell_type": "code",
   "execution_count": null,
   "id": "a1acf9c1-c6fa-49e1-99f0-1f920e9aa917",
   "metadata": {},
   "outputs": [],
   "source": []
  },
  {
   "cell_type": "code",
   "execution_count": null,
   "id": "82c811c2-60bc-498b-9c9b-94ab9125b81f",
   "metadata": {},
   "outputs": [],
   "source": []
  },
  {
   "cell_type": "code",
   "execution_count": null,
   "id": "c0fb3c59-4c51-45c6-8f85-392421bd6cf9",
   "metadata": {},
   "outputs": [],
   "source": []
  },
  {
   "cell_type": "code",
   "execution_count": null,
   "id": "a1cf653e-5b1a-45eb-9eb1-35be5f21d605",
   "metadata": {
    "tags": []
   },
   "outputs": [],
   "source": [
    "# Test that all and numbering is working \n",
    "convert_DNA(testSeq, 3) == convert_DNA(testSeq, 'All')"
   ]
  },
  {
   "cell_type": "code",
   "execution_count": null,
   "id": "023548a3-3307-403b-be4e-f6ca37d91bad",
   "metadata": {
    "tags": []
   },
   "outputs": [],
   "source": [
    "convert_DNA(rC_multiExon_sesRNAs[0], 'All')"
   ]
  },
  {
   "cell_type": "code",
   "execution_count": null,
   "id": "90ae4ae5-4c10-4f54-a1c8-d126e2da8a9d",
   "metadata": {
    "tags": []
   },
   "outputs": [],
   "source": [
    "# Testing that continious reading frame being produced if number set to 0 \n",
    "len(convert_DNA(rC_multiExon_sesRNAs[0], 0).translate(to_stop = True)) == len(rC_multiExon_sesRNAs[0])/3"
   ]
  },
  {
   "cell_type": "code",
   "execution_count": null,
   "id": "4d8d7111-a889-4047-802c-602d090da378",
   "metadata": {
    "tags": []
   },
   "outputs": [],
   "source": [
    "# Checking that right number of TGG being converted \n",
    "return_inFrame(convert_DNA(rC_multiExon_sesRNAs[0], 'All').back_transcribe(), 'numTGG')"
   ]
  },
  {
   "cell_type": "code",
   "execution_count": null,
   "id": "1bae4831-23e7-408e-bc9e-9a7aebc136f6",
   "metadata": {},
   "outputs": [],
   "source": []
  },
  {
   "cell_type": "code",
   "execution_count": null,
   "id": "d40fa6fd-c67b-4253-ac72-5e8d27697653",
   "metadata": {},
   "outputs": [],
   "source": []
  },
  {
   "cell_type": "code",
   "execution_count": null,
   "id": "bcc692ef-2b86-49e5-a910-053cf06538db",
   "metadata": {
    "tags": []
   },
   "outputs": [],
   "source": [
    "convert_DNA(testSeq, 1) - (len(testSeq)/2)"
   ]
  },
  {
   "cell_type": "code",
   "execution_count": null,
   "id": "f9570a65-2d19-48da-9328-0a348cdf8b39",
   "metadata": {
    "tags": []
   },
   "outputs": [],
   "source": [
    "abs(convert_DNA(testSeq, 1) - (len(testSeq)/2))"
   ]
  },
  {
   "cell_type": "code",
   "execution_count": null,
   "id": "038c46e2-2379-483e-885b-a74aaa59c52a",
   "metadata": {
    "tags": []
   },
   "outputs": [],
   "source": [
    "np.sort(abs(convert_DNA(testSeq, 1) - (len(testSeq)/2))) + (len(testSeq)/2)"
   ]
  },
  {
   "cell_type": "code",
   "execution_count": null,
   "id": "5a05d474-d9f5-4c6e-bb0d-a04ab3df21c9",
   "metadata": {
    "tags": []
   },
   "outputs": [],
   "source": [
    "np.array(sorted(convert_DNA(testSeq, 1) - (len(testSeq)/2), key = abs)) + (len(testSeq)/2)"
   ]
  },
  {
   "cell_type": "code",
   "execution_count": null,
   "id": "7ee4c058-fcca-469f-90a3-32fd868e95c5",
   "metadata": {},
   "outputs": [],
   "source": []
  },
  {
   "cell_type": "code",
   "execution_count": null,
   "id": "54abcd1d-689a-479a-a0ec-72f227fc50ec",
   "metadata": {},
   "outputs": [],
   "source": []
  },
  {
   "cell_type": "code",
   "execution_count": null,
   "id": "31a227db-5c8c-4bdf-9e5b-e458f6e0449e",
   "metadata": {},
   "outputs": [],
   "source": []
  },
  {
   "cell_type": "code",
   "execution_count": null,
   "id": "a1a573ef-21bc-43ea-825f-40cbd31013c6",
   "metadata": {},
   "outputs": [],
   "source": []
  },
  {
   "cell_type": "code",
   "execution_count": null,
   "id": "8a03757a-e498-4b7b-9419-4466b6620944",
   "metadata": {},
   "outputs": [],
   "source": []
  },
  {
   "cell_type": "code",
   "execution_count": null,
   "id": "cfb99393-f012-4853-bdd6-f6ab77206b39",
   "metadata": {},
   "outputs": [],
   "source": []
  },
  {
   "cell_type": "code",
   "execution_count": null,
   "id": "c3fd9adf-493b-446a-a533-7b622c7bf697",
   "metadata": {
    "tags": []
   },
   "outputs": [],
   "source": [
    "# Function for saving both original template DNA sequence and the converted RNA given list of sesRNAs Seq objects\n",
    "# Could change later to make for separate output files ... have not decided yet whether to just put them together into one labeled fasta file \n",
    "def save_sesRNAs(sequences_sesRNAs, geneName, version, numConvertTGG):\n",
    "    # Generating BioPython directory if does not exist \n",
    "    pathlib.Path('Output/BioPython').mkdir(parents=True, exist_ok=True)\n",
    "    \n",
    "    # Defining save name and description for outputs (original DNA and converted RNA)\n",
    "    DNA_outputID = geneName + '_sesRNA'\n",
    "    DNA_outputDescription = \"sesRNA DNA original for \" + geneName\n",
    "    convertedRNA_outputID = geneName + '_sesRNA'\n",
    "    convertedRNA_outputDescription = \"sesRNA converted RNA for \" + geneName\n",
    "    \n",
    "    # Creating empty list for storing sequences \n",
    "    outputSeqMulti_DNA = []\n",
    "    outputSeqMulti_convertedRNA= []\n",
    "    \n",
    "    # Generating SeqRecord objects in preparation for writing FASTA files ... edited description to include number of sequence\n",
    "    i = 1\n",
    "    for sequence in sequences_sesRNAs:\n",
    "        outputSeqMulti_DNA.append(SeqRecord(sequence, id = DNA_outputID+str(i), description = DNA_outputDescription))\n",
    "        outputSeqMulti_convertedRNA.append(SeqRecord(convert_DNA(sequence, numberConvertTGG), id = convertedRNA_outputID+str(i), description = convertedRNA_outputDescription))\n",
    "        i += 1\n",
    "        \n",
    "    # Write output fasta files \n",
    "    DNA_outputName = \"Output/BioPython/\" + geneName + \"_sesRNA_\" + version + \".fasta\" \n",
    "    convertedRNA_outputName = \"Output/BioPython/\" + geneName + \"_sesRNA_convertedRNA_\" + version + \".fasta\" \n",
    "    \n",
    "    with open(outputName, \"w\") as output_handle:\n",
    "        # Writing original template DNA files \n",
    "        SeqIO.write(outputSeqMulti_DNA, output_handle, \"fasta\")\n",
    "        # Writing orginal template RNA files \n",
    "        SeqIO.write(outputSeqMulti_convertedRNA, output_handle, \"fasta\")"
   ]
  },
  {
   "cell_type": "code",
   "execution_count": null,
   "id": "b468b5c8-ff7c-487e-9e68-1e8218717ca1",
   "metadata": {},
   "outputs": [],
   "source": []
  },
  {
   "cell_type": "code",
   "execution_count": null,
   "id": "5d563e57-b0c3-44df-98d7-9c6553d80147",
   "metadata": {},
   "outputs": [],
   "source": []
  },
  {
   "cell_type": "markdown",
   "id": "58b5b203-4d30-404d-a901-d6acb1a7d5a2",
   "metadata": {},
   "source": [
    "# Not working or not being used "
   ]
  },
  {
   "cell_type": "code",
   "execution_count": null,
   "id": "efda45da-50ae-4e1a-816b-11cff6264bb0",
   "metadata": {
    "tags": []
   },
   "outputs": [],
   "source": [
    "sys.path.append(\"/usr/share/ViennaRNA\")"
   ]
  },
  {
   "cell_type": "code",
   "execution_count": null,
   "id": "12dbed80-8247-4145-8aa4-59661db25282",
   "metadata": {},
   "outputs": [],
   "source": []
  },
  {
   "cell_type": "code",
   "execution_count": null,
   "id": "cbff71cb-5a0d-4a5a-9449-ad55183a9f7c",
   "metadata": {
    "tags": []
   },
   "outputs": [],
   "source": [
    "# Leading RNAfold as RNA \n",
    "import sys\n",
    "sys.path.append(\"/usr/lib/python3.9/site-packages/RNA\")\n",
    "import _RNA as RNA"
   ]
  },
  {
   "cell_type": "code",
   "execution_count": null,
   "id": "42a1ca35-5d61-41cb-a591-9f50d6f60641",
   "metadata": {},
   "outputs": [],
   "source": [
    "import pyseqlib"
   ]
  },
  {
   "cell_type": "code",
   "execution_count": null,
   "id": "d370774a-62a0-4be0-9ba9-0f701d2826b0",
   "metadata": {},
   "outputs": [],
   "source": [
    "from pyseqlib import pyRNAfold"
   ]
  },
  {
   "cell_type": "code",
   "execution_count": null,
   "id": "43d65dc2-2ed1-4a9b-840f-88b800e652fd",
   "metadata": {},
   "outputs": [],
   "source": []
  },
  {
   "cell_type": "code",
   "execution_count": null,
   "id": "c8ea1feb-f3a0-47f7-985a-9c3efced12b9",
   "metadata": {},
   "outputs": [],
   "source": [
    "pyRNAfold i"
   ]
  },
  {
   "cell_type": "code",
   "execution_count": null,
   "id": "6e7157da-fbc5-403e-b035-7c53ee1599d6",
   "metadata": {},
   "outputs": [],
   "source": [
    "pyseqlib.fold_compound(sequence)"
   ]
  },
  {
   "cell_type": "code",
   "execution_count": null,
   "id": "5dbf73a8-500e-4269-ad5f-c4c7d4e0cf9c",
   "metadata": {},
   "outputs": [],
   "source": []
  },
  {
   "cell_type": "code",
   "execution_count": null,
   "id": "e70277c0-f44c-442e-98d2-f09149a99bdb",
   "metadata": {},
   "outputs": [],
   "source": [
    "RNA.fold_compound(sequence)"
   ]
  },
  {
   "cell_type": "code",
   "execution_count": null,
   "id": "ba5f1bdb-1a69-436c-aa5b-796cbb6253d7",
   "metadata": {},
   "outputs": [],
   "source": [
    "sys.path.append(\"/home/user1/Dropbox/Research/Neurobiology_PhD/Rotations/Huang/Projects/CellReadR/Packages/RNA\")\n",
    "import _RNA as RNA"
   ]
  },
  {
   "cell_type": "code",
   "execution_count": null,
   "id": "1f5a4e18-c65c-4719-8e2c-37c39d000939",
   "metadata": {},
   "outputs": [],
   "source": []
  },
  {
   "cell_type": "code",
   "execution_count": null,
   "id": "a2bad740-1144-4da6-9894-30c39822990a",
   "metadata": {},
   "outputs": [],
   "source": []
  },
  {
   "cell_type": "code",
   "execution_count": null,
   "id": "39b3fe1c-4a59-4c07-a19d-3d8f32c55fb4",
   "metadata": {
    "tags": []
   },
   "outputs": [],
   "source": [
    "sys.path.append(\"/home/user1/Dropbox/Research/Neurobiology_PhD/Rotations/Huang/Projects/CellReadR/Code/Functions\")\n",
    "import RNA_Fold"
   ]
  },
  {
   "cell_type": "code",
   "execution_count": null,
   "id": "5150f26a-3612-44b3-a6e6-ab594844a5a0",
   "metadata": {},
   "outputs": [],
   "source": [
    "md = RNA.md()"
   ]
  },
  {
   "cell_type": "code",
   "execution_count": null,
   "id": "8d4ce5e2-9d46-4daf-8a95-3d56da14de84",
   "metadata": {},
   "outputs": [],
   "source": [
    "import example"
   ]
  },
  {
   "cell_type": "code",
   "execution_count": null,
   "id": "92a361b3-4c02-4ece-a37b-23fcd41d9c8d",
   "metadata": {
    "tags": []
   },
   "outputs": [],
   "source": [
    "sequence = \"CGCAGGGAUACCCGCG\"\n",
    " \n",
    "# create new fold_compound object\n",
    "fc = RNA.fold_compound(sequence)\n",
    " \n",
    "# compute minimum free energy (mfe) and corresponding structure\n",
    "(ss, mfe) = fc.mfe()\n",
    " "
   ]
  },
  {
   "cell_type": "code",
   "execution_count": null,
   "id": "ec84efc7-c0e9-4687-b6d0-64252c206805",
   "metadata": {},
   "outputs": [],
   "source": []
  },
  {
   "cell_type": "code",
   "execution_count": null,
   "id": "c3c2c214-6be3-4084-9f68-1620dcaac196",
   "metadata": {},
   "outputs": [],
   "source": []
  },
  {
   "cell_type": "code",
   "execution_count": null,
   "id": "215b7384-fe9e-47d7-90a1-69b70ac88674",
   "metadata": {},
   "outputs": [],
   "source": []
  },
  {
   "cell_type": "code",
   "execution_count": null,
   "id": "dec0e796-a5f9-48f3-a745-93d3ecf84fbc",
   "metadata": {
    "tags": []
   },
   "outputs": [],
   "source": [
    "# The RNA sequence\n",
    "seq = \"GAGUAGUGGAACCAGGCUAUGUUUGUGACUCGCAGACUAACA\"\n",
    " \n",
    "# compute minimum free energy (MFE) and corresponding structure\n",
    "(ss, mfe) = RNA.fold(seq)"
   ]
  },
  {
   "cell_type": "code",
   "execution_count": null,
   "id": "8b3d57f5-0912-4573-bab8-7d8e4c57305c",
   "metadata": {},
   "outputs": [],
   "source": [
    "import pickle "
   ]
  },
  {
   "cell_type": "code",
   "execution_count": null,
   "id": "4d5f1883-20cf-4fbd-aaaa-111a84e39322",
   "metadata": {},
   "outputs": [],
   "source": [
    "mfe"
   ]
  },
  {
   "cell_type": "code",
   "execution_count": null,
   "id": "865753f3-945c-402e-a1fc-f6627073c7eb",
   "metadata": {},
   "outputs": [],
   "source": []
  },
  {
   "cell_type": "code",
   "execution_count": null,
   "id": "c6859c6a-b13c-46f1-a7fa-37581dedd0ef",
   "metadata": {},
   "outputs": [],
   "source": []
  },
  {
   "cell_type": "code",
   "execution_count": null,
   "id": "008151d9-60c5-4bb2-80e3-a4a834752f59",
   "metadata": {
    "tags": []
   },
   "outputs": [],
   "source": [
    "pathOuput = \"/home/user1/Dropbox/Research/Neurobiology_PhD/Rotations/Huang/Projects/CellReadR/Code/Functions/seqObject.p\"\n",
    "pickle.dump(testSeq, open(pathOuput, 'wb'))"
   ]
  },
  {
   "cell_type": "code",
   "execution_count": null,
   "id": "d5626803-11f0-4c60-a8dc-0614fcd69ddb",
   "metadata": {
    "tags": []
   },
   "outputs": [],
   "source": [
    "# Running script for getting probabilities from RNAfold output file (added to ArchBin btw)\n",
    "pathFuncPython = '/home/user1/Dropbox/Research/Neurobiology_PhD/Rotations/Huang/Projects/CellReadR/Code/Functions/'\n",
    "# command = 'python ' + '/home/user1/Dropbox/Research/Neurobiology_PhD/Rotations/Huang/Projects/CellReadR/Code/Functions/RNA_Fold.py'\n",
    "# command = 'cd ' + pathFuncPython + ' | ./RNA_Fold.py'\n",
    "# command = 'cd ' + pathFuncPython + ' | ls -a'\n",
    "\n",
    "command = 'ls -a'\n",
    "readProb = subprocess.Popen(command, shell=True, stdout=subprocess.PIPE)\n",
    "returnedProb = readProb.stdout.read()"
   ]
  },
  {
   "cell_type": "code",
   "execution_count": null,
   "id": "4d15723e-205c-46be-8774-a7832f07c16b",
   "metadata": {
    "tags": []
   },
   "outputs": [],
   "source": [
    "returnedProb"
   ]
  },
  {
   "cell_type": "code",
   "execution_count": null,
   "id": "369e3b34-90bb-4ffe-94bd-3536fff04a43",
   "metadata": {},
   "outputs": [],
   "source": [
    "command "
   ]
  },
  {
   "cell_type": "code",
   "execution_count": null,
   "id": "702f0340-65cf-4f6a-9370-0fea5c4142f8",
   "metadata": {},
   "outputs": [],
   "source": []
  },
  {
   "cell_type": "code",
   "execution_count": null,
   "id": "b7f49c08-c085-4780-9d9d-9876f86f86a6",
   "metadata": {},
   "outputs": [],
   "source": []
  },
  {
   "cell_type": "code",
   "execution_count": null,
   "id": "df9776d2-32d8-42ed-ae78-11a152e464f4",
   "metadata": {},
   "outputs": [],
   "source": [
    "str(rC_multiExon_sesRNAs[0])"
   ]
  },
  {
   "cell_type": "code",
   "execution_count": null,
   "id": "085834fe-d3bf-441f-a3e3-cd2957cbde27",
   "metadata": {
    "tags": []
   },
   "outputs": [],
   "source": [
    "testSeq = str(rC_multiExon_sesRNAs[0])\n",
    "testSeq"
   ]
  },
  {
   "cell_type": "code",
   "execution_count": null,
   "id": "23f116db-7ee8-42bb-b693-180e054adf50",
   "metadata": {
    "tags": []
   },
   "outputs": [],
   "source": [
    "RNA.fold(testSeq)"
   ]
  },
  {
   "cell_type": "code",
   "execution_count": null,
   "id": "17244f24-5962-4204-be1e-6ccb6114bea8",
   "metadata": {},
   "outputs": [],
   "source": []
  },
  {
   "cell_type": "code",
   "execution_count": null,
   "id": "bb28caef-065f-414b-8e52-a6c58268b3ef",
   "metadata": {
    "tags": []
   },
   "outputs": [],
   "source": [
    "def compute_mfeFreq(sequence):\n",
    "    # create a fold_compound object for the current sequence\n",
    "    fc = RNA.fold_compound(sequence)\n",
    "\n",
    "    # compute the MFE and corresponding structure\n",
    "    (mfe_struct, mfe) = fc.mfe()\n",
    "\n",
    "\n",
    "    # compute partition function\n",
    "    (bp_propensity, dG) = fc.pf()\n",
    "\n",
    "    # compute frequency of MFE structure (the 'hard' way)\n",
    "    kT = RNA.exp_param().kT / 1000.\n",
    "\n",
    "    prob_mfe = math.exp((dG - mfe) / kT)\n",
    "    \n",
    "    return prob_mfe"
   ]
  },
  {
   "cell_type": "code",
   "execution_count": null,
   "id": "19aa6422-1553-48df-a937-09b3c8573bff",
   "metadata": {},
   "outputs": [],
   "source": []
  },
  {
   "cell_type": "code",
   "execution_count": null,
   "id": "d0340ab0-6477-4743-ad7e-dc3c490111ca",
   "metadata": {},
   "outputs": [],
   "source": []
  },
  {
   "cell_type": "code",
   "execution_count": null,
   "id": "damaged-pressure",
   "metadata": {},
   "outputs": [],
   "source": [
    "rC_multi_startSeq"
   ]
  },
  {
   "cell_type": "code",
   "execution_count": null,
   "id": "charged-congress",
   "metadata": {
    "tags": []
   },
   "outputs": [],
   "source": [
    "rC_multiExon_sesRNAs"
   ]
  },
  {
   "cell_type": "code",
   "execution_count": null,
   "id": "elementary-jersey",
   "metadata": {
    "tags": []
   },
   "outputs": [],
   "source": [
    "str(rC_multiExon_sesRNAs[8])"
   ]
  },
  {
   "cell_type": "code",
   "execution_count": null,
   "id": "mediterranean-savage",
   "metadata": {
    "tags": []
   },
   "outputs": [],
   "source": [
    "str(rC_multiExon_sesRNAs[18])"
   ]
  },
  {
   "cell_type": "code",
   "execution_count": null,
   "id": "interracial-bottom",
   "metadata": {},
   "outputs": [],
   "source": []
  },
  {
   "cell_type": "code",
   "execution_count": null,
   "id": "solar-patrick",
   "metadata": {},
   "outputs": [],
   "source": [
    "from seqfold import dg, dg_cache, fold"
   ]
  },
  {
   "cell_type": "code",
   "execution_count": null,
   "id": "acknowledged-director",
   "metadata": {
    "tags": []
   },
   "outputs": [],
   "source": [
    "# just returns minimum free energy\n",
    "dg(\"GGGAGGTCGTTACATCTGGGTAACACCGGTACTGATCCGGTGACCTCCC\", temp = 37.0)  # -12.94"
   ]
  },
  {
   "cell_type": "code",
   "execution_count": null,
   "id": "9d425009-33b2-446f-9faf-7895b89e4951",
   "metadata": {},
   "outputs": [],
   "source": []
  },
  {
   "cell_type": "code",
   "execution_count": null,
   "id": "3f0c25cd-144f-44f8-8237-3a30feca85c9",
   "metadata": {},
   "outputs": [],
   "source": []
  },
  {
   "cell_type": "markdown",
   "id": "2448a30b-85ac-49df-b0a4-77266bef87c0",
   "metadata": {},
   "source": [
    "# Test Intarna (test strength of binding, off-target, ...)  "
   ]
  },
  {
   "cell_type": "code",
   "execution_count": null,
   "id": "71a7a71b-636d-4306-9293-928340bd2c84",
   "metadata": {
    "tags": []
   },
   "outputs": [],
   "source": [
    "import intarnapvalue"
   ]
  },
  {
   "cell_type": "code",
   "execution_count": null,
   "id": "a3b8a086-570c-4ce2-b379-2d6fa514e5f1",
   "metadata": {
    "tags": []
   },
   "outputs": [],
   "source": [
    "testSeq = str(rC_multiExon_sesRNAs[0])\n",
    "testSeq"
   ]
  },
  {
   "cell_type": "code",
   "execution_count": null,
   "id": "2d965c68-7f64-4f5b-894a-9194e0767a16",
   "metadata": {
    "tags": []
   },
   "outputs": [],
   "source": [
    "target = str(CDS[0].seq)\n",
    "target "
   ]
  },
  {
   "cell_type": "code",
   "execution_count": null,
   "id": "9592a4f3-8751-4f2a-ba84-49d73a47e1f0",
   "metadata": {
    "tags": []
   },
   "outputs": [],
   "source": [
    "from intarnapvalue.intarna_pvalue import IntaRNApvalue"
   ]
  },
  {
   "cell_type": "code",
   "execution_count": null,
   "id": "06385d0f-6d8a-4731-8519-8acde1f45040",
   "metadata": {
    "tags": []
   },
   "outputs": [],
   "source": [
    "?IntaRNApvalue"
   ]
  },
  {
   "cell_type": "code",
   "execution_count": null,
   "id": "bbfe4d76-3fcf-4826-b93c-00a9f21ee2fb",
   "metadata": {
    "tags": []
   },
   "outputs": [],
   "source": [
    "?intarna_pvalue"
   ]
  },
  {
   "cell_type": "code",
   "execution_count": null,
   "id": "eb0ff577-4f6c-4163-a826-371709f260ec",
   "metadata": {
    "tags": []
   },
   "outputs": [],
   "source": [
    "IntaRNApvalue(['--query', testSeq, '--target', target])"
   ]
  },
  {
   "cell_type": "code",
   "execution_count": null,
   "id": "44b6edfa-0076-48fe-ae39-cbc2d58ce978",
   "metadata": {
    "tags": []
   },
   "outputs": [],
   "source": [
    "IntaRNApvalue['-q', 'AGGAUG', '-t', 'UUUAUCGUU', '-s', '10', '-m', 'b', '-d', 'gauss', '--threads', '3']"
   ]
  },
  {
   "cell_type": "code",
   "execution_count": null,
   "id": "67996c75-f119-4851-9a4e-a1cf44a63620",
   "metadata": {
    "tags": []
   },
   "outputs": [],
   "source": [
    "command = 'python -m intarnapvalue --query GCUGAAAAACAUAACCCAUAAAAUGCUAGCUGUACCAGGAACCA --target GGUUUCUUCGCCUCUGCGUUCACCAAAGUGUUCACCC -s 10 --shuffle-mode b --threads 0' "
   ]
  },
  {
   "cell_type": "code",
   "execution_count": null,
   "id": "97ebce19-6fcf-442c-ab8f-d80538378416",
   "metadata": {
    "tags": []
   },
   "outputs": [],
   "source": [
    "readProb = subprocess.Popen(command, shell=True, stdout=subprocess.PIPE)\n",
    "readProb.wait()\n",
    "returnedProb = readProb.stdout.read()\n",
    "returnedProb"
   ]
  },
  {
   "cell_type": "code",
   "execution_count": null,
   "id": "6c5a3cac-bc79-4845-983d-dc0fbcf7191a",
   "metadata": {},
   "outputs": [],
   "source": []
  },
  {
   "cell_type": "code",
   "execution_count": null,
   "id": "1da5e107-afe0-4713-bbed-089bd27f569f",
   "metadata": {},
   "outputs": [],
   "source": []
  },
  {
   "cell_type": "code",
   "execution_count": null,
   "id": "18522fa3-de4b-43f5-963d-7d507e5f365a",
   "metadata": {},
   "outputs": [],
   "source": []
  },
  {
   "cell_type": "code",
   "execution_count": null,
   "id": "be4dc3b2-5726-43d9-bbd8-9f908f0e0f64",
   "metadata": {},
   "outputs": [],
   "source": []
  },
  {
   "cell_type": "code",
   "execution_count": null,
   "id": "82638ba5-6f97-47f0-a0e3-69e71588f4c1",
   "metadata": {},
   "outputs": [],
   "source": []
  },
  {
   "cell_type": "code",
   "execution_count": null,
   "id": "68a44ad1-c37c-4c60-8d2a-51bfc136c87d",
   "metadata": {},
   "outputs": [],
   "source": []
  },
  {
   "cell_type": "code",
   "execution_count": null,
   "id": "a104a3b7-dba6-4031-9eca-69fd3cdab621",
   "metadata": {},
   "outputs": [],
   "source": []
  },
  {
   "cell_type": "code",
   "execution_count": null,
   "id": "844c4bef-bdb0-4cef-9bd2-6571e58a2b55",
   "metadata": {},
   "outputs": [],
   "source": []
  },
  {
   "cell_type": "code",
   "execution_count": null,
   "id": "85632729-fee0-4df2-b4bf-cf5d6acdedb5",
   "metadata": {
    "tags": []
   },
   "outputs": [],
   "source": [
    "# Running script for getting probabilities from RNAfold output file (added to ArchBin btw)\n",
    "readProb = subprocess.Popen(command, shell=True, stdout=subprocess.PIPE)\n",
    "returnedProb = readProb.stdout.read()\n",
    "# Waiting for last command to finish before storing value in temp.out file \n",
    "readProb.wait()"
   ]
  },
  {
   "cell_type": "code",
   "execution_count": null,
   "id": "4538e5f3-b566-4e9e-acf8-1a4df404d0ca",
   "metadata": {
    "tags": []
   },
   "outputs": [],
   "source": [
    "pd.read_csv('/home/user1/Dropbox/Research/Neurobiology_PhD/Rotations/Huang/Projects/CellReadR/Code/Functions/output.csv', sep = ';')"
   ]
  },
  {
   "cell_type": "code",
   "execution_count": null,
   "id": "a193e3d7-6c52-4fcf-8aa6-e44ba3ef53e0",
   "metadata": {
    "tags": []
   },
   "outputs": [],
   "source": [
    "pd.read_csv('/home/user1/Dropbox/Research/Neurobiology_PhD/Rotations/Huang/Projects/CellReadR/Code/Functions/output.csv', sep = ';')"
   ]
  },
  {
   "cell_type": "code",
   "execution_count": null,
   "id": "106bc078-bf3f-4d97-bf36-fcfc8f088901",
   "metadata": {
    "tags": []
   },
   "outputs": [],
   "source": [
    "pd.read_csv('/home/user1/Dropbox/Research/Neurobiology_PhD/Rotations/Huang/Projects/CellReadR/Code/Functions/output.csv', sep = ';')"
   ]
  },
  {
   "cell_type": "code",
   "execution_count": null,
   "id": "eece9f23-3c40-4314-a2b2-16c5b6a77f50",
   "metadata": {},
   "outputs": [],
   "source": []
  },
  {
   "cell_type": "code",
   "execution_count": null,
   "id": "35b27c3d-22e7-4526-9dd7-6a92a57bf560",
   "metadata": {},
   "outputs": [],
   "source": []
  },
  {
   "cell_type": "code",
   "execution_count": null,
   "id": "2f33582c-ca5c-4be6-87f0-1345516f727f",
   "metadata": {},
   "outputs": [],
   "source": []
  },
  {
   "cell_type": "code",
   "execution_count": null,
   "id": "85955b3f-038e-40c2-9cb7-691bacac3f67",
   "metadata": {},
   "outputs": [],
   "source": []
  },
  {
   "cell_type": "code",
   "execution_count": null,
   "id": "9730cf60-da21-42ef-ae6f-1ba1624bc0d9",
   "metadata": {
    "tags": []
   },
   "outputs": [],
   "source": [
    "# Trying to load entire transcripome ... obviously failed ... \n",
    "allRat_fileName = '/home/user1/Dropbox/Research/Neurobiology_PhD/Rotations/Huang/Projects/CellReadR/Data/Sequences/Reference/Ensembl/All/Rattus_norvegicus.Rnor_6.0.cdna.all.fa'\n",
    "allRat = list(SeqIO.parse(allRat_fileName, \"fasta\"))"
   ]
  },
  {
   "cell_type": "code",
   "execution_count": null,
   "id": "a3a4bdd4-fc6c-42fe-902b-78babec7a547",
   "metadata": {},
   "outputs": [],
   "source": []
  },
  {
   "cell_type": "code",
   "execution_count": null,
   "id": "ecc21e03-8038-4ebc-afb1-92fd70b50ff5",
   "metadata": {},
   "outputs": [],
   "source": []
  },
  {
   "cell_type": "code",
   "execution_count": null,
   "id": "a6f7c3fc-5d93-46a1-841d-37abfd8a1af2",
   "metadata": {},
   "outputs": [],
   "source": []
  },
  {
   "cell_type": "code",
   "execution_count": null,
   "id": "af8382d1-bbfb-4787-9e9a-93a321f635de",
   "metadata": {},
   "outputs": [],
   "source": []
  },
  {
   "cell_type": "code",
   "execution_count": null,
   "id": "54749854-f897-466a-a4b2-3d351598d34f",
   "metadata": {},
   "outputs": [],
   "source": []
  },
  {
   "cell_type": "code",
   "execution_count": null,
   "id": "042fb2ef-5cc4-4134-ac95-b6be29b6a702",
   "metadata": {},
   "outputs": [],
   "source": [
    "python -m intarnapvalue --query GCUGAAAAACAUAACCCAUAAAAUGCUAGCUGUACCAGGAACCA --target GGUUUCUUCGCCUCUGCGUUCACCAAAGUGUUCACCC --scores 10000 --shuffle-mode b --threads 0"
   ]
  },
  {
   "cell_type": "code",
   "execution_count": null,
   "id": "6f66470e-8de1-4e89-b4ca-0183f7a4bc5a",
   "metadata": {},
   "outputs": [],
   "source": [
    "intarnapvalue --query GCUGAAAAACAUAACCCAUAAAAUGCUAGCUGUACCAGGAACCA --target GGUUUCUUCGCCUCUGCGUUCACCAAAGUGUUCACCC --scores 10000 --shuffle-mode b --threads 0"
   ]
  },
  {
   "cell_type": "code",
   "execution_count": null,
   "id": "2a5b397c-e523-4551-9e1e-b8e10df7e6de",
   "metadata": {},
   "outputs": [],
   "source": []
  },
  {
   "cell_type": "code",
   "execution_count": null,
   "id": "015609d6-742c-40d2-821b-1a5049e2550c",
   "metadata": {},
   "outputs": [],
   "source": []
  },
  {
   "cell_type": "markdown",
   "id": "approved-notion",
   "metadata": {},
   "source": [
    "# Misc"
   ]
  },
  {
   "cell_type": "code",
   "execution_count": null,
   "id": "italian-front",
   "metadata": {
    "tags": []
   },
   "outputs": [],
   "source": [
    "# For returning index of findings \n",
    "searchCodon = 'TAG'\n",
    "[m.start() for m in re.finditer(searchCodon, str(seq))]"
   ]
  },
  {
   "cell_type": "code",
   "execution_count": null,
   "id": "elder-buddy",
   "metadata": {
    "tags": []
   },
   "outputs": [],
   "source": [
    "testSeq = sesRNAs[0]\n",
    "testSeq"
   ]
  },
  {
   "cell_type": "code",
   "execution_count": null,
   "id": "powered-action",
   "metadata": {
    "tags": []
   },
   "outputs": [],
   "source": [
    "lastATG = [m.start() for m in re.finditer('ATG', str(testSeq))][-1]\n",
    "lastTGG = [m.start() for m in re.finditer('TGG', str(testSeq))][-1]"
   ]
  },
  {
   "cell_type": "code",
   "execution_count": null,
   "id": "wooden-standard",
   "metadata": {
    "tags": []
   },
   "outputs": [],
   "source": [
    "lastTGG"
   ]
  },
  {
   "cell_type": "code",
   "execution_count": null,
   "id": "proud-insured",
   "metadata": {
    "tags": []
   },
   "outputs": [],
   "source": [
    "lastATG"
   ]
  },
  {
   "cell_type": "code",
   "execution_count": null,
   "id": "alive-japan",
   "metadata": {},
   "outputs": [],
   "source": [
    "lastATG < lastTGG"
   ]
  },
  {
   "cell_type": "code",
   "execution_count": null,
   "id": "gentle-spelling",
   "metadata": {
    "tags": []
   },
   "outputs": [],
   "source": [
    "searchCodon = 'ATG'\n",
    "[m.start() for m in re.finditer(searchCodon, str(testSeq))][-1]"
   ]
  },
  {
   "cell_type": "code",
   "execution_count": null,
   "id": "otherwise-series",
   "metadata": {
    "tags": []
   },
   "outputs": [],
   "source": [
    "seq.count('TAG') < 4"
   ]
  },
  {
   "cell_type": "code",
   "execution_count": null,
   "id": "suspected-hollywood",
   "metadata": {
    "tags": []
   },
   "outputs": [],
   "source": [
    "seq[0:100].count('TAG')"
   ]
  },
  {
   "cell_type": "code",
   "execution_count": null,
   "id": "manufactured-luxembourg",
   "metadata": {},
   "outputs": [],
   "source": []
  },
  {
   "cell_type": "code",
   "execution_count": null,
   "id": "cubic-orientation",
   "metadata": {},
   "outputs": [],
   "source": [
    "stopCodons = ['TAG', 'TAA', 'TGA']\n",
    "stopCodons "
   ]
  },
  {
   "cell_type": "code",
   "execution_count": null,
   "id": "about-theater",
   "metadata": {},
   "outputs": [],
   "source": [
    "indiciesTGG"
   ]
  },
  {
   "cell_type": "code",
   "execution_count": null,
   "id": "aquatic-ancient",
   "metadata": {
    "tags": []
   },
   "outputs": [],
   "source": [
    "indiciesStop"
   ]
  },
  {
   "cell_type": "code",
   "execution_count": null,
   "id": "through-combat",
   "metadata": {
    "tags": []
   },
   "outputs": [],
   "source": [
    "length = 200 \n",
    "center = length/2"
   ]
  },
  {
   "cell_type": "code",
   "execution_count": null,
   "id": "authorized-piece",
   "metadata": {
    "tags": []
   },
   "outputs": [],
   "source": [
    "arrayStop = np.array(indiciesStop)\n",
    "arrayIndicies = np.array(indiciesTGG) \n",
    "centralTGGs = arrayIndicies[abs(arrayIndicies - center) < 10]"
   ]
  },
  {
   "cell_type": "code",
   "execution_count": null,
   "id": "verbal-alabama",
   "metadata": {
    "tags": []
   },
   "outputs": [],
   "source": [
    "centralTGGs"
   ]
  },
  {
   "cell_type": "code",
   "execution_count": null,
   "id": "devoted-superior",
   "metadata": {
    "tags": []
   },
   "outputs": [],
   "source": [
    "np.in1d(centralTGGs,arrayStop)"
   ]
  },
  {
   "cell_type": "code",
   "execution_count": null,
   "id": "soviet-methodology",
   "metadata": {
    "tags": []
   },
   "outputs": [],
   "source": [
    "# Check if array contains values that are within range of values in another array \n",
    "any((min(abs(arrayStop - i)) > 10) for i in centralTGGs)"
   ]
  },
  {
   "cell_type": "code",
   "execution_count": null,
   "id": "pregnant-backing",
   "metadata": {},
   "outputs": [],
   "source": [
    "centralTGGs"
   ]
  },
  {
   "cell_type": "code",
   "execution_count": null,
   "id": "recreational-reward",
   "metadata": {
    "tags": []
   },
   "outputs": [],
   "source": [
    "indiciesStop"
   ]
  },
  {
   "cell_type": "code",
   "execution_count": null,
   "id": "equivalent-puppy",
   "metadata": {},
   "outputs": [],
   "source": [
    "testStop = [90, 16, 174]"
   ]
  },
  {
   "cell_type": "code",
   "execution_count": null,
   "id": "suspected-rates",
   "metadata": {},
   "outputs": [],
   "source": []
  },
  {
   "cell_type": "code",
   "execution_count": null,
   "id": "interested-cameroon",
   "metadata": {},
   "outputs": [],
   "source": []
  },
  {
   "cell_type": "code",
   "execution_count": null,
   "id": "progressive-producer",
   "metadata": {
    "tags": []
   },
   "outputs": [],
   "source": [
    "(min(abs(arrayStop - centralTGGs[0])) > 10)"
   ]
  },
  {
   "cell_type": "code",
   "execution_count": null,
   "id": "frank-hepatitis",
   "metadata": {
    "tags": []
   },
   "outputs": [],
   "source": [
    "min(abs(arrayStop - centralTGGs[0])) > 10"
   ]
  },
  {
   "cell_type": "code",
   "execution_count": null,
   "id": "muslim-version",
   "metadata": {},
   "outputs": [],
   "source": []
  },
  {
   "cell_type": "code",
   "execution_count": null,
   "id": "complicated-southeast",
   "metadata": {
    "tags": []
   },
   "outputs": [],
   "source": [
    "centeralTGGs = offset.min()\n",
    "centeralTGGs"
   ]
  },
  {
   "cell_type": "code",
   "execution_count": null,
   "id": "fantastic-intellectual",
   "metadata": {},
   "outputs": [],
   "source": [
    "centralTGGs = np.all(offset == offset.min())\n",
    "centralTGGs"
   ]
  },
  {
   "cell_type": "code",
   "execution_count": null,
   "id": "advisory-survey",
   "metadata": {
    "tags": []
   },
   "outputs": [],
   "source": [
    "centeralTGGs = np.where(offset == offset.min())\n",
    "centeralTGG"
   ]
  },
  {
   "cell_type": "code",
   "execution_count": null,
   "id": "mounted-appraisal",
   "metadata": {
    "tags": []
   },
   "outputs": [],
   "source": [
    "offset = abs(arrayIndicies - center) \n",
    "centerTGG = indiciesTGG[np.argmin(offset)]"
   ]
  },
  {
   "cell_type": "code",
   "execution_count": null,
   "id": "hazardous-office",
   "metadata": {
    "tags": []
   },
   "outputs": [],
   "source": [
    "any(abs(x - centerTGG) < 10 for x in indiciesStop)"
   ]
  },
  {
   "cell_type": "code",
   "execution_count": null,
   "id": "narrative-midnight",
   "metadata": {},
   "outputs": [],
   "source": []
  },
  {
   "cell_type": "code",
   "execution_count": null,
   "id": "political-positive",
   "metadata": {
    "tags": []
   },
   "outputs": [],
   "source": [
    "indiciesStop = []\n",
    "for codons in stopCodons:\n",
    "    indiciesStop.extend([m.start() for m in re.finditer(codons, str(testSeq))])"
   ]
  },
  {
   "cell_type": "code",
   "execution_count": null,
   "id": "intended-rotation",
   "metadata": {
    "tags": []
   },
   "outputs": [],
   "source": [
    "len(indiciesStop)"
   ]
  },
  {
   "cell_type": "code",
   "execution_count": null,
   "id": "computational-incidence",
   "metadata": {
    "tags": []
   },
   "outputs": [],
   "source": [
    "[m.start() for m in re.finditer('TGA', str(testSeq))]"
   ]
  },
  {
   "cell_type": "code",
   "execution_count": null,
   "id": "adjustable-appointment",
   "metadata": {
    "tags": []
   },
   "outputs": [],
   "source": [
    "[m.start() for m in re.finditer('TAA', str(testSeq))]"
   ]
  },
  {
   "cell_type": "code",
   "execution_count": null,
   "id": "nervous-retention",
   "metadata": {},
   "outputs": [],
   "source": [
    "[m.start() for m in re.finditer('TAG', str(testSeq))]"
   ]
  },
  {
   "cell_type": "code",
   "execution_count": null,
   "id": "circular-letter",
   "metadata": {
    "tags": []
   },
   "outputs": [],
   "source": [
    "testSeq.count(stopCodons)"
   ]
  },
  {
   "cell_type": "code",
   "execution_count": null,
   "id": "standing-gregory",
   "metadata": {},
   "outputs": [],
   "source": [
    "indiciesTGG"
   ]
  },
  {
   "cell_type": "code",
   "execution_count": null,
   "id": "forbidden-money",
   "metadata": {
    "tags": []
   },
   "outputs": [],
   "source": [
    "len(indiciesTGG)"
   ]
  },
  {
   "cell_type": "code",
   "execution_count": null,
   "id": "equal-shame",
   "metadata": {},
   "outputs": [],
   "source": []
  },
  {
   "cell_type": "code",
   "execution_count": null,
   "id": "hydraulic-security",
   "metadata": {},
   "outputs": [],
   "source": []
  },
  {
   "cell_type": "code",
   "execution_count": null,
   "id": "sorted-sleep",
   "metadata": {
    "tags": []
   },
   "outputs": [],
   "source": [
    "testSeq = sesRNAs[0]"
   ]
  },
  {
   "cell_type": "code",
   "execution_count": null,
   "id": "continuous-comparative",
   "metadata": {
    "tags": []
   },
   "outputs": [],
   "source": [
    "lastTGG = [m.start() for m in re.finditer('TGG', str(testSeq))][-1]"
   ]
  },
  {
   "cell_type": "code",
   "execution_count": null,
   "id": "challenging-hopkins",
   "metadata": {},
   "outputs": [],
   "source": [
    "testSeq"
   ]
  },
  {
   "cell_type": "code",
   "execution_count": null,
   "id": "completed-grenada",
   "metadata": {
    "tags": []
   },
   "outputs": [],
   "source": [
    "indiciesTGG = [m.start() for m in re.finditer('TGG', str(testSeq))]"
   ]
  },
  {
   "cell_type": "code",
   "execution_count": null,
   "id": "adjusted-trustee",
   "metadata": {
    "tags": []
   },
   "outputs": [],
   "source": [
    "start = 0 \n",
    "stop = 200"
   ]
  },
  {
   "cell_type": "code",
   "execution_count": null,
   "id": "capable-complement",
   "metadata": {
    "tags": []
   },
   "outputs": [],
   "source": [
    "middle = (start + stop) / 2"
   ]
  },
  {
   "cell_type": "code",
   "execution_count": null,
   "id": "olympic-present",
   "metadata": {
    "tags": []
   },
   "outputs": [],
   "source": [
    "abs(middle - indiciesTGG[0])"
   ]
  },
  {
   "cell_type": "code",
   "execution_count": null,
   "id": "champion-eleven",
   "metadata": {},
   "outputs": [],
   "source": [
    "type(indiciesTGG)"
   ]
  },
  {
   "cell_type": "code",
   "execution_count": null,
   "id": "spectacular-touch",
   "metadata": {},
   "outputs": [],
   "source": [
    "indiciesTGG"
   ]
  },
  {
   "cell_type": "code",
   "execution_count": null,
   "id": "cooked-music",
   "metadata": {},
   "outputs": [],
   "source": [
    "any(indiciesTGG) > 2"
   ]
  },
  {
   "cell_type": "code",
   "execution_count": null,
   "id": "appropriate-ministry",
   "metadata": {},
   "outputs": [],
   "source": [
    "length = 200 "
   ]
  },
  {
   "cell_type": "code",
   "execution_count": null,
   "id": "ruled-times",
   "metadata": {
    "tags": []
   },
   "outputs": [],
   "source": [
    "any(abs(x - (length/2)) < 20 for x in indiciesTGG)"
   ]
  },
  {
   "cell_type": "code",
   "execution_count": null,
   "id": "developing-origin",
   "metadata": {
    "tags": []
   },
   "outputs": [],
   "source": [
    "testList = [50, 60, 170, 200]"
   ]
  },
  {
   "cell_type": "code",
   "execution_count": null,
   "id": "accomplished-recording",
   "metadata": {
    "tags": []
   },
   "outputs": [],
   "source": [
    "any(abs(x - (length/2)) < 10 for x in testList)"
   ]
  },
  {
   "cell_type": "code",
   "execution_count": null,
   "id": "killing-fetish",
   "metadata": {},
   "outputs": [],
   "source": []
  },
  {
   "cell_type": "code",
   "execution_count": null,
   "id": "concrete-mississippi",
   "metadata": {},
   "outputs": [],
   "source": [
    "testSeq"
   ]
  },
  {
   "cell_type": "code",
   "execution_count": null,
   "id": "comfortable-green",
   "metadata": {
    "tags": []
   },
   "outputs": [],
   "source": [
    "os.path.isdir('Output/BioPython')"
   ]
  },
  {
   "cell_type": "code",
   "execution_count": null,
   "id": "selective-quality",
   "metadata": {
    "tags": []
   },
   "outputs": [],
   "source": []
  },
  {
   "cell_type": "code",
   "execution_count": null,
   "id": "fewer-strain",
   "metadata": {},
   "outputs": [],
   "source": [
    "outputFileName = os.getcwd() + ''"
   ]
  },
  {
   "cell_type": "code",
   "execution_count": null,
   "id": "facial-sodium",
   "metadata": {},
   "outputs": [],
   "source": [
    "testSeq"
   ]
  },
  {
   "cell_type": "code",
   "execution_count": null,
   "id": "624fb6a0-4572-4319-b60d-573b7ab225f1",
   "metadata": {},
   "outputs": [],
   "source": []
  },
  {
   "cell_type": "code",
   "execution_count": null,
   "id": "b7dca5f2-075c-4bf9-9f86-7defe8042a17",
   "metadata": {},
   "outputs": [],
   "source": []
  },
  {
   "cell_type": "code",
   "execution_count": null,
   "id": "6eded10b-badd-4eb0-b3b8-49fb236d067b",
   "metadata": {},
   "outputs": [],
   "source": []
  },
  {
   "cell_type": "code",
   "execution_count": null,
   "id": "af561b1c-991a-4d98-af4c-15606fbcdee3",
   "metadata": {},
   "outputs": [],
   "source": []
  },
  {
   "cell_type": "code",
   "execution_count": null,
   "id": "a5e327bb-c221-4578-b0a0-7dfac34c1625",
   "metadata": {},
   "outputs": [],
   "source": []
  },
  {
   "cell_type": "code",
   "execution_count": null,
   "id": "ce80dfd1-76b4-412b-ae5f-109174384a95",
   "metadata": {},
   "outputs": [],
   "source": []
  },
  {
   "cell_type": "code",
   "execution_count": null,
   "id": "violent-toolbox",
   "metadata": {},
   "outputs": [],
   "source": []
  },
  {
   "cell_type": "code",
   "execution_count": null,
   "id": "2ff254b6-8d79-4c8a-8302-8fbb0503e88e",
   "metadata": {},
   "outputs": [],
   "source": []
  }
 ],
 "metadata": {
  "kernelspec": {
   "display_name": "huang_CellReadR",
   "language": "python",
   "name": "huang_cellreadr"
  },
  "language_info": {
   "codemirror_mode": {
    "name": "ipython",
    "version": 3
   },
   "file_extension": ".py",
   "mimetype": "text/x-python",
   "name": "python",
   "nbconvert_exporter": "python",
   "pygments_lexer": "ipython3",
   "version": "3.9.1"
  },
  "toc-showtags": false
 },
 "nbformat": 4,
 "nbformat_minor": 5
}
