{
 "cells": [
  {
   "cell_type": "code",
   "execution_count": 1,
   "id": "e2911613-2253-4ccc-aaec-17dfc66a8091",
   "metadata": {
    "execution": {
     "iopub.execute_input": "2021-05-22T08:55:28.758931Z",
     "iopub.status.busy": "2021-05-22T08:55:28.758669Z",
     "iopub.status.idle": "2021-05-22T08:55:29.198065Z",
     "shell.execute_reply": "2021-05-22T08:55:29.197535Z",
     "shell.execute_reply.started": "2021-05-22T08:55:28.758864Z"
    },
    "tags": []
   },
   "outputs": [],
   "source": [
    "import sys\n",
    "# Importing module of personal functions \n",
    "sys.path.append('/home/user1/Dropbox/Research/Neurobiology_PhD/Rotations/Huang/Projects/CellReadR/Code')\n",
    "from kCellReadR import * "
   ]
  },
  {
   "cell_type": "code",
   "execution_count": 2,
   "id": "168178f7-8995-41ba-8096-f35f52d68664",
   "metadata": {
    "execution": {
     "iopub.execute_input": "2021-05-22T08:55:29.199249Z",
     "iopub.status.busy": "2021-05-22T08:55:29.199092Z",
     "iopub.status.idle": "2021-05-22T08:55:29.201907Z",
     "shell.execute_reply": "2021-05-22T08:55:29.201325Z",
     "shell.execute_reply.started": "2021-05-22T08:55:29.199233Z"
    }
   },
   "outputs": [],
   "source": [
    "import mygene\n",
    "import requests, sys\n",
    "import re\n",
    "import os\n",
    "import pathlib \n",
    "import pandas as pd"
   ]
  },
  {
   "cell_type": "code",
   "execution_count": null,
   "id": "cfce8ef8-c0b9-4cc4-b14f-8fea895b9581",
   "metadata": {},
   "outputs": [],
   "source": []
  },
  {
   "cell_type": "code",
   "execution_count": 3,
   "id": "29cddffe-cd6f-4b76-95fa-894491b41677",
   "metadata": {
    "execution": {
     "iopub.execute_input": "2021-05-22T08:55:30.519810Z",
     "iopub.status.busy": "2021-05-22T08:55:30.519459Z",
     "iopub.status.idle": "2021-05-22T08:55:30.523439Z",
     "shell.execute_reply": "2021-05-22T08:55:30.522532Z",
     "shell.execute_reply.started": "2021-05-22T08:55:30.519776Z"
    },
    "tags": []
   },
   "outputs": [],
   "source": [
    "geneName = 'Slc17a7'\n",
    "speciesName = 'Rat'"
   ]
  },
  {
   "cell_type": "code",
   "execution_count": 4,
   "id": "379bf54d-6b3e-4ac7-a51e-b76d24c1d582",
   "metadata": {
    "execution": {
     "iopub.execute_input": "2021-05-22T08:55:30.695464Z",
     "iopub.status.busy": "2021-05-22T08:55:30.695090Z",
     "iopub.status.idle": "2021-05-22T08:55:31.382777Z",
     "shell.execute_reply": "2021-05-22T08:55:31.381996Z",
     "shell.execute_reply.started": "2021-05-22T08:55:30.695430Z"
    },
    "tags": []
   },
   "outputs": [
    {
     "data": {
      "text/plain": [
       "['ENSRNOT00000028064', 'ENSRNOT00000064184', 'ENSRNOT00000092245']"
      ]
     },
     "execution_count": 4,
     "metadata": {},
     "output_type": "execute_result"
    }
   ],
   "source": [
    "ensembl_transcriptIDs = return_ensemblTranscriptIDs(speciesName, geneName)\n",
    "ensembl_transcriptIDs"
   ]
  },
  {
   "cell_type": "code",
   "execution_count": 6,
   "id": "b04e0f6c-1436-40a2-9a24-38cdcb690c7c",
   "metadata": {
    "execution": {
     "iopub.execute_input": "2021-05-22T08:55:34.007125Z",
     "iopub.status.busy": "2021-05-22T08:55:34.006891Z",
     "iopub.status.idle": "2021-05-22T08:55:35.972826Z",
     "shell.execute_reply": "2021-05-22T08:55:35.972293Z",
     "shell.execute_reply.started": "2021-05-22T08:55:34.007107Z"
    }
   },
   "outputs": [
    {
     "data": {
      "text/html": [
       "<div>\n",
       "<style scoped>\n",
       "    .dataframe tbody tr th:only-of-type {\n",
       "        vertical-align: middle;\n",
       "    }\n",
       "\n",
       "    .dataframe tbody tr th {\n",
       "        vertical-align: top;\n",
       "    }\n",
       "\n",
       "    .dataframe thead th {\n",
       "        text-align: right;\n",
       "    }\n",
       "</style>\n",
       "<table border=\"1\" class=\"dataframe\">\n",
       "  <thead>\n",
       "    <tr style=\"text-align: right;\">\n",
       "      <th></th>\n",
       "      <th>TranscriptNum</th>\n",
       "      <th>TranscriptID</th>\n",
       "      <th>Type</th>\n",
       "    </tr>\n",
       "  </thead>\n",
       "  <tbody>\n",
       "    <tr>\n",
       "      <th>0</th>\n",
       "      <td>1</td>\n",
       "      <td>ENSRNOT00000028064</td>\n",
       "      <td>protein_coding</td>\n",
       "    </tr>\n",
       "    <tr>\n",
       "      <th>1</th>\n",
       "      <td>2</td>\n",
       "      <td>ENSRNOT00000064184</td>\n",
       "      <td>protein_coding</td>\n",
       "    </tr>\n",
       "    <tr>\n",
       "      <th>2</th>\n",
       "      <td>3</td>\n",
       "      <td>ENSRNOT00000092245</td>\n",
       "      <td>retained_intron</td>\n",
       "    </tr>\n",
       "  </tbody>\n",
       "</table>\n",
       "</div>"
      ],
      "text/plain": [
       "   TranscriptNum        TranscriptID             Type\n",
       "0              1  ENSRNOT00000028064   protein_coding\n",
       "1              2  ENSRNOT00000064184   protein_coding\n",
       "2              3  ENSRNOT00000092245  retained_intron"
      ]
     },
     "execution_count": 6,
     "metadata": {},
     "output_type": "execute_result"
    }
   ],
   "source": [
    "table_transcripsInfo(ensembl_transcriptIDs)"
   ]
  },
  {
   "cell_type": "code",
   "execution_count": null,
   "id": "e2054670-79cb-4d6e-9f9f-fc25ec3de6bd",
   "metadata": {},
   "outputs": [],
   "source": []
  },
  {
   "cell_type": "code",
   "execution_count": null,
   "id": "1ed0ae1f-de1f-46a8-aa9a-c17266f86f3d",
   "metadata": {},
   "outputs": [],
   "source": []
  },
  {
   "cell_type": "code",
   "execution_count": null,
   "id": "0cfd7ec0-fea1-44ad-8867-9bc084b0c5be",
   "metadata": {},
   "outputs": [],
   "source": []
  },
  {
   "cell_type": "markdown",
   "id": "078ac028-8687-4e65-ba6a-7173038ca275",
   "metadata": {},
   "source": [
    "## pyensembl "
   ]
  },
  {
   "cell_type": "code",
   "execution_count": null,
   "id": "6926c2e7-642e-4e01-b798-141b0b559ff3",
   "metadata": {
    "tags": []
   },
   "outputs": [],
   "source": [
    "from pyensembl import EnsemblRelease"
   ]
  },
  {
   "cell_type": "code",
   "execution_count": null,
   "id": "fb3db24f-f17a-4631-af13-3eebde043f69",
   "metadata": {},
   "outputs": [],
   "source": [
    "scientificSpeciesName"
   ]
  },
  {
   "cell_type": "code",
   "execution_count": null,
   "id": "f6b62abe-5fec-4bed-b74d-85681ab393c3",
   "metadata": {
    "tags": []
   },
   "outputs": [],
   "source": [
    "data = EnsemblRelease(98, species = 'taeniopygia guttata')\n",
    "data.download()"
   ]
  },
  {
   "cell_type": "code",
   "execution_count": null,
   "id": "9eba3d3c-8f9b-406e-83fe-8a6fbed336a0",
   "metadata": {
    "scrolled": true,
    "tags": []
   },
   "outputs": [],
   "source": [
    "data.index()"
   ]
  },
  {
   "cell_type": "code",
   "execution_count": null,
   "id": "28c91258-2922-4c42-bd82-f402bcbaa145",
   "metadata": {
    "tags": []
   },
   "outputs": [],
   "source": [
    "# get all exons associated with gene name \n",
    "exon_ids  = data.exon_ids_of_gene_name('Fezf2')"
   ]
  },
  {
   "cell_type": "code",
   "execution_count": null,
   "id": "2edb69e6-b34c-48be-88bb-b20b13bec0be",
   "metadata": {
    "tags": []
   },
   "outputs": [],
   "source": [
    "exon_ids"
   ]
  },
  {
   "cell_type": "code",
   "execution_count": null,
   "id": "8f8293d7-8d7c-46ba-8c3a-dcb67367527d",
   "metadata": {},
   "outputs": [],
   "source": []
  },
  {
   "cell_type": "code",
   "execution_count": null,
   "id": "a6f02791-bfee-4ebd-a42e-00d8031808e4",
   "metadata": {},
   "outputs": [],
   "source": []
  },
  {
   "cell_type": "code",
   "execution_count": null,
   "id": "6e602869-cce6-48ec-a6f4-7731d3fba086",
   "metadata": {},
   "outputs": [],
   "source": []
  },
  {
   "cell_type": "code",
   "execution_count": null,
   "id": "b1e1168f-f577-4329-b6ab-b5e73ece7328",
   "metadata": {},
   "outputs": [],
   "source": []
  },
  {
   "cell_type": "code",
   "execution_count": null,
   "id": "9efea592-ff71-4e38-b8fa-48f61d047155",
   "metadata": {},
   "outputs": [],
   "source": []
  },
  {
   "cell_type": "code",
   "execution_count": null,
   "id": "3f438c0e-42e7-4c7b-a041-89636253a8ec",
   "metadata": {},
   "outputs": [],
   "source": [
    "import pandas as pd\n",
    "import numpy as np\n",
    "import jsons"
   ]
  },
  {
   "cell_type": "code",
   "execution_count": null,
   "id": "c72a4bfc-4630-474b-823c-7a4890a6eadc",
   "metadata": {},
   "outputs": [],
   "source": [
    "df = pd.DataFrame(np.random.randint(0,100,size=(15, 4)), columns=list('ABCD'))\n",
    "df"
   ]
  },
  {
   "cell_type": "code",
   "execution_count": null,
   "id": "a52a3387-6632-479b-b8d5-7471f4d0205c",
   "metadata": {
    "tags": []
   },
   "outputs": [],
   "source": [
    "df.index.name = 'ID'\n",
    "df.reset_index(inplace=True)\n",
    "df"
   ]
  },
  {
   "cell_type": "code",
   "execution_count": null,
   "id": "5d401f04-8394-445d-a452-eef0a672d9b0",
   "metadata": {},
   "outputs": [],
   "source": [
    "df_json = df.to_json(orient=\"split\")\n",
    "parsed = jsons.loads(df_json)\n",
    "jsons.dumps(parsed, indent=4)"
   ]
  },
  {
   "cell_type": "code",
   "execution_count": null,
   "id": "af6f4f08-5fe5-4090-bf56-d155c3135723",
   "metadata": {},
   "outputs": [],
   "source": []
  },
  {
   "cell_type": "code",
   "execution_count": null,
   "id": "e9755766-e567-4fe3-b145-6d011150eb5b",
   "metadata": {},
   "outputs": [],
   "source": []
  }
 ],
 "metadata": {
  "kernelspec": {
   "display_name": "huang_CellReadR",
   "language": "python",
   "name": "huang_cellreadr"
  },
  "language_info": {
   "codemirror_mode": {
    "name": "ipython",
    "version": 3
   },
   "file_extension": ".py",
   "mimetype": "text/x-python",
   "name": "python",
   "nbconvert_exporter": "python",
   "pygments_lexer": "ipython3",
   "version": "3.9.1"
  }
 },
 "nbformat": 4,
 "nbformat_minor": 5
}
