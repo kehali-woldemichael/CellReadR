{
 "cells": [
  {
   "cell_type": "markdown",
   "id": "statewide-audit",
   "metadata": {},
   "source": [
    "# Fetching reference genome and saving (only if not already in Ouput/biomaRt directory)"
   ]
  },
  {
   "cell_type": "code",
   "execution_count": 4,
   "id": "bf843cca-60e2-4685-bc56-e610d1bbe1c2",
   "metadata": {
    "execution": {
     "iopub.execute_input": "2021-05-11T08:02:40.079535Z",
     "iopub.status.busy": "2021-05-11T08:02:40.078622Z",
     "iopub.status.idle": "2021-05-11T08:02:40.089568Z",
     "shell.execute_reply": "2021-05-11T08:02:40.088543Z"
    },
    "tags": []
   },
   "outputs": [],
   "source": [
    "path_functions <- '/home/user1/Dropbox/Research/Neurobiology_PhD/Rotations/Huang/Projects/CellReadR/Code/kCellReadR/functions_biomaRt.R'\n",
    "source(path_functions)"
   ]
  },
  {
   "cell_type": "code",
   "execution_count": 5,
   "id": "2aa3785d-6511-416b-a9db-5d34b991da93",
   "metadata": {
    "execution": {
     "iopub.execute_input": "2021-05-11T08:02:40.375722Z",
     "iopub.status.busy": "2021-05-11T08:02:40.374961Z",
     "iopub.status.idle": "2021-05-11T08:02:51.040714Z",
     "shell.execute_reply": "2021-05-11T08:02:51.039799Z"
    },
    "tags": []
   },
   "outputs": [],
   "source": [
    "generate_refSeq('PlxnD1', 'Rat', 'wikigene_name')"
   ]
  },
  {
   "cell_type": "code",
   "execution_count": null,
   "id": "4ab1a3d3-17a2-4801-b625-8e18b565fad6",
   "metadata": {},
   "outputs": [],
   "source": []
  },
  {
   "cell_type": "code",
   "execution_count": null,
   "id": "0c8d924b-db6c-45c4-81c9-35dd22b6a9e3",
   "metadata": {},
   "outputs": [],
   "source": []
  },
  {
   "cell_type": "code",
   "execution_count": null,
   "id": "7e723b92-0f2c-482c-a3f7-1606f12d0ce2",
   "metadata": {},
   "outputs": [],
   "source": []
  },
  {
   "cell_type": "code",
   "execution_count": null,
   "id": "84cdedc4-2933-42b2-8cc3-29984d3259d7",
   "metadata": {},
   "outputs": [],
   "source": []
  },
  {
   "cell_type": "code",
   "execution_count": null,
   "id": "8ec0af7e-8fd0-4da1-b496-e62b549a6c4e",
   "metadata": {},
   "outputs": [],
   "source": []
  },
  {
   "cell_type": "code",
   "execution_count": null,
   "id": "d908aaf7-8e65-47b8-9378-3ac94c8bc90d",
   "metadata": {},
   "outputs": [],
   "source": []
  },
  {
   "cell_type": "code",
   "execution_count": null,
   "id": "210c9eeb-74c9-4583-a829-1deaf1516b86",
   "metadata": {},
   "outputs": [],
   "source": []
  },
  {
   "cell_type": "code",
   "execution_count": null,
   "id": "dd5897f4-8470-4342-9630-61dd9bbb9763",
   "metadata": {},
   "outputs": [],
   "source": []
  },
  {
   "cell_type": "code",
   "execution_count": null,
   "id": "500ac840-9d29-4767-bf06-0cc67e83aeb9",
   "metadata": {},
   "outputs": [],
   "source": [
    "species "
   ]
  },
  {
   "cell_type": "code",
   "execution_count": null,
   "id": "92b6775b-91ef-45f2-b50e-9b21fbd77c06",
   "metadata": {},
   "outputs": [],
   "source": [
    "typeof(species)"
   ]
  },
  {
   "cell_type": "code",
   "execution_count": null,
   "id": "89350792-4453-4d31-97e0-93edd3b5ef65",
   "metadata": {},
   "outputs": [],
   "source": []
  },
  {
   "cell_type": "code",
   "execution_count": null,
   "id": "634f7302-d9b7-46f7-9554-158fa5530662",
   "metadata": {},
   "outputs": [],
   "source": []
  },
  {
   "cell_type": "code",
   "execution_count": null,
   "id": "technological-textbook",
   "metadata": {
    "tags": []
   },
   "outputs": [],
   "source": [
    "# Selecting gene and species \n",
    "species <- \"Mouse\"\n",
    "typeEnsembl <- \"wikigene_name\"\n",
    "geneName <- \"Cux2\"\n",
    "\n",
    "# Just renaming to ensure that right species found \n",
    "if(species == 'Mouse') {\n",
    "    searchName <- \"Mouse genes\"\n",
    "} else {\n",
    "    searchName <- species\n",
    "}"
   ]
  },
  {
   "cell_type": "code",
   "execution_count": null,
   "id": "aef8bd26-c3ec-46a2-bc0f-1108c3074c37",
   "metadata": {
    "tags": []
   },
   "outputs": [],
   "source": [
    "species"
   ]
  },
  {
   "cell_type": "code",
   "execution_count": null,
   "id": "eeba93de-47a1-48bd-91d7-af8e70a3d74a",
   "metadata": {
    "tags": []
   },
   "outputs": [],
   "source": [
    "geneName"
   ]
  },
  {
   "cell_type": "code",
   "execution_count": null,
   "id": "ec81b048-51f6-4048-a164-4f53ae23d5e7",
   "metadata": {
    "tags": []
   },
   "outputs": [],
   "source": [
    "searchName"
   ]
  },
  {
   "cell_type": "code",
   "execution_count": null,
   "id": "e0901ba1-542c-4fde-9559-d85a677fd40e",
   "metadata": {
    "tags": []
   },
   "outputs": [],
   "source": [
    "# Only if does not already exist ... otherwise just extends exists ... resulting in repeats in fasta file\n",
    "if(file.exists(paste(getwd(), '/Output/biomaRt/', species, '/Reverse_', geneName, '.fasta', sep = '')) == FALSE){ \n",
    "    # Personal libraries \n",
    "    path_functions <- '/home/user1/Dropbox/Research/Neurobiology_PhD/Rotations/Huang/Projects/CellReadR/Code/kCellReadR/functions_biomaRt.R'\n",
    "    source(path_functions)\n",
    "    \n",
    "    # Get references sequences \n",
    "    referenceSeq <- fetchSequences(geneName, searchName, typeEnsembl)\n",
    "    # Save reference sequences \n",
    "    saveFasta(geneName, species, referenceSeq@seq, referenceSeq@seqCDS, referenceSeq@seqCDNA)\n",
    "}"
   ]
  },
  {
   "cell_type": "code",
   "execution_count": null,
   "id": "a607dcbd-1754-45d0-bec8-3bd8a161eaba",
   "metadata": {},
   "outputs": [],
   "source": []
  },
  {
   "cell_type": "code",
   "execution_count": null,
   "id": "3b21a626-77e0-4149-b2ac-bd0f3be8d108",
   "metadata": {},
   "outputs": [],
   "source": []
  },
  {
   "cell_type": "code",
   "execution_count": null,
   "id": "52a46e65-8144-409b-952b-822120a39d01",
   "metadata": {},
   "outputs": [],
   "source": []
  },
  {
   "cell_type": "code",
   "execution_count": null,
   "id": "center-kruger",
   "metadata": {},
   "outputs": [],
   "source": []
  },
  {
   "cell_type": "code",
   "execution_count": null,
   "id": "former-optimum",
   "metadata": {},
   "outputs": [],
   "source": []
  },
  {
   "cell_type": "markdown",
   "id": "indonesian-voice",
   "metadata": {},
   "source": [
    "# Misc"
   ]
  },
  {
   "cell_type": "code",
   "execution_count": 1,
   "id": "84224cd7-31e3-4c90-9623-e5dcaa0742ac",
   "metadata": {
    "execution": {
     "iopub.execute_input": "2021-05-07T09:18:48.486659Z",
     "iopub.status.busy": "2021-05-07T09:18:48.484841Z",
     "iopub.status.idle": "2021-05-07T09:18:53.887791Z",
     "shell.execute_reply": "2021-05-07T09:18:53.886670Z"
    }
   },
   "outputs": [
    {
     "name": "stderr",
     "output_type": "stream",
     "text": [
      "Loading required package: BiocGenerics\n",
      "\n",
      "Loading required package: parallel\n",
      "\n",
      "\n",
      "Attaching package: ‘BiocGenerics’\n",
      "\n",
      "\n",
      "The following objects are masked from ‘package:parallel’:\n",
      "\n",
      "    clusterApply, clusterApplyLB, clusterCall, clusterEvalQ,\n",
      "    clusterExport, clusterMap, parApply, parCapply, parLapply,\n",
      "    parLapplyLB, parRapply, parSapply, parSapplyLB\n",
      "\n",
      "\n",
      "The following objects are masked from ‘package:stats’:\n",
      "\n",
      "    IQR, mad, sd, var, xtabs\n",
      "\n",
      "\n",
      "The following objects are masked from ‘package:base’:\n",
      "\n",
      "    anyDuplicated, append, as.data.frame, basename, cbind, colnames,\n",
      "    dirname, do.call, duplicated, eval, evalq, Filter, Find, get, grep,\n",
      "    grepl, intersect, is.unsorted, lapply, Map, mapply, match, mget,\n",
      "    order, paste, pmax, pmax.int, pmin, pmin.int, Position, rank,\n",
      "    rbind, Reduce, rownames, sapply, setdiff, sort, table, tapply,\n",
      "    union, unique, unsplit, which.max, which.min\n",
      "\n",
      "\n",
      "Loading required package: S4Vectors\n",
      "\n",
      "Loading required package: stats4\n",
      "\n",
      "\n",
      "Attaching package: ‘S4Vectors’\n",
      "\n",
      "\n",
      "The following object is masked from ‘package:base’:\n",
      "\n",
      "    expand.grid\n",
      "\n",
      "\n",
      "Loading required package: IRanges\n",
      "\n",
      "Loading required package: XVector\n",
      "\n",
      "\n",
      "Attaching package: ‘Biostrings’\n",
      "\n",
      "\n",
      "The following object is masked from ‘package:base’:\n",
      "\n",
      "    strsplit\n",
      "\n",
      "\n"
     ]
    }
   ],
   "source": [
    "# For fetching sequences from ensembl database \n",
    "library(biomaRt)\n",
    "# For manipulating sequences \n",
    "library(Biostrings)"
   ]
  },
  {
   "cell_type": "code",
   "execution_count": 4,
   "id": "26614b64-0ae1-4c8b-ab75-26c78a5d7ffb",
   "metadata": {
    "execution": {
     "iopub.execute_input": "2021-05-07T09:20:05.726327Z",
     "iopub.status.busy": "2021-05-07T09:20:05.724529Z",
     "iopub.status.idle": "2021-05-07T09:20:07.633501Z",
     "shell.execute_reply": "2021-05-07T09:20:07.632689Z"
    }
   },
   "outputs": [],
   "source": [
    "ensembl <- useMart(\"ensembl\")\n",
    "datasets <- listDatasets(ensembl)"
   ]
  },
  {
   "cell_type": "code",
   "execution_count": 10,
   "id": "58f3b45c-5f2d-4b7f-9e6c-0de654bd998d",
   "metadata": {
    "execution": {
     "iopub.execute_input": "2021-05-07T09:21:23.507053Z",
     "iopub.status.busy": "2021-05-07T09:21:23.503058Z",
     "iopub.status.idle": "2021-05-07T09:21:23.531166Z",
     "shell.execute_reply": "2021-05-07T09:21:23.529708Z"
    },
    "tags": []
   },
   "outputs": [
    {
     "data": {
      "text/html": [
       "<table class=\"dataframe\">\n",
       "<caption>A data.frame: 1 × 3</caption>\n",
       "<thead>\n",
       "\t<tr><th></th><th scope=col>dataset</th><th scope=col>description</th><th scope=col>version</th></tr>\n",
       "\t<tr><th></th><th scope=col>&lt;I&lt;chr&gt;&gt;</th><th scope=col>&lt;I&lt;chr&gt;&gt;</th><th scope=col>&lt;I&lt;chr&gt;&gt;</th></tr>\n",
       "</thead>\n",
       "<tbody>\n",
       "\t<tr><th scope=row>80</th><td>hsapiens_gene_ensembl</td><td>Human genes (GRCh38.p13)</td><td>GRCh38.p13</td></tr>\n",
       "</tbody>\n",
       "</table>\n"
      ],
      "text/latex": [
       "A data.frame: 1 × 3\n",
       "\\begin{tabular}{r|lll}\n",
       "  & dataset & description & version\\\\\n",
       "  & <I<chr>> & <I<chr>> & <I<chr>>\\\\\n",
       "\\hline\n",
       "\t80 & hsapiens\\_gene\\_ensembl & Human genes (GRCh38.p13) & GRCh38.p13\\\\\n",
       "\\end{tabular}\n"
      ],
      "text/markdown": [
       "\n",
       "A data.frame: 1 × 3\n",
       "\n",
       "| <!--/--> | dataset &lt;I&lt;chr&gt;&gt; | description &lt;I&lt;chr&gt;&gt; | version &lt;I&lt;chr&gt;&gt; |\n",
       "|---|---|---|---|\n",
       "| 80 | hsapiens_gene_ensembl | Human genes (GRCh38.p13) | GRCh38.p13 |\n",
       "\n"
      ],
      "text/plain": [
       "   dataset               description              version   \n",
       "80 hsapiens_gene_ensembl Human genes (GRCh38.p13) GRCh38.p13"
      ]
     },
     "metadata": {},
     "output_type": "display_data"
    }
   ],
   "source": [
    "datasets[grep('Human', datasets$description), ]"
   ]
  },
  {
   "cell_type": "code",
   "execution_count": null,
   "id": "c5a34f8e-2c74-4e94-ae38-72f929302296",
   "metadata": {},
   "outputs": [],
   "source": []
  },
  {
   "cell_type": "code",
   "execution_count": null,
   "id": "2de377f5-dd4c-40b8-921e-bcd783f83582",
   "metadata": {},
   "outputs": [],
   "source": []
  },
  {
   "cell_type": "code",
   "execution_count": 5,
   "id": "faecf098-2da2-4310-8714-cd640e029542",
   "metadata": {
    "execution": {
     "iopub.execute_input": "2021-05-07T09:20:08.747031Z",
     "iopub.status.busy": "2021-05-07T09:20:08.746230Z",
     "iopub.status.idle": "2021-05-07T09:20:08.754837Z",
     "shell.execute_reply": "2021-05-07T09:20:08.753647Z"
    },
    "tags": []
   },
   "outputs": [
    {
     "ename": "ERROR",
     "evalue": "Error in getDataset(geneName): could not find function \"getDataset\"\n",
     "output_type": "error",
     "traceback": [
      "Error in getDataset(geneName): could not find function \"getDataset\"\nTraceback:\n"
     ]
    }
   ],
   "source": [
    "datasets = getDataset(geneName)"
   ]
  },
  {
   "cell_type": "code",
   "execution_count": null,
   "id": "4098683a-21ee-4886-b14c-10a5a2ec8b64",
   "metadata": {},
   "outputs": [],
   "source": []
  },
  {
   "cell_type": "code",
   "execution_count": null,
   "id": "41bdc2f2-9d41-49e2-9530-a525ccd46ed6",
   "metadata": {},
   "outputs": [],
   "source": [
    "datasets[grep(species, datasets$description), ]"
   ]
  },
  {
   "cell_type": "code",
   "execution_count": null,
   "id": "a0c2070a-7842-4a96-a447-51ff6164b0d6",
   "metadata": {
    "tags": []
   },
   "outputs": [],
   "source": [
    "datasets[grep(\"Mouse genes\", datasets$description), ]"
   ]
  },
  {
   "cell_type": "code",
   "execution_count": null,
   "id": "0308ed00-bb11-4da9-b3a7-fe525de1d4d0",
   "metadata": {
    "tags": []
   },
   "outputs": [],
   "source": []
  },
  {
   "cell_type": "code",
   "execution_count": null,
   "id": "b3183175-d763-4970-9b5a-c589b1ed40a2",
   "metadata": {
    "tags": []
   },
   "outputs": [],
   "source": [
    "totalBp = 0\n",
    "for(i in 1:nrow(seq)){\n",
    "    totalBp = totalBp + nchar(seq[i,1])\n",
    "}\n",
    "print(totalBp)"
   ]
  },
  {
   "cell_type": "code",
   "execution_count": null,
   "id": "edf99db2-abd6-403b-84cd-61997689c290",
   "metadata": {
    "tags": []
   },
   "outputs": [],
   "source": []
  },
  {
   "cell_type": "code",
   "execution_count": null,
   "id": "e4197323-5b0a-4509-b79f-1a32316845bd",
   "metadata": {
    "tags": []
   },
   "outputs": [],
   "source": [
    "# Check length of each sequence of exon \n",
    "nchar(reverseSeq$gene_exon)"
   ]
  },
  {
   "cell_type": "code",
   "execution_count": null,
   "id": "269170dd-3aee-4df6-a5d2-86bd077e1083",
   "metadata": {
    "tags": []
   },
   "outputs": [],
   "source": [
    "# Check length of each sequence of exon \n",
    "nchar(complementSeq$gene_exon)"
   ]
  },
  {
   "cell_type": "code",
   "execution_count": null,
   "id": "aca87d85-9b79-4d3f-8834-1d1d25b85e82",
   "metadata": {
    "tags": []
   },
   "outputs": [],
   "source": [
    "nchar(seqCDS[1,1])"
   ]
  },
  {
   "cell_type": "code",
   "execution_count": null,
   "id": "signal-automation",
   "metadata": {
    "tags": []
   },
   "outputs": [],
   "source": [
    "filters = listFilters(ensembl)\n",
    "filters"
   ]
  },
  {
   "cell_type": "code",
   "execution_count": null,
   "id": "advised-complement",
   "metadata": {
    "tags": []
   },
   "outputs": [],
   "source": [
    "filters[grep(\"stable\", filters$description), ]"
   ]
  },
  {
   "cell_type": "code",
   "execution_count": null,
   "id": "informed-promotion",
   "metadata": {
    "tags": []
   },
   "outputs": [],
   "source": [
    "transcriptID <- \"ENSRNOT00000084057.1\"\n",
    "\n",
    "# Getting sequences of exons for gene \n",
    "seq <- getSequence(id = transcriptID, \n",
    "                  type = \"ensembl_transcript_id_version\", \n",
    "                  seqType = \"gene_exon\", \n",
    "                  mart = ensembl)\n",
    "show(seq)"
   ]
  },
  {
   "cell_type": "code",
   "execution_count": null,
   "id": "virtual-kenya",
   "metadata": {},
   "outputs": [],
   "source": []
  },
  {
   "cell_type": "code",
   "execution_count": null,
   "id": "double-frontier",
   "metadata": {},
   "outputs": [],
   "source": []
  },
  {
   "cell_type": "code",
   "execution_count": null,
   "id": "perfect-desktop",
   "metadata": {},
   "outputs": [],
   "source": []
  },
  {
   "cell_type": "code",
   "execution_count": null,
   "id": "headed-calibration",
   "metadata": {},
   "outputs": [],
   "source": []
  },
  {
   "cell_type": "code",
   "execution_count": null,
   "id": "intense-elevation",
   "metadata": {},
   "outputs": [],
   "source": []
  },
  {
   "cell_type": "code",
   "execution_count": null,
   "id": "figured-planet",
   "metadata": {},
   "outputs": [],
   "source": []
  }
 ],
 "metadata": {
  "kernelspec": {
   "display_name": "R",
   "language": "R",
   "name": "ir"
  },
  "language_info": {
   "codemirror_mode": "r",
   "file_extension": ".r",
   "mimetype": "text/x-r-source",
   "name": "R",
   "pygments_lexer": "r",
   "version": "4.0.5"
  }
 },
 "nbformat": 4,
 "nbformat_minor": 5
}
