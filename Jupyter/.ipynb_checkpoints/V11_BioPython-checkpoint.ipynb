{
 "cells": [
  {
   "cell_type": "markdown",
   "id": "right-sheffield",
   "metadata": {},
   "source": [
    "# Setup "
   ]
  },
  {
   "cell_type": "markdown",
   "id": "amino-silence",
   "metadata": {},
   "source": [
    "## Import packages "
   ]
  },
  {
   "cell_type": "code",
   "execution_count": 1,
   "id": "rolled-columbia",
   "metadata": {
    "execution": {
     "iopub.execute_input": "2022-07-27T19:10:40.454464Z",
     "iopub.status.busy": "2022-07-27T19:10:40.453696Z",
     "iopub.status.idle": "2022-07-27T19:10:40.823755Z",
     "shell.execute_reply": "2022-07-27T19:10:40.823141Z",
     "shell.execute_reply.started": "2022-07-27T19:10:40.454402Z"
    },
    "tags": []
   },
   "outputs": [],
   "source": [
    "# General \n",
    "import os \n",
    "import numpy as np\n",
    "import pandas as pd \n",
    "\n",
    "# For manipulating string objects \n",
    "import re\n",
    "# for generating any necessary directories\n",
    "import pathlib \n",
    "# For manipulating list objects \n",
    "import itertools "
   ]
  },
  {
   "cell_type": "code",
   "execution_count": 2,
   "id": "74f8c35b-2409-413f-9d78-ac87547d297c",
   "metadata": {
    "execution": {
     "iopub.execute_input": "2022-07-27T19:10:40.825514Z",
     "iopub.status.busy": "2022-07-27T19:10:40.825039Z",
     "iopub.status.idle": "2022-07-27T19:10:40.829663Z",
     "shell.execute_reply": "2022-07-27T19:10:40.828536Z",
     "shell.execute_reply.started": "2022-07-27T19:10:40.825487Z"
    },
    "tags": []
   },
   "outputs": [],
   "source": [
    "pd.set_option('display.max_rows', None)"
   ]
  },
  {
   "cell_type": "code",
   "execution_count": 3,
   "id": "6ca2e5dd-833c-44de-bd01-3781ced3cf30",
   "metadata": {
    "execution": {
     "iopub.execute_input": "2022-07-27T19:10:40.830972Z",
     "iopub.status.busy": "2022-07-27T19:10:40.830597Z",
     "iopub.status.idle": "2022-07-27T19:10:40.869973Z",
     "shell.execute_reply": "2022-07-27T19:10:40.868845Z",
     "shell.execute_reply.started": "2022-07-27T19:10:40.830945Z"
    },
    "tags": []
   },
   "outputs": [],
   "source": [
    "pd.set_option('display.max_columns', None)"
   ]
  },
  {
   "cell_type": "code",
   "execution_count": 4,
   "id": "false-allah",
   "metadata": {
    "execution": {
     "iopub.execute_input": "2022-07-27T19:10:40.873228Z",
     "iopub.status.busy": "2022-07-27T19:10:40.872707Z",
     "iopub.status.idle": "2022-07-27T19:10:40.967297Z",
     "shell.execute_reply": "2022-07-27T19:10:40.966156Z",
     "shell.execute_reply.started": "2022-07-27T19:10:40.873200Z"
    },
    "tags": []
   },
   "outputs": [],
   "source": [
    "# For working with sequence objects \n",
    "from Bio.Seq import Seq"
   ]
  },
  {
   "cell_type": "code",
   "execution_count": 5,
   "id": "greenhouse-dryer",
   "metadata": {
    "execution": {
     "iopub.execute_input": "2022-07-27T19:10:40.968996Z",
     "iopub.status.busy": "2022-07-27T19:10:40.968581Z",
     "iopub.status.idle": "2022-07-27T19:10:41.005840Z",
     "shell.execute_reply": "2022-07-27T19:10:41.004812Z",
     "shell.execute_reply.started": "2022-07-27T19:10:40.968963Z"
    },
    "tags": []
   },
   "outputs": [],
   "source": [
    "# For fetching sequences from Entrez \n",
    "from Bio import Entrez  \n",
    "from Bio import SeqIO"
   ]
  },
  {
   "cell_type": "code",
   "execution_count": 6,
   "id": "positive-coordination",
   "metadata": {
    "execution": {
     "iopub.execute_input": "2022-07-27T19:10:41.007763Z",
     "iopub.status.busy": "2022-07-27T19:10:41.007274Z",
     "iopub.status.idle": "2022-07-27T19:10:41.013431Z",
     "shell.execute_reply": "2022-07-27T19:10:41.012200Z",
     "shell.execute_reply.started": "2022-07-27T19:10:41.007710Z"
    },
    "tags": []
   },
   "outputs": [],
   "source": [
    "# For extracting features \n",
    "from Bio.SeqFeature import SeqFeature, FeatureLocation\n",
    "# For creating SeqRecord objects \n",
    "from Bio.SeqRecord import SeqRecord"
   ]
  },
  {
   "cell_type": "code",
   "execution_count": 7,
   "id": "94f6963c-c46d-4ff1-a40b-11b353df1ca6",
   "metadata": {
    "execution": {
     "iopub.execute_input": "2022-07-27T19:10:41.015125Z",
     "iopub.status.busy": "2022-07-27T19:10:41.014786Z",
     "iopub.status.idle": "2022-07-27T19:10:41.892936Z",
     "shell.execute_reply": "2022-07-27T19:10:41.892076Z",
     "shell.execute_reply.started": "2022-07-27T19:10:41.015093Z"
    },
    "tags": []
   },
   "outputs": [],
   "source": [
    "# For running R cells \n",
    "%load_ext rpy2.ipython  "
   ]
  },
  {
   "cell_type": "markdown",
   "id": "metric-color",
   "metadata": {},
   "source": [
    "# Functions "
   ]
  },
  {
   "cell_type": "code",
   "execution_count": 8,
   "id": "679724e8-dd9f-4d70-aa65-c55c1ea60a0c",
   "metadata": {
    "execution": {
     "iopub.execute_input": "2022-07-27T19:10:41.894691Z",
     "iopub.status.busy": "2022-07-27T19:10:41.894150Z",
     "iopub.status.idle": "2022-07-27T19:10:42.006816Z",
     "shell.execute_reply": "2022-07-27T19:10:42.005813Z",
     "shell.execute_reply.started": "2022-07-27T19:10:41.894649Z"
    },
    "tags": []
   },
   "outputs": [],
   "source": [
    "import sys\n",
    "# Importing module of personal functions \n",
    "sys.path.append('/home/user1/Dropbox/Research/Neurobiology_PhD/Huang/Projects/CellReadR/Code/CellREADR/')\n",
    "from kCellReadR import * "
   ]
  },
  {
   "cell_type": "markdown",
   "id": "bc4d4e6f-48bf-4e45-bcf0-9ad20a20d8d4",
   "metadata": {},
   "source": [
    "## Misc"
   ]
  },
  {
   "cell_type": "code",
   "execution_count": 9,
   "id": "2c729aa8-093a-4b08-85c5-5babeae37548",
   "metadata": {
    "execution": {
     "iopub.execute_input": "2022-07-27T19:10:42.008319Z",
     "iopub.status.busy": "2022-07-27T19:10:42.008039Z",
     "iopub.status.idle": "2022-07-27T19:10:42.012067Z",
     "shell.execute_reply": "2022-07-27T19:10:42.011107Z",
     "shell.execute_reply.started": "2022-07-27T19:10:42.008299Z"
    },
    "tags": []
   },
   "outputs": [],
   "source": [
    "speciesName = 'Mouse'\n",
    "geneName = 'Six6'\n",
    "\n",
    "Entrez.email = \"kehaliwoldemichael@gmail.com\"  # Always tell NCBI who you are"
   ]
  },
  {
   "cell_type": "markdown",
   "id": "liquid-conditions",
   "metadata": {},
   "source": [
    "# Sequence"
   ]
  },
  {
   "cell_type": "markdown",
   "id": "offensive-organizer",
   "metadata": {},
   "source": [
    "## Loading sequences "
   ]
  },
  {
   "cell_type": "code",
   "execution_count": 10,
   "id": "3e72b65e-3449-4ebe-b587-4f1ae05f683b",
   "metadata": {
    "execution": {
     "iopub.execute_input": "2022-07-27T19:10:42.016710Z",
     "iopub.status.busy": "2022-07-27T19:10:42.016316Z",
     "iopub.status.idle": "2022-07-27T19:10:42.536951Z",
     "shell.execute_reply": "2022-07-27T19:10:42.535738Z",
     "shell.execute_reply.started": "2022-07-27T19:10:42.016682Z"
    },
    "tags": []
   },
   "outputs": [
    {
     "data": {
      "text/plain": [
       "'ENSMUST00000021519'"
      ]
     },
     "execution_count": 10,
     "metadata": {},
     "output_type": "execute_result"
    }
   ],
   "source": [
    "ensembl_transcriptIDs = return_ensemblTranscriptIDs(speciesName, geneName)\n",
    "ensembl_transcriptIDs"
   ]
  },
  {
   "cell_type": "code",
   "execution_count": 11,
   "id": "2bce1b6c-540a-4c87-a4d8-5a363a49dd03",
   "metadata": {
    "execution": {
     "iopub.execute_input": "2022-07-27T19:10:42.538897Z",
     "iopub.status.busy": "2022-07-27T19:10:42.538391Z",
     "iopub.status.idle": "2022-07-27T19:10:43.232817Z",
     "shell.execute_reply": "2022-07-27T19:10:43.231479Z",
     "shell.execute_reply.started": "2022-07-27T19:10:42.538862Z"
    },
    "tags": []
   },
   "outputs": [
    {
     "data": {
      "text/html": [
       "<div>\n",
       "<style scoped>\n",
       "    .dataframe tbody tr th:only-of-type {\n",
       "        vertical-align: middle;\n",
       "    }\n",
       "\n",
       "    .dataframe tbody tr th {\n",
       "        vertical-align: top;\n",
       "    }\n",
       "\n",
       "    .dataframe thead th {\n",
       "        text-align: right;\n",
       "    }\n",
       "</style>\n",
       "<table border=\"1\" class=\"dataframe\">\n",
       "  <thead>\n",
       "    <tr style=\"text-align: right;\">\n",
       "      <th></th>\n",
       "      <th>TranscriptNum</th>\n",
       "      <th>TranscriptID</th>\n",
       "      <th>TranscriptName</th>\n",
       "      <th>Assembly</th>\n",
       "      <th>Type</th>\n",
       "      <th>AA_Length</th>\n",
       "      <th>Is_Canonical</th>\n",
       "    </tr>\n",
       "  </thead>\n",
       "  <tbody>\n",
       "    <tr>\n",
       "      <th>0</th>\n",
       "      <td>1</td>\n",
       "      <td>ENSMUST00000021519</td>\n",
       "      <td>Six6-201</td>\n",
       "      <td>GRCm39</td>\n",
       "      <td>protein_coding</td>\n",
       "      <td>246</td>\n",
       "      <td>True</td>\n",
       "    </tr>\n",
       "  </tbody>\n",
       "</table>\n",
       "</div>"
      ],
      "text/plain": [
       "   TranscriptNum        TranscriptID TranscriptName Assembly            Type  \\\n",
       "0              1  ENSMUST00000021519       Six6-201   GRCm39  protein_coding   \n",
       "\n",
       "   AA_Length Is_Canonical  \n",
       "0        246         True  "
      ]
     },
     "execution_count": 11,
     "metadata": {},
     "output_type": "execute_result"
    }
   ],
   "source": [
    "variantTable = table_transcriptsInfo(ensembl_transcriptIDs)  \n",
    "variantTable"
   ]
  },
  {
   "cell_type": "code",
   "execution_count": 12,
   "id": "f28434e0-dd4c-44aa-9137-f3c62651df60",
   "metadata": {
    "execution": {
     "iopub.execute_input": "2022-07-27T19:10:43.235049Z",
     "iopub.status.busy": "2022-07-27T19:10:43.234558Z",
     "iopub.status.idle": "2022-07-27T19:10:43.244061Z",
     "shell.execute_reply": "2022-07-27T19:10:43.243082Z",
     "shell.execute_reply.started": "2022-07-27T19:10:43.235007Z"
    },
    "tags": []
   },
   "outputs": [
    {
     "data": {
      "text/plain": [
       "1"
      ]
     },
     "execution_count": 12,
     "metadata": {},
     "output_type": "execute_result"
    }
   ],
   "source": [
    "# Chooses canonical transcript\n",
    "spliceVariant = int(variantTable[variantTable['Is_Canonical'] == 'True']['TranscriptNum'])\n",
    "spliceVariant"
   ]
  },
  {
   "cell_type": "code",
   "execution_count": 13,
   "id": "1724fdde-835a-4026-a75b-3a378b4a7848",
   "metadata": {
    "execution": {
     "iopub.execute_input": "2022-07-27T19:10:43.245778Z",
     "iopub.status.busy": "2022-07-27T19:10:43.245352Z",
     "iopub.status.idle": "2022-07-27T19:10:43.270024Z",
     "shell.execute_reply": "2022-07-27T19:10:43.268793Z",
     "shell.execute_reply.started": "2022-07-27T19:10:43.245743Z"
    },
    "tags": []
   },
   "outputs": [
    {
     "data": {
      "text/plain": [
       "'Six6'"
      ]
     },
     "execution_count": 13,
     "metadata": {},
     "output_type": "execute_result"
    }
   ],
   "source": [
    "geneName"
   ]
  },
  {
   "cell_type": "code",
   "execution_count": 14,
   "id": "8fb727b2-5aa3-4d2f-aefe-e60647be9bfa",
   "metadata": {
    "execution": {
     "iopub.execute_input": "2022-07-27T19:10:43.272085Z",
     "iopub.status.busy": "2022-07-27T19:10:43.271528Z",
     "iopub.status.idle": "2022-07-27T19:10:43.302013Z",
     "shell.execute_reply": "2022-07-27T19:10:43.300937Z",
     "shell.execute_reply.started": "2022-07-27T19:10:43.272044Z"
    },
    "tags": []
   },
   "outputs": [
    {
     "data": {
      "text/plain": [
       "'Mouse'"
      ]
     },
     "execution_count": 14,
     "metadata": {},
     "output_type": "execute_result"
    }
   ],
   "source": [
    "speciesName"
   ]
  },
  {
   "cell_type": "code",
   "execution_count": 15,
   "id": "continuing-sample",
   "metadata": {
    "execution": {
     "iopub.execute_input": "2022-07-27T19:10:43.304007Z",
     "iopub.status.busy": "2022-07-27T19:10:43.303304Z",
     "iopub.status.idle": "2022-07-27T19:10:43.338846Z",
     "shell.execute_reply": "2022-07-27T19:10:43.337910Z",
     "shell.execute_reply.started": "2022-07-27T19:10:43.303975Z"
    },
    "tags": []
   },
   "outputs": [],
   "source": [
    "rC_exon_records, rC_intron_records, CDS, cDNA, genomic = load_referenceSequences(speciesName, geneName, spliceVariant)"
   ]
  },
  {
   "cell_type": "code",
   "execution_count": 16,
   "id": "5f2b196b-b927-4882-8ca1-4b4b062e5bd7",
   "metadata": {
    "execution": {
     "iopub.execute_input": "2022-07-27T19:10:43.340802Z",
     "iopub.status.busy": "2022-07-27T19:10:43.340257Z",
     "iopub.status.idle": "2022-07-27T19:10:43.348867Z",
     "shell.execute_reply": "2022-07-27T19:10:43.347902Z",
     "shell.execute_reply.started": "2022-07-27T19:10:43.340760Z"
    },
    "tags": []
   },
   "outputs": [
    {
     "data": {
      "text/plain": [
       "[SeqRecord(seq=Seq('CTGTTTTTGGCTGCAGCTGCCCGGTCTCTTTGTCTGCGGTTTTTGAACCAGTTG...CCG'), id='<unknown id>', name='<unknown name>', description='<unknown description>', dbxrefs=[]),\n",
       " SeqRecord(seq=Seq('CGCGATTCAGAGACTTTTATTGGAGCCTTTCCACTGCCTCGAATTTAACGCAGT...AGT'), id='<unknown id>', name='<unknown name>', description='<unknown description>', dbxrefs=[])]"
      ]
     },
     "execution_count": 16,
     "metadata": {},
     "output_type": "execute_result"
    }
   ],
   "source": [
    "rC_exon_records"
   ]
  },
  {
   "cell_type": "code",
   "execution_count": 17,
   "id": "6b281478-7057-4fd4-8f7a-c6b23eafbed0",
   "metadata": {
    "execution": {
     "iopub.execute_input": "2022-07-27T19:10:43.350490Z",
     "iopub.status.busy": "2022-07-27T19:10:43.350136Z",
     "iopub.status.idle": "2022-07-27T19:10:43.382067Z",
     "shell.execute_reply": "2022-07-27T19:10:43.380799Z",
     "shell.execute_reply.started": "2022-07-27T19:10:43.350461Z"
    },
    "tags": []
   },
   "outputs": [
    {
     "data": {
      "text/plain": [
       "[SeqRecord(seq=Seq('ctggagggttggggagaaagggacactggtcacagcaagaaatcaagccgccac...gac'), id='<unknown id>', name='<unknown name>', description='<unknown description>', dbxrefs=[])]"
      ]
     },
     "execution_count": 17,
     "metadata": {},
     "output_type": "execute_result"
    }
   ],
   "source": [
    "rC_intron_records"
   ]
  },
  {
   "cell_type": "code",
   "execution_count": 18,
   "id": "bd45cc0e-81b7-4879-9193-b6c960505f59",
   "metadata": {
    "execution": {
     "iopub.execute_input": "2022-07-27T19:10:43.383647Z",
     "iopub.status.busy": "2022-07-27T19:10:43.383313Z",
     "iopub.status.idle": "2022-07-27T19:10:43.422843Z",
     "shell.execute_reply": "2022-07-27T19:10:43.421814Z",
     "shell.execute_reply.started": "2022-07-27T19:10:43.383617Z"
    },
    "tags": []
   },
   "outputs": [
    {
     "data": {
      "text/plain": [
       "741"
      ]
     },
     "execution_count": 18,
     "metadata": {},
     "output_type": "execute_result"
    }
   ],
   "source": [
    "len(CDS[0].seq)"
   ]
  },
  {
   "cell_type": "code",
   "execution_count": null,
   "id": "e0399023-2736-43f8-9ce9-9d37b944a305",
   "metadata": {},
   "outputs": [],
   "source": []
  },
  {
   "cell_type": "markdown",
   "id": "after-beatles",
   "metadata": {},
   "source": [
    "## Selecting sensor "
   ]
  },
  {
   "cell_type": "code",
   "execution_count": 19,
   "id": "d2992ab7-6e87-444c-993b-9c1710ac771e",
   "metadata": {
    "execution": {
     "iopub.execute_input": "2022-07-27T19:10:43.424756Z",
     "iopub.status.busy": "2022-07-27T19:10:43.424184Z",
     "iopub.status.idle": "2022-07-27T19:10:43.451193Z",
     "shell.execute_reply": "2022-07-27T19:10:43.450012Z",
     "shell.execute_reply.started": "2022-07-27T19:10:43.424729Z"
    },
    "tags": []
   },
   "outputs": [
    {
     "name": "stdout",
     "output_type": "stream",
     "text": [
      "0.8827309711546525\n"
     ]
    }
   ],
   "source": [
    "import random \n",
    "n = random.random() \n",
    "print(n)"
   ]
  },
  {
   "cell_type": "code",
   "execution_count": null,
   "id": "70587ebc-1e5b-43d7-bf6d-725dac523a29",
   "metadata": {},
   "outputs": [],
   "source": []
  },
  {
   "cell_type": "code",
   "execution_count": 20,
   "id": "e885434a-3152-434d-a909-4e2372682706",
   "metadata": {
    "execution": {
     "iopub.execute_input": "2022-07-27T19:10:43.452846Z",
     "iopub.status.busy": "2022-07-27T19:10:43.452406Z",
     "iopub.status.idle": "2022-07-27T19:10:43.488606Z",
     "shell.execute_reply": "2022-07-27T19:10:43.486927Z",
     "shell.execute_reply.started": "2022-07-27T19:10:43.452817Z"
    },
    "tags": []
   },
   "outputs": [
    {
     "data": {
      "text/plain": [
       "5008"
      ]
     },
     "execution_count": 20,
     "metadata": {},
     "output_type": "execute_result"
    }
   ],
   "source": [
    "len(genomic[0])"
   ]
  },
  {
   "cell_type": "code",
   "execution_count": 21,
   "id": "0e331ca6-c8b3-4f8a-94df-48b621c50cc4",
   "metadata": {
    "execution": {
     "iopub.execute_input": "2022-07-27T19:10:43.490464Z",
     "iopub.status.busy": "2022-07-27T19:10:43.490097Z",
     "iopub.status.idle": "2022-07-27T19:10:43.506110Z",
     "shell.execute_reply": "2022-07-27T19:10:43.504930Z",
     "shell.execute_reply.started": "2022-07-27T19:10:43.490439Z"
    },
    "tags": []
   },
   "outputs": [
    {
     "data": {
      "text/plain": [
       "741"
      ]
     },
     "execution_count": 21,
     "metadata": {},
     "output_type": "execute_result"
    }
   ],
   "source": [
    "len(CDS[0])"
   ]
  },
  {
   "cell_type": "code",
   "execution_count": 22,
   "id": "7420f114-a9cd-4295-a19a-9a1d926a7b81",
   "metadata": {
    "execution": {
     "iopub.execute_input": "2022-07-27T19:10:43.507597Z",
     "iopub.status.busy": "2022-07-27T19:10:43.507274Z",
     "iopub.status.idle": "2022-07-27T19:10:43.542072Z",
     "shell.execute_reply": "2022-07-27T19:10:43.540738Z",
     "shell.execute_reply.started": "2022-07-27T19:10:43.507575Z"
    },
    "tags": []
   },
   "outputs": [
    {
     "name": "stdout",
     "output_type": "stream",
     "text": [
      "736\n",
      "3273\n"
     ]
    }
   ],
   "source": [
    "# Print lenth exons \n",
    "for exon in rC_exon_records:\n",
    "    print(len(str(exon.seq)))"
   ]
  },
  {
   "cell_type": "code",
   "execution_count": 23,
   "id": "e673326a-d31c-47fb-be6e-414f194e4769",
   "metadata": {
    "execution": {
     "iopub.execute_input": "2022-07-27T19:10:43.544235Z",
     "iopub.status.busy": "2022-07-27T19:10:43.543564Z",
     "iopub.status.idle": "2022-07-27T19:10:43.571890Z",
     "shell.execute_reply": "2022-07-27T19:10:43.570384Z",
     "shell.execute_reply.started": "2022-07-27T19:10:43.544201Z"
    },
    "tags": []
   },
   "outputs": [
    {
     "data": {
      "text/plain": [
       "2"
      ]
     },
     "execution_count": 23,
     "metadata": {},
     "output_type": "execute_result"
    }
   ],
   "source": [
    "len(rC_exon_records)"
   ]
  },
  {
   "cell_type": "code",
   "execution_count": 24,
   "id": "cd0a59a9-47dd-4640-905a-b8c9f3add621",
   "metadata": {
    "execution": {
     "iopub.execute_input": "2022-07-27T19:10:43.573564Z",
     "iopub.status.busy": "2022-07-27T19:10:43.573102Z",
     "iopub.status.idle": "2022-07-27T19:10:43.616134Z",
     "shell.execute_reply": "2022-07-27T19:10:43.614984Z",
     "shell.execute_reply.started": "2022-07-27T19:10:43.573529Z"
    },
    "tags": []
   },
   "outputs": [],
   "source": [
    "rC_CDS = [CDS[0].reverse_complement()]\n",
    "rC_genomic = [genomic[0].reverse_complement()]"
   ]
  },
  {
   "cell_type": "code",
   "execution_count": 25,
   "id": "c68b5ba2-31f6-4ad9-96a2-208987d609ef",
   "metadata": {
    "execution": {
     "iopub.execute_input": "2022-07-27T19:10:43.618020Z",
     "iopub.status.busy": "2022-07-27T19:10:43.617592Z",
     "iopub.status.idle": "2022-07-27T19:10:43.651112Z",
     "shell.execute_reply": "2022-07-27T19:10:43.649832Z",
     "shell.execute_reply.started": "2022-07-27T19:10:43.617983Z"
    },
    "scrolled": true,
    "tags": []
   },
   "outputs": [
    {
     "name": "stdout",
     "output_type": "stream",
     "text": [
      "192\n",
      "195\n",
      "198\n",
      "201\n",
      "204\n",
      "207\n",
      "210\n",
      "213\n",
      "216\n",
      "219\n",
      "222\n",
      "225\n",
      "228\n",
      "231\n",
      "234\n",
      "237\n",
      "240\n",
      "243\n",
      "246\n",
      "249\n",
      "252\n",
      "255\n",
      "258\n",
      "261\n",
      "264\n",
      "267\n",
      "270\n",
      "273\n",
      "276\n",
      "279\n",
      "282\n",
      "285\n",
      "288\n",
      "291\n",
      "294\n",
      "297\n"
     ]
    }
   ],
   "source": [
    "##### Initial if want to check variable length sesRNAs \n",
    "for i in range(192, 300):\n",
    "    if(i%3 == 0):\n",
    "        print(i)"
   ]
  },
  {
   "cell_type": "code",
   "execution_count": 26,
   "id": "a43e69c2-68a9-4f66-9117-ac367981b306",
   "metadata": {
    "execution": {
     "iopub.execute_input": "2022-07-27T19:10:43.653087Z",
     "iopub.status.busy": "2022-07-27T19:10:43.652626Z",
     "iopub.status.idle": "2022-07-27T19:10:43.709266Z",
     "shell.execute_reply": "2022-07-27T19:10:43.708310Z",
     "shell.execute_reply.started": "2022-07-27T19:10:43.653054Z"
    },
    "tags": []
   },
   "outputs": [],
   "source": [
    "# Longer the sesRNA ... the better it binds ... but the higher likelihood to introduce stop codons and ATGs \n",
    "# Want around 60 bp distance between multiple TAGs ... \n",
    "sesRNA_length = 192\n",
    "targetChoice = 'exon' # exon, cds, genomic\n",
    "parameters = parameters_sesRNA(speciesName, geneName,  spliceVariant, sesRNA_length, 1, 2, 'None', 40, 70, 20, 20)"
   ]
  },
  {
   "cell_type": "code",
   "execution_count": 27,
   "id": "1b9a486b-07dd-445e-bef9-5e03eee9ebde",
   "metadata": {
    "execution": {
     "iopub.execute_input": "2022-07-27T19:10:43.711150Z",
     "iopub.status.busy": "2022-07-27T19:10:43.710608Z",
     "iopub.status.idle": "2022-07-27T19:10:43.759278Z",
     "shell.execute_reply": "2022-07-27T19:10:43.758557Z",
     "shell.execute_reply.started": "2022-07-27T19:10:43.711107Z"
    },
    "tags": []
   },
   "outputs": [],
   "source": [
    "if targetChoice == 'exon':\n",
    "    target = rC_exon_records \n",
    "    test = CDS\n",
    "elif targetChoice == 'cds':\n",
    "    target = rC_CDS\n",
    "    test = CDS\n",
    "elif targetChoice == 'genomic':\n",
    "    target = rC_genomic\n",
    "    test = genomic"
   ]
  },
  {
   "cell_type": "code",
   "execution_count": 28,
   "id": "02895fb4-5293-4a3c-b754-efe5b2b00996",
   "metadata": {
    "execution": {
     "iopub.execute_input": "2022-07-27T19:10:43.765072Z",
     "iopub.status.busy": "2022-07-27T19:10:43.764517Z",
     "iopub.status.idle": "2022-07-27T19:10:43.796619Z",
     "shell.execute_reply": "2022-07-27T19:10:43.795434Z",
     "shell.execute_reply.started": "2022-07-27T19:10:43.765033Z"
    },
    "tags": []
   },
   "outputs": [
    {
     "name": "stdout",
     "output_type": "stream",
     "text": [
      "[instance attributes]\n",
      "species = Mouse\n",
      "gene = Six6\n",
      "spliceVariant = 1\n",
      "length = 192\n",
      "num_inF_TGG = 1\n",
      "num_inF_Stop = 2\n",
      "inF_ATG = None\n",
      "minGC = 40\n",
      "maxGC = 70\n",
      "nearCenter = 20\n",
      "fromStop = 20\n"
     ]
    }
   ],
   "source": [
    "parameters.print_parameters()"
   ]
  },
  {
   "cell_type": "code",
   "execution_count": 29,
   "id": "ba64385b-2fdc-43bb-b78d-ce6acaf82bf2",
   "metadata": {
    "execution": {
     "iopub.execute_input": "2022-07-27T19:10:43.798109Z",
     "iopub.status.busy": "2022-07-27T19:10:43.797651Z",
     "iopub.status.idle": "2022-07-27T19:10:43.834951Z",
     "shell.execute_reply": "2022-07-27T19:10:43.834033Z",
     "shell.execute_reply.started": "2022-07-27T19:10:43.798074Z"
    },
    "tags": []
   },
   "outputs": [
    {
     "data": {
      "text/plain": [
       "96.0"
      ]
     },
     "execution_count": 29,
     "metadata": {},
     "output_type": "execute_result"
    }
   ],
   "source": [
    "sesRNA_length/2"
   ]
  },
  {
   "cell_type": "code",
   "execution_count": 30,
   "id": "34ff46d1-409f-45ae-82e4-64c86df15518",
   "metadata": {
    "execution": {
     "iopub.execute_input": "2022-07-27T19:10:43.836656Z",
     "iopub.status.busy": "2022-07-27T19:10:43.836300Z",
     "iopub.status.idle": "2022-07-27T19:10:44.444508Z",
     "shell.execute_reply": "2022-07-27T19:10:44.443317Z",
     "shell.execute_reply.started": "2022-07-27T19:10:43.836613Z"
    },
    "tags": []
   },
   "outputs": [
    {
     "name": "stdout",
     "output_type": "stream",
     "text": [
      "1\n",
      "2\n"
     ]
    },
    {
     "name": "stderr",
     "output_type": "stream",
     "text": [
      "/home/user1/Dropbox/Research/Neurobiology_PhD/Huang/Projects/CellReadR/Code/CellREADR/kCellReadR/sesRNAs.py:92: FutureWarning: The frame.append method is deprecated and will be removed from pandas in a future version. Use pandas.concat instead.\n",
      "  all_sequenceMetrics = all_sequenceMetrics.append(temp_sequenceMetrics)\n"
     ]
    },
    {
     "data": {
      "text/html": [
       "<div>\n",
       "<style scoped>\n",
       "    .dataframe tbody tr th:only-of-type {\n",
       "        vertical-align: middle;\n",
       "    }\n",
       "\n",
       "    .dataframe tbody tr th {\n",
       "        vertical-align: top;\n",
       "    }\n",
       "\n",
       "    .dataframe thead th {\n",
       "        text-align: right;\n",
       "    }\n",
       "</style>\n",
       "<table border=\"1\" class=\"dataframe\">\n",
       "  <thead>\n",
       "    <tr style=\"text-align: right;\">\n",
       "      <th></th>\n",
       "      <th>sesNum</th>\n",
       "      <th>SeqNum</th>\n",
       "      <th>ExonFrac</th>\n",
       "      <th>ExonProtFrac</th>\n",
       "      <th>CDSFrac</th>\n",
       "      <th>CDNAFrac</th>\n",
       "      <th>StartSeq</th>\n",
       "      <th>StopSeq</th>\n",
       "      <th>firstTGG</th>\n",
       "      <th>centralTGG</th>\n",
       "      <th>second_cTGG</th>\n",
       "      <th>numTGG</th>\n",
       "      <th>numTTGG</th>\n",
       "      <th>numTGGA</th>\n",
       "      <th>numTTGGA</th>\n",
       "      <th>numATG</th>\n",
       "      <th>numStop</th>\n",
       "      <th>gcCont</th>\n",
       "    </tr>\n",
       "  </thead>\n",
       "  <tbody>\n",
       "    <tr>\n",
       "      <th>0</th>\n",
       "      <td>1</td>\n",
       "      <td>1</td>\n",
       "      <td>1/1</td>\n",
       "      <td>1/1</td>\n",
       "      <td>1/1</td>\n",
       "      <td>1/1</td>\n",
       "      <td>0.0</td>\n",
       "      <td>192.0</td>\n",
       "      <td>84.0</td>\n",
       "      <td>84.0</td>\n",
       "      <td>NA</td>\n",
       "      <td>1.0</td>\n",
       "      <td>0.0</td>\n",
       "      <td>0.0</td>\n",
       "      <td>0.0</td>\n",
       "      <td>0.0</td>\n",
       "      <td>2.0</td>\n",
       "      <td>58.3</td>\n",
       "    </tr>\n",
       "    <tr>\n",
       "      <th>1</th>\n",
       "      <td>2</td>\n",
       "      <td>1</td>\n",
       "      <td>1/1</td>\n",
       "      <td>1/1</td>\n",
       "      <td>1/1</td>\n",
       "      <td>1/1</td>\n",
       "      <td>3.0</td>\n",
       "      <td>195.0</td>\n",
       "      <td>81.0</td>\n",
       "      <td>81.0</td>\n",
       "      <td>NA</td>\n",
       "      <td>1.0</td>\n",
       "      <td>0.0</td>\n",
       "      <td>0.0</td>\n",
       "      <td>0.0</td>\n",
       "      <td>0.0</td>\n",
       "      <td>2.0</td>\n",
       "      <td>58.3</td>\n",
       "    </tr>\n",
       "    <tr>\n",
       "      <th>2</th>\n",
       "      <td>3</td>\n",
       "      <td>1</td>\n",
       "      <td>1/1</td>\n",
       "      <td>1/1</td>\n",
       "      <td>1/1</td>\n",
       "      <td>1/1</td>\n",
       "      <td>5.0</td>\n",
       "      <td>197.0</td>\n",
       "      <td>114.0</td>\n",
       "      <td>114.0</td>\n",
       "      <td>NA</td>\n",
       "      <td>1.0</td>\n",
       "      <td>0.0</td>\n",
       "      <td>0.0</td>\n",
       "      <td>0.0</td>\n",
       "      <td>0.0</td>\n",
       "      <td>0.0</td>\n",
       "      <td>58.9</td>\n",
       "    </tr>\n",
       "    <tr>\n",
       "      <th>3</th>\n",
       "      <td>4</td>\n",
       "      <td>1</td>\n",
       "      <td>1/1</td>\n",
       "      <td>1/1</td>\n",
       "      <td>1/1</td>\n",
       "      <td>1/1</td>\n",
       "      <td>6.0</td>\n",
       "      <td>198.0</td>\n",
       "      <td>78.0</td>\n",
       "      <td>78.0</td>\n",
       "      <td>NA</td>\n",
       "      <td>1.0</td>\n",
       "      <td>0.0</td>\n",
       "      <td>0.0</td>\n",
       "      <td>0.0</td>\n",
       "      <td>0.0</td>\n",
       "      <td>2.0</td>\n",
       "      <td>58.9</td>\n",
       "    </tr>\n",
       "    <tr>\n",
       "      <th>4</th>\n",
       "      <td>5</td>\n",
       "      <td>1</td>\n",
       "      <td>1/1</td>\n",
       "      <td>1/1</td>\n",
       "      <td>1/1</td>\n",
       "      <td>1/1</td>\n",
       "      <td>8.0</td>\n",
       "      <td>200.0</td>\n",
       "      <td>111.0</td>\n",
       "      <td>111.0</td>\n",
       "      <td>NA</td>\n",
       "      <td>1.0</td>\n",
       "      <td>0.0</td>\n",
       "      <td>0.0</td>\n",
       "      <td>0.0</td>\n",
       "      <td>0.0</td>\n",
       "      <td>0.0</td>\n",
       "      <td>58.9</td>\n",
       "    </tr>\n",
       "    <tr>\n",
       "      <th>5</th>\n",
       "      <td>6</td>\n",
       "      <td>1</td>\n",
       "      <td>1/1</td>\n",
       "      <td>1/1</td>\n",
       "      <td>1/1</td>\n",
       "      <td>1/1</td>\n",
       "      <td>11.0</td>\n",
       "      <td>203.0</td>\n",
       "      <td>108.0</td>\n",
       "      <td>108.0</td>\n",
       "      <td>NA</td>\n",
       "      <td>1.0</td>\n",
       "      <td>0.0</td>\n",
       "      <td>0.0</td>\n",
       "      <td>0.0</td>\n",
       "      <td>0.0</td>\n",
       "      <td>0.0</td>\n",
       "      <td>58.3</td>\n",
       "    </tr>\n",
       "    <tr>\n",
       "      <th>6</th>\n",
       "      <td>7</td>\n",
       "      <td>1</td>\n",
       "      <td>1/1</td>\n",
       "      <td>1/1</td>\n",
       "      <td>1/1</td>\n",
       "      <td>1/1</td>\n",
       "      <td>14.0</td>\n",
       "      <td>206.0</td>\n",
       "      <td>105.0</td>\n",
       "      <td>105.0</td>\n",
       "      <td>NA</td>\n",
       "      <td>1.0</td>\n",
       "      <td>0.0</td>\n",
       "      <td>0.0</td>\n",
       "      <td>0.0</td>\n",
       "      <td>0.0</td>\n",
       "      <td>0.0</td>\n",
       "      <td>58.9</td>\n",
       "    </tr>\n",
       "    <tr>\n",
       "      <th>7</th>\n",
       "      <td>8</td>\n",
       "      <td>1</td>\n",
       "      <td>1/1</td>\n",
       "      <td>1/1</td>\n",
       "      <td>1/1</td>\n",
       "      <td>1/1</td>\n",
       "      <td>17.0</td>\n",
       "      <td>209.0</td>\n",
       "      <td>102.0</td>\n",
       "      <td>102.0</td>\n",
       "      <td>NA</td>\n",
       "      <td>1.0</td>\n",
       "      <td>0.0</td>\n",
       "      <td>0.0</td>\n",
       "      <td>0.0</td>\n",
       "      <td>0.0</td>\n",
       "      <td>0.0</td>\n",
       "      <td>59.4</td>\n",
       "    </tr>\n",
       "    <tr>\n",
       "      <th>8</th>\n",
       "      <td>9</td>\n",
       "      <td>1</td>\n",
       "      <td>1/1</td>\n",
       "      <td>1/1</td>\n",
       "      <td>1/1</td>\n",
       "      <td>1/1</td>\n",
       "      <td>20.0</td>\n",
       "      <td>212.0</td>\n",
       "      <td>99.0</td>\n",
       "      <td>99.0</td>\n",
       "      <td>NA</td>\n",
       "      <td>1.0</td>\n",
       "      <td>0.0</td>\n",
       "      <td>0.0</td>\n",
       "      <td>0.0</td>\n",
       "      <td>0.0</td>\n",
       "      <td>0.0</td>\n",
       "      <td>59.4</td>\n",
       "    </tr>\n",
       "    <tr>\n",
       "      <th>9</th>\n",
       "      <td>10</td>\n",
       "      <td>1</td>\n",
       "      <td>1/1</td>\n",
       "      <td>1/1</td>\n",
       "      <td>1/1</td>\n",
       "      <td>1/1</td>\n",
       "      <td>23.0</td>\n",
       "      <td>215.0</td>\n",
       "      <td>96.0</td>\n",
       "      <td>96.0</td>\n",
       "      <td>NA</td>\n",
       "      <td>1.0</td>\n",
       "      <td>0.0</td>\n",
       "      <td>0.0</td>\n",
       "      <td>0.0</td>\n",
       "      <td>0.0</td>\n",
       "      <td>0.0</td>\n",
       "      <td>59.4</td>\n",
       "    </tr>\n",
       "    <tr>\n",
       "      <th>10</th>\n",
       "      <td>11</td>\n",
       "      <td>1</td>\n",
       "      <td>1/1</td>\n",
       "      <td>1/1</td>\n",
       "      <td>1/1</td>\n",
       "      <td>1/1</td>\n",
       "      <td>26.0</td>\n",
       "      <td>218.0</td>\n",
       "      <td>93.0</td>\n",
       "      <td>93.0</td>\n",
       "      <td>NA</td>\n",
       "      <td>1.0</td>\n",
       "      <td>0.0</td>\n",
       "      <td>0.0</td>\n",
       "      <td>0.0</td>\n",
       "      <td>0.0</td>\n",
       "      <td>0.0</td>\n",
       "      <td>58.9</td>\n",
       "    </tr>\n",
       "    <tr>\n",
       "      <th>11</th>\n",
       "      <td>12</td>\n",
       "      <td>1</td>\n",
       "      <td>1/1</td>\n",
       "      <td>1/1</td>\n",
       "      <td>1/1</td>\n",
       "      <td>1/1</td>\n",
       "      <td>29.0</td>\n",
       "      <td>221.0</td>\n",
       "      <td>90.0</td>\n",
       "      <td>90.0</td>\n",
       "      <td>NA</td>\n",
       "      <td>1.0</td>\n",
       "      <td>0.0</td>\n",
       "      <td>0.0</td>\n",
       "      <td>0.0</td>\n",
       "      <td>0.0</td>\n",
       "      <td>0.0</td>\n",
       "      <td>58.9</td>\n",
       "    </tr>\n",
       "    <tr>\n",
       "      <th>12</th>\n",
       "      <td>13</td>\n",
       "      <td>1</td>\n",
       "      <td>1/1</td>\n",
       "      <td>1/1</td>\n",
       "      <td>1/1</td>\n",
       "      <td>1/1</td>\n",
       "      <td>32.0</td>\n",
       "      <td>224.0</td>\n",
       "      <td>87.0</td>\n",
       "      <td>87.0</td>\n",
       "      <td>NA</td>\n",
       "      <td>1.0</td>\n",
       "      <td>0.0</td>\n",
       "      <td>0.0</td>\n",
       "      <td>0.0</td>\n",
       "      <td>0.0</td>\n",
       "      <td>0.0</td>\n",
       "      <td>58.9</td>\n",
       "    </tr>\n",
       "    <tr>\n",
       "      <th>13</th>\n",
       "      <td>14</td>\n",
       "      <td>1</td>\n",
       "      <td>1/1</td>\n",
       "      <td>1/1</td>\n",
       "      <td>1/1</td>\n",
       "      <td>1/1</td>\n",
       "      <td>35.0</td>\n",
       "      <td>227.0</td>\n",
       "      <td>84.0</td>\n",
       "      <td>84.0</td>\n",
       "      <td>NA</td>\n",
       "      <td>1.0</td>\n",
       "      <td>0.0</td>\n",
       "      <td>0.0</td>\n",
       "      <td>0.0</td>\n",
       "      <td>0.0</td>\n",
       "      <td>0.0</td>\n",
       "      <td>59.4</td>\n",
       "    </tr>\n",
       "    <tr>\n",
       "      <th>14</th>\n",
       "      <td>15</td>\n",
       "      <td>1</td>\n",
       "      <td>1/1</td>\n",
       "      <td>1/1</td>\n",
       "      <td>1/1</td>\n",
       "      <td>1/1</td>\n",
       "      <td>38.0</td>\n",
       "      <td>230.0</td>\n",
       "      <td>81.0</td>\n",
       "      <td>81.0</td>\n",
       "      <td>NA</td>\n",
       "      <td>1.0</td>\n",
       "      <td>0.0</td>\n",
       "      <td>0.0</td>\n",
       "      <td>0.0</td>\n",
       "      <td>0.0</td>\n",
       "      <td>0.0</td>\n",
       "      <td>58.3</td>\n",
       "    </tr>\n",
       "    <tr>\n",
       "      <th>15</th>\n",
       "      <td>16</td>\n",
       "      <td>1</td>\n",
       "      <td>1/1</td>\n",
       "      <td>1/1</td>\n",
       "      <td>1/1</td>\n",
       "      <td>1/1</td>\n",
       "      <td>41.0</td>\n",
       "      <td>233.0</td>\n",
       "      <td>78.0</td>\n",
       "      <td>78.0</td>\n",
       "      <td>NA</td>\n",
       "      <td>1.0</td>\n",
       "      <td>0.0</td>\n",
       "      <td>0.0</td>\n",
       "      <td>0.0</td>\n",
       "      <td>0.0</td>\n",
       "      <td>0.0</td>\n",
       "      <td>58.9</td>\n",
       "    </tr>\n",
       "    <tr>\n",
       "      <th>16</th>\n",
       "      <td>17</td>\n",
       "      <td>1</td>\n",
       "      <td>1/1</td>\n",
       "      <td>1/1</td>\n",
       "      <td>1/1</td>\n",
       "      <td>1/1</td>\n",
       "      <td>121.0</td>\n",
       "      <td>313.0</td>\n",
       "      <td>78.0</td>\n",
       "      <td>78.0</td>\n",
       "      <td>NA</td>\n",
       "      <td>1.0</td>\n",
       "      <td>0.0</td>\n",
       "      <td>0.0</td>\n",
       "      <td>0.0</td>\n",
       "      <td>0.0</td>\n",
       "      <td>1.0</td>\n",
       "      <td>60.4</td>\n",
       "    </tr>\n",
       "    <tr>\n",
       "      <th>17</th>\n",
       "      <td>18</td>\n",
       "      <td>1</td>\n",
       "      <td>1/1</td>\n",
       "      <td>1/1</td>\n",
       "      <td>1/1</td>\n",
       "      <td>1/1</td>\n",
       "      <td>359.0</td>\n",
       "      <td>551.0</td>\n",
       "      <td>90.0</td>\n",
       "      <td>90.0</td>\n",
       "      <td>NA</td>\n",
       "      <td>1.0</td>\n",
       "      <td>0.0</td>\n",
       "      <td>0.0</td>\n",
       "      <td>0.0</td>\n",
       "      <td>0.0</td>\n",
       "      <td>2.0</td>\n",
       "      <td>59.9</td>\n",
       "    </tr>\n",
       "    <tr>\n",
       "      <th>18</th>\n",
       "      <td>19</td>\n",
       "      <td>1</td>\n",
       "      <td>1/1</td>\n",
       "      <td>1/1</td>\n",
       "      <td>1/1</td>\n",
       "      <td>1/1</td>\n",
       "      <td>362.0</td>\n",
       "      <td>554.0</td>\n",
       "      <td>87.0</td>\n",
       "      <td>87.0</td>\n",
       "      <td>NA</td>\n",
       "      <td>1.0</td>\n",
       "      <td>0.0</td>\n",
       "      <td>0.0</td>\n",
       "      <td>0.0</td>\n",
       "      <td>0.0</td>\n",
       "      <td>2.0</td>\n",
       "      <td>60.4</td>\n",
       "    </tr>\n",
       "    <tr>\n",
       "      <th>19</th>\n",
       "      <td>20</td>\n",
       "      <td>1</td>\n",
       "      <td>1/1</td>\n",
       "      <td>1/1</td>\n",
       "      <td>1/1</td>\n",
       "      <td>1/1</td>\n",
       "      <td>365.0</td>\n",
       "      <td>557.0</td>\n",
       "      <td>84.0</td>\n",
       "      <td>84.0</td>\n",
       "      <td>NA</td>\n",
       "      <td>1.0</td>\n",
       "      <td>0.0</td>\n",
       "      <td>0.0</td>\n",
       "      <td>0.0</td>\n",
       "      <td>0.0</td>\n",
       "      <td>2.0</td>\n",
       "      <td>59.9</td>\n",
       "    </tr>\n",
       "    <tr>\n",
       "      <th>20</th>\n",
       "      <td>21</td>\n",
       "      <td>1</td>\n",
       "      <td>1/1</td>\n",
       "      <td>1/1</td>\n",
       "      <td>1/1</td>\n",
       "      <td>1/1</td>\n",
       "      <td>368.0</td>\n",
       "      <td>560.0</td>\n",
       "      <td>81.0</td>\n",
       "      <td>81.0</td>\n",
       "      <td>NA</td>\n",
       "      <td>1.0</td>\n",
       "      <td>0.0</td>\n",
       "      <td>0.0</td>\n",
       "      <td>0.0</td>\n",
       "      <td>0.0</td>\n",
       "      <td>2.0</td>\n",
       "      <td>60.4</td>\n",
       "    </tr>\n",
       "    <tr>\n",
       "      <th>21</th>\n",
       "      <td>22</td>\n",
       "      <td>1</td>\n",
       "      <td>1/1</td>\n",
       "      <td>1/1</td>\n",
       "      <td>1/1</td>\n",
       "      <td>1/1</td>\n",
       "      <td>371.0</td>\n",
       "      <td>563.0</td>\n",
       "      <td>78.0</td>\n",
       "      <td>78.0</td>\n",
       "      <td>NA</td>\n",
       "      <td>1.0</td>\n",
       "      <td>0.0</td>\n",
       "      <td>0.0</td>\n",
       "      <td>0.0</td>\n",
       "      <td>0.0</td>\n",
       "      <td>2.0</td>\n",
       "      <td>59.9</td>\n",
       "    </tr>\n",
       "  </tbody>\n",
       "</table>\n",
       "</div>"
      ],
      "text/plain": [
       "    sesNum  SeqNum ExonFrac ExonProtFrac CDSFrac CDNAFrac  StartSeq  StopSeq  \\\n",
       "0        1       1      1/1          1/1     1/1      1/1       0.0    192.0   \n",
       "1        2       1      1/1          1/1     1/1      1/1       3.0    195.0   \n",
       "2        3       1      1/1          1/1     1/1      1/1       5.0    197.0   \n",
       "3        4       1      1/1          1/1     1/1      1/1       6.0    198.0   \n",
       "4        5       1      1/1          1/1     1/1      1/1       8.0    200.0   \n",
       "5        6       1      1/1          1/1     1/1      1/1      11.0    203.0   \n",
       "6        7       1      1/1          1/1     1/1      1/1      14.0    206.0   \n",
       "7        8       1      1/1          1/1     1/1      1/1      17.0    209.0   \n",
       "8        9       1      1/1          1/1     1/1      1/1      20.0    212.0   \n",
       "9       10       1      1/1          1/1     1/1      1/1      23.0    215.0   \n",
       "10      11       1      1/1          1/1     1/1      1/1      26.0    218.0   \n",
       "11      12       1      1/1          1/1     1/1      1/1      29.0    221.0   \n",
       "12      13       1      1/1          1/1     1/1      1/1      32.0    224.0   \n",
       "13      14       1      1/1          1/1     1/1      1/1      35.0    227.0   \n",
       "14      15       1      1/1          1/1     1/1      1/1      38.0    230.0   \n",
       "15      16       1      1/1          1/1     1/1      1/1      41.0    233.0   \n",
       "16      17       1      1/1          1/1     1/1      1/1     121.0    313.0   \n",
       "17      18       1      1/1          1/1     1/1      1/1     359.0    551.0   \n",
       "18      19       1      1/1          1/1     1/1      1/1     362.0    554.0   \n",
       "19      20       1      1/1          1/1     1/1      1/1     365.0    557.0   \n",
       "20      21       1      1/1          1/1     1/1      1/1     368.0    560.0   \n",
       "21      22       1      1/1          1/1     1/1      1/1     371.0    563.0   \n",
       "\n",
       "    firstTGG  centralTGG second_cTGG  numTGG  numTTGG  numTGGA  numTTGGA  \\\n",
       "0       84.0        84.0          NA     1.0      0.0      0.0       0.0   \n",
       "1       81.0        81.0          NA     1.0      0.0      0.0       0.0   \n",
       "2      114.0       114.0          NA     1.0      0.0      0.0       0.0   \n",
       "3       78.0        78.0          NA     1.0      0.0      0.0       0.0   \n",
       "4      111.0       111.0          NA     1.0      0.0      0.0       0.0   \n",
       "5      108.0       108.0          NA     1.0      0.0      0.0       0.0   \n",
       "6      105.0       105.0          NA     1.0      0.0      0.0       0.0   \n",
       "7      102.0       102.0          NA     1.0      0.0      0.0       0.0   \n",
       "8       99.0        99.0          NA     1.0      0.0      0.0       0.0   \n",
       "9       96.0        96.0          NA     1.0      0.0      0.0       0.0   \n",
       "10      93.0        93.0          NA     1.0      0.0      0.0       0.0   \n",
       "11      90.0        90.0          NA     1.0      0.0      0.0       0.0   \n",
       "12      87.0        87.0          NA     1.0      0.0      0.0       0.0   \n",
       "13      84.0        84.0          NA     1.0      0.0      0.0       0.0   \n",
       "14      81.0        81.0          NA     1.0      0.0      0.0       0.0   \n",
       "15      78.0        78.0          NA     1.0      0.0      0.0       0.0   \n",
       "16      78.0        78.0          NA     1.0      0.0      0.0       0.0   \n",
       "17      90.0        90.0          NA     1.0      0.0      0.0       0.0   \n",
       "18      87.0        87.0          NA     1.0      0.0      0.0       0.0   \n",
       "19      84.0        84.0          NA     1.0      0.0      0.0       0.0   \n",
       "20      81.0        81.0          NA     1.0      0.0      0.0       0.0   \n",
       "21      78.0        78.0          NA     1.0      0.0      0.0       0.0   \n",
       "\n",
       "    numATG  numStop  gcCont  \n",
       "0      0.0      2.0    58.3  \n",
       "1      0.0      2.0    58.3  \n",
       "2      0.0      0.0    58.9  \n",
       "3      0.0      2.0    58.9  \n",
       "4      0.0      0.0    58.9  \n",
       "5      0.0      0.0    58.3  \n",
       "6      0.0      0.0    58.9  \n",
       "7      0.0      0.0    59.4  \n",
       "8      0.0      0.0    59.4  \n",
       "9      0.0      0.0    59.4  \n",
       "10     0.0      0.0    58.9  \n",
       "11     0.0      0.0    58.9  \n",
       "12     0.0      0.0    58.9  \n",
       "13     0.0      0.0    59.4  \n",
       "14     0.0      0.0    58.3  \n",
       "15     0.0      0.0    58.9  \n",
       "16     0.0      1.0    60.4  \n",
       "17     0.0      2.0    59.9  \n",
       "18     0.0      2.0    60.4  \n",
       "19     0.0      2.0    59.9  \n",
       "20     0.0      2.0    60.4  \n",
       "21     0.0      2.0    59.9  "
      ]
     },
     "execution_count": 30,
     "metadata": {},
     "output_type": "execute_result"
    }
   ],
   "source": [
    "all_sesRNAs, all_sequenceMetrics, all_sesRNA_objs = generate_all_sesRNAs(target, test, parameters, variantTable['Type'])\n",
    "all_sequenceMetrics"
   ]
  },
  {
   "cell_type": "code",
   "execution_count": null,
   "id": "ea5d65f0-83ec-463a-b323-ffc056d64a5b",
   "metadata": {},
   "outputs": [],
   "source": []
  },
  {
   "cell_type": "code",
   "execution_count": null,
   "id": "1743f1a8-4581-460b-b5e9-d990443c8d7e",
   "metadata": {},
   "outputs": [],
   "source": []
  },
  {
   "cell_type": "markdown",
   "id": "de55e562-ad5a-49b7-873e-2fd59d473e04",
   "metadata": {},
   "source": [
    "# Secondary structure "
   ]
  },
  {
   "cell_type": "markdown",
   "id": "40364920-4c4a-408f-82e2-e15f943024e7",
   "metadata": {},
   "source": [
    "## Working "
   ]
  },
  {
   "cell_type": "code",
   "execution_count": 31,
   "id": "10d1c1a4-fe89-496d-9eea-6d79cf096a13",
   "metadata": {
    "execution": {
     "iopub.execute_input": "2022-07-27T19:10:54.997902Z",
     "iopub.status.busy": "2022-07-27T19:10:54.997311Z",
     "iopub.status.idle": "2022-07-27T19:10:56.036655Z",
     "shell.execute_reply": "2022-07-27T19:10:56.035443Z",
     "shell.execute_reply.started": "2022-07-27T19:10:54.997860Z"
    },
    "tags": []
   },
   "outputs": [
    {
     "data": {
      "text/html": [
       "<div>\n",
       "<style scoped>\n",
       "    .dataframe tbody tr th:only-of-type {\n",
       "        vertical-align: middle;\n",
       "    }\n",
       "\n",
       "    .dataframe tbody tr th {\n",
       "        vertical-align: top;\n",
       "    }\n",
       "\n",
       "    .dataframe thead th {\n",
       "        text-align: right;\n",
       "    }\n",
       "</style>\n",
       "<table border=\"1\" class=\"dataframe\">\n",
       "  <thead>\n",
       "    <tr style=\"text-align: right;\">\n",
       "      <th></th>\n",
       "      <th>sesNum</th>\n",
       "      <th>SeqNum</th>\n",
       "      <th>ExonFrac</th>\n",
       "      <th>ExonProtFrac</th>\n",
       "      <th>CDSFrac</th>\n",
       "      <th>CDNAFrac</th>\n",
       "      <th>StartSeq</th>\n",
       "      <th>StopSeq</th>\n",
       "      <th>firstTGG</th>\n",
       "      <th>centralTGG</th>\n",
       "      <th>second_cTGG</th>\n",
       "      <th>numTGG</th>\n",
       "      <th>numTTGG</th>\n",
       "      <th>numTGGA</th>\n",
       "      <th>numTTGGA</th>\n",
       "      <th>numATG</th>\n",
       "      <th>numStop</th>\n",
       "      <th>gcCont</th>\n",
       "      <th>mfe</th>\n",
       "    </tr>\n",
       "  </thead>\n",
       "  <tbody>\n",
       "    <tr>\n",
       "      <th>0</th>\n",
       "      <td>1</td>\n",
       "      <td>1</td>\n",
       "      <td>1/1</td>\n",
       "      <td>1/1</td>\n",
       "      <td>1/1</td>\n",
       "      <td>1/1</td>\n",
       "      <td>0.0</td>\n",
       "      <td>192.0</td>\n",
       "      <td>84.0</td>\n",
       "      <td>84.0</td>\n",
       "      <td>NA</td>\n",
       "      <td>1.0</td>\n",
       "      <td>0.0</td>\n",
       "      <td>0.0</td>\n",
       "      <td>0.0</td>\n",
       "      <td>0.0</td>\n",
       "      <td>2.0</td>\n",
       "      <td>58.3</td>\n",
       "      <td>-68.9</td>\n",
       "    </tr>\n",
       "    <tr>\n",
       "      <th>1</th>\n",
       "      <td>2</td>\n",
       "      <td>1</td>\n",
       "      <td>1/1</td>\n",
       "      <td>1/1</td>\n",
       "      <td>1/1</td>\n",
       "      <td>1/1</td>\n",
       "      <td>3.0</td>\n",
       "      <td>195.0</td>\n",
       "      <td>81.0</td>\n",
       "      <td>81.0</td>\n",
       "      <td>NA</td>\n",
       "      <td>1.0</td>\n",
       "      <td>0.0</td>\n",
       "      <td>0.0</td>\n",
       "      <td>0.0</td>\n",
       "      <td>0.0</td>\n",
       "      <td>2.0</td>\n",
       "      <td>58.3</td>\n",
       "      <td>-69.3</td>\n",
       "    </tr>\n",
       "    <tr>\n",
       "      <th>2</th>\n",
       "      <td>3</td>\n",
       "      <td>1</td>\n",
       "      <td>1/1</td>\n",
       "      <td>1/1</td>\n",
       "      <td>1/1</td>\n",
       "      <td>1/1</td>\n",
       "      <td>5.0</td>\n",
       "      <td>197.0</td>\n",
       "      <td>114.0</td>\n",
       "      <td>114.0</td>\n",
       "      <td>NA</td>\n",
       "      <td>1.0</td>\n",
       "      <td>0.0</td>\n",
       "      <td>0.0</td>\n",
       "      <td>0.0</td>\n",
       "      <td>0.0</td>\n",
       "      <td>0.0</td>\n",
       "      <td>58.9</td>\n",
       "      <td>-61.6</td>\n",
       "    </tr>\n",
       "    <tr>\n",
       "      <th>3</th>\n",
       "      <td>4</td>\n",
       "      <td>1</td>\n",
       "      <td>1/1</td>\n",
       "      <td>1/1</td>\n",
       "      <td>1/1</td>\n",
       "      <td>1/1</td>\n",
       "      <td>6.0</td>\n",
       "      <td>198.0</td>\n",
       "      <td>78.0</td>\n",
       "      <td>78.0</td>\n",
       "      <td>NA</td>\n",
       "      <td>1.0</td>\n",
       "      <td>0.0</td>\n",
       "      <td>0.0</td>\n",
       "      <td>0.0</td>\n",
       "      <td>0.0</td>\n",
       "      <td>2.0</td>\n",
       "      <td>58.9</td>\n",
       "      <td>-69.5</td>\n",
       "    </tr>\n",
       "    <tr>\n",
       "      <th>4</th>\n",
       "      <td>5</td>\n",
       "      <td>1</td>\n",
       "      <td>1/1</td>\n",
       "      <td>1/1</td>\n",
       "      <td>1/1</td>\n",
       "      <td>1/1</td>\n",
       "      <td>8.0</td>\n",
       "      <td>200.0</td>\n",
       "      <td>111.0</td>\n",
       "      <td>111.0</td>\n",
       "      <td>NA</td>\n",
       "      <td>1.0</td>\n",
       "      <td>0.0</td>\n",
       "      <td>0.0</td>\n",
       "      <td>0.0</td>\n",
       "      <td>0.0</td>\n",
       "      <td>0.0</td>\n",
       "      <td>58.9</td>\n",
       "      <td>-62.3</td>\n",
       "    </tr>\n",
       "    <tr>\n",
       "      <th>5</th>\n",
       "      <td>6</td>\n",
       "      <td>1</td>\n",
       "      <td>1/1</td>\n",
       "      <td>1/1</td>\n",
       "      <td>1/1</td>\n",
       "      <td>1/1</td>\n",
       "      <td>11.0</td>\n",
       "      <td>203.0</td>\n",
       "      <td>108.0</td>\n",
       "      <td>108.0</td>\n",
       "      <td>NA</td>\n",
       "      <td>1.0</td>\n",
       "      <td>0.0</td>\n",
       "      <td>0.0</td>\n",
       "      <td>0.0</td>\n",
       "      <td>0.0</td>\n",
       "      <td>0.0</td>\n",
       "      <td>58.3</td>\n",
       "      <td>-62.3</td>\n",
       "    </tr>\n",
       "    <tr>\n",
       "      <th>6</th>\n",
       "      <td>7</td>\n",
       "      <td>1</td>\n",
       "      <td>1/1</td>\n",
       "      <td>1/1</td>\n",
       "      <td>1/1</td>\n",
       "      <td>1/1</td>\n",
       "      <td>14.0</td>\n",
       "      <td>206.0</td>\n",
       "      <td>105.0</td>\n",
       "      <td>105.0</td>\n",
       "      <td>NA</td>\n",
       "      <td>1.0</td>\n",
       "      <td>0.0</td>\n",
       "      <td>0.0</td>\n",
       "      <td>0.0</td>\n",
       "      <td>0.0</td>\n",
       "      <td>0.0</td>\n",
       "      <td>58.9</td>\n",
       "      <td>-59.5</td>\n",
       "    </tr>\n",
       "    <tr>\n",
       "      <th>7</th>\n",
       "      <td>8</td>\n",
       "      <td>1</td>\n",
       "      <td>1/1</td>\n",
       "      <td>1/1</td>\n",
       "      <td>1/1</td>\n",
       "      <td>1/1</td>\n",
       "      <td>17.0</td>\n",
       "      <td>209.0</td>\n",
       "      <td>102.0</td>\n",
       "      <td>102.0</td>\n",
       "      <td>NA</td>\n",
       "      <td>1.0</td>\n",
       "      <td>0.0</td>\n",
       "      <td>0.0</td>\n",
       "      <td>0.0</td>\n",
       "      <td>0.0</td>\n",
       "      <td>0.0</td>\n",
       "      <td>59.4</td>\n",
       "      <td>-61.0</td>\n",
       "    </tr>\n",
       "    <tr>\n",
       "      <th>8</th>\n",
       "      <td>9</td>\n",
       "      <td>1</td>\n",
       "      <td>1/1</td>\n",
       "      <td>1/1</td>\n",
       "      <td>1/1</td>\n",
       "      <td>1/1</td>\n",
       "      <td>20.0</td>\n",
       "      <td>212.0</td>\n",
       "      <td>99.0</td>\n",
       "      <td>99.0</td>\n",
       "      <td>NA</td>\n",
       "      <td>1.0</td>\n",
       "      <td>0.0</td>\n",
       "      <td>0.0</td>\n",
       "      <td>0.0</td>\n",
       "      <td>0.0</td>\n",
       "      <td>0.0</td>\n",
       "      <td>59.4</td>\n",
       "      <td>-63.1</td>\n",
       "    </tr>\n",
       "    <tr>\n",
       "      <th>9</th>\n",
       "      <td>10</td>\n",
       "      <td>1</td>\n",
       "      <td>1/1</td>\n",
       "      <td>1/1</td>\n",
       "      <td>1/1</td>\n",
       "      <td>1/1</td>\n",
       "      <td>23.0</td>\n",
       "      <td>215.0</td>\n",
       "      <td>96.0</td>\n",
       "      <td>96.0</td>\n",
       "      <td>NA</td>\n",
       "      <td>1.0</td>\n",
       "      <td>0.0</td>\n",
       "      <td>0.0</td>\n",
       "      <td>0.0</td>\n",
       "      <td>0.0</td>\n",
       "      <td>0.0</td>\n",
       "      <td>59.4</td>\n",
       "      <td>-63.7</td>\n",
       "    </tr>\n",
       "    <tr>\n",
       "      <th>10</th>\n",
       "      <td>11</td>\n",
       "      <td>1</td>\n",
       "      <td>1/1</td>\n",
       "      <td>1/1</td>\n",
       "      <td>1/1</td>\n",
       "      <td>1/1</td>\n",
       "      <td>26.0</td>\n",
       "      <td>218.0</td>\n",
       "      <td>93.0</td>\n",
       "      <td>93.0</td>\n",
       "      <td>NA</td>\n",
       "      <td>1.0</td>\n",
       "      <td>0.0</td>\n",
       "      <td>0.0</td>\n",
       "      <td>0.0</td>\n",
       "      <td>0.0</td>\n",
       "      <td>0.0</td>\n",
       "      <td>58.9</td>\n",
       "      <td>-65.7</td>\n",
       "    </tr>\n",
       "    <tr>\n",
       "      <th>11</th>\n",
       "      <td>12</td>\n",
       "      <td>1</td>\n",
       "      <td>1/1</td>\n",
       "      <td>1/1</td>\n",
       "      <td>1/1</td>\n",
       "      <td>1/1</td>\n",
       "      <td>29.0</td>\n",
       "      <td>221.0</td>\n",
       "      <td>90.0</td>\n",
       "      <td>90.0</td>\n",
       "      <td>NA</td>\n",
       "      <td>1.0</td>\n",
       "      <td>0.0</td>\n",
       "      <td>0.0</td>\n",
       "      <td>0.0</td>\n",
       "      <td>0.0</td>\n",
       "      <td>0.0</td>\n",
       "      <td>58.9</td>\n",
       "      <td>-65.5</td>\n",
       "    </tr>\n",
       "    <tr>\n",
       "      <th>12</th>\n",
       "      <td>13</td>\n",
       "      <td>1</td>\n",
       "      <td>1/1</td>\n",
       "      <td>1/1</td>\n",
       "      <td>1/1</td>\n",
       "      <td>1/1</td>\n",
       "      <td>32.0</td>\n",
       "      <td>224.0</td>\n",
       "      <td>87.0</td>\n",
       "      <td>87.0</td>\n",
       "      <td>NA</td>\n",
       "      <td>1.0</td>\n",
       "      <td>0.0</td>\n",
       "      <td>0.0</td>\n",
       "      <td>0.0</td>\n",
       "      <td>0.0</td>\n",
       "      <td>0.0</td>\n",
       "      <td>58.9</td>\n",
       "      <td>-65.5</td>\n",
       "    </tr>\n",
       "    <tr>\n",
       "      <th>13</th>\n",
       "      <td>14</td>\n",
       "      <td>1</td>\n",
       "      <td>1/1</td>\n",
       "      <td>1/1</td>\n",
       "      <td>1/1</td>\n",
       "      <td>1/1</td>\n",
       "      <td>35.0</td>\n",
       "      <td>227.0</td>\n",
       "      <td>84.0</td>\n",
       "      <td>84.0</td>\n",
       "      <td>NA</td>\n",
       "      <td>1.0</td>\n",
       "      <td>0.0</td>\n",
       "      <td>0.0</td>\n",
       "      <td>0.0</td>\n",
       "      <td>0.0</td>\n",
       "      <td>0.0</td>\n",
       "      <td>59.4</td>\n",
       "      <td>-65.6</td>\n",
       "    </tr>\n",
       "    <tr>\n",
       "      <th>14</th>\n",
       "      <td>15</td>\n",
       "      <td>1</td>\n",
       "      <td>1/1</td>\n",
       "      <td>1/1</td>\n",
       "      <td>1/1</td>\n",
       "      <td>1/1</td>\n",
       "      <td>38.0</td>\n",
       "      <td>230.0</td>\n",
       "      <td>81.0</td>\n",
       "      <td>81.0</td>\n",
       "      <td>NA</td>\n",
       "      <td>1.0</td>\n",
       "      <td>0.0</td>\n",
       "      <td>0.0</td>\n",
       "      <td>0.0</td>\n",
       "      <td>0.0</td>\n",
       "      <td>0.0</td>\n",
       "      <td>58.3</td>\n",
       "      <td>-64.0</td>\n",
       "    </tr>\n",
       "    <tr>\n",
       "      <th>15</th>\n",
       "      <td>16</td>\n",
       "      <td>1</td>\n",
       "      <td>1/1</td>\n",
       "      <td>1/1</td>\n",
       "      <td>1/1</td>\n",
       "      <td>1/1</td>\n",
       "      <td>41.0</td>\n",
       "      <td>233.0</td>\n",
       "      <td>78.0</td>\n",
       "      <td>78.0</td>\n",
       "      <td>NA</td>\n",
       "      <td>1.0</td>\n",
       "      <td>0.0</td>\n",
       "      <td>0.0</td>\n",
       "      <td>0.0</td>\n",
       "      <td>0.0</td>\n",
       "      <td>0.0</td>\n",
       "      <td>58.9</td>\n",
       "      <td>-64.0</td>\n",
       "    </tr>\n",
       "    <tr>\n",
       "      <th>16</th>\n",
       "      <td>17</td>\n",
       "      <td>1</td>\n",
       "      <td>1/1</td>\n",
       "      <td>1/1</td>\n",
       "      <td>1/1</td>\n",
       "      <td>1/1</td>\n",
       "      <td>121.0</td>\n",
       "      <td>313.0</td>\n",
       "      <td>78.0</td>\n",
       "      <td>78.0</td>\n",
       "      <td>NA</td>\n",
       "      <td>1.0</td>\n",
       "      <td>0.0</td>\n",
       "      <td>0.0</td>\n",
       "      <td>0.0</td>\n",
       "      <td>0.0</td>\n",
       "      <td>1.0</td>\n",
       "      <td>60.4</td>\n",
       "      <td>-63.5</td>\n",
       "    </tr>\n",
       "    <tr>\n",
       "      <th>17</th>\n",
       "      <td>18</td>\n",
       "      <td>1</td>\n",
       "      <td>1/1</td>\n",
       "      <td>1/1</td>\n",
       "      <td>1/1</td>\n",
       "      <td>1/1</td>\n",
       "      <td>359.0</td>\n",
       "      <td>551.0</td>\n",
       "      <td>90.0</td>\n",
       "      <td>90.0</td>\n",
       "      <td>NA</td>\n",
       "      <td>1.0</td>\n",
       "      <td>0.0</td>\n",
       "      <td>0.0</td>\n",
       "      <td>0.0</td>\n",
       "      <td>0.0</td>\n",
       "      <td>2.0</td>\n",
       "      <td>59.9</td>\n",
       "      <td>-75.2</td>\n",
       "    </tr>\n",
       "    <tr>\n",
       "      <th>18</th>\n",
       "      <td>19</td>\n",
       "      <td>1</td>\n",
       "      <td>1/1</td>\n",
       "      <td>1/1</td>\n",
       "      <td>1/1</td>\n",
       "      <td>1/1</td>\n",
       "      <td>362.0</td>\n",
       "      <td>554.0</td>\n",
       "      <td>87.0</td>\n",
       "      <td>87.0</td>\n",
       "      <td>NA</td>\n",
       "      <td>1.0</td>\n",
       "      <td>0.0</td>\n",
       "      <td>0.0</td>\n",
       "      <td>0.0</td>\n",
       "      <td>0.0</td>\n",
       "      <td>2.0</td>\n",
       "      <td>60.4</td>\n",
       "      <td>-75.2</td>\n",
       "    </tr>\n",
       "    <tr>\n",
       "      <th>19</th>\n",
       "      <td>20</td>\n",
       "      <td>1</td>\n",
       "      <td>1/1</td>\n",
       "      <td>1/1</td>\n",
       "      <td>1/1</td>\n",
       "      <td>1/1</td>\n",
       "      <td>365.0</td>\n",
       "      <td>557.0</td>\n",
       "      <td>84.0</td>\n",
       "      <td>84.0</td>\n",
       "      <td>NA</td>\n",
       "      <td>1.0</td>\n",
       "      <td>0.0</td>\n",
       "      <td>0.0</td>\n",
       "      <td>0.0</td>\n",
       "      <td>0.0</td>\n",
       "      <td>2.0</td>\n",
       "      <td>59.9</td>\n",
       "      <td>-73.1</td>\n",
       "    </tr>\n",
       "    <tr>\n",
       "      <th>20</th>\n",
       "      <td>21</td>\n",
       "      <td>1</td>\n",
       "      <td>1/1</td>\n",
       "      <td>1/1</td>\n",
       "      <td>1/1</td>\n",
       "      <td>1/1</td>\n",
       "      <td>368.0</td>\n",
       "      <td>560.0</td>\n",
       "      <td>81.0</td>\n",
       "      <td>81.0</td>\n",
       "      <td>NA</td>\n",
       "      <td>1.0</td>\n",
       "      <td>0.0</td>\n",
       "      <td>0.0</td>\n",
       "      <td>0.0</td>\n",
       "      <td>0.0</td>\n",
       "      <td>2.0</td>\n",
       "      <td>60.4</td>\n",
       "      <td>-73.6</td>\n",
       "    </tr>\n",
       "    <tr>\n",
       "      <th>21</th>\n",
       "      <td>22</td>\n",
       "      <td>1</td>\n",
       "      <td>1/1</td>\n",
       "      <td>1/1</td>\n",
       "      <td>1/1</td>\n",
       "      <td>1/1</td>\n",
       "      <td>371.0</td>\n",
       "      <td>563.0</td>\n",
       "      <td>78.0</td>\n",
       "      <td>78.0</td>\n",
       "      <td>NA</td>\n",
       "      <td>1.0</td>\n",
       "      <td>0.0</td>\n",
       "      <td>0.0</td>\n",
       "      <td>0.0</td>\n",
       "      <td>0.0</td>\n",
       "      <td>2.0</td>\n",
       "      <td>59.9</td>\n",
       "      <td>-72.5</td>\n",
       "    </tr>\n",
       "  </tbody>\n",
       "</table>\n",
       "</div>"
      ],
      "text/plain": [
       "    sesNum  SeqNum ExonFrac ExonProtFrac CDSFrac CDNAFrac  StartSeq  StopSeq  \\\n",
       "0        1       1      1/1          1/1     1/1      1/1       0.0    192.0   \n",
       "1        2       1      1/1          1/1     1/1      1/1       3.0    195.0   \n",
       "2        3       1      1/1          1/1     1/1      1/1       5.0    197.0   \n",
       "3        4       1      1/1          1/1     1/1      1/1       6.0    198.0   \n",
       "4        5       1      1/1          1/1     1/1      1/1       8.0    200.0   \n",
       "5        6       1      1/1          1/1     1/1      1/1      11.0    203.0   \n",
       "6        7       1      1/1          1/1     1/1      1/1      14.0    206.0   \n",
       "7        8       1      1/1          1/1     1/1      1/1      17.0    209.0   \n",
       "8        9       1      1/1          1/1     1/1      1/1      20.0    212.0   \n",
       "9       10       1      1/1          1/1     1/1      1/1      23.0    215.0   \n",
       "10      11       1      1/1          1/1     1/1      1/1      26.0    218.0   \n",
       "11      12       1      1/1          1/1     1/1      1/1      29.0    221.0   \n",
       "12      13       1      1/1          1/1     1/1      1/1      32.0    224.0   \n",
       "13      14       1      1/1          1/1     1/1      1/1      35.0    227.0   \n",
       "14      15       1      1/1          1/1     1/1      1/1      38.0    230.0   \n",
       "15      16       1      1/1          1/1     1/1      1/1      41.0    233.0   \n",
       "16      17       1      1/1          1/1     1/1      1/1     121.0    313.0   \n",
       "17      18       1      1/1          1/1     1/1      1/1     359.0    551.0   \n",
       "18      19       1      1/1          1/1     1/1      1/1     362.0    554.0   \n",
       "19      20       1      1/1          1/1     1/1      1/1     365.0    557.0   \n",
       "20      21       1      1/1          1/1     1/1      1/1     368.0    560.0   \n",
       "21      22       1      1/1          1/1     1/1      1/1     371.0    563.0   \n",
       "\n",
       "    firstTGG  centralTGG second_cTGG  numTGG  numTTGG  numTGGA  numTTGGA  \\\n",
       "0       84.0        84.0          NA     1.0      0.0      0.0       0.0   \n",
       "1       81.0        81.0          NA     1.0      0.0      0.0       0.0   \n",
       "2      114.0       114.0          NA     1.0      0.0      0.0       0.0   \n",
       "3       78.0        78.0          NA     1.0      0.0      0.0       0.0   \n",
       "4      111.0       111.0          NA     1.0      0.0      0.0       0.0   \n",
       "5      108.0       108.0          NA     1.0      0.0      0.0       0.0   \n",
       "6      105.0       105.0          NA     1.0      0.0      0.0       0.0   \n",
       "7      102.0       102.0          NA     1.0      0.0      0.0       0.0   \n",
       "8       99.0        99.0          NA     1.0      0.0      0.0       0.0   \n",
       "9       96.0        96.0          NA     1.0      0.0      0.0       0.0   \n",
       "10      93.0        93.0          NA     1.0      0.0      0.0       0.0   \n",
       "11      90.0        90.0          NA     1.0      0.0      0.0       0.0   \n",
       "12      87.0        87.0          NA     1.0      0.0      0.0       0.0   \n",
       "13      84.0        84.0          NA     1.0      0.0      0.0       0.0   \n",
       "14      81.0        81.0          NA     1.0      0.0      0.0       0.0   \n",
       "15      78.0        78.0          NA     1.0      0.0      0.0       0.0   \n",
       "16      78.0        78.0          NA     1.0      0.0      0.0       0.0   \n",
       "17      90.0        90.0          NA     1.0      0.0      0.0       0.0   \n",
       "18      87.0        87.0          NA     1.0      0.0      0.0       0.0   \n",
       "19      84.0        84.0          NA     1.0      0.0      0.0       0.0   \n",
       "20      81.0        81.0          NA     1.0      0.0      0.0       0.0   \n",
       "21      78.0        78.0          NA     1.0      0.0      0.0       0.0   \n",
       "\n",
       "    numATG  numStop  gcCont   mfe  \n",
       "0      0.0      2.0    58.3 -68.9  \n",
       "1      0.0      2.0    58.3 -69.3  \n",
       "2      0.0      0.0    58.9 -61.6  \n",
       "3      0.0      2.0    58.9 -69.5  \n",
       "4      0.0      0.0    58.9 -62.3  \n",
       "5      0.0      0.0    58.3 -62.3  \n",
       "6      0.0      0.0    58.9 -59.5  \n",
       "7      0.0      0.0    59.4 -61.0  \n",
       "8      0.0      0.0    59.4 -63.1  \n",
       "9      0.0      0.0    59.4 -63.7  \n",
       "10     0.0      0.0    58.9 -65.7  \n",
       "11     0.0      0.0    58.9 -65.5  \n",
       "12     0.0      0.0    58.9 -65.5  \n",
       "13     0.0      0.0    59.4 -65.6  \n",
       "14     0.0      0.0    58.3 -64.0  \n",
       "15     0.0      0.0    58.9 -64.0  \n",
       "16     0.0      1.0    60.4 -63.5  \n",
       "17     0.0      2.0    59.9 -75.2  \n",
       "18     0.0      2.0    60.4 -75.2  \n",
       "19     0.0      2.0    59.9 -73.1  \n",
       "20     0.0      2.0    60.4 -73.6  \n",
       "21     0.0      2.0    59.9 -72.5  "
      ]
     },
     "execution_count": 31,
     "metadata": {},
     "output_type": "execute_result"
    }
   ],
   "source": [
    "generate_RNApred(all_sesRNAs, all_sequenceMetrics, geneName, 1)"
   ]
  },
  {
   "cell_type": "code",
   "execution_count": 32,
   "id": "33993eff-2698-4408-97ec-19a003437ce3",
   "metadata": {
    "execution": {
     "iopub.execute_input": "2022-07-27T19:10:56.039469Z",
     "iopub.status.busy": "2022-07-27T19:10:56.038909Z",
     "iopub.status.idle": "2022-07-27T19:10:59.187320Z",
     "shell.execute_reply": "2022-07-27T19:10:59.186547Z",
     "shell.execute_reply.started": "2022-07-27T19:10:56.039430Z"
    },
    "tags": []
   },
   "outputs": [
    {
     "data": {
      "text/html": [
       "<div>\n",
       "<style scoped>\n",
       "    .dataframe tbody tr th:only-of-type {\n",
       "        vertical-align: middle;\n",
       "    }\n",
       "\n",
       "    .dataframe tbody tr th {\n",
       "        vertical-align: top;\n",
       "    }\n",
       "\n",
       "    .dataframe thead th {\n",
       "        text-align: right;\n",
       "    }\n",
       "</style>\n",
       "<table border=\"1\" class=\"dataframe\">\n",
       "  <thead>\n",
       "    <tr style=\"text-align: right;\">\n",
       "      <th></th>\n",
       "      <th>sesNum</th>\n",
       "      <th>SeqNum</th>\n",
       "      <th>ExonFrac</th>\n",
       "      <th>ExonProtFrac</th>\n",
       "      <th>CDSFrac</th>\n",
       "      <th>CDNAFrac</th>\n",
       "      <th>StartSeq</th>\n",
       "      <th>StopSeq</th>\n",
       "      <th>firstTGG</th>\n",
       "      <th>centralTGG</th>\n",
       "      <th>second_cTGG</th>\n",
       "      <th>numTGG</th>\n",
       "      <th>numTTGG</th>\n",
       "      <th>numTGGA</th>\n",
       "      <th>numTTGGA</th>\n",
       "      <th>numATG</th>\n",
       "      <th>numStop</th>\n",
       "      <th>gcCont</th>\n",
       "      <th>mfe</th>\n",
       "      <th>mfeFreq</th>\n",
       "    </tr>\n",
       "  </thead>\n",
       "  <tbody>\n",
       "    <tr>\n",
       "      <th>0</th>\n",
       "      <td>1</td>\n",
       "      <td>1</td>\n",
       "      <td>1/1</td>\n",
       "      <td>1/1</td>\n",
       "      <td>1/1</td>\n",
       "      <td>1/1</td>\n",
       "      <td>0.0</td>\n",
       "      <td>192.0</td>\n",
       "      <td>84.0</td>\n",
       "      <td>84.0</td>\n",
       "      <td>NA</td>\n",
       "      <td>1.0</td>\n",
       "      <td>0.0</td>\n",
       "      <td>0.0</td>\n",
       "      <td>0.0</td>\n",
       "      <td>0.0</td>\n",
       "      <td>2.0</td>\n",
       "      <td>58.3</td>\n",
       "      <td>-68.9</td>\n",
       "      <td>0.182</td>\n",
       "    </tr>\n",
       "    <tr>\n",
       "      <th>1</th>\n",
       "      <td>2</td>\n",
       "      <td>1</td>\n",
       "      <td>1/1</td>\n",
       "      <td>1/1</td>\n",
       "      <td>1/1</td>\n",
       "      <td>1/1</td>\n",
       "      <td>3.0</td>\n",
       "      <td>195.0</td>\n",
       "      <td>81.0</td>\n",
       "      <td>81.0</td>\n",
       "      <td>NA</td>\n",
       "      <td>1.0</td>\n",
       "      <td>0.0</td>\n",
       "      <td>0.0</td>\n",
       "      <td>0.0</td>\n",
       "      <td>0.0</td>\n",
       "      <td>2.0</td>\n",
       "      <td>58.3</td>\n",
       "      <td>-69.3</td>\n",
       "      <td>0.354</td>\n",
       "    </tr>\n",
       "    <tr>\n",
       "      <th>2</th>\n",
       "      <td>3</td>\n",
       "      <td>1</td>\n",
       "      <td>1/1</td>\n",
       "      <td>1/1</td>\n",
       "      <td>1/1</td>\n",
       "      <td>1/1</td>\n",
       "      <td>5.0</td>\n",
       "      <td>197.0</td>\n",
       "      <td>114.0</td>\n",
       "      <td>114.0</td>\n",
       "      <td>NA</td>\n",
       "      <td>1.0</td>\n",
       "      <td>0.0</td>\n",
       "      <td>0.0</td>\n",
       "      <td>0.0</td>\n",
       "      <td>0.0</td>\n",
       "      <td>0.0</td>\n",
       "      <td>58.9</td>\n",
       "      <td>-61.6</td>\n",
       "      <td>0.103</td>\n",
       "    </tr>\n",
       "    <tr>\n",
       "      <th>3</th>\n",
       "      <td>4</td>\n",
       "      <td>1</td>\n",
       "      <td>1/1</td>\n",
       "      <td>1/1</td>\n",
       "      <td>1/1</td>\n",
       "      <td>1/1</td>\n",
       "      <td>6.0</td>\n",
       "      <td>198.0</td>\n",
       "      <td>78.0</td>\n",
       "      <td>78.0</td>\n",
       "      <td>NA</td>\n",
       "      <td>1.0</td>\n",
       "      <td>0.0</td>\n",
       "      <td>0.0</td>\n",
       "      <td>0.0</td>\n",
       "      <td>0.0</td>\n",
       "      <td>2.0</td>\n",
       "      <td>58.9</td>\n",
       "      <td>-69.5</td>\n",
       "      <td>0.310</td>\n",
       "    </tr>\n",
       "    <tr>\n",
       "      <th>4</th>\n",
       "      <td>5</td>\n",
       "      <td>1</td>\n",
       "      <td>1/1</td>\n",
       "      <td>1/1</td>\n",
       "      <td>1/1</td>\n",
       "      <td>1/1</td>\n",
       "      <td>8.0</td>\n",
       "      <td>200.0</td>\n",
       "      <td>111.0</td>\n",
       "      <td>111.0</td>\n",
       "      <td>NA</td>\n",
       "      <td>1.0</td>\n",
       "      <td>0.0</td>\n",
       "      <td>0.0</td>\n",
       "      <td>0.0</td>\n",
       "      <td>0.0</td>\n",
       "      <td>0.0</td>\n",
       "      <td>58.9</td>\n",
       "      <td>-62.3</td>\n",
       "      <td>0.209</td>\n",
       "    </tr>\n",
       "    <tr>\n",
       "      <th>5</th>\n",
       "      <td>6</td>\n",
       "      <td>1</td>\n",
       "      <td>1/1</td>\n",
       "      <td>1/1</td>\n",
       "      <td>1/1</td>\n",
       "      <td>1/1</td>\n",
       "      <td>11.0</td>\n",
       "      <td>203.0</td>\n",
       "      <td>108.0</td>\n",
       "      <td>108.0</td>\n",
       "      <td>NA</td>\n",
       "      <td>1.0</td>\n",
       "      <td>0.0</td>\n",
       "      <td>0.0</td>\n",
       "      <td>0.0</td>\n",
       "      <td>0.0</td>\n",
       "      <td>0.0</td>\n",
       "      <td>58.3</td>\n",
       "      <td>-62.3</td>\n",
       "      <td>1.635</td>\n",
       "    </tr>\n",
       "    <tr>\n",
       "      <th>6</th>\n",
       "      <td>7</td>\n",
       "      <td>1</td>\n",
       "      <td>1/1</td>\n",
       "      <td>1/1</td>\n",
       "      <td>1/1</td>\n",
       "      <td>1/1</td>\n",
       "      <td>14.0</td>\n",
       "      <td>206.0</td>\n",
       "      <td>105.0</td>\n",
       "      <td>105.0</td>\n",
       "      <td>NA</td>\n",
       "      <td>1.0</td>\n",
       "      <td>0.0</td>\n",
       "      <td>0.0</td>\n",
       "      <td>0.0</td>\n",
       "      <td>0.0</td>\n",
       "      <td>0.0</td>\n",
       "      <td>58.9</td>\n",
       "      <td>-59.5</td>\n",
       "      <td>0.052</td>\n",
       "    </tr>\n",
       "    <tr>\n",
       "      <th>7</th>\n",
       "      <td>8</td>\n",
       "      <td>1</td>\n",
       "      <td>1/1</td>\n",
       "      <td>1/1</td>\n",
       "      <td>1/1</td>\n",
       "      <td>1/1</td>\n",
       "      <td>17.0</td>\n",
       "      <td>209.0</td>\n",
       "      <td>102.0</td>\n",
       "      <td>102.0</td>\n",
       "      <td>NA</td>\n",
       "      <td>1.0</td>\n",
       "      <td>0.0</td>\n",
       "      <td>0.0</td>\n",
       "      <td>0.0</td>\n",
       "      <td>0.0</td>\n",
       "      <td>0.0</td>\n",
       "      <td>59.4</td>\n",
       "      <td>-61.0</td>\n",
       "      <td>0.341</td>\n",
       "    </tr>\n",
       "    <tr>\n",
       "      <th>8</th>\n",
       "      <td>9</td>\n",
       "      <td>1</td>\n",
       "      <td>1/1</td>\n",
       "      <td>1/1</td>\n",
       "      <td>1/1</td>\n",
       "      <td>1/1</td>\n",
       "      <td>20.0</td>\n",
       "      <td>212.0</td>\n",
       "      <td>99.0</td>\n",
       "      <td>99.0</td>\n",
       "      <td>NA</td>\n",
       "      <td>1.0</td>\n",
       "      <td>0.0</td>\n",
       "      <td>0.0</td>\n",
       "      <td>0.0</td>\n",
       "      <td>0.0</td>\n",
       "      <td>0.0</td>\n",
       "      <td>59.4</td>\n",
       "      <td>-63.1</td>\n",
       "      <td>0.360</td>\n",
       "    </tr>\n",
       "    <tr>\n",
       "      <th>9</th>\n",
       "      <td>10</td>\n",
       "      <td>1</td>\n",
       "      <td>1/1</td>\n",
       "      <td>1/1</td>\n",
       "      <td>1/1</td>\n",
       "      <td>1/1</td>\n",
       "      <td>23.0</td>\n",
       "      <td>215.0</td>\n",
       "      <td>96.0</td>\n",
       "      <td>96.0</td>\n",
       "      <td>NA</td>\n",
       "      <td>1.0</td>\n",
       "      <td>0.0</td>\n",
       "      <td>0.0</td>\n",
       "      <td>0.0</td>\n",
       "      <td>0.0</td>\n",
       "      <td>0.0</td>\n",
       "      <td>59.4</td>\n",
       "      <td>-63.7</td>\n",
       "      <td>0.133</td>\n",
       "    </tr>\n",
       "    <tr>\n",
       "      <th>10</th>\n",
       "      <td>11</td>\n",
       "      <td>1</td>\n",
       "      <td>1/1</td>\n",
       "      <td>1/1</td>\n",
       "      <td>1/1</td>\n",
       "      <td>1/1</td>\n",
       "      <td>26.0</td>\n",
       "      <td>218.0</td>\n",
       "      <td>93.0</td>\n",
       "      <td>93.0</td>\n",
       "      <td>NA</td>\n",
       "      <td>1.0</td>\n",
       "      <td>0.0</td>\n",
       "      <td>0.0</td>\n",
       "      <td>0.0</td>\n",
       "      <td>0.0</td>\n",
       "      <td>0.0</td>\n",
       "      <td>58.9</td>\n",
       "      <td>-65.7</td>\n",
       "      <td>0.273</td>\n",
       "    </tr>\n",
       "    <tr>\n",
       "      <th>11</th>\n",
       "      <td>12</td>\n",
       "      <td>1</td>\n",
       "      <td>1/1</td>\n",
       "      <td>1/1</td>\n",
       "      <td>1/1</td>\n",
       "      <td>1/1</td>\n",
       "      <td>29.0</td>\n",
       "      <td>221.0</td>\n",
       "      <td>90.0</td>\n",
       "      <td>90.0</td>\n",
       "      <td>NA</td>\n",
       "      <td>1.0</td>\n",
       "      <td>0.0</td>\n",
       "      <td>0.0</td>\n",
       "      <td>0.0</td>\n",
       "      <td>0.0</td>\n",
       "      <td>0.0</td>\n",
       "      <td>58.9</td>\n",
       "      <td>-65.5</td>\n",
       "      <td>0.229</td>\n",
       "    </tr>\n",
       "    <tr>\n",
       "      <th>12</th>\n",
       "      <td>13</td>\n",
       "      <td>1</td>\n",
       "      <td>1/1</td>\n",
       "      <td>1/1</td>\n",
       "      <td>1/1</td>\n",
       "      <td>1/1</td>\n",
       "      <td>32.0</td>\n",
       "      <td>224.0</td>\n",
       "      <td>87.0</td>\n",
       "      <td>87.0</td>\n",
       "      <td>NA</td>\n",
       "      <td>1.0</td>\n",
       "      <td>0.0</td>\n",
       "      <td>0.0</td>\n",
       "      <td>0.0</td>\n",
       "      <td>0.0</td>\n",
       "      <td>0.0</td>\n",
       "      <td>58.9</td>\n",
       "      <td>-65.5</td>\n",
       "      <td>0.206</td>\n",
       "    </tr>\n",
       "    <tr>\n",
       "      <th>13</th>\n",
       "      <td>14</td>\n",
       "      <td>1</td>\n",
       "      <td>1/1</td>\n",
       "      <td>1/1</td>\n",
       "      <td>1/1</td>\n",
       "      <td>1/1</td>\n",
       "      <td>35.0</td>\n",
       "      <td>227.0</td>\n",
       "      <td>84.0</td>\n",
       "      <td>84.0</td>\n",
       "      <td>NA</td>\n",
       "      <td>1.0</td>\n",
       "      <td>0.0</td>\n",
       "      <td>0.0</td>\n",
       "      <td>0.0</td>\n",
       "      <td>0.0</td>\n",
       "      <td>0.0</td>\n",
       "      <td>59.4</td>\n",
       "      <td>-65.6</td>\n",
       "      <td>0.193</td>\n",
       "    </tr>\n",
       "    <tr>\n",
       "      <th>14</th>\n",
       "      <td>15</td>\n",
       "      <td>1</td>\n",
       "      <td>1/1</td>\n",
       "      <td>1/1</td>\n",
       "      <td>1/1</td>\n",
       "      <td>1/1</td>\n",
       "      <td>38.0</td>\n",
       "      <td>230.0</td>\n",
       "      <td>81.0</td>\n",
       "      <td>81.0</td>\n",
       "      <td>NA</td>\n",
       "      <td>1.0</td>\n",
       "      <td>0.0</td>\n",
       "      <td>0.0</td>\n",
       "      <td>0.0</td>\n",
       "      <td>0.0</td>\n",
       "      <td>0.0</td>\n",
       "      <td>58.3</td>\n",
       "      <td>-64.0</td>\n",
       "      <td>0.497</td>\n",
       "    </tr>\n",
       "    <tr>\n",
       "      <th>15</th>\n",
       "      <td>16</td>\n",
       "      <td>1</td>\n",
       "      <td>1/1</td>\n",
       "      <td>1/1</td>\n",
       "      <td>1/1</td>\n",
       "      <td>1/1</td>\n",
       "      <td>41.0</td>\n",
       "      <td>233.0</td>\n",
       "      <td>78.0</td>\n",
       "      <td>78.0</td>\n",
       "      <td>NA</td>\n",
       "      <td>1.0</td>\n",
       "      <td>0.0</td>\n",
       "      <td>0.0</td>\n",
       "      <td>0.0</td>\n",
       "      <td>0.0</td>\n",
       "      <td>0.0</td>\n",
       "      <td>58.9</td>\n",
       "      <td>-64.0</td>\n",
       "      <td>0.375</td>\n",
       "    </tr>\n",
       "    <tr>\n",
       "      <th>16</th>\n",
       "      <td>17</td>\n",
       "      <td>1</td>\n",
       "      <td>1/1</td>\n",
       "      <td>1/1</td>\n",
       "      <td>1/1</td>\n",
       "      <td>1/1</td>\n",
       "      <td>121.0</td>\n",
       "      <td>313.0</td>\n",
       "      <td>78.0</td>\n",
       "      <td>78.0</td>\n",
       "      <td>NA</td>\n",
       "      <td>1.0</td>\n",
       "      <td>0.0</td>\n",
       "      <td>0.0</td>\n",
       "      <td>0.0</td>\n",
       "      <td>0.0</td>\n",
       "      <td>1.0</td>\n",
       "      <td>60.4</td>\n",
       "      <td>-63.5</td>\n",
       "      <td>1.176</td>\n",
       "    </tr>\n",
       "    <tr>\n",
       "      <th>17</th>\n",
       "      <td>18</td>\n",
       "      <td>1</td>\n",
       "      <td>1/1</td>\n",
       "      <td>1/1</td>\n",
       "      <td>1/1</td>\n",
       "      <td>1/1</td>\n",
       "      <td>359.0</td>\n",
       "      <td>551.0</td>\n",
       "      <td>90.0</td>\n",
       "      <td>90.0</td>\n",
       "      <td>NA</td>\n",
       "      <td>1.0</td>\n",
       "      <td>0.0</td>\n",
       "      <td>0.0</td>\n",
       "      <td>0.0</td>\n",
       "      <td>0.0</td>\n",
       "      <td>2.0</td>\n",
       "      <td>59.9</td>\n",
       "      <td>-75.2</td>\n",
       "      <td>1.028</td>\n",
       "    </tr>\n",
       "    <tr>\n",
       "      <th>18</th>\n",
       "      <td>19</td>\n",
       "      <td>1</td>\n",
       "      <td>1/1</td>\n",
       "      <td>1/1</td>\n",
       "      <td>1/1</td>\n",
       "      <td>1/1</td>\n",
       "      <td>362.0</td>\n",
       "      <td>554.0</td>\n",
       "      <td>87.0</td>\n",
       "      <td>87.0</td>\n",
       "      <td>NA</td>\n",
       "      <td>1.0</td>\n",
       "      <td>0.0</td>\n",
       "      <td>0.0</td>\n",
       "      <td>0.0</td>\n",
       "      <td>0.0</td>\n",
       "      <td>2.0</td>\n",
       "      <td>60.4</td>\n",
       "      <td>-75.2</td>\n",
       "      <td>0.969</td>\n",
       "    </tr>\n",
       "    <tr>\n",
       "      <th>19</th>\n",
       "      <td>20</td>\n",
       "      <td>1</td>\n",
       "      <td>1/1</td>\n",
       "      <td>1/1</td>\n",
       "      <td>1/1</td>\n",
       "      <td>1/1</td>\n",
       "      <td>365.0</td>\n",
       "      <td>557.0</td>\n",
       "      <td>84.0</td>\n",
       "      <td>84.0</td>\n",
       "      <td>NA</td>\n",
       "      <td>1.0</td>\n",
       "      <td>0.0</td>\n",
       "      <td>0.0</td>\n",
       "      <td>0.0</td>\n",
       "      <td>0.0</td>\n",
       "      <td>2.0</td>\n",
       "      <td>59.9</td>\n",
       "      <td>-73.1</td>\n",
       "      <td>0.790</td>\n",
       "    </tr>\n",
       "    <tr>\n",
       "      <th>20</th>\n",
       "      <td>21</td>\n",
       "      <td>1</td>\n",
       "      <td>1/1</td>\n",
       "      <td>1/1</td>\n",
       "      <td>1/1</td>\n",
       "      <td>1/1</td>\n",
       "      <td>368.0</td>\n",
       "      <td>560.0</td>\n",
       "      <td>81.0</td>\n",
       "      <td>81.0</td>\n",
       "      <td>NA</td>\n",
       "      <td>1.0</td>\n",
       "      <td>0.0</td>\n",
       "      <td>0.0</td>\n",
       "      <td>0.0</td>\n",
       "      <td>0.0</td>\n",
       "      <td>2.0</td>\n",
       "      <td>60.4</td>\n",
       "      <td>-73.6</td>\n",
       "      <td>0.958</td>\n",
       "    </tr>\n",
       "    <tr>\n",
       "      <th>21</th>\n",
       "      <td>22</td>\n",
       "      <td>1</td>\n",
       "      <td>1/1</td>\n",
       "      <td>1/1</td>\n",
       "      <td>1/1</td>\n",
       "      <td>1/1</td>\n",
       "      <td>371.0</td>\n",
       "      <td>563.0</td>\n",
       "      <td>78.0</td>\n",
       "      <td>78.0</td>\n",
       "      <td>NA</td>\n",
       "      <td>1.0</td>\n",
       "      <td>0.0</td>\n",
       "      <td>0.0</td>\n",
       "      <td>0.0</td>\n",
       "      <td>0.0</td>\n",
       "      <td>2.0</td>\n",
       "      <td>59.9</td>\n",
       "      <td>-72.5</td>\n",
       "      <td>0.443</td>\n",
       "    </tr>\n",
       "  </tbody>\n",
       "</table>\n",
       "</div>"
      ],
      "text/plain": [
       "    sesNum  SeqNum ExonFrac ExonProtFrac CDSFrac CDNAFrac  StartSeq  StopSeq  \\\n",
       "0        1       1      1/1          1/1     1/1      1/1       0.0    192.0   \n",
       "1        2       1      1/1          1/1     1/1      1/1       3.0    195.0   \n",
       "2        3       1      1/1          1/1     1/1      1/1       5.0    197.0   \n",
       "3        4       1      1/1          1/1     1/1      1/1       6.0    198.0   \n",
       "4        5       1      1/1          1/1     1/1      1/1       8.0    200.0   \n",
       "5        6       1      1/1          1/1     1/1      1/1      11.0    203.0   \n",
       "6        7       1      1/1          1/1     1/1      1/1      14.0    206.0   \n",
       "7        8       1      1/1          1/1     1/1      1/1      17.0    209.0   \n",
       "8        9       1      1/1          1/1     1/1      1/1      20.0    212.0   \n",
       "9       10       1      1/1          1/1     1/1      1/1      23.0    215.0   \n",
       "10      11       1      1/1          1/1     1/1      1/1      26.0    218.0   \n",
       "11      12       1      1/1          1/1     1/1      1/1      29.0    221.0   \n",
       "12      13       1      1/1          1/1     1/1      1/1      32.0    224.0   \n",
       "13      14       1      1/1          1/1     1/1      1/1      35.0    227.0   \n",
       "14      15       1      1/1          1/1     1/1      1/1      38.0    230.0   \n",
       "15      16       1      1/1          1/1     1/1      1/1      41.0    233.0   \n",
       "16      17       1      1/1          1/1     1/1      1/1     121.0    313.0   \n",
       "17      18       1      1/1          1/1     1/1      1/1     359.0    551.0   \n",
       "18      19       1      1/1          1/1     1/1      1/1     362.0    554.0   \n",
       "19      20       1      1/1          1/1     1/1      1/1     365.0    557.0   \n",
       "20      21       1      1/1          1/1     1/1      1/1     368.0    560.0   \n",
       "21      22       1      1/1          1/1     1/1      1/1     371.0    563.0   \n",
       "\n",
       "    firstTGG  centralTGG second_cTGG  numTGG  numTTGG  numTGGA  numTTGGA  \\\n",
       "0       84.0        84.0          NA     1.0      0.0      0.0       0.0   \n",
       "1       81.0        81.0          NA     1.0      0.0      0.0       0.0   \n",
       "2      114.0       114.0          NA     1.0      0.0      0.0       0.0   \n",
       "3       78.0        78.0          NA     1.0      0.0      0.0       0.0   \n",
       "4      111.0       111.0          NA     1.0      0.0      0.0       0.0   \n",
       "5      108.0       108.0          NA     1.0      0.0      0.0       0.0   \n",
       "6      105.0       105.0          NA     1.0      0.0      0.0       0.0   \n",
       "7      102.0       102.0          NA     1.0      0.0      0.0       0.0   \n",
       "8       99.0        99.0          NA     1.0      0.0      0.0       0.0   \n",
       "9       96.0        96.0          NA     1.0      0.0      0.0       0.0   \n",
       "10      93.0        93.0          NA     1.0      0.0      0.0       0.0   \n",
       "11      90.0        90.0          NA     1.0      0.0      0.0       0.0   \n",
       "12      87.0        87.0          NA     1.0      0.0      0.0       0.0   \n",
       "13      84.0        84.0          NA     1.0      0.0      0.0       0.0   \n",
       "14      81.0        81.0          NA     1.0      0.0      0.0       0.0   \n",
       "15      78.0        78.0          NA     1.0      0.0      0.0       0.0   \n",
       "16      78.0        78.0          NA     1.0      0.0      0.0       0.0   \n",
       "17      90.0        90.0          NA     1.0      0.0      0.0       0.0   \n",
       "18      87.0        87.0          NA     1.0      0.0      0.0       0.0   \n",
       "19      84.0        84.0          NA     1.0      0.0      0.0       0.0   \n",
       "20      81.0        81.0          NA     1.0      0.0      0.0       0.0   \n",
       "21      78.0        78.0          NA     1.0      0.0      0.0       0.0   \n",
       "\n",
       "    numATG  numStop  gcCont   mfe  mfeFreq  \n",
       "0      0.0      2.0    58.3 -68.9    0.182  \n",
       "1      0.0      2.0    58.3 -69.3    0.354  \n",
       "2      0.0      0.0    58.9 -61.6    0.103  \n",
       "3      0.0      2.0    58.9 -69.5    0.310  \n",
       "4      0.0      0.0    58.9 -62.3    0.209  \n",
       "5      0.0      0.0    58.3 -62.3    1.635  \n",
       "6      0.0      0.0    58.9 -59.5    0.052  \n",
       "7      0.0      0.0    59.4 -61.0    0.341  \n",
       "8      0.0      0.0    59.4 -63.1    0.360  \n",
       "9      0.0      0.0    59.4 -63.7    0.133  \n",
       "10     0.0      0.0    58.9 -65.7    0.273  \n",
       "11     0.0      0.0    58.9 -65.5    0.229  \n",
       "12     0.0      0.0    58.9 -65.5    0.206  \n",
       "13     0.0      0.0    59.4 -65.6    0.193  \n",
       "14     0.0      0.0    58.3 -64.0    0.497  \n",
       "15     0.0      0.0    58.9 -64.0    0.375  \n",
       "16     0.0      1.0    60.4 -63.5    1.176  \n",
       "17     0.0      2.0    59.9 -75.2    1.028  \n",
       "18     0.0      2.0    60.4 -75.2    0.969  \n",
       "19     0.0      2.0    59.9 -73.1    0.790  \n",
       "20     0.0      2.0    60.4 -73.6    0.958  \n",
       "21     0.0      2.0    59.9 -72.5    0.443  "
      ]
     },
     "execution_count": 32,
     "metadata": {},
     "output_type": "execute_result"
    }
   ],
   "source": [
    "fold_sequenceMetrics = generate_mfeProb(all_sequenceMetrics, geneName, speciesName, spliceVariant)\n",
    "fold_sequenceMetrics "
   ]
  },
  {
   "cell_type": "code",
   "execution_count": 33,
   "id": "b27028a4-176a-4a5f-aa42-7f2fafdc5795",
   "metadata": {
    "execution": {
     "iopub.execute_input": "2022-07-27T19:10:59.188991Z",
     "iopub.status.busy": "2022-07-27T19:10:59.188749Z",
     "iopub.status.idle": "2022-07-27T19:10:59.194152Z",
     "shell.execute_reply": "2022-07-27T19:10:59.193217Z",
     "shell.execute_reply.started": "2022-07-27T19:10:59.188970Z"
    },
    "tags": []
   },
   "outputs": [],
   "source": [
    "# Code block for testing against different species than sesRNA was generated against \n",
    "#test_speciesName = 'Crab-eating macaque'\n",
    "test_speciesName = speciesName\n",
    "\n",
    "# Downloading species name if test species is not same as initial species \n",
    "if test_speciesName != speciesName:\n",
    "    test_ensembl_transcriptIDs = return_ensemblTranscriptIDs(test_speciesName, geneName)\n",
    "    test_variantTable = table_transcriptsInfo(test_ensembl_transcriptIDs)\n",
    "    # Chooses canonical transcript\n",
    "    test_spliceVariant = int(test_variantTable[test_variantTable['Is_Canonical'] == 'True']['TranscriptNum'])\n",
    "    test_rC_exon_records, test_C_exon_records, test_CDS, test_cDNA, test_genomic = load_referenceSequences(test_speciesName, geneName, test_spliceVariant)"
   ]
  },
  {
   "cell_type": "code",
   "execution_count": 34,
   "id": "a97ad4dd-3db3-4c70-9ad6-c8f0b2aefe3b",
   "metadata": {
    "execution": {
     "iopub.execute_input": "2022-07-27T19:10:59.197213Z",
     "iopub.status.busy": "2022-07-27T19:10:59.196746Z",
     "iopub.status.idle": "2022-07-27T19:11:06.701959Z",
     "shell.execute_reply": "2022-07-27T19:11:06.700996Z",
     "shell.execute_reply.started": "2022-07-27T19:10:59.197167Z"
    },
    "scrolled": true,
    "tags": []
   },
   "outputs": [
    {
     "name": "stdout",
     "output_type": "stream",
     "text": [
      "/home/user1/Dropbox/Research/Neurobiology_PhD/Huang/Projects/CellReadR/Code/CellREADR/Output/EnsemblSeq/Mouse/Six6_cdna-1_Mouse.fasta\n",
      "RIblast ris mode has started.\n",
      "Rna interaction search of query:Six6_01 sesRNA #01 has started.\n",
      "Rna interaction search of query:Six6_01 sesRNA #01 has finished.\n",
      "RIblast ris mode has finished.\n",
      "/home/user1/Dropbox/Research/Neurobiology_PhD/Huang/Projects/CellReadR/Code/CellREADR/Output/BioPython/Temp/Six6_01.fasta\n",
      "RIblast ris mode has started.\n",
      "Rna interaction search of query:Six6_02 sesRNA #02 has started.\n"
     ]
    },
    {
     "name": "stderr",
     "output_type": "stream",
     "text": [
      "/home/user1/Dropbox/Research/Neurobiology_PhD/Huang/Projects/CellReadR/Code/CellREADR/kCellReadR/higherOrder.py:208: FutureWarning: The frame.append method is deprecated and will be removed from pandas in a future version. Use pandas.concat instead.\n",
      "  useful_RIblast = useful_RIblast.append(temp_RIblast_ouput)\n",
      "/home/user1/Dropbox/Research/Neurobiology_PhD/Huang/Projects/CellReadR/Code/CellREADR/kCellReadR/higherOrder.py:208: FutureWarning: The frame.append method is deprecated and will be removed from pandas in a future version. Use pandas.concat instead.\n",
      "  useful_RIblast = useful_RIblast.append(temp_RIblast_ouput)\n"
     ]
    },
    {
     "name": "stdout",
     "output_type": "stream",
     "text": [
      "Rna interaction search of query:Six6_02 sesRNA #02 has finished.\n",
      "RIblast ris mode has finished.\n",
      "/home/user1/Dropbox/Research/Neurobiology_PhD/Huang/Projects/CellReadR/Code/CellREADR/Output/BioPython/Temp/Six6_02.fasta\n",
      "RIblast ris mode has started.\n",
      "Rna interaction search of query:Six6_03 sesRNA #03 has started.\n",
      "Rna interaction search of query:Six6_03 sesRNA #03 has finished.\n",
      "RIblast ris mode has finished.\n",
      "/home/user1/Dropbox/Research/Neurobiology_PhD/Huang/Projects/CellReadR/Code/CellREADR/Output/BioPython/Temp/Six6_03.fasta\n",
      "RIblast ris mode has started.\n",
      "Rna interaction search of query:Six6_04 sesRNA #04 has started.\n"
     ]
    },
    {
     "name": "stderr",
     "output_type": "stream",
     "text": [
      "/home/user1/Dropbox/Research/Neurobiology_PhD/Huang/Projects/CellReadR/Code/CellREADR/kCellReadR/higherOrder.py:208: FutureWarning: The frame.append method is deprecated and will be removed from pandas in a future version. Use pandas.concat instead.\n",
      "  useful_RIblast = useful_RIblast.append(temp_RIblast_ouput)\n",
      "/home/user1/Dropbox/Research/Neurobiology_PhD/Huang/Projects/CellReadR/Code/CellREADR/kCellReadR/higherOrder.py:208: FutureWarning: The frame.append method is deprecated and will be removed from pandas in a future version. Use pandas.concat instead.\n",
      "  useful_RIblast = useful_RIblast.append(temp_RIblast_ouput)\n"
     ]
    },
    {
     "name": "stdout",
     "output_type": "stream",
     "text": [
      "Rna interaction search of query:Six6_04 sesRNA #04 has finished.\n",
      "RIblast ris mode has finished.\n",
      "/home/user1/Dropbox/Research/Neurobiology_PhD/Huang/Projects/CellReadR/Code/CellREADR/Output/BioPython/Temp/Six6_04.fasta\n",
      "RIblast ris mode has started.\n",
      "Rna interaction search of query:Six6_05 sesRNA #05 has started.\n",
      "Rna interaction search of query:Six6_05 sesRNA #05 has finished.\n",
      "RIblast ris mode has finished.\n",
      "/home/user1/Dropbox/Research/Neurobiology_PhD/Huang/Projects/CellReadR/Code/CellREADR/Output/BioPython/Temp/Six6_05.fasta\n",
      "RIblast ris mode has started.\n",
      "Rna interaction search of query:Six6_06 sesRNA #06 has started.\n"
     ]
    },
    {
     "name": "stderr",
     "output_type": "stream",
     "text": [
      "/home/user1/Dropbox/Research/Neurobiology_PhD/Huang/Projects/CellReadR/Code/CellREADR/kCellReadR/higherOrder.py:208: FutureWarning: The frame.append method is deprecated and will be removed from pandas in a future version. Use pandas.concat instead.\n",
      "  useful_RIblast = useful_RIblast.append(temp_RIblast_ouput)\n",
      "/home/user1/Dropbox/Research/Neurobiology_PhD/Huang/Projects/CellReadR/Code/CellREADR/kCellReadR/higherOrder.py:208: FutureWarning: The frame.append method is deprecated and will be removed from pandas in a future version. Use pandas.concat instead.\n",
      "  useful_RIblast = useful_RIblast.append(temp_RIblast_ouput)\n"
     ]
    },
    {
     "name": "stdout",
     "output_type": "stream",
     "text": [
      "Rna interaction search of query:Six6_06 sesRNA #06 has finished.\n",
      "RIblast ris mode has finished.\n",
      "/home/user1/Dropbox/Research/Neurobiology_PhD/Huang/Projects/CellReadR/Code/CellREADR/Output/BioPython/Temp/Six6_06.fasta\n",
      "RIblast ris mode has started.\n",
      "Rna interaction search of query:Six6_07 sesRNA #07 has started.\n",
      "Rna interaction search of query:Six6_07 sesRNA #07 has finished.\n",
      "RIblast ris mode has finished.\n",
      "/home/user1/Dropbox/Research/Neurobiology_PhD/Huang/Projects/CellReadR/Code/CellREADR/Output/BioPython/Temp/Six6_07.fasta\n",
      "RIblast ris mode has started.\n",
      "Rna interaction search of query:Six6_08 sesRNA #08 has started.\n"
     ]
    },
    {
     "name": "stderr",
     "output_type": "stream",
     "text": [
      "/home/user1/Dropbox/Research/Neurobiology_PhD/Huang/Projects/CellReadR/Code/CellREADR/kCellReadR/higherOrder.py:208: FutureWarning: The frame.append method is deprecated and will be removed from pandas in a future version. Use pandas.concat instead.\n",
      "  useful_RIblast = useful_RIblast.append(temp_RIblast_ouput)\n",
      "/home/user1/Dropbox/Research/Neurobiology_PhD/Huang/Projects/CellReadR/Code/CellREADR/kCellReadR/higherOrder.py:208: FutureWarning: The frame.append method is deprecated and will be removed from pandas in a future version. Use pandas.concat instead.\n",
      "  useful_RIblast = useful_RIblast.append(temp_RIblast_ouput)\n"
     ]
    },
    {
     "name": "stdout",
     "output_type": "stream",
     "text": [
      "Rna interaction search of query:Six6_08 sesRNA #08 has finished.\n",
      "RIblast ris mode has finished.\n",
      "/home/user1/Dropbox/Research/Neurobiology_PhD/Huang/Projects/CellReadR/Code/CellREADR/Output/BioPython/Temp/Six6_08.fasta\n",
      "RIblast ris mode has started.\n",
      "Rna interaction search of query:Six6_09 sesRNA #09 has started.\n",
      "Rna interaction search of query:Six6_09 sesRNA #09 has finished.\n",
      "RIblast ris mode has finished.\n",
      "/home/user1/Dropbox/Research/Neurobiology_PhD/Huang/Projects/CellReadR/Code/CellREADR/Output/BioPython/Temp/Six6_09.fasta\n",
      "RIblast ris mode has started.\n",
      "Rna interaction search of query:Six6_10 sesRNA #10 has started.\n"
     ]
    },
    {
     "name": "stderr",
     "output_type": "stream",
     "text": [
      "/home/user1/Dropbox/Research/Neurobiology_PhD/Huang/Projects/CellReadR/Code/CellREADR/kCellReadR/higherOrder.py:208: FutureWarning: The frame.append method is deprecated and will be removed from pandas in a future version. Use pandas.concat instead.\n",
      "  useful_RIblast = useful_RIblast.append(temp_RIblast_ouput)\n",
      "/home/user1/Dropbox/Research/Neurobiology_PhD/Huang/Projects/CellReadR/Code/CellREADR/kCellReadR/higherOrder.py:208: FutureWarning: The frame.append method is deprecated and will be removed from pandas in a future version. Use pandas.concat instead.\n",
      "  useful_RIblast = useful_RIblast.append(temp_RIblast_ouput)\n"
     ]
    },
    {
     "name": "stdout",
     "output_type": "stream",
     "text": [
      "Rna interaction search of query:Six6_10 sesRNA #10 has finished.\n",
      "RIblast ris mode has finished.\n",
      "/home/user1/Dropbox/Research/Neurobiology_PhD/Huang/Projects/CellReadR/Code/CellREADR/Output/BioPython/Temp/Six6_10.fasta\n",
      "RIblast ris mode has started.\n",
      "Rna interaction search of query:Six6_11 sesRNA #11 has started.\n",
      "Rna interaction search of query:Six6_11 sesRNA #11 has finished.\n",
      "RIblast ris mode has finished.\n",
      "/home/user1/Dropbox/Research/Neurobiology_PhD/Huang/Projects/CellReadR/Code/CellREADR/Output/BioPython/Temp/Six6_11.fasta\n",
      "RIblast ris mode has started.\n",
      "Rna interaction search of query:Six6_12 sesRNA #12 has started.\n"
     ]
    },
    {
     "name": "stderr",
     "output_type": "stream",
     "text": [
      "/home/user1/Dropbox/Research/Neurobiology_PhD/Huang/Projects/CellReadR/Code/CellREADR/kCellReadR/higherOrder.py:208: FutureWarning: The frame.append method is deprecated and will be removed from pandas in a future version. Use pandas.concat instead.\n",
      "  useful_RIblast = useful_RIblast.append(temp_RIblast_ouput)\n",
      "/home/user1/Dropbox/Research/Neurobiology_PhD/Huang/Projects/CellReadR/Code/CellREADR/kCellReadR/higherOrder.py:208: FutureWarning: The frame.append method is deprecated and will be removed from pandas in a future version. Use pandas.concat instead.\n",
      "  useful_RIblast = useful_RIblast.append(temp_RIblast_ouput)\n"
     ]
    },
    {
     "name": "stdout",
     "output_type": "stream",
     "text": [
      "Rna interaction search of query:Six6_12 sesRNA #12 has finished.\n",
      "RIblast ris mode has finished.\n",
      "/home/user1/Dropbox/Research/Neurobiology_PhD/Huang/Projects/CellReadR/Code/CellREADR/Output/BioPython/Temp/Six6_12.fasta\n",
      "RIblast ris mode has started.\n",
      "Rna interaction search of query:Six6_13 sesRNA #13 has started.\n",
      "Rna interaction search of query:Six6_13 sesRNA #13 has finished.\n",
      "RIblast ris mode has finished.\n",
      "/home/user1/Dropbox/Research/Neurobiology_PhD/Huang/Projects/CellReadR/Code/CellREADR/Output/BioPython/Temp/Six6_13.fasta\n",
      "RIblast ris mode has started.\n",
      "Rna interaction search of query:Six6_14 sesRNA #14 has started.\n"
     ]
    },
    {
     "name": "stderr",
     "output_type": "stream",
     "text": [
      "/home/user1/Dropbox/Research/Neurobiology_PhD/Huang/Projects/CellReadR/Code/CellREADR/kCellReadR/higherOrder.py:208: FutureWarning: The frame.append method is deprecated and will be removed from pandas in a future version. Use pandas.concat instead.\n",
      "  useful_RIblast = useful_RIblast.append(temp_RIblast_ouput)\n",
      "/home/user1/Dropbox/Research/Neurobiology_PhD/Huang/Projects/CellReadR/Code/CellREADR/kCellReadR/higherOrder.py:208: FutureWarning: The frame.append method is deprecated and will be removed from pandas in a future version. Use pandas.concat instead.\n",
      "  useful_RIblast = useful_RIblast.append(temp_RIblast_ouput)\n"
     ]
    },
    {
     "name": "stdout",
     "output_type": "stream",
     "text": [
      "Rna interaction search of query:Six6_14 sesRNA #14 has finished.\n",
      "RIblast ris mode has finished.\n",
      "/home/user1/Dropbox/Research/Neurobiology_PhD/Huang/Projects/CellReadR/Code/CellREADR/Output/BioPython/Temp/Six6_14.fasta\n",
      "RIblast ris mode has started.\n",
      "Rna interaction search of query:Six6_15 sesRNA #15 has started.\n",
      "Rna interaction search of query:Six6_15 sesRNA #15 has finished.\n",
      "RIblast ris mode has finished.\n",
      "/home/user1/Dropbox/Research/Neurobiology_PhD/Huang/Projects/CellReadR/Code/CellREADR/Output/BioPython/Temp/Six6_15.fasta\n",
      "RIblast ris mode has started.\n",
      "Rna interaction search of query:Six6_16 sesRNA #16 has started.\n"
     ]
    },
    {
     "name": "stderr",
     "output_type": "stream",
     "text": [
      "/home/user1/Dropbox/Research/Neurobiology_PhD/Huang/Projects/CellReadR/Code/CellREADR/kCellReadR/higherOrder.py:208: FutureWarning: The frame.append method is deprecated and will be removed from pandas in a future version. Use pandas.concat instead.\n",
      "  useful_RIblast = useful_RIblast.append(temp_RIblast_ouput)\n",
      "/home/user1/Dropbox/Research/Neurobiology_PhD/Huang/Projects/CellReadR/Code/CellREADR/kCellReadR/higherOrder.py:208: FutureWarning: The frame.append method is deprecated and will be removed from pandas in a future version. Use pandas.concat instead.\n",
      "  useful_RIblast = useful_RIblast.append(temp_RIblast_ouput)\n"
     ]
    },
    {
     "name": "stdout",
     "output_type": "stream",
     "text": [
      "Rna interaction search of query:Six6_16 sesRNA #16 has finished.\n",
      "RIblast ris mode has finished.\n",
      "/home/user1/Dropbox/Research/Neurobiology_PhD/Huang/Projects/CellReadR/Code/CellREADR/Output/BioPython/Temp/Six6_16.fasta\n",
      "RIblast ris mode has started.\n",
      "Rna interaction search of query:Six6_17 sesRNA #17 has started.\n",
      "Rna interaction search of query:Six6_17 sesRNA #17 has finished.\n",
      "RIblast ris mode has finished.\n",
      "/home/user1/Dropbox/Research/Neurobiology_PhD/Huang/Projects/CellReadR/Code/CellREADR/Output/BioPython/Temp/Six6_17.fasta\n",
      "RIblast ris mode has started.\n",
      "Rna interaction search of query:Six6_18 sesRNA #18 has started.\n"
     ]
    },
    {
     "name": "stderr",
     "output_type": "stream",
     "text": [
      "/home/user1/Dropbox/Research/Neurobiology_PhD/Huang/Projects/CellReadR/Code/CellREADR/kCellReadR/higherOrder.py:208: FutureWarning: The frame.append method is deprecated and will be removed from pandas in a future version. Use pandas.concat instead.\n",
      "  useful_RIblast = useful_RIblast.append(temp_RIblast_ouput)\n",
      "/home/user1/Dropbox/Research/Neurobiology_PhD/Huang/Projects/CellReadR/Code/CellREADR/kCellReadR/higherOrder.py:208: FutureWarning: The frame.append method is deprecated and will be removed from pandas in a future version. Use pandas.concat instead.\n",
      "  useful_RIblast = useful_RIblast.append(temp_RIblast_ouput)\n"
     ]
    },
    {
     "name": "stdout",
     "output_type": "stream",
     "text": [
      "Rna interaction search of query:Six6_18 sesRNA #18 has finished.\n",
      "RIblast ris mode has finished.\n",
      "/home/user1/Dropbox/Research/Neurobiology_PhD/Huang/Projects/CellReadR/Code/CellREADR/Output/BioPython/Temp/Six6_18.fasta\n",
      "RIblast ris mode has started.\n",
      "Rna interaction search of query:Six6_19 sesRNA #19 has started.\n",
      "Rna interaction search of query:Six6_19 sesRNA #19 has finished.\n",
      "RIblast ris mode has finished.\n",
      "/home/user1/Dropbox/Research/Neurobiology_PhD/Huang/Projects/CellReadR/Code/CellREADR/Output/BioPython/Temp/Six6_19.fasta\n",
      "RIblast ris mode has started.\n",
      "Rna interaction search of query:Six6_20 sesRNA #20 has started.\n"
     ]
    },
    {
     "name": "stderr",
     "output_type": "stream",
     "text": [
      "/home/user1/Dropbox/Research/Neurobiology_PhD/Huang/Projects/CellReadR/Code/CellREADR/kCellReadR/higherOrder.py:208: FutureWarning: The frame.append method is deprecated and will be removed from pandas in a future version. Use pandas.concat instead.\n",
      "  useful_RIblast = useful_RIblast.append(temp_RIblast_ouput)\n",
      "/home/user1/Dropbox/Research/Neurobiology_PhD/Huang/Projects/CellReadR/Code/CellREADR/kCellReadR/higherOrder.py:208: FutureWarning: The frame.append method is deprecated and will be removed from pandas in a future version. Use pandas.concat instead.\n",
      "  useful_RIblast = useful_RIblast.append(temp_RIblast_ouput)\n"
     ]
    },
    {
     "name": "stdout",
     "output_type": "stream",
     "text": [
      "Rna interaction search of query:Six6_20 sesRNA #20 has finished.\n",
      "RIblast ris mode has finished.\n",
      "/home/user1/Dropbox/Research/Neurobiology_PhD/Huang/Projects/CellReadR/Code/CellREADR/Output/BioPython/Temp/Six6_20.fasta\n",
      "RIblast ris mode has started.\n",
      "Rna interaction search of query:Six6_21 sesRNA #21 has started.\n",
      "Rna interaction search of query:Six6_21 sesRNA #21 has finished.\n",
      "RIblast ris mode has finished.\n",
      "/home/user1/Dropbox/Research/Neurobiology_PhD/Huang/Projects/CellReadR/Code/CellREADR/Output/BioPython/Temp/Six6_21.fasta\n",
      "RIblast ris mode has started.\n",
      "Rna interaction search of query:Six6_22 sesRNA #22 has started.\n",
      "Rna interaction search of query:Six6_22 sesRNA #22 has finished.\n",
      "RIblast ris mode has finished.\n",
      "/home/user1/Dropbox/Research/Neurobiology_PhD/Huang/Projects/CellReadR/Code/CellREADR/Output/BioPython/Temp/Six6_22.fasta\n"
     ]
    },
    {
     "name": "stderr",
     "output_type": "stream",
     "text": [
      "/home/user1/Dropbox/Research/Neurobiology_PhD/Huang/Projects/CellReadR/Code/CellREADR/kCellReadR/higherOrder.py:208: FutureWarning: The frame.append method is deprecated and will be removed from pandas in a future version. Use pandas.concat instead.\n",
      "  useful_RIblast = useful_RIblast.append(temp_RIblast_ouput)\n",
      "/home/user1/Dropbox/Research/Neurobiology_PhD/Huang/Projects/CellReadR/Code/CellREADR/kCellReadR/higherOrder.py:208: FutureWarning: The frame.append method is deprecated and will be removed from pandas in a future version. Use pandas.concat instead.\n",
      "  useful_RIblast = useful_RIblast.append(temp_RIblast_ouput)\n"
     ]
    },
    {
     "data": {
      "text/html": [
       "<div>\n",
       "<style scoped>\n",
       "    .dataframe tbody tr th:only-of-type {\n",
       "        vertical-align: middle;\n",
       "    }\n",
       "\n",
       "    .dataframe tbody tr th {\n",
       "        vertical-align: top;\n",
       "    }\n",
       "\n",
       "    .dataframe thead th {\n",
       "        text-align: right;\n",
       "    }\n",
       "</style>\n",
       "<table border=\"1\" class=\"dataframe\">\n",
       "  <thead>\n",
       "    <tr style=\"text-align: right;\">\n",
       "      <th></th>\n",
       "      <th>Accessibility Energy</th>\n",
       "      <th>Hybridization Energy</th>\n",
       "      <th>Interaction Energy</th>\n",
       "      <th>BasePair</th>\n",
       "      <th>Accessibility Energy</th>\n",
       "      <th>Hybridization Energy</th>\n",
       "      <th>Interaction Energy</th>\n",
       "      <th>BasePair</th>\n",
       "    </tr>\n",
       "  </thead>\n",
       "  <tbody>\n",
       "    <tr>\n",
       "      <th>0</th>\n",
       "      <td>10.26990</td>\n",
       "      <td>-21.66</td>\n",
       "      <td>-11.39010</td>\n",
       "      <td>(102-123:202-175)</td>\n",
       "      <td>5.40883</td>\n",
       "      <td>-16.13</td>\n",
       "      <td>-10.72120</td>\n",
       "      <td>(104-115:57-45)</td>\n",
       "    </tr>\n",
       "    <tr>\n",
       "      <th>0</th>\n",
       "      <td>10.31810</td>\n",
       "      <td>-21.66</td>\n",
       "      <td>-11.34190</td>\n",
       "      <td>(99-120:202-175)</td>\n",
       "      <td>5.47921</td>\n",
       "      <td>-16.13</td>\n",
       "      <td>-10.65080</td>\n",
       "      <td>(101-112:57-45)</td>\n",
       "    </tr>\n",
       "    <tr>\n",
       "      <th>0</th>\n",
       "      <td>7.33913</td>\n",
       "      <td>-16.77</td>\n",
       "      <td>-9.43087</td>\n",
       "      <td>(97-112:202-186)</td>\n",
       "      <td>6.03945</td>\n",
       "      <td>-16.13</td>\n",
       "      <td>-10.09050</td>\n",
       "      <td>(99-110:57-45)</td>\n",
       "    </tr>\n",
       "    <tr>\n",
       "      <th>0</th>\n",
       "      <td>10.32910</td>\n",
       "      <td>-21.66</td>\n",
       "      <td>-11.33090</td>\n",
       "      <td>(96-117:202-175)</td>\n",
       "      <td>5.49017</td>\n",
       "      <td>-16.13</td>\n",
       "      <td>-10.63980</td>\n",
       "      <td>(98-109:57-45)</td>\n",
       "    </tr>\n",
       "    <tr>\n",
       "      <th>0</th>\n",
       "      <td>7.32083</td>\n",
       "      <td>-16.77</td>\n",
       "      <td>-9.44917</td>\n",
       "      <td>(94-109:202-186)</td>\n",
       "      <td>6.01325</td>\n",
       "      <td>-16.13</td>\n",
       "      <td>-10.11680</td>\n",
       "      <td>(96-107:57-45)</td>\n",
       "    </tr>\n",
       "    <tr>\n",
       "      <th>0</th>\n",
       "      <td>95.47300</td>\n",
       "      <td>-268.39</td>\n",
       "      <td>-172.91700</td>\n",
       "      <td>(0-191:724-533)</td>\n",
       "      <td>7.21105</td>\n",
       "      <td>-16.77</td>\n",
       "      <td>-9.55895</td>\n",
       "      <td>(91-106:202-186)</td>\n",
       "    </tr>\n",
       "    <tr>\n",
       "      <th>0</th>\n",
       "      <td>97.20540</td>\n",
       "      <td>-268.14</td>\n",
       "      <td>-170.93500</td>\n",
       "      <td>(0-191:721-530)</td>\n",
       "      <td>7.31349</td>\n",
       "      <td>-16.77</td>\n",
       "      <td>-9.45651</td>\n",
       "      <td>(88-103:202-186)</td>\n",
       "    </tr>\n",
       "    <tr>\n",
       "      <th>0</th>\n",
       "      <td>7.25527</td>\n",
       "      <td>-16.77</td>\n",
       "      <td>-9.51473</td>\n",
       "      <td>(85-100:202-186)</td>\n",
       "      <td>5.99070</td>\n",
       "      <td>-16.13</td>\n",
       "      <td>-10.13930</td>\n",
       "      <td>(87-98:57-45)</td>\n",
       "    </tr>\n",
       "    <tr>\n",
       "      <th>0</th>\n",
       "      <td>98.39580</td>\n",
       "      <td>-268.34</td>\n",
       "      <td>-169.94400</td>\n",
       "      <td>(0-191:715-524)</td>\n",
       "      <td>7.01107</td>\n",
       "      <td>-16.77</td>\n",
       "      <td>-9.75893</td>\n",
       "      <td>(82-97:202-186)</td>\n",
       "    </tr>\n",
       "    <tr>\n",
       "      <th>0</th>\n",
       "      <td>7.60157</td>\n",
       "      <td>-16.77</td>\n",
       "      <td>-9.16843</td>\n",
       "      <td>(79-94:202-186)</td>\n",
       "      <td>6.30102</td>\n",
       "      <td>-16.13</td>\n",
       "      <td>-9.82898</td>\n",
       "      <td>(81-92:57-45)</td>\n",
       "    </tr>\n",
       "    <tr>\n",
       "      <th>0</th>\n",
       "      <td>7.53034</td>\n",
       "      <td>-16.77</td>\n",
       "      <td>-9.23966</td>\n",
       "      <td>(76-91:202-186)</td>\n",
       "      <td>6.22805</td>\n",
       "      <td>-16.13</td>\n",
       "      <td>-9.90195</td>\n",
       "      <td>(78-89:57-45)</td>\n",
       "    </tr>\n",
       "    <tr>\n",
       "      <th>0</th>\n",
       "      <td>93.55400</td>\n",
       "      <td>-268.05</td>\n",
       "      <td>-174.49600</td>\n",
       "      <td>(0-191:706-515)</td>\n",
       "      <td>7.59311</td>\n",
       "      <td>-16.77</td>\n",
       "      <td>-9.17689</td>\n",
       "      <td>(73-88:202-186)</td>\n",
       "    </tr>\n",
       "    <tr>\n",
       "      <th>0</th>\n",
       "      <td>93.38430</td>\n",
       "      <td>-268.26</td>\n",
       "      <td>-174.87600</td>\n",
       "      <td>(0-191:703-512)</td>\n",
       "      <td>7.72398</td>\n",
       "      <td>-16.77</td>\n",
       "      <td>-9.04602</td>\n",
       "      <td>(70-85:202-186)</td>\n",
       "    </tr>\n",
       "    <tr>\n",
       "      <th>0</th>\n",
       "      <td>7.73375</td>\n",
       "      <td>-16.77</td>\n",
       "      <td>-9.03625</td>\n",
       "      <td>(67-82:202-186)</td>\n",
       "      <td>6.40749</td>\n",
       "      <td>-16.13</td>\n",
       "      <td>-9.72251</td>\n",
       "      <td>(69-80:57-45)</td>\n",
       "    </tr>\n",
       "    <tr>\n",
       "      <th>0</th>\n",
       "      <td>8.00255</td>\n",
       "      <td>-16.77</td>\n",
       "      <td>-8.76745</td>\n",
       "      <td>(64-79:202-186)</td>\n",
       "      <td>6.68638</td>\n",
       "      <td>-16.13</td>\n",
       "      <td>-9.44362</td>\n",
       "      <td>(66-77:57-45)</td>\n",
       "    </tr>\n",
       "    <tr>\n",
       "      <th>0</th>\n",
       "      <td>8.04475</td>\n",
       "      <td>-16.77</td>\n",
       "      <td>-8.72525</td>\n",
       "      <td>(61-76:202-186)</td>\n",
       "      <td>6.72685</td>\n",
       "      <td>-16.13</td>\n",
       "      <td>-9.40315</td>\n",
       "      <td>(63-74:57-45)</td>\n",
       "    </tr>\n",
       "    <tr>\n",
       "      <th>0</th>\n",
       "      <td>101.30600</td>\n",
       "      <td>-266.92</td>\n",
       "      <td>-165.61400</td>\n",
       "      <td>(0-191:614-423)</td>\n",
       "      <td>NaN</td>\n",
       "      <td>NaN</td>\n",
       "      <td>NaN</td>\n",
       "      <td>NaN</td>\n",
       "    </tr>\n",
       "    <tr>\n",
       "      <th>0</th>\n",
       "      <td>47.86200</td>\n",
       "      <td>-101.23</td>\n",
       "      <td>-53.36800</td>\n",
       "      <td>(120-191:256-185)</td>\n",
       "      <td>39.92240</td>\n",
       "      <td>-95.39</td>\n",
       "      <td>-55.46760</td>\n",
       "      <td>(42-110:334-266)</td>\n",
       "    </tr>\n",
       "    <tr>\n",
       "      <th>0</th>\n",
       "      <td>73.84860</td>\n",
       "      <td>-150.98</td>\n",
       "      <td>-77.13140</td>\n",
       "      <td>(0-107:373-266)</td>\n",
       "      <td>47.63690</td>\n",
       "      <td>-104.47</td>\n",
       "      <td>-56.83310</td>\n",
       "      <td>(117-191:256-182)</td>\n",
       "    </tr>\n",
       "    <tr>\n",
       "      <th>0</th>\n",
       "      <td>71.13160</td>\n",
       "      <td>-146.87</td>\n",
       "      <td>-75.73840</td>\n",
       "      <td>(0-104:370-266)</td>\n",
       "      <td>48.32850</td>\n",
       "      <td>-106.69</td>\n",
       "      <td>-58.36150</td>\n",
       "      <td>(114-191:256-179)</td>\n",
       "    </tr>\n",
       "    <tr>\n",
       "      <th>0</th>\n",
       "      <td>97.54390</td>\n",
       "      <td>-216.71</td>\n",
       "      <td>-119.16600</td>\n",
       "      <td>(33-191:334-176)</td>\n",
       "      <td>71.33140</td>\n",
       "      <td>-143.29</td>\n",
       "      <td>-71.95860</td>\n",
       "      <td>(0-101:367-266)</td>\n",
       "    </tr>\n",
       "    <tr>\n",
       "      <th>0</th>\n",
       "      <td>96.98580</td>\n",
       "      <td>-221.47</td>\n",
       "      <td>-124.48400</td>\n",
       "      <td>(30-191:334-173)</td>\n",
       "      <td>14.59240</td>\n",
       "      <td>-27.52</td>\n",
       "      <td>-12.92760</td>\n",
       "      <td>(0-20:364-344)</td>\n",
       "    </tr>\n",
       "  </tbody>\n",
       "</table>\n",
       "</div>"
      ],
      "text/plain": [
       "    Accessibility Energy   Hybridization Energy   Interaction Energy  \\\n",
       "0               10.26990                 -21.66            -11.39010   \n",
       "0               10.31810                 -21.66            -11.34190   \n",
       "0                7.33913                 -16.77             -9.43087   \n",
       "0               10.32910                 -21.66            -11.33090   \n",
       "0                7.32083                 -16.77             -9.44917   \n",
       "0               95.47300                -268.39           -172.91700   \n",
       "0               97.20540                -268.14           -170.93500   \n",
       "0                7.25527                 -16.77             -9.51473   \n",
       "0               98.39580                -268.34           -169.94400   \n",
       "0                7.60157                 -16.77             -9.16843   \n",
       "0                7.53034                 -16.77             -9.23966   \n",
       "0               93.55400                -268.05           -174.49600   \n",
       "0               93.38430                -268.26           -174.87600   \n",
       "0                7.73375                 -16.77             -9.03625   \n",
       "0                8.00255                 -16.77             -8.76745   \n",
       "0                8.04475                 -16.77             -8.72525   \n",
       "0              101.30600                -266.92           -165.61400   \n",
       "0               47.86200                -101.23            -53.36800   \n",
       "0               73.84860                -150.98            -77.13140   \n",
       "0               71.13160                -146.87            -75.73840   \n",
       "0               97.54390                -216.71           -119.16600   \n",
       "0               96.98580                -221.47           -124.48400   \n",
       "\n",
       "             BasePair   Accessibility Energy   Hybridization Energy  \\\n",
       "0  (102-123:202-175)                 5.40883                 -16.13   \n",
       "0   (99-120:202-175)                 5.47921                 -16.13   \n",
       "0   (97-112:202-186)                 6.03945                 -16.13   \n",
       "0   (96-117:202-175)                 5.49017                 -16.13   \n",
       "0   (94-109:202-186)                 6.01325                 -16.13   \n",
       "0    (0-191:724-533)                 7.21105                 -16.77   \n",
       "0    (0-191:721-530)                 7.31349                 -16.77   \n",
       "0   (85-100:202-186)                 5.99070                 -16.13   \n",
       "0    (0-191:715-524)                 7.01107                 -16.77   \n",
       "0    (79-94:202-186)                 6.30102                 -16.13   \n",
       "0    (76-91:202-186)                 6.22805                 -16.13   \n",
       "0    (0-191:706-515)                 7.59311                 -16.77   \n",
       "0    (0-191:703-512)                 7.72398                 -16.77   \n",
       "0    (67-82:202-186)                 6.40749                 -16.13   \n",
       "0    (64-79:202-186)                 6.68638                 -16.13   \n",
       "0    (61-76:202-186)                 6.72685                 -16.13   \n",
       "0    (0-191:614-423)                     NaN                    NaN   \n",
       "0  (120-191:256-185)                39.92240                 -95.39   \n",
       "0    (0-107:373-266)                47.63690                -104.47   \n",
       "0    (0-104:370-266)                48.32850                -106.69   \n",
       "0   (33-191:334-176)                71.33140                -143.29   \n",
       "0   (30-191:334-173)                14.59240                 -27.52   \n",
       "\n",
       "    Interaction Energy            BasePair  \n",
       "0            -10.72120    (104-115:57-45)   \n",
       "0            -10.65080    (101-112:57-45)   \n",
       "0            -10.09050     (99-110:57-45)   \n",
       "0            -10.63980     (98-109:57-45)   \n",
       "0            -10.11680     (96-107:57-45)   \n",
       "0             -9.55895   (91-106:202-186)   \n",
       "0             -9.45651   (88-103:202-186)   \n",
       "0            -10.13930      (87-98:57-45)   \n",
       "0             -9.75893    (82-97:202-186)   \n",
       "0             -9.82898      (81-92:57-45)   \n",
       "0             -9.90195      (78-89:57-45)   \n",
       "0             -9.17689    (73-88:202-186)   \n",
       "0             -9.04602    (70-85:202-186)   \n",
       "0             -9.72251      (69-80:57-45)   \n",
       "0             -9.44362      (66-77:57-45)   \n",
       "0             -9.40315      (63-74:57-45)   \n",
       "0                  NaN                 NaN  \n",
       "0            -55.46760   (42-110:334-266)   \n",
       "0            -56.83310  (117-191:256-182)   \n",
       "0            -58.36150  (114-191:256-179)   \n",
       "0            -71.95860    (0-101:367-266)   \n",
       "0            -12.92760     (0-20:364-344)   "
      ]
     },
     "execution_count": 34,
     "metadata": {},
     "output_type": "execute_result"
    }
   ],
   "source": [
    "metricsTable_higherOrder, outputRIblast = output_RIblast(fold_sequenceMetrics, geneName, test_speciesName, spliceVariant, 'cDNA')\n",
    "outputRIblast"
   ]
  },
  {
   "cell_type": "code",
   "execution_count": 35,
   "id": "b4ef418a-0d79-46ed-a730-5474d1129c9f",
   "metadata": {
    "execution": {
     "iopub.execute_input": "2022-07-27T19:11:06.703266Z",
     "iopub.status.busy": "2022-07-27T19:11:06.702934Z",
     "iopub.status.idle": "2022-07-27T19:11:06.778406Z",
     "shell.execute_reply": "2022-07-27T19:11:06.777131Z",
     "shell.execute_reply.started": "2022-07-27T19:11:06.703239Z"
    },
    "tags": []
   },
   "outputs": [
    {
     "data": {
      "text/html": [
       "<div>\n",
       "<style scoped>\n",
       "    .dataframe tbody tr th:only-of-type {\n",
       "        vertical-align: middle;\n",
       "    }\n",
       "\n",
       "    .dataframe tbody tr th {\n",
       "        vertical-align: top;\n",
       "    }\n",
       "\n",
       "    .dataframe thead th {\n",
       "        text-align: right;\n",
       "    }\n",
       "</style>\n",
       "<table border=\"1\" class=\"dataframe\">\n",
       "  <thead>\n",
       "    <tr style=\"text-align: right;\">\n",
       "      <th></th>\n",
       "      <th>sesNum</th>\n",
       "      <th>SeqNum</th>\n",
       "      <th>ExonFrac</th>\n",
       "      <th>ExonProtFrac</th>\n",
       "      <th>CDSFrac</th>\n",
       "      <th>CDNAFrac</th>\n",
       "      <th>StartSeq</th>\n",
       "      <th>StopSeq</th>\n",
       "      <th>firstTGG</th>\n",
       "      <th>centralTGG</th>\n",
       "      <th>second_cTGG</th>\n",
       "      <th>numTGG</th>\n",
       "      <th>numTTGG</th>\n",
       "      <th>numTGGA</th>\n",
       "      <th>numTTGGA</th>\n",
       "      <th>numATG</th>\n",
       "      <th>numStop</th>\n",
       "      <th>gcCont</th>\n",
       "      <th>mfe</th>\n",
       "      <th>mfeFreq</th>\n",
       "      <th>Accessibility Energy</th>\n",
       "      <th>Hybridization Energy</th>\n",
       "      <th>Interaction Energy</th>\n",
       "      <th>BasePair</th>\n",
       "    </tr>\n",
       "  </thead>\n",
       "  <tbody>\n",
       "    <tr>\n",
       "      <th>0</th>\n",
       "      <td>1</td>\n",
       "      <td>1</td>\n",
       "      <td>1/1</td>\n",
       "      <td>1/1</td>\n",
       "      <td>1/1</td>\n",
       "      <td>1/1</td>\n",
       "      <td>0.0</td>\n",
       "      <td>192.0</td>\n",
       "      <td>84.0</td>\n",
       "      <td>84.0</td>\n",
       "      <td>NA</td>\n",
       "      <td>1.0</td>\n",
       "      <td>0.0</td>\n",
       "      <td>0.0</td>\n",
       "      <td>0.0</td>\n",
       "      <td>0.0</td>\n",
       "      <td>2.0</td>\n",
       "      <td>58.3</td>\n",
       "      <td>-68.9</td>\n",
       "      <td>0.182</td>\n",
       "      <td>10.26990</td>\n",
       "      <td>-21.66</td>\n",
       "      <td>-11.39010</td>\n",
       "      <td>(102-123:202-175)</td>\n",
       "    </tr>\n",
       "    <tr>\n",
       "      <th>1</th>\n",
       "      <td>2</td>\n",
       "      <td>1</td>\n",
       "      <td>1/1</td>\n",
       "      <td>1/1</td>\n",
       "      <td>1/1</td>\n",
       "      <td>1/1</td>\n",
       "      <td>3.0</td>\n",
       "      <td>195.0</td>\n",
       "      <td>81.0</td>\n",
       "      <td>81.0</td>\n",
       "      <td>NA</td>\n",
       "      <td>1.0</td>\n",
       "      <td>0.0</td>\n",
       "      <td>0.0</td>\n",
       "      <td>0.0</td>\n",
       "      <td>0.0</td>\n",
       "      <td>2.0</td>\n",
       "      <td>58.3</td>\n",
       "      <td>-69.3</td>\n",
       "      <td>0.354</td>\n",
       "      <td>10.31810</td>\n",
       "      <td>-21.66</td>\n",
       "      <td>-11.34190</td>\n",
       "      <td>(99-120:202-175)</td>\n",
       "    </tr>\n",
       "    <tr>\n",
       "      <th>2</th>\n",
       "      <td>3</td>\n",
       "      <td>1</td>\n",
       "      <td>1/1</td>\n",
       "      <td>1/1</td>\n",
       "      <td>1/1</td>\n",
       "      <td>1/1</td>\n",
       "      <td>5.0</td>\n",
       "      <td>197.0</td>\n",
       "      <td>114.0</td>\n",
       "      <td>114.0</td>\n",
       "      <td>NA</td>\n",
       "      <td>1.0</td>\n",
       "      <td>0.0</td>\n",
       "      <td>0.0</td>\n",
       "      <td>0.0</td>\n",
       "      <td>0.0</td>\n",
       "      <td>0.0</td>\n",
       "      <td>58.9</td>\n",
       "      <td>-61.6</td>\n",
       "      <td>0.103</td>\n",
       "      <td>7.33913</td>\n",
       "      <td>-16.77</td>\n",
       "      <td>-9.43087</td>\n",
       "      <td>(97-112:202-186)</td>\n",
       "    </tr>\n",
       "    <tr>\n",
       "      <th>3</th>\n",
       "      <td>4</td>\n",
       "      <td>1</td>\n",
       "      <td>1/1</td>\n",
       "      <td>1/1</td>\n",
       "      <td>1/1</td>\n",
       "      <td>1/1</td>\n",
       "      <td>6.0</td>\n",
       "      <td>198.0</td>\n",
       "      <td>78.0</td>\n",
       "      <td>78.0</td>\n",
       "      <td>NA</td>\n",
       "      <td>1.0</td>\n",
       "      <td>0.0</td>\n",
       "      <td>0.0</td>\n",
       "      <td>0.0</td>\n",
       "      <td>0.0</td>\n",
       "      <td>2.0</td>\n",
       "      <td>58.9</td>\n",
       "      <td>-69.5</td>\n",
       "      <td>0.310</td>\n",
       "      <td>10.32910</td>\n",
       "      <td>-21.66</td>\n",
       "      <td>-11.33090</td>\n",
       "      <td>(96-117:202-175)</td>\n",
       "    </tr>\n",
       "    <tr>\n",
       "      <th>4</th>\n",
       "      <td>5</td>\n",
       "      <td>1</td>\n",
       "      <td>1/1</td>\n",
       "      <td>1/1</td>\n",
       "      <td>1/1</td>\n",
       "      <td>1/1</td>\n",
       "      <td>8.0</td>\n",
       "      <td>200.0</td>\n",
       "      <td>111.0</td>\n",
       "      <td>111.0</td>\n",
       "      <td>NA</td>\n",
       "      <td>1.0</td>\n",
       "      <td>0.0</td>\n",
       "      <td>0.0</td>\n",
       "      <td>0.0</td>\n",
       "      <td>0.0</td>\n",
       "      <td>0.0</td>\n",
       "      <td>58.9</td>\n",
       "      <td>-62.3</td>\n",
       "      <td>0.209</td>\n",
       "      <td>7.32083</td>\n",
       "      <td>-16.77</td>\n",
       "      <td>-9.44917</td>\n",
       "      <td>(94-109:202-186)</td>\n",
       "    </tr>\n",
       "    <tr>\n",
       "      <th>5</th>\n",
       "      <td>6</td>\n",
       "      <td>1</td>\n",
       "      <td>1/1</td>\n",
       "      <td>1/1</td>\n",
       "      <td>1/1</td>\n",
       "      <td>1/1</td>\n",
       "      <td>11.0</td>\n",
       "      <td>203.0</td>\n",
       "      <td>108.0</td>\n",
       "      <td>108.0</td>\n",
       "      <td>NA</td>\n",
       "      <td>1.0</td>\n",
       "      <td>0.0</td>\n",
       "      <td>0.0</td>\n",
       "      <td>0.0</td>\n",
       "      <td>0.0</td>\n",
       "      <td>0.0</td>\n",
       "      <td>58.3</td>\n",
       "      <td>-62.3</td>\n",
       "      <td>1.635</td>\n",
       "      <td>95.47300</td>\n",
       "      <td>-268.39</td>\n",
       "      <td>-172.91700</td>\n",
       "      <td>(0-191:724-533)</td>\n",
       "    </tr>\n",
       "    <tr>\n",
       "      <th>6</th>\n",
       "      <td>7</td>\n",
       "      <td>1</td>\n",
       "      <td>1/1</td>\n",
       "      <td>1/1</td>\n",
       "      <td>1/1</td>\n",
       "      <td>1/1</td>\n",
       "      <td>14.0</td>\n",
       "      <td>206.0</td>\n",
       "      <td>105.0</td>\n",
       "      <td>105.0</td>\n",
       "      <td>NA</td>\n",
       "      <td>1.0</td>\n",
       "      <td>0.0</td>\n",
       "      <td>0.0</td>\n",
       "      <td>0.0</td>\n",
       "      <td>0.0</td>\n",
       "      <td>0.0</td>\n",
       "      <td>58.9</td>\n",
       "      <td>-59.5</td>\n",
       "      <td>0.052</td>\n",
       "      <td>97.20540</td>\n",
       "      <td>-268.14</td>\n",
       "      <td>-170.93500</td>\n",
       "      <td>(0-191:721-530)</td>\n",
       "    </tr>\n",
       "    <tr>\n",
       "      <th>7</th>\n",
       "      <td>8</td>\n",
       "      <td>1</td>\n",
       "      <td>1/1</td>\n",
       "      <td>1/1</td>\n",
       "      <td>1/1</td>\n",
       "      <td>1/1</td>\n",
       "      <td>17.0</td>\n",
       "      <td>209.0</td>\n",
       "      <td>102.0</td>\n",
       "      <td>102.0</td>\n",
       "      <td>NA</td>\n",
       "      <td>1.0</td>\n",
       "      <td>0.0</td>\n",
       "      <td>0.0</td>\n",
       "      <td>0.0</td>\n",
       "      <td>0.0</td>\n",
       "      <td>0.0</td>\n",
       "      <td>59.4</td>\n",
       "      <td>-61.0</td>\n",
       "      <td>0.341</td>\n",
       "      <td>7.25527</td>\n",
       "      <td>-16.77</td>\n",
       "      <td>-9.51473</td>\n",
       "      <td>(85-100:202-186)</td>\n",
       "    </tr>\n",
       "    <tr>\n",
       "      <th>8</th>\n",
       "      <td>9</td>\n",
       "      <td>1</td>\n",
       "      <td>1/1</td>\n",
       "      <td>1/1</td>\n",
       "      <td>1/1</td>\n",
       "      <td>1/1</td>\n",
       "      <td>20.0</td>\n",
       "      <td>212.0</td>\n",
       "      <td>99.0</td>\n",
       "      <td>99.0</td>\n",
       "      <td>NA</td>\n",
       "      <td>1.0</td>\n",
       "      <td>0.0</td>\n",
       "      <td>0.0</td>\n",
       "      <td>0.0</td>\n",
       "      <td>0.0</td>\n",
       "      <td>0.0</td>\n",
       "      <td>59.4</td>\n",
       "      <td>-63.1</td>\n",
       "      <td>0.360</td>\n",
       "      <td>98.39580</td>\n",
       "      <td>-268.34</td>\n",
       "      <td>-169.94400</td>\n",
       "      <td>(0-191:715-524)</td>\n",
       "    </tr>\n",
       "    <tr>\n",
       "      <th>9</th>\n",
       "      <td>10</td>\n",
       "      <td>1</td>\n",
       "      <td>1/1</td>\n",
       "      <td>1/1</td>\n",
       "      <td>1/1</td>\n",
       "      <td>1/1</td>\n",
       "      <td>23.0</td>\n",
       "      <td>215.0</td>\n",
       "      <td>96.0</td>\n",
       "      <td>96.0</td>\n",
       "      <td>NA</td>\n",
       "      <td>1.0</td>\n",
       "      <td>0.0</td>\n",
       "      <td>0.0</td>\n",
       "      <td>0.0</td>\n",
       "      <td>0.0</td>\n",
       "      <td>0.0</td>\n",
       "      <td>59.4</td>\n",
       "      <td>-63.7</td>\n",
       "      <td>0.133</td>\n",
       "      <td>7.60157</td>\n",
       "      <td>-16.77</td>\n",
       "      <td>-9.16843</td>\n",
       "      <td>(79-94:202-186)</td>\n",
       "    </tr>\n",
       "    <tr>\n",
       "      <th>10</th>\n",
       "      <td>11</td>\n",
       "      <td>1</td>\n",
       "      <td>1/1</td>\n",
       "      <td>1/1</td>\n",
       "      <td>1/1</td>\n",
       "      <td>1/1</td>\n",
       "      <td>26.0</td>\n",
       "      <td>218.0</td>\n",
       "      <td>93.0</td>\n",
       "      <td>93.0</td>\n",
       "      <td>NA</td>\n",
       "      <td>1.0</td>\n",
       "      <td>0.0</td>\n",
       "      <td>0.0</td>\n",
       "      <td>0.0</td>\n",
       "      <td>0.0</td>\n",
       "      <td>0.0</td>\n",
       "      <td>58.9</td>\n",
       "      <td>-65.7</td>\n",
       "      <td>0.273</td>\n",
       "      <td>7.53034</td>\n",
       "      <td>-16.77</td>\n",
       "      <td>-9.23966</td>\n",
       "      <td>(76-91:202-186)</td>\n",
       "    </tr>\n",
       "    <tr>\n",
       "      <th>11</th>\n",
       "      <td>12</td>\n",
       "      <td>1</td>\n",
       "      <td>1/1</td>\n",
       "      <td>1/1</td>\n",
       "      <td>1/1</td>\n",
       "      <td>1/1</td>\n",
       "      <td>29.0</td>\n",
       "      <td>221.0</td>\n",
       "      <td>90.0</td>\n",
       "      <td>90.0</td>\n",
       "      <td>NA</td>\n",
       "      <td>1.0</td>\n",
       "      <td>0.0</td>\n",
       "      <td>0.0</td>\n",
       "      <td>0.0</td>\n",
       "      <td>0.0</td>\n",
       "      <td>0.0</td>\n",
       "      <td>58.9</td>\n",
       "      <td>-65.5</td>\n",
       "      <td>0.229</td>\n",
       "      <td>93.55400</td>\n",
       "      <td>-268.05</td>\n",
       "      <td>-174.49600</td>\n",
       "      <td>(0-191:706-515)</td>\n",
       "    </tr>\n",
       "    <tr>\n",
       "      <th>12</th>\n",
       "      <td>13</td>\n",
       "      <td>1</td>\n",
       "      <td>1/1</td>\n",
       "      <td>1/1</td>\n",
       "      <td>1/1</td>\n",
       "      <td>1/1</td>\n",
       "      <td>32.0</td>\n",
       "      <td>224.0</td>\n",
       "      <td>87.0</td>\n",
       "      <td>87.0</td>\n",
       "      <td>NA</td>\n",
       "      <td>1.0</td>\n",
       "      <td>0.0</td>\n",
       "      <td>0.0</td>\n",
       "      <td>0.0</td>\n",
       "      <td>0.0</td>\n",
       "      <td>0.0</td>\n",
       "      <td>58.9</td>\n",
       "      <td>-65.5</td>\n",
       "      <td>0.206</td>\n",
       "      <td>93.38430</td>\n",
       "      <td>-268.26</td>\n",
       "      <td>-174.87600</td>\n",
       "      <td>(0-191:703-512)</td>\n",
       "    </tr>\n",
       "    <tr>\n",
       "      <th>13</th>\n",
       "      <td>14</td>\n",
       "      <td>1</td>\n",
       "      <td>1/1</td>\n",
       "      <td>1/1</td>\n",
       "      <td>1/1</td>\n",
       "      <td>1/1</td>\n",
       "      <td>35.0</td>\n",
       "      <td>227.0</td>\n",
       "      <td>84.0</td>\n",
       "      <td>84.0</td>\n",
       "      <td>NA</td>\n",
       "      <td>1.0</td>\n",
       "      <td>0.0</td>\n",
       "      <td>0.0</td>\n",
       "      <td>0.0</td>\n",
       "      <td>0.0</td>\n",
       "      <td>0.0</td>\n",
       "      <td>59.4</td>\n",
       "      <td>-65.6</td>\n",
       "      <td>0.193</td>\n",
       "      <td>7.73375</td>\n",
       "      <td>-16.77</td>\n",
       "      <td>-9.03625</td>\n",
       "      <td>(67-82:202-186)</td>\n",
       "    </tr>\n",
       "    <tr>\n",
       "      <th>14</th>\n",
       "      <td>15</td>\n",
       "      <td>1</td>\n",
       "      <td>1/1</td>\n",
       "      <td>1/1</td>\n",
       "      <td>1/1</td>\n",
       "      <td>1/1</td>\n",
       "      <td>38.0</td>\n",
       "      <td>230.0</td>\n",
       "      <td>81.0</td>\n",
       "      <td>81.0</td>\n",
       "      <td>NA</td>\n",
       "      <td>1.0</td>\n",
       "      <td>0.0</td>\n",
       "      <td>0.0</td>\n",
       "      <td>0.0</td>\n",
       "      <td>0.0</td>\n",
       "      <td>0.0</td>\n",
       "      <td>58.3</td>\n",
       "      <td>-64.0</td>\n",
       "      <td>0.497</td>\n",
       "      <td>8.00255</td>\n",
       "      <td>-16.77</td>\n",
       "      <td>-8.76745</td>\n",
       "      <td>(64-79:202-186)</td>\n",
       "    </tr>\n",
       "    <tr>\n",
       "      <th>15</th>\n",
       "      <td>16</td>\n",
       "      <td>1</td>\n",
       "      <td>1/1</td>\n",
       "      <td>1/1</td>\n",
       "      <td>1/1</td>\n",
       "      <td>1/1</td>\n",
       "      <td>41.0</td>\n",
       "      <td>233.0</td>\n",
       "      <td>78.0</td>\n",
       "      <td>78.0</td>\n",
       "      <td>NA</td>\n",
       "      <td>1.0</td>\n",
       "      <td>0.0</td>\n",
       "      <td>0.0</td>\n",
       "      <td>0.0</td>\n",
       "      <td>0.0</td>\n",
       "      <td>0.0</td>\n",
       "      <td>58.9</td>\n",
       "      <td>-64.0</td>\n",
       "      <td>0.375</td>\n",
       "      <td>8.04475</td>\n",
       "      <td>-16.77</td>\n",
       "      <td>-8.72525</td>\n",
       "      <td>(61-76:202-186)</td>\n",
       "    </tr>\n",
       "    <tr>\n",
       "      <th>16</th>\n",
       "      <td>17</td>\n",
       "      <td>1</td>\n",
       "      <td>1/1</td>\n",
       "      <td>1/1</td>\n",
       "      <td>1/1</td>\n",
       "      <td>1/1</td>\n",
       "      <td>121.0</td>\n",
       "      <td>313.0</td>\n",
       "      <td>78.0</td>\n",
       "      <td>78.0</td>\n",
       "      <td>NA</td>\n",
       "      <td>1.0</td>\n",
       "      <td>0.0</td>\n",
       "      <td>0.0</td>\n",
       "      <td>0.0</td>\n",
       "      <td>0.0</td>\n",
       "      <td>1.0</td>\n",
       "      <td>60.4</td>\n",
       "      <td>-63.5</td>\n",
       "      <td>1.176</td>\n",
       "      <td>101.30600</td>\n",
       "      <td>-266.92</td>\n",
       "      <td>-165.61400</td>\n",
       "      <td>(0-191:614-423)</td>\n",
       "    </tr>\n",
       "    <tr>\n",
       "      <th>17</th>\n",
       "      <td>18</td>\n",
       "      <td>1</td>\n",
       "      <td>1/1</td>\n",
       "      <td>1/1</td>\n",
       "      <td>1/1</td>\n",
       "      <td>1/1</td>\n",
       "      <td>359.0</td>\n",
       "      <td>551.0</td>\n",
       "      <td>90.0</td>\n",
       "      <td>90.0</td>\n",
       "      <td>NA</td>\n",
       "      <td>1.0</td>\n",
       "      <td>0.0</td>\n",
       "      <td>0.0</td>\n",
       "      <td>0.0</td>\n",
       "      <td>0.0</td>\n",
       "      <td>2.0</td>\n",
       "      <td>59.9</td>\n",
       "      <td>-75.2</td>\n",
       "      <td>1.028</td>\n",
       "      <td>47.86200</td>\n",
       "      <td>-101.23</td>\n",
       "      <td>-53.36800</td>\n",
       "      <td>(120-191:256-185)</td>\n",
       "    </tr>\n",
       "    <tr>\n",
       "      <th>18</th>\n",
       "      <td>19</td>\n",
       "      <td>1</td>\n",
       "      <td>1/1</td>\n",
       "      <td>1/1</td>\n",
       "      <td>1/1</td>\n",
       "      <td>1/1</td>\n",
       "      <td>362.0</td>\n",
       "      <td>554.0</td>\n",
       "      <td>87.0</td>\n",
       "      <td>87.0</td>\n",
       "      <td>NA</td>\n",
       "      <td>1.0</td>\n",
       "      <td>0.0</td>\n",
       "      <td>0.0</td>\n",
       "      <td>0.0</td>\n",
       "      <td>0.0</td>\n",
       "      <td>2.0</td>\n",
       "      <td>60.4</td>\n",
       "      <td>-75.2</td>\n",
       "      <td>0.969</td>\n",
       "      <td>73.84860</td>\n",
       "      <td>-150.98</td>\n",
       "      <td>-77.13140</td>\n",
       "      <td>(0-107:373-266)</td>\n",
       "    </tr>\n",
       "    <tr>\n",
       "      <th>19</th>\n",
       "      <td>20</td>\n",
       "      <td>1</td>\n",
       "      <td>1/1</td>\n",
       "      <td>1/1</td>\n",
       "      <td>1/1</td>\n",
       "      <td>1/1</td>\n",
       "      <td>365.0</td>\n",
       "      <td>557.0</td>\n",
       "      <td>84.0</td>\n",
       "      <td>84.0</td>\n",
       "      <td>NA</td>\n",
       "      <td>1.0</td>\n",
       "      <td>0.0</td>\n",
       "      <td>0.0</td>\n",
       "      <td>0.0</td>\n",
       "      <td>0.0</td>\n",
       "      <td>2.0</td>\n",
       "      <td>59.9</td>\n",
       "      <td>-73.1</td>\n",
       "      <td>0.790</td>\n",
       "      <td>71.13160</td>\n",
       "      <td>-146.87</td>\n",
       "      <td>-75.73840</td>\n",
       "      <td>(0-104:370-266)</td>\n",
       "    </tr>\n",
       "    <tr>\n",
       "      <th>20</th>\n",
       "      <td>21</td>\n",
       "      <td>1</td>\n",
       "      <td>1/1</td>\n",
       "      <td>1/1</td>\n",
       "      <td>1/1</td>\n",
       "      <td>1/1</td>\n",
       "      <td>368.0</td>\n",
       "      <td>560.0</td>\n",
       "      <td>81.0</td>\n",
       "      <td>81.0</td>\n",
       "      <td>NA</td>\n",
       "      <td>1.0</td>\n",
       "      <td>0.0</td>\n",
       "      <td>0.0</td>\n",
       "      <td>0.0</td>\n",
       "      <td>0.0</td>\n",
       "      <td>2.0</td>\n",
       "      <td>60.4</td>\n",
       "      <td>-73.6</td>\n",
       "      <td>0.958</td>\n",
       "      <td>97.54390</td>\n",
       "      <td>-216.71</td>\n",
       "      <td>-119.16600</td>\n",
       "      <td>(33-191:334-176)</td>\n",
       "    </tr>\n",
       "    <tr>\n",
       "      <th>21</th>\n",
       "      <td>22</td>\n",
       "      <td>1</td>\n",
       "      <td>1/1</td>\n",
       "      <td>1/1</td>\n",
       "      <td>1/1</td>\n",
       "      <td>1/1</td>\n",
       "      <td>371.0</td>\n",
       "      <td>563.0</td>\n",
       "      <td>78.0</td>\n",
       "      <td>78.0</td>\n",
       "      <td>NA</td>\n",
       "      <td>1.0</td>\n",
       "      <td>0.0</td>\n",
       "      <td>0.0</td>\n",
       "      <td>0.0</td>\n",
       "      <td>0.0</td>\n",
       "      <td>2.0</td>\n",
       "      <td>59.9</td>\n",
       "      <td>-72.5</td>\n",
       "      <td>0.443</td>\n",
       "      <td>96.98580</td>\n",
       "      <td>-221.47</td>\n",
       "      <td>-124.48400</td>\n",
       "      <td>(30-191:334-173)</td>\n",
       "    </tr>\n",
       "  </tbody>\n",
       "</table>\n",
       "</div>"
      ],
      "text/plain": [
       "    sesNum  SeqNum ExonFrac ExonProtFrac CDSFrac CDNAFrac  StartSeq  StopSeq  \\\n",
       "0        1       1      1/1          1/1     1/1      1/1       0.0    192.0   \n",
       "1        2       1      1/1          1/1     1/1      1/1       3.0    195.0   \n",
       "2        3       1      1/1          1/1     1/1      1/1       5.0    197.0   \n",
       "3        4       1      1/1          1/1     1/1      1/1       6.0    198.0   \n",
       "4        5       1      1/1          1/1     1/1      1/1       8.0    200.0   \n",
       "5        6       1      1/1          1/1     1/1      1/1      11.0    203.0   \n",
       "6        7       1      1/1          1/1     1/1      1/1      14.0    206.0   \n",
       "7        8       1      1/1          1/1     1/1      1/1      17.0    209.0   \n",
       "8        9       1      1/1          1/1     1/1      1/1      20.0    212.0   \n",
       "9       10       1      1/1          1/1     1/1      1/1      23.0    215.0   \n",
       "10      11       1      1/1          1/1     1/1      1/1      26.0    218.0   \n",
       "11      12       1      1/1          1/1     1/1      1/1      29.0    221.0   \n",
       "12      13       1      1/1          1/1     1/1      1/1      32.0    224.0   \n",
       "13      14       1      1/1          1/1     1/1      1/1      35.0    227.0   \n",
       "14      15       1      1/1          1/1     1/1      1/1      38.0    230.0   \n",
       "15      16       1      1/1          1/1     1/1      1/1      41.0    233.0   \n",
       "16      17       1      1/1          1/1     1/1      1/1     121.0    313.0   \n",
       "17      18       1      1/1          1/1     1/1      1/1     359.0    551.0   \n",
       "18      19       1      1/1          1/1     1/1      1/1     362.0    554.0   \n",
       "19      20       1      1/1          1/1     1/1      1/1     365.0    557.0   \n",
       "20      21       1      1/1          1/1     1/1      1/1     368.0    560.0   \n",
       "21      22       1      1/1          1/1     1/1      1/1     371.0    563.0   \n",
       "\n",
       "    firstTGG  centralTGG second_cTGG  numTGG  numTTGG  numTGGA  numTTGGA  \\\n",
       "0       84.0        84.0          NA     1.0      0.0      0.0       0.0   \n",
       "1       81.0        81.0          NA     1.0      0.0      0.0       0.0   \n",
       "2      114.0       114.0          NA     1.0      0.0      0.0       0.0   \n",
       "3       78.0        78.0          NA     1.0      0.0      0.0       0.0   \n",
       "4      111.0       111.0          NA     1.0      0.0      0.0       0.0   \n",
       "5      108.0       108.0          NA     1.0      0.0      0.0       0.0   \n",
       "6      105.0       105.0          NA     1.0      0.0      0.0       0.0   \n",
       "7      102.0       102.0          NA     1.0      0.0      0.0       0.0   \n",
       "8       99.0        99.0          NA     1.0      0.0      0.0       0.0   \n",
       "9       96.0        96.0          NA     1.0      0.0      0.0       0.0   \n",
       "10      93.0        93.0          NA     1.0      0.0      0.0       0.0   \n",
       "11      90.0        90.0          NA     1.0      0.0      0.0       0.0   \n",
       "12      87.0        87.0          NA     1.0      0.0      0.0       0.0   \n",
       "13      84.0        84.0          NA     1.0      0.0      0.0       0.0   \n",
       "14      81.0        81.0          NA     1.0      0.0      0.0       0.0   \n",
       "15      78.0        78.0          NA     1.0      0.0      0.0       0.0   \n",
       "16      78.0        78.0          NA     1.0      0.0      0.0       0.0   \n",
       "17      90.0        90.0          NA     1.0      0.0      0.0       0.0   \n",
       "18      87.0        87.0          NA     1.0      0.0      0.0       0.0   \n",
       "19      84.0        84.0          NA     1.0      0.0      0.0       0.0   \n",
       "20      81.0        81.0          NA     1.0      0.0      0.0       0.0   \n",
       "21      78.0        78.0          NA     1.0      0.0      0.0       0.0   \n",
       "\n",
       "    numATG  numStop  gcCont   mfe  mfeFreq   Accessibility Energy  \\\n",
       "0      0.0      2.0    58.3 -68.9    0.182               10.26990   \n",
       "1      0.0      2.0    58.3 -69.3    0.354               10.31810   \n",
       "2      0.0      0.0    58.9 -61.6    0.103                7.33913   \n",
       "3      0.0      2.0    58.9 -69.5    0.310               10.32910   \n",
       "4      0.0      0.0    58.9 -62.3    0.209                7.32083   \n",
       "5      0.0      0.0    58.3 -62.3    1.635               95.47300   \n",
       "6      0.0      0.0    58.9 -59.5    0.052               97.20540   \n",
       "7      0.0      0.0    59.4 -61.0    0.341                7.25527   \n",
       "8      0.0      0.0    59.4 -63.1    0.360               98.39580   \n",
       "9      0.0      0.0    59.4 -63.7    0.133                7.60157   \n",
       "10     0.0      0.0    58.9 -65.7    0.273                7.53034   \n",
       "11     0.0      0.0    58.9 -65.5    0.229               93.55400   \n",
       "12     0.0      0.0    58.9 -65.5    0.206               93.38430   \n",
       "13     0.0      0.0    59.4 -65.6    0.193                7.73375   \n",
       "14     0.0      0.0    58.3 -64.0    0.497                8.00255   \n",
       "15     0.0      0.0    58.9 -64.0    0.375                8.04475   \n",
       "16     0.0      1.0    60.4 -63.5    1.176              101.30600   \n",
       "17     0.0      2.0    59.9 -75.2    1.028               47.86200   \n",
       "18     0.0      2.0    60.4 -75.2    0.969               73.84860   \n",
       "19     0.0      2.0    59.9 -73.1    0.790               71.13160   \n",
       "20     0.0      2.0    60.4 -73.6    0.958               97.54390   \n",
       "21     0.0      2.0    59.9 -72.5    0.443               96.98580   \n",
       "\n",
       "     Hybridization Energy   Interaction Energy            BasePair  \n",
       "0                  -21.66            -11.39010  (102-123:202-175)   \n",
       "1                  -21.66            -11.34190   (99-120:202-175)   \n",
       "2                  -16.77             -9.43087   (97-112:202-186)   \n",
       "3                  -21.66            -11.33090   (96-117:202-175)   \n",
       "4                  -16.77             -9.44917   (94-109:202-186)   \n",
       "5                 -268.39           -172.91700    (0-191:724-533)   \n",
       "6                 -268.14           -170.93500    (0-191:721-530)   \n",
       "7                  -16.77             -9.51473   (85-100:202-186)   \n",
       "8                 -268.34           -169.94400    (0-191:715-524)   \n",
       "9                  -16.77             -9.16843    (79-94:202-186)   \n",
       "10                 -16.77             -9.23966    (76-91:202-186)   \n",
       "11                -268.05           -174.49600    (0-191:706-515)   \n",
       "12                -268.26           -174.87600    (0-191:703-512)   \n",
       "13                 -16.77             -9.03625    (67-82:202-186)   \n",
       "14                 -16.77             -8.76745    (64-79:202-186)   \n",
       "15                 -16.77             -8.72525    (61-76:202-186)   \n",
       "16                -266.92           -165.61400    (0-191:614-423)   \n",
       "17                -101.23            -53.36800  (120-191:256-185)   \n",
       "18                -150.98            -77.13140    (0-107:373-266)   \n",
       "19                -146.87            -75.73840    (0-104:370-266)   \n",
       "20                -216.71           -119.16600   (33-191:334-176)   \n",
       "21                -221.47           -124.48400   (30-191:334-173)   "
      ]
     },
     "execution_count": 35,
     "metadata": {},
     "output_type": "execute_result"
    }
   ],
   "source": [
    "metricsTable_higherOrder"
   ]
  },
  {
   "cell_type": "code",
   "execution_count": null,
   "id": "ee331c3f-22bc-49e0-849e-8ccbef765f7b",
   "metadata": {},
   "outputs": [],
   "source": []
  },
  {
   "cell_type": "code",
   "execution_count": null,
   "id": "defa757d-0f3a-4ca0-a09e-200e7a0e8bb1",
   "metadata": {},
   "outputs": [],
   "source": []
  },
  {
   "cell_type": "code",
   "execution_count": null,
   "id": "667f892a-3f73-48a6-8ca0-7d81d76e6f4e",
   "metadata": {},
   "outputs": [],
   "source": []
  },
  {
   "cell_type": "markdown",
   "id": "b13b1390-f8aa-4bd1-a117-4de4f7030f55",
   "metadata": {},
   "source": [
    "## Choose sesRNA"
   ]
  },
  {
   "cell_type": "code",
   "execution_count": null,
   "id": "bdf379c4-65f2-40c7-8365-b43897c09665",
   "metadata": {
    "tags": []
   },
   "outputs": [],
   "source": [
    "sesChoice = 3\n",
    "chosenSequence = all_sesRNAs[sesChoice - 1]"
   ]
  },
  {
   "cell_type": "code",
   "execution_count": null,
   "id": "d48994f1-cd0e-4e52-81ee-2c24bfde8d63",
   "metadata": {
    "tags": []
   },
   "outputs": [],
   "source": [
    "str(chosenSequence)"
   ]
  },
  {
   "cell_type": "code",
   "execution_count": null,
   "id": "eee9a4d3-5e4e-4417-8392-5ecef3de54d2",
   "metadata": {
    "tags": []
   },
   "outputs": [],
   "source": [
    "return_inFrame(chosenSequence, 'all')"
   ]
  },
  {
   "cell_type": "code",
   "execution_count": null,
   "id": "13889092-b273-45a3-92d7-3a77320a0f57",
   "metadata": {
    "tags": []
   },
   "outputs": [],
   "source": [
    "from Bio.Restriction import *"
   ]
  },
  {
   "cell_type": "code",
   "execution_count": null,
   "id": "56cdfbcb-20aa-49de-8d7d-196e90c8a075",
   "metadata": {
    "tags": []
   },
   "outputs": [],
   "source": [
    "len(EcoRI.search(chosenSequence)) == 0"
   ]
  },
  {
   "cell_type": "code",
   "execution_count": null,
   "id": "2a377421-2e4c-4c2f-a1d0-e29e2d5ee33f",
   "metadata": {
    "tags": []
   },
   "outputs": [],
   "source": [
    "len(AscI.search(chosenSequence)) == 0"
   ]
  },
  {
   "cell_type": "code",
   "execution_count": null,
   "id": "93fe04ba-4d50-4466-b563-7cd2e64c26dc",
   "metadata": {
    "tags": []
   },
   "outputs": [],
   "source": [
    "len(HindIII.search(chosenSequence)) == 0"
   ]
  },
  {
   "cell_type": "code",
   "execution_count": null,
   "id": "bce335f6-1e9e-4d1f-906b-0c41fc8509c3",
   "metadata": {},
   "outputs": [],
   "source": []
  },
  {
   "cell_type": "code",
   "execution_count": null,
   "id": "3542d0d3-a5c6-40cc-983f-2b36fed47101",
   "metadata": {},
   "outputs": [],
   "source": []
  },
  {
   "cell_type": "code",
   "execution_count": null,
   "id": "57c2d9c1-157c-4161-a832-e43774ff0bd9",
   "metadata": {},
   "outputs": [],
   "source": []
  },
  {
   "cell_type": "code",
   "execution_count": null,
   "id": "b9a18892-74b5-472b-92b9-441a63a42e4e",
   "metadata": {},
   "outputs": [],
   "source": []
  },
  {
   "cell_type": "code",
   "execution_count": null,
   "id": "7181de11-9bfe-421b-936f-d65a0d4ef54d",
   "metadata": {},
   "outputs": [],
   "source": []
  },
  {
   "cell_type": "code",
   "execution_count": null,
   "id": "506ad0ba-4688-4a92-85d2-574577098f76",
   "metadata": {},
   "outputs": [],
   "source": []
  },
  {
   "cell_type": "code",
   "execution_count": null,
   "id": "d2ed767b-506c-453a-9bef-92564637138a",
   "metadata": {},
   "outputs": [],
   "source": [
    "testSeq = 'CCTCCTCGCTGCCCTCGGACTTGAGGATGTCCATCTGCAGCCCTTGCCGATGCTCCATGTCCAGGTCGTCGCAGTGGGCGAAGCCCACCGCCTCCTCGTCGGTGGCCGCCTGGAAGCCCATCCTGGCGAACATGCCGCTCATCTTCGCCTGGGATTTGTGCGACACCGAGGTGGCCACGTTGGAGAGCTTGCTGCGGAGGAGGG'"
   ]
  },
  {
   "cell_type": "code",
   "execution_count": null,
   "id": "1debc189-e6c6-4dc5-870b-8603a7bc68ef",
   "metadata": {
    "tags": []
   },
   "outputs": [],
   "source": [
    "testSeq = 'CCTCCTCGCTGCCCTCGGACTTGAGGATGTCCATCTGCAGCCCTTGCCGATGCTCCATGTCCAGGTCGTCGCAGTGGGCGAAGCCCACCGCCTCCTCGTCGGTGGCCGCCTGGAAGCCCATCCTGGCGAACATGCCGCTCATCTTCGCCTGGGATTTGTGCGACACCGAGGTGGCCACGTTGGAGAGCTTGCTGCGGAGGAGGG'"
   ]
  },
  {
   "cell_type": "code",
   "execution_count": null,
   "id": "cbc1ba24-afc5-448e-ace0-2e9be0400e82",
   "metadata": {
    "tags": []
   },
   "outputs": [],
   "source": [
    "return_inFrame(Seq(testSeq), 'all')"
   ]
  },
  {
   "cell_type": "code",
   "execution_count": null,
   "id": "47efb93a-8b57-4f5d-abd3-afd13483d35f",
   "metadata": {},
   "outputs": [],
   "source": []
  },
  {
   "cell_type": "code",
   "execution_count": null,
   "id": "219e0cbe-3357-4a54-8099-7be3f8aaa9a8",
   "metadata": {},
   "outputs": [],
   "source": []
  },
  {
   "cell_type": "code",
   "execution_count": null,
   "id": "020a8ae4-f9fc-4a31-985f-9d309e6fce42",
   "metadata": {},
   "outputs": [],
   "source": [
    "save_all_sesRNAs_DNA(all_sesRNAs, speciesName, geneName)"
   ]
  },
  {
   "cell_type": "code",
   "execution_count": null,
   "id": "3c39e45a-1f84-4b70-ab06-23ee451749cb",
   "metadata": {},
   "outputs": [],
   "source": []
  },
  {
   "cell_type": "code",
   "execution_count": null,
   "id": "a068c379-c859-4bd8-988c-d7ad31656c02",
   "metadata": {},
   "outputs": [],
   "source": []
  },
  {
   "cell_type": "code",
   "execution_count": null,
   "id": "4861b92d-9e17-4751-9c36-5afb602c52cc",
   "metadata": {},
   "outputs": [],
   "source": []
  },
  {
   "cell_type": "code",
   "execution_count": null,
   "id": "acbcf049-e0bd-43bc-8637-00f3a1128947",
   "metadata": {},
   "outputs": [],
   "source": [
    "AscI.site"
   ]
  },
  {
   "cell_type": "code",
   "execution_count": null,
   "id": "10834279-bcf3-44ff-a0be-d4521d9ce375",
   "metadata": {},
   "outputs": [],
   "source": [
    "testSeq = 'GGTAGCTCGACTGGCTTCTACCTTTCGGGTACCTTCACGGGCTTTTCTTTCGGGGCGACACGCTGACGTGGACGAAGCCCGACGGGGCCGCCATATAGTAGCGGTAGTACTCGCCTGACCCTAAGACGTAAAGGAAGCCGTAGGCTACATTGGACCCTCACCGGTAGCACCTATACCAGTTATTGTCGTGGT'"
   ]
  },
  {
   "cell_type": "code",
   "execution_count": null,
   "id": "17c6bbc8-f992-40e1-8a0e-d9efbc28f112",
   "metadata": {},
   "outputs": [],
   "source": [
    "testSeq[::-1]"
   ]
  },
  {
   "cell_type": "code",
   "execution_count": null,
   "id": "9cc1c9e8-5a8c-4f3d-a0b2-e3b938574258",
   "metadata": {},
   "outputs": [],
   "source": []
  },
  {
   "cell_type": "code",
   "execution_count": null,
   "id": "eebaba27-43fd-490e-933e-a06ceff01822",
   "metadata": {},
   "outputs": [],
   "source": []
  },
  {
   "cell_type": "code",
   "execution_count": null,
   "id": "99224ed0-8487-4ebd-bae4-c394f69dad4e",
   "metadata": {
    "tags": []
   },
   "outputs": [],
   "source": [
    "check_inSearchSeq(all_sesRNAs[0], CDS, 'Complement')"
   ]
  },
  {
   "cell_type": "code",
   "execution_count": null,
   "id": "ff538f45-b11c-463f-a31e-bd97be7d7378",
   "metadata": {},
   "outputs": [],
   "source": []
  },
  {
   "cell_type": "code",
   "execution_count": null,
   "id": "094bebc3-1462-4dc8-b16a-47a5bc4b3f07",
   "metadata": {},
   "outputs": [],
   "source": []
  },
  {
   "cell_type": "code",
   "execution_count": null,
   "id": "dba0508f-81a5-4bb1-8d7f-ab968aee0c13",
   "metadata": {},
   "outputs": [],
   "source": []
  },
  {
   "cell_type": "code",
   "execution_count": null,
   "id": "748894a7-eb6d-4b71-a00e-2fc70a7d35ad",
   "metadata": {},
   "outputs": [],
   "source": []
  },
  {
   "cell_type": "code",
   "execution_count": null,
   "id": "290eb1d8-3721-4914-88d7-94d146c91d97",
   "metadata": {},
   "outputs": [],
   "source": []
  },
  {
   "cell_type": "code",
   "execution_count": null,
   "id": "576ed6cc-caa8-46fb-a683-d1cea9465d0f",
   "metadata": {},
   "outputs": [],
   "source": []
  },
  {
   "cell_type": "code",
   "execution_count": null,
   "id": "b002e8d2-b54f-49a8-952e-d556bddb7f75",
   "metadata": {
    "tags": []
   },
   "outputs": [],
   "source": [
    "def output_intaRNA(sequenceMetrics):\n",
    "    # Call RNAfold on each sequence of output \n",
    "    top_intarnaE = []\n",
    "\n",
    "    intarna_columns = ['E', 'start1', 'end1', 'start2', 'end2']\n",
    "    all_sorted_intarna = []\n",
    "    useful_intarna =  pd.DataFrame(columns = intarna_columns)\n",
    "\n",
    "    martBase = '/home/user1/Dropbox/Research/Neurobiology_PhD/Rotations/Huang/Projects/CellReadR/Code/Output/biomaRt/'\n",
    "    martBasePath = martBase + species\n",
    "    # Loading sequences for gene CDS\n",
    "    CDS_fileName = martBasePath + '/CDS_' + geneName + '.fasta'\n",
    "    \n",
    "    pathTemp = '/home/user1/Dropbox/Research/Neurobiology_PhD/Rotations/Huang/Projects/CellReadR/Code/Output/BioPython/Temp'\n",
    "    pathOutTempIntaRNA = pathTemp + '/temp.csv'\n",
    "\n",
    "    # sorting files in output of scandir \n",
    "    for entry in sorted(os.scandir(pathTemp), key=lambda e: e.name):\n",
    "        # For checking which file currently working on (not in order for some reason) \n",
    "        print(entry.path)\n",
    "\n",
    "        # Defining command for IntaRNA\n",
    "        numThreads = 10\n",
    "        commandInta = 'IntaRNA -t ' + CDS_fileName + ' -q ' + entry.path + ' --threads ' + str(numThreads) + ' --outMode=C > ' + pathOutTempIntaRNA\n",
    "        # Generating IntaRNA predictions \n",
    "        os.system(commandInta)\n",
    "        # Reading in csv file with information \n",
    "        intarnaOutput = pd.read_csv(pathOutTempIntaRNA, sep = ';')\n",
    "        # Saving pd output as list of lists ... would be a pain to compute multiple times if desired \n",
    "        sorted_intarna = intarnaOutput.sort_values('E', ascending=True)\n",
    "        # Concatinating select columuns of dataframe for inclusion into sequence metrics \n",
    "        all_sorted_intarna.append(sorted_intarna)\n",
    "        print(sorted_intarna)\n",
    "        # Getting first row ... with highest energy values ... and appending to DataFrame \n",
    "        useful_intarna = useful_intarna.append(sorted_intarna[intarna_columns].iloc[0:1])\n",
    "        \n",
    "        # Moving to Temp directory to work on fasta files \n",
    "        currentWD = os.getcwd()\n",
    "        os.chdir('/home/user1/Dropbox/Research/Neurobiology_PhD/Rotations/Huang/Projects/CellReadR/Code/Output/BioPython/Temp')\n",
    "\n",
    "        # Removing temp.out after finishing each run \n",
    "        os.system('rm -rf temp.out')\n",
    "        os.system('rm -rf temp.csv')\n",
    "        # Return to initial working directory \n",
    "        os.chdir(currentWD)\n",
    "\n",
    "    # Removing files generated by RNAfold \n",
    "    os.system('rm -rf *ss.ps')\n",
    "    os.system('rm -rf *dp.ps')\n",
    "    # Removing temp fasta files \n",
    "#     resetCommand = 'cd ' + pathTemp + ' && rm -rf *'\n",
    "#     os.system(resetCommand)\n",
    "    \n",
    "    # Have to reset index since useful_intarna is slice of many pd.DataFrames \n",
    "    out_sequenceMetrics = pd.concat([sequenceMetrics.reset_index(), useful_intarna.reset_index()], axis = 1)\n",
    "    \n",
    "    return out_sequenceMetrics "
   ]
  },
  {
   "cell_type": "code",
   "execution_count": null,
   "id": "b4065dfd-6ba8-4186-a019-b2f6adc008ef",
   "metadata": {},
   "outputs": [],
   "source": [
    "intarna_sequenceMetrics = output_intaRNA(fold_sequenceMetrics)\n",
    "intarna_sequenceMetrics"
   ]
  },
  {
   "cell_type": "code",
   "execution_count": null,
   "id": "b6eef22b-89be-40f5-93fb-477daa134d49",
   "metadata": {},
   "outputs": [],
   "source": []
  },
  {
   "cell_type": "code",
   "execution_count": null,
   "id": "0436b4a2-1f6e-4ce9-bc0b-4cde8c2ad950",
   "metadata": {},
   "outputs": [],
   "source": []
  },
  {
   "cell_type": "code",
   "execution_count": null,
   "id": "7d08a463-3d7d-4928-b8b1-90d8217468a9",
   "metadata": {
    "tags": []
   },
   "outputs": [],
   "source": [
    "def output_RNApred(sequenceMetrics):\n",
    "    # Call RNAfold on each sequence of output \n",
    "    rnaFold_prob = []\n",
    "    top_intarnaE = []\n",
    "\n",
    "    intarna_columns = ['E', 'start1', 'end1', 'start2', 'end2']\n",
    "    all_sorted_intarna = []\n",
    "    useful_intarna =  pd.DataFrame(columns = intarna_columns)\n",
    "\n",
    "    martBase = '/home/user1/Dropbox/Research/Neurobiology_PhD/Rotations/Huang/Projects/CellReadR/Code/Output/biomaRt/'\n",
    "    martBasePath = martBase + species\n",
    "    # Loading sequences for gene CDS\n",
    "    CDS_fileName = martBasePath + '/CDS_' + geneName + '.fasta'\n",
    "    \n",
    "    pathTemp = '/home/user1/Dropbox/Research/Neurobiology_PhD/Rotations/Huang/Projects/CellReadR/Code/Output/BioPython/Temp'\n",
    "    pathOutTempFold = pathTemp + '/temp.out'\n",
    "    pathOutTempIntaRNA = pathTemp + '/temp.csv'\n",
    "\n",
    "    # sorting files in output of scandir \n",
    "    for entry in sorted(os.scandir(pathTemp), key=lambda e: e.name):\n",
    "        # For checking which file currently working on (not in order for some reason) \n",
    "        print(entry.path)\n",
    "\n",
    "        # Defining command for RNAfold \n",
    "        commandFold = 'RNAfold -p -d2 --noLP < ' + entry.path + ' > ' + pathOutTempFold    \n",
    "        # Generating RNAfold predictions \n",
    "        generateProb = subprocess.run(commandFold, shell=True, stdout=subprocess.PIPE)\n",
    "\n",
    "        # Defining command for IntaRNA\n",
    "        numThreads = 10\n",
    "        commandInta = 'IntaRNA -t ' + CDS_fileName + ' -q ' + entry.path + ' --threads ' + str(numThreads) + ' --outMode=C > ' + pathOutTempIntaRNA\n",
    "        # Generating IntaRNA predictions \n",
    "        os.system(commandInta)\n",
    "        # Reading in csv file with information \n",
    "        intarnaOutput = pd.read_csv(pathOutTempIntaRNA, sep = ';')\n",
    "        # Saving pd output as list of lists ... would be a pain to compute multiple times if desired \n",
    "        sorted_intarna = intarnaOutput.sort_values('E', ascending=True)\n",
    "        # Concatinating select columuns of dataframe for inclusion into sequence metrics \n",
    "        all_sorted_intarna.append(sorted_intarna)\n",
    "        # Getting first row ... with highest energy values ... and appending to DataFrame \n",
    "        useful_intarna = useful_intarna.append(sorted_intarna[intarna_columns].iloc[0:1])\n",
    "        \n",
    "        # Moving to Temp directory to work on fasta files \n",
    "        currentWD = os.getcwd()\n",
    "        os.chdir('/home/user1/Dropbox/Research/Neurobiology_PhD/Rotations/Huang/Projects/CellReadR/Code/Output/BioPython/Temp')\n",
    "\n",
    "        # Running script for getting probabilities from RNAfold output file (added to ArchBin btw)\n",
    "        readProb = subprocess.Popen(\"rnaFold_prob.sh\", shell=True, stdout=subprocess.PIPE)\n",
    "        returnedProb = readProb.stdout.read()\n",
    "        # Waiting for last command to finish before storing value in temp.out file \n",
    "        readProb.wait()\n",
    "        # Append frequences ... convert to percentage \n",
    "        rnaFold_prob.append(float(returnedProb)*100)\n",
    "\n",
    "        \n",
    "        # Removing temp.out after finishing each run \n",
    "        os.system('rm -rf temp.out')\n",
    "        os.system('rm -rf temp.csv')\n",
    "        # Return to initial working directory \n",
    "        os.chdir(currentWD)\n",
    "\n",
    "    # Removing files generated by RNAfold \n",
    "    os.system('rm -rf *ss.ps')\n",
    "    os.system('rm -rf *dp.ps')\n",
    "    # Removing temp fasta files \n",
    "    resetCommand = 'cd ' + pathTemp + ' && rm -rf *'\n",
    "    os.system(resetCommand)\n",
    "    \n",
    "    # Adding RNA fold mfe ensemble frequency to sequenceMetrics \n",
    "    sequenceMetrics['mfeFreq'] = rnaFold_prob\n",
    "    # Have to reset index since useful_intarna is slice of many pd.DataFrames \n",
    "    out_sequenceMetrics = pd.concat([sequenceMetrics.reset_index(), useful_intarna.reset_index()], axis = 1)\n",
    "    \n",
    "    return out_sequenceMetrics "
   ]
  },
  {
   "cell_type": "code",
   "execution_count": null,
   "id": "ffd2ea08-e1d1-49c3-a1bf-3f53638a1f4e",
   "metadata": {},
   "outputs": [],
   "source": []
  },
  {
   "cell_type": "code",
   "execution_count": null,
   "id": "e4551ef2-74ff-454e-907b-bec74bd69932",
   "metadata": {},
   "outputs": [],
   "source": []
  },
  {
   "cell_type": "code",
   "execution_count": null,
   "id": "4307bcf0-7aea-4f1b-8034-1e2f1cd829bc",
   "metadata": {},
   "outputs": [],
   "source": []
  },
  {
   "cell_type": "code",
   "execution_count": null,
   "id": "f6f776c4-b28e-4706-a59f-cb467f615371",
   "metadata": {
    "tags": []
   },
   "outputs": [],
   "source": [
    "higherSequenceMetrics = output_RNApred(all_sequenceMetrics)\n",
    "higherSequenceMetrics"
   ]
  },
  {
   "cell_type": "code",
   "execution_count": null,
   "id": "a6d74ad4-0a72-4237-9891-bd6a511eaf14",
   "metadata": {},
   "outputs": [],
   "source": []
  },
  {
   "cell_type": "code",
   "execution_count": null,
   "id": "378d1531-dfed-421d-9d84-6fa85d60ff8c",
   "metadata": {},
   "outputs": [],
   "source": []
  },
  {
   "cell_type": "code",
   "execution_count": null,
   "id": "d9937546-8b46-4d65-84f3-4d87b072d4ce",
   "metadata": {
    "tags": []
   },
   "outputs": [],
   "source": [
    "\n",
    "\n"
   ]
  },
  {
   "cell_type": "code",
   "execution_count": null,
   "id": "26aa1cf2-5ffd-4927-86e7-1ec61091509c",
   "metadata": {
    "tags": []
   },
   "outputs": [],
   "source": []
  },
  {
   "cell_type": "code",
   "execution_count": null,
   "id": "34077794-d754-4bde-a3a2-115fcba583de",
   "metadata": {},
   "outputs": [],
   "source": []
  },
  {
   "cell_type": "code",
   "execution_count": null,
   "id": "1d03f1ba-0d66-46ee-8d7b-b9366b607424",
   "metadata": {},
   "outputs": [],
   "source": []
  },
  {
   "cell_type": "code",
   "execution_count": null,
   "id": "8d34412e-6d66-472b-a294-81b56fed1ecd",
   "metadata": {},
   "outputs": [],
   "source": []
  },
  {
   "cell_type": "code",
   "execution_count": null,
   "id": "448ea762-c405-41d0-8e27-df0c00091af8",
   "metadata": {},
   "outputs": [],
   "source": []
  },
  {
   "cell_type": "code",
   "execution_count": null,
   "id": "700d487a-075a-41b3-8612-90c88178be9a",
   "metadata": {},
   "outputs": [],
   "source": []
  },
  {
   "cell_type": "markdown",
   "id": "extreme-commissioner",
   "metadata": {},
   "source": [
    "# Outputing sesRNA"
   ]
  },
  {
   "cell_type": "code",
   "execution_count": null,
   "id": "b1b8e880-185b-4298-9977-e397d7ad8785",
   "metadata": {},
   "outputs": [],
   "source": []
  },
  {
   "cell_type": "code",
   "execution_count": null,
   "id": "00027008-a795-48d2-a983-1a735bdb608a",
   "metadata": {},
   "outputs": [],
   "source": []
  },
  {
   "cell_type": "code",
   "execution_count": null,
   "id": "f47875ae-27ec-433f-aec4-e23bf7aca36f",
   "metadata": {
    "tags": []
   },
   "outputs": [],
   "source": []
  },
  {
   "cell_type": "code",
   "execution_count": null,
   "id": "7f8c9e2b-a4f1-4b45-91df-78cb737f5171",
   "metadata": {
    "tags": []
   },
   "outputs": [],
   "source": []
  },
  {
   "cell_type": "code",
   "execution_count": null,
   "id": "6af0e1ef-cb15-4fa0-a3f6-9b9f52d03398",
   "metadata": {
    "tags": []
   },
   "outputs": [],
   "source": [
    "testSeq = Seq('TGGGAGTAGTGGTGGTAATGA')\n",
    "testStr = str(testSeq)"
   ]
  },
  {
   "cell_type": "code",
   "execution_count": null,
   "id": "d71a086f-7e67-4bba-b570-c6b86abc6228",
   "metadata": {},
   "outputs": [],
   "source": [
    "testStr"
   ]
  },
  {
   "cell_type": "code",
   "execution_count": null,
   "id": "2e4f7175-2aef-483b-8f96-831dde95fa64",
   "metadata": {
    "tags": []
   },
   "outputs": [],
   "source": [
    "convert_DNA(testSeq, 1)"
   ]
  },
  {
   "cell_type": "code",
   "execution_count": null,
   "id": "a1acf9c1-c6fa-49e1-99f0-1f920e9aa917",
   "metadata": {},
   "outputs": [],
   "source": []
  },
  {
   "cell_type": "code",
   "execution_count": null,
   "id": "82c811c2-60bc-498b-9c9b-94ab9125b81f",
   "metadata": {},
   "outputs": [],
   "source": []
  },
  {
   "cell_type": "code",
   "execution_count": null,
   "id": "c0fb3c59-4c51-45c6-8f85-392421bd6cf9",
   "metadata": {},
   "outputs": [],
   "source": []
  },
  {
   "cell_type": "code",
   "execution_count": null,
   "id": "a1cf653e-5b1a-45eb-9eb1-35be5f21d605",
   "metadata": {
    "tags": []
   },
   "outputs": [],
   "source": [
    "# Test that all and numbering is working \n",
    "convert_DNA(testSeq, 3) == convert_DNA(testSeq, 'All')"
   ]
  },
  {
   "cell_type": "code",
   "execution_count": null,
   "id": "023548a3-3307-403b-be4e-f6ca37d91bad",
   "metadata": {
    "tags": []
   },
   "outputs": [],
   "source": [
    "convert_DNA(rC_multiExon_sesRNAs[0], 'All')"
   ]
  },
  {
   "cell_type": "code",
   "execution_count": null,
   "id": "90ae4ae5-4c10-4f54-a1c8-d126e2da8a9d",
   "metadata": {
    "tags": []
   },
   "outputs": [],
   "source": [
    "# Testing that continious reading frame being produced if number set to 0 \n",
    "len(convert_DNA(rC_multiExon_sesRNAs[0], 0).translate(to_stop = True)) == len(rC_multiExon_sesRNAs[0])/3"
   ]
  },
  {
   "cell_type": "code",
   "execution_count": null,
   "id": "4d8d7111-a889-4047-802c-602d090da378",
   "metadata": {
    "tags": []
   },
   "outputs": [],
   "source": [
    "# Checking that right number of TGG being converted \n",
    "return_inFrame(convert_DNA(rC_multiExon_sesRNAs[0], 'All').back_transcribe(), 'numTGG')"
   ]
  },
  {
   "cell_type": "code",
   "execution_count": null,
   "id": "1bae4831-23e7-408e-bc9e-9a7aebc136f6",
   "metadata": {},
   "outputs": [],
   "source": []
  },
  {
   "cell_type": "code",
   "execution_count": null,
   "id": "d40fa6fd-c67b-4253-ac72-5e8d27697653",
   "metadata": {},
   "outputs": [],
   "source": []
  },
  {
   "cell_type": "code",
   "execution_count": null,
   "id": "bcc692ef-2b86-49e5-a910-053cf06538db",
   "metadata": {
    "tags": []
   },
   "outputs": [],
   "source": [
    "convert_DNA(testSeq, 1) - (len(testSeq)/2)"
   ]
  },
  {
   "cell_type": "code",
   "execution_count": null,
   "id": "f9570a65-2d19-48da-9328-0a348cdf8b39",
   "metadata": {
    "tags": []
   },
   "outputs": [],
   "source": [
    "abs(convert_DNA(testSeq, 1) - (len(testSeq)/2))"
   ]
  },
  {
   "cell_type": "code",
   "execution_count": null,
   "id": "038c46e2-2379-483e-885b-a74aaa59c52a",
   "metadata": {
    "tags": []
   },
   "outputs": [],
   "source": [
    "np.sort(abs(convert_DNA(testSeq, 1) - (len(testSeq)/2))) + (len(testSeq)/2)"
   ]
  },
  {
   "cell_type": "code",
   "execution_count": null,
   "id": "5a05d474-d9f5-4c6e-bb0d-a04ab3df21c9",
   "metadata": {
    "tags": []
   },
   "outputs": [],
   "source": [
    "np.array(sorted(convert_DNA(testSeq, 1) - (len(testSeq)/2), key = abs)) + (len(testSeq)/2)"
   ]
  },
  {
   "cell_type": "code",
   "execution_count": null,
   "id": "7ee4c058-fcca-469f-90a3-32fd868e95c5",
   "metadata": {},
   "outputs": [],
   "source": []
  },
  {
   "cell_type": "code",
   "execution_count": null,
   "id": "54abcd1d-689a-479a-a0ec-72f227fc50ec",
   "metadata": {},
   "outputs": [],
   "source": []
  },
  {
   "cell_type": "code",
   "execution_count": null,
   "id": "31a227db-5c8c-4bdf-9e5b-e458f6e0449e",
   "metadata": {},
   "outputs": [],
   "source": []
  },
  {
   "cell_type": "code",
   "execution_count": null,
   "id": "a1a573ef-21bc-43ea-825f-40cbd31013c6",
   "metadata": {},
   "outputs": [],
   "source": []
  },
  {
   "cell_type": "code",
   "execution_count": null,
   "id": "8a03757a-e498-4b7b-9419-4466b6620944",
   "metadata": {},
   "outputs": [],
   "source": []
  },
  {
   "cell_type": "code",
   "execution_count": null,
   "id": "cfb99393-f012-4853-bdd6-f6ab77206b39",
   "metadata": {},
   "outputs": [],
   "source": []
  },
  {
   "cell_type": "code",
   "execution_count": null,
   "id": "c3fd9adf-493b-446a-a533-7b622c7bf697",
   "metadata": {
    "tags": []
   },
   "outputs": [],
   "source": [
    "# Function for saving both original template DNA sequence and the converted RNA given list of sesRNAs Seq objects\n",
    "# Could change later to make for separate output files ... have not decided yet whether to just put them together into one labeled fasta file \n",
    "def save_sesRNAs(sequences_sesRNAs, geneName, version, numConvertTGG):\n",
    "    # Generating BioPython directory if does not exist \n",
    "    pathlib.Path('Output/BioPython').mkdir(parents=True, exist_ok=True)\n",
    "    \n",
    "    # Defining save name and description for outputs (original DNA and converted RNA)\n",
    "    DNA_outputID = geneName + '_sesRNA'\n",
    "    DNA_outputDescription = \"sesRNA DNA original for \" + geneName\n",
    "    convertedRNA_outputID = geneName + '_sesRNA'\n",
    "    convertedRNA_outputDescription = \"sesRNA converted RNA for \" + geneName\n",
    "    \n",
    "    # Creating empty list for storing sequences \n",
    "    outputSeqMulti_DNA = []\n",
    "    outputSeqMulti_convertedRNA= []\n",
    "    \n",
    "    # Generating SeqRecord objects in preparation for writing FASTA files ... edited description to include number of sequence\n",
    "    i = 1\n",
    "    for sequence in sequences_sesRNAs:\n",
    "        outputSeqMulti_DNA.append(SeqRecord(sequence, id = DNA_outputID+str(i), description = DNA_outputDescription))\n",
    "        outputSeqMulti_convertedRNA.append(SeqRecord(convert_DNA(sequence, numberConvertTGG), id = convertedRNA_outputID+str(i), description = convertedRNA_outputDescription))\n",
    "        i += 1\n",
    "        \n",
    "    # Write output fasta files \n",
    "    DNA_outputName = \"Output/BioPython/\" + geneName + \"_sesRNA_\" + version + \".fasta\" \n",
    "    convertedRNA_outputName = \"Output/BioPython/\" + geneName + \"_sesRNA_convertedRNA_\" + version + \".fasta\" \n",
    "    \n",
    "    with open(outputName, \"w\") as output_handle:\n",
    "        # Writing original template DNA files \n",
    "        SeqIO.write(outputSeqMulti_DNA, output_handle, \"fasta\")\n",
    "        # Writing orginal template RNA files \n",
    "        SeqIO.write(outputSeqMulti_convertedRNA, output_handle, \"fasta\")"
   ]
  },
  {
   "cell_type": "code",
   "execution_count": null,
   "id": "b468b5c8-ff7c-487e-9e68-1e8218717ca1",
   "metadata": {},
   "outputs": [],
   "source": []
  },
  {
   "cell_type": "code",
   "execution_count": null,
   "id": "5d563e57-b0c3-44df-98d7-9c6553d80147",
   "metadata": {},
   "outputs": [],
   "source": []
  },
  {
   "cell_type": "markdown",
   "id": "58b5b203-4d30-404d-a901-d6acb1a7d5a2",
   "metadata": {},
   "source": [
    "# Not working or not being used "
   ]
  },
  {
   "cell_type": "code",
   "execution_count": null,
   "id": "9fe52443-b3be-4e9a-8944-addb52ca5b2e",
   "metadata": {
    "tags": []
   },
   "outputs": [],
   "source": [
    "seqTdT = 'ttacttgtacagctcgtccatgccgtacaggaacaggtggtggcggccctcggagcgctcgtactgttccacgatggtgtagtcctcgttgtgggaggtgatgtccagcttggtgtccacgtagtagtagccgggcagttgcacgggcttcttggccatgtagatggtcttgaactccaccaggtagtggccgccgtccttcagcttcagggcctggtggatctcgcccttcagcacgccgtcgcgggggtacaggcgctcggtggaggcctcccagcccatggtcttcttctgcattacggggccgtcgggggggaagttggtgccgcgcatcttcaccttgtagatcagcgtgccgtcctgcagggaggagtcctgggtcacggtcaccagaccgccgtcctcgaagttcatcacgcgctcccacttgaagccctcggggaaggacagcttcttgtaatcggggatgtcggcggggtgcttcacgtacgccttggagccgtacatgaactggggggacaggatgtcccaggcgaagggcagggggccgcccttggtcaccttcagcttggcggtctgggtgccctcgtaggggcggccctcgccctcgccctcgatctcgaactcgtggccgttcatggagccctccatgcgcaccttgaagcgcatgaactctttgatgacggccatgttgttgtcctcggaggaggcggtgccggagctgccgctgccggtgctgccggtgccatgccccaggaacaggtggtggcggccctcggagcgctcgtactgttccacgatggtgtagtcctcgttgtgggaggtgatgtccagcttggtgtccacgtagtagtagccgggcagttgcacgggcttcttggccatgtagatggtcttgaactccaccaggtagtggccgccgtccttcagcttcagggcctggtggatctcgcccttcagcacgccgtcgcgggggtacaggcgctcggtggaggcctcccagcccatggtcttcttctgcattacggggccgtcgggggggaagttggtgccgcgcatcttcaccttgtagatcagcgtgccgtcctgcagggaggagtcctgggtcacggtcaccagaccgccgtcctcgaagttcatcacgcgctcccacttgaagccctcggggaaggacagcttcttgtaatcggggatgtcggcggggtgcttcacgtacgccttggagccgtacatgaactggggggacaggatgtcccaggcgaagggcagggggccgcccttggtcaccttcagcttggcggtctgggtgccctcgtaggggcggccctcgccctcgccctcgatctcgaactcgtggccgttcatggagccctccatgcgcaccttgaagcgcatgaactctttgatgacctcctcgcccttgctcaccat'\n",
    "seqTdT = seqTdT.upper()\n",
    "seqTdT"
   ]
  },
  {
   "cell_type": "code",
   "execution_count": null,
   "id": "ae87b3ae-aba2-41a1-8d0e-7157a65c99c4",
   "metadata": {
    "tags": []
   },
   "outputs": [],
   "source": [
    "len(Seq(seqTdT).translate()) == len(seqTdT)/3"
   ]
  },
  {
   "cell_type": "code",
   "execution_count": null,
   "id": "c1c20446-eb6f-4cbf-ab1e-de35f1e2803f",
   "metadata": {
    "tags": []
   },
   "outputs": [],
   "source": [
    "num_inF_TGG, num_inF_TTGG, num_inF_TGGA, num_inF_TTGGA, num_inF_ATG, num_inF_Stop, indices_inF_TGG, \\\n",
    "    indices_inF_ATG, indices_inF_Stop = \\\n",
    "    return_inFrame(Seq(seqTdT).reverse_complement(), 'all')"
   ]
  },
  {
   "cell_type": "code",
   "execution_count": null,
   "id": "ee8e6c2e-109c-4c0d-bd82-9154f5f764f8",
   "metadata": {
    "tags": []
   },
   "outputs": [],
   "source": [
    "num_inF_TGG"
   ]
  },
  {
   "cell_type": "code",
   "execution_count": null,
   "id": "ef7c9951-2ec9-4501-8813-87f826dd2cdc",
   "metadata": {
    "tags": []
   },
   "outputs": [],
   "source": [
    "num_inF_TTGG"
   ]
  },
  {
   "cell_type": "code",
   "execution_count": null,
   "id": "b268f8ca-fd26-4c75-8062-9600113e1355",
   "metadata": {
    "tags": []
   },
   "outputs": [],
   "source": [
    "num_inF_TGGA"
   ]
  },
  {
   "cell_type": "code",
   "execution_count": null,
   "id": "eb60ca8c-c106-48b5-93aa-40460e3559aa",
   "metadata": {
    "tags": []
   },
   "outputs": [],
   "source": [
    "num_inF_TTGGA"
   ]
  },
  {
   "cell_type": "code",
   "execution_count": null,
   "id": "895b9a5f-2a92-40ca-bb6b-937263a337e6",
   "metadata": {},
   "outputs": [],
   "source": []
  },
  {
   "cell_type": "code",
   "execution_count": null,
   "id": "dd94d9c9-f98d-4231-97f6-53c780682915",
   "metadata": {
    "tags": []
   },
   "outputs": [],
   "source": [
    "# Generating pd.Dataframe\n",
    "df = pd.DataFrame(all_sequenceMetrics)\n",
    "# Converting DataFrame to json and dumping it to std.out\n",
    "df_json = df.reset_index().to_json(orient=\"values\")\n"
   ]
  },
  {
   "cell_type": "code",
   "execution_count": null,
   "id": "e10b196c-610d-480d-b39f-e87962b0fa2b",
   "metadata": {
    "tags": []
   },
   "outputs": [],
   "source": [
    "df_json"
   ]
  },
  {
   "cell_type": "code",
   "execution_count": null,
   "id": "5077d370-2a3e-4314-a552-05e04205166f",
   "metadata": {},
   "outputs": [],
   "source": []
  },
  {
   "cell_type": "code",
   "execution_count": null,
   "id": "dff01014-0c1f-4406-babf-c0d713b8acf4",
   "metadata": {},
   "outputs": [],
   "source": []
  },
  {
   "cell_type": "code",
   "execution_count": null,
   "id": "1e1876c1-b8b5-4df1-920a-ab760354c0b7",
   "metadata": {
    "scrolled": true,
    "tags": []
   },
   "outputs": [],
   "source": [
    "# Initial if want to check variable length sesRNAs \n",
    "for i in range(200, 300):\n",
    "    if(i%3 == 0):\n",
    "        print(i)"
   ]
  },
  {
   "cell_type": "code",
   "execution_count": null,
   "id": "02d16e22-e1cd-4e1e-b0dc-bccf1138f9dd",
   "metadata": {},
   "outputs": [],
   "source": []
  },
  {
   "cell_type": "code",
   "execution_count": null,
   "id": "23975286-ce08-45bc-8819-58ff73368737",
   "metadata": {
    "tags": []
   },
   "outputs": [],
   "source": [
    "additional_sesRNA = 'gagaggaagggcagaggcaccaacccgggcggaggaggaggcgcggcggcggcggcggctcagaccccctccccggcccgcatctgtgcagctttccgggcgatgccagaatagatgccggggcaatgtcccgccgcaaacagggcaacccgcagcacttgtcccagagggaactcatcacgcgtaagtgtctgccgcacgcgcgaagggccggcggctggggctccgggcgcccggggctgg'"
   ]
  },
  {
   "cell_type": "code",
   "execution_count": null,
   "id": "3a06ad04-dd03-4dbe-ba58-425a176a5ef7",
   "metadata": {
    "tags": []
   },
   "outputs": [],
   "source": [
    "len(additional_sesRNA)"
   ]
  },
  {
   "cell_type": "code",
   "execution_count": null,
   "id": "116d79d1-a1ed-4675-992a-e22613c3700a",
   "metadata": {
    "tags": []
   },
   "outputs": [],
   "source": [
    "all_sequenceMetrics = all_sequenceMetrics.append(all_sequenceMetrics.iloc[11, :])"
   ]
  },
  {
   "cell_type": "code",
   "execution_count": null,
   "id": "b2c54401-3cfd-4a53-bf1f-eb9fdb6b5dcd",
   "metadata": {},
   "outputs": [],
   "source": [
    "all_sequenceMetrics"
   ]
  },
  {
   "cell_type": "code",
   "execution_count": null,
   "id": "67c0174a-6645-49be-910a-6428beb94221",
   "metadata": {},
   "outputs": [],
   "source": [
    "len(all_sesRNAs)"
   ]
  },
  {
   "cell_type": "code",
   "execution_count": null,
   "id": "11efb236-01f2-4c5e-9f59-49394331697d",
   "metadata": {
    "tags": []
   },
   "outputs": [],
   "source": [
    "all_sesRNAs.append(Seq(additional_sesRNA.upper()))"
   ]
  },
  {
   "cell_type": "code",
   "execution_count": null,
   "id": "d2986762-bffa-4899-9b78-bf481c5e86d0",
   "metadata": {
    "tags": []
   },
   "outputs": [],
   "source": [
    "len(all_sesRNAs)"
   ]
  },
  {
   "cell_type": "code",
   "execution_count": null,
   "id": "e1e9d589-fafe-4f02-bc3c-079955351afa",
   "metadata": {
    "tags": []
   },
   "outputs": [],
   "source": [
    "all_sesRNAs"
   ]
  },
  {
   "cell_type": "code",
   "execution_count": null,
   "id": "efda45da-50ae-4e1a-816b-11cff6264bb0",
   "metadata": {
    "tags": []
   },
   "outputs": [],
   "source": [
    "sys.path.append(\"/usr/share/ViennaRNA\")"
   ]
  },
  {
   "cell_type": "code",
   "execution_count": null,
   "id": "12dbed80-8247-4145-8aa4-59661db25282",
   "metadata": {},
   "outputs": [],
   "source": []
  },
  {
   "cell_type": "code",
   "execution_count": null,
   "id": "cbff71cb-5a0d-4a5a-9449-ad55183a9f7c",
   "metadata": {
    "tags": []
   },
   "outputs": [],
   "source": [
    "# Leading RNAfold as RNA \n",
    "import sys\n",
    "sys.path.append(\"/usr/lib/python3.9/site-packages/RNA\")\n",
    "import _RNA as RNA"
   ]
  },
  {
   "cell_type": "code",
   "execution_count": null,
   "id": "42a1ca35-5d61-41cb-a591-9f50d6f60641",
   "metadata": {},
   "outputs": [],
   "source": [
    "import pyseqlib"
   ]
  },
  {
   "cell_type": "code",
   "execution_count": null,
   "id": "d370774a-62a0-4be0-9ba9-0f701d2826b0",
   "metadata": {},
   "outputs": [],
   "source": [
    "from pyseqlib import pyRNAfold"
   ]
  },
  {
   "cell_type": "code",
   "execution_count": null,
   "id": "43d65dc2-2ed1-4a9b-840f-88b800e652fd",
   "metadata": {},
   "outputs": [],
   "source": []
  },
  {
   "cell_type": "code",
   "execution_count": null,
   "id": "c8ea1feb-f3a0-47f7-985a-9c3efced12b9",
   "metadata": {},
   "outputs": [],
   "source": [
    "pyRNAfold i"
   ]
  },
  {
   "cell_type": "code",
   "execution_count": null,
   "id": "6e7157da-fbc5-403e-b035-7c53ee1599d6",
   "metadata": {},
   "outputs": [],
   "source": [
    "pyseqlib.fold_compound(sequence)"
   ]
  },
  {
   "cell_type": "code",
   "execution_count": null,
   "id": "5dbf73a8-500e-4269-ad5f-c4c7d4e0cf9c",
   "metadata": {},
   "outputs": [],
   "source": []
  },
  {
   "cell_type": "code",
   "execution_count": null,
   "id": "e70277c0-f44c-442e-98d2-f09149a99bdb",
   "metadata": {},
   "outputs": [],
   "source": [
    "RNA.fold_compound(sequence)"
   ]
  },
  {
   "cell_type": "code",
   "execution_count": null,
   "id": "ba5f1bdb-1a69-436c-aa5b-796cbb6253d7",
   "metadata": {},
   "outputs": [],
   "source": [
    "sys.path.append(\"/home/user1/Dropbox/Research/Neurobiology_PhD/Rotations/Huang/Projects/CellReadR/Packages/RNA\")\n",
    "import _RNA as RNA"
   ]
  },
  {
   "cell_type": "code",
   "execution_count": null,
   "id": "1f5a4e18-c65c-4719-8e2c-37c39d000939",
   "metadata": {},
   "outputs": [],
   "source": []
  },
  {
   "cell_type": "code",
   "execution_count": null,
   "id": "a2bad740-1144-4da6-9894-30c39822990a",
   "metadata": {},
   "outputs": [],
   "source": []
  },
  {
   "cell_type": "code",
   "execution_count": null,
   "id": "39b3fe1c-4a59-4c07-a19d-3d8f32c55fb4",
   "metadata": {
    "tags": []
   },
   "outputs": [],
   "source": [
    "sys.path.append(\"/home/user1/Dropbox/Research/Neurobiology_PhD/Rotations/Huang/Projects/CellReadR/Code/Functions\")\n",
    "import RNA_Fold"
   ]
  },
  {
   "cell_type": "code",
   "execution_count": null,
   "id": "5150f26a-3612-44b3-a6e6-ab594844a5a0",
   "metadata": {},
   "outputs": [],
   "source": [
    "md = RNA.md()"
   ]
  },
  {
   "cell_type": "code",
   "execution_count": null,
   "id": "8d4ce5e2-9d46-4daf-8a95-3d56da14de84",
   "metadata": {},
   "outputs": [],
   "source": [
    "import example"
   ]
  },
  {
   "cell_type": "code",
   "execution_count": null,
   "id": "92a361b3-4c02-4ece-a37b-23fcd41d9c8d",
   "metadata": {
    "tags": []
   },
   "outputs": [],
   "source": [
    "sequence = \"CGCAGGGAUACCCGCG\"\n",
    " \n",
    "# create new fold_compound object\n",
    "fc = RNA.fold_compound(sequence)\n",
    " \n",
    "# compute minimum free energy (mfe) and corresponding structure\n",
    "(ss, mfe) = fc.mfe()\n",
    " "
   ]
  },
  {
   "cell_type": "code",
   "execution_count": null,
   "id": "ec84efc7-c0e9-4687-b6d0-64252c206805",
   "metadata": {},
   "outputs": [],
   "source": []
  },
  {
   "cell_type": "code",
   "execution_count": null,
   "id": "c3c2c214-6be3-4084-9f68-1620dcaac196",
   "metadata": {},
   "outputs": [],
   "source": []
  },
  {
   "cell_type": "code",
   "execution_count": null,
   "id": "215b7384-fe9e-47d7-90a1-69b70ac88674",
   "metadata": {},
   "outputs": [],
   "source": []
  },
  {
   "cell_type": "code",
   "execution_count": null,
   "id": "dec0e796-a5f9-48f3-a745-93d3ecf84fbc",
   "metadata": {
    "tags": []
   },
   "outputs": [],
   "source": [
    "# The RNA sequence\n",
    "seq = \"GAGUAGUGGAACCAGGCUAUGUUUGUGACUCGCAGACUAACA\"\n",
    " \n",
    "# compute minimum free energy (MFE) and corresponding structure\n",
    "(ss, mfe) = RNA.fold(seq)"
   ]
  },
  {
   "cell_type": "code",
   "execution_count": null,
   "id": "8b3d57f5-0912-4573-bab8-7d8e4c57305c",
   "metadata": {},
   "outputs": [],
   "source": [
    "import pickle "
   ]
  },
  {
   "cell_type": "code",
   "execution_count": null,
   "id": "4d5f1883-20cf-4fbd-aaaa-111a84e39322",
   "metadata": {},
   "outputs": [],
   "source": [
    "mfe"
   ]
  },
  {
   "cell_type": "code",
   "execution_count": null,
   "id": "865753f3-945c-402e-a1fc-f6627073c7eb",
   "metadata": {},
   "outputs": [],
   "source": []
  },
  {
   "cell_type": "code",
   "execution_count": null,
   "id": "c6859c6a-b13c-46f1-a7fa-37581dedd0ef",
   "metadata": {},
   "outputs": [],
   "source": []
  },
  {
   "cell_type": "code",
   "execution_count": null,
   "id": "008151d9-60c5-4bb2-80e3-a4a834752f59",
   "metadata": {
    "tags": []
   },
   "outputs": [],
   "source": [
    "pathOuput = \"/home/user1/Dropbox/Research/Neurobiology_PhD/Rotations/Huang/Projects/CellReadR/Code/Functions/seqObject.p\"\n",
    "pickle.dump(testSeq, open(pathOuput, 'wb'))"
   ]
  },
  {
   "cell_type": "code",
   "execution_count": null,
   "id": "d5626803-11f0-4c60-a8dc-0614fcd69ddb",
   "metadata": {
    "tags": []
   },
   "outputs": [],
   "source": [
    "# Running script for getting probabilities from RNAfold output file (added to ArchBin btw)\n",
    "pathFuncPython = '/home/user1/Dropbox/Research/Neurobiology_PhD/Rotations/Huang/Projects/CellReadR/Code/Functions/'\n",
    "# command = 'python ' + '/home/user1/Dropbox/Research/Neurobiology_PhD/Rotations/Huang/Projects/CellReadR/Code/Functions/RNA_Fold.py'\n",
    "# command = 'cd ' + pathFuncPython + ' | ./RNA_Fold.py'\n",
    "# command = 'cd ' + pathFuncPython + ' | ls -a'\n",
    "\n",
    "command = 'ls -a'\n",
    "readProb = subprocess.Popen(command, shell=True, stdout=subprocess.PIPE)\n",
    "returnedProb = readProb.stdout.read()"
   ]
  },
  {
   "cell_type": "code",
   "execution_count": null,
   "id": "4d15723e-205c-46be-8774-a7832f07c16b",
   "metadata": {
    "tags": []
   },
   "outputs": [],
   "source": [
    "returnedProb"
   ]
  },
  {
   "cell_type": "code",
   "execution_count": null,
   "id": "369e3b34-90bb-4ffe-94bd-3536fff04a43",
   "metadata": {},
   "outputs": [],
   "source": [
    "command "
   ]
  },
  {
   "cell_type": "code",
   "execution_count": null,
   "id": "702f0340-65cf-4f6a-9370-0fea5c4142f8",
   "metadata": {},
   "outputs": [],
   "source": []
  },
  {
   "cell_type": "code",
   "execution_count": null,
   "id": "b7f49c08-c085-4780-9d9d-9876f86f86a6",
   "metadata": {},
   "outputs": [],
   "source": []
  },
  {
   "cell_type": "code",
   "execution_count": null,
   "id": "df9776d2-32d8-42ed-ae78-11a152e464f4",
   "metadata": {},
   "outputs": [],
   "source": [
    "str(rC_multiExon_sesRNAs[0])"
   ]
  },
  {
   "cell_type": "code",
   "execution_count": null,
   "id": "085834fe-d3bf-441f-a3e3-cd2957cbde27",
   "metadata": {
    "tags": []
   },
   "outputs": [],
   "source": [
    "testSeq = str(rC_multiExon_sesRNAs[0])\n",
    "testSeq"
   ]
  },
  {
   "cell_type": "code",
   "execution_count": null,
   "id": "23f116db-7ee8-42bb-b693-180e054adf50",
   "metadata": {
    "tags": []
   },
   "outputs": [],
   "source": [
    "RNA.fold(testSeq)"
   ]
  },
  {
   "cell_type": "code",
   "execution_count": null,
   "id": "17244f24-5962-4204-be1e-6ccb6114bea8",
   "metadata": {},
   "outputs": [],
   "source": []
  },
  {
   "cell_type": "code",
   "execution_count": null,
   "id": "bb28caef-065f-414b-8e52-a6c58268b3ef",
   "metadata": {
    "tags": []
   },
   "outputs": [],
   "source": [
    "def compute_mfeFreq(sequence):\n",
    "    # create a fold_compound object for the current sequence\n",
    "    fc = RNA.fold_compound(sequence)\n",
    "\n",
    "    # compute the MFE and corresponding structure\n",
    "    (mfe_struct, mfe) = fc.mfe()\n",
    "\n",
    "\n",
    "    # compute partition function\n",
    "    (bp_propensity, dG) = fc.pf()\n",
    "\n",
    "    # compute frequency of MFE structure (the 'hard' way)\n",
    "    kT = RNA.exp_param().kT / 1000.\n",
    "\n",
    "    prob_mfe = math.exp((dG - mfe) / kT)\n",
    "    \n",
    "    return prob_mfe"
   ]
  },
  {
   "cell_type": "code",
   "execution_count": null,
   "id": "19aa6422-1553-48df-a937-09b3c8573bff",
   "metadata": {},
   "outputs": [],
   "source": []
  },
  {
   "cell_type": "code",
   "execution_count": null,
   "id": "d0340ab0-6477-4743-ad7e-dc3c490111ca",
   "metadata": {},
   "outputs": [],
   "source": []
  },
  {
   "cell_type": "code",
   "execution_count": null,
   "id": "damaged-pressure",
   "metadata": {},
   "outputs": [],
   "source": [
    "rC_multi_startSeq"
   ]
  },
  {
   "cell_type": "code",
   "execution_count": null,
   "id": "charged-congress",
   "metadata": {
    "tags": []
   },
   "outputs": [],
   "source": [
    "rC_multiExon_sesRNAs"
   ]
  },
  {
   "cell_type": "code",
   "execution_count": null,
   "id": "elementary-jersey",
   "metadata": {
    "tags": []
   },
   "outputs": [],
   "source": [
    "str(rC_multiExon_sesRNAs[8])"
   ]
  },
  {
   "cell_type": "code",
   "execution_count": null,
   "id": "mediterranean-savage",
   "metadata": {
    "tags": []
   },
   "outputs": [],
   "source": [
    "str(rC_multiExon_sesRNAs[18])"
   ]
  },
  {
   "cell_type": "code",
   "execution_count": null,
   "id": "interracial-bottom",
   "metadata": {},
   "outputs": [],
   "source": []
  },
  {
   "cell_type": "code",
   "execution_count": null,
   "id": "solar-patrick",
   "metadata": {},
   "outputs": [],
   "source": [
    "from seqfold import dg, dg_cache, fold"
   ]
  },
  {
   "cell_type": "code",
   "execution_count": null,
   "id": "acknowledged-director",
   "metadata": {
    "tags": []
   },
   "outputs": [],
   "source": [
    "# just returns minimum free energy\n",
    "dg(\"GGGAGGTCGTTACATCTGGGTAACACCGGTACTGATCCGGTGACCTCCC\", temp = 37.0)  # -12.94"
   ]
  },
  {
   "cell_type": "code",
   "execution_count": null,
   "id": "9d425009-33b2-446f-9faf-7895b89e4951",
   "metadata": {},
   "outputs": [],
   "source": []
  },
  {
   "cell_type": "code",
   "execution_count": null,
   "id": "45584007-d5a4-4694-a076-355652010a95",
   "metadata": {},
   "outputs": [],
   "source": []
  },
  {
   "cell_type": "code",
   "execution_count": null,
   "id": "a1494e6f-2314-4da4-9683-10e92cedf5d6",
   "metadata": {},
   "outputs": [],
   "source": []
  },
  {
   "cell_type": "code",
   "execution_count": null,
   "id": "bf8827a8-e642-4dac-96b1-ea1b75b4db86",
   "metadata": {},
   "outputs": [],
   "source": []
  },
  {
   "cell_type": "code",
   "execution_count": null,
   "id": "8806ba01-b021-47b0-b6ca-47f750b881fa",
   "metadata": {},
   "outputs": [],
   "source": []
  },
  {
   "cell_type": "code",
   "execution_count": null,
   "id": "7b9a6752-b38f-4ccb-bb2d-ca59ee4e45da",
   "metadata": {},
   "outputs": [],
   "source": []
  },
  {
   "cell_type": "code",
   "execution_count": null,
   "id": "63c5e207-4c59-4ccf-9a62-6324986e0ab4",
   "metadata": {},
   "outputs": [],
   "source": []
  },
  {
   "cell_type": "code",
   "execution_count": null,
   "id": "1750f7a8-c286-41bb-b895-8f1ffbb8c91b",
   "metadata": {},
   "outputs": [],
   "source": []
  },
  {
   "cell_type": "code",
   "execution_count": null,
   "id": "3f0c25cd-144f-44f8-8237-3a30feca85c9",
   "metadata": {},
   "outputs": [],
   "source": []
  },
  {
   "cell_type": "markdown",
   "id": "2448a30b-85ac-49df-b0a4-77266bef87c0",
   "metadata": {},
   "source": [
    "# Test Intarna (test strength of binding, off-target, ...)  "
   ]
  },
  {
   "cell_type": "code",
   "execution_count": null,
   "id": "71a7a71b-636d-4306-9293-928340bd2c84",
   "metadata": {
    "tags": []
   },
   "outputs": [],
   "source": [
    "import intarnapvalue"
   ]
  },
  {
   "cell_type": "code",
   "execution_count": null,
   "id": "a3b8a086-570c-4ce2-b379-2d6fa514e5f1",
   "metadata": {
    "tags": []
   },
   "outputs": [],
   "source": [
    "testSeq = str(rC_multiExon_sesRNAs[0])\n",
    "testSeq"
   ]
  },
  {
   "cell_type": "code",
   "execution_count": null,
   "id": "2d965c68-7f64-4f5b-894a-9194e0767a16",
   "metadata": {
    "tags": []
   },
   "outputs": [],
   "source": [
    "target = str(CDS[0].seq)\n",
    "target "
   ]
  },
  {
   "cell_type": "code",
   "execution_count": null,
   "id": "9592a4f3-8751-4f2a-ba84-49d73a47e1f0",
   "metadata": {
    "tags": []
   },
   "outputs": [],
   "source": [
    "from intarnapvalue.intarna_pvalue import IntaRNApvalue"
   ]
  },
  {
   "cell_type": "code",
   "execution_count": null,
   "id": "06385d0f-6d8a-4731-8519-8acde1f45040",
   "metadata": {
    "tags": []
   },
   "outputs": [],
   "source": [
    "?IntaRNApvalue"
   ]
  },
  {
   "cell_type": "code",
   "execution_count": null,
   "id": "bbfe4d76-3fcf-4826-b93c-00a9f21ee2fb",
   "metadata": {
    "tags": []
   },
   "outputs": [],
   "source": [
    "?intarna_pvalue"
   ]
  },
  {
   "cell_type": "code",
   "execution_count": null,
   "id": "eb0ff577-4f6c-4163-a826-371709f260ec",
   "metadata": {
    "tags": []
   },
   "outputs": [],
   "source": [
    "IntaRNApvalue(['--query', testSeq, '--target', target])"
   ]
  },
  {
   "cell_type": "code",
   "execution_count": null,
   "id": "44b6edfa-0076-48fe-ae39-cbc2d58ce978",
   "metadata": {
    "tags": []
   },
   "outputs": [],
   "source": [
    "IntaRNApvalue['-q', 'AGGAUG', '-t', 'UUUAUCGUU', '-s', '10', '-m', 'b', '-d', 'gauss', '--threads', '3']"
   ]
  },
  {
   "cell_type": "code",
   "execution_count": null,
   "id": "67996c75-f119-4851-9a4e-a1cf44a63620",
   "metadata": {
    "tags": []
   },
   "outputs": [],
   "source": [
    "command = 'python -m intarnapvalue --query GCUGAAAAACAUAACCCAUAAAAUGCUAGCUGUACCAGGAACCA --target GGUUUCUUCGCCUCUGCGUUCACCAAAGUGUUCACCC -s 10 --shuffle-mode b --threads 0' "
   ]
  },
  {
   "cell_type": "code",
   "execution_count": null,
   "id": "97ebce19-6fcf-442c-ab8f-d80538378416",
   "metadata": {
    "tags": []
   },
   "outputs": [],
   "source": [
    "readProb = subprocess.Popen(command, shell=True, stdout=subprocess.PIPE)\n",
    "readProb.wait()\n",
    "returnedProb = readProb.stdout.read()\n",
    "returnedProb"
   ]
  },
  {
   "cell_type": "code",
   "execution_count": null,
   "id": "6c5a3cac-bc79-4845-983d-dc0fbcf7191a",
   "metadata": {},
   "outputs": [],
   "source": []
  },
  {
   "cell_type": "code",
   "execution_count": null,
   "id": "1da5e107-afe0-4713-bbed-089bd27f569f",
   "metadata": {},
   "outputs": [],
   "source": []
  },
  {
   "cell_type": "code",
   "execution_count": null,
   "id": "18522fa3-de4b-43f5-963d-7d507e5f365a",
   "metadata": {},
   "outputs": [],
   "source": []
  },
  {
   "cell_type": "code",
   "execution_count": null,
   "id": "be4dc3b2-5726-43d9-bbd8-9f908f0e0f64",
   "metadata": {},
   "outputs": [],
   "source": []
  },
  {
   "cell_type": "code",
   "execution_count": null,
   "id": "82638ba5-6f97-47f0-a0e3-69e71588f4c1",
   "metadata": {},
   "outputs": [],
   "source": []
  },
  {
   "cell_type": "code",
   "execution_count": null,
   "id": "68a44ad1-c37c-4c60-8d2a-51bfc136c87d",
   "metadata": {},
   "outputs": [],
   "source": []
  },
  {
   "cell_type": "code",
   "execution_count": null,
   "id": "a104a3b7-dba6-4031-9eca-69fd3cdab621",
   "metadata": {},
   "outputs": [],
   "source": []
  },
  {
   "cell_type": "code",
   "execution_count": null,
   "id": "844c4bef-bdb0-4cef-9bd2-6571e58a2b55",
   "metadata": {},
   "outputs": [],
   "source": []
  },
  {
   "cell_type": "code",
   "execution_count": null,
   "id": "85632729-fee0-4df2-b4bf-cf5d6acdedb5",
   "metadata": {
    "tags": []
   },
   "outputs": [],
   "source": [
    "# Running script for getting probabilities from RNAfold output file (added to ArchBin btw)\n",
    "readProb = subprocess.Popen(command, shell=True, stdout=subprocess.PIPE)\n",
    "returnedProb = readProb.stdout.read()\n",
    "# Waiting for last command to finish before storing value in temp.out file \n",
    "readProb.wait()"
   ]
  },
  {
   "cell_type": "code",
   "execution_count": null,
   "id": "4538e5f3-b566-4e9e-acf8-1a4df404d0ca",
   "metadata": {
    "tags": []
   },
   "outputs": [],
   "source": [
    "pd.read_csv('/home/user1/Dropbox/Research/Neurobiology_PhD/Rotations/Huang/Projects/CellReadR/Code/Functions/output.csv', sep = ';')"
   ]
  },
  {
   "cell_type": "code",
   "execution_count": null,
   "id": "a193e3d7-6c52-4fcf-8aa6-e44ba3ef53e0",
   "metadata": {
    "tags": []
   },
   "outputs": [],
   "source": [
    "pd.read_csv('/home/user1/Dropbox/Research/Neurobiology_PhD/Rotations/Huang/Projects/CellReadR/Code/Functions/output.csv', sep = ';')"
   ]
  },
  {
   "cell_type": "code",
   "execution_count": null,
   "id": "106bc078-bf3f-4d97-bf36-fcfc8f088901",
   "metadata": {
    "tags": []
   },
   "outputs": [],
   "source": [
    "pd.read_csv('/home/user1/Dropbox/Research/Neurobiology_PhD/Rotations/Huang/Projects/CellReadR/Code/Functions/output.csv', sep = ';')"
   ]
  },
  {
   "cell_type": "code",
   "execution_count": null,
   "id": "eece9f23-3c40-4314-a2b2-16c5b6a77f50",
   "metadata": {},
   "outputs": [],
   "source": []
  },
  {
   "cell_type": "code",
   "execution_count": null,
   "id": "35b27c3d-22e7-4526-9dd7-6a92a57bf560",
   "metadata": {},
   "outputs": [],
   "source": []
  },
  {
   "cell_type": "code",
   "execution_count": null,
   "id": "2f33582c-ca5c-4be6-87f0-1345516f727f",
   "metadata": {},
   "outputs": [],
   "source": []
  },
  {
   "cell_type": "code",
   "execution_count": null,
   "id": "85955b3f-038e-40c2-9cb7-691bacac3f67",
   "metadata": {},
   "outputs": [],
   "source": []
  },
  {
   "cell_type": "code",
   "execution_count": null,
   "id": "9730cf60-da21-42ef-ae6f-1ba1624bc0d9",
   "metadata": {
    "tags": []
   },
   "outputs": [],
   "source": [
    "# Trying to load entire transcripome ... obviously failed ... \n",
    "allRat_fileName = '/home/user1/Dropbox/Research/Neurobiology_PhD/Rotations/Huang/Projects/CellReadR/Data/Sequences/Reference/Ensembl/All/Rattus_norvegicus.Rnor_6.0.cdna.all.fa'\n",
    "allRat = list(SeqIO.parse(allRat_fileName, \"fasta\"))"
   ]
  },
  {
   "cell_type": "code",
   "execution_count": null,
   "id": "a3a4bdd4-fc6c-42fe-902b-78babec7a547",
   "metadata": {},
   "outputs": [],
   "source": []
  },
  {
   "cell_type": "code",
   "execution_count": null,
   "id": "ecc21e03-8038-4ebc-afb1-92fd70b50ff5",
   "metadata": {},
   "outputs": [],
   "source": []
  },
  {
   "cell_type": "code",
   "execution_count": null,
   "id": "a6f7c3fc-5d93-46a1-841d-37abfd8a1af2",
   "metadata": {},
   "outputs": [],
   "source": []
  },
  {
   "cell_type": "code",
   "execution_count": null,
   "id": "af8382d1-bbfb-4787-9e9a-93a321f635de",
   "metadata": {},
   "outputs": [],
   "source": []
  },
  {
   "cell_type": "code",
   "execution_count": null,
   "id": "54749854-f897-466a-a4b2-3d351598d34f",
   "metadata": {},
   "outputs": [],
   "source": []
  },
  {
   "cell_type": "code",
   "execution_count": null,
   "id": "042fb2ef-5cc4-4134-ac95-b6be29b6a702",
   "metadata": {},
   "outputs": [],
   "source": [
    "python -m intarnapvalue --query GCUGAAAAACAUAACCCAUAAAAUGCUAGCUGUACCAGGAACCA --target GGUUUCUUCGCCUCUGCGUUCACCAAAGUGUUCACCC --scores 10000 --shuffle-mode b --threads 0"
   ]
  },
  {
   "cell_type": "code",
   "execution_count": null,
   "id": "6f66470e-8de1-4e89-b4ca-0183f7a4bc5a",
   "metadata": {},
   "outputs": [],
   "source": [
    "intarnapvalue --query GCUGAAAAACAUAACCCAUAAAAUGCUAGCUGUACCAGGAACCA --target GGUUUCUUCGCCUCUGCGUUCACCAAAGUGUUCACCC --scores 10000 --shuffle-mode b --threads 0"
   ]
  },
  {
   "cell_type": "code",
   "execution_count": null,
   "id": "2a5b397c-e523-4551-9e1e-b8e10df7e6de",
   "metadata": {},
   "outputs": [],
   "source": []
  },
  {
   "cell_type": "code",
   "execution_count": null,
   "id": "015609d6-742c-40d2-821b-1a5049e2550c",
   "metadata": {},
   "outputs": [],
   "source": []
  },
  {
   "cell_type": "markdown",
   "id": "approved-notion",
   "metadata": {},
   "source": [
    "# Misc"
   ]
  },
  {
   "cell_type": "code",
   "execution_count": null,
   "id": "italian-front",
   "metadata": {
    "tags": []
   },
   "outputs": [],
   "source": [
    "# For returning index of findings \n",
    "searchCodon = 'TAG'\n",
    "[m.start() for m in re.finditer(searchCodon, str(seq))]"
   ]
  },
  {
   "cell_type": "code",
   "execution_count": null,
   "id": "elder-buddy",
   "metadata": {
    "tags": []
   },
   "outputs": [],
   "source": [
    "testSeq = sesRNAs[0]\n",
    "testSeq"
   ]
  },
  {
   "cell_type": "code",
   "execution_count": null,
   "id": "powered-action",
   "metadata": {
    "tags": []
   },
   "outputs": [],
   "source": [
    "lastATG = [m.start() for m in re.finditer('ATG', str(testSeq))][-1]\n",
    "lastTGG = [m.start() for m in re.finditer('TGG', str(testSeq))][-1]"
   ]
  },
  {
   "cell_type": "code",
   "execution_count": null,
   "id": "wooden-standard",
   "metadata": {
    "tags": []
   },
   "outputs": [],
   "source": [
    "lastTGG"
   ]
  },
  {
   "cell_type": "code",
   "execution_count": null,
   "id": "proud-insured",
   "metadata": {
    "tags": []
   },
   "outputs": [],
   "source": [
    "lastATG"
   ]
  },
  {
   "cell_type": "code",
   "execution_count": null,
   "id": "alive-japan",
   "metadata": {},
   "outputs": [],
   "source": [
    "lastATG < lastTGG"
   ]
  },
  {
   "cell_type": "code",
   "execution_count": null,
   "id": "gentle-spelling",
   "metadata": {
    "tags": []
   },
   "outputs": [],
   "source": [
    "searchCodon = 'ATG'\n",
    "[m.start() for m in re.finditer(searchCodon, str(testSeq))][-1]"
   ]
  },
  {
   "cell_type": "code",
   "execution_count": null,
   "id": "otherwise-series",
   "metadata": {
    "tags": []
   },
   "outputs": [],
   "source": [
    "seq.count('TAG') < 4"
   ]
  },
  {
   "cell_type": "code",
   "execution_count": null,
   "id": "suspected-hollywood",
   "metadata": {
    "tags": []
   },
   "outputs": [],
   "source": [
    "seq[0:100].count('TAG')"
   ]
  },
  {
   "cell_type": "code",
   "execution_count": null,
   "id": "manufactured-luxembourg",
   "metadata": {},
   "outputs": [],
   "source": []
  },
  {
   "cell_type": "code",
   "execution_count": null,
   "id": "cubic-orientation",
   "metadata": {},
   "outputs": [],
   "source": [
    "stopCodons = ['TAG', 'TAA', 'TGA']\n",
    "stopCodons "
   ]
  },
  {
   "cell_type": "code",
   "execution_count": null,
   "id": "about-theater",
   "metadata": {},
   "outputs": [],
   "source": [
    "indiciesTGG"
   ]
  },
  {
   "cell_type": "code",
   "execution_count": null,
   "id": "aquatic-ancient",
   "metadata": {
    "tags": []
   },
   "outputs": [],
   "source": [
    "indiciesStop"
   ]
  },
  {
   "cell_type": "code",
   "execution_count": null,
   "id": "through-combat",
   "metadata": {
    "tags": []
   },
   "outputs": [],
   "source": [
    "length = 200 \n",
    "center = length/2"
   ]
  },
  {
   "cell_type": "code",
   "execution_count": null,
   "id": "authorized-piece",
   "metadata": {
    "tags": []
   },
   "outputs": [],
   "source": [
    "arrayStop = np.array(indiciesStop)\n",
    "arrayIndicies = np.array(indiciesTGG) \n",
    "centralTGGs = arrayIndicies[abs(arrayIndicies - center) < 10]"
   ]
  },
  {
   "cell_type": "code",
   "execution_count": null,
   "id": "verbal-alabama",
   "metadata": {
    "tags": []
   },
   "outputs": [],
   "source": [
    "centralTGGs"
   ]
  },
  {
   "cell_type": "code",
   "execution_count": null,
   "id": "devoted-superior",
   "metadata": {
    "tags": []
   },
   "outputs": [],
   "source": [
    "np.in1d(centralTGGs,arrayStop)"
   ]
  },
  {
   "cell_type": "code",
   "execution_count": null,
   "id": "soviet-methodology",
   "metadata": {
    "tags": []
   },
   "outputs": [],
   "source": [
    "# Check if array contains values that are within range of values in another array \n",
    "any((min(abs(arrayStop - i)) > 10) for i in centralTGGs)"
   ]
  },
  {
   "cell_type": "code",
   "execution_count": null,
   "id": "pregnant-backing",
   "metadata": {},
   "outputs": [],
   "source": [
    "centralTGGs"
   ]
  },
  {
   "cell_type": "code",
   "execution_count": null,
   "id": "recreational-reward",
   "metadata": {
    "tags": []
   },
   "outputs": [],
   "source": [
    "indiciesStop"
   ]
  },
  {
   "cell_type": "code",
   "execution_count": null,
   "id": "equivalent-puppy",
   "metadata": {},
   "outputs": [],
   "source": [
    "testStop = [90, 16, 174]"
   ]
  },
  {
   "cell_type": "code",
   "execution_count": null,
   "id": "suspected-rates",
   "metadata": {},
   "outputs": [],
   "source": []
  },
  {
   "cell_type": "code",
   "execution_count": null,
   "id": "interested-cameroon",
   "metadata": {},
   "outputs": [],
   "source": []
  },
  {
   "cell_type": "code",
   "execution_count": null,
   "id": "progressive-producer",
   "metadata": {
    "tags": []
   },
   "outputs": [],
   "source": [
    "(min(abs(arrayStop - centralTGGs[0])) > 10)"
   ]
  },
  {
   "cell_type": "code",
   "execution_count": null,
   "id": "frank-hepatitis",
   "metadata": {
    "tags": []
   },
   "outputs": [],
   "source": [
    "min(abs(arrayStop - centralTGGs[0])) > 10"
   ]
  },
  {
   "cell_type": "code",
   "execution_count": null,
   "id": "muslim-version",
   "metadata": {},
   "outputs": [],
   "source": []
  },
  {
   "cell_type": "code",
   "execution_count": null,
   "id": "complicated-southeast",
   "metadata": {
    "tags": []
   },
   "outputs": [],
   "source": [
    "centeralTGGs = offset.min()\n",
    "centeralTGGs"
   ]
  },
  {
   "cell_type": "code",
   "execution_count": null,
   "id": "fantastic-intellectual",
   "metadata": {},
   "outputs": [],
   "source": [
    "centralTGGs = np.all(offset == offset.min())\n",
    "centralTGGs"
   ]
  },
  {
   "cell_type": "code",
   "execution_count": null,
   "id": "advisory-survey",
   "metadata": {
    "tags": []
   },
   "outputs": [],
   "source": [
    "centeralTGGs = np.where(offset == offset.min())\n",
    "centeralTGG"
   ]
  },
  {
   "cell_type": "code",
   "execution_count": null,
   "id": "mounted-appraisal",
   "metadata": {
    "tags": []
   },
   "outputs": [],
   "source": [
    "offset = abs(arrayIndicies - center) \n",
    "centerTGG = indiciesTGG[np.argmin(offset)]"
   ]
  },
  {
   "cell_type": "code",
   "execution_count": null,
   "id": "hazardous-office",
   "metadata": {
    "tags": []
   },
   "outputs": [],
   "source": [
    "any(abs(x - centerTGG) < 10 for x in indiciesStop)"
   ]
  },
  {
   "cell_type": "code",
   "execution_count": null,
   "id": "narrative-midnight",
   "metadata": {},
   "outputs": [],
   "source": []
  },
  {
   "cell_type": "code",
   "execution_count": null,
   "id": "political-positive",
   "metadata": {
    "tags": []
   },
   "outputs": [],
   "source": [
    "indiciesStop = []\n",
    "for codons in stopCodons:\n",
    "    indiciesStop.extend([m.start() for m in re.finditer(codons, str(testSeq))])"
   ]
  },
  {
   "cell_type": "code",
   "execution_count": null,
   "id": "intended-rotation",
   "metadata": {
    "tags": []
   },
   "outputs": [],
   "source": [
    "len(indiciesStop)"
   ]
  },
  {
   "cell_type": "code",
   "execution_count": null,
   "id": "computational-incidence",
   "metadata": {
    "tags": []
   },
   "outputs": [],
   "source": [
    "[m.start() for m in re.finditer('TGA', str(testSeq))]"
   ]
  },
  {
   "cell_type": "code",
   "execution_count": null,
   "id": "adjustable-appointment",
   "metadata": {
    "tags": []
   },
   "outputs": [],
   "source": [
    "[m.start() for m in re.finditer('TAA', str(testSeq))]"
   ]
  },
  {
   "cell_type": "code",
   "execution_count": null,
   "id": "nervous-retention",
   "metadata": {},
   "outputs": [],
   "source": [
    "[m.start() for m in re.finditer('TAG', str(testSeq))]"
   ]
  },
  {
   "cell_type": "code",
   "execution_count": null,
   "id": "circular-letter",
   "metadata": {
    "tags": []
   },
   "outputs": [],
   "source": [
    "testSeq.count(stopCodons)"
   ]
  },
  {
   "cell_type": "code",
   "execution_count": null,
   "id": "standing-gregory",
   "metadata": {},
   "outputs": [],
   "source": [
    "indiciesTGG"
   ]
  },
  {
   "cell_type": "code",
   "execution_count": null,
   "id": "forbidden-money",
   "metadata": {
    "tags": []
   },
   "outputs": [],
   "source": [
    "len(indiciesTGG)"
   ]
  },
  {
   "cell_type": "code",
   "execution_count": null,
   "id": "equal-shame",
   "metadata": {},
   "outputs": [],
   "source": []
  },
  {
   "cell_type": "code",
   "execution_count": null,
   "id": "hydraulic-security",
   "metadata": {},
   "outputs": [],
   "source": []
  },
  {
   "cell_type": "code",
   "execution_count": null,
   "id": "sorted-sleep",
   "metadata": {
    "tags": []
   },
   "outputs": [],
   "source": [
    "testSeq = sesRNAs[0]"
   ]
  },
  {
   "cell_type": "code",
   "execution_count": null,
   "id": "continuous-comparative",
   "metadata": {
    "tags": []
   },
   "outputs": [],
   "source": [
    "lastTGG = [m.start() for m in re.finditer('TGG', str(testSeq))][-1]"
   ]
  },
  {
   "cell_type": "code",
   "execution_count": null,
   "id": "challenging-hopkins",
   "metadata": {},
   "outputs": [],
   "source": [
    "testSeq"
   ]
  },
  {
   "cell_type": "code",
   "execution_count": null,
   "id": "completed-grenada",
   "metadata": {
    "tags": []
   },
   "outputs": [],
   "source": [
    "indiciesTGG = [m.start() for m in re.finditer('TGG', str(testSeq))]"
   ]
  },
  {
   "cell_type": "code",
   "execution_count": null,
   "id": "adjusted-trustee",
   "metadata": {
    "tags": []
   },
   "outputs": [],
   "source": [
    "start = 0 \n",
    "stop = 200"
   ]
  },
  {
   "cell_type": "code",
   "execution_count": null,
   "id": "capable-complement",
   "metadata": {
    "tags": []
   },
   "outputs": [],
   "source": [
    "middle = (start + stop) / 2"
   ]
  },
  {
   "cell_type": "code",
   "execution_count": null,
   "id": "olympic-present",
   "metadata": {
    "tags": []
   },
   "outputs": [],
   "source": [
    "abs(middle - indiciesTGG[0])"
   ]
  },
  {
   "cell_type": "code",
   "execution_count": null,
   "id": "champion-eleven",
   "metadata": {},
   "outputs": [],
   "source": [
    "type(indiciesTGG)"
   ]
  },
  {
   "cell_type": "code",
   "execution_count": null,
   "id": "spectacular-touch",
   "metadata": {},
   "outputs": [],
   "source": [
    "indiciesTGG"
   ]
  },
  {
   "cell_type": "code",
   "execution_count": null,
   "id": "cooked-music",
   "metadata": {},
   "outputs": [],
   "source": [
    "any(indiciesTGG) > 2"
   ]
  },
  {
   "cell_type": "code",
   "execution_count": null,
   "id": "appropriate-ministry",
   "metadata": {},
   "outputs": [],
   "source": [
    "length = 200 "
   ]
  },
  {
   "cell_type": "code",
   "execution_count": null,
   "id": "ruled-times",
   "metadata": {
    "tags": []
   },
   "outputs": [],
   "source": [
    "any(abs(x - (length/2)) < 20 for x in indiciesTGG)"
   ]
  },
  {
   "cell_type": "code",
   "execution_count": null,
   "id": "developing-origin",
   "metadata": {
    "tags": []
   },
   "outputs": [],
   "source": [
    "testList = [50, 60, 170, 200]"
   ]
  },
  {
   "cell_type": "code",
   "execution_count": null,
   "id": "accomplished-recording",
   "metadata": {
    "tags": []
   },
   "outputs": [],
   "source": [
    "any(abs(x - (length/2)) < 10 for x in testList)"
   ]
  },
  {
   "cell_type": "code",
   "execution_count": null,
   "id": "killing-fetish",
   "metadata": {},
   "outputs": [],
   "source": []
  },
  {
   "cell_type": "code",
   "execution_count": null,
   "id": "concrete-mississippi",
   "metadata": {},
   "outputs": [],
   "source": [
    "testSeq"
   ]
  },
  {
   "cell_type": "code",
   "execution_count": null,
   "id": "comfortable-green",
   "metadata": {
    "tags": []
   },
   "outputs": [],
   "source": [
    "os.path.isdir('Output/BioPython')"
   ]
  },
  {
   "cell_type": "code",
   "execution_count": null,
   "id": "selective-quality",
   "metadata": {
    "tags": []
   },
   "outputs": [],
   "source": []
  },
  {
   "cell_type": "code",
   "execution_count": null,
   "id": "fewer-strain",
   "metadata": {},
   "outputs": [],
   "source": [
    "outputFileName = os.getcwd() + ''"
   ]
  },
  {
   "cell_type": "code",
   "execution_count": null,
   "id": "facial-sodium",
   "metadata": {},
   "outputs": [],
   "source": [
    "testSeq"
   ]
  },
  {
   "cell_type": "code",
   "execution_count": null,
   "id": "624fb6a0-4572-4319-b60d-573b7ab225f1",
   "metadata": {},
   "outputs": [],
   "source": []
  },
  {
   "cell_type": "code",
   "execution_count": null,
   "id": "b7dca5f2-075c-4bf9-9f86-7defe8042a17",
   "metadata": {},
   "outputs": [],
   "source": []
  },
  {
   "cell_type": "code",
   "execution_count": null,
   "id": "6eded10b-badd-4eb0-b3b8-49fb236d067b",
   "metadata": {},
   "outputs": [],
   "source": []
  },
  {
   "cell_type": "code",
   "execution_count": null,
   "id": "af561b1c-991a-4d98-af4c-15606fbcdee3",
   "metadata": {},
   "outputs": [],
   "source": []
  },
  {
   "cell_type": "code",
   "execution_count": null,
   "id": "a5e327bb-c221-4578-b0a0-7dfac34c1625",
   "metadata": {},
   "outputs": [],
   "source": []
  },
  {
   "cell_type": "code",
   "execution_count": null,
   "id": "ce80dfd1-76b4-412b-ae5f-109174384a95",
   "metadata": {},
   "outputs": [],
   "source": []
  },
  {
   "cell_type": "code",
   "execution_count": null,
   "id": "violent-toolbox",
   "metadata": {},
   "outputs": [],
   "source": []
  },
  {
   "cell_type": "code",
   "execution_count": null,
   "id": "2ff254b6-8d79-4c8a-8302-8fbb0503e88e",
   "metadata": {},
   "outputs": [],
   "source": []
  }
 ],
 "metadata": {
  "kernelspec": {
   "display_name": "huang_CellReadR",
   "language": "python",
   "name": "huang_cellreadr"
  },
  "language_info": {
   "codemirror_mode": {
    "name": "ipython",
    "version": 3
   },
   "file_extension": ".py",
   "mimetype": "text/x-python",
   "name": "python",
   "nbconvert_exporter": "python",
   "pygments_lexer": "ipython3",
   "version": "3.9.1"
  },
  "toc-showtags": false
 },
 "nbformat": 4,
 "nbformat_minor": 5
}
