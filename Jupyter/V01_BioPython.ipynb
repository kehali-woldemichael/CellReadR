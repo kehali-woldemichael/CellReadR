{
 "cells": [
  {
   "cell_type": "markdown",
   "id": "harmful-thread",
   "metadata": {},
   "source": [
    "# Setup "
   ]
  },
  {
   "cell_type": "markdown",
   "id": "artistic-essex",
   "metadata": {},
   "source": [
    "## Import packages "
   ]
  },
  {
   "cell_type": "code",
   "execution_count": 1,
   "id": "induced-hormone",
   "metadata": {
    "execution": {
     "iopub.execute_input": "2021-04-28T18:53:26.943672Z",
     "iopub.status.busy": "2021-04-28T18:53:26.943345Z",
     "iopub.status.idle": "2021-04-28T18:53:26.991246Z",
     "shell.execute_reply": "2021-04-28T18:53:26.990749Z",
     "shell.execute_reply.started": "2021-04-28T18:53:26.943560Z"
    },
    "tags": []
   },
   "outputs": [],
   "source": [
    "# For working with sequence objects \n",
    "from Bio.Seq import Seq"
   ]
  },
  {
   "cell_type": "code",
   "execution_count": 2,
   "id": "level-motor",
   "metadata": {
    "execution": {
     "iopub.execute_input": "2021-04-28T18:53:26.992075Z",
     "iopub.status.busy": "2021-04-28T18:53:26.991954Z",
     "iopub.status.idle": "2021-04-28T18:53:27.120067Z",
     "shell.execute_reply": "2021-04-28T18:53:27.119606Z",
     "shell.execute_reply.started": "2021-04-28T18:53:26.992058Z"
    }
   },
   "outputs": [],
   "source": [
    "# For fetching sequences from Entrez \n",
    "from Bio import Entrez\n",
    "from Bio import SeqIO"
   ]
  },
  {
   "cell_type": "code",
   "execution_count": 104,
   "id": "referenced-monster",
   "metadata": {
    "execution": {
     "iopub.execute_input": "2021-04-28T20:24:12.673465Z",
     "iopub.status.busy": "2021-04-28T20:24:12.673211Z",
     "iopub.status.idle": "2021-04-28T20:24:12.676677Z",
     "shell.execute_reply": "2021-04-28T20:24:12.675924Z",
     "shell.execute_reply.started": "2021-04-28T20:24:12.673436Z"
    },
    "tags": []
   },
   "outputs": [],
   "source": [
    "# For extracting features \n",
    "from Bio.SeqFeature import SeqFeature, FeatureLocation"
   ]
  },
  {
   "cell_type": "markdown",
   "id": "vital-taiwan",
   "metadata": {},
   "source": [
    "## Misc"
   ]
  },
  {
   "cell_type": "code",
   "execution_count": 3,
   "id": "persistent-hungary",
   "metadata": {
    "execution": {
     "iopub.execute_input": "2021-04-28T18:53:27.121194Z",
     "iopub.status.busy": "2021-04-28T18:53:27.121068Z",
     "iopub.status.idle": "2021-04-28T18:53:27.123704Z",
     "shell.execute_reply": "2021-04-28T18:53:27.123237Z",
     "shell.execute_reply.started": "2021-04-28T18:53:27.121178Z"
    }
   },
   "outputs": [],
   "source": [
    "Entrez.email = \"kehaliwoldemichael@gmail.com\"  # Always tell NCBI who you are"
   ]
  },
  {
   "cell_type": "markdown",
   "id": "incorrect-apparatus",
   "metadata": {},
   "source": [
    "# Functions "
   ]
  },
  {
   "cell_type": "markdown",
   "id": "swiss-houston",
   "metadata": {},
   "source": [
    "## Sequence"
   ]
  },
  {
   "cell_type": "code",
   "execution_count": 40,
   "id": "greater-renaissance",
   "metadata": {
    "execution": {
     "iopub.execute_input": "2021-04-28T19:19:45.871856Z",
     "iopub.status.busy": "2021-04-28T19:19:45.871597Z",
     "iopub.status.idle": "2021-04-28T19:19:45.876233Z",
     "shell.execute_reply": "2021-04-28T19:19:45.875655Z",
     "shell.execute_reply.started": "2021-04-28T19:19:45.871826Z"
    },
    "tags": []
   },
   "outputs": [],
   "source": [
    "def seq_returnEntrez(sequenceID, retType):\n",
    "    with Entrez.efetch(\n",
    "        db=\"nucleotide\", rettype=retType, retmode=\"text\", id=sequenceID\n",
    "    ) as handle:\n",
    "        seqRecord = SeqIO.read(handle, \"gb\")  # using \"gb\" as an alias for \"genbank\"\n",
    "        \n",
    "    handle = Entrez.efetch(db=\"nucleotide\", id=sequenceID, rettype=retType, retmode=\"text\")\n",
    "    \n",
    "    return seqRecord, handle "
   ]
  },
  {
   "cell_type": "markdown",
   "id": "civic-registration",
   "metadata": {},
   "source": [
    "## Metrics "
   ]
  },
  {
   "cell_type": "code",
   "execution_count": 9,
   "id": "severe-litigation",
   "metadata": {
    "execution": {
     "iopub.execute_input": "2021-04-28T18:53:58.580163Z",
     "iopub.status.busy": "2021-04-28T18:53:58.579596Z",
     "iopub.status.idle": "2021-04-28T18:53:58.585596Z",
     "shell.execute_reply": "2021-04-28T18:53:58.584690Z",
     "shell.execute_reply.started": "2021-04-28T18:53:58.580094Z"
    },
    "tags": []
   },
   "outputs": [],
   "source": [
    "# Returns GC content \n",
    "def metric_gcContent(sequence):\n",
    "    return (sequence.count(\"G\") + sequence.count(\"C\"))/(len(sequence))"
   ]
  },
  {
   "cell_type": "code",
   "execution_count": null,
   "id": "weighted-adoption",
   "metadata": {},
   "outputs": [],
   "source": []
  },
  {
   "cell_type": "markdown",
   "id": "abroad-boating",
   "metadata": {},
   "source": [
    "# Selecting Sequence "
   ]
  },
  {
   "cell_type": "code",
   "execution_count": 58,
   "id": "coral-violation",
   "metadata": {
    "execution": {
     "iopub.execute_input": "2021-04-28T19:21:45.344802Z",
     "iopub.status.busy": "2021-04-28T19:21:45.344642Z",
     "iopub.status.idle": "2021-04-28T19:21:46.032461Z",
     "shell.execute_reply": "2021-04-28T19:21:46.031890Z",
     "shell.execute_reply.started": "2021-04-28T19:21:45.344784Z"
    },
    "tags": []
   },
   "outputs": [],
   "source": [
    "# Defining sequence ID \n",
    "sequence_id = \"XM_039093242.1\" \n",
    "# Fetching sequence by ID from GenBank \n",
    "seq_record, handle = seq_returnEntrez(sequence_id, \"gb\")"
   ]
  },
  {
   "cell_type": "code",
   "execution_count": 59,
   "id": "acting-tactics",
   "metadata": {
    "execution": {
     "iopub.execute_input": "2021-04-28T19:21:46.240530Z",
     "iopub.status.busy": "2021-04-28T19:21:46.240365Z",
     "iopub.status.idle": "2021-04-28T19:21:46.244194Z",
     "shell.execute_reply": "2021-04-28T19:21:46.243592Z",
     "shell.execute_reply.started": "2021-04-28T19:21:46.240511Z"
    },
    "tags": []
   },
   "outputs": [
    {
     "data": {
      "text/plain": [
       "2510"
      ]
     },
     "execution_count": 59,
     "metadata": {},
     "output_type": "execute_result"
    }
   ],
   "source": [
    "len(seq_record.seq)"
   ]
  },
  {
   "cell_type": "code",
   "execution_count": 60,
   "id": "dated-modification",
   "metadata": {
    "execution": {
     "iopub.execute_input": "2021-04-28T19:21:46.528645Z",
     "iopub.status.busy": "2021-04-28T19:21:46.528377Z",
     "iopub.status.idle": "2021-04-28T19:21:46.532806Z",
     "shell.execute_reply": "2021-04-28T19:21:46.532375Z",
     "shell.execute_reply.started": "2021-04-28T19:21:46.528613Z"
    },
    "scrolled": true,
    "tags": []
   },
   "outputs": [
    {
     "name": "stdout",
     "output_type": "stream",
     "text": [
      "LOCUS       XM_039093242            2510 bp    mRNA    linear   ROD 21-JAN-2021\n",
      "DEFINITION  PREDICTED: Rattus norvegicus Fez family zinc finger 2 (Fezf2),\n",
      "            transcript variant X1, mRNA.\n",
      "ACCESSION   XM_039093242\n",
      "VERSION     XM_039093242.1\n",
      "DBLINK      BioProject: PRJNA677964\n",
      "KEYWORDS    RefSeq.\n",
      "SOURCE      Rattus norvegicus (Norway rat)\n",
      "  ORGANISM  Rattus norvegicus\n",
      "            Eukaryota; Metazoa; Chordata; Craniata; Vertebrata; Euteleostomi;\n",
      "            Mammalia; Eutheria; Euarchontoglires; Glires; Rodentia; Myomorpha;\n",
      "            Muroidea; Muridae; Murinae; Rattus.\n",
      "COMMENT     MODEL REFSEQ:  This record is predicted by automated computational\n",
      "            analysis. This record is derived from a genomic sequence\n",
      "            (NC_051350.1) annotated using gene prediction method: Gnomon,\n",
      "            supported by mRNA and EST evidence.\n",
      "            Also see:\n",
      "                Documentation of NCBI's Annotation Process\n",
      "            \n",
      "            ##Genome-Annotation-Data-START##\n",
      "            Annotation Provider         :: NCBI\n",
      "            Annotation Status           :: Full annotation\n",
      "            Annotation Name             :: Rattus norvegicus Annotation Release\n",
      "                                           108\n",
      "            Annotation Version          :: 108\n",
      "            Annotation Pipeline         :: NCBI eukaryotic genome annotation\n",
      "                                           pipeline\n",
      "            Annotation Software Version :: 8.5\n",
      "            Annotation Method           :: Best-placed RefSeq; Gnomon\n",
      "            Features Annotated          :: Gene; mRNA; CDS; ncRNA\n",
      "            ##Genome-Annotation-Data-END##\n",
      "FEATURES             Location/Qualifiers\n",
      "     source          1..2510\n",
      "                     /organism=\"Rattus norvegicus\"\n",
      "                     /mol_type=\"mRNA\"\n",
      "                     /strain=\"BN/NHsdMcwi\"\n",
      "                     /db_xref=\"taxon:10116\"\n",
      "                     /chromosome=\"15\"\n",
      "                     /sex=\"male\"\n",
      "                     /tissue_type=\"kidney\"\n",
      "                     /country=\"USA: Wisconsin, Milwaukee, Medical College of\n",
      "                     Wisconsin\"\n",
      "                     /collection_date=\"2019-03-08\"\n",
      "                     /collected_by=\"Rebecca Schilling\"\n",
      "     gene            1..2510\n",
      "                     /gene=\"Fezf2\"\n",
      "                     /gene_synonym=\"Zfp312\"\n",
      "                     /note=\"Fez family zinc finger 2; Derived by automated\n",
      "                     computational analysis using gene prediction method:\n",
      "                     Gnomon. Supporting evidence includes similarity to: 2\n",
      "                     mRNAs, 3 ESTs, 6 Proteins, and 100% coverage of the\n",
      "                     annotated genomic feature by RNAseq alignments, including\n",
      "                     5 samples with support for all annotated introns\"\n",
      "                     /db_xref=\"GeneID:305719\"\n",
      "                     /db_xref=\"RGD:1311068\"\n",
      "     CDS             741..2108\n",
      "                     /gene=\"Fezf2\"\n",
      "                     /gene_synonym=\"Zfp312\"\n",
      "                     /codon_start=1\n",
      "                     /product=\"fez family zinc finger protein 2 isoform X1\"\n",
      "                     /protein_id=\"XP_038949170.1\"\n",
      "                     /db_xref=\"GeneID:305719\"\n",
      "                     /db_xref=\"RGD:1311068\"\n",
      "                     /translation=\"MASSASLETMVPPACPRAGASPATSKTLAFSIERIMAKTSEPRA\n",
      "                     PFEPRPAALEADSSQSKKLLNLCSPLPCMIPLQPLGYEVPSKTLLSYSEFWKSSLRAG\n",
      "                     GGGGGGSGGGGPVCGASGLCKTNCGVCCKAELGLAPSALPAGRVIKPQVINQAVGLPA\n",
      "                     SGSLYYFNYLDSTTYPPSELLGGHLFPSGLLNAQAPTSLAAHPKLFLLENAKLASLTA\n",
      "                     DKFPHPASYPHKERLHAPLEQVLKENSALTAERGGVKSHSKLPGGSTDSKPKNFTCEV\n",
      "                     CGKVFNAHYNLTRHMPVHTGARPFVCKVCGKGFRQASTLCRHKIIHTQEKPHKCNQCG\n",
      "                     KAFNRSSTLNTHIRIHAGYKPFVCEFCGKGFHQKGNYKNHKLTHSGEKQYKCTICNKA\n",
      "                     FHQVYNLTFHMHTHNDKKPFTCATCGKGFCRNFDLKKHVRKLHDSVGPTATPSAKGLA\n",
      "                     RTVQS\"\n",
      "ORIGIN      \n",
      "        1 cgaggcaggt tctcaggaag cccttggaag cctttcagtt tgcccgggta ttcaaactgg\n",
      "       61 catagcgttc aggtggaaga acgttagaga gacacaactg ccccgttggg gaaaggggtt\n",
      "      121 ggagtgcaag actggtggca agcaggattc cacagcaaag tcgggggtag aaattcaggt\n",
      "      181 tttgacgctg caggtgaact gatgttgtct cagtgctgga aaaacacaaa acccggttcc\n",
      "      241 acgcggtgct ttagtggcta aaagtgaaag agctgctttg gcagaattca gctctatgaa\n",
      "      301 tcacttcgga aaattggttc gactgaatgg ccttaggagg aaaaacgttt taataggatc\n",
      "      361 caggggaggt tctgctgttt caatctgctc cttaaacagg tggagattgg accttctcaa\n",
      "      421 ttatacaaac aggagcgcgg gcgctagttg cctcctttaa agtttgaggg gcggtggcgg\n",
      "      481 cggccggcag gcgcggggga acgcagggtc ctcaacggga gtcgcgccgc cgcccatgtc\n",
      "      541 attccacttc aagtgacttc atgtgatgtc agctgaatgt aaaagacagt gatctcacgc\n",
      "      601 ggaggggagg atgtttgcca tcaaaatgtg acagaagaga cacgctgcat ggctcggaac\n",
      "      661 gcatctcctt ggcggtgggg gaaaaagact tagaggagag aggctgtgcc ctggcccagc\n",
      "      721 ctggctcagc ttggcgcgcc atggccagct cagcttccct ggagaccatg gtgcccccgg\n",
      "      781 cctgcccgcg cgctggagcg tcaccggcca cttcgaaaac actagctttc tccatcgagc\n",
      "      841 gcatcatggc caagacgtcc gagccccgag cgccttttga gccccggcct gctgcgctag\n",
      "      901 aggcagacag cagccagagc aagaaactgc tcaacctctg ctcgccgctg ccctgtatga\n",
      "      961 tccccctcca gcctctaggc tacgaggtgc cgtccaagac actgctcagt tactcggagt\n",
      "     1021 tctggaaaag cagcctccgg gcgggcggcg gtggaggagg aggcagcggc ggggggggcc\n",
      "     1081 cagtgtgcgg cgccagtggc ttgtgcaaaa ccaactgtgg cgtgtgctgc aaggccgaac\n",
      "     1141 tgggccttgc gccttctgcg ctgcccgccg gcagggtcat caagccgcag gtcatcaacc\n",
      "     1201 aggctgtggg gctgccggcc agcggctctc tctactactt caactacctg gactccacca\n",
      "     1261 cttacccacc atcggagctc ctcggaggcc accttttccc atctggcctc ctcaacgcac\n",
      "     1321 aggcccccac ttccctggct gctcacccca agctttttct gctggagaat gccaaactgg\n",
      "     1381 ccagcctgac tgcggacaag ttcccccacc cagcttccta tccccataag gagcgcttgc\n",
      "     1441 atgcgccgct ggagcaggtg ctgaaggaga actcggcctt gaccgctgaa cgagggggag\n",
      "     1501 tcaagagcca cagcaaacta ccggggggct ctactgacag caaacccaaa aacttcacct\n",
      "     1561 gcgaagtgtg cggcaaggtg ttcaatgctc actataacct cacccgccac atgcctgtcc\n",
      "     1621 acaccggagc tagaccgttt gtgtgcaaag tctgtggcaa aggcttccgc caggccagca\n",
      "     1681 ctctctgcag acacaaaatt atccataccc aggaaaaacc acataagtgt aaccagtgcg\n",
      "     1741 gcaaagcctt caatcgcagc tccacgctca atacgcacat ccgcatccac gcgggctaca\n",
      "     1801 agcccttcgt ctgcgagttt tgcggcaagg gctttcacca aaaagggaac tacaagaacc\n",
      "     1861 acaagctcac acacagcggc gagaagcagt acaaatgcac tatctgtaac aaggccttcc\n",
      "     1921 accaggtgta caatctgacc ttccacatgc acacccacaa cgacaagaag cccttcacat\n",
      "     1981 gcgccacttg cggcaaaggt ttttgcagaa actttgactt aaagaaacat gtgcgcaaac\n",
      "     2041 ttcatgacag cgtgggtccc accgccaccc cctcagcaaa gggcctagcc aggacagttc\n",
      "     2101 agagctgaga gctactgcct tgtcctttct tcctgccctg taccaacccg agcagatccc\n",
      "     2161 acgtataaac ttatttctaa aattaaaagg aaaaaaacta tagcagagag gctaaaatct\n",
      "     2221 atttatcgaa accagcatat ttttgggaaa tgtaaacgtg tcctcgatga ccggcagcaa\n",
      "     2281 acgcgtggct cccacctttg tacattcagg aaacgtattt aaatccagtg cgctgaaaca\n",
      "     2341 tgtttaattc caggcctcgg cttctcctca ggcagccggc ttttaatccc agcctgtcac\n",
      "     2401 catgagcgcc cagaagaacg tgatgccccc agccgtcttc acacaacctt gtaatctctc\n",
      "     2461 ctgtacaagc gaacacggaa tattacacat atatgactca ataaacagaa\n",
      "//\n",
      "\n",
      "\n"
     ]
    }
   ],
   "source": [
    "# Output sequence information \n",
    "print(handle.read())"
   ]
  },
  {
   "cell_type": "code",
   "execution_count": 67,
   "id": "juvenile-framing",
   "metadata": {
    "execution": {
     "iopub.execute_input": "2021-04-28T19:24:32.807549Z",
     "iopub.status.busy": "2021-04-28T19:24:32.807390Z",
     "iopub.status.idle": "2021-04-28T19:24:32.811083Z",
     "shell.execute_reply": "2021-04-28T19:24:32.810438Z",
     "shell.execute_reply.started": "2021-04-28T19:24:32.807532Z"
    },
    "tags": []
   },
   "outputs": [
    {
     "data": {
      "text/plain": [
       "Seq('CGAGGCAGGTTCTCAGGAAGCCCTTGGAAGCCTTTCAGTTTGCCCGGGTATTCA...GAA')"
      ]
     },
     "execution_count": 67,
     "metadata": {},
     "output_type": "execute_result"
    }
   ],
   "source": [
    "seq_record.seq[:]"
   ]
  },
  {
   "cell_type": "code",
   "execution_count": 72,
   "id": "bound-killing",
   "metadata": {
    "execution": {
     "iopub.execute_input": "2021-04-28T19:27:41.934829Z",
     "iopub.status.busy": "2021-04-28T19:27:41.934660Z",
     "iopub.status.idle": "2021-04-28T19:27:41.937967Z",
     "shell.execute_reply": "2021-04-28T19:27:41.937554Z",
     "shell.execute_reply.started": "2021-04-28T19:27:41.934811Z"
    },
    "tags": []
   },
   "outputs": [
    {
     "data": {
      "text/plain": [
       "SeqFeature(FeatureLocation(ExactPosition(740), ExactPosition(2108), strand=1), type='CDS')"
      ]
     },
     "execution_count": 72,
     "metadata": {},
     "output_type": "execute_result"
    }
   ],
   "source": [
    "seq_record.features[2]"
   ]
  },
  {
   "cell_type": "code",
   "execution_count": null,
   "id": "roman-start",
   "metadata": {},
   "outputs": [],
   "source": []
  },
  {
   "cell_type": "code",
   "execution_count": null,
   "id": "compliant-eight",
   "metadata": {},
   "outputs": [],
   "source": []
  },
  {
   "cell_type": "markdown",
   "id": "weird-asian",
   "metadata": {},
   "source": [
    "## CDS "
   ]
  },
  {
   "cell_type": "code",
   "execution_count": 78,
   "id": "center-mobility",
   "metadata": {
    "execution": {
     "iopub.execute_input": "2021-04-28T20:11:41.608279Z",
     "iopub.status.busy": "2021-04-28T20:11:41.608079Z",
     "iopub.status.idle": "2021-04-28T20:11:41.611864Z",
     "shell.execute_reply": "2021-04-28T20:11:41.611326Z",
     "shell.execute_reply.started": "2021-04-28T20:11:41.608247Z"
    }
   },
   "outputs": [
    {
     "data": {
      "text/plain": [
       "[SeqFeature(FeatureLocation(ExactPosition(0), ExactPosition(2510), strand=1), type='source'),\n",
       " SeqFeature(FeatureLocation(ExactPosition(0), ExactPosition(2510), strand=1), type='gene'),\n",
       " SeqFeature(FeatureLocation(ExactPosition(740), ExactPosition(2108), strand=1), type='CDS')]"
      ]
     },
     "execution_count": 78,
     "metadata": {},
     "output_type": "execute_result"
    }
   ],
   "source": [
    "seq_record.features "
   ]
  },
  {
   "cell_type": "code",
   "execution_count": 79,
   "id": "martial-surveillance",
   "metadata": {
    "execution": {
     "iopub.execute_input": "2021-04-28T20:11:49.434270Z",
     "iopub.status.busy": "2021-04-28T20:11:49.434059Z",
     "iopub.status.idle": "2021-04-28T20:11:49.438477Z",
     "shell.execute_reply": "2021-04-28T20:11:49.437995Z",
     "shell.execute_reply.started": "2021-04-28T20:11:49.434230Z"
    },
    "tags": []
   },
   "outputs": [
    {
     "data": {
      "text/plain": [
       "SeqFeature(FeatureLocation(ExactPosition(740), ExactPosition(2108), strand=1), type='CDS')"
      ]
     },
     "execution_count": 79,
     "metadata": {},
     "output_type": "execute_result"
    }
   ],
   "source": [
    "seq_record.features[2]"
   ]
  },
  {
   "cell_type": "code",
   "execution_count": 83,
   "id": "crucial-tuner",
   "metadata": {
    "execution": {
     "iopub.execute_input": "2021-04-28T20:12:15.267700Z",
     "iopub.status.busy": "2021-04-28T20:12:15.267447Z",
     "iopub.status.idle": "2021-04-28T20:12:15.271134Z",
     "shell.execute_reply": "2021-04-28T20:12:15.270504Z",
     "shell.execute_reply.started": "2021-04-28T20:12:15.267671Z"
    },
    "tags": []
   },
   "outputs": [],
   "source": [
    "cdsStart = seq_record.features[2].location._start.position \n",
    "cdsStop = seq_record.features[2].location._end.position "
   ]
  },
  {
   "cell_type": "code",
   "execution_count": 89,
   "id": "valid-pricing",
   "metadata": {
    "execution": {
     "iopub.execute_input": "2021-04-28T20:17:04.027269Z",
     "iopub.status.busy": "2021-04-28T20:17:04.027106Z",
     "iopub.status.idle": "2021-04-28T20:17:04.030173Z",
     "shell.execute_reply": "2021-04-28T20:17:04.029491Z",
     "shell.execute_reply.started": "2021-04-28T20:17:04.027251Z"
    },
    "tags": []
   },
   "outputs": [],
   "source": [
    "feature_cds = SeqFeature(FeatureLocation(cdsStart, cdsStop), type = \"exon\", strand=1)"
   ]
  },
  {
   "cell_type": "code",
   "execution_count": 90,
   "id": "present-serve",
   "metadata": {
    "execution": {
     "iopub.execute_input": "2021-04-28T20:17:07.286879Z",
     "iopub.status.busy": "2021-04-28T20:17:07.286708Z",
     "iopub.status.idle": "2021-04-28T20:17:07.290026Z",
     "shell.execute_reply": "2021-04-28T20:17:07.289455Z",
     "shell.execute_reply.started": "2021-04-28T20:17:07.286861Z"
    },
    "tags": []
   },
   "outputs": [
    {
     "name": "stdout",
     "output_type": "stream",
     "text": [
      "ATGGCCAGCTCAGCTTCCCTGGAGACCATGGTGCCCCCGGCCTGCCCGCGCGCTGGAGCGTCACCGGCCACTTCGAAAACACTAGCTTTCTCCATCGAGCGCATCATGGCCAAGACGTCCGAGCCCCGAGCGCCTTTTGAGCCCCGGCCTGCTGCGCTAGAGGCAGACAGCAGCCAGAGCAAGAAACTGCTCAACCTCTGCTCGCCGCTGCCCTGTATGATCCCCCTCCAGCCTCTAGGCTACGAGGTGCCGTCCAAGACACTGCTCAGTTACTCGGAGTTCTGGAAAAGCAGCCTCCGGGCGGGCGGCGGTGGAGGAGGAGGCAGCGGCGGGGGGGGCCCAGTGTGCGGCGCCAGTGGCTTGTGCAAAACCAACTGTGGCGTGTGCTGCAAGGCCGAACTGGGCCTTGCGCCTTCTGCGCTGCCCGCCGGCAGGGTCATCAAGCCGCAGGTCATCAACCAGGCTGTGGGGCTGCCGGCCAGCGGCTCTCTCTACTACTTCAACTACCTGGACTCCACCACTTACCCACCATCGGAGCTCCTCGGAGGCCACCTTTTCCCATCTGGCCTCCTCAACGCACAGGCCCCCACTTCCCTGGCTGCTCACCCCAAGCTTTTTCTGCTGGAGAATGCCAAACTGGCCAGCCTGACTGCGGACAAGTTCCCCCACCCAGCTTCCTATCCCCATAAGGAGCGCTTGCATGCGCCGCTGGAGCAGGTGCTGAAGGAGAACTCGGCCTTGACCGCTGAACGAGGGGGAGTCAAGAGCCACAGCAAACTACCGGGGGGCTCTACTGACAGCAAACCCAAAAACTTCACCTGCGAAGTGTGCGGCAAGGTGTTCAATGCTCACTATAACCTCACCCGCCACATGCCTGTCCACACCGGAGCTAGACCGTTTGTGTGCAAAGTCTGTGGCAAAGGCTTCCGCCAGGCCAGCACTCTCTGCAGACACAAAATTATCCATACCCAGGAAAAACCACATAAGTGTAACCAGTGCGGCAAAGCCTTCAATCGCAGCTCCACGCTCAATACGCACATCCGCATCCACGCGGGCTACAAGCCCTTCGTCTGCGAGTTTTGCGGCAAGGGCTTTCACCAAAAAGGGAACTACAAGAACCACAAGCTCACACACAGCGGCGAGAAGCAGTACAAATGCACTATCTGTAACAAGGCCTTCCACCAGGTGTACAATCTGACCTTCCACATGCACACCCACAACGACAAGAAGCCCTTCACATGCGCCACTTGCGGCAAAGGTTTTTGCAGAAACTTTGACTTAAAGAAACATGTGCGCAAACTTCATGACAGCGTGGGTCCCACCGCCACCCCCTCAGCAAAGGGCCTAGCCAGGACAGTTCAGAGCTGA\n"
     ]
    }
   ],
   "source": [
    "cds_seq = feature_cds.extract(seq_record.seq)\n",
    "print(cds_seq)"
   ]
  },
  {
   "cell_type": "code",
   "execution_count": 92,
   "id": "extraordinary-celtic",
   "metadata": {
    "execution": {
     "iopub.execute_input": "2021-04-28T20:17:13.735509Z",
     "iopub.status.busy": "2021-04-28T20:17:13.735321Z",
     "iopub.status.idle": "2021-04-28T20:17:13.739381Z",
     "shell.execute_reply": "2021-04-28T20:17:13.738686Z",
     "shell.execute_reply.started": "2021-04-28T20:17:13.735490Z"
    },
    "tags": []
   },
   "outputs": [
    {
     "data": {
      "text/plain": [
       "1368"
      ]
     },
     "execution_count": 92,
     "metadata": {},
     "output_type": "execute_result"
    }
   ],
   "source": [
    "len(cds_seq)"
   ]
  },
  {
   "cell_type": "code",
   "execution_count": null,
   "id": "portable-fever",
   "metadata": {},
   "outputs": [],
   "source": []
  },
  {
   "cell_type": "code",
   "execution_count": null,
   "id": "mental-greenhouse",
   "metadata": {},
   "outputs": [],
   "source": []
  },
  {
   "cell_type": "markdown",
   "id": "chicken-mount",
   "metadata": {},
   "source": [
    "## Gene Info"
   ]
  },
  {
   "cell_type": "code",
   "execution_count": 107,
   "id": "induced-hamilton",
   "metadata": {
    "execution": {
     "iopub.execute_input": "2021-04-28T20:30:01.695326Z",
     "iopub.status.busy": "2021-04-28T20:30:01.695160Z",
     "iopub.status.idle": "2021-04-28T20:30:01.698370Z",
     "shell.execute_reply": "2021-04-28T20:30:01.697763Z",
     "shell.execute_reply.started": "2021-04-28T20:30:01.695307Z"
    },
    "tags": []
   },
   "outputs": [],
   "source": [
    "geneName = 'Fezf2'\n",
    "species = 'rat'\n",
    "searchTerm = geneName + ' [GENE] AND ' + species + ' [ORGN]'"
   ]
  },
  {
   "cell_type": "code",
   "execution_count": 108,
   "id": "hired-emerald",
   "metadata": {
    "execution": {
     "iopub.execute_input": "2021-04-28T20:30:03.063226Z",
     "iopub.status.busy": "2021-04-28T20:30:03.063059Z",
     "iopub.status.idle": "2021-04-28T20:30:10.202496Z",
     "shell.execute_reply": "2021-04-28T20:30:10.202054Z",
     "shell.execute_reply.started": "2021-04-28T20:30:03.063208Z"
    },
    "tags": []
   },
   "outputs": [],
   "source": [
    "searchOutput = Entrez.esearch(db=\"nucleotide\", retmax=10, term=searchTerm, idtype=\"acc\")\n",
    "geneInfo = Entrez.read(searchOutput)\n",
    "searchOutput.close()"
   ]
  },
  {
   "cell_type": "code",
   "execution_count": 109,
   "id": "functional-crazy",
   "metadata": {
    "execution": {
     "iopub.execute_input": "2021-04-28T20:30:10.203426Z",
     "iopub.status.busy": "2021-04-28T20:30:10.203259Z",
     "iopub.status.idle": "2021-04-28T20:30:10.207345Z",
     "shell.execute_reply": "2021-04-28T20:30:10.206842Z",
     "shell.execute_reply.started": "2021-04-28T20:30:10.203408Z"
    },
    "tags": []
   },
   "outputs": [
    {
     "data": {
      "text/plain": [
       "{'Count': '7', 'RetMax': '7', 'RetStart': '0', 'IdList': ['NM_001107251.1', 'XM_039093243.1', 'XM_039093242.1', 'NC_051350.1', 'XM_032918124.1', 'NC_046165.1', 'BC168214.1'], 'TranslationSet': [{'From': 'rat[ORGN]', 'To': '\"Rattus\"[Organism] OR \"Rattus norvegicus\"[Organism]'}], 'TranslationStack': [{'Term': 'Fezf2[GENE]', 'Field': 'GENE', 'Count': '1221', 'Explode': 'N'}, {'Term': '\"Rattus\"[Organism]', 'Field': 'Organism', 'Count': '2429540', 'Explode': 'Y'}, {'Term': '\"Rattus norvegicus\"[Organism]', 'Field': 'Organism', 'Count': '2308989', 'Explode': 'Y'}, 'OR', 'GROUP', 'AND'], 'QueryTranslation': 'Fezf2[GENE] AND (\"Rattus\"[Organism] OR \"Rattus norvegicus\"[Organism])'}"
      ]
     },
     "execution_count": 109,
     "metadata": {},
     "output_type": "execute_result"
    }
   ],
   "source": [
    "geneInfo"
   ]
  },
  {
   "cell_type": "code",
   "execution_count": 110,
   "id": "alpha-gilbert",
   "metadata": {
    "execution": {
     "iopub.execute_input": "2021-04-28T20:30:14.153329Z",
     "iopub.status.busy": "2021-04-28T20:30:14.153165Z",
     "iopub.status.idle": "2021-04-28T20:30:14.157012Z",
     "shell.execute_reply": "2021-04-28T20:30:14.156484Z",
     "shell.execute_reply.started": "2021-04-28T20:30:14.153311Z"
    },
    "tags": []
   },
   "outputs": [
    {
     "data": {
      "text/plain": [
       "['NM_001107251.1', 'XM_039093243.1', 'XM_039093242.1', 'NC_051350.1', 'XM_032918124.1', 'NC_046165.1', 'BC168214.1']"
      ]
     },
     "execution_count": 110,
     "metadata": {},
     "output_type": "execute_result"
    }
   ],
   "source": [
    "geneInfo['IdList']"
   ]
  },
  {
   "cell_type": "code",
   "execution_count": 103,
   "id": "senior-tobago",
   "metadata": {
    "execution": {
     "iopub.execute_input": "2021-04-28T20:23:09.804119Z",
     "iopub.status.busy": "2021-04-28T20:23:09.803865Z",
     "iopub.status.idle": "2021-04-28T20:23:09.808082Z",
     "shell.execute_reply": "2021-04-28T20:23:09.807707Z",
     "shell.execute_reply.started": "2021-04-28T20:23:09.804092Z"
    },
    "tags": []
   },
   "outputs": [
    {
     "data": {
      "text/plain": [
       "['NM_001107251.1', 'XM_039093243.1', 'XM_039093242.1', 'NC_051350.1', 'XM_032918124.1', 'NC_046165.1', 'BC168214.1']"
      ]
     },
     "execution_count": 103,
     "metadata": {},
     "output_type": "execute_result"
    }
   ],
   "source": [
    "# Return avalible sequences \n",
    "geneInfo['IdList']"
   ]
  },
  {
   "cell_type": "code",
   "execution_count": null,
   "id": "restricted-karma",
   "metadata": {},
   "outputs": [],
   "source": []
  },
  {
   "cell_type": "code",
   "execution_count": null,
   "id": "objective-ordering",
   "metadata": {},
   "outputs": [],
   "source": []
  },
  {
   "cell_type": "code",
   "execution_count": null,
   "id": "metropolitan-martin",
   "metadata": {},
   "outputs": [],
   "source": []
  },
  {
   "cell_type": "code",
   "execution_count": null,
   "id": "broke-jonathan",
   "metadata": {},
   "outputs": [],
   "source": []
  },
  {
   "cell_type": "markdown",
   "id": "weird-cooking",
   "metadata": {},
   "source": [
    "## pyensembl "
   ]
  },
  {
   "cell_type": "code",
   "execution_count": 111,
   "id": "gothic-ideal",
   "metadata": {
    "execution": {
     "iopub.execute_input": "2021-04-28T20:41:06.025771Z",
     "iopub.status.busy": "2021-04-28T20:41:06.025520Z",
     "iopub.status.idle": "2021-04-28T20:41:06.239474Z",
     "shell.execute_reply": "2021-04-28T20:41:06.239011Z",
     "shell.execute_reply.started": "2021-04-28T20:41:06.025743Z"
    }
   },
   "outputs": [],
   "source": [
    "from pyensembl import EnsemblRelease"
   ]
  },
  {
   "cell_type": "code",
   "execution_count": 124,
   "id": "remarkable-difficulty",
   "metadata": {
    "execution": {
     "iopub.execute_input": "2021-04-28T20:53:40.225958Z",
     "iopub.status.busy": "2021-04-28T20:53:40.225740Z",
     "iopub.status.idle": "2021-04-28T20:53:51.615160Z",
     "shell.execute_reply": "2021-04-28T20:53:51.613736Z",
     "shell.execute_reply.started": "2021-04-28T20:53:40.225933Z"
    },
    "tags": []
   },
   "outputs": [
    {
     "name": "stderr",
     "output_type": "stream",
     "text": [
      "INFO:pyensembl.download_cache:Fetching /home/user1/.cache/pyensembl/Rnor_5.0/ensembl77/Rattus_norvegicus.Rnor_5.0.77.gtf.gz from URL ftp://ftp.ensembl.org/pub/release-77/gtf/rattus_norvegicus/Rattus_norvegicus.Rnor_5.0.77.gtf.gz\n",
      "INFO:datacache.download:Downloading ftp://ftp.ensembl.org/pub/release-77/gtf/rattus_norvegicus/Rattus_norvegicus.Rnor_5.0.77.gtf.gz to /home/user1/.cache/pyensembl/Rnor_5.0/ensembl77/Rattus_norvegicus.Rnor_5.0.77.gtf.gz\n",
      "INFO:pyensembl.download_cache:Fetching /home/user1/.cache/pyensembl/Rnor_5.0/ensembl77/Rattus_norvegicus.Rnor_5.0.cdna.all.fa.gz from URL ftp://ftp.ensembl.org/pub/release-77/fasta/rattus_norvegicus/cdna/Rattus_norvegicus.Rnor_5.0.cdna.all.fa.gz\n",
      "INFO:datacache.download:Downloading ftp://ftp.ensembl.org/pub/release-77/fasta/rattus_norvegicus/cdna/Rattus_norvegicus.Rnor_5.0.cdna.all.fa.gz to /home/user1/.cache/pyensembl/Rnor_5.0/ensembl77/Rattus_norvegicus.Rnor_5.0.cdna.all.fa.gz\n",
      "INFO:pyensembl.download_cache:Fetching /home/user1/.cache/pyensembl/Rnor_5.0/ensembl77/Rattus_norvegicus.Rnor_5.0.ncrna.fa.gz from URL ftp://ftp.ensembl.org/pub/release-77/fasta/rattus_norvegicus/ncrna/Rattus_norvegicus.Rnor_5.0.ncrna.fa.gz\n",
      "INFO:datacache.download:Downloading ftp://ftp.ensembl.org/pub/release-77/fasta/rattus_norvegicus/ncrna/Rattus_norvegicus.Rnor_5.0.ncrna.fa.gz to /home/user1/.cache/pyensembl/Rnor_5.0/ensembl77/Rattus_norvegicus.Rnor_5.0.ncrna.fa.gz\n",
      "INFO:pyensembl.download_cache:Fetching /home/user1/.cache/pyensembl/Rnor_5.0/ensembl77/Rattus_norvegicus.Rnor_5.0.pep.all.fa.gz from URL ftp://ftp.ensembl.org/pub/release-77/fasta/rattus_norvegicus/pep/Rattus_norvegicus.Rnor_5.0.pep.all.fa.gz\n",
      "INFO:datacache.download:Downloading ftp://ftp.ensembl.org/pub/release-77/fasta/rattus_norvegicus/pep/Rattus_norvegicus.Rnor_5.0.pep.all.fa.gz to /home/user1/.cache/pyensembl/Rnor_5.0/ensembl77/Rattus_norvegicus.Rnor_5.0.pep.all.fa.gz\n"
     ]
    }
   ],
   "source": [
    "data = EnsemblRelease(77, species = 'rat')\n",
    "data.download()"
   ]
  },
  {
   "cell_type": "code",
   "execution_count": 125,
   "id": "dental-alliance",
   "metadata": {
    "execution": {
     "iopub.execute_input": "2021-04-28T20:54:19.041218Z",
     "iopub.status.busy": "2021-04-28T20:54:19.041054Z",
     "iopub.status.idle": "2021-04-28T20:54:37.502342Z",
     "shell.execute_reply": "2021-04-28T20:54:37.501807Z",
     "shell.execute_reply.started": "2021-04-28T20:54:19.041201Z"
    },
    "scrolled": true,
    "tags": []
   },
   "outputs": [
    {
     "name": "stderr",
     "output_type": "stream",
     "text": [
      "INFO:pyensembl.database:Creating database: /home/user1/.cache/pyensembl/Rnor_5.0/ensembl77/Rattus_norvegicus.Rnor_5.0.77.gtf.db\n",
      "INFO:pyensembl.database:Reading GTF from /home/user1/.cache/pyensembl/Rnor_5.0/ensembl77/Rattus_norvegicus.Rnor_5.0.77.gtf.gz\n",
      "INFO:root:Extracted GTF attributes: ['gene_id', 'gene_version', 'gene_name', 'gene_biotype', 'transcript_id', 'transcript_version', 'transcript_name', 'transcript_biotype', 'exon_number', 'exon_id', 'exon_version', 'protein_id', 'protein_version']\n",
      "INFO:pyensembl.database:Skipping database index for {ccds_id}\n",
      "INFO:datacache.database_helpers:Creating database /home/user1/.cache/pyensembl/Rnor_5.0/ensembl77/Rattus_norvegicus.Rnor_5.0.77.gtf.db containing: transcript, stop_codon, CDS, gene, exon, start_codon\n",
      "INFO:datacache.database:Running sqlite query: \"CREATE TABLE transcript (gene_version TEXT NOT NULL, strand TEXT NOT NULL, transcript_id TEXT UNIQUE PRIMARY KEY NOT NULL, start INT NOT NULL, transcript_version TEXT NOT NULL, source TEXT NOT NULL, transcript_name TEXT NOT NULL, gene_name TEXT NOT NULL, feature TEXT NOT NULL, exon_id TEXT NOT NULL, protein_id TEXT NOT NULL, seqname TEXT NOT NULL, protein_version TEXT NOT NULL, end INT NOT NULL, exon_number TEXT NOT NULL, gene_biotype TEXT NOT NULL, gene_id TEXT NOT NULL, exon_version TEXT NOT NULL, transcript_biotype TEXT NOT NULL)\"\n",
      "INFO:datacache.database:Inserting 30404 rows into table transcript\n",
      "INFO:datacache.database:Creating index on transcript (seqname, start, end)\n",
      "INFO:datacache.database:Creating index on transcript (gene_name)\n",
      "INFO:datacache.database:Creating index on transcript (gene_id)\n",
      "INFO:datacache.database:Creating index on transcript (transcript_name)\n",
      "INFO:datacache.database:Creating index on transcript (exon_id)\n",
      "INFO:datacache.database:Creating index on transcript (protein_id)\n",
      "INFO:datacache.database:Running sqlite query: \"CREATE TABLE stop_codon (gene_version TEXT NOT NULL, strand TEXT NOT NULL, transcript_id TEXT NOT NULL, start INT NOT NULL, transcript_version TEXT NOT NULL, source TEXT NOT NULL, transcript_name TEXT NOT NULL, gene_name TEXT NOT NULL, feature TEXT NOT NULL, exon_id TEXT NOT NULL, protein_id TEXT NOT NULL, seqname TEXT NOT NULL, protein_version TEXT NOT NULL, end INT NOT NULL, exon_number TEXT NOT NULL, gene_biotype TEXT NOT NULL, gene_id TEXT NOT NULL, exon_version TEXT NOT NULL, transcript_biotype TEXT NOT NULL)\"\n",
      "INFO:datacache.database:Inserting 22848 rows into table stop_codon\n",
      "INFO:datacache.database:Creating index on stop_codon (seqname, start, end)\n",
      "INFO:datacache.database:Creating index on stop_codon (gene_name)\n",
      "INFO:datacache.database:Creating index on stop_codon (gene_id)\n",
      "INFO:datacache.database:Creating index on stop_codon (transcript_id)\n",
      "INFO:datacache.database:Creating index on stop_codon (transcript_name)\n",
      "INFO:datacache.database:Creating index on stop_codon (exon_id)\n",
      "INFO:datacache.database:Creating index on stop_codon (protein_id)\n",
      "INFO:datacache.database:Running sqlite query: \"CREATE TABLE CDS (gene_version TEXT NOT NULL, strand TEXT NOT NULL, transcript_id TEXT NOT NULL, start INT NOT NULL, transcript_version TEXT NOT NULL, source TEXT NOT NULL, transcript_name TEXT NOT NULL, gene_name TEXT NOT NULL, feature TEXT NOT NULL, exon_id TEXT NOT NULL, protein_id TEXT NOT NULL, seqname TEXT NOT NULL, protein_version TEXT NOT NULL, end INT NOT NULL, exon_number TEXT NOT NULL, gene_biotype TEXT NOT NULL, gene_id TEXT NOT NULL, exon_version TEXT NOT NULL, transcript_biotype TEXT NOT NULL)\"\n",
      "INFO:datacache.database:Inserting 236264 rows into table CDS\n",
      "INFO:datacache.database:Creating index on CDS (seqname, start, end)\n",
      "INFO:datacache.database:Creating index on CDS (gene_name)\n",
      "INFO:datacache.database:Creating index on CDS (gene_id)\n",
      "INFO:datacache.database:Creating index on CDS (transcript_id)\n",
      "INFO:datacache.database:Creating index on CDS (transcript_name)\n",
      "INFO:datacache.database:Creating index on CDS (exon_id)\n",
      "INFO:datacache.database:Creating index on CDS (protein_id)\n",
      "INFO:datacache.database:Running sqlite query: \"CREATE TABLE gene (gene_version TEXT NOT NULL, strand TEXT NOT NULL, transcript_id TEXT NOT NULL, start INT NOT NULL, transcript_version TEXT NOT NULL, source TEXT NOT NULL, transcript_name TEXT NOT NULL, gene_name TEXT NOT NULL, feature TEXT NOT NULL, exon_id TEXT NOT NULL, protein_id TEXT NOT NULL, seqname TEXT NOT NULL, protein_version TEXT NOT NULL, end INT NOT NULL, exon_number TEXT NOT NULL, gene_biotype TEXT NOT NULL, gene_id TEXT UNIQUE PRIMARY KEY NOT NULL, exon_version TEXT NOT NULL, transcript_biotype TEXT NOT NULL)\"\n",
      "INFO:datacache.database:Inserting 26689 rows into table gene\n",
      "INFO:datacache.database:Creating index on gene (seqname, start, end)\n",
      "INFO:datacache.database:Creating index on gene (gene_name)\n",
      "INFO:datacache.database:Creating index on gene (transcript_id)\n",
      "INFO:datacache.database:Creating index on gene (transcript_name)\n",
      "INFO:datacache.database:Creating index on gene (exon_id)\n",
      "INFO:datacache.database:Creating index on gene (protein_id)\n",
      "INFO:datacache.database:Running sqlite query: \"CREATE TABLE exon (gene_version TEXT NOT NULL, strand TEXT NOT NULL, transcript_id TEXT NOT NULL, start INT NOT NULL, transcript_version TEXT NOT NULL, source TEXT NOT NULL, transcript_name TEXT NOT NULL, gene_name TEXT NOT NULL, feature TEXT NOT NULL, exon_id TEXT NOT NULL, protein_id TEXT NOT NULL, seqname TEXT NOT NULL, protein_version TEXT NOT NULL, end INT NOT NULL, exon_number TEXT NOT NULL, gene_biotype TEXT NOT NULL, gene_id TEXT NOT NULL, exon_version TEXT NOT NULL, transcript_biotype TEXT NOT NULL)\"\n",
      "INFO:datacache.database:Inserting 255434 rows into table exon\n",
      "INFO:datacache.database:Creating index on exon (seqname, start, end)\n",
      "INFO:datacache.database:Creating index on exon (gene_name)\n",
      "INFO:datacache.database:Creating index on exon (gene_id)\n",
      "INFO:datacache.database:Creating index on exon (transcript_id)\n",
      "INFO:datacache.database:Creating index on exon (transcript_name)\n",
      "INFO:datacache.database:Creating index on exon (exon_id)\n",
      "INFO:datacache.database:Creating index on exon (protein_id)\n",
      "INFO:datacache.database:Running sqlite query: \"CREATE TABLE start_codon (gene_version TEXT NOT NULL, strand TEXT NOT NULL, transcript_id TEXT NOT NULL, start INT NOT NULL, transcript_version TEXT NOT NULL, source TEXT NOT NULL, transcript_name TEXT NOT NULL, gene_name TEXT NOT NULL, feature TEXT NOT NULL, exon_id TEXT NOT NULL, protein_id TEXT NOT NULL, seqname TEXT NOT NULL, protein_version TEXT NOT NULL, end INT NOT NULL, exon_number TEXT NOT NULL, gene_biotype TEXT NOT NULL, gene_id TEXT NOT NULL, exon_version TEXT NOT NULL, transcript_biotype TEXT NOT NULL)\"\n",
      "INFO:datacache.database:Inserting 22537 rows into table start_codon\n",
      "INFO:datacache.database:Creating index on start_codon (seqname, start, end)\n",
      "INFO:datacache.database:Creating index on start_codon (gene_name)\n",
      "INFO:datacache.database:Creating index on start_codon (gene_id)\n",
      "INFO:datacache.database:Creating index on start_codon (transcript_id)\n",
      "INFO:datacache.database:Creating index on start_codon (transcript_name)\n",
      "INFO:datacache.database:Creating index on start_codon (exon_id)\n",
      "INFO:datacache.database:Creating index on start_codon (protein_id)\n",
      "INFO:datacache.database:Running sqlite query: \"CREATE TABLE _datacache_metadata (version INT)\"\n",
      "INFO:datacache.database:Running sqlite query: \"INSERT INTO _datacache_metadata VALUES (3)\"\n",
      "INFO:pyensembl.sequence_data:Parsing sequences from FASTA file at /home/user1/.cache/pyensembl/Rnor_5.0/ensembl77/Rattus_norvegicus.Rnor_5.0.cdna.all.fa.gz\n",
      "INFO:pyensembl.sequence_data:Saving sequence dictionary to /home/user1/.cache/pyensembl/Rnor_5.0/ensembl77/Rattus_norvegicus.Rnor_5.0.cdna.all.fa.gz.pickle\n",
      "INFO:pyensembl.sequence_data:Parsing sequences from FASTA file at /home/user1/.cache/pyensembl/Rnor_5.0/ensembl77/Rattus_norvegicus.Rnor_5.0.ncrna.fa.gz\n",
      "INFO:pyensembl.sequence_data:Saving sequence dictionary to /home/user1/.cache/pyensembl/Rnor_5.0/ensembl77/Rattus_norvegicus.Rnor_5.0.ncrna.fa.gz.pickle\n",
      "INFO:pyensembl.sequence_data:Parsing sequences from FASTA file at /home/user1/.cache/pyensembl/Rnor_5.0/ensembl77/Rattus_norvegicus.Rnor_5.0.pep.all.fa.gz\n",
      "INFO:pyensembl.sequence_data:Saving sequence dictionary to /home/user1/.cache/pyensembl/Rnor_5.0/ensembl77/Rattus_norvegicus.Rnor_5.0.pep.all.fa.gz.pickle\n"
     ]
    }
   ],
   "source": [
    "data.index()"
   ]
  },
  {
   "cell_type": "code",
   "execution_count": 126,
   "id": "automatic-adoption",
   "metadata": {
    "execution": {
     "iopub.execute_input": "2021-04-28T20:55:02.693836Z",
     "iopub.status.busy": "2021-04-28T20:55:02.693676Z",
     "iopub.status.idle": "2021-04-28T20:55:02.696675Z",
     "shell.execute_reply": "2021-04-28T20:55:02.695995Z",
     "shell.execute_reply.started": "2021-04-28T20:55:02.693819Z"
    }
   },
   "outputs": [],
   "source": [
    "# get all exons associated with gene name \n",
    "exon_ids  = data.exon_ids_of_gene_name('Fezf2')"
   ]
  },
  {
   "cell_type": "code",
   "execution_count": 127,
   "id": "covered-intelligence",
   "metadata": {
    "execution": {
     "iopub.execute_input": "2021-04-28T20:55:05.927000Z",
     "iopub.status.busy": "2021-04-28T20:55:05.926830Z",
     "iopub.status.idle": "2021-04-28T20:55:05.930375Z",
     "shell.execute_reply": "2021-04-28T20:55:05.929875Z",
     "shell.execute_reply.started": "2021-04-28T20:55:05.926981Z"
    }
   },
   "outputs": [
    {
     "data": {
      "text/plain": [
       "['ENSRNOE00000433687',\n",
       " 'ENSRNOE00000086637',\n",
       " 'ENSRNOE00000086900',\n",
       " 'ENSRNOE00000087167',\n",
       " 'ENSRNOE00000229690']"
      ]
     },
     "execution_count": 127,
     "metadata": {},
     "output_type": "execute_result"
    }
   ],
   "source": [
    "exon_ids"
   ]
  },
  {
   "cell_type": "code",
   "execution_count": 200,
   "id": "apart-marathon",
   "metadata": {
    "execution": {
     "iopub.execute_input": "2021-04-28T23:48:35.732892Z",
     "iopub.status.busy": "2021-04-28T23:48:35.732730Z",
     "iopub.status.idle": "2021-04-28T23:48:35.735216Z",
     "shell.execute_reply": "2021-04-28T23:48:35.734699Z",
     "shell.execute_reply.started": "2021-04-28T23:48:35.732875Z"
    },
    "tags": []
   },
   "outputs": [],
   "source": [
    "exon_id = 'ENSRNOE00000086637'\n",
    "exonObj = data.exon_by_id(exon_id)"
   ]
  },
  {
   "cell_type": "code",
   "execution_count": 201,
   "id": "shared-rover",
   "metadata": {
    "execution": {
     "iopub.execute_input": "2021-04-28T23:48:36.157159Z",
     "iopub.status.busy": "2021-04-28T23:48:36.156992Z",
     "iopub.status.idle": "2021-04-28T23:48:36.160741Z",
     "shell.execute_reply": "2021-04-28T23:48:36.160221Z",
     "shell.execute_reply.started": "2021-04-28T23:48:36.157141Z"
    },
    "tags": []
   },
   "outputs": [
    {
     "data": {
      "text/plain": [
       "Exon(exon_id='ENSRNOE00000086637', gene_id='ENSRNOG00000009206', gene_name='Fezf2', contig='15', start=16855518, end=16856407, strand='+')"
      ]
     },
     "execution_count": 201,
     "metadata": {},
     "output_type": "execute_result"
    }
   ],
   "source": [
    "exonObj"
   ]
  },
  {
   "cell_type": "code",
   "execution_count": 202,
   "id": "executive-market",
   "metadata": {
    "execution": {
     "iopub.execute_input": "2021-04-28T23:48:39.573663Z",
     "iopub.status.busy": "2021-04-28T23:48:39.573141Z",
     "iopub.status.idle": "2021-04-28T23:48:39.579010Z",
     "shell.execute_reply": "2021-04-28T23:48:39.577740Z",
     "shell.execute_reply.started": "2021-04-28T23:48:39.573613Z"
    },
    "tags": []
   },
   "outputs": [],
   "source": [
    "exonStart = exonObj.start \n",
    "exonStop = exonObj.end"
   ]
  },
  {
   "cell_type": "code",
   "execution_count": 203,
   "id": "primary-actress",
   "metadata": {
    "execution": {
     "iopub.execute_input": "2021-04-28T23:48:40.093558Z",
     "iopub.status.busy": "2021-04-28T23:48:40.093376Z",
     "iopub.status.idle": "2021-04-28T23:48:40.096817Z",
     "shell.execute_reply": "2021-04-28T23:48:40.096352Z",
     "shell.execute_reply.started": "2021-04-28T23:48:40.093538Z"
    },
    "tags": []
   },
   "outputs": [
    {
     "data": {
      "text/plain": [
       "889"
      ]
     },
     "execution_count": 203,
     "metadata": {},
     "output_type": "execute_result"
    }
   ],
   "source": [
    "exonStop - exonStart"
   ]
  },
  {
   "cell_type": "code",
   "execution_count": 167,
   "id": "arctic-arcade",
   "metadata": {
    "execution": {
     "iopub.execute_input": "2021-04-28T21:17:52.902118Z",
     "iopub.status.busy": "2021-04-28T21:17:52.901911Z",
     "iopub.status.idle": "2021-04-28T21:17:52.906093Z",
     "shell.execute_reply": "2021-04-28T21:17:52.905548Z",
     "shell.execute_reply.started": "2021-04-28T21:17:52.902099Z"
    }
   },
   "outputs": [
    {
     "data": {
      "text/plain": [
       "Gene(gene_id='ENSRNOG00000009206', gene_name='Fezf2', biotype='protein_coding', contig='15', start=16854926, end=16858715, strand='+', genome='Rnor_5.0')"
      ]
     },
     "execution_count": 167,
     "metadata": {},
     "output_type": "execute_result"
    }
   ],
   "source": [
    "data.gene_by_id('ENSRNOG00000009206')"
   ]
  },
  {
   "cell_type": "code",
   "execution_count": null,
   "id": "strategic-convergence",
   "metadata": {},
   "outputs": [],
   "source": []
  },
  {
   "cell_type": "code",
   "execution_count": null,
   "id": "improved-poverty",
   "metadata": {},
   "outputs": [],
   "source": []
  },
  {
   "cell_type": "code",
   "execution_count": null,
   "id": "right-webmaster",
   "metadata": {},
   "outputs": [],
   "source": []
  },
  {
   "cell_type": "code",
   "execution_count": null,
   "id": "meaningful-found",
   "metadata": {},
   "outputs": [],
   "source": []
  },
  {
   "cell_type": "code",
   "execution_count": null,
   "id": "consolidated-squad",
   "metadata": {},
   "outputs": [],
   "source": []
  },
  {
   "cell_type": "code",
   "execution_count": null,
   "id": "funded-injection",
   "metadata": {},
   "outputs": [],
   "source": []
  },
  {
   "cell_type": "code",
   "execution_count": null,
   "id": "demanding-protest",
   "metadata": {},
   "outputs": [],
   "source": []
  },
  {
   "cell_type": "code",
   "execution_count": 159,
   "id": "brief-honolulu",
   "metadata": {
    "execution": {
     "iopub.execute_input": "2021-04-28T21:15:23.861351Z",
     "iopub.status.busy": "2021-04-28T21:15:23.861096Z",
     "iopub.status.idle": "2021-04-28T21:15:23.865849Z",
     "shell.execute_reply": "2021-04-28T21:15:23.865151Z",
     "shell.execute_reply.started": "2021-04-28T21:15:23.861323Z"
    }
   },
   "outputs": [
    {
     "data": {
      "text/plain": [
       "['ENSRNOT00000012452']"
      ]
     },
     "execution_count": 159,
     "metadata": {},
     "output_type": "execute_result"
    }
   ],
   "source": [
    "data.transcript_ids_of_gene_name('Fezf2')"
   ]
  },
  {
   "cell_type": "code",
   "execution_count": 169,
   "id": "excited-captain",
   "metadata": {
    "execution": {
     "iopub.execute_input": "2021-04-28T21:20:23.258773Z",
     "iopub.status.busy": "2021-04-28T21:20:23.258526Z",
     "iopub.status.idle": "2021-04-28T21:20:23.268137Z",
     "shell.execute_reply": "2021-04-28T21:20:23.267482Z",
     "shell.execute_reply.started": "2021-04-28T21:20:23.258745Z"
    },
    "tags": []
   },
   "outputs": [
    {
     "ename": "TypeError",
     "evalue": "transcript_by_id() got an unexpected keyword argument 'start'",
     "output_type": "error",
     "traceback": [
      "\u001b[0;31m---------------------------------------------------------------------------\u001b[0m",
      "\u001b[0;31mTypeError\u001b[0m                                 Traceback (most recent call last)",
      "\u001b[0;32m<ipython-input-169-1029d84b1143>\u001b[0m in \u001b[0;36m<module>\u001b[0;34m\u001b[0m\n\u001b[1;32m      1\u001b[0m \u001b[0mtranscript_id\u001b[0m \u001b[0;34m=\u001b[0m \u001b[0;34m'ENSRNOT00000012452'\u001b[0m\u001b[0;34m\u001b[0m\u001b[0;34m\u001b[0m\u001b[0m\n\u001b[0;32m----> 2\u001b[0;31m \u001b[0mtranscript\u001b[0m \u001b[0;34m=\u001b[0m \u001b[0mdata\u001b[0m\u001b[0;34m.\u001b[0m\u001b[0mtranscript_by_id\u001b[0m\u001b[0;34m(\u001b[0m\u001b[0mtranscript_id\u001b[0m\u001b[0;34m,\u001b[0m \u001b[0mstart\u001b[0m \u001b[0;34m=\u001b[0m \u001b[0mexonObj\u001b[0m\u001b[0;34m.\u001b[0m\u001b[0mstart\u001b[0m\u001b[0;34m,\u001b[0m \u001b[0mend\u001b[0m \u001b[0;34m=\u001b[0m \u001b[0mexonObj\u001b[0m\u001b[0;34m.\u001b[0m\u001b[0mend\u001b[0m\u001b[0;34m)\u001b[0m\u001b[0;34m\u001b[0m\u001b[0;34m\u001b[0m\u001b[0m\n\u001b[0m",
      "\u001b[0;31mTypeError\u001b[0m: transcript_by_id() got an unexpected keyword argument 'start'"
     ]
    }
   ],
   "source": [
    "transcript_id = 'ENSRNOT00000012452'\n",
    "transcript = data.transcript_by_id(transcript_id, start = exonObj.start, end = exonObj.end)"
   ]
  },
  {
   "cell_type": "code",
   "execution_count": 173,
   "id": "dying-registrar",
   "metadata": {
    "execution": {
     "iopub.execute_input": "2021-04-28T21:21:26.086273Z",
     "iopub.status.busy": "2021-04-28T21:21:26.085894Z",
     "iopub.status.idle": "2021-04-28T21:21:26.090230Z",
     "shell.execute_reply": "2021-04-28T21:21:26.089696Z",
     "shell.execute_reply.started": "2021-04-28T21:21:26.086242Z"
    },
    "tags": []
   },
   "outputs": [
    {
     "data": {
      "text/plain": [
       "'TAGTTGCCTCCTTTAAAGTTTGAGGGGCGGTGGCGGCGGCCGGCAGGCGCGGGGGAACGCAGGGTCCTCAACGGGAGTCGCGCCGCCGCCCATGTCATTCCACTTCAAGTGACTTCATGTGATGTCAGCTGAATGTAAAAGACAGTGATCTCACGCGGAGGGGAGGATGTTTGCCATCAAAATGTGACAGAAGAGACACGCTGCATGGCTCGGAACGCATCTCCTTGGCGGTGGGGGAAAAAGACTTAGAGGAGAGAGGCTGTGCCCTGGCCCAGCCTGGCTCAGCTTGGCGCGCCATGGCCAGCTCAGCTTCCCTGGAGACCATGGTGCCCCCGGCCTGCCCGCGCGCTGGAGCGTCACCGGCCACTTCGAAAACACTAGCTTTCTCCATCGAGCGCATCATGGCCAAGACGTCCGAGCCCCGAGCGCCTTTTGAGCCCCGGCCTGCTGCGCTAGAGGCAGACAGCAGCCAGAGCAAGAAACTGCTCAACCTCTGCTCGCCGCTGCCCTGTATGATCCCCCTCCAGCCTCTAGGCTACGAGGTGCCGTCCAAGACACTGCTCAGTTACTCGGAGTTCTGGAAAAGCAGCCTCCGGGCGGGCGGCGGTGGAGGAGGAGGCAGCGGCGGGGGGGGCCCAGTGTGCGGCGCCAGTGGCTTGTGCAAAACCAACTGTGGCGTGTGCTGCAAGGCCGAACTGGGCCTTGCGCCTTCTGCGCTGCCCGCCGGCAGGGTCATCAAGCCGCAGGTCATCAACCAGGCTGTGGGGCTGCCGGCCAGCGGCTCTCTCTACTACTTCAACTACCTGGACTCCACCACTTACCCACCATCGGAGCTCCTCGGAGGCCACCTTTTCCCATCTGGCCTCCTCAACGCACAGGCCCCCACTTCCCTGGCTGCTCACCCCAAGCTTTTTCTGCTGGAGAATGCCAAACTGGCCAGCCTGACTGCGGACAAGTTCCCCCACCCAGCTTCCTATCCCCATAAGGAGCGCTTGCATGCGCCGCTGGAGCAGGTGCTGAAGGAGAACTCGGCCTTGACCGCTGAACGAGGGGGAGTCAAGAGCCACAGCAAACTACCGGGGGGCTCTACTGACAGCAAACCCAAAAACTTCACCTGCGAAGTGTGCGGCAAGGTGTTCAATGCTCACTATAACCTCACCCGCCACATGCCTGTCCACACCGGAGCTAGACCGTTTGTGTGCAAAGTCTGTGGCAAAGGCTTCCGCCAGGCCAGCACTCTCTGCAGACACAAAATTATCCATACCCAGGAAAAACCACATAAGTGTAACCAGTGCGGCAAAGCCTTCAATCGCAGCTCCACGCTCAATACGCACATCCGCATCCACGCGGGCTACAAGCCCTTCGTCTGCGAGTTTTGCGGCAAGGGCTTTCACCAAAAAGGGAACTACAAGAACCACAAGCTCACACACAGCGGCGAGAAGCAGTACAAATGCACTATCTGTAACAAGGCCTTCCACCAGGTGTACAATCTGACCTTCCACATGCACACCCACAACGACAAGAAGCCCTTCACATGCGCCACTTGCGGCAAAGGTTTTTGCAGAAACTTTGACTTAAAGAAACATGTGCGCAAACTTCATGACAGCGTGGGTCCCACCGCCACCCCCTCAGCAAAGGGCCTAGCCAGGACAGTTCAGAGCTGAGAGCTACTGCCTTGTCCTTTCTTCCTGCCCTGTACCAACCCGAGCAGATCCCACGTATAAACTTATTTCTAAAATTAAAAGGAAAAAAACTATAGCAGAGAGGCTAAAATCTATTTATCGAAACCAGCATATTTTTGGGAAATGTAAACGTGTCCTCGATGACCGGCAGCAAACGCGTGGCTCCCACCTTTGTACATTCAGGAAACGTATTTAAATCCAGTGCGCTGAAACATGTTTAATTCCAGGCCTCGGCTTCTCCTCAGGCAGCCGGCTTTTAATCCCAGCCTGTCACCATGAGCGCCCAGAAGAACGTGATGCCCCCAGCCGTCTTCACACAACCTTGTAATCTCTCCTGTACAAGCGAACACGGAATATTACACATATATGACTCAATAAACAGAACCACTA'"
      ]
     },
     "execution_count": 173,
     "metadata": {},
     "output_type": "execute_result"
    }
   ],
   "source": [
    "transcript.sequence"
   ]
  },
  {
   "cell_type": "code",
   "execution_count": 174,
   "id": "static-inspiration",
   "metadata": {
    "execution": {
     "iopub.execute_input": "2021-04-28T21:21:31.208340Z",
     "iopub.status.busy": "2021-04-28T21:21:31.208173Z",
     "iopub.status.idle": "2021-04-28T21:21:31.211982Z",
     "shell.execute_reply": "2021-04-28T21:21:31.211441Z",
     "shell.execute_reply.started": "2021-04-28T21:21:31.208322Z"
    }
   },
   "outputs": [
    {
     "data": {
      "text/plain": [
       "Transcript(transcript_id='ENSRNOT00000012452', transcript_name='Fezf2-201', gene_id='ENSRNOG00000009206', biotype='protein_coding', contig='15', start=16854926, end=16858715, strand='+', genome='Rnor_5.0')"
      ]
     },
     "execution_count": 174,
     "metadata": {},
     "output_type": "execute_result"
    }
   ],
   "source": [
    "transcript "
   ]
  },
  {
   "cell_type": "code",
   "execution_count": null,
   "id": "interpreted-pollution",
   "metadata": {},
   "outputs": [],
   "source": []
  },
  {
   "cell_type": "code",
   "execution_count": 185,
   "id": "expected-justice",
   "metadata": {
    "execution": {
     "iopub.execute_input": "2021-04-28T21:56:13.630916Z",
     "iopub.status.busy": "2021-04-28T21:56:13.630725Z",
     "iopub.status.idle": "2021-04-28T21:56:13.633279Z",
     "shell.execute_reply": "2021-04-28T21:56:13.632847Z",
     "shell.execute_reply.started": "2021-04-28T21:56:13.630896Z"
    },
    "tags": []
   },
   "outputs": [],
   "source": [
    "transcript_start = transcript.start\n",
    "transcript_stop = transcript.end"
   ]
  },
  {
   "cell_type": "code",
   "execution_count": 189,
   "id": "animated-israeli",
   "metadata": {
    "execution": {
     "iopub.execute_input": "2021-04-28T21:59:02.506636Z",
     "iopub.status.busy": "2021-04-28T21:59:02.506014Z",
     "iopub.status.idle": "2021-04-28T21:59:02.517463Z",
     "shell.execute_reply": "2021-04-28T21:59:02.515599Z",
     "shell.execute_reply.started": "2021-04-28T21:59:02.506558Z"
    }
   },
   "outputs": [
    {
     "data": {
      "text/plain": [
       "3789"
      ]
     },
     "execution_count": 189,
     "metadata": {},
     "output_type": "execute_result"
    }
   ],
   "source": [
    "transcript_stop - transcript_start "
   ]
  },
  {
   "cell_type": "code",
   "execution_count": 194,
   "id": "amended-ministry",
   "metadata": {
    "execution": {
     "iopub.execute_input": "2021-04-28T22:00:42.767455Z",
     "iopub.status.busy": "2021-04-28T22:00:42.767107Z",
     "iopub.status.idle": "2021-04-28T22:00:42.772449Z",
     "shell.execute_reply": "2021-04-28T22:00:42.771461Z",
     "shell.execute_reply.started": "2021-04-28T22:00:42.767413Z"
    },
    "tags": []
   },
   "outputs": [],
   "source": [
    "transcript_sequence = data.transcript_sequence(transcript_id)\n",
    "transcript_cds = transcript.coding_sequence\n",
    "transcript_fiveUTR = transcript.five_prime_utr_sequence\n",
    "transcript_threeUTR = transcript.three_prime_utr_sequence\n"
   ]
  },
  {
   "cell_type": "code",
   "execution_count": 191,
   "id": "ruled-agenda",
   "metadata": {
    "execution": {
     "iopub.execute_input": "2021-04-28T21:59:39.852078Z",
     "iopub.status.busy": "2021-04-28T21:59:39.851909Z",
     "iopub.status.idle": "2021-04-28T21:59:39.855885Z",
     "shell.execute_reply": "2021-04-28T21:59:39.855292Z",
     "shell.execute_reply.started": "2021-04-28T21:59:39.852059Z"
    }
   },
   "outputs": [
    {
     "data": {
      "text/plain": [
       "2072"
      ]
     },
     "execution_count": 191,
     "metadata": {},
     "output_type": "execute_result"
    }
   ],
   "source": [
    "len(transcript_sequence)"
   ]
  },
  {
   "cell_type": "code",
   "execution_count": 193,
   "id": "signal-louis",
   "metadata": {
    "execution": {
     "iopub.execute_input": "2021-04-28T22:00:07.642870Z",
     "iopub.status.busy": "2021-04-28T22:00:07.642184Z",
     "iopub.status.idle": "2021-04-28T22:00:07.654851Z",
     "shell.execute_reply": "2021-04-28T22:00:07.652524Z",
     "shell.execute_reply.started": "2021-04-28T22:00:07.642791Z"
    }
   },
   "outputs": [
    {
     "data": {
      "text/plain": [
       "1368"
      ]
     },
     "execution_count": 193,
     "metadata": {},
     "output_type": "execute_result"
    }
   ],
   "source": [
    "len(transcript_cds)"
   ]
  },
  {
   "cell_type": "code",
   "execution_count": 195,
   "id": "above-apparatus",
   "metadata": {
    "execution": {
     "iopub.execute_input": "2021-04-28T22:00:51.892705Z",
     "iopub.status.busy": "2021-04-28T22:00:51.892536Z",
     "iopub.status.idle": "2021-04-28T22:00:51.896332Z",
     "shell.execute_reply": "2021-04-28T22:00:51.895834Z",
     "shell.execute_reply.started": "2021-04-28T22:00:51.892686Z"
    }
   },
   "outputs": [
    {
     "data": {
      "text/plain": [
       "296"
      ]
     },
     "execution_count": 195,
     "metadata": {},
     "output_type": "execute_result"
    }
   ],
   "source": [
    "len(transcript_fiveUTR)"
   ]
  },
  {
   "cell_type": "code",
   "execution_count": 196,
   "id": "ancient-reggae",
   "metadata": {
    "execution": {
     "iopub.execute_input": "2021-04-28T22:00:59.554156Z",
     "iopub.status.busy": "2021-04-28T22:00:59.553494Z",
     "iopub.status.idle": "2021-04-28T22:00:59.565429Z",
     "shell.execute_reply": "2021-04-28T22:00:59.563797Z",
     "shell.execute_reply.started": "2021-04-28T22:00:59.554078Z"
    }
   },
   "outputs": [
    {
     "data": {
      "text/plain": [
       "408"
      ]
     },
     "execution_count": 196,
     "metadata": {},
     "output_type": "execute_result"
    }
   ],
   "source": [
    "len(transcript_threeUTR)"
   ]
  },
  {
   "cell_type": "code",
   "execution_count": null,
   "id": "preliminary-playlist",
   "metadata": {},
   "outputs": [],
   "source": []
  },
  {
   "cell_type": "code",
   "execution_count": 175,
   "id": "empirical-mexico",
   "metadata": {
    "execution": {
     "iopub.execute_input": "2021-04-28T21:22:24.602411Z",
     "iopub.status.busy": "2021-04-28T21:22:24.602120Z",
     "iopub.status.idle": "2021-04-28T21:22:24.607968Z",
     "shell.execute_reply": "2021-04-28T21:22:24.607337Z",
     "shell.execute_reply.started": "2021-04-28T21:22:24.602376Z"
    }
   },
   "outputs": [
    {
     "data": {
      "text/plain": [
       "[16855571, 16855572, 16855573]"
      ]
     },
     "execution_count": 175,
     "metadata": {},
     "output_type": "execute_result"
    }
   ],
   "source": [
    "transcript.start_codon_positions "
   ]
  },
  {
   "cell_type": "code",
   "execution_count": 177,
   "id": "functioning-casino",
   "metadata": {
    "execution": {
     "iopub.execute_input": "2021-04-28T21:23:27.340619Z",
     "iopub.status.busy": "2021-04-28T21:23:27.340368Z",
     "iopub.status.idle": "2021-04-28T21:23:27.345059Z",
     "shell.execute_reply": "2021-04-28T21:23:27.344409Z",
     "shell.execute_reply.started": "2021-04-28T21:23:27.340590Z"
    },
    "tags": []
   },
   "outputs": [
    {
     "data": {
      "text/plain": [
       "[16858305, 16858306, 16858307]"
      ]
     },
     "execution_count": 177,
     "metadata": {},
     "output_type": "execute_result"
    }
   ],
   "source": [
    "transcript.stop_codon_positions"
   ]
  },
  {
   "cell_type": "code",
   "execution_count": 178,
   "id": "strange-teddy",
   "metadata": {
    "execution": {
     "iopub.execute_input": "2021-04-28T21:24:28.616367Z",
     "iopub.status.busy": "2021-04-28T21:24:28.616207Z",
     "iopub.status.idle": "2021-04-28T21:24:28.619929Z",
     "shell.execute_reply": "2021-04-28T21:24:28.619338Z",
     "shell.execute_reply.started": "2021-04-28T21:24:28.616349Z"
    }
   },
   "outputs": [
    {
     "data": {
      "text/plain": [
       "'TAGTTGCCTCCTTTAAAGTTTGAGGGGCGGTGGCGGCGGCCGGCAGGCGCGGGGGAACGCAGGGTCCTCAACGGGAGTCGCGCCGCCGCCCATGTCATTCCACTTCAAGTGACTTCATGTGATGTCAGCTGAATGTAAAAGACAGTGATCTCACGCGGAGGGGAGGATGTTTGCCATCAAAATGTGACAGAAGAGACACGCTGCATGGCTCGGAACGCATCTCCTTGGCGGTGGGGGAAAAAGACTTAGAGGAGAGAGGCTGTGCCCTGGCCCAGCCTGGCTCAGCTTGGCGCGCCATGGCCAGCTCAGCTTCCCTGGAGACCATGGTGCCCCCGGCCTGCCCGCGCGCTGGAGCGTCACCGGCCACTTCGAAAACACTAGCTTTCTCCATCGAGCGCATCATGGCCAAGACGTCCGAGCCCCGAGCGCCTTTTGAGCCCCGGCCTGCTGCGCTAGAGGCAGACAGCAGCCAGAGCAAGAAACTGCTCAACCTCTGCTCGCCGCTGCCCTGTATGATCCCCCTCCAGCCTCTAGGCTACGAGGTGCCGTCCAAGACACTGCTCAGTTACTCGGAGTTCTGGAAAAGCAGCCTCCGGGCGGGCGGCGGTGGAGGAGGAGGCAGCGGCGGGGGGGGCCCAGTGTGCGGCGCCAGTGGCTTGTGCAAAACCAACTGTGGCGTGTGCTGCAAGGCCGAACTGGGCCTTGCGCCTTCTGCGCTGCCCGCCGGCAGGGTCATCAAGCCGCAGGTCATCAACCAGGCTGTGGGGCTGCCGGCCAGCGGCTCTCTCTACTACTTCAACTACCTGGACTCCACCACTTACCCACCATCGGAGCTCCTCGGAGGCCACCTTTTCCCATCTGGCCTCCTCAACGCACAGGCCCCCACTTCCCTGGCTGCTCACCCCAAGCTTTTTCTGCTGGAGAATGCCAAACTGGCCAGCCTGACTGCGGACAAGTTCCCCCACCCAGCTTCCTATCCCCATAAGGAGCGCTTGCATGCGCCGCTGGAGCAGGTGCTGAAGGAGAACTCGGCCTTGACCGCTGAACGAGGGGGAGTCAAGAGCCACAGCAAACTACCGGGGGGCTCTACTGACAGCAAACCCAAAAACTTCACCTGCGAAGTGTGCGGCAAGGTGTTCAATGCTCACTATAACCTCACCCGCCACATGCCTGTCCACACCGGAGCTAGACCGTTTGTGTGCAAAGTCTGTGGCAAAGGCTTCCGCCAGGCCAGCACTCTCTGCAGACACAAAATTATCCATACCCAGGAAAAACCACATAAGTGTAACCAGTGCGGCAAAGCCTTCAATCGCAGCTCCACGCTCAATACGCACATCCGCATCCACGCGGGCTACAAGCCCTTCGTCTGCGAGTTTTGCGGCAAGGGCTTTCACCAAAAAGGGAACTACAAGAACCACAAGCTCACACACAGCGGCGAGAAGCAGTACAAATGCACTATCTGTAACAAGGCCTTCCACCAGGTGTACAATCTGACCTTCCACATGCACACCCACAACGACAAGAAGCCCTTCACATGCGCCACTTGCGGCAAAGGTTTTTGCAGAAACTTTGACTTAAAGAAACATGTGCGCAAACTTCATGACAGCGTGGGTCCCACCGCCACCCCCTCAGCAAAGGGCCTAGCCAGGACAGTTCAGAGCTGAGAGCTACTGCCTTGTCCTTTCTTCCTGCCCTGTACCAACCCGAGCAGATCCCACGTATAAACTTATTTCTAAAATTAAAAGGAAAAAAACTATAGCAGAGAGGCTAAAATCTATTTATCGAAACCAGCATATTTTTGGGAAATGTAAACGTGTCCTCGATGACCGGCAGCAAACGCGTGGCTCCCACCTTTGTACATTCAGGAAACGTATTTAAATCCAGTGCGCTGAAACATGTTTAATTCCAGGCCTCGGCTTCTCCTCAGGCAGCCGGCTTTTAATCCCAGCCTGTCACCATGAGCGCCCAGAAGAACGTGATGCCCCCAGCCGTCTTCACACAACCTTGTAATCTCTCCTGTACAAGCGAACACGGAATATTACACATATATGACTCAATAAACAGAACCACTA'"
      ]
     },
     "execution_count": 178,
     "metadata": {},
     "output_type": "execute_result"
    }
   ],
   "source": [
    "data.transcript_sequence(transcript_id)"
   ]
  },
  {
   "cell_type": "code",
   "execution_count": 179,
   "id": "healthy-means",
   "metadata": {
    "execution": {
     "iopub.execute_input": "2021-04-28T21:25:40.516477Z",
     "iopub.status.busy": "2021-04-28T21:25:40.515675Z",
     "iopub.status.idle": "2021-04-28T21:25:40.530114Z",
     "shell.execute_reply": "2021-04-28T21:25:40.527355Z",
     "shell.execute_reply.started": "2021-04-28T21:25:40.516372Z"
    }
   },
   "outputs": [
    {
     "data": {
      "text/plain": [
       "'ATGGCCAGCTCAGCTTCCCTGGAGACCATGGTGCCCCCGGCCTGCCCGCGCGCTGGAGCGTCACCGGCCACTTCGAAAACACTAGCTTTCTCCATCGAGCGCATCATGGCCAAGACGTCCGAGCCCCGAGCGCCTTTTGAGCCCCGGCCTGCTGCGCTAGAGGCAGACAGCAGCCAGAGCAAGAAACTGCTCAACCTCTGCTCGCCGCTGCCCTGTATGATCCCCCTCCAGCCTCTAGGCTACGAGGTGCCGTCCAAGACACTGCTCAGTTACTCGGAGTTCTGGAAAAGCAGCCTCCGGGCGGGCGGCGGTGGAGGAGGAGGCAGCGGCGGGGGGGGCCCAGTGTGCGGCGCCAGTGGCTTGTGCAAAACCAACTGTGGCGTGTGCTGCAAGGCCGAACTGGGCCTTGCGCCTTCTGCGCTGCCCGCCGGCAGGGTCATCAAGCCGCAGGTCATCAACCAGGCTGTGGGGCTGCCGGCCAGCGGCTCTCTCTACTACTTCAACTACCTGGACTCCACCACTTACCCACCATCGGAGCTCCTCGGAGGCCACCTTTTCCCATCTGGCCTCCTCAACGCACAGGCCCCCACTTCCCTGGCTGCTCACCCCAAGCTTTTTCTGCTGGAGAATGCCAAACTGGCCAGCCTGACTGCGGACAAGTTCCCCCACCCAGCTTCCTATCCCCATAAGGAGCGCTTGCATGCGCCGCTGGAGCAGGTGCTGAAGGAGAACTCGGCCTTGACCGCTGAACGAGGGGGAGTCAAGAGCCACAGCAAACTACCGGGGGGCTCTACTGACAGCAAACCCAAAAACTTCACCTGCGAAGTGTGCGGCAAGGTGTTCAATGCTCACTATAACCTCACCCGCCACATGCCTGTCCACACCGGAGCTAGACCGTTTGTGTGCAAAGTCTGTGGCAAAGGCTTCCGCCAGGCCAGCACTCTCTGCAGACACAAAATTATCCATACCCAGGAAAAACCACATAAGTGTAACCAGTGCGGCAAAGCCTTCAATCGCAGCTCCACGCTCAATACGCACATCCGCATCCACGCGGGCTACAAGCCCTTCGTCTGCGAGTTTTGCGGCAAGGGCTTTCACCAAAAAGGGAACTACAAGAACCACAAGCTCACACACAGCGGCGAGAAGCAGTACAAATGCACTATCTGTAACAAGGCCTTCCACCAGGTGTACAATCTGACCTTCCACATGCACACCCACAACGACAAGAAGCCCTTCACATGCGCCACTTGCGGCAAAGGTTTTTGCAGAAACTTTGACTTAAAGAAACATGTGCGCAAACTTCATGACAGCGTGGGTCCCACCGCCACCCCCTCAGCAAAGGGCCTAGCCAGGACAGTTCAGAGCTGA'"
      ]
     },
     "execution_count": 179,
     "metadata": {},
     "output_type": "execute_result"
    }
   ],
   "source": [
    "transcript.coding_sequence"
   ]
  },
  {
   "cell_type": "code",
   "execution_count": 180,
   "id": "contained-excellence",
   "metadata": {
    "execution": {
     "iopub.execute_input": "2021-04-28T21:26:13.051131Z",
     "iopub.status.busy": "2021-04-28T21:26:13.050966Z",
     "iopub.status.idle": "2021-04-28T21:26:13.054612Z",
     "shell.execute_reply": "2021-04-28T21:26:13.054139Z",
     "shell.execute_reply.started": "2021-04-28T21:26:13.051113Z"
    }
   },
   "outputs": [
    {
     "data": {
      "text/plain": [
       "'TAGTTGCCTCCTTTAAAGTTTGAGGGGCGGTGGCGGCGGCCGGCAGGCGCGGGGGAACGCAGGGTCCTCAACGGGAGTCGCGCCGCCGCCCATGTCATTCCACTTCAAGTGACTTCATGTGATGTCAGCTGAATGTAAAAGACAGTGATCTCACGCGGAGGGGAGGATGTTTGCCATCAAAATGTGACAGAAGAGACACGCTGCATGGCTCGGAACGCATCTCCTTGGCGGTGGGGGAAAAAGACTTAGAGGAGAGAGGCTGTGCCCTGGCCCAGCCTGGCTCAGCTTGGCGCGCC'"
      ]
     },
     "execution_count": 180,
     "metadata": {},
     "output_type": "execute_result"
    }
   ],
   "source": [
    "transcript.five_prime_utr_sequence"
   ]
  },
  {
   "cell_type": "code",
   "execution_count": 181,
   "id": "comparable-wyoming",
   "metadata": {
    "execution": {
     "iopub.execute_input": "2021-04-28T21:26:39.090496Z",
     "iopub.status.busy": "2021-04-28T21:26:39.090296Z",
     "iopub.status.idle": "2021-04-28T21:26:39.094076Z",
     "shell.execute_reply": "2021-04-28T21:26:39.093507Z",
     "shell.execute_reply.started": "2021-04-28T21:26:39.090478Z"
    }
   },
   "outputs": [
    {
     "data": {
      "text/plain": [
       "'GAGCTACTGCCTTGTCCTTTCTTCCTGCCCTGTACCAACCCGAGCAGATCCCACGTATAAACTTATTTCTAAAATTAAAAGGAAAAAAACTATAGCAGAGAGGCTAAAATCTATTTATCGAAACCAGCATATTTTTGGGAAATGTAAACGTGTCCTCGATGACCGGCAGCAAACGCGTGGCTCCCACCTTTGTACATTCAGGAAACGTATTTAAATCCAGTGCGCTGAAACATGTTTAATTCCAGGCCTCGGCTTCTCCTCAGGCAGCCGGCTTTTAATCCCAGCCTGTCACCATGAGCGCCCAGAAGAACGTGATGCCCCCAGCCGTCTTCACACAACCTTGTAATCTCTCCTGTACAAGCGAACACGGAATATTACACATATATGACTCAATAAACAGAACCACTA'"
      ]
     },
     "execution_count": 181,
     "metadata": {},
     "output_type": "execute_result"
    }
   ],
   "source": [
    "transcript.three_prime_utr_sequence"
   ]
  },
  {
   "cell_type": "code",
   "execution_count": null,
   "id": "speaking-exposure",
   "metadata": {},
   "outputs": [],
   "source": []
  },
  {
   "cell_type": "code",
   "execution_count": null,
   "id": "false-disposition",
   "metadata": {},
   "outputs": [],
   "source": []
  },
  {
   "cell_type": "code",
   "execution_count": null,
   "id": "presidential-christmas",
   "metadata": {},
   "outputs": [],
   "source": []
  },
  {
   "cell_type": "code",
   "execution_count": null,
   "id": "comfortable-perry",
   "metadata": {},
   "outputs": [],
   "source": []
  },
  {
   "cell_type": "code",
   "execution_count": null,
   "id": "familiar-traffic",
   "metadata": {},
   "outputs": [],
   "source": []
  },
  {
   "cell_type": "markdown",
   "id": "fresh-america",
   "metadata": {},
   "source": [
    "# Testing "
   ]
  },
  {
   "cell_type": "code",
   "execution_count": null,
   "id": "outside-testing",
   "metadata": {},
   "outputs": [],
   "source": [
    "# create a sequence object\n",
    "my_seq = Seq(\"CATGTAGACTAG\")\n",
    "\n",
    "# print out some details about it\n",
    "print(\"seq %s is %i bases long\" % (my_seq, len(my_seq)))\n",
    "print(\"reverse complement is %s\" % my_seq.reverse_complement())\n",
    "print(\"protein translation is %s\" % my_seq.translate())"
   ]
  },
  {
   "cell_type": "code",
   "execution_count": null,
   "id": "worldwide-chamber",
   "metadata": {},
   "outputs": [],
   "source": [
    "# https://biopython.org/DIST/docs/tutorial/Tutorial.html#sec59\n",
    "# https://biopython.org/DIST/docs/tutorial/Tutorial.html#sec%3Aefetch\n",
    "# https://www.ncbi.nlm.nih.gov/books/NBK3837/\n",
    "Entrez.email = \"kehaliwoldemichael@gmail.com\"\n",
    "with Entrez.efetch(\n",
    "    db=\"nucleotide\", rettype=\"fasta\", retmode=\"text\", id=\"6273291\"\n",
    ") as handle:\n",
    "    seq_record = SeqIO.read(handle, \"fasta\")\n",
    "print(\"%s with %i features\" % (seq_record.id, len(seq_record.features)))"
   ]
  },
  {
   "cell_type": "code",
   "execution_count": null,
   "id": "interstate-portsmouth",
   "metadata": {
    "tags": []
   },
   "outputs": [],
   "source": [
    "# Test of fezf2 ... rat \n",
    "with Entrez.efetch(\n",
    "    db=\"nucleotide\", rettype=\"gb\", retmode=\"text\", id=\"NC_051350.1\"\n",
    ") as handle:\n",
    "    seq_record = SeqIO.read(handle, \"gb\")  # using \"gb\" as an alias for \"genbank\"\n",
    "print(\"%s with %i features\" % (seq_record.id, len(seq_record.features)))"
   ]
  },
  {
   "cell_type": "code",
   "execution_count": null,
   "id": "through-marshall",
   "metadata": {
    "tags": []
   },
   "outputs": [],
   "source": [
    "len(seq_record)"
   ]
  },
  {
   "cell_type": "code",
   "execution_count": null,
   "id": "moderate-incident",
   "metadata": {},
   "outputs": [],
   "source": []
  },
  {
   "cell_type": "code",
   "execution_count": null,
   "id": "behavioral-separate",
   "metadata": {},
   "outputs": [],
   "source": []
  },
  {
   "cell_type": "code",
   "execution_count": null,
   "id": "contemporary-powder",
   "metadata": {},
   "outputs": [],
   "source": []
  },
  {
   "cell_type": "code",
   "execution_count": null,
   "id": "current-senior",
   "metadata": {},
   "outputs": [],
   "source": []
  },
  {
   "cell_type": "code",
   "execution_count": null,
   "id": "united-render",
   "metadata": {},
   "outputs": [],
   "source": []
  },
  {
   "cell_type": "code",
   "execution_count": null,
   "id": "young-renewal",
   "metadata": {},
   "outputs": [],
   "source": []
  },
  {
   "cell_type": "code",
   "execution_count": null,
   "id": "increasing-bernard",
   "metadata": {},
   "outputs": [],
   "source": []
  },
  {
   "cell_type": "code",
   "execution_count": null,
   "id": "noticed-techno",
   "metadata": {},
   "outputs": [],
   "source": []
  },
  {
   "cell_type": "code",
   "execution_count": null,
   "id": "parliamentary-above",
   "metadata": {},
   "outputs": [],
   "source": []
  },
  {
   "cell_type": "code",
   "execution_count": null,
   "id": "traditional-bargain",
   "metadata": {},
   "outputs": [],
   "source": []
  }
 ],
 "metadata": {
  "kernelspec": {
   "display_name": "huang_CellReadR",
   "language": "python",
   "name": "huang_cellreadr"
  },
  "language_info": {
   "codemirror_mode": {
    "name": "ipython",
    "version": 3
   },
   "file_extension": ".py",
   "mimetype": "text/x-python",
   "name": "python",
   "nbconvert_exporter": "python",
   "pygments_lexer": "ipython3",
   "version": "3.9.1"
  }
 },
 "nbformat": 4,
 "nbformat_minor": 5
}
