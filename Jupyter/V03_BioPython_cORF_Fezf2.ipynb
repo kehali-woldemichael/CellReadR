{
 "cells": [
  {
   "cell_type": "markdown",
   "id": "sticky-plate",
   "metadata": {},
   "source": [
    "# Setup "
   ]
  },
  {
   "cell_type": "markdown",
   "id": "composite-sellers",
   "metadata": {},
   "source": [
    "## Import packages "
   ]
  },
  {
   "cell_type": "code",
   "execution_count": 1,
   "id": "incomplete-suspect",
   "metadata": {
    "execution": {
     "iopub.execute_input": "2021-04-30T09:48:14.632129Z",
     "iopub.status.busy": "2021-04-30T09:48:14.631910Z",
     "iopub.status.idle": "2021-04-30T09:48:14.778420Z",
     "shell.execute_reply": "2021-04-30T09:48:14.777720Z",
     "shell.execute_reply.started": "2021-04-30T09:48:14.632080Z"
    },
    "tags": []
   },
   "outputs": [],
   "source": [
    "# General \n",
    "import os \n",
    "import numpy as np\n",
    "# For running bash scripts from inside python ... \n",
    "import subprocess\n",
    "# For manipulating string objects \n",
    "import re\n",
    "# for generating any necessary directories\n",
    "import pathlib "
   ]
  },
  {
   "cell_type": "code",
   "execution_count": 2,
   "id": "juvenile-philippines",
   "metadata": {
    "execution": {
     "iopub.execute_input": "2021-04-30T09:48:14.780051Z",
     "iopub.status.busy": "2021-04-30T09:48:14.779743Z",
     "iopub.status.idle": "2021-04-30T09:48:14.814079Z",
     "shell.execute_reply": "2021-04-30T09:48:14.813544Z",
     "shell.execute_reply.started": "2021-04-30T09:48:14.780020Z"
    },
    "tags": []
   },
   "outputs": [],
   "source": [
    "# For working with sequence objects \n",
    "from Bio.Seq import Seq"
   ]
  },
  {
   "cell_type": "code",
   "execution_count": 3,
   "id": "public-shift",
   "metadata": {
    "execution": {
     "iopub.execute_input": "2021-04-30T09:48:14.815155Z",
     "iopub.status.busy": "2021-04-30T09:48:14.815000Z",
     "iopub.status.idle": "2021-04-30T09:48:14.837768Z",
     "shell.execute_reply": "2021-04-30T09:48:14.837211Z",
     "shell.execute_reply.started": "2021-04-30T09:48:14.815139Z"
    }
   },
   "outputs": [],
   "source": [
    "# For fetching sequences from Entrez \n",
    "from Bio import Entrez\n",
    "from Bio import SeqIO"
   ]
  },
  {
   "cell_type": "code",
   "execution_count": 4,
   "id": "accessory-agent",
   "metadata": {
    "execution": {
     "iopub.execute_input": "2021-04-30T09:48:14.838725Z",
     "iopub.status.busy": "2021-04-30T09:48:14.838559Z",
     "iopub.status.idle": "2021-04-30T09:48:14.844416Z",
     "shell.execute_reply": "2021-04-30T09:48:14.843773Z",
     "shell.execute_reply.started": "2021-04-30T09:48:14.838708Z"
    },
    "tags": []
   },
   "outputs": [],
   "source": [
    "# For extracting features \n",
    "from Bio.SeqFeature import SeqFeature, FeatureLocation\n",
    "# For creating SeqRecord objects \n",
    "from Bio.SeqRecord import SeqRecord"
   ]
  },
  {
   "cell_type": "markdown",
   "id": "macro-expansion",
   "metadata": {},
   "source": [
    "## Misc"
   ]
  },
  {
   "cell_type": "code",
   "execution_count": 5,
   "id": "therapeutic-plymouth",
   "metadata": {
    "execution": {
     "iopub.execute_input": "2021-04-30T09:48:14.845625Z",
     "iopub.status.busy": "2021-04-30T09:48:14.845370Z",
     "iopub.status.idle": "2021-04-30T09:48:14.867178Z",
     "shell.execute_reply": "2021-04-30T09:48:14.866573Z",
     "shell.execute_reply.started": "2021-04-30T09:48:14.845599Z"
    }
   },
   "outputs": [],
   "source": [
    "Entrez.email = \"kehaliwoldemichael@gmail.com\"  # Always tell NCBI who you are"
   ]
  },
  {
   "cell_type": "markdown",
   "id": "corporate-collaboration",
   "metadata": {},
   "source": [
    "# Functions "
   ]
  },
  {
   "cell_type": "markdown",
   "id": "satellite-egypt",
   "metadata": {},
   "source": [
    "## Sequence"
   ]
  },
  {
   "cell_type": "code",
   "execution_count": 6,
   "id": "administrative-dominant",
   "metadata": {
    "execution": {
     "iopub.execute_input": "2021-04-30T09:48:14.868027Z",
     "iopub.status.busy": "2021-04-30T09:48:14.867871Z",
     "iopub.status.idle": "2021-04-30T09:48:14.895540Z",
     "shell.execute_reply": "2021-04-30T09:48:14.894942Z",
     "shell.execute_reply.started": "2021-04-30T09:48:14.868011Z"
    },
    "tags": []
   },
   "outputs": [],
   "source": [
    "def seq_returnEntrez(sequenceID, retType):\n",
    "    with Entrez.efetch(\n",
    "        db=\"nucleotide\", rettype=retType, retmode=\"text\", id=sequenceID\n",
    "    ) as handle:\n",
    "        seqRecord = SeqIO.read(handle, \"gb\")  # using \"gb\" as an alias for \"genbank\"\n",
    "        \n",
    "    handle = Entrez.efetch(db=\"nucleotide\", id=sequenceID, rettype=retType, retmode=\"text\")\n",
    "    \n",
    "    return seqRecord, handle "
   ]
  },
  {
   "cell_type": "markdown",
   "id": "similar-bottle",
   "metadata": {},
   "source": [
    "## Metrics "
   ]
  },
  {
   "cell_type": "code",
   "execution_count": 7,
   "id": "senior-distance",
   "metadata": {
    "execution": {
     "iopub.execute_input": "2021-04-30T09:48:14.896792Z",
     "iopub.status.busy": "2021-04-30T09:48:14.896488Z",
     "iopub.status.idle": "2021-04-30T09:48:14.920984Z",
     "shell.execute_reply": "2021-04-30T09:48:14.920436Z",
     "shell.execute_reply.started": "2021-04-30T09:48:14.896762Z"
    },
    "tags": []
   },
   "outputs": [],
   "source": [
    "# Returns GC content \n",
    "def metric_gcContent(sequence):\n",
    "    return (sequence.count(\"G\") + sequence.count(\"C\"))/(len(sequence))"
   ]
  },
  {
   "cell_type": "code",
   "execution_count": null,
   "id": "advised-thriller",
   "metadata": {},
   "outputs": [],
   "source": []
  },
  {
   "cell_type": "markdown",
   "id": "willing-subsection",
   "metadata": {},
   "source": [
    "# Sequence"
   ]
  },
  {
   "cell_type": "markdown",
   "id": "preliminary-photography",
   "metadata": {},
   "source": [
    "## Loading sequences "
   ]
  },
  {
   "cell_type": "code",
   "execution_count": 8,
   "id": "threatened-footage",
   "metadata": {
    "execution": {
     "iopub.execute_input": "2021-04-30T09:48:14.923349Z",
     "iopub.status.busy": "2021-04-30T09:48:14.923066Z",
     "iopub.status.idle": "2021-04-30T09:48:14.948546Z",
     "shell.execute_reply": "2021-04-30T09:48:14.947484Z",
     "shell.execute_reply.started": "2021-04-30T09:48:14.923320Z"
    },
    "tags": []
   },
   "outputs": [
    {
     "data": {
      "text/plain": [
       "'/home/user1/Dropbox/Research/Neurobiology_PhD/Rotations/Huang/Projects/CellReadR/Code/Output/biomaRt/Reverse_Fezf2.fasta'"
      ]
     },
     "execution_count": 8,
     "metadata": {},
     "output_type": "execute_result"
    }
   ],
   "source": [
    "geneName = 'Fezf2'\n",
    "fileName = os.getcwd() + '/Output/biomaRt/Reverse_' + geneName + '.fasta'\n",
    "fileName"
   ]
  },
  {
   "cell_type": "code",
   "execution_count": 9,
   "id": "classified-prescription",
   "metadata": {
    "execution": {
     "iopub.execute_input": "2021-04-30T09:48:14.950516Z",
     "iopub.status.busy": "2021-04-30T09:48:14.950237Z",
     "iopub.status.idle": "2021-04-30T09:48:14.975322Z",
     "shell.execute_reply": "2021-04-30T09:48:14.974777Z",
     "shell.execute_reply.started": "2021-04-30T09:48:14.950489Z"
    },
    "tags": []
   },
   "outputs": [
    {
     "data": {
      "text/plain": [
       "[SeqRecord(seq=Seq('TAGTGGTTCTGTTTATTGAGTCATATATGTGTAATATTCCGTGTTCGCTTGTAC...TCC'), id='Fezf2', name='Fezf2', description='Fezf2', dbxrefs=[]),\n",
       " SeqRecord(seq=Seq('CTTTTTCCCCCACCGCCAAGGAGATGCGTTCCGAGCCATGCAGCGTGTCTCTTC...CTA'), id='Fezf2', name='Fezf2', description='Fezf2', dbxrefs=[]),\n",
       " SeqRecord(seq=Seq('CTTGCCGCACACTTCGCAGGTGAAGTTTTTGGGTTTGCTGTCAGTAGAGCCCCC...AGT'), id='Fezf2', name='Fezf2', description='Fezf2', dbxrefs=[])]"
      ]
     },
     "execution_count": 9,
     "metadata": {},
     "output_type": "execute_result"
    }
   ],
   "source": [
    "# Loading sequences for gene exons \n",
    "exon_records = list(SeqIO.parse(fileName, \"fasta\"))\n",
    "exon_records  "
   ]
  },
  {
   "cell_type": "code",
   "execution_count": 10,
   "id": "painful-council",
   "metadata": {
    "execution": {
     "iopub.execute_input": "2021-04-30T09:48:14.976082Z",
     "iopub.status.busy": "2021-04-30T09:48:14.975925Z",
     "iopub.status.idle": "2021-04-30T09:48:14.997135Z",
     "shell.execute_reply": "2021-04-30T09:48:14.996390Z",
     "shell.execute_reply.started": "2021-04-30T09:48:14.976065Z"
    },
    "tags": []
   },
   "outputs": [
    {
     "data": {
      "text/plain": [
       "890"
      ]
     },
     "execution_count": 10,
     "metadata": {},
     "output_type": "execute_result"
    }
   ],
   "source": [
    "len(exon_records[2].seq)"
   ]
  },
  {
   "cell_type": "code",
   "execution_count": 11,
   "id": "attended-socket",
   "metadata": {
    "execution": {
     "iopub.execute_input": "2021-04-30T09:48:14.998312Z",
     "iopub.status.busy": "2021-04-30T09:48:14.998002Z",
     "iopub.status.idle": "2021-04-30T09:48:15.019351Z",
     "shell.execute_reply": "2021-04-30T09:48:15.018880Z",
     "shell.execute_reply.started": "2021-04-30T09:48:14.998276Z"
    },
    "tags": []
   },
   "outputs": [],
   "source": [
    "seq_record = exon_records[2]"
   ]
  },
  {
   "cell_type": "code",
   "execution_count": 12,
   "id": "novel-white",
   "metadata": {
    "execution": {
     "iopub.execute_input": "2021-04-30T09:48:15.020105Z",
     "iopub.status.busy": "2021-04-30T09:48:15.019946Z",
     "iopub.status.idle": "2021-04-30T09:48:15.040611Z",
     "shell.execute_reply": "2021-04-30T09:48:15.039967Z",
     "shell.execute_reply.started": "2021-04-30T09:48:15.020087Z"
    },
    "tags": []
   },
   "outputs": [
    {
     "data": {
      "text/plain": [
       "0.6348314606741573"
      ]
     },
     "execution_count": 12,
     "metadata": {},
     "output_type": "execute_result"
    }
   ],
   "source": [
    "metric_gcContent(seq_record.seq)"
   ]
  },
  {
   "cell_type": "markdown",
   "id": "naked-appendix",
   "metadata": {},
   "source": [
    "## Selecting sensor "
   ]
  },
  {
   "cell_type": "code",
   "execution_count": 13,
   "id": "accessory-poster",
   "metadata": {
    "execution": {
     "iopub.execute_input": "2021-04-30T09:48:15.041840Z",
     "iopub.status.busy": "2021-04-30T09:48:15.041576Z",
     "iopub.status.idle": "2021-04-30T09:48:15.056499Z",
     "shell.execute_reply": "2021-04-30T09:48:15.055946Z",
     "shell.execute_reply.started": "2021-04-30T09:48:15.041810Z"
    },
    "tags": []
   },
   "outputs": [
    {
     "data": {
      "text/plain": [
       "SeqRecord(seq=Seq('CTTGCCGCACACTTCGCAGGTGAAGTTTTTGGGTTTGCTGTCAGTAGAGCCCCC...AGT'), id='Fezf2', name='Fezf2', description='Fezf2', dbxrefs=[])"
      ]
     },
     "execution_count": 13,
     "metadata": {},
     "output_type": "execute_result"
    }
   ],
   "source": [
    "seq_record"
   ]
  },
  {
   "cell_type": "code",
   "execution_count": 14,
   "id": "transsexual-enough",
   "metadata": {
    "execution": {
     "iopub.execute_input": "2021-04-30T09:48:15.057728Z",
     "iopub.status.busy": "2021-04-30T09:48:15.057485Z",
     "iopub.status.idle": "2021-04-30T09:48:15.079520Z",
     "shell.execute_reply": "2021-04-30T09:48:15.078625Z",
     "shell.execute_reply.started": "2021-04-30T09:48:15.057700Z"
    },
    "tags": []
   },
   "outputs": [
    {
     "data": {
      "text/plain": [
       "890"
      ]
     },
     "execution_count": 14,
     "metadata": {},
     "output_type": "execute_result"
    }
   ],
   "source": [
    "seq = seq_record.seq\n",
    "len(seq)"
   ]
  },
  {
   "cell_type": "code",
   "execution_count": 15,
   "id": "still-longer",
   "metadata": {
    "execution": {
     "iopub.execute_input": "2021-04-30T09:48:15.081108Z",
     "iopub.status.busy": "2021-04-30T09:48:15.080646Z",
     "iopub.status.idle": "2021-04-30T09:48:15.094155Z",
     "shell.execute_reply": "2021-04-30T09:48:15.093506Z",
     "shell.execute_reply.started": "2021-04-30T09:48:15.081076Z"
    },
    "tags": []
   },
   "outputs": [],
   "source": [
    "# Checks if continuous open reading frame by translating to stop ... \n",
    "def check_cORF(sequence):\n",
    "    return len(sequence.translate(to_stop=True)) == len(sequence)/3"
   ]
  },
  {
   "cell_type": "code",
   "execution_count": 16,
   "id": "funded-shield",
   "metadata": {
    "execution": {
     "iopub.execute_input": "2021-04-30T09:48:15.095474Z",
     "iopub.status.busy": "2021-04-30T09:48:15.095198Z",
     "iopub.status.idle": "2021-04-30T09:48:15.118610Z",
     "shell.execute_reply": "2021-04-30T09:48:15.117986Z",
     "shell.execute_reply.started": "2021-04-30T09:48:15.095446Z"
    },
    "tags": []
   },
   "outputs": [],
   "source": [
    "def return_inFrame(sequence):\n",
    "    # Generating list of codons in sequence \n",
    "    strSeq = str(sequence)\n",
    "    codons = [strSeq for strSeq in re.split(r'(\\w{3})', strSeq) if strSeq]\n",
    "    \n",
    "    # Number of in frame TGG and ATG \n",
    "    num_inF_TGG = codons.count('TGG')\n",
    "    num_inF_ATG = codons.count('ATG')\n",
    "    \n",
    "    # Indices of TGG and ATG \n",
    "    indicesTGG = np.array([key for key, val in enumerate(codons) if val == 'TGG'])*3\n",
    "    indicesATG = np.array([key for key, val in enumerate(codons) if val == 'ATG'])*3\n",
    "    \n",
    "    return num_inF_TGG, num_inF_ATG, indicesTGG, indicesATG"
   ]
  },
  {
   "cell_type": "code",
   "execution_count": 128,
   "id": "blind-margin",
   "metadata": {
    "execution": {
     "iopub.execute_input": "2021-04-30T10:58:04.097424Z",
     "iopub.status.busy": "2021-04-30T10:58:04.096958Z",
     "iopub.status.idle": "2021-04-30T10:58:04.110580Z",
     "shell.execute_reply": "2021-04-30T10:58:04.109816Z",
     "shell.execute_reply.started": "2021-04-30T10:58:04.097377Z"
    },
    "tags": []
   },
   "outputs": [],
   "source": [
    "def generate_sesRNA(sequence, length):\n",
    "    start = 0\n",
    "    center = length/2\n",
    "    \n",
    "    global numPass, total, numTGG  \n",
    "    numPass = 0 \n",
    "    total = 0 \n",
    "    numTGG = []\n",
    "    \n",
    "    sesSeq = []\n",
    "    startSeq = []\n",
    "    \n",
    "    while(start <= (len(sequence) - length)):\n",
    "        # Defining current sub-sequence to process \n",
    "        subsequence = sequence[start:(start+length)]\n",
    "        \n",
    "        # Genrating index of any stop codons \n",
    "        stopCodons = ['TAG', 'TAA', 'TGA']\n",
    "        indiciesStop = []\n",
    "        for codons in stopCodons:\n",
    "            indiciesStop.extend([m.start() for m in re.finditer(codons, str(subsequence))])\n",
    "        \n",
    "        # GC content \n",
    "        gcContent = metric_gcContent(subsequence)*100\n",
    "        # Index of last ATG and TGG \n",
    "        lastATG = 0 \n",
    "        if(subsequence.count('ATG') != 0):\n",
    "            lastATG = [m.start() for m in re.finditer('ATG', str(subsequence))][-1]\n",
    "        lastTGG = [m.start() for m in re.finditer('TGG', str(subsequence))][-1]\n",
    "        # Getting indicies of TGG \n",
    "        indiciesTGG = [m.start() for m in re.finditer('TGG', str(subsequence))]\n",
    "        # Generating arrays indicies for TGGs and stop codons \n",
    "        arrayStop = np.array(indiciesStop)\n",
    "        arrayIndicies = np.array(indiciesTGG) \n",
    "        centralTGGs = arrayIndicies[abs(arrayIndicies - center) < 10]\n",
    "        \n",
    "        num_inF_TGG, num_inF_ATG, indices_inF_TGG, indices_inF_ATG = return_inFrame(subsequence)\n",
    "        numATG = subsequence.count('ATG')\n",
    "        \n",
    "        # Only proceed if passed \n",
    "        # cond1 = len(indiciesStop) < 4 \n",
    "        cond1 = check_cORF(subsequence)\n",
    "        cond2 = num_inF_TGG > 2\n",
    "        cond3 = num_inF_ATG == 0 \n",
    "        \n",
    "        cond4 = gcContent > 40\n",
    "        cond5 = gcContent < 65\n",
    "        \n",
    "        # cond4 = lastATG < lastTGG \n",
    "        # Checking if TGG near center of subsequence \n",
    "        cond6 = any(abs(x - center) < 10 for x in indices_inF_TGG)\n",
    "        # Checking if any central array is more than 10 by away from stop  \n",
    "        cond7 = any((min(abs(arrayStop - i)) >= 20) for i in centralTGGs)\n",
    "        \n",
    "        if(cond1 & cond2 & cond3 & cond4 & cond5 & cond6 & cond7):\n",
    "            numPass += 1\n",
    "            numTGG.append(subsequence.count('TGG'))\n",
    "            sesSeq.append(subsequence)\n",
    "            startSeq.append(start)\n",
    "            \n",
    "        total += 1 \n",
    "        # Updating start index \n",
    "        start += 1 \n",
    "    \n",
    "    return sesSeq, startSeq"
   ]
  },
  {
   "cell_type": "code",
   "execution_count": 18,
   "id": "superior-central",
   "metadata": {
    "execution": {
     "iopub.execute_input": "2021-04-30T09:48:15.136525Z",
     "iopub.status.busy": "2021-04-30T09:48:15.136220Z",
     "iopub.status.idle": "2021-04-30T09:48:15.164702Z",
     "shell.execute_reply": "2021-04-30T09:48:15.164201Z",
     "shell.execute_reply.started": "2021-04-30T09:48:15.136490Z"
    },
    "tags": []
   },
   "outputs": [
    {
     "data": {
      "text/plain": [
       "11"
      ]
     },
     "execution_count": 18,
     "metadata": {},
     "output_type": "execute_result"
    }
   ],
   "source": [
    "seq.count('ATG')"
   ]
  },
  {
   "cell_type": "code",
   "execution_count": 129,
   "id": "gross-newsletter",
   "metadata": {
    "execution": {
     "iopub.execute_input": "2021-04-30T10:58:04.934910Z",
     "iopub.status.busy": "2021-04-30T10:58:04.934716Z",
     "iopub.status.idle": "2021-04-30T10:58:05.023505Z",
     "shell.execute_reply": "2021-04-30T10:58:05.022982Z",
     "shell.execute_reply.started": "2021-04-30T10:58:04.934891Z"
    },
    "tags": []
   },
   "outputs": [
    {
     "data": {
      "text/plain": [
       "([Seq('CTTGTCCGCAGTCAGGCTGGCCAGTTTGGCATTCTCCAGCAGAAAAAGCTTGGG...GTT'),\n",
       "  Seq('GTCCGCAGTCAGGCTGGCCAGTTTGGCATTCTCCAGCAGAAAAAGCTTGGGGTG...GAT'),\n",
       "  Seq('CGCAGTCAGGCTGGCCAGTTTGGCATTCTCCAGCAGAAAAAGCTTGGGGTGAGC...GAC')],\n",
       " [177, 180, 183])"
      ]
     },
     "execution_count": 129,
     "metadata": {},
     "output_type": "execute_result"
    }
   ],
   "source": [
    "generate_sesRNA(seq, 204)"
   ]
  },
  {
   "cell_type": "code",
   "execution_count": 20,
   "id": "suitable-magazine",
   "metadata": {
    "execution": {
     "iopub.execute_input": "2021-04-30T09:48:15.297990Z",
     "iopub.status.busy": "2021-04-30T09:48:15.297734Z",
     "iopub.status.idle": "2021-04-30T09:48:15.326607Z",
     "shell.execute_reply": "2021-04-30T09:48:15.326117Z",
     "shell.execute_reply.started": "2021-04-30T09:48:15.297964Z"
    },
    "tags": []
   },
   "outputs": [
    {
     "data": {
      "text/plain": [
       "3"
      ]
     },
     "execution_count": 20,
     "metadata": {},
     "output_type": "execute_result"
    }
   ],
   "source": [
    "len(sesRNAs)"
   ]
  },
  {
   "cell_type": "code",
   "execution_count": 132,
   "id": "convinced-richardson",
   "metadata": {
    "execution": {
     "iopub.execute_input": "2021-04-30T10:59:13.414872Z",
     "iopub.status.busy": "2021-04-30T10:59:13.414684Z",
     "iopub.status.idle": "2021-04-30T10:59:13.418487Z",
     "shell.execute_reply": "2021-04-30T10:59:13.417845Z",
     "shell.execute_reply.started": "2021-04-30T10:59:13.414854Z"
    },
    "tags": []
   },
   "outputs": [],
   "source": [
    "def generate_sesRNAs_multiExon(exon_records):\n",
    "    tempAll_sesRNAs = []\n",
    "    tempAll_startSeq = []\n",
    "    \n",
    "    for record in exon_records:\n",
    "        tempSeq = record.seq \n",
    "        temp_sesRNAs, temp_startSeq = generate_sesRNA(tempSeq, 204)\n",
    "        tempAll_sesRNAs.extend(temp_sesRNAs)\n",
    "        tempAll_startSeq.extend(temp_startSeq)\n",
    "        \n",
    "        # Printing number of passed sequences for current exon \n",
    "        print(len(temp_sesRNAs))\n",
    "    return tempAll_sesRNAs, tempAll_startSeq"
   ]
  },
  {
   "cell_type": "code",
   "execution_count": 133,
   "id": "hungarian-evening",
   "metadata": {
    "execution": {
     "iopub.execute_input": "2021-04-30T10:59:30.101419Z",
     "iopub.status.busy": "2021-04-30T10:59:30.101194Z",
     "iopub.status.idle": "2021-04-30T10:59:30.233747Z",
     "shell.execute_reply": "2021-04-30T10:59:30.233212Z",
     "shell.execute_reply.started": "2021-04-30T10:59:30.101401Z"
    },
    "tags": []
   },
   "outputs": [
    {
     "name": "stdout",
     "output_type": "stream",
     "text": [
      "0\n",
      "0\n",
      "3\n"
     ]
    }
   ],
   "source": [
    "multiExon_sesRNAs, multi_startSeq = generate_sesRNAs_multiExon(exon_records)"
   ]
  },
  {
   "cell_type": "code",
   "execution_count": 134,
   "id": "statistical-denmark",
   "metadata": {
    "execution": {
     "iopub.execute_input": "2021-04-30T10:59:34.108621Z",
     "iopub.status.busy": "2021-04-30T10:59:34.108328Z",
     "iopub.status.idle": "2021-04-30T10:59:34.112867Z",
     "shell.execute_reply": "2021-04-30T10:59:34.112313Z",
     "shell.execute_reply.started": "2021-04-30T10:59:34.108595Z"
    }
   },
   "outputs": [
    {
     "data": {
      "text/plain": [
       "[177, 180, 183]"
      ]
     },
     "execution_count": 134,
     "metadata": {},
     "output_type": "execute_result"
    }
   ],
   "source": [
    "multi_startSeq"
   ]
  },
  {
   "cell_type": "code",
   "execution_count": 120,
   "id": "pressing-complex",
   "metadata": {
    "execution": {
     "iopub.execute_input": "2021-04-30T10:29:47.434111Z",
     "iopub.status.busy": "2021-04-30T10:29:47.433922Z",
     "iopub.status.idle": "2021-04-30T10:29:47.438523Z",
     "shell.execute_reply": "2021-04-30T10:29:47.437878Z",
     "shell.execute_reply.started": "2021-04-30T10:29:47.434094Z"
    },
    "tags": []
   },
   "outputs": [
    {
     "name": "stdout",
     "output_type": "stream",
     "text": [
      "[ 99 129 132]\n",
      "3\n",
      "[ 96 126 129]\n",
      "3\n",
      "[ 93 123 126]\n",
      "3\n"
     ]
    }
   ],
   "source": [
    "for sequence in multiExon_sesRNAs:\n",
    "    num_inF_TGG, num_inF_ATG, indicesTGG, indicesATG = return_inFrame(sequence)\n",
    "    print(indicesTGG)\n",
    "    print(num_inF_TGG)"
   ]
  },
  {
   "cell_type": "code",
   "execution_count": 137,
   "id": "peripheral-vault",
   "metadata": {
    "execution": {
     "iopub.execute_input": "2021-04-30T11:21:15.655879Z",
     "iopub.status.busy": "2021-04-30T11:21:15.655567Z",
     "iopub.status.idle": "2021-04-30T11:21:15.659982Z",
     "shell.execute_reply": "2021-04-30T11:21:15.659315Z",
     "shell.execute_reply.started": "2021-04-30T11:21:15.655848Z"
    },
    "tags": []
   },
   "outputs": [
    {
     "name": "stdout",
     "output_type": "stream",
     "text": [
      "0.6078431372549019\n",
      "0.6078431372549019\n",
      "0.6078431372549019\n"
     ]
    }
   ],
   "source": [
    "for sequence in multiExon_sesRNAs:\n",
    "    print(metric_gcContent(sequence))"
   ]
  },
  {
   "cell_type": "code",
   "execution_count": 138,
   "id": "persistent-determination",
   "metadata": {
    "execution": {
     "iopub.execute_input": "2021-04-30T15:55:59.291194Z",
     "iopub.status.busy": "2021-04-30T15:55:59.290907Z",
     "iopub.status.idle": "2021-04-30T15:55:59.295678Z",
     "shell.execute_reply": "2021-04-30T15:55:59.294819Z",
     "shell.execute_reply.started": "2021-04-30T15:55:59.291167Z"
    },
    "tags": []
   },
   "outputs": [
    {
     "data": {
      "text/plain": [
       "'CTTGTCCGCAGTCAGGCTGGCCAGTTTGGCATTCTCCAGCAGAAAAAGCTTGGGGTGAGCAGCCAGGGAAGTGGGGGCCTGTGCGTTGAGGAGGCCAGATGGGAAAAGGTGGCCTCCGAGGAGCTCCGATGGTGGGTAAGTGGTGGAGTCCAGGTAGTTGAAGTAGTAGAGAGAGCCGCTGGCCGGCAGCCCCACAGCCTGGTT'"
      ]
     },
     "execution_count": 138,
     "metadata": {},
     "output_type": "execute_result"
    }
   ],
   "source": [
    "str(multiExon_sesRNAs[0])"
   ]
  },
  {
   "cell_type": "code",
   "execution_count": 125,
   "id": "alien-coordinator",
   "metadata": {
    "execution": {
     "iopub.execute_input": "2021-04-30T10:47:55.015456Z",
     "iopub.status.busy": "2021-04-30T10:47:55.015244Z",
     "iopub.status.idle": "2021-04-30T10:47:55.019446Z",
     "shell.execute_reply": "2021-04-30T10:47:55.018808Z",
     "shell.execute_reply.started": "2021-04-30T10:47:55.015436Z"
    },
    "tags": []
   },
   "outputs": [
    {
     "data": {
      "text/plain": [
       "'AACCAGGCTGTGGGGCTGCCGGCCAGCGGCTCTCTCTACTACTTCAACTACCTGGACTCCACCACTTACCCACCATCGGAGCTCCTCGGAGGCCACCTTTTCCCATCTGGCCTCCTCAACGCACAGGCCCCCACTTCCCTGGCTGCTCACCCCAAGCTTTTTCTGCTGGAGAATGCCAAACTGGCCAGCCTGACTGCGGACAAG'"
      ]
     },
     "execution_count": 125,
     "metadata": {},
     "output_type": "execute_result"
    }
   ],
   "source": [
    "str(multiExon_sesRNAs[0].reverse_complement())"
   ]
  },
  {
   "cell_type": "code",
   "execution_count": 127,
   "id": "metropolitan-trustee",
   "metadata": {
    "execution": {
     "iopub.execute_input": "2021-04-30T10:54:21.474492Z",
     "iopub.status.busy": "2021-04-30T10:54:21.474206Z",
     "iopub.status.idle": "2021-04-30T10:54:21.478860Z",
     "shell.execute_reply": "2021-04-30T10:54:21.478158Z",
     "shell.execute_reply.started": "2021-04-30T10:54:21.474465Z"
    }
   },
   "outputs": [
    {
     "data": {
      "text/plain": [
       "'ATCAACCAGGCTGTGGGGCTGCCGGCCAGCGGCTCTCTCTACTACTTCAACTACCTGGACTCCACCACTTACCCACCATCGGAGCTCCTCGGAGGCCACCTTTTCCCATCTGGCCTCCTCAACGCACAGGCCCCCACTTCCCTGGCTGCTCACCCCAAGCTTTTTCTGCTGGAGAATGCCAAACTGGCCAGCCTGACTGCGGAC'"
      ]
     },
     "execution_count": 127,
     "metadata": {},
     "output_type": "execute_result"
    }
   ],
   "source": [
    "str(multiExon_sesRNAs[1].reverse_complement())"
   ]
  },
  {
   "cell_type": "code",
   "execution_count": 126,
   "id": "regional-protest",
   "metadata": {
    "execution": {
     "iopub.execute_input": "2021-04-30T10:54:20.241398Z",
     "iopub.status.busy": "2021-04-30T10:54:20.240633Z",
     "iopub.status.idle": "2021-04-30T10:54:20.254392Z",
     "shell.execute_reply": "2021-04-30T10:54:20.252081Z",
     "shell.execute_reply.started": "2021-04-30T10:54:20.241321Z"
    }
   },
   "outputs": [
    {
     "data": {
      "text/plain": [
       "'GTCATCAACCAGGCTGTGGGGCTGCCGGCCAGCGGCTCTCTCTACTACTTCAACTACCTGGACTCCACCACTTACCCACCATCGGAGCTCCTCGGAGGCCACCTTTTCCCATCTGGCCTCCTCAACGCACAGGCCCCCACTTCCCTGGCTGCTCACCCCAAGCTTTTTCTGCTGGAGAATGCCAAACTGGCCAGCCTGACTGCG'"
      ]
     },
     "execution_count": 126,
     "metadata": {},
     "output_type": "execute_result"
    }
   ],
   "source": [
    "str(multiExon_sesRNAs[2].reverse_complement())"
   ]
  },
  {
   "cell_type": "code",
   "execution_count": null,
   "id": "afraid-accused",
   "metadata": {},
   "outputs": [],
   "source": []
  },
  {
   "cell_type": "code",
   "execution_count": 24,
   "id": "secondary-seeker",
   "metadata": {
    "execution": {
     "iopub.execute_input": "2021-04-30T09:48:15.633114Z",
     "iopub.status.busy": "2021-04-30T09:48:15.632927Z",
     "iopub.status.idle": "2021-04-30T09:48:15.638252Z",
     "shell.execute_reply": "2021-04-30T09:48:15.637595Z",
     "shell.execute_reply.started": "2021-04-30T09:48:15.633096Z"
    },
    "scrolled": true,
    "tags": []
   },
   "outputs": [
    {
     "name": "stdout",
     "output_type": "stream",
     "text": [
      "201\n",
      "204\n",
      "207\n",
      "210\n",
      "213\n",
      "216\n",
      "219\n",
      "222\n",
      "225\n",
      "228\n",
      "231\n",
      "234\n",
      "237\n",
      "240\n",
      "243\n",
      "246\n",
      "249\n",
      "252\n",
      "255\n",
      "258\n",
      "261\n",
      "264\n",
      "267\n",
      "270\n",
      "273\n",
      "276\n",
      "279\n",
      "282\n",
      "285\n",
      "288\n",
      "291\n",
      "294\n",
      "297\n"
     ]
    }
   ],
   "source": [
    "for i in range(200, 300):\n",
    "    if(i%3 == 0):\n",
    "        print(i)"
   ]
  },
  {
   "cell_type": "code",
   "execution_count": null,
   "id": "neutral-packing",
   "metadata": {},
   "outputs": [],
   "source": []
  },
  {
   "cell_type": "code",
   "execution_count": null,
   "id": "typical-local",
   "metadata": {},
   "outputs": [],
   "source": []
  },
  {
   "cell_type": "code",
   "execution_count": 25,
   "id": "figured-disposal",
   "metadata": {
    "execution": {
     "iopub.execute_input": "2021-04-30T09:48:15.639415Z",
     "iopub.status.busy": "2021-04-30T09:48:15.639158Z",
     "iopub.status.idle": "2021-04-30T09:48:15.661083Z",
     "shell.execute_reply": "2021-04-30T09:48:15.660348Z",
     "shell.execute_reply.started": "2021-04-30T09:48:15.639389Z"
    },
    "tags": []
   },
   "outputs": [
    {
     "data": {
      "text/plain": [
       "Seq('CTTGTCCGCAGTCAGGCTGGCCAGTTTGGCATTCTCCAGCAGAAAAAGCTTGGG...GTT')"
      ]
     },
     "execution_count": 25,
     "metadata": {},
     "output_type": "execute_result"
    }
   ],
   "source": [
    "testSeq = sesRNAs[0]\n",
    "testSeq"
   ]
  },
  {
   "cell_type": "code",
   "execution_count": 26,
   "id": "boxed-screening",
   "metadata": {
    "execution": {
     "iopub.execute_input": "2021-04-30T09:48:15.662447Z",
     "iopub.status.busy": "2021-04-30T09:48:15.662162Z",
     "iopub.status.idle": "2021-04-30T09:48:15.675669Z",
     "shell.execute_reply": "2021-04-30T09:48:15.675045Z",
     "shell.execute_reply.started": "2021-04-30T09:48:15.662415Z"
    },
    "tags": []
   },
   "outputs": [
    {
     "data": {
      "text/plain": [
       "'CTTGTCCGCAGTCAGGCTGGCCAGTTTGGCATTCTCCAGCAGAAAAAGCTTGGGGTGAGCAGCCAGGGAAGTGGGGGCCTGTGCGTTGAGGAGGCCAGATGGGAAAAGGTGGCCTCCGAGGAGCTCCGATGGTGGGTAAGTGGTGGAGTCCAGGTAGTTGAAGTAGTAGAGAGAGCCGCTGGCCGGCAGCCCCACAGCCTGGTT'"
      ]
     },
     "execution_count": 26,
     "metadata": {},
     "output_type": "execute_result"
    }
   ],
   "source": [
    "str(testSeq)"
   ]
  },
  {
   "cell_type": "code",
   "execution_count": 27,
   "id": "packed-housing",
   "metadata": {
    "execution": {
     "iopub.execute_input": "2021-04-30T09:48:15.676943Z",
     "iopub.status.busy": "2021-04-30T09:48:15.676678Z",
     "iopub.status.idle": "2021-04-30T09:48:15.692857Z",
     "shell.execute_reply": "2021-04-30T09:48:15.692398Z",
     "shell.execute_reply.started": "2021-04-30T09:48:15.676915Z"
    },
    "tags": []
   },
   "outputs": [
    {
     "name": "stdout",
     "output_type": "stream",
     "text": [
      "Object `split()` not found.\n"
     ]
    }
   ],
   "source": [
    "?split()"
   ]
  },
  {
   "cell_type": "code",
   "execution_count": 28,
   "id": "thorough-fiber",
   "metadata": {
    "execution": {
     "iopub.execute_input": "2021-04-30T09:48:15.693687Z",
     "iopub.status.busy": "2021-04-30T09:48:15.693523Z",
     "iopub.status.idle": "2021-04-30T09:48:15.715593Z",
     "shell.execute_reply": "2021-04-30T09:48:15.714881Z",
     "shell.execute_reply.started": "2021-04-30T09:48:15.693669Z"
    },
    "tags": []
   },
   "outputs": [],
   "source": [
    "subsequence = str(testSeq)\n",
    "codons = [subsequence for subsequence in re.split(r'(\\w{3})', subsequence) if subsequence]"
   ]
  },
  {
   "cell_type": "code",
   "execution_count": null,
   "id": "measured-clock",
   "metadata": {
    "tags": []
   },
   "outputs": [],
   "source": []
  },
  {
   "cell_type": "code",
   "execution_count": 29,
   "id": "protected-undergraduate",
   "metadata": {
    "execution": {
     "iopub.execute_input": "2021-04-30T09:48:15.717245Z",
     "iopub.status.busy": "2021-04-30T09:48:15.716884Z",
     "iopub.status.idle": "2021-04-30T09:48:15.745203Z",
     "shell.execute_reply": "2021-04-30T09:48:15.744697Z",
     "shell.execute_reply.started": "2021-04-30T09:48:15.717206Z"
    },
    "tags": []
   },
   "outputs": [],
   "source": [
    "tempSeq = Seq('GTTCTCCTTCAGCACCTGCTCCAGCGGCGCATGCAAGCGCTCCTTATGGGGATAGGAAGCTGGGTGGGGGAACTTGTCCGCAGTCAGGCTGGCCAGTTTGGCATTCTCCAGCAGAAAAAGCTTGGGGTGAGCAGCCAGGGAAGTGGGGGCCTGTGCGTTGAGGAGGCCAGATGGGAAAAGGTGGCCTCCGAGGAGCTCCGATGG')"
   ]
  },
  {
   "cell_type": "code",
   "execution_count": 30,
   "id": "informed-nutrition",
   "metadata": {
    "execution": {
     "iopub.execute_input": "2021-04-30T09:48:15.745990Z",
     "iopub.status.busy": "2021-04-30T09:48:15.745828Z",
     "iopub.status.idle": "2021-04-30T09:48:15.770261Z",
     "shell.execute_reply": "2021-04-30T09:48:15.769243Z",
     "shell.execute_reply.started": "2021-04-30T09:48:15.745973Z"
    },
    "tags": []
   },
   "outputs": [
    {
     "data": {
      "text/plain": [
       "True"
      ]
     },
     "execution_count": 30,
     "metadata": {},
     "output_type": "execute_result"
    }
   ],
   "source": [
    "check_cORF(tempSeq)"
   ]
  },
  {
   "cell_type": "code",
   "execution_count": 31,
   "id": "developing-coating",
   "metadata": {
    "execution": {
     "iopub.execute_input": "2021-04-30T09:48:15.771546Z",
     "iopub.status.busy": "2021-04-30T09:48:15.771301Z",
     "iopub.status.idle": "2021-04-30T09:48:15.784428Z",
     "shell.execute_reply": "2021-04-30T09:48:15.783722Z",
     "shell.execute_reply.started": "2021-04-30T09:48:15.771512Z"
    },
    "tags": []
   },
   "outputs": [],
   "source": [
    "coding_dna = Seq(\"ATGGCCATTGTAATGGGCCGCTGAAAGGGTGCCCGATAG\")"
   ]
  },
  {
   "cell_type": "code",
   "execution_count": 32,
   "id": "treated-confidence",
   "metadata": {
    "execution": {
     "iopub.execute_input": "2021-04-30T09:48:15.785601Z",
     "iopub.status.busy": "2021-04-30T09:48:15.785331Z",
     "iopub.status.idle": "2021-04-30T09:48:15.798001Z",
     "shell.execute_reply": "2021-04-30T09:48:15.797377Z",
     "shell.execute_reply.started": "2021-04-30T09:48:15.785574Z"
    },
    "tags": []
   },
   "outputs": [
    {
     "data": {
      "text/plain": [
       "False"
      ]
     },
     "execution_count": 32,
     "metadata": {},
     "output_type": "execute_result"
    }
   ],
   "source": [
    "check_cORF(coding_dna)"
   ]
  },
  {
   "cell_type": "code",
   "execution_count": null,
   "id": "induced-amazon",
   "metadata": {},
   "outputs": [],
   "source": []
  },
  {
   "cell_type": "code",
   "execution_count": null,
   "id": "martial-fetish",
   "metadata": {},
   "outputs": [],
   "source": []
  },
  {
   "cell_type": "markdown",
   "id": "afraid-norway",
   "metadata": {},
   "source": [
    "## Outputing sesRNA"
   ]
  },
  {
   "cell_type": "code",
   "execution_count": 79,
   "id": "viral-scratch",
   "metadata": {
    "execution": {
     "iopub.execute_input": "2021-04-30T10:07:46.114396Z",
     "iopub.status.busy": "2021-04-30T10:07:46.113613Z",
     "iopub.status.idle": "2021-04-30T10:07:46.126113Z",
     "shell.execute_reply": "2021-04-30T10:07:46.124412Z",
     "shell.execute_reply.started": "2021-04-30T10:07:46.114321Z"
    },
    "tags": []
   },
   "outputs": [],
   "source": [
    "# Generating BioPython directory if does not exist \n",
    "pathlib.Path('Output/BioPython').mkdir(parents=True, exist_ok=True)\n",
    "\n",
    "# Generate SeqRecord object for each sequence and append to list \n",
    "outputID = geneName + '_sesRNA'\n",
    "outputDescription = \"sesRNA for Fezf2\"\n",
    "outputSeqMulti = []\n",
    "for i in multiExon_sesRNAs:\n",
    "    outputSeqMulti.append(SeqRecord(i, id = outputID, description = outputDescription))\n",
    "    \n",
    "# Write output fasta files \n",
    "outputName = \"Output/BioPython/Fezf2_sesRNA_V4.fasta\"\n",
    "with open(outputName, \"w\") as output_handle:\n",
    "    SeqIO.write(outputSeqMulti, output_handle, \"fasta\")"
   ]
  },
  {
   "cell_type": "code",
   "execution_count": 80,
   "id": "identical-episode",
   "metadata": {
    "execution": {
     "iopub.execute_input": "2021-04-30T10:07:51.735315Z",
     "iopub.status.busy": "2021-04-30T10:07:51.734988Z",
     "iopub.status.idle": "2021-04-30T10:07:51.739911Z",
     "shell.execute_reply": "2021-04-30T10:07:51.739182Z",
     "shell.execute_reply.started": "2021-04-30T10:07:51.735284Z"
    },
    "tags": []
   },
   "outputs": [
    {
     "data": {
      "text/plain": [
       "3"
      ]
     },
     "execution_count": 80,
     "metadata": {},
     "output_type": "execute_result"
    }
   ],
   "source": [
    "len(multiExon_sesRNAs)"
   ]
  },
  {
   "cell_type": "code",
   "execution_count": null,
   "id": "declared-campbell",
   "metadata": {},
   "outputs": [],
   "source": []
  },
  {
   "cell_type": "code",
   "execution_count": null,
   "id": "municipal-supplement",
   "metadata": {},
   "outputs": [],
   "source": []
  },
  {
   "cell_type": "code",
   "execution_count": 35,
   "id": "hungarian-container",
   "metadata": {
    "execution": {
     "iopub.execute_input": "2021-04-30T09:48:15.855360Z",
     "iopub.status.busy": "2021-04-30T09:48:15.855136Z",
     "iopub.status.idle": "2021-04-30T09:48:15.867610Z",
     "shell.execute_reply": "2021-04-30T09:48:15.867000Z",
     "shell.execute_reply.started": "2021-04-30T09:48:15.855331Z"
    }
   },
   "outputs": [],
   "source": [
    "# Write output fasta files \n",
    "outputName = \"Output/sesRNA_test.fasta\"\n",
    "with open(outputName, \"w\") as output_handle:\n",
    "    SeqIO.write(outputSeqMulti[0], output_handle, \"fasta\")"
   ]
  },
  {
   "cell_type": "code",
   "execution_count": 36,
   "id": "hispanic-wages",
   "metadata": {
    "execution": {
     "iopub.execute_input": "2021-04-30T09:48:15.868762Z",
     "iopub.status.busy": "2021-04-30T09:48:15.868497Z",
     "iopub.status.idle": "2021-04-30T09:48:15.900626Z",
     "shell.execute_reply": "2021-04-30T09:48:15.900016Z",
     "shell.execute_reply.started": "2021-04-30T09:48:15.868733Z"
    },
    "tags": []
   },
   "outputs": [
    {
     "data": {
      "text/plain": [
       "'CTTGTCCGCAGTCAGGCTGGCCAGTTTGGCATTCTCCAGCAGAAAAAGCTTGGGGTGAGCAGCCAGGGAAGTGGGGGCCTGTGCGTTGAGGAGGCCAGATGGGAAAAGGTGGCCTCCGAGGAGCTCCGATGGTGGGTAAGTGGTGGAGTCCAGGTAGTTGAAGTAGTAGAGAGAGCCGCTGGCCGGCAGCCCCACAGCCTGGTT'"
      ]
     },
     "execution_count": 36,
     "metadata": {},
     "output_type": "execute_result"
    }
   ],
   "source": [
    "str(outputSeqMulti[0].seq)"
   ]
  },
  {
   "cell_type": "code",
   "execution_count": null,
   "id": "presidential-doubt",
   "metadata": {},
   "outputs": [],
   "source": []
  },
  {
   "cell_type": "markdown",
   "id": "exotic-prison",
   "metadata": {},
   "source": [
    "# Secondary structure "
   ]
  },
  {
   "cell_type": "code",
   "execution_count": 39,
   "id": "pending-detective",
   "metadata": {
    "execution": {
     "iopub.execute_input": "2021-04-30T09:48:15.954966Z",
     "iopub.status.busy": "2021-04-30T09:48:15.954665Z",
     "iopub.status.idle": "2021-04-30T09:48:15.972627Z",
     "shell.execute_reply": "2021-04-30T09:48:15.971973Z",
     "shell.execute_reply.started": "2021-04-30T09:48:15.954932Z"
    },
    "tags": []
   },
   "outputs": [],
   "source": [
    "# Generating Temp \n",
    "pathlib.Path('Output/BioPython/Temp').mkdir(parents=True, exist_ok=True)"
   ]
  },
  {
   "cell_type": "code",
   "execution_count": 81,
   "id": "aquatic-lyric",
   "metadata": {
    "execution": {
     "iopub.execute_input": "2021-04-30T10:07:55.103213Z",
     "iopub.status.busy": "2021-04-30T10:07:55.102570Z",
     "iopub.status.idle": "2021-04-30T10:07:55.108992Z",
     "shell.execute_reply": "2021-04-30T10:07:55.108101Z",
     "shell.execute_reply.started": "2021-04-30T10:07:55.103152Z"
    },
    "tags": []
   },
   "outputs": [],
   "source": [
    "# Converting to RNA for calculating secondary structure \n",
    "sesRNAs_RNA = []\n",
    "for i in range(len(multiExon_sesRNAs)):\n",
    "    sesRNAs_RNA.append(sesRNAs[i].transcribe())"
   ]
  },
  {
   "cell_type": "code",
   "execution_count": 82,
   "id": "offshore-poland",
   "metadata": {
    "execution": {
     "iopub.execute_input": "2021-04-30T10:07:55.544626Z",
     "iopub.status.busy": "2021-04-30T10:07:55.544330Z",
     "iopub.status.idle": "2021-04-30T10:07:55.548976Z",
     "shell.execute_reply": "2021-04-30T10:07:55.548383Z",
     "shell.execute_reply.started": "2021-04-30T10:07:55.544592Z"
    },
    "tags": []
   },
   "outputs": [
    {
     "data": {
      "text/plain": [
       "[Seq('CUUGUCCGCAGUCAGGCUGGCCAGUUUGGCAUUCUCCAGCAGAAAAAGCUUGGG...GUU'),\n",
       " Seq('GUCCGCAGUCAGGCUGGCCAGUUUGGCAUUCUCCAGCAGAAAAAGCUUGGGGUG...GAU'),\n",
       " Seq('CGCAGUCAGGCUGGCCAGUUUGGCAUUCUCCAGCAGAAAAAGCUUGGGGUGAGC...GAC')]"
      ]
     },
     "execution_count": 82,
     "metadata": {},
     "output_type": "execute_result"
    }
   ],
   "source": [
    "sesRNAs_RNA"
   ]
  },
  {
   "cell_type": "code",
   "execution_count": 84,
   "id": "affecting-velvet",
   "metadata": {
    "execution": {
     "iopub.execute_input": "2021-04-30T10:11:56.958700Z",
     "iopub.status.busy": "2021-04-30T10:11:56.958324Z",
     "iopub.status.idle": "2021-04-30T10:11:56.962957Z",
     "shell.execute_reply": "2021-04-30T10:11:56.962353Z",
     "shell.execute_reply.started": "2021-04-30T10:11:56.958664Z"
    }
   },
   "outputs": [
    {
     "data": {
      "text/plain": [
       "'CUUGUCCGCAGUCAGGCUGGCCAGUUUGGCAUUCUCCAGCAGAAAAAGCUUGGGGUGAGCAGCCAGGGAAGUGGGGGCCUGUGCGUUGAGGAGGCCAGAUGGGAAAAGGUGGCCUCCGAGGAGCUCCGAUGGUGGGUAAGUGGUGGAGUCCAGGUAGUUGAAGUAGUAGAGAGAGCCGCUGGCCGGCAGCCCCACAGCCUGGUU'"
      ]
     },
     "execution_count": 84,
     "metadata": {},
     "output_type": "execute_result"
    }
   ],
   "source": [
    "str(sesRNAs_RNA[0])"
   ]
  },
  {
   "cell_type": "code",
   "execution_count": 68,
   "id": "plain-combine",
   "metadata": {
    "execution": {
     "iopub.execute_input": "2021-04-30T10:00:24.674951Z",
     "iopub.status.busy": "2021-04-30T10:00:24.674759Z",
     "iopub.status.idle": "2021-04-30T10:00:24.679707Z",
     "shell.execute_reply": "2021-04-30T10:00:24.679022Z",
     "shell.execute_reply.started": "2021-04-30T10:00:24.674932Z"
    },
    "tags": []
   },
   "outputs": [],
   "source": [
    "# Writing sequences as seperate fasta files \n",
    "i = 1\n",
    "for sesRNA in sesRNAs_RNA:\n",
    "    outputName = geneName + '_' + str(i)\n",
    "    outputDescription = \"sesRNA #\" + str(i)\n",
    "    i += 1\n",
    "    \n",
    "    outputRecord = SeqRecord(sesRNA, id = outputName, description = outputDescription)\n",
    "    outputFull = 'Output/BioPython/Temp/' + outputName + '.fasta'\n",
    "    \n",
    "    with open(outputFull, \"w\") as output_handle:\n",
    "        SeqIO.write(outputRecord, output_handle, \"fasta\")"
   ]
  },
  {
   "cell_type": "code",
   "execution_count": 69,
   "id": "amino-frequency",
   "metadata": {
    "execution": {
     "iopub.execute_input": "2021-04-30T10:00:27.086520Z",
     "iopub.status.busy": "2021-04-30T10:00:27.086077Z",
     "iopub.status.idle": "2021-04-30T10:00:27.343987Z",
     "shell.execute_reply": "2021-04-30T10:00:27.343304Z",
     "shell.execute_reply.started": "2021-04-30T10:00:27.086476Z"
    },
    "tags": []
   },
   "outputs": [
    {
     "name": "stdout",
     "output_type": "stream",
     "text": [
      "/home/user1/Dropbox/Research/Neurobiology_PhD/Rotations/Huang/Projects/CellReadR/Code/Output/BioPython/Temp/Fezf2_2.fasta\n",
      "/home/user1/Dropbox/Research/Neurobiology_PhD/Rotations/Huang/Projects/CellReadR/Code/Output/BioPython/Temp/Fezf2_1.fasta\n",
      "/home/user1/Dropbox/Research/Neurobiology_PhD/Rotations/Huang/Projects/CellReadR/Code/Output/BioPython/Temp/Fezf2_3.fasta\n"
     ]
    }
   ],
   "source": [
    "# Call RNAfold on each sequence of output \n",
    "rnaFold_prob = []\n",
    "pathTemp = '/home/user1/Dropbox/Research/Neurobiology_PhD/Rotations/Huang/Projects/CellReadR/Code/Output/BioPython/Temp'\n",
    "pathOutTemp = pathTemp + '/temp.out'\n",
    "\n",
    "for entry in os.scandir(pathTemp):\n",
    "    command = 'RNAfold -p -d2 --noLP < ' + entry.path + ' > ' + pathOutTemp    \n",
    "    generateProb = subprocess.run(command, shell=True, stdout=subprocess.PIPE)\n",
    "\n",
    "    # Moving to Temp directory to work on fasta files \n",
    "    currentWD = os.getcwd()\n",
    "    os.chdir('Output/BioPython/Temp')\n",
    "    \n",
    "    # Running script for getting probabilities from RNAfold output file (added to ArchBin btw)\n",
    "    readProb = subprocess.Popen(\"rnaFold_prob.sh\", shell=True, stdout=subprocess.PIPE)\n",
    "    returnedProb = readProb.stdout.read()\n",
    "    # Waiting for last command to finish before storing value in temp.out file \n",
    "    readProb.wait()\n",
    "    rnaFold_prob.append(float(returnedProb))\n",
    "    \n",
    "    # For checking which file currently working on (not in order for some reason) \n",
    "    print(entry.path)\n",
    "    \n",
    "    # Removing temp.out after finishing each run \n",
    "    os.system('rm -rf temp.out')\n",
    "    # Return to initial working directory \n",
    "    os.chdir(currentWD)"
   ]
  },
  {
   "cell_type": "code",
   "execution_count": 83,
   "id": "sapphire-management",
   "metadata": {
    "execution": {
     "iopub.execute_input": "2021-04-30T10:09:13.506241Z",
     "iopub.status.busy": "2021-04-30T10:09:13.506051Z",
     "iopub.status.idle": "2021-04-30T10:09:13.509693Z",
     "shell.execute_reply": "2021-04-30T10:09:13.509242Z",
     "shell.execute_reply.started": "2021-04-30T10:09:13.506223Z"
    },
    "tags": []
   },
   "outputs": [
    {
     "data": {
      "text/plain": [
       "array([0.529741, 0.198473, 0.516524])"
      ]
     },
     "execution_count": 83,
     "metadata": {},
     "output_type": "execute_result"
    }
   ],
   "source": [
    "# Displaying ensemble frequency for secondary structures \n",
    "np.array(rnaFold_prob)*100"
   ]
  },
  {
   "cell_type": "code",
   "execution_count": null,
   "id": "unauthorized-russell",
   "metadata": {},
   "outputs": [],
   "source": []
  },
  {
   "cell_type": "code",
   "execution_count": null,
   "id": "attended-cinema",
   "metadata": {},
   "outputs": [],
   "source": []
  },
  {
   "cell_type": "code",
   "execution_count": null,
   "id": "running-designer",
   "metadata": {},
   "outputs": [],
   "source": [
    "from seqfold import dg, dg_cache, fold"
   ]
  },
  {
   "cell_type": "code",
   "execution_count": null,
   "id": "improved-washer",
   "metadata": {
    "tags": []
   },
   "outputs": [],
   "source": [
    "# just returns minimum free energy\n",
    "dg(\"GGGAGGTCGTTACATCTGGGTAACACCGGTACTGATCCGGTGACCTCCC\", temp = 37.0)  # -12.94"
   ]
  },
  {
   "cell_type": "markdown",
   "id": "nonprofit-gilbert",
   "metadata": {},
   "source": [
    "# Misc"
   ]
  },
  {
   "cell_type": "code",
   "execution_count": null,
   "id": "smart-distributor",
   "metadata": {
    "tags": []
   },
   "outputs": [],
   "source": [
    "# For returning index of findings \n",
    "searchCodon = 'TAG'\n",
    "[m.start() for m in re.finditer(searchCodon, str(seq))]"
   ]
  },
  {
   "cell_type": "code",
   "execution_count": null,
   "id": "royal-election",
   "metadata": {
    "tags": []
   },
   "outputs": [],
   "source": [
    "testSeq = sesRNAs[0]\n",
    "testSeq"
   ]
  },
  {
   "cell_type": "code",
   "execution_count": null,
   "id": "ahead-greek",
   "metadata": {
    "tags": []
   },
   "outputs": [],
   "source": [
    "lastATG = [m.start() for m in re.finditer('ATG', str(testSeq))][-1]\n",
    "lastTGG = [m.start() for m in re.finditer('TGG', str(testSeq))][-1]"
   ]
  },
  {
   "cell_type": "code",
   "execution_count": null,
   "id": "saved-sleep",
   "metadata": {
    "tags": []
   },
   "outputs": [],
   "source": [
    "lastTGG"
   ]
  },
  {
   "cell_type": "code",
   "execution_count": null,
   "id": "developmental-surgeon",
   "metadata": {
    "tags": []
   },
   "outputs": [],
   "source": [
    "lastATG"
   ]
  },
  {
   "cell_type": "code",
   "execution_count": null,
   "id": "selected-chocolate",
   "metadata": {},
   "outputs": [],
   "source": [
    "lastATG < lastTGG"
   ]
  },
  {
   "cell_type": "code",
   "execution_count": null,
   "id": "organized-plant",
   "metadata": {
    "tags": []
   },
   "outputs": [],
   "source": [
    "searchCodon = 'ATG'\n",
    "[m.start() for m in re.finditer(searchCodon, str(testSeq))][-1]"
   ]
  },
  {
   "cell_type": "code",
   "execution_count": null,
   "id": "incorrect-smooth",
   "metadata": {
    "tags": []
   },
   "outputs": [],
   "source": [
    "seq.count('TAG') < 4"
   ]
  },
  {
   "cell_type": "code",
   "execution_count": null,
   "id": "mediterranean-yesterday",
   "metadata": {
    "tags": []
   },
   "outputs": [],
   "source": [
    "seq[0:100].count('TAG')"
   ]
  },
  {
   "cell_type": "code",
   "execution_count": null,
   "id": "collective-fiction",
   "metadata": {},
   "outputs": [],
   "source": []
  },
  {
   "cell_type": "code",
   "execution_count": null,
   "id": "alone-booth",
   "metadata": {},
   "outputs": [],
   "source": [
    "stopCodons = ['TAG', 'TAA', 'TGA']\n",
    "stopCodons "
   ]
  },
  {
   "cell_type": "code",
   "execution_count": null,
   "id": "pending-elimination",
   "metadata": {},
   "outputs": [],
   "source": [
    "indiciesTGG"
   ]
  },
  {
   "cell_type": "code",
   "execution_count": null,
   "id": "suited-grave",
   "metadata": {
    "tags": []
   },
   "outputs": [],
   "source": [
    "indiciesStop"
   ]
  },
  {
   "cell_type": "code",
   "execution_count": null,
   "id": "optimum-plate",
   "metadata": {
    "tags": []
   },
   "outputs": [],
   "source": [
    "length = 200 \n",
    "center = length/2"
   ]
  },
  {
   "cell_type": "code",
   "execution_count": null,
   "id": "manufactured-arrow",
   "metadata": {
    "tags": []
   },
   "outputs": [],
   "source": [
    "arrayStop = np.array(indiciesStop)\n",
    "arrayIndicies = np.array(indiciesTGG) \n",
    "centralTGGs = arrayIndicies[abs(arrayIndicies - center) < 10]"
   ]
  },
  {
   "cell_type": "code",
   "execution_count": null,
   "id": "parental-territory",
   "metadata": {
    "tags": []
   },
   "outputs": [],
   "source": [
    "centralTGGs"
   ]
  },
  {
   "cell_type": "code",
   "execution_count": null,
   "id": "local-pakistan",
   "metadata": {
    "tags": []
   },
   "outputs": [],
   "source": [
    "np.in1d(centralTGGs,arrayStop)"
   ]
  },
  {
   "cell_type": "code",
   "execution_count": null,
   "id": "accredited-investor",
   "metadata": {
    "tags": []
   },
   "outputs": [],
   "source": [
    "# Check if array contains values that are within range of values in another array \n",
    "any((min(abs(arrayStop - i)) > 10) for i in centralTGGs)"
   ]
  },
  {
   "cell_type": "code",
   "execution_count": null,
   "id": "commercial-think",
   "metadata": {},
   "outputs": [],
   "source": [
    "centralTGGs"
   ]
  },
  {
   "cell_type": "code",
   "execution_count": null,
   "id": "hazardous-health",
   "metadata": {
    "tags": []
   },
   "outputs": [],
   "source": [
    "indiciesStop"
   ]
  },
  {
   "cell_type": "code",
   "execution_count": null,
   "id": "tired-ensemble",
   "metadata": {},
   "outputs": [],
   "source": [
    "testStop = [90, 16, 174]"
   ]
  },
  {
   "cell_type": "code",
   "execution_count": null,
   "id": "centered-offering",
   "metadata": {},
   "outputs": [],
   "source": []
  },
  {
   "cell_type": "code",
   "execution_count": null,
   "id": "immune-integrity",
   "metadata": {},
   "outputs": [],
   "source": []
  },
  {
   "cell_type": "code",
   "execution_count": null,
   "id": "royal-beaver",
   "metadata": {
    "tags": []
   },
   "outputs": [],
   "source": [
    "(min(abs(arrayStop - centralTGGs[0])) > 10)"
   ]
  },
  {
   "cell_type": "code",
   "execution_count": null,
   "id": "imported-invasion",
   "metadata": {
    "tags": []
   },
   "outputs": [],
   "source": [
    "min(abs(arrayStop - centralTGGs[0])) > 10"
   ]
  },
  {
   "cell_type": "code",
   "execution_count": null,
   "id": "passive-newark",
   "metadata": {},
   "outputs": [],
   "source": []
  },
  {
   "cell_type": "code",
   "execution_count": null,
   "id": "atlantic-glossary",
   "metadata": {
    "tags": []
   },
   "outputs": [],
   "source": [
    "centeralTGGs = offset.min()\n",
    "centeralTGGs"
   ]
  },
  {
   "cell_type": "code",
   "execution_count": null,
   "id": "laden-plymouth",
   "metadata": {},
   "outputs": [],
   "source": [
    "centralTGGs = np.all(offset == offset.min())\n",
    "centralTGGs"
   ]
  },
  {
   "cell_type": "code",
   "execution_count": null,
   "id": "pursuant-moisture",
   "metadata": {
    "tags": []
   },
   "outputs": [],
   "source": [
    "centeralTGGs = np.where(offset == offset.min())\n",
    "centeralTGG"
   ]
  },
  {
   "cell_type": "code",
   "execution_count": null,
   "id": "willing-airfare",
   "metadata": {
    "tags": []
   },
   "outputs": [],
   "source": [
    "offset = abs(arrayIndicies - center) \n",
    "centerTGG = indiciesTGG[np.argmin(offset)]"
   ]
  },
  {
   "cell_type": "code",
   "execution_count": null,
   "id": "rolled-covering",
   "metadata": {
    "tags": []
   },
   "outputs": [],
   "source": [
    "any(abs(x - centerTGG) < 10 for x in indiciesStop)"
   ]
  },
  {
   "cell_type": "code",
   "execution_count": null,
   "id": "still-administration",
   "metadata": {},
   "outputs": [],
   "source": []
  },
  {
   "cell_type": "code",
   "execution_count": null,
   "id": "loving-associate",
   "metadata": {
    "tags": []
   },
   "outputs": [],
   "source": [
    "indiciesStop = []\n",
    "for codons in stopCodons:\n",
    "    indiciesStop.extend([m.start() for m in re.finditer(codons, str(testSeq))])"
   ]
  },
  {
   "cell_type": "code",
   "execution_count": null,
   "id": "artistic-period",
   "metadata": {
    "tags": []
   },
   "outputs": [],
   "source": [
    "len(indiciesStop)"
   ]
  },
  {
   "cell_type": "code",
   "execution_count": null,
   "id": "classical-developer",
   "metadata": {
    "tags": []
   },
   "outputs": [],
   "source": [
    "[m.start() for m in re.finditer('TGA', str(testSeq))]"
   ]
  },
  {
   "cell_type": "code",
   "execution_count": null,
   "id": "electoral-smart",
   "metadata": {
    "tags": []
   },
   "outputs": [],
   "source": [
    "[m.start() for m in re.finditer('TAA', str(testSeq))]"
   ]
  },
  {
   "cell_type": "code",
   "execution_count": null,
   "id": "proof-funeral",
   "metadata": {},
   "outputs": [],
   "source": [
    "[m.start() for m in re.finditer('TAG', str(testSeq))]"
   ]
  },
  {
   "cell_type": "code",
   "execution_count": null,
   "id": "double-thursday",
   "metadata": {
    "tags": []
   },
   "outputs": [],
   "source": [
    "testSeq.count(stopCodons)"
   ]
  },
  {
   "cell_type": "code",
   "execution_count": null,
   "id": "burning-affiliate",
   "metadata": {},
   "outputs": [],
   "source": [
    "indiciesTGG"
   ]
  },
  {
   "cell_type": "code",
   "execution_count": null,
   "id": "mounted-aluminum",
   "metadata": {
    "tags": []
   },
   "outputs": [],
   "source": [
    "len(indiciesTGG)"
   ]
  },
  {
   "cell_type": "code",
   "execution_count": null,
   "id": "thorough-danger",
   "metadata": {},
   "outputs": [],
   "source": []
  },
  {
   "cell_type": "code",
   "execution_count": null,
   "id": "offensive-selling",
   "metadata": {},
   "outputs": [],
   "source": []
  },
  {
   "cell_type": "code",
   "execution_count": null,
   "id": "healthy-training",
   "metadata": {
    "tags": []
   },
   "outputs": [],
   "source": [
    "testSeq = sesRNAs[0]"
   ]
  },
  {
   "cell_type": "code",
   "execution_count": null,
   "id": "theoretical-parallel",
   "metadata": {
    "tags": []
   },
   "outputs": [],
   "source": [
    "lastTGG = [m.start() for m in re.finditer('TGG', str(testSeq))][-1]"
   ]
  },
  {
   "cell_type": "code",
   "execution_count": null,
   "id": "alone-oxford",
   "metadata": {},
   "outputs": [],
   "source": [
    "testSeq"
   ]
  },
  {
   "cell_type": "code",
   "execution_count": null,
   "id": "right-moral",
   "metadata": {
    "tags": []
   },
   "outputs": [],
   "source": [
    "indiciesTGG = [m.start() for m in re.finditer('TGG', str(testSeq))]"
   ]
  },
  {
   "cell_type": "code",
   "execution_count": null,
   "id": "current-prophet",
   "metadata": {
    "tags": []
   },
   "outputs": [],
   "source": [
    "start = 0 \n",
    "stop = 200"
   ]
  },
  {
   "cell_type": "code",
   "execution_count": null,
   "id": "generic-citation",
   "metadata": {
    "tags": []
   },
   "outputs": [],
   "source": [
    "middle = (start + stop) / 2"
   ]
  },
  {
   "cell_type": "code",
   "execution_count": null,
   "id": "anonymous-groove",
   "metadata": {
    "tags": []
   },
   "outputs": [],
   "source": [
    "abs(middle - indiciesTGG[0])"
   ]
  },
  {
   "cell_type": "code",
   "execution_count": null,
   "id": "theoretical-humanity",
   "metadata": {},
   "outputs": [],
   "source": [
    "type(indiciesTGG)"
   ]
  },
  {
   "cell_type": "code",
   "execution_count": null,
   "id": "active-charge",
   "metadata": {},
   "outputs": [],
   "source": [
    "indiciesTGG"
   ]
  },
  {
   "cell_type": "code",
   "execution_count": null,
   "id": "expired-paint",
   "metadata": {},
   "outputs": [],
   "source": [
    "any(indiciesTGG) > 2"
   ]
  },
  {
   "cell_type": "code",
   "execution_count": null,
   "id": "hollywood-earthquake",
   "metadata": {},
   "outputs": [],
   "source": [
    "length = 200 "
   ]
  },
  {
   "cell_type": "code",
   "execution_count": null,
   "id": "solid-console",
   "metadata": {
    "tags": []
   },
   "outputs": [],
   "source": [
    "any(abs(x - (length/2)) < 20 for x in indiciesTGG)"
   ]
  },
  {
   "cell_type": "code",
   "execution_count": null,
   "id": "involved-exemption",
   "metadata": {
    "tags": []
   },
   "outputs": [],
   "source": [
    "testList = [50, 60, 170, 200]"
   ]
  },
  {
   "cell_type": "code",
   "execution_count": null,
   "id": "focal-dress",
   "metadata": {
    "tags": []
   },
   "outputs": [],
   "source": [
    "any(abs(x - (length/2)) < 10 for x in testList)"
   ]
  },
  {
   "cell_type": "code",
   "execution_count": null,
   "id": "adolescent-syndrome",
   "metadata": {},
   "outputs": [],
   "source": []
  },
  {
   "cell_type": "code",
   "execution_count": null,
   "id": "diverse-ridge",
   "metadata": {},
   "outputs": [],
   "source": [
    "testSeq"
   ]
  },
  {
   "cell_type": "code",
   "execution_count": null,
   "id": "adapted-section",
   "metadata": {
    "tags": []
   },
   "outputs": [],
   "source": [
    "os.path.isdir('Output/BioPython')"
   ]
  },
  {
   "cell_type": "code",
   "execution_count": null,
   "id": "incredible-palmer",
   "metadata": {
    "tags": []
   },
   "outputs": [],
   "source": []
  },
  {
   "cell_type": "code",
   "execution_count": null,
   "id": "athletic-wells",
   "metadata": {},
   "outputs": [],
   "source": [
    "outputFileName = os.getcwd() + ''"
   ]
  },
  {
   "cell_type": "code",
   "execution_count": null,
   "id": "clear-cooler",
   "metadata": {},
   "outputs": [],
   "source": [
    "testSeq"
   ]
  },
  {
   "cell_type": "code",
   "execution_count": null,
   "id": "german-buddy",
   "metadata": {},
   "outputs": [],
   "source": []
  },
  {
   "cell_type": "code",
   "execution_count": null,
   "id": "promising-animal",
   "metadata": {},
   "outputs": [],
   "source": []
  }
 ],
 "metadata": {
  "kernelspec": {
   "display_name": "huang_CellReadR",
   "language": "python",
   "name": "huang_cellreadr"
  },
  "language_info": {
   "codemirror_mode": {
    "name": "ipython",
    "version": 3
   },
   "file_extension": ".py",
   "mimetype": "text/x-python",
   "name": "python",
   "nbconvert_exporter": "python",
   "pygments_lexer": "ipython3",
   "version": "3.9.1"
  }
 },
 "nbformat": 4,
 "nbformat_minor": 5
}
