{
 "cells": [
  {
   "cell_type": "code",
   "execution_count": null,
   "id": "chicken-eagle",
   "metadata": {
    "scrolled": true,
    "tags": []
   },
   "outputs": [],
   "source": [
    "library(EnsDb.Rnorvegicus.v79)"
   ]
  },
  {
   "cell_type": "code",
   "execution_count": null,
   "id": "coordinate-panic",
   "metadata": {},
   "outputs": [],
   "source": [
    "## Making a \"short cut\"\n",
    "edb <- EnsDb.Rnorvegicus.v79\n",
    "## print some informations for this package\n",
    "edb"
   ]
  },
  {
   "cell_type": "code",
   "execution_count": null,
   "id": "assisted-sound",
   "metadata": {},
   "outputs": [],
   "source": [
    "Tx <- transcripts(edb, filter = GeneNameFilter(\"Fezf2\"))\n",
    "\n",
    "Tx"
   ]
  },
  {
   "cell_type": "code",
   "execution_count": null,
   "id": "dental-tragedy",
   "metadata": {},
   "outputs": [],
   "source": []
  },
  {
   "cell_type": "code",
   "execution_count": null,
   "id": "objective-celtic",
   "metadata": {},
   "outputs": [],
   "source": [
    "listTables(edb)"
   ]
  },
  {
   "cell_type": "code",
   "execution_count": null,
   "id": "appointed-cleanup",
   "metadata": {
    "tags": []
   },
   "outputs": [],
   "source": [
    "edb$exon"
   ]
  },
  {
   "cell_type": "code",
   "execution_count": null,
   "id": "inside-disease",
   "metadata": {},
   "outputs": [],
   "source": []
  },
  {
   "cell_type": "code",
   "execution_count": null,
   "id": "ambient-mercy",
   "metadata": {},
   "outputs": [],
   "source": [
    "library(biomaRt)"
   ]
  },
  {
   "cell_type": "code",
   "execution_count": null,
   "id": "sized-wichita",
   "metadata": {},
   "outputs": [],
   "source": [
    "listMarts()"
   ]
  },
  {
   "cell_type": "code",
   "execution_count": null,
   "id": "expected-diagnosis",
   "metadata": {
    "tags": []
   },
   "outputs": [],
   "source": [
    "ensembl <- useMart(\"ensembl\")"
   ]
  },
  {
   "cell_type": "code",
   "execution_count": null,
   "id": "awful-strip",
   "metadata": {
    "tags": []
   },
   "outputs": [],
   "source": [
    "datasets <- listDatasets(ensembl)"
   ]
  },
  {
   "cell_type": "code",
   "execution_count": null,
   "id": "numeric-hungarian",
   "metadata": {},
   "outputs": [],
   "source": [
    "datasets[grep(\"Rat\", datasets$description), ]"
   ]
  },
  {
   "cell_type": "code",
   "execution_count": null,
   "id": "signal-parcel",
   "metadata": {
    "tags": []
   },
   "outputs": [],
   "source": [
    "ensembl = useDataset(\"rnorvegicus_gene_ensembl\",mart=ensembl)"
   ]
  },
  {
   "cell_type": "code",
   "execution_count": null,
   "id": "ancient-spouse",
   "metadata": {
    "scrolled": true,
    "tags": []
   },
   "outputs": [],
   "source": [
    "?getSequence"
   ]
  },
  {
   "cell_type": "code",
   "execution_count": null,
   "id": "tight-timothy",
   "metadata": {
    "scrolled": true,
    "tags": []
   },
   "outputs": [],
   "source": [
    "filters = listFilters(ensembl)\n",
    "filters"
   ]
  },
  {
   "cell_type": "code",
   "execution_count": null,
   "id": "united-destiny",
   "metadata": {
    "tags": []
   },
   "outputs": [],
   "source": [
    "filters[grep(\"splice\", filters$description), ]"
   ]
  },
  {
   "cell_type": "code",
   "execution_count": null,
   "id": "oriented-nylon",
   "metadata": {
    "tags": []
   },
   "outputs": [],
   "source": [
    "seq = getSequence(id = \"Fezf2\", \n",
    "                  type = \"wikigene_name\", \n",
    "                  seqType = \"gene_exon\", \n",
    "                  mart = ensembl)\n",
    "show(seq)"
   ]
  },
  {
   "cell_type": "code",
   "execution_count": null,
   "id": "stone-exemption",
   "metadata": {
    "tags": []
   },
   "outputs": [],
   "source": [
    "dim(seq)"
   ]
  },
  {
   "cell_type": "code",
   "execution_count": null,
   "id": "suspected-craps",
   "metadata": {
    "tags": []
   },
   "outputs": [],
   "source": [
    "seq[5, 1]"
   ]
  },
  {
   "cell_type": "code",
   "execution_count": null,
   "id": "desirable-thirty",
   "metadata": {
    "tags": []
   },
   "outputs": [],
   "source": [
    "nchar(seq[5, 1])"
   ]
  },
  {
   "cell_type": "code",
   "execution_count": null,
   "id": "affiliated-passenger",
   "metadata": {},
   "outputs": [],
   "source": []
  },
  {
   "cell_type": "code",
   "execution_count": null,
   "id": "genetic-burning",
   "metadata": {},
   "outputs": [],
   "source": []
  },
  {
   "cell_type": "code",
   "execution_count": null,
   "id": "scenic-parliament",
   "metadata": {},
   "outputs": [],
   "source": []
  },
  {
   "cell_type": "code",
   "execution_count": null,
   "id": "elegant-empire",
   "metadata": {},
   "outputs": [],
   "source": []
  },
  {
   "cell_type": "code",
   "execution_count": null,
   "id": "pleasant-nitrogen",
   "metadata": {
    "tags": []
   },
   "outputs": [],
   "source": [
    "## Example gene: MTOR; ensembl id \"ENSG00000198793\"\n",
    "mySequence <- getSequence(id=\"ENSG00000198793\",type=\"ensembl_gene_id\",\n",
    "seqType=\"gene_exon\",mart=ensembl)"
   ]
  },
  {
   "cell_type": "code",
   "execution_count": null,
   "id": "responsible-designation",
   "metadata": {},
   "outputs": [],
   "source": []
  },
  {
   "cell_type": "code",
   "execution_count": null,
   "id": "fresh-prefix",
   "metadata": {},
   "outputs": [],
   "source": []
  },
  {
   "cell_type": "code",
   "execution_count": null,
   "id": "dress-combine",
   "metadata": {},
   "outputs": [],
   "source": []
  },
  {
   "cell_type": "code",
   "execution_count": null,
   "id": "british-reply",
   "metadata": {},
   "outputs": [],
   "source": []
  }
 ],
 "metadata": {
  "kernelspec": {
   "display_name": "R",
   "language": "R",
   "name": "ir"
  },
  "language_info": {
   "codemirror_mode": "r",
   "file_extension": ".r",
   "mimetype": "text/x-r-source",
   "name": "R",
   "pygments_lexer": "r",
   "version": "4.1.0"
  }
 },
 "nbformat": 4,
 "nbformat_minor": 5
}
