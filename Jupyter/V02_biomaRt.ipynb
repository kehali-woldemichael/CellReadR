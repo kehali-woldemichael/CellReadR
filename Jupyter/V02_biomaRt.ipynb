{
 "cells": [
  {
   "cell_type": "markdown",
   "id": "statewide-audit",
   "metadata": {},
   "source": [
    "# Fetching reference genome and saving (only if not already in Ouput/biomaRt directory)"
   ]
  },
  {
   "cell_type": "code",
   "execution_count": null,
   "id": "bf843cca-60e2-4685-bc56-e610d1bbe1c2",
   "metadata": {
    "tags": []
   },
   "outputs": [],
   "source": [
    "path_functions <- '/home/user1/Dropbox/Research/Neurobiology_PhD/Rotations/Huang/Projects/CellReadR/Code/kCellReadR/functions_biomaRt.R'\n",
    "source(path_functions)"
   ]
  },
  {
   "cell_type": "code",
   "execution_count": null,
   "id": "2aa3785d-6511-416b-a9db-5d34b991da93",
   "metadata": {
    "tags": []
   },
   "outputs": [],
   "source": [
    "generate_refSeq('PlxnD1', 'Rat', 'wikigene_name')"
   ]
  },
  {
   "cell_type": "code",
   "execution_count": null,
   "id": "4ab1a3d3-17a2-4801-b625-8e18b565fad6",
   "metadata": {},
   "outputs": [],
   "source": []
  },
  {
   "cell_type": "code",
   "execution_count": null,
   "id": "0c8d924b-db6c-45c4-81c9-35dd22b6a9e3",
   "metadata": {},
   "outputs": [],
   "source": []
  },
  {
   "cell_type": "code",
   "execution_count": null,
   "id": "7e723b92-0f2c-482c-a3f7-1606f12d0ce2",
   "metadata": {},
   "outputs": [],
   "source": []
  },
  {
   "cell_type": "code",
   "execution_count": null,
   "id": "84cdedc4-2933-42b2-8cc3-29984d3259d7",
   "metadata": {},
   "outputs": [],
   "source": []
  },
  {
   "cell_type": "code",
   "execution_count": null,
   "id": "8ec0af7e-8fd0-4da1-b496-e62b549a6c4e",
   "metadata": {},
   "outputs": [],
   "source": []
  },
  {
   "cell_type": "code",
   "execution_count": null,
   "id": "d908aaf7-8e65-47b8-9378-3ac94c8bc90d",
   "metadata": {},
   "outputs": [],
   "source": []
  },
  {
   "cell_type": "code",
   "execution_count": null,
   "id": "210c9eeb-74c9-4583-a829-1deaf1516b86",
   "metadata": {},
   "outputs": [],
   "source": []
  },
  {
   "cell_type": "code",
   "execution_count": null,
   "id": "dd5897f4-8470-4342-9630-61dd9bbb9763",
   "metadata": {},
   "outputs": [],
   "source": []
  },
  {
   "cell_type": "code",
   "execution_count": null,
   "id": "500ac840-9d29-4767-bf06-0cc67e83aeb9",
   "metadata": {},
   "outputs": [],
   "source": [
    "species "
   ]
  },
  {
   "cell_type": "code",
   "execution_count": null,
   "id": "92b6775b-91ef-45f2-b50e-9b21fbd77c06",
   "metadata": {},
   "outputs": [],
   "source": [
    "typeof(species)"
   ]
  },
  {
   "cell_type": "code",
   "execution_count": null,
   "id": "89350792-4453-4d31-97e0-93edd3b5ef65",
   "metadata": {},
   "outputs": [],
   "source": []
  },
  {
   "cell_type": "code",
   "execution_count": null,
   "id": "634f7302-d9b7-46f7-9554-158fa5530662",
   "metadata": {},
   "outputs": [],
   "source": []
  },
  {
   "cell_type": "code",
   "execution_count": null,
   "id": "technological-textbook",
   "metadata": {
    "tags": []
   },
   "outputs": [],
   "source": [
    "# Selecting gene and species \n",
    "species <- \"Mouse\"\n",
    "typeEnsembl <- \"wikigene_name\"\n",
    "geneName <- \"Cux2\"\n",
    "\n",
    "# Just renaming to ensure that right species found \n",
    "if(species == 'Mouse') {\n",
    "    searchName <- \"Mouse genes\"\n",
    "} else {\n",
    "    searchName <- species\n",
    "}"
   ]
  },
  {
   "cell_type": "code",
   "execution_count": null,
   "id": "aef8bd26-c3ec-46a2-bc0f-1108c3074c37",
   "metadata": {
    "tags": []
   },
   "outputs": [],
   "source": [
    "species"
   ]
  },
  {
   "cell_type": "code",
   "execution_count": null,
   "id": "eeba93de-47a1-48bd-91d7-af8e70a3d74a",
   "metadata": {
    "tags": []
   },
   "outputs": [],
   "source": [
    "geneName"
   ]
  },
  {
   "cell_type": "code",
   "execution_count": null,
   "id": "ec81b048-51f6-4048-a164-4f53ae23d5e7",
   "metadata": {
    "tags": []
   },
   "outputs": [],
   "source": [
    "searchName"
   ]
  },
  {
   "cell_type": "code",
   "execution_count": null,
   "id": "fdd5e239-019b-4ff3-a842-2e041a91896a",
   "metadata": {},
   "outputs": [],
   "source": [
    "referenceSeq <- fetchSequences(geneName, searchName, typeEnsembl)"
   ]
  },
  {
   "cell_type": "code",
   "execution_count": null,
   "id": "eae2e4fa-ceba-4982-a64e-31d11b9ffec0",
   "metadata": {},
   "outputs": [],
   "source": []
  },
  {
   "cell_type": "code",
   "execution_count": null,
   "id": "c27c4a15-5aff-4a4f-b0ad-06d16cd54293",
   "metadata": {},
   "outputs": [],
   "source": []
  },
  {
   "cell_type": "code",
   "execution_count": null,
   "id": "e0901ba1-542c-4fde-9559-d85a677fd40e",
   "metadata": {
    "tags": []
   },
   "outputs": [],
   "source": [
    "# Only if does not already exist ... otherwise just extends exists ... resulting in repeats in fasta file\n",
    "if(file.exists(paste(getwd(), '/Output/biomaRt/', species, '/Reverse_', geneName, '.fasta', sep = '')) == FALSE){ \n",
    "    # Personal libraries \n",
    "    path_functions <- '/home/user1/Dropbox/Research/Neurobiology_PhD/Rotations/Huang/Projects/CellReadR/Code/kCellReadR/functions_biomaRt.R'\n",
    "    source(path_functions)\n",
    "    \n",
    "    # Get references sequences \n",
    "    referenceSeq <- fetchSequences(geneName, searchName, typeEnsembl)\n",
    "    # Save reference sequences \n",
    "    saveFasta(geneName, species, referenceSeq@seq, referenceSeq@seqCDS, referenceSeq@seqCDNA)\n",
    "}"
   ]
  },
  {
   "cell_type": "code",
   "execution_count": null,
   "id": "a607dcbd-1754-45d0-bec8-3bd8a161eaba",
   "metadata": {},
   "outputs": [],
   "source": []
  },
  {
   "cell_type": "code",
   "execution_count": null,
   "id": "3b21a626-77e0-4149-b2ac-bd0f3be8d108",
   "metadata": {},
   "outputs": [],
   "source": []
  },
  {
   "cell_type": "code",
   "execution_count": null,
   "id": "52a46e65-8144-409b-952b-822120a39d01",
   "metadata": {},
   "outputs": [],
   "source": []
  },
  {
   "cell_type": "code",
   "execution_count": null,
   "id": "center-kruger",
   "metadata": {},
   "outputs": [],
   "source": []
  },
  {
   "cell_type": "code",
   "execution_count": null,
   "id": "former-optimum",
   "metadata": {},
   "outputs": [],
   "source": []
  },
  {
   "cell_type": "markdown",
   "id": "indonesian-voice",
   "metadata": {},
   "source": [
    "# Misc"
   ]
  },
  {
   "cell_type": "code",
   "execution_count": 1,
   "id": "84224cd7-31e3-4c90-9623-e5dcaa0742ac",
   "metadata": {
    "execution": {
     "iopub.execute_input": "2021-05-21T21:25:53.209232Z",
     "iopub.status.busy": "2021-05-21T21:25:53.207513Z",
     "iopub.status.idle": "2021-05-21T21:26:01.388585Z",
     "shell.execute_reply": "2021-05-21T21:26:01.387576Z"
    }
   },
   "outputs": [
    {
     "name": "stderr",
     "output_type": "stream",
     "text": [
      "Loading required package: BiocGenerics\n",
      "\n",
      "Loading required package: parallel\n",
      "\n",
      "\n",
      "Attaching package: ‘BiocGenerics’\n",
      "\n",
      "\n",
      "The following objects are masked from ‘package:parallel’:\n",
      "\n",
      "    clusterApply, clusterApplyLB, clusterCall, clusterEvalQ,\n",
      "    clusterExport, clusterMap, parApply, parCapply, parLapply,\n",
      "    parLapplyLB, parRapply, parSapply, parSapplyLB\n",
      "\n",
      "\n",
      "The following objects are masked from ‘package:stats’:\n",
      "\n",
      "    IQR, mad, sd, var, xtabs\n",
      "\n",
      "\n",
      "The following objects are masked from ‘package:base’:\n",
      "\n",
      "    anyDuplicated, append, as.data.frame, basename, cbind, colnames,\n",
      "    dirname, do.call, duplicated, eval, evalq, Filter, Find, get, grep,\n",
      "    grepl, intersect, is.unsorted, lapply, Map, mapply, match, mget,\n",
      "    order, paste, pmax, pmax.int, pmin, pmin.int, Position, rank,\n",
      "    rbind, Reduce, rownames, sapply, setdiff, sort, table, tapply,\n",
      "    union, unique, unsplit, which.max, which.min\n",
      "\n",
      "\n",
      "Loading required package: S4Vectors\n",
      "\n",
      "Loading required package: stats4\n",
      "\n",
      "\n",
      "Attaching package: ‘S4Vectors’\n",
      "\n",
      "\n",
      "The following object is masked from ‘package:base’:\n",
      "\n",
      "    expand.grid\n",
      "\n",
      "\n",
      "Loading required package: IRanges\n",
      "\n",
      "Loading required package: XVector\n",
      "\n",
      "\n",
      "Attaching package: ‘Biostrings’\n",
      "\n",
      "\n",
      "The following object is masked from ‘package:base’:\n",
      "\n",
      "    strsplit\n",
      "\n",
      "\n"
     ]
    }
   ],
   "source": [
    "# For fetching sequences from ensembl database \n",
    "library(biomaRt)\n",
    "# For manipulating sequences \n",
    "library(Biostrings)"
   ]
  },
  {
   "cell_type": "code",
   "execution_count": 2,
   "id": "26614b64-0ae1-4c8b-ab75-26c78a5d7ffb",
   "metadata": {
    "execution": {
     "iopub.execute_input": "2021-05-21T21:26:01.409888Z",
     "iopub.status.busy": "2021-05-21T21:26:01.390390Z",
     "iopub.status.idle": "2021-05-21T21:26:02.789688Z",
     "shell.execute_reply": "2021-05-21T21:26:02.788758Z"
    },
    "tags": []
   },
   "outputs": [],
   "source": [
    "ensembl <- useMart(\"ensembl\")\n",
    "datasets <- listDatasets(ensembl)"
   ]
  },
  {
   "cell_type": "code",
   "execution_count": 3,
   "id": "58f3b45c-5f2d-4b7f-9e6c-0de654bd998d",
   "metadata": {
    "execution": {
     "iopub.execute_input": "2021-05-21T21:26:03.856756Z",
     "iopub.status.busy": "2021-05-21T21:26:03.855151Z",
     "iopub.status.idle": "2021-05-21T21:26:04.038499Z",
     "shell.execute_reply": "2021-05-21T21:26:04.037652Z"
    },
    "tags": []
   },
   "outputs": [
    {
     "data": {
      "text/html": [
       "<table class=\"dataframe\">\n",
       "<caption>A data.frame: 1 × 3</caption>\n",
       "<thead>\n",
       "\t<tr><th></th><th scope=col>dataset</th><th scope=col>description</th><th scope=col>version</th></tr>\n",
       "\t<tr><th></th><th scope=col>&lt;I&lt;chr&gt;&gt;</th><th scope=col>&lt;I&lt;chr&gt;&gt;</th><th scope=col>&lt;I&lt;chr&gt;&gt;</th></tr>\n",
       "</thead>\n",
       "<tbody>\n",
       "\t<tr><th scope=row>107</th><td>mmusculus_gene_ensembl</td><td>Mouse genes (GRCm39)</td><td>GRCm39</td></tr>\n",
       "</tbody>\n",
       "</table>\n"
      ],
      "text/latex": [
       "A data.frame: 1 × 3\n",
       "\\begin{tabular}{r|lll}\n",
       "  & dataset & description & version\\\\\n",
       "  & <I<chr>> & <I<chr>> & <I<chr>>\\\\\n",
       "\\hline\n",
       "\t107 & mmusculus\\_gene\\_ensembl & Mouse genes (GRCm39) & GRCm39\\\\\n",
       "\\end{tabular}\n"
      ],
      "text/markdown": [
       "\n",
       "A data.frame: 1 × 3\n",
       "\n",
       "| <!--/--> | dataset &lt;I&lt;chr&gt;&gt; | description &lt;I&lt;chr&gt;&gt; | version &lt;I&lt;chr&gt;&gt; |\n",
       "|---|---|---|---|\n",
       "| 107 | mmusculus_gene_ensembl | Mouse genes (GRCm39) | GRCm39 |\n",
       "\n"
      ],
      "text/plain": [
       "    dataset                description          version\n",
       "107 mmusculus_gene_ensembl Mouse genes (GRCm39) GRCm39 "
      ]
     },
     "metadata": {},
     "output_type": "display_data"
    }
   ],
   "source": [
    "datasets[grep('Mouse genes', datasets$description), ]"
   ]
  },
  {
   "cell_type": "code",
   "execution_count": 6,
   "id": "c5a34f8e-2c74-4e94-ae38-72f929302296",
   "metadata": {
    "execution": {
     "iopub.execute_input": "2021-05-21T21:27:24.117429Z",
     "iopub.status.busy": "2021-05-21T21:27:24.115147Z",
     "iopub.status.idle": "2021-05-21T21:27:24.126893Z",
     "shell.execute_reply": "2021-05-21T21:27:24.126152Z"
    },
    "tags": []
   },
   "outputs": [
    {
     "data": {
      "text/html": [
       "<table class=\"dataframe\">\n",
       "<caption>A data.frame: 1 × 1</caption>\n",
       "<thead>\n",
       "\t<tr><th></th><th scope=col>dataset</th></tr>\n",
       "\t<tr><th></th><th scope=col>&lt;I&lt;chr&gt;&gt;</th></tr>\n",
       "</thead>\n",
       "<tbody>\n",
       "\t<tr><th scope=row>107</th><td>mmusculus_gene_ensembl</td></tr>\n",
       "</tbody>\n",
       "</table>\n"
      ],
      "text/latex": [
       "A data.frame: 1 × 1\n",
       "\\begin{tabular}{r|l}\n",
       "  & dataset\\\\\n",
       "  & <I<chr>>\\\\\n",
       "\\hline\n",
       "\t107 & mmusculus\\_gene\\_ensembl\\\\\n",
       "\\end{tabular}\n"
      ],
      "text/markdown": [
       "\n",
       "A data.frame: 1 × 1\n",
       "\n",
       "| <!--/--> | dataset &lt;I&lt;chr&gt;&gt; |\n",
       "|---|---|\n",
       "| 107 | mmusculus_gene_ensembl |\n",
       "\n"
      ],
      "text/plain": [
       "    dataset               \n",
       "107 mmusculus_gene_ensembl"
      ]
     },
     "metadata": {},
     "output_type": "display_data"
    }
   ],
   "source": [
    "datasets[grep('Mouse genes', datasets$description), ]['dataset']"
   ]
  },
  {
   "cell_type": "code",
   "execution_count": null,
   "id": "2de377f5-dd4c-40b8-921e-bcd783f83582",
   "metadata": {},
   "outputs": [],
   "source": []
  },
  {
   "cell_type": "code",
   "execution_count": null,
   "id": "faecf098-2da2-4310-8714-cd640e029542",
   "metadata": {
    "tags": []
   },
   "outputs": [],
   "source": [
    "datasets = getDataset(geneName)"
   ]
  },
  {
   "cell_type": "code",
   "execution_count": null,
   "id": "4098683a-21ee-4886-b14c-10a5a2ec8b64",
   "metadata": {},
   "outputs": [],
   "source": []
  },
  {
   "cell_type": "code",
   "execution_count": null,
   "id": "41bdc2f2-9d41-49e2-9530-a525ccd46ed6",
   "metadata": {},
   "outputs": [],
   "source": [
    "datasets[grep(species, datasets$description), ]"
   ]
  },
  {
   "cell_type": "code",
   "execution_count": null,
   "id": "a0c2070a-7842-4a96-a447-51ff6164b0d6",
   "metadata": {
    "tags": []
   },
   "outputs": [],
   "source": [
    "datasets[grep(\"Mouse genes\", datasets$description), ]"
   ]
  },
  {
   "cell_type": "code",
   "execution_count": null,
   "id": "0308ed00-bb11-4da9-b3a7-fe525de1d4d0",
   "metadata": {
    "tags": []
   },
   "outputs": [],
   "source": []
  },
  {
   "cell_type": "code",
   "execution_count": null,
   "id": "b3183175-d763-4970-9b5a-c589b1ed40a2",
   "metadata": {
    "tags": []
   },
   "outputs": [],
   "source": [
    "totalBp = 0\n",
    "for(i in 1:nrow(seq)){\n",
    "    totalBp = totalBp + nchar(seq[i,1])\n",
    "}\n",
    "print(totalBp)"
   ]
  },
  {
   "cell_type": "code",
   "execution_count": null,
   "id": "edf99db2-abd6-403b-84cd-61997689c290",
   "metadata": {
    "tags": []
   },
   "outputs": [],
   "source": []
  },
  {
   "cell_type": "code",
   "execution_count": null,
   "id": "e4197323-5b0a-4509-b79f-1a32316845bd",
   "metadata": {
    "tags": []
   },
   "outputs": [],
   "source": [
    "# Check length of each sequence of exon \n",
    "nchar(reverseSeq$gene_exon)"
   ]
  },
  {
   "cell_type": "code",
   "execution_count": null,
   "id": "269170dd-3aee-4df6-a5d2-86bd077e1083",
   "metadata": {
    "tags": []
   },
   "outputs": [],
   "source": [
    "# Check length of each sequence of exon \n",
    "nchar(complementSeq$gene_exon)"
   ]
  },
  {
   "cell_type": "code",
   "execution_count": null,
   "id": "aca87d85-9b79-4d3f-8834-1d1d25b85e82",
   "metadata": {
    "tags": []
   },
   "outputs": [],
   "source": [
    "nchar(seqCDS[1,1])"
   ]
  },
  {
   "cell_type": "code",
   "execution_count": null,
   "id": "signal-automation",
   "metadata": {
    "tags": []
   },
   "outputs": [],
   "source": [
    "filters = listFilters(ensembl)\n",
    "filters"
   ]
  },
  {
   "cell_type": "code",
   "execution_count": 12,
   "id": "advised-complement",
   "metadata": {
    "execution": {
     "iopub.execute_input": "2021-05-21T21:32:05.320236Z",
     "iopub.status.busy": "2021-05-21T21:32:05.318450Z",
     "iopub.status.idle": "2021-05-21T21:32:05.341492Z",
     "shell.execute_reply": "2021-05-21T21:32:05.340352Z"
    },
    "tags": []
   },
   "outputs": [
    {
     "data": {
      "text/html": [
       "<table class=\"dataframe\">\n",
       "<caption>A data.frame: 6 × 2</caption>\n",
       "<thead>\n",
       "\t<tr><th></th><th scope=col>name</th><th scope=col>description</th></tr>\n",
       "\t<tr><th></th><th scope=col>&lt;chr&gt;</th><th scope=col>&lt;chr&gt;</th></tr>\n",
       "</thead>\n",
       "<tbody>\n",
       "\t<tr><th scope=row>47</th><td>ensembl_gene_id              </td><td>Gene stable ID(s) [e.g. ENSMUSG00000000001]                     </td></tr>\n",
       "\t<tr><th scope=row>48</th><td>ensembl_gene_id_version      </td><td>Gene stable ID(s) with version [e.g. ENSMUSG00000000001.5]      </td></tr>\n",
       "\t<tr><th scope=row>49</th><td>ensembl_transcript_id        </td><td>Transcript stable ID(s) [e.g. ENSMUST00000000001]               </td></tr>\n",
       "\t<tr><th scope=row>50</th><td>ensembl_transcript_id_version</td><td>Transcript stable ID(s) with version [e.g. ENSMUST00000000001.5]</td></tr>\n",
       "\t<tr><th scope=row>51</th><td>ensembl_peptide_id           </td><td>Protein stable ID(s) [e.g. ENSMUSP00000000001]                  </td></tr>\n",
       "\t<tr><th scope=row>52</th><td>ensembl_peptide_id_version   </td><td>Protein stable ID(s) with version [e.g. ENSMUSP00000000001.5]   </td></tr>\n",
       "</tbody>\n",
       "</table>\n"
      ],
      "text/latex": [
       "A data.frame: 6 × 2\n",
       "\\begin{tabular}{r|ll}\n",
       "  & name & description\\\\\n",
       "  & <chr> & <chr>\\\\\n",
       "\\hline\n",
       "\t47 & ensembl\\_gene\\_id               & Gene stable ID(s) {[}e.g. ENSMUSG00000000001{]}                     \\\\\n",
       "\t48 & ensembl\\_gene\\_id\\_version       & Gene stable ID(s) with version {[}e.g. ENSMUSG00000000001.5{]}      \\\\\n",
       "\t49 & ensembl\\_transcript\\_id         & Transcript stable ID(s) {[}e.g. ENSMUST00000000001{]}               \\\\\n",
       "\t50 & ensembl\\_transcript\\_id\\_version & Transcript stable ID(s) with version {[}e.g. ENSMUST00000000001.5{]}\\\\\n",
       "\t51 & ensembl\\_peptide\\_id            & Protein stable ID(s) {[}e.g. ENSMUSP00000000001{]}                  \\\\\n",
       "\t52 & ensembl\\_peptide\\_id\\_version    & Protein stable ID(s) with version {[}e.g. ENSMUSP00000000001.5{]}   \\\\\n",
       "\\end{tabular}\n"
      ],
      "text/markdown": [
       "\n",
       "A data.frame: 6 × 2\n",
       "\n",
       "| <!--/--> | name &lt;chr&gt; | description &lt;chr&gt; |\n",
       "|---|---|---|\n",
       "| 47 | ensembl_gene_id               | Gene stable ID(s) [e.g. ENSMUSG00000000001]                      |\n",
       "| 48 | ensembl_gene_id_version       | Gene stable ID(s) with version [e.g. ENSMUSG00000000001.5]       |\n",
       "| 49 | ensembl_transcript_id         | Transcript stable ID(s) [e.g. ENSMUST00000000001]                |\n",
       "| 50 | ensembl_transcript_id_version | Transcript stable ID(s) with version [e.g. ENSMUST00000000001.5] |\n",
       "| 51 | ensembl_peptide_id            | Protein stable ID(s) [e.g. ENSMUSP00000000001]                   |\n",
       "| 52 | ensembl_peptide_id_version    | Protein stable ID(s) with version [e.g. ENSMUSP00000000001.5]    |\n",
       "\n"
      ],
      "text/plain": [
       "   name                         \n",
       "47 ensembl_gene_id              \n",
       "48 ensembl_gene_id_version      \n",
       "49 ensembl_transcript_id        \n",
       "50 ensembl_transcript_id_version\n",
       "51 ensembl_peptide_id           \n",
       "52 ensembl_peptide_id_version   \n",
       "   description                                                     \n",
       "47 Gene stable ID(s) [e.g. ENSMUSG00000000001]                     \n",
       "48 Gene stable ID(s) with version [e.g. ENSMUSG00000000001.5]      \n",
       "49 Transcript stable ID(s) [e.g. ENSMUST00000000001]               \n",
       "50 Transcript stable ID(s) with version [e.g. ENSMUST00000000001.5]\n",
       "51 Protein stable ID(s) [e.g. ENSMUSP00000000001]                  \n",
       "52 Protein stable ID(s) with version [e.g. ENSMUSP00000000001.5]   "
      ]
     },
     "metadata": {},
     "output_type": "display_data"
    }
   ],
   "source": [
    "filters[grep(\"stable\", filters$description), ]"
   ]
  },
  {
   "cell_type": "code",
   "execution_count": 7,
   "id": "adf7ea7d-5990-46a4-b80c-8d03b8e62be6",
   "metadata": {
    "execution": {
     "iopub.execute_input": "2021-05-21T21:27:35.793565Z",
     "iopub.status.busy": "2021-05-21T21:27:35.792058Z",
     "iopub.status.idle": "2021-05-21T21:27:41.824657Z",
     "shell.execute_reply": "2021-05-21T21:27:41.823862Z"
    }
   },
   "outputs": [],
   "source": [
    "ensembl = useDataset(\"mmusculus_gene_ensembl\",mart=ensembl)"
   ]
  },
  {
   "cell_type": "code",
   "execution_count": 14,
   "id": "informed-promotion",
   "metadata": {
    "execution": {
     "iopub.execute_input": "2021-05-21T21:32:59.592922Z",
     "iopub.status.busy": "2021-05-21T21:32:59.591229Z",
     "iopub.status.idle": "2021-05-21T21:33:00.559989Z",
     "shell.execute_reply": "2021-05-21T21:33:00.559302Z"
    },
    "tags": []
   },
   "outputs": [
    {
     "name": "stdout",
     "output_type": "stream",
     "text": [
      "                                                                                                                                                                                                                                                                                                                                                                                                                                                                                                                                                                                                                                                                                                                                                                                                                                                                                                                   gene_exon\n",
      "1                                                                                                                                                                                                                                          GGAACTACAAGAATCACAAGCTCACCCACAGCGGCGAGAAGCAGTACAAATGCACTATCTGTAACAAGGCCTTCCATCAGGTCTACAATCTGACCTTCCACATGCACACCCACAACGACAAGAAGCCTTTCACGTGTGCCACTTGCGGCAAAGGTTTTTGCAGAAACTTTGACTTAAAGAAACATGTGCGCAAACTTCATGACAGCGTGGGTCCCACCGCCACCCCCTCAGCAAAGGACCTAGCCAGGACAGTTCAGAGCTGAGAGCTACTGCCTTGTCCGTTCTTCCTGCCCTGTACCAACCCAAGCAGATCTCACGTATAAACTTATTTCTAAAATTAAAAGAAAAAAAAACTATAGCAGAGAGGCTAAAATCTATTTATCGAAACCAGCATATTTTTGGGGAAATGTAAACGTGTCCTCGATGACCGGCACAAACGCGTGGCTCCCACCTTTGTACATTCAGGAAACGTATTTAAATCCAGTGCGCTGAAACATATTTAATTCCAGGCCTCCGCTTCTCCTCAGGCAGCCGGCTTTTAATCCCAGCCTGTCACCGTGAGCGCCCAGAAGAGCGTGATGCCCCTGCCATCTTCACTCAACCTTGTAATCTCTCCTGTACAAGCGAACACGGAATATTACATATATATGACTCAAT\n",
      "2                                                                                                                                                                                                                                                                                                                                                                                                                                                                                                                                                                                                                                                                                                                                                                                      GAAAAACCACATAAGTGTAACCAGTGCGGCAAAGCCTTCAATCGCAGCTCCACGCTCAACACGCACATCCGCATCCACGCGGGCTACAAGCCCTTCGTCTGCGAGTTTTGTGGCAAAGGCTTTCACCAAAAAG\n",
      "3 ACTTAGAGGAGAGAGGCTGTGCCCTGGCCCAGCCTGGCCCAGCTTGGCGCGCCATGGCCAGCTCAGCTTCCCTGGAGACCATGGTGCCCCCGGCCTGCCCGCGCGCTGGAGCGTCACCGGCCACTTCTAAAACACTAGCTTTCTCTATCGAGCGCATCATGGCCAAGACGTCCGAGCCCCGAGCGCCTTTCGAGCCCCGGCCTGCTGCGTTAGAGGCAGACAGCAGCCAGAGCAAGAAACTGCTCAACCTCTGCTCGCCGCTGCCCTGTATGATCCCTCTCCAGCCTCTAGGCTACGAGGTGCCGTCCAAGACGCTGCTCAGTTACTCGGAGTTCTGGAAGAGCAGCCTCCGGGCGGGCGGCGGTGGAGGAGGAGGCAGCGGCGGGGGGGCCCCAGTGTGCGGCGCCAGCGGCTTGTGCAAAACCAACTGTGGCGTGTGCTGCAAGGCCGAACTGGGCCTCGCGCCTTCTGCGCTGCCCGCCGGCAGGGTCATCAAACCGCAGGTCATCAACCAGGCTGTGGGGCTGCCTGCCAGCGGCTCTCTCTACTACTTCAACTACCTGGACTCCACCGCTTACCCACCTTCGGAGCTCCTCGGAGGCCACCTTTTCCCATCCGGCCTCCTCAACGCACAGGCCCCCACTTCCCTGGCTGCTCACCCCAAGCTTTTTCTGCTGGAGAACGCCAAACTGGCCAGCCTGGCTGCGGACAAGTTCCCCCACCCAGCTTCCTATCCCCATAAGGAGCGCTTGCATGCGCCACTGGAGCAGGTGCTGAAGGAGAACTCGGCCTTGACAGCTGAACGAGGGGGAGTCAAGAGCCACAGCAAACTACCGGGGGGCTCTACTGACAGCAAACCCAAAAACTTCACCTGCGAAGTGTGCGGCAAG\n",
      "4                                                                                                                                                                                                                                                                                                                                                                                                                                                                                                                                      TTTGGGTTTGGGCGGCCCCCACCTCCTTCCACCGGCAAAACCATCACGATTCTTCCCCCTCCCCCCTCCCTCTCTTCCCTCCTTCCCGATTCGCAAACCGCTCGCACTTTCCCGAAGGGAGCGCGGGCGCTAGTTGCCTCCTTTAAAGTTTGAGGGGCGGTGGCGGCGGCCGGCAGGCGCGGGGGAACGCAGGGTCCTCAACGGGAGTCGCGCCGCCGCCCATGTCATTCCACTTCAAGTGACTTCATGTGATGTCAGCTGAATGTAAAAGACAGTGATCTCACGCGGAGGGGAAGATGTTTGCCATCAAAATGTGACAGAAGAGACACGCTGCATGGCTCGGAACGCATCTCCTTGGCGGTGGGGGAAAGAG\n",
      "5                                                                                                                                                                                                                                                                                                                                                                                                                                                                                                                                                                                                                                                                                                                                                                                    GTGTTCAATGCTCACTATAACCTCACCCGCCACATGCCTGTCCACACCGGAGCTAGACCGTTTGTGTGCAAAGTCTGTGGCAAAGGCTTCCGCCAGGCCAGCACTCTCTGCAGACACAAAATTATCCATACCCAG\n",
      "  ensembl_transcript_id\n",
      "1    ENSMUST00000022262\n",
      "2    ENSMUST00000022262\n",
      "3    ENSMUST00000022262\n",
      "4    ENSMUST00000022262\n",
      "5    ENSMUST00000022262\n"
     ]
    }
   ],
   "source": [
    "transcriptID <- \"ENSMUST00000022262\"\n",
    "\n",
    "# Getting sequences of exons for gene \n",
    "seq <- getSequence(id = transcriptID, \n",
    "                  type = \"ensembl_transcript_id\", \n",
    "                  seqType = \"gene_exon\", \n",
    "                  mart = ensembl)\n",
    "show(seq)"
   ]
  },
  {
   "cell_type": "code",
   "execution_count": 17,
   "id": "f019059c-9431-4cd3-a062-a72d41664b4f",
   "metadata": {
    "execution": {
     "iopub.execute_input": "2021-05-21T21:44:25.594894Z",
     "iopub.status.busy": "2021-05-21T21:44:25.593287Z",
     "iopub.status.idle": "2021-05-21T21:44:28.657211Z",
     "shell.execute_reply": "2021-05-21T21:44:28.656256Z"
    },
    "tags": []
   },
   "outputs": [
    {
     "name": "stdout",
     "output_type": "stream",
     "text": [
      "                                                                                                                                                                                                                                                                                                                                                                                                                                                                                                                                                                                                                                                                                                                                                                                                                                                                                                                                                                                                                                                                                                                                                                                                                                                                                                                                                                                                                    coding\n",
      "1 ATGGCCAGCTCAGCTTCCCTGGAGACCATGGTGCCCCCGGCCTGCCCGCGCGCTGGAGCGTCACCGGCCACTTCTAAAACACTAGCTTTCTCTATCGAGCGCATCATGGCCAAGACGTCCGAGCCCCGAGCGCCTTTCGAGCCCCGGCCTGCTGCGTTAGAGGCAGACAGCAGCCAGAGCAAGAAACTGCTCAACCTCTGCTCGCCGCTGCCCTGTATGATCCCTCTCCAGCCTCTAGGCTACGAGGTGCCGTCCAAGACGCTGCTCAGTTACTCGGAGTTCTGGAAGAGCAGCCTCCGGGCGGGCGGCGGTGGAGGAGGAGGCAGCGGCGGGGGGGCCCCAGTGTGCGGCGCCAGCGGCTTGTGCAAAACCAACTGTGGCGTGTGCTGCAAGGCCGAACTGGGCCTCGCGCCTTCTGCGCTGCCCGCCGGCAGGGTCATCAAACCGCAGGTCATCAACCAGGCTGTGGGGCTGCCTGCCAGCGGCTCTCTCTACTACTTCAACTACCTGGACTCCACCGCTTACCCACCTTCGGAGCTCCTCGGAGGCCACCTTTTCCCATCCGGCCTCCTCAACGCACAGGCCCCCACTTCCCTGGCTGCTCACCCCAAGCTTTTTCTGCTGGAGAACGCCAAACTGGCCAGCCTGGCTGCGGACAAGTTCCCCCACCCAGCTTCCTATCCCCATAAGGAGCGCTTGCATGCGCCACTGGAGCAGGTGCTGAAGGAGAACTCGGCCTTGACAGCTGAACGAGGGGGAGTCAAGAGCCACAGCAAACTACCGGGGGGCTCTACTGACAGCAAACCCAAAAACTTCACCTGCGAAGTGTGCGGCAAGGTGTTCAATGCTCACTATAACCTCACCCGCCACATGCCTGTCCACACCGGAGCTAGACCGTTTGTGTGCAAAGTCTGTGGCAAAGGCTTCCGCCAGGCCAGCACTCTCTGCAGACACAAAATTATCCATACCCAGGAAAAACCACATAAGTGTAACCAGTGCGGCAAAGCCTTCAATCGCAGCTCCACGCTCAACACGCACATCCGCATCCACGCGGGCTACAAGCCCTTCGTCTGCGAGTTTTGTGGCAAAGGCTTTCACCAAAAAGGGAACTACAAGAATCACAAGCTCACCCACAGCGGCGAGAAGCAGTACAAATGCACTATCTGTAACAAGGCCTTCCATCAGGTCTACAATCTGACCTTCCACATGCACACCCACAACGACAAGAAGCCTTTCACGTGTGCCACTTGCGGCAAAGGTTTTTGCAGAAACTTTGACTTAAAGAAACATGTGCGCAAACTTCATGACAGCGTGGGTCCCACCGCCACCCCCTCAGCAAAGGACCTAGCCAGGACAGTTCAGAGCTGA\n",
      "  ensembl_transcript_id\n",
      "1    ENSMUST00000022262\n"
     ]
    }
   ],
   "source": [
    "transcriptID <- \"ENSMUST00000022262\"\n",
    "\n",
    "# Getting sequences of exons for gene \n",
    "seq <- getSequence(id = transcriptID, \n",
    "                  type = \"ensembl_transcript_id\", \n",
    "                  seqType = \"coding\", \n",
    "                  mart = ensembl)\n",
    "show(seq)"
   ]
  },
  {
   "cell_type": "code",
   "execution_count": null,
   "id": "24d655e0-5652-4f19-a4f6-0e2ca56baa0f",
   "metadata": {},
   "outputs": [],
   "source": []
  },
  {
   "cell_type": "code",
   "execution_count": null,
   "id": "double-frontier",
   "metadata": {},
   "outputs": [],
   "source": []
  },
  {
   "cell_type": "code",
   "execution_count": null,
   "id": "perfect-desktop",
   "metadata": {},
   "outputs": [],
   "source": []
  },
  {
   "cell_type": "code",
   "execution_count": null,
   "id": "headed-calibration",
   "metadata": {},
   "outputs": [],
   "source": []
  },
  {
   "cell_type": "code",
   "execution_count": null,
   "id": "intense-elevation",
   "metadata": {},
   "outputs": [],
   "source": []
  },
  {
   "cell_type": "code",
   "execution_count": null,
   "id": "figured-planet",
   "metadata": {},
   "outputs": [],
   "source": []
  }
 ],
 "metadata": {
  "kernelspec": {
   "display_name": "R",
   "language": "R",
   "name": "ir"
  },
  "language_info": {
   "codemirror_mode": "r",
   "file_extension": ".r",
   "mimetype": "text/x-r-source",
   "name": "R",
   "pygments_lexer": "r",
   "version": "4.0.5"
  }
 },
 "nbformat": 4,
 "nbformat_minor": 5
}
