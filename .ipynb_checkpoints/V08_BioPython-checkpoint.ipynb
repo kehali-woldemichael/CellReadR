{
 "cells": [
  {
   "cell_type": "markdown",
   "id": "right-sheffield",
   "metadata": {},
   "source": [
    "# Setup "
   ]
  },
  {
   "cell_type": "markdown",
   "id": "amino-silence",
   "metadata": {},
   "source": [
    "## Import packages "
   ]
  },
  {
   "cell_type": "code",
   "execution_count": 1,
   "id": "rolled-columbia",
   "metadata": {
    "execution": {
     "iopub.execute_input": "2021-05-11T08:29:55.177423Z",
     "iopub.status.busy": "2021-05-11T08:29:55.176963Z",
     "iopub.status.idle": "2021-05-11T08:29:55.461532Z",
     "shell.execute_reply": "2021-05-11T08:29:55.460522Z",
     "shell.execute_reply.started": "2021-05-11T08:29:55.177346Z"
    },
    "tags": []
   },
   "outputs": [],
   "source": [
    "# General \n",
    "import os \n",
    "import numpy as np\n",
    "import pandas as pd \n",
    "# For running bash scripts from inside python ... \n",
    "import subprocess\n",
    "# For manipulating string objects \n",
    "import re\n",
    "# for generating any necessary directories\n",
    "import pathlib \n",
    "# For manipulating list objects \n",
    "import itertools "
   ]
  },
  {
   "cell_type": "code",
   "execution_count": 2,
   "id": "false-allah",
   "metadata": {
    "execution": {
     "iopub.execute_input": "2021-05-11T08:29:55.465616Z",
     "iopub.status.busy": "2021-05-11T08:29:55.465048Z",
     "iopub.status.idle": "2021-05-11T08:29:55.515048Z",
     "shell.execute_reply": "2021-05-11T08:29:55.514334Z",
     "shell.execute_reply.started": "2021-05-11T08:29:55.465584Z"
    },
    "tags": []
   },
   "outputs": [],
   "source": [
    "# For working with sequence objects \n",
    "from Bio.Seq import Seq"
   ]
  },
  {
   "cell_type": "code",
   "execution_count": 3,
   "id": "greenhouse-dryer",
   "metadata": {
    "execution": {
     "iopub.execute_input": "2021-05-11T08:29:55.516599Z",
     "iopub.status.busy": "2021-05-11T08:29:55.516297Z",
     "iopub.status.idle": "2021-05-11T08:29:55.537767Z",
     "shell.execute_reply": "2021-05-11T08:29:55.537186Z",
     "shell.execute_reply.started": "2021-05-11T08:29:55.516573Z"
    }
   },
   "outputs": [],
   "source": [
    "# For fetching sequences from Entrez \n",
    "from Bio import Entrez\n",
    "from Bio import SeqIO"
   ]
  },
  {
   "cell_type": "code",
   "execution_count": 4,
   "id": "positive-coordination",
   "metadata": {
    "execution": {
     "iopub.execute_input": "2021-05-11T08:29:55.538829Z",
     "iopub.status.busy": "2021-05-11T08:29:55.538651Z",
     "iopub.status.idle": "2021-05-11T08:29:55.541690Z",
     "shell.execute_reply": "2021-05-11T08:29:55.541061Z",
     "shell.execute_reply.started": "2021-05-11T08:29:55.538811Z"
    },
    "tags": []
   },
   "outputs": [],
   "source": [
    "# For extracting features \n",
    "from Bio.SeqFeature import SeqFeature, FeatureLocation\n",
    "# For creating SeqRecord objects \n",
    "from Bio.SeqRecord import SeqRecord"
   ]
  },
  {
   "cell_type": "code",
   "execution_count": 5,
   "id": "94f6963c-c46d-4ff1-a40b-11b353df1ca6",
   "metadata": {
    "execution": {
     "iopub.execute_input": "2021-05-11T08:29:55.542658Z",
     "iopub.status.busy": "2021-05-11T08:29:55.542465Z",
     "iopub.status.idle": "2021-05-11T08:29:56.054137Z",
     "shell.execute_reply": "2021-05-11T08:29:56.053618Z",
     "shell.execute_reply.started": "2021-05-11T08:29:55.542639Z"
    },
    "tags": []
   },
   "outputs": [],
   "source": [
    "# For running R cells \n",
    "%load_ext rpy2.ipython"
   ]
  },
  {
   "cell_type": "markdown",
   "id": "neutral-andorra",
   "metadata": {},
   "source": [
    "## Misc"
   ]
  },
  {
   "cell_type": "code",
   "execution_count": 6,
   "id": "wound-yesterday",
   "metadata": {
    "execution": {
     "iopub.execute_input": "2021-05-11T08:29:56.054956Z",
     "iopub.status.busy": "2021-05-11T08:29:56.054794Z",
     "iopub.status.idle": "2021-05-11T08:29:56.057434Z",
     "shell.execute_reply": "2021-05-11T08:29:56.056935Z",
     "shell.execute_reply.started": "2021-05-11T08:29:56.054939Z"
    },
    "tags": []
   },
   "outputs": [],
   "source": [
    "geneName = 'PlxnD1'\n",
    "species = 'Rat'\n",
    "\n",
    "Entrez.email = \"kehaliwoldemichael@gmail.com\"  # Always tell NCBI who you are"
   ]
  },
  {
   "cell_type": "markdown",
   "id": "metric-color",
   "metadata": {},
   "source": [
    "# Functions "
   ]
  },
  {
   "cell_type": "code",
   "execution_count": 7,
   "id": "679724e8-dd9f-4d70-aa65-c55c1ea60a0c",
   "metadata": {
    "execution": {
     "iopub.execute_input": "2021-05-11T08:29:56.058388Z",
     "iopub.status.busy": "2021-05-11T08:29:56.058200Z",
     "iopub.status.idle": "2021-05-11T08:29:56.075038Z",
     "shell.execute_reply": "2021-05-11T08:29:56.074063Z",
     "shell.execute_reply.started": "2021-05-11T08:29:56.058367Z"
    },
    "tags": []
   },
   "outputs": [],
   "source": [
    "import sys\n",
    "# Importing module of personal functions \n",
    "sys.path.append('/home/user1/Dropbox/Research/Neurobiology_PhD/Rotations/Huang/Projects/CellReadR/Code/kCellReadR/')\n",
    "from kCellReadR import * "
   ]
  },
  {
   "cell_type": "markdown",
   "id": "liquid-conditions",
   "metadata": {},
   "source": [
    "# Sequence"
   ]
  },
  {
   "cell_type": "markdown",
   "id": "offensive-organizer",
   "metadata": {},
   "source": [
    "## Loading sequences "
   ]
  },
  {
   "cell_type": "code",
   "execution_count": 8,
   "id": "continuing-sample",
   "metadata": {
    "execution": {
     "iopub.execute_input": "2021-05-11T08:29:56.076643Z",
     "iopub.status.busy": "2021-05-11T08:29:56.076432Z",
     "iopub.status.idle": "2021-05-11T08:29:56.118230Z",
     "shell.execute_reply": "2021-05-11T08:29:56.117489Z",
     "shell.execute_reply.started": "2021-05-11T08:29:56.076624Z"
    },
    "tags": []
   },
   "outputs": [],
   "source": [
    "rC_exon_records, C_exon_records, CDS, cDNA = load_referenceSequences(geneName, species)"
   ]
  },
  {
   "cell_type": "markdown",
   "id": "after-beatles",
   "metadata": {},
   "source": [
    "## Selecting sensor "
   ]
  },
  {
   "cell_type": "code",
   "execution_count": 9,
   "id": "a43e69c2-68a9-4f66-9117-ac367981b306",
   "metadata": {
    "execution": {
     "iopub.execute_input": "2021-05-11T08:29:56.120005Z",
     "iopub.status.busy": "2021-05-11T08:29:56.119632Z",
     "iopub.status.idle": "2021-05-11T08:29:56.330639Z",
     "shell.execute_reply": "2021-05-11T08:29:56.330022Z",
     "shell.execute_reply.started": "2021-05-11T08:29:56.119969Z"
    },
    "tags": []
   },
   "outputs": [
    {
     "name": "stdout",
     "output_type": "stream",
     "text": [
      "0\n",
      "0\n",
      "0\n",
      "4\n",
      "0\n",
      "0\n",
      "0\n",
      "20\n"
     ]
    }
   ],
   "source": [
    "parameters = parameters_sesRNA('Both', 0, 204, 1, 1, 'None', 30, 70, 10, 20)\n",
    "all_sesRNAs, all_sequenceMetrics, all_sesRNA_objs = generate_all_sesRNAs(rC_exon_records, C_exon_records, CDS, parameters)"
   ]
  },
  {
   "cell_type": "code",
   "execution_count": 10,
   "id": "cf1321d0-09cb-4109-8915-b7ed7e4aa895",
   "metadata": {
    "execution": {
     "iopub.execute_input": "2021-05-11T08:29:56.331489Z",
     "iopub.status.busy": "2021-05-11T08:29:56.331315Z",
     "iopub.status.idle": "2021-05-11T08:29:56.340434Z",
     "shell.execute_reply": "2021-05-11T08:29:56.339539Z",
     "shell.execute_reply.started": "2021-05-11T08:29:56.331466Z"
    },
    "tags": []
   },
   "outputs": [
    {
     "data": {
      "text/plain": [
       "24"
      ]
     },
     "execution_count": 10,
     "metadata": {},
     "output_type": "execute_result"
    }
   ],
   "source": [
    "len(all_sesRNAs)"
   ]
  },
  {
   "cell_type": "code",
   "execution_count": 11,
   "id": "6cac1a50-3535-4b05-ba4b-be6de089f959",
   "metadata": {
    "execution": {
     "iopub.execute_input": "2021-05-11T08:29:56.341905Z",
     "iopub.status.busy": "2021-05-11T08:29:56.341581Z",
     "iopub.status.idle": "2021-05-11T08:29:56.371407Z",
     "shell.execute_reply": "2021-05-11T08:29:56.370635Z",
     "shell.execute_reply.started": "2021-05-11T08:29:56.341873Z"
    },
    "tags": []
   },
   "outputs": [
    {
     "data": {
      "text/html": [
       "<div>\n",
       "<style scoped>\n",
       "    .dataframe tbody tr th:only-of-type {\n",
       "        vertical-align: middle;\n",
       "    }\n",
       "\n",
       "    .dataframe tbody tr th {\n",
       "        vertical-align: top;\n",
       "    }\n",
       "\n",
       "    .dataframe thead th {\n",
       "        text-align: right;\n",
       "    }\n",
       "</style>\n",
       "<table border=\"1\" class=\"dataframe\">\n",
       "  <thead>\n",
       "    <tr style=\"text-align: right;\">\n",
       "      <th></th>\n",
       "      <th>SeqNumber</th>\n",
       "      <th>TypeSeq</th>\n",
       "      <th>Exon</th>\n",
       "      <th>StartSeq</th>\n",
       "      <th>StopSeq</th>\n",
       "      <th>firstTGG</th>\n",
       "      <th>centralTGG</th>\n",
       "      <th>second_cTGG</th>\n",
       "      <th>numTGG</th>\n",
       "      <th>numATG</th>\n",
       "      <th>numStop</th>\n",
       "      <th>gcContent</th>\n",
       "    </tr>\n",
       "  </thead>\n",
       "  <tbody>\n",
       "    <tr>\n",
       "      <th>0</th>\n",
       "      <td>1</td>\n",
       "      <td>Complement</td>\n",
       "      <td>4</td>\n",
       "      <td>469.0</td>\n",
       "      <td>673.0</td>\n",
       "      <td>111.0</td>\n",
       "      <td>111.0</td>\n",
       "      <td>126</td>\n",
       "      <td>3.0</td>\n",
       "      <td>0.0</td>\n",
       "      <td>1.0</td>\n",
       "      <td>66.2</td>\n",
       "    </tr>\n",
       "    <tr>\n",
       "      <th>1</th>\n",
       "      <td>2</td>\n",
       "      <td>Complement</td>\n",
       "      <td>4</td>\n",
       "      <td>472.0</td>\n",
       "      <td>676.0</td>\n",
       "      <td>108.0</td>\n",
       "      <td>108.0</td>\n",
       "      <td>123</td>\n",
       "      <td>3.0</td>\n",
       "      <td>0.0</td>\n",
       "      <td>1.0</td>\n",
       "      <td>66.2</td>\n",
       "    </tr>\n",
       "    <tr>\n",
       "      <th>2</th>\n",
       "      <td>3</td>\n",
       "      <td>Complement</td>\n",
       "      <td>4</td>\n",
       "      <td>475.0</td>\n",
       "      <td>679.0</td>\n",
       "      <td>105.0</td>\n",
       "      <td>105.0</td>\n",
       "      <td>120</td>\n",
       "      <td>4.0</td>\n",
       "      <td>0.0</td>\n",
       "      <td>1.0</td>\n",
       "      <td>66.2</td>\n",
       "    </tr>\n",
       "    <tr>\n",
       "      <th>3</th>\n",
       "      <td>4</td>\n",
       "      <td>Complement</td>\n",
       "      <td>4</td>\n",
       "      <td>478.0</td>\n",
       "      <td>682.0</td>\n",
       "      <td>102.0</td>\n",
       "      <td>102.0</td>\n",
       "      <td>117</td>\n",
       "      <td>4.0</td>\n",
       "      <td>0.0</td>\n",
       "      <td>1.0</td>\n",
       "      <td>65.7</td>\n",
       "    </tr>\n",
       "    <tr>\n",
       "      <th>4</th>\n",
       "      <td>5</td>\n",
       "      <td>Complement</td>\n",
       "      <td>4</td>\n",
       "      <td>481.0</td>\n",
       "      <td>685.0</td>\n",
       "      <td>99.0</td>\n",
       "      <td>99.0</td>\n",
       "      <td>114</td>\n",
       "      <td>5.0</td>\n",
       "      <td>0.0</td>\n",
       "      <td>1.0</td>\n",
       "      <td>65.7</td>\n",
       "    </tr>\n",
       "    <tr>\n",
       "      <th>5</th>\n",
       "      <td>6</td>\n",
       "      <td>Complement</td>\n",
       "      <td>4</td>\n",
       "      <td>484.0</td>\n",
       "      <td>688.0</td>\n",
       "      <td>96.0</td>\n",
       "      <td>96.0</td>\n",
       "      <td>111</td>\n",
       "      <td>5.0</td>\n",
       "      <td>0.0</td>\n",
       "      <td>1.0</td>\n",
       "      <td>65.2</td>\n",
       "    </tr>\n",
       "    <tr>\n",
       "      <th>6</th>\n",
       "      <td>7</td>\n",
       "      <td>Complement</td>\n",
       "      <td>4</td>\n",
       "      <td>487.0</td>\n",
       "      <td>691.0</td>\n",
       "      <td>93.0</td>\n",
       "      <td>108.0</td>\n",
       "      <td>93</td>\n",
       "      <td>5.0</td>\n",
       "      <td>0.0</td>\n",
       "      <td>1.0</td>\n",
       "      <td>65.7</td>\n",
       "    </tr>\n",
       "    <tr>\n",
       "      <th>7</th>\n",
       "      <td>8</td>\n",
       "      <td>Complement</td>\n",
       "      <td>4</td>\n",
       "      <td>490.0</td>\n",
       "      <td>694.0</td>\n",
       "      <td>90.0</td>\n",
       "      <td>105.0</td>\n",
       "      <td>108</td>\n",
       "      <td>5.0</td>\n",
       "      <td>0.0</td>\n",
       "      <td>1.0</td>\n",
       "      <td>65.7</td>\n",
       "    </tr>\n",
       "    <tr>\n",
       "      <th>8</th>\n",
       "      <td>9</td>\n",
       "      <td>Complement</td>\n",
       "      <td>4</td>\n",
       "      <td>493.0</td>\n",
       "      <td>697.0</td>\n",
       "      <td>87.0</td>\n",
       "      <td>102.0</td>\n",
       "      <td>105</td>\n",
       "      <td>5.0</td>\n",
       "      <td>0.0</td>\n",
       "      <td>1.0</td>\n",
       "      <td>65.7</td>\n",
       "    </tr>\n",
       "    <tr>\n",
       "      <th>9</th>\n",
       "      <td>10</td>\n",
       "      <td>Complement</td>\n",
       "      <td>4</td>\n",
       "      <td>496.0</td>\n",
       "      <td>700.0</td>\n",
       "      <td>84.0</td>\n",
       "      <td>102.0</td>\n",
       "      <td>99</td>\n",
       "      <td>5.0</td>\n",
       "      <td>0.0</td>\n",
       "      <td>1.0</td>\n",
       "      <td>65.2</td>\n",
       "    </tr>\n",
       "    <tr>\n",
       "      <th>10</th>\n",
       "      <td>11</td>\n",
       "      <td>Complement</td>\n",
       "      <td>4</td>\n",
       "      <td>665.0</td>\n",
       "      <td>869.0</td>\n",
       "      <td>111.0</td>\n",
       "      <td>111.0</td>\n",
       "      <td>NA</td>\n",
       "      <td>1.0</td>\n",
       "      <td>0.0</td>\n",
       "      <td>1.0</td>\n",
       "      <td>64.7</td>\n",
       "    </tr>\n",
       "    <tr>\n",
       "      <th>11</th>\n",
       "      <td>12</td>\n",
       "      <td>Complement</td>\n",
       "      <td>4</td>\n",
       "      <td>668.0</td>\n",
       "      <td>872.0</td>\n",
       "      <td>108.0</td>\n",
       "      <td>108.0</td>\n",
       "      <td>NA</td>\n",
       "      <td>1.0</td>\n",
       "      <td>0.0</td>\n",
       "      <td>1.0</td>\n",
       "      <td>64.7</td>\n",
       "    </tr>\n",
       "    <tr>\n",
       "      <th>12</th>\n",
       "      <td>13</td>\n",
       "      <td>Complement</td>\n",
       "      <td>4</td>\n",
       "      <td>671.0</td>\n",
       "      <td>875.0</td>\n",
       "      <td>105.0</td>\n",
       "      <td>105.0</td>\n",
       "      <td>NA</td>\n",
       "      <td>1.0</td>\n",
       "      <td>0.0</td>\n",
       "      <td>1.0</td>\n",
       "      <td>64.7</td>\n",
       "    </tr>\n",
       "    <tr>\n",
       "      <th>13</th>\n",
       "      <td>14</td>\n",
       "      <td>Complement</td>\n",
       "      <td>4</td>\n",
       "      <td>674.0</td>\n",
       "      <td>878.0</td>\n",
       "      <td>102.0</td>\n",
       "      <td>102.0</td>\n",
       "      <td>NA</td>\n",
       "      <td>1.0</td>\n",
       "      <td>0.0</td>\n",
       "      <td>1.0</td>\n",
       "      <td>65.2</td>\n",
       "    </tr>\n",
       "    <tr>\n",
       "      <th>14</th>\n",
       "      <td>15</td>\n",
       "      <td>Complement</td>\n",
       "      <td>4</td>\n",
       "      <td>677.0</td>\n",
       "      <td>881.0</td>\n",
       "      <td>99.0</td>\n",
       "      <td>99.0</td>\n",
       "      <td>NA</td>\n",
       "      <td>1.0</td>\n",
       "      <td>0.0</td>\n",
       "      <td>1.0</td>\n",
       "      <td>65.7</td>\n",
       "    </tr>\n",
       "    <tr>\n",
       "      <th>15</th>\n",
       "      <td>16</td>\n",
       "      <td>Complement</td>\n",
       "      <td>4</td>\n",
       "      <td>680.0</td>\n",
       "      <td>884.0</td>\n",
       "      <td>96.0</td>\n",
       "      <td>96.0</td>\n",
       "      <td>NA</td>\n",
       "      <td>1.0</td>\n",
       "      <td>0.0</td>\n",
       "      <td>1.0</td>\n",
       "      <td>66.2</td>\n",
       "    </tr>\n",
       "    <tr>\n",
       "      <th>16</th>\n",
       "      <td>17</td>\n",
       "      <td>Complement</td>\n",
       "      <td>4</td>\n",
       "      <td>683.0</td>\n",
       "      <td>887.0</td>\n",
       "      <td>93.0</td>\n",
       "      <td>93.0</td>\n",
       "      <td>NA</td>\n",
       "      <td>1.0</td>\n",
       "      <td>0.0</td>\n",
       "      <td>1.0</td>\n",
       "      <td>67.2</td>\n",
       "    </tr>\n",
       "    <tr>\n",
       "      <th>17</th>\n",
       "      <td>18</td>\n",
       "      <td>Complement</td>\n",
       "      <td>4</td>\n",
       "      <td>703.0</td>\n",
       "      <td>907.0</td>\n",
       "      <td>60.0</td>\n",
       "      <td>99.0</td>\n",
       "      <td>60</td>\n",
       "      <td>2.0</td>\n",
       "      <td>0.0</td>\n",
       "      <td>1.0</td>\n",
       "      <td>68.6</td>\n",
       "    </tr>\n",
       "    <tr>\n",
       "      <th>18</th>\n",
       "      <td>19</td>\n",
       "      <td>Complement</td>\n",
       "      <td>4</td>\n",
       "      <td>706.0</td>\n",
       "      <td>910.0</td>\n",
       "      <td>57.0</td>\n",
       "      <td>96.0</td>\n",
       "      <td>57</td>\n",
       "      <td>2.0</td>\n",
       "      <td>0.0</td>\n",
       "      <td>1.0</td>\n",
       "      <td>69.1</td>\n",
       "    </tr>\n",
       "    <tr>\n",
       "      <th>19</th>\n",
       "      <td>20</td>\n",
       "      <td>Complement</td>\n",
       "      <td>4</td>\n",
       "      <td>709.0</td>\n",
       "      <td>913.0</td>\n",
       "      <td>54.0</td>\n",
       "      <td>93.0</td>\n",
       "      <td>54</td>\n",
       "      <td>2.0</td>\n",
       "      <td>0.0</td>\n",
       "      <td>1.0</td>\n",
       "      <td>69.1</td>\n",
       "    </tr>\n",
       "  </tbody>\n",
       "</table>\n",
       "</div>"
      ],
      "text/plain": [
       "    SeqNumber     TypeSeq  Exon  StartSeq  StopSeq  firstTGG  centralTGG  \\\n",
       "0           1  Complement     4     469.0    673.0     111.0       111.0   \n",
       "1           2  Complement     4     472.0    676.0     108.0       108.0   \n",
       "2           3  Complement     4     475.0    679.0     105.0       105.0   \n",
       "3           4  Complement     4     478.0    682.0     102.0       102.0   \n",
       "4           5  Complement     4     481.0    685.0      99.0        99.0   \n",
       "5           6  Complement     4     484.0    688.0      96.0        96.0   \n",
       "6           7  Complement     4     487.0    691.0      93.0       108.0   \n",
       "7           8  Complement     4     490.0    694.0      90.0       105.0   \n",
       "8           9  Complement     4     493.0    697.0      87.0       102.0   \n",
       "9          10  Complement     4     496.0    700.0      84.0       102.0   \n",
       "10         11  Complement     4     665.0    869.0     111.0       111.0   \n",
       "11         12  Complement     4     668.0    872.0     108.0       108.0   \n",
       "12         13  Complement     4     671.0    875.0     105.0       105.0   \n",
       "13         14  Complement     4     674.0    878.0     102.0       102.0   \n",
       "14         15  Complement     4     677.0    881.0      99.0        99.0   \n",
       "15         16  Complement     4     680.0    884.0      96.0        96.0   \n",
       "16         17  Complement     4     683.0    887.0      93.0        93.0   \n",
       "17         18  Complement     4     703.0    907.0      60.0        99.0   \n",
       "18         19  Complement     4     706.0    910.0      57.0        96.0   \n",
       "19         20  Complement     4     709.0    913.0      54.0        93.0   \n",
       "\n",
       "   second_cTGG  numTGG  numATG  numStop  gcContent  \n",
       "0          126     3.0     0.0      1.0       66.2  \n",
       "1          123     3.0     0.0      1.0       66.2  \n",
       "2          120     4.0     0.0      1.0       66.2  \n",
       "3          117     4.0     0.0      1.0       65.7  \n",
       "4          114     5.0     0.0      1.0       65.7  \n",
       "5          111     5.0     0.0      1.0       65.2  \n",
       "6           93     5.0     0.0      1.0       65.7  \n",
       "7          108     5.0     0.0      1.0       65.7  \n",
       "8          105     5.0     0.0      1.0       65.7  \n",
       "9           99     5.0     0.0      1.0       65.2  \n",
       "10          NA     1.0     0.0      1.0       64.7  \n",
       "11          NA     1.0     0.0      1.0       64.7  \n",
       "12          NA     1.0     0.0      1.0       64.7  \n",
       "13          NA     1.0     0.0      1.0       65.2  \n",
       "14          NA     1.0     0.0      1.0       65.7  \n",
       "15          NA     1.0     0.0      1.0       66.2  \n",
       "16          NA     1.0     0.0      1.0       67.2  \n",
       "17          60     2.0     0.0      1.0       68.6  \n",
       "18          57     2.0     0.0      1.0       69.1  \n",
       "19          54     2.0     0.0      1.0       69.1  "
      ]
     },
     "execution_count": 11,
     "metadata": {},
     "output_type": "execute_result"
    }
   ],
   "source": [
    "all_sequenceMetrics[all_sequenceMetrics['TypeSeq'] == 'Complement']"
   ]
  },
  {
   "cell_type": "code",
   "execution_count": null,
   "id": "20bef703-b8ba-4043-a2b0-e559e0bdbf9c",
   "metadata": {},
   "outputs": [],
   "source": []
  },
  {
   "cell_type": "code",
   "execution_count": 12,
   "id": "permanent-poison",
   "metadata": {
    "execution": {
     "iopub.execute_input": "2021-05-11T08:29:56.372767Z",
     "iopub.status.busy": "2021-05-11T08:29:56.372450Z",
     "iopub.status.idle": "2021-05-11T08:29:56.378903Z",
     "shell.execute_reply": "2021-05-11T08:29:56.378325Z",
     "shell.execute_reply.started": "2021-05-11T08:29:56.372734Z"
    },
    "scrolled": true,
    "tags": []
   },
   "outputs": [
    {
     "name": "stdout",
     "output_type": "stream",
     "text": [
      "201\n",
      "204\n",
      "207\n",
      "210\n",
      "213\n",
      "216\n",
      "219\n",
      "222\n",
      "225\n",
      "228\n",
      "231\n",
      "234\n",
      "237\n",
      "240\n",
      "243\n",
      "246\n",
      "249\n",
      "252\n",
      "255\n",
      "258\n",
      "261\n",
      "264\n",
      "267\n",
      "270\n",
      "273\n",
      "276\n",
      "279\n",
      "282\n",
      "285\n",
      "288\n",
      "291\n",
      "294\n",
      "297\n"
     ]
    }
   ],
   "source": [
    "# Initial if want to check variable length sesRNAs \n",
    "for i in range(200, 300):\n",
    "    if(i%3 == 0):\n",
    "        print(i)"
   ]
  },
  {
   "cell_type": "code",
   "execution_count": null,
   "id": "naked-desktop",
   "metadata": {},
   "outputs": [],
   "source": []
  },
  {
   "cell_type": "markdown",
   "id": "de55e562-ad5a-49b7-873e-2fd59d473e04",
   "metadata": {},
   "source": [
    "# Secondary structure "
   ]
  },
  {
   "cell_type": "markdown",
   "id": "40364920-4c4a-408f-82e2-e15f943024e7",
   "metadata": {},
   "source": [
    "## Working "
   ]
  },
  {
   "cell_type": "code",
   "execution_count": 13,
   "id": "4f88e685-11fe-46e9-b4bb-fd378444e96a",
   "metadata": {
    "execution": {
     "iopub.execute_input": "2021-05-11T08:29:56.380039Z",
     "iopub.status.busy": "2021-05-11T08:29:56.379758Z",
     "iopub.status.idle": "2021-05-11T08:29:57.199236Z",
     "shell.execute_reply": "2021-05-11T08:29:57.198667Z",
     "shell.execute_reply.started": "2021-05-11T08:29:56.380010Z"
    },
    "tags": []
   },
   "outputs": [
    {
     "data": {
      "text/html": [
       "<div>\n",
       "<style scoped>\n",
       "    .dataframe tbody tr th:only-of-type {\n",
       "        vertical-align: middle;\n",
       "    }\n",
       "\n",
       "    .dataframe tbody tr th {\n",
       "        vertical-align: top;\n",
       "    }\n",
       "\n",
       "    .dataframe thead th {\n",
       "        text-align: right;\n",
       "    }\n",
       "</style>\n",
       "<table border=\"1\" class=\"dataframe\">\n",
       "  <thead>\n",
       "    <tr style=\"text-align: right;\">\n",
       "      <th></th>\n",
       "      <th>SeqNumber</th>\n",
       "      <th>TypeSeq</th>\n",
       "      <th>Exon</th>\n",
       "      <th>StartSeq</th>\n",
       "      <th>StopSeq</th>\n",
       "      <th>firstTGG</th>\n",
       "      <th>centralTGG</th>\n",
       "      <th>second_cTGG</th>\n",
       "      <th>numTGG</th>\n",
       "      <th>numATG</th>\n",
       "      <th>numStop</th>\n",
       "      <th>gcContent</th>\n",
       "      <th>mfe</th>\n",
       "    </tr>\n",
       "  </thead>\n",
       "  <tbody>\n",
       "    <tr>\n",
       "      <th>0</th>\n",
       "      <td>1</td>\n",
       "      <td>Reverse</td>\n",
       "      <td>4</td>\n",
       "      <td>436.0</td>\n",
       "      <td>640.0</td>\n",
       "      <td>99.0</td>\n",
       "      <td>99.0</td>\n",
       "      <td>NA</td>\n",
       "      <td>1.0</td>\n",
       "      <td>0.0</td>\n",
       "      <td>1.0</td>\n",
       "      <td>65.7</td>\n",
       "      <td>-93.5</td>\n",
       "    </tr>\n",
       "    <tr>\n",
       "      <th>1</th>\n",
       "      <td>2</td>\n",
       "      <td>Reverse</td>\n",
       "      <td>4</td>\n",
       "      <td>439.0</td>\n",
       "      <td>643.0</td>\n",
       "      <td>96.0</td>\n",
       "      <td>96.0</td>\n",
       "      <td>NA</td>\n",
       "      <td>1.0</td>\n",
       "      <td>0.0</td>\n",
       "      <td>1.0</td>\n",
       "      <td>65.7</td>\n",
       "      <td>-94.9</td>\n",
       "    </tr>\n",
       "    <tr>\n",
       "      <th>2</th>\n",
       "      <td>3</td>\n",
       "      <td>Reverse</td>\n",
       "      <td>4</td>\n",
       "      <td>442.0</td>\n",
       "      <td>646.0</td>\n",
       "      <td>93.0</td>\n",
       "      <td>93.0</td>\n",
       "      <td>NA</td>\n",
       "      <td>1.0</td>\n",
       "      <td>0.0</td>\n",
       "      <td>1.0</td>\n",
       "      <td>65.2</td>\n",
       "      <td>-90.0</td>\n",
       "    </tr>\n",
       "    <tr>\n",
       "      <th>3</th>\n",
       "      <td>4</td>\n",
       "      <td>Reverse</td>\n",
       "      <td>4</td>\n",
       "      <td>479.0</td>\n",
       "      <td>683.0</td>\n",
       "      <td>111.0</td>\n",
       "      <td>111.0</td>\n",
       "      <td>174</td>\n",
       "      <td>4.0</td>\n",
       "      <td>0.0</td>\n",
       "      <td>1.0</td>\n",
       "      <td>68.1</td>\n",
       "      <td>-96.9</td>\n",
       "    </tr>\n",
       "    <tr>\n",
       "      <th>0</th>\n",
       "      <td>1</td>\n",
       "      <td>Complement</td>\n",
       "      <td>4</td>\n",
       "      <td>469.0</td>\n",
       "      <td>673.0</td>\n",
       "      <td>111.0</td>\n",
       "      <td>111.0</td>\n",
       "      <td>126</td>\n",
       "      <td>3.0</td>\n",
       "      <td>0.0</td>\n",
       "      <td>1.0</td>\n",
       "      <td>66.2</td>\n",
       "      <td>-92.0</td>\n",
       "    </tr>\n",
       "    <tr>\n",
       "      <th>1</th>\n",
       "      <td>2</td>\n",
       "      <td>Complement</td>\n",
       "      <td>4</td>\n",
       "      <td>472.0</td>\n",
       "      <td>676.0</td>\n",
       "      <td>108.0</td>\n",
       "      <td>108.0</td>\n",
       "      <td>123</td>\n",
       "      <td>3.0</td>\n",
       "      <td>0.0</td>\n",
       "      <td>1.0</td>\n",
       "      <td>66.2</td>\n",
       "      <td>-91.9</td>\n",
       "    </tr>\n",
       "    <tr>\n",
       "      <th>2</th>\n",
       "      <td>3</td>\n",
       "      <td>Complement</td>\n",
       "      <td>4</td>\n",
       "      <td>475.0</td>\n",
       "      <td>679.0</td>\n",
       "      <td>105.0</td>\n",
       "      <td>105.0</td>\n",
       "      <td>120</td>\n",
       "      <td>4.0</td>\n",
       "      <td>0.0</td>\n",
       "      <td>1.0</td>\n",
       "      <td>66.2</td>\n",
       "      <td>-87.4</td>\n",
       "    </tr>\n",
       "    <tr>\n",
       "      <th>3</th>\n",
       "      <td>4</td>\n",
       "      <td>Complement</td>\n",
       "      <td>4</td>\n",
       "      <td>478.0</td>\n",
       "      <td>682.0</td>\n",
       "      <td>102.0</td>\n",
       "      <td>102.0</td>\n",
       "      <td>117</td>\n",
       "      <td>4.0</td>\n",
       "      <td>0.0</td>\n",
       "      <td>1.0</td>\n",
       "      <td>65.7</td>\n",
       "      <td>-84.4</td>\n",
       "    </tr>\n",
       "    <tr>\n",
       "      <th>4</th>\n",
       "      <td>5</td>\n",
       "      <td>Complement</td>\n",
       "      <td>4</td>\n",
       "      <td>481.0</td>\n",
       "      <td>685.0</td>\n",
       "      <td>99.0</td>\n",
       "      <td>99.0</td>\n",
       "      <td>114</td>\n",
       "      <td>5.0</td>\n",
       "      <td>0.0</td>\n",
       "      <td>1.0</td>\n",
       "      <td>65.7</td>\n",
       "      <td>-86.3</td>\n",
       "    </tr>\n",
       "    <tr>\n",
       "      <th>5</th>\n",
       "      <td>6</td>\n",
       "      <td>Complement</td>\n",
       "      <td>4</td>\n",
       "      <td>484.0</td>\n",
       "      <td>688.0</td>\n",
       "      <td>96.0</td>\n",
       "      <td>96.0</td>\n",
       "      <td>111</td>\n",
       "      <td>5.0</td>\n",
       "      <td>0.0</td>\n",
       "      <td>1.0</td>\n",
       "      <td>65.2</td>\n",
       "      <td>-84.9</td>\n",
       "    </tr>\n",
       "    <tr>\n",
       "      <th>6</th>\n",
       "      <td>7</td>\n",
       "      <td>Complement</td>\n",
       "      <td>4</td>\n",
       "      <td>487.0</td>\n",
       "      <td>691.0</td>\n",
       "      <td>93.0</td>\n",
       "      <td>108.0</td>\n",
       "      <td>93</td>\n",
       "      <td>5.0</td>\n",
       "      <td>0.0</td>\n",
       "      <td>1.0</td>\n",
       "      <td>65.7</td>\n",
       "      <td>-84.9</td>\n",
       "    </tr>\n",
       "    <tr>\n",
       "      <th>7</th>\n",
       "      <td>8</td>\n",
       "      <td>Complement</td>\n",
       "      <td>4</td>\n",
       "      <td>490.0</td>\n",
       "      <td>694.0</td>\n",
       "      <td>90.0</td>\n",
       "      <td>105.0</td>\n",
       "      <td>108</td>\n",
       "      <td>5.0</td>\n",
       "      <td>0.0</td>\n",
       "      <td>1.0</td>\n",
       "      <td>65.7</td>\n",
       "      <td>-87.7</td>\n",
       "    </tr>\n",
       "    <tr>\n",
       "      <th>8</th>\n",
       "      <td>9</td>\n",
       "      <td>Complement</td>\n",
       "      <td>4</td>\n",
       "      <td>493.0</td>\n",
       "      <td>697.0</td>\n",
       "      <td>87.0</td>\n",
       "      <td>102.0</td>\n",
       "      <td>105</td>\n",
       "      <td>5.0</td>\n",
       "      <td>0.0</td>\n",
       "      <td>1.0</td>\n",
       "      <td>65.7</td>\n",
       "      <td>-88.7</td>\n",
       "    </tr>\n",
       "    <tr>\n",
       "      <th>9</th>\n",
       "      <td>10</td>\n",
       "      <td>Complement</td>\n",
       "      <td>4</td>\n",
       "      <td>496.0</td>\n",
       "      <td>700.0</td>\n",
       "      <td>84.0</td>\n",
       "      <td>102.0</td>\n",
       "      <td>99</td>\n",
       "      <td>5.0</td>\n",
       "      <td>0.0</td>\n",
       "      <td>1.0</td>\n",
       "      <td>65.2</td>\n",
       "      <td>-87.1</td>\n",
       "    </tr>\n",
       "    <tr>\n",
       "      <th>10</th>\n",
       "      <td>11</td>\n",
       "      <td>Complement</td>\n",
       "      <td>4</td>\n",
       "      <td>665.0</td>\n",
       "      <td>869.0</td>\n",
       "      <td>111.0</td>\n",
       "      <td>111.0</td>\n",
       "      <td>NA</td>\n",
       "      <td>1.0</td>\n",
       "      <td>0.0</td>\n",
       "      <td>1.0</td>\n",
       "      <td>64.7</td>\n",
       "      <td>-82.8</td>\n",
       "    </tr>\n",
       "    <tr>\n",
       "      <th>11</th>\n",
       "      <td>12</td>\n",
       "      <td>Complement</td>\n",
       "      <td>4</td>\n",
       "      <td>668.0</td>\n",
       "      <td>872.0</td>\n",
       "      <td>108.0</td>\n",
       "      <td>108.0</td>\n",
       "      <td>NA</td>\n",
       "      <td>1.0</td>\n",
       "      <td>0.0</td>\n",
       "      <td>1.0</td>\n",
       "      <td>64.7</td>\n",
       "      <td>-83.1</td>\n",
       "    </tr>\n",
       "    <tr>\n",
       "      <th>12</th>\n",
       "      <td>13</td>\n",
       "      <td>Complement</td>\n",
       "      <td>4</td>\n",
       "      <td>671.0</td>\n",
       "      <td>875.0</td>\n",
       "      <td>105.0</td>\n",
       "      <td>105.0</td>\n",
       "      <td>NA</td>\n",
       "      <td>1.0</td>\n",
       "      <td>0.0</td>\n",
       "      <td>1.0</td>\n",
       "      <td>64.7</td>\n",
       "      <td>-81.1</td>\n",
       "    </tr>\n",
       "    <tr>\n",
       "      <th>13</th>\n",
       "      <td>14</td>\n",
       "      <td>Complement</td>\n",
       "      <td>4</td>\n",
       "      <td>674.0</td>\n",
       "      <td>878.0</td>\n",
       "      <td>102.0</td>\n",
       "      <td>102.0</td>\n",
       "      <td>NA</td>\n",
       "      <td>1.0</td>\n",
       "      <td>0.0</td>\n",
       "      <td>1.0</td>\n",
       "      <td>65.2</td>\n",
       "      <td>-81.5</td>\n",
       "    </tr>\n",
       "    <tr>\n",
       "      <th>14</th>\n",
       "      <td>15</td>\n",
       "      <td>Complement</td>\n",
       "      <td>4</td>\n",
       "      <td>677.0</td>\n",
       "      <td>881.0</td>\n",
       "      <td>99.0</td>\n",
       "      <td>99.0</td>\n",
       "      <td>NA</td>\n",
       "      <td>1.0</td>\n",
       "      <td>0.0</td>\n",
       "      <td>1.0</td>\n",
       "      <td>65.7</td>\n",
       "      <td>-85.0</td>\n",
       "    </tr>\n",
       "    <tr>\n",
       "      <th>15</th>\n",
       "      <td>16</td>\n",
       "      <td>Complement</td>\n",
       "      <td>4</td>\n",
       "      <td>680.0</td>\n",
       "      <td>884.0</td>\n",
       "      <td>96.0</td>\n",
       "      <td>96.0</td>\n",
       "      <td>NA</td>\n",
       "      <td>1.0</td>\n",
       "      <td>0.0</td>\n",
       "      <td>1.0</td>\n",
       "      <td>66.2</td>\n",
       "      <td>-85.5</td>\n",
       "    </tr>\n",
       "    <tr>\n",
       "      <th>16</th>\n",
       "      <td>17</td>\n",
       "      <td>Complement</td>\n",
       "      <td>4</td>\n",
       "      <td>683.0</td>\n",
       "      <td>887.0</td>\n",
       "      <td>93.0</td>\n",
       "      <td>93.0</td>\n",
       "      <td>NA</td>\n",
       "      <td>1.0</td>\n",
       "      <td>0.0</td>\n",
       "      <td>1.0</td>\n",
       "      <td>67.2</td>\n",
       "      <td>-87.4</td>\n",
       "    </tr>\n",
       "    <tr>\n",
       "      <th>17</th>\n",
       "      <td>18</td>\n",
       "      <td>Complement</td>\n",
       "      <td>4</td>\n",
       "      <td>703.0</td>\n",
       "      <td>907.0</td>\n",
       "      <td>60.0</td>\n",
       "      <td>99.0</td>\n",
       "      <td>60</td>\n",
       "      <td>2.0</td>\n",
       "      <td>0.0</td>\n",
       "      <td>1.0</td>\n",
       "      <td>68.6</td>\n",
       "      <td>-96.5</td>\n",
       "    </tr>\n",
       "    <tr>\n",
       "      <th>18</th>\n",
       "      <td>19</td>\n",
       "      <td>Complement</td>\n",
       "      <td>4</td>\n",
       "      <td>706.0</td>\n",
       "      <td>910.0</td>\n",
       "      <td>57.0</td>\n",
       "      <td>96.0</td>\n",
       "      <td>57</td>\n",
       "      <td>2.0</td>\n",
       "      <td>0.0</td>\n",
       "      <td>1.0</td>\n",
       "      <td>69.1</td>\n",
       "      <td>-96.3</td>\n",
       "    </tr>\n",
       "    <tr>\n",
       "      <th>19</th>\n",
       "      <td>20</td>\n",
       "      <td>Complement</td>\n",
       "      <td>4</td>\n",
       "      <td>709.0</td>\n",
       "      <td>913.0</td>\n",
       "      <td>54.0</td>\n",
       "      <td>93.0</td>\n",
       "      <td>54</td>\n",
       "      <td>2.0</td>\n",
       "      <td>0.0</td>\n",
       "      <td>1.0</td>\n",
       "      <td>69.1</td>\n",
       "      <td>-99.1</td>\n",
       "    </tr>\n",
       "  </tbody>\n",
       "</table>\n",
       "</div>"
      ],
      "text/plain": [
       "    SeqNumber     TypeSeq  Exon  StartSeq  StopSeq  firstTGG  centralTGG  \\\n",
       "0           1     Reverse     4     436.0    640.0      99.0        99.0   \n",
       "1           2     Reverse     4     439.0    643.0      96.0        96.0   \n",
       "2           3     Reverse     4     442.0    646.0      93.0        93.0   \n",
       "3           4     Reverse     4     479.0    683.0     111.0       111.0   \n",
       "0           1  Complement     4     469.0    673.0     111.0       111.0   \n",
       "1           2  Complement     4     472.0    676.0     108.0       108.0   \n",
       "2           3  Complement     4     475.0    679.0     105.0       105.0   \n",
       "3           4  Complement     4     478.0    682.0     102.0       102.0   \n",
       "4           5  Complement     4     481.0    685.0      99.0        99.0   \n",
       "5           6  Complement     4     484.0    688.0      96.0        96.0   \n",
       "6           7  Complement     4     487.0    691.0      93.0       108.0   \n",
       "7           8  Complement     4     490.0    694.0      90.0       105.0   \n",
       "8           9  Complement     4     493.0    697.0      87.0       102.0   \n",
       "9          10  Complement     4     496.0    700.0      84.0       102.0   \n",
       "10         11  Complement     4     665.0    869.0     111.0       111.0   \n",
       "11         12  Complement     4     668.0    872.0     108.0       108.0   \n",
       "12         13  Complement     4     671.0    875.0     105.0       105.0   \n",
       "13         14  Complement     4     674.0    878.0     102.0       102.0   \n",
       "14         15  Complement     4     677.0    881.0      99.0        99.0   \n",
       "15         16  Complement     4     680.0    884.0      96.0        96.0   \n",
       "16         17  Complement     4     683.0    887.0      93.0        93.0   \n",
       "17         18  Complement     4     703.0    907.0      60.0        99.0   \n",
       "18         19  Complement     4     706.0    910.0      57.0        96.0   \n",
       "19         20  Complement     4     709.0    913.0      54.0        93.0   \n",
       "\n",
       "   second_cTGG  numTGG  numATG  numStop  gcContent   mfe  \n",
       "0           NA     1.0     0.0      1.0       65.7 -93.5  \n",
       "1           NA     1.0     0.0      1.0       65.7 -94.9  \n",
       "2           NA     1.0     0.0      1.0       65.2 -90.0  \n",
       "3          174     4.0     0.0      1.0       68.1 -96.9  \n",
       "0          126     3.0     0.0      1.0       66.2 -92.0  \n",
       "1          123     3.0     0.0      1.0       66.2 -91.9  \n",
       "2          120     4.0     0.0      1.0       66.2 -87.4  \n",
       "3          117     4.0     0.0      1.0       65.7 -84.4  \n",
       "4          114     5.0     0.0      1.0       65.7 -86.3  \n",
       "5          111     5.0     0.0      1.0       65.2 -84.9  \n",
       "6           93     5.0     0.0      1.0       65.7 -84.9  \n",
       "7          108     5.0     0.0      1.0       65.7 -87.7  \n",
       "8          105     5.0     0.0      1.0       65.7 -88.7  \n",
       "9           99     5.0     0.0      1.0       65.2 -87.1  \n",
       "10          NA     1.0     0.0      1.0       64.7 -82.8  \n",
       "11          NA     1.0     0.0      1.0       64.7 -83.1  \n",
       "12          NA     1.0     0.0      1.0       64.7 -81.1  \n",
       "13          NA     1.0     0.0      1.0       65.2 -81.5  \n",
       "14          NA     1.0     0.0      1.0       65.7 -85.0  \n",
       "15          NA     1.0     0.0      1.0       66.2 -85.5  \n",
       "16          NA     1.0     0.0      1.0       67.2 -87.4  \n",
       "17          60     2.0     0.0      1.0       68.6 -96.5  \n",
       "18          57     2.0     0.0      1.0       69.1 -96.3  \n",
       "19          54     2.0     0.0      1.0       69.1 -99.1  "
      ]
     },
     "execution_count": 13,
     "metadata": {},
     "output_type": "execute_result"
    }
   ],
   "source": [
    "generate_RNApred(all_sesRNAs, all_sequenceMetrics, geneName)"
   ]
  },
  {
   "cell_type": "code",
   "execution_count": null,
   "id": "a109e29d-ee88-4736-9f69-29776198d27f",
   "metadata": {},
   "outputs": [],
   "source": []
  },
  {
   "cell_type": "code",
   "execution_count": 14,
   "id": "1ffdce5a-f43f-467f-bc80-f1648f30fe64",
   "metadata": {
    "execution": {
     "iopub.execute_input": "2021-05-11T08:29:57.200177Z",
     "iopub.status.busy": "2021-05-11T08:29:57.200003Z",
     "iopub.status.idle": "2021-05-11T08:29:57.205937Z",
     "shell.execute_reply": "2021-05-11T08:29:57.204941Z",
     "shell.execute_reply.started": "2021-05-11T08:29:57.200158Z"
    },
    "tags": []
   },
   "outputs": [],
   "source": [
    "def generate_mfeProb(sequenceMetrics): \n",
    "    rnaFold_prob = []\n",
    "\n",
    "    martBase = '/home/user1/Dropbox/Research/Neurobiology_PhD/Rotations/Huang/Projects/CellReadR/Code/Output/biomaRt/'\n",
    "    martBasePath = martBase + species\n",
    "    # Loading sequences for gene CDS\n",
    "    CDS_fileName = martBasePath + '/CDS_' + geneName + '.fasta'\n",
    "    \n",
    "    pathTemp = '/home/user1/Dropbox/Research/Neurobiology_PhD/Rotations/Huang/Projects/CellReadR/Code/Output/BioPython/Temp'\n",
    "    pathOutTempFold = pathTemp + '/temp.out'\n",
    "\n",
    "    # sorting files in output of scandir \n",
    "    for entry in sorted(os.scandir(pathTemp), key=lambda e: e.name):\n",
    "        # Defining command for RNAfold \n",
    "        commandFold = 'RNAfold -p -d2 --noLP < ' + entry.path + ' > ' + pathOutTempFold    \n",
    "        # Generating RNAfold predictions \n",
    "        generateProb = subprocess.run(commandFold, shell=True, stdout=subprocess.PIPE)\n",
    "        \n",
    "        # Moving to Temp directory to work on fasta files \n",
    "        currentWD = os.getcwd()\n",
    "        os.chdir('/home/user1/Dropbox/Research/Neurobiology_PhD/Rotations/Huang/Projects/CellReadR/Code/Output/BioPython/Temp')\n",
    "\n",
    "        # Running script for getting probabilities from RNAfold output file (added to ArchBin btw)\n",
    "        readProb = subprocess.Popen(\"rnaFold_prob.sh\", shell=True, stdout=subprocess.PIPE)\n",
    "        returnedProb = readProb.stdout.read()\n",
    "        # Waiting for last command to finish before storing value in temp.out file \n",
    "        readProb.wait()\n",
    "        # Append frequences ... convert to percentage \n",
    "        rnaFold_prob.append(round(float(returnedProb)*100, 3))\n",
    "        \n",
    "        # Removing temp.out after finishing each run \n",
    "        os.system('rm -rf temp.out')\n",
    "        os.system('rm -rf temp.csv')\n",
    "        # Return to initial working directory \n",
    "        os.chdir(currentWD)\n",
    "\n",
    "    # Removing files generated by RNAfold \n",
    "    os.system('rm -rf *ss.ps')\n",
    "    os.system('rm -rf *dp.ps')\n",
    "    \n",
    "    # Adding RNA fold mfe ensemble frequency to sequenceMetrics \n",
    "    sequenceMetrics['mfeFreq'] = rnaFold_prob\n",
    "    \n",
    "    return sequenceMetrics  "
   ]
  },
  {
   "cell_type": "code",
   "execution_count": 15,
   "id": "33993eff-2698-4408-97ec-19a003437ce3",
   "metadata": {
    "execution": {
     "iopub.execute_input": "2021-05-11T08:29:57.207224Z",
     "iopub.status.busy": "2021-05-11T08:29:57.206944Z",
     "iopub.status.idle": "2021-05-11T08:29:59.356403Z",
     "shell.execute_reply": "2021-05-11T08:29:59.355732Z",
     "shell.execute_reply.started": "2021-05-11T08:29:57.207196Z"
    }
   },
   "outputs": [
    {
     "data": {
      "text/html": [
       "<div>\n",
       "<style scoped>\n",
       "    .dataframe tbody tr th:only-of-type {\n",
       "        vertical-align: middle;\n",
       "    }\n",
       "\n",
       "    .dataframe tbody tr th {\n",
       "        vertical-align: top;\n",
       "    }\n",
       "\n",
       "    .dataframe thead th {\n",
       "        text-align: right;\n",
       "    }\n",
       "</style>\n",
       "<table border=\"1\" class=\"dataframe\">\n",
       "  <thead>\n",
       "    <tr style=\"text-align: right;\">\n",
       "      <th></th>\n",
       "      <th>SeqNumber</th>\n",
       "      <th>TypeSeq</th>\n",
       "      <th>Exon</th>\n",
       "      <th>StartSeq</th>\n",
       "      <th>StopSeq</th>\n",
       "      <th>firstTGG</th>\n",
       "      <th>centralTGG</th>\n",
       "      <th>second_cTGG</th>\n",
       "      <th>numTGG</th>\n",
       "      <th>numATG</th>\n",
       "      <th>numStop</th>\n",
       "      <th>gcContent</th>\n",
       "      <th>mfe</th>\n",
       "      <th>mfeFreq</th>\n",
       "    </tr>\n",
       "  </thead>\n",
       "  <tbody>\n",
       "    <tr>\n",
       "      <th>0</th>\n",
       "      <td>1</td>\n",
       "      <td>Reverse</td>\n",
       "      <td>4</td>\n",
       "      <td>436.0</td>\n",
       "      <td>640.0</td>\n",
       "      <td>99.0</td>\n",
       "      <td>99.0</td>\n",
       "      <td>NA</td>\n",
       "      <td>1.0</td>\n",
       "      <td>0.0</td>\n",
       "      <td>1.0</td>\n",
       "      <td>65.7</td>\n",
       "      <td>-93.5</td>\n",
       "      <td>2.193</td>\n",
       "    </tr>\n",
       "    <tr>\n",
       "      <th>1</th>\n",
       "      <td>2</td>\n",
       "      <td>Reverse</td>\n",
       "      <td>4</td>\n",
       "      <td>439.0</td>\n",
       "      <td>643.0</td>\n",
       "      <td>96.0</td>\n",
       "      <td>96.0</td>\n",
       "      <td>NA</td>\n",
       "      <td>1.0</td>\n",
       "      <td>0.0</td>\n",
       "      <td>1.0</td>\n",
       "      <td>65.7</td>\n",
       "      <td>-94.9</td>\n",
       "      <td>3.208</td>\n",
       "    </tr>\n",
       "    <tr>\n",
       "      <th>2</th>\n",
       "      <td>3</td>\n",
       "      <td>Reverse</td>\n",
       "      <td>4</td>\n",
       "      <td>442.0</td>\n",
       "      <td>646.0</td>\n",
       "      <td>93.0</td>\n",
       "      <td>93.0</td>\n",
       "      <td>NA</td>\n",
       "      <td>1.0</td>\n",
       "      <td>0.0</td>\n",
       "      <td>1.0</td>\n",
       "      <td>65.2</td>\n",
       "      <td>-90.0</td>\n",
       "      <td>1.363</td>\n",
       "    </tr>\n",
       "    <tr>\n",
       "      <th>3</th>\n",
       "      <td>4</td>\n",
       "      <td>Reverse</td>\n",
       "      <td>4</td>\n",
       "      <td>479.0</td>\n",
       "      <td>683.0</td>\n",
       "      <td>111.0</td>\n",
       "      <td>111.0</td>\n",
       "      <td>174</td>\n",
       "      <td>4.0</td>\n",
       "      <td>0.0</td>\n",
       "      <td>1.0</td>\n",
       "      <td>68.1</td>\n",
       "      <td>-96.9</td>\n",
       "      <td>1.163</td>\n",
       "    </tr>\n",
       "    <tr>\n",
       "      <th>0</th>\n",
       "      <td>1</td>\n",
       "      <td>Complement</td>\n",
       "      <td>4</td>\n",
       "      <td>469.0</td>\n",
       "      <td>673.0</td>\n",
       "      <td>111.0</td>\n",
       "      <td>111.0</td>\n",
       "      <td>126</td>\n",
       "      <td>3.0</td>\n",
       "      <td>0.0</td>\n",
       "      <td>1.0</td>\n",
       "      <td>66.2</td>\n",
       "      <td>-92.0</td>\n",
       "      <td>1.368</td>\n",
       "    </tr>\n",
       "    <tr>\n",
       "      <th>1</th>\n",
       "      <td>2</td>\n",
       "      <td>Complement</td>\n",
       "      <td>4</td>\n",
       "      <td>472.0</td>\n",
       "      <td>676.0</td>\n",
       "      <td>108.0</td>\n",
       "      <td>108.0</td>\n",
       "      <td>123</td>\n",
       "      <td>3.0</td>\n",
       "      <td>0.0</td>\n",
       "      <td>1.0</td>\n",
       "      <td>66.2</td>\n",
       "      <td>-91.9</td>\n",
       "      <td>1.493</td>\n",
       "    </tr>\n",
       "    <tr>\n",
       "      <th>2</th>\n",
       "      <td>3</td>\n",
       "      <td>Complement</td>\n",
       "      <td>4</td>\n",
       "      <td>475.0</td>\n",
       "      <td>679.0</td>\n",
       "      <td>105.0</td>\n",
       "      <td>105.0</td>\n",
       "      <td>120</td>\n",
       "      <td>4.0</td>\n",
       "      <td>0.0</td>\n",
       "      <td>1.0</td>\n",
       "      <td>66.2</td>\n",
       "      <td>-87.4</td>\n",
       "      <td>0.645</td>\n",
       "    </tr>\n",
       "    <tr>\n",
       "      <th>3</th>\n",
       "      <td>4</td>\n",
       "      <td>Complement</td>\n",
       "      <td>4</td>\n",
       "      <td>478.0</td>\n",
       "      <td>682.0</td>\n",
       "      <td>102.0</td>\n",
       "      <td>102.0</td>\n",
       "      <td>117</td>\n",
       "      <td>4.0</td>\n",
       "      <td>0.0</td>\n",
       "      <td>1.0</td>\n",
       "      <td>65.7</td>\n",
       "      <td>-84.4</td>\n",
       "      <td>1.875</td>\n",
       "    </tr>\n",
       "    <tr>\n",
       "      <th>4</th>\n",
       "      <td>5</td>\n",
       "      <td>Complement</td>\n",
       "      <td>4</td>\n",
       "      <td>481.0</td>\n",
       "      <td>685.0</td>\n",
       "      <td>99.0</td>\n",
       "      <td>99.0</td>\n",
       "      <td>114</td>\n",
       "      <td>5.0</td>\n",
       "      <td>0.0</td>\n",
       "      <td>1.0</td>\n",
       "      <td>65.7</td>\n",
       "      <td>-86.3</td>\n",
       "      <td>14.153</td>\n",
       "    </tr>\n",
       "    <tr>\n",
       "      <th>5</th>\n",
       "      <td>6</td>\n",
       "      <td>Complement</td>\n",
       "      <td>4</td>\n",
       "      <td>484.0</td>\n",
       "      <td>688.0</td>\n",
       "      <td>96.0</td>\n",
       "      <td>96.0</td>\n",
       "      <td>111</td>\n",
       "      <td>5.0</td>\n",
       "      <td>0.0</td>\n",
       "      <td>1.0</td>\n",
       "      <td>65.2</td>\n",
       "      <td>-84.9</td>\n",
       "      <td>0.631</td>\n",
       "    </tr>\n",
       "    <tr>\n",
       "      <th>6</th>\n",
       "      <td>7</td>\n",
       "      <td>Complement</td>\n",
       "      <td>4</td>\n",
       "      <td>487.0</td>\n",
       "      <td>691.0</td>\n",
       "      <td>93.0</td>\n",
       "      <td>108.0</td>\n",
       "      <td>93</td>\n",
       "      <td>5.0</td>\n",
       "      <td>0.0</td>\n",
       "      <td>1.0</td>\n",
       "      <td>65.7</td>\n",
       "      <td>-84.9</td>\n",
       "      <td>0.930</td>\n",
       "    </tr>\n",
       "    <tr>\n",
       "      <th>7</th>\n",
       "      <td>8</td>\n",
       "      <td>Complement</td>\n",
       "      <td>4</td>\n",
       "      <td>490.0</td>\n",
       "      <td>694.0</td>\n",
       "      <td>90.0</td>\n",
       "      <td>105.0</td>\n",
       "      <td>108</td>\n",
       "      <td>5.0</td>\n",
       "      <td>0.0</td>\n",
       "      <td>1.0</td>\n",
       "      <td>65.7</td>\n",
       "      <td>-87.7</td>\n",
       "      <td>3.191</td>\n",
       "    </tr>\n",
       "    <tr>\n",
       "      <th>8</th>\n",
       "      <td>9</td>\n",
       "      <td>Complement</td>\n",
       "      <td>4</td>\n",
       "      <td>493.0</td>\n",
       "      <td>697.0</td>\n",
       "      <td>87.0</td>\n",
       "      <td>102.0</td>\n",
       "      <td>105</td>\n",
       "      <td>5.0</td>\n",
       "      <td>0.0</td>\n",
       "      <td>1.0</td>\n",
       "      <td>65.7</td>\n",
       "      <td>-88.7</td>\n",
       "      <td>2.822</td>\n",
       "    </tr>\n",
       "    <tr>\n",
       "      <th>9</th>\n",
       "      <td>10</td>\n",
       "      <td>Complement</td>\n",
       "      <td>4</td>\n",
       "      <td>496.0</td>\n",
       "      <td>700.0</td>\n",
       "      <td>84.0</td>\n",
       "      <td>102.0</td>\n",
       "      <td>99</td>\n",
       "      <td>5.0</td>\n",
       "      <td>0.0</td>\n",
       "      <td>1.0</td>\n",
       "      <td>65.2</td>\n",
       "      <td>-87.1</td>\n",
       "      <td>1.468</td>\n",
       "    </tr>\n",
       "    <tr>\n",
       "      <th>10</th>\n",
       "      <td>11</td>\n",
       "      <td>Complement</td>\n",
       "      <td>4</td>\n",
       "      <td>665.0</td>\n",
       "      <td>869.0</td>\n",
       "      <td>111.0</td>\n",
       "      <td>111.0</td>\n",
       "      <td>NA</td>\n",
       "      <td>1.0</td>\n",
       "      <td>0.0</td>\n",
       "      <td>1.0</td>\n",
       "      <td>64.7</td>\n",
       "      <td>-82.8</td>\n",
       "      <td>0.033</td>\n",
       "    </tr>\n",
       "    <tr>\n",
       "      <th>11</th>\n",
       "      <td>12</td>\n",
       "      <td>Complement</td>\n",
       "      <td>4</td>\n",
       "      <td>668.0</td>\n",
       "      <td>872.0</td>\n",
       "      <td>108.0</td>\n",
       "      <td>108.0</td>\n",
       "      <td>NA</td>\n",
       "      <td>1.0</td>\n",
       "      <td>0.0</td>\n",
       "      <td>1.0</td>\n",
       "      <td>64.7</td>\n",
       "      <td>-83.1</td>\n",
       "      <td>0.080</td>\n",
       "    </tr>\n",
       "    <tr>\n",
       "      <th>12</th>\n",
       "      <td>13</td>\n",
       "      <td>Complement</td>\n",
       "      <td>4</td>\n",
       "      <td>671.0</td>\n",
       "      <td>875.0</td>\n",
       "      <td>105.0</td>\n",
       "      <td>105.0</td>\n",
       "      <td>NA</td>\n",
       "      <td>1.0</td>\n",
       "      <td>0.0</td>\n",
       "      <td>1.0</td>\n",
       "      <td>64.7</td>\n",
       "      <td>-81.1</td>\n",
       "      <td>0.026</td>\n",
       "    </tr>\n",
       "    <tr>\n",
       "      <th>13</th>\n",
       "      <td>14</td>\n",
       "      <td>Complement</td>\n",
       "      <td>4</td>\n",
       "      <td>674.0</td>\n",
       "      <td>878.0</td>\n",
       "      <td>102.0</td>\n",
       "      <td>102.0</td>\n",
       "      <td>NA</td>\n",
       "      <td>1.0</td>\n",
       "      <td>0.0</td>\n",
       "      <td>1.0</td>\n",
       "      <td>65.2</td>\n",
       "      <td>-81.5</td>\n",
       "      <td>0.011</td>\n",
       "    </tr>\n",
       "    <tr>\n",
       "      <th>14</th>\n",
       "      <td>15</td>\n",
       "      <td>Complement</td>\n",
       "      <td>4</td>\n",
       "      <td>677.0</td>\n",
       "      <td>881.0</td>\n",
       "      <td>99.0</td>\n",
       "      <td>99.0</td>\n",
       "      <td>NA</td>\n",
       "      <td>1.0</td>\n",
       "      <td>0.0</td>\n",
       "      <td>1.0</td>\n",
       "      <td>65.7</td>\n",
       "      <td>-85.0</td>\n",
       "      <td>0.128</td>\n",
       "    </tr>\n",
       "    <tr>\n",
       "      <th>15</th>\n",
       "      <td>16</td>\n",
       "      <td>Complement</td>\n",
       "      <td>4</td>\n",
       "      <td>680.0</td>\n",
       "      <td>884.0</td>\n",
       "      <td>96.0</td>\n",
       "      <td>96.0</td>\n",
       "      <td>NA</td>\n",
       "      <td>1.0</td>\n",
       "      <td>0.0</td>\n",
       "      <td>1.0</td>\n",
       "      <td>66.2</td>\n",
       "      <td>-85.5</td>\n",
       "      <td>0.079</td>\n",
       "    </tr>\n",
       "    <tr>\n",
       "      <th>16</th>\n",
       "      <td>17</td>\n",
       "      <td>Complement</td>\n",
       "      <td>4</td>\n",
       "      <td>683.0</td>\n",
       "      <td>887.0</td>\n",
       "      <td>93.0</td>\n",
       "      <td>93.0</td>\n",
       "      <td>NA</td>\n",
       "      <td>1.0</td>\n",
       "      <td>0.0</td>\n",
       "      <td>1.0</td>\n",
       "      <td>67.2</td>\n",
       "      <td>-87.4</td>\n",
       "      <td>0.452</td>\n",
       "    </tr>\n",
       "    <tr>\n",
       "      <th>17</th>\n",
       "      <td>18</td>\n",
       "      <td>Complement</td>\n",
       "      <td>4</td>\n",
       "      <td>703.0</td>\n",
       "      <td>907.0</td>\n",
       "      <td>60.0</td>\n",
       "      <td>99.0</td>\n",
       "      <td>60</td>\n",
       "      <td>2.0</td>\n",
       "      <td>0.0</td>\n",
       "      <td>1.0</td>\n",
       "      <td>68.6</td>\n",
       "      <td>-96.5</td>\n",
       "      <td>0.303</td>\n",
       "    </tr>\n",
       "    <tr>\n",
       "      <th>18</th>\n",
       "      <td>19</td>\n",
       "      <td>Complement</td>\n",
       "      <td>4</td>\n",
       "      <td>706.0</td>\n",
       "      <td>910.0</td>\n",
       "      <td>57.0</td>\n",
       "      <td>96.0</td>\n",
       "      <td>57</td>\n",
       "      <td>2.0</td>\n",
       "      <td>0.0</td>\n",
       "      <td>1.0</td>\n",
       "      <td>69.1</td>\n",
       "      <td>-96.3</td>\n",
       "      <td>0.341</td>\n",
       "    </tr>\n",
       "    <tr>\n",
       "      <th>19</th>\n",
       "      <td>20</td>\n",
       "      <td>Complement</td>\n",
       "      <td>4</td>\n",
       "      <td>709.0</td>\n",
       "      <td>913.0</td>\n",
       "      <td>54.0</td>\n",
       "      <td>93.0</td>\n",
       "      <td>54</td>\n",
       "      <td>2.0</td>\n",
       "      <td>0.0</td>\n",
       "      <td>1.0</td>\n",
       "      <td>69.1</td>\n",
       "      <td>-99.1</td>\n",
       "      <td>0.166</td>\n",
       "    </tr>\n",
       "  </tbody>\n",
       "</table>\n",
       "</div>"
      ],
      "text/plain": [
       "    SeqNumber     TypeSeq  Exon  StartSeq  StopSeq  firstTGG  centralTGG  \\\n",
       "0           1     Reverse     4     436.0    640.0      99.0        99.0   \n",
       "1           2     Reverse     4     439.0    643.0      96.0        96.0   \n",
       "2           3     Reverse     4     442.0    646.0      93.0        93.0   \n",
       "3           4     Reverse     4     479.0    683.0     111.0       111.0   \n",
       "0           1  Complement     4     469.0    673.0     111.0       111.0   \n",
       "1           2  Complement     4     472.0    676.0     108.0       108.0   \n",
       "2           3  Complement     4     475.0    679.0     105.0       105.0   \n",
       "3           4  Complement     4     478.0    682.0     102.0       102.0   \n",
       "4           5  Complement     4     481.0    685.0      99.0        99.0   \n",
       "5           6  Complement     4     484.0    688.0      96.0        96.0   \n",
       "6           7  Complement     4     487.0    691.0      93.0       108.0   \n",
       "7           8  Complement     4     490.0    694.0      90.0       105.0   \n",
       "8           9  Complement     4     493.0    697.0      87.0       102.0   \n",
       "9          10  Complement     4     496.0    700.0      84.0       102.0   \n",
       "10         11  Complement     4     665.0    869.0     111.0       111.0   \n",
       "11         12  Complement     4     668.0    872.0     108.0       108.0   \n",
       "12         13  Complement     4     671.0    875.0     105.0       105.0   \n",
       "13         14  Complement     4     674.0    878.0     102.0       102.0   \n",
       "14         15  Complement     4     677.0    881.0      99.0        99.0   \n",
       "15         16  Complement     4     680.0    884.0      96.0        96.0   \n",
       "16         17  Complement     4     683.0    887.0      93.0        93.0   \n",
       "17         18  Complement     4     703.0    907.0      60.0        99.0   \n",
       "18         19  Complement     4     706.0    910.0      57.0        96.0   \n",
       "19         20  Complement     4     709.0    913.0      54.0        93.0   \n",
       "\n",
       "   second_cTGG  numTGG  numATG  numStop  gcContent   mfe  mfeFreq  \n",
       "0           NA     1.0     0.0      1.0       65.7 -93.5    2.193  \n",
       "1           NA     1.0     0.0      1.0       65.7 -94.9    3.208  \n",
       "2           NA     1.0     0.0      1.0       65.2 -90.0    1.363  \n",
       "3          174     4.0     0.0      1.0       68.1 -96.9    1.163  \n",
       "0          126     3.0     0.0      1.0       66.2 -92.0    1.368  \n",
       "1          123     3.0     0.0      1.0       66.2 -91.9    1.493  \n",
       "2          120     4.0     0.0      1.0       66.2 -87.4    0.645  \n",
       "3          117     4.0     0.0      1.0       65.7 -84.4    1.875  \n",
       "4          114     5.0     0.0      1.0       65.7 -86.3   14.153  \n",
       "5          111     5.0     0.0      1.0       65.2 -84.9    0.631  \n",
       "6           93     5.0     0.0      1.0       65.7 -84.9    0.930  \n",
       "7          108     5.0     0.0      1.0       65.7 -87.7    3.191  \n",
       "8          105     5.0     0.0      1.0       65.7 -88.7    2.822  \n",
       "9           99     5.0     0.0      1.0       65.2 -87.1    1.468  \n",
       "10          NA     1.0     0.0      1.0       64.7 -82.8    0.033  \n",
       "11          NA     1.0     0.0      1.0       64.7 -83.1    0.080  \n",
       "12          NA     1.0     0.0      1.0       64.7 -81.1    0.026  \n",
       "13          NA     1.0     0.0      1.0       65.2 -81.5    0.011  \n",
       "14          NA     1.0     0.0      1.0       65.7 -85.0    0.128  \n",
       "15          NA     1.0     0.0      1.0       66.2 -85.5    0.079  \n",
       "16          NA     1.0     0.0      1.0       67.2 -87.4    0.452  \n",
       "17          60     2.0     0.0      1.0       68.6 -96.5    0.303  \n",
       "18          57     2.0     0.0      1.0       69.1 -96.3    0.341  \n",
       "19          54     2.0     0.0      1.0       69.1 -99.1    0.166  "
      ]
     },
     "execution_count": 15,
     "metadata": {},
     "output_type": "execute_result"
    }
   ],
   "source": [
    "fold_sequenceMetrics = generate_mfeProb(all_sequenceMetrics)\n",
    "fold_sequenceMetrics "
   ]
  },
  {
   "cell_type": "code",
   "execution_count": null,
   "id": "8f2d101b-8743-403b-b478-cee8562f9368",
   "metadata": {},
   "outputs": [],
   "source": []
  },
  {
   "cell_type": "code",
   "execution_count": null,
   "id": "81470769-73fc-4c35-a258-21c31d621879",
   "metadata": {},
   "outputs": [],
   "source": []
  },
  {
   "cell_type": "code",
   "execution_count": 16,
   "id": "b002e8d2-b54f-49a8-952e-d556bddb7f75",
   "metadata": {
    "execution": {
     "iopub.execute_input": "2021-05-11T08:29:59.357715Z",
     "iopub.status.busy": "2021-05-11T08:29:59.357456Z",
     "iopub.status.idle": "2021-05-11T08:29:59.364314Z",
     "shell.execute_reply": "2021-05-11T08:29:59.363587Z",
     "shell.execute_reply.started": "2021-05-11T08:29:59.357686Z"
    },
    "tags": []
   },
   "outputs": [],
   "source": [
    "def output_intaRNA(sequenceMetrics):\n",
    "    # Call RNAfold on each sequence of output \n",
    "    top_intarnaE = []\n",
    "\n",
    "    intarna_columns = ['E', 'start1', 'end1', 'start2', 'end2']\n",
    "    all_sorted_intarna = []\n",
    "    useful_intarna =  pd.DataFrame(columns = intarna_columns)\n",
    "\n",
    "    martBase = '/home/user1/Dropbox/Research/Neurobiology_PhD/Rotations/Huang/Projects/CellReadR/Code/Output/biomaRt/'\n",
    "    martBasePath = martBase + species\n",
    "    # Loading sequences for gene CDS\n",
    "    CDS_fileName = martBasePath + '/CDS_' + geneName + '.fasta'\n",
    "    \n",
    "    pathTemp = '/home/user1/Dropbox/Research/Neurobiology_PhD/Rotations/Huang/Projects/CellReadR/Code/Output/BioPython/Temp'\n",
    "    pathOutTempIntaRNA = pathTemp + '/temp.csv'\n",
    "\n",
    "    # sorting files in output of scandir \n",
    "    for entry in sorted(os.scandir(pathTemp), key=lambda e: e.name):\n",
    "        # For checking which file currently working on (not in order for some reason) \n",
    "        print(entry.path)\n",
    "\n",
    "        # Defining command for IntaRNA\n",
    "        numThreads = 10\n",
    "        commandInta = 'IntaRNA -t ' + CDS_fileName + ' -q ' + entry.path + ' --threads ' + str(numThreads) + ' --outMode=C > ' + pathOutTempIntaRNA\n",
    "        # Generating IntaRNA predictions \n",
    "        os.system(commandInta)\n",
    "        # Reading in csv file with information \n",
    "        intarnaOutput = pd.read_csv(pathOutTempIntaRNA, sep = ';')\n",
    "        # Saving pd output as list of lists ... would be a pain to compute multiple times if desired \n",
    "        sorted_intarna = intarnaOutput.sort_values('E', ascending=True)\n",
    "        # Concatinating select columuns of dataframe for inclusion into sequence metrics \n",
    "        all_sorted_intarna.append(sorted_intarna)\n",
    "        print(sorted_intarna)\n",
    "        # Getting first row ... with highest energy values ... and appending to DataFrame \n",
    "        useful_intarna = useful_intarna.append(sorted_intarna[intarna_columns].iloc[0:1])\n",
    "        \n",
    "        # Moving to Temp directory to work on fasta files \n",
    "        currentWD = os.getcwd()\n",
    "        os.chdir('/home/user1/Dropbox/Research/Neurobiology_PhD/Rotations/Huang/Projects/CellReadR/Code/Output/BioPython/Temp')\n",
    "\n",
    "        # Removing temp.out after finishing each run \n",
    "        os.system('rm -rf temp.out')\n",
    "        os.system('rm -rf temp.csv')\n",
    "        # Return to initial working directory \n",
    "        os.chdir(currentWD)\n",
    "\n",
    "    # Removing files generated by RNAfold \n",
    "    os.system('rm -rf *ss.ps')\n",
    "    os.system('rm -rf *dp.ps')\n",
    "    # Removing temp fasta files \n",
    "#     resetCommand = 'cd ' + pathTemp + ' && rm -rf *'\n",
    "#     os.system(resetCommand)\n",
    "    \n",
    "    # Have to reset index since useful_intarna is slice of many pd.DataFrames \n",
    "    out_sequenceMetrics = pd.concat([sequenceMetrics.reset_index(), useful_intarna.reset_index()], axis = 1)\n",
    "    \n",
    "    return out_sequenceMetrics "
   ]
  },
  {
   "cell_type": "code",
   "execution_count": 17,
   "id": "b4065dfd-6ba8-4186-a019-b2f6adc008ef",
   "metadata": {
    "execution": {
     "iopub.execute_input": "2021-05-11T08:29:59.365405Z",
     "iopub.status.busy": "2021-05-11T08:29:59.365190Z",
     "iopub.status.idle": "2021-05-11T08:43:05.471266Z",
     "shell.execute_reply": "2021-05-11T08:43:05.470336Z",
     "shell.execute_reply.started": "2021-05-11T08:29:59.365383Z"
    }
   },
   "outputs": [
    {
     "name": "stdout",
     "output_type": "stream",
     "text": [
      "/home/user1/Dropbox/Research/Neurobiology_PhD/Rotations/Huang/Projects/CellReadR/Code/Output/BioPython/Temp/PlxnD1_01.fasta\n",
      "      id1  start1  end1        id2  start2  end2  \\\n",
      "0  Plxnd1      54   202  PlxnD1_01      53   201   \n",
      "1  Plxnd1      54   202  PlxnD1_01      53   201   \n",
      "\n",
      "                                            subseqDP  \\\n",
      "0  GCCGCCGGCCUCCGGCACCGGGGGCAGCCGUCUGCUCGUGGGCGCC...   \n",
      "1  GCCGCCGGCCUCCGGCACCGGGGGCAGCCGUCUGCUCGUGGGCGCC...   \n",
      "\n",
      "                                            hybridDP       E  \n",
      "0  ((((((((((((((((((((((((((((((((((((((((((((((... -239.05  \n",
      "1  ((((((((((((((((((((((((((((((((((((((((((((((... -239.05  \n",
      "/home/user1/Dropbox/Research/Neurobiology_PhD/Rotations/Huang/Projects/CellReadR/Code/Output/BioPython/Temp/PlxnD1_02.fasta\n",
      "      id1  start1  end1        id2  start2  end2  \\\n",
      "0  Plxnd1      54   202  PlxnD1_02      50   198   \n",
      "1  Plxnd1      54   202  PlxnD1_02      50   198   \n",
      "\n",
      "                                            subseqDP  \\\n",
      "0  GCCGCCGGCCUCCGGCACCGGGGGCAGCCGUCUGCUCGUGGGCGCC...   \n",
      "1  GCCGCCGGCCUCCGGCACCGGGGGCAGCCGUCUGCUCGUGGGCGCC...   \n",
      "\n",
      "                                            hybridDP       E  \n",
      "0  ((((((((((((((((((((((((((((((((((((((((((((((... -239.05  \n",
      "1  ((((((((((((((((((((((((((((((((((((((((((((((... -239.05  \n",
      "/home/user1/Dropbox/Research/Neurobiology_PhD/Rotations/Huang/Projects/CellReadR/Code/Output/BioPython/Temp/PlxnD1_03.fasta\n",
      "      id1  start1  end1        id2  start2  end2  \\\n",
      "0  Plxnd1      54   202  PlxnD1_03      47   195   \n",
      "1  Plxnd1      54   202  PlxnD1_03      47   195   \n",
      "\n",
      "                                            subseqDP  \\\n",
      "0  GCCGCCGGCCUCCGGCACCGGGGGCAGCCGUCUGCUCGUGGGCGCC...   \n",
      "1  GCCGCCGGCCUCCGGCACCGGGGGCAGCCGUCUGCUCGUGGGCGCC...   \n",
      "\n",
      "                                            hybridDP       E  \n",
      "0  ((((((((((((((((((((((((((((((((((((((((((((((... -239.05  \n",
      "1  ((((((((((((((((((((((((((((((((((((((((((((((... -239.05  \n",
      "/home/user1/Dropbox/Research/Neurobiology_PhD/Rotations/Huang/Projects/CellReadR/Code/Output/BioPython/Temp/PlxnD1_04.fasta\n",
      "      id1  start1  end1        id2  start2  end2  \\\n",
      "0  Plxnd1      54   202  PlxnD1_04      10   158   \n",
      "1  Plxnd1      54   202  PlxnD1_04      10   158   \n",
      "\n",
      "                                            subseqDP  \\\n",
      "0  GCCGCCGGCCUCCGGCACCGGGGGCAGCCGUCUGCUCGUGGGCGCC...   \n",
      "1  GCCGCCGGCCUCCGGCACCGGGGGCAGCCGUCUGCUCGUGGGCGCC...   \n",
      "\n",
      "                                            hybridDP       E  \n",
      "0  ((((((((((((((((((((((((((((((((((((((((((((((... -239.05  \n",
      "1  ((((((((((((((((((((((((((((((((((((((((((((((... -239.05  \n",
      "/home/user1/Dropbox/Research/Neurobiology_PhD/Rotations/Huang/Projects/CellReadR/Code/Output/BioPython/Temp/PlxnD1_05.fasta\n",
      "      id1  start1  end1        id2  start2  end2  \\\n",
      "0  Plxnd1      54   202  PlxnD1_05      28   176   \n",
      "1  Plxnd1      54   202  PlxnD1_05      28   176   \n",
      "\n",
      "                                            subseqDP  \\\n",
      "0  GCCGCCGGCCUCCGGCACCGGGGGCAGCCGUCUGCUCGUGGGCGCC...   \n",
      "1  GCCGCCGGCCUCCGGCACCGGGGGCAGCCGUCUGCUCGUGGGCGCC...   \n",
      "\n",
      "                                            hybridDP       E  \n",
      "0  ((((((((((((((((((((((((((((((((((((((((((((((... -239.05  \n",
      "1  ((((((((((((((((((((((((((((((((((((((((((((((... -239.05  \n",
      "/home/user1/Dropbox/Research/Neurobiology_PhD/Rotations/Huang/Projects/CellReadR/Code/Output/BioPython/Temp/PlxnD1_06.fasta\n",
      "      id1  start1  end1        id2  start2  end2  \\\n",
      "0  Plxnd1      54   202  PlxnD1_06      31   179   \n",
      "1  Plxnd1      54   202  PlxnD1_06      31   179   \n",
      "\n",
      "                                            subseqDP  \\\n",
      "0  GCCGCCGGCCUCCGGCACCGGGGGCAGCCGUCUGCUCGUGGGCGCC...   \n",
      "1  GCCGCCGGCCUCCGGCACCGGGGGCAGCCGUCUGCUCGUGGGCGCC...   \n",
      "\n",
      "                                            hybridDP       E  \n",
      "0  ((((((((((((((((((((((((((((((((((((((((((((((... -239.05  \n",
      "1  ((((((((((((((((((((((((((((((((((((((((((((((... -239.05  \n",
      "/home/user1/Dropbox/Research/Neurobiology_PhD/Rotations/Huang/Projects/CellReadR/Code/Output/BioPython/Temp/PlxnD1_07.fasta\n",
      "      id1  start1  end1        id2  start2  end2  \\\n",
      "0  Plxnd1      54   202  PlxnD1_07      34   182   \n",
      "1  Plxnd1      54   202  PlxnD1_07      34   182   \n",
      "\n",
      "                                            subseqDP  \\\n",
      "0  GCCGCCGGCCUCCGGCACCGGGGGCAGCCGUCUGCUCGUGGGCGCC...   \n",
      "1  GCCGCCGGCCUCCGGCACCGGGGGCAGCCGUCUGCUCGUGGGCGCC...   \n",
      "\n",
      "                                            hybridDP       E  \n",
      "0  ((((((((((((((((((((((((((((((((((((((((((((((... -239.05  \n",
      "1  ((((((((((((((((((((((((((((((((((((((((((((((... -239.05  \n",
      "/home/user1/Dropbox/Research/Neurobiology_PhD/Rotations/Huang/Projects/CellReadR/Code/Output/BioPython/Temp/PlxnD1_08.fasta\n",
      "      id1  start1  end1        id2  start2  end2  \\\n",
      "0  Plxnd1      54   202  PlxnD1_08      37   185   \n",
      "1  Plxnd1      54   202  PlxnD1_08      37   185   \n",
      "\n",
      "                                            subseqDP  \\\n",
      "0  GCCGCCGGCCUCCGGCACCGGGGGCAGCCGUCUGCUCGUGGGCGCC...   \n",
      "1  GCCGCCGGCCUCCGGCACCGGGGGCAGCCGUCUGCUCGUGGGCGCC...   \n",
      "\n",
      "                                            hybridDP       E  \n",
      "0  ((((((((((((((((((((((((((((((((((((((((((((((... -239.05  \n",
      "1  ((((((((((((((((((((((((((((((((((((((((((((((... -239.05  \n",
      "/home/user1/Dropbox/Research/Neurobiology_PhD/Rotations/Huang/Projects/CellReadR/Code/Output/BioPython/Temp/PlxnD1_09.fasta\n",
      "      id1  start1  end1        id2  start2  end2  \\\n",
      "0  Plxnd1      54   202  PlxnD1_09      40   188   \n",
      "1  Plxnd1      54   202  PlxnD1_09      40   188   \n",
      "\n",
      "                                            subseqDP  \\\n",
      "0  GCCGCCGGCCUCCGGCACCGGGGGCAGCCGUCUGCUCGUGGGCGCC...   \n",
      "1  GCCGCCGGCCUCCGGCACCGGGGGCAGCCGUCUGCUCGUGGGCGCC...   \n",
      "\n",
      "                                            hybridDP       E  \n",
      "0  ((((((((((((((((((((((((((((((((((((((((((((((... -239.05  \n",
      "1  ((((((((((((((((((((((((((((((((((((((((((((((... -239.05  \n",
      "/home/user1/Dropbox/Research/Neurobiology_PhD/Rotations/Huang/Projects/CellReadR/Code/Output/BioPython/Temp/PlxnD1_10.fasta\n",
      "      id1  start1  end1        id2  start2  end2  \\\n",
      "0  Plxnd1      54   202  PlxnD1_10      43   191   \n",
      "1  Plxnd1      54   202  PlxnD1_10      43   191   \n",
      "\n",
      "                                            subseqDP  \\\n",
      "0  GCCGCCGGCCUCCGGCACCGGGGGCAGCCGUCUGCUCGUGGGCGCC...   \n",
      "1  GCCGCCGGCCUCCGGCACCGGGGGCAGCCGUCUGCUCGUGGGCGCC...   \n",
      "\n",
      "                                            hybridDP       E  \n",
      "0  ((((((((((((((((((((((((((((((((((((((((((((((... -239.05  \n",
      "1  ((((((((((((((((((((((((((((((((((((((((((((((... -239.05  \n",
      "/home/user1/Dropbox/Research/Neurobiology_PhD/Rotations/Huang/Projects/CellReadR/Code/Output/BioPython/Temp/PlxnD1_11.fasta\n",
      "      id1  start1  end1        id2  start2  end2  \\\n",
      "0  Plxnd1      54   202  PlxnD1_11      46   194   \n",
      "1  Plxnd1      54   202  PlxnD1_11      46   194   \n",
      "\n",
      "                                            subseqDP  \\\n",
      "0  GCCGCCGGCCUCCGGCACCGGGGGCAGCCGUCUGCUCGUGGGCGCC...   \n",
      "1  GCCGCCGGCCUCCGGCACCGGGGGCAGCCGUCUGCUCGUGGGCGCC...   \n",
      "\n",
      "                                            hybridDP       E  \n",
      "0  ((((((((((((((((((((((((((((((((((((((((((((((... -239.05  \n",
      "1  ((((((((((((((((((((((((((((((((((((((((((((((... -239.05  \n",
      "/home/user1/Dropbox/Research/Neurobiology_PhD/Rotations/Huang/Projects/CellReadR/Code/Output/BioPython/Temp/PlxnD1_12.fasta\n",
      "      id1  start1  end1        id2  start2  end2  \\\n",
      "0  Plxnd1      54   202  PlxnD1_12      49   197   \n",
      "1  Plxnd1      54   202  PlxnD1_12      49   197   \n",
      "\n",
      "                                            subseqDP  \\\n",
      "0  GCCGCCGGCCUCCGGCACCGGGGGCAGCCGUCUGCUCGUGGGCGCC...   \n",
      "1  GCCGCCGGCCUCCGGCACCGGGGGCAGCCGUCUGCUCGUGGGCGCC...   \n",
      "\n",
      "                                            hybridDP       E  \n",
      "0  ((((((((((((((((((((((((((((((((((((((((((((((... -239.05  \n",
      "1  ((((((((((((((((((((((((((((((((((((((((((((((... -239.05  \n",
      "/home/user1/Dropbox/Research/Neurobiology_PhD/Rotations/Huang/Projects/CellReadR/Code/Output/BioPython/Temp/PlxnD1_13.fasta\n",
      "      id1  start1  end1        id2  start2  end2  \\\n",
      "0  Plxnd1      54   202  PlxnD1_13      52   200   \n",
      "1  Plxnd1      54   202  PlxnD1_13      52   200   \n",
      "\n",
      "                                            subseqDP  \\\n",
      "0  GCCGCCGGCCUCCGGCACCGGGGGCAGCCGUCUGCUCGUGGGCGCC...   \n",
      "1  GCCGCCGGCCUCCGGCACCGGGGGCAGCCGUCUGCUCGUGGGCGCC...   \n",
      "\n",
      "                                            hybridDP       E  \n",
      "0  ((((((((((((((((((((((((((((((((((((((((((((((... -239.05  \n",
      "1  ((((((((((((((((((((((((((((((((((((((((((((((... -239.05  \n",
      "/home/user1/Dropbox/Research/Neurobiology_PhD/Rotations/Huang/Projects/CellReadR/Code/Output/BioPython/Temp/PlxnD1_14.fasta\n",
      "      id1  start1  end1        id2  start2  end2  \\\n",
      "0  Plxnd1      54   202  PlxnD1_14      55   203   \n",
      "1  Plxnd1      54   202  PlxnD1_14      55   203   \n",
      "\n",
      "                                            subseqDP  \\\n",
      "0  GCCGCCGGCCUCCGGCACCGGGGGCAGCCGUCUGCUCGUGGGCGCC...   \n",
      "1  GCCGCCGGCCUCCGGCACCGGGGGCAGCCGUCUGCUCGUGGGCGCC...   \n",
      "\n",
      "                                            hybridDP       E  \n",
      "0  ((((((((((((((((((((((((((((((((((((((((((((((... -239.07  \n",
      "1  ((((((((((((((((((((((((((((((((((((((((((((((... -239.07  \n",
      "/home/user1/Dropbox/Research/Neurobiology_PhD/Rotations/Huang/Projects/CellReadR/Code/Output/BioPython/Temp/PlxnD1_15.fasta\n",
      "      id1  start1  end1        id2  start2  end2  \\\n",
      "0  Plxnd1     232   381  PlxnD1_15      45   194   \n",
      "1  Plxnd1     232   381  PlxnD1_15      45   194   \n",
      "\n",
      "                                            subseqDP  \\\n",
      "0  GACCUCAACCCGUCGGACGACAACAUACUGAAGAUCAAACAGGGAG...   \n",
      "1  GACCUCAACCCGUCGGACGACAACAUACUGAAGAUCAAACAGGGAG...   \n",
      "\n",
      "                                            hybridDP       E  \n",
      "0  ((((((((((((((((((((((((((((((((((((((((((((((... -242.15  \n",
      "1  ((((((((((((((((((((((((((((((((((((((((((((((... -242.15  \n",
      "/home/user1/Dropbox/Research/Neurobiology_PhD/Rotations/Huang/Projects/CellReadR/Code/Output/BioPython/Temp/PlxnD1_16.fasta\n",
      "      id1  start1  end1        id2  start2  end2  \\\n",
      "0  Plxnd1     232   381  PlxnD1_16      48   197   \n",
      "1  Plxnd1     232   381  PlxnD1_16      48   197   \n",
      "\n",
      "                                            subseqDP  \\\n",
      "0  GACCUCAACCCGUCGGACGACAACAUACUGAAGAUCAAACAGGGAG...   \n",
      "1  GACCUCAACCCGUCGGACGACAACAUACUGAAGAUCAAACAGGGAG...   \n",
      "\n",
      "                                            hybridDP       E  \n",
      "0  ((((((((((((((((((((((((((((((((((((((((((((((... -242.15  \n",
      "1  ((((((((((((((((((((((((((((((((((((((((((((((... -242.15  \n",
      "/home/user1/Dropbox/Research/Neurobiology_PhD/Rotations/Huang/Projects/CellReadR/Code/Output/BioPython/Temp/PlxnD1_17.fasta\n",
      "      id1  start1  end1        id2  start2  end2  \\\n",
      "0  Plxnd1     232   381  PlxnD1_17      51   200   \n",
      "1  Plxnd1     232   381  PlxnD1_17      51   200   \n",
      "\n",
      "                                            subseqDP  \\\n",
      "0  GACCUCAACCCGUCGGACGACAACAUACUGAAGAUCAAACAGGGAG...   \n",
      "1  GACCUCAACCCGUCGGACGACAACAUACUGAAGAUCAAACAGGGAG...   \n",
      "\n",
      "                                            hybridDP       E  \n",
      "0  ((((((((((((((((((((((((((((((((((((((((((((((... -242.15  \n",
      "1  ((((((((((((((((((((((((((((((((((((((((((((((... -242.15  \n",
      "/home/user1/Dropbox/Research/Neurobiology_PhD/Rotations/Huang/Projects/CellReadR/Code/Output/BioPython/Temp/PlxnD1_18.fasta\n",
      "      id1  start1  end1        id2  start2  end2  \\\n",
      "0  Plxnd1     232   381  PlxnD1_18      54   203   \n",
      "1  Plxnd1     232   381  PlxnD1_18      54   203   \n",
      "\n",
      "                                            subseqDP  \\\n",
      "0  GACCUCAACCCGUCGGACGACAACAUACUGAAGAUCAAACAGGGAG...   \n",
      "1  GACCUCAACCCGUCGGACGACAACAUACUGAAGAUCAAACAGGGAG...   \n",
      "\n",
      "                                            hybridDP       E  \n",
      "0  ((((((((((((((((((((((((((((((((((((((((((((((... -242.15  \n",
      "1  ((((((((((((((((((((((((((((((((((((((((((((((... -242.15  \n",
      "/home/user1/Dropbox/Research/Neurobiology_PhD/Rotations/Huang/Projects/CellReadR/Code/Output/BioPython/Temp/PlxnD1_19.fasta\n",
      "      id1  start1  end1        id2  start2  end2  \\\n",
      "0  Plxnd1     234   383  PlxnD1_19      55   204   \n",
      "1  Plxnd1     234   383  PlxnD1_19      55   204   \n",
      "\n",
      "                                            subseqDP  \\\n",
      "0  CCUCAACCCGUCGGACGACAACAUACUGAAGAUCAAACAGGGAGCC...   \n",
      "1  CCUCAACCCGUCGGACGACAACAUACUGAAGAUCAAACAGGGAGCC...   \n",
      "\n",
      "                                            hybridDP       E  \n",
      "0  ((((((((((((((((((((((((((((((((((((((((((((((... -241.06  \n",
      "1  ((((((((((((((((((((((((((((((((((((((((((((((... -241.06  \n",
      "/home/user1/Dropbox/Research/Neurobiology_PhD/Rotations/Huang/Projects/CellReadR/Code/Output/BioPython/Temp/PlxnD1_20.fasta\n",
      "      id1  start1  end1        id2  start2  end2  \\\n",
      "0  Plxnd1     237   386  PlxnD1_20      55   204   \n",
      "1  Plxnd1     237   386  PlxnD1_20      55   204   \n",
      "\n",
      "                                            subseqDP  \\\n",
      "0  CAACCCGUCGGACGACAACAUACUGAAGAUCAAACAGGGAGCCAAG...   \n",
      "1  CAACCCGUCGGACGACAACAUACUGAAGAUCAAACAGGGAGCCAAG...   \n",
      "\n",
      "                                            hybridDP       E  \n",
      "0  ((((((((((((((((((((((((((((((((((((((((((((((... -240.44  \n",
      "1  ((((((((((((((((((((((((((((((((((((((((((((((... -240.44  \n",
      "/home/user1/Dropbox/Research/Neurobiology_PhD/Rotations/Huang/Projects/CellReadR/Code/Output/BioPython/Temp/PlxnD1_21.fasta\n",
      "      id1  start1  end1        id2  start2  end2  \\\n",
      "0  Plxnd1     245   393  PlxnD1_21      51   199   \n",
      "1  Plxnd1     245   393  PlxnD1_21      51   199   \n",
      "\n",
      "                                            subseqDP  \\\n",
      "0  CGGACGACAACAUACUGAAGAUCAAACAGGGAGCCAAGGAGCAGCA...   \n",
      "1  CGGACGACAACAUACUGAAGAUCAAACAGGGAGCCAAGGAGCAGCA...   \n",
      "\n",
      "                                            hybridDP       E  \n",
      "0  ((((((((((((((((((((((((((((((((((((((((((((((... -239.27  \n",
      "1  ((((((((((((((((((((((((((((((((((((((((((((((... -239.27  \n",
      "/home/user1/Dropbox/Research/Neurobiology_PhD/Rotations/Huang/Projects/CellReadR/Code/Output/BioPython/Temp/PlxnD1_22.fasta\n",
      "      id1  start1  end1        id2  start2  end2  \\\n",
      "0  Plxnd1     298   447  PlxnD1_22      17   166   \n",
      "1  Plxnd1     298   447  PlxnD1_22      17   166   \n",
      "\n",
      "                                            subseqDP  \\\n",
      "0  GGCUUCGUGCGUGCCUUCUUGCACCCGGCGGUGCCACCGCACAGCG...   \n",
      "1  GGCUUCGUGCGUGCCUUCUUGCACCCGGCGGUGCCACCGCACAGCG...   \n",
      "\n",
      "                                            hybridDP       E  \n",
      "0  ((((((((((((((((((((((((((((((((((((((((((((((... -234.23  \n",
      "1  ((((((((((((((((((((((((((((((((((((((((((((((... -234.23  \n",
      "/home/user1/Dropbox/Research/Neurobiology_PhD/Rotations/Huang/Projects/CellReadR/Code/Output/BioPython/Temp/PlxnD1_23.fasta\n",
      "      id1  start1  end1        id2  start2  end2  \\\n",
      "0  Plxnd1     298   447  PlxnD1_23      20   169   \n",
      "1  Plxnd1     298   447  PlxnD1_23      20   169   \n",
      "\n",
      "                                            subseqDP  \\\n",
      "0  GGCUUCGUGCGUGCCUUCUUGCACCCGGCGGUGCCACCGCACAGCG...   \n",
      "1  GGCUUCGUGCGUGCCUUCUUGCACCCGGCGGUGCCACCGCACAGCG...   \n",
      "\n",
      "                                            hybridDP       E  \n",
      "0  ((((((((((((((((((((((((((((((((((((((((((((((... -234.23  \n",
      "1  ((((((((((((((((((((((((((((((((((((((((((((((... -234.23  \n",
      "/home/user1/Dropbox/Research/Neurobiology_PhD/Rotations/Huang/Projects/CellReadR/Code/Output/BioPython/Temp/PlxnD1_24.fasta\n",
      "      id1  start1  end1        id2  start2  end2  \\\n",
      "0  Plxnd1     320   469  PlxnD1_24       1   150   \n",
      "1  Plxnd1     320   469  PlxnD1_24       1   150   \n",
      "\n",
      "                                            subseqDP  \\\n",
      "0  ACCCGGCGGUGCCACCGCACAGCGCGCAUCCCUACGCGUACCUGGC...   \n",
      "1  ACCCGGCGGUGCCACCGCACAGCGCGCAUCCCUACGCGUACCUGGC...   \n",
      "\n",
      "                                            hybridDP       E  \n",
      "0  ((((((((((((((((((((((((((((((((((((((((((((((... -235.82  \n",
      "1  ((((((((((((((((((((((((((((((((((((((((((((((... -235.82  \n"
     ]
    },
    {
     "data": {
      "text/html": [
       "<div>\n",
       "<style scoped>\n",
       "    .dataframe tbody tr th:only-of-type {\n",
       "        vertical-align: middle;\n",
       "    }\n",
       "\n",
       "    .dataframe tbody tr th {\n",
       "        vertical-align: top;\n",
       "    }\n",
       "\n",
       "    .dataframe thead th {\n",
       "        text-align: right;\n",
       "    }\n",
       "</style>\n",
       "<table border=\"1\" class=\"dataframe\">\n",
       "  <thead>\n",
       "    <tr style=\"text-align: right;\">\n",
       "      <th></th>\n",
       "      <th>index</th>\n",
       "      <th>SeqNumber</th>\n",
       "      <th>TypeSeq</th>\n",
       "      <th>Exon</th>\n",
       "      <th>StartSeq</th>\n",
       "      <th>StopSeq</th>\n",
       "      <th>firstTGG</th>\n",
       "      <th>centralTGG</th>\n",
       "      <th>second_cTGG</th>\n",
       "      <th>numTGG</th>\n",
       "      <th>...</th>\n",
       "      <th>numStop</th>\n",
       "      <th>gcContent</th>\n",
       "      <th>mfe</th>\n",
       "      <th>mfeFreq</th>\n",
       "      <th>index</th>\n",
       "      <th>E</th>\n",
       "      <th>start1</th>\n",
       "      <th>end1</th>\n",
       "      <th>start2</th>\n",
       "      <th>end2</th>\n",
       "    </tr>\n",
       "  </thead>\n",
       "  <tbody>\n",
       "    <tr>\n",
       "      <th>0</th>\n",
       "      <td>0</td>\n",
       "      <td>1</td>\n",
       "      <td>Reverse</td>\n",
       "      <td>4</td>\n",
       "      <td>436.0</td>\n",
       "      <td>640.0</td>\n",
       "      <td>99.0</td>\n",
       "      <td>99.0</td>\n",
       "      <td>NA</td>\n",
       "      <td>1.0</td>\n",
       "      <td>...</td>\n",
       "      <td>1.0</td>\n",
       "      <td>65.7</td>\n",
       "      <td>-93.5</td>\n",
       "      <td>2.193</td>\n",
       "      <td>0</td>\n",
       "      <td>-239.05</td>\n",
       "      <td>54</td>\n",
       "      <td>202</td>\n",
       "      <td>53</td>\n",
       "      <td>201</td>\n",
       "    </tr>\n",
       "    <tr>\n",
       "      <th>1</th>\n",
       "      <td>1</td>\n",
       "      <td>2</td>\n",
       "      <td>Reverse</td>\n",
       "      <td>4</td>\n",
       "      <td>439.0</td>\n",
       "      <td>643.0</td>\n",
       "      <td>96.0</td>\n",
       "      <td>96.0</td>\n",
       "      <td>NA</td>\n",
       "      <td>1.0</td>\n",
       "      <td>...</td>\n",
       "      <td>1.0</td>\n",
       "      <td>65.7</td>\n",
       "      <td>-94.9</td>\n",
       "      <td>3.208</td>\n",
       "      <td>0</td>\n",
       "      <td>-239.05</td>\n",
       "      <td>54</td>\n",
       "      <td>202</td>\n",
       "      <td>50</td>\n",
       "      <td>198</td>\n",
       "    </tr>\n",
       "    <tr>\n",
       "      <th>2</th>\n",
       "      <td>2</td>\n",
       "      <td>3</td>\n",
       "      <td>Reverse</td>\n",
       "      <td>4</td>\n",
       "      <td>442.0</td>\n",
       "      <td>646.0</td>\n",
       "      <td>93.0</td>\n",
       "      <td>93.0</td>\n",
       "      <td>NA</td>\n",
       "      <td>1.0</td>\n",
       "      <td>...</td>\n",
       "      <td>1.0</td>\n",
       "      <td>65.2</td>\n",
       "      <td>-90.0</td>\n",
       "      <td>1.363</td>\n",
       "      <td>0</td>\n",
       "      <td>-239.05</td>\n",
       "      <td>54</td>\n",
       "      <td>202</td>\n",
       "      <td>47</td>\n",
       "      <td>195</td>\n",
       "    </tr>\n",
       "    <tr>\n",
       "      <th>3</th>\n",
       "      <td>3</td>\n",
       "      <td>4</td>\n",
       "      <td>Reverse</td>\n",
       "      <td>4</td>\n",
       "      <td>479.0</td>\n",
       "      <td>683.0</td>\n",
       "      <td>111.0</td>\n",
       "      <td>111.0</td>\n",
       "      <td>174</td>\n",
       "      <td>4.0</td>\n",
       "      <td>...</td>\n",
       "      <td>1.0</td>\n",
       "      <td>68.1</td>\n",
       "      <td>-96.9</td>\n",
       "      <td>1.163</td>\n",
       "      <td>0</td>\n",
       "      <td>-239.05</td>\n",
       "      <td>54</td>\n",
       "      <td>202</td>\n",
       "      <td>10</td>\n",
       "      <td>158</td>\n",
       "    </tr>\n",
       "    <tr>\n",
       "      <th>4</th>\n",
       "      <td>0</td>\n",
       "      <td>1</td>\n",
       "      <td>Complement</td>\n",
       "      <td>4</td>\n",
       "      <td>469.0</td>\n",
       "      <td>673.0</td>\n",
       "      <td>111.0</td>\n",
       "      <td>111.0</td>\n",
       "      <td>126</td>\n",
       "      <td>3.0</td>\n",
       "      <td>...</td>\n",
       "      <td>1.0</td>\n",
       "      <td>66.2</td>\n",
       "      <td>-92.0</td>\n",
       "      <td>1.368</td>\n",
       "      <td>0</td>\n",
       "      <td>-239.05</td>\n",
       "      <td>54</td>\n",
       "      <td>202</td>\n",
       "      <td>28</td>\n",
       "      <td>176</td>\n",
       "    </tr>\n",
       "    <tr>\n",
       "      <th>5</th>\n",
       "      <td>1</td>\n",
       "      <td>2</td>\n",
       "      <td>Complement</td>\n",
       "      <td>4</td>\n",
       "      <td>472.0</td>\n",
       "      <td>676.0</td>\n",
       "      <td>108.0</td>\n",
       "      <td>108.0</td>\n",
       "      <td>123</td>\n",
       "      <td>3.0</td>\n",
       "      <td>...</td>\n",
       "      <td>1.0</td>\n",
       "      <td>66.2</td>\n",
       "      <td>-91.9</td>\n",
       "      <td>1.493</td>\n",
       "      <td>0</td>\n",
       "      <td>-239.05</td>\n",
       "      <td>54</td>\n",
       "      <td>202</td>\n",
       "      <td>31</td>\n",
       "      <td>179</td>\n",
       "    </tr>\n",
       "    <tr>\n",
       "      <th>6</th>\n",
       "      <td>2</td>\n",
       "      <td>3</td>\n",
       "      <td>Complement</td>\n",
       "      <td>4</td>\n",
       "      <td>475.0</td>\n",
       "      <td>679.0</td>\n",
       "      <td>105.0</td>\n",
       "      <td>105.0</td>\n",
       "      <td>120</td>\n",
       "      <td>4.0</td>\n",
       "      <td>...</td>\n",
       "      <td>1.0</td>\n",
       "      <td>66.2</td>\n",
       "      <td>-87.4</td>\n",
       "      <td>0.645</td>\n",
       "      <td>0</td>\n",
       "      <td>-239.05</td>\n",
       "      <td>54</td>\n",
       "      <td>202</td>\n",
       "      <td>34</td>\n",
       "      <td>182</td>\n",
       "    </tr>\n",
       "    <tr>\n",
       "      <th>7</th>\n",
       "      <td>3</td>\n",
       "      <td>4</td>\n",
       "      <td>Complement</td>\n",
       "      <td>4</td>\n",
       "      <td>478.0</td>\n",
       "      <td>682.0</td>\n",
       "      <td>102.0</td>\n",
       "      <td>102.0</td>\n",
       "      <td>117</td>\n",
       "      <td>4.0</td>\n",
       "      <td>...</td>\n",
       "      <td>1.0</td>\n",
       "      <td>65.7</td>\n",
       "      <td>-84.4</td>\n",
       "      <td>1.875</td>\n",
       "      <td>0</td>\n",
       "      <td>-239.05</td>\n",
       "      <td>54</td>\n",
       "      <td>202</td>\n",
       "      <td>37</td>\n",
       "      <td>185</td>\n",
       "    </tr>\n",
       "    <tr>\n",
       "      <th>8</th>\n",
       "      <td>4</td>\n",
       "      <td>5</td>\n",
       "      <td>Complement</td>\n",
       "      <td>4</td>\n",
       "      <td>481.0</td>\n",
       "      <td>685.0</td>\n",
       "      <td>99.0</td>\n",
       "      <td>99.0</td>\n",
       "      <td>114</td>\n",
       "      <td>5.0</td>\n",
       "      <td>...</td>\n",
       "      <td>1.0</td>\n",
       "      <td>65.7</td>\n",
       "      <td>-86.3</td>\n",
       "      <td>14.153</td>\n",
       "      <td>0</td>\n",
       "      <td>-239.05</td>\n",
       "      <td>54</td>\n",
       "      <td>202</td>\n",
       "      <td>40</td>\n",
       "      <td>188</td>\n",
       "    </tr>\n",
       "    <tr>\n",
       "      <th>9</th>\n",
       "      <td>5</td>\n",
       "      <td>6</td>\n",
       "      <td>Complement</td>\n",
       "      <td>4</td>\n",
       "      <td>484.0</td>\n",
       "      <td>688.0</td>\n",
       "      <td>96.0</td>\n",
       "      <td>96.0</td>\n",
       "      <td>111</td>\n",
       "      <td>5.0</td>\n",
       "      <td>...</td>\n",
       "      <td>1.0</td>\n",
       "      <td>65.2</td>\n",
       "      <td>-84.9</td>\n",
       "      <td>0.631</td>\n",
       "      <td>0</td>\n",
       "      <td>-239.05</td>\n",
       "      <td>54</td>\n",
       "      <td>202</td>\n",
       "      <td>43</td>\n",
       "      <td>191</td>\n",
       "    </tr>\n",
       "    <tr>\n",
       "      <th>10</th>\n",
       "      <td>6</td>\n",
       "      <td>7</td>\n",
       "      <td>Complement</td>\n",
       "      <td>4</td>\n",
       "      <td>487.0</td>\n",
       "      <td>691.0</td>\n",
       "      <td>93.0</td>\n",
       "      <td>108.0</td>\n",
       "      <td>93</td>\n",
       "      <td>5.0</td>\n",
       "      <td>...</td>\n",
       "      <td>1.0</td>\n",
       "      <td>65.7</td>\n",
       "      <td>-84.9</td>\n",
       "      <td>0.930</td>\n",
       "      <td>0</td>\n",
       "      <td>-239.05</td>\n",
       "      <td>54</td>\n",
       "      <td>202</td>\n",
       "      <td>46</td>\n",
       "      <td>194</td>\n",
       "    </tr>\n",
       "    <tr>\n",
       "      <th>11</th>\n",
       "      <td>7</td>\n",
       "      <td>8</td>\n",
       "      <td>Complement</td>\n",
       "      <td>4</td>\n",
       "      <td>490.0</td>\n",
       "      <td>694.0</td>\n",
       "      <td>90.0</td>\n",
       "      <td>105.0</td>\n",
       "      <td>108</td>\n",
       "      <td>5.0</td>\n",
       "      <td>...</td>\n",
       "      <td>1.0</td>\n",
       "      <td>65.7</td>\n",
       "      <td>-87.7</td>\n",
       "      <td>3.191</td>\n",
       "      <td>0</td>\n",
       "      <td>-239.05</td>\n",
       "      <td>54</td>\n",
       "      <td>202</td>\n",
       "      <td>49</td>\n",
       "      <td>197</td>\n",
       "    </tr>\n",
       "    <tr>\n",
       "      <th>12</th>\n",
       "      <td>8</td>\n",
       "      <td>9</td>\n",
       "      <td>Complement</td>\n",
       "      <td>4</td>\n",
       "      <td>493.0</td>\n",
       "      <td>697.0</td>\n",
       "      <td>87.0</td>\n",
       "      <td>102.0</td>\n",
       "      <td>105</td>\n",
       "      <td>5.0</td>\n",
       "      <td>...</td>\n",
       "      <td>1.0</td>\n",
       "      <td>65.7</td>\n",
       "      <td>-88.7</td>\n",
       "      <td>2.822</td>\n",
       "      <td>0</td>\n",
       "      <td>-239.05</td>\n",
       "      <td>54</td>\n",
       "      <td>202</td>\n",
       "      <td>52</td>\n",
       "      <td>200</td>\n",
       "    </tr>\n",
       "    <tr>\n",
       "      <th>13</th>\n",
       "      <td>9</td>\n",
       "      <td>10</td>\n",
       "      <td>Complement</td>\n",
       "      <td>4</td>\n",
       "      <td>496.0</td>\n",
       "      <td>700.0</td>\n",
       "      <td>84.0</td>\n",
       "      <td>102.0</td>\n",
       "      <td>99</td>\n",
       "      <td>5.0</td>\n",
       "      <td>...</td>\n",
       "      <td>1.0</td>\n",
       "      <td>65.2</td>\n",
       "      <td>-87.1</td>\n",
       "      <td>1.468</td>\n",
       "      <td>0</td>\n",
       "      <td>-239.07</td>\n",
       "      <td>54</td>\n",
       "      <td>202</td>\n",
       "      <td>55</td>\n",
       "      <td>203</td>\n",
       "    </tr>\n",
       "    <tr>\n",
       "      <th>14</th>\n",
       "      <td>10</td>\n",
       "      <td>11</td>\n",
       "      <td>Complement</td>\n",
       "      <td>4</td>\n",
       "      <td>665.0</td>\n",
       "      <td>869.0</td>\n",
       "      <td>111.0</td>\n",
       "      <td>111.0</td>\n",
       "      <td>NA</td>\n",
       "      <td>1.0</td>\n",
       "      <td>...</td>\n",
       "      <td>1.0</td>\n",
       "      <td>64.7</td>\n",
       "      <td>-82.8</td>\n",
       "      <td>0.033</td>\n",
       "      <td>0</td>\n",
       "      <td>-242.15</td>\n",
       "      <td>232</td>\n",
       "      <td>381</td>\n",
       "      <td>45</td>\n",
       "      <td>194</td>\n",
       "    </tr>\n",
       "    <tr>\n",
       "      <th>15</th>\n",
       "      <td>11</td>\n",
       "      <td>12</td>\n",
       "      <td>Complement</td>\n",
       "      <td>4</td>\n",
       "      <td>668.0</td>\n",
       "      <td>872.0</td>\n",
       "      <td>108.0</td>\n",
       "      <td>108.0</td>\n",
       "      <td>NA</td>\n",
       "      <td>1.0</td>\n",
       "      <td>...</td>\n",
       "      <td>1.0</td>\n",
       "      <td>64.7</td>\n",
       "      <td>-83.1</td>\n",
       "      <td>0.080</td>\n",
       "      <td>0</td>\n",
       "      <td>-242.15</td>\n",
       "      <td>232</td>\n",
       "      <td>381</td>\n",
       "      <td>48</td>\n",
       "      <td>197</td>\n",
       "    </tr>\n",
       "    <tr>\n",
       "      <th>16</th>\n",
       "      <td>12</td>\n",
       "      <td>13</td>\n",
       "      <td>Complement</td>\n",
       "      <td>4</td>\n",
       "      <td>671.0</td>\n",
       "      <td>875.0</td>\n",
       "      <td>105.0</td>\n",
       "      <td>105.0</td>\n",
       "      <td>NA</td>\n",
       "      <td>1.0</td>\n",
       "      <td>...</td>\n",
       "      <td>1.0</td>\n",
       "      <td>64.7</td>\n",
       "      <td>-81.1</td>\n",
       "      <td>0.026</td>\n",
       "      <td>0</td>\n",
       "      <td>-242.15</td>\n",
       "      <td>232</td>\n",
       "      <td>381</td>\n",
       "      <td>51</td>\n",
       "      <td>200</td>\n",
       "    </tr>\n",
       "    <tr>\n",
       "      <th>17</th>\n",
       "      <td>13</td>\n",
       "      <td>14</td>\n",
       "      <td>Complement</td>\n",
       "      <td>4</td>\n",
       "      <td>674.0</td>\n",
       "      <td>878.0</td>\n",
       "      <td>102.0</td>\n",
       "      <td>102.0</td>\n",
       "      <td>NA</td>\n",
       "      <td>1.0</td>\n",
       "      <td>...</td>\n",
       "      <td>1.0</td>\n",
       "      <td>65.2</td>\n",
       "      <td>-81.5</td>\n",
       "      <td>0.011</td>\n",
       "      <td>0</td>\n",
       "      <td>-242.15</td>\n",
       "      <td>232</td>\n",
       "      <td>381</td>\n",
       "      <td>54</td>\n",
       "      <td>203</td>\n",
       "    </tr>\n",
       "    <tr>\n",
       "      <th>18</th>\n",
       "      <td>14</td>\n",
       "      <td>15</td>\n",
       "      <td>Complement</td>\n",
       "      <td>4</td>\n",
       "      <td>677.0</td>\n",
       "      <td>881.0</td>\n",
       "      <td>99.0</td>\n",
       "      <td>99.0</td>\n",
       "      <td>NA</td>\n",
       "      <td>1.0</td>\n",
       "      <td>...</td>\n",
       "      <td>1.0</td>\n",
       "      <td>65.7</td>\n",
       "      <td>-85.0</td>\n",
       "      <td>0.128</td>\n",
       "      <td>0</td>\n",
       "      <td>-241.06</td>\n",
       "      <td>234</td>\n",
       "      <td>383</td>\n",
       "      <td>55</td>\n",
       "      <td>204</td>\n",
       "    </tr>\n",
       "    <tr>\n",
       "      <th>19</th>\n",
       "      <td>15</td>\n",
       "      <td>16</td>\n",
       "      <td>Complement</td>\n",
       "      <td>4</td>\n",
       "      <td>680.0</td>\n",
       "      <td>884.0</td>\n",
       "      <td>96.0</td>\n",
       "      <td>96.0</td>\n",
       "      <td>NA</td>\n",
       "      <td>1.0</td>\n",
       "      <td>...</td>\n",
       "      <td>1.0</td>\n",
       "      <td>66.2</td>\n",
       "      <td>-85.5</td>\n",
       "      <td>0.079</td>\n",
       "      <td>0</td>\n",
       "      <td>-240.44</td>\n",
       "      <td>237</td>\n",
       "      <td>386</td>\n",
       "      <td>55</td>\n",
       "      <td>204</td>\n",
       "    </tr>\n",
       "    <tr>\n",
       "      <th>20</th>\n",
       "      <td>16</td>\n",
       "      <td>17</td>\n",
       "      <td>Complement</td>\n",
       "      <td>4</td>\n",
       "      <td>683.0</td>\n",
       "      <td>887.0</td>\n",
       "      <td>93.0</td>\n",
       "      <td>93.0</td>\n",
       "      <td>NA</td>\n",
       "      <td>1.0</td>\n",
       "      <td>...</td>\n",
       "      <td>1.0</td>\n",
       "      <td>67.2</td>\n",
       "      <td>-87.4</td>\n",
       "      <td>0.452</td>\n",
       "      <td>0</td>\n",
       "      <td>-239.27</td>\n",
       "      <td>245</td>\n",
       "      <td>393</td>\n",
       "      <td>51</td>\n",
       "      <td>199</td>\n",
       "    </tr>\n",
       "    <tr>\n",
       "      <th>21</th>\n",
       "      <td>17</td>\n",
       "      <td>18</td>\n",
       "      <td>Complement</td>\n",
       "      <td>4</td>\n",
       "      <td>703.0</td>\n",
       "      <td>907.0</td>\n",
       "      <td>60.0</td>\n",
       "      <td>99.0</td>\n",
       "      <td>60</td>\n",
       "      <td>2.0</td>\n",
       "      <td>...</td>\n",
       "      <td>1.0</td>\n",
       "      <td>68.6</td>\n",
       "      <td>-96.5</td>\n",
       "      <td>0.303</td>\n",
       "      <td>0</td>\n",
       "      <td>-234.23</td>\n",
       "      <td>298</td>\n",
       "      <td>447</td>\n",
       "      <td>17</td>\n",
       "      <td>166</td>\n",
       "    </tr>\n",
       "    <tr>\n",
       "      <th>22</th>\n",
       "      <td>18</td>\n",
       "      <td>19</td>\n",
       "      <td>Complement</td>\n",
       "      <td>4</td>\n",
       "      <td>706.0</td>\n",
       "      <td>910.0</td>\n",
       "      <td>57.0</td>\n",
       "      <td>96.0</td>\n",
       "      <td>57</td>\n",
       "      <td>2.0</td>\n",
       "      <td>...</td>\n",
       "      <td>1.0</td>\n",
       "      <td>69.1</td>\n",
       "      <td>-96.3</td>\n",
       "      <td>0.341</td>\n",
       "      <td>0</td>\n",
       "      <td>-234.23</td>\n",
       "      <td>298</td>\n",
       "      <td>447</td>\n",
       "      <td>20</td>\n",
       "      <td>169</td>\n",
       "    </tr>\n",
       "    <tr>\n",
       "      <th>23</th>\n",
       "      <td>19</td>\n",
       "      <td>20</td>\n",
       "      <td>Complement</td>\n",
       "      <td>4</td>\n",
       "      <td>709.0</td>\n",
       "      <td>913.0</td>\n",
       "      <td>54.0</td>\n",
       "      <td>93.0</td>\n",
       "      <td>54</td>\n",
       "      <td>2.0</td>\n",
       "      <td>...</td>\n",
       "      <td>1.0</td>\n",
       "      <td>69.1</td>\n",
       "      <td>-99.1</td>\n",
       "      <td>0.166</td>\n",
       "      <td>0</td>\n",
       "      <td>-235.82</td>\n",
       "      <td>320</td>\n",
       "      <td>469</td>\n",
       "      <td>1</td>\n",
       "      <td>150</td>\n",
       "    </tr>\n",
       "  </tbody>\n",
       "</table>\n",
       "<p>24 rows × 21 columns</p>\n",
       "</div>"
      ],
      "text/plain": [
       "    index  SeqNumber     TypeSeq  Exon  StartSeq  StopSeq  firstTGG  \\\n",
       "0       0          1     Reverse     4     436.0    640.0      99.0   \n",
       "1       1          2     Reverse     4     439.0    643.0      96.0   \n",
       "2       2          3     Reverse     4     442.0    646.0      93.0   \n",
       "3       3          4     Reverse     4     479.0    683.0     111.0   \n",
       "4       0          1  Complement     4     469.0    673.0     111.0   \n",
       "5       1          2  Complement     4     472.0    676.0     108.0   \n",
       "6       2          3  Complement     4     475.0    679.0     105.0   \n",
       "7       3          4  Complement     4     478.0    682.0     102.0   \n",
       "8       4          5  Complement     4     481.0    685.0      99.0   \n",
       "9       5          6  Complement     4     484.0    688.0      96.0   \n",
       "10      6          7  Complement     4     487.0    691.0      93.0   \n",
       "11      7          8  Complement     4     490.0    694.0      90.0   \n",
       "12      8          9  Complement     4     493.0    697.0      87.0   \n",
       "13      9         10  Complement     4     496.0    700.0      84.0   \n",
       "14     10         11  Complement     4     665.0    869.0     111.0   \n",
       "15     11         12  Complement     4     668.0    872.0     108.0   \n",
       "16     12         13  Complement     4     671.0    875.0     105.0   \n",
       "17     13         14  Complement     4     674.0    878.0     102.0   \n",
       "18     14         15  Complement     4     677.0    881.0      99.0   \n",
       "19     15         16  Complement     4     680.0    884.0      96.0   \n",
       "20     16         17  Complement     4     683.0    887.0      93.0   \n",
       "21     17         18  Complement     4     703.0    907.0      60.0   \n",
       "22     18         19  Complement     4     706.0    910.0      57.0   \n",
       "23     19         20  Complement     4     709.0    913.0      54.0   \n",
       "\n",
       "    centralTGG second_cTGG  numTGG  ...  numStop  gcContent   mfe  mfeFreq  \\\n",
       "0         99.0          NA     1.0  ...      1.0       65.7 -93.5    2.193   \n",
       "1         96.0          NA     1.0  ...      1.0       65.7 -94.9    3.208   \n",
       "2         93.0          NA     1.0  ...      1.0       65.2 -90.0    1.363   \n",
       "3        111.0         174     4.0  ...      1.0       68.1 -96.9    1.163   \n",
       "4        111.0         126     3.0  ...      1.0       66.2 -92.0    1.368   \n",
       "5        108.0         123     3.0  ...      1.0       66.2 -91.9    1.493   \n",
       "6        105.0         120     4.0  ...      1.0       66.2 -87.4    0.645   \n",
       "7        102.0         117     4.0  ...      1.0       65.7 -84.4    1.875   \n",
       "8         99.0         114     5.0  ...      1.0       65.7 -86.3   14.153   \n",
       "9         96.0         111     5.0  ...      1.0       65.2 -84.9    0.631   \n",
       "10       108.0          93     5.0  ...      1.0       65.7 -84.9    0.930   \n",
       "11       105.0         108     5.0  ...      1.0       65.7 -87.7    3.191   \n",
       "12       102.0         105     5.0  ...      1.0       65.7 -88.7    2.822   \n",
       "13       102.0          99     5.0  ...      1.0       65.2 -87.1    1.468   \n",
       "14       111.0          NA     1.0  ...      1.0       64.7 -82.8    0.033   \n",
       "15       108.0          NA     1.0  ...      1.0       64.7 -83.1    0.080   \n",
       "16       105.0          NA     1.0  ...      1.0       64.7 -81.1    0.026   \n",
       "17       102.0          NA     1.0  ...      1.0       65.2 -81.5    0.011   \n",
       "18        99.0          NA     1.0  ...      1.0       65.7 -85.0    0.128   \n",
       "19        96.0          NA     1.0  ...      1.0       66.2 -85.5    0.079   \n",
       "20        93.0          NA     1.0  ...      1.0       67.2 -87.4    0.452   \n",
       "21        99.0          60     2.0  ...      1.0       68.6 -96.5    0.303   \n",
       "22        96.0          57     2.0  ...      1.0       69.1 -96.3    0.341   \n",
       "23        93.0          54     2.0  ...      1.0       69.1 -99.1    0.166   \n",
       "\n",
       "    index       E  start1 end1 start2 end2  \n",
       "0       0 -239.05      54  202     53  201  \n",
       "1       0 -239.05      54  202     50  198  \n",
       "2       0 -239.05      54  202     47  195  \n",
       "3       0 -239.05      54  202     10  158  \n",
       "4       0 -239.05      54  202     28  176  \n",
       "5       0 -239.05      54  202     31  179  \n",
       "6       0 -239.05      54  202     34  182  \n",
       "7       0 -239.05      54  202     37  185  \n",
       "8       0 -239.05      54  202     40  188  \n",
       "9       0 -239.05      54  202     43  191  \n",
       "10      0 -239.05      54  202     46  194  \n",
       "11      0 -239.05      54  202     49  197  \n",
       "12      0 -239.05      54  202     52  200  \n",
       "13      0 -239.07      54  202     55  203  \n",
       "14      0 -242.15     232  381     45  194  \n",
       "15      0 -242.15     232  381     48  197  \n",
       "16      0 -242.15     232  381     51  200  \n",
       "17      0 -242.15     232  381     54  203  \n",
       "18      0 -241.06     234  383     55  204  \n",
       "19      0 -240.44     237  386     55  204  \n",
       "20      0 -239.27     245  393     51  199  \n",
       "21      0 -234.23     298  447     17  166  \n",
       "22      0 -234.23     298  447     20  169  \n",
       "23      0 -235.82     320  469      1  150  \n",
       "\n",
       "[24 rows x 21 columns]"
      ]
     },
     "execution_count": 17,
     "metadata": {},
     "output_type": "execute_result"
    }
   ],
   "source": [
    "intarna_sequenceMetrics = output_intaRNA(fold_sequenceMetrics)\n",
    "intarna_sequenceMetrics"
   ]
  },
  {
   "cell_type": "code",
   "execution_count": null,
   "id": "b6eef22b-89be-40f5-93fb-477daa134d49",
   "metadata": {},
   "outputs": [],
   "source": []
  },
  {
   "cell_type": "code",
   "execution_count": null,
   "id": "b49cb613-29ff-44b3-833a-0c74d7e7bea1",
   "metadata": {},
   "outputs": [],
   "source": []
  },
  {
   "cell_type": "code",
   "execution_count": null,
   "id": "1b93cc44-581b-443b-a60f-97b19c138d87",
   "metadata": {},
   "outputs": [],
   "source": []
  },
  {
   "cell_type": "code",
   "execution_count": null,
   "id": "5cf10450-4a4b-4013-8cc0-8a15ea9b0f09",
   "metadata": {},
   "outputs": [],
   "source": []
  },
  {
   "cell_type": "code",
   "execution_count": null,
   "id": "c9b935c5-bc27-4a2b-b4a3-d3f1e12ee259",
   "metadata": {},
   "outputs": [],
   "source": []
  },
  {
   "cell_type": "code",
   "execution_count": null,
   "id": "0436b4a2-1f6e-4ce9-bc0b-4cde8c2ad950",
   "metadata": {},
   "outputs": [],
   "source": []
  },
  {
   "cell_type": "code",
   "execution_count": null,
   "id": "7d08a463-3d7d-4928-b8b1-90d8217468a9",
   "metadata": {
    "tags": []
   },
   "outputs": [],
   "source": [
    "def output_RNApred(sequenceMetrics):\n",
    "    # Call RNAfold on each sequence of output \n",
    "    rnaFold_prob = []\n",
    "    top_intarnaE = []\n",
    "\n",
    "    intarna_columns = ['E', 'start1', 'end1', 'start2', 'end2']\n",
    "    all_sorted_intarna = []\n",
    "    useful_intarna =  pd.DataFrame(columns = intarna_columns)\n",
    "\n",
    "    martBase = '/home/user1/Dropbox/Research/Neurobiology_PhD/Rotations/Huang/Projects/CellReadR/Code/Output/biomaRt/'\n",
    "    martBasePath = martBase + species\n",
    "    # Loading sequences for gene CDS\n",
    "    CDS_fileName = martBasePath + '/CDS_RNA_' + geneName + '.fasta'\n",
    "    \n",
    "    pathTemp = '/home/user1/Dropbox/Research/Neurobiology_PhD/Rotations/Huang/Projects/CellReadR/Code/Output/BioPython/Temp'\n",
    "    pathOutTempFold = pathTemp + '/temp.out'\n",
    "    pathOutTempIntaRNA = pathTemp + '/temp.csv'\n",
    "\n",
    "    # sorting files in output of scandir \n",
    "    for entry in sorted(os.scandir(pathTemp), key=lambda e: e.name):\n",
    "        # For checking which file currently working on (not in order for some reason) \n",
    "        print(entry.path)\n",
    "\n",
    "        # Defining command for RNAfold \n",
    "        commandFold = 'RNAfold -p -d2 --noLP < ' + entry.path + ' > ' + pathOutTempFold    \n",
    "        # Generating RNAfold predictions \n",
    "        generateProb = subprocess.run(commandFold, shell=True, stdout=subprocess.PIPE)\n",
    "\n",
    "        # Defining command for IntaRNA\n",
    "        numThreads = 10\n",
    "        commandInta = 'IntaRNA -t ' + CDS_fileName + ' -q ' + entry.path + ' --threads ' + str(numThreads) + ' --outMode=C > ' + pathOutTempIntaRNA\n",
    "        # Generating IntaRNA predictions \n",
    "        os.system(commandInta)\n",
    "        # Reading in csv file with information \n",
    "        intarnaOutput = pd.read_csv(pathOutTempIntaRNA, sep = ';')\n",
    "        # Saving pd output as list of lists ... would be a pain to compute multiple times if desired \n",
    "        sorted_intarna = intarnaOutput.sort_values('E', ascending=True)\n",
    "        # Concatinating select columuns of dataframe for inclusion into sequence metrics \n",
    "        all_sorted_intarna.append(sorted_intarna)\n",
    "        # Getting first row ... with highest energy values ... and appending to DataFrame \n",
    "        useful_intarna = useful_intarna.append(sorted_intarna[intarna_columns].iloc[0:1])\n",
    "        \n",
    "        # Moving to Temp directory to work on fasta files \n",
    "        currentWD = os.getcwd()\n",
    "        os.chdir('/home/user1/Dropbox/Research/Neurobiology_PhD/Rotations/Huang/Projects/CellReadR/Code/Output/BioPython/Temp')\n",
    "\n",
    "        # Running script for getting probabilities from RNAfold output file (added to ArchBin btw)\n",
    "        readProb = subprocess.Popen(\"rnaFold_prob.sh\", shell=True, stdout=subprocess.PIPE)\n",
    "        returnedProb = readProb.stdout.read()\n",
    "        # Waiting for last command to finish before storing value in temp.out file \n",
    "        readProb.wait()\n",
    "        # Append frequences ... convert to percentage \n",
    "        rnaFold_prob.append(float(returnedProb)*100)\n",
    "\n",
    "        \n",
    "        # Removing temp.out after finishing each run \n",
    "        os.system('rm -rf temp.out')\n",
    "        os.system('rm -rf temp.csv')\n",
    "        # Return to initial working directory \n",
    "        os.chdir(currentWD)\n",
    "\n",
    "    # Removing files generated by RNAfold \n",
    "    os.system('rm -rf *ss.ps')\n",
    "    os.system('rm -rf *dp.ps')\n",
    "    # Removing temp fasta files \n",
    "    resetCommand = 'cd ' + pathTemp + ' && rm -rf *'\n",
    "    os.system(resetCommand)\n",
    "    \n",
    "    # Adding RNA fold mfe ensemble frequency to sequenceMetrics \n",
    "    sequenceMetrics['mfeFreq'] = rnaFold_prob\n",
    "    # Have to reset index since useful_intarna is slice of many pd.DataFrames \n",
    "    out_sequenceMetrics = pd.concat([sequenceMetrics.reset_index(), useful_intarna.reset_index()], axis = 1)\n",
    "    \n",
    "    return out_sequenceMetrics "
   ]
  },
  {
   "cell_type": "code",
   "execution_count": null,
   "id": "ffd2ea08-e1d1-49c3-a1bf-3f53638a1f4e",
   "metadata": {},
   "outputs": [],
   "source": []
  },
  {
   "cell_type": "code",
   "execution_count": null,
   "id": "e4551ef2-74ff-454e-907b-bec74bd69932",
   "metadata": {},
   "outputs": [],
   "source": []
  },
  {
   "cell_type": "code",
   "execution_count": null,
   "id": "4307bcf0-7aea-4f1b-8034-1e2f1cd829bc",
   "metadata": {},
   "outputs": [],
   "source": []
  },
  {
   "cell_type": "code",
   "execution_count": null,
   "id": "f6f776c4-b28e-4706-a59f-cb467f615371",
   "metadata": {
    "tags": []
   },
   "outputs": [],
   "source": [
    "higherSequenceMetrics = output_RNApred(all_sequenceMetrics)\n",
    "higherSequenceMetrics"
   ]
  },
  {
   "cell_type": "code",
   "execution_count": null,
   "id": "a6d74ad4-0a72-4237-9891-bd6a511eaf14",
   "metadata": {},
   "outputs": [],
   "source": []
  },
  {
   "cell_type": "code",
   "execution_count": null,
   "id": "378d1531-dfed-421d-9d84-6fa85d60ff8c",
   "metadata": {},
   "outputs": [],
   "source": []
  },
  {
   "cell_type": "code",
   "execution_count": null,
   "id": "d9937546-8b46-4d65-84f3-4d87b072d4ce",
   "metadata": {
    "tags": []
   },
   "outputs": [],
   "source": [
    "\n",
    "\n"
   ]
  },
  {
   "cell_type": "code",
   "execution_count": null,
   "id": "26aa1cf2-5ffd-4927-86e7-1ec61091509c",
   "metadata": {
    "tags": []
   },
   "outputs": [],
   "source": []
  },
  {
   "cell_type": "code",
   "execution_count": null,
   "id": "34077794-d754-4bde-a3a2-115fcba583de",
   "metadata": {},
   "outputs": [],
   "source": []
  },
  {
   "cell_type": "code",
   "execution_count": null,
   "id": "f70f6123-cbfd-4f82-9a9c-6c2684721b30",
   "metadata": {
    "tags": []
   },
   "outputs": [],
   "source": [
    "outputPath = os.getcwd() + '/' + outputFile"
   ]
  },
  {
   "cell_type": "code",
   "execution_count": null,
   "id": "ac5e7ba3-1906-40c9-9fb2-1f64529ee21a",
   "metadata": {},
   "outputs": [],
   "source": [
    "outputPath"
   ]
  },
  {
   "cell_type": "code",
   "execution_count": null,
   "id": "9735b167-b5b3-45cb-8377-05d45dd7347e",
   "metadata": {
    "tags": []
   },
   "outputs": [],
   "source": [
    "intarnaOutput = pd.read_csv(outputPath, sep = ';')"
   ]
  },
  {
   "cell_type": "code",
   "execution_count": null,
   "id": "cc9d6671-851d-483d-ad70-02023d65c010",
   "metadata": {
    "tags": []
   },
   "outputs": [],
   "source": [
    "intarnaOutput"
   ]
  },
  {
   "cell_type": "code",
   "execution_count": null,
   "id": "24502e04-c389-401f-8ace-63c4a11ad3f0",
   "metadata": {},
   "outputs": [],
   "source": []
  },
  {
   "cell_type": "code",
   "execution_count": null,
   "id": "42dcf3e8-e239-4f93-9602-2289f67aa31c",
   "metadata": {
    "tags": []
   },
   "outputs": [],
   "source": [
    "rnaFold_prob"
   ]
  },
  {
   "cell_type": "code",
   "execution_count": null,
   "id": "e683fd92-71b0-47e4-9519-d5dbc7c36a9e",
   "metadata": {
    "tags": []
   },
   "outputs": [],
   "source": [
    "# Add as column in sequence metrics dataframe \n",
    "sequenceMetrics['rnaFoldProb'] = rnaFold_prob\n",
    "# Concatenate IntaRNA output as additional columns \n",
    "pd.concat(sequenceMetrics, useful_intarna, axis = 1)\n",
    "sequenceMetrics"
   ]
  },
  {
   "cell_type": "code",
   "execution_count": null,
   "id": "1d1c20f7-7066-42f8-82f9-bf3a02457aad",
   "metadata": {
    "tags": []
   },
   "outputs": [],
   "source": [
    "temp_metrics.sort_values('rnaFoldProb', ascending=True).iloc[0]"
   ]
  },
  {
   "cell_type": "code",
   "execution_count": null,
   "id": "67469cb5-152e-4364-9748-aa388c2fa5e2",
   "metadata": {
    "tags": []
   },
   "outputs": [],
   "source": [
    "sortedMetrics.loc[10, :]"
   ]
  },
  {
   "cell_type": "code",
   "execution_count": null,
   "id": "5a04faa8-0d1c-4ce5-a032-d45f3cd236c5",
   "metadata": {},
   "outputs": [],
   "source": [
    "sortedMetrics"
   ]
  },
  {
   "cell_type": "code",
   "execution_count": null,
   "id": "0c9554a5-25ab-4348-8b66-55745d29f5a0",
   "metadata": {},
   "outputs": [],
   "source": [
    "sortedMetrics[['Exon', 'numTGG']]"
   ]
  },
  {
   "cell_type": "code",
   "execution_count": null,
   "id": "1d03f1ba-0d66-46ee-8d7b-b9366b607424",
   "metadata": {},
   "outputs": [],
   "source": []
  },
  {
   "cell_type": "code",
   "execution_count": null,
   "id": "8d34412e-6d66-472b-a294-81b56fed1ecd",
   "metadata": {},
   "outputs": [],
   "source": []
  },
  {
   "cell_type": "code",
   "execution_count": null,
   "id": "448ea762-c405-41d0-8e27-df0c00091af8",
   "metadata": {},
   "outputs": [],
   "source": []
  },
  {
   "cell_type": "code",
   "execution_count": null,
   "id": "700d487a-075a-41b3-8612-90c88178be9a",
   "metadata": {},
   "outputs": [],
   "source": []
  },
  {
   "cell_type": "markdown",
   "id": "extreme-commissioner",
   "metadata": {},
   "source": [
    "# Outputing sesRNA"
   ]
  },
  {
   "cell_type": "code",
   "execution_count": null,
   "id": "9e2d21f9-3937-4c5a-a30d-11754beb9a34",
   "metadata": {
    "tags": []
   },
   "outputs": [],
   "source": [
    "# Generating BioPython directory if does not exist \n",
    "pathlib.Path('Output/BioPython').mkdir(parents=True, exist_ok=True)\n",
    "\n",
    "# Generate SeqRecord object for each sequence and append to list \n",
    "outputID = geneName + '_sesRNA'\n",
    "outputDescription = \"sesRNA for \" + geneName\n",
    "\n",
    "# Generating sequence record objects (for seperate storage)\n",
    "outputSeqMulti_DNA = []\n",
    "outputSeqMulti_RNA = []\n",
    "for i in rC_multiExon_sesRNAs:\n",
    "    outputSeqMulti.append(SeqRecord(i, id = outputID, description = outputDescription))\n",
    "    \n",
    "# Write output fasta files \n",
    "version = \"V6\"\n",
    "outputName = \"Output/BioPython/\" + geneName + \"_sesRNA_\" + version + \".fasta\" \n",
    "with open(outputName, \"w\") as output_handle:\n",
    "    SeqIO.write(outputSeqMulti, output_handle, \"fasta\")"
   ]
  },
  {
   "cell_type": "code",
   "execution_count": null,
   "id": "167c3ea8-17d5-4514-9a5f-0104b3f9e8a7",
   "metadata": {},
   "outputs": [],
   "source": []
  },
  {
   "cell_type": "code",
   "execution_count": null,
   "id": "c693bab4-f20e-4c6e-a534-68e3034bf5a6",
   "metadata": {},
   "outputs": [],
   "source": []
  },
  {
   "cell_type": "code",
   "execution_count": null,
   "id": "9f9f5568-5659-438b-9b7a-908e50b8def4",
   "metadata": {},
   "outputs": [],
   "source": []
  },
  {
   "cell_type": "code",
   "execution_count": null,
   "id": "f47875ae-27ec-433f-aec4-e23bf7aca36f",
   "metadata": {
    "tags": []
   },
   "outputs": [],
   "source": []
  },
  {
   "cell_type": "code",
   "execution_count": null,
   "id": "7f8c9e2b-a4f1-4b45-91df-78cb737f5171",
   "metadata": {
    "tags": []
   },
   "outputs": [],
   "source": [
    "# Given sequence ... converts to in frame TGGs to TAGs and in frame stops so that first 'T' becomes 'G'\n",
    "# Had to be careful to only work with in frame codons ... initally had made the mistake to just use string.replace ... this would change out of frame codons as well \n",
    "def convert_DNA(sequence, numberConvert):\n",
    "    # Converting to string object for manipulation \n",
    "    strSeq = str(sequence)\n",
    "    # Generating in frame object variables \n",
    "    num_inF_TGG, num_inF_ATG, num_inF_Stop, indicesTGG, indicesATG, indicesStop = return_inFrame(Seq(strSeq), 'all')\n",
    "    print(num_inF_TGG)\n",
    "    # print(num_inF_Stop)\n",
    "\n",
    "    # Replacing in frame stop codons in sequence \n",
    "    for stop in indicesStop: \n",
    "        stopPairs = [(\"TAG\", \"GAG\"), (\"TAA\", \"GAA\"), (\"TGA\", \"GGA\")]\n",
    "        stopSeq = strSeq[stop:stop+3]\n",
    "        [stopSeq := stopSeq.replace(a, b) for a, b in stopPairs]\n",
    "        strSeq = strSeq[:stop] + stopSeq + strSeq[stop+3:]\n",
    "    \n",
    "    # Setting number convert to all if 'All' selected as number of TGG to convert \n",
    "    if numberConvert == 'All': numberConvert = num_inF_TGG\n",
    "    # Converting TGG's ... up to number set ... and in order from starting with most central \n",
    "    # Sorts indicees by distance from center \n",
    "    sorted_indices_centralTGG = np.array(sorted(indicesTGG - (len(strSeq)/2), key = abs)) + (len(strSeq)/2)\n",
    "    # Converts in frame TGG's ... starting from most central TGG ... up to limit set by numberConvert \n",
    "    for i in range(numberConvert):\n",
    "        currentIndex = int(sorted_indices_centralTGG[i])\n",
    "        strSeq = strSeq[:currentIndex] + 'TAG' + strSeq[currentIndex+3:]\n",
    "    # Returns RNA \n",
    "    return Seq(strSeq).transcribe()"
   ]
  },
  {
   "cell_type": "code",
   "execution_count": null,
   "id": "6af0e1ef-cb15-4fa0-a3f6-9b9f52d03398",
   "metadata": {
    "tags": []
   },
   "outputs": [],
   "source": [
    "testSeq = Seq('TGGGAGTAGTGGTGGTAATGA')\n",
    "testStr = str(testSeq)"
   ]
  },
  {
   "cell_type": "code",
   "execution_count": null,
   "id": "2e4f7175-2aef-483b-8f96-831dde95fa64",
   "metadata": {
    "tags": []
   },
   "outputs": [],
   "source": [
    "convert_DNA(testSeq, 1)"
   ]
  },
  {
   "cell_type": "code",
   "execution_count": null,
   "id": "82c811c2-60bc-498b-9c9b-94ab9125b81f",
   "metadata": {},
   "outputs": [],
   "source": []
  },
  {
   "cell_type": "code",
   "execution_count": null,
   "id": "c0fb3c59-4c51-45c6-8f85-392421bd6cf9",
   "metadata": {},
   "outputs": [],
   "source": []
  },
  {
   "cell_type": "code",
   "execution_count": null,
   "id": "a1cf653e-5b1a-45eb-9eb1-35be5f21d605",
   "metadata": {
    "tags": []
   },
   "outputs": [],
   "source": [
    "# Test that all and numbering is working \n",
    "convert_DNA(testSeq, 3) == convert_DNA(testSeq, 'All')"
   ]
  },
  {
   "cell_type": "code",
   "execution_count": null,
   "id": "023548a3-3307-403b-be4e-f6ca37d91bad",
   "metadata": {
    "tags": []
   },
   "outputs": [],
   "source": [
    "convert_DNA(rC_multiExon_sesRNAs[0], 'All')"
   ]
  },
  {
   "cell_type": "code",
   "execution_count": null,
   "id": "90ae4ae5-4c10-4f54-a1c8-d126e2da8a9d",
   "metadata": {
    "tags": []
   },
   "outputs": [],
   "source": [
    "# Testing that continious reading frame being produced if number set to 0 \n",
    "len(convert_DNA(rC_multiExon_sesRNAs[0], 0).translate(to_stop = True)) == len(rC_multiExon_sesRNAs[0])/3"
   ]
  },
  {
   "cell_type": "code",
   "execution_count": null,
   "id": "4d8d7111-a889-4047-802c-602d090da378",
   "metadata": {
    "tags": []
   },
   "outputs": [],
   "source": [
    "# Checking that right number of TGG being converted \n",
    "return_inFrame(convert_DNA(rC_multiExon_sesRNAs[0], 'All').back_transcribe(), 'numTGG')"
   ]
  },
  {
   "cell_type": "code",
   "execution_count": null,
   "id": "1bae4831-23e7-408e-bc9e-9a7aebc136f6",
   "metadata": {},
   "outputs": [],
   "source": []
  },
  {
   "cell_type": "code",
   "execution_count": null,
   "id": "d40fa6fd-c67b-4253-ac72-5e8d27697653",
   "metadata": {},
   "outputs": [],
   "source": []
  },
  {
   "cell_type": "code",
   "execution_count": null,
   "id": "bcc692ef-2b86-49e5-a910-053cf06538db",
   "metadata": {
    "tags": []
   },
   "outputs": [],
   "source": [
    "convert_DNA(testSeq, 1) - (len(testSeq)/2)"
   ]
  },
  {
   "cell_type": "code",
   "execution_count": null,
   "id": "f9570a65-2d19-48da-9328-0a348cdf8b39",
   "metadata": {
    "tags": []
   },
   "outputs": [],
   "source": [
    "abs(convert_DNA(testSeq, 1) - (len(testSeq)/2))"
   ]
  },
  {
   "cell_type": "code",
   "execution_count": null,
   "id": "038c46e2-2379-483e-885b-a74aaa59c52a",
   "metadata": {
    "tags": []
   },
   "outputs": [],
   "source": [
    "np.sort(abs(convert_DNA(testSeq, 1) - (len(testSeq)/2))) + (len(testSeq)/2)"
   ]
  },
  {
   "cell_type": "code",
   "execution_count": null,
   "id": "5a05d474-d9f5-4c6e-bb0d-a04ab3df21c9",
   "metadata": {
    "tags": []
   },
   "outputs": [],
   "source": [
    "np.array(sorted(convert_DNA(testSeq, 1) - (len(testSeq)/2), key = abs)) + (len(testSeq)/2)"
   ]
  },
  {
   "cell_type": "code",
   "execution_count": null,
   "id": "7ee4c058-fcca-469f-90a3-32fd868e95c5",
   "metadata": {},
   "outputs": [],
   "source": []
  },
  {
   "cell_type": "code",
   "execution_count": null,
   "id": "54abcd1d-689a-479a-a0ec-72f227fc50ec",
   "metadata": {},
   "outputs": [],
   "source": []
  },
  {
   "cell_type": "code",
   "execution_count": null,
   "id": "31a227db-5c8c-4bdf-9e5b-e458f6e0449e",
   "metadata": {},
   "outputs": [],
   "source": []
  },
  {
   "cell_type": "code",
   "execution_count": null,
   "id": "a1a573ef-21bc-43ea-825f-40cbd31013c6",
   "metadata": {},
   "outputs": [],
   "source": []
  },
  {
   "cell_type": "code",
   "execution_count": null,
   "id": "8a03757a-e498-4b7b-9419-4466b6620944",
   "metadata": {},
   "outputs": [],
   "source": []
  },
  {
   "cell_type": "code",
   "execution_count": null,
   "id": "cfb99393-f012-4853-bdd6-f6ab77206b39",
   "metadata": {},
   "outputs": [],
   "source": []
  },
  {
   "cell_type": "code",
   "execution_count": null,
   "id": "c3fd9adf-493b-446a-a533-7b622c7bf697",
   "metadata": {
    "tags": []
   },
   "outputs": [],
   "source": [
    "# Function for saving both original template DNA sequence and the converted RNA given list of sesRNAs Seq objects\n",
    "# Could change later to make for separate output files ... have not decided yet whether to just put them together into one labeled fasta file \n",
    "def save_sesRNAs(sequences_sesRNAs, geneName, version, numConvertTGG):\n",
    "    # Generating BioPython directory if does not exist \n",
    "    pathlib.Path('Output/BioPython').mkdir(parents=True, exist_ok=True)\n",
    "    \n",
    "    # Defining save name and description for outputs (original DNA and converted RNA)\n",
    "    DNA_outputID = geneName + '_sesRNA'\n",
    "    DNA_outputDescription = \"sesRNA DNA original for \" + geneName\n",
    "    convertedRNA_outputID = geneName + '_sesRNA'\n",
    "    convertedRNA_outputDescription = \"sesRNA converted RNA for \" + geneName\n",
    "    \n",
    "    # Creating empty list for storing sequences \n",
    "    outputSeqMulti_DNA = []\n",
    "    outputSeqMulti_convertedRNA= []\n",
    "    \n",
    "    # Generating SeqRecord objects in preparation for writing FASTA files ... edited description to include number of sequence\n",
    "    i = 1\n",
    "    for sequence in sequences_sesRNAs:\n",
    "        outputSeqMulti_DNA.append(SeqRecord(sequence, id = DNA_outputID+str(i), description = DNA_outputDescription))\n",
    "        outputSeqMulti_convertedRNA.append(SeqRecord(convert_DNA(sequence, numberConvertTGG), id = convertedRNA_outputID+str(i), description = convertedRNA_outputDescription))\n",
    "        i += 1\n",
    "        \n",
    "    # Write output fasta files \n",
    "    DNA_outputName = \"Output/BioPython/\" + geneName + \"_sesRNA_\" + version + \".fasta\" \n",
    "    convertedRNA_outputName = \"Output/BioPython/\" + geneName + \"_sesRNA_convertedRNA_\" + version + \".fasta\" \n",
    "    \n",
    "    with open(outputName, \"w\") as output_handle:\n",
    "        # Writing original template DNA files \n",
    "        SeqIO.write(outputSeqMulti_DNA, output_handle, \"fasta\")\n",
    "        # Writing orginal template RNA files \n",
    "        SeqIO.write(outputSeqMulti_convertedRNA, output_handle, \"fasta\")"
   ]
  },
  {
   "cell_type": "code",
   "execution_count": null,
   "id": "b468b5c8-ff7c-487e-9e68-1e8218717ca1",
   "metadata": {},
   "outputs": [],
   "source": []
  },
  {
   "cell_type": "code",
   "execution_count": null,
   "id": "5d563e57-b0c3-44df-98d7-9c6553d80147",
   "metadata": {},
   "outputs": [],
   "source": []
  },
  {
   "cell_type": "markdown",
   "id": "58b5b203-4d30-404d-a901-d6acb1a7d5a2",
   "metadata": {},
   "source": [
    "# Not working or not being used "
   ]
  },
  {
   "cell_type": "code",
   "execution_count": null,
   "id": "efda45da-50ae-4e1a-816b-11cff6264bb0",
   "metadata": {
    "tags": []
   },
   "outputs": [],
   "source": [
    "sys.path.append(\"/usr/share/ViennaRNA\")"
   ]
  },
  {
   "cell_type": "code",
   "execution_count": null,
   "id": "12dbed80-8247-4145-8aa4-59661db25282",
   "metadata": {},
   "outputs": [],
   "source": []
  },
  {
   "cell_type": "code",
   "execution_count": null,
   "id": "cbff71cb-5a0d-4a5a-9449-ad55183a9f7c",
   "metadata": {
    "tags": []
   },
   "outputs": [],
   "source": [
    "# Leading RNAfold as RNA \n",
    "import sys\n",
    "sys.path.append(\"/usr/lib/python3.9/site-packages/RNA\")\n",
    "import _RNA as RNA"
   ]
  },
  {
   "cell_type": "code",
   "execution_count": null,
   "id": "42a1ca35-5d61-41cb-a591-9f50d6f60641",
   "metadata": {},
   "outputs": [],
   "source": [
    "import pyseqlib"
   ]
  },
  {
   "cell_type": "code",
   "execution_count": null,
   "id": "d370774a-62a0-4be0-9ba9-0f701d2826b0",
   "metadata": {},
   "outputs": [],
   "source": [
    "from pyseqlib import pyRNAfold"
   ]
  },
  {
   "cell_type": "code",
   "execution_count": null,
   "id": "43d65dc2-2ed1-4a9b-840f-88b800e652fd",
   "metadata": {},
   "outputs": [],
   "source": []
  },
  {
   "cell_type": "code",
   "execution_count": null,
   "id": "c8ea1feb-f3a0-47f7-985a-9c3efced12b9",
   "metadata": {},
   "outputs": [],
   "source": [
    "pyRNAfold i"
   ]
  },
  {
   "cell_type": "code",
   "execution_count": null,
   "id": "6e7157da-fbc5-403e-b035-7c53ee1599d6",
   "metadata": {},
   "outputs": [],
   "source": [
    "pyseqlib.fold_compound(sequence)"
   ]
  },
  {
   "cell_type": "code",
   "execution_count": null,
   "id": "5dbf73a8-500e-4269-ad5f-c4c7d4e0cf9c",
   "metadata": {},
   "outputs": [],
   "source": []
  },
  {
   "cell_type": "code",
   "execution_count": null,
   "id": "e70277c0-f44c-442e-98d2-f09149a99bdb",
   "metadata": {},
   "outputs": [],
   "source": [
    "RNA.fold_compound(sequence)"
   ]
  },
  {
   "cell_type": "code",
   "execution_count": null,
   "id": "ba5f1bdb-1a69-436c-aa5b-796cbb6253d7",
   "metadata": {},
   "outputs": [],
   "source": [
    "sys.path.append(\"/home/user1/Dropbox/Research/Neurobiology_PhD/Rotations/Huang/Projects/CellReadR/Packages/RNA\")\n",
    "import _RNA as RNA"
   ]
  },
  {
   "cell_type": "code",
   "execution_count": null,
   "id": "1f5a4e18-c65c-4719-8e2c-37c39d000939",
   "metadata": {},
   "outputs": [],
   "source": []
  },
  {
   "cell_type": "code",
   "execution_count": null,
   "id": "a2bad740-1144-4da6-9894-30c39822990a",
   "metadata": {},
   "outputs": [],
   "source": []
  },
  {
   "cell_type": "code",
   "execution_count": null,
   "id": "39b3fe1c-4a59-4c07-a19d-3d8f32c55fb4",
   "metadata": {
    "tags": []
   },
   "outputs": [],
   "source": [
    "sys.path.append(\"/home/user1/Dropbox/Research/Neurobiology_PhD/Rotations/Huang/Projects/CellReadR/Code/Functions\")\n",
    "import RNA_Fold"
   ]
  },
  {
   "cell_type": "code",
   "execution_count": null,
   "id": "5150f26a-3612-44b3-a6e6-ab594844a5a0",
   "metadata": {},
   "outputs": [],
   "source": [
    "md = RNA.md()"
   ]
  },
  {
   "cell_type": "code",
   "execution_count": null,
   "id": "8d4ce5e2-9d46-4daf-8a95-3d56da14de84",
   "metadata": {},
   "outputs": [],
   "source": [
    "import example"
   ]
  },
  {
   "cell_type": "code",
   "execution_count": null,
   "id": "92a361b3-4c02-4ece-a37b-23fcd41d9c8d",
   "metadata": {
    "tags": []
   },
   "outputs": [],
   "source": [
    "sequence = \"CGCAGGGAUACCCGCG\"\n",
    " \n",
    "# create new fold_compound object\n",
    "fc = RNA.fold_compound(sequence)\n",
    " \n",
    "# compute minimum free energy (mfe) and corresponding structure\n",
    "(ss, mfe) = fc.mfe()\n",
    " "
   ]
  },
  {
   "cell_type": "code",
   "execution_count": null,
   "id": "ec84efc7-c0e9-4687-b6d0-64252c206805",
   "metadata": {},
   "outputs": [],
   "source": []
  },
  {
   "cell_type": "code",
   "execution_count": null,
   "id": "c3c2c214-6be3-4084-9f68-1620dcaac196",
   "metadata": {},
   "outputs": [],
   "source": []
  },
  {
   "cell_type": "code",
   "execution_count": null,
   "id": "215b7384-fe9e-47d7-90a1-69b70ac88674",
   "metadata": {},
   "outputs": [],
   "source": []
  },
  {
   "cell_type": "code",
   "execution_count": null,
   "id": "dec0e796-a5f9-48f3-a745-93d3ecf84fbc",
   "metadata": {
    "tags": []
   },
   "outputs": [],
   "source": [
    "# The RNA sequence\n",
    "seq = \"GAGUAGUGGAACCAGGCUAUGUUUGUGACUCGCAGACUAACA\"\n",
    " \n",
    "# compute minimum free energy (MFE) and corresponding structure\n",
    "(ss, mfe) = RNA.fold(seq)"
   ]
  },
  {
   "cell_type": "code",
   "execution_count": null,
   "id": "8b3d57f5-0912-4573-bab8-7d8e4c57305c",
   "metadata": {},
   "outputs": [],
   "source": [
    "import pickle "
   ]
  },
  {
   "cell_type": "code",
   "execution_count": null,
   "id": "4d5f1883-20cf-4fbd-aaaa-111a84e39322",
   "metadata": {},
   "outputs": [],
   "source": [
    "mfe"
   ]
  },
  {
   "cell_type": "code",
   "execution_count": null,
   "id": "865753f3-945c-402e-a1fc-f6627073c7eb",
   "metadata": {},
   "outputs": [],
   "source": []
  },
  {
   "cell_type": "code",
   "execution_count": null,
   "id": "c6859c6a-b13c-46f1-a7fa-37581dedd0ef",
   "metadata": {},
   "outputs": [],
   "source": []
  },
  {
   "cell_type": "code",
   "execution_count": null,
   "id": "008151d9-60c5-4bb2-80e3-a4a834752f59",
   "metadata": {
    "tags": []
   },
   "outputs": [],
   "source": [
    "pathOuput = \"/home/user1/Dropbox/Research/Neurobiology_PhD/Rotations/Huang/Projects/CellReadR/Code/Functions/seqObject.p\"\n",
    "pickle.dump(testSeq, open(pathOuput, 'wb'))"
   ]
  },
  {
   "cell_type": "code",
   "execution_count": null,
   "id": "d5626803-11f0-4c60-a8dc-0614fcd69ddb",
   "metadata": {
    "tags": []
   },
   "outputs": [],
   "source": [
    "# Running script for getting probabilities from RNAfold output file (added to ArchBin btw)\n",
    "pathFuncPython = '/home/user1/Dropbox/Research/Neurobiology_PhD/Rotations/Huang/Projects/CellReadR/Code/Functions/'\n",
    "# command = 'python ' + '/home/user1/Dropbox/Research/Neurobiology_PhD/Rotations/Huang/Projects/CellReadR/Code/Functions/RNA_Fold.py'\n",
    "# command = 'cd ' + pathFuncPython + ' | ./RNA_Fold.py'\n",
    "# command = 'cd ' + pathFuncPython + ' | ls -a'\n",
    "\n",
    "command = 'ls -a'\n",
    "readProb = subprocess.Popen(command, shell=True, stdout=subprocess.PIPE)\n",
    "returnedProb = readProb.stdout.read()"
   ]
  },
  {
   "cell_type": "code",
   "execution_count": null,
   "id": "4d15723e-205c-46be-8774-a7832f07c16b",
   "metadata": {
    "tags": []
   },
   "outputs": [],
   "source": [
    "returnedProb"
   ]
  },
  {
   "cell_type": "code",
   "execution_count": null,
   "id": "369e3b34-90bb-4ffe-94bd-3536fff04a43",
   "metadata": {},
   "outputs": [],
   "source": [
    "command "
   ]
  },
  {
   "cell_type": "code",
   "execution_count": null,
   "id": "702f0340-65cf-4f6a-9370-0fea5c4142f8",
   "metadata": {},
   "outputs": [],
   "source": []
  },
  {
   "cell_type": "code",
   "execution_count": null,
   "id": "b7f49c08-c085-4780-9d9d-9876f86f86a6",
   "metadata": {},
   "outputs": [],
   "source": []
  },
  {
   "cell_type": "code",
   "execution_count": null,
   "id": "df9776d2-32d8-42ed-ae78-11a152e464f4",
   "metadata": {},
   "outputs": [],
   "source": [
    "str(rC_multiExon_sesRNAs[0])"
   ]
  },
  {
   "cell_type": "code",
   "execution_count": null,
   "id": "085834fe-d3bf-441f-a3e3-cd2957cbde27",
   "metadata": {
    "tags": []
   },
   "outputs": [],
   "source": [
    "testSeq = str(rC_multiExon_sesRNAs[0])\n",
    "testSeq"
   ]
  },
  {
   "cell_type": "code",
   "execution_count": null,
   "id": "23f116db-7ee8-42bb-b693-180e054adf50",
   "metadata": {
    "tags": []
   },
   "outputs": [],
   "source": [
    "RNA.fold(testSeq)"
   ]
  },
  {
   "cell_type": "code",
   "execution_count": null,
   "id": "17244f24-5962-4204-be1e-6ccb6114bea8",
   "metadata": {},
   "outputs": [],
   "source": []
  },
  {
   "cell_type": "code",
   "execution_count": null,
   "id": "bb28caef-065f-414b-8e52-a6c58268b3ef",
   "metadata": {
    "tags": []
   },
   "outputs": [],
   "source": [
    "def compute_mfeFreq(sequence):\n",
    "    # create a fold_compound object for the current sequence\n",
    "    fc = RNA.fold_compound(sequence)\n",
    "\n",
    "    # compute the MFE and corresponding structure\n",
    "    (mfe_struct, mfe) = fc.mfe()\n",
    "\n",
    "\n",
    "    # compute partition function\n",
    "    (bp_propensity, dG) = fc.pf()\n",
    "\n",
    "    # compute frequency of MFE structure (the 'hard' way)\n",
    "    kT = RNA.exp_param().kT / 1000.\n",
    "\n",
    "    prob_mfe = math.exp((dG - mfe) / kT)\n",
    "    \n",
    "    return prob_mfe"
   ]
  },
  {
   "cell_type": "code",
   "execution_count": null,
   "id": "19aa6422-1553-48df-a937-09b3c8573bff",
   "metadata": {},
   "outputs": [],
   "source": []
  },
  {
   "cell_type": "code",
   "execution_count": null,
   "id": "d0340ab0-6477-4743-ad7e-dc3c490111ca",
   "metadata": {},
   "outputs": [],
   "source": []
  },
  {
   "cell_type": "code",
   "execution_count": null,
   "id": "damaged-pressure",
   "metadata": {},
   "outputs": [],
   "source": [
    "rC_multi_startSeq"
   ]
  },
  {
   "cell_type": "code",
   "execution_count": null,
   "id": "charged-congress",
   "metadata": {
    "tags": []
   },
   "outputs": [],
   "source": [
    "rC_multiExon_sesRNAs"
   ]
  },
  {
   "cell_type": "code",
   "execution_count": null,
   "id": "elementary-jersey",
   "metadata": {
    "tags": []
   },
   "outputs": [],
   "source": [
    "str(rC_multiExon_sesRNAs[8])"
   ]
  },
  {
   "cell_type": "code",
   "execution_count": null,
   "id": "mediterranean-savage",
   "metadata": {
    "tags": []
   },
   "outputs": [],
   "source": [
    "str(rC_multiExon_sesRNAs[18])"
   ]
  },
  {
   "cell_type": "code",
   "execution_count": null,
   "id": "interracial-bottom",
   "metadata": {},
   "outputs": [],
   "source": []
  },
  {
   "cell_type": "code",
   "execution_count": null,
   "id": "solar-patrick",
   "metadata": {},
   "outputs": [],
   "source": [
    "from seqfold import dg, dg_cache, fold"
   ]
  },
  {
   "cell_type": "code",
   "execution_count": null,
   "id": "acknowledged-director",
   "metadata": {
    "tags": []
   },
   "outputs": [],
   "source": [
    "# just returns minimum free energy\n",
    "dg(\"GGGAGGTCGTTACATCTGGGTAACACCGGTACTGATCCGGTGACCTCCC\", temp = 37.0)  # -12.94"
   ]
  },
  {
   "cell_type": "code",
   "execution_count": null,
   "id": "9d425009-33b2-446f-9faf-7895b89e4951",
   "metadata": {},
   "outputs": [],
   "source": []
  },
  {
   "cell_type": "code",
   "execution_count": null,
   "id": "3f0c25cd-144f-44f8-8237-3a30feca85c9",
   "metadata": {},
   "outputs": [],
   "source": []
  },
  {
   "cell_type": "markdown",
   "id": "2448a30b-85ac-49df-b0a4-77266bef87c0",
   "metadata": {},
   "source": [
    "# Test Intarna (test strength of binding, off-target, ...)  "
   ]
  },
  {
   "cell_type": "code",
   "execution_count": null,
   "id": "71a7a71b-636d-4306-9293-928340bd2c84",
   "metadata": {
    "tags": []
   },
   "outputs": [],
   "source": [
    "import intarnapvalue"
   ]
  },
  {
   "cell_type": "code",
   "execution_count": null,
   "id": "a3b8a086-570c-4ce2-b379-2d6fa514e5f1",
   "metadata": {
    "tags": []
   },
   "outputs": [],
   "source": [
    "testSeq = str(rC_multiExon_sesRNAs[0])\n",
    "testSeq"
   ]
  },
  {
   "cell_type": "code",
   "execution_count": null,
   "id": "2d965c68-7f64-4f5b-894a-9194e0767a16",
   "metadata": {
    "tags": []
   },
   "outputs": [],
   "source": [
    "target = str(CDS[0].seq)\n",
    "target "
   ]
  },
  {
   "cell_type": "code",
   "execution_count": null,
   "id": "9592a4f3-8751-4f2a-ba84-49d73a47e1f0",
   "metadata": {
    "tags": []
   },
   "outputs": [],
   "source": [
    "from intarnapvalue.intarna_pvalue import IntaRNApvalue"
   ]
  },
  {
   "cell_type": "code",
   "execution_count": null,
   "id": "06385d0f-6d8a-4731-8519-8acde1f45040",
   "metadata": {
    "tags": []
   },
   "outputs": [],
   "source": [
    "?IntaRNApvalue"
   ]
  },
  {
   "cell_type": "code",
   "execution_count": null,
   "id": "bbfe4d76-3fcf-4826-b93c-00a9f21ee2fb",
   "metadata": {
    "tags": []
   },
   "outputs": [],
   "source": [
    "?intarna_pvalue"
   ]
  },
  {
   "cell_type": "code",
   "execution_count": null,
   "id": "eb0ff577-4f6c-4163-a826-371709f260ec",
   "metadata": {
    "tags": []
   },
   "outputs": [],
   "source": [
    "IntaRNApvalue(['--query', testSeq, '--target', target])"
   ]
  },
  {
   "cell_type": "code",
   "execution_count": null,
   "id": "44b6edfa-0076-48fe-ae39-cbc2d58ce978",
   "metadata": {
    "tags": []
   },
   "outputs": [],
   "source": [
    "IntaRNApvalue['-q', 'AGGAUG', '-t', 'UUUAUCGUU', '-s', '10', '-m', 'b', '-d', 'gauss', '--threads', '3']"
   ]
  },
  {
   "cell_type": "code",
   "execution_count": null,
   "id": "67996c75-f119-4851-9a4e-a1cf44a63620",
   "metadata": {
    "tags": []
   },
   "outputs": [],
   "source": [
    "command = 'python -m intarnapvalue --query GCUGAAAAACAUAACCCAUAAAAUGCUAGCUGUACCAGGAACCA --target GGUUUCUUCGCCUCUGCGUUCACCAAAGUGUUCACCC -s 10 --shuffle-mode b --threads 0' "
   ]
  },
  {
   "cell_type": "code",
   "execution_count": null,
   "id": "97ebce19-6fcf-442c-ab8f-d80538378416",
   "metadata": {
    "tags": []
   },
   "outputs": [],
   "source": [
    "readProb = subprocess.Popen(command, shell=True, stdout=subprocess.PIPE)\n",
    "readProb.wait()\n",
    "returnedProb = readProb.stdout.read()\n",
    "returnedProb"
   ]
  },
  {
   "cell_type": "code",
   "execution_count": null,
   "id": "6c5a3cac-bc79-4845-983d-dc0fbcf7191a",
   "metadata": {},
   "outputs": [],
   "source": []
  },
  {
   "cell_type": "code",
   "execution_count": null,
   "id": "1da5e107-afe0-4713-bbed-089bd27f569f",
   "metadata": {},
   "outputs": [],
   "source": []
  },
  {
   "cell_type": "code",
   "execution_count": null,
   "id": "18522fa3-de4b-43f5-963d-7d507e5f365a",
   "metadata": {},
   "outputs": [],
   "source": []
  },
  {
   "cell_type": "code",
   "execution_count": null,
   "id": "be4dc3b2-5726-43d9-bbd8-9f908f0e0f64",
   "metadata": {},
   "outputs": [],
   "source": []
  },
  {
   "cell_type": "code",
   "execution_count": null,
   "id": "82638ba5-6f97-47f0-a0e3-69e71588f4c1",
   "metadata": {},
   "outputs": [],
   "source": []
  },
  {
   "cell_type": "code",
   "execution_count": null,
   "id": "68a44ad1-c37c-4c60-8d2a-51bfc136c87d",
   "metadata": {},
   "outputs": [],
   "source": []
  },
  {
   "cell_type": "code",
   "execution_count": null,
   "id": "a104a3b7-dba6-4031-9eca-69fd3cdab621",
   "metadata": {},
   "outputs": [],
   "source": []
  },
  {
   "cell_type": "code",
   "execution_count": null,
   "id": "844c4bef-bdb0-4cef-9bd2-6571e58a2b55",
   "metadata": {},
   "outputs": [],
   "source": []
  },
  {
   "cell_type": "code",
   "execution_count": null,
   "id": "85632729-fee0-4df2-b4bf-cf5d6acdedb5",
   "metadata": {
    "tags": []
   },
   "outputs": [],
   "source": [
    "# Running script for getting probabilities from RNAfold output file (added to ArchBin btw)\n",
    "readProb = subprocess.Popen(command, shell=True, stdout=subprocess.PIPE)\n",
    "returnedProb = readProb.stdout.read()\n",
    "# Waiting for last command to finish before storing value in temp.out file \n",
    "readProb.wait()"
   ]
  },
  {
   "cell_type": "code",
   "execution_count": null,
   "id": "4538e5f3-b566-4e9e-acf8-1a4df404d0ca",
   "metadata": {
    "tags": []
   },
   "outputs": [],
   "source": [
    "pd.read_csv('/home/user1/Dropbox/Research/Neurobiology_PhD/Rotations/Huang/Projects/CellReadR/Code/Functions/output.csv', sep = ';')"
   ]
  },
  {
   "cell_type": "code",
   "execution_count": null,
   "id": "a193e3d7-6c52-4fcf-8aa6-e44ba3ef53e0",
   "metadata": {
    "tags": []
   },
   "outputs": [],
   "source": [
    "pd.read_csv('/home/user1/Dropbox/Research/Neurobiology_PhD/Rotations/Huang/Projects/CellReadR/Code/Functions/output.csv', sep = ';')"
   ]
  },
  {
   "cell_type": "code",
   "execution_count": null,
   "id": "106bc078-bf3f-4d97-bf36-fcfc8f088901",
   "metadata": {
    "tags": []
   },
   "outputs": [],
   "source": [
    "pd.read_csv('/home/user1/Dropbox/Research/Neurobiology_PhD/Rotations/Huang/Projects/CellReadR/Code/Functions/output.csv', sep = ';')"
   ]
  },
  {
   "cell_type": "code",
   "execution_count": null,
   "id": "eece9f23-3c40-4314-a2b2-16c5b6a77f50",
   "metadata": {},
   "outputs": [],
   "source": []
  },
  {
   "cell_type": "code",
   "execution_count": null,
   "id": "35b27c3d-22e7-4526-9dd7-6a92a57bf560",
   "metadata": {},
   "outputs": [],
   "source": []
  },
  {
   "cell_type": "code",
   "execution_count": null,
   "id": "2f33582c-ca5c-4be6-87f0-1345516f727f",
   "metadata": {},
   "outputs": [],
   "source": []
  },
  {
   "cell_type": "code",
   "execution_count": null,
   "id": "85955b3f-038e-40c2-9cb7-691bacac3f67",
   "metadata": {},
   "outputs": [],
   "source": []
  },
  {
   "cell_type": "code",
   "execution_count": null,
   "id": "9730cf60-da21-42ef-ae6f-1ba1624bc0d9",
   "metadata": {
    "tags": []
   },
   "outputs": [],
   "source": [
    "# Trying to load entire transcripome ... obviously failed ... \n",
    "allRat_fileName = '/home/user1/Dropbox/Research/Neurobiology_PhD/Rotations/Huang/Projects/CellReadR/Data/Sequences/Reference/Ensembl/All/Rattus_norvegicus.Rnor_6.0.cdna.all.fa'\n",
    "allRat = list(SeqIO.parse(allRat_fileName, \"fasta\"))"
   ]
  },
  {
   "cell_type": "code",
   "execution_count": null,
   "id": "a3a4bdd4-fc6c-42fe-902b-78babec7a547",
   "metadata": {},
   "outputs": [],
   "source": []
  },
  {
   "cell_type": "code",
   "execution_count": null,
   "id": "ecc21e03-8038-4ebc-afb1-92fd70b50ff5",
   "metadata": {},
   "outputs": [],
   "source": []
  },
  {
   "cell_type": "code",
   "execution_count": null,
   "id": "a6f7c3fc-5d93-46a1-841d-37abfd8a1af2",
   "metadata": {},
   "outputs": [],
   "source": []
  },
  {
   "cell_type": "code",
   "execution_count": null,
   "id": "af8382d1-bbfb-4787-9e9a-93a321f635de",
   "metadata": {},
   "outputs": [],
   "source": []
  },
  {
   "cell_type": "code",
   "execution_count": null,
   "id": "54749854-f897-466a-a4b2-3d351598d34f",
   "metadata": {},
   "outputs": [],
   "source": []
  },
  {
   "cell_type": "code",
   "execution_count": null,
   "id": "042fb2ef-5cc4-4134-ac95-b6be29b6a702",
   "metadata": {},
   "outputs": [],
   "source": [
    "python -m intarnapvalue --query GCUGAAAAACAUAACCCAUAAAAUGCUAGCUGUACCAGGAACCA --target GGUUUCUUCGCCUCUGCGUUCACCAAAGUGUUCACCC --scores 10000 --shuffle-mode b --threads 0"
   ]
  },
  {
   "cell_type": "code",
   "execution_count": null,
   "id": "6f66470e-8de1-4e89-b4ca-0183f7a4bc5a",
   "metadata": {},
   "outputs": [],
   "source": [
    "intarnapvalue --query GCUGAAAAACAUAACCCAUAAAAUGCUAGCUGUACCAGGAACCA --target GGUUUCUUCGCCUCUGCGUUCACCAAAGUGUUCACCC --scores 10000 --shuffle-mode b --threads 0"
   ]
  },
  {
   "cell_type": "code",
   "execution_count": null,
   "id": "2a5b397c-e523-4551-9e1e-b8e10df7e6de",
   "metadata": {},
   "outputs": [],
   "source": []
  },
  {
   "cell_type": "code",
   "execution_count": null,
   "id": "015609d6-742c-40d2-821b-1a5049e2550c",
   "metadata": {},
   "outputs": [],
   "source": []
  },
  {
   "cell_type": "markdown",
   "id": "approved-notion",
   "metadata": {},
   "source": [
    "# Misc"
   ]
  },
  {
   "cell_type": "code",
   "execution_count": null,
   "id": "italian-front",
   "metadata": {
    "tags": []
   },
   "outputs": [],
   "source": [
    "# For returning index of findings \n",
    "searchCodon = 'TAG'\n",
    "[m.start() for m in re.finditer(searchCodon, str(seq))]"
   ]
  },
  {
   "cell_type": "code",
   "execution_count": null,
   "id": "elder-buddy",
   "metadata": {
    "tags": []
   },
   "outputs": [],
   "source": [
    "testSeq = sesRNAs[0]\n",
    "testSeq"
   ]
  },
  {
   "cell_type": "code",
   "execution_count": null,
   "id": "powered-action",
   "metadata": {
    "tags": []
   },
   "outputs": [],
   "source": [
    "lastATG = [m.start() for m in re.finditer('ATG', str(testSeq))][-1]\n",
    "lastTGG = [m.start() for m in re.finditer('TGG', str(testSeq))][-1]"
   ]
  },
  {
   "cell_type": "code",
   "execution_count": null,
   "id": "wooden-standard",
   "metadata": {
    "tags": []
   },
   "outputs": [],
   "source": [
    "lastTGG"
   ]
  },
  {
   "cell_type": "code",
   "execution_count": null,
   "id": "proud-insured",
   "metadata": {
    "tags": []
   },
   "outputs": [],
   "source": [
    "lastATG"
   ]
  },
  {
   "cell_type": "code",
   "execution_count": null,
   "id": "alive-japan",
   "metadata": {},
   "outputs": [],
   "source": [
    "lastATG < lastTGG"
   ]
  },
  {
   "cell_type": "code",
   "execution_count": null,
   "id": "gentle-spelling",
   "metadata": {
    "tags": []
   },
   "outputs": [],
   "source": [
    "searchCodon = 'ATG'\n",
    "[m.start() for m in re.finditer(searchCodon, str(testSeq))][-1]"
   ]
  },
  {
   "cell_type": "code",
   "execution_count": null,
   "id": "otherwise-series",
   "metadata": {
    "tags": []
   },
   "outputs": [],
   "source": [
    "seq.count('TAG') < 4"
   ]
  },
  {
   "cell_type": "code",
   "execution_count": null,
   "id": "suspected-hollywood",
   "metadata": {
    "tags": []
   },
   "outputs": [],
   "source": [
    "seq[0:100].count('TAG')"
   ]
  },
  {
   "cell_type": "code",
   "execution_count": null,
   "id": "manufactured-luxembourg",
   "metadata": {},
   "outputs": [],
   "source": []
  },
  {
   "cell_type": "code",
   "execution_count": null,
   "id": "cubic-orientation",
   "metadata": {},
   "outputs": [],
   "source": [
    "stopCodons = ['TAG', 'TAA', 'TGA']\n",
    "stopCodons "
   ]
  },
  {
   "cell_type": "code",
   "execution_count": null,
   "id": "about-theater",
   "metadata": {},
   "outputs": [],
   "source": [
    "indiciesTGG"
   ]
  },
  {
   "cell_type": "code",
   "execution_count": null,
   "id": "aquatic-ancient",
   "metadata": {
    "tags": []
   },
   "outputs": [],
   "source": [
    "indiciesStop"
   ]
  },
  {
   "cell_type": "code",
   "execution_count": null,
   "id": "through-combat",
   "metadata": {
    "tags": []
   },
   "outputs": [],
   "source": [
    "length = 200 \n",
    "center = length/2"
   ]
  },
  {
   "cell_type": "code",
   "execution_count": null,
   "id": "authorized-piece",
   "metadata": {
    "tags": []
   },
   "outputs": [],
   "source": [
    "arrayStop = np.array(indiciesStop)\n",
    "arrayIndicies = np.array(indiciesTGG) \n",
    "centralTGGs = arrayIndicies[abs(arrayIndicies - center) < 10]"
   ]
  },
  {
   "cell_type": "code",
   "execution_count": null,
   "id": "verbal-alabama",
   "metadata": {
    "tags": []
   },
   "outputs": [],
   "source": [
    "centralTGGs"
   ]
  },
  {
   "cell_type": "code",
   "execution_count": null,
   "id": "devoted-superior",
   "metadata": {
    "tags": []
   },
   "outputs": [],
   "source": [
    "np.in1d(centralTGGs,arrayStop)"
   ]
  },
  {
   "cell_type": "code",
   "execution_count": null,
   "id": "soviet-methodology",
   "metadata": {
    "tags": []
   },
   "outputs": [],
   "source": [
    "# Check if array contains values that are within range of values in another array \n",
    "any((min(abs(arrayStop - i)) > 10) for i in centralTGGs)"
   ]
  },
  {
   "cell_type": "code",
   "execution_count": null,
   "id": "pregnant-backing",
   "metadata": {},
   "outputs": [],
   "source": [
    "centralTGGs"
   ]
  },
  {
   "cell_type": "code",
   "execution_count": null,
   "id": "recreational-reward",
   "metadata": {
    "tags": []
   },
   "outputs": [],
   "source": [
    "indiciesStop"
   ]
  },
  {
   "cell_type": "code",
   "execution_count": null,
   "id": "equivalent-puppy",
   "metadata": {},
   "outputs": [],
   "source": [
    "testStop = [90, 16, 174]"
   ]
  },
  {
   "cell_type": "code",
   "execution_count": null,
   "id": "suspected-rates",
   "metadata": {},
   "outputs": [],
   "source": []
  },
  {
   "cell_type": "code",
   "execution_count": null,
   "id": "interested-cameroon",
   "metadata": {},
   "outputs": [],
   "source": []
  },
  {
   "cell_type": "code",
   "execution_count": null,
   "id": "progressive-producer",
   "metadata": {
    "tags": []
   },
   "outputs": [],
   "source": [
    "(min(abs(arrayStop - centralTGGs[0])) > 10)"
   ]
  },
  {
   "cell_type": "code",
   "execution_count": null,
   "id": "frank-hepatitis",
   "metadata": {
    "tags": []
   },
   "outputs": [],
   "source": [
    "min(abs(arrayStop - centralTGGs[0])) > 10"
   ]
  },
  {
   "cell_type": "code",
   "execution_count": null,
   "id": "muslim-version",
   "metadata": {},
   "outputs": [],
   "source": []
  },
  {
   "cell_type": "code",
   "execution_count": null,
   "id": "complicated-southeast",
   "metadata": {
    "tags": []
   },
   "outputs": [],
   "source": [
    "centeralTGGs = offset.min()\n",
    "centeralTGGs"
   ]
  },
  {
   "cell_type": "code",
   "execution_count": null,
   "id": "fantastic-intellectual",
   "metadata": {},
   "outputs": [],
   "source": [
    "centralTGGs = np.all(offset == offset.min())\n",
    "centralTGGs"
   ]
  },
  {
   "cell_type": "code",
   "execution_count": null,
   "id": "advisory-survey",
   "metadata": {
    "tags": []
   },
   "outputs": [],
   "source": [
    "centeralTGGs = np.where(offset == offset.min())\n",
    "centeralTGG"
   ]
  },
  {
   "cell_type": "code",
   "execution_count": null,
   "id": "mounted-appraisal",
   "metadata": {
    "tags": []
   },
   "outputs": [],
   "source": [
    "offset = abs(arrayIndicies - center) \n",
    "centerTGG = indiciesTGG[np.argmin(offset)]"
   ]
  },
  {
   "cell_type": "code",
   "execution_count": null,
   "id": "hazardous-office",
   "metadata": {
    "tags": []
   },
   "outputs": [],
   "source": [
    "any(abs(x - centerTGG) < 10 for x in indiciesStop)"
   ]
  },
  {
   "cell_type": "code",
   "execution_count": null,
   "id": "narrative-midnight",
   "metadata": {},
   "outputs": [],
   "source": []
  },
  {
   "cell_type": "code",
   "execution_count": null,
   "id": "political-positive",
   "metadata": {
    "tags": []
   },
   "outputs": [],
   "source": [
    "indiciesStop = []\n",
    "for codons in stopCodons:\n",
    "    indiciesStop.extend([m.start() for m in re.finditer(codons, str(testSeq))])"
   ]
  },
  {
   "cell_type": "code",
   "execution_count": null,
   "id": "intended-rotation",
   "metadata": {
    "tags": []
   },
   "outputs": [],
   "source": [
    "len(indiciesStop)"
   ]
  },
  {
   "cell_type": "code",
   "execution_count": null,
   "id": "computational-incidence",
   "metadata": {
    "tags": []
   },
   "outputs": [],
   "source": [
    "[m.start() for m in re.finditer('TGA', str(testSeq))]"
   ]
  },
  {
   "cell_type": "code",
   "execution_count": null,
   "id": "adjustable-appointment",
   "metadata": {
    "tags": []
   },
   "outputs": [],
   "source": [
    "[m.start() for m in re.finditer('TAA', str(testSeq))]"
   ]
  },
  {
   "cell_type": "code",
   "execution_count": null,
   "id": "nervous-retention",
   "metadata": {},
   "outputs": [],
   "source": [
    "[m.start() for m in re.finditer('TAG', str(testSeq))]"
   ]
  },
  {
   "cell_type": "code",
   "execution_count": null,
   "id": "circular-letter",
   "metadata": {
    "tags": []
   },
   "outputs": [],
   "source": [
    "testSeq.count(stopCodons)"
   ]
  },
  {
   "cell_type": "code",
   "execution_count": null,
   "id": "standing-gregory",
   "metadata": {},
   "outputs": [],
   "source": [
    "indiciesTGG"
   ]
  },
  {
   "cell_type": "code",
   "execution_count": null,
   "id": "forbidden-money",
   "metadata": {
    "tags": []
   },
   "outputs": [],
   "source": [
    "len(indiciesTGG)"
   ]
  },
  {
   "cell_type": "code",
   "execution_count": null,
   "id": "equal-shame",
   "metadata": {},
   "outputs": [],
   "source": []
  },
  {
   "cell_type": "code",
   "execution_count": null,
   "id": "hydraulic-security",
   "metadata": {},
   "outputs": [],
   "source": []
  },
  {
   "cell_type": "code",
   "execution_count": null,
   "id": "sorted-sleep",
   "metadata": {
    "tags": []
   },
   "outputs": [],
   "source": [
    "testSeq = sesRNAs[0]"
   ]
  },
  {
   "cell_type": "code",
   "execution_count": null,
   "id": "continuous-comparative",
   "metadata": {
    "tags": []
   },
   "outputs": [],
   "source": [
    "lastTGG = [m.start() for m in re.finditer('TGG', str(testSeq))][-1]"
   ]
  },
  {
   "cell_type": "code",
   "execution_count": null,
   "id": "challenging-hopkins",
   "metadata": {},
   "outputs": [],
   "source": [
    "testSeq"
   ]
  },
  {
   "cell_type": "code",
   "execution_count": null,
   "id": "completed-grenada",
   "metadata": {
    "tags": []
   },
   "outputs": [],
   "source": [
    "indiciesTGG = [m.start() for m in re.finditer('TGG', str(testSeq))]"
   ]
  },
  {
   "cell_type": "code",
   "execution_count": null,
   "id": "adjusted-trustee",
   "metadata": {
    "tags": []
   },
   "outputs": [],
   "source": [
    "start = 0 \n",
    "stop = 200"
   ]
  },
  {
   "cell_type": "code",
   "execution_count": null,
   "id": "capable-complement",
   "metadata": {
    "tags": []
   },
   "outputs": [],
   "source": [
    "middle = (start + stop) / 2"
   ]
  },
  {
   "cell_type": "code",
   "execution_count": null,
   "id": "olympic-present",
   "metadata": {
    "tags": []
   },
   "outputs": [],
   "source": [
    "abs(middle - indiciesTGG[0])"
   ]
  },
  {
   "cell_type": "code",
   "execution_count": null,
   "id": "champion-eleven",
   "metadata": {},
   "outputs": [],
   "source": [
    "type(indiciesTGG)"
   ]
  },
  {
   "cell_type": "code",
   "execution_count": null,
   "id": "spectacular-touch",
   "metadata": {},
   "outputs": [],
   "source": [
    "indiciesTGG"
   ]
  },
  {
   "cell_type": "code",
   "execution_count": null,
   "id": "cooked-music",
   "metadata": {},
   "outputs": [],
   "source": [
    "any(indiciesTGG) > 2"
   ]
  },
  {
   "cell_type": "code",
   "execution_count": null,
   "id": "appropriate-ministry",
   "metadata": {},
   "outputs": [],
   "source": [
    "length = 200 "
   ]
  },
  {
   "cell_type": "code",
   "execution_count": null,
   "id": "ruled-times",
   "metadata": {
    "tags": []
   },
   "outputs": [],
   "source": [
    "any(abs(x - (length/2)) < 20 for x in indiciesTGG)"
   ]
  },
  {
   "cell_type": "code",
   "execution_count": null,
   "id": "developing-origin",
   "metadata": {
    "tags": []
   },
   "outputs": [],
   "source": [
    "testList = [50, 60, 170, 200]"
   ]
  },
  {
   "cell_type": "code",
   "execution_count": null,
   "id": "accomplished-recording",
   "metadata": {
    "tags": []
   },
   "outputs": [],
   "source": [
    "any(abs(x - (length/2)) < 10 for x in testList)"
   ]
  },
  {
   "cell_type": "code",
   "execution_count": null,
   "id": "killing-fetish",
   "metadata": {},
   "outputs": [],
   "source": []
  },
  {
   "cell_type": "code",
   "execution_count": null,
   "id": "concrete-mississippi",
   "metadata": {},
   "outputs": [],
   "source": [
    "testSeq"
   ]
  },
  {
   "cell_type": "code",
   "execution_count": null,
   "id": "comfortable-green",
   "metadata": {
    "tags": []
   },
   "outputs": [],
   "source": [
    "os.path.isdir('Output/BioPython')"
   ]
  },
  {
   "cell_type": "code",
   "execution_count": null,
   "id": "selective-quality",
   "metadata": {
    "tags": []
   },
   "outputs": [],
   "source": []
  },
  {
   "cell_type": "code",
   "execution_count": null,
   "id": "fewer-strain",
   "metadata": {},
   "outputs": [],
   "source": [
    "outputFileName = os.getcwd() + ''"
   ]
  },
  {
   "cell_type": "code",
   "execution_count": null,
   "id": "facial-sodium",
   "metadata": {},
   "outputs": [],
   "source": [
    "testSeq"
   ]
  },
  {
   "cell_type": "code",
   "execution_count": null,
   "id": "624fb6a0-4572-4319-b60d-573b7ab225f1",
   "metadata": {},
   "outputs": [],
   "source": []
  },
  {
   "cell_type": "code",
   "execution_count": null,
   "id": "b7dca5f2-075c-4bf9-9f86-7defe8042a17",
   "metadata": {},
   "outputs": [],
   "source": []
  },
  {
   "cell_type": "code",
   "execution_count": null,
   "id": "6eded10b-badd-4eb0-b3b8-49fb236d067b",
   "metadata": {},
   "outputs": [],
   "source": []
  },
  {
   "cell_type": "code",
   "execution_count": null,
   "id": "af561b1c-991a-4d98-af4c-15606fbcdee3",
   "metadata": {},
   "outputs": [],
   "source": []
  },
  {
   "cell_type": "code",
   "execution_count": null,
   "id": "a5e327bb-c221-4578-b0a0-7dfac34c1625",
   "metadata": {},
   "outputs": [],
   "source": []
  },
  {
   "cell_type": "code",
   "execution_count": null,
   "id": "ce80dfd1-76b4-412b-ae5f-109174384a95",
   "metadata": {},
   "outputs": [],
   "source": []
  },
  {
   "cell_type": "code",
   "execution_count": null,
   "id": "violent-toolbox",
   "metadata": {},
   "outputs": [],
   "source": []
  },
  {
   "cell_type": "code",
   "execution_count": null,
   "id": "2ff254b6-8d79-4c8a-8302-8fbb0503e88e",
   "metadata": {},
   "outputs": [],
   "source": []
  }
 ],
 "metadata": {
  "kernelspec": {
   "display_name": "huang_CellReadR",
   "language": "python",
   "name": "huang_cellreadr"
  },
  "language_info": {
   "codemirror_mode": {
    "name": "ipython",
    "version": 3
   },
   "file_extension": ".py",
   "mimetype": "text/x-python",
   "name": "python",
   "nbconvert_exporter": "python",
   "pygments_lexer": "ipython3",
   "version": "3.9.1"
  },
  "toc-showtags": false
 },
 "nbformat": 4,
 "nbformat_minor": 5
}
