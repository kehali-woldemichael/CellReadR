{
 "cells": [
  {
   "cell_type": "markdown",
   "id": "right-sheffield",
   "metadata": {},
   "source": [
    "# Setup "
   ]
  },
  {
   "cell_type": "markdown",
   "id": "amino-silence",
   "metadata": {},
   "source": [
    "## Import packages "
   ]
  },
  {
   "cell_type": "code",
   "execution_count": 1,
   "id": "rolled-columbia",
   "metadata": {
    "execution": {
     "iopub.execute_input": "2021-05-07T07:55:32.497501Z",
     "iopub.status.busy": "2021-05-07T07:55:32.497221Z",
     "iopub.status.idle": "2021-05-07T07:55:32.768548Z",
     "shell.execute_reply": "2021-05-07T07:55:32.768021Z",
     "shell.execute_reply.started": "2021-05-07T07:55:32.497431Z"
    },
    "tags": []
   },
   "outputs": [],
   "source": [
    "# General \n",
    "import os \n",
    "import numpy as np\n",
    "import pandas as pd \n",
    "# For running bash scripts from inside python ... \n",
    "import subprocess\n",
    "# For manipulating string objects \n",
    "import re\n",
    "# for generating any necessary directories\n",
    "import pathlib \n",
    "# For manipulating list objects \n",
    "import itertools "
   ]
  },
  {
   "cell_type": "code",
   "execution_count": 2,
   "id": "false-allah",
   "metadata": {
    "execution": {
     "iopub.execute_input": "2021-05-07T07:55:32.769564Z",
     "iopub.status.busy": "2021-05-07T07:55:32.769384Z",
     "iopub.status.idle": "2021-05-07T07:55:32.803435Z",
     "shell.execute_reply": "2021-05-07T07:55:32.802897Z",
     "shell.execute_reply.started": "2021-05-07T07:55:32.769547Z"
    },
    "tags": []
   },
   "outputs": [],
   "source": [
    "# For working with sequence objects \n",
    "from Bio.Seq import Seq"
   ]
  },
  {
   "cell_type": "code",
   "execution_count": 3,
   "id": "greenhouse-dryer",
   "metadata": {
    "execution": {
     "iopub.execute_input": "2021-05-07T07:55:32.804690Z",
     "iopub.status.busy": "2021-05-07T07:55:32.804504Z",
     "iopub.status.idle": "2021-05-07T07:55:32.824665Z",
     "shell.execute_reply": "2021-05-07T07:55:32.824041Z",
     "shell.execute_reply.started": "2021-05-07T07:55:32.804669Z"
    }
   },
   "outputs": [],
   "source": [
    "# For fetching sequences from Entrez \n",
    "from Bio import Entrez\n",
    "from Bio import SeqIO"
   ]
  },
  {
   "cell_type": "code",
   "execution_count": 4,
   "id": "positive-coordination",
   "metadata": {
    "execution": {
     "iopub.execute_input": "2021-05-07T07:55:32.825738Z",
     "iopub.status.busy": "2021-05-07T07:55:32.825543Z",
     "iopub.status.idle": "2021-05-07T07:55:32.828386Z",
     "shell.execute_reply": "2021-05-07T07:55:32.827870Z",
     "shell.execute_reply.started": "2021-05-07T07:55:32.825719Z"
    },
    "tags": []
   },
   "outputs": [],
   "source": [
    "# For extracting features \n",
    "from Bio.SeqFeature import SeqFeature, FeatureLocation\n",
    "# For creating SeqRecord objects \n",
    "from Bio.SeqRecord import SeqRecord"
   ]
  },
  {
   "cell_type": "code",
   "execution_count": 5,
   "id": "94f6963c-c46d-4ff1-a40b-11b353df1ca6",
   "metadata": {
    "execution": {
     "iopub.execute_input": "2021-05-07T07:55:32.829269Z",
     "iopub.status.busy": "2021-05-07T07:55:32.829084Z",
     "iopub.status.idle": "2021-05-07T07:55:33.298042Z",
     "shell.execute_reply": "2021-05-07T07:55:33.297510Z",
     "shell.execute_reply.started": "2021-05-07T07:55:32.829251Z"
    },
    "tags": []
   },
   "outputs": [],
   "source": [
    "# For running R cells \n",
    "%load_ext rpy2.ipython"
   ]
  },
  {
   "cell_type": "markdown",
   "id": "neutral-andorra",
   "metadata": {},
   "source": [
    "## Misc"
   ]
  },
  {
   "cell_type": "code",
   "execution_count": 45,
   "id": "wound-yesterday",
   "metadata": {
    "execution": {
     "iopub.execute_input": "2021-05-07T09:39:39.442713Z",
     "iopub.status.busy": "2021-05-07T09:39:39.442469Z",
     "iopub.status.idle": "2021-05-07T09:39:39.445711Z",
     "shell.execute_reply": "2021-05-07T09:39:39.445101Z",
     "shell.execute_reply.started": "2021-05-07T09:39:39.442689Z"
    },
    "tags": []
   },
   "outputs": [],
   "source": [
    "geneName = 'PlxnD1'\n",
    "species = 'Rat'\n",
    "\n",
    "Entrez.email = \"kehaliwoldemichael@gmail.com\"  # Always tell NCBI who you are"
   ]
  },
  {
   "cell_type": "markdown",
   "id": "metric-color",
   "metadata": {},
   "source": [
    "# Functions "
   ]
  },
  {
   "cell_type": "code",
   "execution_count": 39,
   "id": "679724e8-dd9f-4d70-aa65-c55c1ea60a0c",
   "metadata": {
    "execution": {
     "iopub.execute_input": "2021-05-07T09:26:35.924341Z",
     "iopub.status.busy": "2021-05-07T09:26:35.923486Z",
     "iopub.status.idle": "2021-05-07T09:26:35.929004Z",
     "shell.execute_reply": "2021-05-07T09:26:35.928289Z",
     "shell.execute_reply.started": "2021-05-07T09:26:35.924256Z"
    },
    "tags": []
   },
   "outputs": [],
   "source": [
    "import sys\n",
    "# Importing module of personal functions \n",
    "sys.path.append('/home/user1/Dropbox/Research/Neurobiology_PhD/Rotations/Huang/Projects/CellReadR/Code/kCellReadR/')\n",
    "from kCellReadR import * "
   ]
  },
  {
   "cell_type": "markdown",
   "id": "liquid-conditions",
   "metadata": {},
   "source": [
    "# Sequence"
   ]
  },
  {
   "cell_type": "markdown",
   "id": "offensive-organizer",
   "metadata": {},
   "source": [
    "## Loading sequences "
   ]
  },
  {
   "cell_type": "code",
   "execution_count": 46,
   "id": "continuing-sample",
   "metadata": {
    "execution": {
     "iopub.execute_input": "2021-05-07T09:39:41.039725Z",
     "iopub.status.busy": "2021-05-07T09:39:41.039410Z",
     "iopub.status.idle": "2021-05-07T09:39:41.044280Z",
     "shell.execute_reply": "2021-05-07T09:39:41.043568Z",
     "shell.execute_reply.started": "2021-05-07T09:39:41.039695Z"
    },
    "tags": []
   },
   "outputs": [],
   "source": [
    "rC_exon_records, C_exon_records, CDS, cDNA = load_referenceSequences(geneName, species)"
   ]
  },
  {
   "cell_type": "code",
   "execution_count": 47,
   "id": "6a03c96d-bb75-4195-9029-3facadd7940f",
   "metadata": {
    "execution": {
     "iopub.execute_input": "2021-05-07T09:39:41.638311Z",
     "iopub.status.busy": "2021-05-07T09:39:41.637264Z",
     "iopub.status.idle": "2021-05-07T09:39:41.645537Z",
     "shell.execute_reply": "2021-05-07T09:39:41.644649Z",
     "shell.execute_reply.started": "2021-05-07T09:39:41.638220Z"
    },
    "tags": []
   },
   "outputs": [
    {
     "data": {
      "text/plain": [
       "[SeqRecord(seq=Seq('ATGCTCAACGTGGCCGCCAACCACCCCAACGCGTCCACCGTGGGACTAGTGCTG...TGA'), id='Plxnd1', name='Plxnd1', description='Plxnd1', dbxrefs=[])]"
      ]
     },
     "execution_count": 47,
     "metadata": {},
     "output_type": "execute_result"
    }
   ],
   "source": [
    "CDS"
   ]
  },
  {
   "cell_type": "code",
   "execution_count": 48,
   "id": "2bc65c95-5633-419a-9694-ebd69a841273",
   "metadata": {
    "execution": {
     "iopub.execute_input": "2021-05-07T09:39:42.164537Z",
     "iopub.status.busy": "2021-05-07T09:39:42.164083Z",
     "iopub.status.idle": "2021-05-07T09:39:42.171308Z",
     "shell.execute_reply": "2021-05-07T09:39:42.170269Z",
     "shell.execute_reply.started": "2021-05-07T09:39:42.164492Z"
    },
    "tags": []
   },
   "outputs": [
    {
     "data": {
      "text/plain": [
       "[SeqRecord(seq=Seq('CTGCCGCTGCCTCTGCTGCTGCTGCTTGGGGCGGCACGGGCGGGCGCCCTAGAG...ACC'), id='Plxnd1', name='Plxnd1', description='Plxnd1', dbxrefs=[])]"
      ]
     },
     "execution_count": 48,
     "metadata": {},
     "output_type": "execute_result"
    }
   ],
   "source": [
    "cDNA"
   ]
  },
  {
   "cell_type": "code",
   "execution_count": null,
   "id": "04e3238e-3336-47f0-b531-030ebe6e3a0d",
   "metadata": {},
   "outputs": [],
   "source": []
  },
  {
   "cell_type": "code",
   "execution_count": null,
   "id": "db537679-d020-4b67-b2ce-8872c0c3ffa4",
   "metadata": {},
   "outputs": [],
   "source": []
  },
  {
   "cell_type": "code",
   "execution_count": null,
   "id": "b02603bf-02a1-42b8-ba89-777048fae1b4",
   "metadata": {},
   "outputs": [],
   "source": []
  },
  {
   "cell_type": "code",
   "execution_count": 9,
   "id": "034bc6cc-489b-44b0-90b9-853afe790bf9",
   "metadata": {
    "execution": {
     "iopub.execute_input": "2021-05-07T07:55:33.351036Z",
     "iopub.status.busy": "2021-05-07T07:55:33.350765Z",
     "iopub.status.idle": "2021-05-07T07:55:33.376145Z",
     "shell.execute_reply": "2021-05-07T07:55:33.375393Z",
     "shell.execute_reply.started": "2021-05-07T07:55:33.351011Z"
    },
    "tags": []
   },
   "outputs": [
    {
     "data": {
      "text/plain": [
       "1368"
      ]
     },
     "execution_count": 9,
     "metadata": {},
     "output_type": "execute_result"
    }
   ],
   "source": [
    "len(CDS[0].seq)"
   ]
  },
  {
   "cell_type": "code",
   "execution_count": 10,
   "id": "maritime-gibraltar",
   "metadata": {
    "execution": {
     "iopub.execute_input": "2021-05-07T07:55:33.377455Z",
     "iopub.status.busy": "2021-05-07T07:55:33.377176Z",
     "iopub.status.idle": "2021-05-07T07:55:33.398877Z",
     "shell.execute_reply": "2021-05-07T07:55:33.398210Z",
     "shell.execute_reply.started": "2021-05-07T07:55:33.377426Z"
    },
    "tags": []
   },
   "outputs": [
    {
     "data": {
      "text/plain": [
       "890"
      ]
     },
     "execution_count": 10,
     "metadata": {},
     "output_type": "execute_result"
    }
   ],
   "source": [
    "len(rC_exon_records[2].seq)"
   ]
  },
  {
   "cell_type": "code",
   "execution_count": 11,
   "id": "surrounded-peoples",
   "metadata": {
    "execution": {
     "iopub.execute_input": "2021-05-07T07:55:33.400085Z",
     "iopub.status.busy": "2021-05-07T07:55:33.399820Z",
     "iopub.status.idle": "2021-05-07T07:55:33.410380Z",
     "shell.execute_reply": "2021-05-07T07:55:33.409428Z",
     "shell.execute_reply.started": "2021-05-07T07:55:33.400057Z"
    },
    "tags": []
   },
   "outputs": [],
   "source": [
    "seq_record = rC_exon_records[1]"
   ]
  },
  {
   "cell_type": "code",
   "execution_count": 12,
   "id": "polished-alexander",
   "metadata": {
    "execution": {
     "iopub.execute_input": "2021-05-07T07:55:33.411896Z",
     "iopub.status.busy": "2021-05-07T07:55:33.411628Z",
     "iopub.status.idle": "2021-05-07T07:55:33.435043Z",
     "shell.execute_reply": "2021-05-07T07:55:33.434168Z",
     "shell.execute_reply.started": "2021-05-07T07:55:33.411870Z"
    },
    "tags": []
   },
   "outputs": [
    {
     "data": {
      "text/plain": [
       "0.5761316872427984"
      ]
     },
     "execution_count": 12,
     "metadata": {},
     "output_type": "execute_result"
    }
   ],
   "source": [
    "metric_gcContent(seq_record.seq)"
   ]
  },
  {
   "cell_type": "code",
   "execution_count": 13,
   "id": "8ff78384-7d71-414b-a380-93acb764b225",
   "metadata": {
    "execution": {
     "iopub.execute_input": "2021-05-07T07:55:33.436197Z",
     "iopub.status.busy": "2021-05-07T07:55:33.435944Z",
     "iopub.status.idle": "2021-05-07T07:55:33.483714Z",
     "shell.execute_reply": "2021-05-07T07:55:33.482958Z",
     "shell.execute_reply.started": "2021-05-07T07:55:33.436171Z"
    },
    "tags": []
   },
   "outputs": [
    {
     "data": {
      "text/plain": [
       "SeqRecord(seq=Seq('CTTTTTCCCCCACCGCCAAGGAGATGCGTTCCGAGCCATGCAGCGTGTCTCTTC...CTA'), id='Fezf2', name='Fezf2', description='Fezf2', dbxrefs=[])"
      ]
     },
     "execution_count": 13,
     "metadata": {},
     "output_type": "execute_result"
    }
   ],
   "source": [
    "seq_record"
   ]
  },
  {
   "cell_type": "code",
   "execution_count": 14,
   "id": "eac660f7-3206-401f-a163-45660d1fbfe0",
   "metadata": {
    "execution": {
     "iopub.execute_input": "2021-05-07T07:55:33.485374Z",
     "iopub.status.busy": "2021-05-07T07:55:33.484953Z",
     "iopub.status.idle": "2021-05-07T07:55:33.508455Z",
     "shell.execute_reply": "2021-05-07T07:55:33.507756Z",
     "shell.execute_reply.started": "2021-05-07T07:55:33.485326Z"
    },
    "tags": []
   },
   "outputs": [
    {
     "data": {
      "text/plain": [
       "243"
      ]
     },
     "execution_count": 14,
     "metadata": {},
     "output_type": "execute_result"
    }
   ],
   "source": [
    "seq = seq_record.seq\n",
    "len(seq)"
   ]
  },
  {
   "cell_type": "markdown",
   "id": "after-beatles",
   "metadata": {},
   "source": [
    "## Selecting sensor "
   ]
  },
  {
   "cell_type": "code",
   "execution_count": 15,
   "id": "1dfebca9-b1dc-473d-8466-1d78111244bc",
   "metadata": {
    "execution": {
     "iopub.execute_input": "2021-05-07T07:55:33.509713Z",
     "iopub.status.busy": "2021-05-07T07:55:33.509447Z",
     "iopub.status.idle": "2021-05-07T07:55:33.534778Z",
     "shell.execute_reply": "2021-05-07T07:55:33.534155Z",
     "shell.execute_reply.started": "2021-05-07T07:55:33.509686Z"
    },
    "tags": []
   },
   "outputs": [],
   "source": [
    "parameters = parameters_sesRNA('Reverse', 0, 204, 3, 0, 'None', 30, 70, 20, 10)"
   ]
  },
  {
   "cell_type": "code",
   "execution_count": 16,
   "id": "2d9bf90b-2ba3-4c75-b900-11e0a0d535be",
   "metadata": {
    "execution": {
     "iopub.execute_input": "2021-05-07T07:55:33.535974Z",
     "iopub.status.busy": "2021-05-07T07:55:33.535713Z",
     "iopub.status.idle": "2021-05-07T07:55:33.562148Z",
     "shell.execute_reply": "2021-05-07T07:55:33.561113Z",
     "shell.execute_reply.started": "2021-05-07T07:55:33.535948Z"
    },
    "tags": []
   },
   "outputs": [
    {
     "name": "stdout",
     "output_type": "stream",
     "text": [
      "[instance attributes]\n",
      "typeSeq = Reverse\n",
      "isoform = 0\n",
      "length = 204\n",
      "num_inF_TGG = 3\n",
      "num_inF_Stop = 0\n",
      "num_inF_ATG = None\n",
      "minGC = 30\n",
      "maxGC = 70\n",
      "nearCenter = 20\n",
      "fromStop = 10\n"
     ]
    }
   ],
   "source": [
    "parameters.print_parameters()"
   ]
  },
  {
   "cell_type": "code",
   "execution_count": 17,
   "id": "092f64d0-3c79-460d-a54b-fb710d7c7bad",
   "metadata": {
    "execution": {
     "iopub.execute_input": "2021-05-07T07:55:33.564164Z",
     "iopub.status.busy": "2021-05-07T07:55:33.563682Z",
     "iopub.status.idle": "2021-05-07T07:55:33.582050Z",
     "shell.execute_reply": "2021-05-07T07:55:33.581278Z",
     "shell.execute_reply.started": "2021-05-07T07:55:33.564109Z"
    },
    "tags": []
   },
   "outputs": [],
   "source": [
    "seq_record = rC_exon_records[0]"
   ]
  },
  {
   "cell_type": "code",
   "execution_count": 18,
   "id": "44d5070c-05dc-4214-b07a-7abca8822be2",
   "metadata": {
    "execution": {
     "iopub.execute_input": "2021-05-07T07:55:33.583473Z",
     "iopub.status.busy": "2021-05-07T07:55:33.583157Z",
     "iopub.status.idle": "2021-05-07T07:55:33.605108Z",
     "shell.execute_reply": "2021-05-07T07:55:33.604428Z",
     "shell.execute_reply.started": "2021-05-07T07:55:33.583438Z"
    },
    "tags": []
   },
   "outputs": [
    {
     "data": {
      "text/plain": [
       "671"
      ]
     },
     "execution_count": 18,
     "metadata": {},
     "output_type": "execute_result"
    }
   ],
   "source": [
    "seq = seq_record.seq\n",
    "len(seq)"
   ]
  },
  {
   "cell_type": "code",
   "execution_count": 19,
   "id": "pharmaceutical-advice",
   "metadata": {
    "execution": {
     "iopub.execute_input": "2021-05-07T07:55:33.606046Z",
     "iopub.status.busy": "2021-05-07T07:55:33.605854Z",
     "iopub.status.idle": "2021-05-07T07:55:33.668452Z",
     "shell.execute_reply": "2021-05-07T07:55:33.667334Z",
     "shell.execute_reply.started": "2021-05-07T07:55:33.606025Z"
    },
    "scrolled": true,
    "tags": []
   },
   "outputs": [
    {
     "data": {
      "text/plain": [
       "[]"
      ]
     },
     "execution_count": 19,
     "metadata": {},
     "output_type": "execute_result"
    }
   ],
   "source": [
    "sesRNAs, sequenceMetrics, sesRNA_objs = generate_sesRNA(seq, CDS, parameters, 4)\n",
    "sesRNAs"
   ]
  },
  {
   "cell_type": "code",
   "execution_count": 20,
   "id": "fddf204d-4636-4343-b9d8-fd319d1fdbe7",
   "metadata": {
    "execution": {
     "iopub.execute_input": "2021-05-07T07:55:33.669931Z",
     "iopub.status.busy": "2021-05-07T07:55:33.669593Z",
     "iopub.status.idle": "2021-05-07T07:55:33.690440Z",
     "shell.execute_reply": "2021-05-07T07:55:33.689540Z",
     "shell.execute_reply.started": "2021-05-07T07:55:33.669899Z"
    },
    "tags": []
   },
   "outputs": [
    {
     "data": {
      "text/plain": [
       "[]"
      ]
     },
     "execution_count": 20,
     "metadata": {},
     "output_type": "execute_result"
    }
   ],
   "source": [
    "sesRNA_objs"
   ]
  },
  {
   "cell_type": "code",
   "execution_count": 21,
   "id": "4bb8c9fe-079e-487f-8bb3-05f996bba52e",
   "metadata": {
    "execution": {
     "iopub.execute_input": "2021-05-07T07:55:33.691643Z",
     "iopub.status.busy": "2021-05-07T07:55:33.691404Z",
     "iopub.status.idle": "2021-05-07T07:55:33.721794Z",
     "shell.execute_reply": "2021-05-07T07:55:33.721065Z",
     "shell.execute_reply.started": "2021-05-07T07:55:33.691617Z"
    },
    "tags": []
   },
   "outputs": [
    {
     "data": {
      "text/html": [
       "<div>\n",
       "<style scoped>\n",
       "    .dataframe tbody tr th:only-of-type {\n",
       "        vertical-align: middle;\n",
       "    }\n",
       "\n",
       "    .dataframe tbody tr th {\n",
       "        vertical-align: top;\n",
       "    }\n",
       "\n",
       "    .dataframe thead th {\n",
       "        text-align: right;\n",
       "    }\n",
       "</style>\n",
       "<table border=\"1\" class=\"dataframe\">\n",
       "  <thead>\n",
       "    <tr style=\"text-align: right;\">\n",
       "      <th></th>\n",
       "      <th>Exon</th>\n",
       "      <th>StartSeq</th>\n",
       "      <th>StopSeq</th>\n",
       "      <th>firstTGG</th>\n",
       "      <th>centralTGG</th>\n",
       "      <th>second_cTGG</th>\n",
       "      <th>numTGG</th>\n",
       "      <th>numATG</th>\n",
       "      <th>numStop</th>\n",
       "      <th>gcContent</th>\n",
       "    </tr>\n",
       "  </thead>\n",
       "  <tbody>\n",
       "  </tbody>\n",
       "</table>\n",
       "</div>"
      ],
      "text/plain": [
       "Empty DataFrame\n",
       "Columns: [Exon, StartSeq, StopSeq, firstTGG, centralTGG, second_cTGG, numTGG, numATG, numStop, gcContent]\n",
       "Index: []"
      ]
     },
     "execution_count": 21,
     "metadata": {},
     "output_type": "execute_result"
    }
   ],
   "source": [
    "sequenceMetrics"
   ]
  },
  {
   "cell_type": "code",
   "execution_count": 22,
   "id": "compressed-anderson",
   "metadata": {
    "execution": {
     "iopub.execute_input": "2021-05-07T07:55:33.722718Z",
     "iopub.status.busy": "2021-05-07T07:55:33.722535Z",
     "iopub.status.idle": "2021-05-07T07:55:33.822094Z",
     "shell.execute_reply": "2021-05-07T07:55:33.821497Z",
     "shell.execute_reply.started": "2021-05-07T07:55:33.722698Z"
    },
    "tags": []
   },
   "outputs": [
    {
     "name": "stdout",
     "output_type": "stream",
     "text": [
      "0\n",
      "0\n",
      "24\n"
     ]
    }
   ],
   "source": [
    "rC_parameters = parameters_sesRNA('Reverse', 0, 204, 3, 0, 'None', 30, 70, 20, 20)\n",
    "rC_multiExon_sesRNAs, rC_sequenceMetrics, rC_sesRNA_objs = generate_sesRNAs_multiExon(rC_exon_records, CDS, rC_parameters)"
   ]
  },
  {
   "cell_type": "code",
   "execution_count": 23,
   "id": "aab72c91-7fbb-45c4-afe6-cd403cd103c5",
   "metadata": {
    "execution": {
     "iopub.execute_input": "2021-05-07T07:55:33.824208Z",
     "iopub.status.busy": "2021-05-07T07:55:33.823970Z",
     "iopub.status.idle": "2021-05-07T07:55:33.847195Z",
     "shell.execute_reply": "2021-05-07T07:55:33.846516Z",
     "shell.execute_reply.started": "2021-05-07T07:55:33.824188Z"
    },
    "tags": []
   },
   "outputs": [
    {
     "name": "stdout",
     "output_type": "stream",
     "text": [
      "[instance attributes]\n",
      "typeSeq = Reverse\n",
      "isoform = 0\n",
      "length = 204\n",
      "num_inF_TGG = 3\n",
      "num_inF_Stop = 0\n",
      "num_inF_ATG = None\n",
      "minGC = 30\n",
      "maxGC = 70\n",
      "nearCenter = 20\n",
      "fromStop = 20\n"
     ]
    }
   ],
   "source": [
    "rC_parameters.print_parameters()"
   ]
  },
  {
   "cell_type": "code",
   "execution_count": 24,
   "id": "bb281dc7-bca7-41eb-a74c-82499a59985f",
   "metadata": {
    "execution": {
     "iopub.execute_input": "2021-05-07T07:55:33.848255Z",
     "iopub.status.busy": "2021-05-07T07:55:33.848095Z",
     "iopub.status.idle": "2021-05-07T07:55:33.862754Z",
     "shell.execute_reply": "2021-05-07T07:55:33.862257Z",
     "shell.execute_reply.started": "2021-05-07T07:55:33.848238Z"
    },
    "tags": []
   },
   "outputs": [
    {
     "data": {
      "text/plain": [
       "Seq('ATAGGAAGCTGGGTGGGGGAACTTGTCCGCAGTCAGGCTGGCCAGTTTGGCATT...GGC')"
      ]
     },
     "execution_count": 24,
     "metadata": {},
     "output_type": "execute_result"
    }
   ],
   "source": [
    "rC_multiExon_sesRNAs[0]"
   ]
  },
  {
   "cell_type": "code",
   "execution_count": 25,
   "id": "66a4dac7-97f9-4565-b330-dd8be94670e2",
   "metadata": {
    "execution": {
     "iopub.execute_input": "2021-05-07T07:55:33.863600Z",
     "iopub.status.busy": "2021-05-07T07:55:33.863435Z",
     "iopub.status.idle": "2021-05-07T07:55:33.899922Z",
     "shell.execute_reply": "2021-05-07T07:55:33.899361Z",
     "shell.execute_reply.started": "2021-05-07T07:55:33.863583Z"
    },
    "tags": []
   },
   "outputs": [
    {
     "data": {
      "text/html": [
       "<div>\n",
       "<style scoped>\n",
       "    .dataframe tbody tr th:only-of-type {\n",
       "        vertical-align: middle;\n",
       "    }\n",
       "\n",
       "    .dataframe tbody tr th {\n",
       "        vertical-align: top;\n",
       "    }\n",
       "\n",
       "    .dataframe thead th {\n",
       "        text-align: right;\n",
       "    }\n",
       "</style>\n",
       "<table border=\"1\" class=\"dataframe\">\n",
       "  <thead>\n",
       "    <tr style=\"text-align: right;\">\n",
       "      <th></th>\n",
       "      <th>SeqNumber</th>\n",
       "      <th>Exon</th>\n",
       "      <th>StartSeq</th>\n",
       "      <th>StopSeq</th>\n",
       "      <th>firstTGG</th>\n",
       "      <th>centralTGG</th>\n",
       "      <th>second_cTGG</th>\n",
       "      <th>numTGG</th>\n",
       "      <th>numATG</th>\n",
       "      <th>numStop</th>\n",
       "      <th>gcContent</th>\n",
       "    </tr>\n",
       "  </thead>\n",
       "  <tbody>\n",
       "    <tr>\n",
       "      <th>0</th>\n",
       "      <td>1</td>\n",
       "      <td>3</td>\n",
       "      <td>156.0</td>\n",
       "      <td>360.0</td>\n",
       "      <td>9.0</td>\n",
       "      <td>120.0</td>\n",
       "      <td>150.0</td>\n",
       "      <td>4.0</td>\n",
       "      <td>0.0</td>\n",
       "      <td>0.0</td>\n",
       "      <td>59.313725</td>\n",
       "    </tr>\n",
       "    <tr>\n",
       "      <th>1</th>\n",
       "      <td>2</td>\n",
       "      <td>3</td>\n",
       "      <td>159.0</td>\n",
       "      <td>363.0</td>\n",
       "      <td>6.0</td>\n",
       "      <td>117.0</td>\n",
       "      <td>147.0</td>\n",
       "      <td>4.0</td>\n",
       "      <td>0.0</td>\n",
       "      <td>0.0</td>\n",
       "      <td>60.784314</td>\n",
       "    </tr>\n",
       "    <tr>\n",
       "      <th>2</th>\n",
       "      <td>3</td>\n",
       "      <td>3</td>\n",
       "      <td>162.0</td>\n",
       "      <td>366.0</td>\n",
       "      <td>3.0</td>\n",
       "      <td>114.0</td>\n",
       "      <td>144.0</td>\n",
       "      <td>4.0</td>\n",
       "      <td>0.0</td>\n",
       "      <td>0.0</td>\n",
       "      <td>60.784314</td>\n",
       "    </tr>\n",
       "    <tr>\n",
       "      <th>3</th>\n",
       "      <td>4</td>\n",
       "      <td>3</td>\n",
       "      <td>165.0</td>\n",
       "      <td>369.0</td>\n",
       "      <td>0.0</td>\n",
       "      <td>111.0</td>\n",
       "      <td>141.0</td>\n",
       "      <td>4.0</td>\n",
       "      <td>0.0</td>\n",
       "      <td>0.0</td>\n",
       "      <td>61.274510</td>\n",
       "    </tr>\n",
       "    <tr>\n",
       "      <th>4</th>\n",
       "      <td>5</td>\n",
       "      <td>3</td>\n",
       "      <td>168.0</td>\n",
       "      <td>372.0</td>\n",
       "      <td>108.0</td>\n",
       "      <td>108.0</td>\n",
       "      <td>138.0</td>\n",
       "      <td>3.0</td>\n",
       "      <td>0.0</td>\n",
       "      <td>0.0</td>\n",
       "      <td>61.274510</td>\n",
       "    </tr>\n",
       "    <tr>\n",
       "      <th>5</th>\n",
       "      <td>6</td>\n",
       "      <td>3</td>\n",
       "      <td>171.0</td>\n",
       "      <td>375.0</td>\n",
       "      <td>105.0</td>\n",
       "      <td>105.0</td>\n",
       "      <td>135.0</td>\n",
       "      <td>3.0</td>\n",
       "      <td>0.0</td>\n",
       "      <td>0.0</td>\n",
       "      <td>61.274510</td>\n",
       "    </tr>\n",
       "    <tr>\n",
       "      <th>6</th>\n",
       "      <td>7</td>\n",
       "      <td>3</td>\n",
       "      <td>174.0</td>\n",
       "      <td>378.0</td>\n",
       "      <td>102.0</td>\n",
       "      <td>102.0</td>\n",
       "      <td>132.0</td>\n",
       "      <td>3.0</td>\n",
       "      <td>0.0</td>\n",
       "      <td>0.0</td>\n",
       "      <td>60.784314</td>\n",
       "    </tr>\n",
       "    <tr>\n",
       "      <th>7</th>\n",
       "      <td>8</td>\n",
       "      <td>3</td>\n",
       "      <td>177.0</td>\n",
       "      <td>381.0</td>\n",
       "      <td>99.0</td>\n",
       "      <td>99.0</td>\n",
       "      <td>129.0</td>\n",
       "      <td>3.0</td>\n",
       "      <td>0.0</td>\n",
       "      <td>0.0</td>\n",
       "      <td>60.784314</td>\n",
       "    </tr>\n",
       "    <tr>\n",
       "      <th>8</th>\n",
       "      <td>9</td>\n",
       "      <td>3</td>\n",
       "      <td>180.0</td>\n",
       "      <td>384.0</td>\n",
       "      <td>96.0</td>\n",
       "      <td>96.0</td>\n",
       "      <td>126.0</td>\n",
       "      <td>3.0</td>\n",
       "      <td>0.0</td>\n",
       "      <td>0.0</td>\n",
       "      <td>60.784314</td>\n",
       "    </tr>\n",
       "    <tr>\n",
       "      <th>9</th>\n",
       "      <td>10</td>\n",
       "      <td>3</td>\n",
       "      <td>183.0</td>\n",
       "      <td>387.0</td>\n",
       "      <td>93.0</td>\n",
       "      <td>93.0</td>\n",
       "      <td>123.0</td>\n",
       "      <td>3.0</td>\n",
       "      <td>0.0</td>\n",
       "      <td>0.0</td>\n",
       "      <td>60.784314</td>\n",
       "    </tr>\n",
       "    <tr>\n",
       "      <th>10</th>\n",
       "      <td>11</td>\n",
       "      <td>3</td>\n",
       "      <td>186.0</td>\n",
       "      <td>390.0</td>\n",
       "      <td>90.0</td>\n",
       "      <td>90.0</td>\n",
       "      <td>120.0</td>\n",
       "      <td>3.0</td>\n",
       "      <td>0.0</td>\n",
       "      <td>0.0</td>\n",
       "      <td>60.294118</td>\n",
       "    </tr>\n",
       "    <tr>\n",
       "      <th>11</th>\n",
       "      <td>12</td>\n",
       "      <td>3</td>\n",
       "      <td>189.0</td>\n",
       "      <td>393.0</td>\n",
       "      <td>87.0</td>\n",
       "      <td>87.0</td>\n",
       "      <td>117.0</td>\n",
       "      <td>3.0</td>\n",
       "      <td>0.0</td>\n",
       "      <td>0.0</td>\n",
       "      <td>61.274510</td>\n",
       "    </tr>\n",
       "    <tr>\n",
       "      <th>12</th>\n",
       "      <td>13</td>\n",
       "      <td>3</td>\n",
       "      <td>192.0</td>\n",
       "      <td>396.0</td>\n",
       "      <td>84.0</td>\n",
       "      <td>114.0</td>\n",
       "      <td>117.0</td>\n",
       "      <td>3.0</td>\n",
       "      <td>0.0</td>\n",
       "      <td>0.0</td>\n",
       "      <td>60.784314</td>\n",
       "    </tr>\n",
       "    <tr>\n",
       "      <th>13</th>\n",
       "      <td>14</td>\n",
       "      <td>3</td>\n",
       "      <td>195.0</td>\n",
       "      <td>399.0</td>\n",
       "      <td>81.0</td>\n",
       "      <td>111.0</td>\n",
       "      <td>114.0</td>\n",
       "      <td>3.0</td>\n",
       "      <td>0.0</td>\n",
       "      <td>0.0</td>\n",
       "      <td>60.294118</td>\n",
       "    </tr>\n",
       "    <tr>\n",
       "      <th>14</th>\n",
       "      <td>15</td>\n",
       "      <td>3</td>\n",
       "      <td>198.0</td>\n",
       "      <td>402.0</td>\n",
       "      <td>78.0</td>\n",
       "      <td>108.0</td>\n",
       "      <td>111.0</td>\n",
       "      <td>3.0</td>\n",
       "      <td>0.0</td>\n",
       "      <td>0.0</td>\n",
       "      <td>59.803922</td>\n",
       "    </tr>\n",
       "    <tr>\n",
       "      <th>15</th>\n",
       "      <td>16</td>\n",
       "      <td>3</td>\n",
       "      <td>201.0</td>\n",
       "      <td>405.0</td>\n",
       "      <td>75.0</td>\n",
       "      <td>105.0</td>\n",
       "      <td>108.0</td>\n",
       "      <td>3.0</td>\n",
       "      <td>0.0</td>\n",
       "      <td>0.0</td>\n",
       "      <td>59.803922</td>\n",
       "    </tr>\n",
       "    <tr>\n",
       "      <th>16</th>\n",
       "      <td>17</td>\n",
       "      <td>3</td>\n",
       "      <td>204.0</td>\n",
       "      <td>408.0</td>\n",
       "      <td>72.0</td>\n",
       "      <td>102.0</td>\n",
       "      <td>105.0</td>\n",
       "      <td>3.0</td>\n",
       "      <td>0.0</td>\n",
       "      <td>0.0</td>\n",
       "      <td>61.274510</td>\n",
       "    </tr>\n",
       "    <tr>\n",
       "      <th>17</th>\n",
       "      <td>18</td>\n",
       "      <td>3</td>\n",
       "      <td>207.0</td>\n",
       "      <td>411.0</td>\n",
       "      <td>69.0</td>\n",
       "      <td>102.0</td>\n",
       "      <td>99.0</td>\n",
       "      <td>3.0</td>\n",
       "      <td>0.0</td>\n",
       "      <td>0.0</td>\n",
       "      <td>61.274510</td>\n",
       "    </tr>\n",
       "    <tr>\n",
       "      <th>18</th>\n",
       "      <td>19</td>\n",
       "      <td>3</td>\n",
       "      <td>210.0</td>\n",
       "      <td>414.0</td>\n",
       "      <td>66.0</td>\n",
       "      <td>99.0</td>\n",
       "      <td>96.0</td>\n",
       "      <td>3.0</td>\n",
       "      <td>0.0</td>\n",
       "      <td>0.0</td>\n",
       "      <td>62.745098</td>\n",
       "    </tr>\n",
       "    <tr>\n",
       "      <th>19</th>\n",
       "      <td>20</td>\n",
       "      <td>3</td>\n",
       "      <td>213.0</td>\n",
       "      <td>417.0</td>\n",
       "      <td>63.0</td>\n",
       "      <td>96.0</td>\n",
       "      <td>93.0</td>\n",
       "      <td>3.0</td>\n",
       "      <td>0.0</td>\n",
       "      <td>0.0</td>\n",
       "      <td>62.745098</td>\n",
       "    </tr>\n",
       "    <tr>\n",
       "      <th>20</th>\n",
       "      <td>21</td>\n",
       "      <td>3</td>\n",
       "      <td>216.0</td>\n",
       "      <td>420.0</td>\n",
       "      <td>60.0</td>\n",
       "      <td>93.0</td>\n",
       "      <td>90.0</td>\n",
       "      <td>3.0</td>\n",
       "      <td>0.0</td>\n",
       "      <td>0.0</td>\n",
       "      <td>63.235294</td>\n",
       "    </tr>\n",
       "    <tr>\n",
       "      <th>21</th>\n",
       "      <td>22</td>\n",
       "      <td>3</td>\n",
       "      <td>219.0</td>\n",
       "      <td>423.0</td>\n",
       "      <td>57.0</td>\n",
       "      <td>90.0</td>\n",
       "      <td>87.0</td>\n",
       "      <td>3.0</td>\n",
       "      <td>0.0</td>\n",
       "      <td>0.0</td>\n",
       "      <td>62.745098</td>\n",
       "    </tr>\n",
       "    <tr>\n",
       "      <th>22</th>\n",
       "      <td>23</td>\n",
       "      <td>3</td>\n",
       "      <td>222.0</td>\n",
       "      <td>426.0</td>\n",
       "      <td>54.0</td>\n",
       "      <td>87.0</td>\n",
       "      <td>84.0</td>\n",
       "      <td>3.0</td>\n",
       "      <td>0.0</td>\n",
       "      <td>0.0</td>\n",
       "      <td>63.725490</td>\n",
       "    </tr>\n",
       "    <tr>\n",
       "      <th>23</th>\n",
       "      <td>24</td>\n",
       "      <td>3</td>\n",
       "      <td>225.0</td>\n",
       "      <td>429.0</td>\n",
       "      <td>51.0</td>\n",
       "      <td>84.0</td>\n",
       "      <td>81.0</td>\n",
       "      <td>3.0</td>\n",
       "      <td>0.0</td>\n",
       "      <td>0.0</td>\n",
       "      <td>64.705882</td>\n",
       "    </tr>\n",
       "  </tbody>\n",
       "</table>\n",
       "</div>"
      ],
      "text/plain": [
       "    SeqNumber  Exon  StartSeq  StopSeq  firstTGG  centralTGG  second_cTGG  \\\n",
       "0           1     3     156.0    360.0       9.0       120.0        150.0   \n",
       "1           2     3     159.0    363.0       6.0       117.0        147.0   \n",
       "2           3     3     162.0    366.0       3.0       114.0        144.0   \n",
       "3           4     3     165.0    369.0       0.0       111.0        141.0   \n",
       "4           5     3     168.0    372.0     108.0       108.0        138.0   \n",
       "5           6     3     171.0    375.0     105.0       105.0        135.0   \n",
       "6           7     3     174.0    378.0     102.0       102.0        132.0   \n",
       "7           8     3     177.0    381.0      99.0        99.0        129.0   \n",
       "8           9     3     180.0    384.0      96.0        96.0        126.0   \n",
       "9          10     3     183.0    387.0      93.0        93.0        123.0   \n",
       "10         11     3     186.0    390.0      90.0        90.0        120.0   \n",
       "11         12     3     189.0    393.0      87.0        87.0        117.0   \n",
       "12         13     3     192.0    396.0      84.0       114.0        117.0   \n",
       "13         14     3     195.0    399.0      81.0       111.0        114.0   \n",
       "14         15     3     198.0    402.0      78.0       108.0        111.0   \n",
       "15         16     3     201.0    405.0      75.0       105.0        108.0   \n",
       "16         17     3     204.0    408.0      72.0       102.0        105.0   \n",
       "17         18     3     207.0    411.0      69.0       102.0         99.0   \n",
       "18         19     3     210.0    414.0      66.0        99.0         96.0   \n",
       "19         20     3     213.0    417.0      63.0        96.0         93.0   \n",
       "20         21     3     216.0    420.0      60.0        93.0         90.0   \n",
       "21         22     3     219.0    423.0      57.0        90.0         87.0   \n",
       "22         23     3     222.0    426.0      54.0        87.0         84.0   \n",
       "23         24     3     225.0    429.0      51.0        84.0         81.0   \n",
       "\n",
       "    numTGG  numATG  numStop  gcContent  \n",
       "0      4.0     0.0      0.0  59.313725  \n",
       "1      4.0     0.0      0.0  60.784314  \n",
       "2      4.0     0.0      0.0  60.784314  \n",
       "3      4.0     0.0      0.0  61.274510  \n",
       "4      3.0     0.0      0.0  61.274510  \n",
       "5      3.0     0.0      0.0  61.274510  \n",
       "6      3.0     0.0      0.0  60.784314  \n",
       "7      3.0     0.0      0.0  60.784314  \n",
       "8      3.0     0.0      0.0  60.784314  \n",
       "9      3.0     0.0      0.0  60.784314  \n",
       "10     3.0     0.0      0.0  60.294118  \n",
       "11     3.0     0.0      0.0  61.274510  \n",
       "12     3.0     0.0      0.0  60.784314  \n",
       "13     3.0     0.0      0.0  60.294118  \n",
       "14     3.0     0.0      0.0  59.803922  \n",
       "15     3.0     0.0      0.0  59.803922  \n",
       "16     3.0     0.0      0.0  61.274510  \n",
       "17     3.0     0.0      0.0  61.274510  \n",
       "18     3.0     0.0      0.0  62.745098  \n",
       "19     3.0     0.0      0.0  62.745098  \n",
       "20     3.0     0.0      0.0  63.235294  \n",
       "21     3.0     0.0      0.0  62.745098  \n",
       "22     3.0     0.0      0.0  63.725490  \n",
       "23     3.0     0.0      0.0  64.705882  "
      ]
     },
     "execution_count": 25,
     "metadata": {},
     "output_type": "execute_result"
    }
   ],
   "source": [
    "rC_sequenceMetrics"
   ]
  },
  {
   "cell_type": "code",
   "execution_count": 26,
   "id": "a4233d1e-be46-4e38-8414-cb02612b0ea1",
   "metadata": {
    "execution": {
     "iopub.execute_input": "2021-05-07T07:55:33.900834Z",
     "iopub.status.busy": "2021-05-07T07:55:33.900656Z",
     "iopub.status.idle": "2021-05-07T07:55:33.923522Z",
     "shell.execute_reply": "2021-05-07T07:55:33.923007Z",
     "shell.execute_reply.started": "2021-05-07T07:55:33.900814Z"
    },
    "tags": []
   },
   "outputs": [],
   "source": [
    "testOut = str(rC_multiExon_sesRNAs[23])\n",
    "testDash = 'CTTGGGGTGAGCAGCCAGGGAAGTGGGGGCCTGTGCGTTGAGGAGGCCAGATGGGAAAAGGTGGCCTCCGAGGAGCTCCGATGGTGGGTAAGTGGTGGAGTCCAGGTAGTTGAAGTAGTAGAGAGAGCCGCTGGCCGGCAGCCCCACAGCCTGGTTGATGACCTGCGGCTTGATGACCCTGCCGGCGGGCAGCGCAGAAGGCGC'"
   ]
  },
  {
   "cell_type": "code",
   "execution_count": 27,
   "id": "84c2012d-8994-42f8-a8ec-e92beb41b2bf",
   "metadata": {
    "execution": {
     "iopub.execute_input": "2021-05-07T07:55:33.924602Z",
     "iopub.status.busy": "2021-05-07T07:55:33.924369Z",
     "iopub.status.idle": "2021-05-07T07:55:33.941275Z",
     "shell.execute_reply": "2021-05-07T07:55:33.940663Z",
     "shell.execute_reply.started": "2021-05-07T07:55:33.924582Z"
    }
   },
   "outputs": [
    {
     "data": {
      "text/plain": [
       "True"
      ]
     },
     "execution_count": 27,
     "metadata": {},
     "output_type": "execute_result"
    }
   ],
   "source": [
    "testOut == testDash"
   ]
  },
  {
   "cell_type": "code",
   "execution_count": null,
   "id": "111df3f2-c108-41c3-b51a-a2957222df4b",
   "metadata": {},
   "outputs": [],
   "source": []
  },
  {
   "cell_type": "code",
   "execution_count": 28,
   "id": "8456047d-bf49-46c8-9ec0-6682412c6a81",
   "metadata": {
    "execution": {
     "iopub.execute_input": "2021-05-07T07:55:33.942056Z",
     "iopub.status.busy": "2021-05-07T07:55:33.941898Z",
     "iopub.status.idle": "2021-05-07T07:55:33.964213Z",
     "shell.execute_reply": "2021-05-07T07:55:33.963684Z",
     "shell.execute_reply.started": "2021-05-07T07:55:33.942038Z"
    },
    "tags": []
   },
   "outputs": [
    {
     "data": {
      "text/plain": [
       "[SeqRecord(seq=Seq('TAGTGGTTCTGTTTATTGAGTCATATATGTGTAATATTCCGTGTTCGCTTGTAC...TCC'), id='Fezf2', name='Fezf2', description='Fezf2', dbxrefs=[]),\n",
       " SeqRecord(seq=Seq('CTTTTTCCCCCACCGCCAAGGAGATGCGTTCCGAGCCATGCAGCGTGTCTCTTC...CTA'), id='Fezf2', name='Fezf2', description='Fezf2', dbxrefs=[]),\n",
       " SeqRecord(seq=Seq('CTTGCCGCACACTTCGCAGGTGAAGTTTTTGGGTTTGCTGTCAGTAGAGCCCCC...AGT'), id='Fezf2', name='Fezf2', description='Fezf2', dbxrefs=[])]"
      ]
     },
     "execution_count": 28,
     "metadata": {},
     "output_type": "execute_result"
    }
   ],
   "source": [
    "rC_exon_records "
   ]
  },
  {
   "cell_type": "code",
   "execution_count": 29,
   "id": "ec2d5fc4-b59d-4e2d-8124-0cd97bf2b3ed",
   "metadata": {
    "execution": {
     "iopub.execute_input": "2021-05-07T07:55:33.964986Z",
     "iopub.status.busy": "2021-05-07T07:55:33.964812Z",
     "iopub.status.idle": "2021-05-07T07:55:33.987704Z",
     "shell.execute_reply": "2021-05-07T07:55:33.987039Z",
     "shell.execute_reply.started": "2021-05-07T07:55:33.964949Z"
    },
    "tags": []
   },
   "outputs": [
    {
     "data": {
      "text/plain": [
       "150"
      ]
     },
     "execution_count": 29,
     "metadata": {},
     "output_type": "execute_result"
    }
   ],
   "source": [
    "rC_sesRNA_objs[0].second_cTGG"
   ]
  },
  {
   "cell_type": "code",
   "execution_count": 30,
   "id": "69970edf-db0e-4bba-a5a2-812eaba54322",
   "metadata": {
    "execution": {
     "iopub.execute_input": "2021-05-07T07:55:33.988563Z",
     "iopub.status.busy": "2021-05-07T07:55:33.988392Z",
     "iopub.status.idle": "2021-05-07T07:55:34.003886Z",
     "shell.execute_reply": "2021-05-07T07:55:34.003251Z",
     "shell.execute_reply.started": "2021-05-07T07:55:33.988544Z"
    },
    "tags": []
   },
   "outputs": [
    {
     "name": "stdout",
     "output_type": "stream",
     "text": [
      "[instance attributes]\n",
      "typeSeq = Reverse\n",
      "isoform = 0\n",
      "length = 204\n",
      "num_inF_TGG = 3\n",
      "num_inF_Stop = 0\n",
      "num_inF_ATG = None\n",
      "minGC = 30\n",
      "maxGC = 70\n",
      "nearCenter = 20\n",
      "fromStop = 10\n"
     ]
    }
   ],
   "source": [
    "parameters.print_parameters()"
   ]
  },
  {
   "cell_type": "code",
   "execution_count": 31,
   "id": "43cee5fa-a303-475c-bc46-085ace27df4d",
   "metadata": {
    "execution": {
     "iopub.execute_input": "2021-05-07T07:55:34.004872Z",
     "iopub.status.busy": "2021-05-07T07:55:34.004689Z",
     "iopub.status.idle": "2021-05-07T07:55:34.023172Z",
     "shell.execute_reply": "2021-05-07T07:55:34.022495Z",
     "shell.execute_reply.started": "2021-05-07T07:55:34.004851Z"
    },
    "tags": []
   },
   "outputs": [
    {
     "name": "stdout",
     "output_type": "stream",
     "text": [
      "[  9 120 150 153]\n",
      "[  6 117 147 150]\n",
      "[  3 114 144 147]\n",
      "[  0 111 141 144]\n",
      "[108 138 141]\n",
      "[105 135 138]\n",
      "[102 132 135]\n",
      "[ 99 129 132]\n",
      "[ 96 126 129]\n",
      "[ 93 123 126]\n",
      "[ 90 120 123]\n",
      "[ 87 117 120]\n",
      "[ 84 114 117]\n",
      "[ 81 111 114]\n",
      "[ 78 108 111]\n",
      "[ 75 105 108]\n",
      "[ 72 102 105]\n",
      "[ 69  99 102]\n",
      "[66 96 99]\n",
      "[63 93 96]\n",
      "[60 90 93]\n",
      "[57 87 90]\n",
      "[54 84 87]\n",
      "[51 81 84]\n"
     ]
    }
   ],
   "source": [
    "# Just for quickly checking things ... \n",
    "all_indices_inF_TGG = []\n",
    "all_indices_inF_ATG = []\n",
    "    \n",
    "for sequence in rC_multiExon_sesRNAs:\n",
    "    num_inF_TGG, num_inF_ATG, num_inF_Stops, indicesTGG, indicesATG, indicesStops = return_inFrame(sequence, 'all')\n",
    "    all_indices_inF_TGG.append(indicesTGG)\n",
    "    all_indices_inF_ATG.append(indicesATG)\n",
    "    print(indicesTGG)\n",
    "    # print(num_inF_TGG)"
   ]
  },
  {
   "cell_type": "code",
   "execution_count": 32,
   "id": "df5eba92-2f07-49eb-ab53-a95c043ecb2c",
   "metadata": {
    "execution": {
     "iopub.execute_input": "2021-05-07T07:55:34.024216Z",
     "iopub.status.busy": "2021-05-07T07:55:34.023998Z",
     "iopub.status.idle": "2021-05-07T07:55:34.036721Z",
     "shell.execute_reply": "2021-05-07T07:55:34.036216Z",
     "shell.execute_reply.started": "2021-05-07T07:55:34.024197Z"
    },
    "tags": []
   },
   "outputs": [
    {
     "data": {
      "text/plain": [
       "225.0"
      ]
     },
     "execution_count": 32,
     "metadata": {},
     "output_type": "execute_result"
    }
   ],
   "source": [
    "max(rC_sequenceMetrics['StartSeq'])"
   ]
  },
  {
   "cell_type": "code",
   "execution_count": 33,
   "id": "55383cd9-7839-4670-8cac-1d3a6a5ac8d9",
   "metadata": {
    "execution": {
     "iopub.execute_input": "2021-05-07T07:55:34.037751Z",
     "iopub.status.busy": "2021-05-07T07:55:34.037573Z",
     "iopub.status.idle": "2021-05-07T07:55:34.062649Z",
     "shell.execute_reply": "2021-05-07T07:55:34.062072Z",
     "shell.execute_reply.started": "2021-05-07T07:55:34.037732Z"
    },
    "tags": []
   },
   "outputs": [
    {
     "data": {
      "text/plain": [
       "273.0"
      ]
     },
     "execution_count": 33,
     "metadata": {},
     "output_type": "execute_result"
    }
   ],
   "source": [
    "# Just looking at 'window' in which sesRNAs are being produced \n",
    "max(rC_sequenceMetrics['StopSeq']) - min(rC_sequenceMetrics['StartSeq'])"
   ]
  },
  {
   "cell_type": "code",
   "execution_count": 34,
   "id": "6ca67c2e-2f73-444f-9544-65b390941e59",
   "metadata": {
    "execution": {
     "iopub.execute_input": "2021-05-07T07:55:34.063831Z",
     "iopub.status.busy": "2021-05-07T07:55:34.063539Z",
     "iopub.status.idle": "2021-05-07T07:55:34.084795Z",
     "shell.execute_reply": "2021-05-07T07:55:34.084303Z",
     "shell.execute_reply.started": "2021-05-07T07:55:34.063804Z"
    },
    "tags": []
   },
   "outputs": [
    {
     "name": "stdout",
     "output_type": "stream",
     "text": [
      "0.5931372549019608\n",
      "0.6078431372549019\n",
      "0.6078431372549019\n",
      "0.6127450980392157\n",
      "0.6127450980392157\n",
      "0.6127450980392157\n",
      "0.6078431372549019\n",
      "0.6078431372549019\n",
      "0.6078431372549019\n",
      "0.6078431372549019\n",
      "0.6029411764705882\n",
      "0.6127450980392157\n",
      "0.6078431372549019\n",
      "0.6029411764705882\n",
      "0.5980392156862745\n",
      "0.5980392156862745\n",
      "0.6127450980392157\n",
      "0.6127450980392157\n",
      "0.6274509803921569\n",
      "0.6274509803921569\n",
      "0.6323529411764706\n",
      "0.6274509803921569\n",
      "0.6372549019607843\n",
      "0.6470588235294118\n"
     ]
    }
   ],
   "source": [
    "# Checking GC content of sesRNAs \n",
    "for sequence in rC_multiExon_sesRNAs:\n",
    "    print(metric_gcContent(sequence))"
   ]
  },
  {
   "cell_type": "code",
   "execution_count": null,
   "id": "aad318dc-1a4f-4423-b1ef-6ab4d3f10a0f",
   "metadata": {},
   "outputs": [],
   "source": []
  },
  {
   "cell_type": "code",
   "execution_count": null,
   "id": "01b7f220-c941-47c9-8f41-ad6c57978ffc",
   "metadata": {
    "tags": []
   },
   "outputs": [],
   "source": [
    "# Just additional check if in CDS \n",
    "cds_sesRNAs = return_inCDS(rC_multiExon_sesRNAs, CDS, 0, 'Reverse')\n",
    "cds_sesRNAs"
   ]
  },
  {
   "cell_type": "code",
   "execution_count": null,
   "id": "316a713a-b85f-4547-b3d9-7b8a09c1394d",
   "metadata": {
    "tags": []
   },
   "outputs": [],
   "source": [
    "# Checking complement\n",
    "C_parameters = parameters_sesRNA('Complement', 0, 204, 1, 1, 'All upstream')\n",
    "C_multiExon_sesRNAs, C_sequenceMetrics, C_sesRNA_objs = generate_sesRNAs_multiExon(C_exon_records, CDS, C_parameters)"
   ]
  },
  {
   "cell_type": "code",
   "execution_count": null,
   "id": "83db65d7-84cf-4a64-8ed4-8de393ddf615",
   "metadata": {
    "tags": []
   },
   "outputs": [],
   "source": [
    "C_sequenceMetrics "
   ]
  },
  {
   "cell_type": "code",
   "execution_count": null,
   "id": "5788828e-b698-4d53-ad34-05ecab65cd80",
   "metadata": {
    "tags": []
   },
   "outputs": [],
   "source": [
    "C_multiExon_sesRNAs"
   ]
  },
  {
   "cell_type": "code",
   "execution_count": null,
   "id": "346b7ab3-f478-4fe9-9941-af8e6fbcc96e",
   "metadata": {},
   "outputs": [],
   "source": []
  },
  {
   "cell_type": "code",
   "execution_count": null,
   "id": "addressed-disney",
   "metadata": {},
   "outputs": [],
   "source": []
  },
  {
   "cell_type": "code",
   "execution_count": null,
   "id": "wireless-affiliation",
   "metadata": {},
   "outputs": [],
   "source": []
  },
  {
   "cell_type": "code",
   "execution_count": null,
   "id": "permanent-poison",
   "metadata": {
    "scrolled": true,
    "tags": []
   },
   "outputs": [],
   "source": [
    "# Initial if want to check variable length sesRNAs \n",
    "for i in range(200, 300):\n",
    "    if(i%3 == 0):\n",
    "        print(i)"
   ]
  },
  {
   "cell_type": "code",
   "execution_count": null,
   "id": "naked-desktop",
   "metadata": {},
   "outputs": [],
   "source": []
  },
  {
   "cell_type": "code",
   "execution_count": null,
   "id": "saved-cambodia",
   "metadata": {},
   "outputs": [],
   "source": []
  },
  {
   "cell_type": "code",
   "execution_count": null,
   "id": "virgin-muslim",
   "metadata": {
    "tags": []
   },
   "outputs": [],
   "source": [
    "testSeq = sesRNAs[0]\n",
    "testSeq"
   ]
  },
  {
   "cell_type": "code",
   "execution_count": null,
   "id": "attractive-frank",
   "metadata": {
    "tags": []
   },
   "outputs": [],
   "source": [
    "str(testSeq)"
   ]
  },
  {
   "cell_type": "code",
   "execution_count": null,
   "id": "opponent-robinson",
   "metadata": {
    "tags": []
   },
   "outputs": [],
   "source": [
    "?split()"
   ]
  },
  {
   "cell_type": "code",
   "execution_count": null,
   "id": "crazy-delhi",
   "metadata": {
    "tags": []
   },
   "outputs": [],
   "source": [
    "subsequence = str(testSeq)\n",
    "codons = [subsequence for subsequence in re.split(r'(\\w{3})', subsequence) if subsequence]"
   ]
  },
  {
   "cell_type": "code",
   "execution_count": null,
   "id": "comparable-ottawa",
   "metadata": {
    "tags": []
   },
   "outputs": [],
   "source": []
  },
  {
   "cell_type": "code",
   "execution_count": null,
   "id": "generic-government",
   "metadata": {
    "tags": []
   },
   "outputs": [],
   "source": [
    "tempSeq = Seq('GTTCTCCTTCAGCACCTGCTCCAGCGGCGCATGCAAGCGCTCCTTATGGGGATAGGAAGCTGGGTGGGGGAACTTGTCCGCAGTCAGGCTGGCCAGTTTGGCATTCTCCAGCAGAAAAAGCTTGGGGTGAGCAGCCAGGGAAGTGGGGGCCTGTGCGTTGAGGAGGCCAGATGGGAAAAGGTGGCCTCCGAGGAGCTCCGATGG')"
   ]
  },
  {
   "cell_type": "code",
   "execution_count": null,
   "id": "liable-exemption",
   "metadata": {
    "tags": []
   },
   "outputs": [],
   "source": [
    "check_cORF(tempSeq)"
   ]
  },
  {
   "cell_type": "code",
   "execution_count": null,
   "id": "guilty-russell",
   "metadata": {
    "tags": []
   },
   "outputs": [],
   "source": [
    "coding_dna = Seq(\"ATGGCCATTGTAATGGGCCGCTGAAAGGGTGCCCGATAG\")"
   ]
  },
  {
   "cell_type": "code",
   "execution_count": null,
   "id": "light-nutrition",
   "metadata": {
    "tags": []
   },
   "outputs": [],
   "source": [
    "check_cORF(coding_dna)"
   ]
  },
  {
   "cell_type": "code",
   "execution_count": null,
   "id": "rising-proceeding",
   "metadata": {},
   "outputs": [],
   "source": []
  },
  {
   "cell_type": "markdown",
   "id": "de55e562-ad5a-49b7-873e-2fd59d473e04",
   "metadata": {},
   "source": [
    "# Secondary structure "
   ]
  },
  {
   "cell_type": "markdown",
   "id": "40364920-4c4a-408f-82e2-e15f943024e7",
   "metadata": {},
   "source": [
    "## Working "
   ]
  },
  {
   "cell_type": "code",
   "execution_count": null,
   "id": "ac917130-7671-40af-803e-527913ed88ea",
   "metadata": {},
   "outputs": [],
   "source": [
    "def generate_RNApred(sesRNAs_DNA, sequenceMetrics):\n",
    "    # Leading RNAfold as RNA \n",
    "    sys.path.append(\"/home/user1/Dropbox/Research/Neurobiology_PhD/Rotations/Huang/Projects/CellReadR/Packages/ViennaRNA_Python3/usr/lib/python3.9/site-packages/RNA\")\n",
    "    import _RNA as RNA\n",
    "    \n",
    "    # Generating Temp \n",
    "    pathlib.Path('Output/BioPython/Temp').mkdir(parents=True, exist_ok=True)\n",
    "    # Generating RNA of sesRNA \n",
    "    sesRNAs_RNA = return_sesRNA_RNA(sesRNAs_DNA)\n",
    "    \n",
    "    # Just making sure to clear Temp folder before starting \n",
    "    os.system('rm -rf Output/BioPython/Temp/*')\n",
    "    \n",
    "    # Creating temporary fasta files of sesRNAs (RNA)\n",
    "    output_temp_sesRNA(sesRNAs_RNA)\n",
    "    \n",
    "    # Add as column in sequence metrics dataframe \n",
    "    sequenceMetrics['mfe'] = all_mfe\n",
    "    sequenceMetrics"
   ]
  },
  {
   "cell_type": "code",
   "execution_count": null,
   "id": "7c85ef97-fb9a-42fe-98b6-797a5ad1d425",
   "metadata": {
    "tags": []
   },
   "outputs": [],
   "source": [
    "# Converting to RNA for calculating secondary structure \n",
    "def return_sesRNA_RNA(sesRNAs_DNA):\n",
    "    sesRNAs_RNA = []\n",
    "    for i in range(len(sesRNAs_DNA)):\n",
    "        sesRNAs_RNA.append(sesRNA_DNA[i].transcribe())\n",
    "    return sesRNAs_RNA"
   ]
  },
  {
   "cell_type": "code",
   "execution_count": null,
   "id": "09639cd4-f114-45df-963b-f8347d2c1a9f",
   "metadata": {},
   "outputs": [],
   "source": [
    "def output_temp_sesRNA(sesRNAs_RNA): \n",
    "    # Writing sequences as seperate fasta files \n",
    "    i = 1\n",
    "    all_mfe = []\n",
    "\n",
    "    for sesRNA in sesRNAs_RNA:\n",
    "        (ss, mfe) = RNA.fold(str(sesRNAs_RNA[i-1]))\n",
    "        all_mfe.append(mfe)\n",
    "\n",
    "        # Making sure that single digit number stast with 0 so that files processed in order \n",
    "        if i < 10: numSes = '0' + str(i)\n",
    "        else: numSes = str(i)\n",
    "\n",
    "        # Defining output name \n",
    "        outputName = geneName + '_' + numSes\n",
    "        outputDescription = \"sesRNA #\" + numSes\n",
    "        i += 1\n",
    "\n",
    "        outputRecord = SeqRecord(sesRNA, id = outputName, description = outputDescription)\n",
    "        outputFull = 'Output/BioPython/Temp/' + outputName + '.fasta'\n",
    "\n",
    "        with open(outputFull, \"w\") as output_handle:\n",
    "            SeqIO.write(outputRecord, output_handle, \"fasta\")"
   ]
  },
  {
   "cell_type": "code",
   "execution_count": null,
   "id": "7d08a463-3d7d-4928-b8b1-90d8217468a9",
   "metadata": {
    "tags": []
   },
   "outputs": [],
   "source": [
    "def output_RNApred():\n",
    "    # Call RNAfold on each sequence of output \n",
    "    rnaFold_prob = []\n",
    "\n",
    "    intarna_columns = ['E', 'start', 'end1', 'start2', 'end2']\n",
    "    all_sorted_intarna = []\n",
    "    useful_intarna =  pd.Dataframe(columns = intarna_columns)\n",
    "\n",
    "    pathTemp = '/home/user1/Dropbox/Research/Neurobiology_PhD/Rotations/Huang/Projects/CellReadR/Code/Output/BioPython/Temp'\n",
    "    pathOutTempFold = pathTemp + '/temp.out'\n",
    "    pathOutTempIntaRNA = pathTemp + '/temp.csv'\n",
    "\n",
    "    # sorting files in output of scandir \n",
    "    for entry in sorted(os.scandir(pathTemp), key=lambda e: e.name):\n",
    "        # For checking which file currently working on (not in order for some reason) \n",
    "        print(entry.path)\n",
    "\n",
    "        # Defining command for RNAfold \n",
    "        commandFold = 'RNAfold -p -d2 --noLP < ' + entry.path + ' > ' + pathOutTempFold    \n",
    "        # Generating RNAfold predictions \n",
    "        generateProb = subprocess.run(commandFold, shell=True, stdout=subprocess.PIPE)\n",
    "\n",
    "        # Defining command for IntaRNA\n",
    "        numThreads = 10\n",
    "        commandInta = 'IntaRNA -t ' + CDS_fileName + ' -q ' + entry.path + ' --threads ' + str(numThreads) + ' --outMode=C > ' + pathOutTempIntaRNA\n",
    "        # Generating IntaRNA predictions \n",
    "        os.system(commandInta)\n",
    "\n",
    "        # Moving to Temp directory to work on fasta files \n",
    "        currentWD = os.getcwd()\n",
    "        os.chdir('Output/BioPython/Temp')\n",
    "\n",
    "        # Running script for getting probabilities from RNAfold output file (added to ArchBin btw)\n",
    "        readProb = subprocess.Popen(\"rnaFold_prob.sh\", shell=True, stdout=subprocess.PIPE)\n",
    "        returnedProb = readProb.stdout.read()\n",
    "        # Waiting for last command to finish before storing value in temp.out file \n",
    "        readProb.wait()\n",
    "        # Append frequences ... convert to percentage \n",
    "        rnaFold_prob.append(float(returnedProb)*100)\n",
    "\n",
    "        # Reading in csv file with information \n",
    "        intarnaOutput = pd.read_csv(outputPath, sep = ';')\n",
    "        # Saving pd output as list of lists ... would be a pain to compute multiple times if desired \n",
    "        sorted_intarna = intarnaOutput.sort_values('E', ascending=True)\n",
    "        # Concatinating select columuns of dataframe for inclusion into sequence metrics \n",
    "        all_sorted_intarna.append(sorted_intarna)i\n",
    "        pd.concat([useful_intarna, sorted_intarna[intarna_columns]])\n",
    "\n",
    "        # Removing temp.out after finishing each run \n",
    "        os.system('rm -rf temp.out')\n",
    "        os.system('rm -rf temp.csv')\n",
    "        # Return to initial working directory \n",
    "        os.chdir(currentWD)\n",
    "        \n",
    "    # Removing files generated by RNAfold \n",
    "    os.system('rm -rf *ss.ps')\n",
    "    os.system('rm -rf *dp.ps')\n",
    "    \n",
    "    return intarnaOutput"
   ]
  },
  {
   "cell_type": "code",
   "execution_count": null,
   "id": "0d180307-49da-4214-8e24-6a196be1dc7d",
   "metadata": {
    "tags": []
   },
   "outputs": [],
   "source": []
  },
  {
   "cell_type": "code",
   "execution_count": null,
   "id": "08372c72-6c21-496c-bfdd-dcfde1c25a5b",
   "metadata": {
    "tags": []
   },
   "outputs": [],
   "source": []
  },
  {
   "cell_type": "code",
   "execution_count": null,
   "id": "d9937546-8b46-4d65-84f3-4d87b072d4ce",
   "metadata": {
    "tags": []
   },
   "outputs": [],
   "source": []
  },
  {
   "cell_type": "code",
   "execution_count": null,
   "id": "26aa1cf2-5ffd-4927-86e7-1ec61091509c",
   "metadata": {
    "tags": []
   },
   "outputs": [],
   "source": []
  },
  {
   "cell_type": "code",
   "execution_count": null,
   "id": "34077794-d754-4bde-a3a2-115fcba583de",
   "metadata": {},
   "outputs": [],
   "source": []
  },
  {
   "cell_type": "code",
   "execution_count": null,
   "id": "f70f6123-cbfd-4f82-9a9c-6c2684721b30",
   "metadata": {
    "tags": []
   },
   "outputs": [],
   "source": [
    "outputPath = os.getcwd() + '/' + outputFile"
   ]
  },
  {
   "cell_type": "code",
   "execution_count": null,
   "id": "ac5e7ba3-1906-40c9-9fb2-1f64529ee21a",
   "metadata": {},
   "outputs": [],
   "source": [
    "outputPath"
   ]
  },
  {
   "cell_type": "code",
   "execution_count": null,
   "id": "9735b167-b5b3-45cb-8377-05d45dd7347e",
   "metadata": {
    "tags": []
   },
   "outputs": [],
   "source": [
    "intarnaOutput = pd.read_csv(outputPath, sep = ';')"
   ]
  },
  {
   "cell_type": "code",
   "execution_count": null,
   "id": "cc9d6671-851d-483d-ad70-02023d65c010",
   "metadata": {
    "tags": []
   },
   "outputs": [],
   "source": [
    "intarnaOutput"
   ]
  },
  {
   "cell_type": "code",
   "execution_count": null,
   "id": "24502e04-c389-401f-8ace-63c4a11ad3f0",
   "metadata": {},
   "outputs": [],
   "source": []
  },
  {
   "cell_type": "code",
   "execution_count": null,
   "id": "42dcf3e8-e239-4f93-9602-2289f67aa31c",
   "metadata": {
    "tags": []
   },
   "outputs": [],
   "source": [
    "rnaFold_prob"
   ]
  },
  {
   "cell_type": "code",
   "execution_count": null,
   "id": "e683fd92-71b0-47e4-9519-d5dbc7c36a9e",
   "metadata": {
    "tags": []
   },
   "outputs": [],
   "source": [
    "# Add as column in sequence metrics dataframe \n",
    "sequenceMetrics['rnaFoldProb'] = rnaFold_prob\n",
    "# Concatenate IntaRNA output as additional columns \n",
    "pd.concat(sequenceMetrics, useful_intarna, axis = 1)\n",
    "sequenceMetrics"
   ]
  },
  {
   "cell_type": "code",
   "execution_count": null,
   "id": "1d1c20f7-7066-42f8-82f9-bf3a02457aad",
   "metadata": {
    "tags": []
   },
   "outputs": [],
   "source": [
    "temp_metrics.sort_values('rnaFoldProb', ascending=True).iloc[0]"
   ]
  },
  {
   "cell_type": "code",
   "execution_count": null,
   "id": "67469cb5-152e-4364-9748-aa388c2fa5e2",
   "metadata": {
    "tags": []
   },
   "outputs": [],
   "source": [
    "sortedMetrics.loc[10, :]"
   ]
  },
  {
   "cell_type": "code",
   "execution_count": null,
   "id": "5a04faa8-0d1c-4ce5-a032-d45f3cd236c5",
   "metadata": {},
   "outputs": [],
   "source": [
    "sortedMetrics"
   ]
  },
  {
   "cell_type": "code",
   "execution_count": null,
   "id": "0c9554a5-25ab-4348-8b66-55745d29f5a0",
   "metadata": {},
   "outputs": [],
   "source": [
    "sortedMetrics[['Exon', 'numTGG']]"
   ]
  },
  {
   "cell_type": "code",
   "execution_count": null,
   "id": "1d03f1ba-0d66-46ee-8d7b-b9366b607424",
   "metadata": {},
   "outputs": [],
   "source": []
  },
  {
   "cell_type": "code",
   "execution_count": null,
   "id": "8d34412e-6d66-472b-a294-81b56fed1ecd",
   "metadata": {},
   "outputs": [],
   "source": []
  },
  {
   "cell_type": "code",
   "execution_count": null,
   "id": "448ea762-c405-41d0-8e27-df0c00091af8",
   "metadata": {},
   "outputs": [],
   "source": []
  },
  {
   "cell_type": "code",
   "execution_count": null,
   "id": "700d487a-075a-41b3-8612-90c88178be9a",
   "metadata": {},
   "outputs": [],
   "source": []
  },
  {
   "cell_type": "markdown",
   "id": "extreme-commissioner",
   "metadata": {},
   "source": [
    "# Outputing sesRNA"
   ]
  },
  {
   "cell_type": "code",
   "execution_count": null,
   "id": "9e2d21f9-3937-4c5a-a30d-11754beb9a34",
   "metadata": {
    "tags": []
   },
   "outputs": [],
   "source": [
    "# Generating BioPython directory if does not exist \n",
    "pathlib.Path('Output/BioPython').mkdir(parents=True, exist_ok=True)\n",
    "\n",
    "# Generate SeqRecord object for each sequence and append to list \n",
    "outputID = geneName + '_sesRNA'\n",
    "outputDescription = \"sesRNA for \" + geneName\n",
    "\n",
    "# Generating sequence record objects (for seperate storage)\n",
    "outputSeqMulti_DNA = []\n",
    "outputSeqMulti_RNA = []\n",
    "for i in rC_multiExon_sesRNAs:\n",
    "    outputSeqMulti.append(SeqRecord(i, id = outputID, description = outputDescription))\n",
    "    \n",
    "# Write output fasta files \n",
    "version = \"V6\"\n",
    "outputName = \"Output/BioPython/\" + geneName + \"_sesRNA_\" + version + \".fasta\" \n",
    "with open(outputName, \"w\") as output_handle:\n",
    "    SeqIO.write(outputSeqMulti, output_handle, \"fasta\")"
   ]
  },
  {
   "cell_type": "code",
   "execution_count": null,
   "id": "167c3ea8-17d5-4514-9a5f-0104b3f9e8a7",
   "metadata": {},
   "outputs": [],
   "source": []
  },
  {
   "cell_type": "code",
   "execution_count": null,
   "id": "c693bab4-f20e-4c6e-a534-68e3034bf5a6",
   "metadata": {},
   "outputs": [],
   "source": []
  },
  {
   "cell_type": "code",
   "execution_count": null,
   "id": "9f9f5568-5659-438b-9b7a-908e50b8def4",
   "metadata": {},
   "outputs": [],
   "source": []
  },
  {
   "cell_type": "code",
   "execution_count": null,
   "id": "f47875ae-27ec-433f-aec4-e23bf7aca36f",
   "metadata": {
    "tags": []
   },
   "outputs": [],
   "source": []
  },
  {
   "cell_type": "code",
   "execution_count": 35,
   "id": "7f8c9e2b-a4f1-4b45-91df-78cb737f5171",
   "metadata": {
    "execution": {
     "iopub.execute_input": "2021-05-07T07:55:54.326371Z",
     "iopub.status.busy": "2021-05-07T07:55:54.326143Z",
     "iopub.status.idle": "2021-05-07T07:55:54.331360Z",
     "shell.execute_reply": "2021-05-07T07:55:54.330740Z",
     "shell.execute_reply.started": "2021-05-07T07:55:54.326338Z"
    },
    "tags": []
   },
   "outputs": [],
   "source": [
    "# Given sequence ... converts to in frame TGGs to TAGs and in frame stops so that first 'T' becomes 'G'\n",
    "# Had to be careful to only work with in frame codons ... initally had made the mistake to just use string.replace ... this would change out of frame codons as well \n",
    "def convert_DNA(sequence, numberConvert):\n",
    "    # Converting to string object for manipulation \n",
    "    strSeq = str(sequence)\n",
    "    # Generating in frame object variables \n",
    "    num_inF_TGG, num_inF_ATG, num_inF_Stop, indicesTGG, indicesATG, indicesStop = return_inFrame(Seq(strSeq), 'all')\n",
    "    print(num_inF_TGG)\n",
    "    # print(num_inF_Stop)\n",
    "\n",
    "    # Replacing in frame stop codons in sequence \n",
    "    for stop in indicesStop: \n",
    "        stopPairs = [(\"TAG\", \"GAG\"), (\"TAA\", \"GAA\"), (\"TGA\", \"GGA\")]\n",
    "        stopSeq = strSeq[stop:stop+3]\n",
    "        [stopSeq := stopSeq.replace(a, b) for a, b in stopPairs]\n",
    "        strSeq = strSeq[:stop] + stopSeq + strSeq[stop+3:]\n",
    "    \n",
    "    # Setting number convert to all if 'All' selected as number of TGG to convert \n",
    "    if numberConvert == 'All': numberConvert = num_inF_TGG\n",
    "    # Converting TGG's ... up to number set ... and in order from starting with most central \n",
    "    # Sorts indicees by distance from center \n",
    "    sorted_indices_centralTGG = np.array(sorted(indicesTGG - (len(strSeq)/2), key = abs)) + (len(strSeq)/2)\n",
    "    # Converts in frame TGG's ... starting from most central TGG ... up to limit set by numberConvert \n",
    "    for i in range(numberConvert):\n",
    "        currentIndex = int(sorted_indices_centralTGG[i])\n",
    "        strSeq = strSeq[:currentIndex] + 'TAG' + strSeq[currentIndex+3:]\n",
    "    # Returns RNA \n",
    "    return Seq(strSeq).transcribe()"
   ]
  },
  {
   "cell_type": "code",
   "execution_count": 36,
   "id": "6af0e1ef-cb15-4fa0-a3f6-9b9f52d03398",
   "metadata": {
    "execution": {
     "iopub.execute_input": "2021-05-07T07:55:55.927932Z",
     "iopub.status.busy": "2021-05-07T07:55:55.927572Z",
     "iopub.status.idle": "2021-05-07T07:55:55.931512Z",
     "shell.execute_reply": "2021-05-07T07:55:55.930742Z",
     "shell.execute_reply.started": "2021-05-07T07:55:55.927904Z"
    },
    "tags": []
   },
   "outputs": [],
   "source": [
    "testSeq = Seq('TGGGAGTAGTGGTGGTAATGA')\n",
    "testStr = str(testSeq)"
   ]
  },
  {
   "cell_type": "code",
   "execution_count": 37,
   "id": "2e4f7175-2aef-483b-8f96-831dde95fa64",
   "metadata": {
    "execution": {
     "iopub.execute_input": "2021-05-07T07:55:56.525537Z",
     "iopub.status.busy": "2021-05-07T07:55:56.525306Z",
     "iopub.status.idle": "2021-05-07T07:55:56.529646Z",
     "shell.execute_reply": "2021-05-07T07:55:56.529122Z",
     "shell.execute_reply.started": "2021-05-07T07:55:56.525519Z"
    },
    "tags": []
   },
   "outputs": [
    {
     "name": "stdout",
     "output_type": "stream",
     "text": [
      "3\n"
     ]
    },
    {
     "data": {
      "text/plain": [
       "Seq('UGGGAGGAGUAGUGGGAAGGA')"
      ]
     },
     "execution_count": 37,
     "metadata": {},
     "output_type": "execute_result"
    }
   ],
   "source": [
    "convert_DNA(testSeq, 1)"
   ]
  },
  {
   "cell_type": "code",
   "execution_count": null,
   "id": "82c811c2-60bc-498b-9c9b-94ab9125b81f",
   "metadata": {},
   "outputs": [],
   "source": []
  },
  {
   "cell_type": "code",
   "execution_count": null,
   "id": "c0fb3c59-4c51-45c6-8f85-392421bd6cf9",
   "metadata": {},
   "outputs": [],
   "source": []
  },
  {
   "cell_type": "code",
   "execution_count": null,
   "id": "a1cf653e-5b1a-45eb-9eb1-35be5f21d605",
   "metadata": {
    "tags": []
   },
   "outputs": [],
   "source": [
    "# Test that all and numbering is working \n",
    "convert_DNA(testSeq, 3) == convert_DNA(testSeq, 'All')"
   ]
  },
  {
   "cell_type": "code",
   "execution_count": null,
   "id": "023548a3-3307-403b-be4e-f6ca37d91bad",
   "metadata": {
    "tags": []
   },
   "outputs": [],
   "source": [
    "convert_DNA(rC_multiExon_sesRNAs[0], 'All')"
   ]
  },
  {
   "cell_type": "code",
   "execution_count": null,
   "id": "90ae4ae5-4c10-4f54-a1c8-d126e2da8a9d",
   "metadata": {
    "tags": []
   },
   "outputs": [],
   "source": [
    "# Testing that continious reading frame being produced if number set to 0 \n",
    "len(convert_DNA(rC_multiExon_sesRNAs[0], 0).translate(to_stop = True)) == len(rC_multiExon_sesRNAs[0])/3"
   ]
  },
  {
   "cell_type": "code",
   "execution_count": null,
   "id": "4d8d7111-a889-4047-802c-602d090da378",
   "metadata": {
    "tags": []
   },
   "outputs": [],
   "source": [
    "# Checking that right number of TGG being converted \n",
    "return_inFrame(convert_DNA(rC_multiExon_sesRNAs[0], 'All').back_transcribe(), 'numTGG')"
   ]
  },
  {
   "cell_type": "code",
   "execution_count": null,
   "id": "1bae4831-23e7-408e-bc9e-9a7aebc136f6",
   "metadata": {},
   "outputs": [],
   "source": []
  },
  {
   "cell_type": "code",
   "execution_count": null,
   "id": "d40fa6fd-c67b-4253-ac72-5e8d27697653",
   "metadata": {},
   "outputs": [],
   "source": []
  },
  {
   "cell_type": "code",
   "execution_count": null,
   "id": "bcc692ef-2b86-49e5-a910-053cf06538db",
   "metadata": {
    "tags": []
   },
   "outputs": [],
   "source": [
    "convert_DNA(testSeq, 1) - (len(testSeq)/2)"
   ]
  },
  {
   "cell_type": "code",
   "execution_count": null,
   "id": "f9570a65-2d19-48da-9328-0a348cdf8b39",
   "metadata": {
    "tags": []
   },
   "outputs": [],
   "source": [
    "abs(convert_DNA(testSeq, 1) - (len(testSeq)/2))"
   ]
  },
  {
   "cell_type": "code",
   "execution_count": null,
   "id": "038c46e2-2379-483e-885b-a74aaa59c52a",
   "metadata": {
    "tags": []
   },
   "outputs": [],
   "source": [
    "np.sort(abs(convert_DNA(testSeq, 1) - (len(testSeq)/2))) + (len(testSeq)/2)"
   ]
  },
  {
   "cell_type": "code",
   "execution_count": null,
   "id": "5a05d474-d9f5-4c6e-bb0d-a04ab3df21c9",
   "metadata": {
    "tags": []
   },
   "outputs": [],
   "source": [
    "np.array(sorted(convert_DNA(testSeq, 1) - (len(testSeq)/2), key = abs)) + (len(testSeq)/2)"
   ]
  },
  {
   "cell_type": "code",
   "execution_count": null,
   "id": "7ee4c058-fcca-469f-90a3-32fd868e95c5",
   "metadata": {},
   "outputs": [],
   "source": []
  },
  {
   "cell_type": "code",
   "execution_count": null,
   "id": "54abcd1d-689a-479a-a0ec-72f227fc50ec",
   "metadata": {},
   "outputs": [],
   "source": []
  },
  {
   "cell_type": "code",
   "execution_count": null,
   "id": "31a227db-5c8c-4bdf-9e5b-e458f6e0449e",
   "metadata": {},
   "outputs": [],
   "source": []
  },
  {
   "cell_type": "code",
   "execution_count": null,
   "id": "a1a573ef-21bc-43ea-825f-40cbd31013c6",
   "metadata": {},
   "outputs": [],
   "source": []
  },
  {
   "cell_type": "code",
   "execution_count": null,
   "id": "8a03757a-e498-4b7b-9419-4466b6620944",
   "metadata": {},
   "outputs": [],
   "source": []
  },
  {
   "cell_type": "code",
   "execution_count": null,
   "id": "cfb99393-f012-4853-bdd6-f6ab77206b39",
   "metadata": {},
   "outputs": [],
   "source": []
  },
  {
   "cell_type": "code",
   "execution_count": null,
   "id": "c3fd9adf-493b-446a-a533-7b622c7bf697",
   "metadata": {
    "tags": []
   },
   "outputs": [],
   "source": [
    "# Function for saving both original template DNA sequence and the converted RNA given list of sesRNAs Seq objects\n",
    "# Could change later to make for separate output files ... have not decided yet whether to just put them together into one labeled fasta file \n",
    "def save_sesRNAs(sequences_sesRNAs, geneName, version, numConvertTGG):\n",
    "    # Generating BioPython directory if does not exist \n",
    "    pathlib.Path('Output/BioPython').mkdir(parents=True, exist_ok=True)\n",
    "    \n",
    "    # Defining save name and description for outputs (original DNA and converted RNA)\n",
    "    DNA_outputID = geneName + '_sesRNA'\n",
    "    DNA_outputDescription = \"sesRNA DNA original for \" + geneName\n",
    "    convertedRNA_outputID = geneName + '_sesRNA'\n",
    "    convertedRNA_outputDescription = \"sesRNA converted RNA for \" + geneName\n",
    "    \n",
    "    # Creating empty list for storing sequences \n",
    "    outputSeqMulti_DNA = []\n",
    "    outputSeqMulti_convertedRNA= []\n",
    "    \n",
    "    # Generating SeqRecord objects in preparation for writing FASTA files ... edited description to include number of sequence\n",
    "    i = 1\n",
    "    for sequence in sequences_sesRNAs:\n",
    "        outputSeqMulti_DNA.append(SeqRecord(sequence, id = DNA_outputID+str(i), description = DNA_outputDescription))\n",
    "        outputSeqMulti_convertedRNA.append(SeqRecord(convert_DNA(sequence, numberConvertTGG), id = convertedRNA_outputID+str(i), description = convertedRNA_outputDescription))\n",
    "        i += 1\n",
    "        \n",
    "    # Write output fasta files \n",
    "    DNA_outputName = \"Output/BioPython/\" + geneName + \"_sesRNA_\" + version + \".fasta\" \n",
    "    convertedRNA_outputName = \"Output/BioPython/\" + geneName + \"_sesRNA_convertedRNA_\" + version + \".fasta\" \n",
    "    \n",
    "    with open(outputName, \"w\") as output_handle:\n",
    "        # Writing original template DNA files \n",
    "        SeqIO.write(outputSeqMulti_DNA, output_handle, \"fasta\")\n",
    "        # Writing orginal template RNA files \n",
    "        SeqIO.write(outputSeqMulti_convertedRNA, output_handle, \"fasta\")"
   ]
  },
  {
   "cell_type": "code",
   "execution_count": null,
   "id": "b468b5c8-ff7c-487e-9e68-1e8218717ca1",
   "metadata": {},
   "outputs": [],
   "source": []
  },
  {
   "cell_type": "code",
   "execution_count": null,
   "id": "5d563e57-b0c3-44df-98d7-9c6553d80147",
   "metadata": {},
   "outputs": [],
   "source": []
  },
  {
   "cell_type": "markdown",
   "id": "58b5b203-4d30-404d-a901-d6acb1a7d5a2",
   "metadata": {},
   "source": [
    "# Not working or not being used "
   ]
  },
  {
   "cell_type": "code",
   "execution_count": null,
   "id": "efda45da-50ae-4e1a-816b-11cff6264bb0",
   "metadata": {
    "tags": []
   },
   "outputs": [],
   "source": [
    "sys.path.append(\"/usr/share/ViennaRNA\")"
   ]
  },
  {
   "cell_type": "code",
   "execution_count": null,
   "id": "12dbed80-8247-4145-8aa4-59661db25282",
   "metadata": {},
   "outputs": [],
   "source": []
  },
  {
   "cell_type": "code",
   "execution_count": null,
   "id": "cbff71cb-5a0d-4a5a-9449-ad55183a9f7c",
   "metadata": {
    "tags": []
   },
   "outputs": [],
   "source": [
    "# Leading RNAfold as RNA \n",
    "import sys\n",
    "sys.path.append(\"/usr/lib/python3.9/site-packages/RNA\")\n",
    "import _RNA as RNA"
   ]
  },
  {
   "cell_type": "code",
   "execution_count": null,
   "id": "42a1ca35-5d61-41cb-a591-9f50d6f60641",
   "metadata": {},
   "outputs": [],
   "source": [
    "import pyseqlib"
   ]
  },
  {
   "cell_type": "code",
   "execution_count": null,
   "id": "d370774a-62a0-4be0-9ba9-0f701d2826b0",
   "metadata": {},
   "outputs": [],
   "source": [
    "from pyseqlib import pyRNAfold"
   ]
  },
  {
   "cell_type": "code",
   "execution_count": null,
   "id": "43d65dc2-2ed1-4a9b-840f-88b800e652fd",
   "metadata": {},
   "outputs": [],
   "source": []
  },
  {
   "cell_type": "code",
   "execution_count": null,
   "id": "c8ea1feb-f3a0-47f7-985a-9c3efced12b9",
   "metadata": {},
   "outputs": [],
   "source": [
    "pyRNAfold i"
   ]
  },
  {
   "cell_type": "code",
   "execution_count": null,
   "id": "6e7157da-fbc5-403e-b035-7c53ee1599d6",
   "metadata": {},
   "outputs": [],
   "source": [
    "pyseqlib.fold_compound(sequence)"
   ]
  },
  {
   "cell_type": "code",
   "execution_count": null,
   "id": "5dbf73a8-500e-4269-ad5f-c4c7d4e0cf9c",
   "metadata": {},
   "outputs": [],
   "source": []
  },
  {
   "cell_type": "code",
   "execution_count": null,
   "id": "e70277c0-f44c-442e-98d2-f09149a99bdb",
   "metadata": {},
   "outputs": [],
   "source": [
    "RNA.fold_compound(sequence)"
   ]
  },
  {
   "cell_type": "code",
   "execution_count": null,
   "id": "ba5f1bdb-1a69-436c-aa5b-796cbb6253d7",
   "metadata": {},
   "outputs": [],
   "source": [
    "sys.path.append(\"/home/user1/Dropbox/Research/Neurobiology_PhD/Rotations/Huang/Projects/CellReadR/Packages/RNA\")\n",
    "import _RNA as RNA"
   ]
  },
  {
   "cell_type": "code",
   "execution_count": null,
   "id": "1f5a4e18-c65c-4719-8e2c-37c39d000939",
   "metadata": {},
   "outputs": [],
   "source": []
  },
  {
   "cell_type": "code",
   "execution_count": null,
   "id": "a2bad740-1144-4da6-9894-30c39822990a",
   "metadata": {},
   "outputs": [],
   "source": []
  },
  {
   "cell_type": "code",
   "execution_count": null,
   "id": "39b3fe1c-4a59-4c07-a19d-3d8f32c55fb4",
   "metadata": {
    "tags": []
   },
   "outputs": [],
   "source": [
    "sys.path.append(\"/home/user1/Dropbox/Research/Neurobiology_PhD/Rotations/Huang/Projects/CellReadR/Code/Functions\")\n",
    "import RNA_Fold"
   ]
  },
  {
   "cell_type": "code",
   "execution_count": null,
   "id": "5150f26a-3612-44b3-a6e6-ab594844a5a0",
   "metadata": {},
   "outputs": [],
   "source": [
    "md = RNA.md()"
   ]
  },
  {
   "cell_type": "code",
   "execution_count": null,
   "id": "8d4ce5e2-9d46-4daf-8a95-3d56da14de84",
   "metadata": {},
   "outputs": [],
   "source": [
    "import example"
   ]
  },
  {
   "cell_type": "code",
   "execution_count": null,
   "id": "92a361b3-4c02-4ece-a37b-23fcd41d9c8d",
   "metadata": {
    "tags": []
   },
   "outputs": [],
   "source": [
    "sequence = \"CGCAGGGAUACCCGCG\"\n",
    " \n",
    "# create new fold_compound object\n",
    "fc = RNA.fold_compound(sequence)\n",
    " \n",
    "# compute minimum free energy (mfe) and corresponding structure\n",
    "(ss, mfe) = fc.mfe()\n",
    " "
   ]
  },
  {
   "cell_type": "code",
   "execution_count": null,
   "id": "ec84efc7-c0e9-4687-b6d0-64252c206805",
   "metadata": {},
   "outputs": [],
   "source": []
  },
  {
   "cell_type": "code",
   "execution_count": null,
   "id": "c3c2c214-6be3-4084-9f68-1620dcaac196",
   "metadata": {},
   "outputs": [],
   "source": []
  },
  {
   "cell_type": "code",
   "execution_count": null,
   "id": "215b7384-fe9e-47d7-90a1-69b70ac88674",
   "metadata": {},
   "outputs": [],
   "source": []
  },
  {
   "cell_type": "code",
   "execution_count": null,
   "id": "dec0e796-a5f9-48f3-a745-93d3ecf84fbc",
   "metadata": {
    "tags": []
   },
   "outputs": [],
   "source": [
    "# The RNA sequence\n",
    "seq = \"GAGUAGUGGAACCAGGCUAUGUUUGUGACUCGCAGACUAACA\"\n",
    " \n",
    "# compute minimum free energy (MFE) and corresponding structure\n",
    "(ss, mfe) = RNA.fold(seq)"
   ]
  },
  {
   "cell_type": "code",
   "execution_count": null,
   "id": "8b3d57f5-0912-4573-bab8-7d8e4c57305c",
   "metadata": {},
   "outputs": [],
   "source": [
    "import pickle "
   ]
  },
  {
   "cell_type": "code",
   "execution_count": null,
   "id": "4d5f1883-20cf-4fbd-aaaa-111a84e39322",
   "metadata": {},
   "outputs": [],
   "source": [
    "mfe"
   ]
  },
  {
   "cell_type": "code",
   "execution_count": null,
   "id": "865753f3-945c-402e-a1fc-f6627073c7eb",
   "metadata": {},
   "outputs": [],
   "source": []
  },
  {
   "cell_type": "code",
   "execution_count": null,
   "id": "c6859c6a-b13c-46f1-a7fa-37581dedd0ef",
   "metadata": {},
   "outputs": [],
   "source": []
  },
  {
   "cell_type": "code",
   "execution_count": null,
   "id": "008151d9-60c5-4bb2-80e3-a4a834752f59",
   "metadata": {
    "tags": []
   },
   "outputs": [],
   "source": [
    "pathOuput = \"/home/user1/Dropbox/Research/Neurobiology_PhD/Rotations/Huang/Projects/CellReadR/Code/Functions/seqObject.p\"\n",
    "pickle.dump(testSeq, open(pathOuput, 'wb'))"
   ]
  },
  {
   "cell_type": "code",
   "execution_count": null,
   "id": "d5626803-11f0-4c60-a8dc-0614fcd69ddb",
   "metadata": {
    "tags": []
   },
   "outputs": [],
   "source": [
    "# Running script for getting probabilities from RNAfold output file (added to ArchBin btw)\n",
    "pathFuncPython = '/home/user1/Dropbox/Research/Neurobiology_PhD/Rotations/Huang/Projects/CellReadR/Code/Functions/'\n",
    "# command = 'python ' + '/home/user1/Dropbox/Research/Neurobiology_PhD/Rotations/Huang/Projects/CellReadR/Code/Functions/RNA_Fold.py'\n",
    "# command = 'cd ' + pathFuncPython + ' | ./RNA_Fold.py'\n",
    "# command = 'cd ' + pathFuncPython + ' | ls -a'\n",
    "\n",
    "command = 'ls -a'\n",
    "readProb = subprocess.Popen(command, shell=True, stdout=subprocess.PIPE)\n",
    "returnedProb = readProb.stdout.read()"
   ]
  },
  {
   "cell_type": "code",
   "execution_count": null,
   "id": "4d15723e-205c-46be-8774-a7832f07c16b",
   "metadata": {
    "tags": []
   },
   "outputs": [],
   "source": [
    "returnedProb"
   ]
  },
  {
   "cell_type": "code",
   "execution_count": null,
   "id": "369e3b34-90bb-4ffe-94bd-3536fff04a43",
   "metadata": {},
   "outputs": [],
   "source": [
    "command "
   ]
  },
  {
   "cell_type": "code",
   "execution_count": null,
   "id": "702f0340-65cf-4f6a-9370-0fea5c4142f8",
   "metadata": {},
   "outputs": [],
   "source": []
  },
  {
   "cell_type": "code",
   "execution_count": null,
   "id": "b7f49c08-c085-4780-9d9d-9876f86f86a6",
   "metadata": {},
   "outputs": [],
   "source": []
  },
  {
   "cell_type": "code",
   "execution_count": null,
   "id": "df9776d2-32d8-42ed-ae78-11a152e464f4",
   "metadata": {},
   "outputs": [],
   "source": [
    "str(rC_multiExon_sesRNAs[0])"
   ]
  },
  {
   "cell_type": "code",
   "execution_count": null,
   "id": "085834fe-d3bf-441f-a3e3-cd2957cbde27",
   "metadata": {
    "tags": []
   },
   "outputs": [],
   "source": [
    "testSeq = str(rC_multiExon_sesRNAs[0])\n",
    "testSeq"
   ]
  },
  {
   "cell_type": "code",
   "execution_count": null,
   "id": "23f116db-7ee8-42bb-b693-180e054adf50",
   "metadata": {
    "tags": []
   },
   "outputs": [],
   "source": [
    "RNA.fold(testSeq)"
   ]
  },
  {
   "cell_type": "code",
   "execution_count": null,
   "id": "17244f24-5962-4204-be1e-6ccb6114bea8",
   "metadata": {},
   "outputs": [],
   "source": []
  },
  {
   "cell_type": "code",
   "execution_count": null,
   "id": "bb28caef-065f-414b-8e52-a6c58268b3ef",
   "metadata": {
    "tags": []
   },
   "outputs": [],
   "source": [
    "def compute_mfeFreq(sequence):\n",
    "    # create a fold_compound object for the current sequence\n",
    "    fc = RNA.fold_compound(sequence)\n",
    "\n",
    "    # compute the MFE and corresponding structure\n",
    "    (mfe_struct, mfe) = fc.mfe()\n",
    "\n",
    "\n",
    "    # compute partition function\n",
    "    (bp_propensity, dG) = fc.pf()\n",
    "\n",
    "    # compute frequency of MFE structure (the 'hard' way)\n",
    "    kT = RNA.exp_param().kT / 1000.\n",
    "\n",
    "    prob_mfe = math.exp((dG - mfe) / kT)\n",
    "    \n",
    "    return prob_mfe"
   ]
  },
  {
   "cell_type": "code",
   "execution_count": null,
   "id": "19aa6422-1553-48df-a937-09b3c8573bff",
   "metadata": {},
   "outputs": [],
   "source": []
  },
  {
   "cell_type": "code",
   "execution_count": null,
   "id": "d0340ab0-6477-4743-ad7e-dc3c490111ca",
   "metadata": {},
   "outputs": [],
   "source": []
  },
  {
   "cell_type": "code",
   "execution_count": null,
   "id": "damaged-pressure",
   "metadata": {},
   "outputs": [],
   "source": [
    "rC_multi_startSeq"
   ]
  },
  {
   "cell_type": "code",
   "execution_count": null,
   "id": "charged-congress",
   "metadata": {
    "tags": []
   },
   "outputs": [],
   "source": [
    "rC_multiExon_sesRNAs"
   ]
  },
  {
   "cell_type": "code",
   "execution_count": null,
   "id": "elementary-jersey",
   "metadata": {
    "tags": []
   },
   "outputs": [],
   "source": [
    "str(rC_multiExon_sesRNAs[8])"
   ]
  },
  {
   "cell_type": "code",
   "execution_count": null,
   "id": "mediterranean-savage",
   "metadata": {
    "tags": []
   },
   "outputs": [],
   "source": [
    "str(rC_multiExon_sesRNAs[18])"
   ]
  },
  {
   "cell_type": "code",
   "execution_count": null,
   "id": "interracial-bottom",
   "metadata": {},
   "outputs": [],
   "source": []
  },
  {
   "cell_type": "code",
   "execution_count": null,
   "id": "solar-patrick",
   "metadata": {},
   "outputs": [],
   "source": [
    "from seqfold import dg, dg_cache, fold"
   ]
  },
  {
   "cell_type": "code",
   "execution_count": null,
   "id": "acknowledged-director",
   "metadata": {
    "tags": []
   },
   "outputs": [],
   "source": [
    "# just returns minimum free energy\n",
    "dg(\"GGGAGGTCGTTACATCTGGGTAACACCGGTACTGATCCGGTGACCTCCC\", temp = 37.0)  # -12.94"
   ]
  },
  {
   "cell_type": "code",
   "execution_count": null,
   "id": "9d425009-33b2-446f-9faf-7895b89e4951",
   "metadata": {},
   "outputs": [],
   "source": []
  },
  {
   "cell_type": "code",
   "execution_count": null,
   "id": "3f0c25cd-144f-44f8-8237-3a30feca85c9",
   "metadata": {},
   "outputs": [],
   "source": []
  },
  {
   "cell_type": "markdown",
   "id": "2448a30b-85ac-49df-b0a4-77266bef87c0",
   "metadata": {},
   "source": [
    "# Test Intarna (test strength of binding, off-target, ...)  "
   ]
  },
  {
   "cell_type": "code",
   "execution_count": null,
   "id": "71a7a71b-636d-4306-9293-928340bd2c84",
   "metadata": {
    "tags": []
   },
   "outputs": [],
   "source": [
    "import intarnapvalue"
   ]
  },
  {
   "cell_type": "code",
   "execution_count": null,
   "id": "a3b8a086-570c-4ce2-b379-2d6fa514e5f1",
   "metadata": {
    "tags": []
   },
   "outputs": [],
   "source": [
    "testSeq = str(rC_multiExon_sesRNAs[0])\n",
    "testSeq"
   ]
  },
  {
   "cell_type": "code",
   "execution_count": null,
   "id": "2d965c68-7f64-4f5b-894a-9194e0767a16",
   "metadata": {
    "tags": []
   },
   "outputs": [],
   "source": [
    "target = str(CDS[0].seq)\n",
    "target "
   ]
  },
  {
   "cell_type": "code",
   "execution_count": null,
   "id": "9592a4f3-8751-4f2a-ba84-49d73a47e1f0",
   "metadata": {
    "tags": []
   },
   "outputs": [],
   "source": [
    "from intarnapvalue.intarna_pvalue import IntaRNApvalue"
   ]
  },
  {
   "cell_type": "code",
   "execution_count": null,
   "id": "06385d0f-6d8a-4731-8519-8acde1f45040",
   "metadata": {
    "tags": []
   },
   "outputs": [],
   "source": [
    "?IntaRNApvalue"
   ]
  },
  {
   "cell_type": "code",
   "execution_count": null,
   "id": "bbfe4d76-3fcf-4826-b93c-00a9f21ee2fb",
   "metadata": {
    "tags": []
   },
   "outputs": [],
   "source": [
    "?intarna_pvalue"
   ]
  },
  {
   "cell_type": "code",
   "execution_count": null,
   "id": "eb0ff577-4f6c-4163-a826-371709f260ec",
   "metadata": {
    "tags": []
   },
   "outputs": [],
   "source": [
    "IntaRNApvalue(['--query', testSeq, '--target', target])"
   ]
  },
  {
   "cell_type": "code",
   "execution_count": null,
   "id": "44b6edfa-0076-48fe-ae39-cbc2d58ce978",
   "metadata": {
    "tags": []
   },
   "outputs": [],
   "source": [
    "IntaRNApvalue['-q', 'AGGAUG', '-t', 'UUUAUCGUU', '-s', '10', '-m', 'b', '-d', 'gauss', '--threads', '3']"
   ]
  },
  {
   "cell_type": "code",
   "execution_count": null,
   "id": "67996c75-f119-4851-9a4e-a1cf44a63620",
   "metadata": {
    "tags": []
   },
   "outputs": [],
   "source": [
    "command = 'python -m intarnapvalue --query GCUGAAAAACAUAACCCAUAAAAUGCUAGCUGUACCAGGAACCA --target GGUUUCUUCGCCUCUGCGUUCACCAAAGUGUUCACCC -s 10 --shuffle-mode b --threads 0' "
   ]
  },
  {
   "cell_type": "code",
   "execution_count": null,
   "id": "97ebce19-6fcf-442c-ab8f-d80538378416",
   "metadata": {
    "tags": []
   },
   "outputs": [],
   "source": [
    "readProb = subprocess.Popen(command, shell=True, stdout=subprocess.PIPE)\n",
    "readProb.wait()\n",
    "returnedProb = readProb.stdout.read()\n",
    "returnedProb"
   ]
  },
  {
   "cell_type": "code",
   "execution_count": null,
   "id": "6c5a3cac-bc79-4845-983d-dc0fbcf7191a",
   "metadata": {},
   "outputs": [],
   "source": []
  },
  {
   "cell_type": "code",
   "execution_count": null,
   "id": "1da5e107-afe0-4713-bbed-089bd27f569f",
   "metadata": {},
   "outputs": [],
   "source": []
  },
  {
   "cell_type": "code",
   "execution_count": null,
   "id": "18522fa3-de4b-43f5-963d-7d507e5f365a",
   "metadata": {},
   "outputs": [],
   "source": []
  },
  {
   "cell_type": "code",
   "execution_count": null,
   "id": "be4dc3b2-5726-43d9-bbd8-9f908f0e0f64",
   "metadata": {},
   "outputs": [],
   "source": []
  },
  {
   "cell_type": "code",
   "execution_count": null,
   "id": "82638ba5-6f97-47f0-a0e3-69e71588f4c1",
   "metadata": {},
   "outputs": [],
   "source": []
  },
  {
   "cell_type": "code",
   "execution_count": null,
   "id": "68a44ad1-c37c-4c60-8d2a-51bfc136c87d",
   "metadata": {},
   "outputs": [],
   "source": []
  },
  {
   "cell_type": "code",
   "execution_count": null,
   "id": "a104a3b7-dba6-4031-9eca-69fd3cdab621",
   "metadata": {},
   "outputs": [],
   "source": []
  },
  {
   "cell_type": "code",
   "execution_count": null,
   "id": "844c4bef-bdb0-4cef-9bd2-6571e58a2b55",
   "metadata": {},
   "outputs": [],
   "source": []
  },
  {
   "cell_type": "code",
   "execution_count": null,
   "id": "85632729-fee0-4df2-b4bf-cf5d6acdedb5",
   "metadata": {
    "tags": []
   },
   "outputs": [],
   "source": [
    "# Running script for getting probabilities from RNAfold output file (added to ArchBin btw)\n",
    "readProb = subprocess.Popen(command, shell=True, stdout=subprocess.PIPE)\n",
    "returnedProb = readProb.stdout.read()\n",
    "# Waiting for last command to finish before storing value in temp.out file \n",
    "readProb.wait()"
   ]
  },
  {
   "cell_type": "code",
   "execution_count": null,
   "id": "4538e5f3-b566-4e9e-acf8-1a4df404d0ca",
   "metadata": {
    "tags": []
   },
   "outputs": [],
   "source": [
    "pd.read_csv('/home/user1/Dropbox/Research/Neurobiology_PhD/Rotations/Huang/Projects/CellReadR/Code/Functions/output.csv', sep = ';')"
   ]
  },
  {
   "cell_type": "code",
   "execution_count": null,
   "id": "a193e3d7-6c52-4fcf-8aa6-e44ba3ef53e0",
   "metadata": {
    "tags": []
   },
   "outputs": [],
   "source": [
    "pd.read_csv('/home/user1/Dropbox/Research/Neurobiology_PhD/Rotations/Huang/Projects/CellReadR/Code/Functions/output.csv', sep = ';')"
   ]
  },
  {
   "cell_type": "code",
   "execution_count": null,
   "id": "106bc078-bf3f-4d97-bf36-fcfc8f088901",
   "metadata": {
    "tags": []
   },
   "outputs": [],
   "source": [
    "pd.read_csv('/home/user1/Dropbox/Research/Neurobiology_PhD/Rotations/Huang/Projects/CellReadR/Code/Functions/output.csv', sep = ';')"
   ]
  },
  {
   "cell_type": "code",
   "execution_count": null,
   "id": "eece9f23-3c40-4314-a2b2-16c5b6a77f50",
   "metadata": {},
   "outputs": [],
   "source": []
  },
  {
   "cell_type": "code",
   "execution_count": null,
   "id": "35b27c3d-22e7-4526-9dd7-6a92a57bf560",
   "metadata": {},
   "outputs": [],
   "source": []
  },
  {
   "cell_type": "code",
   "execution_count": null,
   "id": "2f33582c-ca5c-4be6-87f0-1345516f727f",
   "metadata": {},
   "outputs": [],
   "source": []
  },
  {
   "cell_type": "code",
   "execution_count": null,
   "id": "85955b3f-038e-40c2-9cb7-691bacac3f67",
   "metadata": {},
   "outputs": [],
   "source": []
  },
  {
   "cell_type": "code",
   "execution_count": null,
   "id": "9730cf60-da21-42ef-ae6f-1ba1624bc0d9",
   "metadata": {
    "tags": []
   },
   "outputs": [],
   "source": [
    "# Trying to load entire transcripome ... obviously failed ... \n",
    "allRat_fileName = '/home/user1/Dropbox/Research/Neurobiology_PhD/Rotations/Huang/Projects/CellReadR/Data/Sequences/Reference/Ensembl/All/Rattus_norvegicus.Rnor_6.0.cdna.all.fa'\n",
    "allRat = list(SeqIO.parse(allRat_fileName, \"fasta\"))"
   ]
  },
  {
   "cell_type": "code",
   "execution_count": null,
   "id": "a3a4bdd4-fc6c-42fe-902b-78babec7a547",
   "metadata": {},
   "outputs": [],
   "source": []
  },
  {
   "cell_type": "code",
   "execution_count": null,
   "id": "ecc21e03-8038-4ebc-afb1-92fd70b50ff5",
   "metadata": {},
   "outputs": [],
   "source": []
  },
  {
   "cell_type": "code",
   "execution_count": null,
   "id": "a6f7c3fc-5d93-46a1-841d-37abfd8a1af2",
   "metadata": {},
   "outputs": [],
   "source": []
  },
  {
   "cell_type": "code",
   "execution_count": null,
   "id": "af8382d1-bbfb-4787-9e9a-93a321f635de",
   "metadata": {},
   "outputs": [],
   "source": []
  },
  {
   "cell_type": "code",
   "execution_count": null,
   "id": "54749854-f897-466a-a4b2-3d351598d34f",
   "metadata": {},
   "outputs": [],
   "source": []
  },
  {
   "cell_type": "code",
   "execution_count": null,
   "id": "042fb2ef-5cc4-4134-ac95-b6be29b6a702",
   "metadata": {},
   "outputs": [],
   "source": [
    "python -m intarnapvalue --query GCUGAAAAACAUAACCCAUAAAAUGCUAGCUGUACCAGGAACCA --target GGUUUCUUCGCCUCUGCGUUCACCAAAGUGUUCACCC --scores 10000 --shuffle-mode b --threads 0"
   ]
  },
  {
   "cell_type": "code",
   "execution_count": null,
   "id": "6f66470e-8de1-4e89-b4ca-0183f7a4bc5a",
   "metadata": {},
   "outputs": [],
   "source": [
    "intarnapvalue --query GCUGAAAAACAUAACCCAUAAAAUGCUAGCUGUACCAGGAACCA --target GGUUUCUUCGCCUCUGCGUUCACCAAAGUGUUCACCC --scores 10000 --shuffle-mode b --threads 0"
   ]
  },
  {
   "cell_type": "code",
   "execution_count": null,
   "id": "2a5b397c-e523-4551-9e1e-b8e10df7e6de",
   "metadata": {},
   "outputs": [],
   "source": []
  },
  {
   "cell_type": "code",
   "execution_count": null,
   "id": "015609d6-742c-40d2-821b-1a5049e2550c",
   "metadata": {},
   "outputs": [],
   "source": []
  },
  {
   "cell_type": "markdown",
   "id": "approved-notion",
   "metadata": {},
   "source": [
    "# Misc"
   ]
  },
  {
   "cell_type": "code",
   "execution_count": null,
   "id": "italian-front",
   "metadata": {
    "tags": []
   },
   "outputs": [],
   "source": [
    "# For returning index of findings \n",
    "searchCodon = 'TAG'\n",
    "[m.start() for m in re.finditer(searchCodon, str(seq))]"
   ]
  },
  {
   "cell_type": "code",
   "execution_count": null,
   "id": "elder-buddy",
   "metadata": {
    "tags": []
   },
   "outputs": [],
   "source": [
    "testSeq = sesRNAs[0]\n",
    "testSeq"
   ]
  },
  {
   "cell_type": "code",
   "execution_count": null,
   "id": "powered-action",
   "metadata": {
    "tags": []
   },
   "outputs": [],
   "source": [
    "lastATG = [m.start() for m in re.finditer('ATG', str(testSeq))][-1]\n",
    "lastTGG = [m.start() for m in re.finditer('TGG', str(testSeq))][-1]"
   ]
  },
  {
   "cell_type": "code",
   "execution_count": null,
   "id": "wooden-standard",
   "metadata": {
    "tags": []
   },
   "outputs": [],
   "source": [
    "lastTGG"
   ]
  },
  {
   "cell_type": "code",
   "execution_count": null,
   "id": "proud-insured",
   "metadata": {
    "tags": []
   },
   "outputs": [],
   "source": [
    "lastATG"
   ]
  },
  {
   "cell_type": "code",
   "execution_count": null,
   "id": "alive-japan",
   "metadata": {},
   "outputs": [],
   "source": [
    "lastATG < lastTGG"
   ]
  },
  {
   "cell_type": "code",
   "execution_count": null,
   "id": "gentle-spelling",
   "metadata": {
    "tags": []
   },
   "outputs": [],
   "source": [
    "searchCodon = 'ATG'\n",
    "[m.start() for m in re.finditer(searchCodon, str(testSeq))][-1]"
   ]
  },
  {
   "cell_type": "code",
   "execution_count": null,
   "id": "otherwise-series",
   "metadata": {
    "tags": []
   },
   "outputs": [],
   "source": [
    "seq.count('TAG') < 4"
   ]
  },
  {
   "cell_type": "code",
   "execution_count": null,
   "id": "suspected-hollywood",
   "metadata": {
    "tags": []
   },
   "outputs": [],
   "source": [
    "seq[0:100].count('TAG')"
   ]
  },
  {
   "cell_type": "code",
   "execution_count": null,
   "id": "manufactured-luxembourg",
   "metadata": {},
   "outputs": [],
   "source": []
  },
  {
   "cell_type": "code",
   "execution_count": null,
   "id": "cubic-orientation",
   "metadata": {},
   "outputs": [],
   "source": [
    "stopCodons = ['TAG', 'TAA', 'TGA']\n",
    "stopCodons "
   ]
  },
  {
   "cell_type": "code",
   "execution_count": null,
   "id": "about-theater",
   "metadata": {},
   "outputs": [],
   "source": [
    "indiciesTGG"
   ]
  },
  {
   "cell_type": "code",
   "execution_count": null,
   "id": "aquatic-ancient",
   "metadata": {
    "tags": []
   },
   "outputs": [],
   "source": [
    "indiciesStop"
   ]
  },
  {
   "cell_type": "code",
   "execution_count": null,
   "id": "through-combat",
   "metadata": {
    "tags": []
   },
   "outputs": [],
   "source": [
    "length = 200 \n",
    "center = length/2"
   ]
  },
  {
   "cell_type": "code",
   "execution_count": null,
   "id": "authorized-piece",
   "metadata": {
    "tags": []
   },
   "outputs": [],
   "source": [
    "arrayStop = np.array(indiciesStop)\n",
    "arrayIndicies = np.array(indiciesTGG) \n",
    "centralTGGs = arrayIndicies[abs(arrayIndicies - center) < 10]"
   ]
  },
  {
   "cell_type": "code",
   "execution_count": null,
   "id": "verbal-alabama",
   "metadata": {
    "tags": []
   },
   "outputs": [],
   "source": [
    "centralTGGs"
   ]
  },
  {
   "cell_type": "code",
   "execution_count": null,
   "id": "devoted-superior",
   "metadata": {
    "tags": []
   },
   "outputs": [],
   "source": [
    "np.in1d(centralTGGs,arrayStop)"
   ]
  },
  {
   "cell_type": "code",
   "execution_count": null,
   "id": "soviet-methodology",
   "metadata": {
    "tags": []
   },
   "outputs": [],
   "source": [
    "# Check if array contains values that are within range of values in another array \n",
    "any((min(abs(arrayStop - i)) > 10) for i in centralTGGs)"
   ]
  },
  {
   "cell_type": "code",
   "execution_count": null,
   "id": "pregnant-backing",
   "metadata": {},
   "outputs": [],
   "source": [
    "centralTGGs"
   ]
  },
  {
   "cell_type": "code",
   "execution_count": null,
   "id": "recreational-reward",
   "metadata": {
    "tags": []
   },
   "outputs": [],
   "source": [
    "indiciesStop"
   ]
  },
  {
   "cell_type": "code",
   "execution_count": null,
   "id": "equivalent-puppy",
   "metadata": {},
   "outputs": [],
   "source": [
    "testStop = [90, 16, 174]"
   ]
  },
  {
   "cell_type": "code",
   "execution_count": null,
   "id": "suspected-rates",
   "metadata": {},
   "outputs": [],
   "source": []
  },
  {
   "cell_type": "code",
   "execution_count": null,
   "id": "interested-cameroon",
   "metadata": {},
   "outputs": [],
   "source": []
  },
  {
   "cell_type": "code",
   "execution_count": null,
   "id": "progressive-producer",
   "metadata": {
    "tags": []
   },
   "outputs": [],
   "source": [
    "(min(abs(arrayStop - centralTGGs[0])) > 10)"
   ]
  },
  {
   "cell_type": "code",
   "execution_count": null,
   "id": "frank-hepatitis",
   "metadata": {
    "tags": []
   },
   "outputs": [],
   "source": [
    "min(abs(arrayStop - centralTGGs[0])) > 10"
   ]
  },
  {
   "cell_type": "code",
   "execution_count": null,
   "id": "muslim-version",
   "metadata": {},
   "outputs": [],
   "source": []
  },
  {
   "cell_type": "code",
   "execution_count": null,
   "id": "complicated-southeast",
   "metadata": {
    "tags": []
   },
   "outputs": [],
   "source": [
    "centeralTGGs = offset.min()\n",
    "centeralTGGs"
   ]
  },
  {
   "cell_type": "code",
   "execution_count": null,
   "id": "fantastic-intellectual",
   "metadata": {},
   "outputs": [],
   "source": [
    "centralTGGs = np.all(offset == offset.min())\n",
    "centralTGGs"
   ]
  },
  {
   "cell_type": "code",
   "execution_count": null,
   "id": "advisory-survey",
   "metadata": {
    "tags": []
   },
   "outputs": [],
   "source": [
    "centeralTGGs = np.where(offset == offset.min())\n",
    "centeralTGG"
   ]
  },
  {
   "cell_type": "code",
   "execution_count": null,
   "id": "mounted-appraisal",
   "metadata": {
    "tags": []
   },
   "outputs": [],
   "source": [
    "offset = abs(arrayIndicies - center) \n",
    "centerTGG = indiciesTGG[np.argmin(offset)]"
   ]
  },
  {
   "cell_type": "code",
   "execution_count": null,
   "id": "hazardous-office",
   "metadata": {
    "tags": []
   },
   "outputs": [],
   "source": [
    "any(abs(x - centerTGG) < 10 for x in indiciesStop)"
   ]
  },
  {
   "cell_type": "code",
   "execution_count": null,
   "id": "narrative-midnight",
   "metadata": {},
   "outputs": [],
   "source": []
  },
  {
   "cell_type": "code",
   "execution_count": null,
   "id": "political-positive",
   "metadata": {
    "tags": []
   },
   "outputs": [],
   "source": [
    "indiciesStop = []\n",
    "for codons in stopCodons:\n",
    "    indiciesStop.extend([m.start() for m in re.finditer(codons, str(testSeq))])"
   ]
  },
  {
   "cell_type": "code",
   "execution_count": null,
   "id": "intended-rotation",
   "metadata": {
    "tags": []
   },
   "outputs": [],
   "source": [
    "len(indiciesStop)"
   ]
  },
  {
   "cell_type": "code",
   "execution_count": null,
   "id": "computational-incidence",
   "metadata": {
    "tags": []
   },
   "outputs": [],
   "source": [
    "[m.start() for m in re.finditer('TGA', str(testSeq))]"
   ]
  },
  {
   "cell_type": "code",
   "execution_count": null,
   "id": "adjustable-appointment",
   "metadata": {
    "tags": []
   },
   "outputs": [],
   "source": [
    "[m.start() for m in re.finditer('TAA', str(testSeq))]"
   ]
  },
  {
   "cell_type": "code",
   "execution_count": null,
   "id": "nervous-retention",
   "metadata": {},
   "outputs": [],
   "source": [
    "[m.start() for m in re.finditer('TAG', str(testSeq))]"
   ]
  },
  {
   "cell_type": "code",
   "execution_count": null,
   "id": "circular-letter",
   "metadata": {
    "tags": []
   },
   "outputs": [],
   "source": [
    "testSeq.count(stopCodons)"
   ]
  },
  {
   "cell_type": "code",
   "execution_count": null,
   "id": "standing-gregory",
   "metadata": {},
   "outputs": [],
   "source": [
    "indiciesTGG"
   ]
  },
  {
   "cell_type": "code",
   "execution_count": null,
   "id": "forbidden-money",
   "metadata": {
    "tags": []
   },
   "outputs": [],
   "source": [
    "len(indiciesTGG)"
   ]
  },
  {
   "cell_type": "code",
   "execution_count": null,
   "id": "equal-shame",
   "metadata": {},
   "outputs": [],
   "source": []
  },
  {
   "cell_type": "code",
   "execution_count": null,
   "id": "hydraulic-security",
   "metadata": {},
   "outputs": [],
   "source": []
  },
  {
   "cell_type": "code",
   "execution_count": null,
   "id": "sorted-sleep",
   "metadata": {
    "tags": []
   },
   "outputs": [],
   "source": [
    "testSeq = sesRNAs[0]"
   ]
  },
  {
   "cell_type": "code",
   "execution_count": null,
   "id": "continuous-comparative",
   "metadata": {
    "tags": []
   },
   "outputs": [],
   "source": [
    "lastTGG = [m.start() for m in re.finditer('TGG', str(testSeq))][-1]"
   ]
  },
  {
   "cell_type": "code",
   "execution_count": null,
   "id": "challenging-hopkins",
   "metadata": {},
   "outputs": [],
   "source": [
    "testSeq"
   ]
  },
  {
   "cell_type": "code",
   "execution_count": null,
   "id": "completed-grenada",
   "metadata": {
    "tags": []
   },
   "outputs": [],
   "source": [
    "indiciesTGG = [m.start() for m in re.finditer('TGG', str(testSeq))]"
   ]
  },
  {
   "cell_type": "code",
   "execution_count": null,
   "id": "adjusted-trustee",
   "metadata": {
    "tags": []
   },
   "outputs": [],
   "source": [
    "start = 0 \n",
    "stop = 200"
   ]
  },
  {
   "cell_type": "code",
   "execution_count": null,
   "id": "capable-complement",
   "metadata": {
    "tags": []
   },
   "outputs": [],
   "source": [
    "middle = (start + stop) / 2"
   ]
  },
  {
   "cell_type": "code",
   "execution_count": null,
   "id": "olympic-present",
   "metadata": {
    "tags": []
   },
   "outputs": [],
   "source": [
    "abs(middle - indiciesTGG[0])"
   ]
  },
  {
   "cell_type": "code",
   "execution_count": null,
   "id": "champion-eleven",
   "metadata": {},
   "outputs": [],
   "source": [
    "type(indiciesTGG)"
   ]
  },
  {
   "cell_type": "code",
   "execution_count": null,
   "id": "spectacular-touch",
   "metadata": {},
   "outputs": [],
   "source": [
    "indiciesTGG"
   ]
  },
  {
   "cell_type": "code",
   "execution_count": null,
   "id": "cooked-music",
   "metadata": {},
   "outputs": [],
   "source": [
    "any(indiciesTGG) > 2"
   ]
  },
  {
   "cell_type": "code",
   "execution_count": null,
   "id": "appropriate-ministry",
   "metadata": {},
   "outputs": [],
   "source": [
    "length = 200 "
   ]
  },
  {
   "cell_type": "code",
   "execution_count": null,
   "id": "ruled-times",
   "metadata": {
    "tags": []
   },
   "outputs": [],
   "source": [
    "any(abs(x - (length/2)) < 20 for x in indiciesTGG)"
   ]
  },
  {
   "cell_type": "code",
   "execution_count": null,
   "id": "developing-origin",
   "metadata": {
    "tags": []
   },
   "outputs": [],
   "source": [
    "testList = [50, 60, 170, 200]"
   ]
  },
  {
   "cell_type": "code",
   "execution_count": null,
   "id": "accomplished-recording",
   "metadata": {
    "tags": []
   },
   "outputs": [],
   "source": [
    "any(abs(x - (length/2)) < 10 for x in testList)"
   ]
  },
  {
   "cell_type": "code",
   "execution_count": null,
   "id": "killing-fetish",
   "metadata": {},
   "outputs": [],
   "source": []
  },
  {
   "cell_type": "code",
   "execution_count": null,
   "id": "concrete-mississippi",
   "metadata": {},
   "outputs": [],
   "source": [
    "testSeq"
   ]
  },
  {
   "cell_type": "code",
   "execution_count": null,
   "id": "comfortable-green",
   "metadata": {
    "tags": []
   },
   "outputs": [],
   "source": [
    "os.path.isdir('Output/BioPython')"
   ]
  },
  {
   "cell_type": "code",
   "execution_count": null,
   "id": "selective-quality",
   "metadata": {
    "tags": []
   },
   "outputs": [],
   "source": []
  },
  {
   "cell_type": "code",
   "execution_count": null,
   "id": "fewer-strain",
   "metadata": {},
   "outputs": [],
   "source": [
    "outputFileName = os.getcwd() + ''"
   ]
  },
  {
   "cell_type": "code",
   "execution_count": null,
   "id": "facial-sodium",
   "metadata": {},
   "outputs": [],
   "source": [
    "testSeq"
   ]
  },
  {
   "cell_type": "code",
   "execution_count": null,
   "id": "624fb6a0-4572-4319-b60d-573b7ab225f1",
   "metadata": {},
   "outputs": [],
   "source": []
  },
  {
   "cell_type": "code",
   "execution_count": null,
   "id": "b7dca5f2-075c-4bf9-9f86-7defe8042a17",
   "metadata": {},
   "outputs": [],
   "source": []
  },
  {
   "cell_type": "code",
   "execution_count": null,
   "id": "6eded10b-badd-4eb0-b3b8-49fb236d067b",
   "metadata": {},
   "outputs": [],
   "source": []
  },
  {
   "cell_type": "code",
   "execution_count": null,
   "id": "af561b1c-991a-4d98-af4c-15606fbcdee3",
   "metadata": {},
   "outputs": [],
   "source": []
  },
  {
   "cell_type": "code",
   "execution_count": null,
   "id": "a5e327bb-c221-4578-b0a0-7dfac34c1625",
   "metadata": {},
   "outputs": [],
   "source": []
  },
  {
   "cell_type": "code",
   "execution_count": null,
   "id": "ce80dfd1-76b4-412b-ae5f-109174384a95",
   "metadata": {},
   "outputs": [],
   "source": []
  },
  {
   "cell_type": "code",
   "execution_count": null,
   "id": "violent-toolbox",
   "metadata": {},
   "outputs": [],
   "source": []
  },
  {
   "cell_type": "code",
   "execution_count": null,
   "id": "2ff254b6-8d79-4c8a-8302-8fbb0503e88e",
   "metadata": {},
   "outputs": [],
   "source": []
  }
 ],
 "metadata": {
  "kernelspec": {
   "display_name": "huang_CellReadR",
   "language": "python",
   "name": "huang_cellreadr"
  },
  "language_info": {
   "codemirror_mode": {
    "name": "ipython",
    "version": 3
   },
   "file_extension": ".py",
   "mimetype": "text/x-python",
   "name": "python",
   "nbconvert_exporter": "python",
   "pygments_lexer": "ipython3",
   "version": "3.9.1"
  },
  "toc-showtags": false
 },
 "nbformat": 4,
 "nbformat_minor": 5
}
